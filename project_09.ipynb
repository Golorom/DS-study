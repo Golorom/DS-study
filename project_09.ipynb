{
 "cells": [
  {
   "cell_type": "markdown",
   "metadata": {
    "toc": true
   },
   "source": [
    "<h1>Содержание<span class=\"tocSkip\"></span></h1>\n",
    "<div class=\"toc\"><ul class=\"toc-item\"><li><ul class=\"toc-item\"><li><span><a href=\"#Описание-задачи\" data-toc-modified-id=\"Описание-задачи-0.1\"><span class=\"toc-item-num\">0.1&nbsp;&nbsp;</span>Описание задачи</a></span></li><li><span><a href=\"#Описание-данных\" data-toc-modified-id=\"Описание-данных-0.2\"><span class=\"toc-item-num\">0.2&nbsp;&nbsp;</span>Описание данных</a></span></li></ul></li><li><span><a href=\"#Загрузка-данных\" data-toc-modified-id=\"Загрузка-данных-1\"><span class=\"toc-item-num\">1&nbsp;&nbsp;</span>Загрузка данных</a></span><ul class=\"toc-item\"><li><span><a href=\"#Обзор-данных\" data-toc-modified-id=\"Обзор-данных-1.1\"><span class=\"toc-item-num\">1.1&nbsp;&nbsp;</span>Обзор данных</a></span></li><li><span><a href=\"#Обработка-данных\" data-toc-modified-id=\"Обработка-данных-1.2\"><span class=\"toc-item-num\">1.2&nbsp;&nbsp;</span>Обработка данных</a></span></li><li><span><a href=\"#Вывод\" data-toc-modified-id=\"Вывод-1.3\"><span class=\"toc-item-num\">1.3&nbsp;&nbsp;</span>Вывод</a></span></li></ul></li><li><span><a href=\"#Умножение-матриц\" data-toc-modified-id=\"Умножение-матриц-2\"><span class=\"toc-item-num\">2&nbsp;&nbsp;</span>Умножение матриц</a></span><ul class=\"toc-item\"><li><span><a href=\"#Подготовка\" data-toc-modified-id=\"Подготовка-2.1\"><span class=\"toc-item-num\">2.1&nbsp;&nbsp;</span>Подготовка</a></span></li><li><span><a href=\"#Обоснование\" data-toc-modified-id=\"Обоснование-2.2\"><span class=\"toc-item-num\">2.2&nbsp;&nbsp;</span>Обоснование</a></span><ul class=\"toc-item\"><li><span><a href=\"#Формула-при-умножении-на-обратимую-матрицу\" data-toc-modified-id=\"Формула-при-умножении-на-обратимую-матрицу-2.2.1\"><span class=\"toc-item-num\">2.2.1&nbsp;&nbsp;</span>Формула при умножении на обратимую матрицу</a></span></li><li><span><a href=\"#Использование-свойств-обратных-и-транспонированных-матриц\" data-toc-modified-id=\"Использование-свойств-обратных-и-транспонированных-матриц-2.2.2\"><span class=\"toc-item-num\">2.2.2&nbsp;&nbsp;</span>Использование свойств обратных и транспонированных матриц</a></span></li><li><span><a href=\"#Использование-свойств-единичных-матриц\" data-toc-modified-id=\"Использование-свойств-единичных-матриц-2.2.3\"><span class=\"toc-item-num\">2.2.3&nbsp;&nbsp;</span>Использование свойств единичных матриц</a></span></li><li><span><a href=\"#Вывод\" data-toc-modified-id=\"Вывод-2.2.4\"><span class=\"toc-item-num\">2.2.4&nbsp;&nbsp;</span>Вывод</a></span></li><li><span><a href=\"#Проверка-обоснования\" data-toc-modified-id=\"Проверка-обоснования-2.2.5\"><span class=\"toc-item-num\">2.2.5&nbsp;&nbsp;</span>Проверка обоснования</a></span></li></ul></li></ul></li><li><span><a href=\"#Алгоритм-преобразования\" data-toc-modified-id=\"Алгоритм-преобразования-3\"><span class=\"toc-item-num\">3&nbsp;&nbsp;</span>Алгоритм преобразования</a></span></li><li><span><a href=\"#Проверка-алгоритма\" data-toc-modified-id=\"Проверка-алгоритма-4\"><span class=\"toc-item-num\">4&nbsp;&nbsp;</span>Проверка алгоритма</a></span><ul class=\"toc-item\"><li><span><a href=\"#Написание-функции\" data-toc-modified-id=\"Написание-функции-4.1\"><span class=\"toc-item-num\">4.1&nbsp;&nbsp;</span>Написание функции</a></span></li><li><span><a href=\"#Проверка-функции\" data-toc-modified-id=\"Проверка-функции-4.2\"><span class=\"toc-item-num\">4.2&nbsp;&nbsp;</span>Проверка функции</a></span></li><li><span><a href=\"#Вывод\" data-toc-modified-id=\"Вывод-4.3\"><span class=\"toc-item-num\">4.3&nbsp;&nbsp;</span>Вывод</a></span></li></ul></li><li><span><a href=\"#Общий-вывод\" data-toc-modified-id=\"Общий-вывод-5\"><span class=\"toc-item-num\">5&nbsp;&nbsp;</span>Общий вывод</a></span></li><li><span><a href=\"#Чек-лист-проверки\" data-toc-modified-id=\"Чек-лист-проверки-6\"><span class=\"toc-item-num\">6&nbsp;&nbsp;</span>Чек-лист проверки</a></span></li></ul></div>"
   ]
  },
  {
   "cell_type": "markdown",
   "metadata": {},
   "source": [
    "# Защита персональных данных клиентов"
   ]
  },
  {
   "cell_type": "markdown",
   "metadata": {},
   "source": [
    "### Описание задачи"
   ]
  },
  {
   "cell_type": "markdown",
   "metadata": {},
   "source": [
    "Вам нужно защитить данные клиентов страховой компании «Хоть потоп». Разработайте такой метод преобразования данных, чтобы по ним было сложно восстановить персональную информацию. Обоснуйте корректность его работы.\n",
    "\n",
    "Нужно защитить данные, чтобы при преобразовании качество моделей машинного обучения не ухудшилось. Подбирать наилучшую модель не требуется."
   ]
  },
  {
   "cell_type": "markdown",
   "metadata": {},
   "source": [
    "### Описание данных"
   ]
  },
  {
   "cell_type": "markdown",
   "metadata": {},
   "source": [
    "`/datasets/insurance.csv`\n",
    "\n",
    "Признаки: пол, возраст и зарплата застрахованного, количество членов его семьи.\n",
    "\n",
    "Целевой признак: количество страховых выплат клиенту за последние 5 лет."
   ]
  },
  {
   "cell_type": "code",
   "execution_count": 1,
   "metadata": {},
   "outputs": [],
   "source": [
    "# импорт библиотек\n",
    "\n",
    "import pandas as pd\n",
    "\n",
    "import numpy as np\n",
    "\n",
    "from sklearn.model_selection import train_test_split\n",
    "\n",
    "from sklearn.linear_model import LinearRegression\n",
    "\n",
    "from sklearn.metrics import r2_score, mean_squared_error"
   ]
  },
  {
   "cell_type": "markdown",
   "metadata": {},
   "source": [
    "## Загрузка данных"
   ]
  },
  {
   "cell_type": "markdown",
   "metadata": {},
   "source": [
    "### Обзор данных"
   ]
  },
  {
   "cell_type": "code",
   "execution_count": 2,
   "metadata": {},
   "outputs": [
    {
     "name": "stdout",
     "output_type": "stream",
     "text": [
      "FileNotFoundError(2, 'No such file or directory')\n"
     ]
    }
   ],
   "source": [
    "try:\n",
    "    data = pd.read_csv('datasets/insurance.csv')\n",
    "except FileNotFoundError as e:\n",
    "    print(repr(e))\n",
    "    data = pd.read_csv('/datasets/insurance.csv')"
   ]
  },
  {
   "cell_type": "code",
   "execution_count": 3,
   "metadata": {},
   "outputs": [
    {
     "name": "stdout",
     "output_type": "stream",
     "text": [
      "<class 'pandas.core.frame.DataFrame'>\n",
      "RangeIndex: 5000 entries, 0 to 4999\n",
      "Data columns (total 5 columns):\n",
      " #   Column             Non-Null Count  Dtype  \n",
      "---  ------             --------------  -----  \n",
      " 0   Пол                5000 non-null   int64  \n",
      " 1   Возраст            5000 non-null   float64\n",
      " 2   Зарплата           5000 non-null   float64\n",
      " 3   Члены семьи        5000 non-null   int64  \n",
      " 4   Страховые выплаты  5000 non-null   int64  \n",
      "dtypes: float64(2), int64(3)\n",
      "memory usage: 195.4 KB\n"
     ]
    },
    {
     "data": {
      "text/html": [
       "<div>\n",
       "<style scoped>\n",
       "    .dataframe tbody tr th:only-of-type {\n",
       "        vertical-align: middle;\n",
       "    }\n",
       "\n",
       "    .dataframe tbody tr th {\n",
       "        vertical-align: top;\n",
       "    }\n",
       "\n",
       "    .dataframe thead th {\n",
       "        text-align: right;\n",
       "    }\n",
       "</style>\n",
       "<table border=\"1\" class=\"dataframe\">\n",
       "  <thead>\n",
       "    <tr style=\"text-align: right;\">\n",
       "      <th></th>\n",
       "      <th>Пол</th>\n",
       "      <th>Возраст</th>\n",
       "      <th>Зарплата</th>\n",
       "      <th>Члены семьи</th>\n",
       "      <th>Страховые выплаты</th>\n",
       "    </tr>\n",
       "  </thead>\n",
       "  <tbody>\n",
       "    <tr>\n",
       "      <th>1140</th>\n",
       "      <td>1</td>\n",
       "      <td>34.0</td>\n",
       "      <td>26900.0</td>\n",
       "      <td>0</td>\n",
       "      <td>0</td>\n",
       "    </tr>\n",
       "    <tr>\n",
       "      <th>2512</th>\n",
       "      <td>1</td>\n",
       "      <td>19.0</td>\n",
       "      <td>43200.0</td>\n",
       "      <td>1</td>\n",
       "      <td>0</td>\n",
       "    </tr>\n",
       "    <tr>\n",
       "      <th>3693</th>\n",
       "      <td>1</td>\n",
       "      <td>30.0</td>\n",
       "      <td>41500.0</td>\n",
       "      <td>1</td>\n",
       "      <td>0</td>\n",
       "    </tr>\n",
       "    <tr>\n",
       "      <th>2567</th>\n",
       "      <td>0</td>\n",
       "      <td>47.0</td>\n",
       "      <td>32800.0</td>\n",
       "      <td>0</td>\n",
       "      <td>1</td>\n",
       "    </tr>\n",
       "    <tr>\n",
       "      <th>2494</th>\n",
       "      <td>1</td>\n",
       "      <td>42.0</td>\n",
       "      <td>31000.0</td>\n",
       "      <td>0</td>\n",
       "      <td>1</td>\n",
       "    </tr>\n",
       "  </tbody>\n",
       "</table>\n",
       "</div>"
      ],
      "text/plain": [
       "      Пол  Возраст  Зарплата  Члены семьи  Страховые выплаты\n",
       "1140    1     34.0   26900.0            0                  0\n",
       "2512    1     19.0   43200.0            1                  0\n",
       "3693    1     30.0   41500.0            1                  0\n",
       "2567    0     47.0   32800.0            0                  1\n",
       "2494    1     42.0   31000.0            0                  1"
      ]
     },
     "metadata": {},
     "output_type": "display_data"
    },
    {
     "data": {
      "text/plain": [
       "Index(['Пол', 'Возраст', 'Зарплата', 'Члены семьи', 'Страховые выплаты'], dtype='object')"
      ]
     },
     "metadata": {},
     "output_type": "display_data"
    },
    {
     "name": "stdout",
     "output_type": "stream",
     "text": [
      "Количество явных дубликатов: 153\n"
     ]
    },
    {
     "data": {
      "text/html": [
       "<div>\n",
       "<style scoped>\n",
       "    .dataframe tbody tr th:only-of-type {\n",
       "        vertical-align: middle;\n",
       "    }\n",
       "\n",
       "    .dataframe tbody tr th {\n",
       "        vertical-align: top;\n",
       "    }\n",
       "\n",
       "    .dataframe thead th {\n",
       "        text-align: right;\n",
       "    }\n",
       "</style>\n",
       "<table border=\"1\" class=\"dataframe\">\n",
       "  <thead>\n",
       "    <tr style=\"text-align: right;\">\n",
       "      <th></th>\n",
       "      <th>count</th>\n",
       "      <th>mean</th>\n",
       "      <th>std</th>\n",
       "      <th>min</th>\n",
       "      <th>25%</th>\n",
       "      <th>50%</th>\n",
       "      <th>75%</th>\n",
       "      <th>max</th>\n",
       "    </tr>\n",
       "  </thead>\n",
       "  <tbody>\n",
       "    <tr>\n",
       "      <th>Пол</th>\n",
       "      <td>5000.0</td>\n",
       "      <td>0.4990</td>\n",
       "      <td>0.500049</td>\n",
       "      <td>0.0</td>\n",
       "      <td>0.0</td>\n",
       "      <td>0.0</td>\n",
       "      <td>1.0</td>\n",
       "      <td>1.0</td>\n",
       "    </tr>\n",
       "    <tr>\n",
       "      <th>Возраст</th>\n",
       "      <td>5000.0</td>\n",
       "      <td>30.9528</td>\n",
       "      <td>8.440807</td>\n",
       "      <td>18.0</td>\n",
       "      <td>24.0</td>\n",
       "      <td>30.0</td>\n",
       "      <td>37.0</td>\n",
       "      <td>65.0</td>\n",
       "    </tr>\n",
       "    <tr>\n",
       "      <th>Зарплата</th>\n",
       "      <td>5000.0</td>\n",
       "      <td>39916.3600</td>\n",
       "      <td>9900.083569</td>\n",
       "      <td>5300.0</td>\n",
       "      <td>33300.0</td>\n",
       "      <td>40200.0</td>\n",
       "      <td>46600.0</td>\n",
       "      <td>79000.0</td>\n",
       "    </tr>\n",
       "    <tr>\n",
       "      <th>Члены семьи</th>\n",
       "      <td>5000.0</td>\n",
       "      <td>1.1942</td>\n",
       "      <td>1.091387</td>\n",
       "      <td>0.0</td>\n",
       "      <td>0.0</td>\n",
       "      <td>1.0</td>\n",
       "      <td>2.0</td>\n",
       "      <td>6.0</td>\n",
       "    </tr>\n",
       "    <tr>\n",
       "      <th>Страховые выплаты</th>\n",
       "      <td>5000.0</td>\n",
       "      <td>0.1480</td>\n",
       "      <td>0.463183</td>\n",
       "      <td>0.0</td>\n",
       "      <td>0.0</td>\n",
       "      <td>0.0</td>\n",
       "      <td>0.0</td>\n",
       "      <td>5.0</td>\n",
       "    </tr>\n",
       "  </tbody>\n",
       "</table>\n",
       "</div>"
      ],
      "text/plain": [
       "                    count        mean          std     min      25%      50%  \\\n",
       "Пол                5000.0      0.4990     0.500049     0.0      0.0      0.0   \n",
       "Возраст            5000.0     30.9528     8.440807    18.0     24.0     30.0   \n",
       "Зарплата           5000.0  39916.3600  9900.083569  5300.0  33300.0  40200.0   \n",
       "Члены семьи        5000.0      1.1942     1.091387     0.0      0.0      1.0   \n",
       "Страховые выплаты  5000.0      0.1480     0.463183     0.0      0.0      0.0   \n",
       "\n",
       "                       75%      max  \n",
       "Пол                    1.0      1.0  \n",
       "Возраст               37.0     65.0  \n",
       "Зарплата           46600.0  79000.0  \n",
       "Члены семьи            2.0      6.0  \n",
       "Страховые выплаты      0.0      5.0  "
      ]
     },
     "execution_count": 3,
     "metadata": {},
     "output_type": "execute_result"
    }
   ],
   "source": [
    "# получаю общую сводку\n",
    "data.info()\n",
    "\n",
    "# проверю на корректный вывод\n",
    "display(data.sample(5))\n",
    "\n",
    "# проверяю имена колонок на пробелы\n",
    "display(data.columns)\n",
    "\n",
    "# проверю на явные дубликаты\n",
    "print(f'Количество явных дубликатов: {data.duplicated().sum()}')\n",
    "\n",
    "# описание\n",
    "data.describe().T"
   ]
  },
  {
   "cell_type": "code",
   "execution_count": 4,
   "metadata": {},
   "outputs": [
    {
     "data": {
      "text/html": [
       "<div>\n",
       "<style scoped>\n",
       "    .dataframe tbody tr th:only-of-type {\n",
       "        vertical-align: middle;\n",
       "    }\n",
       "\n",
       "    .dataframe tbody tr th {\n",
       "        vertical-align: top;\n",
       "    }\n",
       "\n",
       "    .dataframe thead th {\n",
       "        text-align: right;\n",
       "    }\n",
       "</style>\n",
       "<table border=\"1\" class=\"dataframe\">\n",
       "  <thead>\n",
       "    <tr style=\"text-align: right;\">\n",
       "      <th></th>\n",
       "      <th>Пол</th>\n",
       "      <th>Возраст</th>\n",
       "      <th>Зарплата</th>\n",
       "      <th>Члены семьи</th>\n",
       "      <th>Страховые выплаты</th>\n",
       "    </tr>\n",
       "  </thead>\n",
       "  <tbody>\n",
       "  </tbody>\n",
       "</table>\n",
       "</div>"
      ],
      "text/plain": [
       "Empty DataFrame\n",
       "Columns: [Пол, Возраст, Зарплата, Члены семьи, Страховые выплаты]\n",
       "Index: []"
      ]
     },
     "execution_count": 4,
     "metadata": {},
     "output_type": "execute_result"
    }
   ],
   "source": [
    "# возможно признаки Возраст и Зарплата содержат только целые числа\n",
    "\n",
    "data.query('Возраст % 1 != 0')"
   ]
  },
  {
   "cell_type": "code",
   "execution_count": 5,
   "metadata": {},
   "outputs": [
    {
     "data": {
      "text/html": [
       "<div>\n",
       "<style scoped>\n",
       "    .dataframe tbody tr th:only-of-type {\n",
       "        vertical-align: middle;\n",
       "    }\n",
       "\n",
       "    .dataframe tbody tr th {\n",
       "        vertical-align: top;\n",
       "    }\n",
       "\n",
       "    .dataframe thead th {\n",
       "        text-align: right;\n",
       "    }\n",
       "</style>\n",
       "<table border=\"1\" class=\"dataframe\">\n",
       "  <thead>\n",
       "    <tr style=\"text-align: right;\">\n",
       "      <th></th>\n",
       "      <th>Пол</th>\n",
       "      <th>Возраст</th>\n",
       "      <th>Зарплата</th>\n",
       "      <th>Члены семьи</th>\n",
       "      <th>Страховые выплаты</th>\n",
       "    </tr>\n",
       "  </thead>\n",
       "  <tbody>\n",
       "    <tr>\n",
       "      <th>80</th>\n",
       "      <td>1</td>\n",
       "      <td>41.0</td>\n",
       "      <td>32700.0</td>\n",
       "      <td>0</td>\n",
       "      <td>0</td>\n",
       "    </tr>\n",
       "    <tr>\n",
       "      <th>159</th>\n",
       "      <td>1</td>\n",
       "      <td>19.0</td>\n",
       "      <td>64900.0</td>\n",
       "      <td>2</td>\n",
       "      <td>0</td>\n",
       "    </tr>\n",
       "    <tr>\n",
       "      <th>313</th>\n",
       "      <td>0</td>\n",
       "      <td>25.0</td>\n",
       "      <td>32700.0</td>\n",
       "      <td>1</td>\n",
       "      <td>0</td>\n",
       "    </tr>\n",
       "    <tr>\n",
       "      <th>392</th>\n",
       "      <td>1</td>\n",
       "      <td>43.0</td>\n",
       "      <td>32700.0</td>\n",
       "      <td>1</td>\n",
       "      <td>1</td>\n",
       "    </tr>\n",
       "    <tr>\n",
       "      <th>448</th>\n",
       "      <td>1</td>\n",
       "      <td>32.0</td>\n",
       "      <td>32700.0</td>\n",
       "      <td>2</td>\n",
       "      <td>0</td>\n",
       "    </tr>\n",
       "    <tr>\n",
       "      <th>772</th>\n",
       "      <td>1</td>\n",
       "      <td>20.0</td>\n",
       "      <td>65100.0</td>\n",
       "      <td>1</td>\n",
       "      <td>0</td>\n",
       "    </tr>\n",
       "    <tr>\n",
       "      <th>820</th>\n",
       "      <td>0</td>\n",
       "      <td>29.0</td>\n",
       "      <td>32200.0</td>\n",
       "      <td>2</td>\n",
       "      <td>0</td>\n",
       "    </tr>\n",
       "    <tr>\n",
       "      <th>872</th>\n",
       "      <td>0</td>\n",
       "      <td>23.0</td>\n",
       "      <td>32200.0</td>\n",
       "      <td>3</td>\n",
       "      <td>0</td>\n",
       "    </tr>\n",
       "    <tr>\n",
       "      <th>911</th>\n",
       "      <td>0</td>\n",
       "      <td>30.0</td>\n",
       "      <td>32200.0</td>\n",
       "      <td>0</td>\n",
       "      <td>0</td>\n",
       "    </tr>\n",
       "    <tr>\n",
       "      <th>963</th>\n",
       "      <td>1</td>\n",
       "      <td>20.0</td>\n",
       "      <td>64100.0</td>\n",
       "      <td>0</td>\n",
       "      <td>0</td>\n",
       "    </tr>\n",
       "    <tr>\n",
       "      <th>1020</th>\n",
       "      <td>1</td>\n",
       "      <td>36.0</td>\n",
       "      <td>32700.0</td>\n",
       "      <td>2</td>\n",
       "      <td>0</td>\n",
       "    </tr>\n",
       "    <tr>\n",
       "      <th>1078</th>\n",
       "      <td>0</td>\n",
       "      <td>34.0</td>\n",
       "      <td>32200.0</td>\n",
       "      <td>3</td>\n",
       "      <td>0</td>\n",
       "    </tr>\n",
       "    <tr>\n",
       "      <th>1336</th>\n",
       "      <td>1</td>\n",
       "      <td>19.0</td>\n",
       "      <td>32700.0</td>\n",
       "      <td>0</td>\n",
       "      <td>0</td>\n",
       "    </tr>\n",
       "    <tr>\n",
       "      <th>1485</th>\n",
       "      <td>1</td>\n",
       "      <td>41.0</td>\n",
       "      <td>32700.0</td>\n",
       "      <td>0</td>\n",
       "      <td>0</td>\n",
       "    </tr>\n",
       "    <tr>\n",
       "      <th>1486</th>\n",
       "      <td>1</td>\n",
       "      <td>50.0</td>\n",
       "      <td>32200.0</td>\n",
       "      <td>2</td>\n",
       "      <td>2</td>\n",
       "    </tr>\n",
       "    <tr>\n",
       "      <th>1847</th>\n",
       "      <td>1</td>\n",
       "      <td>31.0</td>\n",
       "      <td>32700.0</td>\n",
       "      <td>0</td>\n",
       "      <td>0</td>\n",
       "    </tr>\n",
       "    <tr>\n",
       "      <th>1981</th>\n",
       "      <td>0</td>\n",
       "      <td>21.0</td>\n",
       "      <td>32200.0</td>\n",
       "      <td>1</td>\n",
       "      <td>0</td>\n",
       "    </tr>\n",
       "    <tr>\n",
       "      <th>2191</th>\n",
       "      <td>1</td>\n",
       "      <td>22.0</td>\n",
       "      <td>32200.0</td>\n",
       "      <td>1</td>\n",
       "      <td>0</td>\n",
       "    </tr>\n",
       "    <tr>\n",
       "      <th>2287</th>\n",
       "      <td>1</td>\n",
       "      <td>40.0</td>\n",
       "      <td>32200.0</td>\n",
       "      <td>3</td>\n",
       "      <td>0</td>\n",
       "    </tr>\n",
       "    <tr>\n",
       "      <th>2342</th>\n",
       "      <td>1</td>\n",
       "      <td>25.0</td>\n",
       "      <td>32700.0</td>\n",
       "      <td>2</td>\n",
       "      <td>0</td>\n",
       "    </tr>\n",
       "    <tr>\n",
       "      <th>2385</th>\n",
       "      <td>1</td>\n",
       "      <td>36.0</td>\n",
       "      <td>32700.0</td>\n",
       "      <td>1</td>\n",
       "      <td>0</td>\n",
       "    </tr>\n",
       "    <tr>\n",
       "      <th>2439</th>\n",
       "      <td>1</td>\n",
       "      <td>44.0</td>\n",
       "      <td>32200.0</td>\n",
       "      <td>1</td>\n",
       "      <td>1</td>\n",
       "    </tr>\n",
       "    <tr>\n",
       "      <th>2443</th>\n",
       "      <td>1</td>\n",
       "      <td>25.0</td>\n",
       "      <td>32700.0</td>\n",
       "      <td>0</td>\n",
       "      <td>0</td>\n",
       "    </tr>\n",
       "    <tr>\n",
       "      <th>2805</th>\n",
       "      <td>0</td>\n",
       "      <td>47.0</td>\n",
       "      <td>32700.0</td>\n",
       "      <td>1</td>\n",
       "      <td>1</td>\n",
       "    </tr>\n",
       "    <tr>\n",
       "      <th>2994</th>\n",
       "      <td>1</td>\n",
       "      <td>29.0</td>\n",
       "      <td>32200.0</td>\n",
       "      <td>1</td>\n",
       "      <td>0</td>\n",
       "    </tr>\n",
       "    <tr>\n",
       "      <th>3063</th>\n",
       "      <td>0</td>\n",
       "      <td>24.0</td>\n",
       "      <td>64400.0</td>\n",
       "      <td>0</td>\n",
       "      <td>0</td>\n",
       "    </tr>\n",
       "    <tr>\n",
       "      <th>3139</th>\n",
       "      <td>1</td>\n",
       "      <td>43.0</td>\n",
       "      <td>32200.0</td>\n",
       "      <td>2</td>\n",
       "      <td>1</td>\n",
       "    </tr>\n",
       "    <tr>\n",
       "      <th>3352</th>\n",
       "      <td>1</td>\n",
       "      <td>23.0</td>\n",
       "      <td>32200.0</td>\n",
       "      <td>5</td>\n",
       "      <td>0</td>\n",
       "    </tr>\n",
       "    <tr>\n",
       "      <th>3466</th>\n",
       "      <td>0</td>\n",
       "      <td>22.0</td>\n",
       "      <td>32700.0</td>\n",
       "      <td>4</td>\n",
       "      <td>0</td>\n",
       "    </tr>\n",
       "    <tr>\n",
       "      <th>3499</th>\n",
       "      <td>1</td>\n",
       "      <td>22.0</td>\n",
       "      <td>65100.0</td>\n",
       "      <td>4</td>\n",
       "      <td>0</td>\n",
       "    </tr>\n",
       "    <tr>\n",
       "      <th>3614</th>\n",
       "      <td>1</td>\n",
       "      <td>24.0</td>\n",
       "      <td>32700.0</td>\n",
       "      <td>1</td>\n",
       "      <td>0</td>\n",
       "    </tr>\n",
       "    <tr>\n",
       "      <th>3717</th>\n",
       "      <td>0</td>\n",
       "      <td>34.0</td>\n",
       "      <td>32700.0</td>\n",
       "      <td>0</td>\n",
       "      <td>0</td>\n",
       "    </tr>\n",
       "    <tr>\n",
       "      <th>3788</th>\n",
       "      <td>0</td>\n",
       "      <td>46.0</td>\n",
       "      <td>32700.0</td>\n",
       "      <td>2</td>\n",
       "      <td>1</td>\n",
       "    </tr>\n",
       "    <tr>\n",
       "      <th>3824</th>\n",
       "      <td>1</td>\n",
       "      <td>37.0</td>\n",
       "      <td>32700.0</td>\n",
       "      <td>2</td>\n",
       "      <td>0</td>\n",
       "    </tr>\n",
       "    <tr>\n",
       "      <th>3938</th>\n",
       "      <td>1</td>\n",
       "      <td>23.0</td>\n",
       "      <td>32200.0</td>\n",
       "      <td>1</td>\n",
       "      <td>0</td>\n",
       "    </tr>\n",
       "    <tr>\n",
       "      <th>4182</th>\n",
       "      <td>0</td>\n",
       "      <td>27.0</td>\n",
       "      <td>32200.0</td>\n",
       "      <td>2</td>\n",
       "      <td>0</td>\n",
       "    </tr>\n",
       "    <tr>\n",
       "      <th>4520</th>\n",
       "      <td>0</td>\n",
       "      <td>18.0</td>\n",
       "      <td>32700.0</td>\n",
       "      <td>3</td>\n",
       "      <td>0</td>\n",
       "    </tr>\n",
       "    <tr>\n",
       "      <th>4833</th>\n",
       "      <td>0</td>\n",
       "      <td>24.0</td>\n",
       "      <td>32200.0</td>\n",
       "      <td>1</td>\n",
       "      <td>0</td>\n",
       "    </tr>\n",
       "    <tr>\n",
       "      <th>4935</th>\n",
       "      <td>1</td>\n",
       "      <td>19.0</td>\n",
       "      <td>32700.0</td>\n",
       "      <td>0</td>\n",
       "      <td>0</td>\n",
       "    </tr>\n",
       "    <tr>\n",
       "      <th>4998</th>\n",
       "      <td>1</td>\n",
       "      <td>22.0</td>\n",
       "      <td>32700.0</td>\n",
       "      <td>3</td>\n",
       "      <td>0</td>\n",
       "    </tr>\n",
       "  </tbody>\n",
       "</table>\n",
       "</div>"
      ],
      "text/plain": [
       "      Пол  Возраст  Зарплата  Члены семьи  Страховые выплаты\n",
       "80      1     41.0   32700.0            0                  0\n",
       "159     1     19.0   64900.0            2                  0\n",
       "313     0     25.0   32700.0            1                  0\n",
       "392     1     43.0   32700.0            1                  1\n",
       "448     1     32.0   32700.0            2                  0\n",
       "772     1     20.0   65100.0            1                  0\n",
       "820     0     29.0   32200.0            2                  0\n",
       "872     0     23.0   32200.0            3                  0\n",
       "911     0     30.0   32200.0            0                  0\n",
       "963     1     20.0   64100.0            0                  0\n",
       "1020    1     36.0   32700.0            2                  0\n",
       "1078    0     34.0   32200.0            3                  0\n",
       "1336    1     19.0   32700.0            0                  0\n",
       "1485    1     41.0   32700.0            0                  0\n",
       "1486    1     50.0   32200.0            2                  2\n",
       "1847    1     31.0   32700.0            0                  0\n",
       "1981    0     21.0   32200.0            1                  0\n",
       "2191    1     22.0   32200.0            1                  0\n",
       "2287    1     40.0   32200.0            3                  0\n",
       "2342    1     25.0   32700.0            2                  0\n",
       "2385    1     36.0   32700.0            1                  0\n",
       "2439    1     44.0   32200.0            1                  1\n",
       "2443    1     25.0   32700.0            0                  0\n",
       "2805    0     47.0   32700.0            1                  1\n",
       "2994    1     29.0   32200.0            1                  0\n",
       "3063    0     24.0   64400.0            0                  0\n",
       "3139    1     43.0   32200.0            2                  1\n",
       "3352    1     23.0   32200.0            5                  0\n",
       "3466    0     22.0   32700.0            4                  0\n",
       "3499    1     22.0   65100.0            4                  0\n",
       "3614    1     24.0   32700.0            1                  0\n",
       "3717    0     34.0   32700.0            0                  0\n",
       "3788    0     46.0   32700.0            2                  1\n",
       "3824    1     37.0   32700.0            2                  0\n",
       "3938    1     23.0   32200.0            1                  0\n",
       "4182    0     27.0   32200.0            2                  0\n",
       "4520    0     18.0   32700.0            3                  0\n",
       "4833    0     24.0   32200.0            1                  0\n",
       "4935    1     19.0   32700.0            0                  0\n",
       "4998    1     22.0   32700.0            3                  0"
      ]
     },
     "execution_count": 5,
     "metadata": {},
     "output_type": "execute_result"
    }
   ],
   "source": [
    "data.query('Зарплата % 1 != 0')"
   ]
  },
  {
   "cell_type": "markdown",
   "metadata": {},
   "source": [
    "Похоже что есть знаки после одной десятой, ими можно пренебречь.\n",
    "\n",
    "Предварительные замечания:\n",
    "- Признаки Возраст и Зарплата содержат только целые числа, можно привести к целочисленному типу;\n",
    "- Обнаружено 153 явных дубликата. Так как не стоит задача повышения качества обучения то дубликаты можно проигнорировать.\n",
    "\n",
    "Иных замечаний не обнаружено. Данные готовы к обработке."
   ]
  },
  {
   "cell_type": "markdown",
   "metadata": {},
   "source": [
    "### Обработка данных"
   ]
  },
  {
   "cell_type": "code",
   "execution_count": 6,
   "metadata": {},
   "outputs": [],
   "source": [
    "# приведу признаки к целочисленному типу\n",
    "data[['Возраст', 'Зарплата']] = data[['Возраст', 'Зарплата']].astype(int)"
   ]
  },
  {
   "cell_type": "code",
   "execution_count": 7,
   "metadata": {},
   "outputs": [],
   "source": [
    "# подготовлю призанки и целевой признак\n",
    "features = data.drop(['Страховые выплаты'], axis=1)\n",
    "target = data['Страховые выплаты']"
   ]
  },
  {
   "cell_type": "markdown",
   "metadata": {},
   "source": [
    "### Вывод"
   ]
  },
  {
   "cell_type": "markdown",
   "metadata": {},
   "source": [
    "По итогам обзора и предварительной обработки данных все признаки приведены к целочисленному типу. Выборка разделена на признаки и целевой признак."
   ]
  },
  {
   "cell_type": "markdown",
   "metadata": {},
   "source": [
    "## Умножение матриц"
   ]
  },
  {
   "cell_type": "markdown",
   "metadata": {},
   "source": [
    "### Подготовка"
   ]
  },
  {
   "cell_type": "markdown",
   "metadata": {},
   "source": [
    "В этом задании вы можете записывать формулы в *Jupyter Notebook.*\n",
    "\n",
    "Чтобы записать формулу внутри текста, окружите её символами доллара \\\\$; если снаружи —  двойными символами \\\\$\\\\$. Эти формулы записываются на языке вёрстки *LaTeX.* \n",
    "\n",
    "Для примера мы записали формулы линейной регрессии. Можете их скопировать и отредактировать, чтобы решить задачу.\n",
    "\n",
    "Работать в *LaTeX* необязательно."
   ]
  },
  {
   "cell_type": "markdown",
   "metadata": {},
   "source": [
    "Обозначения:\n",
    "\n",
    "- $X$ — матрица признаков (нулевой столбец состоит из единиц)\n",
    "\n",
    "- $y$ — вектор целевого признака\n",
    "\n",
    "- $P$ — матрица, на которую умножаются признаки\n",
    "\n",
    "- $w$ — вектор весов линейной регрессии (нулевой элемент равен сдвигу)"
   ]
  },
  {
   "cell_type": "markdown",
   "metadata": {},
   "source": [
    "Предсказания:\n",
    "\n",
    "$$\n",
    "a = Xw\n",
    "$$\n",
    "\n",
    "Задача обучения:\n",
    "\n",
    "$$\n",
    "w = \\arg\\min_w MSE(Xw, y)\n",
    "$$\n",
    "\n",
    "Формула обучения:\n",
    "\n",
    "$$\n",
    "w = (X^T X)^{-1} X^T y\n",
    "$$"
   ]
  },
  {
   "cell_type": "markdown",
   "metadata": {},
   "source": [
    "Признаки умножают на обратимую матрицу. Изменится ли качество линейной регрессии?\n",
    "\n",
    "**Ответ:** При умножении признаков на обратимую матрицу качество линейной регрессии не изменится."
   ]
  },
  {
   "cell_type": "markdown",
   "metadata": {},
   "source": [
    "### Обоснование"
   ]
  },
  {
   "cell_type": "markdown",
   "metadata": {},
   "source": [
    "#### Формула при умножении на обратимую матрицу"
   ]
  },
  {
   "cell_type": "markdown",
   "metadata": {},
   "source": [
    "При умножении матрицы $X$ на матрицу $P$ получу матрицу $C$:\n",
    "\n",
    "$$C = XP$$"
   ]
  },
  {
   "cell_type": "markdown",
   "metadata": {},
   "source": [
    "Формула предсказания для матрицы $C$:\n",
    "$$a{_1} = Cw{_1}$$"
   ]
  },
  {
   "cell_type": "markdown",
   "metadata": {},
   "source": [
    "Формула обучения для матрицы $C$:\n",
    "$$w{_1} = (C^T C)^{-1} C^T y$$"
   ]
  },
  {
   "cell_type": "markdown",
   "metadata": {},
   "source": [
    "Матрица $B$ это произведение матрицы $X$ на матрицу $P$:\n",
    "$$w{_1} = ((XP)^T XP)^{-1} (XP)^T y$$"
   ]
  },
  {
   "cell_type": "markdown",
   "metadata": {},
   "source": [
    "Следовательно формула предсказания:\n",
    "$$a{_1} = XP((XP)^T XP)^{-1} (XP)^T y$$"
   ]
  },
  {
   "cell_type": "markdown",
   "metadata": {},
   "source": [
    "#### Использование свойств обратных и транспонированных матриц"
   ]
  },
  {
   "cell_type": "markdown",
   "metadata": {},
   "source": [
    "Транспонированное произведение матриц равно произведению транспонированных матриц, взятых в обратном порядке:\n",
    "     $$(AB)^T = B^TA^T$$"
   ]
  },
  {
   "cell_type": "markdown",
   "metadata": {},
   "source": [
    "Раскрою транспонирование матриц:\n",
    "\n",
    "$$a{_1} =   XP(P^T X^T XP)^{-1} P^T X^T y$$"
   ]
  },
  {
   "cell_type": "markdown",
   "metadata": {},
   "source": [
    "Если квадратные матрицы $A$ и $B$ порядка $n$ имеют обратные матрицы, то и их произведение имеет обратную матрицу:\n",
    "$$(AB)^{-1} = B^{-1}A^{-1}$$"
   ]
  },
  {
   "cell_type": "markdown",
   "metadata": {},
   "source": [
    "Матрицы ассоциативны, то есть их можно перемножать независимо от того что стоит левее и правее перемножаемых матриц:\n",
    "$$A(BC) = (AB)C$$"
   ]
  },
  {
   "cell_type": "markdown",
   "metadata": {},
   "source": [
    "Можно скомбинировать эти правила:\n",
    "$$(ABC)^{-1} = ((AB)C)^{-1}$$"
   ]
  },
  {
   "cell_type": "markdown",
   "metadata": {},
   "source": [
    "Следовательно:\n",
    "$$\n",
    "(P^T X^T XP)^{-1} = ((P^T X^T X)P)^{-1} = P^{-1} (P^T X^T X)^{-1}\n",
    "$$"
   ]
  },
  {
   "cell_type": "markdown",
   "metadata": {},
   "source": [
    "$$\n",
    "P^{-1} (P^T X^T X)^{-1} = P^{-1} (P^T (X^T X))^{-1} = P^{-1} (X^T X)^{-1} (P^T)^{-1}\n",
    "$$"
   ]
  },
  {
   "cell_type": "markdown",
   "metadata": {},
   "source": [
    "$$a{_1} =   X P P^{-1} (X^T X)^{-1} (P^T)^{-1} P^T X^T y$$"
   ]
  },
  {
   "cell_type": "markdown",
   "metadata": {},
   "source": [
    "#### Использование свойств единичных матриц"
   ]
  },
  {
   "cell_type": "markdown",
   "metadata": {},
   "source": [
    "При умножении матрицы на обратную ей получается единичная матрица:\n",
    "$$AA^{-1}=A^{-1}A=E$$"
   ]
  },
  {
   "cell_type": "markdown",
   "metadata": {},
   "source": [
    "Следовательно можно избавиться от $P P^{-1}$ и  $(P^T)^{-1} P^T$:\n",
    "$$\n",
    "a{_1} = X P P^{-1} (X^T X)^{-1} (P^T)^{-1} P^T X^T y = X (X^T X)^{-1} X^T y\n",
    "$$"
   ]
  },
  {
   "cell_type": "markdown",
   "metadata": {},
   "source": [
    "#### Вывод"
   ]
  },
  {
   "cell_type": "markdown",
   "metadata": {},
   "source": [
    "$$a{_1} = X (X^TX)^{-1}X^T y = a$$ "
   ]
  },
  {
   "cell_type": "markdown",
   "metadata": {},
   "source": [
    "Доказано что при умножении признаков на обратимую матрицу качество линейной регрессии не изменится."
   ]
  },
  {
   "cell_type": "markdown",
   "metadata": {},
   "source": [
    "#### Проверка обоснования"
   ]
  },
  {
   "cell_type": "code",
   "execution_count": 8,
   "metadata": {},
   "outputs": [
    {
     "data": {
      "text/plain": [
       "0.12334688937098945"
      ]
     },
     "metadata": {},
     "output_type": "display_data"
    }
   ],
   "source": [
    "# создам матрицы и векторы согласно описанию\n",
    "# добавлю вектор соответствующий w0\n",
    "X = np.concatenate((np.ones((features.shape[0], 1)), features), axis=1)\n",
    "y = target\n",
    "w = np.linalg.inv(X.T.dot(X)).dot(X.T).dot(y)\n",
    "# получу предсказание и проверю MSE\n",
    "a = X @ w\n",
    "display(mean_squared_error(a, y))"
   ]
  },
  {
   "cell_type": "code",
   "execution_count": 9,
   "metadata": {},
   "outputs": [
    {
     "data": {
      "text/plain": [
       "0.12334688937099227"
      ]
     },
     "metadata": {},
     "output_type": "display_data"
    }
   ],
   "source": [
    "C = np.concatenate((np.ones((features.shape[0], 1)), np.dot(features, np.random.normal(size=(4, 4)))), axis=1)\n",
    "w1 = np.linalg.inv(C.T.dot(C)).dot(C.T).dot(y)\n",
    "a1 = C @ w1\n",
    "display(mean_squared_error(a1, y))"
   ]
  },
  {
   "cell_type": "code",
   "execution_count": 10,
   "metadata": {},
   "outputs": [
    {
     "data": {
      "text/plain": [
       "0.12334688937098945"
      ]
     },
     "metadata": {},
     "output_type": "display_data"
    }
   ],
   "source": [
    "# сравню результат с линейной регрессией за счет метода библиотеки sklearn\n",
    "model = LinearRegression()\n",
    "model.fit(X,y)\n",
    "prediction = model.predict(X)\n",
    "display(mean_squared_error(prediction, y))"
   ]
  },
  {
   "cell_type": "markdown",
   "metadata": {},
   "source": [
    "Подтверждено что при умножении признаков на обратимую матрицу качество линейной регрессии не изменяется. Минимальные отличия связаны с особенностью хранения дробных чисел."
   ]
  },
  {
   "cell_type": "markdown",
   "metadata": {},
   "source": [
    "## Алгоритм преобразования"
   ]
  },
  {
   "cell_type": "markdown",
   "metadata": {},
   "source": [
    "`Предложите алгоритм преобразования данных для решения задачи. Обоснуйте, почему качество линейной регрессии не поменяется.`"
   ]
  },
  {
   "cell_type": "markdown",
   "metadata": {},
   "source": [
    "**Алгоритм**\n",
    "\n",
    "1) Используем `np.random.normal` для получения случайной матрицы $P$ с размерностью $(nxn)$ равной количеству признаков в матрице признков $X$.\n",
    "\n",
    "2) Используя `np.linalg.inv` проверяем обратима ли матрица $P$. Если да то переходим к шагу 3. Если нет то возвращаемся к шагу 1.\n",
    "\n",
    "3) Сохраняем полученную через `np.linalg.inv` матрицу $P^{-1}$ для последующей расшифровки признаков.\n",
    "\n",
    "4) Умножаем матрицу признаков $X$ на обратимую матрицу $P$ и получаем зашифрованную матрицу признаков $C$.\n",
    "\n",
    "5) При неоходимости получения оригинальных значений признаков умножаем зашифрованную матрицу признаков на сохраненную матрицу $P^{-1}$."
   ]
  },
  {
   "cell_type": "markdown",
   "metadata": {},
   "source": [
    "**Обоснование**"
   ]
  },
  {
   "cell_type": "markdown",
   "metadata": {},
   "source": [
    "При умножении матрицы $А$ с размерностью $(mxn)$ на матрицу $В$ с размерностью $(nxr)$ получаем матрицу с размерностью $(mxr)$.\n",
    "\n",
    "Следовательно при умножении матрицы $X$ с размерностью $(mxn)$ на матрицу $P$ с размерностью $(nxn)$ получим матрицу $C$ с размерностью $(mxn)$, то есть размерностью повторяющей размерность матрицы $X$.\n",
    "\n",
    "При умножении на обратную матрицу $P^{-1}$ сохранится та же размерность."
   ]
  },
  {
   "cell_type": "markdown",
   "metadata": {},
   "source": [
    "## Проверка алгоритма"
   ]
  },
  {
   "cell_type": "markdown",
   "metadata": {},
   "source": [
    "###  Написание функции"
   ]
  },
  {
   "cell_type": "code",
   "execution_count": 11,
   "metadata": {},
   "outputs": [],
   "source": [
    "# подаю на вход функции признаки и случайное число для фиксации результата\n",
    "def encode_data(features, seed):\n",
    "    n = features.shape[1] # опредеяю размерность кодирующей матрицы\n",
    "    np.random.seed(seed) # фиксирую результат\n",
    "    encoder = np.random.normal(size=(n, n)) # получаю кодирующую матрицу\n",
    "    \n",
    "    while np.linalg.det(encoder) == 0: # если кодирующая матрица не обратима то +1 к случайному число до получения обратимой\n",
    "        seed += 1\n",
    "        np.random.seed(seed)\n",
    "        encoder = np.random.normal(size=(n, n))\n",
    "        \n",
    "    decoder = np.linalg.inv(encoder) # получаю декодирующую матрицу\n",
    "    encoded_features = np.dot(features, encoder) # получаю закодированные признаки\n",
    "    return encoded_features, decoder"
   ]
  },
  {
   "cell_type": "markdown",
   "metadata": {},
   "source": [
    "Проверю работоспособность функции зашифровав и расшифровав признаки."
   ]
  },
  {
   "cell_type": "code",
   "execution_count": 12,
   "metadata": {
    "scrolled": true
   },
   "outputs": [
    {
     "data": {
      "text/html": [
       "<div>\n",
       "<style scoped>\n",
       "    .dataframe tbody tr th:only-of-type {\n",
       "        vertical-align: middle;\n",
       "    }\n",
       "\n",
       "    .dataframe tbody tr th {\n",
       "        vertical-align: top;\n",
       "    }\n",
       "\n",
       "    .dataframe thead th {\n",
       "        text-align: right;\n",
       "    }\n",
       "</style>\n",
       "<table border=\"1\" class=\"dataframe\">\n",
       "  <thead>\n",
       "    <tr style=\"text-align: right;\">\n",
       "      <th></th>\n",
       "      <th>Пол</th>\n",
       "      <th>Возраст</th>\n",
       "      <th>Зарплата</th>\n",
       "      <th>Члены семьи</th>\n",
       "    </tr>\n",
       "  </thead>\n",
       "  <tbody>\n",
       "    <tr>\n",
       "      <th>0</th>\n",
       "      <td>1</td>\n",
       "      <td>41</td>\n",
       "      <td>49600</td>\n",
       "      <td>1</td>\n",
       "    </tr>\n",
       "    <tr>\n",
       "      <th>1</th>\n",
       "      <td>0</td>\n",
       "      <td>46</td>\n",
       "      <td>38000</td>\n",
       "      <td>1</td>\n",
       "    </tr>\n",
       "    <tr>\n",
       "      <th>2</th>\n",
       "      <td>0</td>\n",
       "      <td>29</td>\n",
       "      <td>21000</td>\n",
       "      <td>0</td>\n",
       "    </tr>\n",
       "    <tr>\n",
       "      <th>3</th>\n",
       "      <td>0</td>\n",
       "      <td>21</td>\n",
       "      <td>41700</td>\n",
       "      <td>2</td>\n",
       "    </tr>\n",
       "    <tr>\n",
       "      <th>4</th>\n",
       "      <td>1</td>\n",
       "      <td>28</td>\n",
       "      <td>26100</td>\n",
       "      <td>0</td>\n",
       "    </tr>\n",
       "  </tbody>\n",
       "</table>\n",
       "</div>"
      ],
      "text/plain": [
       "   Пол  Возраст  Зарплата  Члены семьи\n",
       "0    1       41     49600            1\n",
       "1    0       46     38000            1\n",
       "2    0       29     21000            0\n",
       "3    0       21     41700            2\n",
       "4    1       28     26100            0"
      ]
     },
     "execution_count": 12,
     "metadata": {},
     "output_type": "execute_result"
    }
   ],
   "source": [
    "# исходные признаки\n",
    "features.head()"
   ]
  },
  {
   "cell_type": "code",
   "execution_count": 13,
   "metadata": {
    "scrolled": true
   },
   "outputs": [
    {
     "data": {
      "text/html": [
       "<div>\n",
       "<style scoped>\n",
       "    .dataframe tbody tr th:only-of-type {\n",
       "        vertical-align: middle;\n",
       "    }\n",
       "\n",
       "    .dataframe tbody tr th {\n",
       "        vertical-align: top;\n",
       "    }\n",
       "\n",
       "    .dataframe thead th {\n",
       "        text-align: right;\n",
       "    }\n",
       "</style>\n",
       "<table border=\"1\" class=\"dataframe\">\n",
       "  <thead>\n",
       "    <tr style=\"text-align: right;\">\n",
       "      <th></th>\n",
       "      <th>0</th>\n",
       "      <th>1</th>\n",
       "      <th>2</th>\n",
       "      <th>3</th>\n",
       "    </tr>\n",
       "  </thead>\n",
       "  <tbody>\n",
       "    <tr>\n",
       "      <th>0</th>\n",
       "      <td>38224.186641</td>\n",
       "      <td>61881.000420</td>\n",
       "      <td>49961.234837</td>\n",
       "      <td>-64280.684721</td>\n",
       "    </tr>\n",
       "    <tr>\n",
       "      <th>1</th>\n",
       "      <td>29313.558467</td>\n",
       "      <td>47428.845564</td>\n",
       "      <td>38278.822267</td>\n",
       "      <td>-49242.555394</td>\n",
       "    </tr>\n",
       "    <tr>\n",
       "      <th>2</th>\n",
       "      <td>16206.481556</td>\n",
       "      <td>26215.538233</td>\n",
       "      <td>21153.670838</td>\n",
       "      <td>-27212.472653</td>\n",
       "    </tr>\n",
       "    <tr>\n",
       "      <th>3</th>\n",
       "      <td>32110.072445</td>\n",
       "      <td>52006.047856</td>\n",
       "      <td>42004.453110</td>\n",
       "      <td>-54044.730722</td>\n",
       "    </tr>\n",
       "    <tr>\n",
       "      <th>4</th>\n",
       "      <td>20126.326163</td>\n",
       "      <td>32571.440926</td>\n",
       "      <td>26289.724215</td>\n",
       "      <td>-33824.037786</td>\n",
       "    </tr>\n",
       "  </tbody>\n",
       "</table>\n",
       "</div>"
      ],
      "text/plain": [
       "              0             1             2             3\n",
       "0  38224.186641  61881.000420  49961.234837 -64280.684721\n",
       "1  29313.558467  47428.845564  38278.822267 -49242.555394\n",
       "2  16206.481556  26215.538233  21153.670838 -27212.472653\n",
       "3  32110.072445  52006.047856  42004.453110 -54044.730722\n",
       "4  20126.326163  32571.440926  26289.724215 -33824.037786"
      ]
     },
     "execution_count": 13,
     "metadata": {},
     "output_type": "execute_result"
    }
   ],
   "source": [
    "# получу зашифрованные занные и декодер\n",
    "encoded_features, decoder = encode_data(features, 12345)\n",
    "pd.DataFrame(encoded_features).head()"
   ]
  },
  {
   "cell_type": "code",
   "execution_count": 14,
   "metadata": {
    "scrolled": true
   },
   "outputs": [
    {
     "data": {
      "text/html": [
       "<div>\n",
       "<style scoped>\n",
       "    .dataframe tbody tr th:only-of-type {\n",
       "        vertical-align: middle;\n",
       "    }\n",
       "\n",
       "    .dataframe tbody tr th {\n",
       "        vertical-align: top;\n",
       "    }\n",
       "\n",
       "    .dataframe thead th {\n",
       "        text-align: right;\n",
       "    }\n",
       "</style>\n",
       "<table border=\"1\" class=\"dataframe\">\n",
       "  <thead>\n",
       "    <tr style=\"text-align: right;\">\n",
       "      <th></th>\n",
       "      <th>Пол</th>\n",
       "      <th>Возраст</th>\n",
       "      <th>Зарплата</th>\n",
       "      <th>Члены семьи</th>\n",
       "    </tr>\n",
       "  </thead>\n",
       "  <tbody>\n",
       "    <tr>\n",
       "      <th>0</th>\n",
       "      <td>1</td>\n",
       "      <td>41</td>\n",
       "      <td>49600</td>\n",
       "      <td>1</td>\n",
       "    </tr>\n",
       "    <tr>\n",
       "      <th>1</th>\n",
       "      <td>0</td>\n",
       "      <td>46</td>\n",
       "      <td>38000</td>\n",
       "      <td>1</td>\n",
       "    </tr>\n",
       "    <tr>\n",
       "      <th>2</th>\n",
       "      <td>0</td>\n",
       "      <td>29</td>\n",
       "      <td>21000</td>\n",
       "      <td>0</td>\n",
       "    </tr>\n",
       "    <tr>\n",
       "      <th>3</th>\n",
       "      <td>0</td>\n",
       "      <td>21</td>\n",
       "      <td>41700</td>\n",
       "      <td>2</td>\n",
       "    </tr>\n",
       "    <tr>\n",
       "      <th>4</th>\n",
       "      <td>1</td>\n",
       "      <td>28</td>\n",
       "      <td>26100</td>\n",
       "      <td>0</td>\n",
       "    </tr>\n",
       "  </tbody>\n",
       "</table>\n",
       "</div>"
      ],
      "text/plain": [
       "   Пол  Возраст  Зарплата  Члены семьи\n",
       "0    1       41     49600            1\n",
       "1    0       46     38000            1\n",
       "2    0       29     21000            0\n",
       "3    0       21     41700            2\n",
       "4    1       28     26100            0"
      ]
     },
     "execution_count": 14,
     "metadata": {},
     "output_type": "execute_result"
    }
   ],
   "source": [
    "# приведу зашифрованные данные к исходному виду. Топорно, но наглядно.\n",
    "pd.DataFrame(encoded_features @ decoder, columns=data.columns[0:4]).round().astype(int).head()"
   ]
  },
  {
   "cell_type": "markdown",
   "metadata": {},
   "source": [
    "### Проверка функции"
   ]
  },
  {
   "cell_type": "code",
   "execution_count": 15,
   "metadata": {},
   "outputs": [],
   "source": [
    "# разделю данные на обучающую и тестовую выборки\n",
    "features_train, features_test, target_train, target_test = train_test_split(features, target, test_size=0.25, random_state=12345)"
   ]
  },
  {
   "cell_type": "code",
   "execution_count": 16,
   "metadata": {
    "scrolled": true
   },
   "outputs": [
    {
     "name": "stdout",
     "output_type": "stream",
     "text": [
      "r2 для оригинальных признаков: 0.4352275684083322\n"
     ]
    }
   ],
   "source": [
    "model = LinearRegression()\n",
    "model.fit(features_train, target_train)\n",
    "prediction = model.predict(features_test)\n",
    "print('r2 для оригинальных признаков:', r2_score(target_test, prediction))"
   ]
  },
  {
   "cell_type": "markdown",
   "metadata": {},
   "source": [
    "Использую ранее закодированные признаки."
   ]
  },
  {
   "cell_type": "code",
   "execution_count": 17,
   "metadata": {},
   "outputs": [],
   "source": [
    "enc_features_train, enc_features_test, enc_target_train, enc_target_test = train_test_split(encoded_features, target, test_size=0.25, random_state=12345)"
   ]
  },
  {
   "cell_type": "code",
   "execution_count": 18,
   "metadata": {},
   "outputs": [
    {
     "name": "stdout",
     "output_type": "stream",
     "text": [
      "r2 для зашифрованных признаков: 0.4352275684080851\n"
     ]
    }
   ],
   "source": [
    "model.fit(enc_features_train, enc_target_train)\n",
    "enc_prediction = model.predict(enc_features_test)\n",
    "print('r2 для зашифрованных признаков:', r2_score(enc_target_test, enc_prediction))"
   ]
  },
  {
   "cell_type": "markdown",
   "metadata": {},
   "source": [
    "### Вывод"
   ]
  },
  {
   "cell_type": "markdown",
   "metadata": {},
   "source": [
    "Метрика r2 не отличается между моделью обученной на оригинальных и зашифрованных данных. Функция для шифрования данных клиентов методом матричного умножения работает корректно."
   ]
  },
  {
   "cell_type": "markdown",
   "metadata": {},
   "source": [
    "## Общий вывод"
   ]
  },
  {
   "cell_type": "markdown",
   "metadata": {},
   "source": [
    "Было дано задание разработать метод преобразования данных для защиты персональных данных клиентов страховой компании.  \n",
    "По итогам работы составлена и проверена на работоспособность функция использующая метод матричного умножения для преобразования данных. Функция может быть дополнена с целью выгрузки декодирующей матрицы в файл для последующего хранения, чего не требовалось по условию задачи."
   ]
  },
  {
   "cell_type": "markdown",
   "metadata": {},
   "source": [
    "Поставьте 'x' в выполненных пунктах. Далее нажмите Shift+Enter."
   ]
  },
  {
   "cell_type": "markdown",
   "metadata": {},
   "source": [
    "- [x]  Jupyter Notebook открыт\n",
    "- [x]  Весь код выполняется без ошибок\n",
    "- [x]  Ячейки с кодом расположены в порядке исполнения\n",
    "- [x]  Выполнен шаг 1: данные загружены\n",
    "- [x]  Выполнен шаг 2: получен ответ на вопрос об умножении матриц\n",
    "    - [x]  Указан правильный вариант ответа\n",
    "    - [x]  Вариант обоснован\n",
    "- [x]  Выполнен шаг 3: предложен алгоритм преобразования\n",
    "    - [x]  Алгоритм описан\n",
    "    - [x]  Алгоритм обоснован\n",
    "- [x]  Выполнен шаг 4: алгоритм проверен\n",
    "    - [x]  Алгоритм реализован\n",
    "    - [x]  Проведено сравнение качества моделей до и после преобразования"
   ]
  },
  {
   "cell_type": "markdown",
   "metadata": {},
   "source": [
    "<div style=\"border:solid purple 2px; padding: 20px\"> \n",
    "<b> <font color='purple' >   \n",
    "    \n",
    "В целом, работа очень хорошая. Все задачи в рамках проекта у тебя получились. Ты молодец! Нужно только поправить доказательство.\n",
    "    \n",
    "Жду твоих исправлений 😊\n",
    "</font></b>\n",
    "</div>"
   ]
  },
  {
   "cell_type": "markdown",
   "metadata": {},
   "source": [
    "<div style=\"border:solid purple 2px; padding: 20px\"> \n",
    "<b> <font color='purple' >   \n",
    "Отлично! Критических замечаний больше нет. Проект принят! 👏 Поздравляю и желаю удачи!\n",
    "    \n",
    "Оставлю несколько дополнительных материалов. Обзоры по применению криптографии в машинном обучении: https://arxiv.org/pdf/1902.04109.pdf, https://www.researchgate.net/publication/342746786_Some_Applications_of_Machine_Learning_in_Cryptography\n",
    "Подробнее про аналогичный алгоритм: https://www.cs.cmu.edu/~rjhall/JOS_revised_May_31a.pdf\n",
    "</font></b>\n",
    "</div>"
   ]
  }
 ],
 "metadata": {
  "ExecuteTimeLog": [
   {
    "duration": 460,
    "start_time": "2022-07-02T14:10:56.847Z"
   },
   {
    "duration": 79,
    "start_time": "2022-07-02T14:32:37.930Z"
   },
   {
    "duration": 73,
    "start_time": "2022-07-02T14:32:40.817Z"
   },
   {
    "duration": 54,
    "start_time": "2022-07-02T14:32:47.489Z"
   },
   {
    "duration": 48,
    "start_time": "2022-07-02T14:33:08.579Z"
   },
   {
    "duration": 415,
    "start_time": "2022-07-03T10:45:31.410Z"
   },
   {
    "duration": 3,
    "start_time": "2022-07-03T10:46:29.816Z"
   },
   {
    "duration": 76,
    "start_time": "2022-07-03T10:46:30.736Z"
   },
   {
    "duration": 51,
    "start_time": "2022-07-03T10:46:33.086Z"
   },
   {
    "duration": 105,
    "start_time": "2022-07-03T14:09:30.240Z"
   },
   {
    "duration": 71,
    "start_time": "2022-07-03T14:09:34.380Z"
   },
   {
    "duration": 381,
    "start_time": "2022-07-03T14:09:39.260Z"
   },
   {
    "duration": 79,
    "start_time": "2022-07-03T14:09:40.221Z"
   },
   {
    "duration": 6,
    "start_time": "2022-07-03T14:09:42.380Z"
   },
   {
    "duration": 47,
    "start_time": "2022-07-03T14:09:53.492Z"
   },
   {
    "duration": 186,
    "start_time": "2022-07-03T14:10:02.380Z"
   },
   {
    "duration": 202,
    "start_time": "2022-07-03T14:10:19.276Z"
   },
   {
    "duration": 3,
    "start_time": "2022-07-03T14:11:39.780Z"
   },
   {
    "duration": 12,
    "start_time": "2022-07-03T14:11:44.011Z"
   },
   {
    "duration": 4,
    "start_time": "2022-07-03T14:12:01.979Z"
   },
   {
    "duration": 5,
    "start_time": "2022-07-03T14:12:06.532Z"
   },
   {
    "duration": 6,
    "start_time": "2022-07-03T14:12:24.402Z"
   },
   {
    "duration": 5,
    "start_time": "2022-07-03T14:14:23.743Z"
   },
   {
    "duration": 5,
    "start_time": "2022-07-03T14:14:25.818Z"
   },
   {
    "duration": 9,
    "start_time": "2022-07-03T14:14:26.961Z"
   },
   {
    "duration": 5,
    "start_time": "2022-07-03T14:14:42.825Z"
   },
   {
    "duration": 6,
    "start_time": "2022-07-03T14:14:43.554Z"
   },
   {
    "duration": 64,
    "start_time": "2022-07-03T14:14:57.968Z"
   },
   {
    "duration": 5,
    "start_time": "2022-07-03T14:15:23.538Z"
   },
   {
    "duration": 10,
    "start_time": "2022-07-03T14:15:25.841Z"
   },
   {
    "duration": 9,
    "start_time": "2022-07-03T14:15:29.529Z"
   },
   {
    "duration": 6,
    "start_time": "2022-07-03T14:15:38.290Z"
   },
   {
    "duration": 4,
    "start_time": "2022-07-03T14:15:51.330Z"
   },
   {
    "duration": 6,
    "start_time": "2022-07-03T14:16:03.393Z"
   },
   {
    "duration": 4,
    "start_time": "2022-07-03T14:16:20.016Z"
   },
   {
    "duration": 6,
    "start_time": "2022-07-03T14:16:24.801Z"
   },
   {
    "duration": 3,
    "start_time": "2022-07-03T14:16:34.608Z"
   },
   {
    "duration": 5,
    "start_time": "2022-07-03T14:16:35.440Z"
   },
   {
    "duration": 15,
    "start_time": "2022-07-03T14:16:36.425Z"
   },
   {
    "duration": 8,
    "start_time": "2022-07-03T14:16:40.951Z"
   },
   {
    "duration": 6,
    "start_time": "2022-07-03T14:16:42.351Z"
   },
   {
    "duration": 6,
    "start_time": "2022-07-03T14:16:45.381Z"
   },
   {
    "duration": 6,
    "start_time": "2022-07-03T14:16:53.799Z"
   },
   {
    "duration": 60,
    "start_time": "2022-07-04T07:33:02.915Z"
   },
   {
    "duration": 383,
    "start_time": "2022-07-04T07:33:07.672Z"
   },
   {
    "duration": 149,
    "start_time": "2022-07-04T07:33:08.848Z"
   },
   {
    "duration": 53,
    "start_time": "2022-07-04T07:33:11.057Z"
   },
   {
    "duration": 36,
    "start_time": "2022-07-04T07:33:13.984Z"
   },
   {
    "duration": 19,
    "start_time": "2022-07-04T07:33:33.579Z"
   },
   {
    "duration": 11,
    "start_time": "2022-07-04T07:37:48.803Z"
   },
   {
    "duration": 10,
    "start_time": "2022-07-04T07:37:54.968Z"
   },
   {
    "duration": 14,
    "start_time": "2022-07-04T07:38:03.670Z"
   },
   {
    "duration": 14,
    "start_time": "2022-07-04T07:38:43.041Z"
   },
   {
    "duration": 15,
    "start_time": "2022-07-04T07:38:49.766Z"
   },
   {
    "duration": 11,
    "start_time": "2022-07-04T07:38:57.326Z"
   },
   {
    "duration": 1375,
    "start_time": "2022-07-04T07:50:53.077Z"
   },
   {
    "duration": 7,
    "start_time": "2022-07-04T07:51:01.415Z"
   },
   {
    "duration": 6,
    "start_time": "2022-07-04T07:51:18.831Z"
   },
   {
    "duration": 5,
    "start_time": "2022-07-04T07:51:27.263Z"
   },
   {
    "duration": 7,
    "start_time": "2022-07-04T07:51:46.407Z"
   },
   {
    "duration": 6,
    "start_time": "2022-07-04T07:52:13.264Z"
   },
   {
    "duration": 7,
    "start_time": "2022-07-04T07:52:20.055Z"
   },
   {
    "duration": 19,
    "start_time": "2022-07-04T07:52:48.429Z"
   },
   {
    "duration": 8,
    "start_time": "2022-07-04T07:53:33.956Z"
   },
   {
    "duration": 9,
    "start_time": "2022-07-04T07:54:09.606Z"
   },
   {
    "duration": 19,
    "start_time": "2022-07-04T07:54:21.259Z"
   },
   {
    "duration": 24,
    "start_time": "2022-07-04T07:54:28.557Z"
   },
   {
    "duration": 6,
    "start_time": "2022-07-04T07:54:39.757Z"
   },
   {
    "duration": 6,
    "start_time": "2022-07-04T07:55:18.257Z"
   },
   {
    "duration": 1212,
    "start_time": "2022-07-04T07:56:43.385Z"
   },
   {
    "duration": 5,
    "start_time": "2022-07-04T07:56:54.946Z"
   },
   {
    "duration": 18,
    "start_time": "2022-07-04T07:57:23.684Z"
   },
   {
    "duration": 22,
    "start_time": "2022-07-04T08:09:51.942Z"
   },
   {
    "duration": 18,
    "start_time": "2022-07-04T08:10:03.835Z"
   },
   {
    "duration": 5,
    "start_time": "2022-07-04T08:31:03.889Z"
   },
   {
    "duration": 13,
    "start_time": "2022-07-04T08:31:15.638Z"
   },
   {
    "duration": 3,
    "start_time": "2022-07-04T08:34:16.391Z"
   },
   {
    "duration": 6,
    "start_time": "2022-07-04T08:36:26.735Z"
   },
   {
    "duration": 4,
    "start_time": "2022-07-04T08:37:23.130Z"
   },
   {
    "duration": 3,
    "start_time": "2022-07-04T10:16:16.104Z"
   },
   {
    "duration": 4,
    "start_time": "2022-07-04T10:16:25.664Z"
   },
   {
    "duration": 5,
    "start_time": "2022-07-04T12:06:09.768Z"
   },
   {
    "duration": 5,
    "start_time": "2022-07-04T15:10:23.754Z"
   },
   {
    "duration": 5,
    "start_time": "2022-07-04T15:10:26.607Z"
   },
   {
    "duration": 60,
    "start_time": "2022-07-05T13:27:15.839Z"
   },
   {
    "duration": 52,
    "start_time": "2022-07-05T13:33:42.308Z"
   },
   {
    "duration": 410,
    "start_time": "2022-07-05T13:50:18.588Z"
   },
   {
    "duration": 79,
    "start_time": "2022-07-05T13:50:19.488Z"
   },
   {
    "duration": 54,
    "start_time": "2022-07-05T13:50:21.577Z"
   },
   {
    "duration": 11,
    "start_time": "2022-07-05T13:50:24.175Z"
   },
   {
    "duration": 20,
    "start_time": "2022-07-05T13:50:25.984Z"
   },
   {
    "duration": 7,
    "start_time": "2022-07-05T13:50:29.088Z"
   },
   {
    "duration": 5,
    "start_time": "2022-07-05T13:50:29.881Z"
   },
   {
    "duration": 3,
    "start_time": "2022-07-05T13:50:31.393Z"
   },
   {
    "duration": 5,
    "start_time": "2022-07-05T13:50:32.648Z"
   },
   {
    "duration": 6,
    "start_time": "2022-07-05T13:50:34.367Z"
   },
   {
    "duration": 89,
    "start_time": "2022-07-05T13:50:35.735Z"
   },
   {
    "duration": 5,
    "start_time": "2022-07-05T13:50:39.642Z"
   },
   {
    "duration": 50,
    "start_time": "2022-07-05T14:20:34.133Z"
   },
   {
    "duration": 55,
    "start_time": "2022-07-05T14:43:24.006Z"
   },
   {
    "duration": 51,
    "start_time": "2022-07-05T14:47:24.351Z"
   },
   {
    "duration": 46,
    "start_time": "2022-07-05T15:01:53.034Z"
   },
   {
    "duration": 5,
    "start_time": "2022-07-05T15:05:32.504Z"
   },
   {
    "duration": 3,
    "start_time": "2022-07-05T16:03:23.304Z"
   },
   {
    "duration": 6,
    "start_time": "2022-07-05T16:03:24.674Z"
   },
   {
    "duration": 6,
    "start_time": "2022-07-05T16:03:30.205Z"
   },
   {
    "duration": 5,
    "start_time": "2022-07-05T16:03:36.091Z"
   },
   {
    "duration": 8,
    "start_time": "2022-07-05T16:03:41.837Z"
   },
   {
    "duration": 5,
    "start_time": "2022-07-05T16:03:48.987Z"
   },
   {
    "duration": 6,
    "start_time": "2022-07-05T16:03:57.050Z"
   },
   {
    "duration": 409,
    "start_time": "2022-07-05T16:04:37.987Z"
   },
   {
    "duration": 40,
    "start_time": "2022-07-05T16:04:39.555Z"
   },
   {
    "duration": 65,
    "start_time": "2022-07-05T16:04:41.137Z"
   },
   {
    "duration": 11,
    "start_time": "2022-07-05T16:04:43.095Z"
   },
   {
    "duration": 21,
    "start_time": "2022-07-05T16:04:44.808Z"
   },
   {
    "duration": 7,
    "start_time": "2022-07-05T16:05:00.664Z"
   },
   {
    "duration": 5,
    "start_time": "2022-07-05T16:05:02.079Z"
   },
   {
    "duration": 4,
    "start_time": "2022-07-05T16:05:14.631Z"
   },
   {
    "duration": 9,
    "start_time": "2022-07-05T16:05:19.207Z"
   },
   {
    "duration": 5,
    "start_time": "2022-07-05T16:05:25.991Z"
   },
   {
    "duration": 4,
    "start_time": "2022-07-05T16:05:30.751Z"
   },
   {
    "duration": 5,
    "start_time": "2022-07-05T16:05:37.255Z"
   },
   {
    "duration": 9,
    "start_time": "2022-07-05T16:05:59.632Z"
   },
   {
    "duration": 4,
    "start_time": "2022-07-05T16:13:13.169Z"
   },
   {
    "duration": 4,
    "start_time": "2022-07-05T16:13:21.109Z"
   },
   {
    "duration": 6,
    "start_time": "2022-07-05T16:13:28.627Z"
   },
   {
    "duration": 6,
    "start_time": "2022-07-05T16:13:38.803Z"
   },
   {
    "duration": 13,
    "start_time": "2022-07-05T16:13:50.516Z"
   },
   {
    "duration": 6,
    "start_time": "2022-07-05T16:14:13.155Z"
   },
   {
    "duration": 7,
    "start_time": "2022-07-05T17:40:07.809Z"
   },
   {
    "duration": 710,
    "start_time": "2022-07-05T17:42:02.380Z"
   },
   {
    "duration": 7,
    "start_time": "2022-07-05T17:44:52.779Z"
   },
   {
    "duration": 13,
    "start_time": "2022-07-05T17:49:58.989Z"
   },
   {
    "duration": 50,
    "start_time": "2022-07-05T17:51:15.417Z"
   },
   {
    "duration": 57,
    "start_time": "2022-07-05T17:51:21.225Z"
   },
   {
    "duration": 66,
    "start_time": "2022-07-05T17:51:28.068Z"
   },
   {
    "duration": 4,
    "start_time": "2022-07-05T17:51:46.811Z"
   },
   {
    "duration": 8,
    "start_time": "2022-07-05T17:52:18.775Z"
   },
   {
    "duration": 14,
    "start_time": "2022-07-05T17:54:27.675Z"
   },
   {
    "duration": 13,
    "start_time": "2022-07-05T17:54:29.019Z"
   },
   {
    "duration": 209,
    "start_time": "2022-07-05T17:55:17.192Z"
   },
   {
    "duration": 7,
    "start_time": "2022-07-05T17:55:26.676Z"
   },
   {
    "duration": 8,
    "start_time": "2022-07-05T17:56:07.331Z"
   },
   {
    "duration": 9,
    "start_time": "2022-07-05T17:56:13.114Z"
   },
   {
    "duration": 6,
    "start_time": "2022-07-05T17:56:20.649Z"
   },
   {
    "duration": 7,
    "start_time": "2022-07-05T17:56:28.090Z"
   },
   {
    "duration": 13,
    "start_time": "2022-07-05T17:56:33.570Z"
   },
   {
    "duration": 11,
    "start_time": "2022-07-05T17:56:34.273Z"
   },
   {
    "duration": 3,
    "start_time": "2022-07-05T17:57:59.942Z"
   },
   {
    "duration": 11,
    "start_time": "2022-07-05T17:58:44.766Z"
   },
   {
    "duration": 13,
    "start_time": "2022-07-05T17:58:53.633Z"
   },
   {
    "duration": 13,
    "start_time": "2022-07-05T17:59:03.015Z"
   },
   {
    "duration": 6,
    "start_time": "2022-07-05T17:59:07.217Z"
   },
   {
    "duration": 11,
    "start_time": "2022-07-05T17:59:32.864Z"
   },
   {
    "duration": 11,
    "start_time": "2022-07-05T17:59:38.936Z"
   },
   {
    "duration": 11,
    "start_time": "2022-07-05T18:01:28.159Z"
   },
   {
    "duration": 4,
    "start_time": "2022-07-05T18:13:01.639Z"
   },
   {
    "duration": 5,
    "start_time": "2022-07-05T18:15:31.687Z"
   },
   {
    "duration": 9,
    "start_time": "2022-07-05T18:17:13.784Z"
   },
   {
    "duration": 9,
    "start_time": "2022-07-05T18:18:03.669Z"
   },
   {
    "duration": 12,
    "start_time": "2022-07-05T18:18:22.062Z"
   },
   {
    "duration": 12,
    "start_time": "2022-07-05T18:19:06.587Z"
   },
   {
    "duration": 11,
    "start_time": "2022-07-05T18:19:35.406Z"
   },
   {
    "duration": 66,
    "start_time": "2022-07-05T18:19:59.276Z"
   },
   {
    "duration": 7,
    "start_time": "2022-07-05T18:20:03.553Z"
   },
   {
    "duration": 15,
    "start_time": "2022-07-05T18:20:17.466Z"
   },
   {
    "duration": 11,
    "start_time": "2022-07-05T18:20:21.719Z"
   },
   {
    "duration": 9,
    "start_time": "2022-07-05T18:20:50.095Z"
   },
   {
    "duration": 14,
    "start_time": "2022-07-05T18:20:55.085Z"
   },
   {
    "duration": 10,
    "start_time": "2022-07-05T18:21:03.534Z"
   },
   {
    "duration": 8,
    "start_time": "2022-07-05T18:22:39.500Z"
   },
   {
    "duration": 20,
    "start_time": "2022-07-05T18:23:05.595Z"
   },
   {
    "duration": 18,
    "start_time": "2022-07-05T18:23:21.022Z"
   },
   {
    "duration": 13,
    "start_time": "2022-07-05T18:23:29.559Z"
   },
   {
    "duration": 14,
    "start_time": "2022-07-05T18:23:53.883Z"
   },
   {
    "duration": 9,
    "start_time": "2022-07-05T18:28:50.335Z"
   },
   {
    "duration": 3,
    "start_time": "2022-07-05T18:29:49.657Z"
   },
   {
    "duration": 7,
    "start_time": "2022-07-05T18:30:00.379Z"
   },
   {
    "duration": 12,
    "start_time": "2022-07-05T18:34:20.422Z"
   },
   {
    "duration": 9,
    "start_time": "2022-07-05T18:34:36.882Z"
   },
   {
    "duration": 5,
    "start_time": "2022-07-05T18:36:44.293Z"
   },
   {
    "duration": 8,
    "start_time": "2022-07-05T18:37:38.053Z"
   },
   {
    "duration": 8,
    "start_time": "2022-07-05T18:38:17.205Z"
   },
   {
    "duration": 1222,
    "start_time": "2022-07-05T18:46:43.303Z"
   },
   {
    "duration": 57,
    "start_time": "2022-07-05T18:46:44.527Z"
   },
   {
    "duration": 70,
    "start_time": "2022-07-05T18:46:44.585Z"
   },
   {
    "duration": 12,
    "start_time": "2022-07-05T18:46:44.658Z"
   },
   {
    "duration": 19,
    "start_time": "2022-07-05T18:46:44.674Z"
   },
   {
    "duration": 33,
    "start_time": "2022-07-05T18:46:44.694Z"
   },
   {
    "duration": 13,
    "start_time": "2022-07-05T18:46:44.729Z"
   },
   {
    "duration": 180,
    "start_time": "2022-07-05T18:46:44.745Z"
   },
   {
    "duration": 151,
    "start_time": "2022-07-05T18:46:44.928Z"
   },
   {
    "duration": 0,
    "start_time": "2022-07-05T18:46:45.081Z"
   },
   {
    "duration": 0,
    "start_time": "2022-07-05T18:46:45.083Z"
   },
   {
    "duration": 0,
    "start_time": "2022-07-05T18:46:45.085Z"
   },
   {
    "duration": 0,
    "start_time": "2022-07-05T18:46:45.087Z"
   },
   {
    "duration": 0,
    "start_time": "2022-07-05T18:46:45.089Z"
   },
   {
    "duration": 0,
    "start_time": "2022-07-05T18:46:45.090Z"
   },
   {
    "duration": 0,
    "start_time": "2022-07-05T18:46:45.092Z"
   },
   {
    "duration": 0,
    "start_time": "2022-07-05T18:46:45.093Z"
   },
   {
    "duration": 0,
    "start_time": "2022-07-05T18:46:45.094Z"
   },
   {
    "duration": 56,
    "start_time": "2022-07-05T18:47:26.634Z"
   },
   {
    "duration": 10,
    "start_time": "2022-07-05T18:47:41.829Z"
   },
   {
    "duration": 52,
    "start_time": "2022-07-05T18:47:48.989Z"
   },
   {
    "duration": 43,
    "start_time": "2022-07-05T18:48:07.875Z"
   },
   {
    "duration": 49,
    "start_time": "2022-07-05T18:48:27.203Z"
   },
   {
    "duration": 45,
    "start_time": "2022-07-05T18:48:29.539Z"
   },
   {
    "duration": 14,
    "start_time": "2022-07-05T18:48:32.828Z"
   },
   {
    "duration": 1172,
    "start_time": "2022-07-05T18:48:49.903Z"
   },
   {
    "duration": 43,
    "start_time": "2022-07-05T18:48:51.078Z"
   },
   {
    "duration": 72,
    "start_time": "2022-07-05T18:48:51.123Z"
   },
   {
    "duration": 36,
    "start_time": "2022-07-05T18:48:51.198Z"
   },
   {
    "duration": 20,
    "start_time": "2022-07-05T18:48:51.235Z"
   },
   {
    "duration": 6,
    "start_time": "2022-07-05T18:48:51.258Z"
   },
   {
    "duration": 8,
    "start_time": "2022-07-05T18:48:51.266Z"
   },
   {
    "duration": 51,
    "start_time": "2022-07-05T18:48:51.276Z"
   },
   {
    "duration": 99,
    "start_time": "2022-07-05T18:48:51.328Z"
   },
   {
    "duration": 95,
    "start_time": "2022-07-05T18:48:51.430Z"
   },
   {
    "duration": 5,
    "start_time": "2022-07-05T18:48:51.527Z"
   },
   {
    "duration": 98,
    "start_time": "2022-07-05T18:48:51.534Z"
   },
   {
    "duration": 15,
    "start_time": "2022-07-05T18:48:51.634Z"
   },
   {
    "duration": 85,
    "start_time": "2022-07-05T18:48:51.651Z"
   },
   {
    "duration": 85,
    "start_time": "2022-07-05T18:48:51.739Z"
   },
   {
    "duration": 11,
    "start_time": "2022-07-05T18:48:51.826Z"
   },
   {
    "duration": 15,
    "start_time": "2022-07-05T18:48:51.838Z"
   },
   {
    "duration": 10,
    "start_time": "2022-07-05T18:48:51.855Z"
   },
   {
    "duration": 77,
    "start_time": "2022-07-06T15:48:55.154Z"
   },
   {
    "duration": 87,
    "start_time": "2022-07-06T16:31:17.234Z"
   },
   {
    "duration": 1068,
    "start_time": "2022-07-06T16:38:06.981Z"
   },
   {
    "duration": 159,
    "start_time": "2022-07-06T16:38:08.051Z"
   },
   {
    "duration": 62,
    "start_time": "2022-07-06T16:38:08.212Z"
   },
   {
    "duration": 11,
    "start_time": "2022-07-06T16:38:08.276Z"
   },
   {
    "duration": 22,
    "start_time": "2022-07-06T16:38:08.289Z"
   },
   {
    "duration": 6,
    "start_time": "2022-07-06T16:38:08.313Z"
   },
   {
    "duration": 32,
    "start_time": "2022-07-06T16:38:08.320Z"
   },
   {
    "duration": 100,
    "start_time": "2022-07-06T16:38:08.354Z"
   },
   {
    "duration": 103,
    "start_time": "2022-07-06T16:38:08.455Z"
   },
   {
    "duration": 96,
    "start_time": "2022-07-06T16:38:08.561Z"
   },
   {
    "duration": 99,
    "start_time": "2022-07-06T16:38:08.660Z"
   },
   {
    "duration": 97,
    "start_time": "2022-07-06T16:38:08.761Z"
   },
   {
    "duration": 17,
    "start_time": "2022-07-06T16:38:08.861Z"
   },
   {
    "duration": 81,
    "start_time": "2022-07-06T16:38:08.881Z"
   },
   {
    "duration": 6,
    "start_time": "2022-07-06T16:38:08.963Z"
   },
   {
    "duration": 87,
    "start_time": "2022-07-06T16:38:08.971Z"
   },
   {
    "duration": 5,
    "start_time": "2022-07-06T16:38:09.061Z"
   },
   {
    "duration": 7,
    "start_time": "2022-07-06T16:38:09.067Z"
   }
  ],
  "kernelspec": {
   "display_name": "Python 3 (ipykernel)",
   "language": "python",
   "name": "python3"
  },
  "language_info": {
   "codemirror_mode": {
    "name": "ipython",
    "version": 3
   },
   "file_extension": ".py",
   "mimetype": "text/x-python",
   "name": "python",
   "nbconvert_exporter": "python",
   "pygments_lexer": "ipython3",
   "version": "3.10.4"
  },
  "toc": {
   "base_numbering": 1,
   "nav_menu": {},
   "number_sections": true,
   "sideBar": true,
   "skip_h1_title": true,
   "title_cell": "Содержание",
   "title_sidebar": "Contents",
   "toc_cell": true,
   "toc_position": {},
   "toc_section_display": true,
   "toc_window_display": true
  }
 },
 "nbformat": 4,
 "nbformat_minor": 4
}
