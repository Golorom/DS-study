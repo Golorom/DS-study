{
 "cells": [
  {
   "cell_type": "code",
   "execution_count": 1,
   "id": "3f70300f",
   "metadata": {},
   "outputs": [],
   "source": [
    "# !pip install pandas -U --user\n",
    "# !pip install seaborn -U --user"
   ]
  },
  {
   "cell_type": "code",
   "execution_count": 2,
   "id": "61b836a8-b0f1-45c5-8691-7271035c0e5e",
   "metadata": {},
   "outputs": [],
   "source": [
    "import numpy as np\n",
    "import pandas as pd\n",
    "import seaborn as sns\n",
    "import matplotlib.pyplot as plt\n",
    "from scipy import stats as st"
   ]
  },
  {
   "cell_type": "markdown",
   "id": "8ee956f2-c0d2-48d8-b0d3-f7a2a93a800b",
   "metadata": {},
   "source": [
    "# Сравнительное исследование тарифов"
   ]
  },
  {
   "cell_type": "markdown",
   "id": "cb77616b-95e3-4a77-af57-b5d3714d8440",
   "metadata": {},
   "source": [
    "**Описание проекта**\n",
    "\n",
    "Вы аналитик компании «Мегалайн» — федерального оператора сотовой связи.  \n",
    "\n",
    "Клиентам предлагают два тарифных плана: «Смарт» и «Ультра».  \n",
    "Чтобы скорректировать рекламный бюджет, коммерческий департамент хочет понять, какой тариф приносит больше денег.  \n",
    "\n",
    "Вам предстоит сделать предварительный анализ тарифов на небольшой выборке клиентов.  \n",
    "В вашем распоряжении данные 500 пользователей «Мегалайна»: кто они, откуда, каким тарифом пользуются, сколько звонков и сообщений каждый отправил за 2018 год.  \n",
    "Нужно проанализировать поведение клиентов и сделать вывод — какой тариф лучше."
   ]
  },
  {
   "cell_type": "markdown",
   "id": "a8359007-5b8b-4cd9-9a6f-905e641cff86",
   "metadata": {},
   "source": [
    "**Описание тарифов**\n",
    "\n",
    "**Тариф «Смарт»**  \n",
    "Ежемесячная плата: 550 рублей  \n",
    "Включено:\n",
    "- 500 минут разговора, 50 сообщений и 15 Гб интернет-трафика  \n",
    "\n",
    "Стоимость услуг сверх тарифного пакета:  \n",
    "- минута разговора: 3 рубля  \n",
    "- сообщение: 3 рубля  \n",
    "- 1 Гб интернет-трафика: 200 рублей\n",
    "\n",
    "**Тариф «Ультра»**  \n",
    "Ежемесячная плата: 1950 рублей  \n",
    "Включено 3000 минут разговора, 1000 сообщений и 30 Гб интернет-трафика  \n",
    "\n",
    "Стоимость услуг сверх тарифного пакета:  \n",
    "- минута разговора: 1 рубль  \n",
    "- сообщение: 1 рубль  \n",
    "- 1 Гб интернет-трафика: 150 рублей\n",
    "\n",
    "```Примечание: «Мегалайн» всегда округляет секунды до минут, а мегабайты — до гигабайт. Каждый звонок округляется отдельно: даже если он длился всего 1 секунду, будет засчитан как 1 минута.\n",
    "Для веб-трафика отдельные сессии не считаются. Вместо этого общая сумма за месяц округляется в бо́льшую сторону. Если абонент использует 1025 мегабайт в этом месяце, с него возьмут плату за 2 гигабайта.```"
   ]
  },
  {
   "cell_type": "markdown",
   "id": "60883cb9-2fa4-4075-b165-1ca02ee9361e",
   "metadata": {},
   "source": [
    "**Цель исследования**\n",
    "\n",
    "Проверить гипотезы:\n",
    "- средняя выручка пользователей тарифов «Ультра» и «Смарт» различаются;\n",
    "- средняя выручка пользователей из Москвы отличается от выручки пользователей из других регионов."
   ]
  },
  {
   "cell_type": "markdown",
   "id": "98d8491a-21ad-4a28-865c-94b283e5adbf",
   "metadata": {},
   "source": [
    "**Данные**\n",
    "\n",
    "`/datasets/users.csv` (информация о пользователях):\n",
    "- 'user_id' — уникальный идентификатор пользователя\n",
    "- 'first_name' — имя пользователя\n",
    "- 'last_name' — фамилия пользователя\n",
    "- 'age' — возраст пользователя (годы)\n",
    "- 'reg_date' — дата подключения тарифа (день, месяц, год)\n",
    "- 'churn_date' — дата прекращения пользования тарифом (если значение пропущено, то тариф ещё действовал на момент выгрузки данных)\n",
    "- 'city' — город проживания пользователя\n",
    "- 'tariff' — название тарифного плана\n",
    "\n",
    "`/datasets/calls.csv` (информация о звонках):\n",
    "\n",
    "- 'id' — уникальный номер звонка\n",
    "- 'call_date' — дата звонка\n",
    "- 'duration' — длительность звонка в минутах\n",
    "- 'user_id' — идентификатор пользователя, сделавшего звонок\n",
    "\n",
    "`/datasets/internet.csv` (информация об интернет-сессиях):\n",
    "- 'id' — уникальный номер сессии\n",
    "- 'mb_used' — объём потраченного за сессию интернет-трафика (в мегабайтах)\n",
    "- 'session_date' — дата интернет-сессии\n",
    "- 'user_id' — идентификатор пользователя\n",
    "\n",
    "`/datasets/messages.csv` (информация о сообщениях):\n",
    "- 'id' — уникальный номер сообщения\n",
    "- 'message_date' — дата сообщения\n",
    "- 'user_id' — идентификатор пользователя, отправившего сообщение\n",
    "\n",
    "`/datasets/tariffs.csv` (информация о тарифах):\n",
    "- 'tariff_name' — название тарифа\n",
    "- 'rub_monthly_fee' — ежемесячная абонентская плата в рублях\n",
    "- 'minutes_included' — количество минут разговора в месяц, включённых в абонентскую плату\n",
    "- 'messages_included' — количество сообщений в месяц, включённых в абонентскую плату\n",
    "- 'mb_per_month_included' — объём интернет-трафика, включённого в абонентскую плату (в мегабайтах)\n",
    "- 'rub_per_minute' — стоимость минуты разговора сверх тарифного пакета (например, если в тарифе 100 минут разговора в месяц, то со 101 минуты будет взиматься плата)\n",
    "- 'rub_per_message' — стоимость отправки сообщения сверх тарифного пакета\n",
    "- 'rub_per_gb' — стоимость дополнительного гигабайта интернет-трафика сверх тарифного пакета (1 гигабайт = 1024 мегабайта)\n"
   ]
  },
  {
   "cell_type": "markdown",
   "id": "7e7b4e37-a863-4115-9eea-7036ce3e56ea",
   "metadata": {},
   "source": [
    "## Шаг 1. Обзор данных"
   ]
  },
  {
   "cell_type": "markdown",
   "id": "a0b6b360-a74f-4a13-b5a7-14ee8a901453",
   "metadata": {},
   "source": [
    "Открою файл с данными и изучу общую информацию."
   ]
  },
  {
   "cell_type": "code",
   "execution_count": 3,
   "id": "a8392d9d-3cfb-4e30-aeca-d89b548f6ed9",
   "metadata": {},
   "outputs": [
    {
     "name": "stdout",
     "output_type": "stream",
     "text": [
      "FileNotFoundError(2, 'No such file or directory')\n"
     ]
    }
   ],
   "source": [
    "try:\n",
    "    # читаю датасеты\n",
    "    users_data = pd.read_csv('datasets/users.csv')\n",
    "    calls_data = pd.read_csv('datasets/calls.csv')\n",
    "    internet_data = pd.read_csv('datasets/internet.csv')\n",
    "    messages_data = pd.read_csv('datasets/messages.csv')\n",
    "    tariffs_data = pd.read_csv('datasets/tariffs.csv')\n",
    "except FileNotFoundError as e:\n",
    "    print(repr(e))\n",
    "    users_data = pd.read_csv('/datasets/users.csv')\n",
    "    calls_data = pd.read_csv('/datasets/calls.csv')\n",
    "    internet_data = pd.read_csv('/datasets/internet.csv')\n",
    "    messages_data = pd.read_csv('/datasets/messages.csv')\n",
    "    tariffs_data = pd.read_csv('/datasets/tariffs.csv')"
   ]
  },
  {
   "cell_type": "markdown",
   "id": "355acd22-89ab-41ba-8c8e-f717994fccd3",
   "metadata": {},
   "source": [
    "Последовательно ознакомлюсь с каждым из датасетов."
   ]
  },
  {
   "cell_type": "code",
   "execution_count": 4,
   "id": "e35b34c9-cd34-46c6-a0b2-f68d6551c6c8",
   "metadata": {},
   "outputs": [
    {
     "name": "stdout",
     "output_type": "stream",
     "text": [
      "<class 'pandas.core.frame.DataFrame'>\n",
      "RangeIndex: 500 entries, 0 to 499\n",
      "Data columns (total 8 columns):\n",
      " #   Column      Non-Null Count  Dtype \n",
      "---  ------      --------------  ----- \n",
      " 0   user_id     500 non-null    int64 \n",
      " 1   age         500 non-null    int64 \n",
      " 2   churn_date  38 non-null     object\n",
      " 3   city        500 non-null    object\n",
      " 4   first_name  500 non-null    object\n",
      " 5   last_name   500 non-null    object\n",
      " 6   reg_date    500 non-null    object\n",
      " 7   tariff      500 non-null    object\n",
      "dtypes: int64(2), object(6)\n",
      "memory usage: 31.4+ KB\n"
     ]
    },
    {
     "data": {
      "text/html": [
       "<div>\n",
       "<style scoped>\n",
       "    .dataframe tbody tr th:only-of-type {\n",
       "        vertical-align: middle;\n",
       "    }\n",
       "\n",
       "    .dataframe tbody tr th {\n",
       "        vertical-align: top;\n",
       "    }\n",
       "\n",
       "    .dataframe thead th {\n",
       "        text-align: right;\n",
       "    }\n",
       "</style>\n",
       "<table border=\"1\" class=\"dataframe\">\n",
       "  <thead>\n",
       "    <tr style=\"text-align: right;\">\n",
       "      <th></th>\n",
       "      <th>user_id</th>\n",
       "      <th>age</th>\n",
       "      <th>churn_date</th>\n",
       "      <th>city</th>\n",
       "      <th>first_name</th>\n",
       "      <th>last_name</th>\n",
       "      <th>reg_date</th>\n",
       "      <th>tariff</th>\n",
       "    </tr>\n",
       "  </thead>\n",
       "  <tbody>\n",
       "    <tr>\n",
       "      <th>0</th>\n",
       "      <td>1000</td>\n",
       "      <td>52</td>\n",
       "      <td>NaN</td>\n",
       "      <td>Краснодар</td>\n",
       "      <td>Рафаил</td>\n",
       "      <td>Верещагин</td>\n",
       "      <td>2018-05-25</td>\n",
       "      <td>ultra</td>\n",
       "    </tr>\n",
       "    <tr>\n",
       "      <th>1</th>\n",
       "      <td>1001</td>\n",
       "      <td>41</td>\n",
       "      <td>NaN</td>\n",
       "      <td>Москва</td>\n",
       "      <td>Иван</td>\n",
       "      <td>Ежов</td>\n",
       "      <td>2018-11-01</td>\n",
       "      <td>smart</td>\n",
       "    </tr>\n",
       "    <tr>\n",
       "      <th>2</th>\n",
       "      <td>1002</td>\n",
       "      <td>59</td>\n",
       "      <td>NaN</td>\n",
       "      <td>Стерлитамак</td>\n",
       "      <td>Евгений</td>\n",
       "      <td>Абрамович</td>\n",
       "      <td>2018-06-17</td>\n",
       "      <td>smart</td>\n",
       "    </tr>\n",
       "    <tr>\n",
       "      <th>3</th>\n",
       "      <td>1003</td>\n",
       "      <td>23</td>\n",
       "      <td>NaN</td>\n",
       "      <td>Москва</td>\n",
       "      <td>Белла</td>\n",
       "      <td>Белякова</td>\n",
       "      <td>2018-08-17</td>\n",
       "      <td>ultra</td>\n",
       "    </tr>\n",
       "    <tr>\n",
       "      <th>4</th>\n",
       "      <td>1004</td>\n",
       "      <td>68</td>\n",
       "      <td>NaN</td>\n",
       "      <td>Новокузнецк</td>\n",
       "      <td>Татьяна</td>\n",
       "      <td>Авдеенко</td>\n",
       "      <td>2018-05-14</td>\n",
       "      <td>ultra</td>\n",
       "    </tr>\n",
       "  </tbody>\n",
       "</table>\n",
       "</div>"
      ],
      "text/plain": [
       "   user_id  age churn_date         city first_name  last_name    reg_date  \\\n",
       "0     1000   52        NaN    Краснодар     Рафаил  Верещагин  2018-05-25   \n",
       "1     1001   41        NaN       Москва       Иван       Ежов  2018-11-01   \n",
       "2     1002   59        NaN  Стерлитамак    Евгений  Абрамович  2018-06-17   \n",
       "3     1003   23        NaN       Москва      Белла   Белякова  2018-08-17   \n",
       "4     1004   68        NaN  Новокузнецк    Татьяна   Авдеенко  2018-05-14   \n",
       "\n",
       "  tariff  \n",
       "0  ultra  \n",
       "1  smart  \n",
       "2  smart  \n",
       "3  ultra  \n",
       "4  ultra  "
      ]
     },
     "metadata": {},
     "output_type": "display_data"
    },
    {
     "data": {
      "text/plain": [
       "Index(['user_id', 'age', 'churn_date', 'city', 'first_name', 'last_name',\n",
       "       'reg_date', 'tariff'],\n",
       "      dtype='object')"
      ]
     },
     "metadata": {},
     "output_type": "display_data"
    },
    {
     "data": {
      "text/plain": [
       "smart    351\n",
       "ultra    149\n",
       "Name: tariff, dtype: int64"
      ]
     },
     "metadata": {},
     "output_type": "display_data"
    },
    {
     "data": {
      "text/html": [
       "<div>\n",
       "<style scoped>\n",
       "    .dataframe tbody tr th:only-of-type {\n",
       "        vertical-align: middle;\n",
       "    }\n",
       "\n",
       "    .dataframe tbody tr th {\n",
       "        vertical-align: top;\n",
       "    }\n",
       "\n",
       "    .dataframe thead th {\n",
       "        text-align: right;\n",
       "    }\n",
       "</style>\n",
       "<table border=\"1\" class=\"dataframe\">\n",
       "  <thead>\n",
       "    <tr style=\"text-align: right;\">\n",
       "      <th></th>\n",
       "      <th>user_id</th>\n",
       "      <th>age</th>\n",
       "    </tr>\n",
       "  </thead>\n",
       "  <tbody>\n",
       "    <tr>\n",
       "      <th>count</th>\n",
       "      <td>500.000000</td>\n",
       "      <td>500.00000</td>\n",
       "    </tr>\n",
       "    <tr>\n",
       "      <th>mean</th>\n",
       "      <td>1249.500000</td>\n",
       "      <td>46.58800</td>\n",
       "    </tr>\n",
       "    <tr>\n",
       "      <th>std</th>\n",
       "      <td>144.481833</td>\n",
       "      <td>16.66763</td>\n",
       "    </tr>\n",
       "    <tr>\n",
       "      <th>min</th>\n",
       "      <td>1000.000000</td>\n",
       "      <td>18.00000</td>\n",
       "    </tr>\n",
       "    <tr>\n",
       "      <th>25%</th>\n",
       "      <td>1124.750000</td>\n",
       "      <td>32.00000</td>\n",
       "    </tr>\n",
       "    <tr>\n",
       "      <th>50%</th>\n",
       "      <td>1249.500000</td>\n",
       "      <td>46.00000</td>\n",
       "    </tr>\n",
       "    <tr>\n",
       "      <th>75%</th>\n",
       "      <td>1374.250000</td>\n",
       "      <td>62.00000</td>\n",
       "    </tr>\n",
       "    <tr>\n",
       "      <th>max</th>\n",
       "      <td>1499.000000</td>\n",
       "      <td>75.00000</td>\n",
       "    </tr>\n",
       "  </tbody>\n",
       "</table>\n",
       "</div>"
      ],
      "text/plain": [
       "           user_id        age\n",
       "count   500.000000  500.00000\n",
       "mean   1249.500000   46.58800\n",
       "std     144.481833   16.66763\n",
       "min    1000.000000   18.00000\n",
       "25%    1124.750000   32.00000\n",
       "50%    1249.500000   46.00000\n",
       "75%    1374.250000   62.00000\n",
       "max    1499.000000   75.00000"
      ]
     },
     "execution_count": 4,
     "metadata": {},
     "output_type": "execute_result"
    }
   ],
   "source": [
    "# получаю общую сводку\n",
    "users_data.info()\n",
    "\n",
    "# проверю на корректный вывод\n",
    "display(users_data.head())\n",
    "\n",
    "# проверяю имена колонок на пробелы\n",
    "display(users_data.columns)\n",
    "\n",
    "# проверю нет ли лишних значений в столбце ['tariff'], проверим величину выборки для каждого\n",
    "display(users_data['tariff'].value_counts())\n",
    "\n",
    "# описание\n",
    "users_data.describe() "
   ]
  },
  {
   "cell_type": "markdown",
   "id": "8a56c1a4-01fb-42c1-8972-40fbefe61f35",
   "metadata": {},
   "source": [
    "Предварительные замечания по датасету 'users':\n",
    "- столбцы ['churn_date'] и ['reg_date'] можно перевести в формат datetime, но они не понадобятся для исследования. Я не буду отбрасывать выручку за неполные месяцы - правило начисление абонентской платы за неполный месяц не было задано, поэтмоу считаю что пользователь платит полностью, к тому же даже за неполный месяц пользователь мог выйти за пределы тарифного лимита;\n",
    "- столбцы ['first_name'] и ['last_name'] не требуются для для исследования (Но могуть быть использованы для группировки потребителей по полу, для дополнения исследовательского анализа).\n",
    "- столбец ['age'] также не требуется для выполнения поставленных задач (Но может быть использован для группировкки потребителей по возрасту, для дополнения исследовательского анализа)."
   ]
  },
  {
   "cell_type": "code",
   "execution_count": 5,
   "id": "6bb6bfe7-bd4d-42a2-bf03-0ebd4dec97f5",
   "metadata": {},
   "outputs": [
    {
     "name": "stdout",
     "output_type": "stream",
     "text": [
      "<class 'pandas.core.frame.DataFrame'>\n",
      "RangeIndex: 202607 entries, 0 to 202606\n",
      "Data columns (total 4 columns):\n",
      " #   Column     Non-Null Count   Dtype  \n",
      "---  ------     --------------   -----  \n",
      " 0   id         202607 non-null  object \n",
      " 1   call_date  202607 non-null  object \n",
      " 2   duration   202607 non-null  float64\n",
      " 3   user_id    202607 non-null  int64  \n",
      "dtypes: float64(1), int64(1), object(2)\n",
      "memory usage: 6.2+ MB\n"
     ]
    },
    {
     "data": {
      "text/html": [
       "<div>\n",
       "<style scoped>\n",
       "    .dataframe tbody tr th:only-of-type {\n",
       "        vertical-align: middle;\n",
       "    }\n",
       "\n",
       "    .dataframe tbody tr th {\n",
       "        vertical-align: top;\n",
       "    }\n",
       "\n",
       "    .dataframe thead th {\n",
       "        text-align: right;\n",
       "    }\n",
       "</style>\n",
       "<table border=\"1\" class=\"dataframe\">\n",
       "  <thead>\n",
       "    <tr style=\"text-align: right;\">\n",
       "      <th></th>\n",
       "      <th>id</th>\n",
       "      <th>call_date</th>\n",
       "      <th>duration</th>\n",
       "      <th>user_id</th>\n",
       "    </tr>\n",
       "  </thead>\n",
       "  <tbody>\n",
       "    <tr>\n",
       "      <th>0</th>\n",
       "      <td>1000_0</td>\n",
       "      <td>2018-07-25</td>\n",
       "      <td>0.00</td>\n",
       "      <td>1000</td>\n",
       "    </tr>\n",
       "    <tr>\n",
       "      <th>1</th>\n",
       "      <td>1000_1</td>\n",
       "      <td>2018-08-17</td>\n",
       "      <td>0.00</td>\n",
       "      <td>1000</td>\n",
       "    </tr>\n",
       "    <tr>\n",
       "      <th>2</th>\n",
       "      <td>1000_2</td>\n",
       "      <td>2018-06-11</td>\n",
       "      <td>2.85</td>\n",
       "      <td>1000</td>\n",
       "    </tr>\n",
       "    <tr>\n",
       "      <th>3</th>\n",
       "      <td>1000_3</td>\n",
       "      <td>2018-09-21</td>\n",
       "      <td>13.80</td>\n",
       "      <td>1000</td>\n",
       "    </tr>\n",
       "    <tr>\n",
       "      <th>4</th>\n",
       "      <td>1000_4</td>\n",
       "      <td>2018-12-15</td>\n",
       "      <td>5.18</td>\n",
       "      <td>1000</td>\n",
       "    </tr>\n",
       "  </tbody>\n",
       "</table>\n",
       "</div>"
      ],
      "text/plain": [
       "       id   call_date  duration  user_id\n",
       "0  1000_0  2018-07-25      0.00     1000\n",
       "1  1000_1  2018-08-17      0.00     1000\n",
       "2  1000_2  2018-06-11      2.85     1000\n",
       "3  1000_3  2018-09-21     13.80     1000\n",
       "4  1000_4  2018-12-15      5.18     1000"
      ]
     },
     "metadata": {},
     "output_type": "display_data"
    },
    {
     "data": {
      "text/plain": [
       "Index(['id', 'call_date', 'duration', 'user_id'], dtype='object')"
      ]
     },
     "metadata": {},
     "output_type": "display_data"
    },
    {
     "data": {
      "text/html": [
       "<div>\n",
       "<style scoped>\n",
       "    .dataframe tbody tr th:only-of-type {\n",
       "        vertical-align: middle;\n",
       "    }\n",
       "\n",
       "    .dataframe tbody tr th {\n",
       "        vertical-align: top;\n",
       "    }\n",
       "\n",
       "    .dataframe thead th {\n",
       "        text-align: right;\n",
       "    }\n",
       "</style>\n",
       "<table border=\"1\" class=\"dataframe\">\n",
       "  <thead>\n",
       "    <tr style=\"text-align: right;\">\n",
       "      <th></th>\n",
       "      <th>duration</th>\n",
       "      <th>user_id</th>\n",
       "    </tr>\n",
       "  </thead>\n",
       "  <tbody>\n",
       "    <tr>\n",
       "      <th>count</th>\n",
       "      <td>202607.000000</td>\n",
       "      <td>202607.000000</td>\n",
       "    </tr>\n",
       "    <tr>\n",
       "      <th>mean</th>\n",
       "      <td>6.755887</td>\n",
       "      <td>1253.940619</td>\n",
       "    </tr>\n",
       "    <tr>\n",
       "      <th>std</th>\n",
       "      <td>5.843365</td>\n",
       "      <td>144.722751</td>\n",
       "    </tr>\n",
       "    <tr>\n",
       "      <th>min</th>\n",
       "      <td>0.000000</td>\n",
       "      <td>1000.000000</td>\n",
       "    </tr>\n",
       "    <tr>\n",
       "      <th>25%</th>\n",
       "      <td>1.300000</td>\n",
       "      <td>1126.000000</td>\n",
       "    </tr>\n",
       "    <tr>\n",
       "      <th>50%</th>\n",
       "      <td>6.000000</td>\n",
       "      <td>1260.000000</td>\n",
       "    </tr>\n",
       "    <tr>\n",
       "      <th>75%</th>\n",
       "      <td>10.700000</td>\n",
       "      <td>1379.000000</td>\n",
       "    </tr>\n",
       "    <tr>\n",
       "      <th>max</th>\n",
       "      <td>38.000000</td>\n",
       "      <td>1499.000000</td>\n",
       "    </tr>\n",
       "  </tbody>\n",
       "</table>\n",
       "</div>"
      ],
      "text/plain": [
       "            duration        user_id\n",
       "count  202607.000000  202607.000000\n",
       "mean        6.755887    1253.940619\n",
       "std         5.843365     144.722751\n",
       "min         0.000000    1000.000000\n",
       "25%         1.300000    1126.000000\n",
       "50%         6.000000    1260.000000\n",
       "75%        10.700000    1379.000000\n",
       "max        38.000000    1499.000000"
      ]
     },
     "execution_count": 5,
     "metadata": {},
     "output_type": "execute_result"
    }
   ],
   "source": [
    "# получаю общую сводку\n",
    "calls_data.info()\n",
    "\n",
    "# проверю на корректный вывод\n",
    "display(calls_data.head())\n",
    "\n",
    "# проверяю имена колонок на пробелы\n",
    "display(calls_data.columns)\n",
    "\n",
    "# описание\n",
    "calls_data.describe() "
   ]
  },
  {
   "cell_type": "markdown",
   "id": "9e07ed7f-3c7a-49cc-8415-f34328a5651b",
   "metadata": {},
   "source": [
    "Предварительные замечания по датасету 'calls':\n",
    "- следует перевести столбец 'call_date' в формат datetime;\n",
    "- стобец 'duration' необходимо перевести в формат int с округлением в большую сторону (до целых минут);\n",
    "- колонка ['id'] не требуется для исследования, сессии можно идентифицировать по дате и значению ['user_id']."
   ]
  },
  {
   "cell_type": "code",
   "execution_count": 6,
   "id": "fae369ae-f19f-4449-85f8-1007424cc71a",
   "metadata": {},
   "outputs": [
    {
     "name": "stdout",
     "output_type": "stream",
     "text": [
      "<class 'pandas.core.frame.DataFrame'>\n",
      "RangeIndex: 149396 entries, 0 to 149395\n",
      "Data columns (total 5 columns):\n",
      " #   Column        Non-Null Count   Dtype  \n",
      "---  ------        --------------   -----  \n",
      " 0   Unnamed: 0    149396 non-null  int64  \n",
      " 1   id            149396 non-null  object \n",
      " 2   mb_used       149396 non-null  float64\n",
      " 3   session_date  149396 non-null  object \n",
      " 4   user_id       149396 non-null  int64  \n",
      "dtypes: float64(1), int64(2), object(2)\n",
      "memory usage: 5.7+ MB\n"
     ]
    },
    {
     "data": {
      "text/html": [
       "<div>\n",
       "<style scoped>\n",
       "    .dataframe tbody tr th:only-of-type {\n",
       "        vertical-align: middle;\n",
       "    }\n",
       "\n",
       "    .dataframe tbody tr th {\n",
       "        vertical-align: top;\n",
       "    }\n",
       "\n",
       "    .dataframe thead th {\n",
       "        text-align: right;\n",
       "    }\n",
       "</style>\n",
       "<table border=\"1\" class=\"dataframe\">\n",
       "  <thead>\n",
       "    <tr style=\"text-align: right;\">\n",
       "      <th></th>\n",
       "      <th>Unnamed: 0</th>\n",
       "      <th>id</th>\n",
       "      <th>mb_used</th>\n",
       "      <th>session_date</th>\n",
       "      <th>user_id</th>\n",
       "    </tr>\n",
       "  </thead>\n",
       "  <tbody>\n",
       "    <tr>\n",
       "      <th>0</th>\n",
       "      <td>0</td>\n",
       "      <td>1000_0</td>\n",
       "      <td>112.95</td>\n",
       "      <td>2018-11-25</td>\n",
       "      <td>1000</td>\n",
       "    </tr>\n",
       "    <tr>\n",
       "      <th>1</th>\n",
       "      <td>1</td>\n",
       "      <td>1000_1</td>\n",
       "      <td>1052.81</td>\n",
       "      <td>2018-09-07</td>\n",
       "      <td>1000</td>\n",
       "    </tr>\n",
       "    <tr>\n",
       "      <th>2</th>\n",
       "      <td>2</td>\n",
       "      <td>1000_2</td>\n",
       "      <td>1197.26</td>\n",
       "      <td>2018-06-25</td>\n",
       "      <td>1000</td>\n",
       "    </tr>\n",
       "    <tr>\n",
       "      <th>3</th>\n",
       "      <td>3</td>\n",
       "      <td>1000_3</td>\n",
       "      <td>550.27</td>\n",
       "      <td>2018-08-22</td>\n",
       "      <td>1000</td>\n",
       "    </tr>\n",
       "    <tr>\n",
       "      <th>4</th>\n",
       "      <td>4</td>\n",
       "      <td>1000_4</td>\n",
       "      <td>302.56</td>\n",
       "      <td>2018-09-24</td>\n",
       "      <td>1000</td>\n",
       "    </tr>\n",
       "  </tbody>\n",
       "</table>\n",
       "</div>"
      ],
      "text/plain": [
       "   Unnamed: 0      id  mb_used session_date  user_id\n",
       "0           0  1000_0   112.95   2018-11-25     1000\n",
       "1           1  1000_1  1052.81   2018-09-07     1000\n",
       "2           2  1000_2  1197.26   2018-06-25     1000\n",
       "3           3  1000_3   550.27   2018-08-22     1000\n",
       "4           4  1000_4   302.56   2018-09-24     1000"
      ]
     },
     "metadata": {},
     "output_type": "display_data"
    },
    {
     "data": {
      "text/plain": [
       "Index(['Unnamed: 0', 'id', 'mb_used', 'session_date', 'user_id'], dtype='object')"
      ]
     },
     "metadata": {},
     "output_type": "display_data"
    },
    {
     "data": {
      "text/html": [
       "<div>\n",
       "<style scoped>\n",
       "    .dataframe tbody tr th:only-of-type {\n",
       "        vertical-align: middle;\n",
       "    }\n",
       "\n",
       "    .dataframe tbody tr th {\n",
       "        vertical-align: top;\n",
       "    }\n",
       "\n",
       "    .dataframe thead th {\n",
       "        text-align: right;\n",
       "    }\n",
       "</style>\n",
       "<table border=\"1\" class=\"dataframe\">\n",
       "  <thead>\n",
       "    <tr style=\"text-align: right;\">\n",
       "      <th></th>\n",
       "      <th>Unnamed: 0</th>\n",
       "      <th>mb_used</th>\n",
       "      <th>user_id</th>\n",
       "    </tr>\n",
       "  </thead>\n",
       "  <tbody>\n",
       "    <tr>\n",
       "      <th>count</th>\n",
       "      <td>149396.000000</td>\n",
       "      <td>149396.000000</td>\n",
       "      <td>149396.000000</td>\n",
       "    </tr>\n",
       "    <tr>\n",
       "      <th>mean</th>\n",
       "      <td>74697.500000</td>\n",
       "      <td>370.192426</td>\n",
       "      <td>1252.099842</td>\n",
       "    </tr>\n",
       "    <tr>\n",
       "      <th>std</th>\n",
       "      <td>43127.054745</td>\n",
       "      <td>278.300951</td>\n",
       "      <td>144.050823</td>\n",
       "    </tr>\n",
       "    <tr>\n",
       "      <th>min</th>\n",
       "      <td>0.000000</td>\n",
       "      <td>0.000000</td>\n",
       "      <td>1000.000000</td>\n",
       "    </tr>\n",
       "    <tr>\n",
       "      <th>25%</th>\n",
       "      <td>37348.750000</td>\n",
       "      <td>138.187500</td>\n",
       "      <td>1130.000000</td>\n",
       "    </tr>\n",
       "    <tr>\n",
       "      <th>50%</th>\n",
       "      <td>74697.500000</td>\n",
       "      <td>348.015000</td>\n",
       "      <td>1251.000000</td>\n",
       "    </tr>\n",
       "    <tr>\n",
       "      <th>75%</th>\n",
       "      <td>112046.250000</td>\n",
       "      <td>559.552500</td>\n",
       "      <td>1380.000000</td>\n",
       "    </tr>\n",
       "    <tr>\n",
       "      <th>max</th>\n",
       "      <td>149395.000000</td>\n",
       "      <td>1724.830000</td>\n",
       "      <td>1499.000000</td>\n",
       "    </tr>\n",
       "  </tbody>\n",
       "</table>\n",
       "</div>"
      ],
      "text/plain": [
       "          Unnamed: 0        mb_used        user_id\n",
       "count  149396.000000  149396.000000  149396.000000\n",
       "mean    74697.500000     370.192426    1252.099842\n",
       "std     43127.054745     278.300951     144.050823\n",
       "min         0.000000       0.000000    1000.000000\n",
       "25%     37348.750000     138.187500    1130.000000\n",
       "50%     74697.500000     348.015000    1251.000000\n",
       "75%    112046.250000     559.552500    1380.000000\n",
       "max    149395.000000    1724.830000    1499.000000"
      ]
     },
     "execution_count": 6,
     "metadata": {},
     "output_type": "execute_result"
    }
   ],
   "source": [
    "# получаю общую сводку\n",
    "internet_data.info()\n",
    "\n",
    "# проверю на корректный вывод\n",
    "display(internet_data.head())\n",
    "\n",
    "# проверяю имена колонок на пробелы\n",
    "display(internet_data.columns)\n",
    "\n",
    "# описание\n",
    "internet_data.describe() "
   ]
  },
  {
   "cell_type": "markdown",
   "id": "ceab0e49-0d01-4aeb-91ce-69839dea594a",
   "metadata": {},
   "source": [
    "Предварительные замечания по датасету 'internet':\n",
    "- следует перевести столбец 'session_date' в формат datetime;\n",
    "- колонка 'Unnamed: 0' незадокументирована и явно содержит значения индекса строк, можно удалить;\n",
    "- колонка ['id'] не требуется для исследования, сессии можно идентифицировать по дате и значению ['user_id'];\n",
    "- указано потребление траффика за сессию, придется сводить данные по году-месяцам для каждого user_id."
   ]
  },
  {
   "cell_type": "code",
   "execution_count": 7,
   "id": "97116a9c-1118-4e03-8c5e-d9a0d4d4ad27",
   "metadata": {},
   "outputs": [
    {
     "name": "stdout",
     "output_type": "stream",
     "text": [
      "<class 'pandas.core.frame.DataFrame'>\n",
      "RangeIndex: 123036 entries, 0 to 123035\n",
      "Data columns (total 3 columns):\n",
      " #   Column        Non-Null Count   Dtype \n",
      "---  ------        --------------   ----- \n",
      " 0   id            123036 non-null  object\n",
      " 1   message_date  123036 non-null  object\n",
      " 2   user_id       123036 non-null  int64 \n",
      "dtypes: int64(1), object(2)\n",
      "memory usage: 2.8+ MB\n"
     ]
    },
    {
     "data": {
      "text/html": [
       "<div>\n",
       "<style scoped>\n",
       "    .dataframe tbody tr th:only-of-type {\n",
       "        vertical-align: middle;\n",
       "    }\n",
       "\n",
       "    .dataframe tbody tr th {\n",
       "        vertical-align: top;\n",
       "    }\n",
       "\n",
       "    .dataframe thead th {\n",
       "        text-align: right;\n",
       "    }\n",
       "</style>\n",
       "<table border=\"1\" class=\"dataframe\">\n",
       "  <thead>\n",
       "    <tr style=\"text-align: right;\">\n",
       "      <th></th>\n",
       "      <th>id</th>\n",
       "      <th>message_date</th>\n",
       "      <th>user_id</th>\n",
       "    </tr>\n",
       "  </thead>\n",
       "  <tbody>\n",
       "    <tr>\n",
       "      <th>0</th>\n",
       "      <td>1000_0</td>\n",
       "      <td>2018-06-27</td>\n",
       "      <td>1000</td>\n",
       "    </tr>\n",
       "    <tr>\n",
       "      <th>1</th>\n",
       "      <td>1000_1</td>\n",
       "      <td>2018-10-08</td>\n",
       "      <td>1000</td>\n",
       "    </tr>\n",
       "    <tr>\n",
       "      <th>2</th>\n",
       "      <td>1000_2</td>\n",
       "      <td>2018-08-04</td>\n",
       "      <td>1000</td>\n",
       "    </tr>\n",
       "    <tr>\n",
       "      <th>3</th>\n",
       "      <td>1000_3</td>\n",
       "      <td>2018-06-16</td>\n",
       "      <td>1000</td>\n",
       "    </tr>\n",
       "    <tr>\n",
       "      <th>4</th>\n",
       "      <td>1000_4</td>\n",
       "      <td>2018-12-05</td>\n",
       "      <td>1000</td>\n",
       "    </tr>\n",
       "  </tbody>\n",
       "</table>\n",
       "</div>"
      ],
      "text/plain": [
       "       id message_date  user_id\n",
       "0  1000_0   2018-06-27     1000\n",
       "1  1000_1   2018-10-08     1000\n",
       "2  1000_2   2018-08-04     1000\n",
       "3  1000_3   2018-06-16     1000\n",
       "4  1000_4   2018-12-05     1000"
      ]
     },
     "metadata": {},
     "output_type": "display_data"
    },
    {
     "data": {
      "text/plain": [
       "Index(['id', 'message_date', 'user_id'], dtype='object')"
      ]
     },
     "metadata": {},
     "output_type": "display_data"
    },
    {
     "data": {
      "text/html": [
       "<div>\n",
       "<style scoped>\n",
       "    .dataframe tbody tr th:only-of-type {\n",
       "        vertical-align: middle;\n",
       "    }\n",
       "\n",
       "    .dataframe tbody tr th {\n",
       "        vertical-align: top;\n",
       "    }\n",
       "\n",
       "    .dataframe thead th {\n",
       "        text-align: right;\n",
       "    }\n",
       "</style>\n",
       "<table border=\"1\" class=\"dataframe\">\n",
       "  <thead>\n",
       "    <tr style=\"text-align: right;\">\n",
       "      <th></th>\n",
       "      <th>user_id</th>\n",
       "    </tr>\n",
       "  </thead>\n",
       "  <tbody>\n",
       "    <tr>\n",
       "      <th>count</th>\n",
       "      <td>123036.000000</td>\n",
       "    </tr>\n",
       "    <tr>\n",
       "      <th>mean</th>\n",
       "      <td>1256.989410</td>\n",
       "    </tr>\n",
       "    <tr>\n",
       "      <th>std</th>\n",
       "      <td>143.523967</td>\n",
       "    </tr>\n",
       "    <tr>\n",
       "      <th>min</th>\n",
       "      <td>1000.000000</td>\n",
       "    </tr>\n",
       "    <tr>\n",
       "      <th>25%</th>\n",
       "      <td>1134.000000</td>\n",
       "    </tr>\n",
       "    <tr>\n",
       "      <th>50%</th>\n",
       "      <td>1271.000000</td>\n",
       "    </tr>\n",
       "    <tr>\n",
       "      <th>75%</th>\n",
       "      <td>1381.000000</td>\n",
       "    </tr>\n",
       "    <tr>\n",
       "      <th>max</th>\n",
       "      <td>1499.000000</td>\n",
       "    </tr>\n",
       "  </tbody>\n",
       "</table>\n",
       "</div>"
      ],
      "text/plain": [
       "             user_id\n",
       "count  123036.000000\n",
       "mean     1256.989410\n",
       "std       143.523967\n",
       "min      1000.000000\n",
       "25%      1134.000000\n",
       "50%      1271.000000\n",
       "75%      1381.000000\n",
       "max      1499.000000"
      ]
     },
     "execution_count": 7,
     "metadata": {},
     "output_type": "execute_result"
    }
   ],
   "source": [
    "# получаю общую сводку\n",
    "messages_data.info()\n",
    "\n",
    "# проверю на корректный вывод\n",
    "display(messages_data.head())\n",
    "\n",
    "# проверяю имена колонок на пробелы\n",
    "display(messages_data.columns)\n",
    "\n",
    "# описание\n",
    "messages_data.describe() "
   ]
  },
  {
   "cell_type": "markdown",
   "id": "370c9cfc-5cf8-41ee-add4-359ba30f9918",
   "metadata": {},
   "source": [
    "Предварительные замечания по датасету 'messages':\n",
    "- следует перевести столбец 'message_date' в формат datetime;\n",
    "- колонка ['id'] не требуется для исследования, сессии можно идентифицировать по дате и значению ['user_id']."
   ]
  },
  {
   "cell_type": "code",
   "execution_count": 8,
   "id": "3adccc76-7fd0-4a7e-8447-1ff1330bce5c",
   "metadata": {},
   "outputs": [
    {
     "name": "stdout",
     "output_type": "stream",
     "text": [
      "<class 'pandas.core.frame.DataFrame'>\n",
      "RangeIndex: 2 entries, 0 to 1\n",
      "Data columns (total 8 columns):\n",
      " #   Column                 Non-Null Count  Dtype \n",
      "---  ------                 --------------  ----- \n",
      " 0   messages_included      2 non-null      int64 \n",
      " 1   mb_per_month_included  2 non-null      int64 \n",
      " 2   minutes_included       2 non-null      int64 \n",
      " 3   rub_monthly_fee        2 non-null      int64 \n",
      " 4   rub_per_gb             2 non-null      int64 \n",
      " 5   rub_per_message        2 non-null      int64 \n",
      " 6   rub_per_minute         2 non-null      int64 \n",
      " 7   tariff_name            2 non-null      object\n",
      "dtypes: int64(7), object(1)\n",
      "memory usage: 256.0+ bytes\n"
     ]
    },
    {
     "data": {
      "text/html": [
       "<div>\n",
       "<style scoped>\n",
       "    .dataframe tbody tr th:only-of-type {\n",
       "        vertical-align: middle;\n",
       "    }\n",
       "\n",
       "    .dataframe tbody tr th {\n",
       "        vertical-align: top;\n",
       "    }\n",
       "\n",
       "    .dataframe thead th {\n",
       "        text-align: right;\n",
       "    }\n",
       "</style>\n",
       "<table border=\"1\" class=\"dataframe\">\n",
       "  <thead>\n",
       "    <tr style=\"text-align: right;\">\n",
       "      <th></th>\n",
       "      <th>messages_included</th>\n",
       "      <th>mb_per_month_included</th>\n",
       "      <th>minutes_included</th>\n",
       "      <th>rub_monthly_fee</th>\n",
       "      <th>rub_per_gb</th>\n",
       "      <th>rub_per_message</th>\n",
       "      <th>rub_per_minute</th>\n",
       "      <th>tariff_name</th>\n",
       "    </tr>\n",
       "  </thead>\n",
       "  <tbody>\n",
       "    <tr>\n",
       "      <th>0</th>\n",
       "      <td>50</td>\n",
       "      <td>15360</td>\n",
       "      <td>500</td>\n",
       "      <td>550</td>\n",
       "      <td>200</td>\n",
       "      <td>3</td>\n",
       "      <td>3</td>\n",
       "      <td>smart</td>\n",
       "    </tr>\n",
       "    <tr>\n",
       "      <th>1</th>\n",
       "      <td>1000</td>\n",
       "      <td>30720</td>\n",
       "      <td>3000</td>\n",
       "      <td>1950</td>\n",
       "      <td>150</td>\n",
       "      <td>1</td>\n",
       "      <td>1</td>\n",
       "      <td>ultra</td>\n",
       "    </tr>\n",
       "  </tbody>\n",
       "</table>\n",
       "</div>"
      ],
      "text/plain": [
       "   messages_included  mb_per_month_included  minutes_included  \\\n",
       "0                 50                  15360               500   \n",
       "1               1000                  30720              3000   \n",
       "\n",
       "   rub_monthly_fee  rub_per_gb  rub_per_message  rub_per_minute tariff_name  \n",
       "0              550         200                3               3       smart  \n",
       "1             1950         150                1               1       ultra  "
      ]
     },
     "metadata": {},
     "output_type": "display_data"
    },
    {
     "data": {
      "text/plain": [
       "Index(['messages_included', 'mb_per_month_included', 'minutes_included',\n",
       "       'rub_monthly_fee', 'rub_per_gb', 'rub_per_message', 'rub_per_minute',\n",
       "       'tariff_name'],\n",
       "      dtype='object')"
      ]
     },
     "metadata": {},
     "output_type": "display_data"
    }
   ],
   "source": [
    "# получаю общую сводку\n",
    "tariffs_data.info()\n",
    "\n",
    "# проверю на корректный вывод\n",
    "display(tariffs_data.head())\n",
    "\n",
    "# проверяю имена колонок на пробелы\n",
    "display(tariffs_data.columns)"
   ]
  },
  {
   "cell_type": "markdown",
   "id": "dfc147f5-84e6-4d43-8d3e-e00072267eae",
   "metadata": {},
   "source": [
    "По датасету 'tariffs' замечаний нет, данные соответствуют описанию тарифа."
   ]
  },
  {
   "cell_type": "markdown",
   "id": "5b347f98-0899-4e64-a29e-7eca40c0e22d",
   "metadata": {},
   "source": [
    "## Шаг 2. Предобработка данных"
   ]
  },
  {
   "cell_type": "markdown",
   "id": "7555a972-20de-42c4-b4eb-b77557576d8e",
   "metadata": {},
   "source": [
    "*Приведите данные к нужным типам; \n",
    "Найдите и исправьте ошибки в данных, если они есть.  \n",
    "Поясните, какие ошибки вы нашли и как их исправили.  \n",
    "В данных вы найдёте звонки с нулевой продолжительностью. Это не ошибка: нулями обозначены пропущенные звонки, поэтому их не нужно удалять.*"
   ]
  },
  {
   "cell_type": "markdown",
   "id": "863be597-01e5-4a8a-8645-c1ce7ab1e55f",
   "metadata": {
    "tags": []
   },
   "source": [
    "### 2.1 Работа с типами данных:"
   ]
  },
  {
   "cell_type": "markdown",
   "id": "cd5cbf1e-b70f-4a06-ab74-e2f34e8903a5",
   "metadata": {},
   "source": [
    "Переведу столбцы с датой в формат datetime."
   ]
  },
  {
   "cell_type": "markdown",
   "id": "698aae0b-ac8d-469f-8a72-e525f69bb030",
   "metadata": {},
   "source": [
    "**Отпала необходимость в следующих двух ячейках, просто очистил users_data.**"
   ]
  },
  {
   "cell_type": "code",
   "execution_count": 9,
   "id": "8742ada1-8276-486f-a103-c94b68ee3cd8",
   "metadata": {},
   "outputs": [],
   "source": [
    "# ['churn_date'] - единственный столбец с пропусками, поэтому в head() не попали его данные. Проверю совпадает ли формат даты с другими столбцами\n",
    "# users_data['churn_date'].dropna().head()"
   ]
  },
  {
   "cell_type": "code",
   "execution_count": 10,
   "id": "ede84f27-b118-4631-978b-04c30e7a2a55",
   "metadata": {},
   "outputs": [],
   "source": [
    "# совпадает, поэтому использую apply для изменения формата сразу двух столбцов\n",
    "# нас не интересуют дни, только год и месяц, поэтому использую astype()\n",
    "# users_data[['churn_date', 'reg_date']] = users_data[['churn_date', 'reg_date']].astype('datetime64[M]')\n",
    "\n",
    "# проверю\n",
    "# users_data[['churn_date', 'reg_date']].info()\n",
    "# users_data[['churn_date', 'reg_date']].dropna().head()"
   ]
  },
  {
   "cell_type": "code",
   "execution_count": 11,
   "id": "62edf9ff-f892-47b1-9c60-ecde83ecd902",
   "metadata": {},
   "outputs": [],
   "source": [
    "# применяю метод astype(), дне не важны - передаю аргумент с [M]\n",
    "calls_data['call_date'] = calls_data['call_date'].astype('datetime64[M]')\n",
    "internet_data['session_date'] = internet_data['session_date'].astype('datetime64[M]')\n",
    "messages_data['message_date'] = messages_data['message_date'].astype('datetime64[M]')"
   ]
  },
  {
   "cell_type": "markdown",
   "id": "b7a60b2a-a5fd-442d-8708-286983357413",
   "metadata": {},
   "source": [
    "Округлю столбец ['duration'] датафрейма `calls_data` до целых значений в большую сторону (целых минут) и приведу его к формату int."
   ]
  },
  {
   "cell_type": "code",
   "execution_count": 12,
   "id": "18983d65-6a99-4ca4-bb88-753e3645ecea",
   "metadata": {},
   "outputs": [
    {
     "data": {
      "text/plain": [
       "0     0.00\n",
       "1     0.00\n",
       "2     2.85\n",
       "3    13.80\n",
       "4     5.18\n",
       "Name: duration, dtype: float64"
      ]
     },
     "metadata": {},
     "output_type": "display_data"
    },
    {
     "name": "stdout",
     "output_type": "stream",
     "text": [
      "///////////\n"
     ]
    },
    {
     "data": {
      "text/plain": [
       "0     0\n",
       "1     0\n",
       "2     3\n",
       "3    14\n",
       "4     6\n",
       "Name: duration, dtype: int64"
      ]
     },
     "metadata": {},
     "output_type": "display_data"
    }
   ],
   "source": [
    "# изначальные данные для сравнения\n",
    "display(calls_data['duration'].head())\n",
    "\n",
    "# округляю\n",
    "calls_data['duration'] = calls_data['duration'].apply(np.ceil)\n",
    "\n",
    "# меняю тип данных столбца\n",
    "calls_data['duration'] = calls_data['duration'].astype('int')\n",
    "\n",
    "# проверяю результат\n",
    "print('///////////')\n",
    "display(calls_data['duration'].head())"
   ]
  },
  {
   "cell_type": "markdown",
   "id": "09dc2aa3-59a3-4104-a4c7-025e5621e7b4",
   "metadata": {
    "tags": []
   },
   "source": [
    "### 2.2 Работа с ошибками и очистка данных:"
   ]
  },
  {
   "cell_type": "markdown",
   "id": "0742d497-fa0e-4235-8b99-994455bfb3e4",
   "metadata": {},
   "source": [
    "Чтобы исключить возможность ошибок выгрузки, перед тем как избавляться от уникальных идентификаторво сессии проверю датафреймы на явные дубликаты."
   ]
  },
  {
   "cell_type": "code",
   "execution_count": 13,
   "id": "5a4c42bd-2809-4544-bc70-a29227b9c5d9",
   "metadata": {},
   "outputs": [
    {
     "name": "stdout",
     "output_type": "stream",
     "text": [
      "0\n",
      "0\n",
      "0\n"
     ]
    },
    {
     "data": {
      "text/plain": [
       "0"
      ]
     },
     "execution_count": 13,
     "metadata": {},
     "output_type": "execute_result"
    }
   ],
   "source": [
    "# метод duplicated() и sum() для подсчета True-значений строк дубликатов\n",
    "print(users_data.duplicated().sum())\n",
    "print(calls_data.duplicated().sum())\n",
    "print(internet_data.duplicated().sum())\n",
    "messages_data.duplicated().sum()"
   ]
  },
  {
   "cell_type": "markdown",
   "id": "5f9538fe-f729-4087-9b7c-a653ea88e378",
   "metadata": {},
   "source": [
    "Проверю уникальные значения столбца ['city'], так как он будет использоваться для проверки гипотезы и различные методы написания одних и тех же географических названий могут исказить данные."
   ]
  },
  {
   "cell_type": "code",
   "execution_count": 14,
   "id": "068542cc-cce7-4ce2-a7e4-96451acb536b",
   "metadata": {},
   "outputs": [
    {
     "data": {
      "text/plain": [
       "array(['Краснодар', 'Москва', 'Стерлитамак', 'Новокузнецк',\n",
       "       'Набережные Челны', 'Ульяновск', 'Челябинск', 'Пермь', 'Тюмень',\n",
       "       'Самара', 'Санкт-Петербург', 'Иваново', 'Чебоксары', 'Омск', 'Уфа',\n",
       "       'Томск', 'Чита', 'Мурманск', 'Петрозаводск', 'Тверь',\n",
       "       'Екатеринбург', 'Махачкала', 'Вологда', 'Череповец', 'Ярославль',\n",
       "       'Сочи', 'Хабаровск', 'Ставрополь', 'Рязань', 'Улан-Удэ', 'Тула',\n",
       "       'Саратов', 'Ростов-на-Дону', 'Казань', 'Иркутск', 'Курск',\n",
       "       'Калуга', 'Якутск', 'Астрахань', 'Химки', 'Владикавказ',\n",
       "       'Волгоград', 'Саранск', 'Ижевск', 'Новосибирск', 'Брянск',\n",
       "       'Тольятти', 'Нижний Тагил', 'Орёл', 'Белгород', 'Воронеж',\n",
       "       'Волжский', 'Курган', 'Барнаул', 'Красноярск', 'Архангельск',\n",
       "       'Липецк', 'Кемерово', 'Киров', 'Сургут', 'Пенза', 'Магнитогорск',\n",
       "       'Нижний Новгород', 'Кострома', 'Владивосток', 'Тамбов', 'Балашиха',\n",
       "       'Севастополь', 'Калининград', 'Оренбург', 'Смоленск',\n",
       "       'Нижневартовск', 'Владимир', 'Новороссийск', 'Грозный', 'Подольск'],\n",
       "      dtype=object)"
      ]
     },
     "metadata": {},
     "output_type": "display_data"
    },
    {
     "data": {
      "text/plain": [
       "Москва             99\n",
       "Санкт-Петербург    39\n",
       "Новосибирск        16\n",
       "Казань             14\n",
       "Омск               14\n",
       "                   ..\n",
       "Подольск            1\n",
       "Нижневартовск       1\n",
       "Архангельск         1\n",
       "Химки               1\n",
       "Иваново             1\n",
       "Name: city, Length: 76, dtype: int64"
      ]
     },
     "execution_count": 14,
     "metadata": {},
     "output_type": "execute_result"
    }
   ],
   "source": [
    "display(users_data['city'].unique())\n",
    "users_data['city'].value_counts()"
   ]
  },
  {
   "cell_type": "markdown",
   "id": "879f09de-edb2-461a-935a-3c8416a03232",
   "metadata": {},
   "source": [
    "Удалю колонки ['Unnamed: 0'] и ['id'] из датафрейма ```internet_data```."
   ]
  },
  {
   "cell_type": "code",
   "execution_count": 15,
   "id": "ab221b29-544c-41b9-8238-c636f305f50c",
   "metadata": {},
   "outputs": [
    {
     "name": "stdout",
     "output_type": "stream",
     "text": [
      "<class 'pandas.core.frame.DataFrame'>\n",
      "RangeIndex: 149396 entries, 0 to 149395\n",
      "Data columns (total 3 columns):\n",
      " #   Column        Non-Null Count   Dtype         \n",
      "---  ------        --------------   -----         \n",
      " 0   mb_used       149396 non-null  float64       \n",
      " 1   session_date  149396 non-null  datetime64[ns]\n",
      " 2   user_id       149396 non-null  int64         \n",
      "dtypes: datetime64[ns](1), float64(1), int64(1)\n",
      "memory usage: 3.4 MB\n"
     ]
    }
   ],
   "source": [
    "# использую drop()\n",
    "internet_data.drop(['Unnamed: 0', 'id'], axis=1, inplace=True)\n",
    "\n",
    "# проверю\n",
    "internet_data.info()"
   ]
  },
  {
   "cell_type": "markdown",
   "id": "0d4a7c62-3075-4072-a406-047533a1b1a5",
   "metadata": {},
   "source": [
    "Удаляю колонки ['id'] из датафреймов ```calls_data``` и ```messages_data```."
   ]
  },
  {
   "cell_type": "code",
   "execution_count": 16,
   "id": "b928a522-e637-4357-885a-f4a026e20e07",
   "metadata": {},
   "outputs": [
    {
     "name": "stdout",
     "output_type": "stream",
     "text": [
      "<class 'pandas.core.frame.DataFrame'>\n",
      "RangeIndex: 202607 entries, 0 to 202606\n",
      "Data columns (total 3 columns):\n",
      " #   Column     Non-Null Count   Dtype         \n",
      "---  ------     --------------   -----         \n",
      " 0   call_date  202607 non-null  datetime64[ns]\n",
      " 1   duration   202607 non-null  int64         \n",
      " 2   user_id    202607 non-null  int64         \n",
      "dtypes: datetime64[ns](1), int64(2)\n",
      "memory usage: 4.6 MB\n",
      "///////////\n",
      "<class 'pandas.core.frame.DataFrame'>\n",
      "RangeIndex: 123036 entries, 0 to 123035\n",
      "Data columns (total 2 columns):\n",
      " #   Column        Non-Null Count   Dtype         \n",
      "---  ------        --------------   -----         \n",
      " 0   message_date  123036 non-null  datetime64[ns]\n",
      " 1   user_id       123036 non-null  int64         \n",
      "dtypes: datetime64[ns](1), int64(1)\n",
      "memory usage: 1.9 MB\n"
     ]
    }
   ],
   "source": [
    "# использую drop()\n",
    "calls_data.drop(['id'], axis=1, inplace=True)\n",
    "messages_data.drop(['id'], axis=1, inplace=True)\n",
    "\n",
    "# проверю\n",
    "calls_data.info()\n",
    "print('///////////')\n",
    "messages_data.info()"
   ]
  },
  {
   "cell_type": "markdown",
   "id": "f1a2f1d6-59af-4ee9-a666-afb23999bb73",
   "metadata": {},
   "source": [
    "Приблизительно сгруппирую потребителей по полу."
   ]
  },
  {
   "cell_type": "code",
   "execution_count": 17,
   "id": "90fbe6eb-3a60-4836-be21-e00d39031fc1",
   "metadata": {},
   "outputs": [
    {
     "data": {
      "text/html": [
       "<div>\n",
       "<style scoped>\n",
       "    .dataframe tbody tr th:only-of-type {\n",
       "        vertical-align: middle;\n",
       "    }\n",
       "\n",
       "    .dataframe tbody tr th {\n",
       "        vertical-align: top;\n",
       "    }\n",
       "\n",
       "    .dataframe thead th {\n",
       "        text-align: right;\n",
       "    }\n",
       "</style>\n",
       "<table border=\"1\" class=\"dataframe\">\n",
       "  <thead>\n",
       "    <tr style=\"text-align: right;\">\n",
       "      <th></th>\n",
       "      <th>first_name</th>\n",
       "      <th>last_name</th>\n",
       "      <th>sex</th>\n",
       "    </tr>\n",
       "  </thead>\n",
       "  <tbody>\n",
       "    <tr>\n",
       "      <th>0</th>\n",
       "      <td>Рафаил</td>\n",
       "      <td>Верещагин</td>\n",
       "      <td>m</td>\n",
       "    </tr>\n",
       "    <tr>\n",
       "      <th>1</th>\n",
       "      <td>Иван</td>\n",
       "      <td>Ежов</td>\n",
       "      <td>m</td>\n",
       "    </tr>\n",
       "    <tr>\n",
       "      <th>2</th>\n",
       "      <td>Евгений</td>\n",
       "      <td>Абрамович</td>\n",
       "      <td>m</td>\n",
       "    </tr>\n",
       "    <tr>\n",
       "      <th>3</th>\n",
       "      <td>Белла</td>\n",
       "      <td>Белякова</td>\n",
       "      <td>f</td>\n",
       "    </tr>\n",
       "    <tr>\n",
       "      <th>4</th>\n",
       "      <td>Татьяна</td>\n",
       "      <td>Авдеенко</td>\n",
       "      <td>f</td>\n",
       "    </tr>\n",
       "    <tr>\n",
       "      <th>5</th>\n",
       "      <td>Афанасий</td>\n",
       "      <td>Горлов</td>\n",
       "      <td>m</td>\n",
       "    </tr>\n",
       "    <tr>\n",
       "      <th>6</th>\n",
       "      <td>Леонид</td>\n",
       "      <td>Ермолаев</td>\n",
       "      <td>m</td>\n",
       "    </tr>\n",
       "    <tr>\n",
       "      <th>7</th>\n",
       "      <td>Юна</td>\n",
       "      <td>Березина</td>\n",
       "      <td>f</td>\n",
       "    </tr>\n",
       "    <tr>\n",
       "      <th>8</th>\n",
       "      <td>Рустэм</td>\n",
       "      <td>Пономарёв</td>\n",
       "      <td>m</td>\n",
       "    </tr>\n",
       "    <tr>\n",
       "      <th>9</th>\n",
       "      <td>Василиса</td>\n",
       "      <td>Блинова</td>\n",
       "      <td>f</td>\n",
       "    </tr>\n",
       "    <tr>\n",
       "      <th>10</th>\n",
       "      <td>Эдуард</td>\n",
       "      <td>Кононов</td>\n",
       "      <td>m</td>\n",
       "    </tr>\n",
       "    <tr>\n",
       "      <th>11</th>\n",
       "      <td>Веселина</td>\n",
       "      <td>Алёшко</td>\n",
       "      <td>f</td>\n",
       "    </tr>\n",
       "    <tr>\n",
       "      <th>12</th>\n",
       "      <td>Варлам</td>\n",
       "      <td>Соловьев</td>\n",
       "      <td>m</td>\n",
       "    </tr>\n",
       "    <tr>\n",
       "      <th>13</th>\n",
       "      <td>Борис</td>\n",
       "      <td>Андреенко</td>\n",
       "      <td>m</td>\n",
       "    </tr>\n",
       "    <tr>\n",
       "      <th>14</th>\n",
       "      <td>Яков</td>\n",
       "      <td>Акинфьев</td>\n",
       "      <td>m</td>\n",
       "    </tr>\n",
       "    <tr>\n",
       "      <th>15</th>\n",
       "      <td>Рузана</td>\n",
       "      <td>Алюшина</td>\n",
       "      <td>f</td>\n",
       "    </tr>\n",
       "    <tr>\n",
       "      <th>16</th>\n",
       "      <td>Марица</td>\n",
       "      <td>Сазонова</td>\n",
       "      <td>f</td>\n",
       "    </tr>\n",
       "    <tr>\n",
       "      <th>17</th>\n",
       "      <td>Мария</td>\n",
       "      <td>Аленникова</td>\n",
       "      <td>f</td>\n",
       "    </tr>\n",
       "    <tr>\n",
       "      <th>18</th>\n",
       "      <td>Матвей</td>\n",
       "      <td>Золотов</td>\n",
       "      <td>m</td>\n",
       "    </tr>\n",
       "    <tr>\n",
       "      <th>19</th>\n",
       "      <td>Игнатий</td>\n",
       "      <td>Круглов</td>\n",
       "      <td>m</td>\n",
       "    </tr>\n",
       "  </tbody>\n",
       "</table>\n",
       "</div>"
      ],
      "text/plain": [
       "   first_name   last_name sex\n",
       "0      Рафаил   Верещагин   m\n",
       "1        Иван        Ежов   m\n",
       "2     Евгений   Абрамович   m\n",
       "3       Белла    Белякова   f\n",
       "4     Татьяна    Авдеенко   f\n",
       "5    Афанасий      Горлов   m\n",
       "6      Леонид    Ермолаев   m\n",
       "7         Юна    Березина   f\n",
       "8      Рустэм   Пономарёв   m\n",
       "9    Василиса     Блинова   f\n",
       "10     Эдуард     Кононов   m\n",
       "11   Веселина      Алёшко   f\n",
       "12     Варлам    Соловьев   m\n",
       "13      Борис   Андреенко   m\n",
       "14       Яков    Акинфьев   m\n",
       "15     Рузана     Алюшина   f\n",
       "16     Марица    Сазонова   f\n",
       "17      Мария  Аленникова   f\n",
       "18     Матвей     Золотов   m\n",
       "19    Игнатий     Круглов   m"
      ]
     },
     "execution_count": 17,
     "metadata": {},
     "output_type": "execute_result"
    }
   ],
   "source": [
    "# вместо функции с циклом использую numpy метод where()\n",
    "users_data['sex'] = np.where(\n",
    "    (users_data['first_name'].str[-1] == 'а') |\n",
    "    (users_data['first_name'].str[-1] == 'я') |\n",
    "    (users_data['last_name'].str[-1] == 'а'),\n",
    "    'f',\n",
    "    'm'\n",
    ")\n",
    "\n",
    "#проверю результат\n",
    "users_data[['first_name', 'last_name', 'sex']].head(20)"
   ]
  },
  {
   "cell_type": "markdown",
   "id": "282c1504-f99e-4e6c-bfb2-1e5fdd558129",
   "metadata": {},
   "source": [
    "Теперь разобью пользователей на три возростные группы young adults (18-35), middle-aged adults (36-55), older adults (56+). Возрастные границы взяты из следующего исследования - https://pubmed.ncbi.nlm.nih.gov/11815703/"
   ]
  },
  {
   "cell_type": "code",
   "execution_count": 18,
   "id": "78b865e8-3a2b-475a-b14f-c0ed8b11460d",
   "metadata": {},
   "outputs": [
    {
     "data": {
      "text/plain": [
       "0    52\n",
       "1    41\n",
       "2    59\n",
       "3    23\n",
       "4    68\n",
       "5    67\n",
       "6    21\n",
       "7    65\n",
       "8    63\n",
       "9    24\n",
       "Name: age, dtype: int64"
      ]
     },
     "metadata": {},
     "output_type": "display_data"
    },
    {
     "data": {
      "text/plain": [
       "0    36-55\n",
       "1    36-55\n",
       "2      56+\n",
       "3    18-35\n",
       "4      56+\n",
       "5      56+\n",
       "6    18-35\n",
       "7      56+\n",
       "8      56+\n",
       "9    18-35\n",
       "Name: age, dtype: object"
      ]
     },
     "execution_count": 18,
     "metadata": {},
     "output_type": "execute_result"
    }
   ],
   "source": [
    "# выведу образец для сравнения с результатом\n",
    "display(users_data['age'].head(10))\n",
    "\n",
    "# пока что не знаю можно ли использовать where() для более чем двух возможных результатов, поэтому использую цикл в функции\n",
    "def age_group(age):\n",
    "    if 18 <= age <= 35:\n",
    "        return '18-35'\n",
    "    if 36 <= age <= 55:\n",
    "        return '36-55'\n",
    "    return '56+'\n",
    "\n",
    "# перезапишу группы сразу поверх столбца ['age']\n",
    "users_data['age'] = users_data['age'].apply(age_group)\n",
    "\n",
    "# проверю результат\n",
    "users_data['age'].head(10)"
   ]
  },
  {
   "cell_type": "markdown",
   "id": "0d5864de-5b24-4cd8-a568-054e04d2ae1e",
   "metadata": {},
   "source": [
    "Избавлюсь от столбцов ['churn_date'], ['reg_date'], ['first_name'] и ['last_name']."
   ]
  },
  {
   "cell_type": "code",
   "execution_count": 19,
   "id": "6ac41d52-2d2a-4c4e-8dde-59c8054bc054",
   "metadata": {},
   "outputs": [
    {
     "name": "stdout",
     "output_type": "stream",
     "text": [
      "<class 'pandas.core.frame.DataFrame'>\n",
      "RangeIndex: 500 entries, 0 to 499\n",
      "Data columns (total 5 columns):\n",
      " #   Column   Non-Null Count  Dtype \n",
      "---  ------   --------------  ----- \n",
      " 0   user_id  500 non-null    int64 \n",
      " 1   age      500 non-null    object\n",
      " 2   city     500 non-null    object\n",
      " 3   tariff   500 non-null    object\n",
      " 4   sex      500 non-null    object\n",
      "dtypes: int64(1), object(4)\n",
      "memory usage: 19.7+ KB\n"
     ]
    }
   ],
   "source": [
    "# опять использую drop()\n",
    "users_data.drop(['churn_date', 'reg_date', 'first_name', 'last_name'], axis=1, inplace=True)\n",
    "\n",
    "# последняя проверка users_data\n",
    "users_data.info()"
   ]
  },
  {
   "cell_type": "markdown",
   "id": "2b6426f0-b994-4c1a-9722-00d1c3b3e701",
   "metadata": {},
   "source": [
    "\n",
    "Иных ошибок, пропусков и недочетов не найдено."
   ]
  },
  {
   "cell_type": "markdown",
   "id": "86187ed0-6f57-4dc0-82c0-0503c716a8e1",
   "metadata": {},
   "source": [
    "### 2.3 Расчеты и добавление результатов:"
   ]
  },
  {
   "cell_type": "markdown",
   "id": "e23e7c2f-d0a0-468d-ae07-15222461df58",
   "metadata": {},
   "source": [
    "*Посчитайте для каждого пользователя:*\n",
    "- *количество сделанных звонков и израсходованных минут разговора по месяцам;*\n",
    "- *количество отправленных сообщений по месяцам;*\n",
    "- *объем израсходованного интернет-трафика по месяцам;*\n",
    "- *помесячную выручку с каждого пользователя (вычтите бесплатный лимит из суммарного количества звонков, сообщений и интернет-трафика; остаток умножьте на значение из тарифного плана; прибавьте абонентскую плату, соответствующую тарифному плану).*"
   ]
  },
  {
   "cell_type": "markdown",
   "id": "735ef37b-6158-461d-b95b-ede93f1f46a2",
   "metadata": {},
   "source": [
    "Прежде чем объединять данные по месяцам, проверю какой временной период мы анализируем."
   ]
  },
  {
   "cell_type": "code",
   "execution_count": 20,
   "id": "6ea73a33-3a1f-43ce-828b-5b1f7918ace2",
   "metadata": {},
   "outputs": [
    {
     "data": {
      "text/plain": [
       "2018-12-01    33987\n",
       "2018-11-01    29501\n",
       "2018-10-01    27146\n",
       "2018-09-01    24061\n",
       "2018-08-01    21488\n",
       "2018-07-01    18298\n",
       "2018-06-01    14716\n",
       "2018-05-01    12647\n",
       "2018-04-01     9272\n",
       "2018-03-01     6687\n",
       "2018-02-01     3328\n",
       "2018-01-01     1476\n",
       "Name: call_date, dtype: int64"
      ]
     },
     "execution_count": 20,
     "metadata": {},
     "output_type": "execute_result"
    }
   ],
   "source": [
    "calls_data['call_date'].value_counts()"
   ]
  },
  {
   "cell_type": "markdown",
   "id": "0b720825-7808-4d39-a773-8f0a12bc08a4",
   "metadata": {},
   "source": [
    "Выборка в пределах одного года. Вероятно, заметен ежемесячный приток пользователей на тарифы. Для расчетов исопльзуем данные по тарифам."
   ]
  },
  {
   "cell_type": "code",
   "execution_count": 21,
   "id": "8bb17b8b-e4fe-4ef8-ba87-3e669b091a1a",
   "metadata": {},
   "outputs": [
    {
     "data": {
      "text/html": [
       "<div>\n",
       "<style scoped>\n",
       "    .dataframe tbody tr th:only-of-type {\n",
       "        vertical-align: middle;\n",
       "    }\n",
       "\n",
       "    .dataframe tbody tr th {\n",
       "        vertical-align: top;\n",
       "    }\n",
       "\n",
       "    .dataframe thead th {\n",
       "        text-align: right;\n",
       "    }\n",
       "</style>\n",
       "<table border=\"1\" class=\"dataframe\">\n",
       "  <thead>\n",
       "    <tr style=\"text-align: right;\">\n",
       "      <th></th>\n",
       "      <th>messages_included</th>\n",
       "      <th>mb_per_month_included</th>\n",
       "      <th>minutes_included</th>\n",
       "      <th>rub_monthly_fee</th>\n",
       "      <th>rub_per_gb</th>\n",
       "      <th>rub_per_message</th>\n",
       "      <th>rub_per_minute</th>\n",
       "      <th>tariff_name</th>\n",
       "    </tr>\n",
       "  </thead>\n",
       "  <tbody>\n",
       "    <tr>\n",
       "      <th>0</th>\n",
       "      <td>50</td>\n",
       "      <td>15360</td>\n",
       "      <td>500</td>\n",
       "      <td>550</td>\n",
       "      <td>200</td>\n",
       "      <td>3</td>\n",
       "      <td>3</td>\n",
       "      <td>smart</td>\n",
       "    </tr>\n",
       "    <tr>\n",
       "      <th>1</th>\n",
       "      <td>1000</td>\n",
       "      <td>30720</td>\n",
       "      <td>3000</td>\n",
       "      <td>1950</td>\n",
       "      <td>150</td>\n",
       "      <td>1</td>\n",
       "      <td>1</td>\n",
       "      <td>ultra</td>\n",
       "    </tr>\n",
       "  </tbody>\n",
       "</table>\n",
       "</div>"
      ],
      "text/plain": [
       "   messages_included  mb_per_month_included  minutes_included  \\\n",
       "0                 50                  15360               500   \n",
       "1               1000                  30720              3000   \n",
       "\n",
       "   rub_monthly_fee  rub_per_gb  rub_per_message  rub_per_minute tariff_name  \n",
       "0              550         200                3               3       smart  \n",
       "1             1950         150                1               1       ultra  "
      ]
     },
     "execution_count": 21,
     "metadata": {},
     "output_type": "execute_result"
    }
   ],
   "source": [
    "tariffs_data"
   ]
  },
  {
   "cell_type": "markdown",
   "id": "1eca9e70-75b6-4b95-a1e9-9dfee22d07c7",
   "metadata": {},
   "source": [
    "~~Создам датафрейм с колонкой ['user_id'] содержащей все 500 значений, чтобы привести сводные таблицы к одному размеру и упростить последующие расчеты. Создаю его отдельно вместо использования users_data потому что желаю видеть ['user_id'] и категориальные столбцы первыми в сводных таблицах, считаю что проще сделать это через merge()~~\n",
    "\n",
    "**Вместо этого очистил и использовал users_data, следующая ячейка кода больше не используется.** "
   ]
  },
  {
   "cell_type": "code",
   "execution_count": 22,
   "id": "f2c03037-79aa-4d3b-9a07-896abdd24186",
   "metadata": {},
   "outputs": [],
   "source": [
    "# user_id_df = list(range(1000, 1500))\n",
    "\n",
    "# user_id_df = pd.DataFrame(user_id_df, columns=['user_id'])\n",
    "\n",
    "# user_id_df.head()"
   ]
  },
  {
   "cell_type": "markdown",
   "id": "a88151f1-68b0-418d-a6de-792fc450674b",
   "metadata": {},
   "source": [
    "Рассчитаю общую длительность и количество разговоров для каждого пользователя помесячно."
   ]
  },
  {
   "cell_type": "code",
   "execution_count": 23,
   "id": "ba05ae0b-91f3-4e7a-85c7-bddaffbfa881",
   "metadata": {},
   "outputs": [
    {
     "data": {
      "text/plain": [
       "(500, 17)"
      ]
     },
     "metadata": {},
     "output_type": "display_data"
    },
    {
     "data": {
      "text/html": [
       "<div>\n",
       "<style scoped>\n",
       "    .dataframe tbody tr th:only-of-type {\n",
       "        vertical-align: middle;\n",
       "    }\n",
       "\n",
       "    .dataframe tbody tr th {\n",
       "        vertical-align: top;\n",
       "    }\n",
       "\n",
       "    .dataframe thead th {\n",
       "        text-align: right;\n",
       "    }\n",
       "</style>\n",
       "<table border=\"1\" class=\"dataframe\">\n",
       "  <thead>\n",
       "    <tr style=\"text-align: right;\">\n",
       "      <th></th>\n",
       "      <th>user_id</th>\n",
       "      <th>age</th>\n",
       "      <th>city</th>\n",
       "      <th>tariff</th>\n",
       "      <th>sex</th>\n",
       "      <th>calls_dur_01</th>\n",
       "      <th>calls_dur_02</th>\n",
       "      <th>calls_dur_03</th>\n",
       "      <th>calls_dur_04</th>\n",
       "      <th>calls_dur_05</th>\n",
       "      <th>calls_dur_06</th>\n",
       "      <th>calls_dur_07</th>\n",
       "      <th>calls_dur_08</th>\n",
       "      <th>calls_dur_09</th>\n",
       "      <th>calls_dur_10</th>\n",
       "      <th>calls_dur_11</th>\n",
       "      <th>calls_dur_12</th>\n",
       "    </tr>\n",
       "  </thead>\n",
       "  <tbody>\n",
       "    <tr>\n",
       "      <th>0</th>\n",
       "      <td>1000</td>\n",
       "      <td>36-55</td>\n",
       "      <td>Краснодар</td>\n",
       "      <td>ultra</td>\n",
       "      <td>m</td>\n",
       "      <td>NaN</td>\n",
       "      <td>NaN</td>\n",
       "      <td>NaN</td>\n",
       "      <td>NaN</td>\n",
       "      <td>159.0</td>\n",
       "      <td>172.0</td>\n",
       "      <td>340.0</td>\n",
       "      <td>408.0</td>\n",
       "      <td>466.0</td>\n",
       "      <td>350.0</td>\n",
       "      <td>338.0</td>\n",
       "      <td>333.0</td>\n",
       "    </tr>\n",
       "    <tr>\n",
       "      <th>1</th>\n",
       "      <td>1001</td>\n",
       "      <td>36-55</td>\n",
       "      <td>Москва</td>\n",
       "      <td>smart</td>\n",
       "      <td>m</td>\n",
       "      <td>NaN</td>\n",
       "      <td>NaN</td>\n",
       "      <td>NaN</td>\n",
       "      <td>NaN</td>\n",
       "      <td>NaN</td>\n",
       "      <td>NaN</td>\n",
       "      <td>NaN</td>\n",
       "      <td>NaN</td>\n",
       "      <td>NaN</td>\n",
       "      <td>NaN</td>\n",
       "      <td>430.0</td>\n",
       "      <td>414.0</td>\n",
       "    </tr>\n",
       "    <tr>\n",
       "      <th>2</th>\n",
       "      <td>1002</td>\n",
       "      <td>56+</td>\n",
       "      <td>Стерлитамак</td>\n",
       "      <td>smart</td>\n",
       "      <td>m</td>\n",
       "      <td>NaN</td>\n",
       "      <td>NaN</td>\n",
       "      <td>NaN</td>\n",
       "      <td>NaN</td>\n",
       "      <td>NaN</td>\n",
       "      <td>117.0</td>\n",
       "      <td>214.0</td>\n",
       "      <td>289.0</td>\n",
       "      <td>206.0</td>\n",
       "      <td>212.0</td>\n",
       "      <td>243.0</td>\n",
       "      <td>236.0</td>\n",
       "    </tr>\n",
       "    <tr>\n",
       "      <th>3</th>\n",
       "      <td>1003</td>\n",
       "      <td>18-35</td>\n",
       "      <td>Москва</td>\n",
       "      <td>ultra</td>\n",
       "      <td>f</td>\n",
       "      <td>NaN</td>\n",
       "      <td>NaN</td>\n",
       "      <td>NaN</td>\n",
       "      <td>NaN</td>\n",
       "      <td>NaN</td>\n",
       "      <td>NaN</td>\n",
       "      <td>NaN</td>\n",
       "      <td>380.0</td>\n",
       "      <td>961.0</td>\n",
       "      <td>855.0</td>\n",
       "      <td>824.0</td>\n",
       "      <td>802.0</td>\n",
       "    </tr>\n",
       "    <tr>\n",
       "      <th>4</th>\n",
       "      <td>1004</td>\n",
       "      <td>56+</td>\n",
       "      <td>Новокузнецк</td>\n",
       "      <td>ultra</td>\n",
       "      <td>f</td>\n",
       "      <td>NaN</td>\n",
       "      <td>NaN</td>\n",
       "      <td>NaN</td>\n",
       "      <td>NaN</td>\n",
       "      <td>35.0</td>\n",
       "      <td>171.0</td>\n",
       "      <td>135.0</td>\n",
       "      <td>137.0</td>\n",
       "      <td>117.0</td>\n",
       "      <td>145.0</td>\n",
       "      <td>117.0</td>\n",
       "      <td>130.0</td>\n",
       "    </tr>\n",
       "  </tbody>\n",
       "</table>\n",
       "</div>"
      ],
      "text/plain": [
       "   user_id    age         city tariff sex  calls_dur_01  calls_dur_02  \\\n",
       "0     1000  36-55    Краснодар  ultra   m           NaN           NaN   \n",
       "1     1001  36-55       Москва  smart   m           NaN           NaN   \n",
       "2     1002    56+  Стерлитамак  smart   m           NaN           NaN   \n",
       "3     1003  18-35       Москва  ultra   f           NaN           NaN   \n",
       "4     1004    56+  Новокузнецк  ultra   f           NaN           NaN   \n",
       "\n",
       "   calls_dur_03  calls_dur_04  calls_dur_05  calls_dur_06  calls_dur_07  \\\n",
       "0           NaN           NaN         159.0         172.0         340.0   \n",
       "1           NaN           NaN           NaN           NaN           NaN   \n",
       "2           NaN           NaN           NaN         117.0         214.0   \n",
       "3           NaN           NaN           NaN           NaN           NaN   \n",
       "4           NaN           NaN          35.0         171.0         135.0   \n",
       "\n",
       "   calls_dur_08  calls_dur_09  calls_dur_10  calls_dur_11  calls_dur_12  \n",
       "0         408.0         466.0         350.0         338.0         333.0  \n",
       "1           NaN           NaN           NaN         430.0         414.0  \n",
       "2         289.0         206.0         212.0         243.0         236.0  \n",
       "3         380.0         961.0         855.0         824.0         802.0  \n",
       "4         137.0         117.0         145.0         117.0         130.0  "
      ]
     },
     "execution_count": 23,
     "metadata": {},
     "output_type": "execute_result"
    }
   ],
   "source": [
    "# использую сводную таблицу. Не заполняю пропуски так как NaN значения не участвуют в арифметических операциях - упростит расчет выручки\n",
    "calls_dur_pivot = calls_data.pivot_table(index='user_id',  columns='call_date', values='duration', aggfunc='sum')\n",
    "\n",
    "# дам уникальные названия колонкам и избавлюсь от мультииндекса. При этом сохраню старый индекс, который станет колонкой ['user_id']\n",
    "calls_dur_pivot.columns = ['calls_dur_01', 'calls_dur_02', 'calls_dur_03', 'calls_dur_04', 'calls_dur_05', 'calls_dur_06', 'calls_dur_07', 'calls_dur_08', 'calls_dur_09', 'calls_dur_10', 'calls_dur_11', 'calls_dur_12']\n",
    "calls_dur_pivot.reset_index(inplace=True)\n",
    "\n",
    "# дополню строками с user_id которые за весь год не использовали звонки. Добавлю столбец с тарифом для упрощения расчета выручки\n",
    "calls_dur_pivot = users_data.merge(calls_dur_pivot, how='left', on='user_id')\n",
    "\n",
    "# отпала необходимость в следующих двух строках\n",
    "# calls_dur_pivot = calls_dur_pivot.merge(user_id_df, how='right', on='user_id')\n",
    "# calls_dur_pivot['tariff'] = users_data['tariff']\n",
    "\n",
    "# проверю\n",
    "display(calls_dur_pivot.shape)\n",
    "calls_dur_pivot.head()"
   ]
  },
  {
   "cell_type": "code",
   "execution_count": 24,
   "id": "b8c291f9-edea-4103-85e3-76d83e2bed07",
   "metadata": {},
   "outputs": [
    {
     "data": {
      "text/plain": [
       "(500, 17)"
      ]
     },
     "metadata": {},
     "output_type": "display_data"
    },
    {
     "data": {
      "text/html": [
       "<div>\n",
       "<style scoped>\n",
       "    .dataframe tbody tr th:only-of-type {\n",
       "        vertical-align: middle;\n",
       "    }\n",
       "\n",
       "    .dataframe tbody tr th {\n",
       "        vertical-align: top;\n",
       "    }\n",
       "\n",
       "    .dataframe thead th {\n",
       "        text-align: right;\n",
       "    }\n",
       "</style>\n",
       "<table border=\"1\" class=\"dataframe\">\n",
       "  <thead>\n",
       "    <tr style=\"text-align: right;\">\n",
       "      <th></th>\n",
       "      <th>user_id</th>\n",
       "      <th>age</th>\n",
       "      <th>city</th>\n",
       "      <th>tariff</th>\n",
       "      <th>sex</th>\n",
       "      <th>calls_count_01</th>\n",
       "      <th>calls_count_02</th>\n",
       "      <th>calls_count_03</th>\n",
       "      <th>calls_count_04</th>\n",
       "      <th>calls_count_05</th>\n",
       "      <th>calls_count_06</th>\n",
       "      <th>calls_count_07</th>\n",
       "      <th>calls_count_08</th>\n",
       "      <th>calls_count_09</th>\n",
       "      <th>calls_count_10</th>\n",
       "      <th>calls_count_11</th>\n",
       "      <th>calls_count_12</th>\n",
       "    </tr>\n",
       "  </thead>\n",
       "  <tbody>\n",
       "    <tr>\n",
       "      <th>0</th>\n",
       "      <td>1000</td>\n",
       "      <td>36-55</td>\n",
       "      <td>Краснодар</td>\n",
       "      <td>ultra</td>\n",
       "      <td>m</td>\n",
       "      <td>NaN</td>\n",
       "      <td>NaN</td>\n",
       "      <td>NaN</td>\n",
       "      <td>NaN</td>\n",
       "      <td>22.0</td>\n",
       "      <td>43.0</td>\n",
       "      <td>47.0</td>\n",
       "      <td>52.0</td>\n",
       "      <td>58.0</td>\n",
       "      <td>57.0</td>\n",
       "      <td>43.0</td>\n",
       "      <td>46.0</td>\n",
       "    </tr>\n",
       "    <tr>\n",
       "      <th>1</th>\n",
       "      <td>1001</td>\n",
       "      <td>36-55</td>\n",
       "      <td>Москва</td>\n",
       "      <td>smart</td>\n",
       "      <td>m</td>\n",
       "      <td>NaN</td>\n",
       "      <td>NaN</td>\n",
       "      <td>NaN</td>\n",
       "      <td>NaN</td>\n",
       "      <td>NaN</td>\n",
       "      <td>NaN</td>\n",
       "      <td>NaN</td>\n",
       "      <td>NaN</td>\n",
       "      <td>NaN</td>\n",
       "      <td>NaN</td>\n",
       "      <td>59.0</td>\n",
       "      <td>63.0</td>\n",
       "    </tr>\n",
       "    <tr>\n",
       "      <th>2</th>\n",
       "      <td>1002</td>\n",
       "      <td>56+</td>\n",
       "      <td>Стерлитамак</td>\n",
       "      <td>smart</td>\n",
       "      <td>m</td>\n",
       "      <td>NaN</td>\n",
       "      <td>NaN</td>\n",
       "      <td>NaN</td>\n",
       "      <td>NaN</td>\n",
       "      <td>NaN</td>\n",
       "      <td>15.0</td>\n",
       "      <td>26.0</td>\n",
       "      <td>42.0</td>\n",
       "      <td>36.0</td>\n",
       "      <td>33.0</td>\n",
       "      <td>32.0</td>\n",
       "      <td>33.0</td>\n",
       "    </tr>\n",
       "    <tr>\n",
       "      <th>3</th>\n",
       "      <td>1003</td>\n",
       "      <td>18-35</td>\n",
       "      <td>Москва</td>\n",
       "      <td>ultra</td>\n",
       "      <td>f</td>\n",
       "      <td>NaN</td>\n",
       "      <td>NaN</td>\n",
       "      <td>NaN</td>\n",
       "      <td>NaN</td>\n",
       "      <td>NaN</td>\n",
       "      <td>NaN</td>\n",
       "      <td>NaN</td>\n",
       "      <td>55.0</td>\n",
       "      <td>134.0</td>\n",
       "      <td>108.0</td>\n",
       "      <td>115.0</td>\n",
       "      <td>108.0</td>\n",
       "    </tr>\n",
       "    <tr>\n",
       "      <th>4</th>\n",
       "      <td>1004</td>\n",
       "      <td>56+</td>\n",
       "      <td>Новокузнецк</td>\n",
       "      <td>ultra</td>\n",
       "      <td>f</td>\n",
       "      <td>NaN</td>\n",
       "      <td>NaN</td>\n",
       "      <td>NaN</td>\n",
       "      <td>NaN</td>\n",
       "      <td>9.0</td>\n",
       "      <td>31.0</td>\n",
       "      <td>22.0</td>\n",
       "      <td>19.0</td>\n",
       "      <td>26.0</td>\n",
       "      <td>29.0</td>\n",
       "      <td>19.0</td>\n",
       "      <td>21.0</td>\n",
       "    </tr>\n",
       "  </tbody>\n",
       "</table>\n",
       "</div>"
      ],
      "text/plain": [
       "   user_id    age         city tariff sex  calls_count_01  calls_count_02  \\\n",
       "0     1000  36-55    Краснодар  ultra   m             NaN             NaN   \n",
       "1     1001  36-55       Москва  smart   m             NaN             NaN   \n",
       "2     1002    56+  Стерлитамак  smart   m             NaN             NaN   \n",
       "3     1003  18-35       Москва  ultra   f             NaN             NaN   \n",
       "4     1004    56+  Новокузнецк  ultra   f             NaN             NaN   \n",
       "\n",
       "   calls_count_03  calls_count_04  calls_count_05  calls_count_06  \\\n",
       "0             NaN             NaN            22.0            43.0   \n",
       "1             NaN             NaN             NaN             NaN   \n",
       "2             NaN             NaN             NaN            15.0   \n",
       "3             NaN             NaN             NaN             NaN   \n",
       "4             NaN             NaN             9.0            31.0   \n",
       "\n",
       "   calls_count_07  calls_count_08  calls_count_09  calls_count_10  \\\n",
       "0            47.0            52.0            58.0            57.0   \n",
       "1             NaN             NaN             NaN             NaN   \n",
       "2            26.0            42.0            36.0            33.0   \n",
       "3             NaN            55.0           134.0           108.0   \n",
       "4            22.0            19.0            26.0            29.0   \n",
       "\n",
       "   calls_count_11  calls_count_12  \n",
       "0            43.0            46.0  \n",
       "1            59.0            63.0  \n",
       "2            32.0            33.0  \n",
       "3           115.0           108.0  \n",
       "4            19.0            21.0  "
      ]
     },
     "execution_count": 24,
     "metadata": {},
     "output_type": "execute_result"
    }
   ],
   "source": [
    "calls_count_pivot = calls_data.pivot_table(index='user_id', columns='call_date', values='duration', aggfunc='count')\n",
    "\n",
    "calls_count_pivot.columns = ['calls_count_01', 'calls_count_02', 'calls_count_03', 'calls_count_04', 'calls_count_05', 'calls_count_06', 'calls_count_07', 'calls_count_08', 'calls_count_09', 'calls_count_10', 'calls_count_11', 'calls_count_12']\n",
    "calls_count_pivot.reset_index(inplace=True)\n",
    "\n",
    "calls_count_pivot = users_data.merge(calls_count_pivot, how='left', on='user_id')\n",
    "\n",
    "# calls_count_pivot = calls_count_pivot.merge(user_id_df, how='right', on='user_id')\n",
    "# calls_count_pivot['tariff'] = users_data['tariff']\n",
    "\n",
    "display(calls_count_pivot.shape)\n",
    "calls_count_pivot.head()"
   ]
  },
  {
   "cell_type": "code",
   "execution_count": 25,
   "id": "1075d91c-2d2d-468e-9e6d-60cb2bbb07db",
   "metadata": {},
   "outputs": [
    {
     "data": {
      "text/plain": [
       "(500, 17)"
      ]
     },
     "metadata": {},
     "output_type": "display_data"
    },
    {
     "data": {
      "text/html": [
       "<div>\n",
       "<style scoped>\n",
       "    .dataframe tbody tr th:only-of-type {\n",
       "        vertical-align: middle;\n",
       "    }\n",
       "\n",
       "    .dataframe tbody tr th {\n",
       "        vertical-align: top;\n",
       "    }\n",
       "\n",
       "    .dataframe thead th {\n",
       "        text-align: right;\n",
       "    }\n",
       "</style>\n",
       "<table border=\"1\" class=\"dataframe\">\n",
       "  <thead>\n",
       "    <tr style=\"text-align: right;\">\n",
       "      <th></th>\n",
       "      <th>user_id</th>\n",
       "      <th>age</th>\n",
       "      <th>city</th>\n",
       "      <th>tariff</th>\n",
       "      <th>sex</th>\n",
       "      <th>sms_count_01</th>\n",
       "      <th>sms_count_02</th>\n",
       "      <th>sms_count_03</th>\n",
       "      <th>sms_count_04</th>\n",
       "      <th>sms_count_05</th>\n",
       "      <th>sms_count_06</th>\n",
       "      <th>sms_count_07</th>\n",
       "      <th>sms_count_08</th>\n",
       "      <th>sms_count_09</th>\n",
       "      <th>sms_count_10</th>\n",
       "      <th>sms_count_11</th>\n",
       "      <th>sms_count_12</th>\n",
       "    </tr>\n",
       "  </thead>\n",
       "  <tbody>\n",
       "    <tr>\n",
       "      <th>0</th>\n",
       "      <td>1000</td>\n",
       "      <td>36-55</td>\n",
       "      <td>Краснодар</td>\n",
       "      <td>ultra</td>\n",
       "      <td>m</td>\n",
       "      <td>NaN</td>\n",
       "      <td>NaN</td>\n",
       "      <td>NaN</td>\n",
       "      <td>NaN</td>\n",
       "      <td>22.0</td>\n",
       "      <td>60.0</td>\n",
       "      <td>75.0</td>\n",
       "      <td>81.0</td>\n",
       "      <td>57.0</td>\n",
       "      <td>73.0</td>\n",
       "      <td>58.0</td>\n",
       "      <td>70.0</td>\n",
       "    </tr>\n",
       "    <tr>\n",
       "      <th>1</th>\n",
       "      <td>1001</td>\n",
       "      <td>36-55</td>\n",
       "      <td>Москва</td>\n",
       "      <td>smart</td>\n",
       "      <td>m</td>\n",
       "      <td>NaN</td>\n",
       "      <td>NaN</td>\n",
       "      <td>NaN</td>\n",
       "      <td>NaN</td>\n",
       "      <td>NaN</td>\n",
       "      <td>NaN</td>\n",
       "      <td>NaN</td>\n",
       "      <td>NaN</td>\n",
       "      <td>NaN</td>\n",
       "      <td>NaN</td>\n",
       "      <td>NaN</td>\n",
       "      <td>NaN</td>\n",
       "    </tr>\n",
       "    <tr>\n",
       "      <th>2</th>\n",
       "      <td>1002</td>\n",
       "      <td>56+</td>\n",
       "      <td>Стерлитамак</td>\n",
       "      <td>smart</td>\n",
       "      <td>m</td>\n",
       "      <td>NaN</td>\n",
       "      <td>NaN</td>\n",
       "      <td>NaN</td>\n",
       "      <td>NaN</td>\n",
       "      <td>NaN</td>\n",
       "      <td>4.0</td>\n",
       "      <td>11.0</td>\n",
       "      <td>13.0</td>\n",
       "      <td>4.0</td>\n",
       "      <td>10.0</td>\n",
       "      <td>16.0</td>\n",
       "      <td>12.0</td>\n",
       "    </tr>\n",
       "    <tr>\n",
       "      <th>3</th>\n",
       "      <td>1003</td>\n",
       "      <td>18-35</td>\n",
       "      <td>Москва</td>\n",
       "      <td>ultra</td>\n",
       "      <td>f</td>\n",
       "      <td>NaN</td>\n",
       "      <td>NaN</td>\n",
       "      <td>NaN</td>\n",
       "      <td>NaN</td>\n",
       "      <td>NaN</td>\n",
       "      <td>NaN</td>\n",
       "      <td>NaN</td>\n",
       "      <td>37.0</td>\n",
       "      <td>91.0</td>\n",
       "      <td>83.0</td>\n",
       "      <td>94.0</td>\n",
       "      <td>75.0</td>\n",
       "    </tr>\n",
       "    <tr>\n",
       "      <th>4</th>\n",
       "      <td>1004</td>\n",
       "      <td>56+</td>\n",
       "      <td>Новокузнецк</td>\n",
       "      <td>ultra</td>\n",
       "      <td>f</td>\n",
       "      <td>NaN</td>\n",
       "      <td>NaN</td>\n",
       "      <td>NaN</td>\n",
       "      <td>NaN</td>\n",
       "      <td>95.0</td>\n",
       "      <td>134.0</td>\n",
       "      <td>181.0</td>\n",
       "      <td>151.0</td>\n",
       "      <td>146.0</td>\n",
       "      <td>165.0</td>\n",
       "      <td>158.0</td>\n",
       "      <td>162.0</td>\n",
       "    </tr>\n",
       "  </tbody>\n",
       "</table>\n",
       "</div>"
      ],
      "text/plain": [
       "   user_id    age         city tariff sex  sms_count_01  sms_count_02  \\\n",
       "0     1000  36-55    Краснодар  ultra   m           NaN           NaN   \n",
       "1     1001  36-55       Москва  smart   m           NaN           NaN   \n",
       "2     1002    56+  Стерлитамак  smart   m           NaN           NaN   \n",
       "3     1003  18-35       Москва  ultra   f           NaN           NaN   \n",
       "4     1004    56+  Новокузнецк  ultra   f           NaN           NaN   \n",
       "\n",
       "   sms_count_03  sms_count_04  sms_count_05  sms_count_06  sms_count_07  \\\n",
       "0           NaN           NaN          22.0          60.0          75.0   \n",
       "1           NaN           NaN           NaN           NaN           NaN   \n",
       "2           NaN           NaN           NaN           4.0          11.0   \n",
       "3           NaN           NaN           NaN           NaN           NaN   \n",
       "4           NaN           NaN          95.0         134.0         181.0   \n",
       "\n",
       "   sms_count_08  sms_count_09  sms_count_10  sms_count_11  sms_count_12  \n",
       "0          81.0          57.0          73.0          58.0          70.0  \n",
       "1           NaN           NaN           NaN           NaN           NaN  \n",
       "2          13.0           4.0          10.0          16.0          12.0  \n",
       "3          37.0          91.0          83.0          94.0          75.0  \n",
       "4         151.0         146.0         165.0         158.0         162.0  "
      ]
     },
     "execution_count": 25,
     "metadata": {},
     "output_type": "execute_result"
    }
   ],
   "source": [
    "messages_data['count'] = 1\n",
    "\n",
    "sms_count_pivot = messages_data.pivot_table(index='user_id', columns='message_date', values='count', aggfunc='count')\n",
    "\n",
    "sms_count_pivot.columns = ['sms_count_01', 'sms_count_02', 'sms_count_03', 'sms_count_04', 'sms_count_05', 'sms_count_06', 'sms_count_07', 'sms_count_08', 'sms_count_09', 'sms_count_10', 'sms_count_11', 'sms_count_12']\n",
    "sms_count_pivot.reset_index(inplace=True)\n",
    "\n",
    "sms_count_pivot = users_data.merge(sms_count_pivot, how='left', on='user_id')\n",
    "\n",
    "# sms_count_pivot = sms_count_pivot.merge(user_id_df, how='right', on='user_id')\n",
    "# sms_count_pivot['tariff'] = users_data['tariff']\n",
    "\n",
    "display(sms_count_pivot.shape)\n",
    "sms_count_pivot.head()"
   ]
  },
  {
   "cell_type": "code",
   "execution_count": 26,
   "id": "ec183ec2-d413-4386-89d0-0198618277bc",
   "metadata": {},
   "outputs": [
    {
     "data": {
      "text/plain": [
       "(500, 17)"
      ]
     },
     "metadata": {},
     "output_type": "display_data"
    },
    {
     "data": {
      "text/html": [
       "<div>\n",
       "<style scoped>\n",
       "    .dataframe tbody tr th:only-of-type {\n",
       "        vertical-align: middle;\n",
       "    }\n",
       "\n",
       "    .dataframe tbody tr th {\n",
       "        vertical-align: top;\n",
       "    }\n",
       "\n",
       "    .dataframe thead th {\n",
       "        text-align: right;\n",
       "    }\n",
       "</style>\n",
       "<table border=\"1\" class=\"dataframe\">\n",
       "  <thead>\n",
       "    <tr style=\"text-align: right;\">\n",
       "      <th></th>\n",
       "      <th>user_id</th>\n",
       "      <th>age</th>\n",
       "      <th>city</th>\n",
       "      <th>tariff</th>\n",
       "      <th>sex</th>\n",
       "      <th>gb_total_01</th>\n",
       "      <th>gb_total_02</th>\n",
       "      <th>gb_total_03</th>\n",
       "      <th>gb_total_04</th>\n",
       "      <th>gb_total_05</th>\n",
       "      <th>gb_total_06</th>\n",
       "      <th>gb_total_07</th>\n",
       "      <th>gb_total_08</th>\n",
       "      <th>gb_total_09</th>\n",
       "      <th>gb_total_10</th>\n",
       "      <th>gb_total_11</th>\n",
       "      <th>gb_total_12</th>\n",
       "    </tr>\n",
       "  </thead>\n",
       "  <tbody>\n",
       "    <tr>\n",
       "      <th>0</th>\n",
       "      <td>1000</td>\n",
       "      <td>36-55</td>\n",
       "      <td>Краснодар</td>\n",
       "      <td>ultra</td>\n",
       "      <td>m</td>\n",
       "      <td>NaN</td>\n",
       "      <td>NaN</td>\n",
       "      <td>NaN</td>\n",
       "      <td>NaN</td>\n",
       "      <td>3.0</td>\n",
       "      <td>23.0</td>\n",
       "      <td>14.0</td>\n",
       "      <td>14.0</td>\n",
       "      <td>15.0</td>\n",
       "      <td>15.0</td>\n",
       "      <td>15.0</td>\n",
       "      <td>10.0</td>\n",
       "    </tr>\n",
       "    <tr>\n",
       "      <th>1</th>\n",
       "      <td>1001</td>\n",
       "      <td>36-55</td>\n",
       "      <td>Москва</td>\n",
       "      <td>smart</td>\n",
       "      <td>m</td>\n",
       "      <td>NaN</td>\n",
       "      <td>NaN</td>\n",
       "      <td>NaN</td>\n",
       "      <td>NaN</td>\n",
       "      <td>NaN</td>\n",
       "      <td>NaN</td>\n",
       "      <td>NaN</td>\n",
       "      <td>NaN</td>\n",
       "      <td>NaN</td>\n",
       "      <td>NaN</td>\n",
       "      <td>18.0</td>\n",
       "      <td>14.0</td>\n",
       "    </tr>\n",
       "    <tr>\n",
       "      <th>2</th>\n",
       "      <td>1002</td>\n",
       "      <td>56+</td>\n",
       "      <td>Стерлитамак</td>\n",
       "      <td>smart</td>\n",
       "      <td>m</td>\n",
       "      <td>NaN</td>\n",
       "      <td>NaN</td>\n",
       "      <td>NaN</td>\n",
       "      <td>NaN</td>\n",
       "      <td>NaN</td>\n",
       "      <td>11.0</td>\n",
       "      <td>18.0</td>\n",
       "      <td>20.0</td>\n",
       "      <td>17.0</td>\n",
       "      <td>14.0</td>\n",
       "      <td>19.0</td>\n",
       "      <td>18.0</td>\n",
       "    </tr>\n",
       "    <tr>\n",
       "      <th>3</th>\n",
       "      <td>1003</td>\n",
       "      <td>18-35</td>\n",
       "      <td>Москва</td>\n",
       "      <td>ultra</td>\n",
       "      <td>f</td>\n",
       "      <td>NaN</td>\n",
       "      <td>NaN</td>\n",
       "      <td>NaN</td>\n",
       "      <td>NaN</td>\n",
       "      <td>NaN</td>\n",
       "      <td>NaN</td>\n",
       "      <td>NaN</td>\n",
       "      <td>9.0</td>\n",
       "      <td>13.0</td>\n",
       "      <td>15.0</td>\n",
       "      <td>12.0</td>\n",
       "      <td>10.0</td>\n",
       "    </tr>\n",
       "    <tr>\n",
       "      <th>4</th>\n",
       "      <td>1004</td>\n",
       "      <td>56+</td>\n",
       "      <td>Новокузнецк</td>\n",
       "      <td>ultra</td>\n",
       "      <td>f</td>\n",
       "      <td>NaN</td>\n",
       "      <td>NaN</td>\n",
       "      <td>NaN</td>\n",
       "      <td>NaN</td>\n",
       "      <td>14.0</td>\n",
       "      <td>18.0</td>\n",
       "      <td>22.0</td>\n",
       "      <td>28.0</td>\n",
       "      <td>15.0</td>\n",
       "      <td>19.0</td>\n",
       "      <td>16.0</td>\n",
       "      <td>18.0</td>\n",
       "    </tr>\n",
       "  </tbody>\n",
       "</table>\n",
       "</div>"
      ],
      "text/plain": [
       "   user_id    age         city tariff sex  gb_total_01  gb_total_02  \\\n",
       "0     1000  36-55    Краснодар  ultra   m          NaN          NaN   \n",
       "1     1001  36-55       Москва  smart   m          NaN          NaN   \n",
       "2     1002    56+  Стерлитамак  smart   m          NaN          NaN   \n",
       "3     1003  18-35       Москва  ultra   f          NaN          NaN   \n",
       "4     1004    56+  Новокузнецк  ultra   f          NaN          NaN   \n",
       "\n",
       "   gb_total_03  gb_total_04  gb_total_05  gb_total_06  gb_total_07  \\\n",
       "0          NaN          NaN          3.0         23.0         14.0   \n",
       "1          NaN          NaN          NaN          NaN          NaN   \n",
       "2          NaN          NaN          NaN         11.0         18.0   \n",
       "3          NaN          NaN          NaN          NaN          NaN   \n",
       "4          NaN          NaN         14.0         18.0         22.0   \n",
       "\n",
       "   gb_total_08  gb_total_09  gb_total_10  gb_total_11  gb_total_12  \n",
       "0         14.0         15.0         15.0         15.0         10.0  \n",
       "1          NaN          NaN          NaN         18.0         14.0  \n",
       "2         20.0         17.0         14.0         19.0         18.0  \n",
       "3          9.0         13.0         15.0         12.0         10.0  \n",
       "4         28.0         15.0         19.0         16.0         18.0  "
      ]
     },
     "execution_count": 26,
     "metadata": {},
     "output_type": "execute_result"
    }
   ],
   "source": [
    "# аналогично с прошлыми сводными таблицами, но делю ее на количество 1024 и округляю в большую сторону, получаю итог Гб за месяц\n",
    "gb_total_pivot = np.ceil(internet_data.pivot_table(index='user_id', columns='session_date', values='mb_used', aggfunc='sum').div(1024))\n",
    "\n",
    "gb_total_pivot.columns = ['gb_total_01', 'gb_total_02', 'gb_total_03', 'gb_total_04', 'gb_total_05', 'gb_total_06', 'gb_total_07', 'gb_total_08', 'gb_total_09', 'gb_total_10', 'gb_total_11', 'gb_total_12']\n",
    "gb_total_pivot.reset_index(inplace=True)\n",
    "\n",
    "gb_total_pivot = users_data.merge(gb_total_pivot, how='left', on='user_id')\n",
    "\n",
    "# gb_total_pivot = gb_total_pivot.merge(user_id_df, how='right', on='user_id')\n",
    "# gb_total_pivot['tariff'] = users_data['tariff']\n",
    "\n",
    "display(gb_total_pivot.shape)\n",
    "gb_total_pivot.head()"
   ]
  },
  {
   "cell_type": "markdown",
   "id": "07d8df66-0a39-45a9-ba64-314f3d16bffd",
   "metadata": {},
   "source": [
    "Для подсчета ежемесячной выручки просто вычту ежемесячный лимит тарифа из потребленного количества услуг каждого сводного датафрейма, в зависимости от тарифа.  \n",
    "Затем приведу отрицательные значения (пользователь не вышел за пределы лимита) к нулю.  \n",
    "При этом месяцы в которые пользователь не использовал тариф содержат NaN значения, и не будут изменены.  \n",
    "\n",
    "После расчетов останется только сложить между собой значения получившихся сводных таблиц выручки, так как они имеют одинаковый размер."
   ]
  },
  {
   "cell_type": "markdown",
   "id": "dfa3fa84-3e44-4c10-8930-bc87c6dca32e",
   "metadata": {},
   "source": [
    "Расчитаю выручку за звонки сверх лимита."
   ]
  },
  {
   "cell_type": "code",
   "execution_count": 27,
   "id": "0fd7a8bf-2fd3-436c-b606-faf55349c181",
   "metadata": {},
   "outputs": [
    {
     "data": {
      "text/plain": [
       "(500, 12)"
      ]
     },
     "metadata": {},
     "output_type": "display_data"
    },
    {
     "data": {
      "text/html": [
       "<div>\n",
       "<style scoped>\n",
       "    .dataframe tbody tr th:only-of-type {\n",
       "        vertical-align: middle;\n",
       "    }\n",
       "\n",
       "    .dataframe tbody tr th {\n",
       "        vertical-align: top;\n",
       "    }\n",
       "\n",
       "    .dataframe thead th {\n",
       "        text-align: right;\n",
       "    }\n",
       "</style>\n",
       "<table border=\"1\" class=\"dataframe\">\n",
       "  <thead>\n",
       "    <tr style=\"text-align: right;\">\n",
       "      <th></th>\n",
       "      <th>revenue_01</th>\n",
       "      <th>revenue_02</th>\n",
       "      <th>revenue_03</th>\n",
       "      <th>revenue_04</th>\n",
       "      <th>revenue_05</th>\n",
       "      <th>revenue_06</th>\n",
       "      <th>revenue_07</th>\n",
       "      <th>revenue_08</th>\n",
       "      <th>revenue_09</th>\n",
       "      <th>revenue_10</th>\n",
       "      <th>revenue_11</th>\n",
       "      <th>revenue_12</th>\n",
       "    </tr>\n",
       "  </thead>\n",
       "  <tbody>\n",
       "    <tr>\n",
       "      <th>5</th>\n",
       "      <td>0.0</td>\n",
       "      <td>0.0</td>\n",
       "      <td>318.0</td>\n",
       "      <td>636.0</td>\n",
       "      <td>285.0</td>\n",
       "      <td>336.0</td>\n",
       "      <td>207.0</td>\n",
       "      <td>357.0</td>\n",
       "      <td>0.0</td>\n",
       "      <td>669.0</td>\n",
       "      <td>141.0</td>\n",
       "      <td>276.0</td>\n",
       "    </tr>\n",
       "    <tr>\n",
       "      <th>7</th>\n",
       "      <td>NaN</td>\n",
       "      <td>NaN</td>\n",
       "      <td>NaN</td>\n",
       "      <td>0.0</td>\n",
       "      <td>0.0</td>\n",
       "      <td>135.0</td>\n",
       "      <td>231.0</td>\n",
       "      <td>0.0</td>\n",
       "      <td>465.0</td>\n",
       "      <td>0.0</td>\n",
       "      <td>240.0</td>\n",
       "      <td>0.0</td>\n",
       "    </tr>\n",
       "    <tr>\n",
       "      <th>11</th>\n",
       "      <td>NaN</td>\n",
       "      <td>NaN</td>\n",
       "      <td>0.0</td>\n",
       "      <td>0.0</td>\n",
       "      <td>0.0</td>\n",
       "      <td>0.0</td>\n",
       "      <td>6.0</td>\n",
       "      <td>45.0</td>\n",
       "      <td>0.0</td>\n",
       "      <td>390.0</td>\n",
       "      <td>3.0</td>\n",
       "      <td>0.0</td>\n",
       "    </tr>\n",
       "    <tr>\n",
       "      <th>15</th>\n",
       "      <td>NaN</td>\n",
       "      <td>NaN</td>\n",
       "      <td>NaN</td>\n",
       "      <td>0.0</td>\n",
       "      <td>0.0</td>\n",
       "      <td>0.0</td>\n",
       "      <td>168.0</td>\n",
       "      <td>0.0</td>\n",
       "      <td>0.0</td>\n",
       "      <td>231.0</td>\n",
       "      <td>0.0</td>\n",
       "      <td>0.0</td>\n",
       "    </tr>\n",
       "    <tr>\n",
       "      <th>25</th>\n",
       "      <td>NaN</td>\n",
       "      <td>NaN</td>\n",
       "      <td>0.0</td>\n",
       "      <td>0.0</td>\n",
       "      <td>156.0</td>\n",
       "      <td>144.0</td>\n",
       "      <td>231.0</td>\n",
       "      <td>0.0</td>\n",
       "      <td>42.0</td>\n",
       "      <td>459.0</td>\n",
       "      <td>189.0</td>\n",
       "      <td>9.0</td>\n",
       "    </tr>\n",
       "  </tbody>\n",
       "</table>\n",
       "</div>"
      ],
      "text/plain": [
       "    revenue_01  revenue_02  revenue_03  revenue_04  revenue_05  revenue_06  \\\n",
       "5          0.0         0.0       318.0       636.0       285.0       336.0   \n",
       "7          NaN         NaN         NaN         0.0         0.0       135.0   \n",
       "11         NaN         NaN         0.0         0.0         0.0         0.0   \n",
       "15         NaN         NaN         NaN         0.0         0.0         0.0   \n",
       "25         NaN         NaN         0.0         0.0       156.0       144.0   \n",
       "\n",
       "    revenue_07  revenue_08  revenue_09  revenue_10  revenue_11  revenue_12  \n",
       "5        207.0       357.0         0.0       669.0       141.0       276.0  \n",
       "7        231.0         0.0       465.0         0.0       240.0         0.0  \n",
       "11         6.0        45.0         0.0       390.0         3.0         0.0  \n",
       "15       168.0         0.0         0.0       231.0         0.0         0.0  \n",
       "25       231.0         0.0        42.0       459.0       189.0         9.0  "
      ]
     },
     "execution_count": 27,
     "metadata": {},
     "output_type": "execute_result"
    }
   ],
   "source": [
    "# создам два Series с ежемесячным лимитом tariff_inc и стоимостью сверх лимита extra_cost\n",
    "tariff_inc = calls_dur_pivot['tariff'].map({'ultra': 3000, 'smart': 500})\n",
    "extra_cost = calls_dur_pivot['tariff'].map({'ultra': 1, 'smart': 3})\n",
    "\n",
    "# оставлю только помесячные колонки, вычту лимит, избавлюсь от негативных значений и умножу на стоимость сверх лимита\n",
    "calls_dur_revenue = (\n",
    "    calls_dur_pivot.filter(like='calls_dur')\n",
    "    .sub(tariff_inc, axis=0)\n",
    "    .clip(lower=0)\n",
    "    .mul(extra_cost, axis=0)\n",
    ")\n",
    "\n",
    "# изменю названия колонок\n",
    "calls_dur_revenue.columns = ['revenue_01', 'revenue_02', 'revenue_03', 'revenue_04', 'revenue_05', 'revenue_06', 'revenue_07', 'revenue_08', 'revenue_09', 'revenue_10', 'revenue_11', 'revenue_12']\n",
    "\n",
    "# проверю\n",
    "display(calls_dur_revenue.shape)\n",
    "calls_dur_revenue.query('revenue_07 > 0').head()"
   ]
  },
  {
   "cell_type": "markdown",
   "id": "ad6bfaef-a856-4847-8c4d-6f2f0933217e",
   "metadata": {},
   "source": [
    "Расчитаю выручку за сообщения сверх лимита."
   ]
  },
  {
   "cell_type": "code",
   "execution_count": 28,
   "id": "67f70fa2-4670-48bc-a5d3-8775e385fc82",
   "metadata": {},
   "outputs": [
    {
     "data": {
      "text/plain": [
       "(500, 12)"
      ]
     },
     "metadata": {},
     "output_type": "display_data"
    },
    {
     "data": {
      "text/html": [
       "<div>\n",
       "<style scoped>\n",
       "    .dataframe tbody tr th:only-of-type {\n",
       "        vertical-align: middle;\n",
       "    }\n",
       "\n",
       "    .dataframe tbody tr th {\n",
       "        vertical-align: top;\n",
       "    }\n",
       "\n",
       "    .dataframe thead th {\n",
       "        text-align: right;\n",
       "    }\n",
       "</style>\n",
       "<table border=\"1\" class=\"dataframe\">\n",
       "  <thead>\n",
       "    <tr style=\"text-align: right;\">\n",
       "      <th></th>\n",
       "      <th>revenue_01</th>\n",
       "      <th>revenue_02</th>\n",
       "      <th>revenue_03</th>\n",
       "      <th>revenue_04</th>\n",
       "      <th>revenue_05</th>\n",
       "      <th>revenue_06</th>\n",
       "      <th>revenue_07</th>\n",
       "      <th>revenue_08</th>\n",
       "      <th>revenue_09</th>\n",
       "      <th>revenue_10</th>\n",
       "      <th>revenue_11</th>\n",
       "      <th>revenue_12</th>\n",
       "    </tr>\n",
       "  </thead>\n",
       "  <tbody>\n",
       "    <tr>\n",
       "      <th>5</th>\n",
       "      <td>0.0</td>\n",
       "      <td>0.0</td>\n",
       "      <td>18.0</td>\n",
       "      <td>0.0</td>\n",
       "      <td>0.0</td>\n",
       "      <td>0.0</td>\n",
       "      <td>18.0</td>\n",
       "      <td>42.0</td>\n",
       "      <td>6.0</td>\n",
       "      <td>0.0</td>\n",
       "      <td>3.0</td>\n",
       "      <td>12.0</td>\n",
       "    </tr>\n",
       "    <tr>\n",
       "      <th>15</th>\n",
       "      <td>NaN</td>\n",
       "      <td>NaN</td>\n",
       "      <td>NaN</td>\n",
       "      <td>0.0</td>\n",
       "      <td>69.0</td>\n",
       "      <td>90.0</td>\n",
       "      <td>120.0</td>\n",
       "      <td>54.0</td>\n",
       "      <td>54.0</td>\n",
       "      <td>54.0</td>\n",
       "      <td>33.0</td>\n",
       "      <td>72.0</td>\n",
       "    </tr>\n",
       "    <tr>\n",
       "      <th>30</th>\n",
       "      <td>NaN</td>\n",
       "      <td>NaN</td>\n",
       "      <td>NaN</td>\n",
       "      <td>NaN</td>\n",
       "      <td>0.0</td>\n",
       "      <td>168.0</td>\n",
       "      <td>153.0</td>\n",
       "      <td>141.0</td>\n",
       "      <td>129.0</td>\n",
       "      <td>123.0</td>\n",
       "      <td>123.0</td>\n",
       "      <td>126.0</td>\n",
       "    </tr>\n",
       "    <tr>\n",
       "      <th>35</th>\n",
       "      <td>NaN</td>\n",
       "      <td>NaN</td>\n",
       "      <td>NaN</td>\n",
       "      <td>0.0</td>\n",
       "      <td>12.0</td>\n",
       "      <td>3.0</td>\n",
       "      <td>39.0</td>\n",
       "      <td>12.0</td>\n",
       "      <td>0.0</td>\n",
       "      <td>9.0</td>\n",
       "      <td>3.0</td>\n",
       "      <td>3.0</td>\n",
       "    </tr>\n",
       "    <tr>\n",
       "      <th>45</th>\n",
       "      <td>0.0</td>\n",
       "      <td>0.0</td>\n",
       "      <td>24.0</td>\n",
       "      <td>6.0</td>\n",
       "      <td>15.0</td>\n",
       "      <td>45.0</td>\n",
       "      <td>21.0</td>\n",
       "      <td>39.0</td>\n",
       "      <td>6.0</td>\n",
       "      <td>0.0</td>\n",
       "      <td>63.0</td>\n",
       "      <td>0.0</td>\n",
       "    </tr>\n",
       "  </tbody>\n",
       "</table>\n",
       "</div>"
      ],
      "text/plain": [
       "    revenue_01  revenue_02  revenue_03  revenue_04  revenue_05  revenue_06  \\\n",
       "5          0.0         0.0        18.0         0.0         0.0         0.0   \n",
       "15         NaN         NaN         NaN         0.0        69.0        90.0   \n",
       "30         NaN         NaN         NaN         NaN         0.0       168.0   \n",
       "35         NaN         NaN         NaN         0.0        12.0         3.0   \n",
       "45         0.0         0.0        24.0         6.0        15.0        45.0   \n",
       "\n",
       "    revenue_07  revenue_08  revenue_09  revenue_10  revenue_11  revenue_12  \n",
       "5         18.0        42.0         6.0         0.0         3.0        12.0  \n",
       "15       120.0        54.0        54.0        54.0        33.0        72.0  \n",
       "30       153.0       141.0       129.0       123.0       123.0       126.0  \n",
       "35        39.0        12.0         0.0         9.0         3.0         3.0  \n",
       "45        21.0        39.0         6.0         0.0        63.0         0.0  "
      ]
     },
     "execution_count": 28,
     "metadata": {},
     "output_type": "execute_result"
    }
   ],
   "source": [
    "# создам два Series с ежемесячным лимитом tariff_inc и стоимостью сверх лимита extra_cost\n",
    "tariff_inc = sms_count_pivot['tariff'].map({'ultra': 1000, 'smart': 50})\n",
    "extra_cost = sms_count_pivot['tariff'].map({'ultra': 1, 'smart': 3})\n",
    "\n",
    "# оставлю только помесячные колонки, вычту лимит, избавлюсь от негативных значений и умножу на стоимость сверх лимита\n",
    "sms_count_revenue = (\n",
    "    sms_count_pivot.filter(like='sms_count')\n",
    "    .sub(tariff_inc, axis=0)\n",
    "    .clip(lower=0)\n",
    "    .mul(extra_cost, axis=0)\n",
    ")\n",
    "\n",
    "# изменю названия колонок\n",
    "sms_count_revenue.columns = ['revenue_01', 'revenue_02', 'revenue_03', 'revenue_04', 'revenue_05', 'revenue_06', 'revenue_07', 'revenue_08', 'revenue_09', 'revenue_10', 'revenue_11', 'revenue_12']\n",
    "\n",
    "# проверю\n",
    "display(sms_count_revenue.shape)\n",
    "sms_count_revenue.query('revenue_07 > 0').head()"
   ]
  },
  {
   "cell_type": "markdown",
   "id": "8110e137-7f7d-4cd6-ba0f-b4a8588a7a15",
   "metadata": {},
   "source": [
    "Расчитаю выручку за интернет сверх лимита."
   ]
  },
  {
   "cell_type": "code",
   "execution_count": 29,
   "id": "355e3779-b029-4ce8-9df3-99bcccdf5344",
   "metadata": {},
   "outputs": [
    {
     "data": {
      "text/plain": [
       "(500, 12)"
      ]
     },
     "metadata": {},
     "output_type": "display_data"
    },
    {
     "data": {
      "text/html": [
       "<div>\n",
       "<style scoped>\n",
       "    .dataframe tbody tr th:only-of-type {\n",
       "        vertical-align: middle;\n",
       "    }\n",
       "\n",
       "    .dataframe tbody tr th {\n",
       "        vertical-align: top;\n",
       "    }\n",
       "\n",
       "    .dataframe thead th {\n",
       "        text-align: right;\n",
       "    }\n",
       "</style>\n",
       "<table border=\"1\" class=\"dataframe\">\n",
       "  <thead>\n",
       "    <tr style=\"text-align: right;\">\n",
       "      <th></th>\n",
       "      <th>revenue_01</th>\n",
       "      <th>revenue_02</th>\n",
       "      <th>revenue_03</th>\n",
       "      <th>revenue_04</th>\n",
       "      <th>revenue_05</th>\n",
       "      <th>revenue_06</th>\n",
       "      <th>revenue_07</th>\n",
       "      <th>revenue_08</th>\n",
       "      <th>revenue_09</th>\n",
       "      <th>revenue_10</th>\n",
       "      <th>revenue_11</th>\n",
       "      <th>revenue_12</th>\n",
       "    </tr>\n",
       "  </thead>\n",
       "  <tbody>\n",
       "    <tr>\n",
       "      <th>2</th>\n",
       "      <td>NaN</td>\n",
       "      <td>NaN</td>\n",
       "      <td>NaN</td>\n",
       "      <td>NaN</td>\n",
       "      <td>NaN</td>\n",
       "      <td>0.0</td>\n",
       "      <td>600.0</td>\n",
       "      <td>1000.0</td>\n",
       "      <td>400.0</td>\n",
       "      <td>0.0</td>\n",
       "      <td>800.0</td>\n",
       "      <td>600.0</td>\n",
       "    </tr>\n",
       "    <tr>\n",
       "      <th>6</th>\n",
       "      <td>NaN</td>\n",
       "      <td>0.0</td>\n",
       "      <td>400.0</td>\n",
       "      <td>0.0</td>\n",
       "      <td>0.0</td>\n",
       "      <td>0.0</td>\n",
       "      <td>1000.0</td>\n",
       "      <td>800.0</td>\n",
       "      <td>200.0</td>\n",
       "      <td>1000.0</td>\n",
       "      <td>0.0</td>\n",
       "      <td>800.0</td>\n",
       "    </tr>\n",
       "    <tr>\n",
       "      <th>7</th>\n",
       "      <td>NaN</td>\n",
       "      <td>NaN</td>\n",
       "      <td>NaN</td>\n",
       "      <td>0.0</td>\n",
       "      <td>600.0</td>\n",
       "      <td>0.0</td>\n",
       "      <td>200.0</td>\n",
       "      <td>1200.0</td>\n",
       "      <td>0.0</td>\n",
       "      <td>0.0</td>\n",
       "      <td>200.0</td>\n",
       "      <td>0.0</td>\n",
       "    </tr>\n",
       "    <tr>\n",
       "      <th>9</th>\n",
       "      <td>NaN</td>\n",
       "      <td>NaN</td>\n",
       "      <td>0.0</td>\n",
       "      <td>0.0</td>\n",
       "      <td>0.0</td>\n",
       "      <td>200.0</td>\n",
       "      <td>2000.0</td>\n",
       "      <td>1800.0</td>\n",
       "      <td>1400.0</td>\n",
       "      <td>1000.0</td>\n",
       "      <td>400.0</td>\n",
       "      <td>800.0</td>\n",
       "    </tr>\n",
       "    <tr>\n",
       "      <th>11</th>\n",
       "      <td>NaN</td>\n",
       "      <td>NaN</td>\n",
       "      <td>0.0</td>\n",
       "      <td>600.0</td>\n",
       "      <td>600.0</td>\n",
       "      <td>400.0</td>\n",
       "      <td>800.0</td>\n",
       "      <td>1200.0</td>\n",
       "      <td>1400.0</td>\n",
       "      <td>600.0</td>\n",
       "      <td>2000.0</td>\n",
       "      <td>1600.0</td>\n",
       "    </tr>\n",
       "  </tbody>\n",
       "</table>\n",
       "</div>"
      ],
      "text/plain": [
       "    revenue_01  revenue_02  revenue_03  revenue_04  revenue_05  revenue_06  \\\n",
       "2          NaN         NaN         NaN         NaN         NaN         0.0   \n",
       "6          NaN         0.0       400.0         0.0         0.0         0.0   \n",
       "7          NaN         NaN         NaN         0.0       600.0         0.0   \n",
       "9          NaN         NaN         0.0         0.0         0.0       200.0   \n",
       "11         NaN         NaN         0.0       600.0       600.0       400.0   \n",
       "\n",
       "    revenue_07  revenue_08  revenue_09  revenue_10  revenue_11  revenue_12  \n",
       "2        600.0      1000.0       400.0         0.0       800.0       600.0  \n",
       "6       1000.0       800.0       200.0      1000.0         0.0       800.0  \n",
       "7        200.0      1200.0         0.0         0.0       200.0         0.0  \n",
       "9       2000.0      1800.0      1400.0      1000.0       400.0       800.0  \n",
       "11       800.0      1200.0      1400.0       600.0      2000.0      1600.0  "
      ]
     },
     "execution_count": 29,
     "metadata": {},
     "output_type": "execute_result"
    }
   ],
   "source": [
    "# создам два Series с ежемесячным лимитом tariff_inc и стоимостью сверх лимита extra_cost\n",
    "tariff_inc = gb_total_pivot['tariff'].map({'ultra': 30, 'smart': 15})\n",
    "extra_cost = gb_total_pivot['tariff'].map({'ultra': 150, 'smart': 200})\n",
    "\n",
    "# оставлю только помесячные колонки, вычту лимит, избавлюсь от негативных значений и умножу на стоимость сверх лимита\n",
    "gb_total_revenue = (\n",
    "    gb_total_pivot.filter(like='gb_total')\n",
    "    .sub(tariff_inc, axis=0)\n",
    "    .clip(lower=0)\n",
    "    .mul(extra_cost, axis=0)\n",
    ")\n",
    "\n",
    "# изменю названия колонок\n",
    "gb_total_revenue.columns = ['revenue_01', 'revenue_02', 'revenue_03', 'revenue_04', 'revenue_05', 'revenue_06', 'revenue_07', 'revenue_08', 'revenue_09', 'revenue_10', 'revenue_11', 'revenue_12']\n",
    "\n",
    "# проверю\n",
    "display(gb_total_revenue.shape)\n",
    "gb_total_revenue.query('revenue_07 > 0').head()\n"
   ]
  },
  {
   "cell_type": "markdown",
   "id": "61236ee9-9960-46e1-8a68-b98289cc017e",
   "metadata": {},
   "source": [
    "Сведу таблицы выручки вместе и прибавлю абонентскую плату. На выходе получу две сводные таблицы: с общей выручкой и с выручкой только за услуги сверх установленного тарифным планом лимита."
   ]
  },
  {
   "cell_type": "code",
   "execution_count": 30,
   "id": "44a29067-6e6b-41b9-ac81-2599d0720326",
   "metadata": {},
   "outputs": [
    {
     "data": {
      "text/plain": [
       "(500, 17)"
      ]
     },
     "metadata": {},
     "output_type": "display_data"
    },
    {
     "data": {
      "text/plain": [
       "(500, 17)"
      ]
     },
     "metadata": {},
     "output_type": "display_data"
    },
    {
     "data": {
      "text/html": [
       "<div>\n",
       "<style scoped>\n",
       "    .dataframe tbody tr th:only-of-type {\n",
       "        vertical-align: middle;\n",
       "    }\n",
       "\n",
       "    .dataframe tbody tr th {\n",
       "        vertical-align: top;\n",
       "    }\n",
       "\n",
       "    .dataframe thead th {\n",
       "        text-align: right;\n",
       "    }\n",
       "</style>\n",
       "<table border=\"1\" class=\"dataframe\">\n",
       "  <thead>\n",
       "    <tr style=\"text-align: right;\">\n",
       "      <th></th>\n",
       "      <th>user_id</th>\n",
       "      <th>age</th>\n",
       "      <th>city</th>\n",
       "      <th>tariff</th>\n",
       "      <th>sex</th>\n",
       "      <th>revenue_01</th>\n",
       "      <th>revenue_02</th>\n",
       "      <th>revenue_03</th>\n",
       "      <th>revenue_04</th>\n",
       "      <th>revenue_05</th>\n",
       "      <th>revenue_06</th>\n",
       "      <th>revenue_07</th>\n",
       "      <th>revenue_08</th>\n",
       "      <th>revenue_09</th>\n",
       "      <th>revenue_10</th>\n",
       "      <th>revenue_11</th>\n",
       "      <th>revenue_12</th>\n",
       "    </tr>\n",
       "  </thead>\n",
       "  <tbody>\n",
       "    <tr>\n",
       "      <th>0</th>\n",
       "      <td>1000</td>\n",
       "      <td>36-55</td>\n",
       "      <td>Краснодар</td>\n",
       "      <td>ultra</td>\n",
       "      <td>m</td>\n",
       "      <td>NaN</td>\n",
       "      <td>NaN</td>\n",
       "      <td>NaN</td>\n",
       "      <td>NaN</td>\n",
       "      <td>0.0</td>\n",
       "      <td>0.0</td>\n",
       "      <td>0.0</td>\n",
       "      <td>0.0</td>\n",
       "      <td>0.0</td>\n",
       "      <td>0.0</td>\n",
       "      <td>0.0</td>\n",
       "      <td>0.0</td>\n",
       "    </tr>\n",
       "    <tr>\n",
       "      <th>1</th>\n",
       "      <td>1001</td>\n",
       "      <td>36-55</td>\n",
       "      <td>Москва</td>\n",
       "      <td>smart</td>\n",
       "      <td>m</td>\n",
       "      <td>NaN</td>\n",
       "      <td>NaN</td>\n",
       "      <td>NaN</td>\n",
       "      <td>NaN</td>\n",
       "      <td>NaN</td>\n",
       "      <td>NaN</td>\n",
       "      <td>NaN</td>\n",
       "      <td>NaN</td>\n",
       "      <td>NaN</td>\n",
       "      <td>NaN</td>\n",
       "      <td>600.0</td>\n",
       "      <td>0.0</td>\n",
       "    </tr>\n",
       "    <tr>\n",
       "      <th>2</th>\n",
       "      <td>1002</td>\n",
       "      <td>56+</td>\n",
       "      <td>Стерлитамак</td>\n",
       "      <td>smart</td>\n",
       "      <td>m</td>\n",
       "      <td>NaN</td>\n",
       "      <td>NaN</td>\n",
       "      <td>NaN</td>\n",
       "      <td>NaN</td>\n",
       "      <td>NaN</td>\n",
       "      <td>0.0</td>\n",
       "      <td>600.0</td>\n",
       "      <td>1000.0</td>\n",
       "      <td>400.0</td>\n",
       "      <td>0.0</td>\n",
       "      <td>800.0</td>\n",
       "      <td>600.0</td>\n",
       "    </tr>\n",
       "    <tr>\n",
       "      <th>3</th>\n",
       "      <td>1003</td>\n",
       "      <td>18-35</td>\n",
       "      <td>Москва</td>\n",
       "      <td>ultra</td>\n",
       "      <td>f</td>\n",
       "      <td>NaN</td>\n",
       "      <td>NaN</td>\n",
       "      <td>NaN</td>\n",
       "      <td>NaN</td>\n",
       "      <td>NaN</td>\n",
       "      <td>NaN</td>\n",
       "      <td>NaN</td>\n",
       "      <td>0.0</td>\n",
       "      <td>0.0</td>\n",
       "      <td>0.0</td>\n",
       "      <td>0.0</td>\n",
       "      <td>0.0</td>\n",
       "    </tr>\n",
       "    <tr>\n",
       "      <th>4</th>\n",
       "      <td>1004</td>\n",
       "      <td>56+</td>\n",
       "      <td>Новокузнецк</td>\n",
       "      <td>ultra</td>\n",
       "      <td>f</td>\n",
       "      <td>NaN</td>\n",
       "      <td>NaN</td>\n",
       "      <td>NaN</td>\n",
       "      <td>NaN</td>\n",
       "      <td>0.0</td>\n",
       "      <td>0.0</td>\n",
       "      <td>0.0</td>\n",
       "      <td>0.0</td>\n",
       "      <td>0.0</td>\n",
       "      <td>0.0</td>\n",
       "      <td>0.0</td>\n",
       "      <td>0.0</td>\n",
       "    </tr>\n",
       "  </tbody>\n",
       "</table>\n",
       "</div>"
      ],
      "text/plain": [
       "   user_id    age         city tariff sex  revenue_01  revenue_02  revenue_03  \\\n",
       "0     1000  36-55    Краснодар  ultra   m         NaN         NaN         NaN   \n",
       "1     1001  36-55       Москва  smart   m         NaN         NaN         NaN   \n",
       "2     1002    56+  Стерлитамак  smart   m         NaN         NaN         NaN   \n",
       "3     1003  18-35       Москва  ultra   f         NaN         NaN         NaN   \n",
       "4     1004    56+  Новокузнецк  ultra   f         NaN         NaN         NaN   \n",
       "\n",
       "   revenue_04  revenue_05  revenue_06  revenue_07  revenue_08  revenue_09  \\\n",
       "0         NaN         0.0         0.0         0.0         0.0         0.0   \n",
       "1         NaN         NaN         NaN         NaN         NaN         NaN   \n",
       "2         NaN         NaN         0.0       600.0      1000.0       400.0   \n",
       "3         NaN         NaN         NaN         NaN         0.0         0.0   \n",
       "4         NaN         0.0         0.0         0.0         0.0         0.0   \n",
       "\n",
       "   revenue_10  revenue_11  revenue_12  \n",
       "0         0.0         0.0         0.0  \n",
       "1         NaN       600.0         0.0  \n",
       "2         0.0       800.0       600.0  \n",
       "3         0.0         0.0         0.0  \n",
       "4         0.0         0.0         0.0  "
      ]
     },
     "metadata": {},
     "output_type": "display_data"
    },
    {
     "data": {
      "text/html": [
       "<div>\n",
       "<style scoped>\n",
       "    .dataframe tbody tr th:only-of-type {\n",
       "        vertical-align: middle;\n",
       "    }\n",
       "\n",
       "    .dataframe tbody tr th {\n",
       "        vertical-align: top;\n",
       "    }\n",
       "\n",
       "    .dataframe thead th {\n",
       "        text-align: right;\n",
       "    }\n",
       "</style>\n",
       "<table border=\"1\" class=\"dataframe\">\n",
       "  <thead>\n",
       "    <tr style=\"text-align: right;\">\n",
       "      <th></th>\n",
       "      <th>user_id</th>\n",
       "      <th>age</th>\n",
       "      <th>city</th>\n",
       "      <th>tariff</th>\n",
       "      <th>sex</th>\n",
       "      <th>revenue_01</th>\n",
       "      <th>revenue_02</th>\n",
       "      <th>revenue_03</th>\n",
       "      <th>revenue_04</th>\n",
       "      <th>revenue_05</th>\n",
       "      <th>revenue_06</th>\n",
       "      <th>revenue_07</th>\n",
       "      <th>revenue_08</th>\n",
       "      <th>revenue_09</th>\n",
       "      <th>revenue_10</th>\n",
       "      <th>revenue_11</th>\n",
       "      <th>revenue_12</th>\n",
       "    </tr>\n",
       "  </thead>\n",
       "  <tbody>\n",
       "    <tr>\n",
       "      <th>0</th>\n",
       "      <td>1000</td>\n",
       "      <td>36-55</td>\n",
       "      <td>Краснодар</td>\n",
       "      <td>ultra</td>\n",
       "      <td>m</td>\n",
       "      <td>NaN</td>\n",
       "      <td>NaN</td>\n",
       "      <td>NaN</td>\n",
       "      <td>NaN</td>\n",
       "      <td>1950.0</td>\n",
       "      <td>1950.0</td>\n",
       "      <td>1950.0</td>\n",
       "      <td>1950.0</td>\n",
       "      <td>1950.0</td>\n",
       "      <td>1950.0</td>\n",
       "      <td>1950.0</td>\n",
       "      <td>1950.0</td>\n",
       "    </tr>\n",
       "    <tr>\n",
       "      <th>1</th>\n",
       "      <td>1001</td>\n",
       "      <td>36-55</td>\n",
       "      <td>Москва</td>\n",
       "      <td>smart</td>\n",
       "      <td>m</td>\n",
       "      <td>NaN</td>\n",
       "      <td>NaN</td>\n",
       "      <td>NaN</td>\n",
       "      <td>NaN</td>\n",
       "      <td>NaN</td>\n",
       "      <td>NaN</td>\n",
       "      <td>NaN</td>\n",
       "      <td>NaN</td>\n",
       "      <td>NaN</td>\n",
       "      <td>NaN</td>\n",
       "      <td>1150.0</td>\n",
       "      <td>550.0</td>\n",
       "    </tr>\n",
       "    <tr>\n",
       "      <th>2</th>\n",
       "      <td>1002</td>\n",
       "      <td>56+</td>\n",
       "      <td>Стерлитамак</td>\n",
       "      <td>smart</td>\n",
       "      <td>m</td>\n",
       "      <td>NaN</td>\n",
       "      <td>NaN</td>\n",
       "      <td>NaN</td>\n",
       "      <td>NaN</td>\n",
       "      <td>NaN</td>\n",
       "      <td>550.0</td>\n",
       "      <td>1150.0</td>\n",
       "      <td>1550.0</td>\n",
       "      <td>950.0</td>\n",
       "      <td>550.0</td>\n",
       "      <td>1350.0</td>\n",
       "      <td>1150.0</td>\n",
       "    </tr>\n",
       "    <tr>\n",
       "      <th>3</th>\n",
       "      <td>1003</td>\n",
       "      <td>18-35</td>\n",
       "      <td>Москва</td>\n",
       "      <td>ultra</td>\n",
       "      <td>f</td>\n",
       "      <td>NaN</td>\n",
       "      <td>NaN</td>\n",
       "      <td>NaN</td>\n",
       "      <td>NaN</td>\n",
       "      <td>NaN</td>\n",
       "      <td>NaN</td>\n",
       "      <td>NaN</td>\n",
       "      <td>1950.0</td>\n",
       "      <td>1950.0</td>\n",
       "      <td>1950.0</td>\n",
       "      <td>1950.0</td>\n",
       "      <td>1950.0</td>\n",
       "    </tr>\n",
       "    <tr>\n",
       "      <th>4</th>\n",
       "      <td>1004</td>\n",
       "      <td>56+</td>\n",
       "      <td>Новокузнецк</td>\n",
       "      <td>ultra</td>\n",
       "      <td>f</td>\n",
       "      <td>NaN</td>\n",
       "      <td>NaN</td>\n",
       "      <td>NaN</td>\n",
       "      <td>NaN</td>\n",
       "      <td>1950.0</td>\n",
       "      <td>1950.0</td>\n",
       "      <td>1950.0</td>\n",
       "      <td>1950.0</td>\n",
       "      <td>1950.0</td>\n",
       "      <td>1950.0</td>\n",
       "      <td>1950.0</td>\n",
       "      <td>1950.0</td>\n",
       "    </tr>\n",
       "  </tbody>\n",
       "</table>\n",
       "</div>"
      ],
      "text/plain": [
       "   user_id    age         city tariff sex  revenue_01  revenue_02  revenue_03  \\\n",
       "0     1000  36-55    Краснодар  ultra   m         NaN         NaN         NaN   \n",
       "1     1001  36-55       Москва  smart   m         NaN         NaN         NaN   \n",
       "2     1002    56+  Стерлитамак  smart   m         NaN         NaN         NaN   \n",
       "3     1003  18-35       Москва  ultra   f         NaN         NaN         NaN   \n",
       "4     1004    56+  Новокузнецк  ultra   f         NaN         NaN         NaN   \n",
       "\n",
       "   revenue_04  revenue_05  revenue_06  revenue_07  revenue_08  revenue_09  \\\n",
       "0         NaN      1950.0      1950.0      1950.0      1950.0      1950.0   \n",
       "1         NaN         NaN         NaN         NaN         NaN         NaN   \n",
       "2         NaN         NaN       550.0      1150.0      1550.0       950.0   \n",
       "3         NaN         NaN         NaN         NaN      1950.0      1950.0   \n",
       "4         NaN      1950.0      1950.0      1950.0      1950.0      1950.0   \n",
       "\n",
       "   revenue_10  revenue_11  revenue_12  \n",
       "0      1950.0      1950.0      1950.0  \n",
       "1         NaN      1150.0       550.0  \n",
       "2       550.0      1350.0      1150.0  \n",
       "3      1950.0      1950.0      1950.0  \n",
       "4      1950.0      1950.0      1950.0  "
      ]
     },
     "execution_count": 30,
     "metadata": {},
     "output_type": "execute_result"
    }
   ],
   "source": [
    "# так как форма и название оклонок совпадают, воспользуюсь методом pandas.DataFrame.add\n",
    "# так как он позволяет заменить NaN знаения нулем только в случае арифметической операции\n",
    "revenue_service = calls_dur_revenue.add(sms_count_revenue, fill_value=0)\n",
    "revenue_service = revenue_service.add(gb_total_revenue, fill_value=0)\n",
    "\n",
    "# для прибавления выручки создам Series с абонентской платой monthly_cost. Можно воспользоваться любой колонкой ['tariff'], форма совпадает\n",
    "monthly_cost = gb_total_pivot['tariff'].map({'ultra': 1950, 'smart': 550})\n",
    "revenue_total = revenue_service.filter(like='revenue').add(monthly_cost, axis=0)\n",
    "\n",
    "# приведу сводные табилцу выручки к единому формату с остальными\n",
    "revenue_service = users_data.merge(revenue_service, how='left', left_index=True, right_index=True)\n",
    "revenue_total = users_data.merge(revenue_total, how='left', left_index=True, right_index=True)\n",
    "\n",
    "display(revenue_service.shape)\n",
    "display(revenue_total.shape)\n",
    "display(revenue_service.head())\n",
    "revenue_total.head()"
   ]
  },
  {
   "cell_type": "markdown",
   "id": "bd973ff9-8ce8-4722-a30f-fcea0d107f1d",
   "metadata": {},
   "source": [
    "Получил сводную таблицу выручки, где пропущенные значения это месяцы в которые пользователь еще не являлся абонентом. Это позволит рассчитать среднегодовую выручку не искажая данные нулевыми месяцами. Теперь приведу таблицы выручки по отдельным услугам к единому формату."
   ]
  },
  {
   "cell_type": "code",
   "execution_count": 31,
   "id": "3db915fd-cc55-48b3-bea1-899018c9ebf9",
   "metadata": {},
   "outputs": [
    {
     "data": {
      "text/plain": [
       "(500, 17)"
      ]
     },
     "metadata": {},
     "output_type": "display_data"
    },
    {
     "data": {
      "text/html": [
       "<div>\n",
       "<style scoped>\n",
       "    .dataframe tbody tr th:only-of-type {\n",
       "        vertical-align: middle;\n",
       "    }\n",
       "\n",
       "    .dataframe tbody tr th {\n",
       "        vertical-align: top;\n",
       "    }\n",
       "\n",
       "    .dataframe thead th {\n",
       "        text-align: right;\n",
       "    }\n",
       "</style>\n",
       "<table border=\"1\" class=\"dataframe\">\n",
       "  <thead>\n",
       "    <tr style=\"text-align: right;\">\n",
       "      <th></th>\n",
       "      <th>user_id</th>\n",
       "      <th>age</th>\n",
       "      <th>city</th>\n",
       "      <th>tariff</th>\n",
       "      <th>sex</th>\n",
       "      <th>revenue_01</th>\n",
       "      <th>revenue_02</th>\n",
       "      <th>revenue_03</th>\n",
       "      <th>revenue_04</th>\n",
       "      <th>revenue_05</th>\n",
       "      <th>revenue_06</th>\n",
       "      <th>revenue_07</th>\n",
       "      <th>revenue_08</th>\n",
       "      <th>revenue_09</th>\n",
       "      <th>revenue_10</th>\n",
       "      <th>revenue_11</th>\n",
       "      <th>revenue_12</th>\n",
       "    </tr>\n",
       "  </thead>\n",
       "  <tbody>\n",
       "    <tr>\n",
       "      <th>5</th>\n",
       "      <td>1005</td>\n",
       "      <td>56+</td>\n",
       "      <td>Набережные Челны</td>\n",
       "      <td>smart</td>\n",
       "      <td>m</td>\n",
       "      <td>0.0</td>\n",
       "      <td>0.0</td>\n",
       "      <td>318.0</td>\n",
       "      <td>636.0</td>\n",
       "      <td>285.0</td>\n",
       "      <td>336.0</td>\n",
       "      <td>207.0</td>\n",
       "      <td>357.0</td>\n",
       "      <td>0.0</td>\n",
       "      <td>669.0</td>\n",
       "      <td>141.0</td>\n",
       "      <td>276.0</td>\n",
       "    </tr>\n",
       "    <tr>\n",
       "      <th>7</th>\n",
       "      <td>1007</td>\n",
       "      <td>56+</td>\n",
       "      <td>Москва</td>\n",
       "      <td>smart</td>\n",
       "      <td>f</td>\n",
       "      <td>NaN</td>\n",
       "      <td>NaN</td>\n",
       "      <td>NaN</td>\n",
       "      <td>0.0</td>\n",
       "      <td>0.0</td>\n",
       "      <td>135.0</td>\n",
       "      <td>231.0</td>\n",
       "      <td>0.0</td>\n",
       "      <td>465.0</td>\n",
       "      <td>0.0</td>\n",
       "      <td>240.0</td>\n",
       "      <td>0.0</td>\n",
       "    </tr>\n",
       "    <tr>\n",
       "      <th>11</th>\n",
       "      <td>1011</td>\n",
       "      <td>36-55</td>\n",
       "      <td>Самара</td>\n",
       "      <td>smart</td>\n",
       "      <td>f</td>\n",
       "      <td>NaN</td>\n",
       "      <td>NaN</td>\n",
       "      <td>0.0</td>\n",
       "      <td>0.0</td>\n",
       "      <td>0.0</td>\n",
       "      <td>0.0</td>\n",
       "      <td>6.0</td>\n",
       "      <td>45.0</td>\n",
       "      <td>0.0</td>\n",
       "      <td>390.0</td>\n",
       "      <td>3.0</td>\n",
       "      <td>0.0</td>\n",
       "    </tr>\n",
       "    <tr>\n",
       "      <th>15</th>\n",
       "      <td>1015</td>\n",
       "      <td>18-35</td>\n",
       "      <td>Челябинск</td>\n",
       "      <td>smart</td>\n",
       "      <td>f</td>\n",
       "      <td>NaN</td>\n",
       "      <td>NaN</td>\n",
       "      <td>NaN</td>\n",
       "      <td>0.0</td>\n",
       "      <td>0.0</td>\n",
       "      <td>0.0</td>\n",
       "      <td>168.0</td>\n",
       "      <td>0.0</td>\n",
       "      <td>0.0</td>\n",
       "      <td>231.0</td>\n",
       "      <td>0.0</td>\n",
       "      <td>0.0</td>\n",
       "    </tr>\n",
       "    <tr>\n",
       "      <th>25</th>\n",
       "      <td>1025</td>\n",
       "      <td>56+</td>\n",
       "      <td>Уфа</td>\n",
       "      <td>smart</td>\n",
       "      <td>m</td>\n",
       "      <td>NaN</td>\n",
       "      <td>NaN</td>\n",
       "      <td>0.0</td>\n",
       "      <td>0.0</td>\n",
       "      <td>156.0</td>\n",
       "      <td>144.0</td>\n",
       "      <td>231.0</td>\n",
       "      <td>0.0</td>\n",
       "      <td>42.0</td>\n",
       "      <td>459.0</td>\n",
       "      <td>189.0</td>\n",
       "      <td>9.0</td>\n",
       "    </tr>\n",
       "  </tbody>\n",
       "</table>\n",
       "</div>"
      ],
      "text/plain": [
       "    user_id    age              city tariff sex  revenue_01  revenue_02  \\\n",
       "5      1005    56+  Набережные Челны  smart   m         0.0         0.0   \n",
       "7      1007    56+            Москва  smart   f         NaN         NaN   \n",
       "11     1011  36-55            Самара  smart   f         NaN         NaN   \n",
       "15     1015  18-35         Челябинск  smart   f         NaN         NaN   \n",
       "25     1025    56+               Уфа  smart   m         NaN         NaN   \n",
       "\n",
       "    revenue_03  revenue_04  revenue_05  revenue_06  revenue_07  revenue_08  \\\n",
       "5        318.0       636.0       285.0       336.0       207.0       357.0   \n",
       "7          NaN         0.0         0.0       135.0       231.0         0.0   \n",
       "11         0.0         0.0         0.0         0.0         6.0        45.0   \n",
       "15         NaN         0.0         0.0         0.0       168.0         0.0   \n",
       "25         0.0         0.0       156.0       144.0       231.0         0.0   \n",
       "\n",
       "    revenue_09  revenue_10  revenue_11  revenue_12  \n",
       "5          0.0       669.0       141.0       276.0  \n",
       "7        465.0         0.0       240.0         0.0  \n",
       "11         0.0       390.0         3.0         0.0  \n",
       "15         0.0       231.0         0.0         0.0  \n",
       "25        42.0       459.0       189.0         9.0  "
      ]
     },
     "execution_count": 31,
     "metadata": {},
     "output_type": "execute_result"
    }
   ],
   "source": [
    "calls_dur_revenue = users_data.merge(calls_dur_revenue, how='left', left_index=True, right_index=True)\n",
    "\n",
    "display(calls_dur_revenue.shape)\n",
    "calls_dur_revenue.query('revenue_07 > 0').head()"
   ]
  },
  {
   "cell_type": "code",
   "execution_count": 32,
   "id": "e266b723-5197-476d-8cb5-bda111a87cff",
   "metadata": {},
   "outputs": [
    {
     "data": {
      "text/plain": [
       "(500, 17)"
      ]
     },
     "metadata": {},
     "output_type": "display_data"
    },
    {
     "data": {
      "text/html": [
       "<div>\n",
       "<style scoped>\n",
       "    .dataframe tbody tr th:only-of-type {\n",
       "        vertical-align: middle;\n",
       "    }\n",
       "\n",
       "    .dataframe tbody tr th {\n",
       "        vertical-align: top;\n",
       "    }\n",
       "\n",
       "    .dataframe thead th {\n",
       "        text-align: right;\n",
       "    }\n",
       "</style>\n",
       "<table border=\"1\" class=\"dataframe\">\n",
       "  <thead>\n",
       "    <tr style=\"text-align: right;\">\n",
       "      <th></th>\n",
       "      <th>user_id</th>\n",
       "      <th>age</th>\n",
       "      <th>city</th>\n",
       "      <th>tariff</th>\n",
       "      <th>sex</th>\n",
       "      <th>revenue_01</th>\n",
       "      <th>revenue_02</th>\n",
       "      <th>revenue_03</th>\n",
       "      <th>revenue_04</th>\n",
       "      <th>revenue_05</th>\n",
       "      <th>revenue_06</th>\n",
       "      <th>revenue_07</th>\n",
       "      <th>revenue_08</th>\n",
       "      <th>revenue_09</th>\n",
       "      <th>revenue_10</th>\n",
       "      <th>revenue_11</th>\n",
       "      <th>revenue_12</th>\n",
       "    </tr>\n",
       "  </thead>\n",
       "  <tbody>\n",
       "    <tr>\n",
       "      <th>5</th>\n",
       "      <td>1005</td>\n",
       "      <td>56+</td>\n",
       "      <td>Набережные Челны</td>\n",
       "      <td>smart</td>\n",
       "      <td>m</td>\n",
       "      <td>0.0</td>\n",
       "      <td>0.0</td>\n",
       "      <td>18.0</td>\n",
       "      <td>0.0</td>\n",
       "      <td>0.0</td>\n",
       "      <td>0.0</td>\n",
       "      <td>18.0</td>\n",
       "      <td>42.0</td>\n",
       "      <td>6.0</td>\n",
       "      <td>0.0</td>\n",
       "      <td>3.0</td>\n",
       "      <td>12.0</td>\n",
       "    </tr>\n",
       "    <tr>\n",
       "      <th>15</th>\n",
       "      <td>1015</td>\n",
       "      <td>18-35</td>\n",
       "      <td>Челябинск</td>\n",
       "      <td>smart</td>\n",
       "      <td>f</td>\n",
       "      <td>NaN</td>\n",
       "      <td>NaN</td>\n",
       "      <td>NaN</td>\n",
       "      <td>0.0</td>\n",
       "      <td>69.0</td>\n",
       "      <td>90.0</td>\n",
       "      <td>120.0</td>\n",
       "      <td>54.0</td>\n",
       "      <td>54.0</td>\n",
       "      <td>54.0</td>\n",
       "      <td>33.0</td>\n",
       "      <td>72.0</td>\n",
       "    </tr>\n",
       "    <tr>\n",
       "      <th>30</th>\n",
       "      <td>1030</td>\n",
       "      <td>18-35</td>\n",
       "      <td>Махачкала</td>\n",
       "      <td>smart</td>\n",
       "      <td>f</td>\n",
       "      <td>NaN</td>\n",
       "      <td>NaN</td>\n",
       "      <td>NaN</td>\n",
       "      <td>NaN</td>\n",
       "      <td>0.0</td>\n",
       "      <td>168.0</td>\n",
       "      <td>153.0</td>\n",
       "      <td>141.0</td>\n",
       "      <td>129.0</td>\n",
       "      <td>123.0</td>\n",
       "      <td>123.0</td>\n",
       "      <td>126.0</td>\n",
       "    </tr>\n",
       "    <tr>\n",
       "      <th>35</th>\n",
       "      <td>1035</td>\n",
       "      <td>36-55</td>\n",
       "      <td>Тюмень</td>\n",
       "      <td>smart</td>\n",
       "      <td>f</td>\n",
       "      <td>NaN</td>\n",
       "      <td>NaN</td>\n",
       "      <td>NaN</td>\n",
       "      <td>0.0</td>\n",
       "      <td>12.0</td>\n",
       "      <td>3.0</td>\n",
       "      <td>39.0</td>\n",
       "      <td>12.0</td>\n",
       "      <td>0.0</td>\n",
       "      <td>9.0</td>\n",
       "      <td>3.0</td>\n",
       "      <td>3.0</td>\n",
       "    </tr>\n",
       "    <tr>\n",
       "      <th>45</th>\n",
       "      <td>1045</td>\n",
       "      <td>36-55</td>\n",
       "      <td>Улан-Удэ</td>\n",
       "      <td>smart</td>\n",
       "      <td>f</td>\n",
       "      <td>0.0</td>\n",
       "      <td>0.0</td>\n",
       "      <td>24.0</td>\n",
       "      <td>6.0</td>\n",
       "      <td>15.0</td>\n",
       "      <td>45.0</td>\n",
       "      <td>21.0</td>\n",
       "      <td>39.0</td>\n",
       "      <td>6.0</td>\n",
       "      <td>0.0</td>\n",
       "      <td>63.0</td>\n",
       "      <td>0.0</td>\n",
       "    </tr>\n",
       "  </tbody>\n",
       "</table>\n",
       "</div>"
      ],
      "text/plain": [
       "    user_id    age              city tariff sex  revenue_01  revenue_02  \\\n",
       "5      1005    56+  Набережные Челны  smart   m         0.0         0.0   \n",
       "15     1015  18-35         Челябинск  smart   f         NaN         NaN   \n",
       "30     1030  18-35         Махачкала  smart   f         NaN         NaN   \n",
       "35     1035  36-55            Тюмень  smart   f         NaN         NaN   \n",
       "45     1045  36-55          Улан-Удэ  smart   f         0.0         0.0   \n",
       "\n",
       "    revenue_03  revenue_04  revenue_05  revenue_06  revenue_07  revenue_08  \\\n",
       "5         18.0         0.0         0.0         0.0        18.0        42.0   \n",
       "15         NaN         0.0        69.0        90.0       120.0        54.0   \n",
       "30         NaN         NaN         0.0       168.0       153.0       141.0   \n",
       "35         NaN         0.0        12.0         3.0        39.0        12.0   \n",
       "45        24.0         6.0        15.0        45.0        21.0        39.0   \n",
       "\n",
       "    revenue_09  revenue_10  revenue_11  revenue_12  \n",
       "5          6.0         0.0         3.0        12.0  \n",
       "15        54.0        54.0        33.0        72.0  \n",
       "30       129.0       123.0       123.0       126.0  \n",
       "35         0.0         9.0         3.0         3.0  \n",
       "45         6.0         0.0        63.0         0.0  "
      ]
     },
     "execution_count": 32,
     "metadata": {},
     "output_type": "execute_result"
    }
   ],
   "source": [
    "sms_count_revenue = users_data.merge(sms_count_revenue, how='left', left_index=True, right_index=True)\n",
    "\n",
    "display(sms_count_revenue.shape)\n",
    "sms_count_revenue.query('revenue_07 > 0').head()"
   ]
  },
  {
   "cell_type": "code",
   "execution_count": 33,
   "id": "5b76f85a-087e-4251-b4b5-79b1b0527a63",
   "metadata": {},
   "outputs": [
    {
     "data": {
      "text/plain": [
       "(500, 17)"
      ]
     },
     "metadata": {},
     "output_type": "display_data"
    },
    {
     "data": {
      "text/html": [
       "<div>\n",
       "<style scoped>\n",
       "    .dataframe tbody tr th:only-of-type {\n",
       "        vertical-align: middle;\n",
       "    }\n",
       "\n",
       "    .dataframe tbody tr th {\n",
       "        vertical-align: top;\n",
       "    }\n",
       "\n",
       "    .dataframe thead th {\n",
       "        text-align: right;\n",
       "    }\n",
       "</style>\n",
       "<table border=\"1\" class=\"dataframe\">\n",
       "  <thead>\n",
       "    <tr style=\"text-align: right;\">\n",
       "      <th></th>\n",
       "      <th>user_id</th>\n",
       "      <th>age</th>\n",
       "      <th>city</th>\n",
       "      <th>tariff</th>\n",
       "      <th>sex</th>\n",
       "      <th>revenue_01</th>\n",
       "      <th>revenue_02</th>\n",
       "      <th>revenue_03</th>\n",
       "      <th>revenue_04</th>\n",
       "      <th>revenue_05</th>\n",
       "      <th>revenue_06</th>\n",
       "      <th>revenue_07</th>\n",
       "      <th>revenue_08</th>\n",
       "      <th>revenue_09</th>\n",
       "      <th>revenue_10</th>\n",
       "      <th>revenue_11</th>\n",
       "      <th>revenue_12</th>\n",
       "    </tr>\n",
       "  </thead>\n",
       "  <tbody>\n",
       "    <tr>\n",
       "      <th>2</th>\n",
       "      <td>1002</td>\n",
       "      <td>56+</td>\n",
       "      <td>Стерлитамак</td>\n",
       "      <td>smart</td>\n",
       "      <td>m</td>\n",
       "      <td>NaN</td>\n",
       "      <td>NaN</td>\n",
       "      <td>NaN</td>\n",
       "      <td>NaN</td>\n",
       "      <td>NaN</td>\n",
       "      <td>0.0</td>\n",
       "      <td>600.0</td>\n",
       "      <td>1000.0</td>\n",
       "      <td>400.0</td>\n",
       "      <td>0.0</td>\n",
       "      <td>800.0</td>\n",
       "      <td>600.0</td>\n",
       "    </tr>\n",
       "    <tr>\n",
       "      <th>6</th>\n",
       "      <td>1006</td>\n",
       "      <td>18-35</td>\n",
       "      <td>Ульяновск</td>\n",
       "      <td>smart</td>\n",
       "      <td>m</td>\n",
       "      <td>NaN</td>\n",
       "      <td>0.0</td>\n",
       "      <td>400.0</td>\n",
       "      <td>0.0</td>\n",
       "      <td>0.0</td>\n",
       "      <td>0.0</td>\n",
       "      <td>1000.0</td>\n",
       "      <td>800.0</td>\n",
       "      <td>200.0</td>\n",
       "      <td>1000.0</td>\n",
       "      <td>0.0</td>\n",
       "      <td>800.0</td>\n",
       "    </tr>\n",
       "    <tr>\n",
       "      <th>7</th>\n",
       "      <td>1007</td>\n",
       "      <td>56+</td>\n",
       "      <td>Москва</td>\n",
       "      <td>smart</td>\n",
       "      <td>f</td>\n",
       "      <td>NaN</td>\n",
       "      <td>NaN</td>\n",
       "      <td>NaN</td>\n",
       "      <td>0.0</td>\n",
       "      <td>600.0</td>\n",
       "      <td>0.0</td>\n",
       "      <td>200.0</td>\n",
       "      <td>1200.0</td>\n",
       "      <td>0.0</td>\n",
       "      <td>0.0</td>\n",
       "      <td>200.0</td>\n",
       "      <td>0.0</td>\n",
       "    </tr>\n",
       "    <tr>\n",
       "      <th>9</th>\n",
       "      <td>1009</td>\n",
       "      <td>18-35</td>\n",
       "      <td>Пермь</td>\n",
       "      <td>smart</td>\n",
       "      <td>f</td>\n",
       "      <td>NaN</td>\n",
       "      <td>NaN</td>\n",
       "      <td>0.0</td>\n",
       "      <td>0.0</td>\n",
       "      <td>0.0</td>\n",
       "      <td>200.0</td>\n",
       "      <td>2000.0</td>\n",
       "      <td>1800.0</td>\n",
       "      <td>1400.0</td>\n",
       "      <td>1000.0</td>\n",
       "      <td>400.0</td>\n",
       "      <td>800.0</td>\n",
       "    </tr>\n",
       "    <tr>\n",
       "      <th>11</th>\n",
       "      <td>1011</td>\n",
       "      <td>36-55</td>\n",
       "      <td>Самара</td>\n",
       "      <td>smart</td>\n",
       "      <td>f</td>\n",
       "      <td>NaN</td>\n",
       "      <td>NaN</td>\n",
       "      <td>0.0</td>\n",
       "      <td>600.0</td>\n",
       "      <td>600.0</td>\n",
       "      <td>400.0</td>\n",
       "      <td>800.0</td>\n",
       "      <td>1200.0</td>\n",
       "      <td>1400.0</td>\n",
       "      <td>600.0</td>\n",
       "      <td>2000.0</td>\n",
       "      <td>1600.0</td>\n",
       "    </tr>\n",
       "  </tbody>\n",
       "</table>\n",
       "</div>"
      ],
      "text/plain": [
       "    user_id    age         city tariff sex  revenue_01  revenue_02  \\\n",
       "2      1002    56+  Стерлитамак  smart   m         NaN         NaN   \n",
       "6      1006  18-35    Ульяновск  smart   m         NaN         0.0   \n",
       "7      1007    56+       Москва  smart   f         NaN         NaN   \n",
       "9      1009  18-35        Пермь  smart   f         NaN         NaN   \n",
       "11     1011  36-55       Самара  smart   f         NaN         NaN   \n",
       "\n",
       "    revenue_03  revenue_04  revenue_05  revenue_06  revenue_07  revenue_08  \\\n",
       "2          NaN         NaN         NaN         0.0       600.0      1000.0   \n",
       "6        400.0         0.0         0.0         0.0      1000.0       800.0   \n",
       "7          NaN         0.0       600.0         0.0       200.0      1200.0   \n",
       "9          0.0         0.0         0.0       200.0      2000.0      1800.0   \n",
       "11         0.0       600.0       600.0       400.0       800.0      1200.0   \n",
       "\n",
       "    revenue_09  revenue_10  revenue_11  revenue_12  \n",
       "2        400.0         0.0       800.0       600.0  \n",
       "6        200.0      1000.0         0.0       800.0  \n",
       "7          0.0         0.0       200.0         0.0  \n",
       "9       1400.0      1000.0       400.0       800.0  \n",
       "11      1400.0       600.0      2000.0      1600.0  "
      ]
     },
     "execution_count": 33,
     "metadata": {},
     "output_type": "execute_result"
    }
   ],
   "source": [
    "gb_total_revenue = users_data.merge(gb_total_revenue, how='left', left_index=True, right_index=True)\n",
    "\n",
    "display(gb_total_revenue.shape)\n",
    "gb_total_revenue.query('revenue_07 > 0').head()"
   ]
  },
  {
   "cell_type": "markdown",
   "id": "ca9f7a96-73af-4008-b532-63a402bab87c",
   "metadata": {},
   "source": [
    "Добавлю колонки со среднемесячным потреблением услуг и среднемесячной выручкой в соответствующие таблицы."
   ]
  },
  {
   "cell_type": "code",
   "execution_count": 34,
   "id": "ebd65d18-d050-46b7-acce-74802995414b",
   "metadata": {},
   "outputs": [
    {
     "data": {
      "text/plain": [
       "0    1950.000000\n",
       "1     850.000000\n",
       "2    1035.714286\n",
       "3    1950.000000\n",
       "4    1950.000000\n",
       "Name: revenue_total_mean, dtype: float64"
      ]
     },
     "execution_count": 34,
     "metadata": {},
     "output_type": "execute_result"
    }
   ],
   "source": [
    "revenue_total['revenue_total_mean'] = revenue_total.filter(like='revenue').mean(axis=1)\n",
    "revenue_total['revenue_total_mean'].head()"
   ]
  },
  {
   "cell_type": "code",
   "execution_count": 35,
   "id": "5c17f769-c34c-4b2b-a1b8-7fd91dcaebb8",
   "metadata": {},
   "outputs": [],
   "source": [
    "# воспользуюсь тем же методом для остальных таблиц\n",
    "calls_dur_pivot['calls_dur_mean'] = calls_dur_pivot.filter(like='calls_dur').mean(axis=1)\n",
    "calls_count_pivot['calls_count_mean'] = calls_count_pivot.filter(like='calls_count').mean(axis=1)\n",
    "sms_count_pivot['sms_count_mean'] = sms_count_pivot.filter(like='sms_count').mean(axis=1)\n",
    "gb_total_pivot['gb_total_mean'] = gb_total_pivot.filter(like='gb_total').mean(axis=1)\n",
    "\n",
    "revenue_service['revenue_service_mean'] = revenue_service.filter(like='revenue').mean(axis=1)\n",
    "calls_dur_revenue['calls_dur_revenue_mean'] = calls_dur_revenue.filter(like='revenue').mean(axis=1)\n",
    "sms_count_revenue['sms_count_revenue_mean'] = sms_count_revenue.filter(like='revenue').mean(axis=1)\n",
    "gb_total_revenue['gb_total_revenue_mean'] = gb_total_revenue.filter(like='revenue').mean(axis=1)"
   ]
  },
  {
   "cell_type": "markdown",
   "id": "9b3d9f56-3075-490a-85f7-2252b495a2b3",
   "metadata": {},
   "source": [
    "Подготовлю булевы маски по которым можно дополнить таблицы `calls_dur_pivot`, `sms_count_pivot` и `gb_total_pivot`. Для этого воспользуюсь таблицей `revenue_total`.  \n",
    "Создам булевы маски по двум условиям - значение в сводной таблице конкретной услуги пропущено, и значение в `revenue_total` не пропущено.  \n",
    "При их сравнении получу маску в которой значение `True` будет присвоено только ячейкам соответствующим тем, которые требуют заполнения нулями.  \n",
    "Сначала опробую метод на таблице `sms_count_pivot`."
   ]
  },
  {
   "cell_type": "code",
   "execution_count": 36,
   "id": "58fb13d2-362f-413f-b3db-21cf55238b94",
   "metadata": {},
   "outputs": [
    {
     "data": {
      "text/html": [
       "<div>\n",
       "<style scoped>\n",
       "    .dataframe tbody tr th:only-of-type {\n",
       "        vertical-align: middle;\n",
       "    }\n",
       "\n",
       "    .dataframe tbody tr th {\n",
       "        vertical-align: top;\n",
       "    }\n",
       "\n",
       "    .dataframe thead th {\n",
       "        text-align: right;\n",
       "    }\n",
       "</style>\n",
       "<table border=\"1\" class=\"dataframe\">\n",
       "  <thead>\n",
       "    <tr style=\"text-align: right;\">\n",
       "      <th></th>\n",
       "      <th>user_id</th>\n",
       "      <th>age</th>\n",
       "      <th>city</th>\n",
       "      <th>tariff</th>\n",
       "      <th>sex</th>\n",
       "      <th>sms_count_01</th>\n",
       "      <th>sms_count_02</th>\n",
       "      <th>sms_count_03</th>\n",
       "      <th>sms_count_04</th>\n",
       "      <th>sms_count_05</th>\n",
       "      <th>sms_count_06</th>\n",
       "      <th>sms_count_07</th>\n",
       "      <th>sms_count_08</th>\n",
       "      <th>sms_count_09</th>\n",
       "      <th>sms_count_10</th>\n",
       "      <th>sms_count_11</th>\n",
       "      <th>sms_count_12</th>\n",
       "      <th>sms_count_mean</th>\n",
       "    </tr>\n",
       "  </thead>\n",
       "  <tbody>\n",
       "    <tr>\n",
       "      <th>0</th>\n",
       "      <td>1000</td>\n",
       "      <td>36-55</td>\n",
       "      <td>Краснодар</td>\n",
       "      <td>ultra</td>\n",
       "      <td>m</td>\n",
       "      <td>NaN</td>\n",
       "      <td>NaN</td>\n",
       "      <td>NaN</td>\n",
       "      <td>NaN</td>\n",
       "      <td>22.0</td>\n",
       "      <td>60.0</td>\n",
       "      <td>75.0</td>\n",
       "      <td>81.0</td>\n",
       "      <td>57.0</td>\n",
       "      <td>73.0</td>\n",
       "      <td>58.0</td>\n",
       "      <td>70.0</td>\n",
       "      <td>62.0</td>\n",
       "    </tr>\n",
       "    <tr>\n",
       "      <th>1</th>\n",
       "      <td>1001</td>\n",
       "      <td>36-55</td>\n",
       "      <td>Москва</td>\n",
       "      <td>smart</td>\n",
       "      <td>m</td>\n",
       "      <td>NaN</td>\n",
       "      <td>NaN</td>\n",
       "      <td>NaN</td>\n",
       "      <td>NaN</td>\n",
       "      <td>NaN</td>\n",
       "      <td>NaN</td>\n",
       "      <td>NaN</td>\n",
       "      <td>NaN</td>\n",
       "      <td>NaN</td>\n",
       "      <td>NaN</td>\n",
       "      <td>NaN</td>\n",
       "      <td>NaN</td>\n",
       "      <td>NaN</td>\n",
       "    </tr>\n",
       "    <tr>\n",
       "      <th>2</th>\n",
       "      <td>1002</td>\n",
       "      <td>56+</td>\n",
       "      <td>Стерлитамак</td>\n",
       "      <td>smart</td>\n",
       "      <td>m</td>\n",
       "      <td>NaN</td>\n",
       "      <td>NaN</td>\n",
       "      <td>NaN</td>\n",
       "      <td>NaN</td>\n",
       "      <td>NaN</td>\n",
       "      <td>4.0</td>\n",
       "      <td>11.0</td>\n",
       "      <td>13.0</td>\n",
       "      <td>4.0</td>\n",
       "      <td>10.0</td>\n",
       "      <td>16.0</td>\n",
       "      <td>12.0</td>\n",
       "      <td>10.0</td>\n",
       "    </tr>\n",
       "    <tr>\n",
       "      <th>3</th>\n",
       "      <td>1003</td>\n",
       "      <td>18-35</td>\n",
       "      <td>Москва</td>\n",
       "      <td>ultra</td>\n",
       "      <td>f</td>\n",
       "      <td>NaN</td>\n",
       "      <td>NaN</td>\n",
       "      <td>NaN</td>\n",
       "      <td>NaN</td>\n",
       "      <td>NaN</td>\n",
       "      <td>NaN</td>\n",
       "      <td>NaN</td>\n",
       "      <td>37.0</td>\n",
       "      <td>91.0</td>\n",
       "      <td>83.0</td>\n",
       "      <td>94.0</td>\n",
       "      <td>75.0</td>\n",
       "      <td>76.0</td>\n",
       "    </tr>\n",
       "    <tr>\n",
       "      <th>4</th>\n",
       "      <td>1004</td>\n",
       "      <td>56+</td>\n",
       "      <td>Новокузнецк</td>\n",
       "      <td>ultra</td>\n",
       "      <td>f</td>\n",
       "      <td>NaN</td>\n",
       "      <td>NaN</td>\n",
       "      <td>NaN</td>\n",
       "      <td>NaN</td>\n",
       "      <td>95.0</td>\n",
       "      <td>134.0</td>\n",
       "      <td>181.0</td>\n",
       "      <td>151.0</td>\n",
       "      <td>146.0</td>\n",
       "      <td>165.0</td>\n",
       "      <td>158.0</td>\n",
       "      <td>162.0</td>\n",
       "      <td>149.0</td>\n",
       "    </tr>\n",
       "  </tbody>\n",
       "</table>\n",
       "</div>"
      ],
      "text/plain": [
       "   user_id    age         city tariff sex  sms_count_01  sms_count_02  \\\n",
       "0     1000  36-55    Краснодар  ultra   m           NaN           NaN   \n",
       "1     1001  36-55       Москва  smart   m           NaN           NaN   \n",
       "2     1002    56+  Стерлитамак  smart   m           NaN           NaN   \n",
       "3     1003  18-35       Москва  ultra   f           NaN           NaN   \n",
       "4     1004    56+  Новокузнецк  ultra   f           NaN           NaN   \n",
       "\n",
       "   sms_count_03  sms_count_04  sms_count_05  sms_count_06  sms_count_07  \\\n",
       "0           NaN           NaN          22.0          60.0          75.0   \n",
       "1           NaN           NaN           NaN           NaN           NaN   \n",
       "2           NaN           NaN           NaN           4.0          11.0   \n",
       "3           NaN           NaN           NaN           NaN           NaN   \n",
       "4           NaN           NaN          95.0         134.0         181.0   \n",
       "\n",
       "   sms_count_08  sms_count_09  sms_count_10  sms_count_11  sms_count_12  \\\n",
       "0          81.0          57.0          73.0          58.0          70.0   \n",
       "1           NaN           NaN           NaN           NaN           NaN   \n",
       "2          13.0           4.0          10.0          16.0          12.0   \n",
       "3          37.0          91.0          83.0          94.0          75.0   \n",
       "4         151.0         146.0         165.0         158.0         162.0   \n",
       "\n",
       "   sms_count_mean  \n",
       "0            62.0  \n",
       "1             NaN  \n",
       "2            10.0  \n",
       "3            76.0  \n",
       "4           149.0  "
      ]
     },
     "execution_count": 36,
     "metadata": {},
     "output_type": "execute_result"
    }
   ],
   "source": [
    "sms_count_pivot.head(5)"
   ]
  },
  {
   "cell_type": "code",
   "execution_count": 37,
   "id": "cd783d5c-3e95-490c-af9b-d671520f64fd",
   "metadata": {},
   "outputs": [
    {
     "data": {
      "text/html": [
       "<div>\n",
       "<style scoped>\n",
       "    .dataframe tbody tr th:only-of-type {\n",
       "        vertical-align: middle;\n",
       "    }\n",
       "\n",
       "    .dataframe tbody tr th {\n",
       "        vertical-align: top;\n",
       "    }\n",
       "\n",
       "    .dataframe thead th {\n",
       "        text-align: right;\n",
       "    }\n",
       "</style>\n",
       "<table border=\"1\" class=\"dataframe\">\n",
       "  <thead>\n",
       "    <tr style=\"text-align: right;\">\n",
       "      <th></th>\n",
       "      <th>user_id</th>\n",
       "      <th>age</th>\n",
       "      <th>city</th>\n",
       "      <th>tariff</th>\n",
       "      <th>sex</th>\n",
       "      <th>revenue_01</th>\n",
       "      <th>revenue_02</th>\n",
       "      <th>revenue_03</th>\n",
       "      <th>revenue_04</th>\n",
       "      <th>revenue_05</th>\n",
       "      <th>revenue_06</th>\n",
       "      <th>revenue_07</th>\n",
       "      <th>revenue_08</th>\n",
       "      <th>revenue_09</th>\n",
       "      <th>revenue_10</th>\n",
       "      <th>revenue_11</th>\n",
       "      <th>revenue_12</th>\n",
       "      <th>revenue_total_mean</th>\n",
       "    </tr>\n",
       "  </thead>\n",
       "  <tbody>\n",
       "    <tr>\n",
       "      <th>0</th>\n",
       "      <td>1000</td>\n",
       "      <td>36-55</td>\n",
       "      <td>Краснодар</td>\n",
       "      <td>ultra</td>\n",
       "      <td>m</td>\n",
       "      <td>NaN</td>\n",
       "      <td>NaN</td>\n",
       "      <td>NaN</td>\n",
       "      <td>NaN</td>\n",
       "      <td>1950.0</td>\n",
       "      <td>1950.0</td>\n",
       "      <td>1950.0</td>\n",
       "      <td>1950.0</td>\n",
       "      <td>1950.0</td>\n",
       "      <td>1950.0</td>\n",
       "      <td>1950.0</td>\n",
       "      <td>1950.0</td>\n",
       "      <td>1950.000000</td>\n",
       "    </tr>\n",
       "    <tr>\n",
       "      <th>1</th>\n",
       "      <td>1001</td>\n",
       "      <td>36-55</td>\n",
       "      <td>Москва</td>\n",
       "      <td>smart</td>\n",
       "      <td>m</td>\n",
       "      <td>NaN</td>\n",
       "      <td>NaN</td>\n",
       "      <td>NaN</td>\n",
       "      <td>NaN</td>\n",
       "      <td>NaN</td>\n",
       "      <td>NaN</td>\n",
       "      <td>NaN</td>\n",
       "      <td>NaN</td>\n",
       "      <td>NaN</td>\n",
       "      <td>NaN</td>\n",
       "      <td>1150.0</td>\n",
       "      <td>550.0</td>\n",
       "      <td>850.000000</td>\n",
       "    </tr>\n",
       "    <tr>\n",
       "      <th>2</th>\n",
       "      <td>1002</td>\n",
       "      <td>56+</td>\n",
       "      <td>Стерлитамак</td>\n",
       "      <td>smart</td>\n",
       "      <td>m</td>\n",
       "      <td>NaN</td>\n",
       "      <td>NaN</td>\n",
       "      <td>NaN</td>\n",
       "      <td>NaN</td>\n",
       "      <td>NaN</td>\n",
       "      <td>550.0</td>\n",
       "      <td>1150.0</td>\n",
       "      <td>1550.0</td>\n",
       "      <td>950.0</td>\n",
       "      <td>550.0</td>\n",
       "      <td>1350.0</td>\n",
       "      <td>1150.0</td>\n",
       "      <td>1035.714286</td>\n",
       "    </tr>\n",
       "    <tr>\n",
       "      <th>3</th>\n",
       "      <td>1003</td>\n",
       "      <td>18-35</td>\n",
       "      <td>Москва</td>\n",
       "      <td>ultra</td>\n",
       "      <td>f</td>\n",
       "      <td>NaN</td>\n",
       "      <td>NaN</td>\n",
       "      <td>NaN</td>\n",
       "      <td>NaN</td>\n",
       "      <td>NaN</td>\n",
       "      <td>NaN</td>\n",
       "      <td>NaN</td>\n",
       "      <td>1950.0</td>\n",
       "      <td>1950.0</td>\n",
       "      <td>1950.0</td>\n",
       "      <td>1950.0</td>\n",
       "      <td>1950.0</td>\n",
       "      <td>1950.000000</td>\n",
       "    </tr>\n",
       "    <tr>\n",
       "      <th>4</th>\n",
       "      <td>1004</td>\n",
       "      <td>56+</td>\n",
       "      <td>Новокузнецк</td>\n",
       "      <td>ultra</td>\n",
       "      <td>f</td>\n",
       "      <td>NaN</td>\n",
       "      <td>NaN</td>\n",
       "      <td>NaN</td>\n",
       "      <td>NaN</td>\n",
       "      <td>1950.0</td>\n",
       "      <td>1950.0</td>\n",
       "      <td>1950.0</td>\n",
       "      <td>1950.0</td>\n",
       "      <td>1950.0</td>\n",
       "      <td>1950.0</td>\n",
       "      <td>1950.0</td>\n",
       "      <td>1950.0</td>\n",
       "      <td>1950.000000</td>\n",
       "    </tr>\n",
       "  </tbody>\n",
       "</table>\n",
       "</div>"
      ],
      "text/plain": [
       "   user_id    age         city tariff sex  revenue_01  revenue_02  revenue_03  \\\n",
       "0     1000  36-55    Краснодар  ultra   m         NaN         NaN         NaN   \n",
       "1     1001  36-55       Москва  smart   m         NaN         NaN         NaN   \n",
       "2     1002    56+  Стерлитамак  smart   m         NaN         NaN         NaN   \n",
       "3     1003  18-35       Москва  ultra   f         NaN         NaN         NaN   \n",
       "4     1004    56+  Новокузнецк  ultra   f         NaN         NaN         NaN   \n",
       "\n",
       "   revenue_04  revenue_05  revenue_06  revenue_07  revenue_08  revenue_09  \\\n",
       "0         NaN      1950.0      1950.0      1950.0      1950.0      1950.0   \n",
       "1         NaN         NaN         NaN         NaN         NaN         NaN   \n",
       "2         NaN         NaN       550.0      1150.0      1550.0       950.0   \n",
       "3         NaN         NaN         NaN         NaN      1950.0      1950.0   \n",
       "4         NaN      1950.0      1950.0      1950.0      1950.0      1950.0   \n",
       "\n",
       "   revenue_10  revenue_11  revenue_12  revenue_total_mean  \n",
       "0      1950.0      1950.0      1950.0         1950.000000  \n",
       "1         NaN      1150.0       550.0          850.000000  \n",
       "2       550.0      1350.0      1150.0         1035.714286  \n",
       "3      1950.0      1950.0      1950.0         1950.000000  \n",
       "4      1950.0      1950.0      1950.0         1950.000000  "
      ]
     },
     "execution_count": 37,
     "metadata": {},
     "output_type": "execute_result"
    }
   ],
   "source": [
    "revenue_total.head(5)"
   ]
  },
  {
   "cell_type": "markdown",
   "id": "320824a1-265b-44cf-b299-d6e72ab4555d",
   "metadata": {},
   "source": [
    "Для проверки использую вторую строку таблица sms_count_pivot."
   ]
  },
  {
   "cell_type": "code",
   "execution_count": 38,
   "id": "bb73e97c-3bd0-4c41-b79f-2531bd8d1540",
   "metadata": {},
   "outputs": [
    {
     "data": {
      "text/plain": [
       "sms_count_01      False\n",
       "sms_count_02      False\n",
       "sms_count_03      False\n",
       "sms_count_04      False\n",
       "sms_count_05      False\n",
       "sms_count_06      False\n",
       "sms_count_07      False\n",
       "sms_count_08      False\n",
       "sms_count_09      False\n",
       "sms_count_10      False\n",
       "sms_count_11       True\n",
       "sms_count_12       True\n",
       "sms_count_mean     True\n",
       "Name: 1, dtype: bool"
      ]
     },
     "execution_count": 38,
     "metadata": {},
     "output_type": "execute_result"
    }
   ],
   "source": [
    "sms_mask = sms_count_pivot.iloc[:, 5:18].isna() == ~revenue_total.iloc[:, 5:18].isna().values\n",
    "sms_mask.loc[1]"
   ]
  },
  {
   "cell_type": "code",
   "execution_count": 39,
   "id": "10469b3c-6dd5-4795-b8e2-99878523f08d",
   "metadata": {},
   "outputs": [
    {
     "data": {
      "text/plain": [
       "user_id             1001\n",
       "age                36-55\n",
       "city              Москва\n",
       "tariff             smart\n",
       "sex                    m\n",
       "sms_count_01         NaN\n",
       "sms_count_02         NaN\n",
       "sms_count_03         NaN\n",
       "sms_count_04         NaN\n",
       "sms_count_05         NaN\n",
       "sms_count_06         NaN\n",
       "sms_count_07         NaN\n",
       "sms_count_08         NaN\n",
       "sms_count_09         NaN\n",
       "sms_count_10         NaN\n",
       "sms_count_11         0.0\n",
       "sms_count_12         0.0\n",
       "sms_count_mean       0.0\n",
       "Name: 1, dtype: object"
      ]
     },
     "execution_count": 39,
     "metadata": {},
     "output_type": "execute_result"
    }
   ],
   "source": [
    "sms_count_pivot.iloc[:, 5:18] = sms_count_pivot.iloc[:, 5:18].mask(sms_mask, 0)\n",
    "sms_count_pivot.loc[1]"
   ]
  },
  {
   "cell_type": "markdown",
   "id": "9add7ea7-587c-4fba-ba58-8365b2869640",
   "metadata": {},
   "source": [
    "Успешно. Применю тут же метод к остальным двум таблицам."
   ]
  },
  {
   "cell_type": "code",
   "execution_count": 40,
   "id": "ef724547-1beb-4c3d-88d2-2808cf8c2c30",
   "metadata": {},
   "outputs": [],
   "source": [
    "calls_mask = calls_dur_pivot.iloc[:, 5:18].isna() == ~revenue_total.iloc[:, 5:18].isna().values\n",
    "gb_mask = gb_total_pivot.iloc[:, 5:18].isna() == ~revenue_total.iloc[:, 5:18].isna().values"
   ]
  },
  {
   "cell_type": "code",
   "execution_count": 41,
   "id": "edf99d33-91ed-4631-8088-1d60dda0a8b9",
   "metadata": {},
   "outputs": [],
   "source": [
    "calls_dur_pivot.iloc[:, 5:18] = calls_dur_pivot.iloc[:, 5:18].mask(calls_mask, 0)\n",
    "gb_total_pivot.iloc[:, 5:18] = gb_total_pivot.iloc[:, 5:18].mask(gb_mask, 0)"
   ]
  },
  {
   "cell_type": "code",
   "execution_count": 42,
   "id": "eb0b9c61",
   "metadata": {},
   "outputs": [
    {
     "data": {
      "text/html": [
       "<div>\n",
       "<style scoped>\n",
       "    .dataframe tbody tr th:only-of-type {\n",
       "        vertical-align: middle;\n",
       "    }\n",
       "\n",
       "    .dataframe tbody tr th {\n",
       "        vertical-align: top;\n",
       "    }\n",
       "\n",
       "    .dataframe thead th {\n",
       "        text-align: right;\n",
       "    }\n",
       "</style>\n",
       "<table border=\"1\" class=\"dataframe\">\n",
       "  <thead>\n",
       "    <tr style=\"text-align: right;\">\n",
       "      <th></th>\n",
       "      <th></th>\n",
       "      <th>duration</th>\n",
       "    </tr>\n",
       "    <tr>\n",
       "      <th>user_id</th>\n",
       "      <th>call_date</th>\n",
       "      <th></th>\n",
       "    </tr>\n",
       "  </thead>\n",
       "  <tbody>\n",
       "    <tr>\n",
       "      <th rowspan=\"5\" valign=\"top\">1000</th>\n",
       "      <th>2018-05-01</th>\n",
       "      <td>159</td>\n",
       "    </tr>\n",
       "    <tr>\n",
       "      <th>2018-06-01</th>\n",
       "      <td>172</td>\n",
       "    </tr>\n",
       "    <tr>\n",
       "      <th>2018-07-01</th>\n",
       "      <td>340</td>\n",
       "    </tr>\n",
       "    <tr>\n",
       "      <th>2018-08-01</th>\n",
       "      <td>408</td>\n",
       "    </tr>\n",
       "    <tr>\n",
       "      <th>2018-09-01</th>\n",
       "      <td>466</td>\n",
       "    </tr>\n",
       "    <tr>\n",
       "      <th>...</th>\n",
       "      <th>...</th>\n",
       "      <td>...</td>\n",
       "    </tr>\n",
       "    <tr>\n",
       "      <th>1498</th>\n",
       "      <th>2018-10-01</th>\n",
       "      <td>247</td>\n",
       "    </tr>\n",
       "    <tr>\n",
       "      <th rowspan=\"4\" valign=\"top\">1499</th>\n",
       "      <th>2018-09-01</th>\n",
       "      <td>70</td>\n",
       "    </tr>\n",
       "    <tr>\n",
       "      <th>2018-10-01</th>\n",
       "      <td>449</td>\n",
       "    </tr>\n",
       "    <tr>\n",
       "      <th>2018-11-01</th>\n",
       "      <td>612</td>\n",
       "    </tr>\n",
       "    <tr>\n",
       "      <th>2018-12-01</th>\n",
       "      <td>492</td>\n",
       "    </tr>\n",
       "  </tbody>\n",
       "</table>\n",
       "<p>3174 rows × 1 columns</p>\n",
       "</div>"
      ],
      "text/plain": [
       "                    duration\n",
       "user_id call_date           \n",
       "1000    2018-05-01       159\n",
       "        2018-06-01       172\n",
       "        2018-07-01       340\n",
       "        2018-08-01       408\n",
       "        2018-09-01       466\n",
       "...                      ...\n",
       "1498    2018-10-01       247\n",
       "1499    2018-09-01        70\n",
       "        2018-10-01       449\n",
       "        2018-11-01       612\n",
       "        2018-12-01       492\n",
       "\n",
       "[3174 rows x 1 columns]"
      ]
     },
     "execution_count": 42,
     "metadata": {},
     "output_type": "execute_result"
    }
   ],
   "source": [
    "# Код ревьюера\n",
    "\n",
    "calls_data.groupby(['user_id','call_date']).agg(duration=('duration','sum'))"
   ]
  },
  {
   "cell_type": "code",
   "execution_count": 43,
   "id": "26454e73-04e2-41d1-a5bf-bd3f9cf24f8e",
   "metadata": {},
   "outputs": [],
   "source": [
    "# сводные таблицы получены, выгружу датафреймы data за ненадобностью\n",
    "del users_data, calls_data, messages_data, internet_data, tariffs_data"
   ]
  },
  {
   "cell_type": "markdown",
   "id": "e3545f14-fc69-4b8a-b269-ca2130730c71",
   "metadata": {
    "tags": []
   },
   "source": [
    "## Шаг 3. Исследовательский анализ данных"
   ]
  },
  {
   "cell_type": "markdown",
   "id": "7bb1e24e-f47b-4b5b-97af-95c8405933e1",
   "metadata": {},
   "source": [
    "*Опишите поведение клиентов оператора, исходя из выборки.*\n",
    "\n",
    "*Сколько минут разговора, сколько сообщений и какой объём интернет-трафика требуется пользователям каждого тарифа в месяц?*\n",
    "\n",
    "*Посчитайте среднее количество, дисперсию и стандартное отклонение.*\n",
    "\n",
    "*Постройте гистограммы. Опишите распределения.*"
   ]
  },
  {
   "cell_type": "markdown",
   "id": "79c47dd4-7eef-4649-b5d2-3db34bad3acd",
   "metadata": {},
   "source": [
    "### 3.1 Анализ потребления услуг клиентами:"
   ]
  },
  {
   "cell_type": "markdown",
   "id": "5c43c6dc-1545-4131-8a82-e95b2b245009",
   "metadata": {},
   "source": [
    "Оценю размер выборки абонентов по каждому из тарифов."
   ]
  },
  {
   "cell_type": "code",
   "execution_count": 44,
   "id": "bf175436-2022-4c71-aeed-910333b8e4ee",
   "metadata": {},
   "outputs": [
    {
     "data": {
      "text/plain": [
       "smart    351\n",
       "ultra    149\n",
       "Name: tariff, dtype: int64"
      ]
     },
     "execution_count": 44,
     "metadata": {},
     "output_type": "execute_result"
    }
   ],
   "source": [
    "revenue_total['tariff'].value_counts()"
   ]
  },
  {
   "cell_type": "markdown",
   "id": "ce5692b5-450f-44c2-90ed-c8d6decacb61",
   "metadata": {},
   "source": [
    "Объем выборки по каждому тарифу значительно отилчается, но достаточен для приближенности выборочного среднего к нормальному распределению."
   ]
  },
  {
   "cell_type": "markdown",
   "id": "ff6183a6-6322-44fe-8cb9-4d79cd2796f6",
   "metadata": {},
   "source": [
    "Сравню среднее потребление услуг и выручку по каждому из тарифов."
   ]
  },
  {
   "cell_type": "markdown",
   "id": "8b2facae-5954-4015-b879-0a5f06202290",
   "metadata": {},
   "source": [
    "#### 3.1.1 Анализ потребления услуг клиентами в зависимости от тарифного плана:"
   ]
  },
  {
   "cell_type": "markdown",
   "id": "8e5fbdbf-d02f-4b16-8a53-88a8be8d7cd3",
   "metadata": {},
   "source": [
    "##### Ежемесячная длительность разговора:"
   ]
  },
  {
   "cell_type": "code",
   "execution_count": 45,
   "id": "d4af64f9-4b03-4f45-9ec7-3bc39ee1f1db",
   "metadata": {},
   "outputs": [
    {
     "data": {
      "text/plain": [
       "<AxesSubplot:xlabel='calls_dur_mean', ylabel='Percent'>"
      ]
     },
     "execution_count": 45,
     "metadata": {},
     "output_type": "execute_result"
    },
    {
     "data": {
      "image/png": "[encoded data removed]",
      "text/plain": [
       "<Figure size 1440x720 with 1 Axes>"
      ]
     },
     "metadata": {},
     "output_type": "display_data"
    }
   ],
   "source": [
    "# задам стандартынй размер графика\n",
    "sns.set(rc={'figure.figsize':(20,10)})\n",
    "\n",
    "# так как имеем большую разницу объемов выборки, нормализую гистограммы\n",
    "# независимо приму сумму столбцов каждой за 100% чтобы сравнить распределение\n",
    "sns.histplot(\n",
    "    data=calls_dur_pivot,\n",
    "    x='calls_dur_mean',\n",
    "    hue='tariff',\n",
    "    kde=True,\n",
    "    stat='percent',\n",
    "    common_norm=False\n",
    ")"
   ]
  },
  {
   "cell_type": "code",
   "execution_count": 46,
   "id": "33ee601d-437d-453f-8d9d-ac3a150a9a7f",
   "metadata": {},
   "outputs": [
    {
     "data": {
      "text/plain": [
       "'Средняя длительность разговора по тарифам, в месяц'"
      ]
     },
     "metadata": {},
     "output_type": "display_data"
    },
    {
     "data": {
      "text/plain": [
       "tariff\n",
       "smart    419.637747\n",
       "ultra    528.216339\n",
       "Name: calls_dur_mean, dtype: float64"
      ]
     },
     "metadata": {},
     "output_type": "display_data"
    },
    {
     "data": {
      "text/plain": [
       "'Процентное соотношение средней длительности разговоров по тарифам, в месяц'"
      ]
     },
     "metadata": {},
     "output_type": "display_data"
    },
    {
     "data": {
      "text/plain": [
       "tariff\n",
       "smart    44.0\n",
       "ultra    56.0\n",
       "Name: calls_dur_mean, dtype: float64"
      ]
     },
     "metadata": {},
     "output_type": "display_data"
    },
    {
     "data": {
      "text/plain": [
       "'Дисперсия выборки для длительности разговоров по тарифам, в месяц'"
      ]
     },
     "metadata": {},
     "output_type": "display_data"
    },
    {
     "data": {
      "text/plain": [
       "tariff\n",
       "smart    21031.740899\n",
       "ultra    79378.358416\n",
       "Name: calls_dur_mean, dtype: float64"
      ]
     },
     "metadata": {},
     "output_type": "display_data"
    },
    {
     "data": {
      "text/plain": [
       "'Стандартное отклонение выборки для длительности разговоров по тарифам, в месяц'"
      ]
     },
     "metadata": {},
     "output_type": "display_data"
    },
    {
     "data": {
      "text/plain": [
       "tariff\n",
       "smart    145.023243\n",
       "ultra    281.741652\n",
       "Name: calls_dur_mean, dtype: float64"
      ]
     },
     "metadata": {},
     "output_type": "display_data"
    }
   ],
   "source": [
    "# найду средние значения по тарифам, дисперсию и стандартное отклонение\n",
    "display(\n",
    "    'Средняя длительность разговора по тарифам, в месяц',\n",
    "    calls_dur_pivot.groupby('tariff')['calls_dur_mean']\n",
    "    .mean()\n",
    ")\n",
    "\n",
    "display(\n",
    "    'Процентное соотношение средней длительности разговоров по тарифам, в месяц',\n",
    "    calls_dur_pivot.groupby('tariff')['calls_dur_mean']\n",
    "    .mean()\n",
    "    .div(\n",
    "        calls_dur_pivot.groupby('tariff')['calls_dur_mean']\n",
    "        .mean()\n",
    "        .sum()\n",
    "    )\n",
    "    .mul(100)\n",
    "    .round()\n",
    ")\n",
    "\n",
    "display(\n",
    "    'Дисперсия выборки для длительности разговоров по тарифам, в месяц',\n",
    "    calls_dur_pivot.groupby('tariff')['calls_dur_mean'].var(ddof=1)\n",
    ")\n",
    "\n",
    "display(\n",
    "    'Стандартное отклонение выборки для длительности разговоров по тарифам, в месяц',\n",
    "    calls_dur_pivot.groupby('tariff')['calls_dur_mean'].std(ddof=1)\n",
    ")"
   ]
  },
  {
   "cell_type": "markdown",
   "id": "c25640fc-9fcc-48b8-811e-080932501f22",
   "metadata": {},
   "source": [
    "Соберу все значения продолжительности звонков в одну колонку и построю гистограмму продолжительности звонков в разбивке по тарифам."
   ]
  },
  {
   "cell_type": "code",
   "execution_count": 47,
   "id": "67de78b7-e19c-48c1-aad1-761db70895a3",
   "metadata": {},
   "outputs": [
    {
     "data": {
      "text/html": [
       "<div>\n",
       "<style scoped>\n",
       "    .dataframe tbody tr th:only-of-type {\n",
       "        vertical-align: middle;\n",
       "    }\n",
       "\n",
       "    .dataframe tbody tr th {\n",
       "        vertical-align: top;\n",
       "    }\n",
       "\n",
       "    .dataframe thead th {\n",
       "        text-align: right;\n",
       "    }\n",
       "</style>\n",
       "<table border=\"1\" class=\"dataframe\">\n",
       "  <thead>\n",
       "    <tr style=\"text-align: right;\">\n",
       "      <th></th>\n",
       "      <th>user_id</th>\n",
       "      <th>tariff</th>\n",
       "      <th>variable</th>\n",
       "      <th>value</th>\n",
       "    </tr>\n",
       "  </thead>\n",
       "  <tbody>\n",
       "    <tr>\n",
       "      <th>0</th>\n",
       "      <td>1000</td>\n",
       "      <td>ultra</td>\n",
       "      <td>calls_dur_01</td>\n",
       "      <td>NaN</td>\n",
       "    </tr>\n",
       "    <tr>\n",
       "      <th>1</th>\n",
       "      <td>1001</td>\n",
       "      <td>smart</td>\n",
       "      <td>calls_dur_01</td>\n",
       "      <td>NaN</td>\n",
       "    </tr>\n",
       "    <tr>\n",
       "      <th>2</th>\n",
       "      <td>1002</td>\n",
       "      <td>smart</td>\n",
       "      <td>calls_dur_01</td>\n",
       "      <td>NaN</td>\n",
       "    </tr>\n",
       "    <tr>\n",
       "      <th>3</th>\n",
       "      <td>1003</td>\n",
       "      <td>ultra</td>\n",
       "      <td>calls_dur_01</td>\n",
       "      <td>NaN</td>\n",
       "    </tr>\n",
       "    <tr>\n",
       "      <th>4</th>\n",
       "      <td>1004</td>\n",
       "      <td>ultra</td>\n",
       "      <td>calls_dur_01</td>\n",
       "      <td>NaN</td>\n",
       "    </tr>\n",
       "    <tr>\n",
       "      <th>...</th>\n",
       "      <td>...</td>\n",
       "      <td>...</td>\n",
       "      <td>...</td>\n",
       "      <td>...</td>\n",
       "    </tr>\n",
       "    <tr>\n",
       "      <th>5995</th>\n",
       "      <td>1495</td>\n",
       "      <td>ultra</td>\n",
       "      <td>calls_dur_12</td>\n",
       "      <td>1031.0</td>\n",
       "    </tr>\n",
       "    <tr>\n",
       "      <th>5996</th>\n",
       "      <td>1496</td>\n",
       "      <td>smart</td>\n",
       "      <td>calls_dur_12</td>\n",
       "      <td>518.0</td>\n",
       "    </tr>\n",
       "    <tr>\n",
       "      <th>5997</th>\n",
       "      <td>1497</td>\n",
       "      <td>smart</td>\n",
       "      <td>calls_dur_12</td>\n",
       "      <td>545.0</td>\n",
       "    </tr>\n",
       "    <tr>\n",
       "      <th>5998</th>\n",
       "      <td>1498</td>\n",
       "      <td>smart</td>\n",
       "      <td>calls_dur_12</td>\n",
       "      <td>NaN</td>\n",
       "    </tr>\n",
       "    <tr>\n",
       "      <th>5999</th>\n",
       "      <td>1499</td>\n",
       "      <td>smart</td>\n",
       "      <td>calls_dur_12</td>\n",
       "      <td>492.0</td>\n",
       "    </tr>\n",
       "  </tbody>\n",
       "</table>\n",
       "<p>6000 rows × 4 columns</p>\n",
       "</div>"
      ],
      "text/plain": [
       "      user_id tariff      variable   value\n",
       "0        1000  ultra  calls_dur_01     NaN\n",
       "1        1001  smart  calls_dur_01     NaN\n",
       "2        1002  smart  calls_dur_01     NaN\n",
       "3        1003  ultra  calls_dur_01     NaN\n",
       "4        1004  ultra  calls_dur_01     NaN\n",
       "...       ...    ...           ...     ...\n",
       "5995     1495  ultra  calls_dur_12  1031.0\n",
       "5996     1496  smart  calls_dur_12   518.0\n",
       "5997     1497  smart  calls_dur_12   545.0\n",
       "5998     1498  smart  calls_dur_12     NaN\n",
       "5999     1499  smart  calls_dur_12   492.0\n",
       "\n",
       "[6000 rows x 4 columns]"
      ]
     },
     "execution_count": 47,
     "metadata": {},
     "output_type": "execute_result"
    }
   ],
   "source": [
    "calls_dur_melt = calls_dur_pivot.melt(id_vars=['user_id', 'tariff'], value_vars=calls_dur_pivot.iloc[:, 5:17])\n",
    "calls_dur_melt"
   ]
  },
  {
   "cell_type": "code",
   "execution_count": 48,
   "id": "d71305bb-4cc7-442e-8f04-f109e640b334",
   "metadata": {
    "tags": []
   },
   "outputs": [
    {
     "data": {
      "text/plain": [
       "<AxesSubplot:xlabel='value', ylabel='Percent'>"
      ]
     },
     "execution_count": 48,
     "metadata": {},
     "output_type": "execute_result"
    },
    {
     "data": {
      "image/png": "[encoded data removed]",
      "text/plain": [
       "<Figure size 1440x720 with 1 Axes>"
      ]
     },
     "metadata": {},
     "output_type": "display_data"
    }
   ],
   "source": [
    "plt.axvline(x=500)\n",
    "\n",
    "sns.histplot(\n",
    "    data=calls_dur_melt,\n",
    "    x='value',\n",
    "    hue='tariff',\n",
    "    kde=True,\n",
    "    stat='percent',\n",
    "    common_norm=False\n",
    ")"
   ]
  },
  {
   "cell_type": "code",
   "execution_count": 49,
   "id": "f6b4a5dc-5631-4571-8258-8573b4be7a08",
   "metadata": {},
   "outputs": [
    {
     "data": {
      "text/plain": [
       "'Средняя длительность разговора по тарифам, в месяц'"
      ]
     },
     "metadata": {},
     "output_type": "display_data"
    },
    {
     "data": {
      "text/plain": [
       "tariff\n",
       "smart    419.637747\n",
       "ultra    528.216339\n",
       "Name: calls_dur_mean, dtype: float64"
      ]
     },
     "metadata": {},
     "output_type": "display_data"
    },
    {
     "data": {
      "text/plain": [
       "'Процентное соотношение средней длительности разговоров по тарифам, в месяц'"
      ]
     },
     "metadata": {},
     "output_type": "display_data"
    },
    {
     "data": {
      "text/plain": [
       "tariff\n",
       "smart    44.0\n",
       "ultra    56.0\n",
       "Name: calls_dur_mean, dtype: float64"
      ]
     },
     "metadata": {},
     "output_type": "display_data"
    },
    {
     "data": {
      "text/plain": [
       "'Дисперсия выборки для длительности разговоров по тарифам, в месяц'"
      ]
     },
     "metadata": {},
     "output_type": "display_data"
    },
    {
     "data": {
      "text/plain": [
       "tariff\n",
       "smart    21031.740899\n",
       "ultra    79378.358416\n",
       "Name: calls_dur_mean, dtype: float64"
      ]
     },
     "metadata": {},
     "output_type": "display_data"
    },
    {
     "data": {
      "text/plain": [
       "'Стандартное отклонение выборки для длительности разговоров по тарифам, в месяц'"
      ]
     },
     "metadata": {},
     "output_type": "display_data"
    },
    {
     "data": {
      "text/plain": [
       "tariff\n",
       "smart    145.023243\n",
       "ultra    281.741652\n",
       "Name: calls_dur_mean, dtype: float64"
      ]
     },
     "metadata": {},
     "output_type": "display_data"
    }
   ],
   "source": [
    "# найду средние значения по тарифам, дисперсию и стандартное отклонение\n",
    "display(\n",
    "    'Средняя длительность разговора по тарифам, в месяц',\n",
    "    calls_dur_pivot.groupby('tariff')['calls_dur_mean']\n",
    "    .mean()\n",
    ")\n",
    "\n",
    "display(\n",
    "    'Процентное соотношение средней длительности разговоров по тарифам, в месяц',\n",
    "    calls_dur_pivot.groupby('tariff')['calls_dur_mean']\n",
    "    .mean()\n",
    "    .div(\n",
    "        calls_dur_pivot.groupby('tariff')['calls_dur_mean']\n",
    "        .mean()\n",
    "        .sum()\n",
    "    )\n",
    "    .mul(100)\n",
    "    .round()\n",
    ")\n",
    "\n",
    "display(\n",
    "    'Дисперсия выборки для длительности разговоров по тарифам, в месяц',\n",
    "    calls_dur_pivot.groupby('tariff')['calls_dur_mean'].var(ddof=1)\n",
    ")\n",
    "\n",
    "display(\n",
    "    'Стандартное отклонение выборки для длительности разговоров по тарифам, в месяц',\n",
    "    calls_dur_pivot.groupby('tariff')['calls_dur_mean'].std(ddof=1)\n",
    ")"
   ]
  },
  {
   "cell_type": "markdown",
   "id": "89e6b58e-89a8-481e-a013-47ee5d0d4936",
   "metadata": {},
   "source": [
    "##### Ежемесячное количество звонков:"
   ]
  },
  {
   "cell_type": "code",
   "execution_count": 50,
   "id": "21df647d-6203-4501-99fd-645e33b9ff6e",
   "metadata": {},
   "outputs": [
    {
     "data": {
      "text/plain": [
       "<AxesSubplot:xlabel='calls_count_mean', ylabel='Percent'>"
      ]
     },
     "execution_count": 50,
     "metadata": {},
     "output_type": "execute_result"
    },
    {
     "data": {
      "image/png": "[encoded data removed]",
      "text/plain": [
       "<Figure size 1440x720 with 1 Axes>"
      ]
     },
     "metadata": {},
     "output_type": "display_data"
    }
   ],
   "source": [
    "sns.histplot(\n",
    "    data=calls_count_pivot,\n",
    "    x='calls_count_mean',\n",
    "    hue='tariff',\n",
    "    kde=True,\n",
    "    stat='percent',\n",
    "    common_norm=False\n",
    ")"
   ]
  },
  {
   "cell_type": "code",
   "execution_count": 51,
   "id": "50bffd28-f164-4265-b2cb-b4a7c7ec6d2a",
   "metadata": {},
   "outputs": [
    {
     "data": {
      "text/plain": [
       "'Среднее количество звонков по тарифам, в месяц'"
      ]
     },
     "metadata": {},
     "output_type": "display_data"
    },
    {
     "data": {
      "text/plain": [
       "tariff\n",
       "smart    58.820624\n",
       "ultra    76.059188\n",
       "Name: calls_count_mean, dtype: float64"
      ]
     },
     "metadata": {},
     "output_type": "display_data"
    },
    {
     "data": {
      "text/plain": [
       "'Процентное соотношение среднего количества звонков по тарифам, в месяц'"
      ]
     },
     "metadata": {},
     "output_type": "display_data"
    },
    {
     "data": {
      "text/plain": [
       "tariff\n",
       "smart    44.0\n",
       "ultra    56.0\n",
       "Name: calls_count_mean, dtype: float64"
      ]
     },
     "metadata": {},
     "output_type": "display_data"
    },
    {
     "data": {
      "text/plain": [
       "'Дисперсия выборки для количества звонков по тарифам, в месяц'"
      ]
     },
     "metadata": {},
     "output_type": "display_data"
    },
    {
     "data": {
      "text/plain": [
       "tariff\n",
       "smart     394.849846\n",
       "ultra    1395.732621\n",
       "Name: calls_count_mean, dtype: float64"
      ]
     },
     "metadata": {},
     "output_type": "display_data"
    },
    {
     "data": {
      "text/plain": [
       "'Стандартное отклонение выборки для количества звонков по тарифам, в месяц'"
      ]
     },
     "metadata": {},
     "output_type": "display_data"
    },
    {
     "data": {
      "text/plain": [
       "tariff\n",
       "smart    19.870829\n",
       "ultra    37.359505\n",
       "Name: calls_count_mean, dtype: float64"
      ]
     },
     "metadata": {},
     "output_type": "display_data"
    }
   ],
   "source": [
    "display(\n",
    "    'Среднее количество звонков по тарифам, в месяц',\n",
    "    calls_count_pivot.groupby('tariff')['calls_count_mean']\n",
    "    .mean()\n",
    ")\n",
    "\n",
    "display(\n",
    "    'Процентное соотношение среднего количества звонков по тарифам, в месяц',\n",
    "    calls_count_pivot.groupby('tariff')['calls_count_mean']\n",
    "    .mean()\n",
    "    .div(\n",
    "        calls_count_pivot.groupby('tariff')['calls_count_mean']\n",
    "        .mean()\n",
    "        .sum()\n",
    "    )\n",
    "    .mul(100)\n",
    "    .round()\n",
    ")\n",
    "\n",
    "display(\n",
    "    'Дисперсия выборки для количества звонков по тарифам, в месяц',\n",
    "    calls_count_pivot.groupby('tariff')['calls_count_mean'].var(ddof=1)\n",
    ")\n",
    "\n",
    "display(\n",
    "    'Стандартное отклонение выборки для количества звонков по тарифам, в месяц',\n",
    "    calls_count_pivot.groupby('tariff')['calls_count_mean'].std(ddof=1)\n",
    ")"
   ]
  },
  {
   "cell_type": "markdown",
   "id": "8102bdfc-3b68-48bc-91db-288f0e75390e",
   "metadata": {},
   "source": [
    "Соберу все значения количества звонков в одну колонку и построю гистограмму количества звонков в разбивке по тарифам."
   ]
  },
  {
   "cell_type": "code",
   "execution_count": 52,
   "id": "84727cb1-a0b4-4f03-b5b4-6245cb81c725",
   "metadata": {},
   "outputs": [
    {
     "data": {
      "text/html": [
       "<div>\n",
       "<style scoped>\n",
       "    .dataframe tbody tr th:only-of-type {\n",
       "        vertical-align: middle;\n",
       "    }\n",
       "\n",
       "    .dataframe tbody tr th {\n",
       "        vertical-align: top;\n",
       "    }\n",
       "\n",
       "    .dataframe thead th {\n",
       "        text-align: right;\n",
       "    }\n",
       "</style>\n",
       "<table border=\"1\" class=\"dataframe\">\n",
       "  <thead>\n",
       "    <tr style=\"text-align: right;\">\n",
       "      <th></th>\n",
       "      <th>user_id</th>\n",
       "      <th>tariff</th>\n",
       "      <th>variable</th>\n",
       "      <th>value</th>\n",
       "    </tr>\n",
       "  </thead>\n",
       "  <tbody>\n",
       "    <tr>\n",
       "      <th>0</th>\n",
       "      <td>1000</td>\n",
       "      <td>ultra</td>\n",
       "      <td>calls_count_01</td>\n",
       "      <td>NaN</td>\n",
       "    </tr>\n",
       "    <tr>\n",
       "      <th>1</th>\n",
       "      <td>1001</td>\n",
       "      <td>smart</td>\n",
       "      <td>calls_count_01</td>\n",
       "      <td>NaN</td>\n",
       "    </tr>\n",
       "    <tr>\n",
       "      <th>2</th>\n",
       "      <td>1002</td>\n",
       "      <td>smart</td>\n",
       "      <td>calls_count_01</td>\n",
       "      <td>NaN</td>\n",
       "    </tr>\n",
       "    <tr>\n",
       "      <th>3</th>\n",
       "      <td>1003</td>\n",
       "      <td>ultra</td>\n",
       "      <td>calls_count_01</td>\n",
       "      <td>NaN</td>\n",
       "    </tr>\n",
       "    <tr>\n",
       "      <th>4</th>\n",
       "      <td>1004</td>\n",
       "      <td>ultra</td>\n",
       "      <td>calls_count_01</td>\n",
       "      <td>NaN</td>\n",
       "    </tr>\n",
       "    <tr>\n",
       "      <th>...</th>\n",
       "      <td>...</td>\n",
       "      <td>...</td>\n",
       "      <td>...</td>\n",
       "      <td>...</td>\n",
       "    </tr>\n",
       "    <tr>\n",
       "      <th>5995</th>\n",
       "      <td>1495</td>\n",
       "      <td>ultra</td>\n",
       "      <td>calls_count_12</td>\n",
       "      <td>155.0</td>\n",
       "    </tr>\n",
       "    <tr>\n",
       "      <th>5996</th>\n",
       "      <td>1496</td>\n",
       "      <td>smart</td>\n",
       "      <td>calls_count_12</td>\n",
       "      <td>80.0</td>\n",
       "    </tr>\n",
       "    <tr>\n",
       "      <th>5997</th>\n",
       "      <td>1497</td>\n",
       "      <td>smart</td>\n",
       "      <td>calls_count_12</td>\n",
       "      <td>71.0</td>\n",
       "    </tr>\n",
       "    <tr>\n",
       "      <th>5998</th>\n",
       "      <td>1498</td>\n",
       "      <td>smart</td>\n",
       "      <td>calls_count_12</td>\n",
       "      <td>NaN</td>\n",
       "    </tr>\n",
       "    <tr>\n",
       "      <th>5999</th>\n",
       "      <td>1499</td>\n",
       "      <td>smart</td>\n",
       "      <td>calls_count_12</td>\n",
       "      <td>69.0</td>\n",
       "    </tr>\n",
       "  </tbody>\n",
       "</table>\n",
       "<p>6000 rows × 4 columns</p>\n",
       "</div>"
      ],
      "text/plain": [
       "      user_id tariff        variable  value\n",
       "0        1000  ultra  calls_count_01    NaN\n",
       "1        1001  smart  calls_count_01    NaN\n",
       "2        1002  smart  calls_count_01    NaN\n",
       "3        1003  ultra  calls_count_01    NaN\n",
       "4        1004  ultra  calls_count_01    NaN\n",
       "...       ...    ...             ...    ...\n",
       "5995     1495  ultra  calls_count_12  155.0\n",
       "5996     1496  smart  calls_count_12   80.0\n",
       "5997     1497  smart  calls_count_12   71.0\n",
       "5998     1498  smart  calls_count_12    NaN\n",
       "5999     1499  smart  calls_count_12   69.0\n",
       "\n",
       "[6000 rows x 4 columns]"
      ]
     },
     "execution_count": 52,
     "metadata": {},
     "output_type": "execute_result"
    }
   ],
   "source": [
    "calls_count_melt = calls_count_pivot.melt(id_vars=['user_id', 'tariff'], value_vars=calls_count_pivot.iloc[:, 5:17])\n",
    "calls_count_melt"
   ]
  },
  {
   "cell_type": "code",
   "execution_count": 53,
   "id": "1d21de9d-2d53-404f-97a4-73ecdddc111c",
   "metadata": {
    "jp-MarkdownHeadingCollapsed": true,
    "tags": []
   },
   "outputs": [
    {
     "data": {
      "text/plain": [
       "<AxesSubplot:xlabel='value', ylabel='Percent'>"
      ]
     },
     "execution_count": 53,
     "metadata": {},
     "output_type": "execute_result"
    },
    {
     "data": {
      "image/png": "[encoded data removed]",
      "text/plain": [
       "<Figure size 1440x720 with 1 Axes>"
      ]
     },
     "metadata": {},
     "output_type": "display_data"
    }
   ],
   "source": [
    "sns.histplot(\n",
    "    data=calls_count_melt,\n",
    "    x='value',\n",
    "    hue='tariff',\n",
    "    kde=True,\n",
    "    stat='percent',\n",
    "    common_norm=False\n",
    ")"
   ]
  },
  {
   "cell_type": "markdown",
   "id": "c1e55ccd-32bd-4573-9534-40ed840894b7",
   "metadata": {},
   "source": [
    "##### Ежемесячное количество сообщений:"
   ]
  },
  {
   "cell_type": "code",
   "execution_count": 54,
   "id": "b5d0fd34-60b6-497b-8ce1-05a05823f983",
   "metadata": {},
   "outputs": [
    {
     "data": {
      "text/plain": [
       "<AxesSubplot:xlabel='sms_count_mean', ylabel='Percent'>"
      ]
     },
     "execution_count": 54,
     "metadata": {},
     "output_type": "execute_result"
    },
    {
     "data": {
      "image/png": "[encoded data removed]",
      "text/plain": [
       "<Figure size 1440x720 with 1 Axes>"
      ]
     },
     "metadata": {},
     "output_type": "display_data"
    }
   ],
   "source": [
    "sns.histplot(\n",
    "    data=sms_count_pivot,\n",
    "    x='sms_count_mean',\n",
    "    hue='tariff',\n",
    "    kde=True,\n",
    "    stat='percent',\n",
    "    common_norm=False\n",
    ")"
   ]
  },
  {
   "cell_type": "code",
   "execution_count": 55,
   "id": "3e3b7ccc-c5ee-4ec0-83c4-992b52c68e3b",
   "metadata": {},
   "outputs": [
    {
     "data": {
      "text/plain": [
       "'Среднее количество сообщений по тарифам, в месяц'"
      ]
     },
     "metadata": {},
     "output_type": "display_data"
    },
    {
     "data": {
      "text/plain": [
       "tariff\n",
       "smart    32.422380\n",
       "ultra    54.087294\n",
       "Name: sms_count_mean, dtype: float64"
      ]
     },
     "metadata": {},
     "output_type": "display_data"
    },
    {
     "data": {
      "text/plain": [
       "'Процентное соотношение среднего количества сообщений по тарифам, в месяц'"
      ]
     },
     "metadata": {},
     "output_type": "display_data"
    },
    {
     "data": {
      "text/plain": [
       "tariff\n",
       "smart    37.0\n",
       "ultra    63.0\n",
       "Name: sms_count_mean, dtype: float64"
      ]
     },
     "metadata": {},
     "output_type": "display_data"
    },
    {
     "data": {
      "text/plain": [
       "'Дисперсия выборки для количества сообщений по тарифам, в месяц'"
      ]
     },
     "metadata": {},
     "output_type": "display_data"
    },
    {
     "data": {
      "text/plain": [
       "tariff\n",
       "smart     700.138410\n",
       "ultra    2145.423323\n",
       "Name: sms_count_mean, dtype: float64"
      ]
     },
     "metadata": {},
     "output_type": "display_data"
    },
    {
     "data": {
      "text/plain": [
       "'Стандартное отклонение выборки для количества сообщений по тарифам, в месяц'"
      ]
     },
     "metadata": {},
     "output_type": "display_data"
    },
    {
     "data": {
      "text/plain": [
       "tariff\n",
       "smart    26.460129\n",
       "ultra    46.318715\n",
       "Name: sms_count_mean, dtype: float64"
      ]
     },
     "metadata": {},
     "output_type": "display_data"
    }
   ],
   "source": [
    "display(\n",
    "    'Среднее количество сообщений по тарифам, в месяц',\n",
    "    sms_count_pivot.groupby('tariff')['sms_count_mean']\n",
    "    .mean()\n",
    ")\n",
    "\n",
    "display(\n",
    "    'Процентное соотношение среднего количества сообщений по тарифам, в месяц',\n",
    "    sms_count_pivot.groupby('tariff')['sms_count_mean']\n",
    "    .mean()\n",
    "    .div(\n",
    "        sms_count_pivot.groupby('tariff')['sms_count_mean']\n",
    "        .mean()\n",
    "        .sum()\n",
    "    )\n",
    "    .mul(100)\n",
    "    .round()\n",
    ")\n",
    "\n",
    "display(\n",
    "    'Дисперсия выборки для количества сообщений по тарифам, в месяц',\n",
    "    sms_count_pivot.groupby('tariff')['sms_count_mean'].var(ddof=1)\n",
    ")\n",
    "\n",
    "display(\n",
    "    'Стандартное отклонение выборки для количества сообщений по тарифам, в месяц',\n",
    "    sms_count_pivot.groupby('tariff')['sms_count_mean'].std(ddof=1)\n",
    ")"
   ]
  },
  {
   "cell_type": "markdown",
   "id": "219eef5f-a7d2-45ec-a81c-8fbeff67ecb4",
   "metadata": {},
   "source": [
    "Соберу все значения количества сообщений в одну колонку и построю гистограмму количества сообщений в разбивке по тарифам."
   ]
  },
  {
   "cell_type": "code",
   "execution_count": 56,
   "id": "b132c0f2-b92f-4701-9314-ccc89b64f7e3",
   "metadata": {},
   "outputs": [
    {
     "data": {
      "text/html": [
       "<div>\n",
       "<style scoped>\n",
       "    .dataframe tbody tr th:only-of-type {\n",
       "        vertical-align: middle;\n",
       "    }\n",
       "\n",
       "    .dataframe tbody tr th {\n",
       "        vertical-align: top;\n",
       "    }\n",
       "\n",
       "    .dataframe thead th {\n",
       "        text-align: right;\n",
       "    }\n",
       "</style>\n",
       "<table border=\"1\" class=\"dataframe\">\n",
       "  <thead>\n",
       "    <tr style=\"text-align: right;\">\n",
       "      <th></th>\n",
       "      <th>user_id</th>\n",
       "      <th>tariff</th>\n",
       "      <th>variable</th>\n",
       "      <th>value</th>\n",
       "    </tr>\n",
       "  </thead>\n",
       "  <tbody>\n",
       "    <tr>\n",
       "      <th>0</th>\n",
       "      <td>1000</td>\n",
       "      <td>ultra</td>\n",
       "      <td>sms_count_01</td>\n",
       "      <td>NaN</td>\n",
       "    </tr>\n",
       "    <tr>\n",
       "      <th>1</th>\n",
       "      <td>1001</td>\n",
       "      <td>smart</td>\n",
       "      <td>sms_count_01</td>\n",
       "      <td>NaN</td>\n",
       "    </tr>\n",
       "    <tr>\n",
       "      <th>2</th>\n",
       "      <td>1002</td>\n",
       "      <td>smart</td>\n",
       "      <td>sms_count_01</td>\n",
       "      <td>NaN</td>\n",
       "    </tr>\n",
       "    <tr>\n",
       "      <th>3</th>\n",
       "      <td>1003</td>\n",
       "      <td>ultra</td>\n",
       "      <td>sms_count_01</td>\n",
       "      <td>NaN</td>\n",
       "    </tr>\n",
       "    <tr>\n",
       "      <th>4</th>\n",
       "      <td>1004</td>\n",
       "      <td>ultra</td>\n",
       "      <td>sms_count_01</td>\n",
       "      <td>NaN</td>\n",
       "    </tr>\n",
       "    <tr>\n",
       "      <th>...</th>\n",
       "      <td>...</td>\n",
       "      <td>...</td>\n",
       "      <td>...</td>\n",
       "      <td>...</td>\n",
       "    </tr>\n",
       "    <tr>\n",
       "      <th>5995</th>\n",
       "      <td>1495</td>\n",
       "      <td>ultra</td>\n",
       "      <td>sms_count_12</td>\n",
       "      <td>84.0</td>\n",
       "    </tr>\n",
       "    <tr>\n",
       "      <th>5996</th>\n",
       "      <td>1496</td>\n",
       "      <td>smart</td>\n",
       "      <td>sms_count_12</td>\n",
       "      <td>51.0</td>\n",
       "    </tr>\n",
       "    <tr>\n",
       "      <th>5997</th>\n",
       "      <td>1497</td>\n",
       "      <td>smart</td>\n",
       "      <td>sms_count_12</td>\n",
       "      <td>17.0</td>\n",
       "    </tr>\n",
       "    <tr>\n",
       "      <th>5998</th>\n",
       "      <td>1498</td>\n",
       "      <td>smart</td>\n",
       "      <td>sms_count_12</td>\n",
       "      <td>NaN</td>\n",
       "    </tr>\n",
       "    <tr>\n",
       "      <th>5999</th>\n",
       "      <td>1499</td>\n",
       "      <td>smart</td>\n",
       "      <td>sms_count_12</td>\n",
       "      <td>66.0</td>\n",
       "    </tr>\n",
       "  </tbody>\n",
       "</table>\n",
       "<p>6000 rows × 4 columns</p>\n",
       "</div>"
      ],
      "text/plain": [
       "      user_id tariff      variable  value\n",
       "0        1000  ultra  sms_count_01    NaN\n",
       "1        1001  smart  sms_count_01    NaN\n",
       "2        1002  smart  sms_count_01    NaN\n",
       "3        1003  ultra  sms_count_01    NaN\n",
       "4        1004  ultra  sms_count_01    NaN\n",
       "...       ...    ...           ...    ...\n",
       "5995     1495  ultra  sms_count_12   84.0\n",
       "5996     1496  smart  sms_count_12   51.0\n",
       "5997     1497  smart  sms_count_12   17.0\n",
       "5998     1498  smart  sms_count_12    NaN\n",
       "5999     1499  smart  sms_count_12   66.0\n",
       "\n",
       "[6000 rows x 4 columns]"
      ]
     },
     "execution_count": 56,
     "metadata": {},
     "output_type": "execute_result"
    }
   ],
   "source": [
    "sms_count_melt = sms_count_pivot.melt(id_vars=['user_id', 'tariff'], value_vars=sms_count_pivot.iloc[:, 5:17])\n",
    "sms_count_melt"
   ]
  },
  {
   "cell_type": "code",
   "execution_count": 57,
   "id": "95648ca8-e064-48f6-91eb-9e84e4fa2b18",
   "metadata": {
    "jp-MarkdownHeadingCollapsed": true,
    "tags": []
   },
   "outputs": [
    {
     "data": {
      "text/plain": [
       "<AxesSubplot:xlabel='value', ylabel='Percent'>"
      ]
     },
     "execution_count": 57,
     "metadata": {},
     "output_type": "execute_result"
    },
    {
     "data": {
      "image/png": "[encoded data removed]",
      "text/plain": [
       "<Figure size 1440x720 with 1 Axes>"
      ]
     },
     "metadata": {},
     "output_type": "display_data"
    }
   ],
   "source": [
    "plt.axvline(x=50)\n",
    "\n",
    "sns.histplot(\n",
    "    data=sms_count_melt,\n",
    "    x='value',\n",
    "    hue='tariff',\n",
    "    kde=True,\n",
    "    stat='percent',\n",
    "    common_norm=False\n",
    ")"
   ]
  },
  {
   "cell_type": "markdown",
   "id": "0581f09b-ae90-4d55-8ccb-4fed8f529902",
   "metadata": {},
   "source": [
    "##### Ежемесячное потребление трафика:"
   ]
  },
  {
   "cell_type": "code",
   "execution_count": 58,
   "id": "17f1da35-c8a4-4247-9014-907297c4622f",
   "metadata": {},
   "outputs": [
    {
     "data": {
      "text/plain": [
       "<AxesSubplot:xlabel='gb_total_mean', ylabel='Percent'>"
      ]
     },
     "execution_count": 58,
     "metadata": {},
     "output_type": "execute_result"
    },
    {
     "data": {
      "image/png": "[encoded data removed]",
      "text/plain": [
       "<Figure size 1440x720 with 1 Axes>"
      ]
     },
     "metadata": {},
     "output_type": "display_data"
    }
   ],
   "source": [
    "sns.histplot(\n",
    "    data=gb_total_pivot,\n",
    "    x='gb_total_mean',\n",
    "    hue='tariff',\n",
    "    kde=True,\n",
    "    stat='percent',\n",
    "    common_norm=False\n",
    ")"
   ]
  },
  {
   "cell_type": "code",
   "execution_count": 59,
   "id": "051bf073-b106-40f2-90fb-ad33fe7b8ec6",
   "metadata": {},
   "outputs": [
    {
     "data": {
      "text/plain": [
       "'Среднее потребление Гб трафика по тарифам, в месяц'"
      ]
     },
     "metadata": {},
     "output_type": "display_data"
    },
    {
     "data": {
      "text/plain": [
       "tariff\n",
       "smart    16.318233\n",
       "ultra    19.607440\n",
       "Name: gb_total_mean, dtype: float64"
      ]
     },
     "metadata": {},
     "output_type": "display_data"
    },
    {
     "data": {
      "text/plain": [
       "'Процентное соотношение среднего потребления Гб трафика по тарифам, в месяц'"
      ]
     },
     "metadata": {},
     "output_type": "display_data"
    },
    {
     "data": {
      "text/plain": [
       "tariff\n",
       "smart    45.0\n",
       "ultra    55.0\n",
       "Name: gb_total_mean, dtype: float64"
      ]
     },
     "metadata": {},
     "output_type": "display_data"
    },
    {
     "data": {
      "text/plain": [
       "'Дисперсия выборки для потребления Гб трафика по тарифам, в месяц'"
      ]
     },
     "metadata": {},
     "output_type": "display_data"
    },
    {
     "data": {
      "text/plain": [
       "tariff\n",
       "smart    12.241758\n",
       "ultra    65.731114\n",
       "Name: gb_total_mean, dtype: float64"
      ]
     },
     "metadata": {},
     "output_type": "display_data"
    },
    {
     "data": {
      "text/plain": [
       "'Стандартное отклонение выборки для потребления Гб трафика по тарифам, в месяц'"
      ]
     },
     "metadata": {},
     "output_type": "display_data"
    },
    {
     "data": {
      "text/plain": [
       "tariff\n",
       "smart    3.498822\n",
       "ultra    8.107473\n",
       "Name: gb_total_mean, dtype: float64"
      ]
     },
     "metadata": {},
     "output_type": "display_data"
    }
   ],
   "source": [
    "display(\n",
    "    'Среднее потребление Гб трафика по тарифам, в месяц',\n",
    "    gb_total_pivot.groupby('tariff')['gb_total_mean']\n",
    "    .mean()\n",
    ")\n",
    "\n",
    "display(\n",
    "    'Процентное соотношение среднего потребления Гб трафика по тарифам, в месяц',\n",
    "    gb_total_pivot.groupby('tariff')['gb_total_mean']\n",
    "    .mean()\n",
    "    .div(\n",
    "        gb_total_pivot.groupby('tariff')['gb_total_mean']\n",
    "        .mean()\n",
    "        .sum()\n",
    "    )\n",
    "    .mul(100)\n",
    "    .round()\n",
    ")\n",
    "\n",
    "display(\n",
    "    'Дисперсия выборки для потребления Гб трафика по тарифам, в месяц',\n",
    "    gb_total_pivot.groupby('tariff')['gb_total_mean'].var(ddof=1)\n",
    ")\n",
    "\n",
    "display(\n",
    "    'Стандартное отклонение выборки для потребления Гб трафика по тарифам, в месяц',\n",
    "    gb_total_pivot.groupby('tariff')['gb_total_mean'].std(ddof=1)\n",
    ")"
   ]
  },
  {
   "cell_type": "markdown",
   "id": "698a0cfb-c028-4b6b-b1ad-e4ab2cc63110",
   "metadata": {},
   "source": [
    "Соберу все значения количества потребленого трафика в одну колонку и построю гистограмму количества потребленого трафика в разбивке по тарифам."
   ]
  },
  {
   "cell_type": "code",
   "execution_count": 60,
   "id": "e8e6e395-9434-4bdb-b2e5-e072a0dae2e1",
   "metadata": {},
   "outputs": [
    {
     "data": {
      "text/html": [
       "<div>\n",
       "<style scoped>\n",
       "    .dataframe tbody tr th:only-of-type {\n",
       "        vertical-align: middle;\n",
       "    }\n",
       "\n",
       "    .dataframe tbody tr th {\n",
       "        vertical-align: top;\n",
       "    }\n",
       "\n",
       "    .dataframe thead th {\n",
       "        text-align: right;\n",
       "    }\n",
       "</style>\n",
       "<table border=\"1\" class=\"dataframe\">\n",
       "  <thead>\n",
       "    <tr style=\"text-align: right;\">\n",
       "      <th></th>\n",
       "      <th>user_id</th>\n",
       "      <th>tariff</th>\n",
       "      <th>variable</th>\n",
       "      <th>value</th>\n",
       "    </tr>\n",
       "  </thead>\n",
       "  <tbody>\n",
       "    <tr>\n",
       "      <th>0</th>\n",
       "      <td>1000</td>\n",
       "      <td>ultra</td>\n",
       "      <td>gb_total_01</td>\n",
       "      <td>NaN</td>\n",
       "    </tr>\n",
       "    <tr>\n",
       "      <th>1</th>\n",
       "      <td>1001</td>\n",
       "      <td>smart</td>\n",
       "      <td>gb_total_01</td>\n",
       "      <td>NaN</td>\n",
       "    </tr>\n",
       "    <tr>\n",
       "      <th>2</th>\n",
       "      <td>1002</td>\n",
       "      <td>smart</td>\n",
       "      <td>gb_total_01</td>\n",
       "      <td>NaN</td>\n",
       "    </tr>\n",
       "    <tr>\n",
       "      <th>3</th>\n",
       "      <td>1003</td>\n",
       "      <td>ultra</td>\n",
       "      <td>gb_total_01</td>\n",
       "      <td>NaN</td>\n",
       "    </tr>\n",
       "    <tr>\n",
       "      <th>4</th>\n",
       "      <td>1004</td>\n",
       "      <td>ultra</td>\n",
       "      <td>gb_total_01</td>\n",
       "      <td>NaN</td>\n",
       "    </tr>\n",
       "    <tr>\n",
       "      <th>...</th>\n",
       "      <td>...</td>\n",
       "      <td>...</td>\n",
       "      <td>...</td>\n",
       "      <td>...</td>\n",
       "    </tr>\n",
       "    <tr>\n",
       "      <th>5995</th>\n",
       "      <td>1495</td>\n",
       "      <td>ultra</td>\n",
       "      <td>gb_total_12</td>\n",
       "      <td>23.0</td>\n",
       "    </tr>\n",
       "    <tr>\n",
       "      <th>5996</th>\n",
       "      <td>1496</td>\n",
       "      <td>smart</td>\n",
       "      <td>gb_total_12</td>\n",
       "      <td>21.0</td>\n",
       "    </tr>\n",
       "    <tr>\n",
       "      <th>5997</th>\n",
       "      <td>1497</td>\n",
       "      <td>smart</td>\n",
       "      <td>gb_total_12</td>\n",
       "      <td>20.0</td>\n",
       "    </tr>\n",
       "    <tr>\n",
       "      <th>5998</th>\n",
       "      <td>1498</td>\n",
       "      <td>smart</td>\n",
       "      <td>gb_total_12</td>\n",
       "      <td>NaN</td>\n",
       "    </tr>\n",
       "    <tr>\n",
       "      <th>5999</th>\n",
       "      <td>1499</td>\n",
       "      <td>smart</td>\n",
       "      <td>gb_total_12</td>\n",
       "      <td>13.0</td>\n",
       "    </tr>\n",
       "  </tbody>\n",
       "</table>\n",
       "<p>6000 rows × 4 columns</p>\n",
       "</div>"
      ],
      "text/plain": [
       "      user_id tariff     variable  value\n",
       "0        1000  ultra  gb_total_01    NaN\n",
       "1        1001  smart  gb_total_01    NaN\n",
       "2        1002  smart  gb_total_01    NaN\n",
       "3        1003  ultra  gb_total_01    NaN\n",
       "4        1004  ultra  gb_total_01    NaN\n",
       "...       ...    ...          ...    ...\n",
       "5995     1495  ultra  gb_total_12   23.0\n",
       "5996     1496  smart  gb_total_12   21.0\n",
       "5997     1497  smart  gb_total_12   20.0\n",
       "5998     1498  smart  gb_total_12    NaN\n",
       "5999     1499  smart  gb_total_12   13.0\n",
       "\n",
       "[6000 rows x 4 columns]"
      ]
     },
     "execution_count": 60,
     "metadata": {},
     "output_type": "execute_result"
    }
   ],
   "source": [
    "gb_total_melt = gb_total_pivot.melt(id_vars=['user_id', 'tariff'], value_vars=gb_total_pivot.iloc[:, 5:17])\n",
    "gb_total_melt"
   ]
  },
  {
   "cell_type": "code",
   "execution_count": 61,
   "id": "9df3c608-5c45-4be4-a9f3-d8759ad50267",
   "metadata": {
    "jp-MarkdownHeadingCollapsed": true,
    "tags": []
   },
   "outputs": [
    {
     "data": {
      "text/plain": [
       "<AxesSubplot:xlabel='value', ylabel='Percent'>"
      ]
     },
     "execution_count": 61,
     "metadata": {},
     "output_type": "execute_result"
    },
    {
     "data": {
      "image/png": "[encoded data removed]",
      "text/plain": [
       "<Figure size 1440x720 with 1 Axes>"
      ]
     },
     "metadata": {},
     "output_type": "display_data"
    }
   ],
   "source": [
    "plt.vlines(x=[15, 30], ymin=0, ymax=16)\n",
    "\n",
    "sns.histplot(\n",
    "    data=gb_total_melt,\n",
    "    x='value',\n",
    "    hue='tariff',\n",
    "    kde=True,\n",
    "    stat='percent',\n",
    "    common_norm=False\n",
    ")"
   ]
  },
  {
   "cell_type": "markdown",
   "id": "5e521702-03c5-498d-931e-21322bc0c0f2",
   "metadata": {},
   "source": [
    "#### 3.1.1 Вывод:"
   ]
  },
  {
   "cell_type": "markdown",
   "id": "03324824-d938-4252-bf0f-e7dccb0126fa",
   "metadata": {},
   "source": [
    "Для тарифа \"Смарт\" характерны высокие пики в районе лимита предоплаченных услуг входящих в тарифный план. Количество пользователей вышедших за лимит стремительно уменьшается. Тем не менее пользователи тарифа \"Смарт\" более склонны выходить за пределы установленные тарифным планом.  \n",
    "Особенно это касается интернет трафика. Среднее потребление пользователей тарифа \"Смарт\" превышает установленное тарифным планом порогове значение в 15 Гб и составлляет 16.31 Гб. Также пользователи тарифа \"Смарт\" часто выходят за лимиты потребления иных услуг.\n",
    "\n",
    "Для тарифа \"Ультра\" характерно более равномерное распределение потребления услуг. Пик не имеет яркой выраженности, но потребление услуг достигает пика примерно на тех же значениях что и у пользователей тарифа \"Смарт\". Тем не менее, заметна значительная гурппа пользователей использующая большее количество услуг чем пользователи тарифа \"Смарт\".  \n",
    "Пользователям тарифа \"Ультра\" не свойственен выход за установленные тарифным планом предоплаченные значения длительности звонков и количества сообщений. Отдельные пользователи тарифа \"Ультра\" могут выйти за пределы потребления предоплаченного интернет трафика.\n",
    "\n",
    "Пользователи тарифа \"Ультра\" в среднем совершают звонки чаще и разговаривают дольше чем пользователи тарифа \"Смарт\". 76 звонков против 58, 546 минут против 420.  \n",
    "Пользователи тарифа \"Ультра\" отправляют больше сообщений, 64 против 37. Но пик количества сообщений смещен влево - вероятно, большая часть пользователей не использует их как один из основных методов общения.\n",
    "\n",
    "Пользователи тарифов \"Смарт\" и \"Ультра\" в среднем потребляют 16.3 и 19.7 Гб трафика соответственно. Важно учитывать равномерное распределение потребления пользователями тарифа \"Ультра\". Пользователи тарифа \"Смарт\" стремятся ограничить потребление по мере достижения ежемесячного лимита, пользователи тарифа \"Ультра\" используют столько трафика сколько им требуется."
   ]
  },
  {
   "cell_type": "markdown",
   "id": "eed057c1-bb6b-4f91-b4de-5cc091d7594f",
   "metadata": {},
   "source": [
    "#### 3.1.2 Анализ выручки в зависимости от тарифного плана:"
   ]
  },
  {
   "cell_type": "markdown",
   "id": "c43404cc-9ee7-46c9-a997-f527cca37a22",
   "metadata": {},
   "source": [
    "##### **Средняя выручка за использование минут сверх установленного тарифным планом лимита:**"
   ]
  },
  {
   "cell_type": "code",
   "execution_count": 62,
   "id": "f161b55c-49e3-400a-acb5-07d8e50ac390",
   "metadata": {},
   "outputs": [
    {
     "data": {
      "text/plain": [
       "<AxesSubplot:xlabel='calls_dur_revenue_mean', ylabel='Percent'>"
      ]
     },
     "execution_count": 62,
     "metadata": {},
     "output_type": "execute_result"
    },
    {
     "data": {
      "image/png": "[encoded data removed]",
      "text/plain": [
       "<Figure size 1440x720 with 1 Axes>"
      ]
     },
     "metadata": {},
     "output_type": "display_data"
    }
   ],
   "source": [
    "sns.histplot(\n",
    "    data=calls_dur_revenue,\n",
    "    x='calls_dur_revenue_mean',\n",
    "    hue='tariff',\n",
    "    kde=True,\n",
    "    stat='percent',\n",
    "    common_norm=False\n",
    ")"
   ]
  },
  {
   "cell_type": "code",
   "execution_count": 63,
   "id": "906c28cb-22fe-44b7-8bfb-2cb660b15f7c",
   "metadata": {},
   "outputs": [
    {
     "data": {
      "text/plain": [
       "'Средняя выручка за использование минут сверх установленного тарифным планом лимита, в месяц'"
      ]
     },
     "metadata": {},
     "output_type": "display_data"
    },
    {
     "data": {
      "text/plain": [
       "tariff\n",
       "smart    137.614861\n",
       "ultra      0.000000\n",
       "Name: calls_dur_revenue_mean, dtype: float64"
      ]
     },
     "metadata": {},
     "output_type": "display_data"
    },
    {
     "data": {
      "text/plain": [
       "'Процентное соотношение cредней выручки за использование минут сверх установленного тарифным планом лимита по тарифам, в месяц'"
      ]
     },
     "metadata": {},
     "output_type": "display_data"
    },
    {
     "data": {
      "text/plain": [
       "tariff\n",
       "smart    100.0\n",
       "ultra      0.0\n",
       "Name: calls_dur_revenue_mean, dtype: float64"
      ]
     },
     "metadata": {},
     "output_type": "display_data"
    },
    {
     "data": {
      "text/plain": [
       "'Дисперсия выборки для cредней выручка за использование минут сверх установленного тарифным планом лимита по тарифам, в месяц'"
      ]
     },
     "metadata": {},
     "output_type": "display_data"
    },
    {
     "data": {
      "text/plain": [
       "tariff\n",
       "smart    44326.875122\n",
       "ultra        0.000000\n",
       "Name: calls_dur_revenue_mean, dtype: float64"
      ]
     },
     "metadata": {},
     "output_type": "display_data"
    },
    {
     "data": {
      "text/plain": [
       "'Стандартное отклонение выборки для cредней выручка за использование минут сверх установленного тарифным планом лимита по тарифам, в месяц'"
      ]
     },
     "metadata": {},
     "output_type": "display_data"
    },
    {
     "data": {
      "text/plain": [
       "tariff\n",
       "smart    210.539486\n",
       "ultra      0.000000\n",
       "Name: calls_dur_revenue_mean, dtype: float64"
      ]
     },
     "metadata": {},
     "output_type": "display_data"
    }
   ],
   "source": [
    "display(\n",
    "    'Средняя выручка за использование минут сверх установленного тарифным планом лимита, в месяц',\n",
    "    calls_dur_revenue.groupby('tariff')['calls_dur_revenue_mean']\n",
    "    .mean()\n",
    ")\n",
    "\n",
    "display(\n",
    "    'Процентное соотношение cредней выручки за использование минут сверх установленного тарифным планом лимита по тарифам, в месяц',\n",
    "    calls_dur_revenue.groupby('tariff')['calls_dur_revenue_mean']\n",
    "    .mean()\n",
    "    .div(\n",
    "        calls_dur_revenue.groupby('tariff')['calls_dur_revenue_mean']\n",
    "        .mean()\n",
    "        .sum()\n",
    "    )\n",
    "    .mul(100)\n",
    "    .round()\n",
    ")\n",
    "\n",
    "display(\n",
    "    'Дисперсия выборки для cредней выручка за использование минут сверх установленного тарифным планом лимита по тарифам, в месяц',\n",
    "    calls_dur_revenue.groupby('tariff')['calls_dur_revenue_mean'].var(ddof=1)\n",
    ")\n",
    "\n",
    "display(\n",
    "    'Стандартное отклонение выборки для cредней выручка за использование минут сверх установленного тарифным планом лимита по тарифам, в месяц',\n",
    "    calls_dur_revenue.groupby('tariff')['calls_dur_revenue_mean'].std(ddof=1)\n",
    ")"
   ]
  },
  {
   "cell_type": "markdown",
   "id": "5d477e37-a300-4047-af67-ea4f5b7a9cdb",
   "metadata": {},
   "source": [
    "##### **Средняя выручка за использование сообщений сверх установленного тарифным планом лимита:**"
   ]
  },
  {
   "cell_type": "code",
   "execution_count": 64,
   "id": "dacac90c-0d26-4d40-a584-012431c7c689",
   "metadata": {},
   "outputs": [
    {
     "data": {
      "text/plain": [
       "<AxesSubplot:xlabel='sms_count_revenue_mean', ylabel='Percent'>"
      ]
     },
     "execution_count": 64,
     "metadata": {},
     "output_type": "execute_result"
    },
    {
     "data": {
      "image/png": "[encoded data removed]",
      "text/plain": [
       "<Figure size 1440x720 with 1 Axes>"
      ]
     },
     "metadata": {},
     "output_type": "display_data"
    }
   ],
   "source": [
    "sns.histplot(\n",
    "    data=sms_count_revenue,\n",
    "    x='sms_count_revenue_mean',\n",
    "    hue='tariff',\n",
    "    kde=True,\n",
    "    stat='percent',\n",
    "    common_norm=False\n",
    ")"
   ]
  },
  {
   "cell_type": "code",
   "execution_count": 65,
   "id": "152a8894-1ab2-4fec-8344-f2389f7e559a",
   "metadata": {},
   "outputs": [
    {
     "data": {
      "text/plain": [
       "'Средняя выручка за использование сообщений сверх установленного тарифным планом лимита, в месяц'"
      ]
     },
     "metadata": {},
     "output_type": "display_data"
    },
    {
     "data": {
      "text/plain": [
       "tariff\n",
       "smart    20.442384\n",
       "ultra     0.000000\n",
       "Name: sms_count_revenue_mean, dtype: float64"
      ]
     },
     "metadata": {},
     "output_type": "display_data"
    },
    {
     "data": {
      "text/plain": [
       "'Процентное соотношение cредней выручки за использование сообщений сверх установленного тарифным планом лимита по тарифам, в месяц'"
      ]
     },
     "metadata": {},
     "output_type": "display_data"
    },
    {
     "data": {
      "text/plain": [
       "tariff\n",
       "smart    100.0\n",
       "ultra      0.0\n",
       "Name: sms_count_revenue_mean, dtype: float64"
      ]
     },
     "metadata": {},
     "output_type": "display_data"
    },
    {
     "data": {
      "text/plain": [
       "'Дисперсия выборки для cредней выручка за использование сообщений сверх установленного тарифным планом лимита по тарифам, в месяц'"
      ]
     },
     "metadata": {},
     "output_type": "display_data"
    },
    {
     "data": {
      "text/plain": [
       "tariff\n",
       "smart    1527.527449\n",
       "ultra       0.000000\n",
       "Name: sms_count_revenue_mean, dtype: float64"
      ]
     },
     "metadata": {},
     "output_type": "display_data"
    },
    {
     "data": {
      "text/plain": [
       "'Стандартное отклонение выборки для cредней выручка за использование сообщений сверх установленного тарифным планом лимита по тарифам, в месяц'"
      ]
     },
     "metadata": {},
     "output_type": "display_data"
    },
    {
     "data": {
      "text/plain": [
       "tariff\n",
       "smart    39.083596\n",
       "ultra     0.000000\n",
       "Name: sms_count_revenue_mean, dtype: float64"
      ]
     },
     "metadata": {},
     "output_type": "display_data"
    }
   ],
   "source": [
    "display(\n",
    "    'Средняя выручка за использование сообщений сверх установленного тарифным планом лимита, в месяц',\n",
    "    sms_count_revenue.groupby('tariff')['sms_count_revenue_mean']\n",
    "    .mean()\n",
    ")\n",
    "\n",
    "display(\n",
    "    'Процентное соотношение cредней выручки за использование сообщений сверх установленного тарифным планом лимита по тарифам, в месяц',\n",
    "    sms_count_revenue.groupby('tariff')['sms_count_revenue_mean']\n",
    "    .mean()\n",
    "    .div(\n",
    "        sms_count_revenue.groupby('tariff')['sms_count_revenue_mean']\n",
    "        .mean()\n",
    "        .sum()\n",
    "    )\n",
    "    .mul(100)\n",
    "    .round()\n",
    ")\n",
    "\n",
    "display(\n",
    "    'Дисперсия выборки для cредней выручка за использование сообщений сверх установленного тарифным планом лимита по тарифам, в месяц',\n",
    "    sms_count_revenue.groupby('tariff')['sms_count_revenue_mean'].var(ddof=1)\n",
    ")\n",
    "\n",
    "display(\n",
    "    'Стандартное отклонение выборки для cредней выручка за использование сообщений сверх установленного тарифным планом лимита по тарифам, в месяц',\n",
    "    sms_count_revenue.groupby('tariff')['sms_count_revenue_mean'].std(ddof=1)\n",
    ")"
   ]
  },
  {
   "cell_type": "markdown",
   "id": "a3f65f23-e78d-4d9c-a7df-892a959fd7a7",
   "metadata": {},
   "source": [
    "##### **Средняя выручка за использование трафика сверх установленного тарифным планом лимита:**"
   ]
  },
  {
   "cell_type": "code",
   "execution_count": 66,
   "id": "bee13f32-770b-42ef-bdad-75d4a97d9ae0",
   "metadata": {},
   "outputs": [
    {
     "data": {
      "text/plain": [
       "<AxesSubplot:xlabel='gb_total_revenue_mean', ylabel='Percent'>"
      ]
     },
     "execution_count": 66,
     "metadata": {},
     "output_type": "execute_result"
    },
    {
     "data": {
      "image/png": "[encoded data removed]",
      "text/plain": [
       "<Figure size 1440x720 with 1 Axes>"
      ]
     },
     "metadata": {},
     "output_type": "display_data"
    }
   ],
   "source": [
    "sns.histplot(\n",
    "    data=gb_total_revenue,\n",
    "    x='gb_total_revenue_mean',\n",
    "    hue='tariff',\n",
    "    kde=True,\n",
    "    stat='percent',\n",
    "    common_norm=False\n",
    ")"
   ]
  },
  {
   "cell_type": "code",
   "execution_count": 67,
   "id": "5df7f976-67e6-4e76-beaa-0f366fc61e5e",
   "metadata": {},
   "outputs": [
    {
     "data": {
      "text/plain": [
       "'Средняя выручка за использование трафика сверх установленного тарифным планом лимита, в месяц'"
      ]
     },
     "metadata": {},
     "output_type": "display_data"
    },
    {
     "data": {
      "text/plain": [
       "tariff\n",
       "smart    619.797629\n",
       "ultra    137.392990\n",
       "Name: gb_total_revenue_mean, dtype: float64"
      ]
     },
     "metadata": {},
     "output_type": "display_data"
    },
    {
     "data": {
      "text/plain": [
       "'Процентное соотношение cредней выручки за использование трафика сверх установленного тарифным планом лимита по тарифам, в месяц'"
      ]
     },
     "metadata": {},
     "output_type": "display_data"
    },
    {
     "data": {
      "text/plain": [
       "tariff\n",
       "smart    82.0\n",
       "ultra    18.0\n",
       "Name: gb_total_revenue_mean, dtype: float64"
      ]
     },
     "metadata": {},
     "output_type": "display_data"
    },
    {
     "data": {
      "text/plain": [
       "'Дисперсия выборки для cредней выручка за использование трафика сверх установленного тарифным планом лимита по тарифам, в месяц'"
      ]
     },
     "metadata": {},
     "output_type": "display_data"
    },
    {
     "data": {
      "text/plain": [
       "tariff\n",
       "smart    286907.719137\n",
       "ultra     89603.788389\n",
       "Name: gb_total_revenue_mean, dtype: float64"
      ]
     },
     "metadata": {},
     "output_type": "display_data"
    },
    {
     "data": {
      "text/plain": [
       "'Стандартное отклонение выборки для cредней выручка за использование трафика сверх установленного тарифным планом лимита по тарифам, в месяц'"
      ]
     },
     "metadata": {},
     "output_type": "display_data"
    },
    {
     "data": {
      "text/plain": [
       "tariff\n",
       "smart    535.637675\n",
       "ultra    299.338919\n",
       "Name: gb_total_revenue_mean, dtype: float64"
      ]
     },
     "metadata": {},
     "output_type": "display_data"
    }
   ],
   "source": [
    "display(\n",
    "    'Средняя выручка за использование трафика сверх установленного тарифным планом лимита, в месяц',\n",
    "    gb_total_revenue.groupby('tariff')['gb_total_revenue_mean']\n",
    "    .mean()\n",
    ")\n",
    "\n",
    "display(\n",
    "    'Процентное соотношение cредней выручки за использование трафика сверх установленного тарифным планом лимита по тарифам, в месяц',\n",
    "    gb_total_revenue.groupby('tariff')['gb_total_revenue_mean']\n",
    "    .mean()\n",
    "    .div(\n",
    "        gb_total_revenue.groupby('tariff')['gb_total_revenue_mean']\n",
    "        .mean()\n",
    "        .sum()\n",
    "    )\n",
    "    .mul(100)\n",
    "    .round()\n",
    ")\n",
    "\n",
    "display(\n",
    "    'Дисперсия выборки для cредней выручка за использование трафика сверх установленного тарифным планом лимита по тарифам, в месяц',\n",
    "    gb_total_revenue.groupby('tariff')['gb_total_revenue_mean'].var(ddof=1)\n",
    ")\n",
    "\n",
    "display(\n",
    "    'Стандартное отклонение выборки для cредней выручка за использование трафика сверх установленного тарифным планом лимита по тарифам, в месяц',\n",
    "    gb_total_revenue.groupby('tariff')['gb_total_revenue_mean'].std(ddof=1)\n",
    ")"
   ]
  },
  {
   "cell_type": "markdown",
   "id": "56e20cf8-109a-49f7-a9cb-a6a151a98fba",
   "metadata": {},
   "source": [
    "##### **Средняя выручка за использование всех услуг сверх установленного тарифным планом лимита:**"
   ]
  },
  {
   "cell_type": "code",
   "execution_count": 68,
   "id": "a4936edd-3f6d-4f12-b140-7a9bcdd4f445",
   "metadata": {},
   "outputs": [
    {
     "data": {
      "text/plain": [
       "<AxesSubplot:xlabel='revenue_service_mean', ylabel='Percent'>"
      ]
     },
     "execution_count": 68,
     "metadata": {},
     "output_type": "execute_result"
    },
    {
     "data": {
      "image/png": "[encoded data removed]",
      "text/plain": [
       "<Figure size 1440x720 with 1 Axes>"
      ]
     },
     "metadata": {},
     "output_type": "display_data"
    }
   ],
   "source": [
    "sns.histplot(\n",
    "    data=revenue_service,\n",
    "    x='revenue_service_mean',\n",
    "    hue='tariff',\n",
    "    kde=True,\n",
    "    stat='percent',\n",
    "    common_norm=False\n",
    ")"
   ]
  },
  {
   "cell_type": "code",
   "execution_count": 69,
   "id": "98e23275-9f75-4769-8a10-503985945afc",
   "metadata": {},
   "outputs": [
    {
     "data": {
      "text/plain": [
       "'Средняя выручка за использование всех услуг сверх установленного тарифным планом лимита, в месяц'"
      ]
     },
     "metadata": {},
     "output_type": "display_data"
    },
    {
     "data": {
      "text/plain": [
       "tariff\n",
       "smart    774.401019\n",
       "ultra    136.464659\n",
       "Name: revenue_service_mean, dtype: float64"
      ]
     },
     "metadata": {},
     "output_type": "display_data"
    },
    {
     "data": {
      "text/plain": [
       "'Процентное соотношение cредней выручки за использование всех услуг сверх установленного тарифным планом лимита по тарифам, в месяц'"
      ]
     },
     "metadata": {},
     "output_type": "display_data"
    },
    {
     "data": {
      "text/plain": [
       "tariff\n",
       "smart    85.0\n",
       "ultra    15.0\n",
       "Name: revenue_service_mean, dtype: float64"
      ]
     },
     "metadata": {},
     "output_type": "display_data"
    },
    {
     "data": {
      "text/plain": [
       "'Дисперсия выборки для cредней выручка за использование всех услуг сверх установленного тарифным планом лимита по тарифам, в месяц'"
      ]
     },
     "metadata": {},
     "output_type": "display_data"
    },
    {
     "data": {
      "text/plain": [
       "tariff\n",
       "smart    367285.150014\n",
       "ultra     89121.784981\n",
       "Name: revenue_service_mean, dtype: float64"
      ]
     },
     "metadata": {},
     "output_type": "display_data"
    },
    {
     "data": {
      "text/plain": [
       "'Стандартное отклонение выборки для cредней выручка за использование всех услуг сверх установленного тарифным планом лимита по тарифам, в месяц'"
      ]
     },
     "metadata": {},
     "output_type": "display_data"
    },
    {
     "data": {
      "text/plain": [
       "tariff\n",
       "smart    606.040551\n",
       "ultra    298.532720\n",
       "Name: revenue_service_mean, dtype: float64"
      ]
     },
     "metadata": {},
     "output_type": "display_data"
    }
   ],
   "source": [
    "display(\n",
    "    'Средняя выручка за использование всех услуг сверх установленного тарифным планом лимита, в месяц',\n",
    "    revenue_service.groupby('tariff')['revenue_service_mean']\n",
    "    .mean()\n",
    ")\n",
    "\n",
    "display(\n",
    "    'Процентное соотношение cредней выручки за использование всех услуг сверх установленного тарифным планом лимита по тарифам, в месяц',\n",
    "    revenue_service.groupby('tariff')['revenue_service_mean']\n",
    "    .mean()\n",
    "    .div(\n",
    "        revenue_service.groupby('tariff')['revenue_service_mean']\n",
    "        .mean()\n",
    "        .sum()\n",
    "    )\n",
    "    .mul(100)\n",
    "    .round()\n",
    ")\n",
    "\n",
    "display(\n",
    "    'Дисперсия выборки для cредней выручка за использование всех услуг сверх установленного тарифным планом лимита по тарифам, в месяц',\n",
    "    revenue_service.groupby('tariff')['revenue_service_mean'].var(ddof=1)\n",
    ")\n",
    "\n",
    "display(\n",
    "    'Стандартное отклонение выборки для cредней выручка за использование всех услуг сверх установленного тарифным планом лимита по тарифам, в месяц',\n",
    "    revenue_service.groupby('tariff')['revenue_service_mean'].std(ddof=1)\n",
    ")"
   ]
  },
  {
   "cell_type": "markdown",
   "id": "52f0c13d-363f-45ae-8218-88aa5f596861",
   "metadata": {},
   "source": [
    "##### **Средняя ежемесячная выручка с учетом абонентской платы:**"
   ]
  },
  {
   "cell_type": "code",
   "execution_count": 70,
   "id": "902538b2-48d9-4fbb-bfd4-100eed591b82",
   "metadata": {},
   "outputs": [
    {
     "data": {
      "text/plain": [
       "<AxesSubplot:xlabel='revenue_total_mean', ylabel='Percent'>"
      ]
     },
     "execution_count": 70,
     "metadata": {},
     "output_type": "execute_result"
    },
    {
     "data": {
      "image/png": "[encoded data removed]",
      "text/plain": [
       "<Figure size 1440x720 with 1 Axes>"
      ]
     },
     "metadata": {},
     "output_type": "display_data"
    }
   ],
   "source": [
    "sns.histplot(\n",
    "    data=revenue_total,\n",
    "    x='revenue_total_mean',\n",
    "    hue='tariff',\n",
    "    kde=True,\n",
    "    stat='percent',\n",
    "    common_norm=False\n",
    ")"
   ]
  },
  {
   "cell_type": "code",
   "execution_count": 71,
   "id": "bc59925d-9647-4beb-876f-e70d31fc79ec",
   "metadata": {},
   "outputs": [
    {
     "data": {
      "text/plain": [
       "'Средняя ежемесячная выручка с учетом абонентской платы, в месяц'"
      ]
     },
     "metadata": {},
     "output_type": "display_data"
    },
    {
     "data": {
      "text/plain": [
       "tariff\n",
       "smart    1324.401019\n",
       "ultra    2086.464659\n",
       "Name: revenue_total_mean, dtype: float64"
      ]
     },
     "metadata": {},
     "output_type": "display_data"
    },
    {
     "data": {
      "text/plain": [
       "'Процентное соотношение cредней ежемесячной выручки с учетом абонентской платы, в месяц'"
      ]
     },
     "metadata": {},
     "output_type": "display_data"
    },
    {
     "data": {
      "text/plain": [
       "tariff\n",
       "smart    39.0\n",
       "ultra    61.0\n",
       "Name: revenue_total_mean, dtype: float64"
      ]
     },
     "metadata": {},
     "output_type": "display_data"
    },
    {
     "data": {
      "text/plain": [
       "'Дисперсия выборки для cредней ежемесячной выручки с учетом абонентской платы, в месяц'"
      ]
     },
     "metadata": {},
     "output_type": "display_data"
    },
    {
     "data": {
      "text/plain": [
       "tariff\n",
       "smart    367285.150014\n",
       "ultra     89121.784981\n",
       "Name: revenue_total_mean, dtype: float64"
      ]
     },
     "metadata": {},
     "output_type": "display_data"
    },
    {
     "data": {
      "text/plain": [
       "'Стандартное отклонение выборки для cредней ежемесячной выручки с учетом абонентской платы, в месяц'"
      ]
     },
     "metadata": {},
     "output_type": "display_data"
    },
    {
     "data": {
      "text/plain": [
       "tariff\n",
       "smart    606.040551\n",
       "ultra    298.532720\n",
       "Name: revenue_total_mean, dtype: float64"
      ]
     },
     "metadata": {},
     "output_type": "display_data"
    }
   ],
   "source": [
    "display(\n",
    "    'Средняя ежемесячная выручка с учетом абонентской платы, в месяц',\n",
    "    revenue_total.groupby('tariff')['revenue_total_mean']\n",
    "    .mean()\n",
    ")\n",
    "\n",
    "display(\n",
    "    'Процентное соотношение cредней ежемесячной выручки с учетом абонентской платы, в месяц',\n",
    "    revenue_total.groupby('tariff')['revenue_total_mean']\n",
    "    .mean()\n",
    "    .div(\n",
    "        revenue_total.groupby('tariff')['revenue_total_mean']\n",
    "        .mean()\n",
    "        .sum()\n",
    "    )\n",
    "    .mul(100)\n",
    "    .round()\n",
    ")\n",
    "\n",
    "display(\n",
    "    'Дисперсия выборки для cредней ежемесячной выручки с учетом абонентской платы, в месяц',\n",
    "    revenue_total.groupby('tariff')['revenue_total_mean'].var(ddof=1)\n",
    ")\n",
    "\n",
    "display(\n",
    "    'Стандартное отклонение выборки для cредней ежемесячной выручки с учетом абонентской платы, в месяц',\n",
    "    revenue_total.groupby('tariff')['revenue_total_mean'].std(ddof=1)\n",
    ")"
   ]
  },
  {
   "cell_type": "markdown",
   "id": "e6f79a45-b41b-430b-8565-970d047cedac",
   "metadata": {},
   "source": [
    "Рассчитаю среднюю выручку абонентов из Москвы и из остальных городов."
   ]
  },
  {
   "cell_type": "code",
   "execution_count": 72,
   "id": "0785b033-6189-4f18-a7bc-451168fc62ae",
   "metadata": {},
   "outputs": [
    {
     "data": {
      "text/plain": [
       "'Средняя ежемесячная выручка абонентов из Москвы, в месяц'"
      ]
     },
     "metadata": {},
     "output_type": "display_data"
    },
    {
     "data": {
      "text/plain": [
       "1498.465851152215"
      ]
     },
     "metadata": {},
     "output_type": "display_data"
    },
    {
     "data": {
      "text/plain": [
       "'Средняя ежемесячная выручка абонентов из других городов, в месяц'"
      ]
     },
     "metadata": {},
     "output_type": "display_data"
    },
    {
     "data": {
      "text/plain": [
       "1563.8822229636141"
      ]
     },
     "metadata": {},
     "output_type": "display_data"
    }
   ],
   "source": [
    "display(\n",
    "    'Средняя ежемесячная выручка абонентов из Москвы, в месяц',\n",
    "    revenue_total.query('city == \"Москва\"')['revenue_total_mean']\n",
    "    .mean()\n",
    ")\n",
    "\n",
    "display(\n",
    "    'Средняя ежемесячная выручка абонентов из других городов, в месяц',\n",
    "    revenue_total.query('city != \"Москва\"')['revenue_total_mean']\n",
    "    .mean()\n",
    ")"
   ]
  },
  {
   "cell_type": "markdown",
   "id": "5eb73769-b61a-4e23-8993-2b1ba36d34ca",
   "metadata": {},
   "source": [
    "#### 3.1.2 Вывод:"
   ]
  },
  {
   "cell_type": "markdown",
   "id": "5c3dcf43-d056-4dff-ab2d-e1a4371c3497",
   "metadata": {},
   "source": [
    "Средняя ежемесячная выручка пользователей тарифа \"Ультра\" составляет 2086 рублей.  \n",
    "Средняя ежемесячная выручка пользователей тарифа \"Смарт\" составляет 1324 рубля.\n",
    "\n",
    "Средняя ежемесячная выручка абонентов из Москвы составляет 1498 рублей.  \n",
    "Средняя ежемесячная выручка абонентов из других городов составляет 1563 рубля.\n",
    "\n",
    "Основная масса выручки тарифа \"Ультра\" достигается за счет абонентской платы. Пользователи тарифа \"Ультра\" практически не выходят за рамки предоплаченных лимитов длительности разговора и сообщений, поэтому сумма выручки свыше 1950 рублей достигается только за счет редких пользователей выходящих за лимит потребления трафика, среднее потребление в 136 рублей.\n",
    "\n",
    "Основная масса выручки тарифа \"Смарт\" достигается за счет взимания платы за услуги оказанные сверх предоплаченных лимитов. При абонентской плате 550 рублей, среднее потребление услуг обходится пользователям тарифа \"Смарт\" в 774 рубля."
   ]
  },
  {
   "cell_type": "markdown",
   "id": "3d345caf-f255-47c0-8f71-8de6791c9863",
   "metadata": {
    "tags": []
   },
   "source": [
    "### 3.2 Дополнительно: анализ потребления услуг клиентами и выручки в зависимости от пола и возрастной группы:"
   ]
  },
  {
   "cell_type": "markdown",
   "id": "b98abc90-f27c-4d83-81c7-a96f2d908707",
   "metadata": {},
   "source": [
    "Дополнительный анализ выполнен поверхностно, из личного интереса, и не будет исопльзован при формировании вывода, так как при группировке текущей выборки одновременно по двум и более параметрам, получившиеся гурппы могут оказаться недостаточными для репрезентативного представления данных."
   ]
  },
  {
   "cell_type": "code",
   "execution_count": 73,
   "id": "ddbfb328-18a6-453f-bec9-2d10d57d2472",
   "metadata": {},
   "outputs": [
    {
     "data": {
      "text/plain": [
       "'Средняя продолжительность разговора с учетом пола абонента, в месяц'"
      ]
     },
     "metadata": {},
     "output_type": "display_data"
    },
    {
     "data": {
      "text/plain": [
       "(smart, f)    420.212072\n",
       "(smart, m)    419.069947\n",
       "(ultra, f)    512.117476\n",
       "(ultra, m)    548.773348\n",
       "Name: calls_dur_mean, dtype: float64"
      ]
     },
     "metadata": {},
     "output_type": "display_data"
    },
    {
     "data": {
      "text/plain": [
       "'Среднее количество сообщений с учетом пола абонента, в месяц'"
      ]
     },
     "metadata": {},
     "output_type": "display_data"
    },
    {
     "data": {
      "text/plain": [
       "(smart, f)    30.838150\n",
       "(smart, m)    33.988607\n",
       "(ultra, f)    55.255924\n",
       "(ultra, m)    52.595043\n",
       "Name: sms_count_mean, dtype: float64"
      ]
     },
     "metadata": {},
     "output_type": "display_data"
    },
    {
     "data": {
      "text/plain": [
       "'Среднее потребление трафика с учетом пола абонента, в месяц'"
      ]
     },
     "metadata": {},
     "output_type": "display_data"
    },
    {
     "data": {
      "text/plain": [
       "(smart, f)    16.088110\n",
       "(smart, m)    16.545742\n",
       "(ultra, f)    19.495986\n",
       "(ultra, m)    19.749757\n",
       "Name: gb_total_mean, dtype: float64"
      ]
     },
     "metadata": {},
     "output_type": "display_data"
    },
    {
     "data": {
      "text/plain": [
       "'Средняя выручка с учетом пола абонента, в месяц'"
      ]
     },
     "metadata": {},
     "output_type": "display_data"
    },
    {
     "data": {
      "text/plain": [
       "(smart, f)    1279.605584\n",
       "(smart, m)    1368.687416\n",
       "(ultra, f)    2064.555104\n",
       "(ultra, m)    2114.441475\n",
       "Name: revenue_total_mean, dtype: float64"
      ]
     },
     "metadata": {},
     "output_type": "display_data"
    }
   ],
   "source": [
    "display(\n",
    "    'Средняя продолжительность разговора с учетом пола абонента, в месяц',\n",
    "    calls_dur_pivot.groupby(calls_dur_pivot[['tariff', 'sex']].apply(tuple, axis=1))['calls_dur_mean']\n",
    "    .mean()\n",
    ")\n",
    "\n",
    "display(\n",
    "    'Среднее количество сообщений с учетом пола абонента, в месяц',\n",
    "    sms_count_pivot.groupby(calls_dur_pivot[['tariff', 'sex']].apply(tuple, axis=1))['sms_count_mean']\n",
    "    .mean()\n",
    ")\n",
    "\n",
    "display(\n",
    "    'Среднее потребление трафика с учетом пола абонента, в месяц',\n",
    "    gb_total_pivot.groupby(gb_total_pivot[['tariff', 'sex']].apply(tuple, axis=1))['gb_total_mean']\n",
    "    .mean()\n",
    ")\n",
    "\n",
    "display(\n",
    "    'Средняя выручка с учетом пола абонента, в месяц',\n",
    "    revenue_total.groupby(revenue_total[['tariff', 'sex']].apply(tuple, axis=1))['revenue_total_mean']\n",
    "    .mean()\n",
    ")"
   ]
  },
  {
   "cell_type": "markdown",
   "id": "6c5142a2-7260-45be-ba17-d4d7a22c4821",
   "metadata": {},
   "source": [
    "*Разбиваем стереорипы. ;-p*"
   ]
  },
  {
   "cell_type": "code",
   "execution_count": 74,
   "id": "b5cda51e-bb27-4a1b-aebb-fba6cc68af86",
   "metadata": {},
   "outputs": [
    {
     "data": {
      "text/plain": [
       "'Средняя продолжительность разговора с учетом возраста абонента, в месяц'"
      ]
     },
     "metadata": {},
     "output_type": "display_data"
    },
    {
     "data": {
      "text/plain": [
       "(smart, 18-35)    411.279341\n",
       "(smart, 36-55)    415.616751\n",
       "(smart, 56+)      431.329477\n",
       "(ultra, 18-35)    492.489086\n",
       "(ultra, 36-55)    538.799535\n",
       "(ultra, 56+)      547.133579\n",
       "Name: calls_dur_mean, dtype: float64"
      ]
     },
     "metadata": {},
     "output_type": "display_data"
    },
    {
     "data": {
      "text/plain": [
       "'Среднее количество сообщений с учетом возраста абонента, в месяц'"
      ]
     },
     "metadata": {},
     "output_type": "display_data"
    },
    {
     "data": {
      "text/plain": [
       "(smart, 18-35)    31.333738\n",
       "(smart, 36-55)    33.545807\n",
       "(smart, 56+)      32.144481\n",
       "(ultra, 18-35)    74.440310\n",
       "(ultra, 36-55)    39.819496\n",
       "(ultra, 56+)      52.033987\n",
       "Name: sms_count_mean, dtype: float64"
      ]
     },
     "metadata": {},
     "output_type": "display_data"
    },
    {
     "data": {
      "text/plain": [
       "'Среднее потребление трафика с учетом возраста абонента, в месяц'"
      ]
     },
     "metadata": {},
     "output_type": "display_data"
    },
    {
     "data": {
      "text/plain": [
       "(smart, 18-35)    16.458967\n",
       "(smart, 36-55)    16.292122\n",
       "(smart, 56+)      16.223934\n",
       "(ultra, 18-35)    19.832935\n",
       "(ultra, 36-55)    19.142446\n",
       "(ultra, 56+)      19.909663\n",
       "Name: gb_total_mean, dtype: float64"
      ]
     },
     "metadata": {},
     "output_type": "display_data"
    },
    {
     "data": {
      "text/plain": [
       "'Средняя выручка с учетом возраста абонента, в месяц'"
      ]
     },
     "metadata": {},
     "output_type": "display_data"
    },
    {
     "data": {
      "text/plain": [
       "(smart, 18-35)    1326.648288\n",
       "(smart, 36-55)    1333.608158\n",
       "(smart, 56+)      1312.373990\n",
       "(ultra, 18-35)    2091.144418\n",
       "(ultra, 36-55)    2087.020503\n",
       "(ultra, 56+)      2081.930439\n",
       "Name: revenue_total_mean, dtype: float64"
      ]
     },
     "metadata": {},
     "output_type": "display_data"
    }
   ],
   "source": [
    "display(\n",
    "    'Средняя продолжительность разговора с учетом возраста абонента, в месяц',\n",
    "    calls_dur_pivot.groupby(calls_dur_pivot[['tariff', 'age']].apply(tuple, axis=1))['calls_dur_mean']\n",
    "    .mean()\n",
    ")\n",
    "\n",
    "display(\n",
    "    'Среднее количество сообщений с учетом возраста абонента, в месяц',\n",
    "    sms_count_pivot.groupby(calls_dur_pivot[['tariff', 'age']].apply(tuple, axis=1))['sms_count_mean']\n",
    "    .mean()\n",
    ")\n",
    "\n",
    "display(\n",
    "    'Среднее потребление трафика с учетом возраста абонента, в месяц',\n",
    "    gb_total_pivot.groupby(gb_total_pivot[['tariff', 'age']].apply(tuple, axis=1))['gb_total_mean']\n",
    "    .mean()\n",
    ")\n",
    "\n",
    "display(\n",
    "    'Средняя выручка с учетом возраста абонента, в месяц',\n",
    "    revenue_total.groupby(revenue_total[['tariff', 'age']].apply(tuple, axis=1))['revenue_total_mean']\n",
    "    .mean()\n",
    ")"
   ]
  },
  {
   "cell_type": "markdown",
   "id": "d6c599f9-0b71-44d7-b58c-2313c7129730",
   "metadata": {},
   "source": [
    "## Шаг 4. Статистический анализ данных - проверка гипотез"
   ]
  },
  {
   "cell_type": "markdown",
   "id": "67fa6880-c99a-4078-a84f-846bdcd39d24",
   "metadata": {},
   "source": [
    "*Проверьте гипотезы:*  \n",
    "- *средняя выручка пользователей тарифов «Ультра» и «Смарт» различаются;*  \n",
    "- *средняя выручка пользователей из Москвы отличается от выручки пользователей из других регионов.*\n",
    "\n",
    "*Пороговое значение alpha задайте самостоятельно.* \n",
    "\n",
    "*Поясните:*  \n",
    "- *как вы формулировали нулевую и альтернативную гипотезы;*  \n",
    "- *какой критерий использовали для проверки гипотез и почему.*"
   ]
  },
  {
   "cell_type": "markdown",
   "id": "3a209dea-52fd-40db-b11f-5bab0b6d84f2",
   "metadata": {},
   "source": [
    "### 4.1 Проверка гипотезы - средняя выручка пользователей тарифов «Ультра» и «Смарт» различается:"
   ]
  },
  {
   "cell_type": "markdown",
   "id": "ca16f62e-73d9-4281-b636-4fe0ed28a511",
   "metadata": {},
   "source": [
    "Нулевая гиптотеза: средняя выручка пользователей тарифов «Ультра» и «Смарт» не различаются.  \n",
    "Альтернативная гипотеза: средняя выручка пользователей тарифов «Ультра» и «Смарт» различаются.  \n",
    "Критический уровень статистической значимости приму равным 5%."
   ]
  },
  {
   "cell_type": "markdown",
   "id": "f75ba981-59da-4ed7-80f4-f697992c5c1d",
   "metadata": {},
   "source": [
    "Сравнение средней выручки."
   ]
  },
  {
   "cell_type": "code",
   "execution_count": 75,
   "id": "ea43fa2c-b3f7-47cc-b159-a714bbe76c64",
   "metadata": {},
   "outputs": [
    {
     "name": "stdout",
     "output_type": "stream",
     "text": [
      "1\n",
      "1\n"
     ]
    }
   ],
   "source": [
    "# Подготовлю массивы\n",
    "smart_revenue = revenue_total.query('tariff == \"smart\"')['revenue_total_mean']\n",
    "\n",
    "print(smart_revenue.isna().sum())\n",
    "smart_revenue = smart_revenue.dropna()\n",
    "\n",
    "ultra_revenue = revenue_total.query('tariff == \"ultra\"')['revenue_total_mean']\n",
    "\n",
    "print(ultra_revenue.isna().sum())\n",
    "ultra_revenue = ultra_revenue.dropna()"
   ]
  },
  {
   "cell_type": "code",
   "execution_count": 76,
   "id": "6149fc40-e274-4c2e-ae24-477868fe8f42",
   "metadata": {},
   "outputs": [
    {
     "name": "stdout",
     "output_type": "stream",
     "text": [
      "p-значение: 2.084961899583595e-59\n",
      "Отвергаем нулевую гипотезу\n"
     ]
    }
   ],
   "source": [
    "# задам альфу равной 5%\n",
    "alpha = .05\n",
    "\n",
    "# из расчетов исследовательского анализа видно то дисперсия значительно отличается, к тому же выборки разного размера - equal_var=False\n",
    "results = st.ttest_ind(\n",
    "    smart_revenue,\n",
    "    ultra_revenue,\n",
    "    equal_var=False\n",
    ")\n",
    "\n",
    "print('p-значение:', results.pvalue)\n",
    "\n",
    "if results.pvalue < alpha:\n",
    "    print(\"Отвергаем нулевую гипотезу\")\n",
    "else:\n",
    "    print(\"Не получилось отвергнуть нулевую гипотезу\") "
   ]
  },
  {
   "cell_type": "markdown",
   "id": "9943eb6c-56b6-4a3e-a79d-beb715656fdc",
   "metadata": {},
   "source": [
    "Сравнение выручки."
   ]
  },
  {
   "cell_type": "code",
   "execution_count": 77,
   "id": "c24e9d58-7228-49dc-807d-c82c32f10250",
   "metadata": {},
   "outputs": [
    {
     "data": {
      "text/html": [
       "<div>\n",
       "<style scoped>\n",
       "    .dataframe tbody tr th:only-of-type {\n",
       "        vertical-align: middle;\n",
       "    }\n",
       "\n",
       "    .dataframe tbody tr th {\n",
       "        vertical-align: top;\n",
       "    }\n",
       "\n",
       "    .dataframe thead th {\n",
       "        text-align: right;\n",
       "    }\n",
       "</style>\n",
       "<table border=\"1\" class=\"dataframe\">\n",
       "  <thead>\n",
       "    <tr style=\"text-align: right;\">\n",
       "      <th></th>\n",
       "      <th>user_id</th>\n",
       "      <th>tariff</th>\n",
       "      <th>city</th>\n",
       "      <th>variable</th>\n",
       "      <th>value</th>\n",
       "    </tr>\n",
       "  </thead>\n",
       "  <tbody>\n",
       "    <tr>\n",
       "      <th>0</th>\n",
       "      <td>1000</td>\n",
       "      <td>ultra</td>\n",
       "      <td>Краснодар</td>\n",
       "      <td>revenue_01</td>\n",
       "      <td>NaN</td>\n",
       "    </tr>\n",
       "    <tr>\n",
       "      <th>1</th>\n",
       "      <td>1001</td>\n",
       "      <td>smart</td>\n",
       "      <td>Москва</td>\n",
       "      <td>revenue_01</td>\n",
       "      <td>NaN</td>\n",
       "    </tr>\n",
       "    <tr>\n",
       "      <th>2</th>\n",
       "      <td>1002</td>\n",
       "      <td>smart</td>\n",
       "      <td>Стерлитамак</td>\n",
       "      <td>revenue_01</td>\n",
       "      <td>NaN</td>\n",
       "    </tr>\n",
       "    <tr>\n",
       "      <th>3</th>\n",
       "      <td>1003</td>\n",
       "      <td>ultra</td>\n",
       "      <td>Москва</td>\n",
       "      <td>revenue_01</td>\n",
       "      <td>NaN</td>\n",
       "    </tr>\n",
       "    <tr>\n",
       "      <th>4</th>\n",
       "      <td>1004</td>\n",
       "      <td>ultra</td>\n",
       "      <td>Новокузнецк</td>\n",
       "      <td>revenue_01</td>\n",
       "      <td>NaN</td>\n",
       "    </tr>\n",
       "    <tr>\n",
       "      <th>...</th>\n",
       "      <td>...</td>\n",
       "      <td>...</td>\n",
       "      <td>...</td>\n",
       "      <td>...</td>\n",
       "      <td>...</td>\n",
       "    </tr>\n",
       "    <tr>\n",
       "      <th>5995</th>\n",
       "      <td>1495</td>\n",
       "      <td>ultra</td>\n",
       "      <td>Иркутск</td>\n",
       "      <td>revenue_12</td>\n",
       "      <td>1950.0</td>\n",
       "    </tr>\n",
       "    <tr>\n",
       "      <th>5996</th>\n",
       "      <td>1496</td>\n",
       "      <td>smart</td>\n",
       "      <td>Вологда</td>\n",
       "      <td>revenue_12</td>\n",
       "      <td>1807.0</td>\n",
       "    </tr>\n",
       "    <tr>\n",
       "      <th>5997</th>\n",
       "      <td>1497</td>\n",
       "      <td>smart</td>\n",
       "      <td>Челябинск</td>\n",
       "      <td>revenue_12</td>\n",
       "      <td>1685.0</td>\n",
       "    </tr>\n",
       "    <tr>\n",
       "      <th>5998</th>\n",
       "      <td>1498</td>\n",
       "      <td>smart</td>\n",
       "      <td>Владикавказ</td>\n",
       "      <td>revenue_12</td>\n",
       "      <td>NaN</td>\n",
       "    </tr>\n",
       "    <tr>\n",
       "      <th>5999</th>\n",
       "      <td>1499</td>\n",
       "      <td>smart</td>\n",
       "      <td>Пермь</td>\n",
       "      <td>revenue_12</td>\n",
       "      <td>598.0</td>\n",
       "    </tr>\n",
       "  </tbody>\n",
       "</table>\n",
       "<p>6000 rows × 5 columns</p>\n",
       "</div>"
      ],
      "text/plain": [
       "      user_id tariff         city    variable   value\n",
       "0        1000  ultra    Краснодар  revenue_01     NaN\n",
       "1        1001  smart       Москва  revenue_01     NaN\n",
       "2        1002  smart  Стерлитамак  revenue_01     NaN\n",
       "3        1003  ultra       Москва  revenue_01     NaN\n",
       "4        1004  ultra  Новокузнецк  revenue_01     NaN\n",
       "...       ...    ...          ...         ...     ...\n",
       "5995     1495  ultra      Иркутск  revenue_12  1950.0\n",
       "5996     1496  smart      Вологда  revenue_12  1807.0\n",
       "5997     1497  smart    Челябинск  revenue_12  1685.0\n",
       "5998     1498  smart  Владикавказ  revenue_12     NaN\n",
       "5999     1499  smart        Пермь  revenue_12   598.0\n",
       "\n",
       "[6000 rows x 5 columns]"
      ]
     },
     "execution_count": 77,
     "metadata": {},
     "output_type": "execute_result"
    }
   ],
   "source": [
    "revenue_grouped = revenue_total.melt(id_vars=['user_id', 'tariff', 'city'], value_vars=revenue_total.iloc[:, 5:17])\n",
    "revenue_grouped"
   ]
  },
  {
   "cell_type": "code",
   "execution_count": 78,
   "id": "c334f39c-5bf0-4d65-9349-b35858921dc0",
   "metadata": {},
   "outputs": [
    {
     "name": "stdout",
     "output_type": "stream",
     "text": [
      "1983\n",
      "803\n"
     ]
    }
   ],
   "source": [
    "# Подготовлю массивы\n",
    "smart_revenue = revenue_grouped.query('tariff == \"smart\"')['value']\n",
    "\n",
    "print(smart_revenue.isna().sum())\n",
    "smart_revenue = smart_revenue.dropna()\n",
    "\n",
    "ultra_revenue = revenue_grouped.query('tariff == \"ultra\"')['value']\n",
    "\n",
    "print(ultra_revenue.isna().sum())\n",
    "ultra_revenue = ultra_revenue.dropna()"
   ]
  },
  {
   "cell_type": "code",
   "execution_count": 79,
   "id": "95997bce-3b50-4681-8932-3524fc47a36a",
   "metadata": {},
   "outputs": [
    {
     "name": "stdout",
     "output_type": "stream",
     "text": [
      "p-значение: 4.2606313931076085e-250\n",
      "Отвергаем нулевую гипотезу\n"
     ]
    }
   ],
   "source": [
    "# задам альфу равной 5%\n",
    "alpha = .05\n",
    "\n",
    "# из расчетов исследовательского анализа видно то дисперсия значительно отличается, к тому же выборки разного размера - equal_var=False\n",
    "results = st.ttest_ind(\n",
    "    smart_revenue,\n",
    "    ultra_revenue,\n",
    "    equal_var=False\n",
    ")\n",
    "\n",
    "print('p-значение:', results.pvalue)\n",
    "\n",
    "if results.pvalue < alpha:\n",
    "    print(\"Отвергаем нулевую гипотезу\")\n",
    "else:\n",
    "    print(\"Не получилось отвергнуть нулевую гипотезу\") "
   ]
  },
  {
   "cell_type": "markdown",
   "id": "f162ab51-6abe-4426-a2b6-488c90a53099",
   "metadata": {},
   "source": [
    "### 4.1 Вывод:"
   ]
  },
  {
   "cell_type": "markdown",
   "id": "ea8f2efc-acc9-4a9b-96cc-6e876a0044ec",
   "metadata": {},
   "source": [
    "На имеющихся данных, на уровне значимости 5%, есть основания отвергнуть нулевую гипотезу в пользу альтернативы. Средняя выручка пользователей тарифов «Ультра» и «Смарт» различаются."
   ]
  },
  {
   "cell_type": "markdown",
   "id": "32d49694-6091-40da-aaa6-14b980e106c5",
   "metadata": {},
   "source": [
    "### 4.2 Проверка гипотезы - средняя выручка пользователей из Москвы отличается от выручки пользователей из других регионов:"
   ]
  },
  {
   "cell_type": "markdown",
   "id": "a811eb42-518d-41d2-8c22-59b2d835a4e1",
   "metadata": {},
   "source": [
    "Нулевая гиптотеза: средняя выручка пользователей из Москвы не отличается от выручки пользователей из других регионов.  \n",
    "Альтернативная гипотеза: средняя выручка пользователей из Москвы отличается от выручки пользователей из других регионов.  \n",
    "Критический уровень статистической значимости приму равным 5%."
   ]
  },
  {
   "cell_type": "markdown",
   "id": "51b83052-51ba-4ce2-a48f-6153ac2a9d87",
   "metadata": {},
   "source": [
    "Сравнение средней выручки."
   ]
  },
  {
   "cell_type": "code",
   "execution_count": 80,
   "id": "7fbc9ce8-7bd6-4df2-bf60-5369909fac5c",
   "metadata": {},
   "outputs": [
    {
     "name": "stdout",
     "output_type": "stream",
     "text": [
      "0\n",
      "2\n"
     ]
    }
   ],
   "source": [
    "# Подготовлю массивы\n",
    "moscow_revenue = revenue_total.query('city == \"Москва\"')['revenue_total_mean']\n",
    "\n",
    "print(moscow_revenue.isna().sum())\n",
    "moscow_revenue = moscow_revenue.dropna()\n",
    "\n",
    "cities_revenue = revenue_total.query('city != \"Москва\"')['revenue_total_mean']\n",
    "\n",
    "print(cities_revenue.isna().sum())\n",
    "cities_revenue = cities_revenue.dropna()"
   ]
  },
  {
   "cell_type": "code",
   "execution_count": 81,
   "id": "51178ceb-f0f9-40fe-b520-06d80ec86d17",
   "metadata": {},
   "outputs": [
    {
     "name": "stdout",
     "output_type": "stream",
     "text": [
      "p-значение: 0.3443090581027025\n",
      "Не получилось отвергнуть нулевую гипотезу\n"
     ]
    }
   ],
   "source": [
    "# задам альфу равной 5%\n",
    "alpha = .05\n",
    "\n",
    "# выборки разного размера, так как только около одной пятой абонентов из Моксвы - equal_var=False\n",
    "results = st.ttest_ind(\n",
    "    moscow_revenue,\n",
    "    cities_revenue,\n",
    "    equal_var=False\n",
    ")\n",
    "\n",
    "print('p-значение:', results.pvalue)\n",
    "\n",
    "if results.pvalue < alpha:\n",
    "    print(\"Отвергаем нулевую гипотезу\")\n",
    "else:\n",
    "    print(\"Не получилось отвергнуть нулевую гипотезу\") "
   ]
  },
  {
   "cell_type": "markdown",
   "id": "85fa6b9c-f573-4f21-9930-e374db409e43",
   "metadata": {},
   "source": [
    "Сравнение выручки."
   ]
  },
  {
   "cell_type": "code",
   "execution_count": 82,
   "id": "09407776-d69f-4346-9e5b-fe9da1df4070",
   "metadata": {},
   "outputs": [
    {
     "name": "stdout",
     "output_type": "stream",
     "text": [
      "577\n",
      "2209\n"
     ]
    }
   ],
   "source": [
    "# Подготовлю массивы\n",
    "moscow_revenue = revenue_grouped.query('city == \"Москва\"')['value']\n",
    "\n",
    "print(moscow_revenue.isna().sum())\n",
    "moscow_revenue = moscow_revenue.dropna()\n",
    "\n",
    "cities_revenue = revenue_grouped.query('city != \"Москва\"')['value']\n",
    "\n",
    "print(cities_revenue.isna().sum())\n",
    "cities_revenue = cities_revenue.dropna()"
   ]
  },
  {
   "cell_type": "code",
   "execution_count": 83,
   "id": "4633868a-65c6-4fe5-90ab-45dc095b13eb",
   "metadata": {},
   "outputs": [
    {
     "name": "stdout",
     "output_type": "stream",
     "text": [
      "p-значение: 0.5257376663729298\n",
      "Не получилось отвергнуть нулевую гипотезу\n"
     ]
    }
   ],
   "source": [
    "# задам альфу равной 5%\n",
    "alpha = .05\n",
    "\n",
    "# выборки разного размера, так как только около одной пятой абонентов из Моксвы - equal_var=False\n",
    "results = st.ttest_ind(\n",
    "    moscow_revenue,\n",
    "    cities_revenue,\n",
    "    equal_var=False\n",
    ")\n",
    "\n",
    "print('p-значение:', results.pvalue)\n",
    "\n",
    "if results.pvalue < alpha:\n",
    "    print(\"Отвергаем нулевую гипотезу\")\n",
    "else:\n",
    "    print(\"Не получилось отвергнуть нулевую гипотезу\") "
   ]
  },
  {
   "cell_type": "markdown",
   "id": "3576215d-eb5e-4eee-badc-437dd18ec880",
   "metadata": {},
   "source": [
    "### 4.2 Вывод:"
   ]
  },
  {
   "cell_type": "markdown",
   "id": "a943cfdd-a321-4105-9ab4-1281cc5fd23a",
   "metadata": {},
   "source": [
    "На имеющихся данных, на уровне значимости 5%, нет оснований отвергнуть нулевую гипотезу в пользу альтернативы. Средняя выручка пользователей из Москвы не отличается от выручки пользователей из других регионов"
   ]
  },
  {
   "cell_type": "markdown",
   "id": "1a72ff6f-6970-4a84-a58b-faf72296c9e9",
   "metadata": {},
   "source": [
    "## Шаг 5. Общий вывод"
   ]
  },
  {
   "cell_type": "markdown",
   "id": "14671331-f043-4b89-ae51-78c5a3051563",
   "metadata": {},
   "source": [
    "По итогам исследования следует обратить внимание на следующие выявленные особенности:\n",
    "В выборку из 500 пользователей попал 351 пользователь тарифа \"Смарт\" и 149 пользователей тарифа \"Ультра\" - вероятно тариф \"Смарт\" более популярен, пользователей привлекает низкая абонентская плата.  \n",
    "При этом пользователи тарифа \"Смарт\", при абонентской плате 550 рублей, в среднем платят 774 рубля в месяц за превышение предоплаченного лимита услуг. В основном это интернет трафик.\n",
    "\n",
    "Пользователи тарифа \"Ультра\" не выходят за предоплаченные лимиты потребления минут и сообщений, но редко выходят за лимиты потребления интернет трафика.  \n",
    "При абонентской плате в 1950 рублей средняя переплата составляет всего 136 рублей.\n",
    "\n",
    "В отношении проверенных гипотез следует считать что:  \n",
    "Средняя выручка пользователей тарифов \"Смарт\" и \"Ультра\" различается.  \n",
    "Средняя выручка абонентов из Москвы и других городов не различается.\n",
    "\n",
    "Для детальнной информации рекомендую обратиться к промежуточным выводам. Так как потребление услуг пользователями тарифа \"Ультра\" распределено равномерно, в то время как пользователи тарифа \"Смарт\" стремятся ограничить потребление услуг после достижения предоплаченного лимита, для понимания поведения абонентов рекомендую ознакомитьтя с гистограммами. Каждая гистограмма выделена в отдельный подраздел соответствующей темы для удобного доступа.\n",
    "\n",
    "Итог: Считаю тариф \"Ультра\" наиболее выгодным и перспективным. Каждый пользователь тарифа Ультра приносит больше выручки не граничивая себя в потреблении, даже с учетом потребления поьзователями тарифа \"Смарт\" дополнительного объема услуг. В то время как пользователи тарифа \"Смарт\" могут потреблять больше услуг, в особенности интернет трафика - многим из них больше подходит тариф \"Ультра\"."
   ]
  }
 ],
 "metadata": {
  "ExecuteTimeLog": [
   {
    "duration": 223,
    "start_time": "2022-04-18T17:48:33.666Z"
   },
   {
    "duration": 248,
    "start_time": "2022-04-18T17:56:01.144Z"
   },
   {
    "duration": 197,
    "start_time": "2022-04-18T17:56:18.452Z"
   },
   {
    "duration": 426,
    "start_time": "2022-04-18T17:56:25.017Z"
   },
   {
    "duration": 64,
    "start_time": "2022-04-18T17:56:34.058Z"
   },
   {
    "duration": 5,
    "start_time": "2022-04-18T17:56:37.966Z"
   },
   {
    "duration": 6,
    "start_time": "2022-04-18T18:04:44.935Z"
   },
   {
    "duration": 737,
    "start_time": "2022-04-18T18:04:47.795Z"
   },
   {
    "duration": 184,
    "start_time": "2022-04-18T18:04:48.534Z"
   },
   {
    "duration": 0,
    "start_time": "2022-04-18T18:04:48.721Z"
   },
   {
    "duration": 0,
    "start_time": "2022-04-18T18:04:48.722Z"
   },
   {
    "duration": 0,
    "start_time": "2022-04-18T18:04:48.723Z"
   },
   {
    "duration": 0,
    "start_time": "2022-04-18T18:04:48.724Z"
   },
   {
    "duration": 0,
    "start_time": "2022-04-18T18:04:48.725Z"
   },
   {
    "duration": 0,
    "start_time": "2022-04-18T18:04:48.726Z"
   },
   {
    "duration": 0,
    "start_time": "2022-04-18T18:04:48.727Z"
   },
   {
    "duration": 0,
    "start_time": "2022-04-18T18:04:48.728Z"
   },
   {
    "duration": 0,
    "start_time": "2022-04-18T18:04:48.729Z"
   },
   {
    "duration": 0,
    "start_time": "2022-04-18T18:04:48.731Z"
   },
   {
    "duration": 0,
    "start_time": "2022-04-18T18:04:48.731Z"
   },
   {
    "duration": 0,
    "start_time": "2022-04-18T18:04:48.732Z"
   },
   {
    "duration": 0,
    "start_time": "2022-04-18T18:04:48.733Z"
   },
   {
    "duration": 0,
    "start_time": "2022-04-18T18:04:48.734Z"
   },
   {
    "duration": 0,
    "start_time": "2022-04-18T18:04:48.735Z"
   },
   {
    "duration": 0,
    "start_time": "2022-04-18T18:04:48.737Z"
   },
   {
    "duration": 0,
    "start_time": "2022-04-18T18:04:48.738Z"
   },
   {
    "duration": 0,
    "start_time": "2022-04-18T18:04:48.739Z"
   },
   {
    "duration": 0,
    "start_time": "2022-04-18T18:04:48.740Z"
   },
   {
    "duration": 0,
    "start_time": "2022-04-18T18:04:48.740Z"
   },
   {
    "duration": 0,
    "start_time": "2022-04-18T18:04:48.741Z"
   },
   {
    "duration": 0,
    "start_time": "2022-04-18T18:04:48.742Z"
   },
   {
    "duration": 0,
    "start_time": "2022-04-18T18:04:48.744Z"
   },
   {
    "duration": 0,
    "start_time": "2022-04-18T18:04:48.745Z"
   },
   {
    "duration": 0,
    "start_time": "2022-04-18T18:04:48.746Z"
   },
   {
    "duration": 0,
    "start_time": "2022-04-18T18:04:48.747Z"
   },
   {
    "duration": 0,
    "start_time": "2022-04-18T18:04:48.748Z"
   },
   {
    "duration": 0,
    "start_time": "2022-04-18T18:04:48.749Z"
   },
   {
    "duration": 0,
    "start_time": "2022-04-18T18:04:48.750Z"
   },
   {
    "duration": 0,
    "start_time": "2022-04-18T18:04:48.751Z"
   },
   {
    "duration": 0,
    "start_time": "2022-04-18T18:04:48.752Z"
   },
   {
    "duration": 0,
    "start_time": "2022-04-18T18:04:48.753Z"
   },
   {
    "duration": 0,
    "start_time": "2022-04-18T18:04:48.754Z"
   },
   {
    "duration": 0,
    "start_time": "2022-04-18T18:04:48.754Z"
   },
   {
    "duration": 0,
    "start_time": "2022-04-18T18:04:48.755Z"
   },
   {
    "duration": 0,
    "start_time": "2022-04-18T18:04:48.756Z"
   },
   {
    "duration": 0,
    "start_time": "2022-04-18T18:04:48.757Z"
   },
   {
    "duration": 0,
    "start_time": "2022-04-18T18:04:48.758Z"
   },
   {
    "duration": 0,
    "start_time": "2022-04-18T18:04:48.759Z"
   },
   {
    "duration": 0,
    "start_time": "2022-04-18T18:04:48.760Z"
   },
   {
    "duration": 0,
    "start_time": "2022-04-18T18:04:48.822Z"
   },
   {
    "duration": 0,
    "start_time": "2022-04-18T18:04:48.823Z"
   },
   {
    "duration": 0,
    "start_time": "2022-04-18T18:04:48.824Z"
   },
   {
    "duration": 0,
    "start_time": "2022-04-18T18:04:48.825Z"
   },
   {
    "duration": 0,
    "start_time": "2022-04-18T18:04:48.827Z"
   },
   {
    "duration": 0,
    "start_time": "2022-04-18T18:04:48.828Z"
   },
   {
    "duration": 0,
    "start_time": "2022-04-18T18:04:48.829Z"
   },
   {
    "duration": 0,
    "start_time": "2022-04-18T18:04:48.831Z"
   },
   {
    "duration": 0,
    "start_time": "2022-04-18T18:04:48.832Z"
   },
   {
    "duration": 0,
    "start_time": "2022-04-18T18:04:48.833Z"
   },
   {
    "duration": 0,
    "start_time": "2022-04-18T18:04:48.834Z"
   },
   {
    "duration": 0,
    "start_time": "2022-04-18T18:04:48.835Z"
   },
   {
    "duration": 0,
    "start_time": "2022-04-18T18:04:48.836Z"
   },
   {
    "duration": 0,
    "start_time": "2022-04-18T18:04:48.838Z"
   },
   {
    "duration": 0,
    "start_time": "2022-04-18T18:04:48.839Z"
   },
   {
    "duration": 1,
    "start_time": "2022-04-18T18:04:48.840Z"
   },
   {
    "duration": 0,
    "start_time": "2022-04-18T18:04:48.842Z"
   },
   {
    "duration": 0,
    "start_time": "2022-04-18T18:04:48.843Z"
   },
   {
    "duration": 1,
    "start_time": "2022-04-18T18:04:48.844Z"
   },
   {
    "duration": 1,
    "start_time": "2022-04-18T18:04:48.845Z"
   },
   {
    "duration": 3,
    "start_time": "2022-04-18T18:06:37.307Z"
   },
   {
    "duration": 489,
    "start_time": "2022-04-18T18:06:37.314Z"
   },
   {
    "duration": 36,
    "start_time": "2022-04-18T18:06:37.805Z"
   },
   {
    "duration": 52,
    "start_time": "2022-04-18T18:06:37.843Z"
   },
   {
    "duration": 63,
    "start_time": "2022-04-18T18:06:37.896Z"
   },
   {
    "duration": 31,
    "start_time": "2022-04-18T18:06:37.961Z"
   },
   {
    "duration": 42,
    "start_time": "2022-04-18T18:06:37.994Z"
   },
   {
    "duration": 2,
    "start_time": "2022-04-18T18:06:38.038Z"
   },
   {
    "duration": 3,
    "start_time": "2022-04-18T18:06:38.042Z"
   },
   {
    "duration": 150,
    "start_time": "2022-04-18T18:06:38.047Z"
   },
   {
    "duration": 0,
    "start_time": "2022-04-18T18:06:38.199Z"
   },
   {
    "duration": 0,
    "start_time": "2022-04-18T18:06:38.200Z"
   },
   {
    "duration": 0,
    "start_time": "2022-04-18T18:06:38.202Z"
   },
   {
    "duration": 0,
    "start_time": "2022-04-18T18:06:38.203Z"
   },
   {
    "duration": 0,
    "start_time": "2022-04-18T18:06:38.204Z"
   },
   {
    "duration": 1,
    "start_time": "2022-04-18T18:06:38.205Z"
   },
   {
    "duration": 0,
    "start_time": "2022-04-18T18:06:38.206Z"
   },
   {
    "duration": 0,
    "start_time": "2022-04-18T18:06:38.223Z"
   },
   {
    "duration": 0,
    "start_time": "2022-04-18T18:06:38.224Z"
   },
   {
    "duration": 0,
    "start_time": "2022-04-18T18:06:38.225Z"
   },
   {
    "duration": 0,
    "start_time": "2022-04-18T18:06:38.226Z"
   },
   {
    "duration": 0,
    "start_time": "2022-04-18T18:06:38.227Z"
   },
   {
    "duration": 0,
    "start_time": "2022-04-18T18:06:38.228Z"
   },
   {
    "duration": 0,
    "start_time": "2022-04-18T18:06:38.229Z"
   },
   {
    "duration": 0,
    "start_time": "2022-04-18T18:06:38.230Z"
   },
   {
    "duration": 0,
    "start_time": "2022-04-18T18:06:38.231Z"
   },
   {
    "duration": 0,
    "start_time": "2022-04-18T18:06:38.232Z"
   },
   {
    "duration": 0,
    "start_time": "2022-04-18T18:06:38.234Z"
   },
   {
    "duration": 0,
    "start_time": "2022-04-18T18:06:38.234Z"
   },
   {
    "duration": 0,
    "start_time": "2022-04-18T18:06:38.235Z"
   },
   {
    "duration": 0,
    "start_time": "2022-04-18T18:06:38.237Z"
   },
   {
    "duration": 0,
    "start_time": "2022-04-18T18:06:38.238Z"
   },
   {
    "duration": 0,
    "start_time": "2022-04-18T18:06:38.238Z"
   },
   {
    "duration": 0,
    "start_time": "2022-04-18T18:06:38.239Z"
   },
   {
    "duration": 0,
    "start_time": "2022-04-18T18:06:38.240Z"
   },
   {
    "duration": 0,
    "start_time": "2022-04-18T18:06:38.241Z"
   },
   {
    "duration": 0,
    "start_time": "2022-04-18T18:06:38.242Z"
   },
   {
    "duration": 0,
    "start_time": "2022-04-18T18:06:38.243Z"
   },
   {
    "duration": 0,
    "start_time": "2022-04-18T18:06:38.244Z"
   },
   {
    "duration": 0,
    "start_time": "2022-04-18T18:06:38.245Z"
   },
   {
    "duration": 0,
    "start_time": "2022-04-18T18:06:38.246Z"
   },
   {
    "duration": 0,
    "start_time": "2022-04-18T18:06:38.247Z"
   },
   {
    "duration": 0,
    "start_time": "2022-04-18T18:06:38.248Z"
   },
   {
    "duration": 0,
    "start_time": "2022-04-18T18:06:38.249Z"
   },
   {
    "duration": 0,
    "start_time": "2022-04-18T18:06:38.250Z"
   },
   {
    "duration": 0,
    "start_time": "2022-04-18T18:06:38.251Z"
   },
   {
    "duration": 0,
    "start_time": "2022-04-18T18:06:38.252Z"
   },
   {
    "duration": 0,
    "start_time": "2022-04-18T18:06:38.253Z"
   },
   {
    "duration": 0,
    "start_time": "2022-04-18T18:06:38.254Z"
   },
   {
    "duration": 0,
    "start_time": "2022-04-18T18:06:38.255Z"
   },
   {
    "duration": 0,
    "start_time": "2022-04-18T18:06:38.255Z"
   },
   {
    "duration": 1,
    "start_time": "2022-04-18T18:06:38.256Z"
   },
   {
    "duration": 0,
    "start_time": "2022-04-18T18:06:38.258Z"
   },
   {
    "duration": 0,
    "start_time": "2022-04-18T18:06:38.258Z"
   },
   {
    "duration": 0,
    "start_time": "2022-04-18T18:06:38.323Z"
   },
   {
    "duration": 0,
    "start_time": "2022-04-18T18:06:38.324Z"
   },
   {
    "duration": 0,
    "start_time": "2022-04-18T18:06:38.324Z"
   },
   {
    "duration": 0,
    "start_time": "2022-04-18T18:06:38.325Z"
   },
   {
    "duration": 0,
    "start_time": "2022-04-18T18:06:38.326Z"
   },
   {
    "duration": 0,
    "start_time": "2022-04-18T18:06:38.327Z"
   },
   {
    "duration": 0,
    "start_time": "2022-04-18T18:06:38.328Z"
   },
   {
    "duration": 0,
    "start_time": "2022-04-18T18:06:38.329Z"
   },
   {
    "duration": 10,
    "start_time": "2022-04-18T18:07:48.310Z"
   },
   {
    "duration": 201,
    "start_time": "2022-04-18T18:07:48.322Z"
   },
   {
    "duration": 7,
    "start_time": "2022-04-18T18:07:48.525Z"
   },
   {
    "duration": 24,
    "start_time": "2022-04-18T18:07:48.534Z"
   },
   {
    "duration": 25,
    "start_time": "2022-04-18T18:07:48.559Z"
   },
   {
    "duration": 14,
    "start_time": "2022-04-18T18:07:48.586Z"
   },
   {
    "duration": 29,
    "start_time": "2022-04-18T18:07:48.601Z"
   },
   {
    "duration": 17,
    "start_time": "2022-04-18T18:07:48.632Z"
   },
   {
    "duration": 12,
    "start_time": "2022-04-18T18:07:48.651Z"
   },
   {
    "duration": 15,
    "start_time": "2022-04-18T18:07:48.665Z"
   },
   {
    "duration": 12,
    "start_time": "2022-04-18T18:07:48.682Z"
   },
   {
    "duration": 60,
    "start_time": "2022-04-18T18:07:48.695Z"
   },
   {
    "duration": 37,
    "start_time": "2022-04-18T18:07:48.756Z"
   },
   {
    "duration": 33,
    "start_time": "2022-04-18T18:07:48.795Z"
   },
   {
    "duration": 0,
    "start_time": "2022-04-18T18:07:48.831Z"
   },
   {
    "duration": 0,
    "start_time": "2022-04-18T18:07:48.832Z"
   },
   {
    "duration": 0,
    "start_time": "2022-04-18T18:07:48.834Z"
   },
   {
    "duration": 1,
    "start_time": "2022-04-18T18:07:48.834Z"
   },
   {
    "duration": 0,
    "start_time": "2022-04-18T18:07:48.836Z"
   },
   {
    "duration": 0,
    "start_time": "2022-04-18T18:07:48.837Z"
   },
   {
    "duration": 0,
    "start_time": "2022-04-18T18:07:48.838Z"
   },
   {
    "duration": 0,
    "start_time": "2022-04-18T18:07:48.839Z"
   },
   {
    "duration": 0,
    "start_time": "2022-04-18T18:07:48.840Z"
   },
   {
    "duration": 0,
    "start_time": "2022-04-18T18:07:48.841Z"
   },
   {
    "duration": 0,
    "start_time": "2022-04-18T18:07:48.842Z"
   },
   {
    "duration": 0,
    "start_time": "2022-04-18T18:07:48.843Z"
   },
   {
    "duration": 0,
    "start_time": "2022-04-18T18:07:48.844Z"
   },
   {
    "duration": 0,
    "start_time": "2022-04-18T18:07:48.845Z"
   },
   {
    "duration": 0,
    "start_time": "2022-04-18T18:07:48.846Z"
   },
   {
    "duration": 0,
    "start_time": "2022-04-18T18:07:48.847Z"
   },
   {
    "duration": 0,
    "start_time": "2022-04-18T18:07:48.848Z"
   },
   {
    "duration": 0,
    "start_time": "2022-04-18T18:07:48.848Z"
   },
   {
    "duration": 0,
    "start_time": "2022-04-18T18:07:48.849Z"
   },
   {
    "duration": 0,
    "start_time": "2022-04-18T18:07:48.850Z"
   },
   {
    "duration": 0,
    "start_time": "2022-04-18T18:07:48.851Z"
   },
   {
    "duration": 0,
    "start_time": "2022-04-18T18:07:48.852Z"
   },
   {
    "duration": 0,
    "start_time": "2022-04-18T18:07:48.853Z"
   },
   {
    "duration": 0,
    "start_time": "2022-04-18T18:07:48.854Z"
   },
   {
    "duration": 0,
    "start_time": "2022-04-18T18:07:48.855Z"
   },
   {
    "duration": 0,
    "start_time": "2022-04-18T18:07:48.856Z"
   },
   {
    "duration": 0,
    "start_time": "2022-04-18T18:07:48.857Z"
   },
   {
    "duration": 0,
    "start_time": "2022-04-18T18:07:48.858Z"
   },
   {
    "duration": 0,
    "start_time": "2022-04-18T18:07:48.859Z"
   },
   {
    "duration": 0,
    "start_time": "2022-04-18T18:07:48.860Z"
   },
   {
    "duration": 0,
    "start_time": "2022-04-18T18:07:48.861Z"
   },
   {
    "duration": 0,
    "start_time": "2022-04-18T18:07:48.862Z"
   },
   {
    "duration": 0,
    "start_time": "2022-04-18T18:07:48.863Z"
   },
   {
    "duration": 0,
    "start_time": "2022-04-18T18:07:48.864Z"
   },
   {
    "duration": 0,
    "start_time": "2022-04-18T18:07:48.865Z"
   },
   {
    "duration": 0,
    "start_time": "2022-04-18T18:07:48.923Z"
   },
   {
    "duration": 0,
    "start_time": "2022-04-18T18:07:48.924Z"
   },
   {
    "duration": 0,
    "start_time": "2022-04-18T18:07:48.925Z"
   },
   {
    "duration": 7170,
    "start_time": "2022-04-18T18:08:32.256Z"
   },
   {
    "duration": 4,
    "start_time": "2022-04-18T18:08:57.236Z"
   },
   {
    "duration": 1294,
    "start_time": "2022-04-18T18:08:57.242Z"
   },
   {
    "duration": 478,
    "start_time": "2022-04-18T18:08:58.538Z"
   },
   {
    "duration": 30,
    "start_time": "2022-04-18T18:08:59.017Z"
   },
   {
    "duration": 88,
    "start_time": "2022-04-18T18:08:59.049Z"
   },
   {
    "duration": 63,
    "start_time": "2022-04-18T18:08:59.138Z"
   },
   {
    "duration": 62,
    "start_time": "2022-04-18T18:08:59.202Z"
   },
   {
    "duration": 13,
    "start_time": "2022-04-18T18:08:59.265Z"
   },
   {
    "duration": 6,
    "start_time": "2022-04-18T18:08:59.279Z"
   },
   {
    "duration": 3,
    "start_time": "2022-04-18T18:08:59.287Z"
   },
   {
    "duration": 125,
    "start_time": "2022-04-18T18:08:59.292Z"
   },
   {
    "duration": 9,
    "start_time": "2022-04-18T18:08:59.422Z"
   },
   {
    "duration": 133,
    "start_time": "2022-04-18T18:08:59.432Z"
   },
   {
    "duration": 7,
    "start_time": "2022-04-18T18:08:59.568Z"
   },
   {
    "duration": 12,
    "start_time": "2022-04-18T18:08:59.576Z"
   },
   {
    "duration": 42,
    "start_time": "2022-04-18T18:08:59.590Z"
   },
   {
    "duration": 11,
    "start_time": "2022-04-18T18:08:59.634Z"
   },
   {
    "duration": 9,
    "start_time": "2022-04-18T18:08:59.648Z"
   },
   {
    "duration": 10,
    "start_time": "2022-04-18T18:08:59.659Z"
   },
   {
    "duration": 8,
    "start_time": "2022-04-18T18:08:59.670Z"
   },
   {
    "duration": 45,
    "start_time": "2022-04-18T18:08:59.679Z"
   },
   {
    "duration": 3,
    "start_time": "2022-04-18T18:08:59.726Z"
   },
   {
    "duration": 39,
    "start_time": "2022-04-18T18:08:59.730Z"
   },
   {
    "duration": 63,
    "start_time": "2022-04-18T18:08:59.771Z"
   },
   {
    "duration": 29,
    "start_time": "2022-04-18T18:08:59.836Z"
   },
   {
    "duration": 32,
    "start_time": "2022-04-18T18:08:59.867Z"
   },
   {
    "duration": 45,
    "start_time": "2022-04-18T18:08:59.900Z"
   },
   {
    "duration": 21,
    "start_time": "2022-04-18T18:08:59.947Z"
   },
   {
    "duration": 21,
    "start_time": "2022-04-18T18:08:59.970Z"
   },
   {
    "duration": 35,
    "start_time": "2022-04-18T18:09:00.023Z"
   },
   {
    "duration": 21,
    "start_time": "2022-04-18T18:09:00.059Z"
   },
   {
    "duration": 45,
    "start_time": "2022-04-18T18:09:00.081Z"
   },
   {
    "duration": 22,
    "start_time": "2022-04-18T18:09:00.128Z"
   },
   {
    "duration": 16,
    "start_time": "2022-04-18T18:09:00.151Z"
   },
   {
    "duration": 22,
    "start_time": "2022-04-18T18:09:00.169Z"
   },
   {
    "duration": 12,
    "start_time": "2022-04-18T18:09:00.193Z"
   },
   {
    "duration": 110,
    "start_time": "2022-04-18T18:09:00.207Z"
   },
   {
    "duration": 0,
    "start_time": "2022-04-18T18:09:00.319Z"
   },
   {
    "duration": 0,
    "start_time": "2022-04-18T18:09:00.320Z"
   },
   {
    "duration": 0,
    "start_time": "2022-04-18T18:09:00.321Z"
   },
   {
    "duration": 0,
    "start_time": "2022-04-18T18:09:00.322Z"
   },
   {
    "duration": 0,
    "start_time": "2022-04-18T18:09:00.323Z"
   },
   {
    "duration": 0,
    "start_time": "2022-04-18T18:09:00.324Z"
   },
   {
    "duration": 0,
    "start_time": "2022-04-18T18:09:00.325Z"
   },
   {
    "duration": 0,
    "start_time": "2022-04-18T18:09:00.326Z"
   },
   {
    "duration": 0,
    "start_time": "2022-04-18T18:09:00.327Z"
   },
   {
    "duration": 0,
    "start_time": "2022-04-18T18:09:00.328Z"
   },
   {
    "duration": 0,
    "start_time": "2022-04-18T18:09:00.329Z"
   },
   {
    "duration": 0,
    "start_time": "2022-04-18T18:09:00.330Z"
   },
   {
    "duration": 0,
    "start_time": "2022-04-18T18:09:00.331Z"
   },
   {
    "duration": 1,
    "start_time": "2022-04-18T18:09:00.332Z"
   },
   {
    "duration": 0,
    "start_time": "2022-04-18T18:09:00.333Z"
   },
   {
    "duration": 0,
    "start_time": "2022-04-18T18:09:00.334Z"
   },
   {
    "duration": 0,
    "start_time": "2022-04-18T18:09:00.335Z"
   },
   {
    "duration": 0,
    "start_time": "2022-04-18T18:09:00.336Z"
   },
   {
    "duration": 0,
    "start_time": "2022-04-18T18:09:00.337Z"
   },
   {
    "duration": 0,
    "start_time": "2022-04-18T18:09:00.338Z"
   },
   {
    "duration": 0,
    "start_time": "2022-04-18T18:09:00.339Z"
   },
   {
    "duration": 0,
    "start_time": "2022-04-18T18:09:00.340Z"
   },
   {
    "duration": 0,
    "start_time": "2022-04-18T18:09:00.340Z"
   },
   {
    "duration": 0,
    "start_time": "2022-04-18T18:09:00.342Z"
   },
   {
    "duration": 0,
    "start_time": "2022-04-18T18:09:00.342Z"
   },
   {
    "duration": 0,
    "start_time": "2022-04-18T18:09:00.343Z"
   },
   {
    "duration": 11,
    "start_time": "2022-04-18T18:10:30.427Z"
   },
   {
    "duration": 3,
    "start_time": "2022-04-18T18:10:33.943Z"
   },
   {
    "duration": 8,
    "start_time": "2022-04-18T18:10:33.948Z"
   },
   {
    "duration": 471,
    "start_time": "2022-04-18T18:10:33.959Z"
   },
   {
    "duration": 26,
    "start_time": "2022-04-18T18:10:34.432Z"
   },
   {
    "duration": 82,
    "start_time": "2022-04-18T18:10:34.460Z"
   },
   {
    "duration": 61,
    "start_time": "2022-04-18T18:10:34.543Z"
   },
   {
    "duration": 50,
    "start_time": "2022-04-18T18:10:34.623Z"
   },
   {
    "duration": 15,
    "start_time": "2022-04-18T18:10:34.674Z"
   },
   {
    "duration": 27,
    "start_time": "2022-04-18T18:10:34.691Z"
   },
   {
    "duration": 20,
    "start_time": "2022-04-18T18:10:34.719Z"
   },
   {
    "duration": 174,
    "start_time": "2022-04-18T18:10:34.742Z"
   },
   {
    "duration": 9,
    "start_time": "2022-04-18T18:10:34.918Z"
   },
   {
    "duration": 138,
    "start_time": "2022-04-18T18:10:34.928Z"
   },
   {
    "duration": 9,
    "start_time": "2022-04-18T18:10:35.067Z"
   },
   {
    "duration": 30,
    "start_time": "2022-04-18T18:10:35.078Z"
   },
   {
    "duration": 30,
    "start_time": "2022-04-18T18:10:35.110Z"
   },
   {
    "duration": 24,
    "start_time": "2022-04-18T18:10:35.141Z"
   },
   {
    "duration": 14,
    "start_time": "2022-04-18T18:10:35.167Z"
   },
   {
    "duration": 20,
    "start_time": "2022-04-18T18:10:35.183Z"
   },
   {
    "duration": 18,
    "start_time": "2022-04-18T18:10:35.205Z"
   },
   {
    "duration": 36,
    "start_time": "2022-04-18T18:10:35.224Z"
   },
   {
    "duration": 28,
    "start_time": "2022-04-18T18:10:35.262Z"
   },
   {
    "duration": 54,
    "start_time": "2022-04-18T18:10:35.291Z"
   },
   {
    "duration": 33,
    "start_time": "2022-04-18T18:10:35.347Z"
   },
   {
    "duration": 53,
    "start_time": "2022-04-18T18:10:35.382Z"
   },
   {
    "duration": 32,
    "start_time": "2022-04-18T18:10:35.436Z"
   },
   {
    "duration": 34,
    "start_time": "2022-04-18T18:10:35.470Z"
   },
   {
    "duration": 32,
    "start_time": "2022-04-18T18:10:35.506Z"
   },
   {
    "duration": 41,
    "start_time": "2022-04-18T18:10:35.542Z"
   },
   {
    "duration": 50,
    "start_time": "2022-04-18T18:10:35.584Z"
   },
   {
    "duration": 20,
    "start_time": "2022-04-18T18:10:35.636Z"
   },
   {
    "duration": 22,
    "start_time": "2022-04-18T18:10:35.658Z"
   },
   {
    "duration": 43,
    "start_time": "2022-04-18T18:10:35.682Z"
   },
   {
    "duration": 7,
    "start_time": "2022-04-18T18:10:35.727Z"
   },
   {
    "duration": 31,
    "start_time": "2022-04-18T18:10:35.735Z"
   },
   {
    "duration": 21,
    "start_time": "2022-04-18T18:10:35.767Z"
   },
   {
    "duration": 28,
    "start_time": "2022-04-18T18:10:35.790Z"
   },
   {
    "duration": 0,
    "start_time": "2022-04-18T18:10:35.820Z"
   },
   {
    "duration": 0,
    "start_time": "2022-04-18T18:10:35.821Z"
   },
   {
    "duration": 0,
    "start_time": "2022-04-18T18:10:35.823Z"
   },
   {
    "duration": 0,
    "start_time": "2022-04-18T18:10:35.824Z"
   },
   {
    "duration": 0,
    "start_time": "2022-04-18T18:10:35.825Z"
   },
   {
    "duration": 0,
    "start_time": "2022-04-18T18:10:35.826Z"
   },
   {
    "duration": 0,
    "start_time": "2022-04-18T18:10:35.827Z"
   },
   {
    "duration": 0,
    "start_time": "2022-04-18T18:10:35.829Z"
   },
   {
    "duration": 0,
    "start_time": "2022-04-18T18:10:35.830Z"
   },
   {
    "duration": 0,
    "start_time": "2022-04-18T18:10:35.831Z"
   },
   {
    "duration": 0,
    "start_time": "2022-04-18T18:10:35.832Z"
   },
   {
    "duration": 0,
    "start_time": "2022-04-18T18:10:35.833Z"
   },
   {
    "duration": 0,
    "start_time": "2022-04-18T18:10:35.834Z"
   },
   {
    "duration": 0,
    "start_time": "2022-04-18T18:10:35.836Z"
   },
   {
    "duration": 0,
    "start_time": "2022-04-18T18:10:35.837Z"
   },
   {
    "duration": 0,
    "start_time": "2022-04-18T18:10:35.838Z"
   },
   {
    "duration": 0,
    "start_time": "2022-04-18T18:10:35.839Z"
   },
   {
    "duration": 0,
    "start_time": "2022-04-18T18:10:35.840Z"
   },
   {
    "duration": 0,
    "start_time": "2022-04-18T18:10:35.841Z"
   },
   {
    "duration": 0,
    "start_time": "2022-04-18T18:10:35.842Z"
   },
   {
    "duration": 0,
    "start_time": "2022-04-18T18:10:35.843Z"
   },
   {
    "duration": 0,
    "start_time": "2022-04-18T18:10:35.843Z"
   },
   {
    "duration": 0,
    "start_time": "2022-04-18T18:10:35.844Z"
   },
   {
    "duration": 0,
    "start_time": "2022-04-18T18:10:35.845Z"
   },
   {
    "duration": 0,
    "start_time": "2022-04-18T18:10:35.846Z"
   },
   {
    "duration": 0,
    "start_time": "2022-04-18T18:10:35.847Z"
   },
   {
    "duration": 2,
    "start_time": "2022-04-18T18:11:07.739Z"
   },
   {
    "duration": 2,
    "start_time": "2022-04-18T18:11:07.746Z"
   },
   {
    "duration": 502,
    "start_time": "2022-04-18T18:11:07.750Z"
   },
   {
    "duration": 33,
    "start_time": "2022-04-18T18:11:08.254Z"
   },
   {
    "duration": 155,
    "start_time": "2022-04-18T18:11:08.289Z"
   },
   {
    "duration": 125,
    "start_time": "2022-04-18T18:11:08.447Z"
   },
   {
    "duration": 96,
    "start_time": "2022-04-18T18:11:08.574Z"
   },
   {
    "duration": 14,
    "start_time": "2022-04-18T18:11:08.672Z"
   },
   {
    "duration": 4,
    "start_time": "2022-04-18T18:11:08.688Z"
   },
   {
    "duration": 31,
    "start_time": "2022-04-18T18:11:08.695Z"
   },
   {
    "duration": 120,
    "start_time": "2022-04-18T18:11:08.728Z"
   },
   {
    "duration": 10,
    "start_time": "2022-04-18T18:11:08.850Z"
   },
   {
    "duration": 133,
    "start_time": "2022-04-18T18:11:08.862Z"
   },
   {
    "duration": 10,
    "start_time": "2022-04-18T18:11:08.997Z"
   },
   {
    "duration": 15,
    "start_time": "2022-04-18T18:11:09.023Z"
   },
   {
    "duration": 26,
    "start_time": "2022-04-18T18:11:09.040Z"
   },
   {
    "duration": 12,
    "start_time": "2022-04-18T18:11:09.068Z"
   },
   {
    "duration": 42,
    "start_time": "2022-04-18T18:11:09.082Z"
   },
   {
    "duration": 10,
    "start_time": "2022-04-18T18:11:09.126Z"
   },
   {
    "duration": 8,
    "start_time": "2022-04-18T18:11:09.138Z"
   },
   {
    "duration": 8,
    "start_time": "2022-04-18T18:11:09.147Z"
   },
   {
    "duration": 7,
    "start_time": "2022-04-18T18:11:09.157Z"
   },
   {
    "duration": 67,
    "start_time": "2022-04-18T18:11:09.165Z"
   },
   {
    "duration": 38,
    "start_time": "2022-04-18T18:11:09.234Z"
   },
   {
    "duration": 55,
    "start_time": "2022-04-18T18:11:09.276Z"
   },
   {
    "duration": 34,
    "start_time": "2022-04-18T18:11:09.333Z"
   },
   {
    "duration": 25,
    "start_time": "2022-04-18T18:11:09.369Z"
   },
   {
    "duration": 46,
    "start_time": "2022-04-18T18:11:09.396Z"
   },
   {
    "duration": 25,
    "start_time": "2022-04-18T18:11:09.443Z"
   },
   {
    "duration": 59,
    "start_time": "2022-04-18T18:11:09.470Z"
   },
   {
    "duration": 19,
    "start_time": "2022-04-18T18:11:09.531Z"
   },
   {
    "duration": 20,
    "start_time": "2022-04-18T18:11:09.551Z"
   },
   {
    "duration": 20,
    "start_time": "2022-04-18T18:11:09.573Z"
   },
   {
    "duration": 7,
    "start_time": "2022-04-18T18:11:09.623Z"
   },
   {
    "duration": 12,
    "start_time": "2022-04-18T18:11:09.631Z"
   },
   {
    "duration": 8,
    "start_time": "2022-04-18T18:11:09.645Z"
   },
   {
    "duration": 9,
    "start_time": "2022-04-18T18:11:09.654Z"
   },
   {
    "duration": 7,
    "start_time": "2022-04-18T18:11:09.664Z"
   },
   {
    "duration": 196,
    "start_time": "2022-04-18T18:11:09.673Z"
   },
   {
    "duration": 0,
    "start_time": "2022-04-18T18:11:09.871Z"
   },
   {
    "duration": 0,
    "start_time": "2022-04-18T18:11:09.873Z"
   },
   {
    "duration": 0,
    "start_time": "2022-04-18T18:11:09.874Z"
   },
   {
    "duration": 0,
    "start_time": "2022-04-18T18:11:09.875Z"
   },
   {
    "duration": 0,
    "start_time": "2022-04-18T18:11:09.877Z"
   },
   {
    "duration": 0,
    "start_time": "2022-04-18T18:11:09.878Z"
   },
   {
    "duration": 1,
    "start_time": "2022-04-18T18:11:09.879Z"
   },
   {
    "duration": 1,
    "start_time": "2022-04-18T18:11:09.881Z"
   },
   {
    "duration": 0,
    "start_time": "2022-04-18T18:11:09.883Z"
   },
   {
    "duration": 0,
    "start_time": "2022-04-18T18:11:09.884Z"
   },
   {
    "duration": 0,
    "start_time": "2022-04-18T18:11:09.885Z"
   },
   {
    "duration": 0,
    "start_time": "2022-04-18T18:11:09.887Z"
   },
   {
    "duration": 0,
    "start_time": "2022-04-18T18:11:09.888Z"
   },
   {
    "duration": 0,
    "start_time": "2022-04-18T18:11:09.890Z"
   },
   {
    "duration": 0,
    "start_time": "2022-04-18T18:11:09.923Z"
   },
   {
    "duration": 0,
    "start_time": "2022-04-18T18:11:09.924Z"
   },
   {
    "duration": 0,
    "start_time": "2022-04-18T18:11:09.926Z"
   },
   {
    "duration": 0,
    "start_time": "2022-04-18T18:11:09.927Z"
   },
   {
    "duration": 0,
    "start_time": "2022-04-18T18:11:09.929Z"
   },
   {
    "duration": 0,
    "start_time": "2022-04-18T18:11:09.930Z"
   },
   {
    "duration": 0,
    "start_time": "2022-04-18T18:11:09.932Z"
   },
   {
    "duration": 0,
    "start_time": "2022-04-18T18:11:09.933Z"
   },
   {
    "duration": 0,
    "start_time": "2022-04-18T18:11:09.934Z"
   },
   {
    "duration": 0,
    "start_time": "2022-04-18T18:11:09.936Z"
   },
   {
    "duration": 2810,
    "start_time": "2022-04-18T18:11:30.155Z"
   },
   {
    "duration": 3,
    "start_time": "2022-04-18T18:11:38.831Z"
   },
   {
    "duration": 1324,
    "start_time": "2022-04-18T18:11:38.836Z"
   },
   {
    "duration": 715,
    "start_time": "2022-04-18T18:11:40.162Z"
   },
   {
    "duration": 31,
    "start_time": "2022-04-18T18:11:40.879Z"
   },
   {
    "duration": 74,
    "start_time": "2022-04-18T18:11:40.912Z"
   },
   {
    "duration": 99,
    "start_time": "2022-04-18T18:11:40.987Z"
   },
   {
    "duration": 67,
    "start_time": "2022-04-18T18:11:41.087Z"
   },
   {
    "duration": 15,
    "start_time": "2022-04-18T18:11:41.156Z"
   },
   {
    "duration": 7,
    "start_time": "2022-04-18T18:11:41.173Z"
   },
   {
    "duration": 4,
    "start_time": "2022-04-18T18:11:41.181Z"
   },
   {
    "duration": 184,
    "start_time": "2022-04-18T18:11:41.188Z"
   },
   {
    "duration": 10,
    "start_time": "2022-04-18T18:11:41.374Z"
   },
   {
    "duration": 146,
    "start_time": "2022-04-18T18:11:41.385Z"
   },
   {
    "duration": 7,
    "start_time": "2022-04-18T18:11:41.533Z"
   },
   {
    "duration": 14,
    "start_time": "2022-04-18T18:11:41.542Z"
   },
   {
    "duration": 24,
    "start_time": "2022-04-18T18:11:41.558Z"
   },
   {
    "duration": 12,
    "start_time": "2022-04-18T18:11:41.584Z"
   },
   {
    "duration": 9,
    "start_time": "2022-04-18T18:11:41.597Z"
   },
   {
    "duration": 9,
    "start_time": "2022-04-18T18:11:41.623Z"
   },
   {
    "duration": 6,
    "start_time": "2022-04-18T18:11:41.634Z"
   },
   {
    "duration": 10,
    "start_time": "2022-04-18T18:11:41.642Z"
   },
   {
    "duration": 3,
    "start_time": "2022-04-18T18:11:41.654Z"
   },
   {
    "duration": 44,
    "start_time": "2022-04-18T18:11:41.659Z"
   },
   {
    "duration": 37,
    "start_time": "2022-04-18T18:11:41.705Z"
   },
   {
    "duration": 29,
    "start_time": "2022-04-18T18:11:41.743Z"
   },
   {
    "duration": 32,
    "start_time": "2022-04-18T18:11:41.774Z"
   },
   {
    "duration": 31,
    "start_time": "2022-04-18T18:11:41.808Z"
   },
   {
    "duration": 24,
    "start_time": "2022-04-18T18:11:41.840Z"
   },
   {
    "duration": 24,
    "start_time": "2022-04-18T18:11:41.868Z"
   },
   {
    "duration": 46,
    "start_time": "2022-04-18T18:11:41.893Z"
   },
   {
    "duration": 20,
    "start_time": "2022-04-18T18:11:41.941Z"
   },
   {
    "duration": 65,
    "start_time": "2022-04-18T18:11:41.963Z"
   },
   {
    "duration": 32,
    "start_time": "2022-04-18T18:11:42.030Z"
   },
   {
    "duration": 64,
    "start_time": "2022-04-18T18:11:42.064Z"
   },
   {
    "duration": 13,
    "start_time": "2022-04-18T18:11:42.130Z"
   },
   {
    "duration": 22,
    "start_time": "2022-04-18T18:11:42.145Z"
   },
   {
    "duration": 21,
    "start_time": "2022-04-18T18:11:42.169Z"
   },
   {
    "duration": 5,
    "start_time": "2022-04-18T18:11:42.222Z"
   },
   {
    "duration": 412,
    "start_time": "2022-04-18T18:11:42.229Z"
   },
   {
    "duration": 17,
    "start_time": "2022-04-18T18:11:42.643Z"
   },
   {
    "duration": 328,
    "start_time": "2022-04-18T18:11:42.661Z"
   },
   {
    "duration": 35,
    "start_time": "2022-04-18T18:11:42.990Z"
   },
   {
    "duration": 320,
    "start_time": "2022-04-18T18:11:43.027Z"
   },
   {
    "duration": 19,
    "start_time": "2022-04-18T18:11:43.349Z"
   },
   {
    "duration": 350,
    "start_time": "2022-04-18T18:11:43.369Z"
   },
   {
    "duration": 19,
    "start_time": "2022-04-18T18:11:43.721Z"
   },
   {
    "duration": 467,
    "start_time": "2022-04-18T18:11:43.741Z"
   },
   {
    "duration": 26,
    "start_time": "2022-04-18T18:11:44.210Z"
   },
   {
    "duration": 712,
    "start_time": "2022-04-18T18:11:44.238Z"
   },
   {
    "duration": 19,
    "start_time": "2022-04-18T18:11:44.952Z"
   },
   {
    "duration": 319,
    "start_time": "2022-04-18T18:11:44.973Z"
   },
   {
    "duration": 34,
    "start_time": "2022-04-18T18:11:45.294Z"
   },
   {
    "duration": 312,
    "start_time": "2022-04-18T18:11:45.330Z"
   },
   {
    "duration": 18,
    "start_time": "2022-04-18T18:11:45.643Z"
   },
   {
    "duration": 324,
    "start_time": "2022-04-18T18:11:45.663Z"
   },
   {
    "duration": 41,
    "start_time": "2022-04-18T18:11:45.988Z"
   },
   {
    "duration": 14,
    "start_time": "2022-04-18T18:11:46.031Z"
   },
   {
    "duration": 88,
    "start_time": "2022-04-18T18:11:46.047Z"
   },
   {
    "duration": 45,
    "start_time": "2022-04-18T18:11:46.136Z"
   },
   {
    "duration": 8,
    "start_time": "2022-04-18T18:11:46.183Z"
   },
   {
    "duration": 33,
    "start_time": "2022-04-18T18:11:46.192Z"
   },
   {
    "duration": 9,
    "start_time": "2022-04-18T18:11:46.227Z"
   },
   {
    "duration": 4,
    "start_time": "2022-04-18T18:11:46.238Z"
   },
   {
    "duration": 10,
    "start_time": "2022-04-18T18:13:05.436Z"
   },
   {
    "duration": 2,
    "start_time": "2022-04-18T18:13:13.846Z"
   },
   {
    "duration": 7,
    "start_time": "2022-04-18T18:13:13.850Z"
   },
   {
    "duration": 532,
    "start_time": "2022-04-18T18:13:13.858Z"
   },
   {
    "duration": 27,
    "start_time": "2022-04-18T18:13:14.391Z"
   },
   {
    "duration": 92,
    "start_time": "2022-04-18T18:13:14.420Z"
   },
   {
    "duration": 83,
    "start_time": "2022-04-18T18:13:14.514Z"
   },
   {
    "duration": 75,
    "start_time": "2022-04-18T18:13:14.599Z"
   },
   {
    "duration": 15,
    "start_time": "2022-04-18T18:13:14.676Z"
   },
   {
    "duration": 2,
    "start_time": "2022-04-18T18:13:14.693Z"
   },
   {
    "duration": 5,
    "start_time": "2022-04-18T18:13:14.696Z"
   },
   {
    "duration": 132,
    "start_time": "2022-04-18T18:13:14.730Z"
   },
   {
    "duration": 9,
    "start_time": "2022-04-18T18:13:14.864Z"
   },
   {
    "duration": 135,
    "start_time": "2022-04-18T18:13:14.875Z"
   },
   {
    "duration": 13,
    "start_time": "2022-04-18T18:13:15.022Z"
   },
   {
    "duration": 14,
    "start_time": "2022-04-18T18:13:15.038Z"
   },
   {
    "duration": 28,
    "start_time": "2022-04-18T18:13:15.054Z"
   },
   {
    "duration": 40,
    "start_time": "2022-04-18T18:13:15.084Z"
   },
   {
    "duration": 16,
    "start_time": "2022-04-18T18:13:15.127Z"
   },
   {
    "duration": 12,
    "start_time": "2022-04-18T18:13:15.144Z"
   },
   {
    "duration": 8,
    "start_time": "2022-04-18T18:13:15.158Z"
   },
   {
    "duration": 9,
    "start_time": "2022-04-18T18:13:15.169Z"
   },
   {
    "duration": 44,
    "start_time": "2022-04-18T18:13:15.180Z"
   },
   {
    "duration": 45,
    "start_time": "2022-04-18T18:13:15.226Z"
   },
   {
    "duration": 64,
    "start_time": "2022-04-18T18:13:15.273Z"
   },
   {
    "duration": 32,
    "start_time": "2022-04-18T18:13:15.338Z"
   },
   {
    "duration": 61,
    "start_time": "2022-04-18T18:13:15.372Z"
   },
   {
    "duration": 26,
    "start_time": "2022-04-18T18:13:15.436Z"
   },
   {
    "duration": 25,
    "start_time": "2022-04-18T18:13:15.464Z"
   },
   {
    "duration": 63,
    "start_time": "2022-04-18T18:13:15.490Z"
   },
   {
    "duration": 38,
    "start_time": "2022-04-18T18:13:15.554Z"
   },
   {
    "duration": 50,
    "start_time": "2022-04-18T18:13:15.594Z"
   },
   {
    "duration": 22,
    "start_time": "2022-04-18T18:13:15.645Z"
   },
   {
    "duration": 22,
    "start_time": "2022-04-18T18:13:15.668Z"
   },
   {
    "duration": 40,
    "start_time": "2022-04-18T18:13:15.692Z"
   },
   {
    "duration": 18,
    "start_time": "2022-04-18T18:13:15.736Z"
   },
   {
    "duration": 30,
    "start_time": "2022-04-18T18:13:29.201Z"
   },
   {
    "duration": 6,
    "start_time": "2022-04-18T18:14:43.467Z"
   },
   {
    "duration": 13,
    "start_time": "2022-04-18T18:14:43.476Z"
   },
   {
    "duration": 633,
    "start_time": "2022-04-18T18:14:43.492Z"
   },
   {
    "duration": 25,
    "start_time": "2022-04-18T18:14:44.127Z"
   },
   {
    "duration": 634,
    "start_time": "2022-04-18T18:14:44.156Z"
   },
   {
    "duration": 45,
    "start_time": "2022-04-18T18:14:44.793Z"
   },
   {
    "duration": 604,
    "start_time": "2022-04-18T18:14:44.840Z"
   },
   {
    "duration": 23,
    "start_time": "2022-04-18T18:14:45.446Z"
   },
   {
    "duration": 368,
    "start_time": "2022-04-18T18:14:45.471Z"
   },
   {
    "duration": 18,
    "start_time": "2022-04-18T18:14:45.840Z"
   },
   {
    "duration": 400,
    "start_time": "2022-04-18T18:14:45.860Z"
   },
   {
    "duration": 19,
    "start_time": "2022-04-18T18:14:46.262Z"
   },
   {
    "duration": 853,
    "start_time": "2022-04-18T18:14:46.282Z"
   },
   {
    "duration": 21,
    "start_time": "2022-04-18T18:14:47.137Z"
   },
   {
    "duration": 325,
    "start_time": "2022-04-18T18:14:47.159Z"
   },
   {
    "duration": 38,
    "start_time": "2022-04-18T18:14:47.486Z"
   },
   {
    "duration": 496,
    "start_time": "2022-04-18T18:14:47.526Z"
   },
   {
    "duration": 26,
    "start_time": "2022-04-18T18:14:48.024Z"
   },
   {
    "duration": 475,
    "start_time": "2022-04-18T18:14:48.053Z"
   },
   {
    "duration": 21,
    "start_time": "2022-04-18T18:14:48.530Z"
   },
   {
    "duration": 13,
    "start_time": "2022-04-18T18:14:48.552Z"
   },
   {
    "duration": 91,
    "start_time": "2022-04-18T18:14:48.567Z"
   },
   {
    "duration": 74,
    "start_time": "2022-04-18T18:14:48.660Z"
   },
   {
    "duration": 8,
    "start_time": "2022-04-18T18:14:48.735Z"
   },
   {
    "duration": 7,
    "start_time": "2022-04-18T18:14:48.745Z"
   },
   {
    "duration": 10,
    "start_time": "2022-04-18T18:14:48.754Z"
   },
   {
    "duration": 6,
    "start_time": "2022-04-18T18:14:48.765Z"
   },
   {
    "duration": 3,
    "start_time": "2022-04-20T14:01:29.707Z"
   },
   {
    "duration": 1288,
    "start_time": "2022-04-20T14:01:29.713Z"
   },
   {
    "duration": 422,
    "start_time": "2022-04-20T14:01:31.003Z"
   },
   {
    "duration": 35,
    "start_time": "2022-04-20T14:01:31.427Z"
   },
   {
    "duration": 53,
    "start_time": "2022-04-20T14:01:31.464Z"
   },
   {
    "duration": 74,
    "start_time": "2022-04-20T14:01:31.519Z"
   },
   {
    "duration": 53,
    "start_time": "2022-04-20T14:01:31.595Z"
   },
   {
    "duration": 17,
    "start_time": "2022-04-20T14:01:31.650Z"
   },
   {
    "duration": 6,
    "start_time": "2022-04-20T14:01:31.669Z"
   },
   {
    "duration": 9,
    "start_time": "2022-04-20T14:01:31.676Z"
   },
   {
    "duration": 223,
    "start_time": "2022-04-20T14:01:31.686Z"
   },
   {
    "duration": 0,
    "start_time": "2022-04-20T14:01:31.911Z"
   },
   {
    "duration": 0,
    "start_time": "2022-04-20T14:01:31.912Z"
   },
   {
    "duration": 0,
    "start_time": "2022-04-20T14:01:31.913Z"
   },
   {
    "duration": 0,
    "start_time": "2022-04-20T14:01:31.914Z"
   },
   {
    "duration": 0,
    "start_time": "2022-04-20T14:01:31.915Z"
   },
   {
    "duration": 0,
    "start_time": "2022-04-20T14:01:31.916Z"
   },
   {
    "duration": 0,
    "start_time": "2022-04-20T14:01:31.917Z"
   },
   {
    "duration": 0,
    "start_time": "2022-04-20T14:01:31.919Z"
   },
   {
    "duration": 0,
    "start_time": "2022-04-20T14:01:31.920Z"
   },
   {
    "duration": 0,
    "start_time": "2022-04-20T14:01:31.921Z"
   },
   {
    "duration": 0,
    "start_time": "2022-04-20T14:01:31.922Z"
   },
   {
    "duration": 0,
    "start_time": "2022-04-20T14:01:31.923Z"
   },
   {
    "duration": 0,
    "start_time": "2022-04-20T14:01:31.948Z"
   },
   {
    "duration": 0,
    "start_time": "2022-04-20T14:01:31.949Z"
   },
   {
    "duration": 0,
    "start_time": "2022-04-20T14:01:31.951Z"
   },
   {
    "duration": 0,
    "start_time": "2022-04-20T14:01:31.952Z"
   },
   {
    "duration": 0,
    "start_time": "2022-04-20T14:01:31.953Z"
   },
   {
    "duration": 0,
    "start_time": "2022-04-20T14:01:31.954Z"
   },
   {
    "duration": 0,
    "start_time": "2022-04-20T14:01:31.955Z"
   },
   {
    "duration": 0,
    "start_time": "2022-04-20T14:01:31.956Z"
   },
   {
    "duration": 0,
    "start_time": "2022-04-20T14:01:31.957Z"
   },
   {
    "duration": 0,
    "start_time": "2022-04-20T14:01:31.958Z"
   },
   {
    "duration": 0,
    "start_time": "2022-04-20T14:01:31.959Z"
   },
   {
    "duration": 8,
    "start_time": "2022-04-20T14:01:41.271Z"
   },
   {
    "duration": 65791,
    "start_time": "2022-04-20T18:25:52.243Z"
   },
   {
    "duration": 1176,
    "start_time": "2022-04-20T18:26:58.037Z"
   },
   {
    "duration": 514,
    "start_time": "2022-04-20T18:26:59.215Z"
   },
   {
    "duration": 43,
    "start_time": "2022-04-20T18:26:59.730Z"
   },
   {
    "duration": 53,
    "start_time": "2022-04-20T18:26:59.775Z"
   },
   {
    "duration": 68,
    "start_time": "2022-04-20T18:26:59.830Z"
   },
   {
    "duration": 33,
    "start_time": "2022-04-20T18:26:59.900Z"
   },
   {
    "duration": 34,
    "start_time": "2022-04-20T18:26:59.935Z"
   },
   {
    "duration": 2,
    "start_time": "2022-04-20T18:26:59.971Z"
   },
   {
    "duration": 10,
    "start_time": "2022-04-20T18:26:59.975Z"
   },
   {
    "duration": 236,
    "start_time": "2022-04-20T18:26:59.986Z"
   },
   {
    "duration": 0,
    "start_time": "2022-04-20T18:27:00.225Z"
   },
   {
    "duration": 0,
    "start_time": "2022-04-20T18:27:00.227Z"
   },
   {
    "duration": 0,
    "start_time": "2022-04-20T18:27:00.227Z"
   },
   {
    "duration": 0,
    "start_time": "2022-04-20T18:27:00.228Z"
   },
   {
    "duration": 0,
    "start_time": "2022-04-20T18:27:00.229Z"
   },
   {
    "duration": 0,
    "start_time": "2022-04-20T18:27:00.230Z"
   },
   {
    "duration": 0,
    "start_time": "2022-04-20T18:27:00.230Z"
   },
   {
    "duration": 0,
    "start_time": "2022-04-20T18:27:00.231Z"
   },
   {
    "duration": 0,
    "start_time": "2022-04-20T18:27:00.232Z"
   },
   {
    "duration": 0,
    "start_time": "2022-04-20T18:27:00.233Z"
   },
   {
    "duration": 0,
    "start_time": "2022-04-20T18:27:00.234Z"
   },
   {
    "duration": 0,
    "start_time": "2022-04-20T18:27:00.234Z"
   },
   {
    "duration": 0,
    "start_time": "2022-04-20T18:27:00.235Z"
   },
   {
    "duration": 0,
    "start_time": "2022-04-20T18:27:00.236Z"
   },
   {
    "duration": 0,
    "start_time": "2022-04-20T18:27:00.237Z"
   },
   {
    "duration": 0,
    "start_time": "2022-04-20T18:27:00.238Z"
   },
   {
    "duration": 0,
    "start_time": "2022-04-20T18:27:00.238Z"
   },
   {
    "duration": 0,
    "start_time": "2022-04-20T18:27:00.239Z"
   },
   {
    "duration": 0,
    "start_time": "2022-04-20T18:27:00.251Z"
   },
   {
    "duration": 0,
    "start_time": "2022-04-20T18:27:00.252Z"
   },
   {
    "duration": 0,
    "start_time": "2022-04-20T18:27:00.253Z"
   },
   {
    "duration": 0,
    "start_time": "2022-04-20T18:27:00.255Z"
   },
   {
    "duration": 0,
    "start_time": "2022-04-20T18:27:00.256Z"
   },
   {
    "duration": 0,
    "start_time": "2022-04-20T18:27:00.257Z"
   },
   {
    "duration": 0,
    "start_time": "2022-04-20T18:27:00.259Z"
   },
   {
    "duration": 0,
    "start_time": "2022-04-20T18:27:00.260Z"
   },
   {
    "duration": 0,
    "start_time": "2022-04-20T18:27:00.260Z"
   },
   {
    "duration": 0,
    "start_time": "2022-04-20T18:27:00.261Z"
   },
   {
    "duration": 0,
    "start_time": "2022-04-20T18:27:00.263Z"
   },
   {
    "duration": 0,
    "start_time": "2022-04-20T18:27:00.264Z"
   },
   {
    "duration": 0,
    "start_time": "2022-04-20T18:27:00.265Z"
   },
   {
    "duration": 0,
    "start_time": "2022-04-20T18:27:00.266Z"
   },
   {
    "duration": 0,
    "start_time": "2022-04-20T18:27:00.267Z"
   },
   {
    "duration": 0,
    "start_time": "2022-04-20T18:27:00.268Z"
   },
   {
    "duration": 0,
    "start_time": "2022-04-20T18:27:00.269Z"
   },
   {
    "duration": 0,
    "start_time": "2022-04-20T18:27:00.271Z"
   },
   {
    "duration": 0,
    "start_time": "2022-04-20T18:27:00.272Z"
   },
   {
    "duration": 0,
    "start_time": "2022-04-20T18:27:00.273Z"
   },
   {
    "duration": 0,
    "start_time": "2022-04-20T18:27:00.274Z"
   },
   {
    "duration": 0,
    "start_time": "2022-04-20T18:27:00.275Z"
   },
   {
    "duration": 0,
    "start_time": "2022-04-20T18:27:00.276Z"
   },
   {
    "duration": 0,
    "start_time": "2022-04-20T18:27:00.277Z"
   },
   {
    "duration": 0,
    "start_time": "2022-04-20T18:27:00.278Z"
   },
   {
    "duration": 0,
    "start_time": "2022-04-20T18:27:00.280Z"
   },
   {
    "duration": 0,
    "start_time": "2022-04-20T18:27:00.280Z"
   },
   {
    "duration": 0,
    "start_time": "2022-04-20T18:27:00.281Z"
   },
   {
    "duration": 0,
    "start_time": "2022-04-20T18:27:00.282Z"
   },
   {
    "duration": 0,
    "start_time": "2022-04-20T18:27:00.283Z"
   },
   {
    "duration": 0,
    "start_time": "2022-04-20T18:27:00.284Z"
   },
   {
    "duration": 1,
    "start_time": "2022-04-20T18:27:00.285Z"
   },
   {
    "duration": 0,
    "start_time": "2022-04-20T18:27:00.287Z"
   },
   {
    "duration": 0,
    "start_time": "2022-04-20T18:27:00.287Z"
   },
   {
    "duration": 0,
    "start_time": "2022-04-20T18:27:00.289Z"
   },
   {
    "duration": 0,
    "start_time": "2022-04-20T18:27:00.290Z"
   },
   {
    "duration": 0,
    "start_time": "2022-04-20T18:27:00.291Z"
   },
   {
    "duration": 0,
    "start_time": "2022-04-20T18:27:00.292Z"
   },
   {
    "duration": 0,
    "start_time": "2022-04-20T18:27:00.293Z"
   },
   {
    "duration": 0,
    "start_time": "2022-04-20T18:27:00.294Z"
   },
   {
    "duration": 0,
    "start_time": "2022-04-20T18:27:00.295Z"
   },
   {
    "duration": 0,
    "start_time": "2022-04-20T18:27:00.296Z"
   },
   {
    "duration": 0,
    "start_time": "2022-04-20T18:27:00.297Z"
   },
   {
    "duration": 0,
    "start_time": "2022-04-20T18:27:00.298Z"
   },
   {
    "duration": 0,
    "start_time": "2022-04-20T18:27:00.299Z"
   },
   {
    "duration": 0,
    "start_time": "2022-04-20T18:27:00.301Z"
   },
   {
    "duration": 0,
    "start_time": "2022-04-20T18:27:00.302Z"
   },
   {
    "duration": 0,
    "start_time": "2022-04-20T18:27:00.303Z"
   },
   {
    "duration": 0,
    "start_time": "2022-04-20T18:27:00.304Z"
   },
   {
    "duration": 0,
    "start_time": "2022-04-20T18:27:00.305Z"
   },
   {
    "duration": 0,
    "start_time": "2022-04-20T18:27:00.306Z"
   },
   {
    "duration": 0,
    "start_time": "2022-04-20T18:27:00.307Z"
   },
   {
    "duration": 0,
    "start_time": "2022-04-20T18:27:00.308Z"
   },
   {
    "duration": 0,
    "start_time": "2022-04-20T18:27:00.309Z"
   },
   {
    "duration": 52,
    "start_time": "2022-04-20T18:27:21.992Z"
   },
   {
    "duration": 106816,
    "start_time": "2022-04-20T18:27:38.214Z"
   },
   {
    "duration": 55,
    "start_time": "2022-04-20T18:29:25.033Z"
   },
   {
    "duration": 4,
    "start_time": "2022-04-20T18:30:32.693Z"
   },
   {
    "duration": 1193,
    "start_time": "2022-04-20T18:30:32.698Z"
   },
   {
    "duration": 481,
    "start_time": "2022-04-20T18:30:33.893Z"
   },
   {
    "duration": 35,
    "start_time": "2022-04-20T18:30:34.376Z"
   },
   {
    "duration": 63,
    "start_time": "2022-04-20T18:30:34.413Z"
   },
   {
    "duration": 48,
    "start_time": "2022-04-20T18:30:34.478Z"
   },
   {
    "duration": 59,
    "start_time": "2022-04-20T18:30:34.528Z"
   },
   {
    "duration": 16,
    "start_time": "2022-04-20T18:30:34.589Z"
   },
   {
    "duration": 4,
    "start_time": "2022-04-20T18:30:34.607Z"
   },
   {
    "duration": 7,
    "start_time": "2022-04-20T18:30:34.612Z"
   },
   {
    "duration": 156,
    "start_time": "2022-04-20T18:30:34.622Z"
   },
   {
    "duration": 12,
    "start_time": "2022-04-20T18:30:34.779Z"
   },
   {
    "duration": 230,
    "start_time": "2022-04-20T18:30:34.793Z"
   },
   {
    "duration": 8,
    "start_time": "2022-04-20T18:30:35.024Z"
   },
   {
    "duration": 26,
    "start_time": "2022-04-20T18:30:35.047Z"
   },
   {
    "duration": 28,
    "start_time": "2022-04-20T18:30:35.075Z"
   },
   {
    "duration": 13,
    "start_time": "2022-04-20T18:30:35.105Z"
   },
   {
    "duration": 36,
    "start_time": "2022-04-20T18:30:35.120Z"
   },
   {
    "duration": 19,
    "start_time": "2022-04-20T18:30:35.158Z"
   },
   {
    "duration": 6,
    "start_time": "2022-04-20T18:30:35.178Z"
   },
   {
    "duration": 7,
    "start_time": "2022-04-20T18:30:35.186Z"
   },
   {
    "duration": 3,
    "start_time": "2022-04-20T18:30:35.194Z"
   },
   {
    "duration": 64,
    "start_time": "2022-04-20T18:30:35.199Z"
   },
   {
    "duration": 38,
    "start_time": "2022-04-20T18:30:35.265Z"
   },
   {
    "duration": 114,
    "start_time": "2022-04-20T18:30:35.305Z"
   },
   {
    "duration": 0,
    "start_time": "2022-04-20T18:30:35.422Z"
   },
   {
    "duration": 0,
    "start_time": "2022-04-20T18:30:35.423Z"
   },
   {
    "duration": 0,
    "start_time": "2022-04-20T18:30:35.424Z"
   },
   {
    "duration": 0,
    "start_time": "2022-04-20T18:30:35.425Z"
   },
   {
    "duration": 0,
    "start_time": "2022-04-20T18:30:35.427Z"
   },
   {
    "duration": 0,
    "start_time": "2022-04-20T18:30:35.429Z"
   },
   {
    "duration": 0,
    "start_time": "2022-04-20T18:30:35.430Z"
   },
   {
    "duration": 0,
    "start_time": "2022-04-20T18:30:35.451Z"
   },
   {
    "duration": 0,
    "start_time": "2022-04-20T18:30:35.452Z"
   },
   {
    "duration": 0,
    "start_time": "2022-04-20T18:30:35.453Z"
   },
   {
    "duration": 0,
    "start_time": "2022-04-20T18:30:35.454Z"
   },
   {
    "duration": 0,
    "start_time": "2022-04-20T18:30:35.455Z"
   },
   {
    "duration": 0,
    "start_time": "2022-04-20T18:30:35.455Z"
   },
   {
    "duration": 0,
    "start_time": "2022-04-20T18:30:35.463Z"
   },
   {
    "duration": 0,
    "start_time": "2022-04-20T18:30:35.464Z"
   },
   {
    "duration": 0,
    "start_time": "2022-04-20T18:30:35.465Z"
   },
   {
    "duration": 0,
    "start_time": "2022-04-20T18:30:35.466Z"
   },
   {
    "duration": 0,
    "start_time": "2022-04-20T18:30:35.467Z"
   },
   {
    "duration": 0,
    "start_time": "2022-04-20T18:30:35.467Z"
   },
   {
    "duration": 0,
    "start_time": "2022-04-20T18:30:35.468Z"
   },
   {
    "duration": 0,
    "start_time": "2022-04-20T18:30:35.470Z"
   },
   {
    "duration": 0,
    "start_time": "2022-04-20T18:30:35.471Z"
   },
   {
    "duration": 0,
    "start_time": "2022-04-20T18:30:35.471Z"
   },
   {
    "duration": 0,
    "start_time": "2022-04-20T18:30:35.473Z"
   },
   {
    "duration": 0,
    "start_time": "2022-04-20T18:30:35.474Z"
   },
   {
    "duration": 0,
    "start_time": "2022-04-20T18:30:35.475Z"
   },
   {
    "duration": 0,
    "start_time": "2022-04-20T18:30:35.476Z"
   },
   {
    "duration": 0,
    "start_time": "2022-04-20T18:30:35.477Z"
   },
   {
    "duration": 0,
    "start_time": "2022-04-20T18:30:35.478Z"
   },
   {
    "duration": 0,
    "start_time": "2022-04-20T18:30:35.479Z"
   },
   {
    "duration": 0,
    "start_time": "2022-04-20T18:30:35.479Z"
   },
   {
    "duration": 0,
    "start_time": "2022-04-20T18:30:35.481Z"
   },
   {
    "duration": 0,
    "start_time": "2022-04-20T18:30:35.482Z"
   },
   {
    "duration": 0,
    "start_time": "2022-04-20T18:30:35.483Z"
   },
   {
    "duration": 0,
    "start_time": "2022-04-20T18:30:35.484Z"
   },
   {
    "duration": 0,
    "start_time": "2022-04-20T18:30:35.485Z"
   },
   {
    "duration": 0,
    "start_time": "2022-04-20T18:30:35.486Z"
   },
   {
    "duration": 0,
    "start_time": "2022-04-20T18:30:35.486Z"
   },
   {
    "duration": 1,
    "start_time": "2022-04-20T18:30:35.487Z"
   },
   {
    "duration": 0,
    "start_time": "2022-04-20T18:30:35.489Z"
   },
   {
    "duration": 0,
    "start_time": "2022-04-20T18:30:35.490Z"
   },
   {
    "duration": 0,
    "start_time": "2022-04-20T18:30:35.491Z"
   },
   {
    "duration": 0,
    "start_time": "2022-04-20T18:30:35.492Z"
   },
   {
    "duration": 0,
    "start_time": "2022-04-20T18:30:35.493Z"
   },
   {
    "duration": 0,
    "start_time": "2022-04-20T18:30:35.494Z"
   },
   {
    "duration": 0,
    "start_time": "2022-04-20T18:30:35.495Z"
   },
   {
    "duration": 0,
    "start_time": "2022-04-20T18:30:35.496Z"
   },
   {
    "duration": 0,
    "start_time": "2022-04-20T18:30:35.497Z"
   },
   {
    "duration": 0,
    "start_time": "2022-04-20T18:30:35.497Z"
   },
   {
    "duration": 0,
    "start_time": "2022-04-20T18:30:35.498Z"
   },
   {
    "duration": 0,
    "start_time": "2022-04-20T18:30:35.499Z"
   },
   {
    "duration": 0,
    "start_time": "2022-04-20T18:30:35.500Z"
   },
   {
    "duration": 0,
    "start_time": "2022-04-20T18:30:35.551Z"
   },
   {
    "duration": 0,
    "start_time": "2022-04-20T18:30:35.552Z"
   },
   {
    "duration": 0,
    "start_time": "2022-04-20T18:30:35.553Z"
   },
   {
    "duration": 0,
    "start_time": "2022-04-20T18:30:35.553Z"
   },
   {
    "duration": 0,
    "start_time": "2022-04-20T18:30:35.554Z"
   },
   {
    "duration": 0,
    "start_time": "2022-04-20T18:30:35.554Z"
   },
   {
    "duration": 20,
    "start_time": "2022-04-20T18:32:19.850Z"
   },
   {
    "duration": 715,
    "start_time": "2022-04-20T18:32:22.168Z"
   },
   {
    "duration": 8,
    "start_time": "2022-04-20T18:33:22.067Z"
   },
   {
    "duration": 1557,
    "start_time": "2022-04-20T18:33:30.706Z"
   },
   {
    "duration": 444,
    "start_time": "2022-04-20T18:34:25.089Z"
   },
   {
    "duration": 15,
    "start_time": "2022-04-20T18:34:44.681Z"
   },
   {
    "duration": 470,
    "start_time": "2022-04-20T18:35:22.737Z"
   },
   {
    "duration": 19,
    "start_time": "2022-04-20T18:37:50.038Z"
   },
   {
    "duration": 11,
    "start_time": "2022-04-20T18:38:14.481Z"
   },
   {
    "duration": 37,
    "start_time": "2022-04-20T18:38:21.721Z"
   },
   {
    "duration": 3,
    "start_time": "2022-04-20T18:38:39.403Z"
   },
   {
    "duration": 5,
    "start_time": "2022-04-20T18:38:39.408Z"
   },
   {
    "duration": 472,
    "start_time": "2022-04-20T18:38:39.414Z"
   },
   {
    "duration": 34,
    "start_time": "2022-04-20T18:38:39.888Z"
   },
   {
    "duration": 82,
    "start_time": "2022-04-20T18:38:39.924Z"
   },
   {
    "duration": 79,
    "start_time": "2022-04-20T18:38:40.008Z"
   },
   {
    "duration": 33,
    "start_time": "2022-04-20T18:38:40.089Z"
   },
   {
    "duration": 41,
    "start_time": "2022-04-20T18:38:40.123Z"
   },
   {
    "duration": 2,
    "start_time": "2022-04-20T18:38:40.166Z"
   },
   {
    "duration": 3,
    "start_time": "2022-04-20T18:38:40.170Z"
   },
   {
    "duration": 161,
    "start_time": "2022-04-20T18:38:40.175Z"
   },
   {
    "duration": 13,
    "start_time": "2022-04-20T18:38:40.339Z"
   },
   {
    "duration": 199,
    "start_time": "2022-04-20T18:38:40.353Z"
   },
   {
    "duration": 12,
    "start_time": "2022-04-20T18:38:40.554Z"
   },
   {
    "duration": 22,
    "start_time": "2022-04-20T18:38:40.569Z"
   },
   {
    "duration": 36,
    "start_time": "2022-04-20T18:38:40.594Z"
   },
   {
    "duration": 36,
    "start_time": "2022-04-20T18:38:40.632Z"
   },
   {
    "duration": 8,
    "start_time": "2022-04-20T18:38:40.670Z"
   },
   {
    "duration": 11,
    "start_time": "2022-04-20T18:38:40.680Z"
   },
   {
    "duration": 7,
    "start_time": "2022-04-20T18:38:40.693Z"
   },
   {
    "duration": 7,
    "start_time": "2022-04-20T18:38:40.702Z"
   },
   {
    "duration": 3,
    "start_time": "2022-04-20T18:38:40.711Z"
   },
   {
    "duration": 44,
    "start_time": "2022-04-20T18:38:40.752Z"
   },
   {
    "duration": 33,
    "start_time": "2022-04-20T18:38:40.798Z"
   },
   {
    "duration": 54,
    "start_time": "2022-04-20T18:38:40.833Z"
   },
   {
    "duration": 34,
    "start_time": "2022-04-20T18:38:40.889Z"
   },
   {
    "duration": 52,
    "start_time": "2022-04-20T18:38:40.924Z"
   },
   {
    "duration": 24,
    "start_time": "2022-04-20T18:38:40.978Z"
   },
   {
    "duration": 23,
    "start_time": "2022-04-20T18:38:41.003Z"
   },
   {
    "duration": 46,
    "start_time": "2022-04-20T18:38:41.055Z"
   },
   {
    "duration": 22,
    "start_time": "2022-04-20T18:38:41.103Z"
   },
   {
    "duration": 54,
    "start_time": "2022-04-20T18:38:41.128Z"
   },
   {
    "duration": 32,
    "start_time": "2022-04-20T18:38:41.184Z"
   },
   {
    "duration": 9,
    "start_time": "2022-04-20T18:38:41.218Z"
   },
   {
    "duration": 41,
    "start_time": "2022-04-20T18:38:41.229Z"
   },
   {
    "duration": 26,
    "start_time": "2022-04-20T18:38:41.272Z"
   },
   {
    "duration": 25,
    "start_time": "2022-04-20T18:38:41.300Z"
   },
   {
    "duration": 10,
    "start_time": "2022-04-20T18:38:41.347Z"
   },
   {
    "duration": 20,
    "start_time": "2022-04-20T18:38:41.359Z"
   },
   {
    "duration": 8,
    "start_time": "2022-04-20T18:38:41.381Z"
   },
   {
    "duration": 10,
    "start_time": "2022-04-20T18:38:41.391Z"
   },
   {
    "duration": 56,
    "start_time": "2022-04-20T18:38:41.403Z"
   },
   {
    "duration": 3,
    "start_time": "2022-04-20T18:38:41.461Z"
   },
   {
    "duration": 8,
    "start_time": "2022-04-20T18:38:41.466Z"
   },
   {
    "duration": 337,
    "start_time": "2022-04-20T18:38:41.475Z"
   },
   {
    "duration": 46,
    "start_time": "2022-04-20T18:38:41.813Z"
   },
   {
    "duration": 17,
    "start_time": "2022-04-20T18:38:41.861Z"
   },
   {
    "duration": 570,
    "start_time": "2022-04-20T18:38:41.880Z"
   },
   {
    "duration": 23,
    "start_time": "2022-04-20T18:38:42.452Z"
   },
   {
    "duration": 363,
    "start_time": "2022-04-20T18:38:42.477Z"
   },
   {
    "duration": 33,
    "start_time": "2022-04-20T18:38:42.842Z"
   },
   {
    "duration": 14,
    "start_time": "2022-04-20T18:38:42.876Z"
   },
   {
    "duration": 425,
    "start_time": "2022-04-20T18:38:42.891Z"
   },
   {
    "duration": 322,
    "start_time": "2022-04-20T18:38:43.317Z"
   },
   {
    "duration": 28,
    "start_time": "2022-04-20T18:38:43.641Z"
   },
   {
    "duration": 15,
    "start_time": "2022-04-20T18:38:43.671Z"
   },
   {
    "duration": 462,
    "start_time": "2022-04-20T18:38:43.688Z"
   },
   {
    "duration": 522,
    "start_time": "2022-04-20T18:38:44.153Z"
   },
   {
    "duration": 89,
    "start_time": "2022-04-20T18:38:44.677Z"
   },
   {
    "duration": 16,
    "start_time": "2022-04-20T18:38:44.769Z"
   },
   {
    "duration": 972,
    "start_time": "2022-04-20T18:38:44.787Z"
   },
   {
    "duration": 553,
    "start_time": "2022-04-20T18:38:45.761Z"
   },
   {
    "duration": 42,
    "start_time": "2022-04-20T18:38:46.316Z"
   },
   {
    "duration": 747,
    "start_time": "2022-04-20T18:38:46.360Z"
   },
   {
    "duration": 21,
    "start_time": "2022-04-20T18:38:47.108Z"
   },
   {
    "duration": 303,
    "start_time": "2022-04-20T18:38:47.148Z"
   },
   {
    "duration": 23,
    "start_time": "2022-04-20T18:38:47.453Z"
   },
   {
    "duration": 378,
    "start_time": "2022-04-20T18:38:47.477Z"
   },
   {
    "duration": 20,
    "start_time": "2022-04-20T18:38:47.860Z"
   },
   {
    "duration": 363,
    "start_time": "2022-04-20T18:38:47.882Z"
   },
   {
    "duration": 30,
    "start_time": "2022-04-20T18:38:48.248Z"
   },
   {
    "duration": 13,
    "start_time": "2022-04-20T18:38:48.280Z"
   },
   {
    "duration": 194,
    "start_time": "2022-04-20T18:38:48.294Z"
   },
   {
    "duration": 68,
    "start_time": "2022-04-20T18:38:48.490Z"
   },
   {
    "duration": 9,
    "start_time": "2022-04-20T18:38:48.559Z"
   },
   {
    "duration": 7,
    "start_time": "2022-04-20T18:38:48.570Z"
   },
   {
    "duration": 16,
    "start_time": "2022-04-20T18:38:48.579Z"
   },
   {
    "duration": 9,
    "start_time": "2022-04-20T18:38:48.597Z"
   },
   {
    "duration": 4,
    "start_time": "2022-04-20T18:38:48.608Z"
   },
   {
    "duration": 46,
    "start_time": "2022-04-20T18:38:48.614Z"
   },
   {
    "duration": 5,
    "start_time": "2022-04-20T18:38:48.661Z"
   },
   {
    "duration": 12,
    "start_time": "2022-04-20T18:38:48.667Z"
   },
   {
    "duration": 5,
    "start_time": "2022-04-20T18:38:48.680Z"
   },
   {
    "duration": 3,
    "start_time": "2022-04-20T18:38:52.018Z"
   },
   {
    "duration": 1180,
    "start_time": "2022-04-20T18:38:52.023Z"
   },
   {
    "duration": 475,
    "start_time": "2022-04-20T18:38:53.205Z"
   },
   {
    "duration": 51,
    "start_time": "2022-04-20T18:38:53.682Z"
   },
   {
    "duration": 75,
    "start_time": "2022-04-20T18:38:53.736Z"
   },
   {
    "duration": 67,
    "start_time": "2022-04-20T18:38:53.812Z"
   },
   {
    "duration": 32,
    "start_time": "2022-04-20T18:38:53.881Z"
   },
   {
    "duration": 34,
    "start_time": "2022-04-20T18:38:53.914Z"
   },
   {
    "duration": 3,
    "start_time": "2022-04-20T18:38:53.950Z"
   },
   {
    "duration": 12,
    "start_time": "2022-04-20T18:38:53.954Z"
   },
   {
    "duration": 130,
    "start_time": "2022-04-20T18:38:53.968Z"
   },
   {
    "duration": 10,
    "start_time": "2022-04-20T18:38:54.100Z"
   },
   {
    "duration": 223,
    "start_time": "2022-04-20T18:38:54.112Z"
   },
   {
    "duration": 21,
    "start_time": "2022-04-20T18:38:54.337Z"
   },
   {
    "duration": 16,
    "start_time": "2022-04-20T18:38:54.360Z"
   },
   {
    "duration": 28,
    "start_time": "2022-04-20T18:38:54.378Z"
   },
   {
    "duration": 14,
    "start_time": "2022-04-20T18:38:54.407Z"
   },
   {
    "duration": 37,
    "start_time": "2022-04-20T18:38:54.422Z"
   },
   {
    "duration": 14,
    "start_time": "2022-04-20T18:38:54.461Z"
   },
   {
    "duration": 8,
    "start_time": "2022-04-20T18:38:54.476Z"
   },
   {
    "duration": 6,
    "start_time": "2022-04-20T18:38:54.486Z"
   },
   {
    "duration": 3,
    "start_time": "2022-04-20T18:38:54.494Z"
   },
   {
    "duration": 65,
    "start_time": "2022-04-20T18:38:54.499Z"
   },
   {
    "duration": 34,
    "start_time": "2022-04-20T18:38:54.565Z"
   },
   {
    "duration": 53,
    "start_time": "2022-04-20T18:38:54.600Z"
   },
   {
    "duration": 41,
    "start_time": "2022-04-20T18:38:54.655Z"
   },
   {
    "duration": 55,
    "start_time": "2022-04-20T18:38:54.697Z"
   },
   {
    "duration": 27,
    "start_time": "2022-04-20T18:38:54.754Z"
   },
   {
    "duration": 23,
    "start_time": "2022-04-20T18:38:54.786Z"
   },
   {
    "duration": 69,
    "start_time": "2022-04-20T18:38:54.811Z"
   },
   {
    "duration": 22,
    "start_time": "2022-04-20T18:38:54.882Z"
   },
   {
    "duration": 21,
    "start_time": "2022-04-20T18:38:54.906Z"
   },
   {
    "duration": 30,
    "start_time": "2022-04-20T18:38:54.947Z"
   },
   {
    "duration": 7,
    "start_time": "2022-04-20T18:38:54.979Z"
   },
   {
    "duration": 15,
    "start_time": "2022-04-20T18:38:54.988Z"
   },
   {
    "duration": 16,
    "start_time": "2022-04-20T18:38:55.005Z"
   },
   {
    "duration": 46,
    "start_time": "2022-04-20T18:38:55.022Z"
   },
   {
    "duration": 8,
    "start_time": "2022-04-20T18:38:55.069Z"
   },
   {
    "duration": 10,
    "start_time": "2022-04-20T18:38:55.078Z"
   },
   {
    "duration": 5,
    "start_time": "2022-04-20T18:38:55.090Z"
   },
   {
    "duration": 10,
    "start_time": "2022-04-20T18:38:55.097Z"
   },
   {
    "duration": 52,
    "start_time": "2022-04-20T18:38:55.108Z"
   },
   {
    "duration": 3,
    "start_time": "2022-04-20T18:38:55.162Z"
   },
   {
    "duration": 11,
    "start_time": "2022-04-20T18:38:55.167Z"
   },
   {
    "duration": 324,
    "start_time": "2022-04-20T18:38:55.179Z"
   },
   {
    "duration": 19,
    "start_time": "2022-04-20T18:38:55.504Z"
   },
   {
    "duration": 47,
    "start_time": "2022-04-20T18:38:55.525Z"
   },
   {
    "duration": 687,
    "start_time": "2022-04-20T18:38:55.574Z"
   },
   {
    "duration": 19,
    "start_time": "2022-04-20T18:38:56.266Z"
   },
   {
    "duration": 785,
    "start_time": "2022-04-20T18:38:56.287Z"
   },
   {
    "duration": 19,
    "start_time": "2022-04-20T18:38:57.073Z"
   },
   {
    "duration": 23,
    "start_time": "2022-04-20T18:38:57.148Z"
   },
   {
    "duration": 559,
    "start_time": "2022-04-20T18:38:57.172Z"
   },
   {
    "duration": 322,
    "start_time": "2022-04-20T18:38:57.732Z"
   },
   {
    "duration": 21,
    "start_time": "2022-04-20T18:38:58.057Z"
   },
   {
    "duration": 15,
    "start_time": "2022-04-20T18:38:58.080Z"
   },
   {
    "duration": 525,
    "start_time": "2022-04-20T18:38:58.097Z"
   },
   {
    "duration": 369,
    "start_time": "2022-04-20T18:38:58.624Z"
   },
   {
    "duration": 20,
    "start_time": "2022-04-20T18:38:58.995Z"
   },
   {
    "duration": 40,
    "start_time": "2022-04-20T18:38:59.017Z"
   },
   {
    "duration": 406,
    "start_time": "2022-04-20T18:38:59.059Z"
   },
   {
    "duration": 442,
    "start_time": "2022-04-20T18:38:59.467Z"
   },
   {
    "duration": 18,
    "start_time": "2022-04-20T18:38:59.911Z"
   },
   {
    "duration": 1048,
    "start_time": "2022-04-20T18:38:59.930Z"
   },
   {
    "duration": 23,
    "start_time": "2022-04-20T18:39:00.980Z"
   },
   {
    "duration": 348,
    "start_time": "2022-04-20T18:39:01.005Z"
   },
   {
    "duration": 26,
    "start_time": "2022-04-20T18:39:01.360Z"
   },
   {
    "duration": 347,
    "start_time": "2022-04-20T18:39:01.388Z"
   },
   {
    "duration": 27,
    "start_time": "2022-04-20T18:39:01.736Z"
   },
   {
    "duration": 349,
    "start_time": "2022-04-20T18:39:01.764Z"
   },
   {
    "duration": 44,
    "start_time": "2022-04-20T18:39:02.115Z"
   },
   {
    "duration": 14,
    "start_time": "2022-04-20T18:39:02.161Z"
   },
   {
    "duration": 42,
    "start_time": "2022-04-20T18:39:02.176Z"
   },
   {
    "duration": 75,
    "start_time": "2022-04-20T18:39:02.220Z"
   },
   {
    "duration": 8,
    "start_time": "2022-04-20T18:39:02.297Z"
   },
   {
    "duration": 8,
    "start_time": "2022-04-20T18:39:02.307Z"
   },
   {
    "duration": 43,
    "start_time": "2022-04-20T18:39:02.317Z"
   },
   {
    "duration": 9,
    "start_time": "2022-04-20T18:39:02.363Z"
   },
   {
    "duration": 4,
    "start_time": "2022-04-20T18:39:02.374Z"
   },
   {
    "duration": 15,
    "start_time": "2022-04-20T18:39:02.380Z"
   },
   {
    "duration": 4,
    "start_time": "2022-04-20T18:39:02.397Z"
   },
   {
    "duration": 16,
    "start_time": "2022-04-20T18:39:02.403Z"
   },
   {
    "duration": 8,
    "start_time": "2022-04-20T18:39:02.451Z"
   },
   {
    "duration": 7607,
    "start_time": "2022-04-21T10:16:14.323Z"
   },
   {
    "duration": 187,
    "start_time": "2022-04-21T10:30:53.187Z"
   },
   {
    "duration": 245,
    "start_time": "2022-04-21T10:33:07.784Z"
   }
  ],
  "kernelspec": {
   "display_name": "Python 3 (ipykernel)",
   "language": "python",
   "name": "python3"
  },
  "language_info": {
   "codemirror_mode": {
    "name": "ipython",
    "version": 3
   },
   "file_extension": ".py",
   "mimetype": "text/x-python",
   "name": "python",
   "nbconvert_exporter": "python",
   "pygments_lexer": "ipython3",
   "version": "3.10.4"
  },
  "toc": {
   "base_numbering": 1,
   "nav_menu": {},
   "number_sections": true,
   "sideBar": true,
   "skip_h1_title": true,
   "title_cell": "Table of Contents",
   "title_sidebar": "Contents",
   "toc_cell": false,
   "toc_position": {},
   "toc_section_display": true,
   "toc_window_display": true
  }
 },
 "nbformat": 4,
 "nbformat_minor": 5
}
