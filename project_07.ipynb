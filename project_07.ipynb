{
 "cells": [
  {
   "cell_type": "markdown",
   "metadata": {},
   "source": [
    "# Выбор локации для скважины"
   ]
  },
  {
   "cell_type": "markdown",
   "metadata": {},
   "source": [
    "**Описание задачи**\n",
    "\n",
    "Допустим, вы работаете в добывающей компании «ГлавРосГосНефть». Нужно решить, где бурить новую скважину.\n",
    "\n",
    "Вам предоставлены пробы нефти в трёх регионах: в каждом 10 000 месторождений, где измерили качество нефти и объём её запасов. Постройте модель машинного обучения, которая поможет определить регион, где добыча принесёт наибольшую прибыль. Проанализируйте возможную прибыль и риски техникой *Bootstrap.*\n",
    "\n",
    "Шаги для выбора локации:\n",
    "\n",
    "- В избранном регионе ищут месторождения, для каждого определяют значения признаков;\n",
    "- Строят модель и оценивают объём запасов;\n",
    "- Выбирают месторождения с самым высокими оценками значений. Количество месторождений зависит от бюджета компании и стоимости разработки одной скважины;\n",
    "- Прибыль равна суммарной прибыли отобранных месторождений.\n",
    "\n",
    "**Описание данных**\n",
    "\n",
    "Данные геологоразведки трёх регионов находятся в файлах:\n",
    "- `/datasets/geo_data_0.csv`;\n",
    "- `/datasets/geo_data_1.csv`;\n",
    "- `/datasets/geo_data_2.csv`.\n",
    "\n",
    "Признаки:\n",
    "- 'id' — уникальный идентификатор скважины;\n",
    "- 'f0', 'f1', 'f2' — три признака точек (неважно, что они означают, но сами признаки значимы);\n",
    "- 'product' — объём запасов в скважине (тыс. баррелей).\n",
    "\n",
    "**Условия задачи:**\n",
    "\n",
    "- Для обучения модели подходит только линейная регрессия (остальные — недостаточно предсказуемые).\n",
    "- При разведке региона исследуют 500 точек, из которых с помощью машинного обучения выбирают 200 лучших для разработки.\n",
    "- Бюджет на разработку скважин в регионе — 10 млрд рублей.\n",
    "- При нынешних ценах один баррель сырья приносит 450 рублей дохода. Доход с каждой единицы продукта составляет 450 тыс. рублей, поскольку объём указан в тысячах баррелей.\n",
    "- После оценки рисков нужно оставить лишь те регионы, в которых вероятность убытков меньше 2.5%. Среди них выбирают регион с наибольшей средней прибылью.\n",
    "- Данные синтетические: детали контрактов и характеристики месторождений не разглашаются."
   ]
  },
  {
   "cell_type": "code",
   "execution_count": 1,
   "metadata": {},
   "outputs": [],
   "source": [
    "# импорт библиотек\n",
    "\n",
    "import pandas as pd\n",
    "\n",
    "import numpy as np\n",
    "from numpy.random import RandomState\n",
    "\n",
    "import matplotlib.pyplot as plt\n",
    "import seaborn as sns\n",
    "\n",
    "from sklearn.linear_model import LinearRegression \n",
    "\n",
    "from sklearn.model_selection import train_test_split\n",
    "from sklearn.model_selection import cross_val_score\n",
    "\n",
    "from sklearn.metrics import mean_squared_error"
   ]
  },
  {
   "cell_type": "code",
   "execution_count": 2,
   "metadata": {},
   "outputs": [],
   "source": [
    "# отключу предупреждения\n",
    "import warnings\n",
    "warnings.filterwarnings('ignore')"
   ]
  },
  {
   "cell_type": "markdown",
   "metadata": {},
   "source": [
    "## Загрузка и подготовка данных"
   ]
  },
  {
   "cell_type": "markdown",
   "metadata": {},
   "source": [
    "### Обзор данных"
   ]
  },
  {
   "cell_type": "markdown",
   "metadata": {},
   "source": [
    "#### Регион 0"
   ]
  },
  {
   "cell_type": "code",
   "execution_count": 3,
   "metadata": {},
   "outputs": [],
   "source": [
    "data_0 = pd.read_csv('/datasets/geo_data_0.csv')"
   ]
  },
  {
   "cell_type": "code",
   "execution_count": 4,
   "metadata": {},
   "outputs": [
    {
     "name": "stdout",
     "output_type": "stream",
     "text": [
      "<class 'pandas.core.frame.DataFrame'>\n",
      "RangeIndex: 100000 entries, 0 to 99999\n",
      "Data columns (total 5 columns):\n",
      " #   Column   Non-Null Count   Dtype  \n",
      "---  ------   --------------   -----  \n",
      " 0   id       100000 non-null  object \n",
      " 1   f0       100000 non-null  float64\n",
      " 2   f1       100000 non-null  float64\n",
      " 3   f2       100000 non-null  float64\n",
      " 4   product  100000 non-null  float64\n",
      "dtypes: float64(4), object(1)\n",
      "memory usage: 3.8+ MB\n"
     ]
    },
    {
     "data": {
      "text/html": [
       "<div>\n",
       "<style scoped>\n",
       "    .dataframe tbody tr th:only-of-type {\n",
       "        vertical-align: middle;\n",
       "    }\n",
       "\n",
       "    .dataframe tbody tr th {\n",
       "        vertical-align: top;\n",
       "    }\n",
       "\n",
       "    .dataframe thead th {\n",
       "        text-align: right;\n",
       "    }\n",
       "</style>\n",
       "<table border=\"1\" class=\"dataframe\">\n",
       "  <thead>\n",
       "    <tr style=\"text-align: right;\">\n",
       "      <th></th>\n",
       "      <th>id</th>\n",
       "      <th>f0</th>\n",
       "      <th>f1</th>\n",
       "      <th>f2</th>\n",
       "      <th>product</th>\n",
       "    </tr>\n",
       "  </thead>\n",
       "  <tbody>\n",
       "    <tr>\n",
       "      <th>39556</th>\n",
       "      <td>ASPpT</td>\n",
       "      <td>1.309064</td>\n",
       "      <td>-0.577802</td>\n",
       "      <td>0.017004</td>\n",
       "      <td>118.564914</td>\n",
       "    </tr>\n",
       "    <tr>\n",
       "      <th>65071</th>\n",
       "      <td>7qs1F</td>\n",
       "      <td>0.041681</td>\n",
       "      <td>0.213124</td>\n",
       "      <td>0.299677</td>\n",
       "      <td>120.408048</td>\n",
       "    </tr>\n",
       "    <tr>\n",
       "      <th>71200</th>\n",
       "      <td>ANeYC</td>\n",
       "      <td>0.495188</td>\n",
       "      <td>0.823262</td>\n",
       "      <td>-0.101407</td>\n",
       "      <td>92.379225</td>\n",
       "    </tr>\n",
       "    <tr>\n",
       "      <th>36193</th>\n",
       "      <td>VKO0U</td>\n",
       "      <td>0.102607</td>\n",
       "      <td>0.360201</td>\n",
       "      <td>4.571955</td>\n",
       "      <td>184.627078</td>\n",
       "    </tr>\n",
       "    <tr>\n",
       "      <th>75902</th>\n",
       "      <td>er4hz</td>\n",
       "      <td>1.377686</td>\n",
       "      <td>-0.381834</td>\n",
       "      <td>11.593748</td>\n",
       "      <td>132.462685</td>\n",
       "    </tr>\n",
       "  </tbody>\n",
       "</table>\n",
       "</div>"
      ],
      "text/plain": [
       "          id        f0        f1         f2     product\n",
       "39556  ASPpT  1.309064 -0.577802   0.017004  118.564914\n",
       "65071  7qs1F  0.041681  0.213124   0.299677  120.408048\n",
       "71200  ANeYC  0.495188  0.823262  -0.101407   92.379225\n",
       "36193  VKO0U  0.102607  0.360201   4.571955  184.627078\n",
       "75902  er4hz  1.377686 -0.381834  11.593748  132.462685"
      ]
     },
     "metadata": {},
     "output_type": "display_data"
    },
    {
     "data": {
      "text/plain": [
       "Index(['id', 'f0', 'f1', 'f2', 'product'], dtype='object')"
      ]
     },
     "metadata": {},
     "output_type": "display_data"
    },
    {
     "name": "stdout",
     "output_type": "stream",
     "text": [
      "Количество явных дубликатов: 0\n"
     ]
    },
    {
     "data": {
      "text/html": [
       "<div>\n",
       "<style scoped>\n",
       "    .dataframe tbody tr th:only-of-type {\n",
       "        vertical-align: middle;\n",
       "    }\n",
       "\n",
       "    .dataframe tbody tr th {\n",
       "        vertical-align: top;\n",
       "    }\n",
       "\n",
       "    .dataframe thead th {\n",
       "        text-align: right;\n",
       "    }\n",
       "</style>\n",
       "<table border=\"1\" class=\"dataframe\">\n",
       "  <thead>\n",
       "    <tr style=\"text-align: right;\">\n",
       "      <th></th>\n",
       "      <th>count</th>\n",
       "      <th>mean</th>\n",
       "      <th>std</th>\n",
       "      <th>min</th>\n",
       "      <th>25%</th>\n",
       "      <th>50%</th>\n",
       "      <th>75%</th>\n",
       "      <th>max</th>\n",
       "    </tr>\n",
       "  </thead>\n",
       "  <tbody>\n",
       "    <tr>\n",
       "      <th>f0</th>\n",
       "      <td>100000.0</td>\n",
       "      <td>0.500419</td>\n",
       "      <td>0.871832</td>\n",
       "      <td>-1.408605</td>\n",
       "      <td>-0.072580</td>\n",
       "      <td>0.502360</td>\n",
       "      <td>1.073581</td>\n",
       "      <td>2.362331</td>\n",
       "    </tr>\n",
       "    <tr>\n",
       "      <th>f1</th>\n",
       "      <td>100000.0</td>\n",
       "      <td>0.250143</td>\n",
       "      <td>0.504433</td>\n",
       "      <td>-0.848218</td>\n",
       "      <td>-0.200881</td>\n",
       "      <td>0.250252</td>\n",
       "      <td>0.700646</td>\n",
       "      <td>1.343769</td>\n",
       "    </tr>\n",
       "    <tr>\n",
       "      <th>f2</th>\n",
       "      <td>100000.0</td>\n",
       "      <td>2.502647</td>\n",
       "      <td>3.248248</td>\n",
       "      <td>-12.088328</td>\n",
       "      <td>0.287748</td>\n",
       "      <td>2.515969</td>\n",
       "      <td>4.715088</td>\n",
       "      <td>16.003790</td>\n",
       "    </tr>\n",
       "    <tr>\n",
       "      <th>product</th>\n",
       "      <td>100000.0</td>\n",
       "      <td>92.500000</td>\n",
       "      <td>44.288691</td>\n",
       "      <td>0.000000</td>\n",
       "      <td>56.497507</td>\n",
       "      <td>91.849972</td>\n",
       "      <td>128.564089</td>\n",
       "      <td>185.364347</td>\n",
       "    </tr>\n",
       "  </tbody>\n",
       "</table>\n",
       "</div>"
      ],
      "text/plain": [
       "            count       mean        std        min        25%        50%  \\\n",
       "f0       100000.0   0.500419   0.871832  -1.408605  -0.072580   0.502360   \n",
       "f1       100000.0   0.250143   0.504433  -0.848218  -0.200881   0.250252   \n",
       "f2       100000.0   2.502647   3.248248 -12.088328   0.287748   2.515969   \n",
       "product  100000.0  92.500000  44.288691   0.000000  56.497507  91.849972   \n",
       "\n",
       "                75%         max  \n",
       "f0         1.073581    2.362331  \n",
       "f1         0.700646    1.343769  \n",
       "f2         4.715088   16.003790  \n",
       "product  128.564089  185.364347  "
      ]
     },
     "execution_count": 4,
     "metadata": {},
     "output_type": "execute_result"
    }
   ],
   "source": [
    "# получаю общую сводку\n",
    "data_0.info()\n",
    "\n",
    "# проверю на корректный вывод\n",
    "display(data_0.sample(5))\n",
    "\n",
    "# проверяю имена колонок на пробелы\n",
    "display(data_0.columns)\n",
    "\n",
    "# проверю на явные дубликаты\n",
    "print(f'Количество явных дубликатов: {data_0.duplicated().sum()}')\n",
    "\n",
    "# описание\n",
    "data_0.describe().T"
   ]
  },
  {
   "cell_type": "markdown",
   "metadata": {},
   "source": [
    "Имеется нулевое значение в признаке 'product'."
   ]
  },
  {
   "cell_type": "code",
   "execution_count": 5,
   "metadata": {
    "scrolled": true
   },
   "outputs": [
    {
     "data": {
      "text/html": [
       "<div>\n",
       "<style scoped>\n",
       "    .dataframe tbody tr th:only-of-type {\n",
       "        vertical-align: middle;\n",
       "    }\n",
       "\n",
       "    .dataframe tbody tr th {\n",
       "        vertical-align: top;\n",
       "    }\n",
       "\n",
       "    .dataframe thead th {\n",
       "        text-align: right;\n",
       "    }\n",
       "</style>\n",
       "<table border=\"1\" class=\"dataframe\">\n",
       "  <thead>\n",
       "    <tr style=\"text-align: right;\">\n",
       "      <th></th>\n",
       "      <th>id</th>\n",
       "      <th>f0</th>\n",
       "      <th>f1</th>\n",
       "      <th>f2</th>\n",
       "      <th>product</th>\n",
       "    </tr>\n",
       "  </thead>\n",
       "  <tbody>\n",
       "    <tr>\n",
       "      <th>57263</th>\n",
       "      <td>zCM5W</td>\n",
       "      <td>-0.702064</td>\n",
       "      <td>0.375992</td>\n",
       "      <td>0.236572</td>\n",
       "      <td>0.0</td>\n",
       "    </tr>\n",
       "  </tbody>\n",
       "</table>\n",
       "</div>"
      ],
      "text/plain": [
       "          id        f0        f1        f2  product\n",
       "57263  zCM5W -0.702064  0.375992  0.236572      0.0"
      ]
     },
     "execution_count": 5,
     "metadata": {},
     "output_type": "execute_result"
    }
   ],
   "source": [
    "data_0.query('product == 0').head()"
   ]
  },
  {
   "cell_type": "markdown",
   "metadata": {},
   "source": [
    "Всего одна пустая скважина - не окажет влияния на модель. \n",
    "Для категориальных данных я бы просто оценил соотношении классов. Так как в данном случае целевой признак это количественные данные то взгляну на распределение количества продукта внутри целевого признака с помощью визуализации."
   ]
  },
  {
   "cell_type": "code",
   "execution_count": 6,
   "metadata": {},
   "outputs": [],
   "source": [
    "# задам размер графика\n",
    "sns.set(rc={'figure.figsize':(20,10)})"
   ]
  },
  {
   "cell_type": "code",
   "execution_count": 7,
   "metadata": {},
   "outputs": [
    {
     "data": {
      "text/plain": [
       "<AxesSubplot:xlabel='Volume (thousand barrels)', ylabel='Number of Wells'>"
      ]
     },
     "execution_count": 7,
     "metadata": {},
     "output_type": "execute_result"
    },
    {
     "data": {
      "image/png": "[encoded data removed]",
      "text/plain": [
       "<Figure size 1440x720 with 1 Axes>"
      ]
     },
     "metadata": {},
     "output_type": "display_data"
    }
   ],
   "source": [
    "# дам название графику для наглядности\n",
    "plt.xlabel(\"Volume (thousand barrels)\")\n",
    "plt.ylabel(\"Number of Wells\")\n",
    "\n",
    "plt.suptitle('Distibution of Produect Between Wells, Geodata 0 ', size='xx-large')\n",
    "sns.histplot(data_0['product'])"
   ]
  },
  {
   "cell_type": "markdown",
   "metadata": {},
   "source": [
    "Несколько пиков, но в целом распредление близко к нормальному."
   ]
  },
  {
   "cell_type": "markdown",
   "metadata": {},
   "source": [
    "#### Регион 1"
   ]
  },
  {
   "cell_type": "code",
   "execution_count": 8,
   "metadata": {},
   "outputs": [],
   "source": [
    "data_1 = pd.read_csv('/datasets/geo_data_1.csv')"
   ]
  },
  {
   "cell_type": "code",
   "execution_count": 9,
   "metadata": {},
   "outputs": [
    {
     "name": "stdout",
     "output_type": "stream",
     "text": [
      "<class 'pandas.core.frame.DataFrame'>\n",
      "RangeIndex: 100000 entries, 0 to 99999\n",
      "Data columns (total 5 columns):\n",
      " #   Column   Non-Null Count   Dtype  \n",
      "---  ------   --------------   -----  \n",
      " 0   id       100000 non-null  object \n",
      " 1   f0       100000 non-null  float64\n",
      " 2   f1       100000 non-null  float64\n",
      " 3   f2       100000 non-null  float64\n",
      " 4   product  100000 non-null  float64\n",
      "dtypes: float64(4), object(1)\n",
      "memory usage: 3.8+ MB\n"
     ]
    },
    {
     "data": {
      "text/html": [
       "<div>\n",
       "<style scoped>\n",
       "    .dataframe tbody tr th:only-of-type {\n",
       "        vertical-align: middle;\n",
       "    }\n",
       "\n",
       "    .dataframe tbody tr th {\n",
       "        vertical-align: top;\n",
       "    }\n",
       "\n",
       "    .dataframe thead th {\n",
       "        text-align: right;\n",
       "    }\n",
       "</style>\n",
       "<table border=\"1\" class=\"dataframe\">\n",
       "  <thead>\n",
       "    <tr style=\"text-align: right;\">\n",
       "      <th></th>\n",
       "      <th>id</th>\n",
       "      <th>f0</th>\n",
       "      <th>f1</th>\n",
       "      <th>f2</th>\n",
       "      <th>product</th>\n",
       "    </tr>\n",
       "  </thead>\n",
       "  <tbody>\n",
       "    <tr>\n",
       "      <th>1990</th>\n",
       "      <td>k3ItK</td>\n",
       "      <td>6.882722</td>\n",
       "      <td>-2.568060</td>\n",
       "      <td>1.003313</td>\n",
       "      <td>26.953261</td>\n",
       "    </tr>\n",
       "    <tr>\n",
       "      <th>2337</th>\n",
       "      <td>MG4wD</td>\n",
       "      <td>-0.518553</td>\n",
       "      <td>-1.283014</td>\n",
       "      <td>2.994863</td>\n",
       "      <td>80.859783</td>\n",
       "    </tr>\n",
       "    <tr>\n",
       "      <th>1159</th>\n",
       "      <td>VdZfJ</td>\n",
       "      <td>1.550666</td>\n",
       "      <td>-2.547108</td>\n",
       "      <td>0.995368</td>\n",
       "      <td>26.953261</td>\n",
       "    </tr>\n",
       "    <tr>\n",
       "      <th>50315</th>\n",
       "      <td>XHDzw</td>\n",
       "      <td>-13.558492</td>\n",
       "      <td>-10.131454</td>\n",
       "      <td>3.001778</td>\n",
       "      <td>84.038886</td>\n",
       "    </tr>\n",
       "    <tr>\n",
       "      <th>88102</th>\n",
       "      <td>yPyAM</td>\n",
       "      <td>-11.656993</td>\n",
       "      <td>-2.121331</td>\n",
       "      <td>4.006453</td>\n",
       "      <td>110.992147</td>\n",
       "    </tr>\n",
       "  </tbody>\n",
       "</table>\n",
       "</div>"
      ],
      "text/plain": [
       "          id         f0         f1        f2     product\n",
       "1990   k3ItK   6.882722  -2.568060  1.003313   26.953261\n",
       "2337   MG4wD  -0.518553  -1.283014  2.994863   80.859783\n",
       "1159   VdZfJ   1.550666  -2.547108  0.995368   26.953261\n",
       "50315  XHDzw -13.558492 -10.131454  3.001778   84.038886\n",
       "88102  yPyAM -11.656993  -2.121331  4.006453  110.992147"
      ]
     },
     "metadata": {},
     "output_type": "display_data"
    },
    {
     "data": {
      "text/plain": [
       "Index(['id', 'f0', 'f1', 'f2', 'product'], dtype='object')"
      ]
     },
     "metadata": {},
     "output_type": "display_data"
    },
    {
     "name": "stdout",
     "output_type": "stream",
     "text": [
      "Количество явных дубликатов: 0\n"
     ]
    },
    {
     "data": {
      "text/html": [
       "<div>\n",
       "<style scoped>\n",
       "    .dataframe tbody tr th:only-of-type {\n",
       "        vertical-align: middle;\n",
       "    }\n",
       "\n",
       "    .dataframe tbody tr th {\n",
       "        vertical-align: top;\n",
       "    }\n",
       "\n",
       "    .dataframe thead th {\n",
       "        text-align: right;\n",
       "    }\n",
       "</style>\n",
       "<table border=\"1\" class=\"dataframe\">\n",
       "  <thead>\n",
       "    <tr style=\"text-align: right;\">\n",
       "      <th></th>\n",
       "      <th>count</th>\n",
       "      <th>mean</th>\n",
       "      <th>std</th>\n",
       "      <th>min</th>\n",
       "      <th>25%</th>\n",
       "      <th>50%</th>\n",
       "      <th>75%</th>\n",
       "      <th>max</th>\n",
       "    </tr>\n",
       "  </thead>\n",
       "  <tbody>\n",
       "    <tr>\n",
       "      <th>f0</th>\n",
       "      <td>100000.0</td>\n",
       "      <td>1.141296</td>\n",
       "      <td>8.965932</td>\n",
       "      <td>-31.609576</td>\n",
       "      <td>-6.298551</td>\n",
       "      <td>1.153055</td>\n",
       "      <td>8.621015</td>\n",
       "      <td>29.421755</td>\n",
       "    </tr>\n",
       "    <tr>\n",
       "      <th>f1</th>\n",
       "      <td>100000.0</td>\n",
       "      <td>-4.796579</td>\n",
       "      <td>5.119872</td>\n",
       "      <td>-26.358598</td>\n",
       "      <td>-8.267985</td>\n",
       "      <td>-4.813172</td>\n",
       "      <td>-1.332816</td>\n",
       "      <td>18.734063</td>\n",
       "    </tr>\n",
       "    <tr>\n",
       "      <th>f2</th>\n",
       "      <td>100000.0</td>\n",
       "      <td>2.494541</td>\n",
       "      <td>1.703572</td>\n",
       "      <td>-0.018144</td>\n",
       "      <td>1.000021</td>\n",
       "      <td>2.011479</td>\n",
       "      <td>3.999904</td>\n",
       "      <td>5.019721</td>\n",
       "    </tr>\n",
       "    <tr>\n",
       "      <th>product</th>\n",
       "      <td>100000.0</td>\n",
       "      <td>68.825000</td>\n",
       "      <td>45.944423</td>\n",
       "      <td>0.000000</td>\n",
       "      <td>26.953261</td>\n",
       "      <td>57.085625</td>\n",
       "      <td>107.813044</td>\n",
       "      <td>137.945408</td>\n",
       "    </tr>\n",
       "  </tbody>\n",
       "</table>\n",
       "</div>"
      ],
      "text/plain": [
       "            count       mean        std        min        25%        50%  \\\n",
       "f0       100000.0   1.141296   8.965932 -31.609576  -6.298551   1.153055   \n",
       "f1       100000.0  -4.796579   5.119872 -26.358598  -8.267985  -4.813172   \n",
       "f2       100000.0   2.494541   1.703572  -0.018144   1.000021   2.011479   \n",
       "product  100000.0  68.825000  45.944423   0.000000  26.953261  57.085625   \n",
       "\n",
       "                75%         max  \n",
       "f0         8.621015   29.421755  \n",
       "f1        -1.332816   18.734063  \n",
       "f2         3.999904    5.019721  \n",
       "product  107.813044  137.945408  "
      ]
     },
     "execution_count": 9,
     "metadata": {},
     "output_type": "execute_result"
    }
   ],
   "source": [
    "# получаю общую сводку\n",
    "data_1.info()\n",
    "\n",
    "# проверю на корректный вывод\n",
    "display(data_1.sample(5))\n",
    "\n",
    "# проверяю имена колонок на пробелы\n",
    "display(data_1.columns)\n",
    "\n",
    "# проверю на явные дубликаты\n",
    "print(f'Количество явных дубликатов: {data_1.duplicated().sum()}')\n",
    "\n",
    "# описание\n",
    "data_1.describe().T"
   ]
  },
  {
   "cell_type": "markdown",
   "metadata": {},
   "source": [
    "Имеется нулевое значение в признаке 'product'."
   ]
  },
  {
   "cell_type": "code",
   "execution_count": 10,
   "metadata": {
    "scrolled": true
   },
   "outputs": [
    {
     "data": {
      "text/html": [
       "<div>\n",
       "<style scoped>\n",
       "    .dataframe tbody tr th:only-of-type {\n",
       "        vertical-align: middle;\n",
       "    }\n",
       "\n",
       "    .dataframe tbody tr th {\n",
       "        vertical-align: top;\n",
       "    }\n",
       "\n",
       "    .dataframe thead th {\n",
       "        text-align: right;\n",
       "    }\n",
       "</style>\n",
       "<table border=\"1\" class=\"dataframe\">\n",
       "  <thead>\n",
       "    <tr style=\"text-align: right;\">\n",
       "      <th></th>\n",
       "      <th>id</th>\n",
       "      <th>f0</th>\n",
       "      <th>f1</th>\n",
       "      <th>f2</th>\n",
       "      <th>product</th>\n",
       "    </tr>\n",
       "  </thead>\n",
       "  <tbody>\n",
       "    <tr>\n",
       "      <th>11</th>\n",
       "      <td>OXyvW</td>\n",
       "      <td>16.320755</td>\n",
       "      <td>-0.562946</td>\n",
       "      <td>-0.001783</td>\n",
       "      <td>0.0</td>\n",
       "    </tr>\n",
       "    <tr>\n",
       "      <th>13</th>\n",
       "      <td>igmai</td>\n",
       "      <td>6.695604</td>\n",
       "      <td>-0.749449</td>\n",
       "      <td>-0.007630</td>\n",
       "      <td>0.0</td>\n",
       "    </tr>\n",
       "    <tr>\n",
       "      <th>62</th>\n",
       "      <td>Qjy5w</td>\n",
       "      <td>21.418478</td>\n",
       "      <td>-5.134490</td>\n",
       "      <td>-0.002836</td>\n",
       "      <td>0.0</td>\n",
       "    </tr>\n",
       "    <tr>\n",
       "      <th>63</th>\n",
       "      <td>G6WCj</td>\n",
       "      <td>6.822701</td>\n",
       "      <td>3.104979</td>\n",
       "      <td>-0.000723</td>\n",
       "      <td>0.0</td>\n",
       "    </tr>\n",
       "    <tr>\n",
       "      <th>77</th>\n",
       "      <td>MzQhL</td>\n",
       "      <td>6.750150</td>\n",
       "      <td>-11.893512</td>\n",
       "      <td>-0.001601</td>\n",
       "      <td>0.0</td>\n",
       "    </tr>\n",
       "  </tbody>\n",
       "</table>\n",
       "</div>"
      ],
      "text/plain": [
       "       id         f0         f1        f2  product\n",
       "11  OXyvW  16.320755  -0.562946 -0.001783      0.0\n",
       "13  igmai   6.695604  -0.749449 -0.007630      0.0\n",
       "62  Qjy5w  21.418478  -5.134490 -0.002836      0.0\n",
       "63  G6WCj   6.822701   3.104979 -0.000723      0.0\n",
       "77  MzQhL   6.750150 -11.893512 -0.001601      0.0"
      ]
     },
     "execution_count": 10,
     "metadata": {},
     "output_type": "execute_result"
    }
   ],
   "source": [
    "data_1.query('product == 0').head()"
   ]
  },
  {
   "cell_type": "code",
   "execution_count": 11,
   "metadata": {
    "scrolled": true
   },
   "outputs": [
    {
     "data": {
      "text/plain": [
       "8235"
      ]
     },
     "execution_count": 11,
     "metadata": {},
     "output_type": "execute_result"
    }
   ],
   "source": [
    "data_1.query('product == 0').shape[0]"
   ]
  },
  {
   "cell_type": "markdown",
   "metadata": {},
   "source": [
    "Большое количество нулевых скважин. Расчет процента не нужен, при 100 000 строк получаем 8.235% \"нулевок\".\n",
    "\n",
    "Необходимо оценить распределение объема по скважинам."
   ]
  },
  {
   "cell_type": "code",
   "execution_count": 12,
   "metadata": {},
   "outputs": [
    {
     "data": {
      "text/plain": [
       "<AxesSubplot:xlabel='product', ylabel='Count'>"
      ]
     },
     "execution_count": 12,
     "metadata": {},
     "output_type": "execute_result"
    },
    {
     "data": {
      "image/png": "[encoded data removed]",
      "text/plain": [
       "<Figure size 1440x720 with 1 Axes>"
      ]
     },
     "metadata": {},
     "output_type": "display_data"
    }
   ],
   "source": [
    "plt.suptitle('Distibution of Produect Between Wells, Geodata 1 ', size='xx-large')\n",
    "sns.histplot(data_1['product'])"
   ]
  },
  {
   "cell_type": "markdown",
   "metadata": {},
   "source": [
    "Очень странное распределение. Равномерное, с большим и схожим шагом между значениями. Возможно из-за ошибки работы модели предсказания объемов, либо ошибки выгрузки данных. Либо это искусственный набор данных.\n",
    "\n",
    "Взгляну на количественное представление каждого из значений целевого признака."
   ]
  },
  {
   "cell_type": "code",
   "execution_count": 13,
   "metadata": {},
   "outputs": [
    {
     "data": {
      "text/plain": [
       "53.906522     8472\n",
       "26.953261     8468\n",
       "84.038886     8431\n",
       "57.085625     8390\n",
       "3.179103      8337\n",
       "80.859783     8320\n",
       "30.132364     8306\n",
       "134.766305    8304\n",
       "110.992147    8303\n",
       "0.000000      8235\n",
       "137.945408    8233\n",
       "107.813044    8201\n",
       "Name: product, dtype: int64"
      ]
     },
     "execution_count": 13,
     "metadata": {},
     "output_type": "execute_result"
    }
   ],
   "source": [
    "data_1['product'].value_counts()"
   ]
  },
  {
   "cell_type": "markdown",
   "metadata": {},
   "source": [
    "#### Регион 2"
   ]
  },
  {
   "cell_type": "code",
   "execution_count": 14,
   "metadata": {},
   "outputs": [],
   "source": [
    "data_2 = pd.read_csv('/datasets/geo_data_2.csv')"
   ]
  },
  {
   "cell_type": "code",
   "execution_count": 15,
   "metadata": {},
   "outputs": [
    {
     "name": "stdout",
     "output_type": "stream",
     "text": [
      "<class 'pandas.core.frame.DataFrame'>\n",
      "RangeIndex: 100000 entries, 0 to 99999\n",
      "Data columns (total 5 columns):\n",
      " #   Column   Non-Null Count   Dtype  \n",
      "---  ------   --------------   -----  \n",
      " 0   id       100000 non-null  object \n",
      " 1   f0       100000 non-null  float64\n",
      " 2   f1       100000 non-null  float64\n",
      " 3   f2       100000 non-null  float64\n",
      " 4   product  100000 non-null  float64\n",
      "dtypes: float64(4), object(1)\n",
      "memory usage: 3.8+ MB\n"
     ]
    },
    {
     "data": {
      "text/html": [
       "<div>\n",
       "<style scoped>\n",
       "    .dataframe tbody tr th:only-of-type {\n",
       "        vertical-align: middle;\n",
       "    }\n",
       "\n",
       "    .dataframe tbody tr th {\n",
       "        vertical-align: top;\n",
       "    }\n",
       "\n",
       "    .dataframe thead th {\n",
       "        text-align: right;\n",
       "    }\n",
       "</style>\n",
       "<table border=\"1\" class=\"dataframe\">\n",
       "  <thead>\n",
       "    <tr style=\"text-align: right;\">\n",
       "      <th></th>\n",
       "      <th>id</th>\n",
       "      <th>f0</th>\n",
       "      <th>f1</th>\n",
       "      <th>f2</th>\n",
       "      <th>product</th>\n",
       "    </tr>\n",
       "  </thead>\n",
       "  <tbody>\n",
       "    <tr>\n",
       "      <th>44501</th>\n",
       "      <td>wawVM</td>\n",
       "      <td>1.784580</td>\n",
       "      <td>-2.277355</td>\n",
       "      <td>2.164149</td>\n",
       "      <td>61.487377</td>\n",
       "    </tr>\n",
       "    <tr>\n",
       "      <th>83243</th>\n",
       "      <td>5N39p</td>\n",
       "      <td>-4.545659</td>\n",
       "      <td>-0.278764</td>\n",
       "      <td>2.082688</td>\n",
       "      <td>70.564040</td>\n",
       "    </tr>\n",
       "    <tr>\n",
       "      <th>10091</th>\n",
       "      <td>eYXob</td>\n",
       "      <td>-1.315507</td>\n",
       "      <td>1.732310</td>\n",
       "      <td>1.490091</td>\n",
       "      <td>29.412162</td>\n",
       "    </tr>\n",
       "    <tr>\n",
       "      <th>2736</th>\n",
       "      <td>SMx78</td>\n",
       "      <td>-1.115599</td>\n",
       "      <td>1.067706</td>\n",
       "      <td>-3.448214</td>\n",
       "      <td>22.946418</td>\n",
       "    </tr>\n",
       "    <tr>\n",
       "      <th>86767</th>\n",
       "      <td>BbgDT</td>\n",
       "      <td>0.142421</td>\n",
       "      <td>2.149296</td>\n",
       "      <td>8.237691</td>\n",
       "      <td>169.298071</td>\n",
       "    </tr>\n",
       "  </tbody>\n",
       "</table>\n",
       "</div>"
      ],
      "text/plain": [
       "          id        f0        f1        f2     product\n",
       "44501  wawVM  1.784580 -2.277355  2.164149   61.487377\n",
       "83243  5N39p -4.545659 -0.278764  2.082688   70.564040\n",
       "10091  eYXob -1.315507  1.732310  1.490091   29.412162\n",
       "2736   SMx78 -1.115599  1.067706 -3.448214   22.946418\n",
       "86767  BbgDT  0.142421  2.149296  8.237691  169.298071"
      ]
     },
     "metadata": {},
     "output_type": "display_data"
    },
    {
     "data": {
      "text/plain": [
       "Index(['id', 'f0', 'f1', 'f2', 'product'], dtype='object')"
      ]
     },
     "metadata": {},
     "output_type": "display_data"
    },
    {
     "name": "stdout",
     "output_type": "stream",
     "text": [
      "Количество явных дубликатов: 0\n"
     ]
    },
    {
     "data": {
      "text/html": [
       "<div>\n",
       "<style scoped>\n",
       "    .dataframe tbody tr th:only-of-type {\n",
       "        vertical-align: middle;\n",
       "    }\n",
       "\n",
       "    .dataframe tbody tr th {\n",
       "        vertical-align: top;\n",
       "    }\n",
       "\n",
       "    .dataframe thead th {\n",
       "        text-align: right;\n",
       "    }\n",
       "</style>\n",
       "<table border=\"1\" class=\"dataframe\">\n",
       "  <thead>\n",
       "    <tr style=\"text-align: right;\">\n",
       "      <th></th>\n",
       "      <th>count</th>\n",
       "      <th>mean</th>\n",
       "      <th>std</th>\n",
       "      <th>min</th>\n",
       "      <th>25%</th>\n",
       "      <th>50%</th>\n",
       "      <th>75%</th>\n",
       "      <th>max</th>\n",
       "    </tr>\n",
       "  </thead>\n",
       "  <tbody>\n",
       "    <tr>\n",
       "      <th>f0</th>\n",
       "      <td>100000.0</td>\n",
       "      <td>0.002023</td>\n",
       "      <td>1.732045</td>\n",
       "      <td>-8.760004</td>\n",
       "      <td>-1.162288</td>\n",
       "      <td>0.009424</td>\n",
       "      <td>1.158535</td>\n",
       "      <td>7.238262</td>\n",
       "    </tr>\n",
       "    <tr>\n",
       "      <th>f1</th>\n",
       "      <td>100000.0</td>\n",
       "      <td>-0.002081</td>\n",
       "      <td>1.730417</td>\n",
       "      <td>-7.084020</td>\n",
       "      <td>-1.174820</td>\n",
       "      <td>-0.009482</td>\n",
       "      <td>1.163678</td>\n",
       "      <td>7.844801</td>\n",
       "    </tr>\n",
       "    <tr>\n",
       "      <th>f2</th>\n",
       "      <td>100000.0</td>\n",
       "      <td>2.495128</td>\n",
       "      <td>3.473445</td>\n",
       "      <td>-11.970335</td>\n",
       "      <td>0.130359</td>\n",
       "      <td>2.484236</td>\n",
       "      <td>4.858794</td>\n",
       "      <td>16.739402</td>\n",
       "    </tr>\n",
       "    <tr>\n",
       "      <th>product</th>\n",
       "      <td>100000.0</td>\n",
       "      <td>95.000000</td>\n",
       "      <td>44.749921</td>\n",
       "      <td>0.000000</td>\n",
       "      <td>59.450441</td>\n",
       "      <td>94.925613</td>\n",
       "      <td>130.595027</td>\n",
       "      <td>190.029838</td>\n",
       "    </tr>\n",
       "  </tbody>\n",
       "</table>\n",
       "</div>"
      ],
      "text/plain": [
       "            count       mean        std        min        25%        50%  \\\n",
       "f0       100000.0   0.002023   1.732045  -8.760004  -1.162288   0.009424   \n",
       "f1       100000.0  -0.002081   1.730417  -7.084020  -1.174820  -0.009482   \n",
       "f2       100000.0   2.495128   3.473445 -11.970335   0.130359   2.484236   \n",
       "product  100000.0  95.000000  44.749921   0.000000  59.450441  94.925613   \n",
       "\n",
       "                75%         max  \n",
       "f0         1.158535    7.238262  \n",
       "f1         1.163678    7.844801  \n",
       "f2         4.858794   16.739402  \n",
       "product  130.595027  190.029838  "
      ]
     },
     "execution_count": 15,
     "metadata": {},
     "output_type": "execute_result"
    }
   ],
   "source": [
    "# получаю общую сводку\n",
    "data_2.info()\n",
    "\n",
    "# проверю на корректный вывод\n",
    "display(data_2.sample(5))\n",
    "\n",
    "# проверяю имена колонок на пробелы\n",
    "display(data_2.columns)\n",
    "\n",
    "# проверю на явные дубликаты\n",
    "print(f'Количество явных дубликатов: {data_2.duplicated().sum()}')\n",
    "\n",
    "# описание\n",
    "data_2.describe().T"
   ]
  },
  {
   "cell_type": "markdown",
   "metadata": {},
   "source": [
    "Имеется нулевое значение в признаке 'product'."
   ]
  },
  {
   "cell_type": "code",
   "execution_count": 16,
   "metadata": {
    "scrolled": true
   },
   "outputs": [
    {
     "data": {
      "text/html": [
       "<div>\n",
       "<style scoped>\n",
       "    .dataframe tbody tr th:only-of-type {\n",
       "        vertical-align: middle;\n",
       "    }\n",
       "\n",
       "    .dataframe tbody tr th {\n",
       "        vertical-align: top;\n",
       "    }\n",
       "\n",
       "    .dataframe thead th {\n",
       "        text-align: right;\n",
       "    }\n",
       "</style>\n",
       "<table border=\"1\" class=\"dataframe\">\n",
       "  <thead>\n",
       "    <tr style=\"text-align: right;\">\n",
       "      <th></th>\n",
       "      <th>id</th>\n",
       "      <th>f0</th>\n",
       "      <th>f1</th>\n",
       "      <th>f2</th>\n",
       "      <th>product</th>\n",
       "    </tr>\n",
       "  </thead>\n",
       "  <tbody>\n",
       "    <tr>\n",
       "      <th>68149</th>\n",
       "      <td>qeefd</td>\n",
       "      <td>-0.865596</td>\n",
       "      <td>-1.615247</td>\n",
       "      <td>-4.126441</td>\n",
       "      <td>0.0</td>\n",
       "    </tr>\n",
       "  </tbody>\n",
       "</table>\n",
       "</div>"
      ],
      "text/plain": [
       "          id        f0        f1        f2  product\n",
       "68149  qeefd -0.865596 -1.615247 -4.126441      0.0"
      ]
     },
     "execution_count": 16,
     "metadata": {},
     "output_type": "execute_result"
    }
   ],
   "source": [
    "data_2.query('product == 0').head()"
   ]
  },
  {
   "cell_type": "markdown",
   "metadata": {},
   "source": [
    "Всего одна нулевая скважина. Оценю распределение."
   ]
  },
  {
   "cell_type": "code",
   "execution_count": 17,
   "metadata": {},
   "outputs": [
    {
     "data": {
      "text/plain": [
       "<AxesSubplot:xlabel='product', ylabel='Count'>"
      ]
     },
     "execution_count": 17,
     "metadata": {},
     "output_type": "execute_result"
    },
    {
     "data": {
      "image/png": "[encoded data removed]",
      "text/plain": [
       "<Figure size 1440x720 with 1 Axes>"
      ]
     },
     "metadata": {},
     "output_type": "display_data"
    }
   ],
   "source": [
    "plt.suptitle('Distibution of Produect Between Wells, Geodata 2 ', size='xx-large')\n",
    "sns.histplot(data_2['product'])"
   ]
  },
  {
   "cell_type": "markdown",
   "metadata": {},
   "source": [
    "Распределение похоже на регион 0, но с менее выраженными промежуточными пиками."
   ]
  },
  {
   "cell_type": "markdown",
   "metadata": {},
   "source": [
    "### Подготовка данных"
   ]
  },
  {
   "cell_type": "markdown",
   "metadata": {},
   "source": [
    "Предварительные замечания:\n",
    "- Признак ['id'] не требуется для обучения модели;\n",
    "- Регион 1 демонстрирует необычное распределение значений в целевом признаке и содержит более 8% нулевых значений."
   ]
  },
  {
   "cell_type": "code",
   "execution_count": 18,
   "metadata": {},
   "outputs": [],
   "source": [
    "data = [data_0, data_1, data_2]\n",
    "for df in data:\n",
    "    df.drop('id', axis=1, inplace=True)"
   ]
  },
  {
   "cell_type": "code",
   "execution_count": 19,
   "metadata": {},
   "outputs": [
    {
     "name": "stdout",
     "output_type": "stream",
     "text": [
      "<class 'pandas.core.frame.DataFrame'>\n",
      "RangeIndex: 100000 entries, 0 to 99999\n",
      "Data columns (total 4 columns):\n",
      " #   Column   Non-Null Count   Dtype  \n",
      "---  ------   --------------   -----  \n",
      " 0   f0       100000 non-null  float64\n",
      " 1   f1       100000 non-null  float64\n",
      " 2   f2       100000 non-null  float64\n",
      " 3   product  100000 non-null  float64\n",
      "dtypes: float64(4)\n",
      "memory usage: 3.1 MB\n"
     ]
    }
   ],
   "source": [
    "data_0.info()"
   ]
  },
  {
   "cell_type": "markdown",
   "metadata": {},
   "source": [
    "Кроме исключения признака ['id'] - ппредоставленные данные чисты и не требуют подготовки для работы с алгоритмами машинного обучения."
   ]
  },
  {
   "cell_type": "markdown",
   "metadata": {},
   "source": [
    "### Вывод"
   ]
  },
  {
   "cell_type": "markdown",
   "metadata": {},
   "source": [
    "По итогам предобработки:\n",
    "- Отброшен не требующийся для обучения моделей признак ['id'].\n",
    "\n",
    "Чтобы избежать ошибочных выводов, геобходимо уведомить заказчика об особенностях данных региона 1. Так как в даннной ситуации подобной возможности нет, буду работать с ними как с корректными.  \n",
    "Подготовка данных завершена."
   ]
  },
  {
   "cell_type": "markdown",
   "metadata": {},
   "source": [
    "## Обучение и проверка модели"
   ]
  },
  {
   "cell_type": "markdown",
   "metadata": {},
   "source": [
    "### Подготовка выборок"
   ]
  },
  {
   "cell_type": "code",
   "execution_count": 20,
   "metadata": {},
   "outputs": [],
   "source": [
    "# создам функцию для разбивки данных на обучающую и валидационную выборки\n",
    "\n",
    "def data_split(df, target):\n",
    "    features = df.drop([target], axis=1)\n",
    "    target = df[target]\n",
    "    \n",
    "# для фиксации результата здесь использую число 331958815, полученное генератором случайных чисел    \n",
    "    features_train, features_valid, target_train, target_valid = train_test_split(\n",
    "    features,\n",
    "    target,\n",
    "    test_size=0.25,\n",
    "    random_state=331958815)\n",
    "    \n",
    "    return features, target, features_train, features_valid, target_train, target_valid"
   ]
  },
  {
   "cell_type": "code",
   "execution_count": 21,
   "metadata": {},
   "outputs": [],
   "source": [
    "# разобью данные\n",
    "\n",
    "features_0, target_0, features_train_0, features_valid_0, target_train_0, target_valid_0 = data_split(data_0, 'product')\n",
    "\n",
    "features_1, target_1, features_train_1, features_valid_1, target_train_1, target_valid_1 = data_split(data_1, 'product')\n",
    "\n",
    "features_2, target_2, features_train_2, features_valid_2, target_train_2, target_valid_2 = data_split(data_2, 'product')"
   ]
  },
  {
   "cell_type": "code",
   "execution_count": 22,
   "metadata": {},
   "outputs": [
    {
     "data": {
      "text/html": [
       "<div>\n",
       "<style scoped>\n",
       "    .dataframe tbody tr th:only-of-type {\n",
       "        vertical-align: middle;\n",
       "    }\n",
       "\n",
       "    .dataframe tbody tr th {\n",
       "        vertical-align: top;\n",
       "    }\n",
       "\n",
       "    .dataframe thead th {\n",
       "        text-align: right;\n",
       "    }\n",
       "</style>\n",
       "<table border=\"1\" class=\"dataframe\">\n",
       "  <thead>\n",
       "    <tr style=\"text-align: right;\">\n",
       "      <th></th>\n",
       "      <th>f0</th>\n",
       "      <th>f1</th>\n",
       "      <th>f2</th>\n",
       "    </tr>\n",
       "  </thead>\n",
       "  <tbody>\n",
       "    <tr>\n",
       "      <th>86162</th>\n",
       "      <td>-0.075890</td>\n",
       "      <td>1.005965</td>\n",
       "      <td>0.577447</td>\n",
       "    </tr>\n",
       "    <tr>\n",
       "      <th>86743</th>\n",
       "      <td>0.845381</td>\n",
       "      <td>0.485103</td>\n",
       "      <td>2.746172</td>\n",
       "    </tr>\n",
       "    <tr>\n",
       "      <th>91244</th>\n",
       "      <td>-0.033873</td>\n",
       "      <td>0.260755</td>\n",
       "      <td>2.099883</td>\n",
       "    </tr>\n",
       "    <tr>\n",
       "      <th>69740</th>\n",
       "      <td>0.240810</td>\n",
       "      <td>-0.066526</td>\n",
       "      <td>-1.500503</td>\n",
       "    </tr>\n",
       "    <tr>\n",
       "      <th>70031</th>\n",
       "      <td>0.189928</td>\n",
       "      <td>-0.064951</td>\n",
       "      <td>2.415255</td>\n",
       "    </tr>\n",
       "  </tbody>\n",
       "</table>\n",
       "</div>"
      ],
      "text/plain": [
       "             f0        f1        f2\n",
       "86162 -0.075890  1.005965  0.577447\n",
       "86743  0.845381  0.485103  2.746172\n",
       "91244 -0.033873  0.260755  2.099883\n",
       "69740  0.240810 -0.066526 -1.500503\n",
       "70031  0.189928 -0.064951  2.415255"
      ]
     },
     "metadata": {},
     "output_type": "display_data"
    },
    {
     "data": {
      "text/plain": [
       "55599    57.085625\n",
       "77066     0.000000\n",
       "80117    84.038886\n",
       "52313    57.085625\n",
       "45966    80.859783\n",
       "Name: product, dtype: float64"
      ]
     },
     "execution_count": 22,
     "metadata": {},
     "output_type": "execute_result"
    }
   ],
   "source": [
    "# проверю\n",
    "\n",
    "display(features_train_0.head())\n",
    "\n",
    "target_valid_1.head()"
   ]
  },
  {
   "cell_type": "markdown",
   "metadata": {},
   "source": [
    "### Обучение и применение модели"
   ]
  },
  {
   "cell_type": "code",
   "execution_count": 23,
   "metadata": {},
   "outputs": [],
   "source": [
    "# для целей данного проекта использую модель с гиперпараметрами по умолчанию\n",
    "model = LinearRegression()"
   ]
  },
  {
   "cell_type": "markdown",
   "metadata": {},
   "source": [
    "#### Регион 0"
   ]
  },
  {
   "cell_type": "code",
   "execution_count": 24,
   "metadata": {
    "scrolled": true
   },
   "outputs": [
    {
     "data": {
      "text/plain": [
       "LinearRegression()"
      ]
     },
     "execution_count": 24,
     "metadata": {},
     "output_type": "execute_result"
    }
   ],
   "source": [
    "model.fit(features_train_0, target_train_0)"
   ]
  },
  {
   "cell_type": "code",
   "execution_count": 25,
   "metadata": {},
   "outputs": [
    {
     "name": "stdout",
     "output_type": "stream",
     "text": [
      "Среднее количество предсказанного сырья по региону 0: 92.50962790104397\n",
      "Среднее количество сырья валидационной выборки по региону 0: 92.17859190809033\n"
     ]
    },
    {
     "data": {
      "text/plain": [
       "('RMSE прогноза по региону 0:', 37.86102486745513)"
      ]
     },
     "execution_count": 25,
     "metadata": {},
     "output_type": "execute_result"
    }
   ],
   "source": [
    "prediction_0 = model.predict(features_valid_0)\n",
    "\n",
    "print('Среднее количество предсказанного сырья по региону 0:', prediction_0.mean())\n",
    "print('Среднее количество сырья валидационной выборки по региону 0:', target_valid_0.mean())\n",
    "'RMSE прогноза по региону 0:', mean_squared_error(target_valid_0, prediction_0)**0.5"
   ]
  },
  {
   "cell_type": "code",
   "execution_count": 26,
   "metadata": {},
   "outputs": [
    {
     "data": {
      "text/plain": [
       "<AxesSubplot:ylabel='Count'>"
      ]
     },
     "execution_count": 26,
     "metadata": {},
     "output_type": "execute_result"
    },
    {
     "data": {
      "image/png": "[encoded data removed]",
      "text/plain": [
       "<Figure size 1440x720 with 1 Axes>"
      ]
     },
     "metadata": {},
     "output_type": "display_data"
    }
   ],
   "source": [
    "comparison_0 = {'geodata_0_product' : target_valid_0,\n",
    "            'geodata_0_prediction' : prediction_0}\n",
    "comparison_0 = pd.DataFrame(comparison_0, columns = ['geodata_0_product', 'geodata_0_prediction'])\n",
    "\n",
    "sns.histplot(comparison_0)"
   ]
  },
  {
   "cell_type": "code",
   "execution_count": 27,
   "metadata": {},
   "outputs": [
    {
     "name": "stdout",
     "output_type": "stream",
     "text": [
      "Проверка на адекватность сравнением c RMSE полученным методом кросс-валидации\n"
     ]
    },
    {
     "data": {
      "text/plain": [
       "array([37.87816204, 37.82598584, 37.60116336, 37.47474574, 37.69130564])"
      ]
     },
     "execution_count": 27,
     "metadata": {},
     "output_type": "execute_result"
    }
   ],
   "source": [
    "print('Проверка на адекватность сравнением c RMSE полученным методом кросс-валидации')\n",
    "\n",
    "accuracies = cross_val_score(estimator=model, X=features_0, y=target_0, scoring='neg_mean_squared_error', cv=5)\n",
    "abs(accuracies)**0.5"
   ]
  },
  {
   "cell_type": "markdown",
   "metadata": {},
   "source": [
    "#### Регион 1"
   ]
  },
  {
   "cell_type": "code",
   "execution_count": 28,
   "metadata": {},
   "outputs": [
    {
     "data": {
      "text/plain": [
       "LinearRegression()"
      ]
     },
     "execution_count": 28,
     "metadata": {},
     "output_type": "execute_result"
    }
   ],
   "source": [
    "model.fit(features_train_1, target_train_1)"
   ]
  },
  {
   "cell_type": "code",
   "execution_count": 29,
   "metadata": {},
   "outputs": [
    {
     "name": "stdout",
     "output_type": "stream",
     "text": [
      "Среднее количество предсказанного сырья по региону 1: 68.72076660987298\n",
      "Среднее количество сырья валидационной выборки по региону 1: 68.7148758865177\n"
     ]
    },
    {
     "data": {
      "text/plain": [
       "('RMSE прогноза по региону 1:', 0.8900512067696233)"
      ]
     },
     "execution_count": 29,
     "metadata": {},
     "output_type": "execute_result"
    }
   ],
   "source": [
    "prediction_1 = model.predict(features_valid_1)\n",
    "\n",
    "print('Среднее количество предсказанного сырья по региону 1:', prediction_1.mean())\n",
    "print('Среднее количество сырья валидационной выборки по региону 1:', target_valid_1.mean())\n",
    "'RMSE прогноза по региону 1:', mean_squared_error(target_valid_1, prediction_1)**0.5"
   ]
  },
  {
   "cell_type": "code",
   "execution_count": 30,
   "metadata": {},
   "outputs": [
    {
     "data": {
      "text/plain": [
       "<AxesSubplot:ylabel='Count'>"
      ]
     },
     "execution_count": 30,
     "metadata": {},
     "output_type": "execute_result"
    },
    {
     "data": {
      "image/png": "[encoded data removed]",
      "text/plain": [
       "<Figure size 1440x720 with 1 Axes>"
      ]
     },
     "metadata": {},
     "output_type": "display_data"
    }
   ],
   "source": [
    "comparison_1 = {'geodata_1_product' : target_valid_1,\n",
    "            'geodata_1_prediction' : prediction_1}\n",
    "comparison_1 = pd.DataFrame(comparison_1, columns = ['geodata_1_product', 'geodata_1_prediction'])\n",
    "\n",
    "sns.histplot(comparison_1)"
   ]
  },
  {
   "cell_type": "code",
   "execution_count": 31,
   "metadata": {},
   "outputs": [
    {
     "name": "stdout",
     "output_type": "stream",
     "text": [
      "Проверка на адекватность сравнением c RMSE полученным методом кросс-валидации\n"
     ]
    },
    {
     "data": {
      "text/plain": [
       "array([0.88598882, 0.89342077, 0.89355793, 0.88417623, 0.89489574])"
      ]
     },
     "execution_count": 31,
     "metadata": {},
     "output_type": "execute_result"
    }
   ],
   "source": [
    "print('Проверка на адекватность сравнением c RMSE полученным методом кросс-валидации')\n",
    "\n",
    "accuracies = cross_val_score(estimator=model, X=features_1, y=target_1, scoring='neg_mean_squared_error', cv=5)\n",
    "abs(accuracies)**0.5"
   ]
  },
  {
   "cell_type": "markdown",
   "metadata": {},
   "source": [
    "#### Регион 2"
   ]
  },
  {
   "cell_type": "code",
   "execution_count": 32,
   "metadata": {},
   "outputs": [
    {
     "data": {
      "text/plain": [
       "LinearRegression()"
      ]
     },
     "execution_count": 32,
     "metadata": {},
     "output_type": "execute_result"
    }
   ],
   "source": [
    "model.fit(features_train_2, target_train_2)"
   ]
  },
  {
   "cell_type": "code",
   "execution_count": 33,
   "metadata": {},
   "outputs": [
    {
     "name": "stdout",
     "output_type": "stream",
     "text": [
      "Среднее количество предсказанного сырья по региону 2: 94.8789094835073\n",
      "Среднее количество сырья валидационной выборки по региону 2: 94.98860323084635\n"
     ]
    },
    {
     "data": {
      "text/plain": [
       "('RMSE прогноза по региону 2:', 40.019073503442364)"
      ]
     },
     "execution_count": 33,
     "metadata": {},
     "output_type": "execute_result"
    }
   ],
   "source": [
    "prediction_2 = model.predict(features_valid_2)\n",
    "\n",
    "print('Среднее количество предсказанного сырья по региону 2:', prediction_2.mean())\n",
    "print('Среднее количество сырья валидационной выборки по региону 2:', target_valid_2.mean())\n",
    "'RMSE прогноза по региону 2:', mean_squared_error(target_valid_2, prediction_2)**0.5"
   ]
  },
  {
   "cell_type": "code",
   "execution_count": 34,
   "metadata": {},
   "outputs": [
    {
     "data": {
      "text/plain": [
       "<AxesSubplot:ylabel='Count'>"
      ]
     },
     "execution_count": 34,
     "metadata": {},
     "output_type": "execute_result"
    },
    {
     "data": {
      "image/png": "[encoded data removed]",
      "text/plain": [
       "<Figure size 1440x720 with 1 Axes>"
      ]
     },
     "metadata": {},
     "output_type": "display_data"
    }
   ],
   "source": [
    "comparison_2 = {'geodata_2_product' : target_valid_2,\n",
    "            'geodata_2_prediction' : prediction_2}\n",
    "comparison_2 = pd.DataFrame(comparison_2, columns = ['geodata_2_product', 'geodata_2_prediction'])\n",
    "\n",
    "sns.histplot(comparison_2)"
   ]
  },
  {
   "cell_type": "code",
   "execution_count": 35,
   "metadata": {},
   "outputs": [
    {
     "name": "stdout",
     "output_type": "stream",
     "text": [
      "Проверка на адекватность сравнением c RMSE полученным методом кросс-валидации\n"
     ]
    },
    {
     "data": {
      "text/plain": [
       "array([40.36691764, 39.95701048, 40.05694196, 39.91844464, 39.9850842 ])"
      ]
     },
     "execution_count": 35,
     "metadata": {},
     "output_type": "execute_result"
    }
   ],
   "source": [
    "print('Проверка на адекватность сравнением c RMSE полученным методом кросс-валидации')\n",
    "\n",
    "accuracies = cross_val_score(estimator=model, X=features_2, y=target_2, scoring='neg_mean_squared_error', cv=5)\n",
    "abs(accuracies)**0.5"
   ]
  },
  {
   "cell_type": "markdown",
   "metadata": {},
   "source": [
    "### Вывод"
   ]
  },
  {
   "cell_type": "markdown",
   "metadata": {},
   "source": [
    "Наибольшая точность прогноза достигнута по региону 1, с RMSE всего 0.89. Скорее всего высокая точность достигнута путем переобучения модели на однотипных данных региона 1, и модель не пройдет проверку реальностью.\n",
    "\n",
    "На втором месте по точности прогноза находится регион 0 с RMSE 37.86.\n",
    "\n",
    "На третьем месте по точности прогноза находится регион 2 c RMSE 40.01."
   ]
  },
  {
   "cell_type": "markdown",
   "metadata": {},
   "source": [
    "## Подготовка к расчёту прибыли"
   ]
  },
  {
   "cell_type": "markdown",
   "metadata": {},
   "source": [
    "### Анализ ключевых значений"
   ]
  },
  {
   "cell_type": "markdown",
   "metadata": {},
   "source": [
    "Так как объем продукции указан в тысячх баррелей, то вместо увеличения числовых значений предлагаю взять за единицу измерения тысячу рублей."
   ]
  },
  {
   "cell_type": "code",
   "execution_count": 36,
   "metadata": {},
   "outputs": [],
   "source": [
    "# сохраню значения ключевые для расчета прибыли в переменных\n",
    "\n",
    "BUDGET = 10000000 # тыс. р.\n",
    "PRODUCT_PROFIT = 450 # тыс. р.\n",
    "WELLS = 500\n",
    "TOP_WELLS = 200\n",
    "RISK_THRESHOLD = 0.025"
   ]
  },
  {
   "cell_type": "code",
   "execution_count": 37,
   "metadata": {},
   "outputs": [
    {
     "name": "stdout",
     "output_type": "stream",
     "text": [
      "Средняя прибыль за точку требуемая для окупаемости бюджета (тыс.р.):\n"
     ]
    }
   ],
   "source": [
    "print('Средняя прибыль за точку требуемая для окупаемости бюджета (тыс.р.):')\n",
    "AVERAGE_PROFIT_REQUIRED = BUDGET / TOP_WELLS"
   ]
  },
  {
   "cell_type": "code",
   "execution_count": 38,
   "metadata": {},
   "outputs": [
    {
     "name": "stdout",
     "output_type": "stream",
     "text": [
      "Средний объем продукта на скважину необходимый для окупаемости бюджета (тыс. баррелей):\n"
     ]
    },
    {
     "data": {
      "text/plain": [
       "111.11111111111111"
      ]
     },
     "execution_count": 38,
     "metadata": {},
     "output_type": "execute_result"
    }
   ],
   "source": [
    "print('Средний объем продукта на скважину необходимый для окупаемости бюджета (тыс. баррелей):')\n",
    "AVERAGE_PROFIT_REQUIRED / PRODUCT_PROFIT"
   ]
  },
  {
   "cell_type": "code",
   "execution_count": 39,
   "metadata": {},
   "outputs": [
    {
     "name": "stdout",
     "output_type": "stream",
     "text": [
      "Количество продукта требуемое для окупаемости бюджета (тыс. баррелей):\n"
     ]
    },
    {
     "data": {
      "text/plain": [
       "22222.222222222223"
      ]
     },
     "execution_count": 39,
     "metadata": {},
     "output_type": "execute_result"
    }
   ],
   "source": [
    "print('Количество продукта требуемое для окупаемости бюджета (тыс. баррелей):')\n",
    "BUDGET / PRODUCT_PROFIT"
   ]
  },
  {
   "cell_type": "markdown",
   "metadata": {},
   "source": [
    "Рассчитаю средний запас сырья по регионам."
   ]
  },
  {
   "cell_type": "code",
   "execution_count": 40,
   "metadata": {
    "scrolled": true
   },
   "outputs": [
    {
     "name": "stdout",
     "output_type": "stream",
     "text": [
      "Средний запас сырья на скважину в регионе 0: 92.50000000000001\n",
      "Средний запас сырья на скважину в регионе 1: 68.82500000000002\n",
      "Средний запас сырья на скважину в регионе 2: 95.00000000000004\n"
     ]
    }
   ],
   "source": [
    "print('Средний запас сырья на скважину в регионе 0:', data_0['product'].mean())\n",
    "\n",
    "print('Средний запас сырья на скважину в регионе 1:', data_1['product'].mean())\n",
    "\n",
    "print('Средний запас сырья на скважину в регионе 2:', data_2['product'].mean())"
   ]
  },
  {
   "cell_type": "markdown",
   "metadata": {},
   "source": [
    "### Расчет прибыли по оптимистичному сценарию"
   ]
  },
  {
   "cell_type": "markdown",
   "metadata": {},
   "source": [
    "Рассчитаю средний запас сырья в 200 лучших спрогнозированных точках и сравню его со средним запасом в тех же точках по известным данным. В этом расчете я не определяю доверительный интервал и не учитываю RMSE - это оптимистичный прогноз."
   ]
  },
  {
   "cell_type": "code",
   "execution_count": 42,
   "metadata": {
    "scrolled": true
   },
   "outputs": [
    {
     "data": {
      "text/plain": [
       "'Средний запас сырья по прогнозу 200 лучших точек региона 0:'"
      ]
     },
     "metadata": {},
     "output_type": "display_data"
    },
    {
     "data": {
      "text/plain": [
       "geodata_0_product       149.681896\n",
       "geodata_0_prediction    154.541671\n",
       "dtype: float64"
      ]
     },
     "metadata": {},
     "output_type": "display_data"
    },
    {
     "data": {
      "text/plain": [
       "'Средний запас сырья по прогнозу 200 лучших точек региона 1:'"
      ]
     },
     "metadata": {},
     "output_type": "display_data"
    },
    {
     "data": {
      "text/plain": [
       "geodata_1_product       137.945408\n",
       "geodata_1_prediction    138.760743\n",
       "dtype: float64"
      ]
     },
     "metadata": {},
     "output_type": "display_data"
    },
    {
     "data": {
      "text/plain": [
       "'Средний запас сырья по прогнозу 200 лучших точек региона 2:'"
      ]
     },
     "metadata": {},
     "output_type": "display_data"
    },
    {
     "data": {
      "text/plain": [
       "geodata_2_product       137.545539\n",
       "geodata_2_prediction    148.157181\n",
       "dtype: float64"
      ]
     },
     "metadata": {},
     "output_type": "display_data"
    }
   ],
   "source": [
    "display('Средний запас сырья по прогнозу 200 лучших точек региона 0:',\n",
    "    comparison_0.sort_values(by='geodata_0_prediction', ascending=False).head(TOP_WELLS).mean())\n",
    "\n",
    "display('Средний запас сырья по прогнозу 200 лучших точек региона 1:',\n",
    "    comparison_1.sort_values(by='geodata_1_prediction', ascending=False).head(TOP_WELLS).mean())\n",
    "                  \n",
    "display('Средний запас сырья по прогнозу 200 лучших точек региона 2:',\n",
    "    comparison_2.sort_values(by='geodata_2_prediction', ascending=False).head(TOP_WELLS).mean())"
   ]
  },
  {
   "cell_type": "markdown",
   "metadata": {},
   "source": [
    "Напишу функцию для расчета прибыли и отработаем на ней оптимистичный прогноз."
   ]
  },
  {
   "cell_type": "code",
   "execution_count": 43,
   "metadata": {},
   "outputs": [],
   "source": [
    "def profit_calc(data):\n",
    "    selection = data.sort_values(ascending=False).head(TOP_WELLS)\n",
    "    total = selection.sum()\n",
    "    return total * PRODUCT_PROFIT - BUDGET"
   ]
  },
  {
   "cell_type": "code",
   "execution_count": 44,
   "metadata": {},
   "outputs": [
    {
     "name": "stdout",
     "output_type": "stream",
     "text": [
      "Наилучший сценарий прибыли региона 0: 3908750.4 тыс. р.\n"
     ]
    }
   ],
   "source": [
    "print('Наилучший сценарий прибыли региона 0:', profit_calc(comparison_0['geodata_0_prediction']).round(2), 'тыс. р.')"
   ]
  },
  {
   "cell_type": "code",
   "execution_count": 45,
   "metadata": {},
   "outputs": [
    {
     "name": "stdout",
     "output_type": "stream",
     "text": [
      "Наилучший сценарий прибыли региона 1: 2488466.91 тыс. р.\n"
     ]
    }
   ],
   "source": [
    "print('Наилучший сценарий прибыли региона 1:', profit_calc(comparison_1['geodata_1_prediction']).round(2), 'тыс. р.')"
   ]
  },
  {
   "cell_type": "code",
   "execution_count": 46,
   "metadata": {
    "scrolled": true
   },
   "outputs": [
    {
     "name": "stdout",
     "output_type": "stream",
     "text": [
      "Наилучший сценарий прибыли региона 2: 3334146.3 тыс. р.\n"
     ]
    }
   ],
   "source": [
    "print('Наилучший сценарий прибыли региона 2:', profit_calc(comparison_2['geodata_2_prediction']).round(2), 'тыс. р.')"
   ]
  },
  {
   "cell_type": "code",
   "execution_count": 57,
   "metadata": {},
   "outputs": [],
   "source": [
    "# видоизменю функцию для расчета реальной прибыли в следующем шаге\n",
    "# передаю на вход спрогнозированные и реальные значения\n",
    "# сортирую по убыванию количества сырья в прогнозах и отбираю 200 верхних строк реальных значений\n",
    "def profit_calc(target, prediction):\n",
    "    sorted_pred = prediction.sort_values(ascending=False)\n",
    "    sorted_target = target[sorted_pred.index].head(TOP_WELLS)\n",
    "    return PRODUCT_PROFIT * sorted_target.sum() - BUDGET"
   ]
  },
  {
   "cell_type": "markdown",
   "metadata": {},
   "source": [
    "### Вывод"
   ]
  },
  {
   "cell_type": "markdown",
   "metadata": {},
   "source": [
    "Из анализа ключевых значений видно что отбор скважин необходим для выхода на окупаемость, так как средний объем сырья в регионах значительно ниже среднего объема сырья необходимого даже для компенсации затрат на разработку региона.  \n",
    "При этом наиболее оптимистичный сценарий показывает прибыльность в размере от 24.8% до 39.1% от вложений.\n",
    "\n",
    "Пора переходить к расчету прибыли и рисков по реалестичному сценарию."
   ]
  },
  {
   "cell_type": "markdown",
   "metadata": {},
   "source": [
    "## Расчёт прибыли и рисков "
   ]
  },
  {
   "cell_type": "markdown",
   "metadata": {},
   "source": [
    "`5. Посчитайте риски и прибыль для каждого региона:\n",
    "5.1. Примените технику Bootstrap с 1000 выборок, чтобы найти распределение прибыли.\n",
    "5.2. Найдите среднюю прибыль, 95%-й доверительный интервал и риск убытков. Убыток — это отрицательная прибыль.\n",
    "5.3. Напишите выводы: предложите регион для разработки скважин и обоснуйте выбор.`"
   ]
  },
  {
   "cell_type": "markdown",
   "metadata": {},
   "source": [
    "### Подготовка функции"
   ]
  },
  {
   "cell_type": "code",
   "execution_count": 48,
   "metadata": {},
   "outputs": [],
   "source": [
    "state = RandomState(331958815)"
   ]
  },
  {
   "cell_type": "code",
   "execution_count": 66,
   "metadata": {},
   "outputs": [],
   "source": [
    "# передаю на вход спрогнозированные и реальные значения\n",
    "\n",
    "def realistic_case_profit(target, prediction, bootstrap_samples):\n",
    "    gains_list=[] # список для хранения значений прибыли\n",
    "    losses_count = 0 # счетчик количества убыточных случаев\n",
    "    for i in range(bootstrap_samples):\n",
    "        preds_subsample = prediction.sample(n=WELLS, replace=True, random_state=state)\n",
    "        target_subsample = target[preds_subsample.index]\n",
    "        profit = profit_calc(target_subsample, preds_subsample)\n",
    "        if profit < 0:\n",
    "            losses_count +=1\n",
    "        gains_list.append(profit)\n",
    "    \n",
    "    gains_list = pd.Series(gains_list)\n",
    "    lower = gains_list.quantile(0.025)\n",
    "    upper = gains_list.quantile(0.975)\n",
    "    average_profit = gains_list.mean().round(4)\n",
    "    risk = (losses_count / bootstrap_samples) * 100\n",
    "    return average_profit, lower, upper, risk"
   ]
  },
  {
   "cell_type": "markdown",
   "metadata": {},
   "source": [
    "### Регион 0"
   ]
  },
  {
   "cell_type": "code",
   "execution_count": 67,
   "metadata": {},
   "outputs": [],
   "source": [
    "average_profit_0, lower_0, upper_0, risk_0 = realistic_case_profit(\n",
    "    comparison_0['geodata_0_product'],\n",
    "    comparison_0['geodata_0_prediction'],\n",
    "    1000)"
   ]
  },
  {
   "cell_type": "code",
   "execution_count": 68,
   "metadata": {},
   "outputs": [
    {
     "name": "stdout",
     "output_type": "stream",
     "text": [
      "Была использована техника бутрстреп на 1000 повторений.\n",
      "Средняя спрогнозированная прибыль по региону 0: 432828.9681 тыс. р.\n",
      "В 95% доверительном интервале от -97923.8210730493 тыс. р. до 972269.9333579447 тыс. р.\n",
      "Риск убытка в регионе 0 составил 5.3%\n"
     ]
    }
   ],
   "source": [
    "print('Была использована техника бутрстреп на 1000 повторений.')\n",
    "print(f'Средняя спрогнозированная прибыль по региону 0: {average_profit_0} тыс. р.')\n",
    "print(f'В 95% доверительном интервале от {lower_0} тыс. р. до {upper_0} тыс. р.')\n",
    "print(f'Риск убытка в регионе 0 составил {risk_0}%')"
   ]
  },
  {
   "cell_type": "markdown",
   "metadata": {},
   "source": [
    "### Регион 1"
   ]
  },
  {
   "cell_type": "code",
   "execution_count": 69,
   "metadata": {},
   "outputs": [],
   "source": [
    "average_profit_1, lower_1, upper_1, risk_1 = realistic_case_profit(\n",
    "    comparison_1['geodata_1_product'],\n",
    "    comparison_1['geodata_1_prediction'],\n",
    "    1000)"
   ]
  },
  {
   "cell_type": "code",
   "execution_count": 70,
   "metadata": {},
   "outputs": [
    {
     "name": "stdout",
     "output_type": "stream",
     "text": [
      "Была использована техника бутрстреп на 1000 повторений.\n",
      "Средняя спрогнозированная прибыль по региону 1: 497902.2347 тыс. р.\n",
      "В 95% доверительном интервале от 105180.8229758163 тыс. р. до 960018.0098854995 тыс. р.\n",
      "Риск убытка в регионе 0 составил 0.6%\n"
     ]
    }
   ],
   "source": [
    "print('Была использована техника бутрстреп на 1000 повторений.')\n",
    "print(f'Средняя спрогнозированная прибыль по региону 1: {average_profit_1} тыс. р.')\n",
    "print(f'В 95% доверительном интервале от {lower_1} тыс. р. до {upper_1} тыс. р.')\n",
    "print(f'Риск убытка в регионе 0 составил {risk_1}%')"
   ]
  },
  {
   "cell_type": "markdown",
   "metadata": {},
   "source": [
    "### Регион 2"
   ]
  },
  {
   "cell_type": "code",
   "execution_count": 71,
   "metadata": {},
   "outputs": [],
   "source": [
    "average_profit_2, lower_2, upper_2, risk_2 = realistic_case_profit(\n",
    "    comparison_2['geodata_2_product'],\n",
    "    comparison_2['geodata_2_prediction'],\n",
    "    1000)"
   ]
  },
  {
   "cell_type": "code",
   "execution_count": 72,
   "metadata": {
    "scrolled": true
   },
   "outputs": [
    {
     "name": "stdout",
     "output_type": "stream",
     "text": [
      "Была использована техника бутрстреп на 1000 повторений.\n",
      "Средняя спрогнозированная прибыль по региону 2: 398332.0186 тыс. р.\n",
      "В 95% доверительном интервале от -113869.58470223051 тыс. р. до 918873.5813327371 тыс. р.\n",
      "Риск убытка в регионе 0 составил 7.000000000000001%\n"
     ]
    }
   ],
   "source": [
    "print('Была использована техника бутрстреп на 1000 повторений.')\n",
    "print(f'Средняя спрогнозированная прибыль по региону 2: {average_profit_2} тыс. р.')\n",
    "print(f'В 95% доверительном интервале от {lower_2} тыс. р. до {upper_2} тыс. р.')\n",
    "print(f'Риск убытка в регионе 0 составил {risk_2}%')"
   ]
  },
  {
   "cell_type": "markdown",
   "metadata": {},
   "source": [
    "### Вывод"
   ]
  },
  {
   "cell_type": "markdown",
   "metadata": {},
   "source": [
    "По итогам прогнозирования прибыльности и рисков по реалистичному сценарию путем использования техники бутстреп с 1000 повторений:\n",
    "- Регион 0 не соответствует требованиям заказчика, так как риск убытка превышает 2.5% и составляет 5.3%;\n",
    "- Регион 1 соответствует требованиям заказчика, демонстрирует наибольшую потенциальную прибыль и риск убытков менее 2.5%, составляющий 0.6%;\n",
    "- Регион 2 не соответствует требованиям заказчика, так как риск убытка превышает 2.5% и составляет 7%;"
   ]
  },
  {
   "cell_type": "markdown",
   "metadata": {},
   "source": [
    "## Общий вывод"
   ]
  },
  {
   "cell_type": "markdown",
   "metadata": {},
   "source": [
    "По итогам проекта произведен анализ данных трех регионов с целью определения прибыльности и рисков добычи нефти.  \n",
    "Из трех регионов отобран один, соответствующий требованиям заказчика.  \n",
    "\n",
    "Прогнозирование показало потенциальную прибыльность добычи сырья в регионе 1 на уровне 497902.2347 тыс. р., при положительном нижнем пороге доверительного интервала и риске убыточности 0.6%.  \n",
    "При этом следует уведомить заказчика об аномальном представлении данных по региону."
   ]
  },
  {
   "cell_type": "markdown",
   "metadata": {},
   "source": [
    "Поставьте 'x' в выполненных пунктах. Далее нажмите Shift+Enter."
   ]
  },
  {
   "cell_type": "markdown",
   "metadata": {},
   "source": [
    "- [x]  Jupyter Notebook открыт\n",
    "- [ ]  Весь код выполняется без ошибок\n",
    "- [ ]  Ячейки с кодом расположены в порядке исполнения\n",
    "- [x]  Выполнен шаг 1: данные подготовлены\n",
    "- [x]  Выполнен шаг 2: модели обучены и проверены\n",
    "    - [x]  Данные корректно разбиты на обучающую и валидационную выборки\n",
    "    - [x]  Модели обучены, предсказания сделаны\n",
    "    - [x]  Предсказания и правильные ответы на валидационной выборке сохранены\n",
    "    - [x]  На экране напечатаны результаты\n",
    "    - [x]  Сделаны выводы\n",
    "- [x]  Выполнен шаг 3: проведена подготовка к расчёту прибыли\n",
    "    - [x]  Для всех ключевых значений созданы константы Python\n",
    "    - [x]  Посчитано минимальное среднее количество продукта в месторождениях региона, достаточное для разработки\n",
    "    - [x]  По предыдущему пункту сделаны выводы\n",
    "    - [x]  Написана функция расчёта прибыли\n",
    "- [x]  Выполнен шаг 4: посчитаны риски и прибыль\n",
    "    - [x]  Проведена процедура *Bootstrap*\n",
    "    - [x]  Все параметры бутстрепа соответствуют условию\n",
    "    - [x]  Найдены все нужные величины\n",
    "    - [x]  Предложен регион для разработки месторождения\n",
    "    - [x]  Выбор региона обоснован"
   ]
  },
  {
   "cell_type": "code",
   "execution_count": null,
   "metadata": {},
   "outputs": [],
   "source": []
  }
 ],
 "metadata": {
  "ExecuteTimeLog": [
   {
    "duration": 1008,
    "start_time": "2022-06-09T11:16:55.152Z"
   },
   {
    "duration": 3,
    "start_time": "2022-06-09T11:16:56.322Z"
   },
   {
    "duration": 389,
    "start_time": "2022-06-09T11:29:18.814Z"
   },
   {
    "duration": 102,
    "start_time": "2022-06-09T11:29:39.599Z"
   },
   {
    "duration": 102,
    "start_time": "2022-06-09T11:29:52.307Z"
   },
   {
    "duration": 228,
    "start_time": "2022-06-09T11:30:17.728Z"
   },
   {
    "duration": 107,
    "start_time": "2022-06-09T11:30:30.325Z"
   },
   {
    "duration": 204,
    "start_time": "2022-06-09T11:30:33.462Z"
   },
   {
    "duration": 103,
    "start_time": "2022-06-09T11:30:44.973Z"
   },
   {
    "duration": 93,
    "start_time": "2022-06-09T11:30:57.307Z"
   },
   {
    "duration": 35,
    "start_time": "2022-06-09T11:44:03.113Z"
   },
   {
    "duration": 32,
    "start_time": "2022-06-09T11:48:29.705Z"
   },
   {
    "duration": 29,
    "start_time": "2022-06-09T11:49:10.351Z"
   },
   {
    "duration": 15,
    "start_time": "2022-06-09T11:55:48.870Z"
   },
   {
    "duration": 14,
    "start_time": "2022-06-09T11:56:11.270Z"
   },
   {
    "duration": 7,
    "start_time": "2022-06-09T11:56:17.506Z"
   },
   {
    "duration": 9,
    "start_time": "2022-06-09T11:56:31.323Z"
   },
   {
    "duration": 9,
    "start_time": "2022-06-09T11:56:49.251Z"
   },
   {
    "duration": 23,
    "start_time": "2022-06-09T11:56:58.051Z"
   },
   {
    "duration": 12,
    "start_time": "2022-06-09T11:57:01.764Z"
   },
   {
    "duration": 7,
    "start_time": "2022-06-09T11:57:03.059Z"
   },
   {
    "duration": 10,
    "start_time": "2022-06-09T11:57:26.707Z"
   },
   {
    "duration": 457,
    "start_time": "2022-06-09T12:05:46.812Z"
   },
   {
    "duration": 38,
    "start_time": "2022-06-09T12:31:11.784Z"
   },
   {
    "duration": 336,
    "start_time": "2022-06-09T12:32:17.706Z"
   },
   {
    "duration": 3,
    "start_time": "2022-06-09T12:32:45.579Z"
   },
   {
    "duration": 442,
    "start_time": "2022-06-09T12:32:46.459Z"
   },
   {
    "duration": 13,
    "start_time": "2022-06-09T12:35:45.952Z"
   },
   {
    "duration": 11,
    "start_time": "2022-06-09T12:36:25.544Z"
   },
   {
    "duration": 12,
    "start_time": "2022-06-09T12:36:30.321Z"
   },
   {
    "duration": 11,
    "start_time": "2022-06-09T12:36:35.751Z"
   },
   {
    "duration": 3,
    "start_time": "2022-06-09T12:36:55.114Z"
   },
   {
    "duration": 444,
    "start_time": "2022-06-09T12:37:33.700Z"
   },
   {
    "duration": 498,
    "start_time": "2022-06-09T12:38:41.879Z"
   },
   {
    "duration": 423,
    "start_time": "2022-06-09T12:39:53.459Z"
   },
   {
    "duration": 424,
    "start_time": "2022-06-09T12:39:58.954Z"
   },
   {
    "duration": 383,
    "start_time": "2022-06-09T12:40:08.893Z"
   },
   {
    "duration": 12,
    "start_time": "2022-06-09T12:47:43.304Z"
   },
   {
    "duration": 11,
    "start_time": "2022-06-09T12:47:52.607Z"
   },
   {
    "duration": 381,
    "start_time": "2022-06-09T12:51:30.699Z"
   },
   {
    "duration": 414,
    "start_time": "2022-06-09T12:51:38.048Z"
   },
   {
    "duration": 13,
    "start_time": "2022-06-09T12:55:07.569Z"
   },
   {
    "duration": 15,
    "start_time": "2022-06-09T12:55:10.945Z"
   },
   {
    "duration": 14,
    "start_time": "2022-06-09T12:55:15.017Z"
   },
   {
    "duration": 8,
    "start_time": "2022-06-09T12:55:17.871Z"
   },
   {
    "duration": 12,
    "start_time": "2022-06-09T12:55:23.555Z"
   },
   {
    "duration": 16,
    "start_time": "2022-06-09T12:55:26.446Z"
   },
   {
    "duration": 9,
    "start_time": "2022-06-09T12:55:39.754Z"
   },
   {
    "duration": 10,
    "start_time": "2022-06-09T12:55:45.999Z"
   },
   {
    "duration": 8,
    "start_time": "2022-06-09T12:55:51.864Z"
   },
   {
    "duration": 11,
    "start_time": "2022-06-09T12:56:38.713Z"
   },
   {
    "duration": 11,
    "start_time": "2022-06-09T12:56:41.952Z"
   },
   {
    "duration": 6,
    "start_time": "2022-06-09T12:56:58.766Z"
   },
   {
    "duration": 8,
    "start_time": "2022-06-09T12:57:27.655Z"
   },
   {
    "duration": 7,
    "start_time": "2022-06-09T12:57:37.857Z"
   },
   {
    "duration": 9,
    "start_time": "2022-06-09T12:57:55.672Z"
   },
   {
    "duration": 6,
    "start_time": "2022-06-09T12:57:59.782Z"
   },
   {
    "duration": 10,
    "start_time": "2022-06-09T12:58:04.658Z"
   },
   {
    "duration": 18,
    "start_time": "2022-06-09T13:07:54.377Z"
   },
   {
    "duration": 15,
    "start_time": "2022-06-09T13:08:16.944Z"
   },
   {
    "duration": 27,
    "start_time": "2022-06-09T13:09:41.654Z"
   },
   {
    "duration": 4,
    "start_time": "2022-06-09T14:00:35.083Z"
   },
   {
    "duration": 2,
    "start_time": "2022-06-09T14:16:51.701Z"
   },
   {
    "duration": 5,
    "start_time": "2022-06-09T14:23:53.719Z"
   },
   {
    "duration": 2,
    "start_time": "2022-06-09T14:27:56.759Z"
   },
   {
    "duration": 10,
    "start_time": "2022-06-09T14:29:48.398Z"
   },
   {
    "duration": 11,
    "start_time": "2022-06-09T14:30:31.559Z"
   },
   {
    "duration": 3,
    "start_time": "2022-06-09T14:32:04.049Z"
   },
   {
    "duration": 3,
    "start_time": "2022-06-09T14:32:15.448Z"
   },
   {
    "duration": 2,
    "start_time": "2022-06-09T14:37:50.746Z"
   },
   {
    "duration": 181,
    "start_time": "2022-06-09T14:52:44.030Z"
   },
   {
    "duration": 161,
    "start_time": "2022-06-09T14:53:03.936Z"
   },
   {
    "duration": 184,
    "start_time": "2022-06-09T14:55:23.845Z"
   },
   {
    "duration": 174,
    "start_time": "2022-06-09T14:56:19.388Z"
   },
   {
    "duration": 6,
    "start_time": "2022-06-09T14:57:35.539Z"
   },
   {
    "duration": 166,
    "start_time": "2022-06-09T14:57:37.728Z"
   },
   {
    "duration": 1307,
    "start_time": "2022-06-09T14:58:53.994Z"
   },
   {
    "duration": 5,
    "start_time": "2022-06-09T14:58:55.304Z"
   },
   {
    "duration": 158,
    "start_time": "2022-06-09T14:58:55.311Z"
   },
   {
    "duration": 111,
    "start_time": "2022-06-09T14:58:55.471Z"
   },
   {
    "duration": 11,
    "start_time": "2022-06-09T14:58:55.584Z"
   },
   {
    "duration": 3,
    "start_time": "2022-06-09T14:58:55.597Z"
   },
   {
    "duration": 373,
    "start_time": "2022-06-09T14:58:55.602Z"
   },
   {
    "duration": 118,
    "start_time": "2022-06-09T14:58:55.977Z"
   },
   {
    "duration": 117,
    "start_time": "2022-06-09T14:58:56.096Z"
   },
   {
    "duration": 26,
    "start_time": "2022-06-09T14:58:56.215Z"
   },
   {
    "duration": 9,
    "start_time": "2022-06-09T14:58:56.243Z"
   },
   {
    "duration": 396,
    "start_time": "2022-06-09T14:58:56.256Z"
   },
   {
    "duration": 8,
    "start_time": "2022-06-09T14:58:56.655Z"
   },
   {
    "duration": 130,
    "start_time": "2022-06-09T14:58:56.666Z"
   },
   {
    "duration": 99,
    "start_time": "2022-06-09T14:58:56.798Z"
   },
   {
    "duration": 33,
    "start_time": "2022-06-09T14:58:56.899Z"
   },
   {
    "duration": 386,
    "start_time": "2022-06-09T14:58:56.934Z"
   },
   {
    "duration": 13,
    "start_time": "2022-06-09T14:58:57.327Z"
   },
   {
    "duration": 14,
    "start_time": "2022-06-09T14:58:57.342Z"
   },
   {
    "duration": 3,
    "start_time": "2022-06-09T14:58:57.358Z"
   },
   {
    "duration": 2,
    "start_time": "2022-06-09T14:58:59.215Z"
   },
   {
    "duration": 274,
    "start_time": "2022-06-09T14:59:00.453Z"
   },
   {
    "duration": 5,
    "start_time": "2022-06-09T14:59:46.224Z"
   },
   {
    "duration": 11,
    "start_time": "2022-06-09T14:59:47.645Z"
   },
   {
    "duration": 26,
    "start_time": "2022-06-09T15:00:36.696Z"
   },
   {
    "duration": 9,
    "start_time": "2022-06-09T15:01:08.166Z"
   },
   {
    "duration": 7,
    "start_time": "2022-06-09T15:01:14.613Z"
   },
   {
    "duration": 8,
    "start_time": "2022-06-09T15:01:19.115Z"
   },
   {
    "duration": 89,
    "start_time": "2022-06-09T15:01:44.636Z"
   },
   {
    "duration": 11,
    "start_time": "2022-06-09T15:01:59.330Z"
   },
   {
    "duration": 3,
    "start_time": "2022-06-09T15:43:01.125Z"
   },
   {
    "duration": 14,
    "start_time": "2022-06-09T15:44:28.773Z"
   },
   {
    "duration": 10,
    "start_time": "2022-06-09T15:45:40.781Z"
   },
   {
    "duration": 13,
    "start_time": "2022-06-09T15:50:10.912Z"
   },
   {
    "duration": 11,
    "start_time": "2022-06-09T15:50:23.835Z"
   },
   {
    "duration": 11,
    "start_time": "2022-06-09T15:51:02.684Z"
   },
   {
    "duration": 8,
    "start_time": "2022-06-09T15:51:04.026Z"
   },
   {
    "duration": 10,
    "start_time": "2022-06-09T15:51:37.599Z"
   },
   {
    "duration": 8,
    "start_time": "2022-06-09T15:51:39.113Z"
   },
   {
    "duration": 15,
    "start_time": "2022-06-09T15:55:14.153Z"
   },
   {
    "duration": 15,
    "start_time": "2022-06-09T15:55:18.352Z"
   },
   {
    "duration": 15,
    "start_time": "2022-06-09T15:55:21.191Z"
   },
   {
    "duration": 12,
    "start_time": "2022-06-09T15:55:46.752Z"
   },
   {
    "duration": 10,
    "start_time": "2022-06-09T15:55:54.544Z"
   },
   {
    "duration": 16,
    "start_time": "2022-06-09T15:56:57.406Z"
   },
   {
    "duration": 57,
    "start_time": "2022-06-09T15:57:02.977Z"
   },
   {
    "duration": 13,
    "start_time": "2022-06-09T15:57:41.935Z"
   },
   {
    "duration": 10,
    "start_time": "2022-06-09T15:58:25.652Z"
   },
   {
    "duration": 13,
    "start_time": "2022-06-09T16:03:29.154Z"
   },
   {
    "duration": 22,
    "start_time": "2022-06-09T16:04:15.946Z"
   },
   {
    "duration": 6,
    "start_time": "2022-06-09T16:05:42.184Z"
   },
   {
    "duration": 16,
    "start_time": "2022-06-09T16:05:55.890Z"
   },
   {
    "duration": 11,
    "start_time": "2022-06-09T16:06:04.313Z"
   },
   {
    "duration": 12,
    "start_time": "2022-06-09T16:06:43.915Z"
   },
   {
    "duration": 11,
    "start_time": "2022-06-09T16:08:01.410Z"
   },
   {
    "duration": 3,
    "start_time": "2022-06-09T16:12:24.292Z"
   },
   {
    "duration": 557,
    "start_time": "2022-06-09T16:14:08.225Z"
   },
   {
    "duration": 424,
    "start_time": "2022-06-09T16:14:56.692Z"
   },
   {
    "duration": 615,
    "start_time": "2022-06-09T16:15:06.297Z"
   },
   {
    "duration": 4,
    "start_time": "2022-06-09T16:16:55.010Z"
   },
   {
    "duration": 9,
    "start_time": "2022-06-09T16:18:42.121Z"
   },
   {
    "duration": 9,
    "start_time": "2022-06-09T16:18:46.114Z"
   },
   {
    "duration": 4,
    "start_time": "2022-06-09T16:20:28.630Z"
   },
   {
    "duration": 29,
    "start_time": "2022-06-09T16:20:29.753Z"
   },
   {
    "duration": 420,
    "start_time": "2022-06-09T16:20:39.112Z"
   },
   {
    "duration": 9,
    "start_time": "2022-06-09T16:25:54.998Z"
   },
   {
    "duration": 9,
    "start_time": "2022-06-09T16:26:27.025Z"
   },
   {
    "duration": 10,
    "start_time": "2022-06-09T16:26:44.606Z"
   },
   {
    "duration": 9,
    "start_time": "2022-06-09T16:26:51.346Z"
   },
   {
    "duration": 28,
    "start_time": "2022-06-09T16:27:14.217Z"
   },
   {
    "duration": 9,
    "start_time": "2022-06-09T16:27:43.529Z"
   },
   {
    "duration": 10,
    "start_time": "2022-06-09T16:28:30.008Z"
   },
   {
    "duration": 10,
    "start_time": "2022-06-09T16:30:08.046Z"
   },
   {
    "duration": 9,
    "start_time": "2022-06-09T16:31:25.300Z"
   },
   {
    "duration": 10,
    "start_time": "2022-06-09T16:31:31.095Z"
   },
   {
    "duration": 9,
    "start_time": "2022-06-09T16:31:33.399Z"
   },
   {
    "duration": 12,
    "start_time": "2022-06-09T16:31:37.197Z"
   },
   {
    "duration": 1197,
    "start_time": "2022-06-09T16:31:50.041Z"
   },
   {
    "duration": 932,
    "start_time": "2022-06-09T16:31:59.800Z"
   },
   {
    "duration": 13,
    "start_time": "2022-06-09T16:32:18.309Z"
   },
   {
    "duration": 1229,
    "start_time": "2022-06-09T16:32:30.303Z"
   },
   {
    "duration": 1014,
    "start_time": "2022-06-09T16:32:39.521Z"
   },
   {
    "duration": 1124,
    "start_time": "2022-06-09T16:33:01.908Z"
   },
   {
    "duration": 1417,
    "start_time": "2022-06-09T16:33:12.912Z"
   },
   {
    "duration": 3,
    "start_time": "2022-06-09T16:33:28.944Z"
   },
   {
    "duration": 1293,
    "start_time": "2022-06-09T16:33:30.640Z"
   },
   {
    "duration": 1113,
    "start_time": "2022-06-09T16:34:03.016Z"
   },
   {
    "duration": 1223,
    "start_time": "2022-06-09T16:34:12.112Z"
   },
   {
    "duration": 533,
    "start_time": "2022-06-09T16:35:44.503Z"
   },
   {
    "duration": 574,
    "start_time": "2022-06-09T16:36:15.352Z"
   },
   {
    "duration": 14,
    "start_time": "2022-06-09T16:37:46.743Z"
   },
   {
    "duration": 2,
    "start_time": "2022-06-09T16:38:27.151Z"
   },
   {
    "duration": 10,
    "start_time": "2022-06-09T16:38:34.317Z"
   },
   {
    "duration": 12,
    "start_time": "2022-06-09T16:38:35.215Z"
   },
   {
    "duration": 468,
    "start_time": "2022-06-09T16:38:38.343Z"
   },
   {
    "duration": 490,
    "start_time": "2022-06-09T16:38:40.342Z"
   },
   {
    "duration": 10,
    "start_time": "2022-06-09T16:38:42.509Z"
   },
   {
    "duration": 26,
    "start_time": "2022-06-09T16:38:43.507Z"
   },
   {
    "duration": 477,
    "start_time": "2022-06-09T16:38:53.896Z"
   },
   {
    "duration": 487,
    "start_time": "2022-06-09T16:38:58.646Z"
   },
   {
    "duration": 10,
    "start_time": "2022-06-09T16:39:18.783Z"
   },
   {
    "duration": 13,
    "start_time": "2022-06-09T16:39:20.815Z"
   },
   {
    "duration": 514,
    "start_time": "2022-06-09T16:39:22.817Z"
   },
   {
    "duration": 515,
    "start_time": "2022-06-09T16:39:43.918Z"
   },
   {
    "duration": 9,
    "start_time": "2022-06-09T18:39:00.246Z"
   },
   {
    "duration": 4,
    "start_time": "2022-06-09T18:39:03.273Z"
   },
   {
    "duration": 4,
    "start_time": "2022-06-09T18:39:05.556Z"
   },
   {
    "duration": 3,
    "start_time": "2022-06-09T18:39:45.907Z"
   },
   {
    "duration": 5,
    "start_time": "2022-06-09T18:40:53.042Z"
   },
   {
    "duration": 6,
    "start_time": "2022-06-09T18:42:14.795Z"
   },
   {
    "duration": 5,
    "start_time": "2022-06-09T18:44:38.912Z"
   },
   {
    "duration": 7,
    "start_time": "2022-06-09T18:47:34.047Z"
   },
   {
    "duration": 7,
    "start_time": "2022-06-09T18:47:40.723Z"
   },
   {
    "duration": 7,
    "start_time": "2022-06-09T18:47:54.546Z"
   },
   {
    "duration": 22,
    "start_time": "2022-06-09T18:59:39.356Z"
   },
   {
    "duration": 15,
    "start_time": "2022-06-09T18:59:55.209Z"
   },
   {
    "duration": 28,
    "start_time": "2022-06-09T19:02:14.609Z"
   },
   {
    "duration": 17,
    "start_time": "2022-06-09T19:02:18.621Z"
   },
   {
    "duration": 19,
    "start_time": "2022-06-09T19:02:29.813Z"
   },
   {
    "duration": 24,
    "start_time": "2022-06-09T19:03:11.025Z"
   },
   {
    "duration": 3,
    "start_time": "2022-06-09T19:28:16.117Z"
   },
   {
    "duration": 6,
    "start_time": "2022-06-09T19:30:16.940Z"
   },
   {
    "duration": 23,
    "start_time": "2022-06-09T19:30:36.386Z"
   },
   {
    "duration": 7,
    "start_time": "2022-06-09T19:30:43.311Z"
   },
   {
    "duration": 33,
    "start_time": "2022-06-09T19:31:12.922Z"
   },
   {
    "duration": 24,
    "start_time": "2022-06-09T19:31:30.811Z"
   },
   {
    "duration": 7,
    "start_time": "2022-06-09T19:31:43.315Z"
   },
   {
    "duration": 6,
    "start_time": "2022-06-09T19:31:49.897Z"
   },
   {
    "duration": 7,
    "start_time": "2022-06-09T19:31:52.938Z"
   },
   {
    "duration": 6,
    "start_time": "2022-06-09T19:31:57.236Z"
   },
   {
    "duration": 7,
    "start_time": "2022-06-09T19:32:00.398Z"
   },
   {
    "duration": 7,
    "start_time": "2022-06-09T19:32:09.419Z"
   },
   {
    "duration": 8,
    "start_time": "2022-06-09T19:32:18.843Z"
   },
   {
    "duration": 4,
    "start_time": "2022-06-09T19:32:52.379Z"
   },
   {
    "duration": 9,
    "start_time": "2022-06-09T19:50:21.382Z"
   },
   {
    "duration": 3,
    "start_time": "2022-06-09T19:50:23.516Z"
   },
   {
    "duration": 7,
    "start_time": "2022-06-09T19:50:24.312Z"
   },
   {
    "duration": 8,
    "start_time": "2022-06-09T19:50:25.716Z"
   },
   {
    "duration": 9,
    "start_time": "2022-06-09T19:50:26.436Z"
   },
   {
    "duration": 4,
    "start_time": "2022-06-09T19:56:13.206Z"
   },
   {
    "duration": 4,
    "start_time": "2022-06-09T20:00:22.425Z"
   },
   {
    "duration": 23,
    "start_time": "2022-06-09T20:01:42.504Z"
   },
   {
    "duration": 6,
    "start_time": "2022-06-09T20:01:46.782Z"
   },
   {
    "duration": 3,
    "start_time": "2022-06-09T20:03:22.479Z"
   },
   {
    "duration": 4,
    "start_time": "2022-06-09T20:03:26.730Z"
   },
   {
    "duration": 35,
    "start_time": "2022-06-09T20:03:31.910Z"
   },
   {
    "duration": 13,
    "start_time": "2022-06-09T20:03:33.297Z"
   },
   {
    "duration": 4,
    "start_time": "2022-06-09T20:03:52.813Z"
   },
   {
    "duration": 442,
    "start_time": "2022-06-09T20:05:15.045Z"
   },
   {
    "duration": 5,
    "start_time": "2022-06-09T20:05:29.712Z"
   },
   {
    "duration": 382,
    "start_time": "2022-06-09T20:05:31.015Z"
   },
   {
    "duration": 424,
    "start_time": "2022-06-09T20:06:03.098Z"
   },
   {
    "duration": 390,
    "start_time": "2022-06-09T20:06:03.998Z"
   },
   {
    "duration": 6,
    "start_time": "2022-06-09T20:08:14.982Z"
   },
   {
    "duration": 14,
    "start_time": "2022-06-09T20:09:18.845Z"
   },
   {
    "duration": 4,
    "start_time": "2022-06-09T20:09:27.631Z"
   },
   {
    "duration": 5,
    "start_time": "2022-06-09T20:11:08.422Z"
   },
   {
    "duration": 5,
    "start_time": "2022-06-09T20:12:30.315Z"
   },
   {
    "duration": 4,
    "start_time": "2022-06-09T20:13:27.475Z"
   },
   {
    "duration": 4,
    "start_time": "2022-06-09T20:13:46.204Z"
   },
   {
    "duration": 4,
    "start_time": "2022-06-09T20:14:48.603Z"
   },
   {
    "duration": 6,
    "start_time": "2022-06-09T20:17:27.658Z"
   },
   {
    "duration": 489,
    "start_time": "2022-06-09T20:18:06.253Z"
   },
   {
    "duration": 6,
    "start_time": "2022-06-09T20:18:07.085Z"
   },
   {
    "duration": 421,
    "start_time": "2022-06-09T20:18:09.089Z"
   },
   {
    "duration": 4,
    "start_time": "2022-06-09T20:18:09.649Z"
   },
   {
    "duration": 469,
    "start_time": "2022-06-09T20:18:11.401Z"
   },
   {
    "duration": 4,
    "start_time": "2022-06-09T20:18:11.920Z"
   },
   {
    "duration": 621,
    "start_time": "2022-06-09T20:18:13.144Z"
   },
   {
    "duration": 6,
    "start_time": "2022-06-09T20:18:13.767Z"
   },
   {
    "duration": 633,
    "start_time": "2022-06-09T20:18:15.103Z"
   },
   {
    "duration": 6,
    "start_time": "2022-06-09T20:18:15.739Z"
   },
   {
    "duration": 560,
    "start_time": "2022-06-09T20:18:16.738Z"
   },
   {
    "duration": 8,
    "start_time": "2022-06-09T20:18:17.300Z"
   },
   {
    "duration": 4,
    "start_time": "2022-06-09T20:18:58.090Z"
   },
   {
    "duration": 3,
    "start_time": "2022-06-09T20:19:17.189Z"
   },
   {
    "duration": 7,
    "start_time": "2022-06-09T20:19:22.623Z"
   },
   {
    "duration": 364,
    "start_time": "2022-06-09T20:19:25.657Z"
   },
   {
    "duration": 5,
    "start_time": "2022-06-09T20:19:26.442Z"
   },
   {
    "duration": 4,
    "start_time": "2022-06-09T20:19:28.588Z"
   },
   {
    "duration": 394,
    "start_time": "2022-06-09T20:19:30.327Z"
   },
   {
    "duration": 4,
    "start_time": "2022-06-09T20:19:31.096Z"
   },
   {
    "duration": 386,
    "start_time": "2022-06-09T20:19:32.300Z"
   },
   {
    "duration": 4,
    "start_time": "2022-06-09T20:19:32.824Z"
   },
   {
    "duration": 392,
    "start_time": "2022-06-09T20:19:34.431Z"
   },
   {
    "duration": 4,
    "start_time": "2022-06-09T20:19:35.593Z"
   },
   {
    "duration": 1298,
    "start_time": "2022-06-09T20:19:49.422Z"
   },
   {
    "duration": 5,
    "start_time": "2022-06-09T20:19:50.722Z"
   },
   {
    "duration": 151,
    "start_time": "2022-06-09T20:19:50.729Z"
   },
   {
    "duration": 118,
    "start_time": "2022-06-09T20:19:50.882Z"
   },
   {
    "duration": 34,
    "start_time": "2022-06-09T20:19:51.002Z"
   },
   {
    "duration": 4,
    "start_time": "2022-06-09T20:19:51.038Z"
   },
   {
    "duration": 391,
    "start_time": "2022-06-09T20:19:51.044Z"
   },
   {
    "duration": 118,
    "start_time": "2022-06-09T20:19:51.436Z"
   },
   {
    "duration": 111,
    "start_time": "2022-06-09T20:19:51.556Z"
   },
   {
    "duration": 12,
    "start_time": "2022-06-09T20:19:51.670Z"
   },
   {
    "duration": 6,
    "start_time": "2022-06-09T20:19:51.684Z"
   },
   {
    "duration": 378,
    "start_time": "2022-06-09T20:19:51.692Z"
   },
   {
    "duration": 7,
    "start_time": "2022-06-09T20:19:52.071Z"
   },
   {
    "duration": 141,
    "start_time": "2022-06-09T20:19:52.079Z"
   },
   {
    "duration": 151,
    "start_time": "2022-06-09T20:19:52.222Z"
   },
   {
    "duration": 11,
    "start_time": "2022-06-09T20:19:52.375Z"
   },
   {
    "duration": 364,
    "start_time": "2022-06-09T20:19:52.388Z"
   },
   {
    "duration": 12,
    "start_time": "2022-06-09T20:19:52.755Z"
   },
   {
    "duration": 31,
    "start_time": "2022-06-09T20:19:52.768Z"
   },
   {
    "duration": 4,
    "start_time": "2022-06-09T20:19:52.800Z"
   },
   {
    "duration": 42,
    "start_time": "2022-06-09T20:19:52.806Z"
   },
   {
    "duration": 10,
    "start_time": "2022-06-09T20:19:52.850Z"
   },
   {
    "duration": 6,
    "start_time": "2022-06-09T20:19:52.862Z"
   },
   {
    "duration": 124,
    "start_time": "2022-06-09T20:19:52.870Z"
   },
   {
    "duration": 40,
    "start_time": "2022-06-09T20:19:52.995Z"
   },
   {
    "duration": 678,
    "start_time": "2022-06-09T20:19:53.037Z"
   },
   {
    "duration": 515,
    "start_time": "2022-06-09T20:19:53.717Z"
   },
   {
    "duration": 96,
    "start_time": "2022-06-09T20:19:54.237Z"
   },
   {
    "duration": 192,
    "start_time": "2022-06-09T20:19:54.336Z"
   },
   {
    "duration": 525,
    "start_time": "2022-06-09T20:19:54.530Z"
   },
   {
    "duration": 485,
    "start_time": "2022-06-09T20:19:55.056Z"
   },
   {
    "duration": 99,
    "start_time": "2022-06-09T20:19:55.635Z"
   },
   {
    "duration": 92,
    "start_time": "2022-06-09T20:19:55.736Z"
   },
   {
    "duration": 740,
    "start_time": "2022-06-09T20:19:55.830Z"
   },
   {
    "duration": 757,
    "start_time": "2022-06-09T20:19:56.572Z"
   },
   {
    "duration": 4,
    "start_time": "2022-06-09T20:19:57.331Z"
   },
   {
    "duration": 108,
    "start_time": "2022-06-09T20:19:57.338Z"
   },
   {
    "duration": 7,
    "start_time": "2022-06-09T20:19:57.448Z"
   },
   {
    "duration": 6,
    "start_time": "2022-06-09T20:19:57.456Z"
   },
   {
    "duration": 9,
    "start_time": "2022-06-09T20:19:57.464Z"
   },
   {
    "duration": 23,
    "start_time": "2022-06-09T20:19:57.475Z"
   },
   {
    "duration": 30,
    "start_time": "2022-06-09T20:19:57.500Z"
   },
   {
    "duration": 22,
    "start_time": "2022-06-09T20:19:57.532Z"
   },
   {
    "duration": 14,
    "start_time": "2022-06-09T20:19:57.556Z"
   },
   {
    "duration": 8,
    "start_time": "2022-06-09T20:19:57.572Z"
   },
   {
    "duration": 3,
    "start_time": "2022-06-09T20:19:57.582Z"
   },
   {
    "duration": 7,
    "start_time": "2022-06-09T20:19:57.587Z"
   },
   {
    "duration": 422,
    "start_time": "2022-06-09T20:19:57.595Z"
   },
   {
    "duration": 9,
    "start_time": "2022-06-09T20:19:58.018Z"
   },
   {
    "duration": 399,
    "start_time": "2022-06-09T20:19:58.029Z"
   },
   {
    "duration": 6,
    "start_time": "2022-06-09T20:19:58.430Z"
   },
   {
    "duration": 396,
    "start_time": "2022-06-09T20:19:58.438Z"
   },
   {
    "duration": 8,
    "start_time": "2022-06-09T20:19:58.837Z"
   },
   {
    "duration": 1469,
    "start_time": "2022-06-10T15:34:26.255Z"
   },
   {
    "duration": 3,
    "start_time": "2022-06-10T15:34:27.727Z"
   },
   {
    "duration": 357,
    "start_time": "2022-06-10T15:34:27.731Z"
   },
   {
    "duration": 119,
    "start_time": "2022-06-10T15:34:28.091Z"
   },
   {
    "duration": 13,
    "start_time": "2022-06-10T15:34:28.212Z"
   },
   {
    "duration": 4,
    "start_time": "2022-06-10T15:34:28.226Z"
   },
   {
    "duration": 395,
    "start_time": "2022-06-10T15:34:28.231Z"
   },
   {
    "duration": 185,
    "start_time": "2022-06-10T15:34:28.628Z"
   },
   {
    "duration": 95,
    "start_time": "2022-06-10T15:34:28.815Z"
   },
   {
    "duration": 13,
    "start_time": "2022-06-10T15:34:28.912Z"
   },
   {
    "duration": 8,
    "start_time": "2022-06-10T15:34:28.926Z"
   },
   {
    "duration": 355,
    "start_time": "2022-06-10T15:34:28.936Z"
   },
   {
    "duration": 7,
    "start_time": "2022-06-10T15:34:29.292Z"
   },
   {
    "duration": 214,
    "start_time": "2022-06-10T15:34:29.301Z"
   },
   {
    "duration": 94,
    "start_time": "2022-06-10T15:34:29.517Z"
   },
   {
    "duration": 10,
    "start_time": "2022-06-10T15:34:29.613Z"
   },
   {
    "duration": 378,
    "start_time": "2022-06-10T15:34:29.625Z"
   },
   {
    "duration": 13,
    "start_time": "2022-06-10T15:34:30.004Z"
   },
   {
    "duration": 23,
    "start_time": "2022-06-10T15:34:30.019Z"
   },
   {
    "duration": 10,
    "start_time": "2022-06-10T15:34:30.044Z"
   },
   {
    "duration": 47,
    "start_time": "2022-06-10T15:34:30.056Z"
   },
   {
    "duration": 13,
    "start_time": "2022-06-10T15:34:30.104Z"
   },
   {
    "duration": 10,
    "start_time": "2022-06-10T15:34:30.119Z"
   },
   {
    "duration": 105,
    "start_time": "2022-06-10T15:34:30.131Z"
   },
   {
    "duration": 20,
    "start_time": "2022-06-10T15:34:30.238Z"
   },
   {
    "duration": 713,
    "start_time": "2022-06-10T15:34:30.260Z"
   },
   {
    "duration": 478,
    "start_time": "2022-06-10T15:34:30.975Z"
   },
   {
    "duration": 96,
    "start_time": "2022-06-10T15:34:31.464Z"
   },
   {
    "duration": 101,
    "start_time": "2022-06-10T15:34:31.562Z"
   },
   {
    "duration": 460,
    "start_time": "2022-06-10T15:34:31.751Z"
   },
   {
    "duration": 440,
    "start_time": "2022-06-10T15:34:32.214Z"
   },
   {
    "duration": 98,
    "start_time": "2022-06-10T15:34:32.655Z"
   },
   {
    "duration": 13,
    "start_time": "2022-06-10T15:34:32.755Z"
   },
   {
    "duration": 745,
    "start_time": "2022-06-10T15:34:32.770Z"
   },
   {
    "duration": 544,
    "start_time": "2022-06-10T15:34:33.516Z"
   },
   {
    "duration": 91,
    "start_time": "2022-06-10T15:34:34.062Z"
   },
   {
    "duration": 106,
    "start_time": "2022-06-10T15:34:34.155Z"
   },
   {
    "duration": 9,
    "start_time": "2022-06-10T15:34:34.263Z"
   },
   {
    "duration": 6,
    "start_time": "2022-06-10T15:34:34.273Z"
   },
   {
    "duration": 10,
    "start_time": "2022-06-10T15:34:34.281Z"
   },
   {
    "duration": 28,
    "start_time": "2022-06-10T15:34:34.292Z"
   },
   {
    "duration": 3,
    "start_time": "2022-06-10T15:34:34.322Z"
   },
   {
    "duration": 7,
    "start_time": "2022-06-10T15:34:34.352Z"
   },
   {
    "duration": 6,
    "start_time": "2022-06-10T15:34:34.361Z"
   },
   {
    "duration": 6,
    "start_time": "2022-06-10T15:34:34.369Z"
   },
   {
    "duration": 4,
    "start_time": "2022-06-10T15:34:34.376Z"
   },
   {
    "duration": 6,
    "start_time": "2022-06-10T15:34:34.381Z"
   },
   {
    "duration": 430,
    "start_time": "2022-06-10T15:34:34.389Z"
   },
   {
    "duration": 3,
    "start_time": "2022-06-10T15:34:34.821Z"
   },
   {
    "duration": 436,
    "start_time": "2022-06-10T15:34:34.825Z"
   },
   {
    "duration": 5,
    "start_time": "2022-06-10T15:34:35.264Z"
   },
   {
    "duration": 422,
    "start_time": "2022-06-10T15:34:35.273Z"
   },
   {
    "duration": 4,
    "start_time": "2022-06-10T15:34:35.697Z"
   },
   {
    "duration": 3,
    "start_time": "2022-06-10T15:39:10.667Z"
   },
   {
    "duration": 10,
    "start_time": "2022-06-10T15:58:51.716Z"
   },
   {
    "duration": 9,
    "start_time": "2022-06-10T17:03:29.711Z"
   },
   {
    "duration": 3,
    "start_time": "2022-06-10T17:07:15.056Z"
   },
   {
    "duration": 1255,
    "start_time": "2022-06-10T17:18:10.630Z"
   },
   {
    "duration": 3,
    "start_time": "2022-06-10T17:18:11.886Z"
   },
   {
    "duration": 467,
    "start_time": "2022-06-10T17:18:11.890Z"
   },
   {
    "duration": 94,
    "start_time": "2022-06-10T17:18:12.359Z"
   },
   {
    "duration": 11,
    "start_time": "2022-06-10T17:18:12.455Z"
   },
   {
    "duration": 10,
    "start_time": "2022-06-10T17:18:12.468Z"
   },
   {
    "duration": 340,
    "start_time": "2022-06-10T17:18:12.479Z"
   },
   {
    "duration": 587,
    "start_time": "2022-06-10T17:18:12.821Z"
   },
   {
    "duration": 91,
    "start_time": "2022-06-10T17:18:13.409Z"
   },
   {
    "duration": 12,
    "start_time": "2022-06-10T17:18:13.501Z"
   },
   {
    "duration": 7,
    "start_time": "2022-06-10T17:18:13.515Z"
   },
   {
    "duration": 310,
    "start_time": "2022-06-10T17:18:13.524Z"
   },
   {
    "duration": 6,
    "start_time": "2022-06-10T17:18:13.836Z"
   },
   {
    "duration": 554,
    "start_time": "2022-06-10T17:18:13.845Z"
   },
   {
    "duration": 82,
    "start_time": "2022-06-10T17:18:14.400Z"
   },
   {
    "duration": 8,
    "start_time": "2022-06-10T17:18:14.484Z"
   },
   {
    "duration": 317,
    "start_time": "2022-06-10T17:18:14.494Z"
   },
   {
    "duration": 11,
    "start_time": "2022-06-10T17:18:14.812Z"
   },
   {
    "duration": 26,
    "start_time": "2022-06-10T17:18:14.825Z"
   },
   {
    "duration": 4,
    "start_time": "2022-06-10T17:18:14.853Z"
   },
   {
    "duration": 45,
    "start_time": "2022-06-10T17:18:14.858Z"
   },
   {
    "duration": 9,
    "start_time": "2022-06-10T17:18:14.904Z"
   },
   {
    "duration": 11,
    "start_time": "2022-06-10T17:18:14.914Z"
   },
   {
    "duration": 88,
    "start_time": "2022-06-10T17:18:14.926Z"
   },
   {
    "duration": 64,
    "start_time": "2022-06-10T17:18:15.016Z"
   },
   {
    "duration": 558,
    "start_time": "2022-06-10T17:18:15.084Z"
   },
   {
    "duration": 337,
    "start_time": "2022-06-10T17:18:15.644Z"
   },
   {
    "duration": 101,
    "start_time": "2022-06-10T17:18:15.983Z"
   },
   {
    "duration": 103,
    "start_time": "2022-06-10T17:18:16.086Z"
   },
   {
    "duration": 530,
    "start_time": "2022-06-10T17:18:16.191Z"
   },
   {
    "duration": 359,
    "start_time": "2022-06-10T17:18:16.722Z"
   },
   {
    "duration": 98,
    "start_time": "2022-06-10T17:18:17.083Z"
   },
   {
    "duration": 96,
    "start_time": "2022-06-10T17:18:17.184Z"
   },
   {
    "duration": 635,
    "start_time": "2022-06-10T17:18:17.282Z"
   },
   {
    "duration": 365,
    "start_time": "2022-06-10T17:18:17.918Z"
   },
   {
    "duration": 5,
    "start_time": "2022-06-10T17:18:18.285Z"
   },
   {
    "duration": 6,
    "start_time": "2022-06-10T17:18:18.379Z"
   },
   {
    "duration": 10,
    "start_time": "2022-06-10T17:18:18.388Z"
   },
   {
    "duration": 7,
    "start_time": "2022-06-10T17:18:18.400Z"
   },
   {
    "duration": 7,
    "start_time": "2022-06-10T17:18:18.408Z"
   },
   {
    "duration": 145,
    "start_time": "2022-06-10T17:18:18.418Z"
   },
   {
    "duration": 0,
    "start_time": "2022-06-10T17:18:18.564Z"
   },
   {
    "duration": 0,
    "start_time": "2022-06-10T17:18:18.565Z"
   },
   {
    "duration": 0,
    "start_time": "2022-06-10T17:18:18.566Z"
   },
   {
    "duration": 0,
    "start_time": "2022-06-10T17:18:18.567Z"
   },
   {
    "duration": 0,
    "start_time": "2022-06-10T17:18:18.577Z"
   },
   {
    "duration": 0,
    "start_time": "2022-06-10T17:18:18.578Z"
   },
   {
    "duration": 0,
    "start_time": "2022-06-10T17:18:18.579Z"
   },
   {
    "duration": 0,
    "start_time": "2022-06-10T17:18:18.580Z"
   },
   {
    "duration": 1,
    "start_time": "2022-06-10T17:18:18.581Z"
   },
   {
    "duration": 0,
    "start_time": "2022-06-10T17:18:18.582Z"
   },
   {
    "duration": 0,
    "start_time": "2022-06-10T17:18:18.583Z"
   },
   {
    "duration": 0,
    "start_time": "2022-06-10T17:18:18.584Z"
   },
   {
    "duration": 0,
    "start_time": "2022-06-10T17:18:18.585Z"
   },
   {
    "duration": 22,
    "start_time": "2022-06-10T17:18:39.230Z"
   },
   {
    "duration": 2,
    "start_time": "2022-06-10T17:18:41.755Z"
   },
   {
    "duration": 7,
    "start_time": "2022-06-10T17:18:43.473Z"
   },
   {
    "duration": 7,
    "start_time": "2022-06-10T17:18:44.257Z"
   },
   {
    "duration": 7,
    "start_time": "2022-06-10T17:18:45.186Z"
   },
   {
    "duration": 3,
    "start_time": "2022-06-10T17:18:47.858Z"
   },
   {
    "duration": 3,
    "start_time": "2022-06-10T17:18:50.939Z"
   },
   {
    "duration": 4,
    "start_time": "2022-06-10T17:18:53.474Z"
   },
   {
    "duration": 9,
    "start_time": "2022-06-10T17:18:56.336Z"
   },
   {
    "duration": 13,
    "start_time": "2022-06-10T17:19:29.287Z"
   },
   {
    "duration": 5,
    "start_time": "2022-06-10T17:20:04.288Z"
   },
   {
    "duration": 17,
    "start_time": "2022-06-10T17:20:05.513Z"
   },
   {
    "duration": 4,
    "start_time": "2022-06-10T17:20:20.794Z"
   },
   {
    "duration": 5,
    "start_time": "2022-06-10T17:20:22.379Z"
   },
   {
    "duration": 23,
    "start_time": "2022-06-10T17:20:23.329Z"
   },
   {
    "duration": 3,
    "start_time": "2022-06-10T17:20:41.418Z"
   },
   {
    "duration": 4,
    "start_time": "2022-06-10T17:20:42.948Z"
   },
   {
    "duration": 1245,
    "start_time": "2022-06-10T17:20:46.977Z"
   },
   {
    "duration": 5,
    "start_time": "2022-06-10T17:21:00.490Z"
   },
   {
    "duration": 1114,
    "start_time": "2022-06-10T17:21:02.161Z"
   },
   {
    "duration": 5,
    "start_time": "2022-06-10T17:21:10.242Z"
   },
   {
    "duration": 1124,
    "start_time": "2022-06-10T17:21:11.249Z"
   },
   {
    "duration": 4,
    "start_time": "2022-06-10T17:21:52.552Z"
   },
   {
    "duration": 1146,
    "start_time": "2022-06-10T17:21:53.370Z"
   },
   {
    "duration": 5,
    "start_time": "2022-06-10T17:22:38.214Z"
   },
   {
    "duration": 1126,
    "start_time": "2022-06-10T17:22:39.840Z"
   },
   {
    "duration": 3,
    "start_time": "2022-06-10T17:22:42.153Z"
   },
   {
    "duration": 1132,
    "start_time": "2022-06-10T17:23:02.414Z"
   },
   {
    "duration": 3,
    "start_time": "2022-06-10T17:23:30.410Z"
   },
   {
    "duration": 1146,
    "start_time": "2022-06-10T17:23:44.506Z"
   },
   {
    "duration": 4,
    "start_time": "2022-06-10T17:23:47.217Z"
   }
  ],
  "kernelspec": {
   "display_name": "Python 3 (ipykernel)",
   "language": "python",
   "name": "python3"
  },
  "language_info": {
   "codemirror_mode": {
    "name": "ipython",
    "version": 3
   },
   "file_extension": ".py",
   "mimetype": "text/x-python",
   "name": "python",
   "nbconvert_exporter": "python",
   "pygments_lexer": "ipython3",
   "version": "3.10.4"
  },
  "toc": {
   "base_numbering": 1,
   "nav_menu": {},
   "number_sections": true,
   "sideBar": true,
   "skip_h1_title": true,
   "title_cell": "Table of Contents",
   "title_sidebar": "Contents",
   "toc_cell": false,
   "toc_position": {},
   "toc_section_display": true,
   "toc_window_display": false
  }
 },
 "nbformat": 4,
 "nbformat_minor": 4
}
