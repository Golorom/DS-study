{
 "cells": [
  {
   "cell_type": "markdown",
   "id": "ca234190",
   "metadata": {},
   "source": [
    "# Исследование надежности заемщиков."
   ]
  },
  {
   "cell_type": "markdown",
   "id": "15fea32d",
   "metadata": {},
   "source": [
    "**Описание проекта**\n",
    "\n",
    "Заказчик - кредитный отдел банка.  \n",
    "Нужно разобраться, влияет ли семейное положение и количество детей клиента на факт погашения кредита в срок. Входные данные от банка — статистика о платёжеспособности клиентов.  \n",
    "Результаты исследования будут учтены при построении модели кредитного скоринга — специальной системы, которая оценивает способность потенциального заёмщика вернуть кредит банку.\n",
    "\n",
    "**Цель исследования**\n",
    "\n",
    "Установить:\n",
    "- Есть ли зависимость между количеством детей и возвратом кредита в срок;\n",
    "- Есть ли зависимость между семейным положением и возвратом кредита в срок;\n",
    "- Есть ли зависимость между уровнем дохода и возвратом кредита в срок;\n",
    "- Как разные цели кредита влияют на его возврат в срок?\n",
    "\n",
    "**Данные**\n",
    "\n",
    "`/datasets/data.csv`\n",
    "\n",
    "- `children` — количество детей в семье\n",
    "- `days_employed` — общий трудовой стаж в днях\n",
    "- `dob_years` — возраст клиента в годах\n",
    "- `education` — уровень образования клиента\n",
    "- `education_id` — идентификатор уровня образования\n",
    "- `family_status` — семейное положение\n",
    "- `family_status_id` — идентификатор семейного положения\n",
    "- `gender` — пол клиента\n",
    "- `income_type` — тип занятости\n",
    "- `debt` — имел ли задолженность по возврату кредитов\n",
    "- `total_income` — ежемесячный доход\n",
    "- `purpose` — цель получения кредита"
   ]
  },
  {
   "cell_type": "markdown",
   "id": "30bfe53f",
   "metadata": {},
   "source": [
    "### Шаг 1. Обзор данных"
   ]
  },
  {
   "cell_type": "code",
   "execution_count": 1,
   "id": "f09a156e",
   "metadata": {},
   "outputs": [],
   "source": [
    "# импортирую библиотеки\n",
    "import pandas as pd"
   ]
  },
  {
   "cell_type": "code",
   "execution_count": 2,
   "id": "153d06b3",
   "metadata": {},
   "outputs": [],
   "source": [
    "# читаю данные\n",
    "data = pd.read_csv('/datasets/data.csv')"
   ]
  },
  {
   "cell_type": "code",
   "execution_count": 3,
   "id": "a227f55d",
   "metadata": {},
   "outputs": [
    {
     "name": "stdout",
     "output_type": "stream",
     "text": [
      "<class 'pandas.core.frame.DataFrame'>\n",
      "RangeIndex: 21525 entries, 0 to 21524\n",
      "Data columns (total 12 columns):\n",
      "children            21525 non-null int64\n",
      "days_employed       19351 non-null float64\n",
      "dob_years           21525 non-null int64\n",
      "education           21525 non-null object\n",
      "education_id        21525 non-null int64\n",
      "family_status       21525 non-null object\n",
      "family_status_id    21525 non-null int64\n",
      "gender              21525 non-null object\n",
      "income_type         21525 non-null object\n",
      "debt                21525 non-null int64\n",
      "total_income        19351 non-null float64\n",
      "purpose             21525 non-null object\n",
      "dtypes: float64(2), int64(5), object(5)\n",
      "memory usage: 2.0+ MB\n",
      "Index(['children', 'days_employed', 'dob_years', 'education', 'education_id',\n",
      "       'family_status', 'family_status_id', 'gender', 'income_type', 'debt',\n",
      "       'total_income', 'purpose'],\n",
      "      dtype='object')\n"
     ]
    },
    {
     "data": {
      "text/html": [
       "<div>\n",
       "<style scoped>\n",
       "    .dataframe tbody tr th:only-of-type {\n",
       "        vertical-align: middle;\n",
       "    }\n",
       "\n",
       "    .dataframe tbody tr th {\n",
       "        vertical-align: top;\n",
       "    }\n",
       "\n",
       "    .dataframe thead th {\n",
       "        text-align: right;\n",
       "    }\n",
       "</style>\n",
       "<table border=\"1\" class=\"dataframe\">\n",
       "  <thead>\n",
       "    <tr style=\"text-align: right;\">\n",
       "      <th></th>\n",
       "      <th>children</th>\n",
       "      <th>days_employed</th>\n",
       "      <th>dob_years</th>\n",
       "      <th>education</th>\n",
       "      <th>education_id</th>\n",
       "      <th>family_status</th>\n",
       "      <th>family_status_id</th>\n",
       "      <th>gender</th>\n",
       "      <th>income_type</th>\n",
       "      <th>debt</th>\n",
       "      <th>total_income</th>\n",
       "      <th>purpose</th>\n",
       "    </tr>\n",
       "  </thead>\n",
       "  <tbody>\n",
       "    <tr>\n",
       "      <td>0</td>\n",
       "      <td>1</td>\n",
       "      <td>-8437.673028</td>\n",
       "      <td>42</td>\n",
       "      <td>высшее</td>\n",
       "      <td>0</td>\n",
       "      <td>женат / замужем</td>\n",
       "      <td>0</td>\n",
       "      <td>F</td>\n",
       "      <td>сотрудник</td>\n",
       "      <td>0</td>\n",
       "      <td>253875.639453</td>\n",
       "      <td>покупка жилья</td>\n",
       "    </tr>\n",
       "    <tr>\n",
       "      <td>1</td>\n",
       "      <td>1</td>\n",
       "      <td>-4024.803754</td>\n",
       "      <td>36</td>\n",
       "      <td>среднее</td>\n",
       "      <td>1</td>\n",
       "      <td>женат / замужем</td>\n",
       "      <td>0</td>\n",
       "      <td>F</td>\n",
       "      <td>сотрудник</td>\n",
       "      <td>0</td>\n",
       "      <td>112080.014102</td>\n",
       "      <td>приобретение автомобиля</td>\n",
       "    </tr>\n",
       "    <tr>\n",
       "      <td>2</td>\n",
       "      <td>0</td>\n",
       "      <td>-5623.422610</td>\n",
       "      <td>33</td>\n",
       "      <td>Среднее</td>\n",
       "      <td>1</td>\n",
       "      <td>женат / замужем</td>\n",
       "      <td>0</td>\n",
       "      <td>M</td>\n",
       "      <td>сотрудник</td>\n",
       "      <td>0</td>\n",
       "      <td>145885.952297</td>\n",
       "      <td>покупка жилья</td>\n",
       "    </tr>\n",
       "    <tr>\n",
       "      <td>3</td>\n",
       "      <td>3</td>\n",
       "      <td>-4124.747207</td>\n",
       "      <td>32</td>\n",
       "      <td>среднее</td>\n",
       "      <td>1</td>\n",
       "      <td>женат / замужем</td>\n",
       "      <td>0</td>\n",
       "      <td>M</td>\n",
       "      <td>сотрудник</td>\n",
       "      <td>0</td>\n",
       "      <td>267628.550329</td>\n",
       "      <td>дополнительное образование</td>\n",
       "    </tr>\n",
       "    <tr>\n",
       "      <td>4</td>\n",
       "      <td>0</td>\n",
       "      <td>340266.072047</td>\n",
       "      <td>53</td>\n",
       "      <td>среднее</td>\n",
       "      <td>1</td>\n",
       "      <td>гражданский брак</td>\n",
       "      <td>1</td>\n",
       "      <td>F</td>\n",
       "      <td>пенсионер</td>\n",
       "      <td>0</td>\n",
       "      <td>158616.077870</td>\n",
       "      <td>сыграть свадьбу</td>\n",
       "    </tr>\n",
       "    <tr>\n",
       "      <td>5</td>\n",
       "      <td>0</td>\n",
       "      <td>-926.185831</td>\n",
       "      <td>27</td>\n",
       "      <td>высшее</td>\n",
       "      <td>0</td>\n",
       "      <td>гражданский брак</td>\n",
       "      <td>1</td>\n",
       "      <td>M</td>\n",
       "      <td>компаньон</td>\n",
       "      <td>0</td>\n",
       "      <td>255763.565419</td>\n",
       "      <td>покупка жилья</td>\n",
       "    </tr>\n",
       "    <tr>\n",
       "      <td>6</td>\n",
       "      <td>0</td>\n",
       "      <td>-2879.202052</td>\n",
       "      <td>43</td>\n",
       "      <td>высшее</td>\n",
       "      <td>0</td>\n",
       "      <td>женат / замужем</td>\n",
       "      <td>0</td>\n",
       "      <td>F</td>\n",
       "      <td>компаньон</td>\n",
       "      <td>0</td>\n",
       "      <td>240525.971920</td>\n",
       "      <td>операции с жильем</td>\n",
       "    </tr>\n",
       "    <tr>\n",
       "      <td>7</td>\n",
       "      <td>0</td>\n",
       "      <td>-152.779569</td>\n",
       "      <td>50</td>\n",
       "      <td>СРЕДНЕЕ</td>\n",
       "      <td>1</td>\n",
       "      <td>женат / замужем</td>\n",
       "      <td>0</td>\n",
       "      <td>M</td>\n",
       "      <td>сотрудник</td>\n",
       "      <td>0</td>\n",
       "      <td>135823.934197</td>\n",
       "      <td>образование</td>\n",
       "    </tr>\n",
       "    <tr>\n",
       "      <td>8</td>\n",
       "      <td>2</td>\n",
       "      <td>-6929.865299</td>\n",
       "      <td>35</td>\n",
       "      <td>ВЫСШЕЕ</td>\n",
       "      <td>0</td>\n",
       "      <td>гражданский брак</td>\n",
       "      <td>1</td>\n",
       "      <td>F</td>\n",
       "      <td>сотрудник</td>\n",
       "      <td>0</td>\n",
       "      <td>95856.832424</td>\n",
       "      <td>на проведение свадьбы</td>\n",
       "    </tr>\n",
       "    <tr>\n",
       "      <td>9</td>\n",
       "      <td>0</td>\n",
       "      <td>-2188.756445</td>\n",
       "      <td>41</td>\n",
       "      <td>среднее</td>\n",
       "      <td>1</td>\n",
       "      <td>женат / замужем</td>\n",
       "      <td>0</td>\n",
       "      <td>M</td>\n",
       "      <td>сотрудник</td>\n",
       "      <td>0</td>\n",
       "      <td>144425.938277</td>\n",
       "      <td>покупка жилья для семьи</td>\n",
       "    </tr>\n",
       "  </tbody>\n",
       "</table>\n",
       "</div>"
      ],
      "text/plain": [
       "   children  days_employed  dob_years education  education_id  \\\n",
       "0         1   -8437.673028         42    высшее             0   \n",
       "1         1   -4024.803754         36   среднее             1   \n",
       "2         0   -5623.422610         33   Среднее             1   \n",
       "3         3   -4124.747207         32   среднее             1   \n",
       "4         0  340266.072047         53   среднее             1   \n",
       "5         0    -926.185831         27    высшее             0   \n",
       "6         0   -2879.202052         43    высшее             0   \n",
       "7         0    -152.779569         50   СРЕДНЕЕ             1   \n",
       "8         2   -6929.865299         35    ВЫСШЕЕ             0   \n",
       "9         0   -2188.756445         41   среднее             1   \n",
       "\n",
       "      family_status  family_status_id gender income_type  debt   total_income  \\\n",
       "0   женат / замужем                 0      F   сотрудник     0  253875.639453   \n",
       "1   женат / замужем                 0      F   сотрудник     0  112080.014102   \n",
       "2   женат / замужем                 0      M   сотрудник     0  145885.952297   \n",
       "3   женат / замужем                 0      M   сотрудник     0  267628.550329   \n",
       "4  гражданский брак                 1      F   пенсионер     0  158616.077870   \n",
       "5  гражданский брак                 1      M   компаньон     0  255763.565419   \n",
       "6   женат / замужем                 0      F   компаньон     0  240525.971920   \n",
       "7   женат / замужем                 0      M   сотрудник     0  135823.934197   \n",
       "8  гражданский брак                 1      F   сотрудник     0   95856.832424   \n",
       "9   женат / замужем                 0      M   сотрудник     0  144425.938277   \n",
       "\n",
       "                      purpose  \n",
       "0               покупка жилья  \n",
       "1     приобретение автомобиля  \n",
       "2               покупка жилья  \n",
       "3  дополнительное образование  \n",
       "4             сыграть свадьбу  \n",
       "5               покупка жилья  \n",
       "6           операции с жильем  \n",
       "7                 образование  \n",
       "8       на проведение свадьбы  \n",
       "9     покупка жилья для семьи  "
      ]
     },
     "execution_count": 3,
     "metadata": {},
     "output_type": "execute_result"
    }
   ],
   "source": [
    "# ознакамливаюсь с данными: получаю общую сводку, проверяю имена колонок на пробелы, читаю первые десять строк\n",
    "data.info()\n",
    "print(data.columns)\n",
    "data.head(10)"
   ]
  },
  {
   "cell_type": "markdown",
   "id": "6c75a7e6",
   "metadata": {},
   "source": [
    "**Предварительный обзор**\n",
    "\n",
    "В датасете 21525 строк. Названия колонок соответствуют документации.  \n",
    "4 столбца с численными данными: `children`, `days_employed`, `dob_years`, `total_income`  \n",
    "8 столбцов с категориальными данными: `education`, `education_id`, `family_status`, `family_status_id`, `gender`, `income_type`, `debt`, `purpose`\n",
    "\n",
    "**Предварительные замечания:**\n",
    "\n",
    "- Имеется одинаковое количество пропусков в столбцах `days_employed` и `total_income`;\n",
    "- `days_employed` должно быть представленно целочисленными данными. Для исследования `total_income` тоже можно перевести в целочисленный тип.\n",
    "- Аномально большое значение по индексу 4 в столбце `days_employed`, остальные видимые значения отрицательны.\n",
    "- В столбцах `education`, `family_status`, `purpose` - отсутствует единый формат заполнения - неявные дубликаты;\n",
    "- Столбцы `education` и `education_id`, `family status` и `family_status_id` - в отношении ценности данных для исследования - дублируют друг друга."
   ]
  },
  {
   "cell_type": "markdown",
   "id": "e8fcae78",
   "metadata": {},
   "source": [
    "### Шаг 2.1 Заполнение пропусков"
   ]
  },
  {
   "cell_type": "markdown",
   "id": "a6d81b4d",
   "metadata": {},
   "source": [
    "Установим долю пропусков от общего количества строк. Проверим на взаимосвязь между пропусками в столбцах `days_employed` и `total_income`."
   ]
  },
  {
   "cell_type": "code",
   "execution_count": 15,
   "id": "86b36249",
   "metadata": {
    "scrolled": true
   },
   "outputs": [
    {
     "name": "stdout",
     "output_type": "stream",
     "text": [
      "Количество строк с пропусками: 2174\n",
      "0.10099883855981417\n",
      "Это 10.10% от общего количества\n",
      "Из них с пропусками в столбцах days_employed и total_income: 2174\n"
     ]
    }
   ],
   "source": [
    "# нахожу количество и процент от общего количества, использую print вместо display для компактного вывода\n",
    "print('Количество строк с пропусками:', data['days_employed'].isna().sum())\n",
    "\n",
    "# для процентовки использую f-строку\n",
    "# - старая версия - print(f\"Это {data['days_employed'].isna().sum() / data['days_employed'].count() :.2%} от общего количества\")\n",
    "# -исправил старую версию - print(f\"Это {data['days_employed'].isna().sum() / len(data) :.2%} от общего количества\")\n",
    "print(f\"Это {data['days_employed'].isna().mean() :.2%} от общего количества\")\n",
    "\n",
    "# подсчитываю количество строк с пропусками в обоих столбцах\n",
    "print(\n",
    "    'Из них с пропусками в столбцах days_employed и total_income:', \n",
    "    data.loc[(data['days_employed'].isna()) &\n",
    "    (data['total_income'].isna())].shape[0]\n",
    ")"
   ]
  },
  {
   "cell_type": "markdown",
   "id": "ef93ee66",
   "metadata": {},
   "source": [
    "Выведем пять первых и пять последних строк с пропусками, на случай иных явных связей."
   ]
  },
  {
   "cell_type": "code",
   "execution_count": 16,
   "id": "6c2f87d9",
   "metadata": {},
   "outputs": [
    {
     "data": {
      "text/html": [
       "<div>\n",
       "<style scoped>\n",
       "    .dataframe tbody tr th:only-of-type {\n",
       "        vertical-align: middle;\n",
       "    }\n",
       "\n",
       "    .dataframe tbody tr th {\n",
       "        vertical-align: top;\n",
       "    }\n",
       "\n",
       "    .dataframe thead th {\n",
       "        text-align: right;\n",
       "    }\n",
       "</style>\n",
       "<table border=\"1\" class=\"dataframe\">\n",
       "  <thead>\n",
       "    <tr style=\"text-align: right;\">\n",
       "      <th></th>\n",
       "      <th>children</th>\n",
       "      <th>days_employed</th>\n",
       "      <th>dob_years</th>\n",
       "      <th>education</th>\n",
       "      <th>education_id</th>\n",
       "      <th>family_status</th>\n",
       "      <th>family_status_id</th>\n",
       "      <th>gender</th>\n",
       "      <th>income_type</th>\n",
       "      <th>debt</th>\n",
       "      <th>total_income</th>\n",
       "      <th>purpose</th>\n",
       "    </tr>\n",
       "  </thead>\n",
       "  <tbody>\n",
       "    <tr>\n",
       "      <td>12</td>\n",
       "      <td>0</td>\n",
       "      <td>NaN</td>\n",
       "      <td>65</td>\n",
       "      <td>среднее</td>\n",
       "      <td>1</td>\n",
       "      <td>гражданский брак</td>\n",
       "      <td>1</td>\n",
       "      <td>M</td>\n",
       "      <td>пенсионер</td>\n",
       "      <td>0</td>\n",
       "      <td>NaN</td>\n",
       "      <td>сыграть свадьбу</td>\n",
       "    </tr>\n",
       "    <tr>\n",
       "      <td>26</td>\n",
       "      <td>0</td>\n",
       "      <td>NaN</td>\n",
       "      <td>41</td>\n",
       "      <td>среднее</td>\n",
       "      <td>1</td>\n",
       "      <td>женат / замужем</td>\n",
       "      <td>0</td>\n",
       "      <td>M</td>\n",
       "      <td>госслужащий</td>\n",
       "      <td>0</td>\n",
       "      <td>NaN</td>\n",
       "      <td>образование</td>\n",
       "    </tr>\n",
       "    <tr>\n",
       "      <td>29</td>\n",
       "      <td>0</td>\n",
       "      <td>NaN</td>\n",
       "      <td>63</td>\n",
       "      <td>среднее</td>\n",
       "      <td>1</td>\n",
       "      <td>Не женат / не замужем</td>\n",
       "      <td>4</td>\n",
       "      <td>F</td>\n",
       "      <td>пенсионер</td>\n",
       "      <td>0</td>\n",
       "      <td>NaN</td>\n",
       "      <td>строительство жилой недвижимости</td>\n",
       "    </tr>\n",
       "    <tr>\n",
       "      <td>41</td>\n",
       "      <td>0</td>\n",
       "      <td>NaN</td>\n",
       "      <td>50</td>\n",
       "      <td>среднее</td>\n",
       "      <td>1</td>\n",
       "      <td>женат / замужем</td>\n",
       "      <td>0</td>\n",
       "      <td>F</td>\n",
       "      <td>госслужащий</td>\n",
       "      <td>0</td>\n",
       "      <td>NaN</td>\n",
       "      <td>сделка с подержанным автомобилем</td>\n",
       "    </tr>\n",
       "    <tr>\n",
       "      <td>55</td>\n",
       "      <td>0</td>\n",
       "      <td>NaN</td>\n",
       "      <td>54</td>\n",
       "      <td>среднее</td>\n",
       "      <td>1</td>\n",
       "      <td>гражданский брак</td>\n",
       "      <td>1</td>\n",
       "      <td>F</td>\n",
       "      <td>пенсионер</td>\n",
       "      <td>1</td>\n",
       "      <td>NaN</td>\n",
       "      <td>сыграть свадьбу</td>\n",
       "    </tr>\n",
       "  </tbody>\n",
       "</table>\n",
       "</div>"
      ],
      "text/plain": [
       "    children  days_employed  dob_years education  education_id  \\\n",
       "12         0            NaN         65   среднее             1   \n",
       "26         0            NaN         41   среднее             1   \n",
       "29         0            NaN         63   среднее             1   \n",
       "41         0            NaN         50   среднее             1   \n",
       "55         0            NaN         54   среднее             1   \n",
       "\n",
       "            family_status  family_status_id gender  income_type  debt  \\\n",
       "12       гражданский брак                 1      M    пенсионер     0   \n",
       "26        женат / замужем                 0      M  госслужащий     0   \n",
       "29  Не женат / не замужем                 4      F    пенсионер     0   \n",
       "41        женат / замужем                 0      F  госслужащий     0   \n",
       "55       гражданский брак                 1      F    пенсионер     1   \n",
       "\n",
       "    total_income                           purpose  \n",
       "12           NaN                   сыграть свадьбу  \n",
       "26           NaN                       образование  \n",
       "29           NaN  строительство жилой недвижимости  \n",
       "41           NaN  сделка с подержанным автомобилем  \n",
       "55           NaN                   сыграть свадьбу  "
      ]
     },
     "metadata": {},
     "output_type": "display_data"
    },
    {
     "data": {
      "text/html": [
       "<div>\n",
       "<style scoped>\n",
       "    .dataframe tbody tr th:only-of-type {\n",
       "        vertical-align: middle;\n",
       "    }\n",
       "\n",
       "    .dataframe tbody tr th {\n",
       "        vertical-align: top;\n",
       "    }\n",
       "\n",
       "    .dataframe thead th {\n",
       "        text-align: right;\n",
       "    }\n",
       "</style>\n",
       "<table border=\"1\" class=\"dataframe\">\n",
       "  <thead>\n",
       "    <tr style=\"text-align: right;\">\n",
       "      <th></th>\n",
       "      <th>children</th>\n",
       "      <th>days_employed</th>\n",
       "      <th>dob_years</th>\n",
       "      <th>education</th>\n",
       "      <th>education_id</th>\n",
       "      <th>family_status</th>\n",
       "      <th>family_status_id</th>\n",
       "      <th>gender</th>\n",
       "      <th>income_type</th>\n",
       "      <th>debt</th>\n",
       "      <th>total_income</th>\n",
       "      <th>purpose</th>\n",
       "    </tr>\n",
       "  </thead>\n",
       "  <tbody>\n",
       "    <tr>\n",
       "      <td>21489</td>\n",
       "      <td>2</td>\n",
       "      <td>NaN</td>\n",
       "      <td>47</td>\n",
       "      <td>Среднее</td>\n",
       "      <td>1</td>\n",
       "      <td>женат / замужем</td>\n",
       "      <td>0</td>\n",
       "      <td>M</td>\n",
       "      <td>компаньон</td>\n",
       "      <td>0</td>\n",
       "      <td>NaN</td>\n",
       "      <td>сделка с автомобилем</td>\n",
       "    </tr>\n",
       "    <tr>\n",
       "      <td>21495</td>\n",
       "      <td>1</td>\n",
       "      <td>NaN</td>\n",
       "      <td>50</td>\n",
       "      <td>среднее</td>\n",
       "      <td>1</td>\n",
       "      <td>гражданский брак</td>\n",
       "      <td>1</td>\n",
       "      <td>F</td>\n",
       "      <td>сотрудник</td>\n",
       "      <td>0</td>\n",
       "      <td>NaN</td>\n",
       "      <td>свадьба</td>\n",
       "    </tr>\n",
       "    <tr>\n",
       "      <td>21497</td>\n",
       "      <td>0</td>\n",
       "      <td>NaN</td>\n",
       "      <td>48</td>\n",
       "      <td>ВЫСШЕЕ</td>\n",
       "      <td>0</td>\n",
       "      <td>женат / замужем</td>\n",
       "      <td>0</td>\n",
       "      <td>F</td>\n",
       "      <td>компаньон</td>\n",
       "      <td>0</td>\n",
       "      <td>NaN</td>\n",
       "      <td>строительство недвижимости</td>\n",
       "    </tr>\n",
       "    <tr>\n",
       "      <td>21502</td>\n",
       "      <td>1</td>\n",
       "      <td>NaN</td>\n",
       "      <td>42</td>\n",
       "      <td>среднее</td>\n",
       "      <td>1</td>\n",
       "      <td>женат / замужем</td>\n",
       "      <td>0</td>\n",
       "      <td>F</td>\n",
       "      <td>сотрудник</td>\n",
       "      <td>0</td>\n",
       "      <td>NaN</td>\n",
       "      <td>строительство жилой недвижимости</td>\n",
       "    </tr>\n",
       "    <tr>\n",
       "      <td>21510</td>\n",
       "      <td>2</td>\n",
       "      <td>NaN</td>\n",
       "      <td>28</td>\n",
       "      <td>среднее</td>\n",
       "      <td>1</td>\n",
       "      <td>женат / замужем</td>\n",
       "      <td>0</td>\n",
       "      <td>F</td>\n",
       "      <td>сотрудник</td>\n",
       "      <td>0</td>\n",
       "      <td>NaN</td>\n",
       "      <td>приобретение автомобиля</td>\n",
       "    </tr>\n",
       "  </tbody>\n",
       "</table>\n",
       "</div>"
      ],
      "text/plain": [
       "       children  days_employed  dob_years education  education_id  \\\n",
       "21489         2            NaN         47   Среднее             1   \n",
       "21495         1            NaN         50   среднее             1   \n",
       "21497         0            NaN         48    ВЫСШЕЕ             0   \n",
       "21502         1            NaN         42   среднее             1   \n",
       "21510         2            NaN         28   среднее             1   \n",
       "\n",
       "          family_status  family_status_id gender income_type  debt  \\\n",
       "21489   женат / замужем                 0      M   компаньон     0   \n",
       "21495  гражданский брак                 1      F   сотрудник     0   \n",
       "21497   женат / замужем                 0      F   компаньон     0   \n",
       "21502   женат / замужем                 0      F   сотрудник     0   \n",
       "21510   женат / замужем                 0      F   сотрудник     0   \n",
       "\n",
       "       total_income                           purpose  \n",
       "21489           NaN              сделка с автомобилем  \n",
       "21495           NaN                           свадьба  \n",
       "21497           NaN        строительство недвижимости  \n",
       "21502           NaN  строительство жилой недвижимости  \n",
       "21510           NaN           приобретение автомобиля  "
      ]
     },
     "execution_count": 16,
     "metadata": {},
     "output_type": "execute_result"
    }
   ],
   "source": [
    "# фильтр по методу .isna()\n",
    "display(data[data['days_employed'].isna()].head())\n",
    "data[data['days_employed'].isna()].tail()"
   ]
  },
  {
   "cell_type": "markdown",
   "id": "da362c6c",
   "metadata": {},
   "source": [
    "Иных явных связей нет.  \n",
    "\n",
    "Связь между пропусками в столбцах `days_employed` и `total_income` подтверждена. Также в столбце `days_employed` замечены аномально большие, и отрицательные значения. Явная проблема с выгрузкой данных и/или исходными данными. Эту информацию необходимо передать разработчикам для дальнейшего установления причин и устранения проблем.  \n",
    "Данные столбца `days_employed` не требуются для выполнения цели исследования и не повлияют на результат. \n",
    "\n",
    "Процент строк с пропусками существенный, более 10% от всего датасета. Заполним пропуски медианными значениями, как методом наиболее стойким к аномалиям.  "
   ]
  },
  {
   "cell_type": "code",
   "execution_count": 17,
   "id": "9793c5cc",
   "metadata": {
    "scrolled": true
   },
   "outputs": [
    {
     "data": {
      "text/html": [
       "<div>\n",
       "<style scoped>\n",
       "    .dataframe tbody tr th:only-of-type {\n",
       "        vertical-align: middle;\n",
       "    }\n",
       "\n",
       "    .dataframe tbody tr th {\n",
       "        vertical-align: top;\n",
       "    }\n",
       "\n",
       "    .dataframe thead th {\n",
       "        text-align: right;\n",
       "    }\n",
       "</style>\n",
       "<table border=\"1\" class=\"dataframe\">\n",
       "  <thead>\n",
       "    <tr style=\"text-align: right;\">\n",
       "      <th></th>\n",
       "      <th>days_employed</th>\n",
       "      <th>total_income</th>\n",
       "    </tr>\n",
       "    <tr>\n",
       "      <th>income_type</th>\n",
       "      <th></th>\n",
       "      <th></th>\n",
       "    </tr>\n",
       "  </thead>\n",
       "  <tbody>\n",
       "    <tr>\n",
       "      <td>безработный</td>\n",
       "      <td>366413.652744</td>\n",
       "      <td>131339.751676</td>\n",
       "    </tr>\n",
       "    <tr>\n",
       "      <td>в декрете</td>\n",
       "      <td>-3296.759962</td>\n",
       "      <td>53829.130729</td>\n",
       "    </tr>\n",
       "    <tr>\n",
       "      <td>госслужащий</td>\n",
       "      <td>-2689.368353</td>\n",
       "      <td>150447.935283</td>\n",
       "    </tr>\n",
       "    <tr>\n",
       "      <td>компаньон</td>\n",
       "      <td>-1547.382223</td>\n",
       "      <td>172357.950966</td>\n",
       "    </tr>\n",
       "    <tr>\n",
       "      <td>пенсионер</td>\n",
       "      <td>365213.306266</td>\n",
       "      <td>118514.486412</td>\n",
       "    </tr>\n",
       "    <tr>\n",
       "      <td>предприниматель</td>\n",
       "      <td>-520.848083</td>\n",
       "      <td>499163.144947</td>\n",
       "    </tr>\n",
       "    <tr>\n",
       "      <td>сотрудник</td>\n",
       "      <td>-1574.202821</td>\n",
       "      <td>142594.396847</td>\n",
       "    </tr>\n",
       "    <tr>\n",
       "      <td>студент</td>\n",
       "      <td>-578.751554</td>\n",
       "      <td>98201.625314</td>\n",
       "    </tr>\n",
       "  </tbody>\n",
       "</table>\n",
       "</div>"
      ],
      "text/plain": [
       "                 days_employed   total_income\n",
       "income_type                                  \n",
       "безработный      366413.652744  131339.751676\n",
       "в декрете         -3296.759962   53829.130729\n",
       "госслужащий       -2689.368353  150447.935283\n",
       "компаньон         -1547.382223  172357.950966\n",
       "пенсионер        365213.306266  118514.486412\n",
       "предприниматель    -520.848083  499163.144947\n",
       "сотрудник         -1574.202821  142594.396847\n",
       "студент            -578.751554   98201.625314"
      ]
     },
     "execution_count": 17,
     "metadata": {},
     "output_type": "execute_result"
    }
   ],
   "source": [
    "# вывожу медианные значения days_employed и total_income для каждой категории, для проверки после замещений\n",
    "data.groupby('income_type')['days_employed', 'total_income'].median()"
   ]
  },
  {
   "cell_type": "code",
   "execution_count": 22,
   "id": "f9d8e6bf",
   "metadata": {},
   "outputs": [
    {
     "data": {
      "text/html": [
       "<div>\n",
       "<style scoped>\n",
       "    .dataframe tbody tr th:only-of-type {\n",
       "        vertical-align: middle;\n",
       "    }\n",
       "\n",
       "    .dataframe tbody tr th {\n",
       "        vertical-align: top;\n",
       "    }\n",
       "\n",
       "    .dataframe thead th {\n",
       "        text-align: right;\n",
       "    }\n",
       "</style>\n",
       "<table border=\"1\" class=\"dataframe\">\n",
       "  <thead>\n",
       "    <tr style=\"text-align: right;\">\n",
       "      <th></th>\n",
       "      <th>days_employed</th>\n",
       "      <th>total_income</th>\n",
       "    </tr>\n",
       "    <tr>\n",
       "      <th>income_type</th>\n",
       "      <th></th>\n",
       "      <th></th>\n",
       "    </tr>\n",
       "  </thead>\n",
       "  <tbody>\n",
       "    <tr>\n",
       "      <td>безработный</td>\n",
       "      <td>366413.652744</td>\n",
       "      <td>131339.751676</td>\n",
       "    </tr>\n",
       "    <tr>\n",
       "      <td>в декрете</td>\n",
       "      <td>-3296.759962</td>\n",
       "      <td>53829.130729</td>\n",
       "    </tr>\n",
       "    <tr>\n",
       "      <td>госслужащий</td>\n",
       "      <td>-3040.268136</td>\n",
       "      <td>161331.258781</td>\n",
       "    </tr>\n",
       "    <tr>\n",
       "      <td>компаньон</td>\n",
       "      <td>-1769.534329</td>\n",
       "      <td>186258.299315</td>\n",
       "    </tr>\n",
       "    <tr>\n",
       "      <td>пенсионер</td>\n",
       "      <td>365003.491245</td>\n",
       "      <td>128747.675570</td>\n",
       "    </tr>\n",
       "    <tr>\n",
       "      <td>предприниматель</td>\n",
       "      <td>-520.848083</td>\n",
       "      <td>499163.144947</td>\n",
       "    </tr>\n",
       "    <tr>\n",
       "      <td>сотрудник</td>\n",
       "      <td>-1811.811959</td>\n",
       "      <td>151820.150745</td>\n",
       "    </tr>\n",
       "    <tr>\n",
       "      <td>студент</td>\n",
       "      <td>-578.751554</td>\n",
       "      <td>98201.625314</td>\n",
       "    </tr>\n",
       "  </tbody>\n",
       "</table>\n",
       "</div>"
      ],
      "text/plain": [
       "                 days_employed   total_income\n",
       "income_type                                  \n",
       "безработный      366413.652744  131339.751676\n",
       "в декрете         -3296.759962   53829.130729\n",
       "госслужащий       -3040.268136  161331.258781\n",
       "компаньон         -1769.534329  186258.299315\n",
       "пенсионер        365003.491245  128747.675570\n",
       "предприниматель    -520.848083  499163.144947\n",
       "сотрудник         -1811.811959  151820.150745\n",
       "студент            -578.751554   98201.625314"
      ]
     },
     "metadata": {},
     "output_type": "display_data"
    },
    {
     "name": "stdout",
     "output_type": "stream",
     "text": [
      "Количество строк с пропусками: 0\n"
     ]
    }
   ],
   "source": [
    "# fillna чтобы заменить только NaN. Аргумент - датафрейм сгруппированный по 'income_type', применяю mean через transform на все занчения датафрейма\n",
    "data = data.fillna(data.groupby('income_type').transform('median'))\n",
    "\n",
    "# вывожу медианные значения days_employed и total_income для сравнения\n",
    "display(data.groupby('income_type')['days_employed', 'total_income'].median())\n",
    "\n",
    "# проверяю количество строк с пропусками\n",
    "print('Количество строк с пропусками:', data['days_employed'].isna().sum())"
   ]
  },
  {
   "cell_type": "markdown",
   "id": "048e640f",
   "metadata": {},
   "source": [
    "Все пропуски заполнены медианными значениями в соответствии с категорией дохода. "
   ]
  },
  {
   "cell_type": "markdown",
   "id": "40e0a435",
   "metadata": {},
   "source": [
    "### Шаг 2.2 Проверка данных на аномалии и исправления."
   ]
  },
  {
   "cell_type": "markdown",
   "id": "26be78b7",
   "metadata": {},
   "source": [
    "Ознакомимся с базовой статистикой по числовым значениям датафрейма."
   ]
  },
  {
   "cell_type": "code",
   "execution_count": 23,
   "id": "4f7367d6",
   "metadata": {
    "scrolled": true
   },
   "outputs": [
    {
     "data": {
      "text/html": [
       "<div>\n",
       "<style scoped>\n",
       "    .dataframe tbody tr th:only-of-type {\n",
       "        vertical-align: middle;\n",
       "    }\n",
       "\n",
       "    .dataframe tbody tr th {\n",
       "        vertical-align: top;\n",
       "    }\n",
       "\n",
       "    .dataframe thead th {\n",
       "        text-align: right;\n",
       "    }\n",
       "</style>\n",
       "<table border=\"1\" class=\"dataframe\">\n",
       "  <thead>\n",
       "    <tr style=\"text-align: right;\">\n",
       "      <th></th>\n",
       "      <th>children</th>\n",
       "      <th>days_employed</th>\n",
       "      <th>dob_years</th>\n",
       "      <th>education_id</th>\n",
       "      <th>family_status_id</th>\n",
       "      <th>debt</th>\n",
       "      <th>total_income</th>\n",
       "    </tr>\n",
       "  </thead>\n",
       "  <tbody>\n",
       "    <tr>\n",
       "      <td>count</td>\n",
       "      <td>21525.000000</td>\n",
       "      <td>21525.000000</td>\n",
       "      <td>21525.000000</td>\n",
       "      <td>21525.000000</td>\n",
       "      <td>21525.000000</td>\n",
       "      <td>21525.000000</td>\n",
       "      <td>2.152500e+04</td>\n",
       "    </tr>\n",
       "    <tr>\n",
       "      <td>mean</td>\n",
       "      <td>0.538908</td>\n",
       "      <td>63489.685315</td>\n",
       "      <td>43.293380</td>\n",
       "      <td>0.817236</td>\n",
       "      <td>0.972544</td>\n",
       "      <td>0.080883</td>\n",
       "      <td>1.673959e+05</td>\n",
       "    </tr>\n",
       "    <tr>\n",
       "      <td>std</td>\n",
       "      <td>1.381587</td>\n",
       "      <td>141168.183775</td>\n",
       "      <td>12.574584</td>\n",
       "      <td>0.548138</td>\n",
       "      <td>1.420324</td>\n",
       "      <td>0.272661</td>\n",
       "      <td>9.790695e+04</td>\n",
       "    </tr>\n",
       "    <tr>\n",
       "      <td>min</td>\n",
       "      <td>-1.000000</td>\n",
       "      <td>-18388.949901</td>\n",
       "      <td>0.000000</td>\n",
       "      <td>0.000000</td>\n",
       "      <td>0.000000</td>\n",
       "      <td>0.000000</td>\n",
       "      <td>2.066726e+04</td>\n",
       "    </tr>\n",
       "    <tr>\n",
       "      <td>25%</td>\n",
       "      <td>0.000000</td>\n",
       "      <td>-2570.047544</td>\n",
       "      <td>33.000000</td>\n",
       "      <td>1.000000</td>\n",
       "      <td>0.000000</td>\n",
       "      <td>0.000000</td>\n",
       "      <td>1.077982e+05</td>\n",
       "    </tr>\n",
       "    <tr>\n",
       "      <td>50%</td>\n",
       "      <td>0.000000</td>\n",
       "      <td>-1355.683356</td>\n",
       "      <td>42.000000</td>\n",
       "      <td>1.000000</td>\n",
       "      <td>0.000000</td>\n",
       "      <td>0.000000</td>\n",
       "      <td>1.519313e+05</td>\n",
       "    </tr>\n",
       "    <tr>\n",
       "      <td>75%</td>\n",
       "      <td>1.000000</td>\n",
       "      <td>-316.240646</td>\n",
       "      <td>53.000000</td>\n",
       "      <td>1.000000</td>\n",
       "      <td>1.000000</td>\n",
       "      <td>0.000000</td>\n",
       "      <td>2.024175e+05</td>\n",
       "    </tr>\n",
       "    <tr>\n",
       "      <td>max</td>\n",
       "      <td>20.000000</td>\n",
       "      <td>401755.400475</td>\n",
       "      <td>75.000000</td>\n",
       "      <td>4.000000</td>\n",
       "      <td>4.000000</td>\n",
       "      <td>1.000000</td>\n",
       "      <td>2.265604e+06</td>\n",
       "    </tr>\n",
       "  </tbody>\n",
       "</table>\n",
       "</div>"
      ],
      "text/plain": [
       "           children  days_employed     dob_years  education_id  \\\n",
       "count  21525.000000   21525.000000  21525.000000  21525.000000   \n",
       "mean       0.538908   63489.685315     43.293380      0.817236   \n",
       "std        1.381587  141168.183775     12.574584      0.548138   \n",
       "min       -1.000000  -18388.949901      0.000000      0.000000   \n",
       "25%        0.000000   -2570.047544     33.000000      1.000000   \n",
       "50%        0.000000   -1355.683356     42.000000      1.000000   \n",
       "75%        1.000000    -316.240646     53.000000      1.000000   \n",
       "max       20.000000  401755.400475     75.000000      4.000000   \n",
       "\n",
       "       family_status_id          debt  total_income  \n",
       "count      21525.000000  21525.000000  2.152500e+04  \n",
       "mean           0.972544      0.080883  1.673959e+05  \n",
       "std            1.420324      0.272661  9.790695e+04  \n",
       "min            0.000000      0.000000  2.066726e+04  \n",
       "25%            0.000000      0.000000  1.077982e+05  \n",
       "50%            0.000000      0.000000  1.519313e+05  \n",
       "75%            1.000000      0.000000  2.024175e+05  \n",
       "max            4.000000      1.000000  2.265604e+06  "
      ]
     },
     "execution_count": 23,
     "metadata": {},
     "output_type": "execute_result"
    }
   ],
   "source": [
    "# применяю метод describe()\n",
    "data.describe()"
   ]
  },
  {
   "cell_type": "markdown",
   "id": "1bc39fae",
   "metadata": {},
   "source": [
    "Помимо столбца `days_employed`, отрицательное значение имеется в столбце `children`. Как было замечено ранее, в столбце `days_employed` присутствуют аномальные значения - трудовой стаж в днях не может достигать подобных величин.  \n",
    "Максимальное заявленно количество детей - 20, что маловероятно.  \n",
    "Столбец `total_income` проверим отдельно."
   ]
  },
  {
   "cell_type": "code",
   "execution_count": 24,
   "id": "270be523",
   "metadata": {
    "scrolled": true
   },
   "outputs": [
    {
     "name": "stdout",
     "output_type": "stream",
     "text": [
      "Минималльный доход 20667.26379327158\n",
      "Максимальный доход 2265604.028722744\n"
     ]
    }
   ],
   "source": [
    "# проверим минимум, максимум\n",
    "print('Минималльный доход', data['total_income'].min())\n",
    "print('Максимальный доход', data['total_income'].max())"
   ]
  },
  {
   "cell_type": "markdown",
   "id": "dd96e8e5",
   "metadata": {},
   "source": [
    "Посмотрим какие значения количества детей имеются в столбце."
   ]
  },
  {
   "cell_type": "code",
   "execution_count": 25,
   "id": "11a38b62",
   "metadata": {},
   "outputs": [
    {
     "data": {
      "text/plain": [
       " 0     14149\n",
       " 1      4818\n",
       " 2      2055\n",
       " 3       330\n",
       " 20       76\n",
       "-1        47\n",
       " 4        41\n",
       " 5         9\n",
       "Name: children, dtype: int64"
      ]
     },
     "execution_count": 25,
     "metadata": {},
     "output_type": "execute_result"
    }
   ],
   "source": [
    "data['children'].value_counts()"
   ]
  },
  {
   "cell_type": "markdown",
   "id": "dca33faf",
   "metadata": {},
   "source": [
    "Не смотря на существование многодетных семей с боьшим количесвтом приемных детей, маловероятно что 76 подобных клиентов обратились ровно с 20 заявленными детьми. Для исследования надежности клиентво в зависимости от количества детей считаю целесообразными категоризовать семьи на бездетные, семьи с детьми и многодетными. 76 клиентов с вероятной ошибкой в данных это значительная доля от общего количества клиентов с 3 и более детьми (многодетных).  \n",
    "Считаю целесообразным избавиться от этих строк."
   ]
  },
  {
   "cell_type": "code",
   "execution_count": 26,
   "id": "c2da6c99",
   "metadata": {},
   "outputs": [
    {
     "data": {
      "text/plain": [
       " 0    14149\n",
       " 1     4818\n",
       " 2     2055\n",
       " 3      330\n",
       "-1       47\n",
       " 4       41\n",
       " 5        9\n",
       "Name: children, dtype: int64"
      ]
     },
     "execution_count": 26,
     "metadata": {},
     "output_type": "execute_result"
    }
   ],
   "source": [
    "# пересохраню датафрейм без строк содержащих значение 20 в столбце 'children'\n",
    "data = data[data['children'] != 20].reset_index(drop=True)\n",
    "\n",
    "# проверю результат\n",
    "data['children'].value_counts()"
   ]
  },
  {
   "cell_type": "markdown",
   "id": "02725ed5",
   "metadata": {},
   "source": [
    "Избавимся от отрицательных значений."
   ]
  },
  {
   "cell_type": "code",
   "execution_count": 27,
   "id": "cbd8bfa9",
   "metadata": {
    "scrolled": true
   },
   "outputs": [
    {
     "data": {
      "text/plain": [
       "children          0.000000\n",
       "days_employed    24.141633\n",
       "dtype: float64"
      ]
     },
     "execution_count": 27,
     "metadata": {},
     "output_type": "execute_result"
    }
   ],
   "source": [
    "# применяю метод abs() чтобы избавиться от отрицателльных значений. Тип данных столбца 'children' меняется на float\n",
    "data[['children', 'days_employed']] = data[['children', 'days_employed']].abs()\n",
    "\n",
    "# проверяю результат\n",
    "data[['children', 'days_employed']].min()"
   ]
  },
  {
   "cell_type": "markdown",
   "id": "54b22b28",
   "metadata": {},
   "source": [
    "Исходя из величины, можно предположить, что аномальные значения стажа выражены в часах. Выберем пять строк с аномальными значениями для проверки."
   ]
  },
  {
   "cell_type": "code",
   "execution_count": 28,
   "id": "990c7357",
   "metadata": {},
   "outputs": [
    {
     "data": {
      "text/html": [
       "<div>\n",
       "<style scoped>\n",
       "    .dataframe tbody tr th:only-of-type {\n",
       "        vertical-align: middle;\n",
       "    }\n",
       "\n",
       "    .dataframe tbody tr th {\n",
       "        vertical-align: top;\n",
       "    }\n",
       "\n",
       "    .dataframe thead th {\n",
       "        text-align: right;\n",
       "    }\n",
       "</style>\n",
       "<table border=\"1\" class=\"dataframe\">\n",
       "  <thead>\n",
       "    <tr style=\"text-align: right;\">\n",
       "      <th></th>\n",
       "      <th>days_employed</th>\n",
       "      <th>dob_years</th>\n",
       "    </tr>\n",
       "  </thead>\n",
       "  <tbody>\n",
       "    <tr>\n",
       "      <td>4</td>\n",
       "      <td>38.843159</td>\n",
       "      <td>53</td>\n",
       "    </tr>\n",
       "    <tr>\n",
       "      <td>12</td>\n",
       "      <td>41.667065</td>\n",
       "      <td>65</td>\n",
       "    </tr>\n",
       "    <tr>\n",
       "      <td>18</td>\n",
       "      <td>45.694194</td>\n",
       "      <td>53</td>\n",
       "    </tr>\n",
       "    <tr>\n",
       "      <td>24</td>\n",
       "      <td>38.647483</td>\n",
       "      <td>57</td>\n",
       "    </tr>\n",
       "    <tr>\n",
       "      <td>25</td>\n",
       "      <td>41.500969</td>\n",
       "      <td>67</td>\n",
       "    </tr>\n",
       "    <tr>\n",
       "      <td>29</td>\n",
       "      <td>41.667065</td>\n",
       "      <td>63</td>\n",
       "    </tr>\n",
       "    <tr>\n",
       "      <td>30</td>\n",
       "      <td>38.308410</td>\n",
       "      <td>62</td>\n",
       "    </tr>\n",
       "    <tr>\n",
       "      <td>35</td>\n",
       "      <td>44.979574</td>\n",
       "      <td>68</td>\n",
       "    </tr>\n",
       "    <tr>\n",
       "      <td>50</td>\n",
       "      <td>40.380300</td>\n",
       "      <td>63</td>\n",
       "    </tr>\n",
       "    <tr>\n",
       "      <td>55</td>\n",
       "      <td>41.667065</td>\n",
       "      <td>54</td>\n",
       "    </tr>\n",
       "  </tbody>\n",
       "</table>\n",
       "</div>"
      ],
      "text/plain": [
       "    days_employed  dob_years\n",
       "4       38.843159         53\n",
       "12      41.667065         65\n",
       "18      45.694194         53\n",
       "24      38.647483         57\n",
       "25      41.500969         67\n",
       "29      41.667065         63\n",
       "30      38.308410         62\n",
       "35      44.979574         68\n",
       "50      40.380300         63\n",
       "55      41.667065         54"
      ]
     },
     "execution_count": 28,
     "metadata": {},
     "output_type": "execute_result"
    }
   ],
   "source": [
    "# создам переменную для хранения десяти строк с аномальынми значениями и возрастом клиента\n",
    "anomalous_employment = data.loc[data['days_employed'] >= 36500, ['days_employed', 'dob_years']].head(10)\n",
    "\n",
    "# переведем предполагаемые часы в года для сравнения с возрастом клиента\n",
    "anomalous_employment['days_employed'] = anomalous_employment['days_employed'] / 24 / 365\n",
    "anomalous_employment"
   ]
  },
  {
   "cell_type": "markdown",
   "id": "71aaceda",
   "metadata": {},
   "source": [
    "По индексам 18 и 55 разница между возрастом клиента и предполагаемым стажем слишком мала. Гипотеза не подвердилась.\n",
    "\n",
    "**//не уверен, или я не вижу как исправить эти данные, или все сделано верно и слишком маленькая разница между возрастом и стажем это недочет датасета?**\n",
    "\n",
    "На случай если для будущего анализа потребуются точные данные о стаже, будет необходимо обратиться к разработчикам за новой выгрузкой после внесения ими исправлений.  \n",
    "Даже ошибочные, данные после разделения аномальных значений на 24 ближе к правильным значениям, поэтому обработаем все аномальные значения в столбце `days_employed`."
   ]
  },
  {
   "cell_type": "code",
   "execution_count": 29,
   "id": "26077212",
   "metadata": {
    "scrolled": true
   },
   "outputs": [
    {
     "data": {
      "text/plain": [
       "18388.949900568383"
      ]
     },
     "execution_count": 29,
     "metadata": {},
     "output_type": "execute_result"
    }
   ],
   "source": [
    "# индексирую с фильтром и пересохраняю полученные и разделенные значения\n",
    "data.loc[data['days_employed'] >= 36500, 'days_employed'] /= 24\n",
    "\n",
    "# проверяю разультат\n",
    "data['days_employed'].max()"
   ]
  },
  {
   "cell_type": "markdown",
   "id": "cac31839",
   "metadata": {},
   "source": [
    "Данные столбца `days_employed` приведены к единообразию.  \n",
    "Иных аномалий не обнаружено."
   ]
  },
  {
   "cell_type": "markdown",
   "id": "7d649172",
   "metadata": {},
   "source": [
    "### Шаг 2.3. Изменение типов данных."
   ]
  },
  {
   "cell_type": "markdown",
   "id": "788b931f",
   "metadata": {},
   "source": [
    "Изменим тип данных float на int для столбцов `children`, `days_employed` и `total_income`."
   ]
  },
  {
   "cell_type": "code",
   "execution_count": 30,
   "id": "66cabb4e",
   "metadata": {
    "scrolled": true
   },
   "outputs": [
    {
     "name": "stdout",
     "output_type": "stream",
     "text": [
      "<class 'pandas.core.frame.DataFrame'>\n",
      "RangeIndex: 21449 entries, 0 to 21448\n",
      "Data columns (total 12 columns):\n",
      "children            21449 non-null int64\n",
      "days_employed       21449 non-null int64\n",
      "dob_years           21449 non-null int64\n",
      "education           21449 non-null object\n",
      "education_id        21449 non-null int64\n",
      "family_status       21449 non-null object\n",
      "family_status_id    21449 non-null int64\n",
      "gender              21449 non-null object\n",
      "income_type         21449 non-null object\n",
      "debt                21449 non-null int64\n",
      "total_income        21449 non-null int64\n",
      "purpose             21449 non-null object\n",
      "dtypes: int64(7), object(5)\n",
      "memory usage: 2.0+ MB\n"
     ]
    }
   ],
   "source": [
    "# использую метод astype сразу для трех столбцов\n",
    "data[['children', 'days_employed', 'total_income']] = data[['children', 'days_employed', 'total_income']].astype('int')\n",
    "\n",
    "# проверяю результат\n",
    "data.info()"
   ]
  },
  {
   "cell_type": "markdown",
   "id": "280c1220",
   "metadata": {},
   "source": [
    "Дальнейших операций с типами данных не требуется."
   ]
  },
  {
   "cell_type": "markdown",
   "id": "702dfbd3",
   "metadata": {},
   "source": [
    "### Шаг 2.4. Удаление дубликатов."
   ]
  },
  {
   "cell_type": "markdown",
   "id": "d95e46a8",
   "metadata": {},
   "source": [
    "До проверки на явные дубликаты приведем данные к единому регистру и заменим все прописные символы на строчные."
   ]
  },
  {
   "cell_type": "code",
   "execution_count": 31,
   "id": "4e1648ef",
   "metadata": {},
   "outputs": [
    {
     "data": {
      "text/html": [
       "<div>\n",
       "<style scoped>\n",
       "    .dataframe tbody tr th:only-of-type {\n",
       "        vertical-align: middle;\n",
       "    }\n",
       "\n",
       "    .dataframe tbody tr th {\n",
       "        vertical-align: top;\n",
       "    }\n",
       "\n",
       "    .dataframe thead th {\n",
       "        text-align: right;\n",
       "    }\n",
       "</style>\n",
       "<table border=\"1\" class=\"dataframe\">\n",
       "  <thead>\n",
       "    <tr style=\"text-align: right;\">\n",
       "      <th></th>\n",
       "      <th>children</th>\n",
       "      <th>days_employed</th>\n",
       "      <th>dob_years</th>\n",
       "      <th>education</th>\n",
       "      <th>education_id</th>\n",
       "      <th>family_status</th>\n",
       "      <th>family_status_id</th>\n",
       "      <th>gender</th>\n",
       "      <th>income_type</th>\n",
       "      <th>debt</th>\n",
       "      <th>total_income</th>\n",
       "      <th>purpose</th>\n",
       "    </tr>\n",
       "  </thead>\n",
       "  <tbody>\n",
       "    <tr>\n",
       "      <td>0</td>\n",
       "      <td>1</td>\n",
       "      <td>8437</td>\n",
       "      <td>42</td>\n",
       "      <td>высшее</td>\n",
       "      <td>0</td>\n",
       "      <td>женат / замужем</td>\n",
       "      <td>0</td>\n",
       "      <td>f</td>\n",
       "      <td>сотрудник</td>\n",
       "      <td>0</td>\n",
       "      <td>253875</td>\n",
       "      <td>покупка жилья</td>\n",
       "    </tr>\n",
       "    <tr>\n",
       "      <td>1</td>\n",
       "      <td>1</td>\n",
       "      <td>4024</td>\n",
       "      <td>36</td>\n",
       "      <td>среднее</td>\n",
       "      <td>1</td>\n",
       "      <td>женат / замужем</td>\n",
       "      <td>0</td>\n",
       "      <td>f</td>\n",
       "      <td>сотрудник</td>\n",
       "      <td>0</td>\n",
       "      <td>112080</td>\n",
       "      <td>приобретение автомобиля</td>\n",
       "    </tr>\n",
       "    <tr>\n",
       "      <td>2</td>\n",
       "      <td>0</td>\n",
       "      <td>5623</td>\n",
       "      <td>33</td>\n",
       "      <td>среднее</td>\n",
       "      <td>1</td>\n",
       "      <td>женат / замужем</td>\n",
       "      <td>0</td>\n",
       "      <td>m</td>\n",
       "      <td>сотрудник</td>\n",
       "      <td>0</td>\n",
       "      <td>145885</td>\n",
       "      <td>покупка жилья</td>\n",
       "    </tr>\n",
       "  </tbody>\n",
       "</table>\n",
       "</div>"
      ],
      "text/plain": [
       "   children  days_employed  dob_years education  education_id  \\\n",
       "0         1           8437         42    высшее             0   \n",
       "1         1           4024         36   среднее             1   \n",
       "2         0           5623         33   среднее             1   \n",
       "\n",
       "     family_status  family_status_id gender income_type  debt  total_income  \\\n",
       "0  женат / замужем                 0      f   сотрудник     0        253875   \n",
       "1  женат / замужем                 0      f   сотрудник     0        112080   \n",
       "2  женат / замужем                 0      m   сотрудник     0        145885   \n",
       "\n",
       "                   purpose  \n",
       "0            покупка жилья  \n",
       "1  приобретение автомобиля  \n",
       "2            покупка жилья  "
      ]
     },
     "execution_count": 31,
     "metadata": {},
     "output_type": "execute_result"
    }
   ],
   "source": [
    "# использую applymap на все значения датафрейма, использую временную функцию lambda чтобы применить метод lower только к строкам\n",
    "data = data.applymap(lambda x: x.lower() if type(x) == str else x)\n",
    "\n",
    "# проверяю результат\n",
    "data.head(3)"
   ]
  },
  {
   "cell_type": "markdown",
   "id": "4f3f3794",
   "metadata": {},
   "source": [
    "Проверим данные на явные дубликаты. Избавимся от явных дубликатов, так как совершенное совпадение по имеющимся строкам крайне маловероятно."
   ]
  },
  {
   "cell_type": "code",
   "execution_count": 32,
   "id": "5350c572",
   "metadata": {
    "scrolled": true
   },
   "outputs": [
    {
     "name": "stdout",
     "output_type": "stream",
     "text": [
      "Всего явных дубликатов: 71\n",
      "Явных дубликатов после удаления: 0\n"
     ]
    }
   ],
   "source": [
    "# считаю коилчество явных дубликатов\n",
    "print('Всего явных дубликатов:', data.duplicated().sum())\n",
    "\n",
    "# избавляюсь от дубликатов через drop_duplicates с reset_index\n",
    "data = data.drop_duplicates().reset_index(drop=True)\n",
    "\n",
    "# проверяю результат\n",
    "print('Явных дубликатов после удаления:', data.duplicated().sum())"
   ]
  },
  {
   "cell_type": "markdown",
   "id": "9a539cf8",
   "metadata": {},
   "source": [
    "Проверим значения категориальных столбцов содержащих строки на иные неявные дубликаты."
   ]
  },
  {
   "cell_type": "code",
   "execution_count": 33,
   "id": "9471b1d2",
   "metadata": {},
   "outputs": [
    {
     "data": {
      "text/plain": [
       "среднее                15112\n",
       "высшее                  5236\n",
       "неоконченное высшее      742\n",
       "начальное                282\n",
       "ученая степень             6\n",
       "Name: education, dtype: int64"
      ]
     },
     "metadata": {},
     "output_type": "display_data"
    },
    {
     "data": {
      "text/plain": [
       "женат / замужем          12290\n",
       "гражданский брак          4139\n",
       "не женат / не замужем     2801\n",
       "в разводе                 1193\n",
       "вдовец / вдова             955\n",
       "Name: family_status, dtype: int64"
      ]
     },
     "metadata": {},
     "output_type": "display_data"
    },
    {
     "data": {
      "text/plain": [
       "f      14127\n",
       "m       7250\n",
       "xna        1\n",
       "Name: gender, dtype: int64"
      ]
     },
     "metadata": {},
     "output_type": "display_data"
    },
    {
     "data": {
      "text/plain": [
       "сотрудник          11041\n",
       "компаньон           5056\n",
       "пенсионер           3820\n",
       "госслужащий         1455\n",
       "безработный            2\n",
       "предприниматель        2\n",
       "студент                1\n",
       "в декрете              1\n",
       "Name: income_type, dtype: int64"
      ]
     },
     "metadata": {},
     "output_type": "display_data"
    },
    {
     "data": {
      "text/plain": [
       "свадьба                                   790\n",
       "на проведение свадьбы                     764\n",
       "сыграть свадьбу                           761\n",
       "операции с недвижимостью                  674\n",
       "покупка коммерческой недвижимости         658\n",
       "покупка жилья для сдачи                   650\n",
       "операции с жильем                         648\n",
       "операции с коммерческой недвижимостью     646\n",
       "покупка жилья                             643\n",
       "жилье                                     642\n",
       "покупка жилья для семьи                   637\n",
       "недвижимость                              632\n",
       "строительство собственной недвижимости    629\n",
       "операции со своей недвижимостью           626\n",
       "строительство жилой недвижимости          623\n",
       "покупка своего жилья                      620\n",
       "покупка недвижимости                      619\n",
       "строительство недвижимости                619\n",
       "ремонт жилью                              605\n",
       "покупка жилой недвижимости                604\n",
       "на покупку своего автомобиля              505\n",
       "заняться высшим образованием              496\n",
       "автомобиль                                493\n",
       "сделка с подержанным автомобилем          482\n",
       "автомобили                                477\n",
       "свой автомобиль                           475\n",
       "на покупку подержанного автомобиля        472\n",
       "на покупку автомобиля                     470\n",
       "приобретение автомобиля                   461\n",
       "дополнительное образование                457\n",
       "сделка с автомобилем                      455\n",
       "высшее образование                        447\n",
       "получение дополнительного образования     445\n",
       "образование                               445\n",
       "получение образования                     441\n",
       "профильное образование                    434\n",
       "получение высшего образования             425\n",
       "заняться образованием                     408\n",
       "Name: purpose, dtype: int64"
      ]
     },
     "metadata": {},
     "output_type": "display_data"
    }
   ],
   "source": [
    "for column in data:\n",
    "    if column in ['education', 'family_status', 'gender', 'income_type', 'purpose']:\n",
    "        display(data[column].value_counts())"
   ]
  },
  {
   "cell_type": "markdown",
   "id": "6f83ab5e",
   "metadata": {},
   "source": [
    "Значения в столбце `purpose` во многом дублируют друг друга, но это задача для категоризации. В столбце `gender` обнаружено одно аномальное значение, но даных для его исправления недостаточно и оно не влияет на исследование, поэтому не буду его трогать.  \n",
    "Вероятная причина различного регистра в изначальных данных заключается в изначальном некорректном вводе пользователем. Возможно существует несколько одинаковых шаблонов ввода и был выбран любой подходящий.  \n",
    "Иных неявных дубликатов не обнаружено.  "
   ]
  },
  {
   "cell_type": "markdown",
   "id": "bfa8abb0",
   "metadata": {},
   "source": [
    "### Шаг 2.5. Формирование дополнительных датафреймов словарей, декомпозиция исходного датафрейма."
   ]
  },
  {
   "cell_type": "markdown",
   "id": "0aba9b48",
   "metadata": {},
   "source": [
    "Для столбцов `education` и `education_id`, `family_status` и `family_status_id` используем группировку и подсчет уникальных значений, чтобы убедиться что id соответствует статусу и нет значений \"утекших\" в не соответствующий им id или наоборот."
   ]
  },
  {
   "cell_type": "code",
   "execution_count": 34,
   "id": "ed7f9c65",
   "metadata": {
    "scrolled": true
   },
   "outputs": [
    {
     "data": {
      "text/plain": [
       "education_id  education          \n",
       "0             высшее                  5236\n",
       "1             среднее                15112\n",
       "2             неоконченное высшее      742\n",
       "3             начальное                282\n",
       "4             ученая степень             6\n",
       "Name: education, dtype: int64"
      ]
     },
     "execution_count": 34,
     "metadata": {},
     "output_type": "execute_result"
    }
   ],
   "source": [
    "# группирую по education_id для упорядоченного представления данных, считаю количество уникальных значений\n",
    "data.groupby('education_id')['education'].value_counts()"
   ]
  },
  {
   "cell_type": "code",
   "execution_count": 35,
   "id": "aed1e60f",
   "metadata": {},
   "outputs": [
    {
     "data": {
      "text/plain": [
       "family_status_id  family_status        \n",
       "0                 женат / замужем          12290\n",
       "1                 гражданский брак          4139\n",
       "2                 вдовец / вдова             955\n",
       "3                 в разводе                 1193\n",
       "4                 не женат / не замужем     2801\n",
       "Name: family_status, dtype: int64"
      ]
     },
     "execution_count": 35,
     "metadata": {},
     "output_type": "execute_result"
    }
   ],
   "source": [
    "data.groupby('family_status_id')['family_status'].value_counts()"
   ]
  },
  {
   "cell_type": "markdown",
   "id": "fdcf8a2d",
   "metadata": {},
   "source": [
    "Все в порядке, формируем словари `education_dict` и `family_status_dict`."
   ]
  },
  {
   "cell_type": "code",
   "execution_count": 36,
   "id": "1cf22d36",
   "metadata": {
    "scrolled": true
   },
   "outputs": [
    {
     "data": {
      "text/html": [
       "<div>\n",
       "<style scoped>\n",
       "    .dataframe tbody tr th:only-of-type {\n",
       "        vertical-align: middle;\n",
       "    }\n",
       "\n",
       "    .dataframe tbody tr th {\n",
       "        vertical-align: top;\n",
       "    }\n",
       "\n",
       "    .dataframe thead th {\n",
       "        text-align: right;\n",
       "    }\n",
       "</style>\n",
       "<table border=\"1\" class=\"dataframe\">\n",
       "  <thead>\n",
       "    <tr style=\"text-align: right;\">\n",
       "      <th></th>\n",
       "      <th>education_id</th>\n",
       "      <th>education</th>\n",
       "    </tr>\n",
       "  </thead>\n",
       "  <tbody>\n",
       "    <tr>\n",
       "      <td>0</td>\n",
       "      <td>0</td>\n",
       "      <td>высшее</td>\n",
       "    </tr>\n",
       "    <tr>\n",
       "      <td>1</td>\n",
       "      <td>1</td>\n",
       "      <td>среднее</td>\n",
       "    </tr>\n",
       "    <tr>\n",
       "      <td>2</td>\n",
       "      <td>2</td>\n",
       "      <td>неоконченное высшее</td>\n",
       "    </tr>\n",
       "    <tr>\n",
       "      <td>3</td>\n",
       "      <td>3</td>\n",
       "      <td>начальное</td>\n",
       "    </tr>\n",
       "    <tr>\n",
       "      <td>4</td>\n",
       "      <td>4</td>\n",
       "      <td>ученая степень</td>\n",
       "    </tr>\n",
       "  </tbody>\n",
       "</table>\n",
       "</div>"
      ],
      "text/plain": [
       "   education_id            education\n",
       "0             0               высшее\n",
       "1             1              среднее\n",
       "2             2  неоконченное высшее\n",
       "3             3            начальное\n",
       "4             4       ученая степень"
      ]
     },
     "metadata": {},
     "output_type": "display_data"
    },
    {
     "data": {
      "text/html": [
       "<div>\n",
       "<style scoped>\n",
       "    .dataframe tbody tr th:only-of-type {\n",
       "        vertical-align: middle;\n",
       "    }\n",
       "\n",
       "    .dataframe tbody tr th {\n",
       "        vertical-align: top;\n",
       "    }\n",
       "\n",
       "    .dataframe thead th {\n",
       "        text-align: right;\n",
       "    }\n",
       "</style>\n",
       "<table border=\"1\" class=\"dataframe\">\n",
       "  <thead>\n",
       "    <tr style=\"text-align: right;\">\n",
       "      <th></th>\n",
       "      <th>family_status_id</th>\n",
       "      <th>family_status</th>\n",
       "    </tr>\n",
       "  </thead>\n",
       "  <tbody>\n",
       "    <tr>\n",
       "      <td>0</td>\n",
       "      <td>0</td>\n",
       "      <td>женат / замужем</td>\n",
       "    </tr>\n",
       "    <tr>\n",
       "      <td>1</td>\n",
       "      <td>1</td>\n",
       "      <td>гражданский брак</td>\n",
       "    </tr>\n",
       "    <tr>\n",
       "      <td>2</td>\n",
       "      <td>2</td>\n",
       "      <td>вдовец / вдова</td>\n",
       "    </tr>\n",
       "    <tr>\n",
       "      <td>3</td>\n",
       "      <td>3</td>\n",
       "      <td>в разводе</td>\n",
       "    </tr>\n",
       "    <tr>\n",
       "      <td>4</td>\n",
       "      <td>4</td>\n",
       "      <td>не женат / не замужем</td>\n",
       "    </tr>\n",
       "  </tbody>\n",
       "</table>\n",
       "</div>"
      ],
      "text/plain": [
       "   family_status_id          family_status\n",
       "0                 0        женат / замужем\n",
       "1                 1       гражданский брак\n",
       "2                 2         вдовец / вдова\n",
       "3                 3              в разводе\n",
       "4                 4  не женат / не замужем"
      ]
     },
     "execution_count": 36,
     "metadata": {},
     "output_type": "execute_result"
    }
   ],
   "source": [
    "# сохраняю необходимые Series в новые датафреймы\n",
    "education_dict = data[['education_id', 'education']]\n",
    "family_status_dict = data [['family_status_id', 'family_status']]\n",
    "\n",
    "# избавляюсь от дубликатов\n",
    "education_dict = education_dict.drop_duplicates().reset_index(drop=True)\n",
    "family_status_dict = family_status_dict.drop_duplicates().reset_index(drop=True)\n",
    "\n",
    "# проверяю результат\n",
    "display(education_dict)\n",
    "family_status_dict"
   ]
  },
  {
   "cell_type": "markdown",
   "id": "10b1bad1",
   "metadata": {},
   "source": [
    "Словари созданы.  \n",
    "Для упрощения исследования сосздадим отдельный датасет `research_data`, исключим из него стобцы не нужные для ответов за поставленные задачи и некатегоризованные столбцы.  \n",
    "Считаю правильным поместить в него столбцы `educaton` и `family_status` вместо `education_id` и `family_status_id`, так как это позволит наглядно представить данные без дополнительных операций переименования."
   ]
  },
  {
   "cell_type": "code",
   "execution_count": 37,
   "id": "a30690d8",
   "metadata": {},
   "outputs": [],
   "source": [
    "research_data = data[['debt', 'education', 'family_status']]"
   ]
  },
  {
   "cell_type": "markdown",
   "id": "45cf15ab",
   "metadata": {},
   "source": [
    "В процессе категоризации дополним датафрейм `research_data` столбцами с категориями дохода и целей кредитования."
   ]
  },
  {
   "cell_type": "markdown",
   "id": "52386b2d",
   "metadata": {},
   "source": [
    "### Шаг 2.6. Категоризация дохода."
   ]
  },
  {
   "cell_type": "markdown",
   "id": "b7be9164",
   "metadata": {},
   "source": [
    "В соответствии с инструкцией распределим доход по следующим категориям:\n",
    "- 0–30000 — 'E';\n",
    "- 30001–50000 — 'D';\n",
    "- 50001–200000 — 'C';\n",
    "- 200001–1000000 — 'B';\n",
    "- 1000001 и выше — 'A'."
   ]
  },
  {
   "cell_type": "code",
   "execution_count": 38,
   "id": "6e03fcf6",
   "metadata": {},
   "outputs": [
    {
     "name": "stderr",
     "output_type": "stream",
     "text": [
      "/opt/conda/lib/python3.7/site-packages/ipykernel_launcher.py:14: SettingWithCopyWarning: \n",
      "A value is trying to be set on a copy of a slice from a DataFrame.\n",
      "Try using .loc[row_indexer,col_indexer] = value instead\n",
      "\n",
      "See the caveats in the documentation: http://pandas.pydata.org/pandas-docs/stable/user_guide/indexing.html#returning-a-view-versus-a-copy\n",
      "  \n"
     ]
    },
    {
     "data": {
      "text/plain": [
       "C    15461\n",
       "B     5520\n",
       "D      350\n",
       "A       25\n",
       "E       22\n",
       "Name: total_income_category, dtype: int64"
      ]
     },
     "execution_count": 38,
     "metadata": {},
     "output_type": "execute_result"
    }
   ],
   "source": [
    "# пишу функцию возвращающую значение категории в зависимости от значения дохода\n",
    "def income_group(income):\n",
    "    if income <= 30000:\n",
    "        return 'E'\n",
    "    if 30001 <= income <= 50000:\n",
    "        return 'D'\n",
    "    if 50001 <= income <= 200000:\n",
    "        return 'C'\n",
    "    if 200001 <= income <= 1000000:\n",
    "        return 'B'\n",
    "    return 'A'\n",
    "\n",
    "# создаю столбец 'total_income_category' содержащий категории дохода в датафрейме research_data\n",
    "research_data['total_income_category'] = data['total_income'].apply(income_group)\n",
    "\n",
    "# проверяю результат\n",
    "research_data['total_income_category'].value_counts()"
   ]
  },
  {
   "cell_type": "markdown",
   "id": "111dc9ab",
   "metadata": {},
   "source": [
    "### Шаг 2.7. Категоризация целей кредита."
   ]
  },
  {
   "cell_type": "markdown",
   "id": "a8c9b982",
   "metadata": {},
   "source": [
    "В соответствии с инструкцией распределим цели кредитования по следующим категориям:\n",
    "- операции с автомобилем;\n",
    "- операции с недвижимостью;\n",
    "- проведение свадьбы;\n",
    "- получение образования."
   ]
  },
  {
   "cell_type": "code",
   "execution_count": 39,
   "id": "be62cae6",
   "metadata": {
    "scrolled": true
   },
   "outputs": [
    {
     "name": "stderr",
     "output_type": "stream",
     "text": [
      "/opt/conda/lib/python3.7/site-packages/ipykernel_launcher.py:15: SettingWithCopyWarning: \n",
      "A value is trying to be set on a copy of a slice from a DataFrame.\n",
      "Try using .loc[row_indexer,col_indexer] = value instead\n",
      "\n",
      "See the caveats in the documentation: http://pandas.pydata.org/pandas-docs/stable/user_guide/indexing.html#returning-a-view-versus-a-copy\n",
      "  from ipykernel import kernelapp as app\n"
     ]
    },
    {
     "data": {
      "text/plain": [
       "операции с недвижимостью    10775\n",
       "операции с автомобилем       4290\n",
       "получение образования        3998\n",
       "проведение свадьбы           2315\n",
       "Name: purpose_category, dtype: int64"
      ]
     },
     "execution_count": 39,
     "metadata": {},
     "output_type": "execute_result"
    }
   ],
   "source": [
    "# пишу функцию возвращающую значение категории в зависимости от наличия фрагмента текста в исходном значении\n",
    "def purpose_group(purpose):\n",
    "    if 'автом' in purpose:\n",
    "        return 'операции с автомобилем'\n",
    "    if 'недвиж' in purpose:\n",
    "        return 'операции с недвижимостью'\n",
    "    if 'жиль' in purpose:\n",
    "        return 'операции с недвижимостью'\n",
    "    if 'свадь' in purpose:\n",
    "        return 'проведение свадьбы'\n",
    "    if 'образо' in purpose:\n",
    "        return 'получение образования'\n",
    "\n",
    "# создаю столбец 'purpose_category' содержащий категории дохода в датафрейме research_data\n",
    "research_data['purpose_category'] = data['purpose'].apply(purpose_group)\n",
    "\n",
    "# проверяю результат\n",
    "research_data['purpose_category'].value_counts()"
   ]
  },
  {
   "cell_type": "markdown",
   "id": "a10668ce",
   "metadata": {},
   "source": [
    "### Шаг 2.8. Категоризация количества детей."
   ]
  },
  {
   "cell_type": "markdown",
   "id": "909f503f",
   "metadata": {},
   "source": [
    "Считаю допустимым дополнительно создать категории в зависимости от количетва детей клиента, где:\n",
    "- 0 — 'бездетные';\n",
    "- 1-2 — 'с детьми';\n",
    "- 3 и выше — 'многодетные'."
   ]
  },
  {
   "cell_type": "code",
   "execution_count": 40,
   "id": "c920e0e0",
   "metadata": {},
   "outputs": [
    {
     "name": "stderr",
     "output_type": "stream",
     "text": [
      "/opt/conda/lib/python3.7/site-packages/ipykernel_launcher.py:10: SettingWithCopyWarning: \n",
      "A value is trying to be set on a copy of a slice from a DataFrame.\n",
      "Try using .loc[row_indexer,col_indexer] = value instead\n",
      "\n",
      "See the caveats in the documentation: http://pandas.pydata.org/pandas-docs/stable/user_guide/indexing.html#returning-a-view-versus-a-copy\n",
      "  # Remove the CWD from sys.path while we load stuff.\n"
     ]
    },
    {
     "data": {
      "text/plain": [
       "бездетные      14091\n",
       "с детьми        6907\n",
       "многодетные      380\n",
       "Name: children_category, dtype: int64"
      ]
     },
     "execution_count": 40,
     "metadata": {},
     "output_type": "execute_result"
    }
   ],
   "source": [
    "# пишу функцию возвращающую значение категории в зависимости от количества детей\n",
    "def children_group(children):\n",
    "    if children == 0:\n",
    "        return 'бездетные'\n",
    "    if 1 <= children <= 2:\n",
    "        return 'с детьми'\n",
    "    return 'многодетные'\n",
    "\n",
    "# создаю столбец 'total_income_category' содержащий категории дохода в датафрейме research_data\n",
    "research_data['children_category'] = data['children'].apply(children_group)\n",
    "\n",
    "# проверяю результат\n",
    "research_data['children_category'].value_counts()"
   ]
  },
  {
   "cell_type": "markdown",
   "id": "53ce6a0b",
   "metadata": {},
   "source": [
    "Посмотрим на первые строки получившейся таблицы."
   ]
  },
  {
   "cell_type": "code",
   "execution_count": 41,
   "id": "d18ee430",
   "metadata": {},
   "outputs": [
    {
     "data": {
      "text/html": [
       "<div>\n",
       "<style scoped>\n",
       "    .dataframe tbody tr th:only-of-type {\n",
       "        vertical-align: middle;\n",
       "    }\n",
       "\n",
       "    .dataframe tbody tr th {\n",
       "        vertical-align: top;\n",
       "    }\n",
       "\n",
       "    .dataframe thead th {\n",
       "        text-align: right;\n",
       "    }\n",
       "</style>\n",
       "<table border=\"1\" class=\"dataframe\">\n",
       "  <thead>\n",
       "    <tr style=\"text-align: right;\">\n",
       "      <th></th>\n",
       "      <th>debt</th>\n",
       "      <th>education</th>\n",
       "      <th>family_status</th>\n",
       "      <th>total_income_category</th>\n",
       "      <th>purpose_category</th>\n",
       "      <th>children_category</th>\n",
       "    </tr>\n",
       "  </thead>\n",
       "  <tbody>\n",
       "    <tr>\n",
       "      <td>0</td>\n",
       "      <td>0</td>\n",
       "      <td>высшее</td>\n",
       "      <td>женат / замужем</td>\n",
       "      <td>B</td>\n",
       "      <td>операции с недвижимостью</td>\n",
       "      <td>с детьми</td>\n",
       "    </tr>\n",
       "    <tr>\n",
       "      <td>1</td>\n",
       "      <td>0</td>\n",
       "      <td>среднее</td>\n",
       "      <td>женат / замужем</td>\n",
       "      <td>C</td>\n",
       "      <td>операции с автомобилем</td>\n",
       "      <td>с детьми</td>\n",
       "    </tr>\n",
       "    <tr>\n",
       "      <td>2</td>\n",
       "      <td>0</td>\n",
       "      <td>среднее</td>\n",
       "      <td>женат / замужем</td>\n",
       "      <td>C</td>\n",
       "      <td>операции с недвижимостью</td>\n",
       "      <td>бездетные</td>\n",
       "    </tr>\n",
       "    <tr>\n",
       "      <td>3</td>\n",
       "      <td>0</td>\n",
       "      <td>среднее</td>\n",
       "      <td>женат / замужем</td>\n",
       "      <td>B</td>\n",
       "      <td>получение образования</td>\n",
       "      <td>многодетные</td>\n",
       "    </tr>\n",
       "    <tr>\n",
       "      <td>4</td>\n",
       "      <td>0</td>\n",
       "      <td>среднее</td>\n",
       "      <td>гражданский брак</td>\n",
       "      <td>C</td>\n",
       "      <td>проведение свадьбы</td>\n",
       "      <td>бездетные</td>\n",
       "    </tr>\n",
       "  </tbody>\n",
       "</table>\n",
       "</div>"
      ],
      "text/plain": [
       "   debt education     family_status total_income_category  \\\n",
       "0     0    высшее   женат / замужем                     B   \n",
       "1     0   среднее   женат / замужем                     C   \n",
       "2     0   среднее   женат / замужем                     C   \n",
       "3     0   среднее   женат / замужем                     B   \n",
       "4     0   среднее  гражданский брак                     C   \n",
       "\n",
       "           purpose_category children_category  \n",
       "0  операции с недвижимостью          с детьми  \n",
       "1    операции с автомобилем          с детьми  \n",
       "2  операции с недвижимостью         бездетные  \n",
       "3     получение образования       многодетные  \n",
       "4        проведение свадьбы         бездетные  "
      ]
     },
     "execution_count": 41,
     "metadata": {},
     "output_type": "execute_result"
    }
   ],
   "source": [
    "research_data.head()"
   ]
  },
  {
   "cell_type": "markdown",
   "id": "4c81ca0e",
   "metadata": {},
   "source": [
    "Данные очищены, категоразованы и готовы к исследованию."
   ]
  },
  {
   "cell_type": "markdown",
   "id": "10cc16f8",
   "metadata": {},
   "source": [
    "### Ответы на вопросы."
   ]
  },
  {
   "cell_type": "markdown",
   "id": "56fce8d6",
   "metadata": {},
   "source": [
    "##### Вопрос 1:"
   ]
  },
  {
   "cell_type": "markdown",
   "id": "afcdf4f2",
   "metadata": {},
   "source": [
    "Есть ли зависимость между количеством детей и возвратом кредита в срок?"
   ]
  },
  {
   "cell_type": "markdown",
   "id": "18e0909b",
   "metadata": {},
   "source": [
    "Для ответа на поставленные вопросы составим сводные таблицы, по которым будет видно количество клиентов с задолженностью и без задолженности по отношению к общему количеству клиентов в каждой группе."
   ]
  },
  {
   "cell_type": "code",
   "execution_count": 42,
   "id": "f1e71df2",
   "metadata": {},
   "outputs": [
    {
     "data": {
      "text/html": [
       "<div>\n",
       "<style scoped>\n",
       "    .dataframe tbody tr th:only-of-type {\n",
       "        vertical-align: middle;\n",
       "    }\n",
       "\n",
       "    .dataframe tbody tr th {\n",
       "        vertical-align: top;\n",
       "    }\n",
       "\n",
       "    .dataframe thead th {\n",
       "        text-align: right;\n",
       "    }\n",
       "</style>\n",
       "<table border=\"1\" class=\"dataframe\">\n",
       "  <thead>\n",
       "    <tr style=\"text-align: right;\">\n",
       "      <th>debt</th>\n",
       "      <th>без задолженности</th>\n",
       "      <th>с задолженностью</th>\n",
       "    </tr>\n",
       "    <tr>\n",
       "      <th>children_category</th>\n",
       "      <th></th>\n",
       "      <th></th>\n",
       "    </tr>\n",
       "  </thead>\n",
       "  <tbody>\n",
       "    <tr>\n",
       "      <td>всего</td>\n",
       "      <td>91.893535</td>\n",
       "      <td>8.106465</td>\n",
       "    </tr>\n",
       "    <tr>\n",
       "      <td>бездетные</td>\n",
       "      <td>92.456178</td>\n",
       "      <td>7.543822</td>\n",
       "    </tr>\n",
       "    <tr>\n",
       "      <td>с детьми</td>\n",
       "      <td>90.748516</td>\n",
       "      <td>9.251484</td>\n",
       "    </tr>\n",
       "    <tr>\n",
       "      <td>многодетные</td>\n",
       "      <td>91.842105</td>\n",
       "      <td>8.157895</td>\n",
       "    </tr>\n",
       "  </tbody>\n",
       "</table>\n",
       "</div>"
      ],
      "text/plain": [
       "debt               без задолженности  с задолженностью\n",
       "children_category                                     \n",
       "всего                      91.893535          8.106465\n",
       "бездетные                  92.456178          7.543822\n",
       "с детьми                   90.748516          9.251484\n",
       "многодетные                91.842105          8.157895"
      ]
     },
     "execution_count": 42,
     "metadata": {},
     "output_type": "execute_result"
    }
   ],
   "source": [
    "# создаю таблицу risk_by_children_pivot, соодержащую сводные данные количеству детей в соотношении с наличием задолженности\n",
    "# так как подчитываем количество строк где 'debt' равен 0 или 1 то используем любую колонку для аргумента values.\n",
    "risk_by_children_pivot = research_data.pivot_table(\n",
    "    index='children_category',\n",
    "    columns='debt',\n",
    "    values='education',\n",
    "    margins=True, \n",
    "    margins_name='всего',\n",
    "    aggfunc='count',\n",
    ").sort_values(by=0, ascending=False)\n",
    "\n",
    "# найду процент клиентов с задолженностью и без в каждой группе\n",
    "risk_by_children_pivot.iloc[:, :2] = risk_by_children_pivot.iloc[:, :2].div(risk_by_children_pivot.iloc[:, -1], axis=0).mul(100)\n",
    "\n",
    "# удалю колоку 'всего', не нужны после расчета процентов\n",
    "risk_by_children_pivot.drop('всего', axis=1, inplace=True)\n",
    "\n",
    "# переименую колонки задолженности для понятного предсатвления данных\n",
    "risk_by_children_pivot = risk_by_children_pivot.rename(columns={0: 'без задолженности', 1: 'с задолженностью'})\n",
    "\n",
    "# проверю\n",
    "risk_by_children_pivot"
   ]
  },
  {
   "cell_type": "markdown",
   "id": "ecf765c6",
   "metadata": {},
   "source": [
    "Представим полученную таблицу в качестве графика."
   ]
  },
  {
   "cell_type": "markdown",
   "id": "21fffe31",
   "metadata": {},
   "source": [
    "##### Вывод 1:"
   ]
  },
  {
   "cell_type": "markdown",
   "id": "704a2516",
   "metadata": {},
   "source": [
    "По результатам сопоставления данных можно сделать вывод что количество детей незначительно влияет на надежность клиента.  \n",
    "\n",
    "Наиболее надежными категориями являются:\n",
    "- бездетные\t\t(7.54%);\n",
    "- многодетные\t(8.16%).\n",
    "\n",
    "Отклонение от минимального невозврата по группе не превышает 2%.  \n",
    "\n",
    "Наименее надежной категорией являются:\n",
    "- клиенты с одним или двумя детьми\t(9.25%).  \n",
    "\n",
    "Невозврат во всех группах не превышает 10%, как видно из приведенного графика."
   ]
  },
  {
   "cell_type": "code",
   "execution_count": 43,
   "id": "d51523de",
   "metadata": {},
   "outputs": [
    {
     "data": {
      "text/plain": [
       "<matplotlib.axes._subplots.AxesSubplot at 0x7f0638350110>"
      ]
     },
     "execution_count": 43,
     "metadata": {},
     "output_type": "execute_result"
    },
    {
     "data": {
      "image/png": "[encoded data removed]",
      "text/plain": [
       "<Figure size 720x720 with 1 Axes>"
      ]
     },
     "metadata": {
      "needs_background": "light"
     },
     "output_type": "display_data"
    }
   ],
   "source": [
    "# использую метод .plot() чтобы наглядно представить сводную таблицу.\n",
    "risk_by_children_pivot.plot(\n",
    "    kind='bar',\n",
    "    figsize=[10, 10],\n",
    "    grid=True, rot=0,\n",
    "    legend=True,\n",
    "    yticks=[4, 7, 10, 15, 20, 40, 60, 80, 85, 90, 93, 96]\n",
    ")"
   ]
  },
  {
   "cell_type": "markdown",
   "id": "7add7bb7",
   "metadata": {},
   "source": [
    "<div class=\"alert alert-success\">\n",
    "<b>✔️ Комментарий ревьюера v1:</b> \n",
    "<br>Верно! Отлично, что ты используешь свободную таблицу и график\n",
    "</div>"
   ]
  },
  {
   "cell_type": "markdown",
   "id": "8f65f9b2",
   "metadata": {},
   "source": [
    "##### Вопрос 2:"
   ]
  },
  {
   "cell_type": "markdown",
   "id": "c2ba0427",
   "metadata": {},
   "source": [
    "Есть ли зависимость между семейным положением и возвратом кредита в срок?"
   ]
  },
  {
   "cell_type": "code",
   "execution_count": 44,
   "id": "caa544af",
   "metadata": {},
   "outputs": [
    {
     "data": {
      "text/html": [
       "<div>\n",
       "<style scoped>\n",
       "    .dataframe tbody tr th:only-of-type {\n",
       "        vertical-align: middle;\n",
       "    }\n",
       "\n",
       "    .dataframe tbody tr th {\n",
       "        vertical-align: top;\n",
       "    }\n",
       "\n",
       "    .dataframe thead th {\n",
       "        text-align: right;\n",
       "    }\n",
       "</style>\n",
       "<table border=\"1\" class=\"dataframe\">\n",
       "  <thead>\n",
       "    <tr style=\"text-align: right;\">\n",
       "      <th>debt</th>\n",
       "      <th>без задолженности</th>\n",
       "      <th>с задолженностью</th>\n",
       "    </tr>\n",
       "    <tr>\n",
       "      <th>family_status</th>\n",
       "      <th></th>\n",
       "      <th></th>\n",
       "    </tr>\n",
       "  </thead>\n",
       "  <tbody>\n",
       "    <tr>\n",
       "      <td>всего</td>\n",
       "      <td>91.893535</td>\n",
       "      <td>8.106465</td>\n",
       "    </tr>\n",
       "    <tr>\n",
       "      <td>женат / замужем</td>\n",
       "      <td>92.449146</td>\n",
       "      <td>7.550854</td>\n",
       "    </tr>\n",
       "    <tr>\n",
       "      <td>гражданский брак</td>\n",
       "      <td>90.698236</td>\n",
       "      <td>9.301764</td>\n",
       "    </tr>\n",
       "    <tr>\n",
       "      <td>не женат / не замужем</td>\n",
       "      <td>90.253481</td>\n",
       "      <td>9.746519</td>\n",
       "    </tr>\n",
       "    <tr>\n",
       "      <td>в разводе</td>\n",
       "      <td>92.958927</td>\n",
       "      <td>7.041073</td>\n",
       "    </tr>\n",
       "    <tr>\n",
       "      <td>вдовец / вдова</td>\n",
       "      <td>93.403141</td>\n",
       "      <td>6.596859</td>\n",
       "    </tr>\n",
       "  </tbody>\n",
       "</table>\n",
       "</div>"
      ],
      "text/plain": [
       "debt                   без задолженности  с задолженностью\n",
       "family_status                                             \n",
       "всего                          91.893535          8.106465\n",
       "женат / замужем                92.449146          7.550854\n",
       "гражданский брак               90.698236          9.301764\n",
       "не женат / не замужем          90.253481          9.746519\n",
       "в разводе                      92.958927          7.041073\n",
       "вдовец / вдова                 93.403141          6.596859"
      ]
     },
     "execution_count": 44,
     "metadata": {},
     "output_type": "execute_result"
    }
   ],
   "source": [
    "# создаю таблицу risk_by_family_status_pivot, соодержащую сводные данные по семейному положению в соотношении с наличием задолженности\n",
    "# так как подчитываем количество строк где 'debt' равен 0 или 1 то используем любую колонку для аргумента values.\n",
    "risk_by_family_status_pivot = research_data.pivot_table(\n",
    "    index='family_status',\n",
    "    columns='debt',\n",
    "    values='education',\n",
    "    margins=True, \n",
    "    margins_name='всего',\n",
    "    aggfunc='count',\n",
    ").sort_values(by=0, ascending=False)\n",
    "\n",
    "# найду процент клиентов с задолженностью и без в каждой группе\n",
    "risk_by_family_status_pivot.iloc[:, :2] = risk_by_family_status_pivot.iloc[:, :2].div(risk_by_family_status_pivot.iloc[:, -1], axis=0).mul(100)\n",
    "\n",
    "# удалю колоку 'всего', не нужны после расчета процентов\n",
    "risk_by_family_status_pivot.drop('всего', axis=1, inplace=True)\n",
    "\n",
    "# переименую колонки задолженности для понятного предсатвления данных\n",
    "risk_by_family_status_pivot = risk_by_family_status_pivot.rename(columns={0: 'без задолженности', 1: 'с задолженностью'})\n",
    "\n",
    "# проверю\n",
    "risk_by_family_status_pivot"
   ]
  },
  {
   "cell_type": "markdown",
   "id": "0109d7b1",
   "metadata": {},
   "source": [
    "##### Вывод 2:"
   ]
  },
  {
   "cell_type": "markdown",
   "id": "0572907d",
   "metadata": {},
   "source": [
    "По результатам сопоставления данных можно сделать вывод что семейное положение влияет на надежность клиента.  \n",
    "Наиболее надежными категориями являются: \n",
    "- вдовцы/вдовы\t\t\t\t\t\t\t(6.60%);\n",
    "- разведенные\t\t\t\t\t\t\t(7.04%);\n",
    "- клиенты состоящие в официальном браке\t(7,55%).  \n",
    "\n",
    "Отклонение от минимального невозврата по группе превышает 2% для наименее надежных категорий.  \n",
    "\n",
    "Наименее надежными категориями являются клиенты:\n",
    "- находящиеся в гражданском браке\t(9.30%);\n",
    "- не состоящие в отношениях\t\t\t(9.74%).  \n",
    "\n",
    "Невозврат во всех группах не превышает 10%, как видно из приведенного графика."
   ]
  },
  {
   "cell_type": "code",
   "execution_count": 45,
   "id": "d0811e8f",
   "metadata": {},
   "outputs": [
    {
     "data": {
      "text/plain": [
       "<matplotlib.axes._subplots.AxesSubplot at 0x7f063917ef50>"
      ]
     },
     "execution_count": 45,
     "metadata": {},
     "output_type": "execute_result"
    },
    {
     "data": {
      "image/png": "[encoded data removed]",
      "text/plain": [
       "<Figure size 720x720 with 1 Axes>"
      ]
     },
     "metadata": {
      "needs_background": "light"
     },
     "output_type": "display_data"
    }
   ],
   "source": [
    "# использую метод .plot() чтобы наглядно представить сводную таблицу.\n",
    "risk_by_family_status_pivot.plot(\n",
    "    kind='bar',\n",
    "    figsize=[10, 10],\n",
    "    grid=True, rot=10,\n",
    "    legend=True,\n",
    "    yticks=[4, 7, 10, 15, 20, 40, 60, 80, 85, 90, 93, 96]\n",
    ")"
   ]
  },
  {
   "cell_type": "markdown",
   "id": "9c1b9c8f",
   "metadata": {},
   "source": [
    "##### Вопрос 3:"
   ]
  },
  {
   "cell_type": "markdown",
   "id": "87e2ae0b",
   "metadata": {},
   "source": [
    "Есть ли зависимость между уровнем дохода и возвратом кредита в срок?"
   ]
  },
  {
   "cell_type": "code",
   "execution_count": 46,
   "id": "4cbdf058",
   "metadata": {
    "scrolled": true
   },
   "outputs": [
    {
     "data": {
      "text/html": [
       "<div>\n",
       "<style scoped>\n",
       "    .dataframe tbody tr th:only-of-type {\n",
       "        vertical-align: middle;\n",
       "    }\n",
       "\n",
       "    .dataframe tbody tr th {\n",
       "        vertical-align: top;\n",
       "    }\n",
       "\n",
       "    .dataframe thead th {\n",
       "        text-align: right;\n",
       "    }\n",
       "</style>\n",
       "<table border=\"1\" class=\"dataframe\">\n",
       "  <thead>\n",
       "    <tr style=\"text-align: right;\">\n",
       "      <th>debt</th>\n",
       "      <th>без задолженности</th>\n",
       "      <th>с задолженностью</th>\n",
       "    </tr>\n",
       "    <tr>\n",
       "      <th>total_income_category</th>\n",
       "      <th></th>\n",
       "      <th></th>\n",
       "    </tr>\n",
       "  </thead>\n",
       "  <tbody>\n",
       "    <tr>\n",
       "      <td>всего</td>\n",
       "      <td>91.893535</td>\n",
       "      <td>8.106465</td>\n",
       "    </tr>\n",
       "    <tr>\n",
       "      <td>C</td>\n",
       "      <td>91.436518</td>\n",
       "      <td>8.563482</td>\n",
       "    </tr>\n",
       "    <tr>\n",
       "      <td>B</td>\n",
       "      <td>93.043478</td>\n",
       "      <td>6.956522</td>\n",
       "    </tr>\n",
       "    <tr>\n",
       "      <td>D</td>\n",
       "      <td>94.000000</td>\n",
       "      <td>6.000000</td>\n",
       "    </tr>\n",
       "    <tr>\n",
       "      <td>A</td>\n",
       "      <td>92.000000</td>\n",
       "      <td>8.000000</td>\n",
       "    </tr>\n",
       "    <tr>\n",
       "      <td>E</td>\n",
       "      <td>90.909091</td>\n",
       "      <td>9.090909</td>\n",
       "    </tr>\n",
       "  </tbody>\n",
       "</table>\n",
       "</div>"
      ],
      "text/plain": [
       "debt                   без задолженности  с задолженностью\n",
       "total_income_category                                     \n",
       "всего                          91.893535          8.106465\n",
       "C                              91.436518          8.563482\n",
       "B                              93.043478          6.956522\n",
       "D                              94.000000          6.000000\n",
       "A                              92.000000          8.000000\n",
       "E                              90.909091          9.090909"
      ]
     },
     "execution_count": 46,
     "metadata": {},
     "output_type": "execute_result"
    }
   ],
   "source": [
    "# создаю таблицу risk_by_total_income_pivot, соодержащую сводные данные по семейному положению в соотношении с наличием задолженности\n",
    "# так как подcчитываем количество строк где 'debt' равен 0 или 1 то используем любую колонку для аргумента values.\n",
    "risk_by_total_income_pivot = research_data.pivot_table(\n",
    "    index='total_income_category',\n",
    "    columns='debt',\n",
    "    values='education',\n",
    "    margins=True, \n",
    "    margins_name='всего',\n",
    "    aggfunc='count',\n",
    ").sort_values(by=0, ascending=False)\n",
    "\n",
    "# найду процент клиентов с задолженностью и без в каждой группе\n",
    "risk_by_total_income_pivot.iloc[:, :2] = risk_by_total_income_pivot.iloc[:, :2].div(risk_by_total_income_pivot.iloc[:, -1], axis=0).mul(100)\n",
    "\n",
    "# удалю колоку 'всего', не нужны после расчета процентов\n",
    "risk_by_total_income_pivot.drop('всего', axis=1, inplace=True)\n",
    "\n",
    "# переименую колонки задолженности для понятного предсатвления данных\n",
    "risk_by_total_income_pivot = risk_by_total_income_pivot.rename(columns={0: 'без задолженности', 1: 'с задолженностью'})\n",
    "\n",
    "# проверю\n",
    "risk_by_total_income_pivot"
   ]
  },
  {
   "cell_type": "markdown",
   "id": "b7055429",
   "metadata": {},
   "source": [
    "##### Вывод 3:"
   ]
  },
  {
   "cell_type": "markdown",
   "id": "165fa4fa",
   "metadata": {},
   "source": [
    "Для группировки по уровню дохода исопльзуются следующие значения:\n",
    "- 0–30000 — 'E';\n",
    "- 30001–50000 — 'D';\n",
    "- 50001–200000 — 'C';\n",
    "- 200001–1000000 — 'B';\n",
    "- 1000001 и выше — 'A'.\n",
    "\n",
    "По результатам сопоставления данных можно сделать вывод что уровень дохода влияет на надежность клиента.\n",
    "\n",
    "Наиболее надежными категориями являются:\n",
    "- D\t(6.00%);\n",
    "- B\t(6.96%);\n",
    "- A\t(8.00%).\n",
    "\n",
    "Отклонение от минимального невозврата по группе превышает 2% для наименее надежных категорий.  \n",
    "\n",
    "Наименее надежными категориями являются: \n",
    "- C\t(8.56%);\n",
    "- E\t(9.09%).\n",
    "\n",
    "Невозврат во всех группах не превышает 10%, как видно из приведенного графика."
   ]
  },
  {
   "cell_type": "code",
   "execution_count": 47,
   "id": "e05574ae",
   "metadata": {},
   "outputs": [
    {
     "data": {
      "text/plain": [
       "<matplotlib.axes._subplots.AxesSubplot at 0x7f062f3a2050>"
      ]
     },
     "execution_count": 47,
     "metadata": {},
     "output_type": "execute_result"
    },
    {
     "data": {
      "image/png": "[encoded data removed]",
      "text/plain": [
       "<Figure size 720x720 with 1 Axes>"
      ]
     },
     "metadata": {
      "needs_background": "light"
     },
     "output_type": "display_data"
    }
   ],
   "source": [
    "# использую метод .plot() чтобы наглядно представить сводную таблицу.\n",
    "risk_by_total_income_pivot.plot(\n",
    "    kind='bar',\n",
    "    figsize=[10, 10],\n",
    "    grid=True, rot=10,\n",
    "    legend=True,\n",
    "    yticks=[4, 7, 10, 15, 20, 40, 60, 80, 85, 90, 93, 96]\n",
    ")"
   ]
  },
  {
   "cell_type": "markdown",
   "id": "4647dab9",
   "metadata": {},
   "source": [
    "##### Вопрос 4:"
   ]
  },
  {
   "cell_type": "markdown",
   "id": "9ab93bbb",
   "metadata": {},
   "source": [
    "Как разные цели кредита влияют на его возврат в срок?"
   ]
  },
  {
   "cell_type": "code",
   "execution_count": 48,
   "id": "cf6aaa7b",
   "metadata": {},
   "outputs": [
    {
     "data": {
      "text/html": [
       "<div>\n",
       "<style scoped>\n",
       "    .dataframe tbody tr th:only-of-type {\n",
       "        vertical-align: middle;\n",
       "    }\n",
       "\n",
       "    .dataframe tbody tr th {\n",
       "        vertical-align: top;\n",
       "    }\n",
       "\n",
       "    .dataframe thead th {\n",
       "        text-align: right;\n",
       "    }\n",
       "</style>\n",
       "<table border=\"1\" class=\"dataframe\">\n",
       "  <thead>\n",
       "    <tr style=\"text-align: right;\">\n",
       "      <th>debt</th>\n",
       "      <th>без задолженности</th>\n",
       "      <th>с задолженностью</th>\n",
       "    </tr>\n",
       "    <tr>\n",
       "      <th>purpose_category</th>\n",
       "      <th></th>\n",
       "      <th></th>\n",
       "    </tr>\n",
       "  </thead>\n",
       "  <tbody>\n",
       "    <tr>\n",
       "      <td>всего</td>\n",
       "      <td>91.893535</td>\n",
       "      <td>8.106465</td>\n",
       "    </tr>\n",
       "    <tr>\n",
       "      <td>операции с недвижимостью</td>\n",
       "      <td>92.761021</td>\n",
       "      <td>7.238979</td>\n",
       "    </tr>\n",
       "    <tr>\n",
       "      <td>операции с автомобилем</td>\n",
       "      <td>90.652681</td>\n",
       "      <td>9.347319</td>\n",
       "    </tr>\n",
       "    <tr>\n",
       "      <td>получение образования</td>\n",
       "      <td>90.770385</td>\n",
       "      <td>9.229615</td>\n",
       "    </tr>\n",
       "    <tr>\n",
       "      <td>проведение свадьбы</td>\n",
       "      <td>92.095032</td>\n",
       "      <td>7.904968</td>\n",
       "    </tr>\n",
       "  </tbody>\n",
       "</table>\n",
       "</div>"
      ],
      "text/plain": [
       "debt                      без задолженности  с задолженностью\n",
       "purpose_category                                             \n",
       "всего                             91.893535          8.106465\n",
       "операции с недвижимостью          92.761021          7.238979\n",
       "операции с автомобилем            90.652681          9.347319\n",
       "получение образования             90.770385          9.229615\n",
       "проведение свадьбы                92.095032          7.904968"
      ]
     },
     "execution_count": 48,
     "metadata": {},
     "output_type": "execute_result"
    }
   ],
   "source": [
    "# создаю таблицу risk_by_purpose_pivot, соодержащую сводные данные по семейному положению в соотношении с наличием задолженности\n",
    "# так как подчитываем количество строк где 'debt' равен 0 или 1 то используем любую колонку для аргумента values.\n",
    "risk_by_purpose_pivot = research_data.pivot_table(\n",
    "    index='purpose_category',\n",
    "    columns='debt',\n",
    "    values='education',\n",
    "    margins=True, \n",
    "    margins_name='всего',\n",
    "    aggfunc='count',\n",
    ").sort_values(by=0, ascending=False)\n",
    "\n",
    "# найду процент клиентов с задолженностью и без в каждой группе\n",
    "risk_by_purpose_pivot.iloc[:, :2] = risk_by_purpose_pivot.iloc[:, :2].div(risk_by_purpose_pivot.iloc[:, -1], axis=0).mul(100)\n",
    "\n",
    "# удалю колоку 'всего', не нужны после расчета процентов\n",
    "risk_by_purpose_pivot.drop('всего', axis=1, inplace=True)\n",
    "\n",
    "# переименую колонки задолженности для понятного предсатвления данных\n",
    "risk_by_purpose_pivot = risk_by_purpose_pivot.rename(columns={0: 'без задолженности', 1: 'с задолженностью'})\n",
    "\n",
    "# проверю\n",
    "risk_by_purpose_pivot"
   ]
  },
  {
   "cell_type": "markdown",
   "id": "af3de087",
   "metadata": {},
   "source": [
    "##### Вывод 4:"
   ]
  },
  {
   "cell_type": "markdown",
   "id": "6ed7fd9a",
   "metadata": {},
   "source": [
    "По результатам сопоставления данных можно сделать вывод что цель получения кредита влияет на надежность клиента.\n",
    "\n",
    "Наиболее надежными категориями являются клиенты с целю:\n",
    "- операции с недвижимостью\t(7.24%);\n",
    "- проведение свадьбы\t\t(7.90%).\n",
    "\n",
    "Отклонение от минимального невозврата по группе превышает 2% для наименее надежных категорий.  \n",
    "\n",
    "Наименее надежными категориями являются клиенты с целю: \n",
    "- получение образования (9.23%);\n",
    "- операции с автомобилем (9.35%).\n",
    "\n",
    "Невозврат во всех группах не превышает 10%, как видно из приведенного графика."
   ]
  },
  {
   "cell_type": "code",
   "execution_count": 49,
   "id": "21cc058b",
   "metadata": {},
   "outputs": [
    {
     "data": {
      "text/plain": [
       "<matplotlib.axes._subplots.AxesSubplot at 0x7f062f2f3bd0>"
      ]
     },
     "execution_count": 49,
     "metadata": {},
     "output_type": "execute_result"
    },
    {
     "data": {
      "image/png": "[encoded data removed]",
      "text/plain": [
       "<Figure size 720x720 with 1 Axes>"
      ]
     },
     "metadata": {
      "needs_background": "light"
     },
     "output_type": "display_data"
    }
   ],
   "source": [
    "# использую метод .plot() чтобы наглядно представить сводную таблицу.\n",
    "risk_by_purpose_pivot.plot(\n",
    "    kind='bar',\n",
    "    figsize=[10, 10],\n",
    "    grid=True, rot=10,\n",
    "    legend=True,\n",
    "    yticks=[4, 7, 10, 15, 20, 40, 60, 80, 85, 90, 93, 96]\n",
    ")"
   ]
  },
  {
   "cell_type": "markdown",
   "id": "01ada10d",
   "metadata": {},
   "source": [
    "##### Вопрос 5:"
   ]
  },
  {
   "cell_type": "markdown",
   "id": "2769ed4e",
   "metadata": {},
   "source": [
    "Дополнительно ответим на вопрос влияет ли уровень образования на возврат кредита в срок."
   ]
  },
  {
   "cell_type": "code",
   "execution_count": 50,
   "id": "bbc76074",
   "metadata": {},
   "outputs": [
    {
     "data": {
      "text/html": [
       "<div>\n",
       "<style scoped>\n",
       "    .dataframe tbody tr th:only-of-type {\n",
       "        vertical-align: middle;\n",
       "    }\n",
       "\n",
       "    .dataframe tbody tr th {\n",
       "        vertical-align: top;\n",
       "    }\n",
       "\n",
       "    .dataframe thead th {\n",
       "        text-align: right;\n",
       "    }\n",
       "</style>\n",
       "<table border=\"1\" class=\"dataframe\">\n",
       "  <thead>\n",
       "    <tr style=\"text-align: right;\">\n",
       "      <th>debt</th>\n",
       "      <th>без задолженности</th>\n",
       "      <th>с задолженностью</th>\n",
       "    </tr>\n",
       "    <tr>\n",
       "      <th>education</th>\n",
       "      <th></th>\n",
       "      <th></th>\n",
       "    </tr>\n",
       "  </thead>\n",
       "  <tbody>\n",
       "    <tr>\n",
       "      <td>всего</td>\n",
       "      <td>91.893535</td>\n",
       "      <td>8.106465</td>\n",
       "    </tr>\n",
       "    <tr>\n",
       "      <td>среднее</td>\n",
       "      <td>91.026998</td>\n",
       "      <td>8.973002</td>\n",
       "    </tr>\n",
       "    <tr>\n",
       "      <td>высшее</td>\n",
       "      <td>94.690604</td>\n",
       "      <td>5.309396</td>\n",
       "    </tr>\n",
       "    <tr>\n",
       "      <td>неоконченное высшее</td>\n",
       "      <td>90.835580</td>\n",
       "      <td>9.164420</td>\n",
       "    </tr>\n",
       "    <tr>\n",
       "      <td>начальное</td>\n",
       "      <td>89.007092</td>\n",
       "      <td>10.992908</td>\n",
       "    </tr>\n",
       "    <tr>\n",
       "      <td>ученая степень</td>\n",
       "      <td>100.000000</td>\n",
       "      <td>0.000000</td>\n",
       "    </tr>\n",
       "  </tbody>\n",
       "</table>\n",
       "</div>"
      ],
      "text/plain": [
       "debt                 без задолженности  с задолженностью\n",
       "education                                               \n",
       "всего                        91.893535          8.106465\n",
       "среднее                      91.026998          8.973002\n",
       "высшее                       94.690604          5.309396\n",
       "неоконченное высшее          90.835580          9.164420\n",
       "начальное                    89.007092         10.992908\n",
       "ученая степень              100.000000          0.000000"
      ]
     },
     "execution_count": 50,
     "metadata": {},
     "output_type": "execute_result"
    }
   ],
   "source": [
    "# создаю таблицу risk_by_education_pivot, соодержащую сводные данные по семейному положению в соотношении с наличием задолженности\n",
    "# так как подчитываем количество строк где 'debt' равен 0 или 1 то используем любую колонку для аргумента values.\n",
    "risk_by_education_pivot = research_data.pivot_table(\n",
    "    index='education',\n",
    "    columns='debt',\n",
    "    values='purpose_category',\n",
    "    margins=True, \n",
    "    margins_name='всего',\n",
    "    aggfunc='count',\n",
    "    fill_value=0\n",
    ").sort_values(by=0, ascending=False)\n",
    "\n",
    "# найду процент клиентов с задолженностью и без в каждой группе\n",
    "risk_by_education_pivot.iloc[:, :2] = risk_by_education_pivot.iloc[:, :2].div(risk_by_education_pivot.iloc[:, -1], axis=0).mul(100)\n",
    "\n",
    "# удалю колоку 'всего', не нужны после расчета процентов\n",
    "risk_by_education_pivot.drop('всего', axis=1, inplace=True)\n",
    "\n",
    "# переименую колонки задолженности для понятного предсатвления данных\n",
    "risk_by_education_pivot = risk_by_education_pivot.rename(columns={0: 'без задолженности', 1: 'с задолженностью'})\n",
    "\n",
    "# проверю\n",
    "risk_by_education_pivot"
   ]
  },
  {
   "cell_type": "markdown",
   "id": "4ac3b70f",
   "metadata": {},
   "source": [
    "##### Вывод 5:"
   ]
  },
  {
   "cell_type": "markdown",
   "id": "caea7052",
   "metadata": {},
   "source": [
    "По результатам сопоставления данных можно сделать вывод что уровень образования влияет на надежность клиента.\n",
    "\n",
    "Наиболее надежными категориями являются клиенты образованием:\n",
    "\n",
    "- ученая степень (0.00%);\n",
    "- высшее (5.30%).\n",
    "\n",
    "Отклонение от минимального невозврата по группе превышает 2% для наименее надежных категорий.\n",
    "\n",
    "Наименее надежными категориями являются клиенты с образованием:\n",
    "\n",
    "- среднее (8.97%);\n",
    "- неоконченное высшее (9.16%);\n",
    "- начальное (10.99%).\n",
    "\n",
    "Невозврат для категории клиентов с начальным образованием превышает 10%, как видно из приведенного графика.  \n",
    "При это стоит заметить что количество клиентов с ученой степенью может быть недстаточными чтобы считать выборку репрезентативной."
   ]
  },
  {
   "cell_type": "code",
   "execution_count": 51,
   "id": "d18b9d27",
   "metadata": {},
   "outputs": [
    {
     "data": {
      "text/plain": [
       "<matplotlib.axes._subplots.AxesSubplot at 0x7f062f2f3290>"
      ]
     },
     "execution_count": 51,
     "metadata": {},
     "output_type": "execute_result"
    },
    {
     "data": {
      "image/png": "[encoded data removed]",
      "text/plain": [
       "<Figure size 720x720 with 1 Axes>"
      ]
     },
     "metadata": {
      "needs_background": "light"
     },
     "output_type": "display_data"
    }
   ],
   "source": [
    "risk_by_education_pivot.plot(\n",
    "    kind='bar',\n",
    "    figsize=[10, 10],\n",
    "    grid=True, rot=10,\n",
    "    legend=True,\n",
    "    yticks=[4, 7, 10, 15, 20, 40, 60, 80, 85, 90, 93, 96, 100]\n",
    ")"
   ]
  },
  {
   "cell_type": "markdown",
   "id": "ef6c148b",
   "metadata": {},
   "source": [
    "## Общий вывод:"
   ]
  },
  {
   "cell_type": "markdown",
   "id": "3e6b8650",
   "metadata": {},
   "source": [
    "По итогам исследования можно сделать вывод что по по каждой из гипотез замечено отклонение в надежности клиента в зависимости от включенной группы. \n",
    "\n",
    "Наименьшее влияние замечено при группировке клиентов по количеству детей - отклонение от минимального процента невозврата не превысило 2%.  \n",
    "\n",
    "По всем остальным методам группировки замечено отклонение от минимального процента невозврата на 2%, что говорит о возможности применения метода для оценки надежности клиентов.  \n",
    "Для максимальной эффективности прогнозирования рекомедую использовать совокупность проверенных факторов.\n",
    "\n",
    "При этом рекомендую обратить внимание на результаты дополнительной проверки надежности клиентов по уровню образования, так как эта првоерка показала наибольшее отклонение между надежными и ненадежными клиентами."
   ]
  }
 ],
 "metadata": {
  "ExecuteTimeLog": [
   {
    "duration": 634,
    "start_time": "2022-02-28T13:13:55.906Z"
   },
   {
    "duration": 3,
    "start_time": "2022-02-28T13:15:06.807Z"
   },
   {
    "duration": 614,
    "start_time": "2022-02-28T13:24:54.944Z"
   },
   {
    "duration": 372,
    "start_time": "2022-02-28T13:24:56.389Z"
   },
   {
    "duration": 54,
    "start_time": "2022-02-28T13:25:06.236Z"
   },
   {
    "duration": 30,
    "start_time": "2022-02-28T13:25:41.952Z"
   },
   {
    "duration": 10,
    "start_time": "2022-02-28T13:26:42.202Z"
   },
   {
    "duration": 349,
    "start_time": "2022-02-28T13:27:33.643Z"
   },
   {
    "duration": 11,
    "start_time": "2022-02-28T13:28:24.461Z"
   },
   {
    "duration": 19,
    "start_time": "2022-02-28T13:32:56.794Z"
   },
   {
    "duration": 21,
    "start_time": "2022-02-28T13:44:54.400Z"
   },
   {
    "duration": 25,
    "start_time": "2022-02-28T13:45:06.557Z"
   },
   {
    "duration": 19,
    "start_time": "2022-02-28T13:46:05.275Z"
   },
   {
    "duration": 20,
    "start_time": "2022-02-28T13:47:21.217Z"
   },
   {
    "duration": 18,
    "start_time": "2022-02-28T13:47:31.838Z"
   },
   {
    "duration": 20,
    "start_time": "2022-02-28T13:47:37.204Z"
   },
   {
    "duration": 294,
    "start_time": "2022-02-28T14:22:58.578Z"
   },
   {
    "duration": 14,
    "start_time": "2022-02-28T14:23:28.096Z"
   },
   {
    "duration": 21,
    "start_time": "2022-02-28T14:30:22.259Z"
   },
   {
    "duration": 21,
    "start_time": "2022-02-28T14:30:38.080Z"
   },
   {
    "duration": 21,
    "start_time": "2022-02-28T14:33:14.598Z"
   },
   {
    "duration": 7,
    "start_time": "2022-02-28T14:36:37.056Z"
   },
   {
    "duration": 4,
    "start_time": "2022-02-28T14:37:41.809Z"
   },
   {
    "duration": 4,
    "start_time": "2022-02-28T14:38:08.923Z"
   },
   {
    "duration": 4,
    "start_time": "2022-02-28T14:40:09.486Z"
   },
   {
    "duration": 4,
    "start_time": "2022-02-28T14:40:23.452Z"
   },
   {
    "duration": 4,
    "start_time": "2022-02-28T14:40:32.155Z"
   },
   {
    "duration": 9,
    "start_time": "2022-02-28T14:41:07.351Z"
   },
   {
    "duration": 7,
    "start_time": "2022-02-28T14:41:18.007Z"
   },
   {
    "duration": 7,
    "start_time": "2022-02-28T14:41:50.187Z"
   },
   {
    "duration": 4,
    "start_time": "2022-02-28T14:42:24.879Z"
   },
   {
    "duration": 18,
    "start_time": "2022-02-28T14:42:41.974Z"
   },
   {
    "duration": 20,
    "start_time": "2022-02-28T14:42:55.146Z"
   },
   {
    "duration": 5,
    "start_time": "2022-02-28T14:43:10.992Z"
   },
   {
    "duration": 4,
    "start_time": "2022-02-28T14:43:17.088Z"
   },
   {
    "duration": 97,
    "start_time": "2022-02-28T14:44:01.804Z"
   },
   {
    "duration": 98,
    "start_time": "2022-02-28T14:44:09.403Z"
   },
   {
    "duration": 108,
    "start_time": "2022-02-28T14:44:30.431Z"
   },
   {
    "duration": 103,
    "start_time": "2022-02-28T14:45:00.461Z"
   },
   {
    "duration": 127,
    "start_time": "2022-02-28T14:45:03.149Z"
   },
   {
    "duration": 92,
    "start_time": "2022-02-28T14:47:17.494Z"
   },
   {
    "duration": 98,
    "start_time": "2022-02-28T14:48:04.160Z"
   },
   {
    "duration": 99,
    "start_time": "2022-02-28T14:48:18.126Z"
   },
   {
    "duration": 5,
    "start_time": "2022-02-28T14:48:30.137Z"
   },
   {
    "duration": 5,
    "start_time": "2022-02-28T14:48:33.628Z"
   },
   {
    "duration": 6,
    "start_time": "2022-02-28T14:49:03.889Z"
   },
   {
    "duration": 170,
    "start_time": "2022-02-28T14:58:31.034Z"
   },
   {
    "duration": 95,
    "start_time": "2022-02-28T14:58:38.962Z"
   },
   {
    "duration": 98,
    "start_time": "2022-02-28T14:59:43.050Z"
   },
   {
    "duration": 134,
    "start_time": "2022-02-28T15:07:18.609Z"
   },
   {
    "duration": 145,
    "start_time": "2022-02-28T15:07:52.748Z"
   },
   {
    "duration": 7,
    "start_time": "2022-02-28T15:14:23.850Z"
   },
   {
    "duration": 7,
    "start_time": "2022-02-28T15:14:32.617Z"
   },
   {
    "duration": 8,
    "start_time": "2022-02-28T15:14:37.031Z"
   },
   {
    "duration": 8,
    "start_time": "2022-02-28T15:15:17.211Z"
   },
   {
    "duration": 7,
    "start_time": "2022-02-28T15:15:34.313Z"
   },
   {
    "duration": 20,
    "start_time": "2022-02-28T15:15:56.961Z"
   },
   {
    "duration": 6,
    "start_time": "2022-02-28T15:16:16.940Z"
   },
   {
    "duration": 93,
    "start_time": "2022-02-28T15:16:56.171Z"
   },
   {
    "duration": 85,
    "start_time": "2022-02-28T15:17:09.855Z"
   },
   {
    "duration": 6,
    "start_time": "2022-02-28T15:17:22.749Z"
   },
   {
    "duration": 5,
    "start_time": "2022-02-28T15:17:46.924Z"
   },
   {
    "duration": 5,
    "start_time": "2022-02-28T15:18:10.697Z"
   },
   {
    "duration": 5,
    "start_time": "2022-02-28T15:18:53.387Z"
   },
   {
    "duration": 5,
    "start_time": "2022-02-28T15:19:14.376Z"
   },
   {
    "duration": 20,
    "start_time": "2022-02-28T15:25:59.315Z"
   },
   {
    "duration": 20,
    "start_time": "2022-02-28T15:26:43.126Z"
   },
   {
    "duration": 294,
    "start_time": "2022-02-28T15:43:23.407Z"
   },
   {
    "duration": 289,
    "start_time": "2022-02-28T15:44:21.881Z"
   },
   {
    "duration": 305,
    "start_time": "2022-02-28T15:55:20.496Z"
   },
   {
    "duration": 455,
    "start_time": "2022-02-28T15:57:58.517Z"
   },
   {
    "duration": 4953,
    "start_time": "2022-02-28T15:58:05.470Z"
   },
   {
    "duration": 513,
    "start_time": "2022-02-28T16:00:08.280Z"
   },
   {
    "duration": 283,
    "start_time": "2022-02-28T16:00:12.847Z"
   },
   {
    "duration": 298,
    "start_time": "2022-02-28T16:00:34.653Z"
   },
   {
    "duration": 91,
    "start_time": "2022-02-28T16:02:59.271Z"
   },
   {
    "duration": 457,
    "start_time": "2022-02-28T16:03:13.224Z"
   },
   {
    "duration": 7918,
    "start_time": "2022-02-28T16:03:24.843Z"
   },
   {
    "duration": 96,
    "start_time": "2022-02-28T16:03:57.928Z"
   },
   {
    "duration": 7876,
    "start_time": "2022-02-28T16:04:08.141Z"
   },
   {
    "duration": 7536,
    "start_time": "2022-02-28T16:06:46.942Z"
   },
   {
    "duration": 7448,
    "start_time": "2022-02-28T16:07:23.970Z"
   },
   {
    "duration": 8285,
    "start_time": "2022-02-28T16:08:07.157Z"
   },
   {
    "duration": 200,
    "start_time": "2022-02-28T16:12:07.768Z"
   },
   {
    "duration": 329,
    "start_time": "2022-02-28T16:12:19.166Z"
   },
   {
    "duration": 308,
    "start_time": "2022-02-28T16:12:49.898Z"
   },
   {
    "duration": 584,
    "start_time": "2022-02-28T16:20:20.298Z"
   },
   {
    "duration": 773,
    "start_time": "2022-02-28T16:20:26.472Z"
   },
   {
    "duration": 6373,
    "start_time": "2022-02-28T16:21:12.059Z"
   },
   {
    "duration": 163,
    "start_time": "2022-02-28T16:21:39.794Z"
   },
   {
    "duration": 5648,
    "start_time": "2022-02-28T16:21:49.590Z"
   },
   {
    "duration": 472,
    "start_time": "2022-02-28T16:24:34.471Z"
   },
   {
    "duration": 272,
    "start_time": "2022-02-28T16:24:53.426Z"
   },
   {
    "duration": 286,
    "start_time": "2022-02-28T16:25:01.761Z"
   },
   {
    "duration": 778,
    "start_time": "2022-03-01T15:08:59.638Z"
   },
   {
    "duration": 57,
    "start_time": "2022-03-01T15:09:01.244Z"
   },
   {
    "duration": 27,
    "start_time": "2022-03-01T15:09:02.233Z"
   },
   {
    "duration": 6,
    "start_time": "2022-03-01T15:09:05.278Z"
   },
   {
    "duration": 24,
    "start_time": "2022-03-01T15:09:06.799Z"
   },
   {
    "duration": 69,
    "start_time": "2022-03-01T15:10:33.065Z"
   },
   {
    "duration": 75,
    "start_time": "2022-03-01T15:10:50.253Z"
   },
   {
    "duration": 79,
    "start_time": "2022-03-01T15:11:08.721Z"
   },
   {
    "duration": 67,
    "start_time": "2022-03-01T15:11:58.083Z"
   },
   {
    "duration": 74,
    "start_time": "2022-03-01T15:12:06.513Z"
   },
   {
    "duration": 71,
    "start_time": "2022-03-01T15:12:33.224Z"
   },
   {
    "duration": 73,
    "start_time": "2022-03-01T15:12:38.990Z"
   },
   {
    "duration": 73,
    "start_time": "2022-03-01T15:12:46.317Z"
   },
   {
    "duration": 77,
    "start_time": "2022-03-01T15:12:53.550Z"
   },
   {
    "duration": 67,
    "start_time": "2022-03-01T15:13:08.142Z"
   },
   {
    "duration": 69,
    "start_time": "2022-03-01T15:13:33.952Z"
   },
   {
    "duration": 79,
    "start_time": "2022-03-01T15:16:02.025Z"
   },
   {
    "duration": 75,
    "start_time": "2022-03-01T15:16:06.303Z"
   },
   {
    "duration": 75,
    "start_time": "2022-03-01T15:16:13.102Z"
   },
   {
    "duration": 74,
    "start_time": "2022-03-01T15:16:16.117Z"
   },
   {
    "duration": 78,
    "start_time": "2022-03-01T15:16:17.949Z"
   },
   {
    "duration": 73,
    "start_time": "2022-03-01T15:16:19.886Z"
   },
   {
    "duration": 74,
    "start_time": "2022-03-01T15:16:42.155Z"
   },
   {
    "duration": 74,
    "start_time": "2022-03-01T15:16:50.683Z"
   },
   {
    "duration": 4,
    "start_time": "2022-03-01T15:23:43.620Z"
   },
   {
    "duration": 80,
    "start_time": "2022-03-01T15:23:52.835Z"
   },
   {
    "duration": 79,
    "start_time": "2022-03-01T15:23:56.130Z"
   },
   {
    "duration": 83,
    "start_time": "2022-03-01T15:23:58.402Z"
   },
   {
    "duration": 288,
    "start_time": "2022-03-01T15:27:38.522Z"
   },
   {
    "duration": 3917,
    "start_time": "2022-03-01T15:40:34.963Z"
   },
   {
    "duration": 234,
    "start_time": "2022-03-01T15:41:24.870Z"
   },
   {
    "duration": 214,
    "start_time": "2022-03-01T15:43:34.719Z"
   },
   {
    "duration": 10,
    "start_time": "2022-03-01T15:43:48.453Z"
   },
   {
    "duration": 22,
    "start_time": "2022-03-01T15:45:50.208Z"
   },
   {
    "duration": 10,
    "start_time": "2022-03-01T15:45:56.398Z"
   },
   {
    "duration": 211,
    "start_time": "2022-03-01T15:46:38.874Z"
   },
   {
    "duration": 6,
    "start_time": "2022-03-01T15:46:48.353Z"
   },
   {
    "duration": 6,
    "start_time": "2022-03-01T15:46:51.794Z"
   },
   {
    "duration": 9,
    "start_time": "2022-03-01T15:46:59.887Z"
   },
   {
    "duration": 165,
    "start_time": "2022-03-01T15:47:55.761Z"
   },
   {
    "duration": 8,
    "start_time": "2022-03-01T15:48:07.208Z"
   },
   {
    "duration": 211,
    "start_time": "2022-03-01T15:48:29.510Z"
   },
   {
    "duration": 7,
    "start_time": "2022-03-01T15:48:35.701Z"
   },
   {
    "duration": 9,
    "start_time": "2022-03-01T15:48:40.252Z"
   },
   {
    "duration": 7,
    "start_time": "2022-03-01T15:48:50.563Z"
   },
   {
    "duration": 10,
    "start_time": "2022-03-01T15:49:30.127Z"
   },
   {
    "duration": 216,
    "start_time": "2022-03-01T15:49:59.900Z"
   },
   {
    "duration": 234,
    "start_time": "2022-03-01T15:50:02.644Z"
   },
   {
    "duration": 225,
    "start_time": "2022-03-01T15:50:10.898Z"
   },
   {
    "duration": 22,
    "start_time": "2022-03-01T15:50:16.947Z"
   },
   {
    "duration": 217,
    "start_time": "2022-03-01T15:51:04.853Z"
   },
   {
    "duration": 222,
    "start_time": "2022-03-01T15:51:45.768Z"
   },
   {
    "duration": 7,
    "start_time": "2022-03-01T15:51:52.687Z"
   },
   {
    "duration": 7,
    "start_time": "2022-03-01T15:52:03.853Z"
   },
   {
    "duration": 12,
    "start_time": "2022-03-01T15:57:42.740Z"
   },
   {
    "duration": 8,
    "start_time": "2022-03-01T15:58:04.654Z"
   },
   {
    "duration": 9,
    "start_time": "2022-03-01T15:58:13.092Z"
   },
   {
    "duration": 8,
    "start_time": "2022-03-01T15:58:16.980Z"
   },
   {
    "duration": 8,
    "start_time": "2022-03-01T15:58:33.706Z"
   },
   {
    "duration": 8,
    "start_time": "2022-03-01T15:58:55.312Z"
   },
   {
    "duration": 8,
    "start_time": "2022-03-01T15:59:20.293Z"
   },
   {
    "duration": 10,
    "start_time": "2022-03-01T16:16:33.818Z"
   },
   {
    "duration": 8,
    "start_time": "2022-03-01T17:10:05.837Z"
   },
   {
    "duration": 70,
    "start_time": "2022-03-01T18:00:47.835Z"
   },
   {
    "duration": 8,
    "start_time": "2022-03-01T18:01:28.350Z"
   },
   {
    "duration": 25,
    "start_time": "2022-03-01T18:01:55.027Z"
   },
   {
    "duration": 87,
    "start_time": "2022-03-01T18:01:59.995Z"
   },
   {
    "duration": 75,
    "start_time": "2022-03-01T18:02:14.009Z"
   },
   {
    "duration": 69,
    "start_time": "2022-03-01T18:02:17.328Z"
   },
   {
    "duration": 71,
    "start_time": "2022-03-01T18:02:39.565Z"
   },
   {
    "duration": 24,
    "start_time": "2022-03-01T18:02:48.173Z"
   },
   {
    "duration": 25,
    "start_time": "2022-03-01T18:03:24.250Z"
   },
   {
    "duration": 17,
    "start_time": "2022-03-01T18:06:42.645Z"
   },
   {
    "duration": 18,
    "start_time": "2022-03-01T18:06:54.140Z"
   },
   {
    "duration": 49,
    "start_time": "2022-03-01T18:10:54.296Z"
   },
   {
    "duration": 205,
    "start_time": "2022-03-01T19:07:50.054Z"
   },
   {
    "duration": 12,
    "start_time": "2022-03-01T19:07:58.260Z"
   },
   {
    "duration": 217,
    "start_time": "2022-03-01T19:10:34.299Z"
   },
   {
    "duration": 11,
    "start_time": "2022-03-01T19:12:07.696Z"
   },
   {
    "duration": 238,
    "start_time": "2022-03-01T19:18:01.329Z"
   },
   {
    "duration": 232,
    "start_time": "2022-03-01T19:18:18.747Z"
   },
   {
    "duration": 225,
    "start_time": "2022-03-01T19:18:38.520Z"
   },
   {
    "duration": 804,
    "start_time": "2022-03-01T19:31:24.961Z"
   },
   {
    "duration": 809,
    "start_time": "2022-03-01T19:31:30.337Z"
   },
   {
    "duration": 12,
    "start_time": "2022-03-01T19:31:37.431Z"
   },
   {
    "duration": 813,
    "start_time": "2022-03-01T19:31:48.502Z"
   },
   {
    "duration": 219,
    "start_time": "2022-03-02T13:51:28.553Z"
   },
   {
    "duration": 631,
    "start_time": "2022-03-02T13:51:33.950Z"
   },
   {
    "duration": 45,
    "start_time": "2022-03-02T13:51:34.582Z"
   },
   {
    "duration": 25,
    "start_time": "2022-03-02T13:51:34.629Z"
   },
   {
    "duration": 7,
    "start_time": "2022-03-02T13:51:34.656Z"
   },
   {
    "duration": 25,
    "start_time": "2022-03-02T13:51:34.664Z"
   },
   {
    "duration": 68,
    "start_time": "2022-03-02T13:51:34.691Z"
   },
   {
    "duration": 5,
    "start_time": "2022-03-02T13:51:34.761Z"
   },
   {
    "duration": 215,
    "start_time": "2022-03-02T13:51:34.768Z"
   },
   {
    "duration": 6,
    "start_time": "2022-03-02T13:51:44.005Z"
   },
   {
    "duration": 16,
    "start_time": "2022-03-02T13:52:00.106Z"
   },
   {
    "duration": 43,
    "start_time": "2022-03-02T13:54:22.380Z"
   },
   {
    "duration": 234,
    "start_time": "2022-03-02T14:07:44.731Z"
   },
   {
    "duration": 218,
    "start_time": "2022-03-02T14:08:01.662Z"
   },
   {
    "duration": 238,
    "start_time": "2022-03-02T14:08:08.278Z"
   },
   {
    "duration": 68,
    "start_time": "2022-03-02T14:08:19.453Z"
   },
   {
    "duration": 58,
    "start_time": "2022-03-02T14:08:21.924Z"
   },
   {
    "duration": 10,
    "start_time": "2022-03-02T14:08:23.979Z"
   },
   {
    "duration": 4752,
    "start_time": "2022-03-02T14:08:42.729Z"
   },
   {
    "duration": 11,
    "start_time": "2022-03-02T14:08:47.585Z"
   },
   {
    "duration": 12,
    "start_time": "2022-03-02T14:08:54.886Z"
   },
   {
    "duration": 232,
    "start_time": "2022-03-02T14:09:01.353Z"
   },
   {
    "duration": 9,
    "start_time": "2022-03-02T14:09:03.736Z"
   },
   {
    "duration": 4543,
    "start_time": "2022-03-02T14:09:13.238Z"
   },
   {
    "duration": 11,
    "start_time": "2022-03-02T14:09:19.966Z"
   },
   {
    "duration": 354,
    "start_time": "2022-03-02T14:09:38.812Z"
   },
   {
    "duration": 12,
    "start_time": "2022-03-02T14:09:44.402Z"
   },
   {
    "duration": 13,
    "start_time": "2022-03-02T14:09:48.234Z"
   },
   {
    "duration": 12,
    "start_time": "2022-03-02T14:09:50.770Z"
   },
   {
    "duration": 12,
    "start_time": "2022-03-02T14:09:55.369Z"
   },
   {
    "duration": 11,
    "start_time": "2022-03-02T14:09:57.281Z"
   },
   {
    "duration": 1327,
    "start_time": "2022-03-02T14:10:14.816Z"
   },
   {
    "duration": 4470,
    "start_time": "2022-03-02T14:10:21.039Z"
   },
   {
    "duration": 335,
    "start_time": "2022-03-02T14:10:29.696Z"
   },
   {
    "duration": 209,
    "start_time": "2022-03-02T14:10:38.861Z"
   },
   {
    "duration": 354,
    "start_time": "2022-03-02T14:11:11.237Z"
   },
   {
    "duration": 4322,
    "start_time": "2022-03-02T14:11:13.328Z"
   },
   {
    "duration": 335,
    "start_time": "2022-03-02T14:11:31.263Z"
   },
   {
    "duration": 12,
    "start_time": "2022-03-02T14:11:32.758Z"
   },
   {
    "duration": 12,
    "start_time": "2022-03-02T14:11:39.182Z"
   },
   {
    "duration": 4295,
    "start_time": "2022-03-02T14:11:47.340Z"
   },
   {
    "duration": 1430,
    "start_time": "2022-03-02T14:12:52.078Z"
   },
   {
    "duration": 1239,
    "start_time": "2022-03-02T14:12:59.077Z"
   },
   {
    "duration": 193,
    "start_time": "2022-03-02T14:13:03.077Z"
   },
   {
    "duration": 189,
    "start_time": "2022-03-02T14:13:16.420Z"
   },
   {
    "duration": 204,
    "start_time": "2022-03-02T14:13:20.076Z"
   },
   {
    "duration": 198,
    "start_time": "2022-03-02T14:13:24.027Z"
   },
   {
    "duration": 223,
    "start_time": "2022-03-02T14:13:29.882Z"
   },
   {
    "duration": 54,
    "start_time": "2022-03-02T14:13:34.353Z"
   },
   {
    "duration": 66,
    "start_time": "2022-03-02T14:13:36.313Z"
   },
   {
    "duration": 12,
    "start_time": "2022-03-02T14:13:39.655Z"
   },
   {
    "duration": 12,
    "start_time": "2022-03-02T14:13:59.453Z"
   },
   {
    "duration": 9,
    "start_time": "2022-03-02T14:14:09.062Z"
   },
   {
    "duration": 10,
    "start_time": "2022-03-02T14:14:25.291Z"
   },
   {
    "duration": 13,
    "start_time": "2022-03-02T14:14:27.898Z"
   },
   {
    "duration": 11,
    "start_time": "2022-03-02T14:14:32.906Z"
   },
   {
    "duration": 10,
    "start_time": "2022-03-02T14:16:27.494Z"
   },
   {
    "duration": 9,
    "start_time": "2022-03-02T14:18:29.897Z"
   },
   {
    "duration": 11,
    "start_time": "2022-03-02T14:18:40.039Z"
   },
   {
    "duration": 187,
    "start_time": "2022-03-02T14:20:51.153Z"
   },
   {
    "duration": 1229,
    "start_time": "2022-03-02T14:20:58.360Z"
   },
   {
    "duration": 1214,
    "start_time": "2022-03-02T14:21:13.567Z"
   },
   {
    "duration": 188,
    "start_time": "2022-03-02T14:21:22.564Z"
   },
   {
    "duration": 11,
    "start_time": "2022-03-02T14:21:34.548Z"
   },
   {
    "duration": 9,
    "start_time": "2022-03-02T14:22:16.287Z"
   },
   {
    "duration": 6,
    "start_time": "2022-03-02T14:24:52.438Z"
   },
   {
    "duration": 12,
    "start_time": "2022-03-02T14:24:59.381Z"
   },
   {
    "duration": 371,
    "start_time": "2022-03-02T14:25:09.910Z"
   },
   {
    "duration": 5,
    "start_time": "2022-03-02T14:25:14.347Z"
   },
   {
    "duration": 4406,
    "start_time": "2022-03-02T14:25:18.178Z"
   },
   {
    "duration": 67,
    "start_time": "2022-03-02T16:16:23.127Z"
   },
   {
    "duration": 522,
    "start_time": "2022-03-02T16:19:22.662Z"
   },
   {
    "duration": 9,
    "start_time": "2022-03-02T16:19:24.711Z"
   },
   {
    "duration": 252,
    "start_time": "2022-03-03T14:38:20.807Z"
   },
   {
    "duration": 678,
    "start_time": "2022-03-03T14:38:27.152Z"
   },
   {
    "duration": 46,
    "start_time": "2022-03-03T14:38:27.831Z"
   },
   {
    "duration": 24,
    "start_time": "2022-03-03T14:38:27.879Z"
   },
   {
    "duration": 13,
    "start_time": "2022-03-03T14:38:27.905Z"
   },
   {
    "duration": 41,
    "start_time": "2022-03-03T14:38:27.919Z"
   },
   {
    "duration": 9,
    "start_time": "2022-03-03T14:38:27.962Z"
   },
   {
    "duration": 5328,
    "start_time": "2022-03-03T14:38:27.972Z"
   },
   {
    "duration": 9,
    "start_time": "2022-03-03T14:38:33.907Z"
   },
   {
    "duration": 69,
    "start_time": "2022-03-03T14:45:20.775Z"
   },
   {
    "duration": 195,
    "start_time": "2022-03-03T14:45:24.772Z"
   },
   {
    "duration": 285,
    "start_time": "2022-03-03T14:45:45.163Z"
   },
   {
    "duration": 193,
    "start_time": "2022-03-03T14:46:09.128Z"
   },
   {
    "duration": 5110,
    "start_time": "2022-03-03T14:47:39.902Z"
   },
   {
    "duration": 184,
    "start_time": "2022-03-03T14:50:30.517Z"
   },
   {
    "duration": 194,
    "start_time": "2022-03-03T14:53:09.176Z"
   },
   {
    "duration": 3670,
    "start_time": "2022-03-03T14:53:22.817Z"
   },
   {
    "duration": 180,
    "start_time": "2022-03-03T14:53:39.808Z"
   },
   {
    "duration": 93,
    "start_time": "2022-03-03T15:00:54.157Z"
   },
   {
    "duration": 71,
    "start_time": "2022-03-03T15:01:29.651Z"
   },
   {
    "duration": 68,
    "start_time": "2022-03-03T15:01:37.968Z"
   },
   {
    "duration": 12,
    "start_time": "2022-03-03T15:02:21.653Z"
   },
   {
    "duration": 624,
    "start_time": "2022-03-03T15:03:04.581Z"
   },
   {
    "duration": 46,
    "start_time": "2022-03-03T15:03:05.207Z"
   },
   {
    "duration": 27,
    "start_time": "2022-03-03T15:03:05.255Z"
   },
   {
    "duration": 8,
    "start_time": "2022-03-03T15:03:05.283Z"
   },
   {
    "duration": 26,
    "start_time": "2022-03-03T15:03:05.292Z"
   },
   {
    "duration": 11,
    "start_time": "2022-03-03T15:03:05.320Z"
   },
   {
    "duration": 84,
    "start_time": "2022-03-03T15:03:05.360Z"
   },
   {
    "duration": 304,
    "start_time": "2022-03-03T15:03:05.447Z"
   },
   {
    "duration": 177,
    "start_time": "2022-03-03T15:13:05.525Z"
   },
   {
    "duration": 73,
    "start_time": "2022-03-03T15:13:10.839Z"
   },
   {
    "duration": 84,
    "start_time": "2022-03-03T15:14:24.406Z"
   },
   {
    "duration": 634,
    "start_time": "2022-03-03T16:35:40.772Z"
   },
   {
    "duration": 47,
    "start_time": "2022-03-03T16:35:41.408Z"
   },
   {
    "duration": 25,
    "start_time": "2022-03-03T16:35:41.456Z"
   },
   {
    "duration": 7,
    "start_time": "2022-03-03T16:35:41.482Z"
   },
   {
    "duration": 23,
    "start_time": "2022-03-03T16:35:41.491Z"
   },
   {
    "duration": 11,
    "start_time": "2022-03-03T16:35:41.516Z"
   },
   {
    "duration": 110,
    "start_time": "2022-03-03T16:35:41.528Z"
   },
   {
    "duration": 257,
    "start_time": "2022-03-03T16:35:41.640Z"
   },
   {
    "duration": 81,
    "start_time": "2022-03-03T16:37:15.983Z"
   },
   {
    "duration": 8,
    "start_time": "2022-03-03T16:51:33.423Z"
   },
   {
    "duration": 8,
    "start_time": "2022-03-03T16:51:50.220Z"
   },
   {
    "duration": 217,
    "start_time": "2022-03-03T17:15:43.962Z"
   },
   {
    "duration": 35,
    "start_time": "2022-03-03T17:21:16.636Z"
   },
   {
    "duration": 33,
    "start_time": "2022-03-03T17:21:56.221Z"
   },
   {
    "duration": 26,
    "start_time": "2022-03-03T17:38:58.770Z"
   },
   {
    "duration": 4874,
    "start_time": "2022-03-03T17:43:23.799Z"
   },
   {
    "duration": 4658,
    "start_time": "2022-03-03T17:44:09.711Z"
   },
   {
    "duration": 4697,
    "start_time": "2022-03-03T17:46:20.265Z"
   },
   {
    "duration": 175,
    "start_time": "2022-03-03T17:48:32.754Z"
   },
   {
    "duration": 8277,
    "start_time": "2022-03-03T17:48:41.640Z"
   },
   {
    "duration": 10,
    "start_time": "2022-03-03T17:49:01.047Z"
   },
   {
    "duration": 8,
    "start_time": "2022-03-03T17:51:59.336Z"
   },
   {
    "duration": 73,
    "start_time": "2022-03-03T18:00:32.427Z"
   },
   {
    "duration": 1398,
    "start_time": "2022-03-03T18:01:14.262Z"
   },
   {
    "duration": 1337,
    "start_time": "2022-03-03T18:01:26.636Z"
   },
   {
    "duration": 4726,
    "start_time": "2022-03-03T18:01:42.875Z"
   },
   {
    "duration": 5122,
    "start_time": "2022-03-03T18:01:55.506Z"
   },
   {
    "duration": 4929,
    "start_time": "2022-03-03T18:02:39.556Z"
   },
   {
    "duration": 10,
    "start_time": "2022-03-03T18:03:05.881Z"
   },
   {
    "duration": 9,
    "start_time": "2022-03-03T18:03:31.879Z"
   },
   {
    "duration": 16,
    "start_time": "2022-03-03T18:03:49.700Z"
   },
   {
    "duration": 663,
    "start_time": "2022-03-03T18:04:09.662Z"
   },
   {
    "duration": 47,
    "start_time": "2022-03-03T18:04:10.327Z"
   },
   {
    "duration": 25,
    "start_time": "2022-03-03T18:04:10.376Z"
   },
   {
    "duration": 8,
    "start_time": "2022-03-03T18:04:10.403Z"
   },
   {
    "duration": 46,
    "start_time": "2022-03-03T18:04:10.413Z"
   },
   {
    "duration": 11,
    "start_time": "2022-03-03T18:04:10.461Z"
   },
   {
    "duration": 100,
    "start_time": "2022-03-03T18:04:10.474Z"
   },
   {
    "duration": 34,
    "start_time": "2022-03-03T18:04:10.576Z"
   },
   {
    "duration": 11,
    "start_time": "2022-03-03T18:04:10.612Z"
   },
   {
    "duration": 42,
    "start_time": "2022-03-03T18:04:10.625Z"
   },
   {
    "duration": 4,
    "start_time": "2022-03-03T18:04:10.669Z"
   },
   {
    "duration": 5117,
    "start_time": "2022-03-03T18:04:49.997Z"
   },
   {
    "duration": 1346,
    "start_time": "2022-03-03T18:05:16.970Z"
   },
   {
    "duration": 1461,
    "start_time": "2022-03-03T18:05:24.752Z"
   },
   {
    "duration": 14,
    "start_time": "2022-03-03T18:05:32.960Z"
   },
   {
    "duration": 4593,
    "start_time": "2022-03-03T18:05:53.526Z"
   },
   {
    "duration": 4946,
    "start_time": "2022-03-03T18:08:57.377Z"
   },
   {
    "duration": 666,
    "start_time": "2022-03-03T18:10:33.051Z"
   },
   {
    "duration": 4757,
    "start_time": "2022-03-03T18:10:38.406Z"
   },
   {
    "duration": 3729,
    "start_time": "2022-03-03T18:11:03.532Z"
   },
   {
    "duration": 4727,
    "start_time": "2022-03-03T18:11:32.315Z"
   },
   {
    "duration": 4759,
    "start_time": "2022-03-03T18:21:53.534Z"
   },
   {
    "duration": 20,
    "start_time": "2022-03-03T18:22:07.460Z"
   },
   {
    "duration": 3085,
    "start_time": "2022-03-03T18:23:45.193Z"
   },
   {
    "duration": 5165,
    "start_time": "2022-03-03T18:24:02.486Z"
   },
   {
    "duration": 78,
    "start_time": "2022-03-03T18:24:32.930Z"
   },
   {
    "duration": 73,
    "start_time": "2022-03-03T18:24:48.480Z"
   },
   {
    "duration": 232,
    "start_time": "2022-03-03T18:24:59.934Z"
   },
   {
    "duration": 15,
    "start_time": "2022-03-03T18:25:35.475Z"
   },
   {
    "duration": 9,
    "start_time": "2022-03-03T18:25:40.163Z"
   },
   {
    "duration": 229,
    "start_time": "2022-03-03T18:25:56.792Z"
   },
   {
    "duration": 3910,
    "start_time": "2022-03-03T18:26:10.647Z"
   },
   {
    "duration": 203,
    "start_time": "2022-03-03T18:26:26.718Z"
   },
   {
    "duration": 70,
    "start_time": "2022-03-03T18:26:41.123Z"
   },
   {
    "duration": 5277,
    "start_time": "2022-03-03T18:26:51.473Z"
   },
   {
    "duration": 4651,
    "start_time": "2022-03-03T18:28:52.346Z"
   },
   {
    "duration": 4809,
    "start_time": "2022-03-03T18:28:59.204Z"
   },
   {
    "duration": 15,
    "start_time": "2022-03-03T18:29:12.342Z"
   },
   {
    "duration": 4627,
    "start_time": "2022-03-03T18:29:17.011Z"
   },
   {
    "duration": 1310,
    "start_time": "2022-03-03T18:29:26.825Z"
   },
   {
    "duration": 11,
    "start_time": "2022-03-03T18:29:31.664Z"
   },
   {
    "duration": 10,
    "start_time": "2022-03-03T18:29:59.748Z"
   },
   {
    "duration": 13,
    "start_time": "2022-03-03T18:33:16.434Z"
   },
   {
    "duration": 12,
    "start_time": "2022-03-03T18:33:51.356Z"
   },
   {
    "duration": 11,
    "start_time": "2022-03-03T19:06:38.986Z"
   },
   {
    "duration": 10,
    "start_time": "2022-03-03T20:10:08.626Z"
   },
   {
    "duration": 5,
    "start_time": "2022-03-03T20:24:30.753Z"
   },
   {
    "duration": 6,
    "start_time": "2022-03-03T20:24:37.999Z"
   },
   {
    "duration": 6,
    "start_time": "2022-03-03T20:24:45.503Z"
   },
   {
    "duration": 5,
    "start_time": "2022-03-03T20:24:51.294Z"
   },
   {
    "duration": 33,
    "start_time": "2022-03-03T21:03:51.245Z"
   },
   {
    "duration": 6,
    "start_time": "2022-03-03T21:04:06.159Z"
   },
   {
    "duration": 49,
    "start_time": "2022-03-03T21:04:06.166Z"
   },
   {
    "duration": 21,
    "start_time": "2022-03-03T21:04:06.217Z"
   },
   {
    "duration": 24,
    "start_time": "2022-03-03T21:04:06.240Z"
   },
   {
    "duration": 23,
    "start_time": "2022-03-03T21:04:06.266Z"
   },
   {
    "duration": 11,
    "start_time": "2022-03-03T21:04:06.291Z"
   },
   {
    "duration": 113,
    "start_time": "2022-03-03T21:04:06.303Z"
   },
   {
    "duration": 46,
    "start_time": "2022-03-03T21:04:06.418Z"
   },
   {
    "duration": 10,
    "start_time": "2022-03-03T21:04:06.466Z"
   },
   {
    "duration": 10,
    "start_time": "2022-03-03T21:04:06.477Z"
   },
   {
    "duration": 7,
    "start_time": "2022-03-03T21:04:06.488Z"
   },
   {
    "duration": 2,
    "start_time": "2022-03-03T21:04:06.496Z"
   },
   {
    "duration": 668,
    "start_time": "2022-03-03T21:04:12.157Z"
   },
   {
    "duration": 45,
    "start_time": "2022-03-03T21:04:12.827Z"
   },
   {
    "duration": 26,
    "start_time": "2022-03-03T21:04:12.876Z"
   },
   {
    "duration": 7,
    "start_time": "2022-03-03T21:04:12.904Z"
   },
   {
    "duration": 53,
    "start_time": "2022-03-03T21:04:12.913Z"
   },
   {
    "duration": 12,
    "start_time": "2022-03-03T21:04:12.968Z"
   },
   {
    "duration": 112,
    "start_time": "2022-03-03T21:04:12.982Z"
   },
   {
    "duration": 32,
    "start_time": "2022-03-03T21:04:13.096Z"
   },
   {
    "duration": 10,
    "start_time": "2022-03-03T21:04:13.130Z"
   },
   {
    "duration": 10,
    "start_time": "2022-03-03T21:04:13.141Z"
   },
   {
    "duration": 7,
    "start_time": "2022-03-03T21:04:13.159Z"
   },
   {
    "duration": 2,
    "start_time": "2022-03-03T21:04:13.168Z"
   },
   {
    "duration": 296,
    "start_time": "2022-03-03T21:23:01.701Z"
   },
   {
    "duration": 10,
    "start_time": "2022-03-03T21:23:10.580Z"
   },
   {
    "duration": 226,
    "start_time": "2022-03-03T21:24:07.069Z"
   },
   {
    "duration": 227,
    "start_time": "2022-03-03T21:24:19.676Z"
   },
   {
    "duration": 399,
    "start_time": "2022-03-03T21:27:48.855Z"
   },
   {
    "duration": 225,
    "start_time": "2022-03-03T21:28:00.492Z"
   },
   {
    "duration": 212,
    "start_time": "2022-03-03T21:34:36.163Z"
   },
   {
    "duration": 223,
    "start_time": "2022-03-03T21:35:27.850Z"
   },
   {
    "duration": 267,
    "start_time": "2022-03-03T21:35:32.816Z"
   },
   {
    "duration": 227,
    "start_time": "2022-03-03T21:35:45.464Z"
   },
   {
    "duration": 4783,
    "start_time": "2022-03-03T21:45:07.875Z"
   },
   {
    "duration": 4859,
    "start_time": "2022-03-03T21:45:25.936Z"
   },
   {
    "duration": 16,
    "start_time": "2022-03-03T21:45:36.007Z"
   },
   {
    "duration": 13,
    "start_time": "2022-03-03T21:46:16.179Z"
   },
   {
    "duration": 4731,
    "start_time": "2022-03-03T21:47:41.643Z"
   },
   {
    "duration": 10,
    "start_time": "2022-03-03T21:47:55.776Z"
   },
   {
    "duration": 16,
    "start_time": "2022-03-03T21:50:31.086Z"
   },
   {
    "duration": 14,
    "start_time": "2022-03-03T21:51:02.058Z"
   },
   {
    "duration": 705,
    "start_time": "2022-03-04T13:46:56.060Z"
   },
   {
    "duration": 46,
    "start_time": "2022-03-04T13:46:56.767Z"
   },
   {
    "duration": 29,
    "start_time": "2022-03-04T13:46:56.816Z"
   },
   {
    "duration": 10,
    "start_time": "2022-03-04T13:46:56.847Z"
   },
   {
    "duration": 55,
    "start_time": "2022-03-04T13:46:56.859Z"
   },
   {
    "duration": 13,
    "start_time": "2022-03-04T13:46:56.916Z"
   },
   {
    "duration": 111,
    "start_time": "2022-03-04T13:46:56.931Z"
   },
   {
    "duration": 33,
    "start_time": "2022-03-04T13:46:57.045Z"
   },
   {
    "duration": 237,
    "start_time": "2022-03-04T13:46:57.081Z"
   },
   {
    "duration": 12,
    "start_time": "2022-03-04T13:46:57.320Z"
   },
   {
    "duration": 12,
    "start_time": "2022-03-04T13:46:57.334Z"
   },
   {
    "duration": 11,
    "start_time": "2022-03-04T13:46:57.348Z"
   },
   {
    "duration": 44,
    "start_time": "2022-03-04T13:46:57.361Z"
   },
   {
    "duration": 6,
    "start_time": "2022-03-04T13:46:57.407Z"
   },
   {
    "duration": 291,
    "start_time": "2022-03-04T13:47:12.060Z"
   },
   {
    "duration": 258,
    "start_time": "2022-03-04T13:47:28.233Z"
   },
   {
    "duration": 225,
    "start_time": "2022-03-04T13:47:41.329Z"
   },
   {
    "duration": 236,
    "start_time": "2022-03-04T13:53:24.923Z"
   },
   {
    "duration": 241,
    "start_time": "2022-03-04T13:54:12.076Z"
   },
   {
    "duration": 5244,
    "start_time": "2022-03-04T13:54:22.020Z"
   },
   {
    "duration": 224,
    "start_time": "2022-03-04T13:54:48.592Z"
   },
   {
    "duration": 249,
    "start_time": "2022-03-04T13:59:53.235Z"
   },
   {
    "duration": 235,
    "start_time": "2022-03-04T13:59:56.554Z"
   },
   {
    "duration": 262,
    "start_time": "2022-03-04T14:00:03.650Z"
   },
   {
    "duration": 221,
    "start_time": "2022-03-04T14:22:18.755Z"
   },
   {
    "duration": 368,
    "start_time": "2022-03-04T14:22:31.591Z"
   },
   {
    "duration": 132,
    "start_time": "2022-03-04T14:22:35.632Z"
   },
   {
    "duration": 138,
    "start_time": "2022-03-04T14:22:52.926Z"
   },
   {
    "duration": 148,
    "start_time": "2022-03-04T14:23:25.801Z"
   },
   {
    "duration": 41,
    "start_time": "2022-03-04T14:27:49.643Z"
   },
   {
    "duration": 149,
    "start_time": "2022-03-04T14:41:19.788Z"
   },
   {
    "duration": 24,
    "start_time": "2022-03-04T14:41:27.728Z"
   },
   {
    "duration": 53,
    "start_time": "2022-03-04T14:43:50.856Z"
   },
   {
    "duration": 222,
    "start_time": "2022-03-04T15:03:21.303Z"
   },
   {
    "duration": 5442,
    "start_time": "2022-03-04T15:03:30.918Z"
   },
   {
    "duration": 66,
    "start_time": "2022-03-04T15:05:31.401Z"
   },
   {
    "duration": 72,
    "start_time": "2022-03-04T15:05:34.807Z"
   },
   {
    "duration": 233,
    "start_time": "2022-03-04T15:06:29.379Z"
   },
   {
    "duration": 43,
    "start_time": "2022-03-04T15:09:43.069Z"
   },
   {
    "duration": 9,
    "start_time": "2022-03-04T15:10:53.976Z"
   },
   {
    "duration": 5,
    "start_time": "2022-03-04T15:23:03.243Z"
   },
   {
    "duration": 4,
    "start_time": "2022-03-04T15:23:26.495Z"
   },
   {
    "duration": 3,
    "start_time": "2022-03-04T15:23:36.966Z"
   },
   {
    "duration": 4,
    "start_time": "2022-03-04T15:23:45.557Z"
   },
   {
    "duration": 235,
    "start_time": "2022-03-04T15:33:15.901Z"
   },
   {
    "duration": 11,
    "start_time": "2022-03-04T15:33:38.394Z"
   },
   {
    "duration": 13,
    "start_time": "2022-03-04T15:34:05.487Z"
   },
   {
    "duration": 11,
    "start_time": "2022-03-04T15:35:20.354Z"
   },
   {
    "duration": 12,
    "start_time": "2022-03-04T15:39:51.857Z"
   },
   {
    "duration": 12,
    "start_time": "2022-03-04T15:40:28.500Z"
   },
   {
    "duration": 4123,
    "start_time": "2022-03-04T16:08:50.733Z"
   },
   {
    "duration": 254,
    "start_time": "2022-03-04T16:09:26.444Z"
   },
   {
    "duration": 237,
    "start_time": "2022-03-04T16:31:19.881Z"
   },
   {
    "duration": 226,
    "start_time": "2022-03-04T16:31:38.351Z"
   },
   {
    "duration": 113,
    "start_time": "2022-03-04T16:31:49.460Z"
   },
   {
    "duration": 227,
    "start_time": "2022-03-04T16:31:54.340Z"
   },
   {
    "duration": 4617,
    "start_time": "2022-03-04T16:31:56.914Z"
   },
   {
    "duration": 4223,
    "start_time": "2022-03-04T16:32:17.265Z"
   },
   {
    "duration": 83,
    "start_time": "2022-03-04T16:35:25.870Z"
   },
   {
    "duration": 67,
    "start_time": "2022-03-04T16:35:31.699Z"
   },
   {
    "duration": 4005,
    "start_time": "2022-03-04T16:35:41.145Z"
   },
   {
    "duration": 4298,
    "start_time": "2022-03-04T16:36:28.373Z"
   },
   {
    "duration": 209,
    "start_time": "2022-03-04T16:36:35.780Z"
   },
   {
    "duration": 22,
    "start_time": "2022-03-04T16:37:04.939Z"
   },
   {
    "duration": 99,
    "start_time": "2022-03-04T16:49:32.668Z"
   },
   {
    "duration": 671,
    "start_time": "2022-03-04T16:50:58.943Z"
   },
   {
    "duration": 77,
    "start_time": "2022-03-04T16:50:59.616Z"
   },
   {
    "duration": 45,
    "start_time": "2022-03-04T16:50:59.697Z"
   },
   {
    "duration": 11,
    "start_time": "2022-03-04T16:50:59.745Z"
   },
   {
    "duration": 62,
    "start_time": "2022-03-04T16:50:59.758Z"
   },
   {
    "duration": 18,
    "start_time": "2022-03-04T16:50:59.823Z"
   },
   {
    "duration": 171,
    "start_time": "2022-03-04T16:50:59.843Z"
   },
   {
    "duration": 38,
    "start_time": "2022-03-04T16:51:00.018Z"
   },
   {
    "duration": 268,
    "start_time": "2022-03-04T16:51:00.058Z"
   },
   {
    "duration": 12,
    "start_time": "2022-03-04T16:51:00.328Z"
   },
   {
    "duration": 29,
    "start_time": "2022-03-04T16:51:00.342Z"
   },
   {
    "duration": 25,
    "start_time": "2022-03-04T16:51:00.373Z"
   },
   {
    "duration": 42,
    "start_time": "2022-03-04T16:51:00.401Z"
   },
   {
    "duration": 212,
    "start_time": "2022-03-04T16:51:00.446Z"
   },
   {
    "duration": 71,
    "start_time": "2022-03-04T16:51:00.660Z"
   },
   {
    "duration": 11,
    "start_time": "2022-03-04T16:51:00.733Z"
   },
   {
    "duration": 17,
    "start_time": "2022-03-04T16:51:00.746Z"
   },
   {
    "duration": 10,
    "start_time": "2022-03-04T16:51:00.765Z"
   },
   {
    "duration": 38,
    "start_time": "2022-03-04T16:51:00.777Z"
   },
   {
    "duration": 95,
    "start_time": "2022-03-04T16:51:00.817Z"
   },
   {
    "duration": 105,
    "start_time": "2022-03-04T16:51:54.185Z"
   },
   {
    "duration": 110,
    "start_time": "2022-03-04T16:54:36.250Z"
   },
   {
    "duration": 310,
    "start_time": "2022-03-04T17:08:04.204Z"
   },
   {
    "duration": 33,
    "start_time": "2022-03-04T17:09:47.232Z"
   },
   {
    "duration": 18,
    "start_time": "2022-03-04T17:09:53.215Z"
   },
   {
    "duration": 7,
    "start_time": "2022-03-04T17:10:00.350Z"
   },
   {
    "duration": 8,
    "start_time": "2022-03-04T17:10:11.958Z"
   },
   {
    "duration": 750,
    "start_time": "2022-03-04T17:10:25.210Z"
   },
   {
    "duration": 58,
    "start_time": "2022-03-04T17:10:25.963Z"
   },
   {
    "duration": 30,
    "start_time": "2022-03-04T17:10:26.023Z"
   },
   {
    "duration": 9,
    "start_time": "2022-03-04T17:10:26.055Z"
   },
   {
    "duration": 48,
    "start_time": "2022-03-04T17:10:26.066Z"
   },
   {
    "duration": 13,
    "start_time": "2022-03-04T17:10:26.116Z"
   },
   {
    "duration": 119,
    "start_time": "2022-03-04T17:10:26.131Z"
   },
   {
    "duration": 47,
    "start_time": "2022-03-04T17:10:26.253Z"
   },
   {
    "duration": 231,
    "start_time": "2022-03-04T17:10:26.302Z"
   },
   {
    "duration": 13,
    "start_time": "2022-03-04T17:10:26.535Z"
   },
   {
    "duration": 12,
    "start_time": "2022-03-04T17:10:26.550Z"
   },
   {
    "duration": 37,
    "start_time": "2022-03-04T17:10:26.565Z"
   },
   {
    "duration": 17,
    "start_time": "2022-03-04T17:10:26.604Z"
   },
   {
    "duration": 147,
    "start_time": "2022-03-04T17:10:26.623Z"
   },
   {
    "duration": 71,
    "start_time": "2022-03-04T17:10:26.772Z"
   },
   {
    "duration": 270,
    "start_time": "2022-03-04T17:10:26.846Z"
   },
   {
    "duration": 495,
    "start_time": "2022-03-04T17:10:26.623Z"
   },
   {
    "duration": 493,
    "start_time": "2022-03-04T17:10:26.626Z"
   },
   {
    "duration": 49,
    "start_time": "2022-03-04T17:10:54.725Z"
   },
   {
    "duration": 13,
    "start_time": "2022-03-04T17:47:18.683Z"
   },
   {
    "duration": 12,
    "start_time": "2022-03-04T17:47:20.616Z"
   },
   {
    "duration": 716,
    "start_time": "2022-03-04T17:50:01.193Z"
   },
   {
    "duration": 50,
    "start_time": "2022-03-04T17:50:01.911Z"
   },
   {
    "duration": 50,
    "start_time": "2022-03-04T17:50:01.964Z"
   },
   {
    "duration": 10,
    "start_time": "2022-03-04T17:50:02.016Z"
   },
   {
    "duration": 49,
    "start_time": "2022-03-04T17:50:02.028Z"
   },
   {
    "duration": 13,
    "start_time": "2022-03-04T17:50:02.080Z"
   },
   {
    "duration": 108,
    "start_time": "2022-03-04T17:50:02.095Z"
   },
   {
    "duration": 37,
    "start_time": "2022-03-04T17:50:02.205Z"
   },
   {
    "duration": 239,
    "start_time": "2022-03-04T17:50:02.245Z"
   },
   {
    "duration": 23,
    "start_time": "2022-03-04T17:50:02.485Z"
   },
   {
    "duration": 14,
    "start_time": "2022-03-04T17:50:02.510Z"
   },
   {
    "duration": 12,
    "start_time": "2022-03-04T17:50:02.526Z"
   },
   {
    "duration": 28,
    "start_time": "2022-03-04T17:50:02.540Z"
   },
   {
    "duration": 158,
    "start_time": "2022-03-04T17:50:02.570Z"
   },
   {
    "duration": 73,
    "start_time": "2022-03-04T17:50:02.730Z"
   },
   {
    "duration": 38,
    "start_time": "2022-03-04T17:50:02.805Z"
   },
   {
    "duration": 10,
    "start_time": "2022-03-04T17:50:02.845Z"
   },
   {
    "duration": 47,
    "start_time": "2022-03-04T17:50:02.857Z"
   },
   {
    "duration": 26,
    "start_time": "2022-03-04T17:54:19.926Z"
   },
   {
    "duration": 22,
    "start_time": "2022-03-04T17:54:50.257Z"
   },
   {
    "duration": 12,
    "start_time": "2022-03-04T17:55:48.995Z"
   },
   {
    "duration": 5,
    "start_time": "2022-03-04T18:16:36.225Z"
   },
   {
    "duration": 12,
    "start_time": "2022-03-04T18:25:16.407Z"
   },
   {
    "duration": 4403,
    "start_time": "2022-03-04T18:25:54.995Z"
   },
   {
    "duration": 13,
    "start_time": "2022-03-04T18:26:32.495Z"
   },
   {
    "duration": 18,
    "start_time": "2022-03-04T18:26:59.187Z"
   },
   {
    "duration": 17,
    "start_time": "2022-03-04T18:28:28.034Z"
   },
   {
    "duration": 111,
    "start_time": "2022-03-04T18:30:09.166Z"
   },
   {
    "duration": 129,
    "start_time": "2022-03-04T18:30:15.149Z"
   },
   {
    "duration": 20,
    "start_time": "2022-03-04T18:34:33.298Z"
   },
   {
    "duration": 79,
    "start_time": "2022-03-04T18:37:31.030Z"
   },
   {
    "duration": 16,
    "start_time": "2022-03-04T18:37:45.459Z"
   },
   {
    "duration": 15,
    "start_time": "2022-03-04T18:38:23.415Z"
   },
   {
    "duration": 685,
    "start_time": "2022-03-04T18:39:02.648Z"
   },
   {
    "duration": 47,
    "start_time": "2022-03-04T18:39:03.335Z"
   },
   {
    "duration": 31,
    "start_time": "2022-03-04T18:39:03.385Z"
   },
   {
    "duration": 8,
    "start_time": "2022-03-04T18:39:03.418Z"
   },
   {
    "duration": 34,
    "start_time": "2022-03-04T18:39:03.428Z"
   },
   {
    "duration": 39,
    "start_time": "2022-03-04T18:39:03.463Z"
   },
   {
    "duration": 103,
    "start_time": "2022-03-04T18:39:03.504Z"
   },
   {
    "duration": 37,
    "start_time": "2022-03-04T18:39:03.609Z"
   },
   {
    "duration": 234,
    "start_time": "2022-03-04T18:39:03.648Z"
   },
   {
    "duration": 20,
    "start_time": "2022-03-04T18:39:03.884Z"
   },
   {
    "duration": 12,
    "start_time": "2022-03-04T18:39:03.906Z"
   },
   {
    "duration": 8,
    "start_time": "2022-03-04T18:39:03.920Z"
   },
   {
    "duration": 29,
    "start_time": "2022-03-04T18:39:03.930Z"
   },
   {
    "duration": 152,
    "start_time": "2022-03-04T18:39:03.961Z"
   },
   {
    "duration": 59,
    "start_time": "2022-03-04T18:39:04.115Z"
   },
   {
    "duration": 50,
    "start_time": "2022-03-04T18:39:04.176Z"
   },
   {
    "duration": 10,
    "start_time": "2022-03-04T18:39:04.228Z"
   },
   {
    "duration": 11,
    "start_time": "2022-03-04T18:39:04.240Z"
   },
   {
    "duration": 55,
    "start_time": "2022-03-04T18:39:04.253Z"
   },
   {
    "duration": 4,
    "start_time": "2022-03-04T18:39:04.309Z"
   },
   {
    "duration": 21,
    "start_time": "2022-03-04T18:39:04.315Z"
   },
   {
    "duration": 16,
    "start_time": "2022-03-04T18:39:04.338Z"
   },
   {
    "duration": 721,
    "start_time": "2022-03-04T18:39:44.691Z"
   },
   {
    "duration": 49,
    "start_time": "2022-03-04T18:39:45.414Z"
   },
   {
    "duration": 37,
    "start_time": "2022-03-04T18:39:45.466Z"
   },
   {
    "duration": 9,
    "start_time": "2022-03-04T18:39:45.505Z"
   },
   {
    "duration": 26,
    "start_time": "2022-03-04T18:39:45.515Z"
   },
   {
    "duration": 12,
    "start_time": "2022-03-04T18:39:45.543Z"
   },
   {
    "duration": 124,
    "start_time": "2022-03-04T18:39:45.557Z"
   },
   {
    "duration": 45,
    "start_time": "2022-03-04T18:39:45.684Z"
   },
   {
    "duration": 245,
    "start_time": "2022-03-04T18:39:45.731Z"
   },
   {
    "duration": 24,
    "start_time": "2022-03-04T18:39:45.978Z"
   },
   {
    "duration": 13,
    "start_time": "2022-03-04T18:39:46.005Z"
   },
   {
    "duration": 10,
    "start_time": "2022-03-04T18:39:46.020Z"
   },
   {
    "duration": 17,
    "start_time": "2022-03-04T18:39:46.033Z"
   },
   {
    "duration": 166,
    "start_time": "2022-03-04T18:39:46.051Z"
   },
   {
    "duration": 63,
    "start_time": "2022-03-04T18:39:46.219Z"
   },
   {
    "duration": 50,
    "start_time": "2022-03-04T18:39:46.283Z"
   },
   {
    "duration": 10,
    "start_time": "2022-03-04T18:39:46.336Z"
   },
   {
    "duration": 11,
    "start_time": "2022-03-04T18:39:46.348Z"
   },
   {
    "duration": 51,
    "start_time": "2022-03-04T18:39:46.361Z"
   },
   {
    "duration": 4,
    "start_time": "2022-03-04T18:39:46.413Z"
   },
   {
    "duration": 25,
    "start_time": "2022-03-04T18:39:46.419Z"
   },
   {
    "duration": 23,
    "start_time": "2022-03-04T18:39:46.446Z"
   },
   {
    "duration": 760,
    "start_time": "2022-03-04T18:40:56.176Z"
   },
   {
    "duration": 49,
    "start_time": "2022-03-04T18:40:56.938Z"
   },
   {
    "duration": 29,
    "start_time": "2022-03-04T18:40:56.989Z"
   },
   {
    "duration": 10,
    "start_time": "2022-03-04T18:40:57.020Z"
   },
   {
    "duration": 25,
    "start_time": "2022-03-04T18:40:57.032Z"
   },
   {
    "duration": 45,
    "start_time": "2022-03-04T18:40:57.059Z"
   },
   {
    "duration": 100,
    "start_time": "2022-03-04T18:40:57.106Z"
   },
   {
    "duration": 34,
    "start_time": "2022-03-04T18:40:57.209Z"
   },
   {
    "duration": 244,
    "start_time": "2022-03-04T18:40:57.245Z"
   },
   {
    "duration": 21,
    "start_time": "2022-03-04T18:40:57.491Z"
   },
   {
    "duration": 12,
    "start_time": "2022-03-04T18:40:57.514Z"
   },
   {
    "duration": 9,
    "start_time": "2022-03-04T18:40:57.528Z"
   },
   {
    "duration": 17,
    "start_time": "2022-03-04T18:40:57.539Z"
   },
   {
    "duration": 167,
    "start_time": "2022-03-04T18:40:57.558Z"
   },
   {
    "duration": 77,
    "start_time": "2022-03-04T18:40:57.727Z"
   },
   {
    "duration": 33,
    "start_time": "2022-03-04T18:40:57.806Z"
   },
   {
    "duration": 10,
    "start_time": "2022-03-04T18:40:57.841Z"
   },
   {
    "duration": 12,
    "start_time": "2022-03-04T18:40:57.853Z"
   },
   {
    "duration": 57,
    "start_time": "2022-03-04T18:40:57.867Z"
   },
   {
    "duration": 4,
    "start_time": "2022-03-04T18:40:57.926Z"
   },
   {
    "duration": 25,
    "start_time": "2022-03-04T18:40:57.932Z"
   },
   {
    "duration": 48,
    "start_time": "2022-03-04T18:40:57.959Z"
   },
   {
    "duration": 762,
    "start_time": "2022-03-04T18:42:10.985Z"
   },
   {
    "duration": 54,
    "start_time": "2022-03-04T18:42:11.749Z"
   },
   {
    "duration": 31,
    "start_time": "2022-03-04T18:42:11.806Z"
   },
   {
    "duration": 9,
    "start_time": "2022-03-04T18:42:11.839Z"
   },
   {
    "duration": 62,
    "start_time": "2022-03-04T18:42:11.850Z"
   },
   {
    "duration": 25,
    "start_time": "2022-03-04T18:42:11.915Z"
   },
   {
    "duration": 112,
    "start_time": "2022-03-04T18:42:11.942Z"
   },
   {
    "duration": 47,
    "start_time": "2022-03-04T18:42:12.057Z"
   },
   {
    "duration": 244,
    "start_time": "2022-03-04T18:42:12.112Z"
   },
   {
    "duration": 11,
    "start_time": "2022-03-04T18:42:12.358Z"
   },
   {
    "duration": 23,
    "start_time": "2022-03-04T18:42:12.371Z"
   },
   {
    "duration": 31,
    "start_time": "2022-03-04T18:42:12.403Z"
   },
   {
    "duration": 25,
    "start_time": "2022-03-04T18:42:12.436Z"
   },
   {
    "duration": 156,
    "start_time": "2022-03-04T18:42:12.464Z"
   },
   {
    "duration": 59,
    "start_time": "2022-03-04T18:42:12.622Z"
   },
   {
    "duration": 58,
    "start_time": "2022-03-04T18:42:12.683Z"
   },
   {
    "duration": 24,
    "start_time": "2022-03-04T18:42:12.743Z"
   },
   {
    "duration": 22,
    "start_time": "2022-03-04T18:42:12.769Z"
   },
   {
    "duration": 27,
    "start_time": "2022-03-04T18:42:12.803Z"
   },
   {
    "duration": 8,
    "start_time": "2022-03-04T18:42:12.832Z"
   },
   {
    "duration": 37,
    "start_time": "2022-03-04T18:42:12.841Z"
   },
   {
    "duration": 101,
    "start_time": "2022-03-04T18:42:12.880Z"
   },
   {
    "duration": 19,
    "start_time": "2022-03-04T18:42:29.752Z"
   },
   {
    "duration": 736,
    "start_time": "2022-03-04T18:42:37.696Z"
   },
   {
    "duration": 47,
    "start_time": "2022-03-04T18:42:38.434Z"
   },
   {
    "duration": 32,
    "start_time": "2022-03-04T18:42:38.484Z"
   },
   {
    "duration": 8,
    "start_time": "2022-03-04T18:42:38.518Z"
   },
   {
    "duration": 29,
    "start_time": "2022-03-04T18:42:38.528Z"
   },
   {
    "duration": 12,
    "start_time": "2022-03-04T18:42:38.559Z"
   },
   {
    "duration": 129,
    "start_time": "2022-03-04T18:42:38.573Z"
   },
   {
    "duration": 38,
    "start_time": "2022-03-04T18:42:38.706Z"
   },
   {
    "duration": 248,
    "start_time": "2022-03-04T18:42:38.746Z"
   },
   {
    "duration": 18,
    "start_time": "2022-03-04T18:42:38.995Z"
   },
   {
    "duration": 15,
    "start_time": "2022-03-04T18:42:39.016Z"
   },
   {
    "duration": 8,
    "start_time": "2022-03-04T18:42:39.033Z"
   },
   {
    "duration": 22,
    "start_time": "2022-03-04T18:42:39.043Z"
   },
   {
    "duration": 184,
    "start_time": "2022-03-04T18:42:39.067Z"
   },
   {
    "duration": 81,
    "start_time": "2022-03-04T18:42:39.253Z"
   },
   {
    "duration": 36,
    "start_time": "2022-03-04T18:42:39.336Z"
   },
   {
    "duration": 47,
    "start_time": "2022-03-04T18:42:39.374Z"
   },
   {
    "duration": 16,
    "start_time": "2022-03-04T18:42:39.423Z"
   },
   {
    "duration": 25,
    "start_time": "2022-03-04T18:42:39.441Z"
   },
   {
    "duration": 4,
    "start_time": "2022-03-04T18:42:39.468Z"
   },
   {
    "duration": 42,
    "start_time": "2022-03-04T18:42:39.473Z"
   },
   {
    "duration": 18,
    "start_time": "2022-03-04T18:42:39.518Z"
   },
   {
    "duration": 217,
    "start_time": "2022-03-04T18:46:37.591Z"
   },
   {
    "duration": 717,
    "start_time": "2022-03-04T18:47:26.688Z"
   },
   {
    "duration": 51,
    "start_time": "2022-03-04T18:47:27.407Z"
   },
   {
    "duration": 28,
    "start_time": "2022-03-04T18:47:27.460Z"
   },
   {
    "duration": 9,
    "start_time": "2022-03-04T18:47:27.502Z"
   },
   {
    "duration": 38,
    "start_time": "2022-03-04T18:47:27.513Z"
   },
   {
    "duration": 17,
    "start_time": "2022-03-04T18:47:27.554Z"
   },
   {
    "duration": 118,
    "start_time": "2022-03-04T18:47:27.573Z"
   },
   {
    "duration": 36,
    "start_time": "2022-03-04T18:47:27.703Z"
   },
   {
    "duration": 243,
    "start_time": "2022-03-04T18:47:27.742Z"
   },
   {
    "duration": 21,
    "start_time": "2022-03-04T18:47:27.987Z"
   },
   {
    "duration": 12,
    "start_time": "2022-03-04T18:47:28.010Z"
   },
   {
    "duration": 11,
    "start_time": "2022-03-04T18:47:28.024Z"
   },
   {
    "duration": 29,
    "start_time": "2022-03-04T18:47:28.037Z"
   },
   {
    "duration": 156,
    "start_time": "2022-03-04T18:47:28.068Z"
   },
   {
    "duration": 76,
    "start_time": "2022-03-04T18:47:28.226Z"
   },
   {
    "duration": 36,
    "start_time": "2022-03-04T18:47:28.304Z"
   },
   {
    "duration": 10,
    "start_time": "2022-03-04T18:47:28.342Z"
   },
   {
    "duration": 48,
    "start_time": "2022-03-04T18:47:28.354Z"
   },
   {
    "duration": 23,
    "start_time": "2022-03-04T18:47:28.404Z"
   },
   {
    "duration": 15,
    "start_time": "2022-03-04T18:47:28.429Z"
   },
   {
    "duration": 29,
    "start_time": "2022-03-04T18:47:28.446Z"
   },
   {
    "duration": 38,
    "start_time": "2022-03-04T18:47:28.478Z"
   },
   {
    "duration": 810,
    "start_time": "2022-03-05T14:41:25.124Z"
   },
   {
    "duration": 64,
    "start_time": "2022-03-05T14:41:25.936Z"
   },
   {
    "duration": 36,
    "start_time": "2022-03-05T14:41:26.002Z"
   },
   {
    "duration": 11,
    "start_time": "2022-03-05T14:41:26.040Z"
   },
   {
    "duration": 61,
    "start_time": "2022-03-05T14:41:26.053Z"
   },
   {
    "duration": 15,
    "start_time": "2022-03-05T14:41:26.116Z"
   },
   {
    "duration": 151,
    "start_time": "2022-03-05T14:41:26.133Z"
   },
   {
    "duration": 46,
    "start_time": "2022-03-05T14:41:26.288Z"
   },
   {
    "duration": 352,
    "start_time": "2022-03-05T14:41:26.337Z"
   },
   {
    "duration": 13,
    "start_time": "2022-03-05T14:41:26.691Z"
   },
   {
    "duration": 19,
    "start_time": "2022-03-05T14:41:26.707Z"
   },
   {
    "duration": 10,
    "start_time": "2022-03-05T14:41:26.728Z"
   },
   {
    "duration": 55,
    "start_time": "2022-03-05T14:41:26.740Z"
   },
   {
    "duration": 196,
    "start_time": "2022-03-05T14:41:26.797Z"
   },
   {
    "duration": 72,
    "start_time": "2022-03-05T14:41:26.995Z"
   },
   {
    "duration": 52,
    "start_time": "2022-03-05T14:41:27.069Z"
   },
   {
    "duration": 12,
    "start_time": "2022-03-05T14:41:27.124Z"
   },
   {
    "duration": 50,
    "start_time": "2022-03-05T14:41:27.138Z"
   },
   {
    "duration": 28,
    "start_time": "2022-03-05T14:41:27.190Z"
   },
   {
    "duration": 6,
    "start_time": "2022-03-05T14:41:27.221Z"
   },
   {
    "duration": 59,
    "start_time": "2022-03-05T14:41:27.230Z"
   },
   {
    "duration": 22,
    "start_time": "2022-03-05T14:41:27.291Z"
   },
   {
    "duration": 13,
    "start_time": "2022-03-05T14:41:27.317Z"
   },
   {
    "duration": 341,
    "start_time": "2022-03-05T14:41:27.332Z"
   },
   {
    "duration": 254,
    "start_time": "2022-03-05T14:43:46.096Z"
   },
   {
    "duration": 259,
    "start_time": "2022-03-05T14:43:57.823Z"
   },
   {
    "duration": 243,
    "start_time": "2022-03-05T14:44:05.533Z"
   },
   {
    "duration": 234,
    "start_time": "2022-03-05T14:44:10.285Z"
   },
   {
    "duration": 21,
    "start_time": "2022-03-05T14:44:16.028Z"
   },
   {
    "duration": 864,
    "start_time": "2022-03-05T14:45:08.568Z"
   },
   {
    "duration": 58,
    "start_time": "2022-03-05T14:45:09.435Z"
   },
   {
    "duration": 34,
    "start_time": "2022-03-05T14:45:09.496Z"
   },
   {
    "duration": 10,
    "start_time": "2022-03-05T14:45:09.533Z"
   },
   {
    "duration": 64,
    "start_time": "2022-03-05T14:45:09.545Z"
   },
   {
    "duration": 14,
    "start_time": "2022-03-05T14:45:09.611Z"
   },
   {
    "duration": 143,
    "start_time": "2022-03-05T14:45:09.628Z"
   },
   {
    "duration": 54,
    "start_time": "2022-03-05T14:45:09.774Z"
   },
   {
    "duration": 434,
    "start_time": "2022-03-05T14:45:09.830Z"
   },
   {
    "duration": 23,
    "start_time": "2022-03-05T14:45:10.267Z"
   },
   {
    "duration": 15,
    "start_time": "2022-03-05T14:45:10.293Z"
   },
   {
    "duration": 10,
    "start_time": "2022-03-05T14:45:10.310Z"
   },
   {
    "duration": 19,
    "start_time": "2022-03-05T14:45:10.323Z"
   },
   {
    "duration": 231,
    "start_time": "2022-03-05T14:45:10.344Z"
   },
   {
    "duration": 79,
    "start_time": "2022-03-05T14:45:10.577Z"
   },
   {
    "duration": 56,
    "start_time": "2022-03-05T14:45:10.659Z"
   },
   {
    "duration": 11,
    "start_time": "2022-03-05T14:45:10.717Z"
   },
   {
    "duration": 13,
    "start_time": "2022-03-05T14:45:10.730Z"
   },
   {
    "duration": 62,
    "start_time": "2022-03-05T14:45:10.745Z"
   },
   {
    "duration": 4,
    "start_time": "2022-03-05T14:45:10.809Z"
   },
   {
    "duration": 24,
    "start_time": "2022-03-05T14:45:10.815Z"
   },
   {
    "duration": 51,
    "start_time": "2022-03-05T14:45:10.842Z"
   },
   {
    "duration": 13,
    "start_time": "2022-03-05T14:45:10.897Z"
   },
   {
    "duration": 327,
    "start_time": "2022-03-05T14:45:10.912Z"
   },
   {
    "duration": 20,
    "start_time": "2022-03-05T14:45:35.901Z"
   },
   {
    "duration": 19,
    "start_time": "2022-03-05T14:45:42.579Z"
   },
   {
    "duration": 23,
    "start_time": "2022-03-05T14:45:51.906Z"
   },
   {
    "duration": 12,
    "start_time": "2022-03-05T14:46:37.070Z"
   },
   {
    "duration": 221,
    "start_time": "2022-03-05T14:47:01.691Z"
   },
   {
    "duration": 240,
    "start_time": "2022-03-05T14:47:07.385Z"
   },
   {
    "duration": 279,
    "start_time": "2022-03-05T14:47:51.517Z"
   },
   {
    "duration": 298,
    "start_time": "2022-03-05T14:48:08.043Z"
   },
   {
    "duration": 32,
    "start_time": "2022-03-05T14:51:00.063Z"
   },
   {
    "duration": 32,
    "start_time": "2022-03-05T14:51:15.855Z"
   },
   {
    "duration": 11,
    "start_time": "2022-03-05T14:51:21.620Z"
   },
   {
    "duration": 14,
    "start_time": "2022-03-05T14:51:30.138Z"
   },
   {
    "duration": 1372,
    "start_time": "2022-03-05T15:12:30.225Z"
   },
   {
    "duration": 808,
    "start_time": "2022-03-05T15:12:51.498Z"
   },
   {
    "duration": 59,
    "start_time": "2022-03-05T15:12:52.308Z"
   },
   {
    "duration": 44,
    "start_time": "2022-03-05T15:12:52.370Z"
   },
   {
    "duration": 10,
    "start_time": "2022-03-05T15:12:52.416Z"
   },
   {
    "duration": 65,
    "start_time": "2022-03-05T15:12:52.429Z"
   },
   {
    "duration": 19,
    "start_time": "2022-03-05T15:12:52.496Z"
   },
   {
    "duration": 147,
    "start_time": "2022-03-05T15:12:52.517Z"
   },
   {
    "duration": 52,
    "start_time": "2022-03-05T15:12:52.668Z"
   },
   {
    "duration": 344,
    "start_time": "2022-03-05T15:12:52.724Z"
   },
   {
    "duration": 22,
    "start_time": "2022-03-05T15:12:53.070Z"
   },
   {
    "duration": 16,
    "start_time": "2022-03-05T15:12:53.094Z"
   },
   {
    "duration": 14,
    "start_time": "2022-03-05T15:12:53.113Z"
   },
   {
    "duration": 57,
    "start_time": "2022-03-05T15:12:53.130Z"
   },
   {
    "duration": 205,
    "start_time": "2022-03-05T15:12:53.190Z"
   },
   {
    "duration": 88,
    "start_time": "2022-03-05T15:12:53.398Z"
   },
   {
    "duration": 42,
    "start_time": "2022-03-05T15:12:53.489Z"
   },
   {
    "duration": 12,
    "start_time": "2022-03-05T15:12:53.533Z"
   },
   {
    "duration": 49,
    "start_time": "2022-03-05T15:12:53.547Z"
   },
   {
    "duration": 28,
    "start_time": "2022-03-05T15:12:53.598Z"
   },
   {
    "duration": 5,
    "start_time": "2022-03-05T15:12:53.628Z"
   },
   {
    "duration": 58,
    "start_time": "2022-03-05T15:12:53.635Z"
   },
   {
    "duration": 23,
    "start_time": "2022-03-05T15:12:53.696Z"
   },
   {
    "duration": 25,
    "start_time": "2022-03-05T15:12:53.723Z"
   },
   {
    "duration": 43,
    "start_time": "2022-03-05T15:12:53.750Z"
   },
   {
    "duration": 323,
    "start_time": "2022-03-05T15:12:53.796Z"
   },
   {
    "duration": 8,
    "start_time": "2022-03-05T15:13:52.152Z"
   },
   {
    "duration": 8,
    "start_time": "2022-03-05T15:17:30.057Z"
   },
   {
    "duration": 19,
    "start_time": "2022-03-05T15:26:23.403Z"
   },
   {
    "duration": 826,
    "start_time": "2022-03-05T15:26:38.191Z"
   },
   {
    "duration": 56,
    "start_time": "2022-03-05T15:26:39.020Z"
   },
   {
    "duration": 38,
    "start_time": "2022-03-05T15:26:39.079Z"
   },
   {
    "duration": 10,
    "start_time": "2022-03-05T15:26:39.119Z"
   },
   {
    "duration": 70,
    "start_time": "2022-03-05T15:26:39.131Z"
   },
   {
    "duration": 15,
    "start_time": "2022-03-05T15:26:39.203Z"
   },
   {
    "duration": 157,
    "start_time": "2022-03-05T15:26:39.220Z"
   },
   {
    "duration": 46,
    "start_time": "2022-03-05T15:26:39.380Z"
   },
   {
    "duration": 353,
    "start_time": "2022-03-05T15:26:39.429Z"
   },
   {
    "duration": 9,
    "start_time": "2022-03-05T15:26:39.786Z"
   },
   {
    "duration": 16,
    "start_time": "2022-03-05T15:26:39.797Z"
   },
   {
    "duration": 13,
    "start_time": "2022-03-05T15:26:39.815Z"
   },
   {
    "duration": 58,
    "start_time": "2022-03-05T15:26:39.830Z"
   },
   {
    "duration": 11,
    "start_time": "2022-03-05T15:26:39.891Z"
   },
   {
    "duration": 19,
    "start_time": "2022-03-05T15:26:39.904Z"
   },
   {
    "duration": 218,
    "start_time": "2022-03-05T15:26:39.925Z"
   },
   {
    "duration": 82,
    "start_time": "2022-03-05T15:26:40.146Z"
   },
   {
    "duration": 57,
    "start_time": "2022-03-05T15:26:40.231Z"
   },
   {
    "duration": 14,
    "start_time": "2022-03-05T15:26:40.291Z"
   },
   {
    "duration": 15,
    "start_time": "2022-03-05T15:26:40.308Z"
   },
   {
    "duration": 72,
    "start_time": "2022-03-05T15:26:40.326Z"
   },
   {
    "duration": 5,
    "start_time": "2022-03-05T15:26:40.401Z"
   },
   {
    "duration": 27,
    "start_time": "2022-03-05T15:26:40.412Z"
   },
   {
    "duration": 55,
    "start_time": "2022-03-05T15:26:40.441Z"
   },
   {
    "duration": 21,
    "start_time": "2022-03-05T15:26:40.500Z"
   },
   {
    "duration": 13,
    "start_time": "2022-03-05T15:26:40.523Z"
   },
   {
    "duration": 414,
    "start_time": "2022-03-05T15:26:40.539Z"
   },
   {
    "duration": 253,
    "start_time": "2022-03-05T15:27:59.838Z"
   },
   {
    "duration": 19,
    "start_time": "2022-03-05T15:28:28.586Z"
   },
   {
    "duration": 19,
    "start_time": "2022-03-05T15:28:38.050Z"
   },
   {
    "duration": 265,
    "start_time": "2022-03-05T15:29:05.597Z"
   },
   {
    "duration": 36,
    "start_time": "2022-03-05T15:30:22.054Z"
   },
   {
    "duration": 231,
    "start_time": "2022-03-05T15:30:58.321Z"
   },
   {
    "duration": 19,
    "start_time": "2022-03-05T15:33:40.208Z"
   },
   {
    "duration": 431,
    "start_time": "2022-03-05T15:33:56.022Z"
   },
   {
    "duration": 34,
    "start_time": "2022-03-05T15:34:53.360Z"
   },
   {
    "duration": 262,
    "start_time": "2022-03-05T15:37:44.637Z"
   },
   {
    "duration": 274,
    "start_time": "2022-03-05T15:37:55.179Z"
   },
   {
    "duration": 245,
    "start_time": "2022-03-05T15:53:19.197Z"
   },
   {
    "duration": 234,
    "start_time": "2022-03-05T15:53:28.987Z"
   },
   {
    "duration": 268,
    "start_time": "2022-03-05T15:53:37.718Z"
   },
   {
    "duration": 35,
    "start_time": "2022-03-05T15:54:05.751Z"
   },
   {
    "duration": 22,
    "start_time": "2022-03-05T15:54:57.651Z"
   },
   {
    "duration": 18,
    "start_time": "2022-03-05T15:55:13.112Z"
   },
   {
    "duration": 20,
    "start_time": "2022-03-05T15:55:15.639Z"
   },
   {
    "duration": 233,
    "start_time": "2022-03-05T15:55:21.614Z"
   },
   {
    "duration": 19,
    "start_time": "2022-03-05T15:55:42.653Z"
   },
   {
    "duration": 242,
    "start_time": "2022-03-05T15:55:54.459Z"
   },
   {
    "duration": 31,
    "start_time": "2022-03-05T16:44:58.835Z"
   },
   {
    "duration": 838,
    "start_time": "2022-03-05T16:45:07.701Z"
   },
   {
    "duration": 57,
    "start_time": "2022-03-05T16:45:08.541Z"
   },
   {
    "duration": 34,
    "start_time": "2022-03-05T16:45:08.601Z"
   },
   {
    "duration": 10,
    "start_time": "2022-03-05T16:45:08.638Z"
   },
   {
    "duration": 65,
    "start_time": "2022-03-05T16:45:08.650Z"
   },
   {
    "duration": 15,
    "start_time": "2022-03-05T16:45:08.717Z"
   },
   {
    "duration": 150,
    "start_time": "2022-03-05T16:45:08.734Z"
   },
   {
    "duration": 45,
    "start_time": "2022-03-05T16:45:08.887Z"
   },
   {
    "duration": 349,
    "start_time": "2022-03-05T16:45:08.935Z"
   },
   {
    "duration": 11,
    "start_time": "2022-03-05T16:45:09.287Z"
   },
   {
    "duration": 16,
    "start_time": "2022-03-05T16:45:09.301Z"
   },
   {
    "duration": 13,
    "start_time": "2022-03-05T16:45:09.319Z"
   },
   {
    "duration": 56,
    "start_time": "2022-03-05T16:45:09.334Z"
   },
   {
    "duration": 11,
    "start_time": "2022-03-05T16:45:09.393Z"
   },
   {
    "duration": 21,
    "start_time": "2022-03-05T16:45:09.406Z"
   },
   {
    "duration": 223,
    "start_time": "2022-03-05T16:45:09.429Z"
   },
   {
    "duration": 91,
    "start_time": "2022-03-05T16:45:09.655Z"
   },
   {
    "duration": 61,
    "start_time": "2022-03-05T16:45:09.749Z"
   },
   {
    "duration": 12,
    "start_time": "2022-03-05T16:45:09.812Z"
   },
   {
    "duration": 17,
    "start_time": "2022-03-05T16:45:09.826Z"
   },
   {
    "duration": 52,
    "start_time": "2022-03-05T16:45:09.845Z"
   },
   {
    "duration": 4,
    "start_time": "2022-03-05T16:45:09.899Z"
   },
   {
    "duration": 30,
    "start_time": "2022-03-05T16:45:09.907Z"
   },
   {
    "duration": 47,
    "start_time": "2022-03-05T16:45:09.940Z"
   },
   {
    "duration": 21,
    "start_time": "2022-03-05T16:45:09.991Z"
   },
   {
    "duration": 19,
    "start_time": "2022-03-05T16:45:10.015Z"
   },
   {
    "duration": 69,
    "start_time": "2022-03-05T16:45:10.036Z"
   },
   {
    "duration": 36,
    "start_time": "2022-03-05T16:45:41.314Z"
   },
   {
    "duration": 342,
    "start_time": "2022-03-05T16:47:17.577Z"
   },
   {
    "duration": 241,
    "start_time": "2022-03-05T16:47:23.414Z"
   },
   {
    "duration": 254,
    "start_time": "2022-03-05T16:47:49.554Z"
   },
   {
    "duration": 33,
    "start_time": "2022-03-05T16:51:30.229Z"
   },
   {
    "duration": 73,
    "start_time": "2022-03-06T10:29:37.516Z"
   },
   {
    "duration": 257,
    "start_time": "2022-03-06T10:32:28.878Z"
   },
   {
    "duration": 676,
    "start_time": "2022-03-06T10:32:35.248Z"
   },
   {
    "duration": 50,
    "start_time": "2022-03-06T10:32:35.925Z"
   },
   {
    "duration": 32,
    "start_time": "2022-03-06T10:32:35.977Z"
   },
   {
    "duration": 8,
    "start_time": "2022-03-06T10:32:36.011Z"
   },
   {
    "duration": 38,
    "start_time": "2022-03-06T10:32:36.020Z"
   },
   {
    "duration": 12,
    "start_time": "2022-03-06T10:32:36.060Z"
   },
   {
    "duration": 105,
    "start_time": "2022-03-06T10:32:36.074Z"
   },
   {
    "duration": 51,
    "start_time": "2022-03-06T10:32:36.183Z"
   },
   {
    "duration": 244,
    "start_time": "2022-03-06T10:32:36.237Z"
   },
   {
    "duration": 6,
    "start_time": "2022-03-06T10:32:36.483Z"
   },
   {
    "duration": 11,
    "start_time": "2022-03-06T10:32:36.501Z"
   },
   {
    "duration": 10,
    "start_time": "2022-03-06T10:32:36.514Z"
   },
   {
    "duration": 16,
    "start_time": "2022-03-06T10:32:36.526Z"
   },
   {
    "duration": 8,
    "start_time": "2022-03-06T10:32:36.544Z"
   },
   {
    "duration": 47,
    "start_time": "2022-03-06T10:32:36.554Z"
   },
   {
    "duration": 137,
    "start_time": "2022-03-06T10:32:36.603Z"
   },
   {
    "duration": 71,
    "start_time": "2022-03-06T10:32:36.742Z"
   },
   {
    "duration": 32,
    "start_time": "2022-03-06T10:32:36.815Z"
   },
   {
    "duration": 10,
    "start_time": "2022-03-06T10:32:36.849Z"
   },
   {
    "duration": 43,
    "start_time": "2022-03-06T10:32:36.861Z"
   },
   {
    "duration": 23,
    "start_time": "2022-03-06T10:32:36.906Z"
   },
   {
    "duration": 4,
    "start_time": "2022-03-06T10:32:36.931Z"
   },
   {
    "duration": 22,
    "start_time": "2022-03-06T10:32:36.938Z"
   },
   {
    "duration": 46,
    "start_time": "2022-03-06T10:32:36.963Z"
   },
   {
    "duration": 16,
    "start_time": "2022-03-06T10:32:37.011Z"
   },
   {
    "duration": 15,
    "start_time": "2022-03-06T10:32:37.028Z"
   },
   {
    "duration": 306,
    "start_time": "2022-03-06T10:32:37.045Z"
   },
   {
    "duration": 23,
    "start_time": "2022-03-06T10:32:57.068Z"
   },
   {
    "duration": 225,
    "start_time": "2022-03-06T10:33:14.409Z"
   },
   {
    "duration": 236,
    "start_time": "2022-03-06T10:33:19.439Z"
   },
   {
    "duration": 21,
    "start_time": "2022-03-06T10:33:32.064Z"
   },
   {
    "duration": 227,
    "start_time": "2022-03-06T10:33:52.636Z"
   },
   {
    "duration": 22,
    "start_time": "2022-03-06T10:34:07.004Z"
   },
   {
    "duration": 224,
    "start_time": "2022-03-06T10:34:16.330Z"
   },
   {
    "duration": 21,
    "start_time": "2022-03-06T10:34:19.057Z"
   },
   {
    "duration": 20,
    "start_time": "2022-03-06T10:35:38.368Z"
   },
   {
    "duration": 172,
    "start_time": "2022-03-06T10:39:29.478Z"
   },
   {
    "duration": 462,
    "start_time": "2022-03-06T10:40:28.657Z"
   },
   {
    "duration": 6,
    "start_time": "2022-03-06T10:41:40.424Z"
   },
   {
    "duration": 3,
    "start_time": "2022-03-06T10:41:49.767Z"
   },
   {
    "duration": 307,
    "start_time": "2022-03-06T10:43:44.475Z"
   },
   {
    "duration": 46,
    "start_time": "2022-03-06T10:50:03.272Z"
   },
   {
    "duration": 42,
    "start_time": "2022-03-06T10:59:32.409Z"
   },
   {
    "duration": 1146,
    "start_time": "2022-03-06T11:03:30.111Z"
   },
   {
    "duration": 253,
    "start_time": "2022-03-06T11:04:46.527Z"
   },
   {
    "duration": 5352,
    "start_time": "2022-03-06T11:05:23.595Z"
   },
   {
    "duration": 5593,
    "start_time": "2022-03-06T11:05:34.378Z"
   },
   {
    "duration": 40,
    "start_time": "2022-03-06T11:06:22.839Z"
   },
   {
    "duration": 70,
    "start_time": "2022-03-06T11:07:42.093Z"
   },
   {
    "duration": 224,
    "start_time": "2022-03-06T11:08:18.815Z"
   },
   {
    "duration": 341,
    "start_time": "2022-03-06T11:08:46.860Z"
   },
   {
    "duration": 307,
    "start_time": "2022-03-06T11:10:17.121Z"
   },
   {
    "duration": 243,
    "start_time": "2022-03-06T11:11:08.483Z"
   },
   {
    "duration": 217,
    "start_time": "2022-03-06T11:11:12.019Z"
   },
   {
    "duration": 259,
    "start_time": "2022-03-06T11:11:36.361Z"
   },
   {
    "duration": 221,
    "start_time": "2022-03-06T11:11:58.047Z"
   },
   {
    "duration": 216,
    "start_time": "2022-03-06T11:11:59.436Z"
   },
   {
    "duration": 10,
    "start_time": "2022-03-06T11:12:04.837Z"
   },
   {
    "duration": 82,
    "start_time": "2022-03-06T11:14:51.275Z"
   },
   {
    "duration": 107,
    "start_time": "2022-03-06T11:14:57.106Z"
   },
   {
    "duration": 45,
    "start_time": "2022-03-06T11:15:09.417Z"
   },
   {
    "duration": 418,
    "start_time": "2022-03-06T11:15:14.736Z"
   },
   {
    "duration": 45,
    "start_time": "2022-03-06T11:15:17.672Z"
   },
   {
    "duration": 45,
    "start_time": "2022-03-06T11:15:30.751Z"
   },
   {
    "duration": 40,
    "start_time": "2022-03-06T11:17:52.543Z"
   },
   {
    "duration": 5537,
    "start_time": "2022-03-06T11:18:21.539Z"
   },
   {
    "duration": 44,
    "start_time": "2022-03-06T11:18:40.474Z"
   },
   {
    "duration": 5516,
    "start_time": "2022-03-06T11:19:32.948Z"
   },
   {
    "duration": 347,
    "start_time": "2022-03-06T11:19:55.401Z"
   },
   {
    "duration": 87,
    "start_time": "2022-03-06T11:20:27.254Z"
   },
   {
    "duration": 259,
    "start_time": "2022-03-06T11:20:43.491Z"
   },
   {
    "duration": 5667,
    "start_time": "2022-03-06T11:20:59.691Z"
   },
   {
    "duration": 42,
    "start_time": "2022-03-06T11:27:35.606Z"
   },
   {
    "duration": 259,
    "start_time": "2022-03-06T11:28:35.705Z"
   },
   {
    "duration": 70,
    "start_time": "2022-03-06T11:28:53.793Z"
   },
   {
    "duration": 258,
    "start_time": "2022-03-06T11:29:09.243Z"
   },
   {
    "duration": 267,
    "start_time": "2022-03-06T11:29:25.354Z"
   },
   {
    "duration": 247,
    "start_time": "2022-03-06T11:29:29.449Z"
   },
   {
    "duration": -4,
    "start_time": "2022-03-06T11:29:37.507Z"
   },
   {
    "duration": 5460,
    "start_time": "2022-03-06T11:29:42.376Z"
   },
   {
    "duration": 5793,
    "start_time": "2022-03-06T11:29:49.190Z"
   },
   {
    "duration": 5512,
    "start_time": "2022-03-06T11:29:57.447Z"
   },
   {
    "duration": 5840,
    "start_time": "2022-03-06T11:30:48.874Z"
   },
   {
    "duration": 5583,
    "start_time": "2022-03-06T11:31:02.215Z"
   },
   {
    "duration": 259,
    "start_time": "2022-03-06T11:31:16.158Z"
   },
   {
    "duration": 270,
    "start_time": "2022-03-06T11:31:22.669Z"
   },
   {
    "duration": 258,
    "start_time": "2022-03-06T11:31:33.691Z"
   },
   {
    "duration": 274,
    "start_time": "2022-03-06T11:31:40.861Z"
   },
   {
    "duration": 427,
    "start_time": "2022-03-06T11:33:20.647Z"
   },
   {
    "duration": 148,
    "start_time": "2022-03-06T11:33:25.726Z"
   },
   {
    "duration": 42,
    "start_time": "2022-03-06T11:37:12.686Z"
   },
   {
    "duration": 255,
    "start_time": "2022-03-06T11:37:18.452Z"
   },
   {
    "duration": 40,
    "start_time": "2022-03-06T11:37:23.724Z"
   },
   {
    "duration": 42,
    "start_time": "2022-03-06T11:37:57.241Z"
   },
   {
    "duration": 42,
    "start_time": "2022-03-06T11:38:03.095Z"
   },
   {
    "duration": 39,
    "start_time": "2022-03-06T11:40:09.122Z"
   },
   {
    "duration": 41,
    "start_time": "2022-03-06T11:40:15.201Z"
   },
   {
    "duration": 40,
    "start_time": "2022-03-06T11:40:22.145Z"
   },
   {
    "duration": 42,
    "start_time": "2022-03-06T11:40:27.784Z"
   },
   {
    "duration": 42,
    "start_time": "2022-03-06T11:40:31.983Z"
   },
   {
    "duration": 81,
    "start_time": "2022-03-06T11:40:45.174Z"
   },
   {
    "duration": 70,
    "start_time": "2022-03-06T11:40:50.446Z"
   },
   {
    "duration": 70,
    "start_time": "2022-03-06T11:40:56.860Z"
   },
   {
    "duration": 41,
    "start_time": "2022-03-06T11:41:00.612Z"
   },
   {
    "duration": 41,
    "start_time": "2022-03-06T11:41:07.259Z"
   },
   {
    "duration": 39,
    "start_time": "2022-03-06T11:41:14.202Z"
   },
   {
    "duration": 40,
    "start_time": "2022-03-06T11:41:21.841Z"
   },
   {
    "duration": 43,
    "start_time": "2022-03-06T11:41:27.354Z"
   },
   {
    "duration": 40,
    "start_time": "2022-03-06T11:41:39.048Z"
   },
   {
    "duration": 41,
    "start_time": "2022-03-06T11:41:41.736Z"
   },
   {
    "duration": 41,
    "start_time": "2022-03-06T11:41:44.919Z"
   },
   {
    "duration": 45,
    "start_time": "2022-03-06T11:41:47.463Z"
   },
   {
    "duration": 42,
    "start_time": "2022-03-06T11:41:52.142Z"
   },
   {
    "duration": 45,
    "start_time": "2022-03-06T11:42:01.381Z"
   },
   {
    "duration": 44,
    "start_time": "2022-03-06T11:42:05.653Z"
   },
   {
    "duration": 73,
    "start_time": "2022-03-06T11:43:30.379Z"
   },
   {
    "duration": 40,
    "start_time": "2022-03-06T11:43:38.788Z"
   },
   {
    "duration": 46,
    "start_time": "2022-03-06T11:43:42.322Z"
   },
   {
    "duration": 47,
    "start_time": "2022-03-06T11:43:53.466Z"
   },
   {
    "duration": 45,
    "start_time": "2022-03-06T11:44:00.943Z"
   },
   {
    "duration": 46,
    "start_time": "2022-03-06T11:44:20.678Z"
   },
   {
    "duration": 308,
    "start_time": "2022-03-06T12:11:53.762Z"
   },
   {
    "duration": 256,
    "start_time": "2022-03-06T12:11:57.468Z"
   },
   {
    "duration": 276,
    "start_time": "2022-03-06T12:12:12.292Z"
   },
   {
    "duration": 249,
    "start_time": "2022-03-06T12:12:14.538Z"
   },
   {
    "duration": 45,
    "start_time": "2022-03-06T12:12:19.450Z"
   },
   {
    "duration": 44,
    "start_time": "2022-03-06T12:12:47.328Z"
   },
   {
    "duration": 300,
    "start_time": "2022-03-06T12:13:43.114Z"
   },
   {
    "duration": 255,
    "start_time": "2022-03-06T12:13:49.409Z"
   },
   {
    "duration": 49,
    "start_time": "2022-03-06T12:14:00.759Z"
   },
   {
    "duration": 45,
    "start_time": "2022-03-06T12:14:14.398Z"
   },
   {
    "duration": 40,
    "start_time": "2022-03-06T12:14:19.668Z"
   },
   {
    "duration": 42,
    "start_time": "2022-03-06T12:14:23.268Z"
   },
   {
    "duration": 38,
    "start_time": "2022-03-06T12:14:28.014Z"
   },
   {
    "duration": 42,
    "start_time": "2022-03-06T12:14:34.891Z"
   },
   {
    "duration": 41,
    "start_time": "2022-03-06T12:14:39.482Z"
   },
   {
    "duration": 41,
    "start_time": "2022-03-06T12:14:42.979Z"
   },
   {
    "duration": 41,
    "start_time": "2022-03-06T12:14:49.986Z"
   },
   {
    "duration": 38,
    "start_time": "2022-03-06T12:14:55.513Z"
   },
   {
    "duration": 44,
    "start_time": "2022-03-06T12:14:59.674Z"
   },
   {
    "duration": 43,
    "start_time": "2022-03-06T12:15:04.776Z"
   },
   {
    "duration": 41,
    "start_time": "2022-03-06T12:15:08.256Z"
   },
   {
    "duration": 42,
    "start_time": "2022-03-06T12:15:14.183Z"
   },
   {
    "duration": 41,
    "start_time": "2022-03-06T12:15:19.255Z"
   },
   {
    "duration": 266,
    "start_time": "2022-03-06T12:16:51.524Z"
   },
   {
    "duration": 42,
    "start_time": "2022-03-06T12:17:00.372Z"
   },
   {
    "duration": 42,
    "start_time": "2022-03-06T12:17:04.579Z"
   },
   {
    "duration": 45,
    "start_time": "2022-03-06T12:17:14.593Z"
   },
   {
    "duration": 73,
    "start_time": "2022-03-06T12:17:32.792Z"
   },
   {
    "duration": 76,
    "start_time": "2022-03-06T12:17:36.599Z"
   },
   {
    "duration": 72,
    "start_time": "2022-03-06T12:17:46.878Z"
   },
   {
    "duration": 42,
    "start_time": "2022-03-06T12:17:50.102Z"
   },
   {
    "duration": 45,
    "start_time": "2022-03-06T12:17:56.541Z"
   },
   {
    "duration": 41,
    "start_time": "2022-03-06T12:17:58.877Z"
   },
   {
    "duration": 42,
    "start_time": "2022-03-06T12:18:02.740Z"
   },
   {
    "duration": 42,
    "start_time": "2022-03-06T12:18:11.347Z"
   },
   {
    "duration": 42,
    "start_time": "2022-03-06T12:18:15.211Z"
   },
   {
    "duration": 43,
    "start_time": "2022-03-06T12:18:17.426Z"
   },
   {
    "duration": 273,
    "start_time": "2022-03-06T12:18:31.217Z"
   },
   {
    "duration": 267,
    "start_time": "2022-03-06T12:18:43.961Z"
   },
   {
    "duration": 262,
    "start_time": "2022-03-06T12:18:47.423Z"
   },
   {
    "duration": 39,
    "start_time": "2022-03-06T12:18:51.808Z"
   },
   {
    "duration": 42,
    "start_time": "2022-03-06T12:19:17.692Z"
   },
   {
    "duration": 43,
    "start_time": "2022-03-06T12:19:23.444Z"
   },
   {
    "duration": 42,
    "start_time": "2022-03-06T12:19:25.507Z"
   },
   {
    "duration": 42,
    "start_time": "2022-03-06T12:19:30.787Z"
   },
   {
    "duration": 43,
    "start_time": "2022-03-06T12:19:36.594Z"
   },
   {
    "duration": 41,
    "start_time": "2022-03-06T12:19:40.546Z"
   },
   {
    "duration": 39,
    "start_time": "2022-03-06T12:19:48.145Z"
   },
   {
    "duration": 50,
    "start_time": "2022-03-06T12:19:59.968Z"
   },
   {
    "duration": 49,
    "start_time": "2022-03-06T12:20:24.052Z"
   },
   {
    "duration": 5618,
    "start_time": "2022-03-06T12:21:02.529Z"
   },
   {
    "duration": 5592,
    "start_time": "2022-03-06T12:21:12.895Z"
   },
   {
    "duration": 44,
    "start_time": "2022-03-06T12:22:31.328Z"
   },
   {
    "duration": 228,
    "start_time": "2022-03-06T12:22:45.590Z"
   },
   {
    "duration": 45,
    "start_time": "2022-03-06T12:23:14.754Z"
   },
   {
    "duration": 330,
    "start_time": "2022-03-06T12:23:17.490Z"
   },
   {
    "duration": 5527,
    "start_time": "2022-03-06T12:24:28.706Z"
   },
   {
    "duration": 277,
    "start_time": "2022-03-06T12:24:39.835Z"
   },
   {
    "duration": 265,
    "start_time": "2022-03-06T12:25:39.084Z"
   },
   {
    "duration": 41,
    "start_time": "2022-03-06T12:25:59.529Z"
   },
   {
    "duration": 5606,
    "start_time": "2022-03-06T12:26:09.903Z"
   },
   {
    "duration": 44,
    "start_time": "2022-03-06T12:26:17.655Z"
   },
   {
    "duration": 74,
    "start_time": "2022-03-06T12:26:52.689Z"
   },
   {
    "duration": 73,
    "start_time": "2022-03-06T12:27:05.337Z"
   },
   {
    "duration": 69,
    "start_time": "2022-03-06T12:27:07.936Z"
   },
   {
    "duration": 82,
    "start_time": "2022-03-06T12:27:10.775Z"
   },
   {
    "duration": 431,
    "start_time": "2022-03-06T12:27:20.727Z"
   },
   {
    "duration": 57,
    "start_time": "2022-03-06T12:27:43.416Z"
   },
   {
    "duration": 271,
    "start_time": "2022-03-06T12:27:48.988Z"
   },
   {
    "duration": 45,
    "start_time": "2022-03-06T12:27:53.164Z"
   },
   {
    "duration": 44,
    "start_time": "2022-03-06T12:28:05.270Z"
   },
   {
    "duration": 45,
    "start_time": "2022-03-06T12:28:15.802Z"
   },
   {
    "duration": 45,
    "start_time": "2022-03-06T12:28:19.241Z"
   },
   {
    "duration": 46,
    "start_time": "2022-03-06T12:28:22.669Z"
   },
   {
    "duration": 44,
    "start_time": "2022-03-06T12:28:29.655Z"
   },
   {
    "duration": 45,
    "start_time": "2022-03-06T12:28:34.111Z"
   },
   {
    "duration": 46,
    "start_time": "2022-03-06T12:28:48.782Z"
   },
   {
    "duration": 71,
    "start_time": "2022-03-06T12:28:53.868Z"
   },
   {
    "duration": 45,
    "start_time": "2022-03-06T12:29:01.900Z"
   },
   {
    "duration": 46,
    "start_time": "2022-03-06T12:29:11.115Z"
   },
   {
    "duration": 43,
    "start_time": "2022-03-06T12:29:14.378Z"
   },
   {
    "duration": 48,
    "start_time": "2022-03-06T12:29:17.545Z"
   },
   {
    "duration": 44,
    "start_time": "2022-03-06T12:29:21.857Z"
   },
   {
    "duration": 44,
    "start_time": "2022-03-06T12:29:23.929Z"
   },
   {
    "duration": 47,
    "start_time": "2022-03-06T12:29:26.985Z"
   },
   {
    "duration": 45,
    "start_time": "2022-03-06T12:29:41.167Z"
   },
   {
    "duration": 46,
    "start_time": "2022-03-06T12:29:57.150Z"
   },
   {
    "duration": 84,
    "start_time": "2022-03-06T12:30:17.395Z"
   },
   {
    "duration": 54,
    "start_time": "2022-03-06T12:30:22.082Z"
   },
   {
    "duration": 50,
    "start_time": "2022-03-06T12:30:32.338Z"
   },
   {
    "duration": 47,
    "start_time": "2022-03-06T12:30:42.514Z"
   },
   {
    "duration": 46,
    "start_time": "2022-03-06T12:31:00.567Z"
   },
   {
    "duration": 47,
    "start_time": "2022-03-06T12:31:13.853Z"
   },
   {
    "duration": 44,
    "start_time": "2022-03-06T12:31:49.464Z"
   },
   {
    "duration": 45,
    "start_time": "2022-03-06T12:31:58.745Z"
   },
   {
    "duration": 98,
    "start_time": "2022-03-06T12:32:30.134Z"
   },
   {
    "duration": 46,
    "start_time": "2022-03-06T12:32:36.980Z"
   },
   {
    "duration": 45,
    "start_time": "2022-03-06T12:33:15.353Z"
   },
   {
    "duration": 47,
    "start_time": "2022-03-06T12:33:23.615Z"
   },
   {
    "duration": 50,
    "start_time": "2022-03-06T12:34:02.804Z"
   },
   {
    "duration": 106,
    "start_time": "2022-03-06T12:34:30.288Z"
   },
   {
    "duration": 48,
    "start_time": "2022-03-06T12:35:11.284Z"
   },
   {
    "duration": 45,
    "start_time": "2022-03-06T12:35:15.612Z"
   },
   {
    "duration": 46,
    "start_time": "2022-03-06T12:36:27.884Z"
   },
   {
    "duration": 493,
    "start_time": "2022-03-06T12:36:36.458Z"
   },
   {
    "duration": 12,
    "start_time": "2022-03-06T12:38:39.373Z"
   },
   {
    "duration": 53,
    "start_time": "2022-03-06T12:39:05.986Z"
   },
   {
    "duration": 10,
    "start_time": "2022-03-06T12:39:39.214Z"
   },
   {
    "duration": 15,
    "start_time": "2022-03-06T12:39:41.550Z"
   },
   {
    "duration": 11,
    "start_time": "2022-03-06T12:39:43.390Z"
   },
   {
    "duration": 1157,
    "start_time": "2022-03-06T12:39:47.991Z"
   },
   {
    "duration": 51,
    "start_time": "2022-03-06T12:39:49.150Z"
   },
   {
    "duration": 30,
    "start_time": "2022-03-06T12:39:49.204Z"
   },
   {
    "duration": 10,
    "start_time": "2022-03-06T12:39:49.236Z"
   },
   {
    "duration": 60,
    "start_time": "2022-03-06T12:39:49.248Z"
   },
   {
    "duration": 13,
    "start_time": "2022-03-06T12:39:49.310Z"
   },
   {
    "duration": 109,
    "start_time": "2022-03-06T12:39:49.325Z"
   },
   {
    "duration": 33,
    "start_time": "2022-03-06T12:39:49.437Z"
   },
   {
    "duration": 6,
    "start_time": "2022-03-06T12:39:49.473Z"
   },
   {
    "duration": 8,
    "start_time": "2022-03-06T12:39:49.502Z"
   },
   {
    "duration": 16,
    "start_time": "2022-03-06T12:39:49.512Z"
   },
   {
    "duration": 10,
    "start_time": "2022-03-06T12:39:49.529Z"
   },
   {
    "duration": 11,
    "start_time": "2022-03-06T12:39:49.541Z"
   },
   {
    "duration": 12,
    "start_time": "2022-03-06T12:39:49.554Z"
   },
   {
    "duration": 15,
    "start_time": "2022-03-06T12:39:49.601Z"
   },
   {
    "duration": 137,
    "start_time": "2022-03-06T12:39:49.617Z"
   },
   {
    "duration": 65,
    "start_time": "2022-03-06T12:39:49.755Z"
   },
   {
    "duration": 34,
    "start_time": "2022-03-06T12:39:49.822Z"
   },
   {
    "duration": 10,
    "start_time": "2022-03-06T12:39:49.857Z"
   },
   {
    "duration": 41,
    "start_time": "2022-03-06T12:39:49.868Z"
   },
   {
    "duration": 22,
    "start_time": "2022-03-06T12:39:49.911Z"
   },
   {
    "duration": 4,
    "start_time": "2022-03-06T12:39:49.935Z"
   },
   {
    "duration": 19,
    "start_time": "2022-03-06T12:39:49.943Z"
   },
   {
    "duration": 47,
    "start_time": "2022-03-06T12:39:49.964Z"
   },
   {
    "duration": 18,
    "start_time": "2022-03-06T12:39:50.013Z"
   },
   {
    "duration": 10,
    "start_time": "2022-03-06T12:39:50.033Z"
   },
   {
    "duration": 75,
    "start_time": "2022-03-06T12:39:50.045Z"
   },
   {
    "duration": 527,
    "start_time": "2022-03-06T12:39:50.121Z"
   },
   {
    "duration": 222,
    "start_time": "2022-03-06T12:43:42.094Z"
   },
   {
    "duration": 225,
    "start_time": "2022-03-06T12:43:49.380Z"
   },
   {
    "duration": 213,
    "start_time": "2022-03-06T12:43:57.499Z"
   },
   {
    "duration": 213,
    "start_time": "2022-03-06T12:44:03.435Z"
   },
   {
    "duration": 232,
    "start_time": "2022-03-06T12:44:06.233Z"
   },
   {
    "duration": 72,
    "start_time": "2022-03-06T12:44:23.984Z"
   },
   {
    "duration": 266,
    "start_time": "2022-03-06T12:44:40.783Z"
   },
   {
    "duration": 223,
    "start_time": "2022-03-06T12:44:46.454Z"
   },
   {
    "duration": 177,
    "start_time": "2022-03-06T12:45:34.300Z"
   },
   {
    "duration": 869,
    "start_time": "2022-03-06T12:45:47.752Z"
   },
   {
    "duration": 155,
    "start_time": "2022-03-06T12:45:55.286Z"
   },
   {
    "duration": 273,
    "start_time": "2022-03-06T12:47:04.120Z"
   },
   {
    "duration": 261,
    "start_time": "2022-03-06T12:47:06.335Z"
   },
   {
    "duration": 265,
    "start_time": "2022-03-06T12:47:11.648Z"
   },
   {
    "duration": 260,
    "start_time": "2022-03-06T12:49:52.086Z"
   },
   {
    "duration": 261,
    "start_time": "2022-03-06T12:49:55.885Z"
   },
   {
    "duration": 259,
    "start_time": "2022-03-06T12:50:46.134Z"
   },
   {
    "duration": 265,
    "start_time": "2022-03-06T12:51:07.805Z"
   },
   {
    "duration": 45,
    "start_time": "2022-03-06T12:51:14.818Z"
   },
   {
    "duration": 45,
    "start_time": "2022-03-06T12:51:36.434Z"
   },
   {
    "duration": 230,
    "start_time": "2022-03-06T12:51:51.854Z"
   },
   {
    "duration": 226,
    "start_time": "2022-03-06T12:51:58.086Z"
   },
   {
    "duration": 253,
    "start_time": "2022-03-06T12:52:49.769Z"
   },
   {
    "duration": 221,
    "start_time": "2022-03-06T12:53:01.141Z"
   },
   {
    "duration": 249,
    "start_time": "2022-03-06T12:53:07.309Z"
   },
   {
    "duration": 223,
    "start_time": "2022-03-06T12:53:34.467Z"
   },
   {
    "duration": 365,
    "start_time": "2022-03-06T12:54:15.143Z"
   },
   {
    "duration": 229,
    "start_time": "2022-03-06T12:54:35.770Z"
   },
   {
    "duration": 412,
    "start_time": "2022-03-06T12:58:10.250Z"
   },
   {
    "duration": 246,
    "start_time": "2022-03-06T12:59:42.417Z"
   },
   {
    "duration": 287,
    "start_time": "2022-03-06T13:00:09.078Z"
   },
   {
    "duration": 276,
    "start_time": "2022-03-06T13:00:25.804Z"
   },
   {
    "duration": 256,
    "start_time": "2022-03-06T13:00:36.371Z"
   },
   {
    "duration": 72,
    "start_time": "2022-03-06T13:00:42.323Z"
   },
   {
    "duration": 46,
    "start_time": "2022-03-06T13:00:53.856Z"
   },
   {
    "duration": 229,
    "start_time": "2022-03-06T13:01:20.558Z"
   },
   {
    "duration": 49,
    "start_time": "2022-03-06T13:01:37.972Z"
   },
   {
    "duration": 351,
    "start_time": "2022-03-06T13:07:04.487Z"
   },
   {
    "duration": 209,
    "start_time": "2022-03-06T13:07:10.638Z"
   },
   {
    "duration": 220,
    "start_time": "2022-03-06T13:07:46.522Z"
   },
   {
    "duration": 230,
    "start_time": "2022-03-06T13:07:59.937Z"
   },
   {
    "duration": 220,
    "start_time": "2022-03-06T13:08:11.688Z"
   },
   {
    "duration": 302,
    "start_time": "2022-03-06T13:08:15.215Z"
   },
   {
    "duration": 217,
    "start_time": "2022-03-06T13:08:20.134Z"
   },
   {
    "duration": 243,
    "start_time": "2022-03-06T13:08:26.142Z"
   },
   {
    "duration": 205,
    "start_time": "2022-03-06T13:09:32.102Z"
   },
   {
    "duration": 277,
    "start_time": "2022-03-06T13:10:37.463Z"
   },
   {
    "duration": 214,
    "start_time": "2022-03-06T13:10:45.197Z"
   },
   {
    "duration": 516,
    "start_time": "2022-03-06T13:11:20.394Z"
   },
   {
    "duration": 225,
    "start_time": "2022-03-06T13:11:50.118Z"
   },
   {
    "duration": 219,
    "start_time": "2022-03-06T13:11:55.133Z"
   },
   {
    "duration": 229,
    "start_time": "2022-03-06T13:12:03.701Z"
   },
   {
    "duration": 79,
    "start_time": "2022-03-06T13:12:06.981Z"
   },
   {
    "duration": 621,
    "start_time": "2022-03-06T13:12:41.457Z"
   },
   {
    "duration": 201,
    "start_time": "2022-03-06T13:12:49.392Z"
   },
   {
    "duration": 539,
    "start_time": "2022-03-06T13:14:36.429Z"
   },
   {
    "duration": 202,
    "start_time": "2022-03-06T13:14:41.868Z"
   },
   {
    "duration": 118,
    "start_time": "2022-03-06T13:15:10.106Z"
   },
   {
    "duration": 45,
    "start_time": "2022-03-06T13:15:18.616Z"
   },
   {
    "duration": 50,
    "start_time": "2022-03-06T13:15:21.543Z"
   },
   {
    "duration": 81,
    "start_time": "2022-03-06T13:17:47.047Z"
   },
   {
    "duration": 196,
    "start_time": "2022-03-06T13:17:49.662Z"
   },
   {
    "duration": 54,
    "start_time": "2022-03-06T13:17:58.374Z"
   },
   {
    "duration": 46,
    "start_time": "2022-03-06T13:18:08.405Z"
   },
   {
    "duration": 49,
    "start_time": "2022-03-06T13:19:41.618Z"
   },
   {
    "duration": 49,
    "start_time": "2022-03-06T13:19:44.994Z"
   },
   {
    "duration": 77,
    "start_time": "2022-03-06T13:19:50.865Z"
   },
   {
    "duration": 49,
    "start_time": "2022-03-06T13:19:56.946Z"
   },
   {
    "duration": 47,
    "start_time": "2022-03-06T13:20:00.887Z"
   },
   {
    "duration": 47,
    "start_time": "2022-03-06T13:20:05.344Z"
   },
   {
    "duration": 48,
    "start_time": "2022-03-06T13:20:29.765Z"
   },
   {
    "duration": 47,
    "start_time": "2022-03-06T13:20:50.186Z"
   },
   {
    "duration": 48,
    "start_time": "2022-03-06T13:20:55.953Z"
   },
   {
    "duration": 47,
    "start_time": "2022-03-06T13:21:03.376Z"
   },
   {
    "duration": 182,
    "start_time": "2022-03-06T13:21:14.431Z"
   },
   {
    "duration": 72,
    "start_time": "2022-03-06T13:24:52.567Z"
   },
   {
    "duration": 47,
    "start_time": "2022-03-06T13:25:04.997Z"
   },
   {
    "duration": 47,
    "start_time": "2022-03-06T13:25:17.172Z"
   },
   {
    "duration": 47,
    "start_time": "2022-03-06T13:25:28.754Z"
   },
   {
    "duration": 3,
    "start_time": "2022-03-06T13:25:54.406Z"
   },
   {
    "duration": 193,
    "start_time": "2022-03-06T13:26:03.349Z"
   },
   {
    "duration": 466,
    "start_time": "2022-03-06T13:27:22.349Z"
   },
   {
    "duration": 141,
    "start_time": "2022-03-06T13:27:55.362Z"
   },
   {
    "duration": 148,
    "start_time": "2022-03-06T13:29:11.970Z"
   },
   {
    "duration": 188,
    "start_time": "2022-03-06T13:29:33.465Z"
   },
   {
    "duration": 262,
    "start_time": "2022-03-06T13:30:10.469Z"
   },
   {
    "duration": 73,
    "start_time": "2022-03-06T13:31:49.833Z"
   },
   {
    "duration": 74,
    "start_time": "2022-03-06T13:31:53.226Z"
   },
   {
    "duration": 73,
    "start_time": "2022-03-06T13:31:56.280Z"
   },
   {
    "duration": 251,
    "start_time": "2022-03-06T13:31:59.464Z"
   },
   {
    "duration": 216,
    "start_time": "2022-03-06T13:32:08.935Z"
   },
   {
    "duration": 283,
    "start_time": "2022-03-06T13:32:14.807Z"
   },
   {
    "duration": 211,
    "start_time": "2022-03-06T13:32:21.182Z"
   },
   {
    "duration": 206,
    "start_time": "2022-03-06T13:32:48.085Z"
   },
   {
    "duration": 325,
    "start_time": "2022-03-06T13:32:55.282Z"
   },
   {
    "duration": 198,
    "start_time": "2022-03-06T13:33:03.577Z"
   },
   {
    "duration": 217,
    "start_time": "2022-03-06T13:33:13.169Z"
   },
   {
    "duration": 96,
    "start_time": "2022-03-06T13:33:41.710Z"
   },
   {
    "duration": 220,
    "start_time": "2022-03-06T13:33:46.189Z"
   },
   {
    "duration": 209,
    "start_time": "2022-03-06T13:33:54.276Z"
   },
   {
    "duration": 70,
    "start_time": "2022-03-06T13:34:59.621Z"
   },
   {
    "duration": 216,
    "start_time": "2022-03-06T13:35:03.981Z"
   },
   {
    "duration": 321,
    "start_time": "2022-03-06T13:35:09.644Z"
   },
   {
    "duration": 215,
    "start_time": "2022-03-06T13:35:16.565Z"
   },
   {
    "duration": 208,
    "start_time": "2022-03-06T13:35:21.523Z"
   },
   {
    "duration": 594,
    "start_time": "2022-03-06T13:36:01.143Z"
   },
   {
    "duration": 249,
    "start_time": "2022-03-06T13:36:29.268Z"
   },
   {
    "duration": 234,
    "start_time": "2022-03-06T13:39:34.914Z"
   },
   {
    "duration": 206,
    "start_time": "2022-03-06T13:40:02.156Z"
   },
   {
    "duration": 4,
    "start_time": "2022-03-06T13:42:22.069Z"
   },
   {
    "duration": 4,
    "start_time": "2022-03-06T13:42:25.939Z"
   },
   {
    "duration": 4,
    "start_time": "2022-03-06T13:42:31.579Z"
   },
   {
    "duration": 4,
    "start_time": "2022-03-06T13:42:43.211Z"
   },
   {
    "duration": 220,
    "start_time": "2022-03-06T13:42:45.329Z"
   },
   {
    "duration": 5,
    "start_time": "2022-03-06T13:42:47.665Z"
   },
   {
    "duration": 216,
    "start_time": "2022-03-06T13:43:09.824Z"
   },
   {
    "duration": 211,
    "start_time": "2022-03-06T13:45:23.392Z"
   },
   {
    "duration": 272,
    "start_time": "2022-03-06T13:45:36.151Z"
   },
   {
    "duration": 356,
    "start_time": "2022-03-06T13:45:53.637Z"
   },
   {
    "duration": 314,
    "start_time": "2022-03-06T13:46:10.002Z"
   },
   {
    "duration": 263,
    "start_time": "2022-03-06T13:46:44.328Z"
   },
   {
    "duration": 40,
    "start_time": "2022-03-06T13:52:25.053Z"
   },
   {
    "duration": 44,
    "start_time": "2022-03-06T13:52:58.478Z"
   },
   {
    "duration": 45,
    "start_time": "2022-03-06T13:54:29.381Z"
   },
   {
    "duration": 5,
    "start_time": "2022-03-06T13:57:04.171Z"
   },
   {
    "duration": 57,
    "start_time": "2022-03-06T13:57:27.908Z"
   },
   {
    "duration": 305,
    "start_time": "2022-03-06T14:00:14.678Z"
   },
   {
    "duration": 261,
    "start_time": "2022-03-06T14:00:35.131Z"
   },
   {
    "duration": 297,
    "start_time": "2022-03-06T14:01:19.198Z"
   },
   {
    "duration": 314,
    "start_time": "2022-03-06T14:01:40.180Z"
   },
   {
    "duration": 368,
    "start_time": "2022-03-06T14:02:11.256Z"
   },
   {
    "duration": 291,
    "start_time": "2022-03-06T14:02:16.471Z"
   },
   {
    "duration": 320,
    "start_time": "2022-03-06T14:02:27.166Z"
   },
   {
    "duration": 295,
    "start_time": "2022-03-06T14:09:49.885Z"
   },
   {
    "duration": 266,
    "start_time": "2022-03-06T14:09:53.796Z"
   },
   {
    "duration": 8,
    "start_time": "2022-03-06T14:12:54.200Z"
   },
   {
    "duration": 8,
    "start_time": "2022-03-06T14:12:56.008Z"
   },
   {
    "duration": 627,
    "start_time": "2022-03-06T14:13:17.268Z"
   },
   {
    "duration": 55,
    "start_time": "2022-03-06T14:13:17.897Z"
   },
   {
    "duration": 31,
    "start_time": "2022-03-06T14:13:17.955Z"
   },
   {
    "duration": 18,
    "start_time": "2022-03-06T14:13:17.988Z"
   },
   {
    "duration": 23,
    "start_time": "2022-03-06T14:13:18.008Z"
   },
   {
    "duration": 12,
    "start_time": "2022-03-06T14:13:18.033Z"
   },
   {
    "duration": 120,
    "start_time": "2022-03-06T14:13:18.047Z"
   },
   {
    "duration": 47,
    "start_time": "2022-03-06T14:13:18.170Z"
   },
   {
    "duration": 5,
    "start_time": "2022-03-06T14:13:18.219Z"
   },
   {
    "duration": 10,
    "start_time": "2022-03-06T14:13:18.225Z"
   },
   {
    "duration": 10,
    "start_time": "2022-03-06T14:13:18.237Z"
   },
   {
    "duration": 11,
    "start_time": "2022-03-06T14:13:18.250Z"
   },
   {
    "duration": 40,
    "start_time": "2022-03-06T14:13:18.263Z"
   },
   {
    "duration": 9,
    "start_time": "2022-03-06T14:13:18.305Z"
   },
   {
    "duration": 16,
    "start_time": "2022-03-06T14:13:18.315Z"
   },
   {
    "duration": 153,
    "start_time": "2022-03-06T14:13:18.333Z"
   },
   {
    "duration": 68,
    "start_time": "2022-03-06T14:13:18.488Z"
   },
   {
    "duration": 59,
    "start_time": "2022-03-06T14:13:18.558Z"
   },
   {
    "duration": 10,
    "start_time": "2022-03-06T14:13:18.619Z"
   },
   {
    "duration": 11,
    "start_time": "2022-03-06T14:13:18.631Z"
   },
   {
    "duration": 22,
    "start_time": "2022-03-06T14:13:18.644Z"
   },
   {
    "duration": 37,
    "start_time": "2022-03-06T14:13:18.668Z"
   },
   {
    "duration": 20,
    "start_time": "2022-03-06T14:13:18.709Z"
   },
   {
    "duration": 16,
    "start_time": "2022-03-06T14:13:18.731Z"
   },
   {
    "duration": 19,
    "start_time": "2022-03-06T14:13:18.749Z"
   },
   {
    "duration": 36,
    "start_time": "2022-03-06T14:13:18.770Z"
   },
   {
    "duration": 288,
    "start_time": "2022-03-06T14:13:18.808Z"
   },
   {
    "duration": 171,
    "start_time": "2022-03-06T14:13:18.927Z"
   },
   {
    "duration": 168,
    "start_time": "2022-03-06T14:13:18.931Z"
   },
   {
    "duration": 166,
    "start_time": "2022-03-06T14:13:18.934Z"
   },
   {
    "duration": 163,
    "start_time": "2022-03-06T14:13:18.938Z"
   },
   {
    "duration": 56,
    "start_time": "2022-03-06T14:13:34.030Z"
   },
   {
    "duration": 345,
    "start_time": "2022-03-06T14:13:38.651Z"
   },
   {
    "duration": 61,
    "start_time": "2022-03-06T14:13:40.964Z"
   },
   {
    "duration": 299,
    "start_time": "2022-03-06T14:13:42.690Z"
   },
   {
    "duration": 222,
    "start_time": "2022-03-06T14:14:36.118Z"
   },
   {
    "duration": 59,
    "start_time": "2022-03-06T14:15:01.189Z"
   },
   {
    "duration": 270,
    "start_time": "2022-03-06T14:16:09.467Z"
   },
   {
    "duration": 114,
    "start_time": "2022-03-06T14:29:35.034Z"
   },
   {
    "duration": 299,
    "start_time": "2022-03-06T14:38:10.409Z"
   },
   {
    "duration": 62,
    "start_time": "2022-03-06T14:39:37.696Z"
   },
   {
    "duration": 57,
    "start_time": "2022-03-06T14:40:34.234Z"
   },
   {
    "duration": 55,
    "start_time": "2022-03-06T14:40:50.891Z"
   },
   {
    "duration": 286,
    "start_time": "2022-03-06T14:41:22.020Z"
   },
   {
    "duration": 287,
    "start_time": "2022-03-06T14:45:23.107Z"
   },
   {
    "duration": 343,
    "start_time": "2022-03-14T11:58:02.051Z"
   },
   {
    "duration": 796,
    "start_time": "2022-03-14T11:58:16.749Z"
   },
   {
    "duration": 63,
    "start_time": "2022-03-14T11:58:17.547Z"
   },
   {
    "duration": 42,
    "start_time": "2022-03-14T11:58:17.613Z"
   },
   {
    "duration": 29,
    "start_time": "2022-03-14T11:58:17.658Z"
   },
   {
    "duration": 43,
    "start_time": "2022-03-14T11:58:17.689Z"
   },
   {
    "duration": 16,
    "start_time": "2022-03-14T11:58:17.735Z"
   },
   {
    "duration": 162,
    "start_time": "2022-03-14T11:58:17.755Z"
   },
   {
    "duration": 19,
    "start_time": "2022-03-14T11:58:17.920Z"
   },
   {
    "duration": 70,
    "start_time": "2022-03-14T11:58:17.942Z"
   },
   {
    "duration": 6,
    "start_time": "2022-03-14T11:58:18.014Z"
   },
   {
    "duration": 20,
    "start_time": "2022-03-14T11:58:18.022Z"
   },
   {
    "duration": 17,
    "start_time": "2022-03-14T11:58:18.044Z"
   },
   {
    "duration": 30,
    "start_time": "2022-03-14T11:58:18.063Z"
   },
   {
    "duration": 14,
    "start_time": "2022-03-14T11:58:18.095Z"
   },
   {
    "duration": 11,
    "start_time": "2022-03-14T11:58:18.111Z"
   },
   {
    "duration": 24,
    "start_time": "2022-03-14T11:58:18.124Z"
   },
   {
    "duration": 181,
    "start_time": "2022-03-14T11:58:18.183Z"
   },
   {
    "duration": 76,
    "start_time": "2022-03-14T11:58:18.369Z"
   },
   {
    "duration": 57,
    "start_time": "2022-03-14T11:58:18.448Z"
   },
   {
    "duration": 12,
    "start_time": "2022-03-14T11:58:18.507Z"
   },
   {
    "duration": 12,
    "start_time": "2022-03-14T11:58:18.521Z"
   },
   {
    "duration": 63,
    "start_time": "2022-03-14T11:58:18.536Z"
   },
   {
    "duration": 5,
    "start_time": "2022-03-14T11:58:18.601Z"
   },
   {
    "duration": 27,
    "start_time": "2022-03-14T11:58:18.608Z"
   },
   {
    "duration": 51,
    "start_time": "2022-03-14T11:58:18.637Z"
   },
   {
    "duration": 19,
    "start_time": "2022-03-14T11:58:18.691Z"
   },
   {
    "duration": 12,
    "start_time": "2022-03-14T11:58:18.712Z"
   },
   {
    "duration": 116,
    "start_time": "2022-03-14T11:58:18.726Z"
   },
   {
    "duration": 498,
    "start_time": "2022-03-14T11:58:18.845Z"
   },
   {
    "duration": 88,
    "start_time": "2022-03-14T11:58:19.346Z"
   },
   {
    "duration": 442,
    "start_time": "2022-03-14T11:58:19.436Z"
   },
   {
    "duration": 78,
    "start_time": "2022-03-14T11:58:19.883Z"
   },
   {
    "duration": 450,
    "start_time": "2022-03-14T11:58:19.964Z"
   },
   {
    "duration": 131,
    "start_time": "2022-03-14T11:58:20.416Z"
   },
   {
    "duration": 435,
    "start_time": "2022-03-14T11:58:20.550Z"
   },
   {
    "duration": 72,
    "start_time": "2022-03-14T11:58:20.987Z"
   },
   {
    "duration": 442,
    "start_time": "2022-03-14T11:58:21.061Z"
   },
   {
    "duration": 44,
    "start_time": "2022-03-14T12:13:42.359Z"
   },
   {
    "duration": 79,
    "start_time": "2022-03-14T14:19:39.692Z"
   },
   {
    "duration": 139,
    "start_time": "2022-03-14T14:19:57.422Z"
   },
   {
    "duration": 378,
    "start_time": "2022-03-14T14:21:26.488Z"
   },
   {
    "duration": 3,
    "start_time": "2022-03-14T14:21:54.528Z"
   },
   {
    "duration": 62,
    "start_time": "2022-03-14T14:21:54.534Z"
   },
   {
    "duration": 54,
    "start_time": "2022-03-14T14:21:54.599Z"
   },
   {
    "duration": 13,
    "start_time": "2022-03-14T14:21:54.656Z"
   },
   {
    "duration": 36,
    "start_time": "2022-03-14T14:21:54.673Z"
   },
   {
    "duration": 52,
    "start_time": "2022-03-14T14:21:54.712Z"
   },
   {
    "duration": 160,
    "start_time": "2022-03-14T14:21:54.766Z"
   },
   {
    "duration": 70,
    "start_time": "2022-03-14T14:21:54.931Z"
   },
   {
    "duration": 7,
    "start_time": "2022-03-14T14:21:55.004Z"
   },
   {
    "duration": 40,
    "start_time": "2022-03-14T14:21:55.014Z"
   },
   {
    "duration": 14,
    "start_time": "2022-03-14T14:21:55.057Z"
   },
   {
    "duration": 14,
    "start_time": "2022-03-14T14:21:55.074Z"
   },
   {
    "duration": 16,
    "start_time": "2022-03-14T14:21:55.091Z"
   },
   {
    "duration": 53,
    "start_time": "2022-03-14T14:21:55.110Z"
   },
   {
    "duration": 23,
    "start_time": "2022-03-14T14:21:55.166Z"
   },
   {
    "duration": 221,
    "start_time": "2022-03-14T14:21:55.191Z"
   },
   {
    "duration": 87,
    "start_time": "2022-03-14T14:21:55.415Z"
   },
   {
    "duration": 59,
    "start_time": "2022-03-14T14:21:55.504Z"
   },
   {
    "duration": 12,
    "start_time": "2022-03-14T14:21:55.565Z"
   },
   {
    "duration": 17,
    "start_time": "2022-03-14T14:21:55.580Z"
   },
   {
    "duration": 72,
    "start_time": "2022-03-14T14:21:55.600Z"
   },
   {
    "duration": 7,
    "start_time": "2022-03-14T14:21:55.675Z"
   },
   {
    "duration": 30,
    "start_time": "2022-03-14T14:21:55.685Z"
   },
   {
    "duration": 50,
    "start_time": "2022-03-14T14:21:55.718Z"
   },
   {
    "duration": 26,
    "start_time": "2022-03-14T14:21:55.771Z"
   },
   {
    "duration": 16,
    "start_time": "2022-03-14T14:21:55.800Z"
   },
   {
    "duration": 116,
    "start_time": "2022-03-14T14:21:55.818Z"
   },
   {
    "duration": 449,
    "start_time": "2022-03-14T14:21:55.937Z"
   },
   {
    "duration": 97,
    "start_time": "2022-03-14T14:21:56.389Z"
   },
   {
    "duration": 469,
    "start_time": "2022-03-14T14:21:56.490Z"
   },
   {
    "duration": 115,
    "start_time": "2022-03-14T14:21:56.962Z"
   },
   {
    "duration": 581,
    "start_time": "2022-03-14T14:21:57.086Z"
   },
   {
    "duration": 121,
    "start_time": "2022-03-14T14:21:57.670Z"
   },
   {
    "duration": 443,
    "start_time": "2022-03-14T14:21:57.794Z"
   },
   {
    "duration": 83,
    "start_time": "2022-03-14T14:21:58.239Z"
   },
   {
    "duration": 450,
    "start_time": "2022-03-14T14:21:58.324Z"
   },
   {
    "duration": 10,
    "start_time": "2022-03-14T14:22:12.465Z"
   },
   {
    "duration": 367,
    "start_time": "2022-03-14T14:23:10.350Z"
   },
   {
    "duration": 18,
    "start_time": "2022-03-14T14:23:14.170Z"
   },
   {
    "duration": 10,
    "start_time": "2022-03-14T14:23:21.258Z"
   },
   {
    "duration": 12,
    "start_time": "2022-03-14T14:25:22.541Z"
   },
   {
    "duration": 13,
    "start_time": "2022-03-14T14:25:46.082Z"
   },
   {
    "duration": 11,
    "start_time": "2022-03-14T14:25:52.818Z"
   },
   {
    "duration": 365,
    "start_time": "2022-03-14T14:25:55.536Z"
   },
   {
    "duration": 10,
    "start_time": "2022-03-14T14:26:58.195Z"
   },
   {
    "duration": 10,
    "start_time": "2022-03-14T14:27:04.761Z"
   },
   {
    "duration": 10,
    "start_time": "2022-03-14T14:27:06.353Z"
   },
   {
    "duration": 774,
    "start_time": "2022-03-14T14:27:28.708Z"
   },
   {
    "duration": 58,
    "start_time": "2022-03-14T14:27:29.644Z"
   },
   {
    "duration": 43,
    "start_time": "2022-03-14T14:27:30.492Z"
   },
   {
    "duration": 11,
    "start_time": "2022-03-14T14:27:41.427Z"
   },
   {
    "duration": 12,
    "start_time": "2022-03-14T14:27:52.978Z"
   },
   {
    "duration": 12,
    "start_time": "2022-03-14T14:28:05.880Z"
   },
   {
    "duration": 11,
    "start_time": "2022-03-14T14:28:14.359Z"
   },
   {
    "duration": 11,
    "start_time": "2022-03-14T14:28:36.015Z"
   },
   {
    "duration": 13,
    "start_time": "2022-03-14T14:28:48.539Z"
   },
   {
    "duration": 10,
    "start_time": "2022-03-14T14:28:55.618Z"
   },
   {
    "duration": 18,
    "start_time": "2022-03-14T14:29:28.087Z"
   },
   {
    "duration": 101,
    "start_time": "2022-03-14T14:29:34.751Z"
   },
   {
    "duration": 121,
    "start_time": "2022-03-14T14:29:38.790Z"
   },
   {
    "duration": 15,
    "start_time": "2022-03-14T14:29:43.308Z"
   },
   {
    "duration": 12,
    "start_time": "2022-03-14T14:30:29.697Z"
   },
   {
    "duration": 33,
    "start_time": "2022-03-14T14:33:45.490Z"
   },
   {
    "duration": 17,
    "start_time": "2022-03-14T14:33:48.513Z"
   },
   {
    "duration": 129,
    "start_time": "2022-03-14T14:33:49.985Z"
   },
   {
    "duration": 143,
    "start_time": "2022-03-14T14:34:05.040Z"
   },
   {
    "duration": 186,
    "start_time": "2022-03-14T14:34:11.433Z"
   },
   {
    "duration": 153,
    "start_time": "2022-03-14T14:34:21.286Z"
   },
   {
    "duration": 141,
    "start_time": "2022-03-14T14:35:19.793Z"
   },
   {
    "duration": 47,
    "start_time": "2022-03-14T14:35:30.673Z"
   },
   {
    "duration": 6,
    "start_time": "2022-03-14T14:35:32.855Z"
   },
   {
    "duration": 10,
    "start_time": "2022-03-14T14:35:34.493Z"
   },
   {
    "duration": 15,
    "start_time": "2022-03-14T14:35:38.628Z"
   },
   {
    "duration": 14,
    "start_time": "2022-03-14T14:35:45.893Z"
   },
   {
    "duration": 17,
    "start_time": "2022-03-14T14:37:38.921Z"
   },
   {
    "duration": 11,
    "start_time": "2022-03-14T14:37:43.895Z"
   },
   {
    "duration": 24,
    "start_time": "2022-03-14T14:40:47.677Z"
   },
   {
    "duration": 320,
    "start_time": "2022-03-14T14:40:57.971Z"
   },
   {
    "duration": 104,
    "start_time": "2022-03-14T14:41:00.332Z"
   },
   {
    "duration": 46,
    "start_time": "2022-03-14T14:41:03.906Z"
   },
   {
    "duration": 12,
    "start_time": "2022-03-14T14:41:44.542Z"
   },
   {
    "duration": 13,
    "start_time": "2022-03-14T14:41:46.262Z"
   },
   {
    "duration": 29,
    "start_time": "2022-03-14T14:42:18.348Z"
   },
   {
    "duration": 6,
    "start_time": "2022-03-14T14:42:47.422Z"
   },
   {
    "duration": 24,
    "start_time": "2022-03-14T14:43:02.996Z"
   },
   {
    "duration": 23,
    "start_time": "2022-03-14T14:43:06.740Z"
   },
   {
    "duration": 19,
    "start_time": "2022-03-14T14:43:11.203Z"
   },
   {
    "duration": 14,
    "start_time": "2022-03-14T14:43:14.051Z"
   },
   {
    "duration": 76,
    "start_time": "2022-03-14T14:43:18.820Z"
   },
   {
    "duration": 526,
    "start_time": "2022-03-14T14:43:32.297Z"
   },
   {
    "duration": 76,
    "start_time": "2022-03-14T14:43:58.272Z"
   },
   {
    "duration": 608,
    "start_time": "2022-03-14T14:44:04.169Z"
   },
   {
    "duration": 76,
    "start_time": "2022-03-14T14:44:08.302Z"
   },
   {
    "duration": 465,
    "start_time": "2022-03-14T14:44:10.853Z"
   },
   {
    "duration": 121,
    "start_time": "2022-03-14T14:44:14.021Z"
   },
   {
    "duration": 461,
    "start_time": "2022-03-14T14:44:16.324Z"
   },
   {
    "duration": 74,
    "start_time": "2022-03-14T14:44:19.725Z"
   },
   {
    "duration": 476,
    "start_time": "2022-03-14T14:44:24.643Z"
   }
  ],
  "kernelspec": {
   "display_name": "Python 3 (ipykernel)",
   "language": "python",
   "name": "python3"
  },
  "language_info": {
   "codemirror_mode": {
    "name": "ipython",
    "version": 3
   },
   "file_extension": ".py",
   "mimetype": "text/x-python",
   "name": "python",
   "nbconvert_exporter": "python",
   "pygments_lexer": "ipython3",
   "version": "3.10.4"
  },
  "toc": {
   "base_numbering": 1,
   "nav_menu": {},
   "number_sections": true,
   "sideBar": true,
   "skip_h1_title": true,
   "title_cell": "Table of Contents",
   "title_sidebar": "Contents",
   "toc_cell": false,
   "toc_position": {},
   "toc_section_display": true,
   "toc_window_display": false
  }
 },
 "nbformat": 4,
 "nbformat_minor": 5
}
