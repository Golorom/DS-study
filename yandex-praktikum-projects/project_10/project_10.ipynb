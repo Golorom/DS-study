{
 "cells": [
  {
   "cell_type": "markdown",
   "metadata": {},
   "source": [
    "# Определение стоимости автомобилей"
   ]
  },
  {
   "cell_type": "markdown",
   "metadata": {},
   "source": [
    "Сервис по продаже автомобилей с пробегом «Не бит, не крашен» разрабатывает приложение для привлечения новых клиентов. В нём можно быстро узнать рыночную стоимость своего автомобиля. \n",
    "\n",
    "**Цель проекта**\n",
    "\n",
    "Вам нужно построить модель для определения стоимости. В вашем распоряжении исторические данные: технические характеристики, комплектации и цены автомобилей. \n",
    "\n",
    "Заказчику важны:\n",
    "\n",
    "- качество предсказания;\n",
    "- скорость предсказания;\n",
    "- время обучения."
   ]
  },
  {
   "cell_type": "markdown",
   "metadata": {},
   "source": [
    "**Описание данных**\n",
    "\n",
    "`/datasets/autos.csv`\n",
    "\n",
    "Признаки:\n",
    "- 'DateCrawled' — дата скачивания анкеты из базы\n",
    "- 'VehicleType' — тип автомобильного кузова\n",
    "- 'RegistrationYear' — год регистрации автомобиля\n",
    "- 'Gearbox' — тип коробки передач\n",
    "- 'Power' — мощность (л. с.)\n",
    "- 'Model' — модель автомобиля\n",
    "- 'Kilometer' — пробег (км)\n",
    "- 'RegistrationMonth' — месяц регистрации автомобиля\n",
    "- 'FuelType' — тип топлива\n",
    "- 'Brand' — марка автомобиля\n",
    "- 'NotRepaired' — была машина в ремонте или нет\n",
    "- 'DateCreated' — дата создания анкеты\n",
    "- 'NumberOfPictures' — количество фотографий автомобиля\n",
    "- 'PostalCode' — почтовый индекс владельца анкеты (пользователя)\n",
    "- 'LastSeen' — дата последней активности пользователя\n",
    "\n",
    "Целевой признак:\n",
    "- 'Price' — цена (евро)"
   ]
  },
  {
   "cell_type": "code",
   "execution_count": 1,
   "metadata": {},
   "outputs": [],
   "source": [
    "# импорт библиотек\n",
    "\n",
    "import pandas as pd\n",
    "\n",
    "import numpy as np\n",
    "\n",
    "import matplotlib.pyplot as plt\n",
    "import seaborn as sns\n",
    "\n",
    "from sklearn.model_selection import train_test_split\n",
    "\n",
    "from sklearn.preprocessing import StandardScaler\n",
    "from sklearn.preprocessing import OrdinalEncoder\n",
    "\n",
    "from sklearn.metrics import mean_squared_error\n",
    "\n",
    "from sklearn.linear_model import LinearRegression\n",
    "from sklearn.tree import DecisionTreeRegressor\n",
    "from catboost import CatBoostRegressor\n",
    "from lightgbm import LGBMRegressor\n",
    "\n",
    "from sklearn.model_selection import GridSearchCV\n",
    "from sklearn.model_selection import cross_val_score"
   ]
  },
  {
   "cell_type": "code",
   "execution_count": 2,
   "metadata": {},
   "outputs": [],
   "source": [
    "# отключу предупреждения\n",
    "import warnings\n",
    "warnings.filterwarnings('ignore')"
   ]
  },
  {
   "cell_type": "markdown",
   "metadata": {},
   "source": [
    "`Примечания:`\n",
    "- `Для оценки качества моделей применяйте метрику RMSE.`\n",
    "- `Значение метрики RMSE должно быть меньше 2500.`\n",
    "- `Самостоятельно освойте библиотеку LightGBM и её средствами постройте модели градиентного бустинга.`\n",
    "- `Время выполнения ячейки кода Jupyter Notebook можно получить специальной командой. Найдите её.`\n",
    "- `Модель градиентного бустинга может долго обучаться, поэтому измените у неё только два-три параметра.`\n",
    "- `Если перестанет работать Jupyter Notebook, удалите лишние переменные оператором del.`"
   ]
  },
  {
   "cell_type": "markdown",
   "metadata": {},
   "source": [
    "## Подготовка данных"
   ]
  },
  {
   "cell_type": "markdown",
   "metadata": {},
   "source": [
    "### Обзор данных"
   ]
  },
  {
   "cell_type": "code",
   "execution_count": 3,
   "metadata": {},
   "outputs": [],
   "source": [
    "#прочитаю датасет и ознакомлюсь с данными\n",
    "try:\n",
    "    data = pd.read_csv('datasets/autos.csv')\n",
    "except:\n",
    "    data = pd.read_csv('/datasets/autos.csv')"
   ]
  },
  {
   "cell_type": "code",
   "execution_count": 4,
   "metadata": {},
   "outputs": [
    {
     "name": "stdout",
     "output_type": "stream",
     "text": [
      "<class 'pandas.core.frame.DataFrame'>\n",
      "RangeIndex: 354369 entries, 0 to 354368\n",
      "Data columns (total 16 columns):\n",
      " #   Column             Non-Null Count   Dtype \n",
      "---  ------             --------------   ----- \n",
      " 0   DateCrawled        354369 non-null  object\n",
      " 1   Price              354369 non-null  int64 \n",
      " 2   VehicleType        316879 non-null  object\n",
      " 3   RegistrationYear   354369 non-null  int64 \n",
      " 4   Gearbox            334536 non-null  object\n",
      " 5   Power              354369 non-null  int64 \n",
      " 6   Model              334664 non-null  object\n",
      " 7   Kilometer          354369 non-null  int64 \n",
      " 8   RegistrationMonth  354369 non-null  int64 \n",
      " 9   FuelType           321474 non-null  object\n",
      " 10  Brand              354369 non-null  object\n",
      " 11  NotRepaired        283215 non-null  object\n",
      " 12  DateCreated        354369 non-null  object\n",
      " 13  NumberOfPictures   354369 non-null  int64 \n",
      " 14  PostalCode         354369 non-null  int64 \n",
      " 15  LastSeen           354369 non-null  object\n",
      "dtypes: int64(7), object(9)\n",
      "memory usage: 43.3+ MB\n"
     ]
    },
    {
     "data": {
      "text/html": [
       "<div>\n",
       "<style scoped>\n",
       "    .dataframe tbody tr th:only-of-type {\n",
       "        vertical-align: middle;\n",
       "    }\n",
       "\n",
       "    .dataframe tbody tr th {\n",
       "        vertical-align: top;\n",
       "    }\n",
       "\n",
       "    .dataframe thead th {\n",
       "        text-align: right;\n",
       "    }\n",
       "</style>\n",
       "<table border=\"1\" class=\"dataframe\">\n",
       "  <thead>\n",
       "    <tr style=\"text-align: right;\">\n",
       "      <th></th>\n",
       "      <th>DateCrawled</th>\n",
       "      <th>Price</th>\n",
       "      <th>VehicleType</th>\n",
       "      <th>RegistrationYear</th>\n",
       "      <th>Gearbox</th>\n",
       "      <th>Power</th>\n",
       "      <th>Model</th>\n",
       "      <th>Kilometer</th>\n",
       "      <th>RegistrationMonth</th>\n",
       "      <th>FuelType</th>\n",
       "      <th>Brand</th>\n",
       "      <th>NotRepaired</th>\n",
       "      <th>DateCreated</th>\n",
       "      <th>NumberOfPictures</th>\n",
       "      <th>PostalCode</th>\n",
       "      <th>LastSeen</th>\n",
       "    </tr>\n",
       "  </thead>\n",
       "  <tbody>\n",
       "    <tr>\n",
       "      <th>241148</th>\n",
       "      <td>2016-03-11 15:51:57</td>\n",
       "      <td>1200</td>\n",
       "      <td>wagon</td>\n",
       "      <td>1999</td>\n",
       "      <td>NaN</td>\n",
       "      <td>0</td>\n",
       "      <td>a4</td>\n",
       "      <td>150000</td>\n",
       "      <td>4</td>\n",
       "      <td>NaN</td>\n",
       "      <td>audi</td>\n",
       "      <td>no</td>\n",
       "      <td>2016-03-11 00:00:00</td>\n",
       "      <td>0</td>\n",
       "      <td>85540</td>\n",
       "      <td>2016-03-21 02:44:41</td>\n",
       "    </tr>\n",
       "    <tr>\n",
       "      <th>329447</th>\n",
       "      <td>2016-03-15 16:48:46</td>\n",
       "      <td>2900</td>\n",
       "      <td>wagon</td>\n",
       "      <td>2002</td>\n",
       "      <td>manual</td>\n",
       "      <td>163</td>\n",
       "      <td>a6</td>\n",
       "      <td>150000</td>\n",
       "      <td>11</td>\n",
       "      <td>gasoline</td>\n",
       "      <td>audi</td>\n",
       "      <td>no</td>\n",
       "      <td>2016-03-15 00:00:00</td>\n",
       "      <td>0</td>\n",
       "      <td>36088</td>\n",
       "      <td>2016-04-06 12:17:19</td>\n",
       "    </tr>\n",
       "    <tr>\n",
       "      <th>164506</th>\n",
       "      <td>2016-03-30 20:36:56</td>\n",
       "      <td>999</td>\n",
       "      <td>NaN</td>\n",
       "      <td>2016</td>\n",
       "      <td>manual</td>\n",
       "      <td>0</td>\n",
       "      <td>NaN</td>\n",
       "      <td>150000</td>\n",
       "      <td>0</td>\n",
       "      <td>NaN</td>\n",
       "      <td>fiat</td>\n",
       "      <td>yes</td>\n",
       "      <td>2016-03-30 00:00:00</td>\n",
       "      <td>0</td>\n",
       "      <td>66440</td>\n",
       "      <td>2016-03-30 20:36:56</td>\n",
       "    </tr>\n",
       "    <tr>\n",
       "      <th>90313</th>\n",
       "      <td>2016-03-08 17:56:49</td>\n",
       "      <td>4400</td>\n",
       "      <td>sedan</td>\n",
       "      <td>2006</td>\n",
       "      <td>auto</td>\n",
       "      <td>83</td>\n",
       "      <td>jazz</td>\n",
       "      <td>125000</td>\n",
       "      <td>6</td>\n",
       "      <td>petrol</td>\n",
       "      <td>honda</td>\n",
       "      <td>no</td>\n",
       "      <td>2016-03-08 00:00:00</td>\n",
       "      <td>0</td>\n",
       "      <td>14974</td>\n",
       "      <td>2016-03-09 17:45:03</td>\n",
       "    </tr>\n",
       "    <tr>\n",
       "      <th>169581</th>\n",
       "      <td>2016-04-03 16:49:58</td>\n",
       "      <td>11000</td>\n",
       "      <td>coupe</td>\n",
       "      <td>2009</td>\n",
       "      <td>auto</td>\n",
       "      <td>160</td>\n",
       "      <td>scirocco</td>\n",
       "      <td>125000</td>\n",
       "      <td>11</td>\n",
       "      <td>petrol</td>\n",
       "      <td>volkswagen</td>\n",
       "      <td>no</td>\n",
       "      <td>2016-04-03 00:00:00</td>\n",
       "      <td>0</td>\n",
       "      <td>6406</td>\n",
       "      <td>2016-04-05 16:46:00</td>\n",
       "    </tr>\n",
       "  </tbody>\n",
       "</table>\n",
       "</div>"
      ],
      "text/plain": [
       "                DateCrawled  Price VehicleType  RegistrationYear Gearbox  \\\n",
       "241148  2016-03-11 15:51:57   1200       wagon              1999     NaN   \n",
       "329447  2016-03-15 16:48:46   2900       wagon              2002  manual   \n",
       "164506  2016-03-30 20:36:56    999         NaN              2016  manual   \n",
       "90313   2016-03-08 17:56:49   4400       sedan              2006    auto   \n",
       "169581  2016-04-03 16:49:58  11000       coupe              2009    auto   \n",
       "\n",
       "        Power     Model  Kilometer  RegistrationMonth  FuelType       Brand  \\\n",
       "241148      0        a4     150000                  4       NaN        audi   \n",
       "329447    163        a6     150000                 11  gasoline        audi   \n",
       "164506      0       NaN     150000                  0       NaN        fiat   \n",
       "90313      83      jazz     125000                  6    petrol       honda   \n",
       "169581    160  scirocco     125000                 11    petrol  volkswagen   \n",
       "\n",
       "       NotRepaired          DateCreated  NumberOfPictures  PostalCode  \\\n",
       "241148          no  2016-03-11 00:00:00                 0       85540   \n",
       "329447          no  2016-03-15 00:00:00                 0       36088   \n",
       "164506         yes  2016-03-30 00:00:00                 0       66440   \n",
       "90313           no  2016-03-08 00:00:00                 0       14974   \n",
       "169581          no  2016-04-03 00:00:00                 0        6406   \n",
       "\n",
       "                   LastSeen  \n",
       "241148  2016-03-21 02:44:41  \n",
       "329447  2016-04-06 12:17:19  \n",
       "164506  2016-03-30 20:36:56  \n",
       "90313   2016-03-09 17:45:03  \n",
       "169581  2016-04-05 16:46:00  "
      ]
     },
     "metadata": {},
     "output_type": "display_data"
    },
    {
     "data": {
      "text/plain": [
       "Index(['DateCrawled', 'Price', 'VehicleType', 'RegistrationYear', 'Gearbox',\n",
       "       'Power', 'Model', 'Kilometer', 'RegistrationMonth', 'FuelType', 'Brand',\n",
       "       'NotRepaired', 'DateCreated', 'NumberOfPictures', 'PostalCode',\n",
       "       'LastSeen'],\n",
       "      dtype='object')"
      ]
     },
     "metadata": {},
     "output_type": "display_data"
    },
    {
     "data": {
      "text/html": [
       "<div>\n",
       "<style scoped>\n",
       "    .dataframe tbody tr th:only-of-type {\n",
       "        vertical-align: middle;\n",
       "    }\n",
       "\n",
       "    .dataframe tbody tr th {\n",
       "        vertical-align: top;\n",
       "    }\n",
       "\n",
       "    .dataframe thead th {\n",
       "        text-align: right;\n",
       "    }\n",
       "</style>\n",
       "<table border=\"1\" class=\"dataframe\">\n",
       "  <thead>\n",
       "    <tr style=\"text-align: right;\">\n",
       "      <th></th>\n",
       "      <th>count</th>\n",
       "      <th>mean</th>\n",
       "      <th>std</th>\n",
       "      <th>min</th>\n",
       "      <th>25%</th>\n",
       "      <th>50%</th>\n",
       "      <th>75%</th>\n",
       "      <th>max</th>\n",
       "    </tr>\n",
       "  </thead>\n",
       "  <tbody>\n",
       "    <tr>\n",
       "      <th>Price</th>\n",
       "      <td>354369.0</td>\n",
       "      <td>4416.656776</td>\n",
       "      <td>4514.158514</td>\n",
       "      <td>0.0</td>\n",
       "      <td>1050.0</td>\n",
       "      <td>2700.0</td>\n",
       "      <td>6400.0</td>\n",
       "      <td>20000.0</td>\n",
       "    </tr>\n",
       "    <tr>\n",
       "      <th>RegistrationYear</th>\n",
       "      <td>354369.0</td>\n",
       "      <td>2004.234448</td>\n",
       "      <td>90.227958</td>\n",
       "      <td>1000.0</td>\n",
       "      <td>1999.0</td>\n",
       "      <td>2003.0</td>\n",
       "      <td>2008.0</td>\n",
       "      <td>9999.0</td>\n",
       "    </tr>\n",
       "    <tr>\n",
       "      <th>Power</th>\n",
       "      <td>354369.0</td>\n",
       "      <td>110.094337</td>\n",
       "      <td>189.850405</td>\n",
       "      <td>0.0</td>\n",
       "      <td>69.0</td>\n",
       "      <td>105.0</td>\n",
       "      <td>143.0</td>\n",
       "      <td>20000.0</td>\n",
       "    </tr>\n",
       "    <tr>\n",
       "      <th>Kilometer</th>\n",
       "      <td>354369.0</td>\n",
       "      <td>128211.172535</td>\n",
       "      <td>37905.341530</td>\n",
       "      <td>5000.0</td>\n",
       "      <td>125000.0</td>\n",
       "      <td>150000.0</td>\n",
       "      <td>150000.0</td>\n",
       "      <td>150000.0</td>\n",
       "    </tr>\n",
       "    <tr>\n",
       "      <th>RegistrationMonth</th>\n",
       "      <td>354369.0</td>\n",
       "      <td>5.714645</td>\n",
       "      <td>3.726421</td>\n",
       "      <td>0.0</td>\n",
       "      <td>3.0</td>\n",
       "      <td>6.0</td>\n",
       "      <td>9.0</td>\n",
       "      <td>12.0</td>\n",
       "    </tr>\n",
       "    <tr>\n",
       "      <th>NumberOfPictures</th>\n",
       "      <td>354369.0</td>\n",
       "      <td>0.000000</td>\n",
       "      <td>0.000000</td>\n",
       "      <td>0.0</td>\n",
       "      <td>0.0</td>\n",
       "      <td>0.0</td>\n",
       "      <td>0.0</td>\n",
       "      <td>0.0</td>\n",
       "    </tr>\n",
       "    <tr>\n",
       "      <th>PostalCode</th>\n",
       "      <td>354369.0</td>\n",
       "      <td>50508.689087</td>\n",
       "      <td>25783.096248</td>\n",
       "      <td>1067.0</td>\n",
       "      <td>30165.0</td>\n",
       "      <td>49413.0</td>\n",
       "      <td>71083.0</td>\n",
       "      <td>99998.0</td>\n",
       "    </tr>\n",
       "  </tbody>\n",
       "</table>\n",
       "</div>"
      ],
      "text/plain": [
       "                      count           mean           std     min       25%  \\\n",
       "Price              354369.0    4416.656776   4514.158514     0.0    1050.0   \n",
       "RegistrationYear   354369.0    2004.234448     90.227958  1000.0    1999.0   \n",
       "Power              354369.0     110.094337    189.850405     0.0      69.0   \n",
       "Kilometer          354369.0  128211.172535  37905.341530  5000.0  125000.0   \n",
       "RegistrationMonth  354369.0       5.714645      3.726421     0.0       3.0   \n",
       "NumberOfPictures   354369.0       0.000000      0.000000     0.0       0.0   \n",
       "PostalCode         354369.0   50508.689087  25783.096248  1067.0   30165.0   \n",
       "\n",
       "                        50%       75%       max  \n",
       "Price                2700.0    6400.0   20000.0  \n",
       "RegistrationYear     2003.0    2008.0    9999.0  \n",
       "Power                 105.0     143.0   20000.0  \n",
       "Kilometer          150000.0  150000.0  150000.0  \n",
       "RegistrationMonth       6.0       9.0      12.0  \n",
       "NumberOfPictures        0.0       0.0       0.0  \n",
       "PostalCode          49413.0   71083.0   99998.0  "
      ]
     },
     "execution_count": 4,
     "metadata": {},
     "output_type": "execute_result"
    }
   ],
   "source": [
    "# получаю общую сводку\n",
    "data.info()\n",
    "\n",
    "# проверю на корректный вывод\n",
    "display(data.sample(5))\n",
    "\n",
    "# проверяю имена колонок на пробелы\n",
    "display(data.columns)\n",
    "\n",
    "# сводка по численным данным\n",
    "data.describe().T"
   ]
  },
  {
   "cell_type": "code",
   "execution_count": 5,
   "metadata": {},
   "outputs": [
    {
     "data": {
      "text/plain": [
       "('Количество явных дубликатов:', 4)"
      ]
     },
     "execution_count": 5,
     "metadata": {},
     "output_type": "execute_result"
    }
   ],
   "source": [
    "# проверю на явные дубликаты\n",
    "'Количество явных дубликатов:', data.duplicated().sum()"
   ]
  },
  {
   "cell_type": "code",
   "execution_count": 6,
   "metadata": {},
   "outputs": [
    {
     "data": {
      "text/plain": [
       "('Всего пропусков:',\n",
       " DateCrawled              0\n",
       " Price                    0\n",
       " VehicleType          37490\n",
       " RegistrationYear         0\n",
       " Gearbox              19833\n",
       " Power                    0\n",
       " Model                19705\n",
       " Kilometer                0\n",
       " RegistrationMonth        0\n",
       " FuelType             32895\n",
       " Brand                    0\n",
       " NotRepaired          71154\n",
       " DateCreated              0\n",
       " NumberOfPictures         0\n",
       " PostalCode               0\n",
       " LastSeen                 0\n",
       " dtype: int64)"
      ]
     },
     "execution_count": 6,
     "metadata": {},
     "output_type": "execute_result"
    }
   ],
   "source": [
    "'Всего пропусков:', data.isna().sum()"
   ]
  },
  {
   "cell_type": "code",
   "execution_count": 7,
   "metadata": {
    "scrolled": true
   },
   "outputs": [
    {
     "data": {
      "text/plain": [
       "('Доля пропусков от общего количества строк:',\n",
       " DateCrawled          0.000000\n",
       " Price                0.000000\n",
       " VehicleType          0.105794\n",
       " RegistrationYear     0.000000\n",
       " Gearbox              0.055967\n",
       " Power                0.000000\n",
       " Model                0.055606\n",
       " Kilometer            0.000000\n",
       " RegistrationMonth    0.000000\n",
       " FuelType             0.092827\n",
       " Brand                0.000000\n",
       " NotRepaired          0.200791\n",
       " DateCreated          0.000000\n",
       " NumberOfPictures     0.000000\n",
       " PostalCode           0.000000\n",
       " LastSeen             0.000000\n",
       " dtype: float64)"
      ]
     },
     "execution_count": 7,
     "metadata": {},
     "output_type": "execute_result"
    }
   ],
   "source": [
    "'Доля пропусков от общего количества строк:', data.isna().mean()"
   ]
  },
  {
   "cell_type": "code",
   "execution_count": 8,
   "metadata": {
    "scrolled": true
   },
   "outputs": [
    {
     "data": {
      "text/html": [
       "<div>\n",
       "<style scoped>\n",
       "    .dataframe tbody tr th:only-of-type {\n",
       "        vertical-align: middle;\n",
       "    }\n",
       "\n",
       "    .dataframe tbody tr th {\n",
       "        vertical-align: top;\n",
       "    }\n",
       "\n",
       "    .dataframe thead th {\n",
       "        text-align: right;\n",
       "    }\n",
       "</style>\n",
       "<table border=\"1\" class=\"dataframe\">\n",
       "  <thead>\n",
       "    <tr style=\"text-align: right;\">\n",
       "      <th></th>\n",
       "      <th>Price</th>\n",
       "      <th>RegistrationYear</th>\n",
       "      <th>Power</th>\n",
       "      <th>Kilometer</th>\n",
       "      <th>RegistrationMonth</th>\n",
       "      <th>NumberOfPictures</th>\n",
       "      <th>PostalCode</th>\n",
       "    </tr>\n",
       "  </thead>\n",
       "  <tbody>\n",
       "    <tr>\n",
       "      <th>Price</th>\n",
       "      <td>1.000000</td>\n",
       "      <td>0.026916</td>\n",
       "      <td>0.158872</td>\n",
       "      <td>0.333199</td>\n",
       "      <td>0.110581</td>\n",
       "      <td>NaN</td>\n",
       "      <td>0.076055</td>\n",
       "    </tr>\n",
       "    <tr>\n",
       "      <th>RegistrationYear</th>\n",
       "      <td>0.026916</td>\n",
       "      <td>1.000000</td>\n",
       "      <td>0.000828</td>\n",
       "      <td>0.053447</td>\n",
       "      <td>0.011619</td>\n",
       "      <td>NaN</td>\n",
       "      <td>0.003459</td>\n",
       "    </tr>\n",
       "    <tr>\n",
       "      <th>Power</th>\n",
       "      <td>0.158872</td>\n",
       "      <td>0.000828</td>\n",
       "      <td>1.000000</td>\n",
       "      <td>0.024002</td>\n",
       "      <td>0.043380</td>\n",
       "      <td>NaN</td>\n",
       "      <td>0.021665</td>\n",
       "    </tr>\n",
       "    <tr>\n",
       "      <th>Kilometer</th>\n",
       "      <td>0.333199</td>\n",
       "      <td>0.053447</td>\n",
       "      <td>0.024002</td>\n",
       "      <td>1.000000</td>\n",
       "      <td>0.009571</td>\n",
       "      <td>NaN</td>\n",
       "      <td>0.007698</td>\n",
       "    </tr>\n",
       "    <tr>\n",
       "      <th>RegistrationMonth</th>\n",
       "      <td>0.110581</td>\n",
       "      <td>0.011619</td>\n",
       "      <td>0.043380</td>\n",
       "      <td>0.009571</td>\n",
       "      <td>1.000000</td>\n",
       "      <td>NaN</td>\n",
       "      <td>0.013995</td>\n",
       "    </tr>\n",
       "    <tr>\n",
       "      <th>NumberOfPictures</th>\n",
       "      <td>NaN</td>\n",
       "      <td>NaN</td>\n",
       "      <td>NaN</td>\n",
       "      <td>NaN</td>\n",
       "      <td>NaN</td>\n",
       "      <td>NaN</td>\n",
       "      <td>NaN</td>\n",
       "    </tr>\n",
       "    <tr>\n",
       "      <th>PostalCode</th>\n",
       "      <td>0.076055</td>\n",
       "      <td>0.003459</td>\n",
       "      <td>0.021665</td>\n",
       "      <td>0.007698</td>\n",
       "      <td>0.013995</td>\n",
       "      <td>NaN</td>\n",
       "      <td>1.000000</td>\n",
       "    </tr>\n",
       "  </tbody>\n",
       "</table>\n",
       "</div>"
      ],
      "text/plain": [
       "                      Price  RegistrationYear     Power  Kilometer  \\\n",
       "Price              1.000000          0.026916  0.158872   0.333199   \n",
       "RegistrationYear   0.026916          1.000000  0.000828   0.053447   \n",
       "Power              0.158872          0.000828  1.000000   0.024002   \n",
       "Kilometer          0.333199          0.053447  0.024002   1.000000   \n",
       "RegistrationMonth  0.110581          0.011619  0.043380   0.009571   \n",
       "NumberOfPictures        NaN               NaN       NaN        NaN   \n",
       "PostalCode         0.076055          0.003459  0.021665   0.007698   \n",
       "\n",
       "                   RegistrationMonth  NumberOfPictures  PostalCode  \n",
       "Price                       0.110581               NaN    0.076055  \n",
       "RegistrationYear            0.011619               NaN    0.003459  \n",
       "Power                       0.043380               NaN    0.021665  \n",
       "Kilometer                   0.009571               NaN    0.007698  \n",
       "RegistrationMonth           1.000000               NaN    0.013995  \n",
       "NumberOfPictures                 NaN               NaN         NaN  \n",
       "PostalCode                  0.013995               NaN    1.000000  "
      ]
     },
     "execution_count": 8,
     "metadata": {},
     "output_type": "execute_result"
    }
   ],
   "source": [
    "# получу матрицу корреляции численных признаков\n",
    "data_corr_matrix = data.corr().abs()\n",
    "data_corr_matrix"
   ]
  },
  {
   "cell_type": "code",
   "execution_count": 9,
   "metadata": {},
   "outputs": [
    {
     "data": {
      "text/html": [
       "<div>\n",
       "<style scoped>\n",
       "    .dataframe tbody tr th:only-of-type {\n",
       "        vertical-align: middle;\n",
       "    }\n",
       "\n",
       "    .dataframe tbody tr th {\n",
       "        vertical-align: top;\n",
       "    }\n",
       "\n",
       "    .dataframe thead th {\n",
       "        text-align: right;\n",
       "    }\n",
       "</style>\n",
       "<table border=\"1\" class=\"dataframe\">\n",
       "  <thead>\n",
       "    <tr style=\"text-align: right;\">\n",
       "      <th></th>\n",
       "      <th>Price</th>\n",
       "      <th>RegistrationYear</th>\n",
       "      <th>Power</th>\n",
       "      <th>Kilometer</th>\n",
       "      <th>RegistrationMonth</th>\n",
       "      <th>NumberOfPictures</th>\n",
       "      <th>PostalCode</th>\n",
       "    </tr>\n",
       "  </thead>\n",
       "  <tbody>\n",
       "    <tr>\n",
       "      <th>Price</th>\n",
       "      <td>NaN</td>\n",
       "      <td>0.026916</td>\n",
       "      <td>0.158872</td>\n",
       "      <td>0.333199</td>\n",
       "      <td>0.110581</td>\n",
       "      <td>NaN</td>\n",
       "      <td>0.076055</td>\n",
       "    </tr>\n",
       "    <tr>\n",
       "      <th>RegistrationYear</th>\n",
       "      <td>NaN</td>\n",
       "      <td>NaN</td>\n",
       "      <td>0.000828</td>\n",
       "      <td>0.053447</td>\n",
       "      <td>0.011619</td>\n",
       "      <td>NaN</td>\n",
       "      <td>0.003459</td>\n",
       "    </tr>\n",
       "    <tr>\n",
       "      <th>Power</th>\n",
       "      <td>NaN</td>\n",
       "      <td>NaN</td>\n",
       "      <td>NaN</td>\n",
       "      <td>0.024002</td>\n",
       "      <td>0.043380</td>\n",
       "      <td>NaN</td>\n",
       "      <td>0.021665</td>\n",
       "    </tr>\n",
       "    <tr>\n",
       "      <th>Kilometer</th>\n",
       "      <td>NaN</td>\n",
       "      <td>NaN</td>\n",
       "      <td>NaN</td>\n",
       "      <td>NaN</td>\n",
       "      <td>0.009571</td>\n",
       "      <td>NaN</td>\n",
       "      <td>0.007698</td>\n",
       "    </tr>\n",
       "    <tr>\n",
       "      <th>RegistrationMonth</th>\n",
       "      <td>NaN</td>\n",
       "      <td>NaN</td>\n",
       "      <td>NaN</td>\n",
       "      <td>NaN</td>\n",
       "      <td>NaN</td>\n",
       "      <td>NaN</td>\n",
       "      <td>0.013995</td>\n",
       "    </tr>\n",
       "    <tr>\n",
       "      <th>NumberOfPictures</th>\n",
       "      <td>NaN</td>\n",
       "      <td>NaN</td>\n",
       "      <td>NaN</td>\n",
       "      <td>NaN</td>\n",
       "      <td>NaN</td>\n",
       "      <td>NaN</td>\n",
       "      <td>NaN</td>\n",
       "    </tr>\n",
       "    <tr>\n",
       "      <th>PostalCode</th>\n",
       "      <td>NaN</td>\n",
       "      <td>NaN</td>\n",
       "      <td>NaN</td>\n",
       "      <td>NaN</td>\n",
       "      <td>NaN</td>\n",
       "      <td>NaN</td>\n",
       "      <td>NaN</td>\n",
       "    </tr>\n",
       "  </tbody>\n",
       "</table>\n",
       "</div>"
      ],
      "text/plain": [
       "                   Price  RegistrationYear     Power  Kilometer  \\\n",
       "Price                NaN          0.026916  0.158872   0.333199   \n",
       "RegistrationYear     NaN               NaN  0.000828   0.053447   \n",
       "Power                NaN               NaN       NaN   0.024002   \n",
       "Kilometer            NaN               NaN       NaN        NaN   \n",
       "RegistrationMonth    NaN               NaN       NaN        NaN   \n",
       "NumberOfPictures     NaN               NaN       NaN        NaN   \n",
       "PostalCode           NaN               NaN       NaN        NaN   \n",
       "\n",
       "                   RegistrationMonth  NumberOfPictures  PostalCode  \n",
       "Price                       0.110581               NaN    0.076055  \n",
       "RegistrationYear            0.011619               NaN    0.003459  \n",
       "Power                       0.043380               NaN    0.021665  \n",
       "Kilometer                   0.009571               NaN    0.007698  \n",
       "RegistrationMonth                NaN               NaN    0.013995  \n",
       "NumberOfPictures                 NaN               NaN         NaN  \n",
       "PostalCode                       NaN               NaN         NaN  "
      ]
     },
     "execution_count": 9,
     "metadata": {},
     "output_type": "execute_result"
    }
   ],
   "source": [
    "# избавлюсь от дублирующего треугольника\n",
    "data_corr_matrix = data_corr_matrix.where(np.triu(np.ones(data_corr_matrix.shape), k=1).astype(np.bool))\n",
    "data_corr_matrix"
   ]
  },
  {
   "cell_type": "code",
   "execution_count": 10,
   "metadata": {},
   "outputs": [
    {
     "data": {
      "text/plain": [
       "[]"
      ]
     },
     "execution_count": 10,
     "metadata": {},
     "output_type": "execute_result"
    }
   ],
   "source": [
    "# определю признаки с высокой корреляцией\n",
    "[column for column in data_corr_matrix.columns if any(data_corr_matrix[column] > 0.90)]"
   ]
  },
  {
   "cell_type": "markdown",
   "metadata": {},
   "source": [
    "Пройдусь по уникальным значениям необходимых категориальных признаков."
   ]
  },
  {
   "cell_type": "code",
   "execution_count": 11,
   "metadata": {},
   "outputs": [
    {
     "data": {
      "text/plain": [
       "sedan          91457\n",
       "small          79831\n",
       "wagon          65166\n",
       "bus            28775\n",
       "convertible    20203\n",
       "coupe          16163\n",
       "suv            11996\n",
       "other           3288\n",
       "Name: VehicleType, dtype: int64"
      ]
     },
     "execution_count": 11,
     "metadata": {},
     "output_type": "execute_result"
    }
   ],
   "source": [
    "data.VehicleType.value_counts()"
   ]
  },
  {
   "cell_type": "code",
   "execution_count": 12,
   "metadata": {},
   "outputs": [
    {
     "data": {
      "text/plain": [
       "manual    268251\n",
       "auto       66285\n",
       "Name: Gearbox, dtype: int64"
      ]
     },
     "execution_count": 12,
     "metadata": {},
     "output_type": "execute_result"
    }
   ],
   "source": [
    "data.Gearbox.value_counts()"
   ]
  },
  {
   "cell_type": "code",
   "execution_count": 13,
   "metadata": {},
   "outputs": [
    {
     "data": {
      "text/plain": [
       "golf                  29232\n",
       "other                 24421\n",
       "3er                   19761\n",
       "polo                  13066\n",
       "corsa                 12570\n",
       "                      ...  \n",
       "i3                        8\n",
       "serie_3                   4\n",
       "rangerover                4\n",
       "range_rover_evoque        2\n",
       "serie_1                   2\n",
       "Name: Model, Length: 250, dtype: int64"
      ]
     },
     "execution_count": 13,
     "metadata": {},
     "output_type": "execute_result"
    }
   ],
   "source": [
    "data.Model.value_counts()"
   ]
  },
  {
   "cell_type": "markdown",
   "metadata": {},
   "source": [
    "Некоторые модели недостаточно представлены. Вероятно, в данной ситуации не требуется исправлений."
   ]
  },
  {
   "cell_type": "code",
   "execution_count": 14,
   "metadata": {},
   "outputs": [
    {
     "data": {
      "text/plain": [
       "petrol      216352\n",
       "gasoline     98720\n",
       "lpg           5310\n",
       "cng            565\n",
       "hybrid         233\n",
       "other          204\n",
       "electric        90\n",
       "Name: FuelType, dtype: int64"
      ]
     },
     "execution_count": 14,
     "metadata": {},
     "output_type": "execute_result"
    }
   ],
   "source": [
    "data.FuelType.value_counts()"
   ]
  },
  {
   "cell_type": "code",
   "execution_count": 15,
   "metadata": {},
   "outputs": [
    {
     "data": {
      "text/plain": [
       "'2016-04-07 14:36:58'"
      ]
     },
     "execution_count": 15,
     "metadata": {},
     "output_type": "execute_result"
    }
   ],
   "source": [
    "data.DateCrawled.max()"
   ]
  },
  {
   "cell_type": "markdown",
   "metadata": {},
   "source": [
    "Предварительные замечания:\n",
    "- Признаки ['DateCrawled', 'RegistrationMonth', 'DateCreated', 'NumberOfPictures', 'PostalCode', 'LastSeen'] не требуются для обучения моделей;\n",
    "- Названия признаков следует привести к нижнему регистру, для удобства работы;\n",
    "- Пропуски в признаке ['VehicleType'], 10.58% от общего количества строк;\n",
    "- Пропуски в признаке ['Gearbox'], 5.60% от общего количества строк;\n",
    "- Пропуски в признаке ['Model'], 5.56% от общего количества строк;\n",
    "- Пропуски в признаке ['FuelType'], 9.28% от общего количества строк;\n",
    "- Пропуски в признаке ['NotRepaired'], 20.08% от общего количества строк;\n",
    "- Обнаружено 4 явных дубликата;\n",
    "- Не реалистичные минимальные и максимальные значения в признаках ['RegistrationYear', 'Power'] необходимых для обучения моделей;\n",
    "- Года регистрации выше 2016 ошибочны;\n",
    "- Нулевое минимальное занчение в ключевом признаке ['Price']."
   ]
  },
  {
   "cell_type": "code",
   "execution_count": 16,
   "metadata": {},
   "outputs": [
    {
     "data": {
      "text/plain": [
       "volkswagen        77013\n",
       "opel              39931\n",
       "bmw               36914\n",
       "mercedes_benz     32046\n",
       "audi              29456\n",
       "ford              25179\n",
       "renault           17927\n",
       "peugeot           10998\n",
       "fiat               9643\n",
       "seat               6907\n",
       "mazda              5615\n",
       "skoda              5500\n",
       "smart              5246\n",
       "citroen            5148\n",
       "nissan             4941\n",
       "toyota             4606\n",
       "hyundai            3587\n",
       "sonstige_autos     3374\n",
       "volvo              3210\n",
       "mini               3202\n",
       "mitsubishi         3022\n",
       "honda              2817\n",
       "kia                2465\n",
       "suzuki             2323\n",
       "alfa_romeo         2314\n",
       "chevrolet          1754\n",
       "chrysler           1439\n",
       "dacia               900\n",
       "daihatsu            806\n",
       "subaru              762\n",
       "porsche             758\n",
       "jeep                677\n",
       "trabant             589\n",
       "land_rover          545\n",
       "daewoo              542\n",
       "saab                526\n",
       "jaguar              505\n",
       "rover               486\n",
       "lancia              471\n",
       "lada                225\n",
       "Name: Brand, dtype: int64"
      ]
     },
     "execution_count": 16,
     "metadata": {},
     "output_type": "execute_result"
    }
   ],
   "source": [
    "data.Brand.value_counts()"
   ]
  },
  {
   "cell_type": "code",
   "execution_count": 17,
   "metadata": {},
   "outputs": [
    {
     "data": {
      "text/plain": [
       "no     247161\n",
       "yes     36054\n",
       "Name: NotRepaired, dtype: int64"
      ]
     },
     "execution_count": 17,
     "metadata": {},
     "output_type": "execute_result"
    }
   ],
   "source": [
    "data.NotRepaired.value_counts()"
   ]
  },
  {
   "cell_type": "markdown",
   "metadata": {},
   "source": [
    "### Предобработка данных"
   ]
  },
  {
   "cell_type": "code",
   "execution_count": 18,
   "metadata": {},
   "outputs": [
    {
     "data": {
      "text/plain": [
       "('Количество явных дубликатов:', 0)"
      ]
     },
     "execution_count": 18,
     "metadata": {},
     "output_type": "execute_result"
    }
   ],
   "source": [
    "# избавлюсь от дубликатов \n",
    "data.drop_duplicates(inplace=True)\n",
    "\n",
    "'Количество явных дубликатов:', data.duplicated().sum()"
   ]
  },
  {
   "cell_type": "code",
   "execution_count": 19,
   "metadata": {},
   "outputs": [],
   "source": [
    "# избавлюсь от ненужных признаков\n",
    "\n",
    "data = data[['Price', 'VehicleType', 'RegistrationYear', 'Gearbox', 'Power', 'Model', 'Kilometer', 'FuelType', 'Brand', 'NotRepaired']]"
   ]
  },
  {
   "cell_type": "code",
   "execution_count": 20,
   "metadata": {
    "scrolled": true
   },
   "outputs": [
    {
     "data": {
      "text/plain": [
       "Index(['Price', 'VehicleType', 'RegistrationYear', 'Gearbox', 'Power', 'Model',\n",
       "       'Kilometer', 'FuelType', 'Brand', 'NotRepaired'],\n",
       "      dtype='object')"
      ]
     },
     "execution_count": 20,
     "metadata": {},
     "output_type": "execute_result"
    }
   ],
   "source": [
    "# получу список с названиями признаков и приведу их к snake_case\n",
    "\n",
    "data.columns"
   ]
  },
  {
   "cell_type": "code",
   "execution_count": 21,
   "metadata": {
    "scrolled": true
   },
   "outputs": [
    {
     "data": {
      "text/plain": [
       "Index(['price', 'vehicle_type', 'registration_year', 'gearbox', 'power',\n",
       "       'model', 'kilometer', 'fuel_type', 'brand', 'not_repaired'],\n",
       "      dtype='object')"
      ]
     },
     "execution_count": 21,
     "metadata": {},
     "output_type": "execute_result"
    }
   ],
   "source": [
    "data.columns = ['price', 'vehicle_type', 'registration_year', 'gearbox', 'power', 'model',\n",
    "       'kilometer', 'fuel_type', 'brand', 'not_repaired']\n",
    "\n",
    "data.columns"
   ]
  },
  {
   "cell_type": "markdown",
   "metadata": {},
   "source": [
    "Так как пропуски присутствуют исключительно в категориальных признаках, заполню их все категорией 'unknown'."
   ]
  },
  {
   "cell_type": "code",
   "execution_count": 22,
   "metadata": {},
   "outputs": [
    {
     "name": "stdout",
     "output_type": "stream",
     "text": [
      "<class 'pandas.core.frame.DataFrame'>\n",
      "Int64Index: 354365 entries, 0 to 354368\n",
      "Data columns (total 10 columns):\n",
      " #   Column             Non-Null Count   Dtype \n",
      "---  ------             --------------   ----- \n",
      " 0   price              354365 non-null  int64 \n",
      " 1   vehicle_type       354365 non-null  object\n",
      " 2   registration_year  354365 non-null  int64 \n",
      " 3   gearbox            354365 non-null  object\n",
      " 4   power              354365 non-null  int64 \n",
      " 5   model              354365 non-null  object\n",
      " 6   kilometer          354365 non-null  int64 \n",
      " 7   fuel_type          354365 non-null  object\n",
      " 8   brand              354365 non-null  object\n",
      " 9   not_repaired       354365 non-null  object\n",
      "dtypes: int64(4), object(6)\n",
      "memory usage: 29.7+ MB\n"
     ]
    }
   ],
   "source": [
    "data.fillna('unknown', inplace = True)\n",
    "\n",
    "data.info()"
   ]
  },
  {
   "cell_type": "markdown",
   "metadata": {},
   "source": [
    "Численные признаки 'registration_year', 'power', 'price' придется визуализировать.\n",
    "\n",
    "Сначала избавлюсь от заведомо ошибочных нулевых значений стоимости а также невозможно низких значений стоимости. По данным по данным mobile.de на текущий момент количество предложений превышает 1000 только для цены от 500 евро. К сожалению для расчета инфляции я нашел только данные США.\n",
    "\n",
    "\"According to the U.S. Bureau of Labor Statistics, prices for used cars and trucks are 46.22% higher in 2022 versus 2016.\"\n",
    "\n",
    "Поэтому установлю нижний предел стоимости автомобиля в 350 евро."
   ]
  },
  {
   "cell_type": "code",
   "execution_count": 23,
   "metadata": {},
   "outputs": [],
   "source": [
    "data = data.query('price >= 350')"
   ]
  },
  {
   "cell_type": "code",
   "execution_count": 24,
   "metadata": {},
   "outputs": [
    {
     "data": {
      "text/plain": [
       "<AxesSubplot:xlabel='price', ylabel='Count'>"
      ]
     },
     "execution_count": 24,
     "metadata": {},
     "output_type": "execute_result"
    },
    {
     "data": {
      "image/png": "[encoded data removed]",
      "text/plain": [
       "<Figure size 1080x360 with 1 Axes>"
      ]
     },
     "metadata": {
      "needs_background": "light"
     },
     "output_type": "display_data"
    }
   ],
   "source": [
    "plt.figure(figsize= (15, 5))\n",
    "\n",
    "sns.histplot(data['price'])"
   ]
  },
  {
   "cell_type": "code",
   "execution_count": 25,
   "metadata": {
    "scrolled": true
   },
   "outputs": [
    {
     "data": {
      "text/plain": [
       "<AxesSubplot:xlabel='price'>"
      ]
     },
     "execution_count": 25,
     "metadata": {},
     "output_type": "execute_result"
    },
    {
     "data": {
      "image/png": "[encoded data removed]",
      "text/plain": [
       "<Figure size 1080x360 with 1 Axes>"
      ]
     },
     "metadata": {
      "needs_background": "light"
     },
     "output_type": "display_data"
    }
   ],
   "source": [
    "plt.figure(figsize= (15, 5))\n",
    "\n",
    "sns.boxplot(data['price'])"
   ]
  },
  {
   "cell_type": "markdown",
   "metadata": {},
   "source": [
    "Все автомобили стоимостью 15000 и выше это выброс. Избавлюсь от аномальных значений."
   ]
  },
  {
   "cell_type": "code",
   "execution_count": 26,
   "metadata": {},
   "outputs": [],
   "source": [
    "data = data.query('price < 15000')"
   ]
  },
  {
   "cell_type": "markdown",
   "metadata": {},
   "source": [
    "С 'power' похожая ситуация. Имеются нулевые значения. Также Koenigsegg Regera являлся самым (либо одним из самых) мощных автомобилей на 2016 год, с мощность 1500 лошадиных сил. Заранее отсею все значения выше. Также отсею значения ниже 25 - лошадиные силы Austin A30."
   ]
  },
  {
   "cell_type": "code",
   "execution_count": 27,
   "metadata": {},
   "outputs": [],
   "source": [
    "data = data.query('power >= 25 and power < 1500')"
   ]
  },
  {
   "cell_type": "code",
   "execution_count": 28,
   "metadata": {
    "scrolled": true
   },
   "outputs": [
    {
     "data": {
      "text/plain": [
       "<AxesSubplot:xlabel='power', ylabel='Count'>"
      ]
     },
     "execution_count": 28,
     "metadata": {},
     "output_type": "execute_result"
    },
    {
     "data": {
      "image/png": "[encoded data removed]",
      "text/plain": [
       "<Figure size 1080x360 with 1 Axes>"
      ]
     },
     "metadata": {
      "needs_background": "light"
     },
     "output_type": "display_data"
    }
   ],
   "source": [
    "plt.figure(figsize= (15, 5))\n",
    "\n",
    "sns.histplot(data['power'])"
   ]
  },
  {
   "cell_type": "code",
   "execution_count": 29,
   "metadata": {},
   "outputs": [
    {
     "data": {
      "text/plain": [
       "<AxesSubplot:xlabel='power'>"
      ]
     },
     "execution_count": 29,
     "metadata": {},
     "output_type": "execute_result"
    },
    {
     "data": {
      "image/png": "[encoded data removed]",
      "text/plain": [
       "<Figure size 1080x360 with 1 Axes>"
      ]
     },
     "metadata": {
      "needs_background": "light"
     },
     "output_type": "display_data"
    }
   ],
   "source": [
    "plt.figure(figsize= (15, 5))\n",
    "\n",
    "sns.boxplot(data['power'])"
   ]
  },
  {
   "cell_type": "markdown",
   "metadata": {},
   "source": [
    "Ограничусь 225 лошадиными силами."
   ]
  },
  {
   "cell_type": "code",
   "execution_count": 30,
   "metadata": {},
   "outputs": [],
   "source": [
    "data = data.query('power <= 225')"
   ]
  },
  {
   "cell_type": "markdown",
   "metadata": {},
   "source": [
    "Осталось разобраться с признаком 'registration_year'. Изначально отсаю часть заведомо ложных значений для улучшения визуализации."
   ]
  },
  {
   "cell_type": "code",
   "execution_count": 31,
   "metadata": {},
   "outputs": [],
   "source": [
    "data = data.query('registration_year > 1900 and registration_year < 2017')"
   ]
  },
  {
   "cell_type": "code",
   "execution_count": 32,
   "metadata": {
    "scrolled": true
   },
   "outputs": [
    {
     "data": {
      "text/plain": [
       "<AxesSubplot:xlabel='registration_year', ylabel='Count'>"
      ]
     },
     "execution_count": 32,
     "metadata": {},
     "output_type": "execute_result"
    },
    {
     "data": {
      "image/png": "[encoded data removed]",
      "text/plain": [
       "<Figure size 1080x360 with 1 Axes>"
      ]
     },
     "metadata": {
      "needs_background": "light"
     },
     "output_type": "display_data"
    }
   ],
   "source": [
    "plt.figure(figsize= (15, 5))\n",
    "\n",
    "sns.histplot(data['registration_year'])"
   ]
  },
  {
   "cell_type": "code",
   "execution_count": 33,
   "metadata": {
    "scrolled": true
   },
   "outputs": [
    {
     "data": {
      "text/plain": [
       "<AxesSubplot:xlabel='registration_year'>"
      ]
     },
     "execution_count": 33,
     "metadata": {},
     "output_type": "execute_result"
    },
    {
     "data": {
      "image/png": "[encoded data removed]",
      "text/plain": [
       "<Figure size 1080x360 with 1 Axes>"
      ]
     },
     "metadata": {
      "needs_background": "light"
     },
     "output_type": "display_data"
    }
   ],
   "source": [
    "plt.figure(figsize= (15, 5))\n",
    "\n",
    "sns.boxplot(data['registration_year'])"
   ]
  },
  {
   "cell_type": "markdown",
   "metadata": {},
   "source": [
    "Ограничусь 1985 годом регистрации автомобиля."
   ]
  },
  {
   "cell_type": "code",
   "execution_count": 34,
   "metadata": {},
   "outputs": [],
   "source": [
    "data = data.query('registration_year >= 1985')"
   ]
  },
  {
   "cell_type": "code",
   "execution_count": 35,
   "metadata": {},
   "outputs": [
    {
     "data": {
      "text/plain": [
       "('Количество явных дубликатов:', 35768)"
      ]
     },
     "execution_count": 35,
     "metadata": {},
     "output_type": "execute_result"
    }
   ],
   "source": [
    "# интересно как изменилось количество явных дубликатов после очистки данных\n",
    "\n",
    "'Количество явных дубликатов:', data.duplicated().sum()"
   ]
  },
  {
   "cell_type": "code",
   "execution_count": 36,
   "metadata": {
    "scrolled": true
   },
   "outputs": [
    {
     "data": {
      "text/plain": [
       "(258822, 10)"
      ]
     },
     "execution_count": 36,
     "metadata": {},
     "output_type": "execute_result"
    }
   ],
   "source": [
    "# Очень много дубликатов! Синтетические данные? Сколько всего осталось строк?\n",
    "\n",
    "data.shape"
   ]
  },
  {
   "cell_type": "code",
   "execution_count": 37,
   "metadata": {},
   "outputs": [
    {
     "data": {
      "text/plain": [
       "(223054, 10)"
      ]
     },
     "execution_count": 37,
     "metadata": {},
     "output_type": "execute_result"
    }
   ],
   "source": [
    "# Считаю правильным избавиться от дубликатов. Останется более чем достаточное количество данных для обучения.\n",
    "# избегу риска переобучения на продублированных данных\n",
    "\n",
    "data.drop_duplicates(inplace=True)\n",
    "\n",
    "data.shape"
   ]
  },
  {
   "cell_type": "markdown",
   "metadata": {},
   "source": [
    "### Вывод"
   ]
  },
  {
   "cell_type": "markdown",
   "metadata": {},
   "source": [
    "По итогам обзора и подготовки данных:\n",
    "Предварительные замечания:\n",
    "- Отброшены признаки ['DateCrawled', 'RegistrationMonth', 'DateCreated', 'NumberOfPictures', 'PostalCode', 'LastSeen'];\n",
    "- Названия признаков приведены к змеиному_регистру для удобства работы;\n",
    "- Пропуски в категориальных признаках заменены значением 'unknown';\n",
    "- Удалены строки с аномальными значениями в численных признаках ['registration_year', 'power', 'price'];\n",
    "- Удалено значительное количество дубликатов образовавшихся после очистки данных."
   ]
  },
  {
   "cell_type": "code",
   "execution_count": 38,
   "metadata": {},
   "outputs": [
    {
     "data": {
      "text/html": [
       "<div>\n",
       "<style scoped>\n",
       "    .dataframe tbody tr th:only-of-type {\n",
       "        vertical-align: middle;\n",
       "    }\n",
       "\n",
       "    .dataframe tbody tr th {\n",
       "        vertical-align: top;\n",
       "    }\n",
       "\n",
       "    .dataframe thead th {\n",
       "        text-align: right;\n",
       "    }\n",
       "</style>\n",
       "<table border=\"1\" class=\"dataframe\">\n",
       "  <thead>\n",
       "    <tr style=\"text-align: right;\">\n",
       "      <th></th>\n",
       "      <th>price</th>\n",
       "      <th>registration_year</th>\n",
       "      <th>power</th>\n",
       "      <th>kilometer</th>\n",
       "    </tr>\n",
       "  </thead>\n",
       "  <tbody>\n",
       "    <tr>\n",
       "      <th>count</th>\n",
       "      <td>223054.000000</td>\n",
       "      <td>223054.000000</td>\n",
       "      <td>223054.000000</td>\n",
       "      <td>223054.000000</td>\n",
       "    </tr>\n",
       "    <tr>\n",
       "      <th>mean</th>\n",
       "      <td>4226.988003</td>\n",
       "      <td>2003.046625</td>\n",
       "      <td>114.222188</td>\n",
       "      <td>128982.936867</td>\n",
       "    </tr>\n",
       "    <tr>\n",
       "      <th>std</th>\n",
       "      <td>3583.518669</td>\n",
       "      <td>5.659902</td>\n",
       "      <td>41.371514</td>\n",
       "      <td>35693.519504</td>\n",
       "    </tr>\n",
       "    <tr>\n",
       "      <th>min</th>\n",
       "      <td>350.000000</td>\n",
       "      <td>1985.000000</td>\n",
       "      <td>25.000000</td>\n",
       "      <td>5000.000000</td>\n",
       "    </tr>\n",
       "    <tr>\n",
       "      <th>25%</th>\n",
       "      <td>1400.000000</td>\n",
       "      <td>1999.000000</td>\n",
       "      <td>80.000000</td>\n",
       "      <td>125000.000000</td>\n",
       "    </tr>\n",
       "    <tr>\n",
       "      <th>50%</th>\n",
       "      <td>2999.000000</td>\n",
       "      <td>2003.000000</td>\n",
       "      <td>109.000000</td>\n",
       "      <td>150000.000000</td>\n",
       "    </tr>\n",
       "    <tr>\n",
       "      <th>75%</th>\n",
       "      <td>6199.000000</td>\n",
       "      <td>2007.000000</td>\n",
       "      <td>141.000000</td>\n",
       "      <td>150000.000000</td>\n",
       "    </tr>\n",
       "    <tr>\n",
       "      <th>max</th>\n",
       "      <td>14999.000000</td>\n",
       "      <td>2016.000000</td>\n",
       "      <td>225.000000</td>\n",
       "      <td>150000.000000</td>\n",
       "    </tr>\n",
       "  </tbody>\n",
       "</table>\n",
       "</div>"
      ],
      "text/plain": [
       "               price  registration_year          power      kilometer\n",
       "count  223054.000000      223054.000000  223054.000000  223054.000000\n",
       "mean     4226.988003        2003.046625     114.222188  128982.936867\n",
       "std      3583.518669           5.659902      41.371514   35693.519504\n",
       "min       350.000000        1985.000000      25.000000    5000.000000\n",
       "25%      1400.000000        1999.000000      80.000000  125000.000000\n",
       "50%      2999.000000        2003.000000     109.000000  150000.000000\n",
       "75%      6199.000000        2007.000000     141.000000  150000.000000\n",
       "max     14999.000000        2016.000000     225.000000  150000.000000"
      ]
     },
     "execution_count": 38,
     "metadata": {},
     "output_type": "execute_result"
    }
   ],
   "source": [
    "#КОД РЕВЬЮЕРА\n",
    "\n",
    "data.describe()"
   ]
  },
  {
   "cell_type": "markdown",
   "metadata": {},
   "source": [
    "## Обучение моделей"
   ]
  },
  {
   "cell_type": "code",
   "execution_count": 39,
   "metadata": {},
   "outputs": [],
   "source": [
    "# для фикасции результата воспользуюсь числом, полученным через генератор случайных чисел\n",
    "STATE = 865154067"
   ]
  },
  {
   "cell_type": "markdown",
   "metadata": {},
   "source": [
    "Дано задание использовать LightGBM модель и как минимум одну модель не использующую бустинг.\n",
    "В данном проекте воспользуюсь моделями LGBMRegressor, CatBoostRegressor, LinearRegression и DecisionTreeRegressor."
   ]
  },
  {
   "cell_type": "markdown",
   "metadata": {},
   "source": [
    "Для обработки категориальных признаков использую технику прямого кодирования (One-hot Encoding), как наиболее универсальную."
   ]
  },
  {
   "cell_type": "code",
   "execution_count": 40,
   "metadata": {},
   "outputs": [],
   "source": [
    "target = data['price']\n",
    "features = data.drop('price', axis=1)"
   ]
  },
  {
   "cell_type": "code",
   "execution_count": 41,
   "metadata": {},
   "outputs": [],
   "source": [
    "# использую drop_first=True чтобы избежать дамми-ловушки\n",
    "features_ohe = pd.get_dummies(features, drop_first=True)"
   ]
  },
  {
   "cell_type": "code",
   "execution_count": 42,
   "metadata": {},
   "outputs": [],
   "source": [
    "# применю порядковое кодирование\n",
    "encoder = OrdinalEncoder()\n",
    "\n",
    "ordinal_list = ['vehicle_type','gearbox','model','fuel_type', 'brand', 'not_repaired']\n",
    "\n",
    "ordinal_prep = features[ordinal_list]\n",
    "ordinal_prep = pd.DataFrame(\n",
    "    encoder.fit_transform(ordinal_prep),\n",
    "    columns=ordinal_prep.columns, \n",
    "    index=ordinal_prep.index\n",
    ")\n",
    "\n",
    "ordinal_features = features\n",
    "\n",
    "for column in ordinal_prep:\n",
    "    ordinal_features[column] = ordinal_prep[column]"
   ]
  },
  {
   "cell_type": "code",
   "execution_count": 43,
   "metadata": {},
   "outputs": [],
   "source": [
    "features_train, features_test, target_train, target_test = train_test_split(\n",
    "    features, target, test_size=0.25, random_state=865154067)"
   ]
  },
  {
   "cell_type": "code",
   "execution_count": 44,
   "metadata": {},
   "outputs": [],
   "source": [
    "ohe_features_train = features_ohe.loc[features_train.index, :]\n",
    "ohe_features_test = features_ohe.loc[features_test.index, :]\n",
    "\n",
    "ordinal_features_train = ordinal_features.loc[features_train.index, :]\n",
    "ordinal_features_test = ordinal_features.loc[features_test.index, :]"
   ]
  },
  {
   "cell_type": "code",
   "execution_count": 45,
   "metadata": {},
   "outputs": [],
   "source": [
    "# для линейной регрессии стандартизирую данные\n",
    "\n",
    "scaler = StandardScaler().fit(ohe_features_train)\n",
    "scaled_features_train = scaler.transform(ohe_features_train)\n",
    "scaled_features_test = scaler.transform(ohe_features_test)"
   ]
  },
  {
   "cell_type": "code",
   "execution_count": 46,
   "metadata": {},
   "outputs": [],
   "source": [
    "# выгружу ненужные данные\n",
    "del data"
   ]
  },
  {
   "cell_type": "markdown",
   "metadata": {},
   "source": [
    "### LGBMRegressor"
   ]
  },
  {
   "cell_type": "code",
   "execution_count": 47,
   "metadata": {},
   "outputs": [
    {
     "name": "stdout",
     "output_type": "stream",
     "text": [
      "CPU times: user 46.4 s, sys: 898 ms, total: 47.3 s\n",
      "Wall time: 47.8 s\n"
     ]
    },
    {
     "data": {
      "text/plain": [
       "LGBMRegressor(random_state=865154067)"
      ]
     },
     "execution_count": 47,
     "metadata": {},
     "output_type": "execute_result"
    }
   ],
   "source": [
    "%%time\n",
    "\n",
    "# без гиперпараметров, обучение занимало какое-то совсем уж неадекватное время и безуспешно\n",
    "# без гиперпараметров почти моментальное, интересно, разница колоссальная\n",
    "\n",
    "model_lgbm = LGBMRegressor(random_state=STATE)\n",
    "\n",
    "model_lgbm.fit(ohe_features_train, target_train)"
   ]
  },
  {
   "cell_type": "code",
   "execution_count": 48,
   "metadata": {},
   "outputs": [
    {
     "name": "stdout",
     "output_type": "stream",
     "text": [
      "[-1348.11686163 -1358.91500682 -1348.06681444 -1351.9956033\n",
      " -1337.78586637]\n",
      "Значение RMSE для LGBMRegressor: 1348.9760305114853\n"
     ]
    }
   ],
   "source": [
    "nrmse_lgbm = cross_val_score(model_lgbm, ohe_features_train, target_train, cv=5, scoring='neg_root_mean_squared_error')\n",
    "\n",
    "print(nrmse_lgbm)\n",
    "print('Значение RMSE для LGBMRegressor:', -nrmse_lgbm.mean())"
   ]
  },
  {
   "cell_type": "markdown",
   "metadata": {},
   "source": [
    "### CatBoostRegressor"
   ]
  },
  {
   "cell_type": "code",
   "execution_count": 49,
   "metadata": {
    "collapsed": true,
    "jupyter": {
     "outputs_hidden": true
    },
    "tags": []
   },
   "outputs": [
    {
     "name": "stdout",
     "output_type": "stream",
     "text": [
      "Learning rate set to 0.091936\n",
      "0:\tlearn: 3373.3127586\ttotal: 74ms\tremaining: 1m 13s\n",
      "1:\tlearn: 3189.1047335\ttotal: 103ms\tremaining: 51.4s\n",
      "2:\tlearn: 3019.3699633\ttotal: 126ms\tremaining: 41.8s\n",
      "3:\tlearn: 2871.5428411\ttotal: 150ms\tremaining: 37.2s\n",
      "4:\tlearn: 2741.0903154\ttotal: 170ms\tremaining: 33.8s\n",
      "5:\tlearn: 2623.7361378\ttotal: 197ms\tremaining: 32.6s\n",
      "6:\tlearn: 2520.0254911\ttotal: 220ms\tremaining: 31.2s\n",
      "7:\tlearn: 2425.0612916\ttotal: 241ms\tremaining: 29.8s\n",
      "8:\tlearn: 2338.9700702\ttotal: 263ms\tremaining: 29s\n",
      "9:\tlearn: 2263.1268301\ttotal: 292ms\tremaining: 28.9s\n",
      "10:\tlearn: 2198.7873948\ttotal: 318ms\tremaining: 28.6s\n",
      "11:\tlearn: 2144.4792242\ttotal: 342ms\tremaining: 28.1s\n",
      "12:\tlearn: 2091.7683983\ttotal: 369ms\tremaining: 28s\n",
      "13:\tlearn: 2046.5559216\ttotal: 389ms\tremaining: 27.4s\n",
      "14:\tlearn: 2006.7179543\ttotal: 410ms\tremaining: 26.9s\n",
      "15:\tlearn: 1971.0802255\ttotal: 430ms\tremaining: 26.5s\n",
      "16:\tlearn: 1937.5271116\ttotal: 451ms\tremaining: 26.1s\n",
      "17:\tlearn: 1907.7116980\ttotal: 472ms\tremaining: 25.7s\n",
      "18:\tlearn: 1882.3555781\ttotal: 500ms\tremaining: 25.8s\n",
      "19:\tlearn: 1853.0648789\ttotal: 521ms\tremaining: 25.6s\n",
      "20:\tlearn: 1832.1297761\ttotal: 542ms\tremaining: 25.3s\n",
      "21:\tlearn: 1806.2555137\ttotal: 564ms\tremaining: 25.1s\n",
      "22:\tlearn: 1786.3169275\ttotal: 588ms\tremaining: 25s\n",
      "23:\tlearn: 1769.3936458\ttotal: 611ms\tremaining: 24.8s\n",
      "24:\tlearn: 1753.4580385\ttotal: 632ms\tremaining: 24.6s\n",
      "25:\tlearn: 1738.2251483\ttotal: 652ms\tremaining: 24.4s\n",
      "26:\tlearn: 1724.8581968\ttotal: 675ms\tremaining: 24.3s\n",
      "27:\tlearn: 1710.6358281\ttotal: 700ms\tremaining: 24.3s\n",
      "28:\tlearn: 1698.6775387\ttotal: 722ms\tremaining: 24.2s\n",
      "29:\tlearn: 1684.0999492\ttotal: 746ms\tremaining: 24.1s\n",
      "30:\tlearn: 1673.0153017\ttotal: 769ms\tremaining: 24.1s\n",
      "31:\tlearn: 1662.7224556\ttotal: 797ms\tremaining: 24.1s\n",
      "32:\tlearn: 1654.1726156\ttotal: 819ms\tremaining: 24s\n",
      "33:\tlearn: 1646.4759716\ttotal: 839ms\tremaining: 23.8s\n",
      "34:\tlearn: 1635.3024196\ttotal: 859ms\tremaining: 23.7s\n",
      "35:\tlearn: 1628.5871648\ttotal: 886ms\tremaining: 23.7s\n",
      "36:\tlearn: 1622.3200814\ttotal: 906ms\tremaining: 23.6s\n",
      "37:\tlearn: 1616.5524767\ttotal: 925ms\tremaining: 23.4s\n",
      "38:\tlearn: 1606.9482045\ttotal: 945ms\tremaining: 23.3s\n",
      "39:\tlearn: 1600.3963025\ttotal: 970ms\tremaining: 23.3s\n",
      "40:\tlearn: 1595.4633280\ttotal: 993ms\tremaining: 23.2s\n",
      "41:\tlearn: 1590.0364015\ttotal: 1.01s\tremaining: 23.1s\n",
      "42:\tlearn: 1585.2098433\ttotal: 1.03s\tremaining: 23s\n",
      "43:\tlearn: 1580.4901182\ttotal: 1.05s\tremaining: 22.8s\n",
      "44:\tlearn: 1576.0008228\ttotal: 1.08s\tremaining: 22.9s\n",
      "45:\tlearn: 1571.2603720\ttotal: 1.1s\tremaining: 22.8s\n",
      "46:\tlearn: 1566.6693344\ttotal: 1.12s\tremaining: 22.7s\n",
      "47:\tlearn: 1562.0669979\ttotal: 1.14s\tremaining: 22.6s\n",
      "48:\tlearn: 1556.4185639\ttotal: 1.17s\tremaining: 22.6s\n",
      "49:\tlearn: 1553.3639818\ttotal: 1.19s\tremaining: 22.6s\n",
      "50:\tlearn: 1549.4391357\ttotal: 1.22s\tremaining: 22.7s\n",
      "51:\tlearn: 1545.9222216\ttotal: 1.24s\tremaining: 22.7s\n",
      "52:\tlearn: 1541.5645887\ttotal: 1.27s\tremaining: 22.7s\n",
      "53:\tlearn: 1538.8708201\ttotal: 1.3s\tremaining: 22.8s\n",
      "54:\tlearn: 1535.1502737\ttotal: 1.32s\tremaining: 22.8s\n",
      "55:\tlearn: 1532.0603753\ttotal: 1.35s\tremaining: 22.7s\n",
      "56:\tlearn: 1529.2158945\ttotal: 1.38s\tremaining: 22.8s\n",
      "57:\tlearn: 1526.1917103\ttotal: 1.4s\tremaining: 22.7s\n",
      "58:\tlearn: 1521.4687463\ttotal: 1.43s\tremaining: 22.8s\n",
      "59:\tlearn: 1519.6862555\ttotal: 1.45s\tremaining: 22.7s\n",
      "60:\tlearn: 1517.3071942\ttotal: 1.48s\tremaining: 22.7s\n",
      "61:\tlearn: 1515.3250177\ttotal: 1.5s\tremaining: 22.7s\n",
      "62:\tlearn: 1512.4739324\ttotal: 1.52s\tremaining: 22.7s\n",
      "63:\tlearn: 1509.7377806\ttotal: 1.55s\tremaining: 22.7s\n",
      "64:\tlearn: 1506.8133327\ttotal: 1.58s\tremaining: 22.7s\n",
      "65:\tlearn: 1504.6381047\ttotal: 1.6s\tremaining: 22.7s\n",
      "66:\tlearn: 1501.9947533\ttotal: 1.62s\tremaining: 22.6s\n",
      "67:\tlearn: 1499.4254491\ttotal: 1.64s\tremaining: 22.5s\n",
      "68:\tlearn: 1497.8028778\ttotal: 1.67s\tremaining: 22.5s\n",
      "69:\tlearn: 1496.2667700\ttotal: 1.69s\tremaining: 22.4s\n",
      "70:\tlearn: 1494.1458965\ttotal: 1.71s\tremaining: 22.4s\n",
      "71:\tlearn: 1492.2195425\ttotal: 1.73s\tremaining: 22.3s\n",
      "72:\tlearn: 1490.4497286\ttotal: 1.75s\tremaining: 22.3s\n",
      "73:\tlearn: 1488.2700544\ttotal: 1.77s\tremaining: 22.2s\n",
      "74:\tlearn: 1486.8814326\ttotal: 1.79s\tremaining: 22.1s\n",
      "75:\tlearn: 1484.8731189\ttotal: 1.81s\tremaining: 22.1s\n",
      "76:\tlearn: 1483.6170591\ttotal: 1.83s\tremaining: 22s\n",
      "77:\tlearn: 1481.7885108\ttotal: 1.86s\tremaining: 22s\n",
      "78:\tlearn: 1480.1502065\ttotal: 1.88s\tremaining: 21.9s\n",
      "79:\tlearn: 1477.9764497\ttotal: 1.9s\tremaining: 21.9s\n",
      "80:\tlearn: 1476.4520116\ttotal: 1.92s\tremaining: 21.8s\n",
      "81:\tlearn: 1475.1265664\ttotal: 1.94s\tremaining: 21.7s\n",
      "82:\tlearn: 1473.4927746\ttotal: 1.96s\tremaining: 21.7s\n",
      "83:\tlearn: 1472.4740457\ttotal: 1.98s\tremaining: 21.6s\n",
      "84:\tlearn: 1470.5595329\ttotal: 2s\tremaining: 21.5s\n",
      "85:\tlearn: 1469.0692644\ttotal: 2.02s\tremaining: 21.5s\n",
      "86:\tlearn: 1467.8253924\ttotal: 2.04s\tremaining: 21.4s\n",
      "87:\tlearn: 1466.8170904\ttotal: 2.06s\tremaining: 21.4s\n",
      "88:\tlearn: 1465.2944698\ttotal: 2.08s\tremaining: 21.3s\n",
      "89:\tlearn: 1463.7336783\ttotal: 2.1s\tremaining: 21.2s\n",
      "90:\tlearn: 1462.7551126\ttotal: 2.12s\tremaining: 21.2s\n",
      "91:\tlearn: 1461.6673164\ttotal: 2.15s\tremaining: 21.2s\n",
      "92:\tlearn: 1460.7533449\ttotal: 2.17s\tremaining: 21.1s\n",
      "93:\tlearn: 1459.6956196\ttotal: 2.19s\tremaining: 21.1s\n",
      "94:\tlearn: 1458.2790314\ttotal: 2.2s\tremaining: 21s\n",
      "95:\tlearn: 1457.3777504\ttotal: 2.22s\tremaining: 20.9s\n",
      "96:\tlearn: 1456.3613338\ttotal: 2.25s\tremaining: 20.9s\n",
      "97:\tlearn: 1455.0855788\ttotal: 2.27s\tremaining: 20.9s\n",
      "98:\tlearn: 1454.0029242\ttotal: 2.29s\tremaining: 20.8s\n",
      "99:\tlearn: 1453.2803988\ttotal: 2.31s\tremaining: 20.8s\n",
      "100:\tlearn: 1452.0527446\ttotal: 2.33s\tremaining: 20.7s\n",
      "101:\tlearn: 1450.3637908\ttotal: 2.35s\tremaining: 20.7s\n",
      "102:\tlearn: 1448.9764784\ttotal: 2.37s\tremaining: 20.7s\n",
      "103:\tlearn: 1448.3160861\ttotal: 2.39s\tremaining: 20.6s\n",
      "104:\tlearn: 1446.9664138\ttotal: 2.41s\tremaining: 20.6s\n",
      "105:\tlearn: 1446.0484903\ttotal: 2.44s\tremaining: 20.6s\n",
      "106:\tlearn: 1444.9367260\ttotal: 2.46s\tremaining: 20.5s\n",
      "107:\tlearn: 1443.5651776\ttotal: 2.48s\tremaining: 20.5s\n",
      "108:\tlearn: 1442.1385544\ttotal: 2.5s\tremaining: 20.4s\n",
      "109:\tlearn: 1440.9452048\ttotal: 2.52s\tremaining: 20.4s\n",
      "110:\tlearn: 1439.5057166\ttotal: 2.54s\tremaining: 20.4s\n",
      "111:\tlearn: 1438.2717470\ttotal: 2.56s\tremaining: 20.3s\n",
      "112:\tlearn: 1436.8721907\ttotal: 2.58s\tremaining: 20.3s\n",
      "113:\tlearn: 1435.6468839\ttotal: 2.6s\tremaining: 20.2s\n",
      "114:\tlearn: 1434.9478969\ttotal: 2.63s\tremaining: 20.2s\n",
      "115:\tlearn: 1433.4835556\ttotal: 2.65s\tremaining: 20.2s\n",
      "116:\tlearn: 1432.5070214\ttotal: 2.67s\tremaining: 20.1s\n",
      "117:\tlearn: 1431.7430915\ttotal: 2.69s\tremaining: 20.1s\n",
      "118:\tlearn: 1430.7203107\ttotal: 2.71s\tremaining: 20.1s\n",
      "119:\tlearn: 1429.7637175\ttotal: 2.74s\tremaining: 20.1s\n",
      "120:\tlearn: 1428.7601524\ttotal: 2.76s\tremaining: 20.1s\n",
      "121:\tlearn: 1428.1168120\ttotal: 2.79s\tremaining: 20s\n",
      "122:\tlearn: 1427.3583510\ttotal: 2.81s\tremaining: 20s\n",
      "123:\tlearn: 1426.1791209\ttotal: 2.84s\tremaining: 20s\n",
      "124:\tlearn: 1425.2831240\ttotal: 2.86s\tremaining: 20s\n",
      "125:\tlearn: 1424.4069817\ttotal: 2.88s\tremaining: 20s\n",
      "126:\tlearn: 1423.8986593\ttotal: 2.9s\tremaining: 19.9s\n",
      "127:\tlearn: 1423.0594618\ttotal: 2.92s\tremaining: 19.9s\n",
      "128:\tlearn: 1422.2474485\ttotal: 2.94s\tremaining: 19.9s\n",
      "129:\tlearn: 1421.6568522\ttotal: 2.96s\tremaining: 19.8s\n",
      "130:\tlearn: 1421.0022690\ttotal: 2.98s\tremaining: 19.8s\n",
      "131:\tlearn: 1420.0627058\ttotal: 3s\tremaining: 19.7s\n",
      "132:\tlearn: 1419.2182838\ttotal: 3.03s\tremaining: 19.7s\n",
      "133:\tlearn: 1418.6555221\ttotal: 3.04s\tremaining: 19.7s\n",
      "134:\tlearn: 1417.3872620\ttotal: 3.07s\tremaining: 19.6s\n",
      "135:\tlearn: 1416.2621093\ttotal: 3.09s\tremaining: 19.6s\n",
      "136:\tlearn: 1415.2577803\ttotal: 3.12s\tremaining: 19.6s\n",
      "137:\tlearn: 1414.4670105\ttotal: 3.13s\tremaining: 19.6s\n",
      "138:\tlearn: 1413.8354801\ttotal: 3.15s\tremaining: 19.5s\n",
      "139:\tlearn: 1412.7091302\ttotal: 3.18s\tremaining: 19.5s\n",
      "140:\tlearn: 1412.2081672\ttotal: 3.2s\tremaining: 19.5s\n",
      "141:\tlearn: 1411.5614727\ttotal: 3.22s\tremaining: 19.5s\n",
      "142:\tlearn: 1411.0158887\ttotal: 3.24s\tremaining: 19.4s\n",
      "143:\tlearn: 1410.4395814\ttotal: 3.26s\tremaining: 19.4s\n",
      "144:\tlearn: 1409.9172618\ttotal: 3.27s\tremaining: 19.3s\n",
      "145:\tlearn: 1409.2388778\ttotal: 3.3s\tremaining: 19.3s\n",
      "146:\tlearn: 1408.8090240\ttotal: 3.32s\tremaining: 19.3s\n",
      "147:\tlearn: 1407.7675185\ttotal: 3.34s\tremaining: 19.2s\n",
      "148:\tlearn: 1406.8610675\ttotal: 3.36s\tremaining: 19.2s\n",
      "149:\tlearn: 1406.3689871\ttotal: 3.38s\tremaining: 19.2s\n",
      "150:\tlearn: 1405.6648920\ttotal: 3.41s\tremaining: 19.2s\n",
      "151:\tlearn: 1404.7013428\ttotal: 3.43s\tremaining: 19.1s\n",
      "152:\tlearn: 1404.1765510\ttotal: 3.45s\tremaining: 19.1s\n",
      "153:\tlearn: 1403.6558574\ttotal: 3.47s\tremaining: 19s\n",
      "154:\tlearn: 1402.8979736\ttotal: 3.49s\tremaining: 19s\n",
      "155:\tlearn: 1401.8611662\ttotal: 3.51s\tremaining: 19s\n",
      "156:\tlearn: 1401.3410561\ttotal: 3.53s\tremaining: 19s\n",
      "157:\tlearn: 1400.7876870\ttotal: 3.55s\tremaining: 18.9s\n",
      "158:\tlearn: 1399.9905539\ttotal: 3.58s\tremaining: 18.9s\n",
      "159:\tlearn: 1399.2372033\ttotal: 3.61s\tremaining: 19s\n",
      "160:\tlearn: 1398.8281978\ttotal: 3.63s\tremaining: 18.9s\n",
      "161:\tlearn: 1398.1447058\ttotal: 3.65s\tremaining: 18.9s\n",
      "162:\tlearn: 1397.7470645\ttotal: 3.68s\tremaining: 18.9s\n",
      "163:\tlearn: 1397.0333502\ttotal: 3.7s\tremaining: 18.9s\n",
      "164:\tlearn: 1396.3236551\ttotal: 3.72s\tremaining: 18.8s\n",
      "165:\tlearn: 1395.4582036\ttotal: 3.74s\tremaining: 18.8s\n",
      "166:\tlearn: 1394.7697131\ttotal: 3.76s\tremaining: 18.8s\n",
      "167:\tlearn: 1394.2560828\ttotal: 3.79s\tremaining: 18.8s\n",
      "168:\tlearn: 1393.6085455\ttotal: 3.81s\tremaining: 18.7s\n",
      "169:\tlearn: 1392.9658719\ttotal: 3.83s\tremaining: 18.7s\n",
      "170:\tlearn: 1392.3830672\ttotal: 3.85s\tremaining: 18.7s\n",
      "171:\tlearn: 1391.7109424\ttotal: 3.87s\tremaining: 18.6s\n",
      "172:\tlearn: 1390.6632348\ttotal: 3.9s\tremaining: 18.6s\n",
      "173:\tlearn: 1390.1392575\ttotal: 3.92s\tremaining: 18.6s\n",
      "174:\tlearn: 1389.7706891\ttotal: 3.93s\tremaining: 18.5s\n",
      "175:\tlearn: 1389.3057422\ttotal: 3.95s\tremaining: 18.5s\n",
      "176:\tlearn: 1388.5737202\ttotal: 3.98s\tremaining: 18.5s\n",
      "177:\tlearn: 1387.9178203\ttotal: 4s\tremaining: 18.5s\n",
      "178:\tlearn: 1387.4225869\ttotal: 4.02s\tremaining: 18.4s\n",
      "179:\tlearn: 1386.9376891\ttotal: 4.04s\tremaining: 18.4s\n",
      "180:\tlearn: 1386.3812439\ttotal: 4.06s\tremaining: 18.4s\n",
      "181:\tlearn: 1385.8125287\ttotal: 4.08s\tremaining: 18.4s\n",
      "182:\tlearn: 1385.4216890\ttotal: 4.1s\tremaining: 18.3s\n",
      "183:\tlearn: 1384.9053066\ttotal: 4.12s\tremaining: 18.3s\n",
      "184:\tlearn: 1384.3220069\ttotal: 4.14s\tremaining: 18.2s\n",
      "185:\tlearn: 1384.0112359\ttotal: 4.16s\tremaining: 18.2s\n",
      "186:\tlearn: 1383.1940637\ttotal: 4.19s\tremaining: 18.2s\n",
      "187:\tlearn: 1382.5709914\ttotal: 4.2s\tremaining: 18.2s\n",
      "188:\tlearn: 1382.0395188\ttotal: 4.22s\tremaining: 18.1s\n",
      "189:\tlearn: 1381.6187962\ttotal: 4.24s\tremaining: 18.1s\n",
      "190:\tlearn: 1380.8842532\ttotal: 4.26s\tremaining: 18.1s\n",
      "191:\tlearn: 1380.5651025\ttotal: 4.29s\tremaining: 18s\n",
      "192:\tlearn: 1380.1877523\ttotal: 4.31s\tremaining: 18s\n",
      "193:\tlearn: 1379.7474562\ttotal: 4.32s\tremaining: 18s\n",
      "194:\tlearn: 1379.2189518\ttotal: 4.34s\tremaining: 17.9s\n",
      "195:\tlearn: 1378.7685587\ttotal: 4.37s\tremaining: 17.9s\n",
      "196:\tlearn: 1378.4249852\ttotal: 4.39s\tremaining: 17.9s\n",
      "197:\tlearn: 1377.6924177\ttotal: 4.41s\tremaining: 17.8s\n",
      "198:\tlearn: 1377.1498395\ttotal: 4.42s\tremaining: 17.8s\n",
      "199:\tlearn: 1376.6994899\ttotal: 4.44s\tremaining: 17.8s\n",
      "200:\tlearn: 1376.1935281\ttotal: 4.47s\tremaining: 17.8s\n",
      "201:\tlearn: 1375.8593251\ttotal: 4.48s\tremaining: 17.7s\n",
      "202:\tlearn: 1375.1300343\ttotal: 4.5s\tremaining: 17.7s\n",
      "203:\tlearn: 1374.5311861\ttotal: 4.53s\tremaining: 17.7s\n",
      "204:\tlearn: 1374.1204019\ttotal: 4.54s\tremaining: 17.6s\n",
      "205:\tlearn: 1373.6322226\ttotal: 4.57s\tremaining: 17.6s\n",
      "206:\tlearn: 1373.3055147\ttotal: 4.59s\tremaining: 17.6s\n",
      "207:\tlearn: 1372.7698201\ttotal: 4.61s\tremaining: 17.6s\n",
      "208:\tlearn: 1372.2835711\ttotal: 4.63s\tremaining: 17.5s\n",
      "209:\tlearn: 1371.8776626\ttotal: 4.65s\tremaining: 17.5s\n",
      "210:\tlearn: 1371.1920314\ttotal: 4.67s\tremaining: 17.5s\n",
      "211:\tlearn: 1370.8292037\ttotal: 4.69s\tremaining: 17.4s\n",
      "212:\tlearn: 1370.5196882\ttotal: 4.71s\tremaining: 17.4s\n",
      "213:\tlearn: 1370.1581985\ttotal: 4.73s\tremaining: 17.4s\n",
      "214:\tlearn: 1369.7443778\ttotal: 4.75s\tremaining: 17.4s\n",
      "215:\tlearn: 1369.1580583\ttotal: 4.78s\tremaining: 17.3s\n",
      "216:\tlearn: 1368.5048696\ttotal: 4.79s\tremaining: 17.3s\n",
      "217:\tlearn: 1368.1416512\ttotal: 4.81s\tremaining: 17.3s\n",
      "218:\tlearn: 1367.8459045\ttotal: 4.83s\tremaining: 17.2s\n",
      "219:\tlearn: 1367.1818428\ttotal: 4.86s\tremaining: 17.2s\n",
      "220:\tlearn: 1366.9095612\ttotal: 4.88s\tremaining: 17.2s\n",
      "221:\tlearn: 1366.5492340\ttotal: 4.9s\tremaining: 17.2s\n",
      "222:\tlearn: 1366.0530028\ttotal: 4.92s\tremaining: 17.1s\n",
      "223:\tlearn: 1365.6318407\ttotal: 4.94s\tremaining: 17.1s\n",
      "224:\tlearn: 1365.0977874\ttotal: 4.96s\tremaining: 17.1s\n",
      "225:\tlearn: 1364.3631582\ttotal: 4.98s\tremaining: 17.1s\n",
      "226:\tlearn: 1363.6383235\ttotal: 5s\tremaining: 17s\n",
      "227:\tlearn: 1363.3038602\ttotal: 5.03s\tremaining: 17s\n",
      "228:\tlearn: 1362.9453043\ttotal: 5.06s\tremaining: 17s\n",
      "229:\tlearn: 1362.4557322\ttotal: 5.08s\tremaining: 17s\n",
      "230:\tlearn: 1361.9259976\ttotal: 5.1s\tremaining: 17s\n",
      "231:\tlearn: 1361.4815422\ttotal: 5.12s\tremaining: 16.9s\n",
      "232:\tlearn: 1361.2428470\ttotal: 5.15s\tremaining: 16.9s\n",
      "233:\tlearn: 1360.8934842\ttotal: 5.17s\tremaining: 16.9s\n",
      "234:\tlearn: 1360.3677149\ttotal: 5.19s\tremaining: 16.9s\n",
      "235:\tlearn: 1360.1139819\ttotal: 5.21s\tremaining: 16.9s\n",
      "236:\tlearn: 1359.7588261\ttotal: 5.24s\tremaining: 16.9s\n",
      "237:\tlearn: 1359.5332263\ttotal: 5.26s\tremaining: 16.8s\n",
      "238:\tlearn: 1358.8898804\ttotal: 5.28s\tremaining: 16.8s\n",
      "239:\tlearn: 1358.4111865\ttotal: 5.3s\tremaining: 16.8s\n",
      "240:\tlearn: 1357.8676694\ttotal: 5.32s\tremaining: 16.8s\n",
      "241:\tlearn: 1357.5662510\ttotal: 5.35s\tremaining: 16.8s\n",
      "242:\tlearn: 1357.2502422\ttotal: 5.37s\tremaining: 16.7s\n",
      "243:\tlearn: 1356.7664775\ttotal: 5.39s\tremaining: 16.7s\n",
      "244:\tlearn: 1356.2953263\ttotal: 5.41s\tremaining: 16.7s\n",
      "245:\tlearn: 1356.0437204\ttotal: 5.43s\tremaining: 16.7s\n",
      "246:\tlearn: 1355.7558273\ttotal: 5.45s\tremaining: 16.6s\n",
      "247:\tlearn: 1355.3025828\ttotal: 5.47s\tremaining: 16.6s\n",
      "248:\tlearn: 1354.9575657\ttotal: 5.5s\tremaining: 16.6s\n",
      "249:\tlearn: 1354.4781345\ttotal: 5.52s\tremaining: 16.6s\n",
      "250:\tlearn: 1354.1657500\ttotal: 5.55s\tremaining: 16.6s\n",
      "251:\tlearn: 1353.9409582\ttotal: 5.58s\tremaining: 16.6s\n",
      "252:\tlearn: 1353.6623553\ttotal: 5.6s\tremaining: 16.5s\n",
      "253:\tlearn: 1353.0474305\ttotal: 5.63s\tremaining: 16.5s\n",
      "254:\tlearn: 1352.7254520\ttotal: 5.66s\tremaining: 16.5s\n",
      "255:\tlearn: 1352.3476369\ttotal: 5.68s\tremaining: 16.5s\n",
      "256:\tlearn: 1351.9742414\ttotal: 5.71s\tremaining: 16.5s\n",
      "257:\tlearn: 1351.5829760\ttotal: 5.74s\tremaining: 16.5s\n",
      "258:\tlearn: 1351.3539434\ttotal: 5.76s\tremaining: 16.5s\n",
      "259:\tlearn: 1350.9776667\ttotal: 5.78s\tremaining: 16.4s\n",
      "260:\tlearn: 1350.7030571\ttotal: 5.8s\tremaining: 16.4s\n",
      "261:\tlearn: 1350.4317263\ttotal: 5.82s\tremaining: 16.4s\n",
      "262:\tlearn: 1350.1269861\ttotal: 5.84s\tremaining: 16.4s\n",
      "263:\tlearn: 1349.6675590\ttotal: 5.86s\tremaining: 16.3s\n",
      "264:\tlearn: 1349.0379271\ttotal: 5.88s\tremaining: 16.3s\n",
      "265:\tlearn: 1348.6273940\ttotal: 5.9s\tremaining: 16.3s\n",
      "266:\tlearn: 1348.1129610\ttotal: 5.93s\tremaining: 16.3s\n",
      "267:\tlearn: 1347.8429758\ttotal: 5.95s\tremaining: 16.2s\n",
      "268:\tlearn: 1347.5761057\ttotal: 5.96s\tremaining: 16.2s\n",
      "269:\tlearn: 1347.3646472\ttotal: 5.98s\tremaining: 16.2s\n",
      "270:\tlearn: 1347.1134140\ttotal: 6s\tremaining: 16.1s\n",
      "271:\tlearn: 1346.6832410\ttotal: 6.03s\tremaining: 16.1s\n",
      "272:\tlearn: 1346.4478034\ttotal: 6.05s\tremaining: 16.1s\n",
      "273:\tlearn: 1346.2300557\ttotal: 6.07s\tremaining: 16.1s\n",
      "274:\tlearn: 1345.7273565\ttotal: 6.09s\tremaining: 16s\n",
      "275:\tlearn: 1345.3717149\ttotal: 6.11s\tremaining: 16s\n",
      "276:\tlearn: 1344.7840318\ttotal: 6.14s\tremaining: 16s\n",
      "277:\tlearn: 1344.5042966\ttotal: 6.16s\tremaining: 16s\n",
      "278:\tlearn: 1344.1420725\ttotal: 6.18s\tremaining: 16s\n",
      "279:\tlearn: 1343.8414748\ttotal: 6.2s\tremaining: 15.9s\n",
      "280:\tlearn: 1343.4953862\ttotal: 6.22s\tremaining: 15.9s\n",
      "281:\tlearn: 1343.2897835\ttotal: 6.25s\tremaining: 15.9s\n",
      "282:\tlearn: 1342.9916294\ttotal: 6.26s\tremaining: 15.9s\n",
      "283:\tlearn: 1342.5985549\ttotal: 6.29s\tremaining: 15.8s\n",
      "284:\tlearn: 1342.3516898\ttotal: 6.31s\tremaining: 15.8s\n",
      "285:\tlearn: 1342.1590740\ttotal: 6.33s\tremaining: 15.8s\n",
      "286:\tlearn: 1341.8955557\ttotal: 6.35s\tremaining: 15.8s\n",
      "287:\tlearn: 1341.4323680\ttotal: 6.37s\tremaining: 15.8s\n",
      "288:\tlearn: 1341.1485790\ttotal: 6.39s\tremaining: 15.7s\n",
      "289:\tlearn: 1340.7924023\ttotal: 6.42s\tremaining: 15.7s\n",
      "290:\tlearn: 1340.4067700\ttotal: 6.44s\tremaining: 15.7s\n",
      "291:\tlearn: 1339.8666004\ttotal: 6.46s\tremaining: 15.7s\n",
      "292:\tlearn: 1339.6138545\ttotal: 6.48s\tremaining: 15.6s\n",
      "293:\tlearn: 1339.3764848\ttotal: 6.51s\tremaining: 15.6s\n",
      "294:\tlearn: 1339.1271171\ttotal: 6.53s\tremaining: 15.6s\n",
      "295:\tlearn: 1338.7187970\ttotal: 6.55s\tremaining: 15.6s\n",
      "296:\tlearn: 1338.4004576\ttotal: 6.57s\tremaining: 15.5s\n",
      "297:\tlearn: 1338.1634380\ttotal: 6.59s\tremaining: 15.5s\n",
      "298:\tlearn: 1337.8820124\ttotal: 6.61s\tremaining: 15.5s\n",
      "299:\tlearn: 1337.4713154\ttotal: 6.63s\tremaining: 15.5s\n",
      "300:\tlearn: 1337.2788193\ttotal: 6.65s\tremaining: 15.4s\n",
      "301:\tlearn: 1337.1444067\ttotal: 6.67s\tremaining: 15.4s\n",
      "302:\tlearn: 1336.6776613\ttotal: 6.7s\tremaining: 15.4s\n",
      "303:\tlearn: 1336.4332929\ttotal: 6.72s\tremaining: 15.4s\n",
      "304:\tlearn: 1336.1702148\ttotal: 6.74s\tremaining: 15.4s\n",
      "305:\tlearn: 1335.8922982\ttotal: 6.76s\tremaining: 15.3s\n",
      "306:\tlearn: 1335.5630435\ttotal: 6.78s\tremaining: 15.3s\n",
      "307:\tlearn: 1335.2675393\ttotal: 6.8s\tremaining: 15.3s\n",
      "308:\tlearn: 1334.8374157\ttotal: 6.83s\tremaining: 15.3s\n",
      "309:\tlearn: 1334.5676205\ttotal: 6.84s\tremaining: 15.2s\n",
      "310:\tlearn: 1334.1529927\ttotal: 6.87s\tremaining: 15.2s\n",
      "311:\tlearn: 1333.8886572\ttotal: 6.89s\tremaining: 15.2s\n",
      "312:\tlearn: 1333.6358384\ttotal: 6.91s\tremaining: 15.2s\n",
      "313:\tlearn: 1333.2117202\ttotal: 6.93s\tremaining: 15.2s\n",
      "314:\tlearn: 1332.9587451\ttotal: 6.95s\tremaining: 15.1s\n",
      "315:\tlearn: 1332.7830829\ttotal: 6.97s\tremaining: 15.1s\n",
      "316:\tlearn: 1332.4872485\ttotal: 7s\tremaining: 15.1s\n",
      "317:\tlearn: 1332.2044838\ttotal: 7.02s\tremaining: 15.1s\n",
      "318:\tlearn: 1331.9355790\ttotal: 7.04s\tremaining: 15s\n",
      "319:\tlearn: 1331.6860818\ttotal: 7.06s\tremaining: 15s\n",
      "320:\tlearn: 1331.4912144\ttotal: 7.09s\tremaining: 15s\n",
      "321:\tlearn: 1331.2338302\ttotal: 7.11s\tremaining: 15s\n",
      "322:\tlearn: 1330.9738689\ttotal: 7.13s\tremaining: 14.9s\n",
      "323:\tlearn: 1330.8397854\ttotal: 7.15s\tremaining: 14.9s\n",
      "324:\tlearn: 1330.3444297\ttotal: 7.17s\tremaining: 14.9s\n",
      "325:\tlearn: 1330.2330620\ttotal: 7.19s\tremaining: 14.9s\n",
      "326:\tlearn: 1329.9840554\ttotal: 7.21s\tremaining: 14.8s\n",
      "327:\tlearn: 1329.7694850\ttotal: 7.24s\tremaining: 14.8s\n",
      "328:\tlearn: 1329.4321212\ttotal: 7.26s\tremaining: 14.8s\n",
      "329:\tlearn: 1329.1959477\ttotal: 7.28s\tremaining: 14.8s\n",
      "330:\tlearn: 1328.9131200\ttotal: 7.3s\tremaining: 14.8s\n",
      "331:\tlearn: 1328.6597419\ttotal: 7.32s\tremaining: 14.7s\n",
      "332:\tlearn: 1328.3369871\ttotal: 7.34s\tremaining: 14.7s\n",
      "333:\tlearn: 1328.0167063\ttotal: 7.37s\tremaining: 14.7s\n",
      "334:\tlearn: 1327.6530585\ttotal: 7.39s\tremaining: 14.7s\n",
      "335:\tlearn: 1327.4272349\ttotal: 7.41s\tremaining: 14.6s\n",
      "336:\tlearn: 1327.1686570\ttotal: 7.43s\tremaining: 14.6s\n",
      "337:\tlearn: 1326.9640953\ttotal: 7.45s\tremaining: 14.6s\n",
      "338:\tlearn: 1326.7726214\ttotal: 7.48s\tremaining: 14.6s\n",
      "339:\tlearn: 1326.4432421\ttotal: 7.5s\tremaining: 14.6s\n",
      "340:\tlearn: 1326.2756609\ttotal: 7.52s\tremaining: 14.5s\n",
      "341:\tlearn: 1326.0320932\ttotal: 7.54s\tremaining: 14.5s\n",
      "342:\tlearn: 1325.8135338\ttotal: 7.57s\tremaining: 14.5s\n",
      "343:\tlearn: 1325.6240051\ttotal: 7.58s\tremaining: 14.5s\n",
      "344:\tlearn: 1325.3826598\ttotal: 7.61s\tremaining: 14.4s\n",
      "345:\tlearn: 1325.0779248\ttotal: 7.63s\tremaining: 14.4s\n",
      "346:\tlearn: 1324.8386085\ttotal: 7.65s\tremaining: 14.4s\n",
      "347:\tlearn: 1324.6049394\ttotal: 7.67s\tremaining: 14.4s\n",
      "348:\tlearn: 1324.4570530\ttotal: 7.69s\tremaining: 14.3s\n",
      "349:\tlearn: 1324.1943396\ttotal: 7.71s\tremaining: 14.3s\n",
      "350:\tlearn: 1323.8857808\ttotal: 7.73s\tremaining: 14.3s\n",
      "351:\tlearn: 1323.6819127\ttotal: 7.75s\tremaining: 14.3s\n",
      "352:\tlearn: 1323.3738201\ttotal: 7.77s\tremaining: 14.2s\n",
      "353:\tlearn: 1323.1305627\ttotal: 7.79s\tremaining: 14.2s\n",
      "354:\tlearn: 1322.8903947\ttotal: 7.81s\tremaining: 14.2s\n",
      "355:\tlearn: 1322.5265526\ttotal: 7.83s\tremaining: 14.2s\n",
      "356:\tlearn: 1322.2182918\ttotal: 7.86s\tremaining: 14.1s\n",
      "357:\tlearn: 1321.9498017\ttotal: 7.88s\tremaining: 14.1s\n",
      "358:\tlearn: 1321.6629392\ttotal: 7.9s\tremaining: 14.1s\n",
      "359:\tlearn: 1321.3980249\ttotal: 7.92s\tremaining: 14.1s\n",
      "360:\tlearn: 1321.1383159\ttotal: 7.94s\tremaining: 14.1s\n",
      "361:\tlearn: 1320.9435537\ttotal: 7.96s\tremaining: 14s\n",
      "362:\tlearn: 1320.6670916\ttotal: 7.98s\tremaining: 14s\n",
      "363:\tlearn: 1320.3987130\ttotal: 8s\tremaining: 14s\n",
      "364:\tlearn: 1320.2224509\ttotal: 8.02s\tremaining: 14s\n",
      "365:\tlearn: 1320.0702775\ttotal: 8.05s\tremaining: 13.9s\n",
      "366:\tlearn: 1319.8404367\ttotal: 8.07s\tremaining: 13.9s\n",
      "367:\tlearn: 1319.5909110\ttotal: 8.09s\tremaining: 13.9s\n",
      "368:\tlearn: 1319.3986710\ttotal: 8.11s\tremaining: 13.9s\n",
      "369:\tlearn: 1319.2114657\ttotal: 8.14s\tremaining: 13.9s\n",
      "370:\tlearn: 1319.0040287\ttotal: 8.16s\tremaining: 13.8s\n",
      "371:\tlearn: 1318.6042779\ttotal: 8.18s\tremaining: 13.8s\n",
      "372:\tlearn: 1318.3412192\ttotal: 8.2s\tremaining: 13.8s\n",
      "373:\tlearn: 1318.0575050\ttotal: 8.22s\tremaining: 13.8s\n",
      "374:\tlearn: 1317.8555238\ttotal: 8.24s\tremaining: 13.7s\n",
      "375:\tlearn: 1317.7230955\ttotal: 8.26s\tremaining: 13.7s\n",
      "376:\tlearn: 1317.5311127\ttotal: 8.28s\tremaining: 13.7s\n",
      "377:\tlearn: 1317.3120173\ttotal: 8.3s\tremaining: 13.7s\n",
      "378:\tlearn: 1317.0950314\ttotal: 8.33s\tremaining: 13.7s\n",
      "379:\tlearn: 1316.6726583\ttotal: 8.35s\tremaining: 13.6s\n",
      "380:\tlearn: 1316.4591608\ttotal: 8.37s\tremaining: 13.6s\n",
      "381:\tlearn: 1316.2035072\ttotal: 8.39s\tremaining: 13.6s\n",
      "382:\tlearn: 1316.0789740\ttotal: 8.41s\tremaining: 13.6s\n",
      "383:\tlearn: 1315.8435367\ttotal: 8.44s\tremaining: 13.5s\n",
      "384:\tlearn: 1315.6416737\ttotal: 8.46s\tremaining: 13.5s\n",
      "385:\tlearn: 1315.4798261\ttotal: 8.48s\tremaining: 13.5s\n",
      "386:\tlearn: 1315.2410257\ttotal: 8.5s\tremaining: 13.5s\n",
      "387:\tlearn: 1315.0496992\ttotal: 8.53s\tremaining: 13.4s\n",
      "388:\tlearn: 1314.9504276\ttotal: 8.54s\tremaining: 13.4s\n",
      "389:\tlearn: 1314.7409233\ttotal: 8.56s\tremaining: 13.4s\n",
      "390:\tlearn: 1314.4263706\ttotal: 8.58s\tremaining: 13.4s\n",
      "391:\tlearn: 1314.2136077\ttotal: 8.6s\tremaining: 13.3s\n",
      "392:\tlearn: 1314.0879018\ttotal: 8.63s\tremaining: 13.3s\n",
      "393:\tlearn: 1313.8754045\ttotal: 8.65s\tremaining: 13.3s\n",
      "394:\tlearn: 1313.7381490\ttotal: 8.66s\tremaining: 13.3s\n",
      "395:\tlearn: 1313.6259374\ttotal: 8.68s\tremaining: 13.2s\n",
      "396:\tlearn: 1313.4725267\ttotal: 8.7s\tremaining: 13.2s\n",
      "397:\tlearn: 1313.2133510\ttotal: 8.73s\tremaining: 13.2s\n",
      "398:\tlearn: 1312.9132687\ttotal: 8.75s\tremaining: 13.2s\n",
      "399:\tlearn: 1312.7628988\ttotal: 8.77s\tremaining: 13.2s\n",
      "400:\tlearn: 1312.5739569\ttotal: 8.79s\tremaining: 13.1s\n",
      "401:\tlearn: 1312.4627023\ttotal: 8.82s\tremaining: 13.1s\n",
      "402:\tlearn: 1312.2346736\ttotal: 8.84s\tremaining: 13.1s\n",
      "403:\tlearn: 1312.0141951\ttotal: 8.86s\tremaining: 13.1s\n",
      "404:\tlearn: 1311.8561822\ttotal: 8.88s\tremaining: 13s\n",
      "405:\tlearn: 1311.7003576\ttotal: 8.9s\tremaining: 13s\n",
      "406:\tlearn: 1311.4343434\ttotal: 8.92s\tremaining: 13s\n",
      "407:\tlearn: 1311.3044622\ttotal: 8.94s\tremaining: 13s\n",
      "408:\tlearn: 1311.1542431\ttotal: 8.96s\tremaining: 12.9s\n",
      "409:\tlearn: 1310.9932415\ttotal: 8.98s\tremaining: 12.9s\n",
      "410:\tlearn: 1310.7213988\ttotal: 9s\tremaining: 12.9s\n",
      "411:\tlearn: 1310.5025344\ttotal: 9.02s\tremaining: 12.9s\n",
      "412:\tlearn: 1310.2501417\ttotal: 9.04s\tremaining: 12.9s\n",
      "413:\tlearn: 1310.0924415\ttotal: 9.06s\tremaining: 12.8s\n",
      "414:\tlearn: 1309.7006885\ttotal: 9.09s\tremaining: 12.8s\n",
      "415:\tlearn: 1309.4423673\ttotal: 9.11s\tremaining: 12.8s\n",
      "416:\tlearn: 1309.1455197\ttotal: 9.13s\tremaining: 12.8s\n",
      "417:\tlearn: 1309.0116187\ttotal: 9.15s\tremaining: 12.7s\n",
      "418:\tlearn: 1308.9048854\ttotal: 9.17s\tremaining: 12.7s\n",
      "419:\tlearn: 1308.6152725\ttotal: 9.19s\tremaining: 12.7s\n",
      "420:\tlearn: 1308.5192893\ttotal: 9.21s\tremaining: 12.7s\n",
      "421:\tlearn: 1308.2276611\ttotal: 9.23s\tremaining: 12.6s\n",
      "422:\tlearn: 1307.9997971\ttotal: 9.25s\tremaining: 12.6s\n",
      "423:\tlearn: 1307.7979527\ttotal: 9.27s\tremaining: 12.6s\n",
      "424:\tlearn: 1307.4801890\ttotal: 9.3s\tremaining: 12.6s\n",
      "425:\tlearn: 1307.1882593\ttotal: 9.32s\tremaining: 12.6s\n",
      "426:\tlearn: 1307.0145188\ttotal: 9.34s\tremaining: 12.5s\n",
      "427:\tlearn: 1306.7888342\ttotal: 9.36s\tremaining: 12.5s\n",
      "428:\tlearn: 1306.6396359\ttotal: 9.39s\tremaining: 12.5s\n",
      "429:\tlearn: 1306.5221748\ttotal: 9.41s\tremaining: 12.5s\n",
      "430:\tlearn: 1306.2996708\ttotal: 9.43s\tremaining: 12.5s\n",
      "431:\tlearn: 1306.1290495\ttotal: 9.45s\tremaining: 12.4s\n",
      "432:\tlearn: 1305.9864970\ttotal: 9.47s\tremaining: 12.4s\n",
      "433:\tlearn: 1305.6954331\ttotal: 9.5s\tremaining: 12.4s\n",
      "434:\tlearn: 1305.5724723\ttotal: 9.52s\tremaining: 12.4s\n",
      "435:\tlearn: 1305.4743567\ttotal: 9.54s\tremaining: 12.3s\n",
      "436:\tlearn: 1305.3145294\ttotal: 9.56s\tremaining: 12.3s\n",
      "437:\tlearn: 1305.0231284\ttotal: 9.59s\tremaining: 12.3s\n",
      "438:\tlearn: 1304.7730506\ttotal: 9.61s\tremaining: 12.3s\n",
      "439:\tlearn: 1304.6443162\ttotal: 9.63s\tremaining: 12.3s\n",
      "440:\tlearn: 1304.4750042\ttotal: 9.65s\tremaining: 12.2s\n",
      "441:\tlearn: 1304.3554572\ttotal: 9.67s\tremaining: 12.2s\n",
      "442:\tlearn: 1304.1780073\ttotal: 9.7s\tremaining: 12.2s\n",
      "443:\tlearn: 1303.9171322\ttotal: 9.72s\tremaining: 12.2s\n",
      "444:\tlearn: 1303.7283113\ttotal: 9.74s\tremaining: 12.1s\n",
      "445:\tlearn: 1303.4574128\ttotal: 9.76s\tremaining: 12.1s\n",
      "446:\tlearn: 1303.3427116\ttotal: 9.78s\tremaining: 12.1s\n",
      "447:\tlearn: 1303.2135439\ttotal: 9.8s\tremaining: 12.1s\n",
      "448:\tlearn: 1303.0189046\ttotal: 9.82s\tremaining: 12.1s\n",
      "449:\tlearn: 1302.8509340\ttotal: 9.85s\tremaining: 12s\n",
      "450:\tlearn: 1302.7120010\ttotal: 9.87s\tremaining: 12s\n",
      "451:\tlearn: 1302.5552446\ttotal: 9.89s\tremaining: 12s\n",
      "452:\tlearn: 1302.3543743\ttotal: 9.91s\tremaining: 12s\n",
      "453:\tlearn: 1302.1441549\ttotal: 9.94s\tremaining: 11.9s\n",
      "454:\tlearn: 1302.0579966\ttotal: 9.96s\tremaining: 11.9s\n",
      "455:\tlearn: 1301.9145497\ttotal: 9.98s\tremaining: 11.9s\n",
      "456:\tlearn: 1301.7472985\ttotal: 10s\tremaining: 11.9s\n",
      "457:\tlearn: 1301.6165116\ttotal: 10s\tremaining: 11.9s\n",
      "458:\tlearn: 1301.3916289\ttotal: 10.1s\tremaining: 11.8s\n",
      "459:\tlearn: 1301.2263623\ttotal: 10.1s\tremaining: 11.8s\n",
      "460:\tlearn: 1301.0099355\ttotal: 10.1s\tremaining: 11.8s\n",
      "461:\tlearn: 1300.7851905\ttotal: 10.1s\tremaining: 11.8s\n",
      "462:\tlearn: 1300.5197702\ttotal: 10.1s\tremaining: 11.8s\n",
      "463:\tlearn: 1300.3389085\ttotal: 10.2s\tremaining: 11.8s\n",
      "464:\tlearn: 1300.2144701\ttotal: 10.2s\tremaining: 11.7s\n",
      "465:\tlearn: 1300.0759532\ttotal: 10.2s\tremaining: 11.7s\n",
      "466:\tlearn: 1299.8869718\ttotal: 10.2s\tremaining: 11.7s\n",
      "467:\tlearn: 1299.7912061\ttotal: 10.3s\tremaining: 11.7s\n",
      "468:\tlearn: 1299.6280716\ttotal: 10.3s\tremaining: 11.6s\n",
      "469:\tlearn: 1299.3489808\ttotal: 10.3s\tremaining: 11.6s\n",
      "470:\tlearn: 1299.1081949\ttotal: 10.3s\tremaining: 11.6s\n",
      "471:\tlearn: 1298.8859412\ttotal: 10.3s\tremaining: 11.6s\n",
      "472:\tlearn: 1298.7575888\ttotal: 10.4s\tremaining: 11.6s\n",
      "473:\tlearn: 1298.5222032\ttotal: 10.4s\tremaining: 11.5s\n",
      "474:\tlearn: 1298.2909207\ttotal: 10.4s\tremaining: 11.5s\n",
      "475:\tlearn: 1298.1638081\ttotal: 10.4s\tremaining: 11.5s\n",
      "476:\tlearn: 1298.0573182\ttotal: 10.5s\tremaining: 11.5s\n",
      "477:\tlearn: 1297.8342299\ttotal: 10.5s\tremaining: 11.4s\n",
      "478:\tlearn: 1297.7122418\ttotal: 10.5s\tremaining: 11.4s\n",
      "479:\tlearn: 1297.5768833\ttotal: 10.5s\tremaining: 11.4s\n",
      "480:\tlearn: 1297.3619919\ttotal: 10.5s\tremaining: 11.4s\n",
      "481:\tlearn: 1297.2163414\ttotal: 10.6s\tremaining: 11.3s\n",
      "482:\tlearn: 1297.0560203\ttotal: 10.6s\tremaining: 11.3s\n",
      "483:\tlearn: 1296.9091253\ttotal: 10.6s\tremaining: 11.3s\n",
      "484:\tlearn: 1296.8043123\ttotal: 10.6s\tremaining: 11.3s\n",
      "485:\tlearn: 1296.6527286\ttotal: 10.6s\tremaining: 11.3s\n",
      "486:\tlearn: 1296.5497936\ttotal: 10.7s\tremaining: 11.2s\n",
      "487:\tlearn: 1296.4137352\ttotal: 10.7s\tremaining: 11.2s\n",
      "488:\tlearn: 1296.2262174\ttotal: 10.7s\tremaining: 11.2s\n",
      "489:\tlearn: 1296.0158502\ttotal: 10.7s\tremaining: 11.2s\n",
      "490:\tlearn: 1295.9043101\ttotal: 10.7s\tremaining: 11.1s\n",
      "491:\tlearn: 1295.7137266\ttotal: 10.8s\tremaining: 11.1s\n",
      "492:\tlearn: 1295.5945076\ttotal: 10.8s\tremaining: 11.1s\n",
      "493:\tlearn: 1295.4076744\ttotal: 10.8s\tremaining: 11.1s\n",
      "494:\tlearn: 1295.2181411\ttotal: 10.8s\tremaining: 11s\n",
      "495:\tlearn: 1295.0804014\ttotal: 10.9s\tremaining: 11s\n",
      "496:\tlearn: 1294.8995358\ttotal: 10.9s\tremaining: 11s\n",
      "497:\tlearn: 1294.7481565\ttotal: 10.9s\tremaining: 11s\n",
      "498:\tlearn: 1294.5333640\ttotal: 10.9s\tremaining: 11s\n",
      "499:\tlearn: 1294.3562500\ttotal: 11s\tremaining: 11s\n",
      "500:\tlearn: 1294.1765524\ttotal: 11s\tremaining: 10.9s\n",
      "501:\tlearn: 1294.0599104\ttotal: 11s\tremaining: 10.9s\n",
      "502:\tlearn: 1293.9110225\ttotal: 11s\tremaining: 10.9s\n",
      "503:\tlearn: 1293.8041723\ttotal: 11.1s\tremaining: 10.9s\n",
      "504:\tlearn: 1293.6339470\ttotal: 11.1s\tremaining: 10.9s\n",
      "505:\tlearn: 1293.4980723\ttotal: 11.1s\tremaining: 10.9s\n",
      "506:\tlearn: 1293.3976233\ttotal: 11.2s\tremaining: 10.8s\n",
      "507:\tlearn: 1293.2824898\ttotal: 11.2s\tremaining: 10.8s\n",
      "508:\tlearn: 1293.1685631\ttotal: 11.2s\tremaining: 10.8s\n",
      "509:\tlearn: 1293.0777056\ttotal: 11.2s\tremaining: 10.8s\n",
      "510:\tlearn: 1292.9405332\ttotal: 11.2s\tremaining: 10.8s\n",
      "511:\tlearn: 1292.7230270\ttotal: 11.3s\tremaining: 10.7s\n",
      "512:\tlearn: 1292.5555147\ttotal: 11.3s\tremaining: 10.7s\n",
      "513:\tlearn: 1292.4073683\ttotal: 11.3s\tremaining: 10.7s\n",
      "514:\tlearn: 1292.2473720\ttotal: 11.3s\tremaining: 10.7s\n",
      "515:\tlearn: 1292.0995300\ttotal: 11.4s\tremaining: 10.7s\n",
      "516:\tlearn: 1291.9762291\ttotal: 11.4s\tremaining: 10.6s\n",
      "517:\tlearn: 1291.8635238\ttotal: 11.4s\tremaining: 10.6s\n",
      "518:\tlearn: 1291.7327707\ttotal: 11.4s\tremaining: 10.6s\n",
      "519:\tlearn: 1291.5582364\ttotal: 11.4s\tremaining: 10.6s\n",
      "520:\tlearn: 1291.3817180\ttotal: 11.5s\tremaining: 10.5s\n",
      "521:\tlearn: 1291.2511176\ttotal: 11.5s\tremaining: 10.5s\n",
      "522:\tlearn: 1291.0154604\ttotal: 11.5s\tremaining: 10.5s\n",
      "523:\tlearn: 1290.8520337\ttotal: 11.5s\tremaining: 10.5s\n",
      "524:\tlearn: 1290.6991565\ttotal: 11.6s\tremaining: 10.5s\n",
      "525:\tlearn: 1290.5293095\ttotal: 11.6s\tremaining: 10.4s\n",
      "526:\tlearn: 1290.3792518\ttotal: 11.6s\tremaining: 10.4s\n",
      "527:\tlearn: 1290.2213451\ttotal: 11.6s\tremaining: 10.4s\n",
      "528:\tlearn: 1290.0947468\ttotal: 11.6s\tremaining: 10.4s\n",
      "529:\tlearn: 1289.9163898\ttotal: 11.7s\tremaining: 10.3s\n",
      "530:\tlearn: 1289.7276347\ttotal: 11.7s\tremaining: 10.3s\n",
      "531:\tlearn: 1289.6297618\ttotal: 11.7s\tremaining: 10.3s\n",
      "532:\tlearn: 1289.4010023\ttotal: 11.7s\tremaining: 10.3s\n",
      "533:\tlearn: 1289.2360589\ttotal: 11.8s\tremaining: 10.3s\n",
      "534:\tlearn: 1289.1320652\ttotal: 11.8s\tremaining: 10.2s\n",
      "535:\tlearn: 1289.0317160\ttotal: 11.8s\tremaining: 10.2s\n",
      "536:\tlearn: 1288.8580584\ttotal: 11.8s\tremaining: 10.2s\n",
      "537:\tlearn: 1288.6983074\ttotal: 11.8s\tremaining: 10.2s\n",
      "538:\tlearn: 1288.5223899\ttotal: 11.9s\tremaining: 10.1s\n",
      "539:\tlearn: 1288.3427871\ttotal: 11.9s\tremaining: 10.1s\n",
      "540:\tlearn: 1288.2435818\ttotal: 11.9s\tremaining: 10.1s\n",
      "541:\tlearn: 1288.1200005\ttotal: 11.9s\tremaining: 10.1s\n",
      "542:\tlearn: 1288.0203080\ttotal: 11.9s\tremaining: 10s\n",
      "543:\tlearn: 1287.8564991\ttotal: 12s\tremaining: 10s\n",
      "544:\tlearn: 1287.6623258\ttotal: 12s\tremaining: 10s\n",
      "545:\tlearn: 1287.5571140\ttotal: 12s\tremaining: 9.98s\n",
      "546:\tlearn: 1287.3658867\ttotal: 12s\tremaining: 9.96s\n",
      "547:\tlearn: 1287.1904659\ttotal: 12s\tremaining: 9.93s\n",
      "548:\tlearn: 1287.0209701\ttotal: 12.1s\tremaining: 9.91s\n",
      "549:\tlearn: 1286.8049710\ttotal: 12.1s\tremaining: 9.88s\n",
      "550:\tlearn: 1286.7288591\ttotal: 12.1s\tremaining: 9.87s\n",
      "551:\tlearn: 1286.6382024\ttotal: 12.1s\tremaining: 9.84s\n",
      "552:\tlearn: 1286.4892673\ttotal: 12.1s\tremaining: 9.82s\n",
      "553:\tlearn: 1286.3822356\ttotal: 12.2s\tremaining: 9.79s\n",
      "554:\tlearn: 1286.2800172\ttotal: 12.2s\tremaining: 9.77s\n",
      "555:\tlearn: 1286.1930430\ttotal: 12.2s\tremaining: 9.75s\n",
      "556:\tlearn: 1286.0706254\ttotal: 12.2s\tremaining: 9.72s\n",
      "557:\tlearn: 1285.9252143\ttotal: 12.2s\tremaining: 9.7s\n",
      "558:\tlearn: 1285.8074325\ttotal: 12.3s\tremaining: 9.67s\n",
      "559:\tlearn: 1285.6453513\ttotal: 12.3s\tremaining: 9.65s\n",
      "560:\tlearn: 1285.4151755\ttotal: 12.3s\tremaining: 9.63s\n",
      "561:\tlearn: 1285.3561665\ttotal: 12.3s\tremaining: 9.61s\n",
      "562:\tlearn: 1285.1642686\ttotal: 12.3s\tremaining: 9.58s\n",
      "563:\tlearn: 1285.0324082\ttotal: 12.4s\tremaining: 9.56s\n",
      "564:\tlearn: 1284.9224574\ttotal: 12.4s\tremaining: 9.54s\n",
      "565:\tlearn: 1284.8049723\ttotal: 12.4s\tremaining: 9.51s\n",
      "566:\tlearn: 1284.6787901\ttotal: 12.4s\tremaining: 9.49s\n",
      "567:\tlearn: 1284.5440472\ttotal: 12.4s\tremaining: 9.46s\n",
      "568:\tlearn: 1284.3850973\ttotal: 12.5s\tremaining: 9.44s\n",
      "569:\tlearn: 1284.2587770\ttotal: 12.5s\tremaining: 9.43s\n",
      "570:\tlearn: 1284.1365363\ttotal: 12.5s\tremaining: 9.4s\n",
      "571:\tlearn: 1283.9946012\ttotal: 12.5s\tremaining: 9.38s\n",
      "572:\tlearn: 1283.8815508\ttotal: 12.6s\tremaining: 9.35s\n",
      "573:\tlearn: 1283.7439244\ttotal: 12.6s\tremaining: 9.34s\n",
      "574:\tlearn: 1283.6000528\ttotal: 12.6s\tremaining: 9.31s\n",
      "575:\tlearn: 1283.4633837\ttotal: 12.6s\tremaining: 9.29s\n",
      "576:\tlearn: 1283.2404347\ttotal: 12.6s\tremaining: 9.27s\n",
      "577:\tlearn: 1283.1005689\ttotal: 12.7s\tremaining: 9.24s\n",
      "578:\tlearn: 1282.9048658\ttotal: 12.7s\tremaining: 9.22s\n",
      "579:\tlearn: 1282.7851930\ttotal: 12.7s\tremaining: 9.2s\n",
      "580:\tlearn: 1282.6184832\ttotal: 12.7s\tremaining: 9.18s\n",
      "581:\tlearn: 1282.4703259\ttotal: 12.7s\tremaining: 9.15s\n",
      "582:\tlearn: 1282.3441117\ttotal: 12.8s\tremaining: 9.13s\n",
      "583:\tlearn: 1282.2056148\ttotal: 12.8s\tremaining: 9.11s\n",
      "584:\tlearn: 1282.0933448\ttotal: 12.8s\tremaining: 9.08s\n",
      "585:\tlearn: 1281.9895648\ttotal: 12.8s\tremaining: 9.06s\n",
      "586:\tlearn: 1281.9328032\ttotal: 12.8s\tremaining: 9.04s\n",
      "587:\tlearn: 1281.8041314\ttotal: 12.9s\tremaining: 9.01s\n",
      "588:\tlearn: 1281.6016273\ttotal: 12.9s\tremaining: 8.99s\n",
      "589:\tlearn: 1281.4950097\ttotal: 12.9s\tremaining: 8.96s\n",
      "590:\tlearn: 1281.4069637\ttotal: 12.9s\tremaining: 8.94s\n",
      "591:\tlearn: 1281.2408031\ttotal: 12.9s\tremaining: 8.92s\n",
      "592:\tlearn: 1281.1236410\ttotal: 13s\tremaining: 8.9s\n",
      "593:\tlearn: 1281.0004637\ttotal: 13s\tremaining: 8.88s\n",
      "594:\tlearn: 1280.9062682\ttotal: 13s\tremaining: 8.85s\n",
      "595:\tlearn: 1280.7985695\ttotal: 13s\tremaining: 8.83s\n",
      "596:\tlearn: 1280.6417440\ttotal: 13s\tremaining: 8.8s\n",
      "597:\tlearn: 1280.4460489\ttotal: 13.1s\tremaining: 8.79s\n",
      "598:\tlearn: 1280.3718927\ttotal: 13.1s\tremaining: 8.76s\n",
      "599:\tlearn: 1280.2243052\ttotal: 13.1s\tremaining: 8.74s\n",
      "600:\tlearn: 1280.1056896\ttotal: 13.1s\tremaining: 8.71s\n",
      "601:\tlearn: 1279.9504801\ttotal: 13.2s\tremaining: 8.7s\n",
      "602:\tlearn: 1279.8322591\ttotal: 13.2s\tremaining: 8.67s\n",
      "603:\tlearn: 1279.7283286\ttotal: 13.2s\tremaining: 8.65s\n",
      "604:\tlearn: 1279.6302456\ttotal: 13.2s\tremaining: 8.62s\n",
      "605:\tlearn: 1279.5320793\ttotal: 13.2s\tremaining: 8.6s\n",
      "606:\tlearn: 1279.4293830\ttotal: 13.3s\tremaining: 8.58s\n",
      "607:\tlearn: 1279.3008088\ttotal: 13.3s\tremaining: 8.56s\n",
      "608:\tlearn: 1279.0350969\ttotal: 13.3s\tremaining: 8.54s\n",
      "609:\tlearn: 1278.9060648\ttotal: 13.3s\tremaining: 8.51s\n",
      "610:\tlearn: 1278.7340275\ttotal: 13.3s\tremaining: 8.49s\n",
      "611:\tlearn: 1278.5613595\ttotal: 13.4s\tremaining: 8.47s\n",
      "612:\tlearn: 1278.4013212\ttotal: 13.4s\tremaining: 8.45s\n",
      "613:\tlearn: 1278.3102272\ttotal: 13.4s\tremaining: 8.42s\n",
      "614:\tlearn: 1278.2232964\ttotal: 13.4s\tremaining: 8.4s\n",
      "615:\tlearn: 1278.1088619\ttotal: 13.4s\tremaining: 8.38s\n",
      "616:\tlearn: 1277.9978227\ttotal: 13.5s\tremaining: 8.36s\n",
      "617:\tlearn: 1277.9095954\ttotal: 13.5s\tremaining: 8.34s\n",
      "618:\tlearn: 1277.7962621\ttotal: 13.5s\tremaining: 8.32s\n",
      "619:\tlearn: 1277.7088548\ttotal: 13.5s\tremaining: 8.3s\n",
      "620:\tlearn: 1277.5564982\ttotal: 13.6s\tremaining: 8.28s\n",
      "621:\tlearn: 1277.4531445\ttotal: 13.6s\tremaining: 8.26s\n",
      "622:\tlearn: 1277.3441751\ttotal: 13.6s\tremaining: 8.24s\n",
      "623:\tlearn: 1277.2396295\ttotal: 13.6s\tremaining: 8.21s\n",
      "624:\tlearn: 1277.1038575\ttotal: 13.7s\tremaining: 8.19s\n",
      "625:\tlearn: 1276.9575501\ttotal: 13.7s\tremaining: 8.17s\n",
      "626:\tlearn: 1276.8135135\ttotal: 13.7s\tremaining: 8.14s\n",
      "627:\tlearn: 1276.6763657\ttotal: 13.7s\tremaining: 8.12s\n",
      "628:\tlearn: 1276.6053508\ttotal: 13.7s\tremaining: 8.1s\n",
      "629:\tlearn: 1276.5068789\ttotal: 13.8s\tremaining: 8.08s\n",
      "630:\tlearn: 1276.4163124\ttotal: 13.8s\tremaining: 8.05s\n",
      "631:\tlearn: 1276.2856188\ttotal: 13.8s\tremaining: 8.03s\n",
      "632:\tlearn: 1276.1462567\ttotal: 13.8s\tremaining: 8.01s\n",
      "633:\tlearn: 1275.8701909\ttotal: 13.8s\tremaining: 7.99s\n",
      "634:\tlearn: 1275.7635930\ttotal: 13.9s\tremaining: 7.97s\n",
      "635:\tlearn: 1275.6506011\ttotal: 13.9s\tremaining: 7.94s\n",
      "636:\tlearn: 1275.4935437\ttotal: 13.9s\tremaining: 7.92s\n",
      "637:\tlearn: 1275.3160937\ttotal: 13.9s\tremaining: 7.9s\n",
      "638:\tlearn: 1275.1865608\ttotal: 13.9s\tremaining: 7.88s\n",
      "639:\tlearn: 1275.0329269\ttotal: 14s\tremaining: 7.85s\n",
      "640:\tlearn: 1274.9371831\ttotal: 14s\tremaining: 7.83s\n",
      "641:\tlearn: 1274.8347549\ttotal: 14s\tremaining: 7.8s\n",
      "642:\tlearn: 1274.7166206\ttotal: 14s\tremaining: 7.78s\n",
      "643:\tlearn: 1274.5794072\ttotal: 14s\tremaining: 7.76s\n",
      "644:\tlearn: 1274.5170385\ttotal: 14.1s\tremaining: 7.74s\n",
      "645:\tlearn: 1274.3746676\ttotal: 14.1s\tremaining: 7.71s\n",
      "646:\tlearn: 1274.2324928\ttotal: 14.1s\tremaining: 7.69s\n",
      "647:\tlearn: 1274.1704554\ttotal: 14.1s\tremaining: 7.67s\n",
      "648:\tlearn: 1274.0522224\ttotal: 14.1s\tremaining: 7.65s\n",
      "649:\tlearn: 1273.9719791\ttotal: 14.2s\tremaining: 7.63s\n",
      "650:\tlearn: 1273.8802935\ttotal: 14.2s\tremaining: 7.6s\n",
      "651:\tlearn: 1273.7361808\ttotal: 14.2s\tremaining: 7.58s\n",
      "652:\tlearn: 1273.6134856\ttotal: 14.2s\tremaining: 7.56s\n",
      "653:\tlearn: 1273.5248393\ttotal: 14.3s\tremaining: 7.54s\n",
      "654:\tlearn: 1273.4564734\ttotal: 14.3s\tremaining: 7.52s\n",
      "655:\tlearn: 1273.3327597\ttotal: 14.3s\tremaining: 7.49s\n",
      "656:\tlearn: 1273.2159404\ttotal: 14.3s\tremaining: 7.47s\n",
      "657:\tlearn: 1273.1615467\ttotal: 14.3s\tremaining: 7.45s\n",
      "658:\tlearn: 1273.0815146\ttotal: 14.4s\tremaining: 7.43s\n",
      "659:\tlearn: 1272.9385969\ttotal: 14.4s\tremaining: 7.4s\n",
      "660:\tlearn: 1272.8614996\ttotal: 14.4s\tremaining: 7.38s\n",
      "661:\tlearn: 1272.7688386\ttotal: 14.4s\tremaining: 7.36s\n",
      "662:\tlearn: 1272.7120362\ttotal: 14.4s\tremaining: 7.34s\n",
      "663:\tlearn: 1272.6261510\ttotal: 14.5s\tremaining: 7.31s\n",
      "664:\tlearn: 1272.5050341\ttotal: 14.5s\tremaining: 7.29s\n",
      "665:\tlearn: 1272.4212258\ttotal: 14.5s\tremaining: 7.27s\n",
      "666:\tlearn: 1272.3110385\ttotal: 14.5s\tremaining: 7.25s\n",
      "667:\tlearn: 1272.2207447\ttotal: 14.5s\tremaining: 7.22s\n",
      "668:\tlearn: 1272.1363771\ttotal: 14.6s\tremaining: 7.2s\n",
      "669:\tlearn: 1272.0672201\ttotal: 14.6s\tremaining: 7.18s\n",
      "670:\tlearn: 1271.8701596\ttotal: 14.6s\tremaining: 7.16s\n",
      "671:\tlearn: 1271.7571821\ttotal: 14.6s\tremaining: 7.13s\n",
      "672:\tlearn: 1271.6557331\ttotal: 14.6s\tremaining: 7.11s\n",
      "673:\tlearn: 1271.5225516\ttotal: 14.7s\tremaining: 7.09s\n",
      "674:\tlearn: 1271.4297771\ttotal: 14.7s\tremaining: 7.07s\n",
      "675:\tlearn: 1271.3346679\ttotal: 14.7s\tremaining: 7.05s\n",
      "676:\tlearn: 1271.2507898\ttotal: 14.7s\tremaining: 7.03s\n",
      "677:\tlearn: 1271.0594074\ttotal: 14.7s\tremaining: 7s\n",
      "678:\tlearn: 1270.8948833\ttotal: 14.8s\tremaining: 6.98s\n",
      "679:\tlearn: 1270.8157877\ttotal: 14.8s\tremaining: 6.96s\n",
      "680:\tlearn: 1270.7368686\ttotal: 14.8s\tremaining: 6.94s\n",
      "681:\tlearn: 1270.6406431\ttotal: 14.8s\tremaining: 6.92s\n",
      "682:\tlearn: 1270.5527843\ttotal: 14.9s\tremaining: 6.89s\n",
      "683:\tlearn: 1270.4499469\ttotal: 14.9s\tremaining: 6.87s\n",
      "684:\tlearn: 1270.3583955\ttotal: 14.9s\tremaining: 6.85s\n",
      "685:\tlearn: 1270.2478936\ttotal: 14.9s\tremaining: 6.83s\n",
      "686:\tlearn: 1270.1198342\ttotal: 14.9s\tremaining: 6.8s\n",
      "687:\tlearn: 1270.0194333\ttotal: 15s\tremaining: 6.78s\n",
      "688:\tlearn: 1269.9322474\ttotal: 15s\tremaining: 6.76s\n",
      "689:\tlearn: 1269.8311850\ttotal: 15s\tremaining: 6.74s\n",
      "690:\tlearn: 1269.7283835\ttotal: 15s\tremaining: 6.72s\n",
      "691:\tlearn: 1269.6038727\ttotal: 15s\tremaining: 6.7s\n",
      "692:\tlearn: 1269.4585111\ttotal: 15.1s\tremaining: 6.67s\n",
      "693:\tlearn: 1269.2954564\ttotal: 15.1s\tremaining: 6.65s\n",
      "694:\tlearn: 1269.2004234\ttotal: 15.1s\tremaining: 6.63s\n",
      "695:\tlearn: 1269.0912932\ttotal: 15.1s\tremaining: 6.61s\n",
      "696:\tlearn: 1269.0009694\ttotal: 15.1s\tremaining: 6.58s\n",
      "697:\tlearn: 1268.8434702\ttotal: 15.2s\tremaining: 6.56s\n",
      "698:\tlearn: 1268.7067219\ttotal: 15.2s\tremaining: 6.54s\n",
      "699:\tlearn: 1268.5956718\ttotal: 15.2s\tremaining: 6.52s\n",
      "700:\tlearn: 1268.5141838\ttotal: 15.2s\tremaining: 6.5s\n",
      "701:\tlearn: 1268.3954581\ttotal: 15.3s\tremaining: 6.48s\n",
      "702:\tlearn: 1268.2227651\ttotal: 15.3s\tremaining: 6.46s\n",
      "703:\tlearn: 1268.1288251\ttotal: 15.3s\tremaining: 6.44s\n",
      "704:\tlearn: 1268.0200132\ttotal: 15.3s\tremaining: 6.41s\n",
      "705:\tlearn: 1267.9414830\ttotal: 15.3s\tremaining: 6.39s\n",
      "706:\tlearn: 1267.8639853\ttotal: 15.4s\tremaining: 6.37s\n",
      "707:\tlearn: 1267.7769436\ttotal: 15.4s\tremaining: 6.35s\n",
      "708:\tlearn: 1267.6381967\ttotal: 15.4s\tremaining: 6.32s\n",
      "709:\tlearn: 1267.5029718\ttotal: 15.4s\tremaining: 6.3s\n",
      "710:\tlearn: 1267.4461211\ttotal: 15.4s\tremaining: 6.28s\n",
      "711:\tlearn: 1267.3238266\ttotal: 15.5s\tremaining: 6.26s\n",
      "712:\tlearn: 1267.2082187\ttotal: 15.5s\tremaining: 6.24s\n",
      "713:\tlearn: 1267.1109578\ttotal: 15.5s\tremaining: 6.21s\n",
      "714:\tlearn: 1266.9745977\ttotal: 15.5s\tremaining: 6.19s\n",
      "715:\tlearn: 1266.8583445\ttotal: 15.6s\tremaining: 6.17s\n",
      "716:\tlearn: 1266.7994982\ttotal: 15.6s\tremaining: 6.15s\n",
      "717:\tlearn: 1266.7477105\ttotal: 15.6s\tremaining: 6.13s\n",
      "718:\tlearn: 1266.6755241\ttotal: 15.6s\tremaining: 6.11s\n",
      "719:\tlearn: 1266.5202944\ttotal: 15.7s\tremaining: 6.09s\n",
      "720:\tlearn: 1266.4255445\ttotal: 15.7s\tremaining: 6.07s\n",
      "721:\tlearn: 1266.3421371\ttotal: 15.7s\tremaining: 6.05s\n",
      "722:\tlearn: 1266.2560891\ttotal: 15.7s\tremaining: 6.03s\n",
      "723:\tlearn: 1266.1810874\ttotal: 15.8s\tremaining: 6s\n",
      "724:\tlearn: 1266.0895063\ttotal: 15.8s\tremaining: 5.98s\n",
      "725:\tlearn: 1266.0146196\ttotal: 15.8s\tremaining: 5.96s\n",
      "726:\tlearn: 1265.8674477\ttotal: 15.8s\tremaining: 5.94s\n",
      "727:\tlearn: 1265.7758902\ttotal: 15.8s\tremaining: 5.92s\n",
      "728:\tlearn: 1265.7069040\ttotal: 15.9s\tremaining: 5.9s\n",
      "729:\tlearn: 1265.5654314\ttotal: 15.9s\tremaining: 5.87s\n",
      "730:\tlearn: 1265.4800563\ttotal: 15.9s\tremaining: 5.85s\n",
      "731:\tlearn: 1265.4125041\ttotal: 15.9s\tremaining: 5.83s\n",
      "732:\tlearn: 1265.2979704\ttotal: 15.9s\tremaining: 5.8s\n",
      "733:\tlearn: 1265.2101203\ttotal: 16s\tremaining: 5.79s\n",
      "734:\tlearn: 1265.1021960\ttotal: 16s\tremaining: 5.76s\n",
      "735:\tlearn: 1265.0359000\ttotal: 16s\tremaining: 5.74s\n",
      "736:\tlearn: 1264.9103529\ttotal: 16s\tremaining: 5.72s\n",
      "737:\tlearn: 1264.7821227\ttotal: 16.1s\tremaining: 5.7s\n",
      "738:\tlearn: 1264.6185561\ttotal: 16.1s\tremaining: 5.68s\n",
      "739:\tlearn: 1264.4947676\ttotal: 16.1s\tremaining: 5.66s\n",
      "740:\tlearn: 1264.3735948\ttotal: 16.1s\tremaining: 5.63s\n",
      "741:\tlearn: 1264.2315238\ttotal: 16.1s\tremaining: 5.61s\n",
      "742:\tlearn: 1264.1549658\ttotal: 16.2s\tremaining: 5.59s\n",
      "743:\tlearn: 1264.0967025\ttotal: 16.2s\tremaining: 5.57s\n",
      "744:\tlearn: 1264.0071457\ttotal: 16.2s\tremaining: 5.54s\n",
      "745:\tlearn: 1263.8787871\ttotal: 16.2s\tremaining: 5.52s\n",
      "746:\tlearn: 1263.7335918\ttotal: 16.2s\tremaining: 5.5s\n",
      "747:\tlearn: 1263.5910924\ttotal: 16.3s\tremaining: 5.48s\n",
      "748:\tlearn: 1263.4308871\ttotal: 16.3s\tremaining: 5.46s\n",
      "749:\tlearn: 1263.2830368\ttotal: 16.3s\tremaining: 5.43s\n",
      "750:\tlearn: 1263.2187906\ttotal: 16.3s\tremaining: 5.41s\n",
      "751:\tlearn: 1263.0715751\ttotal: 16.3s\tremaining: 5.39s\n",
      "752:\tlearn: 1263.0168345\ttotal: 16.4s\tremaining: 5.37s\n",
      "753:\tlearn: 1262.8685561\ttotal: 16.4s\tremaining: 5.35s\n",
      "754:\tlearn: 1262.7408889\ttotal: 16.4s\tremaining: 5.32s\n",
      "755:\tlearn: 1262.5896599\ttotal: 16.4s\tremaining: 5.3s\n",
      "756:\tlearn: 1262.4991246\ttotal: 16.5s\tremaining: 5.28s\n",
      "757:\tlearn: 1262.4210195\ttotal: 16.5s\tremaining: 5.26s\n",
      "758:\tlearn: 1262.3541338\ttotal: 16.5s\tremaining: 5.24s\n",
      "759:\tlearn: 1262.2987654\ttotal: 16.5s\tremaining: 5.21s\n",
      "760:\tlearn: 1262.1378364\ttotal: 16.5s\tremaining: 5.19s\n",
      "761:\tlearn: 1262.0312406\ttotal: 16.6s\tremaining: 5.17s\n",
      "762:\tlearn: 1261.9388850\ttotal: 16.6s\tremaining: 5.15s\n",
      "763:\tlearn: 1261.8052056\ttotal: 16.6s\tremaining: 5.13s\n",
      "764:\tlearn: 1261.7271197\ttotal: 16.6s\tremaining: 5.1s\n",
      "765:\tlearn: 1261.6108484\ttotal: 16.6s\tremaining: 5.08s\n",
      "766:\tlearn: 1261.5314747\ttotal: 16.7s\tremaining: 5.06s\n",
      "767:\tlearn: 1261.4592073\ttotal: 16.7s\tremaining: 5.04s\n",
      "768:\tlearn: 1261.3237333\ttotal: 16.7s\tremaining: 5.01s\n",
      "769:\tlearn: 1261.2615655\ttotal: 16.7s\tremaining: 4.99s\n",
      "770:\tlearn: 1261.1786319\ttotal: 16.7s\tremaining: 4.97s\n",
      "771:\tlearn: 1261.0431029\ttotal: 16.8s\tremaining: 4.95s\n",
      "772:\tlearn: 1261.0019044\ttotal: 16.8s\tremaining: 4.93s\n",
      "773:\tlearn: 1260.9227486\ttotal: 16.8s\tremaining: 4.9s\n",
      "774:\tlearn: 1260.8165346\ttotal: 16.8s\tremaining: 4.88s\n",
      "775:\tlearn: 1260.7396693\ttotal: 16.8s\tremaining: 4.86s\n",
      "776:\tlearn: 1260.6766894\ttotal: 16.9s\tremaining: 4.84s\n",
      "777:\tlearn: 1260.6127123\ttotal: 16.9s\tremaining: 4.82s\n",
      "778:\tlearn: 1260.4623935\ttotal: 16.9s\tremaining: 4.79s\n",
      "779:\tlearn: 1260.3807428\ttotal: 16.9s\tremaining: 4.77s\n",
      "780:\tlearn: 1260.3238141\ttotal: 16.9s\tremaining: 4.75s\n",
      "781:\tlearn: 1260.1835576\ttotal: 17s\tremaining: 4.73s\n",
      "782:\tlearn: 1260.0618054\ttotal: 17s\tremaining: 4.71s\n",
      "783:\tlearn: 1259.9306931\ttotal: 17s\tremaining: 4.68s\n",
      "784:\tlearn: 1259.8447149\ttotal: 17s\tremaining: 4.66s\n",
      "785:\tlearn: 1259.7849417\ttotal: 17s\tremaining: 4.64s\n",
      "786:\tlearn: 1259.7266131\ttotal: 17.1s\tremaining: 4.62s\n",
      "787:\tlearn: 1259.6320998\ttotal: 17.1s\tremaining: 4.59s\n",
      "788:\tlearn: 1259.5518152\ttotal: 17.1s\tremaining: 4.57s\n",
      "789:\tlearn: 1259.4574513\ttotal: 17.1s\tremaining: 4.55s\n",
      "790:\tlearn: 1259.3815168\ttotal: 17.1s\tremaining: 4.53s\n",
      "791:\tlearn: 1259.2665902\ttotal: 17.2s\tremaining: 4.51s\n",
      "792:\tlearn: 1259.2188560\ttotal: 17.2s\tremaining: 4.49s\n",
      "793:\tlearn: 1259.1670544\ttotal: 17.2s\tremaining: 4.46s\n",
      "794:\tlearn: 1259.0544659\ttotal: 17.2s\tremaining: 4.44s\n",
      "795:\tlearn: 1258.9874412\ttotal: 17.2s\tremaining: 4.42s\n",
      "796:\tlearn: 1258.8688037\ttotal: 17.3s\tremaining: 4.4s\n",
      "797:\tlearn: 1258.8117312\ttotal: 17.3s\tremaining: 4.37s\n",
      "798:\tlearn: 1258.7611725\ttotal: 17.3s\tremaining: 4.35s\n",
      "799:\tlearn: 1258.6433741\ttotal: 17.3s\tremaining: 4.33s\n",
      "800:\tlearn: 1258.5832134\ttotal: 17.3s\tremaining: 4.31s\n",
      "801:\tlearn: 1258.4700391\ttotal: 17.4s\tremaining: 4.29s\n",
      "802:\tlearn: 1258.4238198\ttotal: 17.4s\tremaining: 4.26s\n",
      "803:\tlearn: 1258.3154663\ttotal: 17.4s\tremaining: 4.25s\n",
      "804:\tlearn: 1258.2146393\ttotal: 17.4s\tremaining: 4.22s\n",
      "805:\tlearn: 1258.1103864\ttotal: 17.5s\tremaining: 4.2s\n",
      "806:\tlearn: 1258.0293636\ttotal: 17.5s\tremaining: 4.18s\n",
      "807:\tlearn: 1257.9289350\ttotal: 17.5s\tremaining: 4.16s\n",
      "808:\tlearn: 1257.8386099\ttotal: 17.5s\tremaining: 4.13s\n",
      "809:\tlearn: 1257.7045613\ttotal: 17.5s\tremaining: 4.11s\n",
      "810:\tlearn: 1257.5842604\ttotal: 17.6s\tremaining: 4.09s\n",
      "811:\tlearn: 1257.5072309\ttotal: 17.6s\tremaining: 4.07s\n",
      "812:\tlearn: 1257.4564753\ttotal: 17.6s\tremaining: 4.05s\n",
      "813:\tlearn: 1257.3137853\ttotal: 17.6s\tremaining: 4.03s\n",
      "814:\tlearn: 1257.2178643\ttotal: 17.6s\tremaining: 4s\n",
      "815:\tlearn: 1257.1744444\ttotal: 17.6s\tremaining: 3.98s\n",
      "816:\tlearn: 1257.0856944\ttotal: 17.7s\tremaining: 3.96s\n",
      "817:\tlearn: 1257.0018559\ttotal: 17.7s\tremaining: 3.94s\n",
      "818:\tlearn: 1256.9350700\ttotal: 17.7s\tremaining: 3.91s\n",
      "819:\tlearn: 1256.8475944\ttotal: 17.7s\tremaining: 3.89s\n",
      "820:\tlearn: 1256.7516297\ttotal: 17.7s\tremaining: 3.87s\n",
      "821:\tlearn: 1256.6506759\ttotal: 17.8s\tremaining: 3.85s\n",
      "822:\tlearn: 1256.5523214\ttotal: 17.8s\tremaining: 3.83s\n",
      "823:\tlearn: 1256.4779987\ttotal: 17.8s\tremaining: 3.8s\n",
      "824:\tlearn: 1256.3890154\ttotal: 17.8s\tremaining: 3.78s\n",
      "825:\tlearn: 1256.2632918\ttotal: 17.8s\tremaining: 3.76s\n",
      "826:\tlearn: 1256.1998258\ttotal: 17.9s\tremaining: 3.74s\n",
      "827:\tlearn: 1256.1027376\ttotal: 17.9s\tremaining: 3.72s\n",
      "828:\tlearn: 1256.0431571\ttotal: 17.9s\tremaining: 3.69s\n",
      "829:\tlearn: 1255.9770957\ttotal: 17.9s\tremaining: 3.67s\n",
      "830:\tlearn: 1255.8848535\ttotal: 17.9s\tremaining: 3.65s\n",
      "831:\tlearn: 1255.8392203\ttotal: 18s\tremaining: 3.63s\n",
      "832:\tlearn: 1255.7304463\ttotal: 18s\tremaining: 3.61s\n",
      "833:\tlearn: 1255.6771821\ttotal: 18s\tremaining: 3.58s\n",
      "834:\tlearn: 1255.6015178\ttotal: 18s\tremaining: 3.56s\n",
      "835:\tlearn: 1255.5210446\ttotal: 18s\tremaining: 3.54s\n",
      "836:\tlearn: 1255.4461221\ttotal: 18.1s\tremaining: 3.52s\n",
      "837:\tlearn: 1255.3752643\ttotal: 18.1s\tremaining: 3.5s\n",
      "838:\tlearn: 1255.2987257\ttotal: 18.1s\tremaining: 3.48s\n",
      "839:\tlearn: 1255.2134375\ttotal: 18.1s\tremaining: 3.45s\n",
      "840:\tlearn: 1255.1016516\ttotal: 18.2s\tremaining: 3.43s\n",
      "841:\tlearn: 1255.0136692\ttotal: 18.2s\tremaining: 3.41s\n",
      "842:\tlearn: 1254.9311063\ttotal: 18.2s\tremaining: 3.39s\n",
      "843:\tlearn: 1254.8820606\ttotal: 18.2s\tremaining: 3.37s\n",
      "844:\tlearn: 1254.8042143\ttotal: 18.2s\tremaining: 3.35s\n",
      "845:\tlearn: 1254.7032260\ttotal: 18.3s\tremaining: 3.33s\n",
      "846:\tlearn: 1254.6602955\ttotal: 18.3s\tremaining: 3.3s\n",
      "847:\tlearn: 1254.5709632\ttotal: 18.3s\tremaining: 3.28s\n",
      "848:\tlearn: 1254.5188191\ttotal: 18.3s\tremaining: 3.26s\n",
      "849:\tlearn: 1254.4604916\ttotal: 18.3s\tremaining: 3.24s\n",
      "850:\tlearn: 1254.4109271\ttotal: 18.4s\tremaining: 3.22s\n",
      "851:\tlearn: 1254.3069975\ttotal: 18.4s\tremaining: 3.19s\n",
      "852:\tlearn: 1254.2338889\ttotal: 18.4s\tremaining: 3.17s\n",
      "853:\tlearn: 1254.1303974\ttotal: 18.4s\tremaining: 3.15s\n",
      "854:\tlearn: 1254.0629185\ttotal: 18.4s\tremaining: 3.13s\n",
      "855:\tlearn: 1253.9480795\ttotal: 18.5s\tremaining: 3.11s\n",
      "856:\tlearn: 1253.8703904\ttotal: 18.5s\tremaining: 3.08s\n",
      "857:\tlearn: 1253.7963290\ttotal: 18.5s\tremaining: 3.06s\n",
      "858:\tlearn: 1253.7208055\ttotal: 18.5s\tremaining: 3.04s\n",
      "859:\tlearn: 1253.6050026\ttotal: 18.5s\tremaining: 3.02s\n",
      "860:\tlearn: 1253.4806349\ttotal: 18.6s\tremaining: 3s\n",
      "861:\tlearn: 1253.4232763\ttotal: 18.6s\tremaining: 2.98s\n",
      "862:\tlearn: 1253.3428570\ttotal: 18.6s\tremaining: 2.95s\n",
      "863:\tlearn: 1253.2877392\ttotal: 18.6s\tremaining: 2.93s\n",
      "864:\tlearn: 1253.2205066\ttotal: 18.6s\tremaining: 2.91s\n",
      "865:\tlearn: 1253.1443012\ttotal: 18.7s\tremaining: 2.89s\n",
      "866:\tlearn: 1253.0895359\ttotal: 18.7s\tremaining: 2.87s\n",
      "867:\tlearn: 1253.0399267\ttotal: 18.7s\tremaining: 2.84s\n",
      "868:\tlearn: 1252.9717297\ttotal: 18.7s\tremaining: 2.82s\n",
      "869:\tlearn: 1252.8950552\ttotal: 18.8s\tremaining: 2.8s\n",
      "870:\tlearn: 1252.8428865\ttotal: 18.8s\tremaining: 2.78s\n",
      "871:\tlearn: 1252.7827900\ttotal: 18.8s\tremaining: 2.76s\n",
      "872:\tlearn: 1252.7259291\ttotal: 18.8s\tremaining: 2.73s\n",
      "873:\tlearn: 1252.6617492\ttotal: 18.8s\tremaining: 2.71s\n",
      "874:\tlearn: 1252.5698375\ttotal: 18.8s\tremaining: 2.69s\n",
      "875:\tlearn: 1252.4635034\ttotal: 18.9s\tremaining: 2.67s\n",
      "876:\tlearn: 1252.3918605\ttotal: 18.9s\tremaining: 2.65s\n",
      "877:\tlearn: 1252.3240277\ttotal: 18.9s\tremaining: 2.63s\n",
      "878:\tlearn: 1252.2943107\ttotal: 18.9s\tremaining: 2.6s\n",
      "879:\tlearn: 1252.2159576\ttotal: 18.9s\tremaining: 2.58s\n",
      "880:\tlearn: 1252.0696655\ttotal: 19s\tremaining: 2.56s\n",
      "881:\tlearn: 1251.9427856\ttotal: 19s\tremaining: 2.54s\n",
      "882:\tlearn: 1251.8295249\ttotal: 19s\tremaining: 2.52s\n",
      "883:\tlearn: 1251.7663319\ttotal: 19s\tremaining: 2.5s\n",
      "884:\tlearn: 1251.6263802\ttotal: 19.1s\tremaining: 2.48s\n",
      "885:\tlearn: 1251.5603135\ttotal: 19.1s\tremaining: 2.46s\n",
      "886:\tlearn: 1251.4857323\ttotal: 19.1s\tremaining: 2.43s\n",
      "887:\tlearn: 1251.3385618\ttotal: 19.1s\tremaining: 2.41s\n",
      "888:\tlearn: 1251.2564144\ttotal: 19.1s\tremaining: 2.39s\n",
      "889:\tlearn: 1251.2020284\ttotal: 19.2s\tremaining: 2.37s\n",
      "890:\tlearn: 1251.1028378\ttotal: 19.2s\tremaining: 2.35s\n",
      "891:\tlearn: 1251.0586122\ttotal: 19.2s\tremaining: 2.32s\n",
      "892:\tlearn: 1250.9883434\ttotal: 19.2s\tremaining: 2.3s\n",
      "893:\tlearn: 1250.9220783\ttotal: 19.2s\tremaining: 2.28s\n",
      "894:\tlearn: 1250.8232474\ttotal: 19.3s\tremaining: 2.26s\n",
      "895:\tlearn: 1250.8104533\ttotal: 19.3s\tremaining: 2.24s\n",
      "896:\tlearn: 1250.7599353\ttotal: 19.3s\tremaining: 2.22s\n",
      "897:\tlearn: 1250.6966854\ttotal: 19.3s\tremaining: 2.19s\n",
      "898:\tlearn: 1250.6151377\ttotal: 19.3s\tremaining: 2.17s\n",
      "899:\tlearn: 1250.5491739\ttotal: 19.4s\tremaining: 2.15s\n",
      "900:\tlearn: 1250.4625832\ttotal: 19.4s\tremaining: 2.13s\n",
      "901:\tlearn: 1250.3476558\ttotal: 19.4s\tremaining: 2.11s\n",
      "902:\tlearn: 1250.3047976\ttotal: 19.4s\tremaining: 2.09s\n",
      "903:\tlearn: 1250.2522831\ttotal: 19.4s\tremaining: 2.06s\n",
      "904:\tlearn: 1250.1954690\ttotal: 19.5s\tremaining: 2.04s\n",
      "905:\tlearn: 1250.1387605\ttotal: 19.5s\tremaining: 2.02s\n",
      "906:\tlearn: 1250.0688572\ttotal: 19.5s\tremaining: 2s\n",
      "907:\tlearn: 1249.9889491\ttotal: 19.5s\tremaining: 1.98s\n",
      "908:\tlearn: 1249.9062250\ttotal: 19.5s\tremaining: 1.96s\n",
      "909:\tlearn: 1249.8156021\ttotal: 19.6s\tremaining: 1.93s\n",
      "910:\tlearn: 1249.7185086\ttotal: 19.6s\tremaining: 1.91s\n",
      "911:\tlearn: 1249.6591450\ttotal: 19.6s\tremaining: 1.89s\n",
      "912:\tlearn: 1249.5733141\ttotal: 19.6s\tremaining: 1.87s\n",
      "913:\tlearn: 1249.4429746\ttotal: 19.7s\tremaining: 1.85s\n",
      "914:\tlearn: 1249.3388379\ttotal: 19.7s\tremaining: 1.83s\n",
      "915:\tlearn: 1249.2793368\ttotal: 19.7s\tremaining: 1.81s\n",
      "916:\tlearn: 1249.1998995\ttotal: 19.7s\tremaining: 1.78s\n",
      "917:\tlearn: 1249.1169920\ttotal: 19.8s\tremaining: 1.76s\n",
      "918:\tlearn: 1249.0427264\ttotal: 19.8s\tremaining: 1.74s\n",
      "919:\tlearn: 1248.9622598\ttotal: 19.8s\tremaining: 1.72s\n",
      "920:\tlearn: 1248.8084891\ttotal: 19.8s\tremaining: 1.7s\n",
      "921:\tlearn: 1248.7305132\ttotal: 19.8s\tremaining: 1.68s\n",
      "922:\tlearn: 1248.6541936\ttotal: 19.9s\tremaining: 1.66s\n",
      "923:\tlearn: 1248.6032637\ttotal: 19.9s\tremaining: 1.63s\n",
      "924:\tlearn: 1248.5446127\ttotal: 19.9s\tremaining: 1.61s\n",
      "925:\tlearn: 1248.5334745\ttotal: 19.9s\tremaining: 1.59s\n",
      "926:\tlearn: 1248.4670245\ttotal: 19.9s\tremaining: 1.57s\n",
      "927:\tlearn: 1248.4255024\ttotal: 20s\tremaining: 1.55s\n",
      "928:\tlearn: 1248.3073283\ttotal: 20s\tremaining: 1.53s\n",
      "929:\tlearn: 1248.2700993\ttotal: 20s\tremaining: 1.5s\n",
      "930:\tlearn: 1248.2106708\ttotal: 20s\tremaining: 1.48s\n",
      "931:\tlearn: 1248.0923051\ttotal: 20s\tremaining: 1.46s\n",
      "932:\tlearn: 1248.0270224\ttotal: 20.1s\tremaining: 1.44s\n",
      "933:\tlearn: 1247.9624525\ttotal: 20.1s\tremaining: 1.42s\n",
      "934:\tlearn: 1247.8964541\ttotal: 20.1s\tremaining: 1.4s\n",
      "935:\tlearn: 1247.8165101\ttotal: 20.1s\tremaining: 1.38s\n",
      "936:\tlearn: 1247.7157047\ttotal: 20.2s\tremaining: 1.35s\n",
      "937:\tlearn: 1247.5852372\ttotal: 20.2s\tremaining: 1.33s\n",
      "938:\tlearn: 1247.4586880\ttotal: 20.2s\tremaining: 1.31s\n",
      "939:\tlearn: 1247.3915491\ttotal: 20.2s\tremaining: 1.29s\n",
      "940:\tlearn: 1247.2748784\ttotal: 20.2s\tremaining: 1.27s\n",
      "941:\tlearn: 1247.2192044\ttotal: 20.3s\tremaining: 1.25s\n",
      "942:\tlearn: 1247.1572451\ttotal: 20.3s\tremaining: 1.23s\n",
      "943:\tlearn: 1247.0761371\ttotal: 20.3s\tremaining: 1.2s\n",
      "944:\tlearn: 1246.9855122\ttotal: 20.3s\tremaining: 1.18s\n",
      "945:\tlearn: 1246.8794351\ttotal: 20.3s\tremaining: 1.16s\n",
      "946:\tlearn: 1246.7860360\ttotal: 20.4s\tremaining: 1.14s\n",
      "947:\tlearn: 1246.7120745\ttotal: 20.4s\tremaining: 1.12s\n",
      "948:\tlearn: 1246.6365618\ttotal: 20.4s\tremaining: 1.1s\n",
      "949:\tlearn: 1246.5371470\ttotal: 20.4s\tremaining: 1.07s\n",
      "950:\tlearn: 1246.4406622\ttotal: 20.4s\tremaining: 1.05s\n",
      "951:\tlearn: 1246.3405316\ttotal: 20.5s\tremaining: 1.03s\n",
      "952:\tlearn: 1246.2609365\ttotal: 20.5s\tremaining: 1.01s\n",
      "953:\tlearn: 1246.2051124\ttotal: 20.5s\tremaining: 989ms\n",
      "954:\tlearn: 1246.1921811\ttotal: 20.5s\tremaining: 967ms\n",
      "955:\tlearn: 1246.1432770\ttotal: 20.6s\tremaining: 946ms\n",
      "956:\tlearn: 1246.1003953\ttotal: 20.6s\tremaining: 925ms\n",
      "957:\tlearn: 1246.0014848\ttotal: 20.6s\tremaining: 904ms\n",
      "958:\tlearn: 1245.9197888\ttotal: 20.6s\tremaining: 882ms\n",
      "959:\tlearn: 1245.8725379\ttotal: 20.7s\tremaining: 861ms\n",
      "960:\tlearn: 1245.8480671\ttotal: 20.7s\tremaining: 839ms\n",
      "961:\tlearn: 1245.7547018\ttotal: 20.7s\tremaining: 818ms\n",
      "962:\tlearn: 1245.6581480\ttotal: 20.7s\tremaining: 797ms\n",
      "963:\tlearn: 1245.5380915\ttotal: 20.8s\tremaining: 775ms\n",
      "964:\tlearn: 1245.4661237\ttotal: 20.8s\tremaining: 754ms\n",
      "965:\tlearn: 1245.3996876\ttotal: 20.8s\tremaining: 732ms\n",
      "966:\tlearn: 1245.3485554\ttotal: 20.8s\tremaining: 711ms\n",
      "967:\tlearn: 1245.2862429\ttotal: 20.9s\tremaining: 690ms\n",
      "968:\tlearn: 1245.2767246\ttotal: 20.9s\tremaining: 668ms\n",
      "969:\tlearn: 1245.2219519\ttotal: 20.9s\tremaining: 647ms\n",
      "970:\tlearn: 1245.1176434\ttotal: 20.9s\tremaining: 625ms\n",
      "971:\tlearn: 1245.0655388\ttotal: 20.9s\tremaining: 603ms\n",
      "972:\tlearn: 1245.0168834\ttotal: 21s\tremaining: 582ms\n",
      "973:\tlearn: 1244.9714578\ttotal: 21s\tremaining: 561ms\n",
      "974:\tlearn: 1244.8344505\ttotal: 21s\tremaining: 539ms\n",
      "975:\tlearn: 1244.8001028\ttotal: 21s\tremaining: 517ms\n",
      "976:\tlearn: 1244.7135014\ttotal: 21.1s\tremaining: 496ms\n",
      "977:\tlearn: 1244.6216728\ttotal: 21.1s\tremaining: 474ms\n",
      "978:\tlearn: 1244.5593932\ttotal: 21.1s\tremaining: 453ms\n",
      "979:\tlearn: 1244.4799621\ttotal: 21.1s\tremaining: 431ms\n",
      "980:\tlearn: 1244.4096464\ttotal: 21.2s\tremaining: 410ms\n",
      "981:\tlearn: 1244.3535609\ttotal: 21.2s\tremaining: 388ms\n",
      "982:\tlearn: 1244.2633777\ttotal: 21.2s\tremaining: 367ms\n",
      "983:\tlearn: 1244.1872006\ttotal: 21.2s\tremaining: 345ms\n",
      "984:\tlearn: 1244.1061725\ttotal: 21.2s\tremaining: 324ms\n",
      "985:\tlearn: 1244.0698209\ttotal: 21.3s\tremaining: 302ms\n",
      "986:\tlearn: 1243.9885763\ttotal: 21.3s\tremaining: 281ms\n",
      "987:\tlearn: 1243.9254820\ttotal: 21.3s\tremaining: 259ms\n",
      "988:\tlearn: 1243.8324518\ttotal: 21.3s\tremaining: 237ms\n",
      "989:\tlearn: 1243.6922402\ttotal: 21.4s\tremaining: 216ms\n",
      "990:\tlearn: 1243.6217234\ttotal: 21.4s\tremaining: 194ms\n",
      "991:\tlearn: 1243.5692553\ttotal: 21.4s\tremaining: 173ms\n",
      "992:\tlearn: 1243.5086283\ttotal: 21.4s\tremaining: 151ms\n",
      "993:\tlearn: 1243.4999465\ttotal: 21.4s\tremaining: 129ms\n",
      "994:\tlearn: 1243.4358227\ttotal: 21.5s\tremaining: 108ms\n",
      "995:\tlearn: 1243.3617821\ttotal: 21.5s\tremaining: 86.3ms\n",
      "996:\tlearn: 1243.2882503\ttotal: 21.5s\tremaining: 64.7ms\n",
      "997:\tlearn: 1243.2376245\ttotal: 21.5s\tremaining: 43.1ms\n",
      "998:\tlearn: 1243.1890206\ttotal: 21.5s\tremaining: 21.6ms\n",
      "999:\tlearn: 1243.1115813\ttotal: 21.6s\tremaining: 0us\n",
      "CPU times: user 22.8 s, sys: 228 ms, total: 23.1 s\n",
      "Wall time: 24 s\n"
     ]
    },
    {
     "data": {
      "text/plain": [
       "<catboost.core.CatBoostRegressor at 0x7f0410d5a5e0>"
      ]
     },
     "execution_count": 49,
     "metadata": {},
     "output_type": "execute_result"
    }
   ],
   "source": [
    "%%time\n",
    "\n",
    "# то же самое\n",
    "\n",
    "model_cb = CatBoostRegressor(random_state=STATE)\n",
    "\n",
    "model_cb.fit(ohe_features_train, target_train)"
   ]
  },
  {
   "cell_type": "code",
   "execution_count": 50,
   "metadata": {
    "collapsed": true,
    "jupyter": {
     "outputs_hidden": true
    },
    "tags": []
   },
   "outputs": [
    {
     "name": "stdout",
     "output_type": "stream",
     "text": [
      "Learning rate set to 0.088752\n",
      "0:\tlearn: 3392.8225061\ttotal: 25.2ms\tremaining: 25.2s\n",
      "1:\tlearn: 3211.2956081\ttotal: 45.5ms\tremaining: 22.7s\n",
      "2:\tlearn: 3051.1488414\ttotal: 68.4ms\tremaining: 22.7s\n",
      "3:\tlearn: 2900.5116201\ttotal: 85.7ms\tremaining: 21.4s\n",
      "4:\tlearn: 2767.6454873\ttotal: 103ms\tremaining: 20.4s\n",
      "5:\tlearn: 2653.7621077\ttotal: 119ms\tremaining: 19.8s\n",
      "6:\tlearn: 2547.0020981\ttotal: 136ms\tremaining: 19.3s\n",
      "7:\tlearn: 2455.6931764\ttotal: 161ms\tremaining: 20s\n",
      "8:\tlearn: 2371.6762319\ttotal: 177ms\tremaining: 19.5s\n",
      "9:\tlearn: 2295.0868105\ttotal: 196ms\tremaining: 19.4s\n",
      "10:\tlearn: 2226.6084986\ttotal: 216ms\tremaining: 19.4s\n",
      "11:\tlearn: 2167.8542147\ttotal: 243ms\tremaining: 20s\n",
      "12:\tlearn: 2116.8963434\ttotal: 263ms\tremaining: 19.9s\n",
      "13:\tlearn: 2069.6914970\ttotal: 279ms\tremaining: 19.6s\n",
      "14:\tlearn: 2025.5683322\ttotal: 295ms\tremaining: 19.4s\n",
      "15:\tlearn: 1987.3681266\ttotal: 311ms\tremaining: 19.1s\n",
      "16:\tlearn: 1953.8447021\ttotal: 326ms\tremaining: 18.9s\n",
      "17:\tlearn: 1923.3027241\ttotal: 351ms\tremaining: 19.2s\n",
      "18:\tlearn: 1897.3788615\ttotal: 367ms\tremaining: 19s\n",
      "19:\tlearn: 1868.2812298\ttotal: 384ms\tremaining: 18.8s\n",
      "20:\tlearn: 1845.9417270\ttotal: 400ms\tremaining: 18.6s\n",
      "21:\tlearn: 1826.4913709\ttotal: 416ms\tremaining: 18.5s\n",
      "22:\tlearn: 1802.0784203\ttotal: 436ms\tremaining: 18.5s\n",
      "23:\tlearn: 1782.6591897\ttotal: 456ms\tremaining: 18.5s\n",
      "24:\tlearn: 1766.6305827\ttotal: 472ms\tremaining: 18.4s\n",
      "25:\tlearn: 1750.1951801\ttotal: 488ms\tremaining: 18.3s\n",
      "26:\tlearn: 1736.7501108\ttotal: 503ms\tremaining: 18.1s\n",
      "27:\tlearn: 1720.3509522\ttotal: 519ms\tremaining: 18s\n",
      "28:\tlearn: 1707.4593929\ttotal: 545ms\tremaining: 18.3s\n",
      "29:\tlearn: 1694.0257721\ttotal: 562ms\tremaining: 18.2s\n",
      "30:\tlearn: 1683.4165652\ttotal: 578ms\tremaining: 18.1s\n",
      "31:\tlearn: 1673.8930273\ttotal: 594ms\tremaining: 18s\n",
      "32:\tlearn: 1662.4380060\ttotal: 610ms\tremaining: 17.9s\n",
      "33:\tlearn: 1653.2319615\ttotal: 631ms\tremaining: 17.9s\n",
      "34:\tlearn: 1644.2909724\ttotal: 652ms\tremaining: 18s\n",
      "35:\tlearn: 1636.6888376\ttotal: 667ms\tremaining: 17.9s\n",
      "36:\tlearn: 1628.1870460\ttotal: 684ms\tremaining: 17.8s\n",
      "37:\tlearn: 1621.2790411\ttotal: 699ms\tremaining: 17.7s\n",
      "38:\tlearn: 1615.3331510\ttotal: 715ms\tremaining: 17.6s\n",
      "39:\tlearn: 1609.4985770\ttotal: 738ms\tremaining: 17.7s\n",
      "40:\tlearn: 1604.0683945\ttotal: 754ms\tremaining: 17.6s\n",
      "41:\tlearn: 1595.7920541\ttotal: 771ms\tremaining: 17.6s\n",
      "42:\tlearn: 1590.0515624\ttotal: 786ms\tremaining: 17.5s\n",
      "43:\tlearn: 1585.7925574\ttotal: 801ms\tremaining: 17.4s\n",
      "44:\tlearn: 1580.4357530\ttotal: 818ms\tremaining: 17.4s\n",
      "45:\tlearn: 1575.0711187\ttotal: 838ms\tremaining: 17.4s\n",
      "46:\tlearn: 1569.9354967\ttotal: 854ms\tremaining: 17.3s\n",
      "47:\tlearn: 1565.8852865\ttotal: 869ms\tremaining: 17.2s\n",
      "48:\tlearn: 1561.1585840\ttotal: 885ms\tremaining: 17.2s\n",
      "49:\tlearn: 1557.2630692\ttotal: 900ms\tremaining: 17.1s\n",
      "50:\tlearn: 1554.0232613\ttotal: 919ms\tremaining: 17.1s\n",
      "51:\tlearn: 1550.6675901\ttotal: 938ms\tremaining: 17.1s\n",
      "52:\tlearn: 1547.5764335\ttotal: 954ms\tremaining: 17s\n",
      "53:\tlearn: 1543.7827194\ttotal: 970ms\tremaining: 17s\n",
      "54:\tlearn: 1540.7479606\ttotal: 987ms\tremaining: 17s\n",
      "55:\tlearn: 1536.6628299\ttotal: 1s\tremaining: 16.9s\n",
      "56:\tlearn: 1532.7312534\ttotal: 1.03s\tremaining: 17s\n",
      "57:\tlearn: 1529.3533895\ttotal: 1.04s\tremaining: 17s\n",
      "58:\tlearn: 1526.8893319\ttotal: 1.06s\tremaining: 16.9s\n",
      "59:\tlearn: 1523.9849774\ttotal: 1.07s\tremaining: 16.8s\n",
      "60:\tlearn: 1520.4944244\ttotal: 1.09s\tremaining: 16.8s\n",
      "61:\tlearn: 1518.5944701\ttotal: 1.1s\tremaining: 16.7s\n",
      "62:\tlearn: 1516.8986652\ttotal: 1.13s\tremaining: 16.7s\n",
      "63:\tlearn: 1514.8435169\ttotal: 1.14s\tremaining: 16.7s\n",
      "64:\tlearn: 1511.6852547\ttotal: 1.16s\tremaining: 16.6s\n",
      "65:\tlearn: 1510.0819735\ttotal: 1.17s\tremaining: 16.6s\n",
      "66:\tlearn: 1506.7934341\ttotal: 1.19s\tremaining: 16.5s\n",
      "67:\tlearn: 1504.9669174\ttotal: 1.2s\tremaining: 16.5s\n",
      "68:\tlearn: 1503.4149699\ttotal: 1.22s\tremaining: 16.5s\n",
      "69:\tlearn: 1501.5476445\ttotal: 1.24s\tremaining: 16.4s\n",
      "70:\tlearn: 1499.7320635\ttotal: 1.25s\tremaining: 16.4s\n",
      "71:\tlearn: 1496.6204914\ttotal: 1.27s\tremaining: 16.4s\n",
      "72:\tlearn: 1494.9885321\ttotal: 1.28s\tremaining: 16.3s\n",
      "73:\tlearn: 1493.2142905\ttotal: 1.31s\tremaining: 16.4s\n",
      "74:\tlearn: 1491.5192327\ttotal: 1.32s\tremaining: 16.3s\n",
      "75:\tlearn: 1489.9319361\ttotal: 1.34s\tremaining: 16.3s\n",
      "76:\tlearn: 1487.0954791\ttotal: 1.35s\tremaining: 16.2s\n",
      "77:\tlearn: 1485.8282919\ttotal: 1.37s\tremaining: 16.2s\n",
      "78:\tlearn: 1484.4351897\ttotal: 1.38s\tremaining: 16.1s\n",
      "79:\tlearn: 1483.2902477\ttotal: 1.4s\tremaining: 16.1s\n",
      "80:\tlearn: 1482.0283740\ttotal: 1.42s\tremaining: 16.1s\n",
      "81:\tlearn: 1480.2553770\ttotal: 1.43s\tremaining: 16s\n",
      "82:\tlearn: 1479.2913317\ttotal: 1.44s\tremaining: 16s\n",
      "83:\tlearn: 1477.1700538\ttotal: 1.46s\tremaining: 15.9s\n",
      "84:\tlearn: 1476.0521124\ttotal: 1.47s\tremaining: 15.9s\n",
      "85:\tlearn: 1474.4221123\ttotal: 1.5s\tremaining: 15.9s\n",
      "86:\tlearn: 1473.3409712\ttotal: 1.51s\tremaining: 15.9s\n",
      "87:\tlearn: 1472.3277139\ttotal: 1.52s\tremaining: 15.8s\n",
      "88:\tlearn: 1470.8740122\ttotal: 1.54s\tremaining: 15.8s\n",
      "89:\tlearn: 1469.3751150\ttotal: 1.55s\tremaining: 15.7s\n",
      "90:\tlearn: 1468.2326738\ttotal: 1.57s\tremaining: 15.7s\n",
      "91:\tlearn: 1467.2057793\ttotal: 1.59s\tremaining: 15.7s\n",
      "92:\tlearn: 1465.9371485\ttotal: 1.61s\tremaining: 15.7s\n",
      "93:\tlearn: 1464.4126975\ttotal: 1.62s\tremaining: 15.6s\n",
      "94:\tlearn: 1463.0719725\ttotal: 1.64s\tremaining: 15.6s\n",
      "95:\tlearn: 1462.1021563\ttotal: 1.65s\tremaining: 15.6s\n",
      "96:\tlearn: 1460.3721155\ttotal: 1.67s\tremaining: 15.5s\n",
      "97:\tlearn: 1459.0507644\ttotal: 1.69s\tremaining: 15.6s\n",
      "98:\tlearn: 1458.2614592\ttotal: 1.71s\tremaining: 15.5s\n",
      "99:\tlearn: 1457.1268977\ttotal: 1.72s\tremaining: 15.5s\n",
      "100:\tlearn: 1456.2187153\ttotal: 1.74s\tremaining: 15.5s\n",
      "101:\tlearn: 1454.9269023\ttotal: 1.75s\tremaining: 15.4s\n",
      "102:\tlearn: 1453.2422540\ttotal: 1.77s\tremaining: 15.4s\n",
      "103:\tlearn: 1451.9615199\ttotal: 1.79s\tremaining: 15.4s\n",
      "104:\tlearn: 1450.5008992\ttotal: 1.81s\tremaining: 15.4s\n",
      "105:\tlearn: 1449.4927748\ttotal: 1.83s\tremaining: 15.4s\n",
      "106:\tlearn: 1448.0577762\ttotal: 1.85s\tremaining: 15.4s\n",
      "107:\tlearn: 1447.3150546\ttotal: 1.86s\tremaining: 15.4s\n",
      "108:\tlearn: 1446.0904214\ttotal: 1.89s\tremaining: 15.4s\n",
      "109:\tlearn: 1445.4013503\ttotal: 1.9s\tremaining: 15.4s\n",
      "110:\tlearn: 1444.5542986\ttotal: 1.92s\tremaining: 15.4s\n",
      "111:\tlearn: 1443.8019217\ttotal: 1.93s\tremaining: 15.3s\n",
      "112:\tlearn: 1442.7603590\ttotal: 1.95s\tremaining: 15.3s\n",
      "113:\tlearn: 1441.8133865\ttotal: 1.96s\tremaining: 15.2s\n",
      "114:\tlearn: 1441.0780496\ttotal: 1.98s\tremaining: 15.2s\n",
      "115:\tlearn: 1440.0645915\ttotal: 2s\tremaining: 15.2s\n",
      "116:\tlearn: 1438.4921267\ttotal: 2.01s\tremaining: 15.2s\n",
      "117:\tlearn: 1437.7246525\ttotal: 2.02s\tremaining: 15.1s\n",
      "118:\tlearn: 1437.1413061\ttotal: 2.04s\tremaining: 15.1s\n",
      "119:\tlearn: 1435.5519117\ttotal: 2.05s\tremaining: 15s\n",
      "120:\tlearn: 1434.4108152\ttotal: 2.07s\tremaining: 15.1s\n",
      "121:\tlearn: 1433.8686515\ttotal: 2.09s\tremaining: 15s\n",
      "122:\tlearn: 1432.9675891\ttotal: 2.1s\tremaining: 15s\n",
      "123:\tlearn: 1431.8839215\ttotal: 2.12s\tremaining: 15s\n",
      "124:\tlearn: 1430.5661718\ttotal: 2.13s\tremaining: 14.9s\n",
      "125:\tlearn: 1429.4254321\ttotal: 2.15s\tremaining: 14.9s\n",
      "126:\tlearn: 1428.8855632\ttotal: 2.17s\tremaining: 14.9s\n",
      "127:\tlearn: 1428.2680471\ttotal: 2.18s\tremaining: 14.9s\n",
      "128:\tlearn: 1427.4117844\ttotal: 2.2s\tremaining: 14.8s\n",
      "129:\tlearn: 1426.6384095\ttotal: 2.21s\tremaining: 14.8s\n",
      "130:\tlearn: 1425.7012788\ttotal: 2.23s\tremaining: 14.8s\n",
      "131:\tlearn: 1424.9097883\ttotal: 2.24s\tremaining: 14.7s\n",
      "132:\tlearn: 1423.8311045\ttotal: 2.26s\tremaining: 14.7s\n",
      "133:\tlearn: 1423.2945150\ttotal: 2.28s\tremaining: 14.7s\n",
      "134:\tlearn: 1422.6237803\ttotal: 2.29s\tremaining: 14.7s\n",
      "135:\tlearn: 1421.9164497\ttotal: 2.31s\tremaining: 14.6s\n",
      "136:\tlearn: 1420.8776320\ttotal: 2.32s\tremaining: 14.6s\n",
      "137:\tlearn: 1420.1353571\ttotal: 2.33s\tremaining: 14.6s\n",
      "138:\tlearn: 1419.2856673\ttotal: 2.35s\tremaining: 14.6s\n",
      "139:\tlearn: 1418.4526868\ttotal: 2.37s\tremaining: 14.6s\n",
      "140:\tlearn: 1417.8370211\ttotal: 2.39s\tremaining: 14.5s\n",
      "141:\tlearn: 1416.7076383\ttotal: 2.4s\tremaining: 14.5s\n",
      "142:\tlearn: 1416.0199888\ttotal: 2.42s\tremaining: 14.5s\n",
      "143:\tlearn: 1415.2898281\ttotal: 2.43s\tremaining: 14.4s\n",
      "144:\tlearn: 1414.5019443\ttotal: 2.44s\tremaining: 14.4s\n",
      "145:\tlearn: 1414.0405956\ttotal: 2.46s\tremaining: 14.4s\n",
      "146:\tlearn: 1413.1219450\ttotal: 2.48s\tremaining: 14.4s\n",
      "147:\tlearn: 1412.0669594\ttotal: 2.49s\tremaining: 14.4s\n",
      "148:\tlearn: 1411.4780356\ttotal: 2.51s\tremaining: 14.3s\n",
      "149:\tlearn: 1410.5990648\ttotal: 2.53s\tremaining: 14.3s\n",
      "150:\tlearn: 1409.7621094\ttotal: 2.55s\tremaining: 14.3s\n",
      "151:\tlearn: 1409.0777148\ttotal: 2.57s\tremaining: 14.3s\n",
      "152:\tlearn: 1408.4147973\ttotal: 2.58s\tremaining: 14.3s\n",
      "153:\tlearn: 1407.8839048\ttotal: 2.6s\tremaining: 14.3s\n",
      "154:\tlearn: 1407.3515895\ttotal: 2.61s\tremaining: 14.2s\n",
      "155:\tlearn: 1406.5568656\ttotal: 2.63s\tremaining: 14.2s\n",
      "156:\tlearn: 1405.8493680\ttotal: 2.64s\tremaining: 14.2s\n",
      "157:\tlearn: 1404.9172601\ttotal: 2.67s\tremaining: 14.2s\n",
      "158:\tlearn: 1404.2269648\ttotal: 2.69s\tremaining: 14.2s\n",
      "159:\tlearn: 1403.2738832\ttotal: 2.71s\tremaining: 14.2s\n",
      "160:\tlearn: 1402.6807129\ttotal: 2.73s\tremaining: 14.2s\n",
      "161:\tlearn: 1402.1879475\ttotal: 2.75s\tremaining: 14.2s\n",
      "162:\tlearn: 1401.5053817\ttotal: 2.76s\tremaining: 14.2s\n",
      "163:\tlearn: 1401.1488417\ttotal: 2.78s\tremaining: 14.2s\n",
      "164:\tlearn: 1400.5321477\ttotal: 2.79s\tremaining: 14.1s\n",
      "165:\tlearn: 1399.5961270\ttotal: 2.81s\tremaining: 14.1s\n",
      "166:\tlearn: 1398.9723285\ttotal: 2.82s\tremaining: 14.1s\n",
      "167:\tlearn: 1398.4563104\ttotal: 2.84s\tremaining: 14.1s\n",
      "168:\tlearn: 1397.4462787\ttotal: 2.86s\tremaining: 14.1s\n",
      "169:\tlearn: 1396.4420634\ttotal: 2.88s\tremaining: 14s\n",
      "170:\tlearn: 1395.2713071\ttotal: 2.89s\tremaining: 14s\n",
      "171:\tlearn: 1394.7723295\ttotal: 2.91s\tremaining: 14s\n",
      "172:\tlearn: 1394.3814729\ttotal: 2.92s\tremaining: 14s\n",
      "173:\tlearn: 1393.5205570\ttotal: 2.94s\tremaining: 14s\n",
      "174:\tlearn: 1392.6533512\ttotal: 2.96s\tremaining: 14s\n",
      "175:\tlearn: 1391.9858080\ttotal: 2.98s\tremaining: 13.9s\n",
      "176:\tlearn: 1391.4348284\ttotal: 2.99s\tremaining: 13.9s\n",
      "177:\tlearn: 1390.9944037\ttotal: 3.01s\tremaining: 13.9s\n",
      "178:\tlearn: 1390.4931341\ttotal: 3.02s\tremaining: 13.9s\n",
      "179:\tlearn: 1389.9281438\ttotal: 3.04s\tremaining: 13.8s\n",
      "180:\tlearn: 1389.5423386\ttotal: 3.06s\tremaining: 13.8s\n",
      "181:\tlearn: 1389.1012892\ttotal: 3.07s\tremaining: 13.8s\n",
      "182:\tlearn: 1388.7598670\ttotal: 3.08s\tremaining: 13.8s\n",
      "183:\tlearn: 1388.0603769\ttotal: 3.1s\tremaining: 13.7s\n",
      "184:\tlearn: 1387.4923942\ttotal: 3.11s\tremaining: 13.7s\n",
      "185:\tlearn: 1386.9087822\ttotal: 3.13s\tremaining: 13.7s\n",
      "186:\tlearn: 1386.4023195\ttotal: 3.15s\tremaining: 13.7s\n",
      "187:\tlearn: 1386.0604426\ttotal: 3.16s\tremaining: 13.7s\n",
      "188:\tlearn: 1385.6791783\ttotal: 3.18s\tremaining: 13.6s\n",
      "189:\tlearn: 1385.2167395\ttotal: 3.19s\tremaining: 13.6s\n",
      "190:\tlearn: 1384.6579885\ttotal: 3.21s\tremaining: 13.6s\n",
      "191:\tlearn: 1383.7443044\ttotal: 3.22s\tremaining: 13.6s\n",
      "192:\tlearn: 1383.0907087\ttotal: 3.25s\tremaining: 13.6s\n",
      "193:\tlearn: 1382.6306549\ttotal: 3.26s\tremaining: 13.5s\n",
      "194:\tlearn: 1381.8676862\ttotal: 3.28s\tremaining: 13.5s\n",
      "195:\tlearn: 1381.4260640\ttotal: 3.29s\tremaining: 13.5s\n",
      "196:\tlearn: 1381.1107898\ttotal: 3.31s\tremaining: 13.5s\n",
      "197:\tlearn: 1380.5130234\ttotal: 3.32s\tremaining: 13.5s\n",
      "198:\tlearn: 1380.0236522\ttotal: 3.34s\tremaining: 13.4s\n",
      "199:\tlearn: 1379.4578169\ttotal: 3.35s\tremaining: 13.4s\n",
      "200:\tlearn: 1379.0196835\ttotal: 3.37s\tremaining: 13.4s\n",
      "201:\tlearn: 1378.5301324\ttotal: 3.38s\tremaining: 13.4s\n",
      "202:\tlearn: 1378.0780935\ttotal: 3.4s\tremaining: 13.3s\n",
      "203:\tlearn: 1377.6800777\ttotal: 3.41s\tremaining: 13.3s\n",
      "204:\tlearn: 1377.2211090\ttotal: 3.43s\tremaining: 13.3s\n",
      "205:\tlearn: 1376.6898294\ttotal: 3.45s\tremaining: 13.3s\n",
      "206:\tlearn: 1376.1131865\ttotal: 3.46s\tremaining: 13.3s\n",
      "207:\tlearn: 1375.6800156\ttotal: 3.48s\tremaining: 13.2s\n",
      "208:\tlearn: 1375.2868030\ttotal: 3.49s\tremaining: 13.2s\n",
      "209:\tlearn: 1374.6631861\ttotal: 3.51s\tremaining: 13.2s\n",
      "210:\tlearn: 1374.2213470\ttotal: 3.53s\tremaining: 13.2s\n",
      "211:\tlearn: 1373.7921031\ttotal: 3.54s\tremaining: 13.2s\n",
      "212:\tlearn: 1373.5265112\ttotal: 3.56s\tremaining: 13.1s\n",
      "213:\tlearn: 1373.1859515\ttotal: 3.57s\tremaining: 13.1s\n",
      "214:\tlearn: 1372.8482355\ttotal: 3.58s\tremaining: 13.1s\n",
      "215:\tlearn: 1372.2903341\ttotal: 3.6s\tremaining: 13.1s\n",
      "216:\tlearn: 1371.7492550\ttotal: 3.62s\tremaining: 13.1s\n",
      "217:\tlearn: 1371.0745740\ttotal: 3.64s\tremaining: 13s\n",
      "218:\tlearn: 1370.7203821\ttotal: 3.65s\tremaining: 13s\n",
      "219:\tlearn: 1370.2298655\ttotal: 3.67s\tremaining: 13s\n",
      "220:\tlearn: 1369.6799415\ttotal: 3.68s\tremaining: 13s\n",
      "221:\tlearn: 1369.2904768\ttotal: 3.7s\tremaining: 13s\n",
      "222:\tlearn: 1368.9022628\ttotal: 3.72s\tremaining: 13s\n",
      "223:\tlearn: 1368.2190159\ttotal: 3.73s\tremaining: 12.9s\n",
      "224:\tlearn: 1367.8813526\ttotal: 3.75s\tremaining: 12.9s\n",
      "225:\tlearn: 1367.1468653\ttotal: 3.76s\tremaining: 12.9s\n",
      "226:\tlearn: 1366.6179350\ttotal: 3.78s\tremaining: 12.9s\n",
      "227:\tlearn: 1366.3047194\ttotal: 3.79s\tremaining: 12.8s\n",
      "228:\tlearn: 1365.6329416\ttotal: 3.81s\tremaining: 12.8s\n",
      "229:\tlearn: 1364.8407020\ttotal: 3.83s\tremaining: 12.8s\n",
      "230:\tlearn: 1364.3489718\ttotal: 3.85s\tremaining: 12.8s\n",
      "231:\tlearn: 1364.1307908\ttotal: 3.86s\tremaining: 12.8s\n",
      "232:\tlearn: 1363.7214900\ttotal: 3.88s\tremaining: 12.8s\n",
      "233:\tlearn: 1363.2588765\ttotal: 3.89s\tremaining: 12.7s\n",
      "234:\tlearn: 1362.9263653\ttotal: 3.92s\tremaining: 12.7s\n",
      "235:\tlearn: 1362.5267999\ttotal: 3.93s\tremaining: 12.7s\n",
      "236:\tlearn: 1361.7965127\ttotal: 3.95s\tremaining: 12.7s\n",
      "237:\tlearn: 1361.3386350\ttotal: 3.96s\tremaining: 12.7s\n",
      "238:\tlearn: 1360.9520338\ttotal: 3.98s\tremaining: 12.7s\n",
      "239:\tlearn: 1360.5606065\ttotal: 3.99s\tremaining: 12.6s\n",
      "240:\tlearn: 1359.9266558\ttotal: 4.01s\tremaining: 12.6s\n",
      "241:\tlearn: 1359.4592827\ttotal: 4.03s\tremaining: 12.6s\n",
      "242:\tlearn: 1359.1367605\ttotal: 4.04s\tremaining: 12.6s\n",
      "243:\tlearn: 1358.5872804\ttotal: 4.06s\tremaining: 12.6s\n",
      "244:\tlearn: 1358.3121199\ttotal: 4.07s\tremaining: 12.6s\n",
      "245:\tlearn: 1357.8821854\ttotal: 4.09s\tremaining: 12.5s\n",
      "246:\tlearn: 1357.5134767\ttotal: 4.11s\tremaining: 12.5s\n",
      "247:\tlearn: 1357.0320378\ttotal: 4.12s\tremaining: 12.5s\n",
      "248:\tlearn: 1356.6365657\ttotal: 4.14s\tremaining: 12.5s\n",
      "249:\tlearn: 1356.2842355\ttotal: 4.15s\tremaining: 12.5s\n",
      "250:\tlearn: 1355.8095640\ttotal: 4.17s\tremaining: 12.4s\n",
      "251:\tlearn: 1355.4091196\ttotal: 4.18s\tremaining: 12.4s\n",
      "252:\tlearn: 1355.0908508\ttotal: 4.21s\tremaining: 12.4s\n",
      "253:\tlearn: 1354.7970214\ttotal: 4.22s\tremaining: 12.4s\n",
      "254:\tlearn: 1354.4667377\ttotal: 4.24s\tremaining: 12.4s\n",
      "255:\tlearn: 1354.2314217\ttotal: 4.25s\tremaining: 12.4s\n",
      "256:\tlearn: 1353.9145000\ttotal: 4.27s\tremaining: 12.3s\n",
      "257:\tlearn: 1353.6854577\ttotal: 4.29s\tremaining: 12.3s\n",
      "258:\tlearn: 1353.3276267\ttotal: 4.31s\tremaining: 12.3s\n",
      "259:\tlearn: 1353.0634141\ttotal: 4.32s\tremaining: 12.3s\n",
      "260:\tlearn: 1352.7283973\ttotal: 4.33s\tremaining: 12.3s\n",
      "261:\tlearn: 1352.3227210\ttotal: 4.35s\tremaining: 12.3s\n",
      "262:\tlearn: 1351.8166052\ttotal: 4.37s\tremaining: 12.2s\n",
      "263:\tlearn: 1351.5012535\ttotal: 4.38s\tremaining: 12.2s\n",
      "264:\tlearn: 1350.9442438\ttotal: 4.4s\tremaining: 12.2s\n",
      "265:\tlearn: 1350.6374803\ttotal: 4.42s\tremaining: 12.2s\n",
      "266:\tlearn: 1350.3172370\ttotal: 4.43s\tremaining: 12.2s\n",
      "267:\tlearn: 1350.0423169\ttotal: 4.45s\tremaining: 12.1s\n",
      "268:\tlearn: 1349.7362340\ttotal: 4.46s\tremaining: 12.1s\n",
      "269:\tlearn: 1349.4739310\ttotal: 4.48s\tremaining: 12.1s\n",
      "270:\tlearn: 1349.1742857\ttotal: 4.5s\tremaining: 12.1s\n",
      "271:\tlearn: 1348.8069594\ttotal: 4.51s\tremaining: 12.1s\n",
      "272:\tlearn: 1348.5500685\ttotal: 4.53s\tremaining: 12.1s\n",
      "273:\tlearn: 1348.1575971\ttotal: 4.54s\tremaining: 12s\n",
      "274:\tlearn: 1347.9427733\ttotal: 4.56s\tremaining: 12s\n",
      "275:\tlearn: 1347.6866347\ttotal: 4.58s\tremaining: 12s\n",
      "276:\tlearn: 1347.3040199\ttotal: 4.59s\tremaining: 12s\n",
      "277:\tlearn: 1346.8504628\ttotal: 4.61s\tremaining: 12s\n",
      "278:\tlearn: 1346.6121351\ttotal: 4.62s\tremaining: 12s\n",
      "279:\tlearn: 1346.2185856\ttotal: 4.64s\tremaining: 11.9s\n",
      "280:\tlearn: 1345.9199915\ttotal: 4.66s\tremaining: 11.9s\n",
      "281:\tlearn: 1345.7095915\ttotal: 4.67s\tremaining: 11.9s\n",
      "282:\tlearn: 1345.2415549\ttotal: 4.69s\tremaining: 11.9s\n",
      "283:\tlearn: 1344.7253007\ttotal: 4.71s\tremaining: 11.9s\n",
      "284:\tlearn: 1344.4396783\ttotal: 4.72s\tremaining: 11.8s\n",
      "285:\tlearn: 1344.1921962\ttotal: 4.74s\tremaining: 11.8s\n",
      "286:\tlearn: 1343.8852689\ttotal: 4.75s\tremaining: 11.8s\n",
      "287:\tlearn: 1343.6771980\ttotal: 4.77s\tremaining: 11.8s\n",
      "288:\tlearn: 1343.2547573\ttotal: 4.79s\tremaining: 11.8s\n",
      "289:\tlearn: 1342.9215854\ttotal: 4.8s\tremaining: 11.8s\n",
      "290:\tlearn: 1342.7002902\ttotal: 4.82s\tremaining: 11.7s\n",
      "291:\tlearn: 1342.5478449\ttotal: 4.83s\tremaining: 11.7s\n",
      "292:\tlearn: 1342.3216146\ttotal: 4.84s\tremaining: 11.7s\n",
      "293:\tlearn: 1341.8649883\ttotal: 4.87s\tremaining: 11.7s\n",
      "294:\tlearn: 1341.5471141\ttotal: 4.89s\tremaining: 11.7s\n",
      "295:\tlearn: 1341.3272593\ttotal: 4.9s\tremaining: 11.7s\n",
      "296:\tlearn: 1341.1234735\ttotal: 4.92s\tremaining: 11.6s\n",
      "297:\tlearn: 1340.8406303\ttotal: 4.93s\tremaining: 11.6s\n",
      "298:\tlearn: 1340.5814672\ttotal: 4.95s\tremaining: 11.6s\n",
      "299:\tlearn: 1340.1170389\ttotal: 4.96s\tremaining: 11.6s\n",
      "300:\tlearn: 1339.8967533\ttotal: 4.98s\tremaining: 11.6s\n",
      "301:\tlearn: 1339.5045804\ttotal: 5s\tremaining: 11.5s\n",
      "302:\tlearn: 1339.1715029\ttotal: 5.01s\tremaining: 11.5s\n",
      "303:\tlearn: 1338.8435935\ttotal: 5.03s\tremaining: 11.5s\n",
      "304:\tlearn: 1338.3549407\ttotal: 5.04s\tremaining: 11.5s\n",
      "305:\tlearn: 1338.1366924\ttotal: 5.06s\tremaining: 11.5s\n",
      "306:\tlearn: 1337.8178758\ttotal: 5.08s\tremaining: 11.5s\n",
      "307:\tlearn: 1337.5461327\ttotal: 5.09s\tremaining: 11.4s\n",
      "308:\tlearn: 1337.2864315\ttotal: 5.11s\tremaining: 11.4s\n",
      "309:\tlearn: 1337.1108067\ttotal: 5.12s\tremaining: 11.4s\n",
      "310:\tlearn: 1336.8054874\ttotal: 5.14s\tremaining: 11.4s\n",
      "311:\tlearn: 1336.3901889\ttotal: 5.15s\tremaining: 11.4s\n",
      "312:\tlearn: 1336.0350433\ttotal: 5.18s\tremaining: 11.4s\n",
      "313:\tlearn: 1335.6089169\ttotal: 5.2s\tremaining: 11.4s\n",
      "314:\tlearn: 1335.2181685\ttotal: 5.21s\tremaining: 11.3s\n",
      "315:\tlearn: 1335.0253857\ttotal: 5.23s\tremaining: 11.3s\n",
      "316:\tlearn: 1334.7657361\ttotal: 5.24s\tremaining: 11.3s\n",
      "317:\tlearn: 1334.4080965\ttotal: 5.26s\tremaining: 11.3s\n",
      "318:\tlearn: 1334.1782821\ttotal: 5.28s\tremaining: 11.3s\n",
      "319:\tlearn: 1333.9777641\ttotal: 5.29s\tremaining: 11.2s\n",
      "320:\tlearn: 1333.5507670\ttotal: 5.31s\tremaining: 11.2s\n",
      "321:\tlearn: 1333.3418159\ttotal: 5.32s\tremaining: 11.2s\n",
      "322:\tlearn: 1332.9211772\ttotal: 5.34s\tremaining: 11.2s\n",
      "323:\tlearn: 1332.4283979\ttotal: 5.36s\tremaining: 11.2s\n",
      "324:\tlearn: 1332.2247328\ttotal: 5.37s\tremaining: 11.2s\n",
      "325:\tlearn: 1331.8744879\ttotal: 5.39s\tremaining: 11.1s\n",
      "326:\tlearn: 1331.5968055\ttotal: 5.4s\tremaining: 11.1s\n",
      "327:\tlearn: 1331.3405348\ttotal: 5.42s\tremaining: 11.1s\n",
      "328:\tlearn: 1331.0802475\ttotal: 5.43s\tremaining: 11.1s\n",
      "329:\tlearn: 1330.8950587\ttotal: 5.45s\tremaining: 11.1s\n",
      "330:\tlearn: 1330.6045738\ttotal: 5.47s\tremaining: 11.1s\n",
      "331:\tlearn: 1330.3731888\ttotal: 5.48s\tremaining: 11s\n",
      "332:\tlearn: 1330.0194125\ttotal: 5.5s\tremaining: 11s\n",
      "333:\tlearn: 1329.7934736\ttotal: 5.51s\tremaining: 11s\n",
      "334:\tlearn: 1329.5999716\ttotal: 5.53s\tremaining: 11s\n",
      "335:\tlearn: 1329.2408726\ttotal: 5.55s\tremaining: 11s\n",
      "336:\tlearn: 1328.9620660\ttotal: 5.57s\tremaining: 11s\n",
      "337:\tlearn: 1328.7170947\ttotal: 5.58s\tremaining: 10.9s\n",
      "338:\tlearn: 1328.4702484\ttotal: 5.6s\tremaining: 10.9s\n",
      "339:\tlearn: 1328.2436720\ttotal: 5.61s\tremaining: 10.9s\n",
      "340:\tlearn: 1327.9146206\ttotal: 5.63s\tremaining: 10.9s\n",
      "341:\tlearn: 1327.7612773\ttotal: 5.65s\tremaining: 10.9s\n",
      "342:\tlearn: 1327.5756349\ttotal: 5.66s\tremaining: 10.8s\n",
      "343:\tlearn: 1327.3323786\ttotal: 5.68s\tremaining: 10.8s\n",
      "344:\tlearn: 1326.9819564\ttotal: 5.69s\tremaining: 10.8s\n",
      "345:\tlearn: 1326.7939732\ttotal: 5.71s\tremaining: 10.8s\n",
      "346:\tlearn: 1326.6195921\ttotal: 5.72s\tremaining: 10.8s\n",
      "347:\tlearn: 1326.3925454\ttotal: 5.75s\tremaining: 10.8s\n",
      "348:\tlearn: 1326.2455051\ttotal: 5.76s\tremaining: 10.8s\n",
      "349:\tlearn: 1325.9877596\ttotal: 5.78s\tremaining: 10.7s\n",
      "350:\tlearn: 1325.7662562\ttotal: 5.8s\tremaining: 10.7s\n",
      "351:\tlearn: 1325.4266908\ttotal: 5.82s\tremaining: 10.7s\n",
      "352:\tlearn: 1325.2287959\ttotal: 5.84s\tremaining: 10.7s\n",
      "353:\tlearn: 1325.0235319\ttotal: 5.85s\tremaining: 10.7s\n",
      "354:\tlearn: 1324.8391757\ttotal: 5.87s\tremaining: 10.7s\n",
      "355:\tlearn: 1324.5209604\ttotal: 5.88s\tremaining: 10.6s\n",
      "356:\tlearn: 1324.3498903\ttotal: 5.9s\tremaining: 10.6s\n",
      "357:\tlearn: 1324.1583448\ttotal: 5.92s\tremaining: 10.6s\n",
      "358:\tlearn: 1323.9876439\ttotal: 5.94s\tremaining: 10.6s\n",
      "359:\tlearn: 1323.8004173\ttotal: 5.95s\tremaining: 10.6s\n",
      "360:\tlearn: 1323.4749836\ttotal: 5.97s\tremaining: 10.6s\n",
      "361:\tlearn: 1323.3317128\ttotal: 5.98s\tremaining: 10.5s\n",
      "362:\tlearn: 1323.1020899\ttotal: 6s\tremaining: 10.5s\n",
      "363:\tlearn: 1322.7233404\ttotal: 6.02s\tremaining: 10.5s\n",
      "364:\tlearn: 1322.5542865\ttotal: 6.04s\tremaining: 10.5s\n",
      "365:\tlearn: 1322.4045700\ttotal: 6.05s\tremaining: 10.5s\n",
      "366:\tlearn: 1322.0670631\ttotal: 6.07s\tremaining: 10.5s\n",
      "367:\tlearn: 1321.9115274\ttotal: 6.08s\tremaining: 10.4s\n",
      "368:\tlearn: 1321.7352225\ttotal: 6.1s\tremaining: 10.4s\n",
      "369:\tlearn: 1321.3412916\ttotal: 6.12s\tremaining: 10.4s\n",
      "370:\tlearn: 1321.1118146\ttotal: 6.13s\tremaining: 10.4s\n",
      "371:\tlearn: 1320.7439908\ttotal: 6.15s\tremaining: 10.4s\n",
      "372:\tlearn: 1320.5540554\ttotal: 6.16s\tremaining: 10.4s\n",
      "373:\tlearn: 1320.4284526\ttotal: 6.18s\tremaining: 10.3s\n",
      "374:\tlearn: 1320.2220924\ttotal: 6.2s\tremaining: 10.3s\n",
      "375:\tlearn: 1319.8957311\ttotal: 6.22s\tremaining: 10.3s\n",
      "376:\tlearn: 1319.7471961\ttotal: 6.23s\tremaining: 10.3s\n",
      "377:\tlearn: 1319.5794060\ttotal: 6.25s\tremaining: 10.3s\n",
      "378:\tlearn: 1319.3651346\ttotal: 6.26s\tremaining: 10.3s\n",
      "379:\tlearn: 1319.2347207\ttotal: 6.28s\tremaining: 10.2s\n",
      "380:\tlearn: 1318.8807319\ttotal: 6.3s\tremaining: 10.2s\n",
      "381:\tlearn: 1318.5585395\ttotal: 6.32s\tremaining: 10.2s\n",
      "382:\tlearn: 1318.4033504\ttotal: 6.33s\tremaining: 10.2s\n",
      "383:\tlearn: 1318.1858243\ttotal: 6.35s\tremaining: 10.2s\n",
      "384:\tlearn: 1317.7969091\ttotal: 6.37s\tremaining: 10.2s\n",
      "385:\tlearn: 1317.5373175\ttotal: 6.39s\tremaining: 10.2s\n",
      "386:\tlearn: 1317.3939860\ttotal: 6.41s\tremaining: 10.2s\n",
      "387:\tlearn: 1317.1864750\ttotal: 6.42s\tremaining: 10.1s\n",
      "388:\tlearn: 1317.0179330\ttotal: 6.44s\tremaining: 10.1s\n",
      "389:\tlearn: 1316.5871049\ttotal: 6.45s\tremaining: 10.1s\n",
      "390:\tlearn: 1316.4042063\ttotal: 6.47s\tremaining: 10.1s\n",
      "391:\tlearn: 1316.1300032\ttotal: 6.49s\tremaining: 10.1s\n",
      "392:\tlearn: 1315.9914655\ttotal: 6.51s\tremaining: 10.1s\n",
      "393:\tlearn: 1315.8045227\ttotal: 6.52s\tremaining: 10s\n",
      "394:\tlearn: 1315.6545576\ttotal: 6.54s\tremaining: 10s\n",
      "395:\tlearn: 1315.4531532\ttotal: 6.55s\tremaining: 9.99s\n",
      "396:\tlearn: 1315.1997346\ttotal: 6.57s\tremaining: 9.97s\n",
      "397:\tlearn: 1314.9701670\ttotal: 6.58s\tremaining: 9.96s\n",
      "398:\tlearn: 1314.7473759\ttotal: 6.6s\tremaining: 9.95s\n",
      "399:\tlearn: 1314.5717765\ttotal: 6.62s\tremaining: 9.93s\n",
      "400:\tlearn: 1314.4144319\ttotal: 6.63s\tremaining: 9.91s\n",
      "401:\tlearn: 1314.1894281\ttotal: 6.65s\tremaining: 9.89s\n",
      "402:\tlearn: 1313.9183359\ttotal: 6.66s\tremaining: 9.87s\n",
      "403:\tlearn: 1313.7703784\ttotal: 6.68s\tremaining: 9.85s\n",
      "404:\tlearn: 1313.5885388\ttotal: 6.7s\tremaining: 9.84s\n",
      "405:\tlearn: 1313.4173937\ttotal: 6.71s\tremaining: 9.82s\n",
      "406:\tlearn: 1313.1167175\ttotal: 6.73s\tremaining: 9.8s\n",
      "407:\tlearn: 1312.7914238\ttotal: 6.74s\tremaining: 9.78s\n",
      "408:\tlearn: 1312.5685290\ttotal: 6.76s\tremaining: 9.77s\n",
      "409:\tlearn: 1312.4377231\ttotal: 6.78s\tremaining: 9.75s\n",
      "410:\tlearn: 1312.2240246\ttotal: 6.79s\tremaining: 9.74s\n",
      "411:\tlearn: 1312.1188330\ttotal: 6.81s\tremaining: 9.72s\n",
      "412:\tlearn: 1311.8314961\ttotal: 6.82s\tremaining: 9.7s\n",
      "413:\tlearn: 1311.6922905\ttotal: 6.84s\tremaining: 9.68s\n",
      "414:\tlearn: 1311.4283141\ttotal: 6.85s\tremaining: 9.66s\n",
      "415:\tlearn: 1311.2574060\ttotal: 6.87s\tremaining: 9.64s\n",
      "416:\tlearn: 1310.9436345\ttotal: 6.89s\tremaining: 9.63s\n",
      "417:\tlearn: 1310.6955250\ttotal: 6.9s\tremaining: 9.61s\n",
      "418:\tlearn: 1310.4950061\ttotal: 6.92s\tremaining: 9.59s\n",
      "419:\tlearn: 1310.3538889\ttotal: 6.93s\tremaining: 9.57s\n",
      "420:\tlearn: 1310.0935410\ttotal: 6.95s\tremaining: 9.55s\n",
      "421:\tlearn: 1309.9156301\ttotal: 6.96s\tremaining: 9.53s\n",
      "422:\tlearn: 1309.7837448\ttotal: 6.98s\tremaining: 9.53s\n",
      "423:\tlearn: 1309.6008010\ttotal: 7s\tremaining: 9.51s\n",
      "424:\tlearn: 1309.4304638\ttotal: 7.01s\tremaining: 9.49s\n",
      "425:\tlearn: 1309.3033170\ttotal: 7.03s\tremaining: 9.47s\n",
      "426:\tlearn: 1309.0325111\ttotal: 7.04s\tremaining: 9.45s\n",
      "427:\tlearn: 1308.6035443\ttotal: 7.06s\tremaining: 9.44s\n",
      "428:\tlearn: 1308.5319792\ttotal: 7.08s\tremaining: 9.42s\n",
      "429:\tlearn: 1308.3616723\ttotal: 7.09s\tremaining: 9.4s\n",
      "430:\tlearn: 1308.2825381\ttotal: 7.11s\tremaining: 9.38s\n",
      "431:\tlearn: 1308.0897671\ttotal: 7.12s\tremaining: 9.37s\n",
      "432:\tlearn: 1307.9501494\ttotal: 7.14s\tremaining: 9.35s\n",
      "433:\tlearn: 1307.7979689\ttotal: 7.16s\tremaining: 9.33s\n",
      "434:\tlearn: 1307.6365214\ttotal: 7.18s\tremaining: 9.32s\n",
      "435:\tlearn: 1307.5026560\ttotal: 7.19s\tremaining: 9.3s\n",
      "436:\tlearn: 1307.3246647\ttotal: 7.21s\tremaining: 9.29s\n",
      "437:\tlearn: 1307.1587337\ttotal: 7.23s\tremaining: 9.28s\n",
      "438:\tlearn: 1306.9338562\ttotal: 7.25s\tremaining: 9.27s\n",
      "439:\tlearn: 1306.7542399\ttotal: 7.27s\tremaining: 9.26s\n",
      "440:\tlearn: 1306.6180506\ttotal: 7.29s\tremaining: 9.25s\n",
      "441:\tlearn: 1306.5615990\ttotal: 7.31s\tremaining: 9.23s\n",
      "442:\tlearn: 1306.4310400\ttotal: 7.33s\tremaining: 9.21s\n",
      "443:\tlearn: 1306.3405250\ttotal: 7.34s\tremaining: 9.2s\n",
      "444:\tlearn: 1306.1888392\ttotal: 7.37s\tremaining: 9.19s\n",
      "445:\tlearn: 1305.9678499\ttotal: 7.39s\tremaining: 9.18s\n",
      "446:\tlearn: 1305.7593342\ttotal: 7.41s\tremaining: 9.16s\n",
      "447:\tlearn: 1305.5371173\ttotal: 7.42s\tremaining: 9.14s\n",
      "448:\tlearn: 1305.3583687\ttotal: 7.44s\tremaining: 9.13s\n",
      "449:\tlearn: 1305.2234394\ttotal: 7.46s\tremaining: 9.12s\n",
      "450:\tlearn: 1305.0015519\ttotal: 7.48s\tremaining: 9.1s\n",
      "451:\tlearn: 1304.7611551\ttotal: 7.5s\tremaining: 9.09s\n",
      "452:\tlearn: 1304.5477522\ttotal: 7.51s\tremaining: 9.07s\n",
      "453:\tlearn: 1304.4061829\ttotal: 7.54s\tremaining: 9.06s\n",
      "454:\tlearn: 1304.1051117\ttotal: 7.56s\tremaining: 9.05s\n",
      "455:\tlearn: 1303.7988638\ttotal: 7.58s\tremaining: 9.04s\n",
      "456:\tlearn: 1303.6439271\ttotal: 7.6s\tremaining: 9.03s\n",
      "457:\tlearn: 1303.4162373\ttotal: 7.61s\tremaining: 9.01s\n",
      "458:\tlearn: 1303.2500206\ttotal: 7.64s\tremaining: 9s\n",
      "459:\tlearn: 1303.0209138\ttotal: 7.66s\tremaining: 8.99s\n",
      "460:\tlearn: 1302.8321019\ttotal: 7.67s\tremaining: 8.97s\n",
      "461:\tlearn: 1302.7536178\ttotal: 7.69s\tremaining: 8.95s\n",
      "462:\tlearn: 1302.5498411\ttotal: 7.7s\tremaining: 8.93s\n",
      "463:\tlearn: 1302.3969296\ttotal: 7.72s\tremaining: 8.92s\n",
      "464:\tlearn: 1302.1878106\ttotal: 7.74s\tremaining: 8.9s\n",
      "465:\tlearn: 1302.0626086\ttotal: 7.75s\tremaining: 8.88s\n",
      "466:\tlearn: 1301.8550897\ttotal: 7.77s\tremaining: 8.87s\n",
      "467:\tlearn: 1301.7377194\ttotal: 7.78s\tremaining: 8.85s\n",
      "468:\tlearn: 1301.5722477\ttotal: 7.8s\tremaining: 8.83s\n",
      "469:\tlearn: 1301.4119452\ttotal: 7.81s\tremaining: 8.81s\n",
      "470:\tlearn: 1301.2802729\ttotal: 7.83s\tremaining: 8.8s\n",
      "471:\tlearn: 1301.1231474\ttotal: 7.85s\tremaining: 8.78s\n",
      "472:\tlearn: 1300.9542577\ttotal: 7.87s\tremaining: 8.76s\n",
      "473:\tlearn: 1300.7487894\ttotal: 7.88s\tremaining: 8.75s\n",
      "474:\tlearn: 1300.6243436\ttotal: 7.9s\tremaining: 8.73s\n",
      "475:\tlearn: 1300.4871473\ttotal: 7.91s\tremaining: 8.71s\n",
      "476:\tlearn: 1300.3573455\ttotal: 7.93s\tremaining: 8.7s\n",
      "477:\tlearn: 1300.1601641\ttotal: 7.95s\tremaining: 8.68s\n",
      "478:\tlearn: 1299.9624611\ttotal: 7.96s\tremaining: 8.66s\n",
      "479:\tlearn: 1299.8469994\ttotal: 7.98s\tremaining: 8.64s\n",
      "480:\tlearn: 1299.7346884\ttotal: 7.99s\tremaining: 8.62s\n",
      "481:\tlearn: 1299.5426211\ttotal: 8.01s\tremaining: 8.6s\n",
      "482:\tlearn: 1299.3956127\ttotal: 8.03s\tremaining: 8.59s\n",
      "483:\tlearn: 1299.2750254\ttotal: 8.04s\tremaining: 8.57s\n",
      "484:\tlearn: 1299.1525375\ttotal: 8.06s\tremaining: 8.56s\n",
      "485:\tlearn: 1298.7961550\ttotal: 8.07s\tremaining: 8.54s\n",
      "486:\tlearn: 1298.4697553\ttotal: 8.09s\tremaining: 8.52s\n",
      "487:\tlearn: 1298.2455401\ttotal: 8.11s\tremaining: 8.5s\n",
      "488:\tlearn: 1298.1120465\ttotal: 8.13s\tremaining: 8.49s\n",
      "489:\tlearn: 1297.9268354\ttotal: 8.14s\tremaining: 8.47s\n",
      "490:\tlearn: 1297.7181378\ttotal: 8.16s\tremaining: 8.46s\n",
      "491:\tlearn: 1297.6002332\ttotal: 8.18s\tremaining: 8.44s\n",
      "492:\tlearn: 1297.3824135\ttotal: 8.19s\tremaining: 8.42s\n",
      "493:\tlearn: 1297.1454022\ttotal: 8.21s\tremaining: 8.41s\n",
      "494:\tlearn: 1296.9708023\ttotal: 8.23s\tremaining: 8.39s\n",
      "495:\tlearn: 1296.8054540\ttotal: 8.24s\tremaining: 8.38s\n",
      "496:\tlearn: 1296.5778346\ttotal: 8.26s\tremaining: 8.36s\n",
      "497:\tlearn: 1296.3987423\ttotal: 8.27s\tremaining: 8.34s\n",
      "498:\tlearn: 1296.2773875\ttotal: 8.29s\tremaining: 8.32s\n",
      "499:\tlearn: 1296.1118248\ttotal: 8.31s\tremaining: 8.31s\n",
      "500:\tlearn: 1295.8022528\ttotal: 8.33s\tremaining: 8.3s\n",
      "501:\tlearn: 1295.6844572\ttotal: 8.35s\tremaining: 8.28s\n",
      "502:\tlearn: 1295.5547663\ttotal: 8.36s\tremaining: 8.26s\n",
      "503:\tlearn: 1295.3967653\ttotal: 8.38s\tremaining: 8.24s\n",
      "504:\tlearn: 1295.2770531\ttotal: 8.39s\tremaining: 8.22s\n",
      "505:\tlearn: 1295.0104474\ttotal: 8.41s\tremaining: 8.21s\n",
      "506:\tlearn: 1294.9090466\ttotal: 8.43s\tremaining: 8.19s\n",
      "507:\tlearn: 1294.8128836\ttotal: 8.44s\tremaining: 8.18s\n",
      "508:\tlearn: 1294.6579701\ttotal: 8.46s\tremaining: 8.16s\n",
      "509:\tlearn: 1294.5188198\ttotal: 8.47s\tremaining: 8.14s\n",
      "510:\tlearn: 1294.3965701\ttotal: 8.49s\tremaining: 8.12s\n",
      "511:\tlearn: 1294.2783356\ttotal: 8.5s\tremaining: 8.1s\n",
      "512:\tlearn: 1294.1558232\ttotal: 8.52s\tremaining: 8.09s\n",
      "513:\tlearn: 1294.0318957\ttotal: 8.54s\tremaining: 8.07s\n",
      "514:\tlearn: 1293.8641158\ttotal: 8.55s\tremaining: 8.05s\n",
      "515:\tlearn: 1293.6966379\ttotal: 8.57s\tremaining: 8.04s\n",
      "516:\tlearn: 1293.5045885\ttotal: 8.58s\tremaining: 8.02s\n",
      "517:\tlearn: 1293.3043516\ttotal: 8.6s\tremaining: 8s\n",
      "518:\tlearn: 1293.0890259\ttotal: 8.62s\tremaining: 7.99s\n",
      "519:\tlearn: 1292.7987000\ttotal: 8.63s\tremaining: 7.97s\n",
      "520:\tlearn: 1292.6711139\ttotal: 8.65s\tremaining: 7.95s\n",
      "521:\tlearn: 1292.4976156\ttotal: 8.66s\tremaining: 7.93s\n",
      "522:\tlearn: 1292.2838738\ttotal: 8.68s\tremaining: 7.91s\n",
      "523:\tlearn: 1292.2021747\ttotal: 8.69s\tremaining: 7.89s\n",
      "524:\tlearn: 1292.0600163\ttotal: 8.71s\tremaining: 7.88s\n",
      "525:\tlearn: 1291.8769103\ttotal: 8.72s\tremaining: 7.86s\n",
      "526:\tlearn: 1291.7270232\ttotal: 8.74s\tremaining: 7.84s\n",
      "527:\tlearn: 1291.5990516\ttotal: 8.75s\tremaining: 7.83s\n",
      "528:\tlearn: 1291.3590727\ttotal: 8.77s\tremaining: 7.81s\n",
      "529:\tlearn: 1291.2321719\ttotal: 8.79s\tremaining: 7.8s\n",
      "530:\tlearn: 1291.0404174\ttotal: 8.81s\tremaining: 7.78s\n",
      "531:\tlearn: 1290.8598149\ttotal: 8.82s\tremaining: 7.76s\n",
      "532:\tlearn: 1290.6857192\ttotal: 8.84s\tremaining: 7.74s\n",
      "533:\tlearn: 1290.5088994\ttotal: 8.85s\tremaining: 7.72s\n",
      "534:\tlearn: 1290.3050554\ttotal: 8.87s\tremaining: 7.71s\n",
      "535:\tlearn: 1290.1374656\ttotal: 8.89s\tremaining: 7.7s\n",
      "536:\tlearn: 1290.0219486\ttotal: 8.91s\tremaining: 7.68s\n",
      "537:\tlearn: 1289.9228332\ttotal: 8.92s\tremaining: 7.66s\n",
      "538:\tlearn: 1289.7816051\ttotal: 8.93s\tremaining: 7.64s\n",
      "539:\tlearn: 1289.6707276\ttotal: 8.95s\tremaining: 7.62s\n",
      "540:\tlearn: 1289.5559120\ttotal: 8.96s\tremaining: 7.6s\n",
      "541:\tlearn: 1289.4025634\ttotal: 8.98s\tremaining: 7.59s\n",
      "542:\tlearn: 1289.3308021\ttotal: 9s\tremaining: 7.57s\n",
      "543:\tlearn: 1289.1391632\ttotal: 9.01s\tremaining: 7.55s\n",
      "544:\tlearn: 1289.0352973\ttotal: 9.03s\tremaining: 7.54s\n",
      "545:\tlearn: 1288.8629914\ttotal: 9.04s\tremaining: 7.52s\n",
      "546:\tlearn: 1288.6197810\ttotal: 9.06s\tremaining: 7.5s\n",
      "547:\tlearn: 1288.5018813\ttotal: 9.08s\tremaining: 7.49s\n",
      "548:\tlearn: 1288.3960555\ttotal: 9.09s\tremaining: 7.47s\n",
      "549:\tlearn: 1288.2665772\ttotal: 9.11s\tremaining: 7.45s\n",
      "550:\tlearn: 1288.1279114\ttotal: 9.12s\tremaining: 7.43s\n",
      "551:\tlearn: 1287.9979290\ttotal: 9.14s\tremaining: 7.42s\n",
      "552:\tlearn: 1287.8581332\ttotal: 9.16s\tremaining: 7.41s\n",
      "553:\tlearn: 1287.7614090\ttotal: 9.18s\tremaining: 7.39s\n",
      "554:\tlearn: 1287.5672092\ttotal: 9.2s\tremaining: 7.37s\n",
      "555:\tlearn: 1287.4799724\ttotal: 9.21s\tremaining: 7.36s\n",
      "556:\tlearn: 1287.3404172\ttotal: 9.22s\tremaining: 7.34s\n",
      "557:\tlearn: 1287.2242052\ttotal: 9.24s\tremaining: 7.32s\n",
      "558:\tlearn: 1287.0908101\ttotal: 9.25s\tremaining: 7.3s\n",
      "559:\tlearn: 1286.9936186\ttotal: 9.27s\tremaining: 7.28s\n",
      "560:\tlearn: 1286.8668606\ttotal: 9.29s\tremaining: 7.27s\n",
      "561:\tlearn: 1286.7420516\ttotal: 9.3s\tremaining: 7.25s\n",
      "562:\tlearn: 1286.5639368\ttotal: 9.32s\tremaining: 7.23s\n",
      "563:\tlearn: 1286.4691097\ttotal: 9.33s\tremaining: 7.21s\n",
      "564:\tlearn: 1286.2913399\ttotal: 9.34s\tremaining: 7.19s\n",
      "565:\tlearn: 1286.2007469\ttotal: 9.36s\tremaining: 7.18s\n",
      "566:\tlearn: 1286.0774506\ttotal: 9.38s\tremaining: 7.16s\n",
      "567:\tlearn: 1286.0321364\ttotal: 9.39s\tremaining: 7.14s\n",
      "568:\tlearn: 1285.8985587\ttotal: 9.41s\tremaining: 7.13s\n",
      "569:\tlearn: 1285.7774509\ttotal: 9.42s\tremaining: 7.11s\n",
      "570:\tlearn: 1285.5508024\ttotal: 9.44s\tremaining: 7.09s\n",
      "571:\tlearn: 1285.4089153\ttotal: 9.45s\tremaining: 7.07s\n",
      "572:\tlearn: 1285.2519467\ttotal: 9.47s\tremaining: 7.06s\n",
      "573:\tlearn: 1285.1085306\ttotal: 9.49s\tremaining: 7.04s\n",
      "574:\tlearn: 1285.0163287\ttotal: 9.5s\tremaining: 7.02s\n",
      "575:\tlearn: 1284.8850603\ttotal: 9.52s\tremaining: 7.01s\n",
      "576:\tlearn: 1284.7947005\ttotal: 9.53s\tremaining: 6.99s\n",
      "577:\tlearn: 1284.7066835\ttotal: 9.55s\tremaining: 6.97s\n",
      "578:\tlearn: 1284.5768736\ttotal: 9.57s\tremaining: 6.96s\n",
      "579:\tlearn: 1284.4646064\ttotal: 9.59s\tremaining: 6.94s\n",
      "580:\tlearn: 1284.3125694\ttotal: 9.6s\tremaining: 6.93s\n",
      "581:\tlearn: 1284.1106042\ttotal: 9.62s\tremaining: 6.91s\n",
      "582:\tlearn: 1283.9772234\ttotal: 9.64s\tremaining: 6.89s\n",
      "583:\tlearn: 1283.8697377\ttotal: 9.66s\tremaining: 6.88s\n",
      "584:\tlearn: 1283.6970364\ttotal: 9.68s\tremaining: 6.86s\n",
      "585:\tlearn: 1283.5915678\ttotal: 9.69s\tremaining: 6.85s\n",
      "586:\tlearn: 1283.5305000\ttotal: 9.71s\tremaining: 6.83s\n",
      "587:\tlearn: 1283.3940701\ttotal: 9.72s\tremaining: 6.81s\n",
      "588:\tlearn: 1283.2343060\ttotal: 9.74s\tremaining: 6.79s\n",
      "589:\tlearn: 1283.1359940\ttotal: 9.75s\tremaining: 6.78s\n",
      "590:\tlearn: 1283.0052594\ttotal: 9.77s\tremaining: 6.76s\n",
      "591:\tlearn: 1282.9120306\ttotal: 9.78s\tremaining: 6.74s\n",
      "592:\tlearn: 1282.8150291\ttotal: 9.8s\tremaining: 6.72s\n",
      "593:\tlearn: 1282.6942572\ttotal: 9.81s\tremaining: 6.71s\n",
      "594:\tlearn: 1282.5102089\ttotal: 9.83s\tremaining: 6.69s\n",
      "595:\tlearn: 1282.3461856\ttotal: 9.85s\tremaining: 6.67s\n",
      "596:\tlearn: 1282.1487343\ttotal: 9.86s\tremaining: 6.66s\n",
      "597:\tlearn: 1281.9946563\ttotal: 9.88s\tremaining: 6.64s\n",
      "598:\tlearn: 1281.8218107\ttotal: 9.89s\tremaining: 6.62s\n",
      "599:\tlearn: 1281.7506969\ttotal: 9.91s\tremaining: 6.61s\n",
      "600:\tlearn: 1281.6471966\ttotal: 9.92s\tremaining: 6.59s\n",
      "601:\tlearn: 1281.5189117\ttotal: 9.94s\tremaining: 6.57s\n",
      "602:\tlearn: 1281.3571535\ttotal: 9.96s\tremaining: 6.56s\n",
      "603:\tlearn: 1281.2194085\ttotal: 9.97s\tremaining: 6.54s\n",
      "604:\tlearn: 1281.1162110\ttotal: 9.99s\tremaining: 6.52s\n",
      "605:\tlearn: 1280.9596080\ttotal: 10s\tremaining: 6.5s\n",
      "606:\tlearn: 1280.8486811\ttotal: 10s\tremaining: 6.49s\n",
      "607:\tlearn: 1280.7460842\ttotal: 10s\tremaining: 6.48s\n",
      "608:\tlearn: 1280.6357666\ttotal: 10.1s\tremaining: 6.46s\n",
      "609:\tlearn: 1280.5638253\ttotal: 10.1s\tremaining: 6.44s\n",
      "610:\tlearn: 1280.3831031\ttotal: 10.1s\tremaining: 6.42s\n",
      "611:\tlearn: 1280.2418513\ttotal: 10.1s\tremaining: 6.41s\n",
      "612:\tlearn: 1280.1029145\ttotal: 10.1s\tremaining: 6.39s\n",
      "613:\tlearn: 1279.9962999\ttotal: 10.2s\tremaining: 6.38s\n",
      "614:\tlearn: 1279.8215250\ttotal: 10.2s\tremaining: 6.37s\n",
      "615:\tlearn: 1279.7161754\ttotal: 10.2s\tremaining: 6.35s\n",
      "616:\tlearn: 1279.5680179\ttotal: 10.2s\tremaining: 6.33s\n",
      "617:\tlearn: 1279.4794541\ttotal: 10.2s\tremaining: 6.31s\n",
      "618:\tlearn: 1279.3643046\ttotal: 10.2s\tremaining: 6.29s\n",
      "619:\tlearn: 1279.2066743\ttotal: 10.2s\tremaining: 6.28s\n",
      "620:\tlearn: 1279.0862960\ttotal: 10.3s\tremaining: 6.26s\n",
      "621:\tlearn: 1279.0160005\ttotal: 10.3s\tremaining: 6.24s\n",
      "622:\tlearn: 1278.8427635\ttotal: 10.3s\tremaining: 6.22s\n",
      "623:\tlearn: 1278.7469832\ttotal: 10.3s\tremaining: 6.21s\n",
      "624:\tlearn: 1278.6206212\ttotal: 10.3s\tremaining: 6.19s\n",
      "625:\tlearn: 1278.4835292\ttotal: 10.3s\tremaining: 6.18s\n",
      "626:\tlearn: 1278.3697666\ttotal: 10.4s\tremaining: 6.16s\n",
      "627:\tlearn: 1278.2340222\ttotal: 10.4s\tremaining: 6.14s\n",
      "628:\tlearn: 1278.1151726\ttotal: 10.4s\tremaining: 6.12s\n",
      "629:\tlearn: 1278.0104577\ttotal: 10.4s\tremaining: 6.11s\n",
      "630:\tlearn: 1277.8995245\ttotal: 10.4s\tremaining: 6.09s\n",
      "631:\tlearn: 1277.7328493\ttotal: 10.4s\tremaining: 6.07s\n",
      "632:\tlearn: 1277.6289566\ttotal: 10.4s\tremaining: 6.05s\n",
      "633:\tlearn: 1277.3968769\ttotal: 10.5s\tremaining: 6.04s\n",
      "634:\tlearn: 1277.3055740\ttotal: 10.5s\tremaining: 6.02s\n",
      "635:\tlearn: 1277.2084738\ttotal: 10.5s\tremaining: 6s\n",
      "636:\tlearn: 1277.0685887\ttotal: 10.5s\tremaining: 5.99s\n",
      "637:\tlearn: 1276.9865750\ttotal: 10.5s\tremaining: 5.97s\n",
      "638:\tlearn: 1276.8562680\ttotal: 10.5s\tremaining: 5.96s\n",
      "639:\tlearn: 1276.7320542\ttotal: 10.6s\tremaining: 5.94s\n",
      "640:\tlearn: 1276.6615357\ttotal: 10.6s\tremaining: 5.92s\n",
      "641:\tlearn: 1276.5335768\ttotal: 10.6s\tremaining: 5.9s\n",
      "642:\tlearn: 1276.4558366\ttotal: 10.6s\tremaining: 5.88s\n",
      "643:\tlearn: 1276.3308313\ttotal: 10.6s\tremaining: 5.87s\n",
      "644:\tlearn: 1276.1899480\ttotal: 10.6s\tremaining: 5.85s\n",
      "645:\tlearn: 1276.0627802\ttotal: 10.7s\tremaining: 5.84s\n",
      "646:\tlearn: 1275.9644793\ttotal: 10.7s\tremaining: 5.82s\n",
      "647:\tlearn: 1275.8944723\ttotal: 10.7s\tremaining: 5.8s\n",
      "648:\tlearn: 1275.8048922\ttotal: 10.7s\tremaining: 5.78s\n",
      "649:\tlearn: 1275.7362704\ttotal: 10.7s\tremaining: 5.77s\n",
      "650:\tlearn: 1275.6322966\ttotal: 10.7s\tremaining: 5.75s\n",
      "651:\tlearn: 1275.5040807\ttotal: 10.7s\tremaining: 5.74s\n",
      "652:\tlearn: 1275.3028899\ttotal: 10.8s\tremaining: 5.72s\n",
      "653:\tlearn: 1275.1835308\ttotal: 10.8s\tremaining: 5.7s\n",
      "654:\tlearn: 1275.0573214\ttotal: 10.8s\tremaining: 5.69s\n",
      "655:\tlearn: 1274.9372353\ttotal: 10.8s\tremaining: 5.67s\n",
      "656:\tlearn: 1274.7314939\ttotal: 10.8s\tremaining: 5.66s\n",
      "657:\tlearn: 1274.6309605\ttotal: 10.8s\tremaining: 5.64s\n",
      "658:\tlearn: 1274.5389199\ttotal: 10.9s\tremaining: 5.62s\n",
      "659:\tlearn: 1274.3669621\ttotal: 10.9s\tremaining: 5.61s\n",
      "660:\tlearn: 1274.3073885\ttotal: 10.9s\tremaining: 5.59s\n",
      "661:\tlearn: 1274.1560524\ttotal: 10.9s\tremaining: 5.58s\n",
      "662:\tlearn: 1274.0132463\ttotal: 10.9s\tremaining: 5.56s\n",
      "663:\tlearn: 1273.9492331\ttotal: 10.9s\tremaining: 5.54s\n",
      "664:\tlearn: 1273.8440529\ttotal: 11s\tremaining: 5.52s\n",
      "665:\tlearn: 1273.7261933\ttotal: 11s\tremaining: 5.51s\n",
      "666:\tlearn: 1273.6248593\ttotal: 11s\tremaining: 5.49s\n",
      "667:\tlearn: 1273.5243872\ttotal: 11s\tremaining: 5.48s\n",
      "668:\tlearn: 1273.3786447\ttotal: 11s\tremaining: 5.46s\n",
      "669:\tlearn: 1273.2509170\ttotal: 11s\tremaining: 5.44s\n",
      "670:\tlearn: 1273.1897675\ttotal: 11.1s\tremaining: 5.42s\n",
      "671:\tlearn: 1273.0903402\ttotal: 11.1s\tremaining: 5.41s\n",
      "672:\tlearn: 1272.9841698\ttotal: 11.1s\tremaining: 5.39s\n",
      "673:\tlearn: 1272.8495748\ttotal: 11.1s\tremaining: 5.37s\n",
      "674:\tlearn: 1272.7462203\ttotal: 11.1s\tremaining: 5.36s\n",
      "675:\tlearn: 1272.6229914\ttotal: 11.1s\tremaining: 5.34s\n",
      "676:\tlearn: 1272.4865596\ttotal: 11.2s\tremaining: 5.33s\n",
      "677:\tlearn: 1272.3320179\ttotal: 11.2s\tremaining: 5.31s\n",
      "678:\tlearn: 1272.2326280\ttotal: 11.2s\tremaining: 5.3s\n",
      "679:\tlearn: 1272.1140339\ttotal: 11.2s\tremaining: 5.28s\n",
      "680:\tlearn: 1271.9943285\ttotal: 11.2s\tremaining: 5.26s\n",
      "681:\tlearn: 1271.7873258\ttotal: 11.2s\tremaining: 5.24s\n",
      "682:\tlearn: 1271.6701303\ttotal: 11.3s\tremaining: 5.23s\n",
      "683:\tlearn: 1271.5831182\ttotal: 11.3s\tremaining: 5.21s\n",
      "684:\tlearn: 1271.4345104\ttotal: 11.3s\tremaining: 5.2s\n",
      "685:\tlearn: 1271.3451195\ttotal: 11.3s\tremaining: 5.18s\n",
      "686:\tlearn: 1271.2403448\ttotal: 11.3s\tremaining: 5.16s\n",
      "687:\tlearn: 1271.0431598\ttotal: 11.3s\tremaining: 5.14s\n",
      "688:\tlearn: 1270.9854665\ttotal: 11.4s\tremaining: 5.13s\n",
      "689:\tlearn: 1270.8161993\ttotal: 11.4s\tremaining: 5.11s\n",
      "690:\tlearn: 1270.6322585\ttotal: 11.4s\tremaining: 5.1s\n",
      "691:\tlearn: 1270.4838211\ttotal: 11.4s\tremaining: 5.08s\n",
      "692:\tlearn: 1270.3768565\ttotal: 11.4s\tremaining: 5.06s\n",
      "693:\tlearn: 1270.2773003\ttotal: 11.4s\tremaining: 5.05s\n",
      "694:\tlearn: 1270.2123547\ttotal: 11.5s\tremaining: 5.03s\n",
      "695:\tlearn: 1270.0907499\ttotal: 11.5s\tremaining: 5.01s\n",
      "696:\tlearn: 1269.9589956\ttotal: 11.5s\tremaining: 5s\n",
      "697:\tlearn: 1269.8374877\ttotal: 11.5s\tremaining: 4.98s\n",
      "698:\tlearn: 1269.7833370\ttotal: 11.5s\tremaining: 4.96s\n",
      "699:\tlearn: 1269.7079218\ttotal: 11.5s\tremaining: 4.95s\n",
      "700:\tlearn: 1269.5231116\ttotal: 11.6s\tremaining: 4.93s\n",
      "701:\tlearn: 1269.4058781\ttotal: 11.6s\tremaining: 4.92s\n",
      "702:\tlearn: 1269.2345205\ttotal: 11.6s\tremaining: 4.9s\n",
      "703:\tlearn: 1269.1092105\ttotal: 11.6s\tremaining: 4.88s\n",
      "704:\tlearn: 1269.0047940\ttotal: 11.6s\tremaining: 4.87s\n",
      "705:\tlearn: 1268.9063417\ttotal: 11.6s\tremaining: 4.85s\n",
      "706:\tlearn: 1268.8159624\ttotal: 11.7s\tremaining: 4.83s\n",
      "707:\tlearn: 1268.7071439\ttotal: 11.7s\tremaining: 4.82s\n",
      "708:\tlearn: 1268.5764442\ttotal: 11.7s\tremaining: 4.8s\n",
      "709:\tlearn: 1268.4864032\ttotal: 11.7s\tremaining: 4.78s\n",
      "710:\tlearn: 1268.3905774\ttotal: 11.7s\tremaining: 4.76s\n",
      "711:\tlearn: 1268.2967869\ttotal: 11.7s\tremaining: 4.75s\n",
      "712:\tlearn: 1268.1727058\ttotal: 11.7s\tremaining: 4.73s\n",
      "713:\tlearn: 1268.0335472\ttotal: 11.8s\tremaining: 4.71s\n",
      "714:\tlearn: 1267.9560154\ttotal: 11.8s\tremaining: 4.7s\n",
      "715:\tlearn: 1267.8667615\ttotal: 11.8s\tremaining: 4.68s\n",
      "716:\tlearn: 1267.7791255\ttotal: 11.8s\tremaining: 4.66s\n",
      "717:\tlearn: 1267.6666803\ttotal: 11.8s\tremaining: 4.65s\n",
      "718:\tlearn: 1267.5791206\ttotal: 11.8s\tremaining: 4.63s\n",
      "719:\tlearn: 1267.3936069\ttotal: 11.9s\tremaining: 4.62s\n",
      "720:\tlearn: 1267.2869028\ttotal: 11.9s\tremaining: 4.6s\n",
      "721:\tlearn: 1267.1779486\ttotal: 11.9s\tremaining: 4.58s\n",
      "722:\tlearn: 1267.0908064\ttotal: 11.9s\tremaining: 4.56s\n",
      "723:\tlearn: 1266.9869574\ttotal: 11.9s\tremaining: 4.55s\n",
      "724:\tlearn: 1266.8607293\ttotal: 12s\tremaining: 4.53s\n",
      "725:\tlearn: 1266.7939339\ttotal: 12s\tremaining: 4.52s\n",
      "726:\tlearn: 1266.6880269\ttotal: 12s\tremaining: 4.5s\n",
      "727:\tlearn: 1266.5357834\ttotal: 12s\tremaining: 4.48s\n",
      "728:\tlearn: 1266.4998478\ttotal: 12s\tremaining: 4.47s\n",
      "729:\tlearn: 1266.4070995\ttotal: 12s\tremaining: 4.45s\n",
      "730:\tlearn: 1266.2838309\ttotal: 12.1s\tremaining: 4.43s\n",
      "731:\tlearn: 1266.2138504\ttotal: 12.1s\tremaining: 4.42s\n",
      "732:\tlearn: 1266.0752813\ttotal: 12.1s\tremaining: 4.4s\n",
      "733:\tlearn: 1265.9497166\ttotal: 12.1s\tremaining: 4.38s\n",
      "734:\tlearn: 1265.8322390\ttotal: 12.1s\tremaining: 4.37s\n",
      "735:\tlearn: 1265.6983098\ttotal: 12.1s\tremaining: 4.35s\n",
      "736:\tlearn: 1265.6222626\ttotal: 12.2s\tremaining: 4.34s\n",
      "737:\tlearn: 1265.5453546\ttotal: 12.2s\tremaining: 4.32s\n",
      "738:\tlearn: 1265.4791235\ttotal: 12.2s\tremaining: 4.3s\n",
      "739:\tlearn: 1265.4176261\ttotal: 12.2s\tremaining: 4.29s\n",
      "740:\tlearn: 1265.3656485\ttotal: 12.2s\tremaining: 4.27s\n",
      "741:\tlearn: 1265.1964032\ttotal: 12.2s\tremaining: 4.25s\n",
      "742:\tlearn: 1265.1358945\ttotal: 12.3s\tremaining: 4.24s\n",
      "743:\tlearn: 1265.0397848\ttotal: 12.3s\tremaining: 4.22s\n",
      "744:\tlearn: 1264.9226047\ttotal: 12.3s\tremaining: 4.2s\n",
      "745:\tlearn: 1264.8519322\ttotal: 12.3s\tremaining: 4.19s\n",
      "746:\tlearn: 1264.7948283\ttotal: 12.3s\tremaining: 4.17s\n",
      "747:\tlearn: 1264.7024683\ttotal: 12.3s\tremaining: 4.15s\n",
      "748:\tlearn: 1264.6260722\ttotal: 12.3s\tremaining: 4.14s\n",
      "749:\tlearn: 1264.5191305\ttotal: 12.4s\tremaining: 4.12s\n",
      "750:\tlearn: 1264.4125203\ttotal: 12.4s\tremaining: 4.1s\n",
      "751:\tlearn: 1264.2915611\ttotal: 12.4s\tremaining: 4.09s\n",
      "752:\tlearn: 1264.2057252\ttotal: 12.4s\tremaining: 4.07s\n",
      "753:\tlearn: 1264.1329578\ttotal: 12.4s\tremaining: 4.05s\n",
      "754:\tlearn: 1264.0610933\ttotal: 12.4s\tremaining: 4.04s\n",
      "755:\tlearn: 1263.9478254\ttotal: 12.5s\tremaining: 4.02s\n",
      "756:\tlearn: 1263.7910591\ttotal: 12.5s\tremaining: 4s\n",
      "757:\tlearn: 1263.7228837\ttotal: 12.5s\tremaining: 3.99s\n",
      "758:\tlearn: 1263.6060467\ttotal: 12.5s\tremaining: 3.97s\n",
      "759:\tlearn: 1263.5028752\ttotal: 12.5s\tremaining: 3.96s\n",
      "760:\tlearn: 1263.4221748\ttotal: 12.5s\tremaining: 3.94s\n",
      "761:\tlearn: 1263.3828458\ttotal: 12.6s\tremaining: 3.92s\n",
      "762:\tlearn: 1263.3155941\ttotal: 12.6s\tremaining: 3.9s\n",
      "763:\tlearn: 1263.2119262\ttotal: 12.6s\tremaining: 3.89s\n",
      "764:\tlearn: 1263.0936739\ttotal: 12.6s\tremaining: 3.87s\n",
      "765:\tlearn: 1263.0192176\ttotal: 12.6s\tremaining: 3.86s\n",
      "766:\tlearn: 1262.8932687\ttotal: 12.6s\tremaining: 3.84s\n",
      "767:\tlearn: 1262.7466262\ttotal: 12.7s\tremaining: 3.83s\n",
      "768:\tlearn: 1262.6379833\ttotal: 12.7s\tremaining: 3.81s\n",
      "769:\tlearn: 1262.5365418\ttotal: 12.7s\tremaining: 3.79s\n",
      "770:\tlearn: 1262.4276914\ttotal: 12.7s\tremaining: 3.78s\n",
      "771:\tlearn: 1262.3289176\ttotal: 12.7s\tremaining: 3.76s\n",
      "772:\tlearn: 1262.2497351\ttotal: 12.8s\tremaining: 3.75s\n",
      "773:\tlearn: 1262.1565030\ttotal: 12.8s\tremaining: 3.73s\n",
      "774:\tlearn: 1262.0646902\ttotal: 12.8s\tremaining: 3.71s\n",
      "775:\tlearn: 1261.9833236\ttotal: 12.8s\tremaining: 3.7s\n",
      "776:\tlearn: 1261.8559154\ttotal: 12.8s\tremaining: 3.68s\n",
      "777:\tlearn: 1261.7646486\ttotal: 12.8s\tremaining: 3.66s\n",
      "778:\tlearn: 1261.6820565\ttotal: 12.9s\tremaining: 3.65s\n",
      "779:\tlearn: 1261.5905170\ttotal: 12.9s\tremaining: 3.63s\n",
      "780:\tlearn: 1261.5264099\ttotal: 12.9s\tremaining: 3.61s\n",
      "781:\tlearn: 1261.3672185\ttotal: 12.9s\tremaining: 3.6s\n",
      "782:\tlearn: 1261.2684649\ttotal: 12.9s\tremaining: 3.58s\n",
      "783:\tlearn: 1261.2320765\ttotal: 12.9s\tremaining: 3.56s\n",
      "784:\tlearn: 1261.1551561\ttotal: 12.9s\tremaining: 3.55s\n",
      "785:\tlearn: 1261.0322490\ttotal: 13s\tremaining: 3.53s\n",
      "786:\tlearn: 1260.9024691\ttotal: 13s\tremaining: 3.51s\n",
      "787:\tlearn: 1260.7850945\ttotal: 13s\tremaining: 3.5s\n",
      "788:\tlearn: 1260.7177420\ttotal: 13s\tremaining: 3.48s\n",
      "789:\tlearn: 1260.6457980\ttotal: 13s\tremaining: 3.46s\n",
      "790:\tlearn: 1260.5801874\ttotal: 13s\tremaining: 3.45s\n",
      "791:\tlearn: 1260.4977211\ttotal: 13.1s\tremaining: 3.43s\n",
      "792:\tlearn: 1260.3977640\ttotal: 13.1s\tremaining: 3.41s\n",
      "793:\tlearn: 1260.3681739\ttotal: 13.1s\tremaining: 3.4s\n",
      "794:\tlearn: 1260.1642476\ttotal: 13.1s\tremaining: 3.38s\n",
      "795:\tlearn: 1260.0813355\ttotal: 13.1s\tremaining: 3.36s\n",
      "796:\tlearn: 1259.9689070\ttotal: 13.1s\tremaining: 3.35s\n",
      "797:\tlearn: 1259.8366843\ttotal: 13.2s\tremaining: 3.33s\n",
      "798:\tlearn: 1259.7187666\ttotal: 13.2s\tremaining: 3.31s\n",
      "799:\tlearn: 1259.6647895\ttotal: 13.2s\tremaining: 3.3s\n",
      "800:\tlearn: 1259.5671319\ttotal: 13.2s\tremaining: 3.28s\n",
      "801:\tlearn: 1259.4911950\ttotal: 13.2s\tremaining: 3.27s\n",
      "802:\tlearn: 1259.3454735\ttotal: 13.2s\tremaining: 3.25s\n",
      "803:\tlearn: 1259.2438760\ttotal: 13.3s\tremaining: 3.23s\n",
      "804:\tlearn: 1259.1265098\ttotal: 13.3s\tremaining: 3.21s\n",
      "805:\tlearn: 1259.0246269\ttotal: 13.3s\tremaining: 3.2s\n",
      "806:\tlearn: 1258.9373285\ttotal: 13.3s\tremaining: 3.18s\n",
      "807:\tlearn: 1258.8331104\ttotal: 13.3s\tremaining: 3.17s\n",
      "808:\tlearn: 1258.7392776\ttotal: 13.3s\tremaining: 3.15s\n",
      "809:\tlearn: 1258.6209925\ttotal: 13.4s\tremaining: 3.13s\n",
      "810:\tlearn: 1258.4804986\ttotal: 13.4s\tremaining: 3.12s\n",
      "811:\tlearn: 1258.3878278\ttotal: 13.4s\tremaining: 3.1s\n",
      "812:\tlearn: 1258.2749277\ttotal: 13.4s\tremaining: 3.08s\n",
      "813:\tlearn: 1258.1785293\ttotal: 13.4s\tremaining: 3.07s\n",
      "814:\tlearn: 1258.1304483\ttotal: 13.4s\tremaining: 3.05s\n",
      "815:\tlearn: 1258.0529327\ttotal: 13.4s\tremaining: 3.03s\n",
      "816:\tlearn: 1257.9195585\ttotal: 13.5s\tremaining: 3.02s\n",
      "817:\tlearn: 1257.8357254\ttotal: 13.5s\tremaining: 3s\n",
      "818:\tlearn: 1257.7282617\ttotal: 13.5s\tremaining: 2.98s\n",
      "819:\tlearn: 1257.6856911\ttotal: 13.5s\tremaining: 2.97s\n",
      "820:\tlearn: 1257.6132489\ttotal: 13.5s\tremaining: 2.95s\n",
      "821:\tlearn: 1257.5394015\ttotal: 13.5s\tremaining: 2.93s\n",
      "822:\tlearn: 1257.4396575\ttotal: 13.6s\tremaining: 2.92s\n",
      "823:\tlearn: 1257.3554506\ttotal: 13.6s\tremaining: 2.9s\n",
      "824:\tlearn: 1257.1235988\ttotal: 13.6s\tremaining: 2.88s\n",
      "825:\tlearn: 1257.0100875\ttotal: 13.6s\tremaining: 2.87s\n",
      "826:\tlearn: 1256.9273086\ttotal: 13.6s\tremaining: 2.85s\n",
      "827:\tlearn: 1256.8164084\ttotal: 13.6s\tremaining: 2.83s\n",
      "828:\tlearn: 1256.7482887\ttotal: 13.7s\tremaining: 2.82s\n",
      "829:\tlearn: 1256.6486247\ttotal: 13.7s\tremaining: 2.8s\n",
      "830:\tlearn: 1256.5048219\ttotal: 13.7s\tremaining: 2.79s\n",
      "831:\tlearn: 1256.4007599\ttotal: 13.7s\tremaining: 2.77s\n",
      "832:\tlearn: 1256.3248486\ttotal: 13.7s\tremaining: 2.75s\n",
      "833:\tlearn: 1256.2040322\ttotal: 13.7s\tremaining: 2.73s\n",
      "834:\tlearn: 1256.0933828\ttotal: 13.8s\tremaining: 2.72s\n",
      "835:\tlearn: 1256.0062480\ttotal: 13.8s\tremaining: 2.7s\n",
      "836:\tlearn: 1255.9280351\ttotal: 13.8s\tremaining: 2.69s\n",
      "837:\tlearn: 1255.8501550\ttotal: 13.8s\tremaining: 2.67s\n",
      "838:\tlearn: 1255.7841979\ttotal: 13.8s\tremaining: 2.65s\n",
      "839:\tlearn: 1255.6624914\ttotal: 13.8s\tremaining: 2.63s\n",
      "840:\tlearn: 1255.6111676\ttotal: 13.8s\tremaining: 2.62s\n",
      "841:\tlearn: 1255.4483345\ttotal: 13.9s\tremaining: 2.6s\n",
      "842:\tlearn: 1255.3512143\ttotal: 13.9s\tremaining: 2.59s\n",
      "843:\tlearn: 1255.3197692\ttotal: 13.9s\tremaining: 2.57s\n",
      "844:\tlearn: 1255.2482984\ttotal: 13.9s\tremaining: 2.55s\n",
      "845:\tlearn: 1255.1372490\ttotal: 13.9s\tremaining: 2.54s\n",
      "846:\tlearn: 1255.0090738\ttotal: 14s\tremaining: 2.52s\n",
      "847:\tlearn: 1254.8990511\ttotal: 14s\tremaining: 2.5s\n",
      "848:\tlearn: 1254.8247224\ttotal: 14s\tremaining: 2.49s\n",
      "849:\tlearn: 1254.7231386\ttotal: 14s\tremaining: 2.47s\n",
      "850:\tlearn: 1254.6384146\ttotal: 14s\tremaining: 2.45s\n",
      "851:\tlearn: 1254.5311150\ttotal: 14s\tremaining: 2.44s\n",
      "852:\tlearn: 1254.4682800\ttotal: 14.1s\tremaining: 2.42s\n",
      "853:\tlearn: 1254.3424037\ttotal: 14.1s\tremaining: 2.41s\n",
      "854:\tlearn: 1254.2362299\ttotal: 14.1s\tremaining: 2.39s\n",
      "855:\tlearn: 1254.1573226\ttotal: 14.1s\tremaining: 2.37s\n",
      "856:\tlearn: 1254.1021260\ttotal: 14.1s\tremaining: 2.36s\n",
      "857:\tlearn: 1253.9924084\ttotal: 14.1s\tremaining: 2.34s\n",
      "858:\tlearn: 1253.8979671\ttotal: 14.2s\tremaining: 2.32s\n",
      "859:\tlearn: 1253.8226268\ttotal: 14.2s\tremaining: 2.31s\n",
      "860:\tlearn: 1253.7517073\ttotal: 14.2s\tremaining: 2.29s\n",
      "861:\tlearn: 1253.6835896\ttotal: 14.2s\tremaining: 2.27s\n",
      "862:\tlearn: 1253.6297387\ttotal: 14.2s\tremaining: 2.26s\n",
      "863:\tlearn: 1253.4991828\ttotal: 14.2s\tremaining: 2.24s\n",
      "864:\tlearn: 1253.4310277\ttotal: 14.2s\tremaining: 2.22s\n",
      "865:\tlearn: 1253.3650900\ttotal: 14.3s\tremaining: 2.21s\n",
      "866:\tlearn: 1253.2849115\ttotal: 14.3s\tremaining: 2.19s\n",
      "867:\tlearn: 1253.2322369\ttotal: 14.3s\tremaining: 2.17s\n",
      "868:\tlearn: 1253.1382589\ttotal: 14.3s\tremaining: 2.16s\n",
      "869:\tlearn: 1253.0354801\ttotal: 14.3s\tremaining: 2.14s\n",
      "870:\tlearn: 1252.9417913\ttotal: 14.3s\tremaining: 2.12s\n",
      "871:\tlearn: 1252.8731168\ttotal: 14.4s\tremaining: 2.11s\n",
      "872:\tlearn: 1252.8177802\ttotal: 14.4s\tremaining: 2.09s\n",
      "873:\tlearn: 1252.7555190\ttotal: 14.4s\tremaining: 2.08s\n",
      "874:\tlearn: 1252.6586628\ttotal: 14.4s\tremaining: 2.06s\n",
      "875:\tlearn: 1252.5776589\ttotal: 14.4s\tremaining: 2.04s\n",
      "876:\tlearn: 1252.5010103\ttotal: 14.5s\tremaining: 2.03s\n",
      "877:\tlearn: 1252.4152320\ttotal: 14.5s\tremaining: 2.01s\n",
      "878:\tlearn: 1252.3089625\ttotal: 14.5s\tremaining: 1.99s\n",
      "879:\tlearn: 1252.2008387\ttotal: 14.5s\tremaining: 1.98s\n",
      "880:\tlearn: 1252.0845363\ttotal: 14.5s\tremaining: 1.96s\n",
      "881:\tlearn: 1251.9886521\ttotal: 14.5s\tremaining: 1.95s\n",
      "882:\tlearn: 1251.9116451\ttotal: 14.6s\tremaining: 1.93s\n",
      "883:\tlearn: 1251.8637939\ttotal: 14.6s\tremaining: 1.91s\n",
      "884:\tlearn: 1251.7580511\ttotal: 14.6s\tremaining: 1.9s\n",
      "885:\tlearn: 1251.7045790\ttotal: 14.6s\tremaining: 1.88s\n",
      "886:\tlearn: 1251.6282621\ttotal: 14.6s\tremaining: 1.86s\n",
      "887:\tlearn: 1251.5583771\ttotal: 14.6s\tremaining: 1.85s\n",
      "888:\tlearn: 1251.5338312\ttotal: 14.7s\tremaining: 1.83s\n",
      "889:\tlearn: 1251.4326071\ttotal: 14.7s\tremaining: 1.81s\n",
      "890:\tlearn: 1251.3711843\ttotal: 14.7s\tremaining: 1.8s\n",
      "891:\tlearn: 1251.2726612\ttotal: 14.7s\tremaining: 1.78s\n",
      "892:\tlearn: 1251.1662247\ttotal: 14.7s\tremaining: 1.76s\n",
      "893:\tlearn: 1251.0811353\ttotal: 14.7s\tremaining: 1.75s\n",
      "894:\tlearn: 1251.0244798\ttotal: 14.8s\tremaining: 1.73s\n",
      "895:\tlearn: 1250.9394838\ttotal: 14.8s\tremaining: 1.71s\n",
      "896:\tlearn: 1250.8796975\ttotal: 14.8s\tremaining: 1.7s\n",
      "897:\tlearn: 1250.7582896\ttotal: 14.8s\tremaining: 1.68s\n",
      "898:\tlearn: 1250.6787084\ttotal: 14.8s\tremaining: 1.66s\n",
      "899:\tlearn: 1250.5184985\ttotal: 14.8s\tremaining: 1.65s\n",
      "900:\tlearn: 1250.4594267\ttotal: 14.9s\tremaining: 1.63s\n",
      "901:\tlearn: 1250.3975629\ttotal: 14.9s\tremaining: 1.61s\n",
      "902:\tlearn: 1250.2959157\ttotal: 14.9s\tremaining: 1.6s\n",
      "903:\tlearn: 1250.2327569\ttotal: 14.9s\tremaining: 1.58s\n",
      "904:\tlearn: 1250.1250097\ttotal: 14.9s\tremaining: 1.56s\n",
      "905:\tlearn: 1250.0304270\ttotal: 14.9s\tremaining: 1.55s\n",
      "906:\tlearn: 1249.9290647\ttotal: 15s\tremaining: 1.53s\n",
      "907:\tlearn: 1249.8718195\ttotal: 15s\tremaining: 1.52s\n",
      "908:\tlearn: 1249.7926505\ttotal: 15s\tremaining: 1.5s\n",
      "909:\tlearn: 1249.7331041\ttotal: 15s\tremaining: 1.48s\n",
      "910:\tlearn: 1249.5979255\ttotal: 15s\tremaining: 1.47s\n",
      "911:\tlearn: 1249.4428219\ttotal: 15s\tremaining: 1.45s\n",
      "912:\tlearn: 1249.3631199\ttotal: 15.1s\tremaining: 1.43s\n",
      "913:\tlearn: 1249.2843797\ttotal: 15.1s\tremaining: 1.42s\n",
      "914:\tlearn: 1249.1992925\ttotal: 15.1s\tremaining: 1.4s\n",
      "915:\tlearn: 1249.0906836\ttotal: 15.1s\tremaining: 1.38s\n",
      "916:\tlearn: 1249.0300453\ttotal: 15.1s\tremaining: 1.37s\n",
      "917:\tlearn: 1248.9526456\ttotal: 15.1s\tremaining: 1.35s\n",
      "918:\tlearn: 1248.8854135\ttotal: 15.1s\tremaining: 1.33s\n",
      "919:\tlearn: 1248.7641753\ttotal: 15.2s\tremaining: 1.32s\n",
      "920:\tlearn: 1248.6977966\ttotal: 15.2s\tremaining: 1.3s\n",
      "921:\tlearn: 1248.6021185\ttotal: 15.2s\tremaining: 1.28s\n",
      "922:\tlearn: 1248.5254735\ttotal: 15.2s\tremaining: 1.27s\n",
      "923:\tlearn: 1248.4563765\ttotal: 15.2s\tremaining: 1.25s\n",
      "924:\tlearn: 1248.3920442\ttotal: 15.2s\tremaining: 1.24s\n",
      "925:\tlearn: 1248.3364157\ttotal: 15.3s\tremaining: 1.22s\n",
      "926:\tlearn: 1248.2496813\ttotal: 15.3s\tremaining: 1.2s\n",
      "927:\tlearn: 1248.1868270\ttotal: 15.3s\tremaining: 1.19s\n",
      "928:\tlearn: 1248.1163596\ttotal: 15.3s\tremaining: 1.17s\n",
      "929:\tlearn: 1248.0133869\ttotal: 15.3s\tremaining: 1.15s\n",
      "930:\tlearn: 1247.9593807\ttotal: 15.4s\tremaining: 1.14s\n",
      "931:\tlearn: 1247.8549548\ttotal: 15.4s\tremaining: 1.12s\n",
      "932:\tlearn: 1247.7841626\ttotal: 15.4s\tremaining: 1.1s\n",
      "933:\tlearn: 1247.7299950\ttotal: 15.4s\tremaining: 1.09s\n",
      "934:\tlearn: 1247.5954930\ttotal: 15.4s\tremaining: 1.07s\n",
      "935:\tlearn: 1247.4820628\ttotal: 15.4s\tremaining: 1.06s\n",
      "936:\tlearn: 1247.4192978\ttotal: 15.5s\tremaining: 1.04s\n",
      "937:\tlearn: 1247.3386339\ttotal: 15.5s\tremaining: 1.02s\n",
      "938:\tlearn: 1247.2791548\ttotal: 15.5s\tremaining: 1.01s\n",
      "939:\tlearn: 1247.2418904\ttotal: 15.5s\tremaining: 990ms\n",
      "940:\tlearn: 1247.1514529\ttotal: 15.5s\tremaining: 973ms\n",
      "941:\tlearn: 1247.0224505\ttotal: 15.5s\tremaining: 957ms\n",
      "942:\tlearn: 1246.9862692\ttotal: 15.6s\tremaining: 940ms\n",
      "943:\tlearn: 1246.9458979\ttotal: 15.6s\tremaining: 924ms\n",
      "944:\tlearn: 1246.9058791\ttotal: 15.6s\tremaining: 907ms\n",
      "945:\tlearn: 1246.8057011\ttotal: 15.6s\tremaining: 891ms\n",
      "946:\tlearn: 1246.6974877\ttotal: 15.6s\tremaining: 874ms\n",
      "947:\tlearn: 1246.6151106\ttotal: 15.6s\tremaining: 858ms\n",
      "948:\tlearn: 1246.5445729\ttotal: 15.7s\tremaining: 841ms\n",
      "949:\tlearn: 1246.4932856\ttotal: 15.7s\tremaining: 824ms\n",
      "950:\tlearn: 1246.4589033\ttotal: 15.7s\tremaining: 808ms\n",
      "951:\tlearn: 1246.3371920\ttotal: 15.7s\tremaining: 791ms\n",
      "952:\tlearn: 1246.2802995\ttotal: 15.7s\tremaining: 775ms\n",
      "953:\tlearn: 1246.2021964\ttotal: 15.7s\tremaining: 758ms\n",
      "954:\tlearn: 1246.1430379\ttotal: 15.7s\tremaining: 742ms\n",
      "955:\tlearn: 1246.0832577\ttotal: 15.8s\tremaining: 725ms\n",
      "956:\tlearn: 1246.0296645\ttotal: 15.8s\tremaining: 709ms\n",
      "957:\tlearn: 1245.9880841\ttotal: 15.8s\tremaining: 692ms\n",
      "958:\tlearn: 1245.9227459\ttotal: 15.8s\tremaining: 676ms\n",
      "959:\tlearn: 1245.8368220\ttotal: 15.8s\tremaining: 659ms\n",
      "960:\tlearn: 1245.7683828\ttotal: 15.8s\tremaining: 643ms\n",
      "961:\tlearn: 1245.6498499\ttotal: 15.8s\tremaining: 626ms\n",
      "962:\tlearn: 1245.5617155\ttotal: 15.9s\tremaining: 610ms\n",
      "963:\tlearn: 1245.4926602\ttotal: 15.9s\tremaining: 593ms\n",
      "964:\tlearn: 1245.3759059\ttotal: 15.9s\tremaining: 577ms\n",
      "965:\tlearn: 1245.2949377\ttotal: 15.9s\tremaining: 561ms\n",
      "966:\tlearn: 1245.2412618\ttotal: 15.9s\tremaining: 544ms\n",
      "967:\tlearn: 1245.1469398\ttotal: 16s\tremaining: 528ms\n",
      "968:\tlearn: 1245.0897896\ttotal: 16s\tremaining: 511ms\n",
      "969:\tlearn: 1245.0433476\ttotal: 16s\tremaining: 495ms\n",
      "970:\tlearn: 1244.9662205\ttotal: 16s\tremaining: 478ms\n",
      "971:\tlearn: 1244.9114254\ttotal: 16s\tremaining: 462ms\n",
      "972:\tlearn: 1244.8420082\ttotal: 16s\tremaining: 445ms\n",
      "973:\tlearn: 1244.7718552\ttotal: 16.1s\tremaining: 429ms\n",
      "974:\tlearn: 1244.6662999\ttotal: 16.1s\tremaining: 412ms\n",
      "975:\tlearn: 1244.5825733\ttotal: 16.1s\tremaining: 396ms\n",
      "976:\tlearn: 1244.5445094\ttotal: 16.1s\tremaining: 379ms\n",
      "977:\tlearn: 1244.4666064\ttotal: 16.1s\tremaining: 363ms\n",
      "978:\tlearn: 1244.4065234\ttotal: 16.1s\tremaining: 346ms\n",
      "979:\tlearn: 1244.3485251\ttotal: 16.1s\tremaining: 330ms\n",
      "980:\tlearn: 1244.2930135\ttotal: 16.2s\tremaining: 313ms\n",
      "981:\tlearn: 1244.2228078\ttotal: 16.2s\tremaining: 297ms\n",
      "982:\tlearn: 1244.1577522\ttotal: 16.2s\tremaining: 280ms\n",
      "983:\tlearn: 1244.1354436\ttotal: 16.2s\tremaining: 264ms\n",
      "984:\tlearn: 1244.0722874\ttotal: 16.2s\tremaining: 247ms\n",
      "985:\tlearn: 1243.9864167\ttotal: 16.2s\tremaining: 231ms\n",
      "986:\tlearn: 1243.9008464\ttotal: 16.3s\tremaining: 214ms\n",
      "987:\tlearn: 1243.8239424\ttotal: 16.3s\tremaining: 198ms\n",
      "988:\tlearn: 1243.7574394\ttotal: 16.3s\tremaining: 181ms\n",
      "989:\tlearn: 1243.6376383\ttotal: 16.3s\tremaining: 165ms\n",
      "990:\tlearn: 1243.5625651\ttotal: 16.3s\tremaining: 148ms\n",
      "991:\tlearn: 1243.4659772\ttotal: 16.4s\tremaining: 132ms\n",
      "992:\tlearn: 1243.3588582\ttotal: 16.4s\tremaining: 115ms\n",
      "993:\tlearn: 1243.3306496\ttotal: 16.4s\tremaining: 98.9ms\n",
      "994:\tlearn: 1243.2572733\ttotal: 16.4s\tremaining: 82.4ms\n",
      "995:\tlearn: 1243.1864732\ttotal: 16.4s\tremaining: 65.9ms\n",
      "996:\tlearn: 1243.1390071\ttotal: 16.4s\tremaining: 49.4ms\n",
      "997:\tlearn: 1243.0548532\ttotal: 16.4s\tremaining: 33ms\n",
      "998:\tlearn: 1242.9657311\ttotal: 16.5s\tremaining: 16.5ms\n",
      "999:\tlearn: 1242.9031904\ttotal: 16.5s\tremaining: 0us\n",
      "Learning rate set to 0.088752\n",
      "0:\tlearn: 3379.4360680\ttotal: 18.1ms\tremaining: 18.1s\n",
      "1:\tlearn: 3201.6700925\ttotal: 37.5ms\tremaining: 18.7s\n",
      "2:\tlearn: 3036.1412419\ttotal: 55.5ms\tremaining: 18.4s\n",
      "3:\tlearn: 2891.9893616\ttotal: 78.2ms\tremaining: 19.5s\n",
      "4:\tlearn: 2765.3866936\ttotal: 104ms\tremaining: 20.8s\n",
      "5:\tlearn: 2648.9400072\ttotal: 124ms\tremaining: 20.5s\n",
      "6:\tlearn: 2545.2267739\ttotal: 140ms\tremaining: 19.9s\n",
      "7:\tlearn: 2450.0424670\ttotal: 158ms\tremaining: 19.6s\n",
      "8:\tlearn: 2365.9897705\ttotal: 175ms\tremaining: 19.2s\n",
      "9:\tlearn: 2293.0726768\ttotal: 199ms\tremaining: 19.7s\n",
      "10:\tlearn: 2228.3026072\ttotal: 216ms\tremaining: 19.4s\n",
      "11:\tlearn: 2169.3731190\ttotal: 233ms\tremaining: 19.2s\n",
      "12:\tlearn: 2116.3521279\ttotal: 249ms\tremaining: 18.9s\n",
      "13:\tlearn: 2070.9193470\ttotal: 266ms\tremaining: 18.8s\n",
      "14:\tlearn: 2029.4535193\ttotal: 292ms\tremaining: 19.2s\n",
      "15:\tlearn: 1990.2533654\ttotal: 308ms\tremaining: 19s\n",
      "16:\tlearn: 1958.2424570\ttotal: 324ms\tremaining: 18.7s\n",
      "17:\tlearn: 1926.1519439\ttotal: 341ms\tremaining: 18.6s\n",
      "18:\tlearn: 1897.6721177\ttotal: 358ms\tremaining: 18.5s\n",
      "19:\tlearn: 1866.5204220\ttotal: 374ms\tremaining: 18.3s\n",
      "20:\tlearn: 1844.6895495\ttotal: 392ms\tremaining: 18.3s\n",
      "21:\tlearn: 1823.6070815\ttotal: 408ms\tremaining: 18.2s\n",
      "22:\tlearn: 1800.3903267\ttotal: 425ms\tremaining: 18.1s\n",
      "23:\tlearn: 1783.1425889\ttotal: 442ms\tremaining: 18s\n",
      "24:\tlearn: 1762.7984461\ttotal: 458ms\tremaining: 17.9s\n",
      "25:\tlearn: 1746.5218492\ttotal: 479ms\tremaining: 17.9s\n",
      "26:\tlearn: 1731.3124767\ttotal: 496ms\tremaining: 17.9s\n",
      "27:\tlearn: 1719.6182318\ttotal: 512ms\tremaining: 17.8s\n",
      "28:\tlearn: 1706.2755690\ttotal: 528ms\tremaining: 17.7s\n",
      "29:\tlearn: 1693.4288691\ttotal: 544ms\tremaining: 17.6s\n",
      "30:\tlearn: 1681.5349293\ttotal: 560ms\tremaining: 17.5s\n",
      "31:\tlearn: 1671.6180248\ttotal: 583ms\tremaining: 17.6s\n",
      "32:\tlearn: 1662.4722793\ttotal: 600ms\tremaining: 17.6s\n",
      "33:\tlearn: 1653.8447613\ttotal: 615ms\tremaining: 17.5s\n",
      "34:\tlearn: 1644.6142081\ttotal: 632ms\tremaining: 17.4s\n",
      "35:\tlearn: 1633.4158155\ttotal: 647ms\tremaining: 17.3s\n",
      "36:\tlearn: 1625.6195262\ttotal: 663ms\tremaining: 17.3s\n",
      "37:\tlearn: 1618.9492696\ttotal: 682ms\tremaining: 17.3s\n",
      "38:\tlearn: 1612.7009789\ttotal: 697ms\tremaining: 17.2s\n",
      "39:\tlearn: 1604.5767190\ttotal: 712ms\tremaining: 17.1s\n",
      "40:\tlearn: 1598.6698845\ttotal: 727ms\tremaining: 17s\n",
      "41:\tlearn: 1593.5482802\ttotal: 743ms\tremaining: 16.9s\n",
      "42:\tlearn: 1588.7542112\ttotal: 762ms\tremaining: 17s\n",
      "43:\tlearn: 1583.7406624\ttotal: 781ms\tremaining: 17s\n",
      "44:\tlearn: 1579.5900859\ttotal: 796ms\tremaining: 16.9s\n",
      "45:\tlearn: 1575.2066738\ttotal: 812ms\tremaining: 16.8s\n",
      "46:\tlearn: 1570.4183507\ttotal: 828ms\tremaining: 16.8s\n",
      "47:\tlearn: 1565.3947902\ttotal: 844ms\tremaining: 16.7s\n",
      "48:\tlearn: 1559.4584917\ttotal: 868ms\tremaining: 16.8s\n",
      "49:\tlearn: 1556.2391582\ttotal: 883ms\tremaining: 16.8s\n",
      "50:\tlearn: 1551.2515771\ttotal: 899ms\tremaining: 16.7s\n",
      "51:\tlearn: 1547.5565694\ttotal: 914ms\tremaining: 16.7s\n",
      "52:\tlearn: 1543.9443167\ttotal: 929ms\tremaining: 16.6s\n",
      "53:\tlearn: 1539.7674194\ttotal: 944ms\tremaining: 16.5s\n",
      "54:\tlearn: 1535.7316815\ttotal: 968ms\tremaining: 16.6s\n",
      "55:\tlearn: 1532.0251426\ttotal: 984ms\tremaining: 16.6s\n",
      "56:\tlearn: 1528.8502696\ttotal: 1000ms\tremaining: 16.5s\n",
      "57:\tlearn: 1525.9225407\ttotal: 1.01s\tremaining: 16.5s\n",
      "58:\tlearn: 1522.8436138\ttotal: 1.03s\tremaining: 16.5s\n",
      "59:\tlearn: 1520.2836453\ttotal: 1.05s\tremaining: 16.5s\n",
      "60:\tlearn: 1518.0250911\ttotal: 1.07s\tremaining: 16.5s\n",
      "61:\tlearn: 1515.7591147\ttotal: 1.08s\tremaining: 16.4s\n",
      "62:\tlearn: 1513.0664211\ttotal: 1.1s\tremaining: 16.4s\n",
      "63:\tlearn: 1510.4917497\ttotal: 1.12s\tremaining: 16.3s\n",
      "64:\tlearn: 1508.4348111\ttotal: 1.13s\tremaining: 16.3s\n",
      "65:\tlearn: 1506.5577206\ttotal: 1.15s\tremaining: 16.3s\n",
      "66:\tlearn: 1504.6025238\ttotal: 1.17s\tremaining: 16.3s\n",
      "67:\tlearn: 1501.4925463\ttotal: 1.19s\tremaining: 16.3s\n",
      "68:\tlearn: 1500.0359908\ttotal: 1.2s\tremaining: 16.2s\n",
      "69:\tlearn: 1498.2157923\ttotal: 1.22s\tremaining: 16.2s\n",
      "70:\tlearn: 1496.0591448\ttotal: 1.24s\tremaining: 16.3s\n",
      "71:\tlearn: 1494.3041499\ttotal: 1.26s\tremaining: 16.2s\n",
      "72:\tlearn: 1492.3300690\ttotal: 1.28s\tremaining: 16.2s\n",
      "73:\tlearn: 1490.5241758\ttotal: 1.29s\tremaining: 16.2s\n",
      "74:\tlearn: 1488.9345365\ttotal: 1.31s\tremaining: 16.1s\n",
      "75:\tlearn: 1486.5071658\ttotal: 1.33s\tremaining: 16.1s\n",
      "76:\tlearn: 1484.6953773\ttotal: 1.35s\tremaining: 16.2s\n",
      "77:\tlearn: 1483.4883331\ttotal: 1.36s\tremaining: 16.1s\n",
      "78:\tlearn: 1481.9957422\ttotal: 1.38s\tremaining: 16.1s\n",
      "79:\tlearn: 1480.7932802\ttotal: 1.4s\tremaining: 16.1s\n",
      "80:\tlearn: 1478.9158683\ttotal: 1.42s\tremaining: 16.1s\n",
      "81:\tlearn: 1477.4172672\ttotal: 1.44s\tremaining: 16.2s\n",
      "82:\tlearn: 1475.1863327\ttotal: 1.46s\tremaining: 16.1s\n",
      "83:\tlearn: 1473.9834594\ttotal: 1.48s\tremaining: 16.1s\n",
      "84:\tlearn: 1472.7053128\ttotal: 1.5s\tremaining: 16.1s\n",
      "85:\tlearn: 1471.4923499\ttotal: 1.52s\tremaining: 16.1s\n",
      "86:\tlearn: 1470.0561244\ttotal: 1.54s\tremaining: 16.2s\n",
      "87:\tlearn: 1468.6714021\ttotal: 1.56s\tremaining: 16.2s\n",
      "88:\tlearn: 1467.7767477\ttotal: 1.57s\tremaining: 16.1s\n",
      "89:\tlearn: 1466.3275082\ttotal: 1.59s\tremaining: 16.1s\n",
      "90:\tlearn: 1465.2899141\ttotal: 1.6s\tremaining: 16s\n",
      "91:\tlearn: 1463.0464697\ttotal: 1.62s\tremaining: 16s\n",
      "92:\tlearn: 1462.0591603\ttotal: 1.64s\tremaining: 16s\n",
      "93:\tlearn: 1461.0019989\ttotal: 1.66s\tremaining: 16s\n",
      "94:\tlearn: 1459.7660831\ttotal: 1.67s\tremaining: 15.9s\n",
      "95:\tlearn: 1458.5032594\ttotal: 1.69s\tremaining: 15.9s\n",
      "96:\tlearn: 1457.4695219\ttotal: 1.7s\tremaining: 15.8s\n",
      "97:\tlearn: 1456.1474720\ttotal: 1.73s\tremaining: 15.9s\n",
      "98:\tlearn: 1454.9368969\ttotal: 1.75s\tremaining: 15.9s\n",
      "99:\tlearn: 1453.8232185\ttotal: 1.76s\tremaining: 15.9s\n",
      "100:\tlearn: 1453.0751738\ttotal: 1.77s\tremaining: 15.8s\n",
      "101:\tlearn: 1452.0746907\ttotal: 1.79s\tremaining: 15.8s\n",
      "102:\tlearn: 1451.2404098\ttotal: 1.8s\tremaining: 15.7s\n",
      "103:\tlearn: 1450.5173661\ttotal: 1.82s\tremaining: 15.7s\n",
      "104:\tlearn: 1448.9945899\ttotal: 1.84s\tremaining: 15.7s\n",
      "105:\tlearn: 1447.9129225\ttotal: 1.85s\tremaining: 15.6s\n",
      "106:\tlearn: 1446.8065114\ttotal: 1.87s\tremaining: 15.6s\n",
      "107:\tlearn: 1445.1726846\ttotal: 1.88s\tremaining: 15.6s\n",
      "108:\tlearn: 1444.2643730\ttotal: 1.9s\tremaining: 15.5s\n",
      "109:\tlearn: 1443.4806954\ttotal: 1.92s\tremaining: 15.5s\n",
      "110:\tlearn: 1442.0622052\ttotal: 1.94s\tremaining: 15.5s\n",
      "111:\tlearn: 1441.1944022\ttotal: 1.95s\tremaining: 15.5s\n",
      "112:\tlearn: 1440.5787691\ttotal: 1.97s\tremaining: 15.4s\n",
      "113:\tlearn: 1439.4377307\ttotal: 1.98s\tremaining: 15.4s\n",
      "114:\tlearn: 1438.4076376\ttotal: 2s\tremaining: 15.4s\n",
      "115:\tlearn: 1436.8560319\ttotal: 2.02s\tremaining: 15.4s\n",
      "116:\tlearn: 1435.8012254\ttotal: 2.04s\tremaining: 15.4s\n",
      "117:\tlearn: 1434.1752562\ttotal: 2.06s\tremaining: 15.4s\n",
      "118:\tlearn: 1433.0002015\ttotal: 2.08s\tremaining: 15.4s\n",
      "119:\tlearn: 1431.9820060\ttotal: 2.1s\tremaining: 15.4s\n",
      "120:\tlearn: 1430.9474089\ttotal: 2.12s\tremaining: 15.4s\n",
      "121:\tlearn: 1429.6593677\ttotal: 2.13s\tremaining: 15.3s\n",
      "122:\tlearn: 1428.7757766\ttotal: 2.15s\tremaining: 15.3s\n",
      "123:\tlearn: 1428.1959439\ttotal: 2.16s\tremaining: 15.3s\n",
      "124:\tlearn: 1426.9662074\ttotal: 2.18s\tremaining: 15.3s\n",
      "125:\tlearn: 1425.7609982\ttotal: 2.2s\tremaining: 15.3s\n",
      "126:\tlearn: 1424.8050474\ttotal: 2.22s\tremaining: 15.2s\n",
      "127:\tlearn: 1423.4056866\ttotal: 2.23s\tremaining: 15.2s\n",
      "128:\tlearn: 1422.6956221\ttotal: 2.25s\tremaining: 15.2s\n",
      "129:\tlearn: 1422.1743197\ttotal: 2.27s\tremaining: 15.2s\n",
      "130:\tlearn: 1421.5616765\ttotal: 2.28s\tremaining: 15.1s\n",
      "131:\tlearn: 1420.9843136\ttotal: 2.3s\tremaining: 15.1s\n",
      "132:\tlearn: 1420.4867945\ttotal: 2.31s\tremaining: 15.1s\n",
      "133:\tlearn: 1419.4660868\ttotal: 2.33s\tremaining: 15.1s\n",
      "134:\tlearn: 1418.2229997\ttotal: 2.35s\tremaining: 15s\n",
      "135:\tlearn: 1417.4248047\ttotal: 2.36s\tremaining: 15s\n",
      "136:\tlearn: 1416.7458496\ttotal: 2.38s\tremaining: 15s\n",
      "137:\tlearn: 1416.1704416\ttotal: 2.39s\tremaining: 14.9s\n",
      "138:\tlearn: 1415.6420740\ttotal: 2.41s\tremaining: 14.9s\n",
      "139:\tlearn: 1414.5456329\ttotal: 2.42s\tremaining: 14.9s\n",
      "140:\tlearn: 1413.7931797\ttotal: 2.44s\tremaining: 14.9s\n",
      "141:\tlearn: 1412.9831607\ttotal: 2.46s\tremaining: 14.8s\n",
      "142:\tlearn: 1411.9883045\ttotal: 2.47s\tremaining: 14.8s\n",
      "143:\tlearn: 1411.4447083\ttotal: 2.49s\tremaining: 14.8s\n",
      "144:\tlearn: 1410.6854646\ttotal: 2.51s\tremaining: 14.8s\n",
      "145:\tlearn: 1410.0851361\ttotal: 2.52s\tremaining: 14.7s\n",
      "146:\tlearn: 1409.5602616\ttotal: 2.54s\tremaining: 14.7s\n",
      "147:\tlearn: 1408.8058666\ttotal: 2.55s\tremaining: 14.7s\n",
      "148:\tlearn: 1407.9586651\ttotal: 2.57s\tremaining: 14.7s\n",
      "149:\tlearn: 1407.3944021\ttotal: 2.58s\tremaining: 14.6s\n",
      "150:\tlearn: 1406.4759250\ttotal: 2.6s\tremaining: 14.6s\n",
      "151:\tlearn: 1405.2667025\ttotal: 2.62s\tremaining: 14.6s\n",
      "152:\tlearn: 1404.7510613\ttotal: 2.63s\tremaining: 14.6s\n",
      "153:\tlearn: 1404.1854220\ttotal: 2.65s\tremaining: 14.6s\n",
      "154:\tlearn: 1403.6080877\ttotal: 2.67s\tremaining: 14.5s\n",
      "155:\tlearn: 1402.9848574\ttotal: 2.69s\tremaining: 14.6s\n",
      "156:\tlearn: 1402.5296318\ttotal: 2.71s\tremaining: 14.5s\n",
      "157:\tlearn: 1401.9210024\ttotal: 2.72s\tremaining: 14.5s\n",
      "158:\tlearn: 1401.0468665\ttotal: 2.74s\tremaining: 14.5s\n",
      "159:\tlearn: 1400.2933730\ttotal: 2.75s\tremaining: 14.5s\n",
      "160:\tlearn: 1399.1206391\ttotal: 2.77s\tremaining: 14.4s\n",
      "161:\tlearn: 1398.0145242\ttotal: 2.79s\tremaining: 14.4s\n",
      "162:\tlearn: 1397.5630348\ttotal: 2.81s\tremaining: 14.4s\n",
      "163:\tlearn: 1397.0616753\ttotal: 2.82s\tremaining: 14.4s\n",
      "164:\tlearn: 1396.1775731\ttotal: 2.84s\tremaining: 14.4s\n",
      "165:\tlearn: 1395.5481674\ttotal: 2.86s\tremaining: 14.4s\n",
      "166:\tlearn: 1394.5619478\ttotal: 2.88s\tremaining: 14.4s\n",
      "167:\tlearn: 1393.8700349\ttotal: 2.9s\tremaining: 14.4s\n",
      "168:\tlearn: 1393.5049256\ttotal: 2.91s\tremaining: 14.3s\n",
      "169:\tlearn: 1393.0869335\ttotal: 2.93s\tremaining: 14.3s\n",
      "170:\tlearn: 1392.6257569\ttotal: 2.94s\tremaining: 14.3s\n",
      "171:\tlearn: 1391.7877495\ttotal: 2.96s\tremaining: 14.2s\n",
      "172:\tlearn: 1391.0311122\ttotal: 2.98s\tremaining: 14.2s\n",
      "173:\tlearn: 1390.6601056\ttotal: 2.99s\tremaining: 14.2s\n",
      "174:\tlearn: 1390.2079652\ttotal: 3.01s\tremaining: 14.2s\n",
      "175:\tlearn: 1389.7598437\ttotal: 3.02s\tremaining: 14.2s\n",
      "176:\tlearn: 1389.4401772\ttotal: 3.04s\tremaining: 14.1s\n",
      "177:\tlearn: 1388.8566163\ttotal: 3.05s\tremaining: 14.1s\n",
      "178:\tlearn: 1388.3220498\ttotal: 3.07s\tremaining: 14.1s\n",
      "179:\tlearn: 1387.9330103\ttotal: 3.09s\tremaining: 14.1s\n",
      "180:\tlearn: 1387.1985293\ttotal: 3.1s\tremaining: 14s\n",
      "181:\tlearn: 1386.7106031\ttotal: 3.12s\tremaining: 14s\n",
      "182:\tlearn: 1386.0746555\ttotal: 3.14s\tremaining: 14s\n",
      "183:\tlearn: 1385.2575303\ttotal: 3.15s\tremaining: 14s\n",
      "184:\tlearn: 1384.8467625\ttotal: 3.18s\tremaining: 14s\n",
      "185:\tlearn: 1384.1974126\ttotal: 3.19s\tremaining: 14s\n",
      "186:\tlearn: 1383.7540898\ttotal: 3.21s\tremaining: 13.9s\n",
      "187:\tlearn: 1383.3423747\ttotal: 3.22s\tremaining: 13.9s\n",
      "188:\tlearn: 1382.9472957\ttotal: 3.24s\tremaining: 13.9s\n",
      "189:\tlearn: 1382.5564610\ttotal: 3.25s\tremaining: 13.9s\n",
      "190:\tlearn: 1382.0670133\ttotal: 3.27s\tremaining: 13.9s\n",
      "191:\tlearn: 1381.6925477\ttotal: 3.29s\tremaining: 13.8s\n",
      "192:\tlearn: 1381.0531321\ttotal: 3.31s\tremaining: 13.8s\n",
      "193:\tlearn: 1380.5041005\ttotal: 3.32s\tremaining: 13.8s\n",
      "194:\tlearn: 1380.1427275\ttotal: 3.34s\tremaining: 13.8s\n",
      "195:\tlearn: 1379.7477673\ttotal: 3.35s\tremaining: 13.7s\n",
      "196:\tlearn: 1378.9019127\ttotal: 3.37s\tremaining: 13.7s\n",
      "197:\tlearn: 1378.4959750\ttotal: 3.39s\tremaining: 13.7s\n",
      "198:\tlearn: 1377.9555203\ttotal: 3.4s\tremaining: 13.7s\n",
      "199:\tlearn: 1377.5535465\ttotal: 3.42s\tremaining: 13.7s\n",
      "200:\tlearn: 1377.0289128\ttotal: 3.43s\tremaining: 13.6s\n",
      "201:\tlearn: 1376.6944989\ttotal: 3.45s\tremaining: 13.6s\n",
      "202:\tlearn: 1376.3043478\ttotal: 3.47s\tremaining: 13.6s\n",
      "203:\tlearn: 1375.6400130\ttotal: 3.48s\tremaining: 13.6s\n",
      "204:\tlearn: 1375.3026304\ttotal: 3.5s\tremaining: 13.6s\n",
      "205:\tlearn: 1374.7729924\ttotal: 3.51s\tremaining: 13.5s\n",
      "206:\tlearn: 1374.1782825\ttotal: 3.53s\tremaining: 13.5s\n",
      "207:\tlearn: 1373.5363237\ttotal: 3.55s\tremaining: 13.5s\n",
      "208:\tlearn: 1372.9664576\ttotal: 3.56s\tremaining: 13.5s\n",
      "209:\tlearn: 1372.6615976\ttotal: 3.58s\tremaining: 13.5s\n",
      "210:\tlearn: 1372.3496454\ttotal: 3.59s\tremaining: 13.4s\n",
      "211:\tlearn: 1371.9196610\ttotal: 3.61s\tremaining: 13.4s\n",
      "212:\tlearn: 1371.1524235\ttotal: 3.62s\tremaining: 13.4s\n",
      "213:\tlearn: 1370.8728099\ttotal: 3.64s\tremaining: 13.4s\n",
      "214:\tlearn: 1370.5248257\ttotal: 3.66s\tremaining: 13.4s\n",
      "215:\tlearn: 1370.0044763\ttotal: 3.67s\tremaining: 13.3s\n",
      "216:\tlearn: 1369.4226940\ttotal: 3.69s\tremaining: 13.3s\n",
      "217:\tlearn: 1368.9963245\ttotal: 3.71s\tremaining: 13.3s\n",
      "218:\tlearn: 1368.3320990\ttotal: 3.72s\tremaining: 13.3s\n",
      "219:\tlearn: 1367.7323831\ttotal: 3.74s\tremaining: 13.3s\n",
      "220:\tlearn: 1367.0395720\ttotal: 3.76s\tremaining: 13.3s\n",
      "221:\tlearn: 1366.6111264\ttotal: 3.77s\tremaining: 13.2s\n",
      "222:\tlearn: 1366.1376468\ttotal: 3.79s\tremaining: 13.2s\n",
      "223:\tlearn: 1365.8953749\ttotal: 3.8s\tremaining: 13.2s\n",
      "224:\tlearn: 1365.4949663\ttotal: 3.82s\tremaining: 13.2s\n",
      "225:\tlearn: 1364.7569439\ttotal: 3.84s\tremaining: 13.1s\n",
      "226:\tlearn: 1364.3352095\ttotal: 3.85s\tremaining: 13.1s\n",
      "227:\tlearn: 1364.0886346\ttotal: 3.87s\tremaining: 13.1s\n",
      "228:\tlearn: 1363.5611984\ttotal: 3.89s\tremaining: 13.1s\n",
      "229:\tlearn: 1362.8920590\ttotal: 3.9s\tremaining: 13.1s\n",
      "230:\tlearn: 1362.2376658\ttotal: 3.92s\tremaining: 13s\n",
      "231:\tlearn: 1361.5941954\ttotal: 3.93s\tremaining: 13s\n",
      "232:\tlearn: 1361.2713882\ttotal: 3.95s\tremaining: 13s\n",
      "233:\tlearn: 1360.8907028\ttotal: 3.97s\tremaining: 13s\n",
      "234:\tlearn: 1360.4653400\ttotal: 3.98s\tremaining: 13s\n",
      "235:\tlearn: 1359.7167021\ttotal: 4s\tremaining: 12.9s\n",
      "236:\tlearn: 1358.9281701\ttotal: 4.02s\tremaining: 12.9s\n",
      "237:\tlearn: 1358.4642551\ttotal: 4.04s\tremaining: 12.9s\n",
      "238:\tlearn: 1358.1497031\ttotal: 4.05s\tremaining: 12.9s\n",
      "239:\tlearn: 1357.8562814\ttotal: 4.07s\tremaining: 12.9s\n",
      "240:\tlearn: 1357.2572732\ttotal: 4.09s\tremaining: 12.9s\n",
      "241:\tlearn: 1356.8919150\ttotal: 4.1s\tremaining: 12.8s\n",
      "242:\tlearn: 1356.4319857\ttotal: 4.12s\tremaining: 12.8s\n",
      "243:\tlearn: 1356.1880375\ttotal: 4.14s\tremaining: 12.8s\n",
      "244:\tlearn: 1355.8093910\ttotal: 4.15s\tremaining: 12.8s\n",
      "245:\tlearn: 1355.5075968\ttotal: 4.17s\tremaining: 12.8s\n",
      "246:\tlearn: 1355.1526505\ttotal: 4.19s\tremaining: 12.8s\n",
      "247:\tlearn: 1354.7452115\ttotal: 4.2s\tremaining: 12.7s\n",
      "248:\tlearn: 1354.4040491\ttotal: 4.22s\tremaining: 12.7s\n",
      "249:\tlearn: 1354.1184464\ttotal: 4.24s\tremaining: 12.7s\n",
      "250:\tlearn: 1353.6502431\ttotal: 4.25s\tremaining: 12.7s\n",
      "251:\tlearn: 1353.1594470\ttotal: 4.27s\tremaining: 12.7s\n",
      "252:\tlearn: 1352.8629471\ttotal: 4.28s\tremaining: 12.7s\n",
      "253:\tlearn: 1352.5354137\ttotal: 4.3s\tremaining: 12.6s\n",
      "254:\tlearn: 1352.2987218\ttotal: 4.32s\tremaining: 12.6s\n",
      "255:\tlearn: 1351.8139045\ttotal: 4.34s\tremaining: 12.6s\n",
      "256:\tlearn: 1351.4254266\ttotal: 4.35s\tremaining: 12.6s\n",
      "257:\tlearn: 1351.0977726\ttotal: 4.37s\tremaining: 12.6s\n",
      "258:\tlearn: 1350.4568557\ttotal: 4.38s\tremaining: 12.5s\n",
      "259:\tlearn: 1350.1283174\ttotal: 4.4s\tremaining: 12.5s\n",
      "260:\tlearn: 1349.6794780\ttotal: 4.42s\tremaining: 12.5s\n",
      "261:\tlearn: 1349.3481369\ttotal: 4.44s\tremaining: 12.5s\n",
      "262:\tlearn: 1348.9190878\ttotal: 4.46s\tremaining: 12.5s\n",
      "263:\tlearn: 1348.4884930\ttotal: 4.48s\tremaining: 12.5s\n",
      "264:\tlearn: 1348.2775066\ttotal: 4.5s\tremaining: 12.5s\n",
      "265:\tlearn: 1347.8748223\ttotal: 4.52s\tremaining: 12.5s\n",
      "266:\tlearn: 1347.4399524\ttotal: 4.54s\tremaining: 12.5s\n",
      "267:\tlearn: 1347.1678346\ttotal: 4.55s\tremaining: 12.4s\n",
      "268:\tlearn: 1346.7970995\ttotal: 4.57s\tremaining: 12.4s\n",
      "269:\tlearn: 1346.3936729\ttotal: 4.59s\tremaining: 12.4s\n",
      "270:\tlearn: 1346.0003723\ttotal: 4.61s\tremaining: 12.4s\n",
      "271:\tlearn: 1345.2384417\ttotal: 4.63s\tremaining: 12.4s\n",
      "272:\tlearn: 1345.0072255\ttotal: 4.65s\tremaining: 12.4s\n",
      "273:\tlearn: 1344.6904749\ttotal: 4.66s\tremaining: 12.4s\n",
      "274:\tlearn: 1344.3341427\ttotal: 4.68s\tremaining: 12.3s\n",
      "275:\tlearn: 1344.0011962\ttotal: 4.7s\tremaining: 12.3s\n",
      "276:\tlearn: 1343.4885545\ttotal: 4.72s\tremaining: 12.3s\n",
      "277:\tlearn: 1343.3025390\ttotal: 4.73s\tremaining: 12.3s\n",
      "278:\tlearn: 1342.7576269\ttotal: 4.75s\tremaining: 12.3s\n",
      "279:\tlearn: 1342.5395317\ttotal: 4.76s\tremaining: 12.2s\n",
      "280:\tlearn: 1342.0141104\ttotal: 4.78s\tremaining: 12.2s\n",
      "281:\tlearn: 1341.7451117\ttotal: 4.79s\tremaining: 12.2s\n",
      "282:\tlearn: 1341.3176808\ttotal: 4.81s\tremaining: 12.2s\n",
      "283:\tlearn: 1341.0335034\ttotal: 4.83s\tremaining: 12.2s\n",
      "284:\tlearn: 1340.8362748\ttotal: 4.84s\tremaining: 12.1s\n",
      "285:\tlearn: 1340.5650754\ttotal: 4.86s\tremaining: 12.1s\n",
      "286:\tlearn: 1340.1490019\ttotal: 4.87s\tremaining: 12.1s\n",
      "287:\tlearn: 1339.9500042\ttotal: 4.88s\tremaining: 12.1s\n",
      "288:\tlearn: 1339.6514096\ttotal: 4.91s\tremaining: 12.1s\n",
      "289:\tlearn: 1338.9944614\ttotal: 4.92s\tremaining: 12s\n",
      "290:\tlearn: 1338.7553786\ttotal: 4.94s\tremaining: 12s\n",
      "291:\tlearn: 1338.3694051\ttotal: 4.95s\tremaining: 12s\n",
      "292:\tlearn: 1337.9340424\ttotal: 4.97s\tremaining: 12s\n",
      "293:\tlearn: 1337.5598600\ttotal: 4.99s\tremaining: 12s\n",
      "294:\tlearn: 1337.2990459\ttotal: 5s\tremaining: 12s\n",
      "295:\tlearn: 1337.0235891\ttotal: 5.02s\tremaining: 11.9s\n",
      "296:\tlearn: 1336.7255717\ttotal: 5.04s\tremaining: 11.9s\n",
      "297:\tlearn: 1336.4534880\ttotal: 5.05s\tremaining: 11.9s\n",
      "298:\tlearn: 1335.8058195\ttotal: 5.07s\tremaining: 11.9s\n",
      "299:\tlearn: 1335.2821139\ttotal: 5.09s\tremaining: 11.9s\n",
      "300:\tlearn: 1335.0550075\ttotal: 5.11s\tremaining: 11.9s\n",
      "301:\tlearn: 1334.6582574\ttotal: 5.12s\tremaining: 11.8s\n",
      "302:\tlearn: 1334.3207481\ttotal: 5.13s\tremaining: 11.8s\n",
      "303:\tlearn: 1334.1039189\ttotal: 5.15s\tremaining: 11.8s\n",
      "304:\tlearn: 1333.7419186\ttotal: 5.17s\tremaining: 11.8s\n",
      "305:\tlearn: 1333.4874022\ttotal: 5.19s\tremaining: 11.8s\n",
      "306:\tlearn: 1333.1106363\ttotal: 5.21s\tremaining: 11.8s\n",
      "307:\tlearn: 1332.8755080\ttotal: 5.22s\tremaining: 11.7s\n",
      "308:\tlearn: 1332.6671596\ttotal: 5.23s\tremaining: 11.7s\n",
      "309:\tlearn: 1332.4379341\ttotal: 5.25s\tremaining: 11.7s\n",
      "310:\tlearn: 1332.2261434\ttotal: 5.26s\tremaining: 11.7s\n",
      "311:\tlearn: 1332.0146907\ttotal: 5.28s\tremaining: 11.7s\n",
      "312:\tlearn: 1331.6370237\ttotal: 5.3s\tremaining: 11.6s\n",
      "313:\tlearn: 1331.3447174\ttotal: 5.31s\tremaining: 11.6s\n",
      "314:\tlearn: 1331.0549609\ttotal: 5.33s\tremaining: 11.6s\n",
      "315:\tlearn: 1330.7692633\ttotal: 5.34s\tremaining: 11.6s\n",
      "316:\tlearn: 1330.5613596\ttotal: 5.36s\tremaining: 11.5s\n",
      "317:\tlearn: 1330.3202141\ttotal: 5.38s\tremaining: 11.5s\n",
      "318:\tlearn: 1329.9685465\ttotal: 5.4s\tremaining: 11.5s\n",
      "319:\tlearn: 1329.6612125\ttotal: 5.41s\tremaining: 11.5s\n",
      "320:\tlearn: 1329.2979518\ttotal: 5.43s\tremaining: 11.5s\n",
      "321:\tlearn: 1328.8718995\ttotal: 5.44s\tremaining: 11.5s\n",
      "322:\tlearn: 1328.6137875\ttotal: 5.46s\tremaining: 11.4s\n",
      "323:\tlearn: 1328.2742716\ttotal: 5.48s\tremaining: 11.4s\n",
      "324:\tlearn: 1327.7871522\ttotal: 5.5s\tremaining: 11.4s\n",
      "325:\tlearn: 1327.3824628\ttotal: 5.51s\tremaining: 11.4s\n",
      "326:\tlearn: 1327.2085620\ttotal: 5.53s\tremaining: 11.4s\n",
      "327:\tlearn: 1326.9890889\ttotal: 5.54s\tremaining: 11.4s\n",
      "328:\tlearn: 1326.7666788\ttotal: 5.56s\tremaining: 11.3s\n",
      "329:\tlearn: 1326.5685566\ttotal: 5.58s\tremaining: 11.3s\n",
      "330:\tlearn: 1326.3154556\ttotal: 5.59s\tremaining: 11.3s\n",
      "331:\tlearn: 1326.0695785\ttotal: 5.61s\tremaining: 11.3s\n",
      "332:\tlearn: 1325.8415819\ttotal: 5.63s\tremaining: 11.3s\n",
      "333:\tlearn: 1325.6064808\ttotal: 5.64s\tremaining: 11.2s\n",
      "334:\tlearn: 1325.3352641\ttotal: 5.66s\tremaining: 11.2s\n",
      "335:\tlearn: 1325.0076699\ttotal: 5.68s\tremaining: 11.2s\n",
      "336:\tlearn: 1324.6980009\ttotal: 5.69s\tremaining: 11.2s\n",
      "337:\tlearn: 1324.3708504\ttotal: 5.71s\tremaining: 11.2s\n",
      "338:\tlearn: 1323.9620849\ttotal: 5.73s\tremaining: 11.2s\n",
      "339:\tlearn: 1323.7615056\ttotal: 5.74s\tremaining: 11.1s\n",
      "340:\tlearn: 1323.6098969\ttotal: 5.76s\tremaining: 11.1s\n",
      "341:\tlearn: 1323.3800121\ttotal: 5.78s\tremaining: 11.1s\n",
      "342:\tlearn: 1323.1405602\ttotal: 5.79s\tremaining: 11.1s\n",
      "343:\tlearn: 1322.9169822\ttotal: 5.81s\tremaining: 11.1s\n",
      "344:\tlearn: 1322.7126504\ttotal: 5.82s\tremaining: 11.1s\n",
      "345:\tlearn: 1322.5359987\ttotal: 5.84s\tremaining: 11s\n",
      "346:\tlearn: 1322.3233180\ttotal: 5.86s\tremaining: 11s\n",
      "347:\tlearn: 1321.9820002\ttotal: 5.87s\tremaining: 11s\n",
      "348:\tlearn: 1321.5815058\ttotal: 5.89s\tremaining: 11s\n",
      "349:\tlearn: 1321.2084373\ttotal: 5.9s\tremaining: 11s\n",
      "350:\tlearn: 1320.9532385\ttotal: 5.92s\tremaining: 10.9s\n",
      "351:\tlearn: 1320.8243134\ttotal: 5.93s\tremaining: 10.9s\n",
      "352:\tlearn: 1320.6510449\ttotal: 5.96s\tremaining: 10.9s\n",
      "353:\tlearn: 1320.4877469\ttotal: 5.97s\tremaining: 10.9s\n",
      "354:\tlearn: 1320.1096695\ttotal: 5.99s\tremaining: 10.9s\n",
      "355:\tlearn: 1319.8600926\ttotal: 6s\tremaining: 10.9s\n",
      "356:\tlearn: 1319.5628951\ttotal: 6.02s\tremaining: 10.8s\n",
      "357:\tlearn: 1319.3328823\ttotal: 6.04s\tremaining: 10.8s\n",
      "358:\tlearn: 1319.0335582\ttotal: 6.07s\tremaining: 10.8s\n",
      "359:\tlearn: 1318.7774521\ttotal: 6.09s\tremaining: 10.8s\n",
      "360:\tlearn: 1318.3888085\ttotal: 6.11s\tremaining: 10.8s\n",
      "361:\tlearn: 1318.2082866\ttotal: 6.12s\tremaining: 10.8s\n",
      "362:\tlearn: 1318.0122829\ttotal: 6.14s\tremaining: 10.8s\n",
      "363:\tlearn: 1317.8162124\ttotal: 6.16s\tremaining: 10.8s\n",
      "364:\tlearn: 1317.5765421\ttotal: 6.17s\tremaining: 10.7s\n",
      "365:\tlearn: 1317.3838158\ttotal: 6.19s\tremaining: 10.7s\n",
      "366:\tlearn: 1317.1777095\ttotal: 6.21s\tremaining: 10.7s\n",
      "367:\tlearn: 1316.8615742\ttotal: 6.22s\tremaining: 10.7s\n",
      "368:\tlearn: 1316.4513405\ttotal: 6.24s\tremaining: 10.7s\n",
      "369:\tlearn: 1316.3054703\ttotal: 6.26s\tremaining: 10.7s\n",
      "370:\tlearn: 1316.1522017\ttotal: 6.27s\tremaining: 10.6s\n",
      "371:\tlearn: 1316.0078904\ttotal: 6.29s\tremaining: 10.6s\n",
      "372:\tlearn: 1315.7960242\ttotal: 6.3s\tremaining: 10.6s\n",
      "373:\tlearn: 1315.6296345\ttotal: 6.32s\tremaining: 10.6s\n",
      "374:\tlearn: 1315.4939749\ttotal: 6.33s\tremaining: 10.6s\n",
      "375:\tlearn: 1315.3468265\ttotal: 6.35s\tremaining: 10.5s\n",
      "376:\tlearn: 1315.0145000\ttotal: 6.36s\tremaining: 10.5s\n",
      "377:\tlearn: 1314.7746686\ttotal: 6.38s\tremaining: 10.5s\n",
      "378:\tlearn: 1314.5463151\ttotal: 6.39s\tremaining: 10.5s\n",
      "379:\tlearn: 1314.2052336\ttotal: 6.41s\tremaining: 10.5s\n",
      "380:\tlearn: 1314.0014823\ttotal: 6.42s\tremaining: 10.4s\n",
      "381:\tlearn: 1313.8039638\ttotal: 6.44s\tremaining: 10.4s\n",
      "382:\tlearn: 1313.5796130\ttotal: 6.46s\tremaining: 10.4s\n",
      "383:\tlearn: 1313.4137563\ttotal: 6.47s\tremaining: 10.4s\n",
      "384:\tlearn: 1313.1866081\ttotal: 6.49s\tremaining: 10.4s\n",
      "385:\tlearn: 1312.9647200\ttotal: 6.5s\tremaining: 10.3s\n",
      "386:\tlearn: 1312.8258526\ttotal: 6.51s\tremaining: 10.3s\n",
      "387:\tlearn: 1312.6188984\ttotal: 6.54s\tremaining: 10.3s\n",
      "388:\tlearn: 1312.4872195\ttotal: 6.55s\tremaining: 10.3s\n",
      "389:\tlearn: 1312.3030671\ttotal: 6.57s\tremaining: 10.3s\n",
      "390:\tlearn: 1312.0070160\ttotal: 6.58s\tremaining: 10.3s\n",
      "391:\tlearn: 1311.7200007\ttotal: 6.6s\tremaining: 10.2s\n",
      "392:\tlearn: 1311.5724998\ttotal: 6.61s\tremaining: 10.2s\n",
      "393:\tlearn: 1311.3029199\ttotal: 6.63s\tremaining: 10.2s\n",
      "394:\tlearn: 1311.0660131\ttotal: 6.65s\tremaining: 10.2s\n",
      "395:\tlearn: 1310.9194210\ttotal: 6.66s\tremaining: 10.2s\n",
      "396:\tlearn: 1310.6442547\ttotal: 6.68s\tremaining: 10.1s\n",
      "397:\tlearn: 1310.4470363\ttotal: 6.69s\tremaining: 10.1s\n",
      "398:\tlearn: 1310.2577453\ttotal: 6.71s\tremaining: 10.1s\n",
      "399:\tlearn: 1309.9096537\ttotal: 6.73s\tremaining: 10.1s\n",
      "400:\tlearn: 1309.7414413\ttotal: 6.74s\tremaining: 10.1s\n",
      "401:\tlearn: 1309.6082108\ttotal: 6.76s\tremaining: 10.1s\n",
      "402:\tlearn: 1309.4763444\ttotal: 6.77s\tremaining: 10s\n",
      "403:\tlearn: 1309.2581600\ttotal: 6.78s\tremaining: 10s\n",
      "404:\tlearn: 1308.9526572\ttotal: 6.8s\tremaining: 9.99s\n",
      "405:\tlearn: 1308.7530163\ttotal: 6.82s\tremaining: 9.98s\n",
      "406:\tlearn: 1308.5601853\ttotal: 6.83s\tremaining: 9.96s\n",
      "407:\tlearn: 1308.3342706\ttotal: 6.85s\tremaining: 9.94s\n",
      "408:\tlearn: 1308.1605793\ttotal: 6.87s\tremaining: 9.92s\n",
      "409:\tlearn: 1308.0471385\ttotal: 6.88s\tremaining: 9.9s\n",
      "410:\tlearn: 1307.8816569\ttotal: 6.9s\tremaining: 9.88s\n",
      "411:\tlearn: 1307.7007465\ttotal: 6.92s\tremaining: 9.87s\n",
      "412:\tlearn: 1307.4110509\ttotal: 6.94s\tremaining: 9.86s\n",
      "413:\tlearn: 1307.1940553\ttotal: 6.96s\tremaining: 9.85s\n",
      "414:\tlearn: 1307.0127718\ttotal: 6.97s\tremaining: 9.83s\n",
      "415:\tlearn: 1306.7435246\ttotal: 6.99s\tremaining: 9.81s\n",
      "416:\tlearn: 1306.5295650\ttotal: 7.01s\tremaining: 9.8s\n",
      "417:\tlearn: 1306.3202850\ttotal: 7.03s\tremaining: 9.79s\n",
      "418:\tlearn: 1305.9559224\ttotal: 7.04s\tremaining: 9.77s\n",
      "419:\tlearn: 1305.6708440\ttotal: 7.06s\tremaining: 9.75s\n",
      "420:\tlearn: 1305.3462421\ttotal: 7.08s\tremaining: 9.73s\n",
      "421:\tlearn: 1305.0963312\ttotal: 7.09s\tremaining: 9.71s\n",
      "422:\tlearn: 1304.9404173\ttotal: 7.11s\tremaining: 9.7s\n",
      "423:\tlearn: 1304.7529256\ttotal: 7.13s\tremaining: 9.68s\n",
      "424:\tlearn: 1304.5921051\ttotal: 7.14s\tremaining: 9.66s\n",
      "425:\tlearn: 1304.2991329\ttotal: 7.16s\tremaining: 9.65s\n",
      "426:\tlearn: 1304.0913217\ttotal: 7.17s\tremaining: 9.63s\n",
      "427:\tlearn: 1303.9073831\ttotal: 7.19s\tremaining: 9.61s\n",
      "428:\tlearn: 1303.7179612\ttotal: 7.21s\tremaining: 9.6s\n",
      "429:\tlearn: 1303.5053891\ttotal: 7.23s\tremaining: 9.58s\n",
      "430:\tlearn: 1303.3261043\ttotal: 7.24s\tremaining: 9.56s\n",
      "431:\tlearn: 1303.1799216\ttotal: 7.26s\tremaining: 9.54s\n",
      "432:\tlearn: 1303.0292769\ttotal: 7.27s\tremaining: 9.52s\n",
      "433:\tlearn: 1302.8183599\ttotal: 7.29s\tremaining: 9.51s\n",
      "434:\tlearn: 1302.4940011\ttotal: 7.31s\tremaining: 9.5s\n",
      "435:\tlearn: 1302.4064112\ttotal: 7.33s\tremaining: 9.47s\n",
      "436:\tlearn: 1302.2188265\ttotal: 7.34s\tremaining: 9.46s\n",
      "437:\tlearn: 1302.0943324\ttotal: 7.35s\tremaining: 9.44s\n",
      "438:\tlearn: 1301.9512302\ttotal: 7.37s\tremaining: 9.42s\n",
      "439:\tlearn: 1301.7570345\ttotal: 7.38s\tremaining: 9.4s\n",
      "440:\tlearn: 1301.5102103\ttotal: 7.41s\tremaining: 9.39s\n",
      "441:\tlearn: 1301.3943834\ttotal: 7.42s\tremaining: 9.37s\n",
      "442:\tlearn: 1301.1218470\ttotal: 7.44s\tremaining: 9.35s\n",
      "443:\tlearn: 1300.9198711\ttotal: 7.45s\tremaining: 9.33s\n",
      "444:\tlearn: 1300.6700053\ttotal: 7.47s\tremaining: 9.31s\n",
      "445:\tlearn: 1300.3708332\ttotal: 7.5s\tremaining: 9.31s\n",
      "446:\tlearn: 1300.2307516\ttotal: 7.51s\tremaining: 9.29s\n",
      "447:\tlearn: 1300.0760572\ttotal: 7.53s\tremaining: 9.27s\n",
      "448:\tlearn: 1299.9337091\ttotal: 7.54s\tremaining: 9.26s\n",
      "449:\tlearn: 1299.7805905\ttotal: 7.56s\tremaining: 9.24s\n",
      "450:\tlearn: 1299.5688208\ttotal: 7.58s\tremaining: 9.22s\n",
      "451:\tlearn: 1299.3066440\ttotal: 7.6s\tremaining: 9.21s\n",
      "452:\tlearn: 1299.0372480\ttotal: 7.61s\tremaining: 9.19s\n",
      "453:\tlearn: 1298.8056312\ttotal: 7.63s\tremaining: 9.17s\n",
      "454:\tlearn: 1298.6108482\ttotal: 7.64s\tremaining: 9.15s\n",
      "455:\tlearn: 1298.4786990\ttotal: 7.66s\tremaining: 9.13s\n",
      "456:\tlearn: 1298.2680009\ttotal: 7.68s\tremaining: 9.12s\n",
      "457:\tlearn: 1298.0195730\ttotal: 7.7s\tremaining: 9.11s\n",
      "458:\tlearn: 1297.8342167\ttotal: 7.71s\tremaining: 9.09s\n",
      "459:\tlearn: 1297.6436458\ttotal: 7.72s\tremaining: 9.07s\n",
      "460:\tlearn: 1297.5376111\ttotal: 7.74s\tremaining: 9.05s\n",
      "461:\tlearn: 1297.3715677\ttotal: 7.75s\tremaining: 9.03s\n",
      "462:\tlearn: 1297.1962435\ttotal: 7.77s\tremaining: 9.01s\n",
      "463:\tlearn: 1297.0744801\ttotal: 7.79s\tremaining: 9s\n",
      "464:\tlearn: 1296.9269209\ttotal: 7.8s\tremaining: 8.98s\n",
      "465:\tlearn: 1296.8111013\ttotal: 7.82s\tremaining: 8.96s\n",
      "466:\tlearn: 1296.6588298\ttotal: 7.83s\tremaining: 8.94s\n",
      "467:\tlearn: 1296.5228535\ttotal: 7.85s\tremaining: 8.92s\n",
      "468:\tlearn: 1296.1708061\ttotal: 7.86s\tremaining: 8.9s\n",
      "469:\tlearn: 1296.0457783\ttotal: 7.88s\tremaining: 8.89s\n",
      "470:\tlearn: 1295.8286088\ttotal: 7.9s\tremaining: 8.87s\n",
      "471:\tlearn: 1295.6175890\ttotal: 7.91s\tremaining: 8.85s\n",
      "472:\tlearn: 1295.4017557\ttotal: 7.92s\tremaining: 8.83s\n",
      "473:\tlearn: 1295.2081824\ttotal: 7.94s\tremaining: 8.81s\n",
      "474:\tlearn: 1295.0842643\ttotal: 7.96s\tremaining: 8.79s\n",
      "475:\tlearn: 1294.8516832\ttotal: 7.98s\tremaining: 8.78s\n",
      "476:\tlearn: 1294.6016682\ttotal: 7.99s\tremaining: 8.76s\n",
      "477:\tlearn: 1294.4033953\ttotal: 8.01s\tremaining: 8.74s\n",
      "478:\tlearn: 1294.2146937\ttotal: 8.02s\tremaining: 8.72s\n",
      "479:\tlearn: 1293.9746434\ttotal: 8.04s\tremaining: 8.71s\n",
      "480:\tlearn: 1293.8706288\ttotal: 8.05s\tremaining: 8.69s\n",
      "481:\tlearn: 1293.7894421\ttotal: 8.07s\tremaining: 8.67s\n",
      "482:\tlearn: 1293.6225215\ttotal: 8.09s\tremaining: 8.65s\n",
      "483:\tlearn: 1293.4437643\ttotal: 8.1s\tremaining: 8.64s\n",
      "484:\tlearn: 1293.2919415\ttotal: 8.12s\tremaining: 8.62s\n",
      "485:\tlearn: 1293.1448220\ttotal: 8.13s\tremaining: 8.6s\n",
      "486:\tlearn: 1293.0410830\ttotal: 8.14s\tremaining: 8.58s\n",
      "487:\tlearn: 1292.8496382\ttotal: 8.17s\tremaining: 8.57s\n",
      "488:\tlearn: 1292.7064564\ttotal: 8.18s\tremaining: 8.55s\n",
      "489:\tlearn: 1292.6023920\ttotal: 8.2s\tremaining: 8.53s\n",
      "490:\tlearn: 1292.3607522\ttotal: 8.21s\tremaining: 8.51s\n",
      "491:\tlearn: 1292.2464121\ttotal: 8.22s\tremaining: 8.49s\n",
      "492:\tlearn: 1292.0883694\ttotal: 8.24s\tremaining: 8.47s\n",
      "493:\tlearn: 1291.8736635\ttotal: 8.26s\tremaining: 8.46s\n",
      "494:\tlearn: 1291.6806761\ttotal: 8.28s\tremaining: 8.44s\n",
      "495:\tlearn: 1291.5191223\ttotal: 8.29s\tremaining: 8.43s\n",
      "496:\tlearn: 1291.3191741\ttotal: 8.31s\tremaining: 8.41s\n",
      "497:\tlearn: 1291.1114664\ttotal: 8.32s\tremaining: 8.39s\n",
      "498:\tlearn: 1290.9119601\ttotal: 8.34s\tremaining: 8.37s\n",
      "499:\tlearn: 1290.7536436\ttotal: 8.36s\tremaining: 8.36s\n",
      "500:\tlearn: 1290.6226477\ttotal: 8.37s\tremaining: 8.34s\n",
      "501:\tlearn: 1290.4614945\ttotal: 8.38s\tremaining: 8.32s\n",
      "502:\tlearn: 1290.2961827\ttotal: 8.41s\tremaining: 8.31s\n",
      "503:\tlearn: 1290.1571605\ttotal: 8.43s\tremaining: 8.3s\n",
      "504:\tlearn: 1290.0612246\ttotal: 8.45s\tremaining: 8.29s\n",
      "505:\tlearn: 1289.8642501\ttotal: 8.48s\tremaining: 8.28s\n",
      "506:\tlearn: 1289.7186949\ttotal: 8.49s\tremaining: 8.26s\n",
      "507:\tlearn: 1289.5861673\ttotal: 8.51s\tremaining: 8.24s\n",
      "508:\tlearn: 1289.4533607\ttotal: 8.53s\tremaining: 8.23s\n",
      "509:\tlearn: 1289.3384584\ttotal: 8.55s\tremaining: 8.22s\n",
      "510:\tlearn: 1289.2308176\ttotal: 8.57s\tremaining: 8.2s\n",
      "511:\tlearn: 1289.0475932\ttotal: 8.58s\tremaining: 8.18s\n",
      "512:\tlearn: 1288.9227749\ttotal: 8.6s\tremaining: 8.16s\n",
      "513:\tlearn: 1288.8053758\ttotal: 8.61s\tremaining: 8.14s\n",
      "514:\tlearn: 1288.6545281\ttotal: 8.64s\tremaining: 8.13s\n",
      "515:\tlearn: 1288.5608701\ttotal: 8.65s\tremaining: 8.12s\n",
      "516:\tlearn: 1288.4059527\ttotal: 8.67s\tremaining: 8.1s\n",
      "517:\tlearn: 1288.2066798\ttotal: 8.68s\tremaining: 8.08s\n",
      "518:\tlearn: 1288.1178255\ttotal: 8.7s\tremaining: 8.06s\n",
      "519:\tlearn: 1287.9994246\ttotal: 8.72s\tremaining: 8.05s\n",
      "520:\tlearn: 1287.8320396\ttotal: 8.74s\tremaining: 8.04s\n",
      "521:\tlearn: 1287.6545754\ttotal: 8.76s\tremaining: 8.02s\n",
      "522:\tlearn: 1287.4835507\ttotal: 8.78s\tremaining: 8.01s\n",
      "523:\tlearn: 1287.3922565\ttotal: 8.79s\tremaining: 7.99s\n",
      "524:\tlearn: 1287.1309816\ttotal: 8.81s\tremaining: 7.97s\n",
      "525:\tlearn: 1287.0059762\ttotal: 8.83s\tremaining: 7.96s\n",
      "526:\tlearn: 1286.7875077\ttotal: 8.85s\tremaining: 7.94s\n",
      "527:\tlearn: 1286.6120246\ttotal: 8.86s\tremaining: 7.92s\n",
      "528:\tlearn: 1286.4102707\ttotal: 8.88s\tremaining: 7.91s\n",
      "529:\tlearn: 1286.2352464\ttotal: 8.89s\tremaining: 7.89s\n",
      "530:\tlearn: 1286.0957352\ttotal: 8.91s\tremaining: 7.87s\n",
      "531:\tlearn: 1285.9669338\ttotal: 8.93s\tremaining: 7.86s\n",
      "532:\tlearn: 1285.7900980\ttotal: 8.95s\tremaining: 7.84s\n",
      "533:\tlearn: 1285.6234107\ttotal: 8.96s\tremaining: 7.82s\n",
      "534:\tlearn: 1285.4380419\ttotal: 8.97s\tremaining: 7.8s\n",
      "535:\tlearn: 1285.2659478\ttotal: 8.99s\tremaining: 7.78s\n",
      "536:\tlearn: 1285.0123762\ttotal: 9.02s\tremaining: 7.77s\n",
      "537:\tlearn: 1284.8875527\ttotal: 9.03s\tremaining: 7.76s\n",
      "538:\tlearn: 1284.6706495\ttotal: 9.05s\tremaining: 7.74s\n",
      "539:\tlearn: 1284.5164335\ttotal: 9.06s\tremaining: 7.72s\n",
      "540:\tlearn: 1284.3420297\ttotal: 9.08s\tremaining: 7.7s\n",
      "541:\tlearn: 1284.0928270\ttotal: 9.09s\tremaining: 7.68s\n",
      "542:\tlearn: 1283.8922892\ttotal: 9.11s\tremaining: 7.67s\n",
      "543:\tlearn: 1283.7349111\ttotal: 9.13s\tremaining: 7.65s\n",
      "544:\tlearn: 1283.5519642\ttotal: 9.14s\tremaining: 7.63s\n",
      "545:\tlearn: 1283.4650794\ttotal: 9.15s\tremaining: 7.61s\n",
      "546:\tlearn: 1283.3273220\ttotal: 9.17s\tremaining: 7.59s\n",
      "547:\tlearn: 1283.2187906\ttotal: 9.19s\tremaining: 7.58s\n",
      "548:\tlearn: 1283.0938087\ttotal: 9.21s\tremaining: 7.56s\n",
      "549:\tlearn: 1283.0161060\ttotal: 9.22s\tremaining: 7.54s\n",
      "550:\tlearn: 1282.8849069\ttotal: 9.23s\tremaining: 7.53s\n",
      "551:\tlearn: 1282.7503506\ttotal: 9.25s\tremaining: 7.51s\n",
      "552:\tlearn: 1282.6160311\ttotal: 9.26s\tremaining: 7.49s\n",
      "553:\tlearn: 1282.4121847\ttotal: 9.28s\tremaining: 7.47s\n",
      "554:\tlearn: 1282.3158447\ttotal: 9.3s\tremaining: 7.46s\n",
      "555:\tlearn: 1282.2361847\ttotal: 9.31s\tremaining: 7.44s\n",
      "556:\tlearn: 1281.9911824\ttotal: 9.33s\tremaining: 7.42s\n",
      "557:\tlearn: 1281.8836392\ttotal: 9.34s\tremaining: 7.4s\n",
      "558:\tlearn: 1281.6847518\ttotal: 9.36s\tremaining: 7.38s\n",
      "559:\tlearn: 1281.5733868\ttotal: 9.37s\tremaining: 7.36s\n",
      "560:\tlearn: 1281.3928356\ttotal: 9.39s\tremaining: 7.35s\n",
      "561:\tlearn: 1281.2072055\ttotal: 9.41s\tremaining: 7.33s\n",
      "562:\tlearn: 1281.0783581\ttotal: 9.43s\tremaining: 7.32s\n",
      "563:\tlearn: 1280.9000567\ttotal: 9.44s\tremaining: 7.3s\n",
      "564:\tlearn: 1280.6611702\ttotal: 9.46s\tremaining: 7.28s\n",
      "565:\tlearn: 1280.5130702\ttotal: 9.47s\tremaining: 7.26s\n",
      "566:\tlearn: 1280.2816091\ttotal: 9.5s\tremaining: 7.25s\n",
      "567:\tlearn: 1280.1905739\ttotal: 9.51s\tremaining: 7.23s\n",
      "568:\tlearn: 1280.1069877\ttotal: 9.53s\tremaining: 7.21s\n",
      "569:\tlearn: 1279.9523348\ttotal: 9.54s\tremaining: 7.2s\n",
      "570:\tlearn: 1279.8050641\ttotal: 9.55s\tremaining: 7.18s\n",
      "571:\tlearn: 1279.6367348\ttotal: 9.57s\tremaining: 7.16s\n",
      "572:\tlearn: 1279.4205460\ttotal: 9.59s\tremaining: 7.15s\n",
      "573:\tlearn: 1279.2434497\ttotal: 9.61s\tremaining: 7.13s\n",
      "574:\tlearn: 1279.1031875\ttotal: 9.62s\tremaining: 7.11s\n",
      "575:\tlearn: 1278.8931412\ttotal: 9.64s\tremaining: 7.09s\n",
      "576:\tlearn: 1278.6588009\ttotal: 9.65s\tremaining: 7.08s\n",
      "577:\tlearn: 1278.4601295\ttotal: 9.67s\tremaining: 7.06s\n",
      "578:\tlearn: 1278.2840277\ttotal: 9.69s\tremaining: 7.05s\n",
      "579:\tlearn: 1278.1765257\ttotal: 9.71s\tremaining: 7.03s\n",
      "580:\tlearn: 1278.0402513\ttotal: 9.72s\tremaining: 7.01s\n",
      "581:\tlearn: 1277.9136522\ttotal: 9.73s\tremaining: 6.99s\n",
      "582:\tlearn: 1277.7839218\ttotal: 9.75s\tremaining: 6.97s\n",
      "583:\tlearn: 1277.6112727\ttotal: 9.77s\tremaining: 6.96s\n",
      "584:\tlearn: 1277.4358429\ttotal: 9.79s\tremaining: 6.94s\n",
      "585:\tlearn: 1277.3237855\ttotal: 9.8s\tremaining: 6.92s\n",
      "586:\tlearn: 1277.2546853\ttotal: 9.81s\tremaining: 6.91s\n",
      "587:\tlearn: 1277.1146959\ttotal: 9.83s\tremaining: 6.89s\n",
      "588:\tlearn: 1277.0123661\ttotal: 9.84s\tremaining: 6.87s\n",
      "589:\tlearn: 1276.8711307\ttotal: 9.86s\tremaining: 6.85s\n",
      "590:\tlearn: 1276.7714447\ttotal: 9.88s\tremaining: 6.84s\n",
      "591:\tlearn: 1276.5226095\ttotal: 9.9s\tremaining: 6.82s\n",
      "592:\tlearn: 1276.4043454\ttotal: 9.91s\tremaining: 6.8s\n",
      "593:\tlearn: 1276.2373929\ttotal: 9.93s\tremaining: 6.78s\n",
      "594:\tlearn: 1276.0545709\ttotal: 9.94s\tremaining: 6.77s\n",
      "595:\tlearn: 1275.9578529\ttotal: 9.96s\tremaining: 6.75s\n",
      "596:\tlearn: 1275.8428822\ttotal: 9.98s\tremaining: 6.74s\n",
      "597:\tlearn: 1275.7708786\ttotal: 9.99s\tremaining: 6.72s\n",
      "598:\tlearn: 1275.6364054\ttotal: 10s\tremaining: 6.7s\n",
      "599:\tlearn: 1275.4756561\ttotal: 10s\tremaining: 6.68s\n",
      "600:\tlearn: 1275.3752160\ttotal: 10s\tremaining: 6.67s\n",
      "601:\tlearn: 1275.2730450\ttotal: 10.1s\tremaining: 6.65s\n",
      "602:\tlearn: 1275.1914949\ttotal: 10.1s\tremaining: 6.63s\n",
      "603:\tlearn: 1275.0997798\ttotal: 10.1s\tremaining: 6.62s\n",
      "604:\tlearn: 1274.9601523\ttotal: 10.1s\tremaining: 6.6s\n",
      "605:\tlearn: 1274.8928300\ttotal: 10.1s\tremaining: 6.58s\n",
      "606:\tlearn: 1274.7663431\ttotal: 10.1s\tremaining: 6.56s\n",
      "607:\tlearn: 1274.6287507\ttotal: 10.2s\tremaining: 6.55s\n",
      "608:\tlearn: 1274.4551039\ttotal: 10.2s\tremaining: 6.53s\n",
      "609:\tlearn: 1274.3575494\ttotal: 10.2s\tremaining: 6.51s\n",
      "610:\tlearn: 1274.2758572\ttotal: 10.2s\tremaining: 6.5s\n",
      "611:\tlearn: 1274.1199548\ttotal: 10.2s\tremaining: 6.48s\n",
      "612:\tlearn: 1274.0172929\ttotal: 10.2s\tremaining: 6.46s\n",
      "613:\tlearn: 1273.8819547\ttotal: 10.3s\tremaining: 6.45s\n",
      "614:\tlearn: 1273.7251241\ttotal: 10.3s\tremaining: 6.43s\n",
      "615:\tlearn: 1273.6368209\ttotal: 10.3s\tremaining: 6.41s\n",
      "616:\tlearn: 1273.4934559\ttotal: 10.3s\tremaining: 6.39s\n",
      "617:\tlearn: 1273.3736486\ttotal: 10.3s\tremaining: 6.38s\n",
      "618:\tlearn: 1273.2437680\ttotal: 10.3s\tremaining: 6.36s\n",
      "619:\tlearn: 1273.0991241\ttotal: 10.4s\tremaining: 6.34s\n",
      "620:\tlearn: 1272.9627263\ttotal: 10.4s\tremaining: 6.33s\n",
      "621:\tlearn: 1272.8059884\ttotal: 10.4s\tremaining: 6.31s\n",
      "622:\tlearn: 1272.7258928\ttotal: 10.4s\tremaining: 6.29s\n",
      "623:\tlearn: 1272.5970180\ttotal: 10.4s\tremaining: 6.27s\n",
      "624:\tlearn: 1272.4515326\ttotal: 10.4s\tremaining: 6.25s\n",
      "625:\tlearn: 1272.2640017\ttotal: 10.4s\tremaining: 6.24s\n",
      "626:\tlearn: 1272.1090915\ttotal: 10.5s\tremaining: 6.22s\n",
      "627:\tlearn: 1272.0180655\ttotal: 10.5s\tremaining: 6.2s\n",
      "628:\tlearn: 1271.9054076\ttotal: 10.5s\tremaining: 6.18s\n",
      "629:\tlearn: 1271.7942187\ttotal: 10.5s\tremaining: 6.17s\n",
      "630:\tlearn: 1271.6460150\ttotal: 10.5s\tremaining: 6.15s\n",
      "631:\tlearn: 1271.5304843\ttotal: 10.5s\tremaining: 6.13s\n",
      "632:\tlearn: 1271.4657496\ttotal: 10.6s\tremaining: 6.12s\n",
      "633:\tlearn: 1271.3824722\ttotal: 10.6s\tremaining: 6.1s\n",
      "634:\tlearn: 1271.2701183\ttotal: 10.6s\tremaining: 6.08s\n",
      "635:\tlearn: 1271.1332696\ttotal: 10.6s\tremaining: 6.06s\n",
      "636:\tlearn: 1270.9844326\ttotal: 10.6s\tremaining: 6.04s\n",
      "637:\tlearn: 1270.8980760\ttotal: 10.6s\tremaining: 6.03s\n",
      "638:\tlearn: 1270.7523859\ttotal: 10.6s\tremaining: 6.01s\n",
      "639:\tlearn: 1270.6646070\ttotal: 10.7s\tremaining: 6s\n",
      "640:\tlearn: 1270.5487569\ttotal: 10.7s\tremaining: 5.98s\n",
      "641:\tlearn: 1270.4685209\ttotal: 10.7s\tremaining: 5.96s\n",
      "642:\tlearn: 1270.4015067\ttotal: 10.7s\tremaining: 5.94s\n",
      "643:\tlearn: 1270.2620495\ttotal: 10.7s\tremaining: 5.92s\n",
      "644:\tlearn: 1270.1722951\ttotal: 10.7s\tremaining: 5.91s\n",
      "645:\tlearn: 1270.0642156\ttotal: 10.8s\tremaining: 5.89s\n",
      "646:\tlearn: 1269.9049906\ttotal: 10.8s\tremaining: 5.87s\n",
      "647:\tlearn: 1269.7833750\ttotal: 10.8s\tremaining: 5.86s\n",
      "648:\tlearn: 1269.6936581\ttotal: 10.8s\tremaining: 5.84s\n",
      "649:\tlearn: 1269.5143088\ttotal: 10.8s\tremaining: 5.82s\n",
      "650:\tlearn: 1269.4340805\ttotal: 10.8s\tremaining: 5.81s\n",
      "651:\tlearn: 1269.3170827\ttotal: 10.9s\tremaining: 5.79s\n",
      "652:\tlearn: 1269.2078107\ttotal: 10.9s\tremaining: 5.78s\n",
      "653:\tlearn: 1269.0940122\ttotal: 10.9s\tremaining: 5.76s\n",
      "654:\tlearn: 1269.0425516\ttotal: 10.9s\tremaining: 5.74s\n",
      "655:\tlearn: 1268.9349696\ttotal: 10.9s\tremaining: 5.72s\n",
      "656:\tlearn: 1268.7860776\ttotal: 10.9s\tremaining: 5.71s\n",
      "657:\tlearn: 1268.6766089\ttotal: 10.9s\tremaining: 5.69s\n",
      "658:\tlearn: 1268.5346746\ttotal: 11s\tremaining: 5.67s\n",
      "659:\tlearn: 1268.3673399\ttotal: 11s\tremaining: 5.66s\n",
      "660:\tlearn: 1268.2469379\ttotal: 11s\tremaining: 5.64s\n",
      "661:\tlearn: 1268.1019063\ttotal: 11s\tremaining: 5.62s\n",
      "662:\tlearn: 1268.0172622\ttotal: 11s\tremaining: 5.61s\n",
      "663:\tlearn: 1267.9266905\ttotal: 11s\tremaining: 5.59s\n",
      "664:\tlearn: 1267.8572137\ttotal: 11.1s\tremaining: 5.57s\n",
      "665:\tlearn: 1267.7044496\ttotal: 11.1s\tremaining: 5.55s\n",
      "666:\tlearn: 1267.5719250\ttotal: 11.1s\tremaining: 5.54s\n",
      "667:\tlearn: 1267.4537035\ttotal: 11.1s\tremaining: 5.52s\n",
      "668:\tlearn: 1267.3579841\ttotal: 11.1s\tremaining: 5.51s\n",
      "669:\tlearn: 1267.2544106\ttotal: 11.1s\tremaining: 5.49s\n",
      "670:\tlearn: 1267.1599035\ttotal: 11.2s\tremaining: 5.47s\n",
      "671:\tlearn: 1267.0432943\ttotal: 11.2s\tremaining: 5.45s\n",
      "672:\tlearn: 1266.8892914\ttotal: 11.2s\tremaining: 5.44s\n",
      "673:\tlearn: 1266.8070103\ttotal: 11.2s\tremaining: 5.42s\n",
      "674:\tlearn: 1266.7506501\ttotal: 11.2s\tremaining: 5.4s\n",
      "675:\tlearn: 1266.6365838\ttotal: 11.2s\tremaining: 5.39s\n",
      "676:\tlearn: 1266.5275013\ttotal: 11.3s\tremaining: 5.37s\n",
      "677:\tlearn: 1266.3804542\ttotal: 11.3s\tremaining: 5.35s\n",
      "678:\tlearn: 1266.2667202\ttotal: 11.3s\tremaining: 5.33s\n",
      "679:\tlearn: 1266.1426240\ttotal: 11.3s\tremaining: 5.32s\n",
      "680:\tlearn: 1266.0245239\ttotal: 11.3s\tremaining: 5.3s\n",
      "681:\tlearn: 1265.8688181\ttotal: 11.3s\tremaining: 5.29s\n",
      "682:\tlearn: 1265.7738949\ttotal: 11.3s\tremaining: 5.27s\n",
      "683:\tlearn: 1265.6682800\ttotal: 11.4s\tremaining: 5.25s\n",
      "684:\tlearn: 1265.5471497\ttotal: 11.4s\tremaining: 5.23s\n",
      "685:\tlearn: 1265.3854102\ttotal: 11.4s\tremaining: 5.22s\n",
      "686:\tlearn: 1265.3101041\ttotal: 11.4s\tremaining: 5.2s\n",
      "687:\tlearn: 1265.2093985\ttotal: 11.4s\tremaining: 5.18s\n",
      "688:\tlearn: 1265.1013636\ttotal: 11.4s\tremaining: 5.17s\n",
      "689:\tlearn: 1265.0042145\ttotal: 11.5s\tremaining: 5.15s\n",
      "690:\tlearn: 1264.8161435\ttotal: 11.5s\tremaining: 5.13s\n",
      "691:\tlearn: 1264.7283771\ttotal: 11.5s\tremaining: 5.11s\n",
      "692:\tlearn: 1264.6395794\ttotal: 11.5s\tremaining: 5.1s\n",
      "693:\tlearn: 1264.5117341\ttotal: 11.5s\tremaining: 5.08s\n",
      "694:\tlearn: 1264.4125076\ttotal: 11.5s\tremaining: 5.06s\n",
      "695:\tlearn: 1264.2731484\ttotal: 11.6s\tremaining: 5.05s\n",
      "696:\tlearn: 1264.1629815\ttotal: 11.6s\tremaining: 5.03s\n",
      "697:\tlearn: 1264.0292657\ttotal: 11.6s\tremaining: 5.01s\n",
      "698:\tlearn: 1263.9261724\ttotal: 11.6s\tremaining: 5s\n",
      "699:\tlearn: 1263.7958191\ttotal: 11.6s\tremaining: 4.98s\n",
      "700:\tlearn: 1263.6706830\ttotal: 11.6s\tremaining: 4.96s\n",
      "701:\tlearn: 1263.5493953\ttotal: 11.7s\tremaining: 4.95s\n",
      "702:\tlearn: 1263.4351921\ttotal: 11.7s\tremaining: 4.93s\n",
      "703:\tlearn: 1263.3033050\ttotal: 11.7s\tremaining: 4.91s\n",
      "704:\tlearn: 1263.2273822\ttotal: 11.7s\tremaining: 4.89s\n",
      "705:\tlearn: 1263.1295784\ttotal: 11.7s\tremaining: 4.88s\n",
      "706:\tlearn: 1263.0584945\ttotal: 11.7s\tremaining: 4.86s\n",
      "707:\tlearn: 1262.8920987\ttotal: 11.7s\tremaining: 4.84s\n",
      "708:\tlearn: 1262.7712061\ttotal: 11.8s\tremaining: 4.83s\n",
      "709:\tlearn: 1262.6282379\ttotal: 11.8s\tremaining: 4.81s\n",
      "710:\tlearn: 1262.5411108\ttotal: 11.8s\tremaining: 4.79s\n",
      "711:\tlearn: 1262.4063884\ttotal: 11.8s\tremaining: 4.78s\n",
      "712:\tlearn: 1262.3610809\ttotal: 11.8s\tremaining: 4.76s\n",
      "713:\tlearn: 1262.2702061\ttotal: 11.8s\tremaining: 4.74s\n",
      "714:\tlearn: 1262.1677081\ttotal: 11.9s\tremaining: 4.72s\n",
      "715:\tlearn: 1262.0482027\ttotal: 11.9s\tremaining: 4.71s\n",
      "716:\tlearn: 1261.8914792\ttotal: 11.9s\tremaining: 4.7s\n",
      "717:\tlearn: 1261.8343499\ttotal: 11.9s\tremaining: 4.68s\n",
      "718:\tlearn: 1261.7264390\ttotal: 11.9s\tremaining: 4.66s\n",
      "719:\tlearn: 1261.5889305\ttotal: 11.9s\tremaining: 4.64s\n",
      "720:\tlearn: 1261.4898464\ttotal: 12s\tremaining: 4.63s\n",
      "721:\tlearn: 1261.3530897\ttotal: 12s\tremaining: 4.61s\n",
      "722:\tlearn: 1261.2452718\ttotal: 12s\tremaining: 4.59s\n",
      "723:\tlearn: 1261.0855096\ttotal: 12s\tremaining: 4.58s\n",
      "724:\tlearn: 1261.0026536\ttotal: 12s\tremaining: 4.56s\n",
      "725:\tlearn: 1260.9291825\ttotal: 12s\tremaining: 4.54s\n",
      "726:\tlearn: 1260.8013397\ttotal: 12.1s\tremaining: 4.53s\n",
      "727:\tlearn: 1260.6785525\ttotal: 12.1s\tremaining: 4.51s\n",
      "728:\tlearn: 1260.6153056\ttotal: 12.1s\tremaining: 4.49s\n",
      "729:\tlearn: 1260.5543169\ttotal: 12.1s\tremaining: 4.48s\n",
      "730:\tlearn: 1260.4873448\ttotal: 12.1s\tremaining: 4.46s\n",
      "731:\tlearn: 1260.3907120\ttotal: 12.1s\tremaining: 4.44s\n",
      "732:\tlearn: 1260.2621184\ttotal: 12.2s\tremaining: 4.42s\n",
      "733:\tlearn: 1260.1785973\ttotal: 12.2s\tremaining: 4.41s\n",
      "734:\tlearn: 1260.0887259\ttotal: 12.2s\tremaining: 4.39s\n",
      "735:\tlearn: 1259.9982866\ttotal: 12.2s\tremaining: 4.38s\n",
      "736:\tlearn: 1259.9289460\ttotal: 12.2s\tremaining: 4.36s\n",
      "737:\tlearn: 1259.8665016\ttotal: 12.2s\tremaining: 4.34s\n",
      "738:\tlearn: 1259.7428266\ttotal: 12.2s\tremaining: 4.32s\n",
      "739:\tlearn: 1259.7049246\ttotal: 12.3s\tremaining: 4.31s\n",
      "740:\tlearn: 1259.5691568\ttotal: 12.3s\tremaining: 4.29s\n",
      "741:\tlearn: 1259.4436924\ttotal: 12.3s\tremaining: 4.27s\n",
      "742:\tlearn: 1259.3164756\ttotal: 12.3s\tremaining: 4.26s\n",
      "743:\tlearn: 1259.1950894\ttotal: 12.3s\tremaining: 4.24s\n",
      "744:\tlearn: 1259.0485588\ttotal: 12.3s\tremaining: 4.22s\n",
      "745:\tlearn: 1258.9760866\ttotal: 12.4s\tremaining: 4.21s\n",
      "746:\tlearn: 1258.7581221\ttotal: 12.4s\tremaining: 4.19s\n",
      "747:\tlearn: 1258.6563699\ttotal: 12.4s\tremaining: 4.17s\n",
      "748:\tlearn: 1258.5174187\ttotal: 12.4s\tremaining: 4.16s\n",
      "749:\tlearn: 1258.3729441\ttotal: 12.4s\tremaining: 4.14s\n",
      "750:\tlearn: 1258.2850917\ttotal: 12.4s\tremaining: 4.12s\n",
      "751:\tlearn: 1258.1888565\ttotal: 12.5s\tremaining: 4.11s\n",
      "752:\tlearn: 1258.0753333\ttotal: 12.5s\tremaining: 4.09s\n",
      "753:\tlearn: 1258.0067763\ttotal: 12.5s\tremaining: 4.07s\n",
      "754:\tlearn: 1257.8814651\ttotal: 12.5s\tremaining: 4.05s\n",
      "755:\tlearn: 1257.7664639\ttotal: 12.5s\tremaining: 4.04s\n",
      "756:\tlearn: 1257.6711121\ttotal: 12.5s\tremaining: 4.02s\n",
      "757:\tlearn: 1257.5501723\ttotal: 12.5s\tremaining: 4s\n",
      "758:\tlearn: 1257.4557877\ttotal: 12.6s\tremaining: 3.99s\n",
      "759:\tlearn: 1257.3470055\ttotal: 12.6s\tremaining: 3.97s\n",
      "760:\tlearn: 1257.2768511\ttotal: 12.6s\tremaining: 3.95s\n",
      "761:\tlearn: 1257.1579022\ttotal: 12.6s\tremaining: 3.94s\n",
      "762:\tlearn: 1257.0618362\ttotal: 12.6s\tremaining: 3.92s\n",
      "763:\tlearn: 1256.9414624\ttotal: 12.6s\tremaining: 3.9s\n",
      "764:\tlearn: 1256.8515938\ttotal: 12.7s\tremaining: 3.89s\n",
      "765:\tlearn: 1256.7807075\ttotal: 12.7s\tremaining: 3.87s\n",
      "766:\tlearn: 1256.7264976\ttotal: 12.7s\tremaining: 3.85s\n",
      "767:\tlearn: 1256.6430571\ttotal: 12.7s\tremaining: 3.84s\n",
      "768:\tlearn: 1256.5714599\ttotal: 12.7s\tremaining: 3.82s\n",
      "769:\tlearn: 1256.5062912\ttotal: 12.7s\tremaining: 3.81s\n",
      "770:\tlearn: 1256.4622659\ttotal: 12.8s\tremaining: 3.79s\n",
      "771:\tlearn: 1256.4119498\ttotal: 12.8s\tremaining: 3.77s\n",
      "772:\tlearn: 1256.3535521\ttotal: 12.8s\tremaining: 3.75s\n",
      "773:\tlearn: 1256.2525736\ttotal: 12.8s\tremaining: 3.73s\n",
      "774:\tlearn: 1256.1464931\ttotal: 12.8s\tremaining: 3.72s\n",
      "775:\tlearn: 1256.0425400\ttotal: 12.8s\tremaining: 3.7s\n",
      "776:\tlearn: 1255.9658233\ttotal: 12.8s\tremaining: 3.69s\n",
      "777:\tlearn: 1255.8629471\ttotal: 12.9s\tremaining: 3.67s\n",
      "778:\tlearn: 1255.7953655\ttotal: 12.9s\tremaining: 3.65s\n",
      "779:\tlearn: 1255.7062914\ttotal: 12.9s\tremaining: 3.63s\n",
      "780:\tlearn: 1255.6301127\ttotal: 12.9s\tremaining: 3.62s\n",
      "781:\tlearn: 1255.5092101\ttotal: 12.9s\tremaining: 3.6s\n",
      "782:\tlearn: 1255.3627038\ttotal: 12.9s\tremaining: 3.58s\n",
      "783:\tlearn: 1255.2912268\ttotal: 13s\tremaining: 3.57s\n",
      "784:\tlearn: 1255.2242729\ttotal: 13s\tremaining: 3.55s\n",
      "785:\tlearn: 1255.1349299\ttotal: 13s\tremaining: 3.53s\n",
      "786:\tlearn: 1255.0274587\ttotal: 13s\tremaining: 3.52s\n",
      "787:\tlearn: 1254.9414618\ttotal: 13s\tremaining: 3.5s\n",
      "788:\tlearn: 1254.8430854\ttotal: 13s\tremaining: 3.48s\n",
      "789:\tlearn: 1254.7249979\ttotal: 13s\tremaining: 3.47s\n",
      "790:\tlearn: 1254.6226775\ttotal: 13.1s\tremaining: 3.45s\n",
      "791:\tlearn: 1254.5294859\ttotal: 13.1s\tremaining: 3.43s\n",
      "792:\tlearn: 1254.4508309\ttotal: 13.1s\tremaining: 3.42s\n",
      "793:\tlearn: 1254.3606075\ttotal: 13.1s\tremaining: 3.4s\n",
      "794:\tlearn: 1254.2611082\ttotal: 13.1s\tremaining: 3.38s\n",
      "795:\tlearn: 1254.0821393\ttotal: 13.1s\tremaining: 3.37s\n",
      "796:\tlearn: 1254.0250065\ttotal: 13.2s\tremaining: 3.35s\n",
      "797:\tlearn: 1253.8877695\ttotal: 13.2s\tremaining: 3.33s\n",
      "798:\tlearn: 1253.8160226\ttotal: 13.2s\tremaining: 3.32s\n",
      "799:\tlearn: 1253.7484070\ttotal: 13.2s\tremaining: 3.3s\n",
      "800:\tlearn: 1253.6945623\ttotal: 13.2s\tremaining: 3.28s\n",
      "801:\tlearn: 1253.5916178\ttotal: 13.2s\tremaining: 3.27s\n",
      "802:\tlearn: 1253.4746984\ttotal: 13.2s\tremaining: 3.25s\n",
      "803:\tlearn: 1253.3700797\ttotal: 13.3s\tremaining: 3.23s\n",
      "804:\tlearn: 1253.2858678\ttotal: 13.3s\tremaining: 3.21s\n",
      "805:\tlearn: 1253.2443434\ttotal: 13.3s\tremaining: 3.2s\n",
      "806:\tlearn: 1253.1462325\ttotal: 13.3s\tremaining: 3.18s\n",
      "807:\tlearn: 1253.0395804\ttotal: 13.3s\tremaining: 3.17s\n",
      "808:\tlearn: 1252.9363529\ttotal: 13.3s\tremaining: 3.15s\n",
      "809:\tlearn: 1252.8768595\ttotal: 13.4s\tremaining: 3.13s\n",
      "810:\tlearn: 1252.7932491\ttotal: 13.4s\tremaining: 3.11s\n",
      "811:\tlearn: 1252.7456390\ttotal: 13.4s\tremaining: 3.1s\n",
      "812:\tlearn: 1252.6578034\ttotal: 13.4s\tremaining: 3.08s\n",
      "813:\tlearn: 1252.6113262\ttotal: 13.4s\tremaining: 3.06s\n",
      "814:\tlearn: 1252.4810225\ttotal: 13.4s\tremaining: 3.05s\n",
      "815:\tlearn: 1252.2976275\ttotal: 13.4s\tremaining: 3.03s\n",
      "816:\tlearn: 1252.1979523\ttotal: 13.5s\tremaining: 3.01s\n",
      "817:\tlearn: 1252.1017511\ttotal: 13.5s\tremaining: 3s\n",
      "818:\tlearn: 1252.0408467\ttotal: 13.5s\tremaining: 2.98s\n",
      "819:\tlearn: 1251.9894044\ttotal: 13.5s\tremaining: 2.96s\n",
      "820:\tlearn: 1251.8894049\ttotal: 13.5s\tremaining: 2.95s\n",
      "821:\tlearn: 1251.7918470\ttotal: 13.5s\tremaining: 2.93s\n",
      "822:\tlearn: 1251.7258544\ttotal: 13.5s\tremaining: 2.91s\n",
      "823:\tlearn: 1251.5851040\ttotal: 13.6s\tremaining: 2.9s\n",
      "824:\tlearn: 1251.4799367\ttotal: 13.6s\tremaining: 2.88s\n",
      "825:\tlearn: 1251.3798482\ttotal: 13.6s\tremaining: 2.86s\n",
      "826:\tlearn: 1251.2593089\ttotal: 13.6s\tremaining: 2.85s\n",
      "827:\tlearn: 1251.0979221\ttotal: 13.6s\tremaining: 2.83s\n",
      "828:\tlearn: 1250.9981704\ttotal: 13.6s\tremaining: 2.81s\n",
      "829:\tlearn: 1250.8913022\ttotal: 13.7s\tremaining: 2.8s\n",
      "830:\tlearn: 1250.7546556\ttotal: 13.7s\tremaining: 2.78s\n",
      "831:\tlearn: 1250.6701134\ttotal: 13.7s\tremaining: 2.77s\n",
      "832:\tlearn: 1250.5903844\ttotal: 13.7s\tremaining: 2.75s\n",
      "833:\tlearn: 1250.5408710\ttotal: 13.7s\tremaining: 2.73s\n",
      "834:\tlearn: 1250.4324517\ttotal: 13.7s\tremaining: 2.71s\n",
      "835:\tlearn: 1250.3500469\ttotal: 13.8s\tremaining: 2.7s\n",
      "836:\tlearn: 1250.2564313\ttotal: 13.8s\tremaining: 2.68s\n",
      "837:\tlearn: 1250.1730867\ttotal: 13.8s\tremaining: 2.67s\n",
      "838:\tlearn: 1250.0855292\ttotal: 13.8s\tremaining: 2.65s\n",
      "839:\tlearn: 1250.0207373\ttotal: 13.8s\tremaining: 2.63s\n",
      "840:\tlearn: 1249.9574806\ttotal: 13.8s\tremaining: 2.62s\n",
      "841:\tlearn: 1249.9228043\ttotal: 13.8s\tremaining: 2.6s\n",
      "842:\tlearn: 1249.7544328\ttotal: 13.9s\tremaining: 2.58s\n",
      "843:\tlearn: 1249.7132737\ttotal: 13.9s\tremaining: 2.57s\n",
      "844:\tlearn: 1249.6428924\ttotal: 13.9s\tremaining: 2.55s\n",
      "845:\tlearn: 1249.5270566\ttotal: 13.9s\tremaining: 2.53s\n",
      "846:\tlearn: 1249.4445680\ttotal: 13.9s\tremaining: 2.52s\n",
      "847:\tlearn: 1249.3362779\ttotal: 13.9s\tremaining: 2.5s\n",
      "848:\tlearn: 1249.2071084\ttotal: 14s\tremaining: 2.48s\n",
      "849:\tlearn: 1249.1483432\ttotal: 14s\tremaining: 2.47s\n",
      "850:\tlearn: 1249.0465376\ttotal: 14s\tremaining: 2.45s\n",
      "851:\tlearn: 1248.9499485\ttotal: 14s\tremaining: 2.43s\n",
      "852:\tlearn: 1248.8543609\ttotal: 14s\tremaining: 2.42s\n",
      "853:\tlearn: 1248.7001929\ttotal: 14s\tremaining: 2.4s\n",
      "854:\tlearn: 1248.5697903\ttotal: 14.1s\tremaining: 2.38s\n",
      "855:\tlearn: 1248.5198692\ttotal: 14.1s\tremaining: 2.37s\n",
      "856:\tlearn: 1248.4118184\ttotal: 14.1s\tremaining: 2.35s\n",
      "857:\tlearn: 1248.3176918\ttotal: 14.1s\tremaining: 2.33s\n",
      "858:\tlearn: 1248.2517228\ttotal: 14.1s\tremaining: 2.32s\n",
      "859:\tlearn: 1248.1559578\ttotal: 14.1s\tremaining: 2.3s\n",
      "860:\tlearn: 1248.0684269\ttotal: 14.2s\tremaining: 2.29s\n",
      "861:\tlearn: 1247.9519140\ttotal: 14.2s\tremaining: 2.27s\n",
      "862:\tlearn: 1247.8529939\ttotal: 14.2s\tremaining: 2.25s\n",
      "863:\tlearn: 1247.7435864\ttotal: 14.2s\tremaining: 2.24s\n",
      "864:\tlearn: 1247.6090023\ttotal: 14.2s\tremaining: 2.22s\n",
      "865:\tlearn: 1247.5531165\ttotal: 14.2s\tremaining: 2.2s\n",
      "866:\tlearn: 1247.4739256\ttotal: 14.2s\tremaining: 2.19s\n",
      "867:\tlearn: 1247.3783783\ttotal: 14.3s\tremaining: 2.17s\n",
      "868:\tlearn: 1247.2925219\ttotal: 14.3s\tremaining: 2.15s\n",
      "869:\tlearn: 1247.2034984\ttotal: 14.3s\tremaining: 2.14s\n",
      "870:\tlearn: 1247.1548933\ttotal: 14.3s\tremaining: 2.12s\n",
      "871:\tlearn: 1247.0263314\ttotal: 14.3s\tremaining: 2.1s\n",
      "872:\tlearn: 1246.9868222\ttotal: 14.3s\tremaining: 2.09s\n",
      "873:\tlearn: 1246.9224252\ttotal: 14.4s\tremaining: 2.07s\n",
      "874:\tlearn: 1246.8578519\ttotal: 14.4s\tremaining: 2.06s\n",
      "875:\tlearn: 1246.8247244\ttotal: 14.4s\tremaining: 2.04s\n",
      "876:\tlearn: 1246.7278621\ttotal: 14.4s\tremaining: 2.02s\n",
      "877:\tlearn: 1246.6712282\ttotal: 14.4s\tremaining: 2.01s\n",
      "878:\tlearn: 1246.6331875\ttotal: 14.5s\tremaining: 1.99s\n",
      "879:\tlearn: 1246.5573027\ttotal: 14.5s\tremaining: 1.97s\n",
      "880:\tlearn: 1246.4708012\ttotal: 14.5s\tremaining: 1.96s\n",
      "881:\tlearn: 1246.3822681\ttotal: 14.5s\tremaining: 1.94s\n",
      "882:\tlearn: 1246.2862009\ttotal: 14.5s\tremaining: 1.92s\n",
      "883:\tlearn: 1246.2392933\ttotal: 14.5s\tremaining: 1.91s\n",
      "884:\tlearn: 1246.1019975\ttotal: 14.6s\tremaining: 1.89s\n",
      "885:\tlearn: 1246.0506571\ttotal: 14.6s\tremaining: 1.88s\n",
      "886:\tlearn: 1245.9377910\ttotal: 14.6s\tremaining: 1.86s\n",
      "887:\tlearn: 1245.8464998\ttotal: 14.6s\tremaining: 1.84s\n",
      "888:\tlearn: 1245.7935034\ttotal: 14.6s\tremaining: 1.83s\n",
      "889:\tlearn: 1245.7279118\ttotal: 14.6s\tremaining: 1.81s\n",
      "890:\tlearn: 1245.6242325\ttotal: 14.7s\tremaining: 1.79s\n",
      "891:\tlearn: 1245.5193431\ttotal: 14.7s\tremaining: 1.78s\n",
      "892:\tlearn: 1245.4497299\ttotal: 14.7s\tremaining: 1.76s\n",
      "893:\tlearn: 1245.3703199\ttotal: 14.7s\tremaining: 1.74s\n",
      "894:\tlearn: 1245.3090586\ttotal: 14.7s\tremaining: 1.73s\n",
      "895:\tlearn: 1245.2513059\ttotal: 14.7s\tremaining: 1.71s\n",
      "896:\tlearn: 1245.1113248\ttotal: 14.8s\tremaining: 1.69s\n",
      "897:\tlearn: 1245.0401433\ttotal: 14.8s\tremaining: 1.68s\n",
      "898:\tlearn: 1244.9902608\ttotal: 14.8s\tremaining: 1.66s\n",
      "899:\tlearn: 1244.8993868\ttotal: 14.8s\tremaining: 1.64s\n",
      "900:\tlearn: 1244.7634736\ttotal: 14.8s\tremaining: 1.63s\n",
      "901:\tlearn: 1244.7089343\ttotal: 14.8s\tremaining: 1.61s\n",
      "902:\tlearn: 1244.6496368\ttotal: 14.9s\tremaining: 1.59s\n",
      "903:\tlearn: 1244.5487647\ttotal: 14.9s\tremaining: 1.58s\n",
      "904:\tlearn: 1244.5034027\ttotal: 14.9s\tremaining: 1.56s\n",
      "905:\tlearn: 1244.3955814\ttotal: 14.9s\tremaining: 1.55s\n",
      "906:\tlearn: 1244.3030463\ttotal: 14.9s\tremaining: 1.53s\n",
      "907:\tlearn: 1244.1638467\ttotal: 14.9s\tremaining: 1.51s\n",
      "908:\tlearn: 1244.1181749\ttotal: 15s\tremaining: 1.5s\n",
      "909:\tlearn: 1244.0460971\ttotal: 15s\tremaining: 1.48s\n",
      "910:\tlearn: 1243.9728074\ttotal: 15s\tremaining: 1.46s\n",
      "911:\tlearn: 1243.9035887\ttotal: 15s\tremaining: 1.45s\n",
      "912:\tlearn: 1243.7916515\ttotal: 15s\tremaining: 1.43s\n",
      "913:\tlearn: 1243.7017473\ttotal: 15s\tremaining: 1.42s\n",
      "914:\tlearn: 1243.6165175\ttotal: 15.1s\tremaining: 1.4s\n",
      "915:\tlearn: 1243.5313071\ttotal: 15.1s\tremaining: 1.38s\n",
      "916:\tlearn: 1243.4515971\ttotal: 15.1s\tremaining: 1.37s\n",
      "917:\tlearn: 1243.4000384\ttotal: 15.1s\tremaining: 1.35s\n",
      "918:\tlearn: 1243.3911096\ttotal: 15.1s\tremaining: 1.33s\n",
      "919:\tlearn: 1243.2769067\ttotal: 15.1s\tremaining: 1.32s\n",
      "920:\tlearn: 1243.1980769\ttotal: 15.2s\tremaining: 1.3s\n",
      "921:\tlearn: 1243.0870755\ttotal: 15.2s\tremaining: 1.28s\n",
      "922:\tlearn: 1243.0505240\ttotal: 15.2s\tremaining: 1.27s\n",
      "923:\tlearn: 1242.9873985\ttotal: 15.2s\tremaining: 1.25s\n",
      "924:\tlearn: 1242.8724479\ttotal: 15.2s\tremaining: 1.23s\n",
      "925:\tlearn: 1242.8187906\ttotal: 15.2s\tremaining: 1.22s\n",
      "926:\tlearn: 1242.7747084\ttotal: 15.3s\tremaining: 1.2s\n",
      "927:\tlearn: 1242.6883000\ttotal: 15.3s\tremaining: 1.18s\n",
      "928:\tlearn: 1242.5806889\ttotal: 15.3s\tremaining: 1.17s\n",
      "929:\tlearn: 1242.5213577\ttotal: 15.3s\tremaining: 1.15s\n",
      "930:\tlearn: 1242.3906673\ttotal: 15.3s\tremaining: 1.14s\n",
      "931:\tlearn: 1242.3191219\ttotal: 15.3s\tremaining: 1.12s\n",
      "932:\tlearn: 1242.2185064\ttotal: 15.4s\tremaining: 1.1s\n",
      "933:\tlearn: 1242.1660383\ttotal: 15.4s\tremaining: 1.09s\n",
      "934:\tlearn: 1242.1139798\ttotal: 15.4s\tremaining: 1.07s\n",
      "935:\tlearn: 1242.0469134\ttotal: 15.4s\tremaining: 1.05s\n",
      "936:\tlearn: 1242.0183025\ttotal: 15.4s\tremaining: 1.04s\n",
      "937:\tlearn: 1241.9255674\ttotal: 15.4s\tremaining: 1.02s\n",
      "938:\tlearn: 1241.7961155\ttotal: 15.5s\tremaining: 1s\n",
      "939:\tlearn: 1241.7873379\ttotal: 15.5s\tremaining: 987ms\n",
      "940:\tlearn: 1241.6625031\ttotal: 15.5s\tremaining: 971ms\n",
      "941:\tlearn: 1241.5550024\ttotal: 15.5s\tremaining: 954ms\n",
      "942:\tlearn: 1241.5053803\ttotal: 15.5s\tremaining: 938ms\n",
      "943:\tlearn: 1241.4542993\ttotal: 15.5s\tremaining: 921ms\n",
      "944:\tlearn: 1241.3520209\ttotal: 15.5s\tremaining: 905ms\n",
      "945:\tlearn: 1241.2820815\ttotal: 15.6s\tremaining: 888ms\n",
      "946:\tlearn: 1241.1966906\ttotal: 15.6s\tremaining: 872ms\n",
      "947:\tlearn: 1241.1296531\ttotal: 15.6s\tremaining: 855ms\n",
      "948:\tlearn: 1241.0743767\ttotal: 15.6s\tremaining: 839ms\n",
      "949:\tlearn: 1240.9700476\ttotal: 15.6s\tremaining: 823ms\n",
      "950:\tlearn: 1240.8427717\ttotal: 15.6s\tremaining: 806ms\n",
      "951:\tlearn: 1240.7486910\ttotal: 15.7s\tremaining: 790ms\n",
      "952:\tlearn: 1240.7042841\ttotal: 15.7s\tremaining: 773ms\n",
      "953:\tlearn: 1240.6459537\ttotal: 15.7s\tremaining: 757ms\n",
      "954:\tlearn: 1240.5721233\ttotal: 15.7s\tremaining: 741ms\n",
      "955:\tlearn: 1240.5019686\ttotal: 15.7s\tremaining: 724ms\n",
      "956:\tlearn: 1240.4662178\ttotal: 15.7s\tremaining: 708ms\n",
      "957:\tlearn: 1240.3933141\ttotal: 15.8s\tremaining: 691ms\n",
      "958:\tlearn: 1240.3624715\ttotal: 15.8s\tremaining: 675ms\n",
      "959:\tlearn: 1240.2922012\ttotal: 15.8s\tremaining: 658ms\n",
      "960:\tlearn: 1240.1933969\ttotal: 15.8s\tremaining: 642ms\n",
      "961:\tlearn: 1240.1332826\ttotal: 15.8s\tremaining: 625ms\n",
      "962:\tlearn: 1240.0260060\ttotal: 15.8s\tremaining: 609ms\n",
      "963:\tlearn: 1239.9495983\ttotal: 15.9s\tremaining: 592ms\n",
      "964:\tlearn: 1239.8970804\ttotal: 15.9s\tremaining: 576ms\n",
      "965:\tlearn: 1239.7719963\ttotal: 15.9s\tremaining: 559ms\n",
      "966:\tlearn: 1239.7054204\ttotal: 15.9s\tremaining: 543ms\n",
      "967:\tlearn: 1239.6187835\ttotal: 15.9s\tremaining: 527ms\n",
      "968:\tlearn: 1239.5069901\ttotal: 16s\tremaining: 510ms\n",
      "969:\tlearn: 1239.4687573\ttotal: 16s\tremaining: 494ms\n",
      "970:\tlearn: 1239.4025861\ttotal: 16s\tremaining: 477ms\n",
      "971:\tlearn: 1239.3933759\ttotal: 16s\tremaining: 461ms\n",
      "972:\tlearn: 1239.3458933\ttotal: 16s\tremaining: 445ms\n",
      "973:\tlearn: 1239.2956068\ttotal: 16s\tremaining: 428ms\n",
      "974:\tlearn: 1239.2013764\ttotal: 16.1s\tremaining: 412ms\n",
      "975:\tlearn: 1239.1299598\ttotal: 16.1s\tremaining: 395ms\n",
      "976:\tlearn: 1239.0353861\ttotal: 16.1s\tremaining: 379ms\n",
      "977:\tlearn: 1238.9709708\ttotal: 16.1s\tremaining: 362ms\n",
      "978:\tlearn: 1238.8652689\ttotal: 16.1s\tremaining: 346ms\n",
      "979:\tlearn: 1238.7608985\ttotal: 16.1s\tremaining: 329ms\n",
      "980:\tlearn: 1238.6831308\ttotal: 16.1s\tremaining: 313ms\n",
      "981:\tlearn: 1238.5940990\ttotal: 16.2s\tremaining: 296ms\n",
      "982:\tlearn: 1238.5078208\ttotal: 16.2s\tremaining: 280ms\n",
      "983:\tlearn: 1238.4149383\ttotal: 16.2s\tremaining: 263ms\n",
      "984:\tlearn: 1238.3407681\ttotal: 16.2s\tremaining: 247ms\n",
      "985:\tlearn: 1238.2671958\ttotal: 16.2s\tremaining: 230ms\n",
      "986:\tlearn: 1238.1955243\ttotal: 16.2s\tremaining: 214ms\n",
      "987:\tlearn: 1238.1079300\ttotal: 16.3s\tremaining: 197ms\n",
      "988:\tlearn: 1238.0185497\ttotal: 16.3s\tremaining: 181ms\n",
      "989:\tlearn: 1237.9345018\ttotal: 16.3s\tremaining: 165ms\n",
      "990:\tlearn: 1237.8253556\ttotal: 16.3s\tremaining: 148ms\n",
      "991:\tlearn: 1237.7565650\ttotal: 16.3s\tremaining: 132ms\n",
      "992:\tlearn: 1237.7014005\ttotal: 16.3s\tremaining: 115ms\n",
      "993:\tlearn: 1237.6035538\ttotal: 16.4s\tremaining: 98.7ms\n",
      "994:\tlearn: 1237.5958136\ttotal: 16.4s\tremaining: 82.2ms\n",
      "995:\tlearn: 1237.4851576\ttotal: 16.4s\tremaining: 65.8ms\n",
      "996:\tlearn: 1237.3869986\ttotal: 16.4s\tremaining: 49.4ms\n",
      "997:\tlearn: 1237.3267594\ttotal: 16.4s\tremaining: 32.9ms\n",
      "998:\tlearn: 1237.2873171\ttotal: 16.4s\tremaining: 16.5ms\n",
      "999:\tlearn: 1237.1889132\ttotal: 16.5s\tremaining: 0us\n",
      "Learning rate set to 0.088752\n",
      "0:\tlearn: 3377.7283565\ttotal: 27ms\tremaining: 27s\n",
      "1:\tlearn: 3199.8963071\ttotal: 51.4ms\tremaining: 25.7s\n",
      "2:\tlearn: 3039.8332582\ttotal: 75.2ms\tremaining: 25s\n",
      "3:\tlearn: 2895.0596991\ttotal: 94.1ms\tremaining: 23.4s\n",
      "4:\tlearn: 2769.5271255\ttotal: 122ms\tremaining: 24.3s\n",
      "5:\tlearn: 2650.6896461\ttotal: 143ms\tremaining: 23.7s\n",
      "6:\tlearn: 2548.3228257\ttotal: 165ms\tremaining: 23.4s\n",
      "7:\tlearn: 2459.3323426\ttotal: 183ms\tremaining: 22.7s\n",
      "8:\tlearn: 2373.2100127\ttotal: 202ms\tremaining: 22.2s\n",
      "9:\tlearn: 2299.5021209\ttotal: 227ms\tremaining: 22.5s\n",
      "10:\tlearn: 2234.3672600\ttotal: 247ms\tremaining: 22.2s\n",
      "11:\tlearn: 2175.0389479\ttotal: 269ms\tremaining: 22.2s\n",
      "12:\tlearn: 2121.9537748\ttotal: 286ms\tremaining: 21.7s\n",
      "13:\tlearn: 2073.7705429\ttotal: 313ms\tremaining: 22.1s\n",
      "14:\tlearn: 2032.8008764\ttotal: 337ms\tremaining: 22.1s\n",
      "15:\tlearn: 1993.2140072\ttotal: 361ms\tremaining: 22.2s\n",
      "16:\tlearn: 1959.2662308\ttotal: 384ms\tremaining: 22.2s\n",
      "17:\tlearn: 1930.2174082\ttotal: 406ms\tremaining: 22.1s\n",
      "18:\tlearn: 1902.4616521\ttotal: 424ms\tremaining: 21.9s\n",
      "19:\tlearn: 1870.1709890\ttotal: 441ms\tremaining: 21.6s\n",
      "20:\tlearn: 1847.9521450\ttotal: 456ms\tremaining: 21.3s\n",
      "21:\tlearn: 1824.8084975\ttotal: 472ms\tremaining: 21s\n",
      "22:\tlearn: 1804.7564780\ttotal: 492ms\tremaining: 20.9s\n",
      "23:\tlearn: 1787.4183591\ttotal: 511ms\tremaining: 20.8s\n",
      "24:\tlearn: 1770.0230647\ttotal: 529ms\tremaining: 20.6s\n",
      "25:\tlearn: 1755.5722171\ttotal: 544ms\tremaining: 20.4s\n",
      "26:\tlearn: 1738.0373878\ttotal: 561ms\tremaining: 20.2s\n",
      "27:\tlearn: 1723.6160731\ttotal: 576ms\tremaining: 20s\n",
      "28:\tlearn: 1710.5978294\ttotal: 593ms\tremaining: 19.9s\n",
      "29:\tlearn: 1699.1462863\ttotal: 610ms\tremaining: 19.7s\n",
      "30:\tlearn: 1684.4899680\ttotal: 626ms\tremaining: 19.6s\n",
      "31:\tlearn: 1674.7599808\ttotal: 641ms\tremaining: 19.4s\n",
      "32:\tlearn: 1664.9536854\ttotal: 656ms\tremaining: 19.2s\n",
      "33:\tlearn: 1655.9946638\ttotal: 671ms\tremaining: 19.1s\n",
      "34:\tlearn: 1645.0805842\ttotal: 694ms\tremaining: 19.1s\n",
      "35:\tlearn: 1637.3716604\ttotal: 714ms\tremaining: 19.1s\n",
      "36:\tlearn: 1629.6994919\ttotal: 730ms\tremaining: 19s\n",
      "37:\tlearn: 1623.1174404\ttotal: 745ms\tremaining: 18.9s\n",
      "38:\tlearn: 1615.7529595\ttotal: 761ms\tremaining: 18.7s\n",
      "39:\tlearn: 1609.4316627\ttotal: 777ms\tremaining: 18.6s\n",
      "40:\tlearn: 1603.6987959\ttotal: 798ms\tremaining: 18.7s\n",
      "41:\tlearn: 1597.3774726\ttotal: 813ms\tremaining: 18.5s\n",
      "42:\tlearn: 1592.3348879\ttotal: 828ms\tremaining: 18.4s\n",
      "43:\tlearn: 1587.6029776\ttotal: 843ms\tremaining: 18.3s\n",
      "44:\tlearn: 1583.1120906\ttotal: 859ms\tremaining: 18.2s\n",
      "45:\tlearn: 1577.4313801\ttotal: 878ms\tremaining: 18.2s\n",
      "46:\tlearn: 1572.9569639\ttotal: 897ms\tremaining: 18.2s\n",
      "47:\tlearn: 1569.6343396\ttotal: 911ms\tremaining: 18.1s\n",
      "48:\tlearn: 1565.8266506\ttotal: 926ms\tremaining: 18s\n",
      "49:\tlearn: 1562.5621836\ttotal: 940ms\tremaining: 17.9s\n",
      "50:\tlearn: 1558.3752941\ttotal: 955ms\tremaining: 17.8s\n",
      "51:\tlearn: 1555.4150284\ttotal: 972ms\tremaining: 17.7s\n",
      "52:\tlearn: 1551.2559558\ttotal: 990ms\tremaining: 17.7s\n",
      "53:\tlearn: 1546.6632946\ttotal: 1s\tremaining: 17.6s\n",
      "54:\tlearn: 1541.1626526\ttotal: 1.02s\tremaining: 17.6s\n",
      "55:\tlearn: 1537.5246625\ttotal: 1.04s\tremaining: 17.5s\n",
      "56:\tlearn: 1535.2561125\ttotal: 1.05s\tremaining: 17.5s\n",
      "57:\tlearn: 1531.2388054\ttotal: 1.08s\tremaining: 17.5s\n",
      "58:\tlearn: 1528.6777095\ttotal: 1.09s\tremaining: 17.4s\n",
      "59:\tlearn: 1526.3796991\ttotal: 1.11s\tremaining: 17.4s\n",
      "60:\tlearn: 1524.3525867\ttotal: 1.12s\tremaining: 17.3s\n",
      "61:\tlearn: 1521.5713417\ttotal: 1.14s\tremaining: 17.2s\n",
      "62:\tlearn: 1517.8453581\ttotal: 1.15s\tremaining: 17.2s\n",
      "63:\tlearn: 1515.2171389\ttotal: 1.18s\tremaining: 17.2s\n",
      "64:\tlearn: 1512.8922579\ttotal: 1.19s\tremaining: 17.1s\n",
      "65:\tlearn: 1510.6440370\ttotal: 1.2s\tremaining: 17s\n",
      "66:\tlearn: 1508.1328609\ttotal: 1.22s\tremaining: 17s\n",
      "67:\tlearn: 1505.5680723\ttotal: 1.24s\tremaining: 16.9s\n",
      "68:\tlearn: 1503.6639210\ttotal: 1.25s\tremaining: 16.9s\n",
      "69:\tlearn: 1501.7665191\ttotal: 1.26s\tremaining: 16.8s\n",
      "70:\tlearn: 1499.8932036\ttotal: 1.28s\tremaining: 16.8s\n",
      "71:\tlearn: 1498.1909427\ttotal: 1.3s\tremaining: 16.7s\n",
      "72:\tlearn: 1495.8155583\ttotal: 1.31s\tremaining: 16.7s\n",
      "73:\tlearn: 1494.0334346\ttotal: 1.33s\tremaining: 16.6s\n",
      "74:\tlearn: 1492.5702813\ttotal: 1.34s\tremaining: 16.6s\n",
      "75:\tlearn: 1490.2255161\ttotal: 1.36s\tremaining: 16.6s\n",
      "76:\tlearn: 1488.9182155\ttotal: 1.38s\tremaining: 16.5s\n",
      "77:\tlearn: 1487.5691054\ttotal: 1.39s\tremaining: 16.5s\n",
      "78:\tlearn: 1486.1158350\ttotal: 1.41s\tremaining: 16.4s\n",
      "79:\tlearn: 1484.5922688\ttotal: 1.42s\tremaining: 16.3s\n",
      "80:\tlearn: 1483.4285083\ttotal: 1.44s\tremaining: 16.3s\n",
      "81:\tlearn: 1481.8948187\ttotal: 1.45s\tremaining: 16.3s\n",
      "82:\tlearn: 1480.6780701\ttotal: 1.47s\tremaining: 16.3s\n",
      "83:\tlearn: 1479.6045259\ttotal: 1.48s\tremaining: 16.2s\n",
      "84:\tlearn: 1478.1168282\ttotal: 1.5s\tremaining: 16.1s\n",
      "85:\tlearn: 1477.0747395\ttotal: 1.51s\tremaining: 16.1s\n",
      "86:\tlearn: 1475.6964156\ttotal: 1.53s\tremaining: 16s\n",
      "87:\tlearn: 1474.5065692\ttotal: 1.54s\tremaining: 16s\n",
      "88:\tlearn: 1472.7559202\ttotal: 1.57s\tremaining: 16s\n",
      "89:\tlearn: 1471.0745759\ttotal: 1.58s\tremaining: 16s\n",
      "90:\tlearn: 1470.1605582\ttotal: 1.6s\tremaining: 16s\n",
      "91:\tlearn: 1468.3201612\ttotal: 1.62s\tremaining: 16s\n",
      "92:\tlearn: 1467.2011051\ttotal: 1.63s\tremaining: 15.9s\n",
      "93:\tlearn: 1465.1629522\ttotal: 1.66s\tremaining: 16s\n",
      "94:\tlearn: 1463.9890241\ttotal: 1.67s\tremaining: 15.9s\n",
      "95:\tlearn: 1462.6310691\ttotal: 1.69s\tremaining: 15.9s\n",
      "96:\tlearn: 1461.8907761\ttotal: 1.7s\tremaining: 15.8s\n",
      "97:\tlearn: 1460.5662728\ttotal: 1.72s\tremaining: 15.8s\n",
      "98:\tlearn: 1459.1167049\ttotal: 1.73s\tremaining: 15.7s\n",
      "99:\tlearn: 1457.3234316\ttotal: 1.75s\tremaining: 15.8s\n",
      "100:\tlearn: 1456.5337224\ttotal: 1.77s\tremaining: 15.7s\n",
      "101:\tlearn: 1454.2025218\ttotal: 1.78s\tremaining: 15.7s\n",
      "102:\tlearn: 1452.9341913\ttotal: 1.8s\tremaining: 15.7s\n",
      "103:\tlearn: 1451.3612791\ttotal: 1.81s\tremaining: 15.6s\n",
      "104:\tlearn: 1450.3725166\ttotal: 1.83s\tremaining: 15.6s\n",
      "105:\tlearn: 1448.9104352\ttotal: 1.85s\tremaining: 15.6s\n",
      "106:\tlearn: 1448.0849756\ttotal: 1.87s\tremaining: 15.6s\n",
      "107:\tlearn: 1446.6960873\ttotal: 1.89s\tremaining: 15.6s\n",
      "108:\tlearn: 1445.1880518\ttotal: 1.9s\tremaining: 15.6s\n",
      "109:\tlearn: 1444.0152180\ttotal: 1.92s\tremaining: 15.5s\n",
      "110:\tlearn: 1443.1320388\ttotal: 1.94s\tremaining: 15.5s\n",
      "111:\tlearn: 1442.4423881\ttotal: 1.96s\tremaining: 15.5s\n",
      "112:\tlearn: 1441.6816164\ttotal: 1.97s\tremaining: 15.5s\n",
      "113:\tlearn: 1440.5913613\ttotal: 1.99s\tremaining: 15.4s\n",
      "114:\tlearn: 1439.9472869\ttotal: 2s\tremaining: 15.4s\n",
      "115:\tlearn: 1438.7507581\ttotal: 2.02s\tremaining: 15.4s\n",
      "116:\tlearn: 1437.9801170\ttotal: 2.04s\tremaining: 15.4s\n",
      "117:\tlearn: 1436.5399985\ttotal: 2.06s\tremaining: 15.4s\n",
      "118:\tlearn: 1435.5619228\ttotal: 2.07s\tremaining: 15.3s\n",
      "119:\tlearn: 1434.7342744\ttotal: 2.08s\tremaining: 15.3s\n",
      "120:\tlearn: 1433.6023295\ttotal: 2.1s\tremaining: 15.3s\n",
      "121:\tlearn: 1433.1008995\ttotal: 2.11s\tremaining: 15.2s\n",
      "122:\tlearn: 1431.5245011\ttotal: 2.14s\tremaining: 15.2s\n",
      "123:\tlearn: 1430.7630466\ttotal: 2.15s\tremaining: 15.2s\n",
      "124:\tlearn: 1429.5485062\ttotal: 2.17s\tremaining: 15.2s\n",
      "125:\tlearn: 1428.6844111\ttotal: 2.18s\tremaining: 15.1s\n",
      "126:\tlearn: 1427.4264112\ttotal: 2.2s\tremaining: 15.1s\n",
      "127:\tlearn: 1425.8012078\ttotal: 2.21s\tremaining: 15.1s\n",
      "128:\tlearn: 1424.7167923\ttotal: 2.24s\tremaining: 15.1s\n",
      "129:\tlearn: 1424.1433758\ttotal: 2.25s\tremaining: 15.1s\n",
      "130:\tlearn: 1423.6299777\ttotal: 2.26s\tremaining: 15s\n",
      "131:\tlearn: 1421.9928236\ttotal: 2.28s\tremaining: 15s\n",
      "132:\tlearn: 1421.1934840\ttotal: 2.29s\tremaining: 14.9s\n",
      "133:\tlearn: 1420.5021300\ttotal: 2.31s\tremaining: 14.9s\n",
      "134:\tlearn: 1419.8196007\ttotal: 2.33s\tremaining: 14.9s\n",
      "135:\tlearn: 1418.7059250\ttotal: 2.34s\tremaining: 14.9s\n",
      "136:\tlearn: 1417.8698124\ttotal: 2.36s\tremaining: 14.8s\n",
      "137:\tlearn: 1417.3036699\ttotal: 2.37s\tremaining: 14.8s\n",
      "138:\tlearn: 1416.4427006\ttotal: 2.38s\tremaining: 14.8s\n",
      "139:\tlearn: 1415.3297846\ttotal: 2.4s\tremaining: 14.7s\n",
      "140:\tlearn: 1414.7813902\ttotal: 2.42s\tremaining: 14.7s\n",
      "141:\tlearn: 1414.3107183\ttotal: 2.43s\tremaining: 14.7s\n",
      "142:\tlearn: 1413.7546688\ttotal: 2.45s\tremaining: 14.7s\n",
      "143:\tlearn: 1412.9504992\ttotal: 2.46s\tremaining: 14.6s\n",
      "144:\tlearn: 1412.3620606\ttotal: 2.48s\tremaining: 14.6s\n",
      "145:\tlearn: 1411.3637831\ttotal: 2.49s\tremaining: 14.6s\n",
      "146:\tlearn: 1410.8912898\ttotal: 2.51s\tremaining: 14.6s\n",
      "147:\tlearn: 1410.4639200\ttotal: 2.53s\tremaining: 14.6s\n",
      "148:\tlearn: 1409.7927026\ttotal: 2.54s\tremaining: 14.5s\n",
      "149:\tlearn: 1409.1224415\ttotal: 2.56s\tremaining: 14.5s\n",
      "150:\tlearn: 1407.9387433\ttotal: 2.58s\tremaining: 14.5s\n",
      "151:\tlearn: 1406.7937341\ttotal: 2.59s\tremaining: 14.5s\n",
      "152:\tlearn: 1405.9556819\ttotal: 2.61s\tremaining: 14.4s\n",
      "153:\tlearn: 1405.2448844\ttotal: 2.63s\tremaining: 14.4s\n",
      "154:\tlearn: 1404.7920381\ttotal: 2.64s\tremaining: 14.4s\n",
      "155:\tlearn: 1404.2459191\ttotal: 2.66s\tremaining: 14.4s\n",
      "156:\tlearn: 1403.5742897\ttotal: 2.67s\tremaining: 14.3s\n",
      "157:\tlearn: 1402.9450683\ttotal: 2.69s\tremaining: 14.3s\n",
      "158:\tlearn: 1402.4818612\ttotal: 2.7s\tremaining: 14.3s\n",
      "159:\tlearn: 1401.6658145\ttotal: 2.72s\tremaining: 14.3s\n",
      "160:\tlearn: 1400.7480748\ttotal: 2.73s\tremaining: 14.3s\n",
      "161:\tlearn: 1400.1450964\ttotal: 2.75s\tremaining: 14.2s\n",
      "162:\tlearn: 1399.7790681\ttotal: 2.76s\tremaining: 14.2s\n",
      "163:\tlearn: 1399.1478195\ttotal: 2.78s\tremaining: 14.2s\n",
      "164:\tlearn: 1397.9785214\ttotal: 2.79s\tremaining: 14.1s\n",
      "165:\tlearn: 1397.3341477\ttotal: 2.81s\tremaining: 14.1s\n",
      "166:\tlearn: 1396.7730911\ttotal: 2.83s\tremaining: 14.1s\n",
      "167:\tlearn: 1396.4505373\ttotal: 2.84s\tremaining: 14.1s\n",
      "168:\tlearn: 1395.6989080\ttotal: 2.86s\tremaining: 14.1s\n",
      "169:\tlearn: 1394.9635671\ttotal: 2.87s\tremaining: 14s\n",
      "170:\tlearn: 1394.0700782\ttotal: 2.89s\tremaining: 14s\n",
      "171:\tlearn: 1393.4328805\ttotal: 2.91s\tremaining: 14s\n",
      "172:\tlearn: 1392.8841023\ttotal: 2.92s\tremaining: 14s\n",
      "173:\tlearn: 1392.0874875\ttotal: 2.94s\tremaining: 14s\n",
      "174:\tlearn: 1391.0751011\ttotal: 2.96s\tremaining: 13.9s\n",
      "175:\tlearn: 1390.5024798\ttotal: 2.97s\tremaining: 13.9s\n",
      "176:\tlearn: 1390.0373541\ttotal: 2.98s\tremaining: 13.9s\n",
      "177:\tlearn: 1389.6102973\ttotal: 3.01s\tremaining: 13.9s\n",
      "178:\tlearn: 1388.9576243\ttotal: 3.02s\tremaining: 13.9s\n",
      "179:\tlearn: 1388.5505183\ttotal: 3.04s\tremaining: 13.8s\n",
      "180:\tlearn: 1388.2486488\ttotal: 3.05s\tremaining: 13.8s\n",
      "181:\tlearn: 1387.6374467\ttotal: 3.07s\tremaining: 13.8s\n",
      "182:\tlearn: 1387.2444391\ttotal: 3.08s\tremaining: 13.8s\n",
      "183:\tlearn: 1386.7103605\ttotal: 3.1s\tremaining: 13.8s\n",
      "184:\tlearn: 1386.3223734\ttotal: 3.12s\tremaining: 13.7s\n",
      "185:\tlearn: 1385.7289349\ttotal: 3.13s\tremaining: 13.7s\n",
      "186:\tlearn: 1385.0712288\ttotal: 3.15s\tremaining: 13.7s\n",
      "187:\tlearn: 1384.6040405\ttotal: 3.16s\tremaining: 13.7s\n",
      "188:\tlearn: 1384.0415662\ttotal: 3.18s\tremaining: 13.6s\n",
      "189:\tlearn: 1383.5399610\ttotal: 3.19s\tremaining: 13.6s\n",
      "190:\tlearn: 1382.8859508\ttotal: 3.21s\tremaining: 13.6s\n",
      "191:\tlearn: 1382.3459481\ttotal: 3.22s\tremaining: 13.6s\n",
      "192:\tlearn: 1381.7909685\ttotal: 3.24s\tremaining: 13.5s\n",
      "193:\tlearn: 1381.3589804\ttotal: 3.25s\tremaining: 13.5s\n",
      "194:\tlearn: 1380.6019203\ttotal: 3.27s\tremaining: 13.5s\n",
      "195:\tlearn: 1380.0250196\ttotal: 3.29s\tremaining: 13.5s\n",
      "196:\tlearn: 1379.7003571\ttotal: 3.3s\tremaining: 13.5s\n",
      "197:\tlearn: 1378.9246100\ttotal: 3.32s\tremaining: 13.4s\n",
      "198:\tlearn: 1378.5383336\ttotal: 3.33s\tremaining: 13.4s\n",
      "199:\tlearn: 1378.0171176\ttotal: 3.35s\tremaining: 13.4s\n",
      "200:\tlearn: 1377.4556910\ttotal: 3.36s\tremaining: 13.4s\n",
      "201:\tlearn: 1376.9202041\ttotal: 3.39s\tremaining: 13.4s\n",
      "202:\tlearn: 1376.5152145\ttotal: 3.4s\tremaining: 13.4s\n",
      "203:\tlearn: 1376.1355187\ttotal: 3.42s\tremaining: 13.3s\n",
      "204:\tlearn: 1375.8122684\ttotal: 3.43s\tremaining: 13.3s\n",
      "205:\tlearn: 1375.3893356\ttotal: 3.44s\tremaining: 13.3s\n",
      "206:\tlearn: 1375.1379041\ttotal: 3.46s\tremaining: 13.2s\n",
      "207:\tlearn: 1374.7934691\ttotal: 3.48s\tremaining: 13.2s\n",
      "208:\tlearn: 1374.4531820\ttotal: 3.49s\tremaining: 13.2s\n",
      "209:\tlearn: 1374.0874493\ttotal: 3.51s\tremaining: 13.2s\n",
      "210:\tlearn: 1373.6781487\ttotal: 3.52s\tremaining: 13.2s\n",
      "211:\tlearn: 1373.2166774\ttotal: 3.54s\tremaining: 13.1s\n",
      "212:\tlearn: 1372.8579820\ttotal: 3.55s\tremaining: 13.1s\n",
      "213:\tlearn: 1372.3837373\ttotal: 3.56s\tremaining: 13.1s\n",
      "214:\tlearn: 1371.9692266\ttotal: 3.59s\tremaining: 13.1s\n",
      "215:\tlearn: 1371.6661254\ttotal: 3.6s\tremaining: 13.1s\n",
      "216:\tlearn: 1371.2875791\ttotal: 3.62s\tremaining: 13s\n",
      "217:\tlearn: 1370.8466127\ttotal: 3.63s\tremaining: 13s\n",
      "218:\tlearn: 1370.6150774\ttotal: 3.64s\tremaining: 13s\n",
      "219:\tlearn: 1370.1706535\ttotal: 3.66s\tremaining: 13s\n",
      "220:\tlearn: 1369.6346841\ttotal: 3.68s\tremaining: 13s\n",
      "221:\tlearn: 1369.2496336\ttotal: 3.7s\tremaining: 13s\n",
      "222:\tlearn: 1368.7045168\ttotal: 3.71s\tremaining: 12.9s\n",
      "223:\tlearn: 1368.3196392\ttotal: 3.73s\tremaining: 12.9s\n",
      "224:\tlearn: 1368.1213303\ttotal: 3.74s\tremaining: 12.9s\n",
      "225:\tlearn: 1367.8061622\ttotal: 3.75s\tremaining: 12.9s\n",
      "226:\tlearn: 1367.0624879\ttotal: 3.78s\tremaining: 12.9s\n",
      "227:\tlearn: 1366.6960215\ttotal: 3.79s\tremaining: 12.8s\n",
      "228:\tlearn: 1366.3274120\ttotal: 3.81s\tremaining: 12.8s\n",
      "229:\tlearn: 1365.6257967\ttotal: 3.82s\tremaining: 12.8s\n",
      "230:\tlearn: 1365.2582852\ttotal: 3.84s\tremaining: 12.8s\n",
      "231:\tlearn: 1364.7164415\ttotal: 3.86s\tremaining: 12.8s\n",
      "232:\tlearn: 1364.2464816\ttotal: 3.88s\tremaining: 12.8s\n",
      "233:\tlearn: 1363.7424717\ttotal: 3.89s\tremaining: 12.7s\n",
      "234:\tlearn: 1363.4687684\ttotal: 3.91s\tremaining: 12.7s\n",
      "235:\tlearn: 1363.1360775\ttotal: 3.92s\tremaining: 12.7s\n",
      "236:\tlearn: 1362.6224340\ttotal: 3.94s\tremaining: 12.7s\n",
      "237:\tlearn: 1362.2089838\ttotal: 3.95s\tremaining: 12.7s\n",
      "238:\tlearn: 1361.9038986\ttotal: 3.97s\tremaining: 12.6s\n",
      "239:\tlearn: 1361.5546054\ttotal: 3.99s\tremaining: 12.6s\n",
      "240:\tlearn: 1361.2213078\ttotal: 4s\tremaining: 12.6s\n",
      "241:\tlearn: 1360.8468287\ttotal: 4.02s\tremaining: 12.6s\n",
      "242:\tlearn: 1360.3744757\ttotal: 4.04s\tremaining: 12.6s\n",
      "243:\tlearn: 1359.8805781\ttotal: 4.06s\tremaining: 12.6s\n",
      "244:\tlearn: 1359.5161124\ttotal: 4.08s\tremaining: 12.6s\n",
      "245:\tlearn: 1359.1035133\ttotal: 4.09s\tremaining: 12.5s\n",
      "246:\tlearn: 1358.6675731\ttotal: 4.11s\tremaining: 12.5s\n",
      "247:\tlearn: 1358.3202841\ttotal: 4.12s\tremaining: 12.5s\n",
      "248:\tlearn: 1357.9827916\ttotal: 4.14s\tremaining: 12.5s\n",
      "249:\tlearn: 1357.7594499\ttotal: 4.16s\tremaining: 12.5s\n",
      "250:\tlearn: 1357.2217342\ttotal: 4.18s\tremaining: 12.5s\n",
      "251:\tlearn: 1356.9008482\ttotal: 4.19s\tremaining: 12.4s\n",
      "252:\tlearn: 1356.3112584\ttotal: 4.21s\tremaining: 12.4s\n",
      "253:\tlearn: 1356.1057496\ttotal: 4.22s\tremaining: 12.4s\n",
      "254:\tlearn: 1355.8300785\ttotal: 4.24s\tremaining: 12.4s\n",
      "255:\tlearn: 1355.3029861\ttotal: 4.26s\tremaining: 12.4s\n",
      "256:\tlearn: 1354.9582127\ttotal: 4.28s\tremaining: 12.4s\n",
      "257:\tlearn: 1354.6064149\ttotal: 4.29s\tremaining: 12.3s\n",
      "258:\tlearn: 1354.3676684\ttotal: 4.31s\tremaining: 12.3s\n",
      "259:\tlearn: 1354.0784724\ttotal: 4.32s\tremaining: 12.3s\n",
      "260:\tlearn: 1353.7976440\ttotal: 4.34s\tremaining: 12.3s\n",
      "261:\tlearn: 1353.4435166\ttotal: 4.36s\tremaining: 12.3s\n",
      "262:\tlearn: 1353.0216475\ttotal: 4.38s\tremaining: 12.3s\n",
      "263:\tlearn: 1352.7925628\ttotal: 4.39s\tremaining: 12.2s\n",
      "264:\tlearn: 1352.3949752\ttotal: 4.41s\tremaining: 12.2s\n",
      "265:\tlearn: 1352.1446715\ttotal: 4.42s\tremaining: 12.2s\n",
      "266:\tlearn: 1351.9445809\ttotal: 4.43s\tremaining: 12.2s\n",
      "267:\tlearn: 1351.6507112\ttotal: 4.45s\tremaining: 12.2s\n",
      "268:\tlearn: 1350.9832190\ttotal: 4.47s\tremaining: 12.1s\n",
      "269:\tlearn: 1350.6535688\ttotal: 4.49s\tremaining: 12.1s\n",
      "270:\tlearn: 1350.1925100\ttotal: 4.5s\tremaining: 12.1s\n",
      "271:\tlearn: 1349.9419803\ttotal: 4.51s\tremaining: 12.1s\n",
      "272:\tlearn: 1349.6299939\ttotal: 4.54s\tremaining: 12.1s\n",
      "273:\tlearn: 1349.3712104\ttotal: 4.55s\tremaining: 12.1s\n",
      "274:\tlearn: 1348.9336630\ttotal: 4.57s\tremaining: 12s\n",
      "275:\tlearn: 1348.7272122\ttotal: 4.58s\tremaining: 12s\n",
      "276:\tlearn: 1348.2503736\ttotal: 4.6s\tremaining: 12s\n",
      "277:\tlearn: 1348.0273864\ttotal: 4.62s\tremaining: 12s\n",
      "278:\tlearn: 1347.5435284\ttotal: 4.64s\tremaining: 12s\n",
      "279:\tlearn: 1347.2874197\ttotal: 4.65s\tremaining: 12s\n",
      "280:\tlearn: 1346.8134638\ttotal: 4.67s\tremaining: 11.9s\n",
      "281:\tlearn: 1346.4876537\ttotal: 4.68s\tremaining: 11.9s\n",
      "282:\tlearn: 1346.1494994\ttotal: 4.7s\tremaining: 11.9s\n",
      "283:\tlearn: 1345.7452003\ttotal: 4.72s\tremaining: 11.9s\n",
      "284:\tlearn: 1345.3263488\ttotal: 4.74s\tremaining: 11.9s\n",
      "285:\tlearn: 1345.1127762\ttotal: 4.76s\tremaining: 11.9s\n",
      "286:\tlearn: 1344.8963479\ttotal: 4.77s\tremaining: 11.9s\n",
      "287:\tlearn: 1344.7062513\ttotal: 4.79s\tremaining: 11.8s\n",
      "288:\tlearn: 1344.2111980\ttotal: 4.8s\tremaining: 11.8s\n",
      "289:\tlearn: 1344.0161529\ttotal: 4.82s\tremaining: 11.8s\n",
      "290:\tlearn: 1343.8101321\ttotal: 4.84s\tremaining: 11.8s\n",
      "291:\tlearn: 1343.6495535\ttotal: 4.85s\tremaining: 11.8s\n",
      "292:\tlearn: 1343.2991227\ttotal: 4.87s\tremaining: 11.8s\n",
      "293:\tlearn: 1343.1135716\ttotal: 4.88s\tremaining: 11.7s\n",
      "294:\tlearn: 1342.8209517\ttotal: 4.91s\tremaining: 11.7s\n",
      "295:\tlearn: 1342.5258598\ttotal: 4.92s\tremaining: 11.7s\n",
      "296:\tlearn: 1342.0366401\ttotal: 4.94s\tremaining: 11.7s\n",
      "297:\tlearn: 1341.5760123\ttotal: 4.96s\tremaining: 11.7s\n",
      "298:\tlearn: 1341.3894280\ttotal: 4.97s\tremaining: 11.7s\n",
      "299:\tlearn: 1341.0307309\ttotal: 4.99s\tremaining: 11.6s\n",
      "300:\tlearn: 1340.7617216\ttotal: 5.02s\tremaining: 11.7s\n",
      "301:\tlearn: 1340.5401737\ttotal: 5.03s\tremaining: 11.6s\n",
      "302:\tlearn: 1340.1755321\ttotal: 5.05s\tremaining: 11.6s\n",
      "303:\tlearn: 1339.8708203\ttotal: 5.07s\tremaining: 11.6s\n",
      "304:\tlearn: 1339.7205478\ttotal: 5.08s\tremaining: 11.6s\n",
      "305:\tlearn: 1339.2128779\ttotal: 5.11s\tremaining: 11.6s\n",
      "306:\tlearn: 1338.8672963\ttotal: 5.13s\tremaining: 11.6s\n",
      "307:\tlearn: 1338.5809533\ttotal: 5.14s\tremaining: 11.6s\n",
      "308:\tlearn: 1338.3334576\ttotal: 5.16s\tremaining: 11.5s\n",
      "309:\tlearn: 1338.1375276\ttotal: 5.17s\tremaining: 11.5s\n",
      "310:\tlearn: 1337.8354890\ttotal: 5.19s\tremaining: 11.5s\n",
      "311:\tlearn: 1337.5809553\ttotal: 5.21s\tremaining: 11.5s\n",
      "312:\tlearn: 1337.2168534\ttotal: 5.23s\tremaining: 11.5s\n",
      "313:\tlearn: 1337.0108916\ttotal: 5.24s\tremaining: 11.5s\n",
      "314:\tlearn: 1336.7937727\ttotal: 5.26s\tremaining: 11.4s\n",
      "315:\tlearn: 1336.4764863\ttotal: 5.27s\tremaining: 11.4s\n",
      "316:\tlearn: 1336.1727897\ttotal: 5.3s\tremaining: 11.4s\n",
      "317:\tlearn: 1335.8049156\ttotal: 5.31s\tremaining: 11.4s\n",
      "318:\tlearn: 1335.5798423\ttotal: 5.33s\tremaining: 11.4s\n",
      "319:\tlearn: 1335.1222817\ttotal: 5.34s\tremaining: 11.4s\n",
      "320:\tlearn: 1334.8302115\ttotal: 5.36s\tremaining: 11.3s\n",
      "321:\tlearn: 1334.5789374\ttotal: 5.37s\tremaining: 11.3s\n",
      "322:\tlearn: 1334.2393227\ttotal: 5.4s\tremaining: 11.3s\n",
      "323:\tlearn: 1334.1031736\ttotal: 5.41s\tremaining: 11.3s\n",
      "324:\tlearn: 1333.8657768\ttotal: 5.43s\tremaining: 11.3s\n",
      "325:\tlearn: 1333.6182751\ttotal: 5.44s\tremaining: 11.3s\n",
      "326:\tlearn: 1333.4575280\ttotal: 5.46s\tremaining: 11.2s\n",
      "327:\tlearn: 1333.1426413\ttotal: 5.47s\tremaining: 11.2s\n",
      "328:\tlearn: 1332.7214522\ttotal: 5.5s\tremaining: 11.2s\n",
      "329:\tlearn: 1332.5350211\ttotal: 5.51s\tremaining: 11.2s\n",
      "330:\tlearn: 1332.3798584\ttotal: 5.53s\tremaining: 11.2s\n",
      "331:\tlearn: 1332.1123191\ttotal: 5.54s\tremaining: 11.2s\n",
      "332:\tlearn: 1331.9651683\ttotal: 5.56s\tremaining: 11.1s\n",
      "333:\tlearn: 1331.6553009\ttotal: 5.58s\tremaining: 11.1s\n",
      "334:\tlearn: 1331.3455354\ttotal: 5.6s\tremaining: 11.1s\n",
      "335:\tlearn: 1330.9881298\ttotal: 5.61s\tremaining: 11.1s\n",
      "336:\tlearn: 1330.7470239\ttotal: 5.63s\tremaining: 11.1s\n",
      "337:\tlearn: 1330.4947255\ttotal: 5.64s\tremaining: 11.1s\n",
      "338:\tlearn: 1330.3169151\ttotal: 5.66s\tremaining: 11s\n",
      "339:\tlearn: 1330.1453711\ttotal: 5.68s\tremaining: 11s\n",
      "340:\tlearn: 1329.8485814\ttotal: 5.7s\tremaining: 11s\n",
      "341:\tlearn: 1329.5515837\ttotal: 5.71s\tremaining: 11s\n",
      "342:\tlearn: 1329.3448774\ttotal: 5.73s\tremaining: 11s\n",
      "343:\tlearn: 1328.9735994\ttotal: 5.74s\tremaining: 11s\n",
      "344:\tlearn: 1328.6609891\ttotal: 5.76s\tremaining: 10.9s\n",
      "345:\tlearn: 1328.3630695\ttotal: 5.78s\tremaining: 10.9s\n",
      "346:\tlearn: 1328.0425326\ttotal: 5.8s\tremaining: 10.9s\n",
      "347:\tlearn: 1327.7917197\ttotal: 5.81s\tremaining: 10.9s\n",
      "348:\tlearn: 1327.5152070\ttotal: 5.83s\tremaining: 10.9s\n",
      "349:\tlearn: 1327.2042597\ttotal: 5.84s\tremaining: 10.9s\n",
      "350:\tlearn: 1326.8415323\ttotal: 5.86s\tremaining: 10.8s\n",
      "351:\tlearn: 1326.6569186\ttotal: 5.88s\tremaining: 10.8s\n",
      "352:\tlearn: 1326.4648434\ttotal: 5.9s\tremaining: 10.8s\n",
      "353:\tlearn: 1326.3276492\ttotal: 5.91s\tremaining: 10.8s\n",
      "354:\tlearn: 1326.1547544\ttotal: 5.93s\tremaining: 10.8s\n",
      "355:\tlearn: 1325.8776943\ttotal: 5.94s\tremaining: 10.8s\n",
      "356:\tlearn: 1325.6694377\ttotal: 5.96s\tremaining: 10.7s\n",
      "357:\tlearn: 1325.4704757\ttotal: 5.98s\tremaining: 10.7s\n",
      "358:\tlearn: 1325.1903548\ttotal: 5.99s\tremaining: 10.7s\n",
      "359:\tlearn: 1324.9263746\ttotal: 6.01s\tremaining: 10.7s\n",
      "360:\tlearn: 1324.7022231\ttotal: 6.03s\tremaining: 10.7s\n",
      "361:\tlearn: 1324.4539690\ttotal: 6.04s\tremaining: 10.7s\n",
      "362:\tlearn: 1324.0810373\ttotal: 6.07s\tremaining: 10.6s\n",
      "363:\tlearn: 1323.8589142\ttotal: 6.08s\tremaining: 10.6s\n",
      "364:\tlearn: 1323.6492067\ttotal: 6.1s\tremaining: 10.6s\n",
      "365:\tlearn: 1323.4831296\ttotal: 6.11s\tremaining: 10.6s\n",
      "366:\tlearn: 1323.2241629\ttotal: 6.13s\tremaining: 10.6s\n",
      "367:\tlearn: 1322.9735517\ttotal: 6.14s\tremaining: 10.5s\n",
      "368:\tlearn: 1322.7284729\ttotal: 6.17s\tremaining: 10.5s\n",
      "369:\tlearn: 1322.5200750\ttotal: 6.18s\tremaining: 10.5s\n",
      "370:\tlearn: 1322.2240142\ttotal: 6.2s\tremaining: 10.5s\n",
      "371:\tlearn: 1322.0129829\ttotal: 6.21s\tremaining: 10.5s\n",
      "372:\tlearn: 1321.7188608\ttotal: 6.23s\tremaining: 10.5s\n",
      "373:\tlearn: 1321.4414137\ttotal: 6.24s\tremaining: 10.4s\n",
      "374:\tlearn: 1321.2813559\ttotal: 6.26s\tremaining: 10.4s\n",
      "375:\tlearn: 1320.9741423\ttotal: 6.28s\tremaining: 10.4s\n",
      "376:\tlearn: 1320.8392370\ttotal: 6.3s\tremaining: 10.4s\n",
      "377:\tlearn: 1320.6977250\ttotal: 6.32s\tremaining: 10.4s\n",
      "378:\tlearn: 1320.3797474\ttotal: 6.33s\tremaining: 10.4s\n",
      "379:\tlearn: 1320.0371619\ttotal: 6.35s\tremaining: 10.4s\n",
      "380:\tlearn: 1319.7788838\ttotal: 6.37s\tremaining: 10.3s\n",
      "381:\tlearn: 1319.5584317\ttotal: 6.39s\tremaining: 10.3s\n",
      "382:\tlearn: 1319.3116466\ttotal: 6.4s\tremaining: 10.3s\n",
      "383:\tlearn: 1318.9998015\ttotal: 6.42s\tremaining: 10.3s\n",
      "384:\tlearn: 1318.8369804\ttotal: 6.43s\tremaining: 10.3s\n",
      "385:\tlearn: 1318.6938796\ttotal: 6.45s\tremaining: 10.3s\n",
      "386:\tlearn: 1318.4690348\ttotal: 6.47s\tremaining: 10.2s\n",
      "387:\tlearn: 1318.2004389\ttotal: 6.49s\tremaining: 10.2s\n",
      "388:\tlearn: 1318.0536134\ttotal: 6.5s\tremaining: 10.2s\n",
      "389:\tlearn: 1317.8488460\ttotal: 6.52s\tremaining: 10.2s\n",
      "390:\tlearn: 1317.6284761\ttotal: 6.54s\tremaining: 10.2s\n",
      "391:\tlearn: 1317.2815635\ttotal: 6.56s\tremaining: 10.2s\n",
      "392:\tlearn: 1317.0179579\ttotal: 6.57s\tremaining: 10.2s\n",
      "393:\tlearn: 1316.8685487\ttotal: 6.59s\tremaining: 10.1s\n",
      "394:\tlearn: 1316.6448173\ttotal: 6.6s\tremaining: 10.1s\n",
      "395:\tlearn: 1316.4667926\ttotal: 6.62s\tremaining: 10.1s\n",
      "396:\tlearn: 1316.3080881\ttotal: 6.64s\tremaining: 10.1s\n",
      "397:\tlearn: 1316.1557287\ttotal: 6.66s\tremaining: 10.1s\n",
      "398:\tlearn: 1315.9309853\ttotal: 6.67s\tremaining: 10.1s\n",
      "399:\tlearn: 1315.7933351\ttotal: 6.69s\tremaining: 10s\n",
      "400:\tlearn: 1315.6134833\ttotal: 6.7s\tremaining: 10s\n",
      "401:\tlearn: 1315.4585294\ttotal: 6.71s\tremaining: 9.99s\n",
      "402:\tlearn: 1315.1621165\ttotal: 6.74s\tremaining: 9.98s\n",
      "403:\tlearn: 1315.0170230\ttotal: 6.75s\tremaining: 9.96s\n",
      "404:\tlearn: 1314.7694249\ttotal: 6.77s\tremaining: 9.94s\n",
      "405:\tlearn: 1314.5783793\ttotal: 6.78s\tremaining: 9.92s\n",
      "406:\tlearn: 1314.4225085\ttotal: 6.8s\tremaining: 9.9s\n",
      "407:\tlearn: 1314.2583689\ttotal: 6.81s\tremaining: 9.88s\n",
      "408:\tlearn: 1314.1449511\ttotal: 6.83s\tremaining: 9.87s\n",
      "409:\tlearn: 1313.9634417\ttotal: 6.85s\tremaining: 9.85s\n",
      "410:\tlearn: 1313.7356272\ttotal: 6.86s\tremaining: 9.84s\n",
      "411:\tlearn: 1313.5503411\ttotal: 6.88s\tremaining: 9.82s\n",
      "412:\tlearn: 1313.2466808\ttotal: 6.89s\tremaining: 9.8s\n",
      "413:\tlearn: 1313.0748703\ttotal: 6.91s\tremaining: 9.78s\n",
      "414:\tlearn: 1312.9053213\ttotal: 6.93s\tremaining: 9.77s\n",
      "415:\tlearn: 1312.4920071\ttotal: 6.95s\tremaining: 9.76s\n",
      "416:\tlearn: 1312.2610323\ttotal: 6.96s\tremaining: 9.74s\n",
      "417:\tlearn: 1312.0952300\ttotal: 6.98s\tremaining: 9.72s\n",
      "418:\tlearn: 1311.9555672\ttotal: 7s\tremaining: 9.71s\n",
      "419:\tlearn: 1311.6864118\ttotal: 7.02s\tremaining: 9.69s\n",
      "420:\tlearn: 1311.4706274\ttotal: 7.04s\tremaining: 9.68s\n",
      "421:\tlearn: 1311.1463385\ttotal: 7.05s\tremaining: 9.66s\n",
      "422:\tlearn: 1310.9341179\ttotal: 7.07s\tremaining: 9.64s\n",
      "423:\tlearn: 1310.8276188\ttotal: 7.08s\tremaining: 9.62s\n",
      "424:\tlearn: 1310.6970775\ttotal: 7.1s\tremaining: 9.6s\n",
      "425:\tlearn: 1310.4550361\ttotal: 7.11s\tremaining: 9.59s\n",
      "426:\tlearn: 1310.2986089\ttotal: 7.13s\tremaining: 9.57s\n",
      "427:\tlearn: 1310.1046843\ttotal: 7.14s\tremaining: 9.55s\n",
      "428:\tlearn: 1309.8854867\ttotal: 7.16s\tremaining: 9.53s\n",
      "429:\tlearn: 1309.7162061\ttotal: 7.18s\tremaining: 9.51s\n",
      "430:\tlearn: 1309.5562999\ttotal: 7.19s\tremaining: 9.49s\n",
      "431:\tlearn: 1309.3379600\ttotal: 7.21s\tremaining: 9.47s\n",
      "432:\tlearn: 1309.1391153\ttotal: 7.23s\tremaining: 9.46s\n",
      "433:\tlearn: 1308.9468787\ttotal: 7.24s\tremaining: 9.44s\n",
      "434:\tlearn: 1308.7276294\ttotal: 7.25s\tremaining: 9.42s\n",
      "435:\tlearn: 1308.6171318\ttotal: 7.27s\tremaining: 9.4s\n",
      "436:\tlearn: 1308.4947785\ttotal: 7.28s\tremaining: 9.38s\n",
      "437:\tlearn: 1308.3142673\ttotal: 7.3s\tremaining: 9.37s\n",
      "438:\tlearn: 1308.1196905\ttotal: 7.32s\tremaining: 9.35s\n",
      "439:\tlearn: 1307.9435949\ttotal: 7.33s\tremaining: 9.34s\n",
      "440:\tlearn: 1307.7987044\ttotal: 7.35s\tremaining: 9.31s\n",
      "441:\tlearn: 1307.5614440\ttotal: 7.36s\tremaining: 9.3s\n",
      "442:\tlearn: 1307.2622108\ttotal: 7.38s\tremaining: 9.28s\n",
      "443:\tlearn: 1306.9744648\ttotal: 7.39s\tremaining: 9.26s\n",
      "444:\tlearn: 1306.8097043\ttotal: 7.42s\tremaining: 9.25s\n",
      "445:\tlearn: 1306.6276867\ttotal: 7.43s\tremaining: 9.23s\n",
      "446:\tlearn: 1306.4155177\ttotal: 7.45s\tremaining: 9.21s\n",
      "447:\tlearn: 1306.1233404\ttotal: 7.46s\tremaining: 9.19s\n",
      "448:\tlearn: 1305.9306518\ttotal: 7.48s\tremaining: 9.17s\n",
      "449:\tlearn: 1305.7629104\ttotal: 7.49s\tremaining: 9.15s\n",
      "450:\tlearn: 1305.6652947\ttotal: 7.51s\tremaining: 9.14s\n",
      "451:\tlearn: 1305.5457489\ttotal: 7.53s\tremaining: 9.12s\n",
      "452:\tlearn: 1305.2604647\ttotal: 7.54s\tremaining: 9.11s\n",
      "453:\tlearn: 1305.1273168\ttotal: 7.56s\tremaining: 9.09s\n",
      "454:\tlearn: 1304.9724449\ttotal: 7.57s\tremaining: 9.07s\n",
      "455:\tlearn: 1304.7966481\ttotal: 7.58s\tremaining: 9.05s\n",
      "456:\tlearn: 1304.5870254\ttotal: 7.61s\tremaining: 9.04s\n",
      "457:\tlearn: 1304.3482294\ttotal: 7.62s\tremaining: 9.02s\n",
      "458:\tlearn: 1304.2457499\ttotal: 7.64s\tremaining: 9s\n",
      "459:\tlearn: 1304.0800646\ttotal: 7.65s\tremaining: 8.98s\n",
      "460:\tlearn: 1303.8450255\ttotal: 7.67s\tremaining: 8.96s\n",
      "461:\tlearn: 1303.6052761\ttotal: 7.68s\tremaining: 8.95s\n",
      "462:\tlearn: 1303.3313254\ttotal: 7.71s\tremaining: 8.94s\n",
      "463:\tlearn: 1303.2166949\ttotal: 7.72s\tremaining: 8.92s\n",
      "464:\tlearn: 1303.0286310\ttotal: 7.74s\tremaining: 8.9s\n",
      "465:\tlearn: 1302.8061066\ttotal: 7.75s\tremaining: 8.88s\n",
      "466:\tlearn: 1302.6010706\ttotal: 7.76s\tremaining: 8.86s\n",
      "467:\tlearn: 1302.2731153\ttotal: 7.78s\tremaining: 8.84s\n",
      "468:\tlearn: 1302.1060309\ttotal: 7.8s\tremaining: 8.83s\n",
      "469:\tlearn: 1301.9721129\ttotal: 7.82s\tremaining: 8.81s\n",
      "470:\tlearn: 1301.8103571\ttotal: 7.83s\tremaining: 8.79s\n",
      "471:\tlearn: 1301.6289571\ttotal: 7.84s\tremaining: 8.78s\n",
      "472:\tlearn: 1301.4450040\ttotal: 7.86s\tremaining: 8.76s\n",
      "473:\tlearn: 1301.2124817\ttotal: 7.88s\tremaining: 8.74s\n",
      "474:\tlearn: 1300.9394597\ttotal: 7.9s\tremaining: 8.73s\n",
      "475:\tlearn: 1300.8518557\ttotal: 7.92s\tremaining: 8.71s\n",
      "476:\tlearn: 1300.6171790\ttotal: 7.93s\tremaining: 8.7s\n",
      "477:\tlearn: 1300.3631304\ttotal: 7.95s\tremaining: 8.68s\n",
      "478:\tlearn: 1300.1009133\ttotal: 7.96s\tremaining: 8.66s\n",
      "479:\tlearn: 1299.9592081\ttotal: 7.99s\tremaining: 8.65s\n",
      "480:\tlearn: 1299.8464808\ttotal: 8.01s\tremaining: 8.64s\n",
      "481:\tlearn: 1299.6925641\ttotal: 8.02s\tremaining: 8.62s\n",
      "482:\tlearn: 1299.6144311\ttotal: 8.04s\tremaining: 8.6s\n",
      "483:\tlearn: 1299.4744198\ttotal: 8.05s\tremaining: 8.58s\n",
      "484:\tlearn: 1299.3198727\ttotal: 8.06s\tremaining: 8.56s\n",
      "485:\tlearn: 1299.1687238\ttotal: 8.09s\tremaining: 8.55s\n",
      "486:\tlearn: 1298.9020914\ttotal: 8.1s\tremaining: 8.54s\n",
      "487:\tlearn: 1298.7729925\ttotal: 8.12s\tremaining: 8.52s\n",
      "488:\tlearn: 1298.6395402\ttotal: 8.13s\tremaining: 8.5s\n",
      "489:\tlearn: 1298.4969582\ttotal: 8.15s\tremaining: 8.48s\n",
      "490:\tlearn: 1298.3276000\ttotal: 8.16s\tremaining: 8.46s\n",
      "491:\tlearn: 1298.1664326\ttotal: 8.19s\tremaining: 8.45s\n",
      "492:\tlearn: 1297.9813397\ttotal: 8.21s\tremaining: 8.44s\n",
      "493:\tlearn: 1297.6278462\ttotal: 8.23s\tremaining: 8.43s\n",
      "494:\tlearn: 1297.4930696\ttotal: 8.24s\tremaining: 8.41s\n",
      "495:\tlearn: 1297.3176678\ttotal: 8.26s\tremaining: 8.39s\n",
      "496:\tlearn: 1297.1834966\ttotal: 8.28s\tremaining: 8.38s\n",
      "497:\tlearn: 1297.0229379\ttotal: 8.29s\tremaining: 8.36s\n",
      "498:\tlearn: 1296.8969245\ttotal: 8.31s\tremaining: 8.34s\n",
      "499:\tlearn: 1296.7966565\ttotal: 8.32s\tremaining: 8.32s\n",
      "500:\tlearn: 1296.6793128\ttotal: 8.34s\tremaining: 8.3s\n",
      "501:\tlearn: 1296.4917296\ttotal: 8.35s\tremaining: 8.29s\n",
      "502:\tlearn: 1296.3516304\ttotal: 8.37s\tremaining: 8.27s\n",
      "503:\tlearn: 1296.1957176\ttotal: 8.38s\tremaining: 8.25s\n",
      "504:\tlearn: 1295.9808355\ttotal: 8.4s\tremaining: 8.23s\n",
      "505:\tlearn: 1295.9202340\ttotal: 8.41s\tremaining: 8.21s\n",
      "506:\tlearn: 1295.7307921\ttotal: 8.43s\tremaining: 8.2s\n",
      "507:\tlearn: 1295.6161044\ttotal: 8.44s\tremaining: 8.18s\n",
      "508:\tlearn: 1295.3760320\ttotal: 8.46s\tremaining: 8.16s\n",
      "509:\tlearn: 1295.2453199\ttotal: 8.48s\tremaining: 8.15s\n",
      "510:\tlearn: 1295.1624145\ttotal: 8.49s\tremaining: 8.13s\n",
      "511:\tlearn: 1295.0303643\ttotal: 8.51s\tremaining: 8.11s\n",
      "512:\tlearn: 1294.8909513\ttotal: 8.53s\tremaining: 8.09s\n",
      "513:\tlearn: 1294.6174620\ttotal: 8.54s\tremaining: 8.07s\n",
      "514:\tlearn: 1294.4524782\ttotal: 8.55s\tremaining: 8.06s\n",
      "515:\tlearn: 1294.3463343\ttotal: 8.57s\tremaining: 8.04s\n",
      "516:\tlearn: 1294.2120724\ttotal: 8.59s\tremaining: 8.02s\n",
      "517:\tlearn: 1294.0959779\ttotal: 8.6s\tremaining: 8s\n",
      "518:\tlearn: 1293.9367186\ttotal: 8.62s\tremaining: 7.99s\n",
      "519:\tlearn: 1293.7508864\ttotal: 8.63s\tremaining: 7.97s\n",
      "520:\tlearn: 1293.6440488\ttotal: 8.65s\tremaining: 7.95s\n",
      "521:\tlearn: 1293.5170274\ttotal: 8.67s\tremaining: 7.94s\n",
      "522:\tlearn: 1293.3407439\ttotal: 8.68s\tremaining: 7.92s\n",
      "523:\tlearn: 1293.1570234\ttotal: 8.7s\tremaining: 7.9s\n",
      "524:\tlearn: 1292.9053968\ttotal: 8.71s\tremaining: 7.88s\n",
      "525:\tlearn: 1292.7772567\ttotal: 8.73s\tremaining: 7.87s\n",
      "526:\tlearn: 1292.6744786\ttotal: 8.74s\tremaining: 7.85s\n",
      "527:\tlearn: 1292.4546970\ttotal: 8.77s\tremaining: 7.84s\n",
      "528:\tlearn: 1292.2237302\ttotal: 8.79s\tremaining: 7.82s\n",
      "529:\tlearn: 1292.0985151\ttotal: 8.8s\tremaining: 7.81s\n",
      "530:\tlearn: 1291.8906049\ttotal: 8.82s\tremaining: 7.79s\n",
      "531:\tlearn: 1291.7544324\ttotal: 8.84s\tremaining: 7.78s\n",
      "532:\tlearn: 1291.6435947\ttotal: 8.86s\tremaining: 7.76s\n",
      "533:\tlearn: 1291.4947590\ttotal: 8.88s\tremaining: 7.75s\n",
      "534:\tlearn: 1291.2073250\ttotal: 8.89s\tremaining: 7.73s\n",
      "535:\tlearn: 1291.1206293\ttotal: 8.91s\tremaining: 7.71s\n",
      "536:\tlearn: 1290.7969623\ttotal: 8.92s\tremaining: 7.69s\n",
      "537:\tlearn: 1290.5272961\ttotal: 8.94s\tremaining: 7.68s\n",
      "538:\tlearn: 1290.4281883\ttotal: 8.96s\tremaining: 7.67s\n",
      "539:\tlearn: 1290.3099760\ttotal: 8.98s\tremaining: 7.65s\n",
      "540:\tlearn: 1290.1467572\ttotal: 8.99s\tremaining: 7.63s\n",
      "541:\tlearn: 1290.0316124\ttotal: 9.01s\tremaining: 7.61s\n",
      "542:\tlearn: 1289.8601867\ttotal: 9.02s\tremaining: 7.59s\n",
      "543:\tlearn: 1289.6205301\ttotal: 9.05s\tremaining: 7.58s\n",
      "544:\tlearn: 1289.4339688\ttotal: 9.06s\tremaining: 7.57s\n",
      "545:\tlearn: 1289.2726616\ttotal: 9.08s\tremaining: 7.55s\n",
      "546:\tlearn: 1289.1205475\ttotal: 9.09s\tremaining: 7.53s\n",
      "547:\tlearn: 1288.9713655\ttotal: 9.11s\tremaining: 7.51s\n",
      "548:\tlearn: 1288.8431681\ttotal: 9.12s\tremaining: 7.49s\n",
      "549:\tlearn: 1288.7234850\ttotal: 9.14s\tremaining: 7.48s\n",
      "550:\tlearn: 1288.6197566\ttotal: 9.16s\tremaining: 7.46s\n",
      "551:\tlearn: 1288.5113344\ttotal: 9.17s\tremaining: 7.44s\n",
      "552:\tlearn: 1288.3842330\ttotal: 9.19s\tremaining: 7.43s\n",
      "553:\tlearn: 1288.2034032\ttotal: 9.2s\tremaining: 7.41s\n",
      "554:\tlearn: 1288.0371920\ttotal: 9.22s\tremaining: 7.39s\n",
      "555:\tlearn: 1287.9392352\ttotal: 9.24s\tremaining: 7.38s\n",
      "556:\tlearn: 1287.8381490\ttotal: 9.25s\tremaining: 7.36s\n",
      "557:\tlearn: 1287.7756797\ttotal: 9.27s\tremaining: 7.34s\n",
      "558:\tlearn: 1287.6824073\ttotal: 9.28s\tremaining: 7.32s\n",
      "559:\tlearn: 1287.5505062\ttotal: 9.29s\tremaining: 7.3s\n",
      "560:\tlearn: 1287.3518541\ttotal: 9.31s\tremaining: 7.29s\n",
      "561:\tlearn: 1287.1526045\ttotal: 9.33s\tremaining: 7.27s\n",
      "562:\tlearn: 1287.0236354\ttotal: 9.35s\tremaining: 7.25s\n",
      "563:\tlearn: 1286.8890144\ttotal: 9.36s\tremaining: 7.24s\n",
      "564:\tlearn: 1286.7281234\ttotal: 9.38s\tremaining: 7.22s\n",
      "565:\tlearn: 1286.5151234\ttotal: 9.39s\tremaining: 7.2s\n",
      "566:\tlearn: 1286.4082705\ttotal: 9.41s\tremaining: 7.18s\n",
      "567:\tlearn: 1286.3031409\ttotal: 9.42s\tremaining: 7.17s\n",
      "568:\tlearn: 1286.1525574\ttotal: 9.44s\tremaining: 7.15s\n",
      "569:\tlearn: 1285.9193100\ttotal: 9.46s\tremaining: 7.13s\n",
      "570:\tlearn: 1285.7607198\ttotal: 9.47s\tremaining: 7.12s\n",
      "571:\tlearn: 1285.5895178\ttotal: 9.48s\tremaining: 7.1s\n",
      "572:\tlearn: 1285.4839888\ttotal: 9.5s\tremaining: 7.08s\n",
      "573:\tlearn: 1285.4280274\ttotal: 9.51s\tremaining: 7.06s\n",
      "574:\tlearn: 1285.3003627\ttotal: 9.53s\tremaining: 7.05s\n",
      "575:\tlearn: 1285.1773471\ttotal: 9.55s\tremaining: 7.03s\n",
      "576:\tlearn: 1285.0677101\ttotal: 9.56s\tremaining: 7.01s\n",
      "577:\tlearn: 1284.9156736\ttotal: 9.58s\tremaining: 6.99s\n",
      "578:\tlearn: 1284.7347731\ttotal: 9.59s\tremaining: 6.98s\n",
      "579:\tlearn: 1284.6199346\ttotal: 9.61s\tremaining: 6.96s\n",
      "580:\tlearn: 1284.5172075\ttotal: 9.63s\tremaining: 6.95s\n",
      "581:\tlearn: 1284.3916838\ttotal: 9.65s\tremaining: 6.93s\n",
      "582:\tlearn: 1284.2506232\ttotal: 9.67s\tremaining: 6.91s\n",
      "583:\tlearn: 1284.1489448\ttotal: 9.69s\tremaining: 6.9s\n",
      "584:\tlearn: 1284.0435387\ttotal: 9.71s\tremaining: 6.88s\n",
      "585:\tlearn: 1283.8449822\ttotal: 9.73s\tremaining: 6.88s\n",
      "586:\tlearn: 1283.5646088\ttotal: 9.75s\tremaining: 6.86s\n",
      "587:\tlearn: 1283.4306894\ttotal: 9.78s\tremaining: 6.85s\n",
      "588:\tlearn: 1283.3037629\ttotal: 9.8s\tremaining: 6.84s\n",
      "589:\tlearn: 1283.2260095\ttotal: 9.82s\tremaining: 6.82s\n",
      "590:\tlearn: 1283.0896972\ttotal: 9.84s\tremaining: 6.81s\n",
      "591:\tlearn: 1282.9888642\ttotal: 9.85s\tremaining: 6.79s\n",
      "592:\tlearn: 1282.8954885\ttotal: 9.87s\tremaining: 6.77s\n",
      "593:\tlearn: 1282.8137576\ttotal: 9.89s\tremaining: 6.76s\n",
      "594:\tlearn: 1282.7120647\ttotal: 9.91s\tremaining: 6.74s\n",
      "595:\tlearn: 1282.5550313\ttotal: 9.93s\tremaining: 6.73s\n",
      "596:\tlearn: 1282.4765148\ttotal: 9.95s\tremaining: 6.71s\n",
      "597:\tlearn: 1282.3440546\ttotal: 9.96s\tremaining: 6.7s\n",
      "598:\tlearn: 1282.1910245\ttotal: 9.98s\tremaining: 6.68s\n",
      "599:\tlearn: 1282.0553074\ttotal: 10s\tremaining: 6.67s\n",
      "600:\tlearn: 1281.9001271\ttotal: 10s\tremaining: 6.65s\n",
      "601:\tlearn: 1281.7445855\ttotal: 10s\tremaining: 6.64s\n",
      "602:\tlearn: 1281.5986676\ttotal: 10.1s\tremaining: 6.62s\n",
      "603:\tlearn: 1281.4669498\ttotal: 10.1s\tremaining: 6.6s\n",
      "604:\tlearn: 1281.2770962\ttotal: 10.1s\tremaining: 6.58s\n",
      "605:\tlearn: 1281.1831860\ttotal: 10.1s\tremaining: 6.57s\n",
      "606:\tlearn: 1281.0817975\ttotal: 10.1s\tremaining: 6.55s\n",
      "607:\tlearn: 1281.0042283\ttotal: 10.1s\tremaining: 6.53s\n",
      "608:\tlearn: 1280.8785565\ttotal: 10.1s\tremaining: 6.52s\n",
      "609:\tlearn: 1280.7650710\ttotal: 10.2s\tremaining: 6.5s\n",
      "610:\tlearn: 1280.5925911\ttotal: 10.2s\tremaining: 6.48s\n",
      "611:\tlearn: 1280.5029071\ttotal: 10.2s\tremaining: 6.46s\n",
      "612:\tlearn: 1280.3868648\ttotal: 10.2s\tremaining: 6.45s\n",
      "613:\tlearn: 1280.2865111\ttotal: 10.2s\tremaining: 6.43s\n",
      "614:\tlearn: 1280.0915037\ttotal: 10.2s\tremaining: 6.41s\n",
      "615:\tlearn: 1279.9564331\ttotal: 10.3s\tremaining: 6.39s\n",
      "616:\tlearn: 1279.8562428\ttotal: 10.3s\tremaining: 6.38s\n",
      "617:\tlearn: 1279.7700319\ttotal: 10.3s\tremaining: 6.36s\n",
      "618:\tlearn: 1279.6493433\ttotal: 10.3s\tremaining: 6.34s\n",
      "619:\tlearn: 1279.5305572\ttotal: 10.3s\tremaining: 6.33s\n",
      "620:\tlearn: 1279.3510512\ttotal: 10.3s\tremaining: 6.31s\n",
      "621:\tlearn: 1279.2339749\ttotal: 10.4s\tremaining: 6.29s\n",
      "622:\tlearn: 1279.1572819\ttotal: 10.4s\tremaining: 6.27s\n",
      "623:\tlearn: 1279.0365445\ttotal: 10.4s\tremaining: 6.25s\n",
      "624:\tlearn: 1278.8879279\ttotal: 10.4s\tremaining: 6.24s\n",
      "625:\tlearn: 1278.7884081\ttotal: 10.4s\tremaining: 6.22s\n",
      "626:\tlearn: 1278.6686929\ttotal: 10.4s\tremaining: 6.21s\n",
      "627:\tlearn: 1278.5438917\ttotal: 10.4s\tremaining: 6.19s\n",
      "628:\tlearn: 1278.4695841\ttotal: 10.5s\tremaining: 6.17s\n",
      "629:\tlearn: 1278.3540688\ttotal: 10.5s\tremaining: 6.15s\n",
      "630:\tlearn: 1278.2320296\ttotal: 10.5s\tremaining: 6.14s\n",
      "631:\tlearn: 1278.0966975\ttotal: 10.5s\tremaining: 6.12s\n",
      "632:\tlearn: 1277.9769751\ttotal: 10.5s\tremaining: 6.1s\n",
      "633:\tlearn: 1277.8566254\ttotal: 10.5s\tremaining: 6.09s\n",
      "634:\tlearn: 1277.8002544\ttotal: 10.6s\tremaining: 6.07s\n",
      "635:\tlearn: 1277.6451661\ttotal: 10.6s\tremaining: 6.05s\n",
      "636:\tlearn: 1277.4778204\ttotal: 10.6s\tremaining: 6.04s\n",
      "637:\tlearn: 1277.3525574\ttotal: 10.6s\tremaining: 6.02s\n",
      "638:\tlearn: 1277.1374313\ttotal: 10.6s\tremaining: 6s\n",
      "639:\tlearn: 1277.0243743\ttotal: 10.6s\tremaining: 5.99s\n",
      "640:\tlearn: 1276.8375150\ttotal: 10.7s\tremaining: 5.97s\n",
      "641:\tlearn: 1276.7410235\ttotal: 10.7s\tremaining: 5.95s\n",
      "642:\tlearn: 1276.6146244\ttotal: 10.7s\tremaining: 5.94s\n",
      "643:\tlearn: 1276.5334541\ttotal: 10.7s\tremaining: 5.92s\n",
      "644:\tlearn: 1276.4139132\ttotal: 10.7s\tremaining: 5.9s\n",
      "645:\tlearn: 1276.2416416\ttotal: 10.7s\tremaining: 5.88s\n",
      "646:\tlearn: 1276.1291142\ttotal: 10.8s\tremaining: 5.87s\n",
      "647:\tlearn: 1276.0102869\ttotal: 10.8s\tremaining: 5.85s\n",
      "648:\tlearn: 1275.8510776\ttotal: 10.8s\tremaining: 5.83s\n",
      "649:\tlearn: 1275.7323171\ttotal: 10.8s\tremaining: 5.82s\n",
      "650:\tlearn: 1275.5083723\ttotal: 10.8s\tremaining: 5.8s\n",
      "651:\tlearn: 1275.3971163\ttotal: 10.8s\tremaining: 5.78s\n",
      "652:\tlearn: 1275.2762432\ttotal: 10.8s\tremaining: 5.76s\n",
      "653:\tlearn: 1275.1751751\ttotal: 10.9s\tremaining: 5.75s\n",
      "654:\tlearn: 1275.0958752\ttotal: 10.9s\tremaining: 5.73s\n",
      "655:\tlearn: 1274.9645620\ttotal: 10.9s\tremaining: 5.72s\n",
      "656:\tlearn: 1274.8947180\ttotal: 10.9s\tremaining: 5.7s\n",
      "657:\tlearn: 1274.7968616\ttotal: 10.9s\tremaining: 5.68s\n",
      "658:\tlearn: 1274.7097251\ttotal: 10.9s\tremaining: 5.66s\n",
      "659:\tlearn: 1274.5423584\ttotal: 11s\tremaining: 5.65s\n",
      "660:\tlearn: 1274.4382701\ttotal: 11s\tremaining: 5.63s\n",
      "661:\tlearn: 1274.3653440\ttotal: 11s\tremaining: 5.62s\n",
      "662:\tlearn: 1274.2655177\ttotal: 11s\tremaining: 5.6s\n",
      "663:\tlearn: 1274.2212647\ttotal: 11s\tremaining: 5.58s\n",
      "664:\tlearn: 1273.9959515\ttotal: 11s\tremaining: 5.56s\n",
      "665:\tlearn: 1273.9431831\ttotal: 11.1s\tremaining: 5.55s\n",
      "666:\tlearn: 1273.8386061\ttotal: 11.1s\tremaining: 5.53s\n",
      "667:\tlearn: 1273.7499425\ttotal: 11.1s\tremaining: 5.51s\n",
      "668:\tlearn: 1273.6185863\ttotal: 11.1s\tremaining: 5.5s\n",
      "669:\tlearn: 1273.4845737\ttotal: 11.1s\tremaining: 5.48s\n",
      "670:\tlearn: 1273.3997731\ttotal: 11.1s\tremaining: 5.46s\n",
      "671:\tlearn: 1273.3083228\ttotal: 11.2s\tremaining: 5.45s\n",
      "672:\tlearn: 1273.1598701\ttotal: 11.2s\tremaining: 5.43s\n",
      "673:\tlearn: 1273.0637740\ttotal: 11.2s\tremaining: 5.41s\n",
      "674:\tlearn: 1272.9565027\ttotal: 11.2s\tremaining: 5.4s\n",
      "675:\tlearn: 1272.8348679\ttotal: 11.2s\tremaining: 5.38s\n",
      "676:\tlearn: 1272.7413093\ttotal: 11.2s\tremaining: 5.36s\n",
      "677:\tlearn: 1272.6074465\ttotal: 11.3s\tremaining: 5.35s\n",
      "678:\tlearn: 1272.5229318\ttotal: 11.3s\tremaining: 5.33s\n",
      "679:\tlearn: 1272.4108452\ttotal: 11.3s\tremaining: 5.31s\n",
      "680:\tlearn: 1272.3213839\ttotal: 11.3s\tremaining: 5.3s\n",
      "681:\tlearn: 1272.2039316\ttotal: 11.3s\tremaining: 5.28s\n",
      "682:\tlearn: 1272.0855534\ttotal: 11.3s\tremaining: 5.26s\n",
      "683:\tlearn: 1271.9449302\ttotal: 11.4s\tremaining: 5.25s\n",
      "684:\tlearn: 1271.8400387\ttotal: 11.4s\tremaining: 5.23s\n",
      "685:\tlearn: 1271.7413235\ttotal: 11.4s\tremaining: 5.21s\n",
      "686:\tlearn: 1271.5956453\ttotal: 11.4s\tremaining: 5.2s\n",
      "687:\tlearn: 1271.5283534\ttotal: 11.4s\tremaining: 5.18s\n",
      "688:\tlearn: 1271.4148063\ttotal: 11.4s\tremaining: 5.16s\n",
      "689:\tlearn: 1271.2529374\ttotal: 11.5s\tremaining: 5.15s\n",
      "690:\tlearn: 1271.1287779\ttotal: 11.5s\tremaining: 5.13s\n",
      "691:\tlearn: 1271.0210628\ttotal: 11.5s\tremaining: 5.11s\n",
      "692:\tlearn: 1270.9237573\ttotal: 11.5s\tremaining: 5.09s\n",
      "693:\tlearn: 1270.7304274\ttotal: 11.5s\tremaining: 5.08s\n",
      "694:\tlearn: 1270.5966007\ttotal: 11.5s\tremaining: 5.06s\n",
      "695:\tlearn: 1270.5213741\ttotal: 11.6s\tremaining: 5.05s\n",
      "696:\tlearn: 1270.3573624\ttotal: 11.6s\tremaining: 5.03s\n",
      "697:\tlearn: 1270.2212197\ttotal: 11.6s\tremaining: 5.01s\n",
      "698:\tlearn: 1270.1137458\ttotal: 11.6s\tremaining: 5s\n",
      "699:\tlearn: 1270.0305855\ttotal: 11.6s\tremaining: 4.98s\n",
      "700:\tlearn: 1269.9638067\ttotal: 11.6s\tremaining: 4.96s\n",
      "701:\tlearn: 1269.8419868\ttotal: 11.7s\tremaining: 4.95s\n",
      "702:\tlearn: 1269.7628650\ttotal: 11.7s\tremaining: 4.93s\n",
      "703:\tlearn: 1269.6392724\ttotal: 11.7s\tremaining: 4.91s\n",
      "704:\tlearn: 1269.5078535\ttotal: 11.7s\tremaining: 4.9s\n",
      "705:\tlearn: 1269.3867072\ttotal: 11.7s\tremaining: 4.88s\n",
      "706:\tlearn: 1269.3187292\ttotal: 11.7s\tremaining: 4.86s\n",
      "707:\tlearn: 1269.2123756\ttotal: 11.8s\tremaining: 4.85s\n",
      "708:\tlearn: 1269.0781649\ttotal: 11.8s\tremaining: 4.83s\n",
      "709:\tlearn: 1268.9650963\ttotal: 11.8s\tremaining: 4.81s\n",
      "710:\tlearn: 1268.8910615\ttotal: 11.8s\tremaining: 4.8s\n",
      "711:\tlearn: 1268.7793737\ttotal: 11.8s\tremaining: 4.78s\n",
      "712:\tlearn: 1268.6897906\ttotal: 11.8s\tremaining: 4.76s\n",
      "713:\tlearn: 1268.5686112\ttotal: 11.9s\tremaining: 4.75s\n",
      "714:\tlearn: 1268.4142188\ttotal: 11.9s\tremaining: 4.73s\n",
      "715:\tlearn: 1268.2724348\ttotal: 11.9s\tremaining: 4.71s\n",
      "716:\tlearn: 1268.1378915\ttotal: 11.9s\tremaining: 4.7s\n",
      "717:\tlearn: 1267.9899452\ttotal: 11.9s\tremaining: 4.68s\n",
      "718:\tlearn: 1267.8819255\ttotal: 11.9s\tremaining: 4.67s\n",
      "719:\tlearn: 1267.7716208\ttotal: 12s\tremaining: 4.65s\n",
      "720:\tlearn: 1267.7194609\ttotal: 12s\tremaining: 4.63s\n",
      "721:\tlearn: 1267.5582291\ttotal: 12s\tremaining: 4.62s\n",
      "722:\tlearn: 1267.4743979\ttotal: 12s\tremaining: 4.6s\n",
      "723:\tlearn: 1267.3174774\ttotal: 12s\tremaining: 4.58s\n",
      "724:\tlearn: 1267.2294213\ttotal: 12s\tremaining: 4.57s\n",
      "725:\tlearn: 1267.0481892\ttotal: 12.1s\tremaining: 4.55s\n",
      "726:\tlearn: 1266.9725755\ttotal: 12.1s\tremaining: 4.53s\n",
      "727:\tlearn: 1266.8914166\ttotal: 12.1s\tremaining: 4.52s\n",
      "728:\tlearn: 1266.7140752\ttotal: 12.1s\tremaining: 4.5s\n",
      "729:\tlearn: 1266.5654939\ttotal: 12.1s\tremaining: 4.49s\n",
      "730:\tlearn: 1266.4896626\ttotal: 12.1s\tremaining: 4.47s\n",
      "731:\tlearn: 1266.3905679\ttotal: 12.2s\tremaining: 4.45s\n",
      "732:\tlearn: 1266.2976300\ttotal: 12.2s\tremaining: 4.43s\n",
      "733:\tlearn: 1266.1871064\ttotal: 12.2s\tremaining: 4.42s\n",
      "734:\tlearn: 1266.1032734\ttotal: 12.2s\tremaining: 4.4s\n",
      "735:\tlearn: 1266.0253064\ttotal: 12.2s\tremaining: 4.38s\n",
      "736:\tlearn: 1265.9552438\ttotal: 12.2s\tremaining: 4.37s\n",
      "737:\tlearn: 1265.8420845\ttotal: 12.3s\tremaining: 4.35s\n",
      "738:\tlearn: 1265.7317334\ttotal: 12.3s\tremaining: 4.33s\n",
      "739:\tlearn: 1265.5978938\ttotal: 12.3s\tremaining: 4.32s\n",
      "740:\tlearn: 1265.5195522\ttotal: 12.3s\tremaining: 4.3s\n",
      "741:\tlearn: 1265.4148165\ttotal: 12.3s\tremaining: 4.29s\n",
      "742:\tlearn: 1265.2468206\ttotal: 12.3s\tremaining: 4.27s\n",
      "743:\tlearn: 1265.1857803\ttotal: 12.4s\tremaining: 4.25s\n",
      "744:\tlearn: 1264.9831785\ttotal: 12.4s\tremaining: 4.24s\n",
      "745:\tlearn: 1264.9167186\ttotal: 12.4s\tremaining: 4.22s\n",
      "746:\tlearn: 1264.8797651\ttotal: 12.4s\tremaining: 4.21s\n",
      "747:\tlearn: 1264.7860861\ttotal: 12.4s\tremaining: 4.19s\n",
      "748:\tlearn: 1264.6772060\ttotal: 12.4s\tremaining: 4.17s\n",
      "749:\tlearn: 1264.5150714\ttotal: 12.5s\tremaining: 4.15s\n",
      "750:\tlearn: 1264.4219067\ttotal: 12.5s\tremaining: 4.14s\n",
      "751:\tlearn: 1264.3064426\ttotal: 12.5s\tremaining: 4.12s\n",
      "752:\tlearn: 1264.2250143\ttotal: 12.5s\tremaining: 4.1s\n",
      "753:\tlearn: 1264.1725597\ttotal: 12.5s\tremaining: 4.09s\n",
      "754:\tlearn: 1264.0982447\ttotal: 12.5s\tremaining: 4.07s\n",
      "755:\tlearn: 1264.0185814\ttotal: 12.6s\tremaining: 4.05s\n",
      "756:\tlearn: 1263.9220982\ttotal: 12.6s\tremaining: 4.04s\n",
      "757:\tlearn: 1263.8019447\ttotal: 12.6s\tremaining: 4.02s\n",
      "758:\tlearn: 1263.7142198\ttotal: 12.6s\tremaining: 4s\n",
      "759:\tlearn: 1263.6263426\ttotal: 12.6s\tremaining: 3.99s\n",
      "760:\tlearn: 1263.5601086\ttotal: 12.6s\tremaining: 3.97s\n",
      "761:\tlearn: 1263.4722143\ttotal: 12.7s\tremaining: 3.95s\n",
      "762:\tlearn: 1263.3742860\ttotal: 12.7s\tremaining: 3.94s\n",
      "763:\tlearn: 1263.2510265\ttotal: 12.7s\tremaining: 3.92s\n",
      "764:\tlearn: 1263.1691723\ttotal: 12.7s\tremaining: 3.9s\n",
      "765:\tlearn: 1263.0531198\ttotal: 12.7s\tremaining: 3.89s\n",
      "766:\tlearn: 1262.9467654\ttotal: 12.7s\tremaining: 3.87s\n",
      "767:\tlearn: 1262.8406149\ttotal: 12.8s\tremaining: 3.85s\n",
      "768:\tlearn: 1262.7365923\ttotal: 12.8s\tremaining: 3.83s\n",
      "769:\tlearn: 1262.5972505\ttotal: 12.8s\tremaining: 3.82s\n",
      "770:\tlearn: 1262.5123365\ttotal: 12.8s\tremaining: 3.8s\n",
      "771:\tlearn: 1262.4218187\ttotal: 12.8s\tremaining: 3.79s\n",
      "772:\tlearn: 1262.3106122\ttotal: 12.8s\tremaining: 3.77s\n",
      "773:\tlearn: 1262.1426267\ttotal: 12.9s\tremaining: 3.75s\n",
      "774:\tlearn: 1262.0797041\ttotal: 12.9s\tremaining: 3.73s\n",
      "775:\tlearn: 1262.0045965\ttotal: 12.9s\tremaining: 3.72s\n",
      "776:\tlearn: 1261.9048915\ttotal: 12.9s\tremaining: 3.7s\n",
      "777:\tlearn: 1261.7781140\ttotal: 12.9s\tremaining: 3.69s\n",
      "778:\tlearn: 1261.7417327\ttotal: 12.9s\tremaining: 3.67s\n",
      "779:\tlearn: 1261.6736799\ttotal: 12.9s\tremaining: 3.65s\n",
      "780:\tlearn: 1261.5920378\ttotal: 13s\tremaining: 3.63s\n",
      "781:\tlearn: 1261.5018574\ttotal: 13s\tremaining: 3.62s\n",
      "782:\tlearn: 1261.4279694\ttotal: 13s\tremaining: 3.6s\n",
      "783:\tlearn: 1261.3150715\ttotal: 13s\tremaining: 3.59s\n",
      "784:\tlearn: 1261.1612375\ttotal: 13s\tremaining: 3.57s\n",
      "785:\tlearn: 1261.1265877\ttotal: 13s\tremaining: 3.55s\n",
      "786:\tlearn: 1260.9543107\ttotal: 13.1s\tremaining: 3.54s\n",
      "787:\tlearn: 1260.8714713\ttotal: 13.1s\tremaining: 3.52s\n",
      "788:\tlearn: 1260.7685625\ttotal: 13.1s\tremaining: 3.5s\n",
      "789:\tlearn: 1260.6432870\ttotal: 13.1s\tremaining: 3.49s\n",
      "790:\tlearn: 1260.5623847\ttotal: 13.1s\tremaining: 3.47s\n",
      "791:\tlearn: 1260.4573962\ttotal: 13.1s\tremaining: 3.45s\n",
      "792:\tlearn: 1260.2877221\ttotal: 13.2s\tremaining: 3.44s\n",
      "793:\tlearn: 1260.1252832\ttotal: 13.2s\tremaining: 3.42s\n",
      "794:\tlearn: 1260.0475149\ttotal: 13.2s\tremaining: 3.4s\n",
      "795:\tlearn: 1259.9258321\ttotal: 13.2s\tremaining: 3.38s\n",
      "796:\tlearn: 1259.8507876\ttotal: 13.2s\tremaining: 3.37s\n",
      "797:\tlearn: 1259.7923201\ttotal: 13.2s\tremaining: 3.35s\n",
      "798:\tlearn: 1259.6976837\ttotal: 13.3s\tremaining: 3.33s\n",
      "799:\tlearn: 1259.5885043\ttotal: 13.3s\tremaining: 3.32s\n",
      "800:\tlearn: 1259.4703861\ttotal: 13.3s\tremaining: 3.3s\n",
      "801:\tlearn: 1259.3076865\ttotal: 13.3s\tremaining: 3.28s\n",
      "802:\tlearn: 1259.1887109\ttotal: 13.3s\tremaining: 3.27s\n",
      "803:\tlearn: 1259.0818290\ttotal: 13.3s\tremaining: 3.25s\n",
      "804:\tlearn: 1259.0365768\ttotal: 13.3s\tremaining: 3.23s\n",
      "805:\tlearn: 1258.9798860\ttotal: 13.4s\tremaining: 3.22s\n",
      "806:\tlearn: 1258.9244881\ttotal: 13.4s\tremaining: 3.2s\n",
      "807:\tlearn: 1258.8147736\ttotal: 13.4s\tremaining: 3.18s\n",
      "808:\tlearn: 1258.7059360\ttotal: 13.4s\tremaining: 3.17s\n",
      "809:\tlearn: 1258.6236386\ttotal: 13.4s\tremaining: 3.15s\n",
      "810:\tlearn: 1258.5279859\ttotal: 13.4s\tremaining: 3.13s\n",
      "811:\tlearn: 1258.4768131\ttotal: 13.5s\tremaining: 3.12s\n",
      "812:\tlearn: 1258.4656169\ttotal: 13.5s\tremaining: 3.1s\n",
      "813:\tlearn: 1258.3404325\ttotal: 13.5s\tremaining: 3.08s\n",
      "814:\tlearn: 1258.2317977\ttotal: 13.5s\tremaining: 3.07s\n",
      "815:\tlearn: 1258.0715012\ttotal: 13.5s\tremaining: 3.05s\n",
      "816:\tlearn: 1258.0639932\ttotal: 13.5s\tremaining: 3.03s\n",
      "817:\tlearn: 1258.0018465\ttotal: 13.6s\tremaining: 3.02s\n",
      "818:\tlearn: 1257.9132610\ttotal: 13.6s\tremaining: 3s\n",
      "819:\tlearn: 1257.7973430\ttotal: 13.6s\tremaining: 2.98s\n",
      "820:\tlearn: 1257.7868302\ttotal: 13.6s\tremaining: 2.97s\n",
      "821:\tlearn: 1257.7194537\ttotal: 13.6s\tremaining: 2.95s\n",
      "822:\tlearn: 1257.6252512\ttotal: 13.6s\tremaining: 2.93s\n",
      "823:\tlearn: 1257.5649777\ttotal: 13.6s\tremaining: 2.92s\n",
      "824:\tlearn: 1257.5572804\ttotal: 13.7s\tremaining: 2.9s\n",
      "825:\tlearn: 1257.4562276\ttotal: 13.7s\tremaining: 2.88s\n",
      "826:\tlearn: 1257.3748067\ttotal: 13.7s\tremaining: 2.87s\n",
      "827:\tlearn: 1257.3040577\ttotal: 13.7s\tremaining: 2.85s\n",
      "828:\tlearn: 1257.2275210\ttotal: 13.7s\tremaining: 2.83s\n",
      "829:\tlearn: 1257.1466206\ttotal: 13.7s\tremaining: 2.81s\n",
      "830:\tlearn: 1257.1052256\ttotal: 13.8s\tremaining: 2.8s\n",
      "831:\tlearn: 1257.0139753\ttotal: 13.8s\tremaining: 2.78s\n",
      "832:\tlearn: 1256.8654024\ttotal: 13.8s\tremaining: 2.77s\n",
      "833:\tlearn: 1256.7777297\ttotal: 13.8s\tremaining: 2.75s\n",
      "834:\tlearn: 1256.6933029\ttotal: 13.8s\tremaining: 2.73s\n",
      "835:\tlearn: 1256.6151181\ttotal: 13.8s\tremaining: 2.71s\n",
      "836:\tlearn: 1256.5481355\ttotal: 13.9s\tremaining: 2.7s\n",
      "837:\tlearn: 1256.4304917\ttotal: 13.9s\tremaining: 2.68s\n",
      "838:\tlearn: 1256.3696496\ttotal: 13.9s\tremaining: 2.67s\n",
      "839:\tlearn: 1256.2404082\ttotal: 13.9s\tremaining: 2.65s\n",
      "840:\tlearn: 1256.1935996\ttotal: 13.9s\tremaining: 2.63s\n",
      "841:\tlearn: 1256.0873008\ttotal: 13.9s\tremaining: 2.62s\n",
      "842:\tlearn: 1256.0083400\ttotal: 14s\tremaining: 2.6s\n",
      "843:\tlearn: 1255.8678992\ttotal: 14s\tremaining: 2.58s\n",
      "844:\tlearn: 1255.7899506\ttotal: 14s\tremaining: 2.57s\n",
      "845:\tlearn: 1255.6961262\ttotal: 14s\tremaining: 2.55s\n",
      "846:\tlearn: 1255.5883987\ttotal: 14s\tremaining: 2.53s\n",
      "847:\tlearn: 1255.5788292\ttotal: 14s\tremaining: 2.52s\n",
      "848:\tlearn: 1255.5317240\ttotal: 14.1s\tremaining: 2.5s\n",
      "849:\tlearn: 1255.4243397\ttotal: 14.1s\tremaining: 2.48s\n",
      "850:\tlearn: 1255.2933068\ttotal: 14.1s\tremaining: 2.47s\n",
      "851:\tlearn: 1255.1954676\ttotal: 14.1s\tremaining: 2.45s\n",
      "852:\tlearn: 1255.1246474\ttotal: 14.1s\tremaining: 2.43s\n",
      "853:\tlearn: 1255.0189909\ttotal: 14.1s\tremaining: 2.42s\n",
      "854:\tlearn: 1254.9550084\ttotal: 14.2s\tremaining: 2.4s\n",
      "855:\tlearn: 1254.8468932\ttotal: 14.2s\tremaining: 2.38s\n",
      "856:\tlearn: 1254.7465385\ttotal: 14.2s\tremaining: 2.37s\n",
      "857:\tlearn: 1254.6674084\ttotal: 14.2s\tremaining: 2.35s\n",
      "858:\tlearn: 1254.6028358\ttotal: 14.2s\tremaining: 2.33s\n",
      "859:\tlearn: 1254.5312848\ttotal: 14.2s\tremaining: 2.32s\n",
      "860:\tlearn: 1254.4143911\ttotal: 14.3s\tremaining: 2.3s\n",
      "861:\tlearn: 1254.2590372\ttotal: 14.3s\tremaining: 2.29s\n",
      "862:\tlearn: 1254.1141442\ttotal: 14.3s\tremaining: 2.27s\n",
      "863:\tlearn: 1254.0310063\ttotal: 14.3s\tremaining: 2.25s\n",
      "864:\tlearn: 1253.8977813\ttotal: 14.3s\tremaining: 2.23s\n",
      "865:\tlearn: 1253.8075489\ttotal: 14.3s\tremaining: 2.22s\n",
      "866:\tlearn: 1253.7090684\ttotal: 14.4s\tremaining: 2.2s\n",
      "867:\tlearn: 1253.6997741\ttotal: 14.4s\tremaining: 2.18s\n",
      "868:\tlearn: 1253.5892346\ttotal: 14.4s\tremaining: 2.17s\n",
      "869:\tlearn: 1253.5389529\ttotal: 14.4s\tremaining: 2.15s\n",
      "870:\tlearn: 1253.4305487\ttotal: 14.4s\tremaining: 2.13s\n",
      "871:\tlearn: 1253.3135463\ttotal: 14.4s\tremaining: 2.12s\n",
      "872:\tlearn: 1253.2050525\ttotal: 14.4s\tremaining: 2.1s\n",
      "873:\tlearn: 1253.1226143\ttotal: 14.5s\tremaining: 2.08s\n",
      "874:\tlearn: 1253.0249811\ttotal: 14.5s\tremaining: 2.07s\n",
      "875:\tlearn: 1252.9084761\ttotal: 14.5s\tremaining: 2.05s\n",
      "876:\tlearn: 1252.8419951\ttotal: 14.5s\tremaining: 2.03s\n",
      "877:\tlearn: 1252.8012300\ttotal: 14.5s\tremaining: 2.02s\n",
      "878:\tlearn: 1252.7270365\ttotal: 14.5s\tremaining: 2s\n",
      "879:\tlearn: 1252.6428891\ttotal: 14.6s\tremaining: 1.98s\n",
      "880:\tlearn: 1252.5461717\ttotal: 14.6s\tremaining: 1.97s\n",
      "881:\tlearn: 1252.4141466\ttotal: 14.6s\tremaining: 1.95s\n",
      "882:\tlearn: 1252.3465303\ttotal: 14.6s\tremaining: 1.93s\n",
      "883:\tlearn: 1252.2964144\ttotal: 14.6s\tremaining: 1.92s\n",
      "884:\tlearn: 1252.2163010\ttotal: 14.6s\tremaining: 1.9s\n",
      "885:\tlearn: 1252.1276499\ttotal: 14.7s\tremaining: 1.89s\n",
      "886:\tlearn: 1252.0677411\ttotal: 14.7s\tremaining: 1.87s\n",
      "887:\tlearn: 1251.8802752\ttotal: 14.7s\tremaining: 1.85s\n",
      "888:\tlearn: 1251.8271235\ttotal: 14.7s\tremaining: 1.83s\n",
      "889:\tlearn: 1251.7660884\ttotal: 14.7s\tremaining: 1.82s\n",
      "890:\tlearn: 1251.6950453\ttotal: 14.7s\tremaining: 1.8s\n",
      "891:\tlearn: 1251.5669021\ttotal: 14.7s\tremaining: 1.78s\n",
      "892:\tlearn: 1251.5163620\ttotal: 14.8s\tremaining: 1.77s\n",
      "893:\tlearn: 1251.4679095\ttotal: 14.8s\tremaining: 1.75s\n",
      "894:\tlearn: 1251.4194982\ttotal: 14.8s\tremaining: 1.74s\n",
      "895:\tlearn: 1251.3415331\ttotal: 14.8s\tremaining: 1.72s\n",
      "896:\tlearn: 1251.1910069\ttotal: 14.8s\tremaining: 1.7s\n",
      "897:\tlearn: 1251.0998961\ttotal: 14.8s\tremaining: 1.69s\n",
      "898:\tlearn: 1251.0087687\ttotal: 14.9s\tremaining: 1.67s\n",
      "899:\tlearn: 1250.9302955\ttotal: 14.9s\tremaining: 1.65s\n",
      "900:\tlearn: 1250.8033620\ttotal: 14.9s\tremaining: 1.64s\n",
      "901:\tlearn: 1250.7318783\ttotal: 14.9s\tremaining: 1.62s\n",
      "902:\tlearn: 1250.6576300\ttotal: 14.9s\tremaining: 1.6s\n",
      "903:\tlearn: 1250.5454351\ttotal: 14.9s\tremaining: 1.59s\n",
      "904:\tlearn: 1250.4481015\ttotal: 15s\tremaining: 1.57s\n",
      "905:\tlearn: 1250.4024851\ttotal: 15s\tremaining: 1.55s\n",
      "906:\tlearn: 1250.3270835\ttotal: 15s\tremaining: 1.54s\n",
      "907:\tlearn: 1250.2440201\ttotal: 15s\tremaining: 1.52s\n",
      "908:\tlearn: 1250.1886642\ttotal: 15s\tremaining: 1.5s\n",
      "909:\tlearn: 1250.1009425\ttotal: 15s\tremaining: 1.49s\n",
      "910:\tlearn: 1250.0409493\ttotal: 15.1s\tremaining: 1.47s\n",
      "911:\tlearn: 1249.9825525\ttotal: 15.1s\tremaining: 1.45s\n",
      "912:\tlearn: 1249.9274194\ttotal: 15.1s\tremaining: 1.44s\n",
      "913:\tlearn: 1249.8254441\ttotal: 15.1s\tremaining: 1.42s\n",
      "914:\tlearn: 1249.8167062\ttotal: 15.1s\tremaining: 1.41s\n",
      "915:\tlearn: 1249.6561984\ttotal: 15.1s\tremaining: 1.39s\n",
      "916:\tlearn: 1249.5759792\ttotal: 15.2s\tremaining: 1.37s\n",
      "917:\tlearn: 1249.4528216\ttotal: 15.2s\tremaining: 1.35s\n",
      "918:\tlearn: 1249.4031380\ttotal: 15.2s\tremaining: 1.34s\n",
      "919:\tlearn: 1249.3368000\ttotal: 15.2s\tremaining: 1.32s\n",
      "920:\tlearn: 1249.2747103\ttotal: 15.2s\tremaining: 1.31s\n",
      "921:\tlearn: 1249.1439226\ttotal: 15.2s\tremaining: 1.29s\n",
      "922:\tlearn: 1249.0534754\ttotal: 15.3s\tremaining: 1.27s\n",
      "923:\tlearn: 1248.9507113\ttotal: 15.3s\tremaining: 1.26s\n",
      "924:\tlearn: 1248.8467546\ttotal: 15.3s\tremaining: 1.24s\n",
      "925:\tlearn: 1248.8383903\ttotal: 15.3s\tremaining: 1.22s\n",
      "926:\tlearn: 1248.7281526\ttotal: 15.3s\tremaining: 1.21s\n",
      "927:\tlearn: 1248.5929095\ttotal: 15.3s\tremaining: 1.19s\n",
      "928:\tlearn: 1248.5511327\ttotal: 15.4s\tremaining: 1.17s\n",
      "929:\tlearn: 1248.4341028\ttotal: 15.4s\tremaining: 1.16s\n",
      "930:\tlearn: 1248.3390054\ttotal: 15.4s\tremaining: 1.14s\n",
      "931:\tlearn: 1248.2180759\ttotal: 15.4s\tremaining: 1.12s\n",
      "932:\tlearn: 1248.1655067\ttotal: 15.4s\tremaining: 1.11s\n",
      "933:\tlearn: 1248.0549587\ttotal: 15.4s\tremaining: 1.09s\n",
      "934:\tlearn: 1247.9083834\ttotal: 15.5s\tremaining: 1.07s\n",
      "935:\tlearn: 1247.8400519\ttotal: 15.5s\tremaining: 1.06s\n",
      "936:\tlearn: 1247.7865860\ttotal: 15.5s\tremaining: 1.04s\n",
      "937:\tlearn: 1247.6860856\ttotal: 15.5s\tremaining: 1.02s\n",
      "938:\tlearn: 1247.6029427\ttotal: 15.5s\tremaining: 1.01s\n",
      "939:\tlearn: 1247.5496900\ttotal: 15.5s\tremaining: 992ms\n",
      "940:\tlearn: 1247.4597700\ttotal: 15.6s\tremaining: 975ms\n",
      "941:\tlearn: 1247.3822395\ttotal: 15.6s\tremaining: 959ms\n",
      "942:\tlearn: 1247.3027023\ttotal: 15.6s\tremaining: 943ms\n",
      "943:\tlearn: 1247.2235291\ttotal: 15.6s\tremaining: 926ms\n",
      "944:\tlearn: 1247.1607673\ttotal: 15.6s\tremaining: 909ms\n",
      "945:\tlearn: 1247.1126513\ttotal: 15.7s\tremaining: 893ms\n",
      "946:\tlearn: 1247.0480980\ttotal: 15.7s\tremaining: 877ms\n",
      "947:\tlearn: 1247.0442421\ttotal: 15.7s\tremaining: 860ms\n",
      "948:\tlearn: 1246.9704257\ttotal: 15.7s\tremaining: 844ms\n",
      "949:\tlearn: 1246.9057589\ttotal: 15.7s\tremaining: 827ms\n",
      "950:\tlearn: 1246.8412548\ttotal: 15.7s\tremaining: 810ms\n",
      "951:\tlearn: 1246.7473133\ttotal: 15.7s\tremaining: 794ms\n",
      "952:\tlearn: 1246.6890340\ttotal: 15.8s\tremaining: 777ms\n",
      "953:\tlearn: 1246.5813060\ttotal: 15.8s\tremaining: 761ms\n",
      "954:\tlearn: 1246.4465763\ttotal: 15.8s\tremaining: 744ms\n",
      "955:\tlearn: 1246.3926907\ttotal: 15.8s\tremaining: 728ms\n",
      "956:\tlearn: 1246.3172126\ttotal: 15.8s\tremaining: 711ms\n",
      "957:\tlearn: 1246.2492796\ttotal: 15.8s\tremaining: 695ms\n",
      "958:\tlearn: 1246.1792980\ttotal: 15.9s\tremaining: 678ms\n",
      "959:\tlearn: 1246.1310698\ttotal: 15.9s\tremaining: 661ms\n",
      "960:\tlearn: 1246.0533912\ttotal: 15.9s\tremaining: 645ms\n",
      "961:\tlearn: 1245.9708738\ttotal: 15.9s\tremaining: 628ms\n",
      "962:\tlearn: 1245.8663971\ttotal: 15.9s\tremaining: 612ms\n",
      "963:\tlearn: 1245.7731544\ttotal: 15.9s\tremaining: 595ms\n",
      "964:\tlearn: 1245.6789278\ttotal: 16s\tremaining: 579ms\n",
      "965:\tlearn: 1245.6288564\ttotal: 16s\tremaining: 562ms\n",
      "966:\tlearn: 1245.5676694\ttotal: 16s\tremaining: 546ms\n",
      "967:\tlearn: 1245.4935342\ttotal: 16s\tremaining: 529ms\n",
      "968:\tlearn: 1245.4019554\ttotal: 16s\tremaining: 513ms\n",
      "969:\tlearn: 1245.3122975\ttotal: 16s\tremaining: 496ms\n",
      "970:\tlearn: 1245.1972306\ttotal: 16.1s\tremaining: 480ms\n",
      "971:\tlearn: 1245.1408592\ttotal: 16.1s\tremaining: 463ms\n",
      "972:\tlearn: 1245.0927420\ttotal: 16.1s\tremaining: 446ms\n",
      "973:\tlearn: 1244.9678780\ttotal: 16.1s\tremaining: 430ms\n",
      "974:\tlearn: 1244.8710096\ttotal: 16.1s\tremaining: 413ms\n",
      "975:\tlearn: 1244.7789576\ttotal: 16.1s\tremaining: 397ms\n",
      "976:\tlearn: 1244.7281748\ttotal: 16.2s\tremaining: 380ms\n",
      "977:\tlearn: 1244.6500511\ttotal: 16.2s\tremaining: 364ms\n",
      "978:\tlearn: 1244.6039160\ttotal: 16.2s\tremaining: 347ms\n",
      "979:\tlearn: 1244.5020684\ttotal: 16.2s\tremaining: 331ms\n",
      "980:\tlearn: 1244.4738727\ttotal: 16.2s\tremaining: 314ms\n",
      "981:\tlearn: 1244.4124721\ttotal: 16.2s\tremaining: 298ms\n",
      "982:\tlearn: 1244.3583145\ttotal: 16.3s\tremaining: 281ms\n",
      "983:\tlearn: 1244.2701371\ttotal: 16.3s\tremaining: 265ms\n",
      "984:\tlearn: 1244.0932267\ttotal: 16.3s\tremaining: 248ms\n",
      "985:\tlearn: 1244.0049225\ttotal: 16.3s\tremaining: 232ms\n",
      "986:\tlearn: 1243.9570125\ttotal: 16.3s\tremaining: 215ms\n",
      "987:\tlearn: 1243.8713636\ttotal: 16.4s\tremaining: 199ms\n",
      "988:\tlearn: 1243.7683539\ttotal: 16.4s\tremaining: 182ms\n",
      "989:\tlearn: 1243.7285027\ttotal: 16.4s\tremaining: 166ms\n",
      "990:\tlearn: 1243.6466149\ttotal: 16.4s\tremaining: 149ms\n",
      "991:\tlearn: 1243.5270860\ttotal: 16.4s\tremaining: 132ms\n",
      "992:\tlearn: 1243.4342349\ttotal: 16.4s\tremaining: 116ms\n",
      "993:\tlearn: 1243.3445288\ttotal: 16.5s\tremaining: 99.4ms\n",
      "994:\tlearn: 1243.2710441\ttotal: 16.5s\tremaining: 82.8ms\n",
      "995:\tlearn: 1243.1894940\ttotal: 16.5s\tremaining: 66.3ms\n",
      "996:\tlearn: 1243.1128496\ttotal: 16.5s\tremaining: 49.7ms\n",
      "997:\tlearn: 1243.0317411\ttotal: 16.5s\tremaining: 33.1ms\n",
      "998:\tlearn: 1242.9459943\ttotal: 16.6s\tremaining: 16.6ms\n",
      "999:\tlearn: 1242.8635352\ttotal: 16.6s\tremaining: 0us\n",
      "Learning rate set to 0.088752\n",
      "0:\tlearn: 3381.5088839\ttotal: 17.6ms\tremaining: 17.6s\n",
      "1:\tlearn: 3205.9731024\ttotal: 36.2ms\tremaining: 18.1s\n",
      "2:\tlearn: 3044.0647017\ttotal: 55.9ms\tremaining: 18.6s\n",
      "3:\tlearn: 2895.8948849\ttotal: 81.1ms\tremaining: 20.2s\n",
      "4:\tlearn: 2763.3554171\ttotal: 99.9ms\tremaining: 19.9s\n",
      "5:\tlearn: 2650.9157619\ttotal: 117ms\tremaining: 19.4s\n",
      "6:\tlearn: 2547.2706453\ttotal: 135ms\tremaining: 19.1s\n",
      "7:\tlearn: 2452.5798205\ttotal: 154ms\tremaining: 19.1s\n",
      "8:\tlearn: 2367.3864025\ttotal: 179ms\tremaining: 19.7s\n",
      "9:\tlearn: 2293.6258981\ttotal: 196ms\tremaining: 19.4s\n",
      "10:\tlearn: 2226.5820626\ttotal: 213ms\tremaining: 19.1s\n",
      "11:\tlearn: 2167.2257066\ttotal: 229ms\tremaining: 18.9s\n",
      "12:\tlearn: 2114.0981513\ttotal: 247ms\tremaining: 18.7s\n",
      "13:\tlearn: 2067.2919557\ttotal: 272ms\tremaining: 19.1s\n",
      "14:\tlearn: 2027.3660813\ttotal: 288ms\tremaining: 18.9s\n",
      "15:\tlearn: 1989.4301417\ttotal: 305ms\tremaining: 18.7s\n",
      "16:\tlearn: 1953.7617949\ttotal: 321ms\tremaining: 18.6s\n",
      "17:\tlearn: 1924.3010866\ttotal: 339ms\tremaining: 18.5s\n",
      "18:\tlearn: 1897.5846515\ttotal: 355ms\tremaining: 18.3s\n",
      "19:\tlearn: 1868.3775764\ttotal: 378ms\tremaining: 18.5s\n",
      "20:\tlearn: 1841.8901840\ttotal: 395ms\tremaining: 18.4s\n",
      "21:\tlearn: 1821.4353855\ttotal: 412ms\tremaining: 18.3s\n",
      "22:\tlearn: 1802.0086915\ttotal: 432ms\tremaining: 18.3s\n",
      "23:\tlearn: 1784.1587986\ttotal: 451ms\tremaining: 18.4s\n",
      "24:\tlearn: 1763.5819317\ttotal: 477ms\tremaining: 18.6s\n",
      "25:\tlearn: 1748.7597342\ttotal: 493ms\tremaining: 18.4s\n",
      "26:\tlearn: 1735.1982962\ttotal: 508ms\tremaining: 18.3s\n",
      "27:\tlearn: 1721.7751362\ttotal: 523ms\tremaining: 18.2s\n",
      "28:\tlearn: 1708.6678993\ttotal: 539ms\tremaining: 18s\n",
      "29:\tlearn: 1694.5762858\ttotal: 563ms\tremaining: 18.2s\n",
      "30:\tlearn: 1682.6587697\ttotal: 580ms\tremaining: 18.1s\n",
      "31:\tlearn: 1672.6293869\ttotal: 595ms\tremaining: 18s\n",
      "32:\tlearn: 1662.6514846\ttotal: 612ms\tremaining: 17.9s\n",
      "33:\tlearn: 1654.6031698\ttotal: 629ms\tremaining: 17.9s\n",
      "34:\tlearn: 1642.8498789\ttotal: 649ms\tremaining: 17.9s\n",
      "35:\tlearn: 1634.1763151\ttotal: 671ms\tremaining: 18s\n",
      "36:\tlearn: 1626.4041135\ttotal: 688ms\tremaining: 17.9s\n",
      "37:\tlearn: 1619.1074697\ttotal: 704ms\tremaining: 17.8s\n",
      "38:\tlearn: 1612.7795619\ttotal: 720ms\tremaining: 17.7s\n",
      "39:\tlearn: 1607.1093106\ttotal: 736ms\tremaining: 17.7s\n",
      "40:\tlearn: 1601.8974805\ttotal: 759ms\tremaining: 17.7s\n",
      "41:\tlearn: 1594.5697166\ttotal: 775ms\tremaining: 17.7s\n",
      "42:\tlearn: 1589.8414661\ttotal: 791ms\tremaining: 17.6s\n",
      "43:\tlearn: 1584.4999856\ttotal: 806ms\tremaining: 17.5s\n",
      "44:\tlearn: 1579.5186677\ttotal: 822ms\tremaining: 17.4s\n",
      "45:\tlearn: 1574.8933550\ttotal: 839ms\tremaining: 17.4s\n",
      "46:\tlearn: 1570.2603955\ttotal: 859ms\tremaining: 17.4s\n",
      "47:\tlearn: 1565.4429818\ttotal: 875ms\tremaining: 17.4s\n",
      "48:\tlearn: 1561.9732452\ttotal: 891ms\tremaining: 17.3s\n",
      "49:\tlearn: 1557.1857571\ttotal: 906ms\tremaining: 17.2s\n",
      "50:\tlearn: 1553.2849313\ttotal: 924ms\tremaining: 17.2s\n",
      "51:\tlearn: 1550.1895158\ttotal: 947ms\tremaining: 17.3s\n",
      "52:\tlearn: 1547.3421226\ttotal: 962ms\tremaining: 17.2s\n",
      "53:\tlearn: 1544.1687771\ttotal: 979ms\tremaining: 17.1s\n",
      "54:\tlearn: 1540.9084057\ttotal: 995ms\tremaining: 17.1s\n",
      "55:\tlearn: 1538.4229454\ttotal: 1.01s\tremaining: 17.1s\n",
      "56:\tlearn: 1533.9501910\ttotal: 1.04s\tremaining: 17.2s\n",
      "57:\tlearn: 1530.8301236\ttotal: 1.06s\tremaining: 17.3s\n",
      "58:\tlearn: 1526.9502038\ttotal: 1.08s\tremaining: 17.3s\n",
      "59:\tlearn: 1522.7497516\ttotal: 1.11s\tremaining: 17.3s\n",
      "60:\tlearn: 1520.2194908\ttotal: 1.13s\tremaining: 17.3s\n",
      "61:\tlearn: 1517.1477484\ttotal: 1.15s\tremaining: 17.4s\n",
      "62:\tlearn: 1514.0423593\ttotal: 1.17s\tremaining: 17.4s\n",
      "63:\tlearn: 1511.6422659\ttotal: 1.2s\tremaining: 17.5s\n",
      "64:\tlearn: 1509.0667844\ttotal: 1.22s\tremaining: 17.6s\n",
      "65:\tlearn: 1506.7342740\ttotal: 1.25s\tremaining: 17.7s\n",
      "66:\tlearn: 1504.6609033\ttotal: 1.27s\tremaining: 17.7s\n",
      "67:\tlearn: 1502.7454167\ttotal: 1.28s\tremaining: 17.6s\n",
      "68:\tlearn: 1501.1058338\ttotal: 1.3s\tremaining: 17.6s\n",
      "69:\tlearn: 1498.5295625\ttotal: 1.32s\tremaining: 17.6s\n",
      "70:\tlearn: 1497.0040221\ttotal: 1.34s\tremaining: 17.6s\n",
      "71:\tlearn: 1494.9855011\ttotal: 1.36s\tremaining: 17.5s\n",
      "72:\tlearn: 1493.7097445\ttotal: 1.38s\tremaining: 17.5s\n",
      "73:\tlearn: 1491.0844756\ttotal: 1.4s\tremaining: 17.5s\n",
      "74:\tlearn: 1489.6205430\ttotal: 1.42s\tremaining: 17.5s\n",
      "75:\tlearn: 1488.4438823\ttotal: 1.44s\tremaining: 17.5s\n",
      "76:\tlearn: 1487.0932890\ttotal: 1.45s\tremaining: 17.4s\n",
      "77:\tlearn: 1485.3733818\ttotal: 1.47s\tremaining: 17.4s\n",
      "78:\tlearn: 1484.1868766\ttotal: 1.48s\tremaining: 17.3s\n",
      "79:\tlearn: 1482.6670345\ttotal: 1.5s\tremaining: 17.2s\n",
      "80:\tlearn: 1480.4331778\ttotal: 1.52s\tremaining: 17.2s\n",
      "81:\tlearn: 1478.8618947\ttotal: 1.53s\tremaining: 17.2s\n",
      "82:\tlearn: 1477.4601094\ttotal: 1.55s\tremaining: 17.1s\n",
      "83:\tlearn: 1476.0544519\ttotal: 1.56s\tremaining: 17.1s\n",
      "84:\tlearn: 1473.6502269\ttotal: 1.58s\tremaining: 17s\n",
      "85:\tlearn: 1472.4727399\ttotal: 1.6s\tremaining: 17s\n",
      "86:\tlearn: 1470.1162967\ttotal: 1.62s\tremaining: 17s\n",
      "87:\tlearn: 1468.8278972\ttotal: 1.64s\tremaining: 16.9s\n",
      "88:\tlearn: 1467.8666094\ttotal: 1.65s\tremaining: 16.9s\n",
      "89:\tlearn: 1465.9003868\ttotal: 1.67s\tremaining: 16.8s\n",
      "90:\tlearn: 1464.7150186\ttotal: 1.68s\tremaining: 16.8s\n",
      "91:\tlearn: 1463.8451504\ttotal: 1.69s\tremaining: 16.7s\n",
      "92:\tlearn: 1462.8705433\ttotal: 1.72s\tremaining: 16.7s\n",
      "93:\tlearn: 1462.0095866\ttotal: 1.73s\tremaining: 16.7s\n",
      "94:\tlearn: 1461.2156440\ttotal: 1.75s\tremaining: 16.6s\n",
      "95:\tlearn: 1460.0710165\ttotal: 1.76s\tremaining: 16.6s\n",
      "96:\tlearn: 1458.0815924\ttotal: 1.78s\tremaining: 16.6s\n",
      "97:\tlearn: 1456.7551357\ttotal: 1.79s\tremaining: 16.5s\n",
      "98:\tlearn: 1455.5903076\ttotal: 1.82s\tremaining: 16.5s\n",
      "99:\tlearn: 1454.1750376\ttotal: 1.83s\tremaining: 16.5s\n",
      "100:\tlearn: 1452.6403632\ttotal: 1.85s\tremaining: 16.4s\n",
      "101:\tlearn: 1450.7449993\ttotal: 1.86s\tremaining: 16.4s\n",
      "102:\tlearn: 1449.6814048\ttotal: 1.88s\tremaining: 16.4s\n",
      "103:\tlearn: 1448.4687477\ttotal: 1.9s\tremaining: 16.3s\n",
      "104:\tlearn: 1447.5152926\ttotal: 1.92s\tremaining: 16.3s\n",
      "105:\tlearn: 1446.3839138\ttotal: 1.93s\tremaining: 16.3s\n",
      "106:\tlearn: 1445.1786248\ttotal: 1.95s\tremaining: 16.3s\n",
      "107:\tlearn: 1444.1011175\ttotal: 1.96s\tremaining: 16.2s\n",
      "108:\tlearn: 1443.4465470\ttotal: 1.98s\tremaining: 16.2s\n",
      "109:\tlearn: 1442.7827282\ttotal: 1.99s\tremaining: 16.1s\n",
      "110:\tlearn: 1441.8795320\ttotal: 2.01s\tremaining: 16.1s\n",
      "111:\tlearn: 1440.6111955\ttotal: 2.03s\tremaining: 16.1s\n",
      "112:\tlearn: 1439.6450612\ttotal: 2.04s\tremaining: 16s\n",
      "113:\tlearn: 1437.7106996\ttotal: 2.06s\tremaining: 16s\n",
      "114:\tlearn: 1436.8554262\ttotal: 2.07s\tremaining: 16s\n",
      "115:\tlearn: 1435.9462811\ttotal: 2.1s\tremaining: 16s\n",
      "116:\tlearn: 1435.1369001\ttotal: 2.11s\tremaining: 15.9s\n",
      "117:\tlearn: 1434.5327874\ttotal: 2.13s\tremaining: 15.9s\n",
      "118:\tlearn: 1432.9410137\ttotal: 2.14s\tremaining: 15.9s\n",
      "119:\tlearn: 1431.8490219\ttotal: 2.16s\tremaining: 15.8s\n",
      "120:\tlearn: 1430.8842762\ttotal: 2.17s\tremaining: 15.8s\n",
      "121:\tlearn: 1429.5907383\ttotal: 2.2s\tremaining: 15.8s\n",
      "122:\tlearn: 1429.0184354\ttotal: 2.21s\tremaining: 15.8s\n",
      "123:\tlearn: 1428.1059324\ttotal: 2.23s\tremaining: 15.7s\n",
      "124:\tlearn: 1427.3504021\ttotal: 2.24s\tremaining: 15.7s\n",
      "125:\tlearn: 1425.9764270\ttotal: 2.26s\tremaining: 15.7s\n",
      "126:\tlearn: 1425.3069829\ttotal: 2.27s\tremaining: 15.6s\n",
      "127:\tlearn: 1424.4422999\ttotal: 2.29s\tremaining: 15.6s\n",
      "128:\tlearn: 1423.4774014\ttotal: 2.31s\tremaining: 15.6s\n",
      "129:\tlearn: 1422.9238150\ttotal: 2.33s\tremaining: 15.6s\n",
      "130:\tlearn: 1422.3388991\ttotal: 2.34s\tremaining: 15.5s\n",
      "131:\tlearn: 1421.6291081\ttotal: 2.35s\tremaining: 15.5s\n",
      "132:\tlearn: 1420.8263909\ttotal: 2.37s\tremaining: 15.4s\n",
      "133:\tlearn: 1419.5713369\ttotal: 2.39s\tremaining: 15.5s\n",
      "134:\tlearn: 1418.9993329\ttotal: 2.4s\tremaining: 15.4s\n",
      "135:\tlearn: 1418.4583155\ttotal: 2.42s\tremaining: 15.4s\n",
      "136:\tlearn: 1417.8405160\ttotal: 2.43s\tremaining: 15.3s\n",
      "137:\tlearn: 1417.2912110\ttotal: 2.45s\tremaining: 15.3s\n",
      "138:\tlearn: 1416.5985984\ttotal: 2.46s\tremaining: 15.3s\n",
      "139:\tlearn: 1415.5429345\ttotal: 2.49s\tremaining: 15.3s\n",
      "140:\tlearn: 1414.9524108\ttotal: 2.5s\tremaining: 15.2s\n",
      "141:\tlearn: 1414.4993608\ttotal: 2.51s\tremaining: 15.2s\n",
      "142:\tlearn: 1413.9594719\ttotal: 2.53s\tremaining: 15.2s\n",
      "143:\tlearn: 1412.9601969\ttotal: 2.54s\tremaining: 15.1s\n",
      "144:\tlearn: 1412.5083062\ttotal: 2.56s\tremaining: 15.1s\n",
      "145:\tlearn: 1411.6942381\ttotal: 2.58s\tremaining: 15.1s\n",
      "146:\tlearn: 1411.2641142\ttotal: 2.6s\tremaining: 15.1s\n",
      "147:\tlearn: 1410.6811009\ttotal: 2.61s\tremaining: 15s\n",
      "148:\tlearn: 1409.6883195\ttotal: 2.63s\tremaining: 15s\n",
      "149:\tlearn: 1408.6087014\ttotal: 2.64s\tremaining: 15s\n",
      "150:\tlearn: 1407.7937544\ttotal: 2.66s\tremaining: 15s\n",
      "151:\tlearn: 1406.9543686\ttotal: 2.68s\tremaining: 15s\n",
      "152:\tlearn: 1406.0403478\ttotal: 2.7s\tremaining: 14.9s\n",
      "153:\tlearn: 1405.5708125\ttotal: 2.71s\tremaining: 14.9s\n",
      "154:\tlearn: 1404.5853585\ttotal: 2.73s\tremaining: 14.9s\n",
      "155:\tlearn: 1404.1730447\ttotal: 2.74s\tremaining: 14.8s\n",
      "156:\tlearn: 1403.3743576\ttotal: 2.76s\tremaining: 14.8s\n",
      "157:\tlearn: 1402.5555182\ttotal: 2.78s\tremaining: 14.8s\n",
      "158:\tlearn: 1401.9197086\ttotal: 2.79s\tremaining: 14.8s\n",
      "159:\tlearn: 1401.2107181\ttotal: 2.81s\tremaining: 14.7s\n",
      "160:\tlearn: 1400.3658359\ttotal: 2.82s\tremaining: 14.7s\n",
      "161:\tlearn: 1399.6075956\ttotal: 2.84s\tremaining: 14.7s\n",
      "162:\tlearn: 1399.1566747\ttotal: 2.85s\tremaining: 14.7s\n",
      "163:\tlearn: 1398.4958222\ttotal: 2.87s\tremaining: 14.7s\n",
      "164:\tlearn: 1397.8711926\ttotal: 2.89s\tremaining: 14.6s\n",
      "165:\tlearn: 1397.4514412\ttotal: 2.9s\tremaining: 14.6s\n",
      "166:\tlearn: 1396.7474252\ttotal: 2.92s\tremaining: 14.6s\n",
      "167:\tlearn: 1395.9147909\ttotal: 2.93s\tremaining: 14.5s\n",
      "168:\tlearn: 1395.4378952\ttotal: 2.95s\tremaining: 14.5s\n",
      "169:\tlearn: 1394.7997743\ttotal: 2.97s\tremaining: 14.5s\n",
      "170:\tlearn: 1394.3806151\ttotal: 2.98s\tremaining: 14.5s\n",
      "171:\tlearn: 1393.5469542\ttotal: 3s\tremaining: 14.4s\n",
      "172:\tlearn: 1393.0102736\ttotal: 3.01s\tremaining: 14.4s\n",
      "173:\tlearn: 1392.3464149\ttotal: 3.03s\tremaining: 14.4s\n",
      "174:\tlearn: 1391.8326851\ttotal: 3.04s\tremaining: 14.4s\n",
      "175:\tlearn: 1391.0351596\ttotal: 3.07s\tremaining: 14.4s\n",
      "176:\tlearn: 1390.7079764\ttotal: 3.08s\tremaining: 14.3s\n",
      "177:\tlearn: 1389.9652796\ttotal: 3.1s\tremaining: 14.3s\n",
      "178:\tlearn: 1389.4453341\ttotal: 3.11s\tremaining: 14.3s\n",
      "179:\tlearn: 1388.6027030\ttotal: 3.13s\tremaining: 14.2s\n",
      "180:\tlearn: 1388.1882468\ttotal: 3.14s\tremaining: 14.2s\n",
      "181:\tlearn: 1387.3894287\ttotal: 3.16s\tremaining: 14.2s\n",
      "182:\tlearn: 1386.9102217\ttotal: 3.18s\tremaining: 14.2s\n",
      "183:\tlearn: 1386.0054341\ttotal: 3.19s\tremaining: 14.2s\n",
      "184:\tlearn: 1385.2834602\ttotal: 3.21s\tremaining: 14.1s\n",
      "185:\tlearn: 1384.7428853\ttotal: 3.22s\tremaining: 14.1s\n",
      "186:\tlearn: 1384.3472118\ttotal: 3.24s\tremaining: 14.1s\n",
      "187:\tlearn: 1383.8640652\ttotal: 3.26s\tremaining: 14.1s\n",
      "188:\tlearn: 1383.3859850\ttotal: 3.27s\tremaining: 14.1s\n",
      "189:\tlearn: 1382.9777587\ttotal: 3.29s\tremaining: 14s\n",
      "190:\tlearn: 1382.2334036\ttotal: 3.3s\tremaining: 14s\n",
      "191:\tlearn: 1381.8621199\ttotal: 3.32s\tremaining: 14s\n",
      "192:\tlearn: 1381.4476330\ttotal: 3.33s\tremaining: 13.9s\n",
      "193:\tlearn: 1380.6276747\ttotal: 3.35s\tremaining: 13.9s\n",
      "194:\tlearn: 1380.2708142\ttotal: 3.37s\tremaining: 13.9s\n",
      "195:\tlearn: 1379.7714676\ttotal: 3.38s\tremaining: 13.9s\n",
      "196:\tlearn: 1379.0299193\ttotal: 3.4s\tremaining: 13.9s\n",
      "197:\tlearn: 1378.5981574\ttotal: 3.42s\tremaining: 13.8s\n",
      "198:\tlearn: 1378.1059042\ttotal: 3.43s\tremaining: 13.8s\n",
      "199:\tlearn: 1377.8034943\ttotal: 3.45s\tremaining: 13.8s\n",
      "200:\tlearn: 1377.2357553\ttotal: 3.46s\tremaining: 13.8s\n",
      "201:\tlearn: 1376.8419028\ttotal: 3.48s\tremaining: 13.8s\n",
      "202:\tlearn: 1376.3173428\ttotal: 3.5s\tremaining: 13.7s\n",
      "203:\tlearn: 1375.7163653\ttotal: 3.51s\tremaining: 13.7s\n",
      "204:\tlearn: 1375.4624241\ttotal: 3.53s\tremaining: 13.7s\n",
      "205:\tlearn: 1375.0854201\ttotal: 3.55s\tremaining: 13.7s\n",
      "206:\tlearn: 1374.2801610\ttotal: 3.57s\tremaining: 13.7s\n",
      "207:\tlearn: 1373.8739733\ttotal: 3.58s\tremaining: 13.6s\n",
      "208:\tlearn: 1373.4109173\ttotal: 3.6s\tremaining: 13.6s\n",
      "209:\tlearn: 1372.5859479\ttotal: 3.62s\tremaining: 13.6s\n",
      "210:\tlearn: 1372.1228576\ttotal: 3.64s\tremaining: 13.6s\n",
      "211:\tlearn: 1371.5726703\ttotal: 3.65s\tremaining: 13.6s\n",
      "212:\tlearn: 1371.0336612\ttotal: 3.67s\tremaining: 13.6s\n",
      "213:\tlearn: 1370.6741267\ttotal: 3.68s\tremaining: 13.5s\n",
      "214:\tlearn: 1370.2804256\ttotal: 3.7s\tremaining: 13.5s\n",
      "215:\tlearn: 1369.9625895\ttotal: 3.71s\tremaining: 13.5s\n",
      "216:\tlearn: 1369.6462754\ttotal: 3.73s\tremaining: 13.5s\n",
      "217:\tlearn: 1369.2645827\ttotal: 3.75s\tremaining: 13.4s\n",
      "218:\tlearn: 1368.8549396\ttotal: 3.76s\tremaining: 13.4s\n",
      "219:\tlearn: 1368.4221913\ttotal: 3.78s\tremaining: 13.4s\n",
      "220:\tlearn: 1367.9131157\ttotal: 3.79s\tremaining: 13.4s\n",
      "221:\tlearn: 1367.2510382\ttotal: 3.81s\tremaining: 13.4s\n",
      "222:\tlearn: 1366.8297364\ttotal: 3.83s\tremaining: 13.4s\n",
      "223:\tlearn: 1366.5104057\ttotal: 3.85s\tremaining: 13.3s\n",
      "224:\tlearn: 1366.0454931\ttotal: 3.86s\tremaining: 13.3s\n",
      "225:\tlearn: 1365.5577926\ttotal: 3.88s\tremaining: 13.3s\n",
      "226:\tlearn: 1365.0416194\ttotal: 3.9s\tremaining: 13.3s\n",
      "227:\tlearn: 1364.6615537\ttotal: 3.91s\tremaining: 13.2s\n",
      "228:\tlearn: 1364.1501565\ttotal: 3.93s\tremaining: 13.2s\n",
      "229:\tlearn: 1363.7219107\ttotal: 3.95s\tremaining: 13.2s\n",
      "230:\tlearn: 1363.2129668\ttotal: 3.97s\tremaining: 13.2s\n",
      "231:\tlearn: 1362.7366386\ttotal: 3.98s\tremaining: 13.2s\n",
      "232:\tlearn: 1362.3685187\ttotal: 4s\tremaining: 13.2s\n",
      "233:\tlearn: 1361.8819313\ttotal: 4.02s\tremaining: 13.2s\n",
      "234:\tlearn: 1361.4677014\ttotal: 4.04s\tremaining: 13.1s\n",
      "235:\tlearn: 1361.2215487\ttotal: 4.05s\tremaining: 13.1s\n",
      "236:\tlearn: 1360.6173376\ttotal: 4.07s\tremaining: 13.1s\n",
      "237:\tlearn: 1360.2689529\ttotal: 4.08s\tremaining: 13.1s\n",
      "238:\tlearn: 1360.0784297\ttotal: 4.1s\tremaining: 13s\n",
      "239:\tlearn: 1359.8054569\ttotal: 4.12s\tremaining: 13.1s\n",
      "240:\tlearn: 1359.2525170\ttotal: 4.14s\tremaining: 13s\n",
      "241:\tlearn: 1358.8567963\ttotal: 4.15s\tremaining: 13s\n",
      "242:\tlearn: 1358.6320054\ttotal: 4.17s\tremaining: 13s\n",
      "243:\tlearn: 1358.0940757\ttotal: 4.18s\tremaining: 13s\n",
      "244:\tlearn: 1357.3959442\ttotal: 4.2s\tremaining: 13s\n",
      "245:\tlearn: 1357.0542837\ttotal: 4.22s\tremaining: 12.9s\n",
      "246:\tlearn: 1356.7582740\ttotal: 4.24s\tremaining: 12.9s\n",
      "247:\tlearn: 1356.4259640\ttotal: 4.25s\tremaining: 12.9s\n",
      "248:\tlearn: 1356.0962002\ttotal: 4.27s\tremaining: 12.9s\n",
      "249:\tlearn: 1355.6616704\ttotal: 4.28s\tremaining: 12.8s\n",
      "250:\tlearn: 1355.2426253\ttotal: 4.3s\tremaining: 12.8s\n",
      "251:\tlearn: 1354.8867188\ttotal: 4.32s\tremaining: 12.8s\n",
      "252:\tlearn: 1354.5992135\ttotal: 4.33s\tremaining: 12.8s\n",
      "253:\tlearn: 1354.3769127\ttotal: 4.35s\tremaining: 12.8s\n",
      "254:\tlearn: 1354.0063498\ttotal: 4.36s\tremaining: 12.7s\n",
      "255:\tlearn: 1353.7160278\ttotal: 4.38s\tremaining: 12.7s\n",
      "256:\tlearn: 1353.3308015\ttotal: 4.39s\tremaining: 12.7s\n",
      "257:\tlearn: 1352.9964635\ttotal: 4.41s\tremaining: 12.7s\n",
      "258:\tlearn: 1352.6087057\ttotal: 4.43s\tremaining: 12.7s\n",
      "259:\tlearn: 1352.2655526\ttotal: 4.45s\tremaining: 12.7s\n",
      "260:\tlearn: 1351.9716990\ttotal: 4.46s\tremaining: 12.6s\n",
      "261:\tlearn: 1351.5291137\ttotal: 4.47s\tremaining: 12.6s\n",
      "262:\tlearn: 1351.2336615\ttotal: 4.5s\tremaining: 12.6s\n",
      "263:\tlearn: 1350.9400736\ttotal: 4.51s\tremaining: 12.6s\n",
      "264:\tlearn: 1350.6516042\ttotal: 4.53s\tremaining: 12.6s\n",
      "265:\tlearn: 1350.3526401\ttotal: 4.54s\tremaining: 12.5s\n",
      "266:\tlearn: 1350.0465600\ttotal: 4.56s\tremaining: 12.5s\n",
      "267:\tlearn: 1349.7862288\ttotal: 4.57s\tremaining: 12.5s\n",
      "268:\tlearn: 1349.2362569\ttotal: 4.59s\tremaining: 12.5s\n",
      "269:\tlearn: 1348.8997556\ttotal: 4.61s\tremaining: 12.5s\n",
      "270:\tlearn: 1348.5936724\ttotal: 4.63s\tremaining: 12.4s\n",
      "271:\tlearn: 1348.1012613\ttotal: 4.64s\tremaining: 12.4s\n",
      "272:\tlearn: 1347.8627755\ttotal: 4.66s\tremaining: 12.4s\n",
      "273:\tlearn: 1347.5508864\ttotal: 4.67s\tremaining: 12.4s\n",
      "274:\tlearn: 1347.2812921\ttotal: 4.7s\tremaining: 12.4s\n",
      "275:\tlearn: 1346.9592717\ttotal: 4.71s\tremaining: 12.4s\n",
      "276:\tlearn: 1346.4891052\ttotal: 4.73s\tremaining: 12.3s\n",
      "277:\tlearn: 1346.1360895\ttotal: 4.75s\tremaining: 12.3s\n",
      "278:\tlearn: 1345.7090447\ttotal: 4.76s\tremaining: 12.3s\n",
      "279:\tlearn: 1345.4212197\ttotal: 4.78s\tremaining: 12.3s\n",
      "280:\tlearn: 1345.1082833\ttotal: 4.8s\tremaining: 12.3s\n",
      "281:\tlearn: 1344.8761733\ttotal: 4.81s\tremaining: 12.3s\n",
      "282:\tlearn: 1344.5880426\ttotal: 4.83s\tremaining: 12.2s\n",
      "283:\tlearn: 1344.2498447\ttotal: 4.84s\tremaining: 12.2s\n",
      "284:\tlearn: 1343.7507445\ttotal: 4.86s\tremaining: 12.2s\n",
      "285:\tlearn: 1343.4318226\ttotal: 4.88s\tremaining: 12.2s\n",
      "286:\tlearn: 1343.1964382\ttotal: 4.9s\tremaining: 12.2s\n",
      "287:\tlearn: 1343.0208916\ttotal: 4.91s\tremaining: 12.1s\n",
      "288:\tlearn: 1342.7471116\ttotal: 4.93s\tremaining: 12.1s\n",
      "289:\tlearn: 1342.3497701\ttotal: 4.94s\tremaining: 12.1s\n",
      "290:\tlearn: 1342.1279774\ttotal: 4.96s\tremaining: 12.1s\n",
      "291:\tlearn: 1341.6162770\ttotal: 4.98s\tremaining: 12.1s\n",
      "292:\tlearn: 1341.2791828\ttotal: 4.99s\tremaining: 12s\n",
      "293:\tlearn: 1341.0142694\ttotal: 5.01s\tremaining: 12s\n",
      "294:\tlearn: 1340.6784227\ttotal: 5.03s\tremaining: 12s\n",
      "295:\tlearn: 1340.3177706\ttotal: 5.04s\tremaining: 12s\n",
      "296:\tlearn: 1340.0149180\ttotal: 5.06s\tremaining: 12s\n",
      "297:\tlearn: 1339.4672731\ttotal: 5.08s\tremaining: 12s\n",
      "298:\tlearn: 1339.1285221\ttotal: 5.1s\tremaining: 12s\n",
      "299:\tlearn: 1338.7101100\ttotal: 5.11s\tremaining: 11.9s\n",
      "300:\tlearn: 1338.4846634\ttotal: 5.13s\tremaining: 11.9s\n",
      "301:\tlearn: 1338.2660407\ttotal: 5.14s\tremaining: 11.9s\n",
      "302:\tlearn: 1337.9592153\ttotal: 5.16s\tremaining: 11.9s\n",
      "303:\tlearn: 1337.6224763\ttotal: 5.18s\tremaining: 11.9s\n",
      "304:\tlearn: 1337.4295924\ttotal: 5.2s\tremaining: 11.8s\n",
      "305:\tlearn: 1337.2409410\ttotal: 5.21s\tremaining: 11.8s\n",
      "306:\tlearn: 1336.9226085\ttotal: 5.22s\tremaining: 11.8s\n",
      "307:\tlearn: 1336.6160894\ttotal: 5.24s\tremaining: 11.8s\n",
      "308:\tlearn: 1336.3437317\ttotal: 5.25s\tremaining: 11.7s\n",
      "309:\tlearn: 1336.0033446\ttotal: 5.27s\tremaining: 11.7s\n",
      "310:\tlearn: 1335.7028155\ttotal: 5.29s\tremaining: 11.7s\n",
      "311:\tlearn: 1335.4830948\ttotal: 5.3s\tremaining: 11.7s\n",
      "312:\tlearn: 1335.2852923\ttotal: 5.32s\tremaining: 11.7s\n",
      "313:\tlearn: 1335.0684456\ttotal: 5.34s\tremaining: 11.7s\n",
      "314:\tlearn: 1334.6989338\ttotal: 5.35s\tremaining: 11.6s\n",
      "315:\tlearn: 1334.4387641\ttotal: 5.37s\tremaining: 11.6s\n",
      "316:\tlearn: 1334.1633669\ttotal: 5.38s\tremaining: 11.6s\n",
      "317:\tlearn: 1334.0128510\ttotal: 5.4s\tremaining: 11.6s\n",
      "318:\tlearn: 1333.7704298\ttotal: 5.42s\tremaining: 11.6s\n",
      "319:\tlearn: 1333.5017690\ttotal: 5.43s\tremaining: 11.5s\n",
      "320:\tlearn: 1333.2649051\ttotal: 5.46s\tremaining: 11.5s\n",
      "321:\tlearn: 1332.9112464\ttotal: 5.47s\tremaining: 11.5s\n",
      "322:\tlearn: 1332.5494673\ttotal: 5.49s\tremaining: 11.5s\n",
      "323:\tlearn: 1332.2098778\ttotal: 5.5s\tremaining: 11.5s\n",
      "324:\tlearn: 1331.9883931\ttotal: 5.52s\tremaining: 11.5s\n",
      "325:\tlearn: 1331.5973447\ttotal: 5.53s\tremaining: 11.4s\n",
      "326:\tlearn: 1331.2301645\ttotal: 5.56s\tremaining: 11.4s\n",
      "327:\tlearn: 1331.0168357\ttotal: 5.57s\tremaining: 11.4s\n",
      "328:\tlearn: 1330.5394326\ttotal: 5.59s\tremaining: 11.4s\n",
      "329:\tlearn: 1330.3323210\ttotal: 5.6s\tremaining: 11.4s\n",
      "330:\tlearn: 1330.0555822\ttotal: 5.62s\tremaining: 11.4s\n",
      "331:\tlearn: 1329.8238260\ttotal: 5.64s\tremaining: 11.4s\n",
      "332:\tlearn: 1329.4611448\ttotal: 5.66s\tremaining: 11.3s\n",
      "333:\tlearn: 1329.2214753\ttotal: 5.67s\tremaining: 11.3s\n",
      "334:\tlearn: 1329.0690717\ttotal: 5.69s\tremaining: 11.3s\n",
      "335:\tlearn: 1328.9218084\ttotal: 5.7s\tremaining: 11.3s\n",
      "336:\tlearn: 1328.7142321\ttotal: 5.72s\tremaining: 11.3s\n",
      "337:\tlearn: 1328.3941069\ttotal: 5.74s\tremaining: 11.2s\n",
      "338:\tlearn: 1328.2298029\ttotal: 5.76s\tremaining: 11.2s\n",
      "339:\tlearn: 1328.0069521\ttotal: 5.77s\tremaining: 11.2s\n",
      "340:\tlearn: 1327.8559355\ttotal: 5.79s\tremaining: 11.2s\n",
      "341:\tlearn: 1327.6328746\ttotal: 5.8s\tremaining: 11.2s\n",
      "342:\tlearn: 1327.3803385\ttotal: 5.82s\tremaining: 11.1s\n",
      "343:\tlearn: 1327.0614836\ttotal: 5.83s\tremaining: 11.1s\n",
      "344:\tlearn: 1326.7656513\ttotal: 5.85s\tremaining: 11.1s\n",
      "345:\tlearn: 1326.4796801\ttotal: 5.87s\tremaining: 11.1s\n",
      "346:\tlearn: 1326.2289390\ttotal: 5.88s\tremaining: 11.1s\n",
      "347:\tlearn: 1325.7808967\ttotal: 5.9s\tremaining: 11.1s\n",
      "348:\tlearn: 1325.5420073\ttotal: 5.92s\tremaining: 11s\n",
      "349:\tlearn: 1325.2634618\ttotal: 5.94s\tremaining: 11s\n",
      "350:\tlearn: 1325.0579052\ttotal: 5.95s\tremaining: 11s\n",
      "351:\tlearn: 1324.8467059\ttotal: 5.97s\tremaining: 11s\n",
      "352:\tlearn: 1324.6906857\ttotal: 5.98s\tremaining: 11s\n",
      "353:\tlearn: 1324.3688593\ttotal: 6s\tremaining: 10.9s\n",
      "354:\tlearn: 1324.2178403\ttotal: 6.02s\tremaining: 10.9s\n",
      "355:\tlearn: 1323.7592889\ttotal: 6.04s\tremaining: 10.9s\n",
      "356:\tlearn: 1323.6089132\ttotal: 6.05s\tremaining: 10.9s\n",
      "357:\tlearn: 1323.2821974\ttotal: 6.07s\tremaining: 10.9s\n",
      "358:\tlearn: 1323.0959661\ttotal: 6.08s\tremaining: 10.9s\n",
      "359:\tlearn: 1322.7024320\ttotal: 6.1s\tremaining: 10.8s\n",
      "360:\tlearn: 1322.4322282\ttotal: 6.12s\tremaining: 10.8s\n",
      "361:\tlearn: 1322.1641956\ttotal: 6.13s\tremaining: 10.8s\n",
      "362:\tlearn: 1321.9620555\ttotal: 6.15s\tremaining: 10.8s\n",
      "363:\tlearn: 1321.7268260\ttotal: 6.17s\tremaining: 10.8s\n",
      "364:\tlearn: 1321.5333806\ttotal: 6.18s\tremaining: 10.8s\n",
      "365:\tlearn: 1321.3326283\ttotal: 6.2s\tremaining: 10.7s\n",
      "366:\tlearn: 1320.8938917\ttotal: 6.22s\tremaining: 10.7s\n",
      "367:\tlearn: 1320.7469308\ttotal: 6.23s\tremaining: 10.7s\n",
      "368:\tlearn: 1320.4905020\ttotal: 6.25s\tremaining: 10.7s\n",
      "369:\tlearn: 1320.2230849\ttotal: 6.26s\tremaining: 10.7s\n",
      "370:\tlearn: 1320.0802971\ttotal: 6.28s\tremaining: 10.6s\n",
      "371:\tlearn: 1319.8819107\ttotal: 6.3s\tremaining: 10.6s\n",
      "372:\tlearn: 1319.5800775\ttotal: 6.32s\tremaining: 10.6s\n",
      "373:\tlearn: 1319.3418674\ttotal: 6.33s\tremaining: 10.6s\n",
      "374:\tlearn: 1319.0366707\ttotal: 6.35s\tremaining: 10.6s\n",
      "375:\tlearn: 1318.8331879\ttotal: 6.37s\tremaining: 10.6s\n",
      "376:\tlearn: 1318.6637655\ttotal: 6.38s\tremaining: 10.5s\n",
      "377:\tlearn: 1318.3558547\ttotal: 6.4s\tremaining: 10.5s\n",
      "378:\tlearn: 1318.1990103\ttotal: 6.42s\tremaining: 10.5s\n",
      "379:\tlearn: 1318.0198847\ttotal: 6.43s\tremaining: 10.5s\n",
      "380:\tlearn: 1317.8644915\ttotal: 6.45s\tremaining: 10.5s\n",
      "381:\tlearn: 1317.6162790\ttotal: 6.46s\tremaining: 10.5s\n",
      "382:\tlearn: 1317.4267939\ttotal: 6.48s\tremaining: 10.4s\n",
      "383:\tlearn: 1317.2174430\ttotal: 6.5s\tremaining: 10.4s\n",
      "384:\tlearn: 1317.0695478\ttotal: 6.51s\tremaining: 10.4s\n",
      "385:\tlearn: 1316.8525470\ttotal: 6.53s\tremaining: 10.4s\n",
      "386:\tlearn: 1316.6867460\ttotal: 6.54s\tremaining: 10.4s\n",
      "387:\tlearn: 1316.4806936\ttotal: 6.56s\tremaining: 10.3s\n",
      "388:\tlearn: 1316.3028738\ttotal: 6.57s\tremaining: 10.3s\n",
      "389:\tlearn: 1315.9385942\ttotal: 6.59s\tremaining: 10.3s\n",
      "390:\tlearn: 1315.7934094\ttotal: 6.61s\tremaining: 10.3s\n",
      "391:\tlearn: 1315.5715608\ttotal: 6.62s\tremaining: 10.3s\n",
      "392:\tlearn: 1315.3492356\ttotal: 6.63s\tremaining: 10.2s\n",
      "393:\tlearn: 1315.0631826\ttotal: 6.65s\tremaining: 10.2s\n",
      "394:\tlearn: 1314.8384832\ttotal: 6.67s\tremaining: 10.2s\n",
      "395:\tlearn: 1314.5144247\ttotal: 6.69s\tremaining: 10.2s\n",
      "396:\tlearn: 1314.3117859\ttotal: 6.71s\tremaining: 10.2s\n",
      "397:\tlearn: 1314.1381867\ttotal: 6.72s\tremaining: 10.2s\n",
      "398:\tlearn: 1313.8333933\ttotal: 6.74s\tremaining: 10.1s\n",
      "399:\tlearn: 1313.6718264\ttotal: 6.75s\tremaining: 10.1s\n",
      "400:\tlearn: 1313.5168266\ttotal: 6.77s\tremaining: 10.1s\n",
      "401:\tlearn: 1313.4293958\ttotal: 6.78s\tremaining: 10.1s\n",
      "402:\tlearn: 1313.1296846\ttotal: 6.8s\tremaining: 10.1s\n",
      "403:\tlearn: 1312.9296119\ttotal: 6.82s\tremaining: 10.1s\n",
      "404:\tlearn: 1312.6440034\ttotal: 6.83s\tremaining: 10s\n",
      "405:\tlearn: 1312.5092888\ttotal: 6.85s\tremaining: 10s\n",
      "406:\tlearn: 1312.3503609\ttotal: 6.87s\tremaining: 10s\n",
      "407:\tlearn: 1312.2139352\ttotal: 6.88s\tremaining: 9.99s\n",
      "408:\tlearn: 1311.9666408\ttotal: 6.9s\tremaining: 9.97s\n",
      "409:\tlearn: 1311.8201991\ttotal: 6.91s\tremaining: 9.95s\n",
      "410:\tlearn: 1311.5262571\ttotal: 6.93s\tremaining: 9.93s\n",
      "411:\tlearn: 1311.2967470\ttotal: 6.95s\tremaining: 9.92s\n",
      "412:\tlearn: 1310.9715896\ttotal: 6.97s\tremaining: 9.9s\n",
      "413:\tlearn: 1310.7278532\ttotal: 6.98s\tremaining: 9.88s\n",
      "414:\tlearn: 1310.4308006\ttotal: 7s\tremaining: 9.87s\n",
      "415:\tlearn: 1310.2699904\ttotal: 7.01s\tremaining: 9.85s\n",
      "416:\tlearn: 1310.1146175\ttotal: 7.03s\tremaining: 9.83s\n",
      "417:\tlearn: 1309.9199812\ttotal: 7.05s\tremaining: 9.81s\n",
      "418:\tlearn: 1309.6882845\ttotal: 7.06s\tremaining: 9.79s\n",
      "419:\tlearn: 1309.5256012\ttotal: 7.08s\tremaining: 9.77s\n",
      "420:\tlearn: 1309.2202061\ttotal: 7.09s\tremaining: 9.76s\n",
      "421:\tlearn: 1309.0933552\ttotal: 7.11s\tremaining: 9.73s\n",
      "422:\tlearn: 1308.9317320\ttotal: 7.13s\tremaining: 9.72s\n",
      "423:\tlearn: 1308.7363784\ttotal: 7.14s\tremaining: 9.71s\n",
      "424:\tlearn: 1308.5514707\ttotal: 7.16s\tremaining: 9.69s\n",
      "425:\tlearn: 1308.4042584\ttotal: 7.17s\tremaining: 9.67s\n",
      "426:\tlearn: 1308.2696738\ttotal: 7.19s\tremaining: 9.65s\n",
      "427:\tlearn: 1308.1019077\ttotal: 7.21s\tremaining: 9.63s\n",
      "428:\tlearn: 1307.8143509\ttotal: 7.23s\tremaining: 9.62s\n",
      "429:\tlearn: 1307.6261918\ttotal: 7.24s\tremaining: 9.6s\n",
      "430:\tlearn: 1307.3493334\ttotal: 7.26s\tremaining: 9.58s\n",
      "431:\tlearn: 1307.1223657\ttotal: 7.28s\tremaining: 9.56s\n",
      "432:\tlearn: 1306.8674146\ttotal: 7.29s\tremaining: 9.55s\n",
      "433:\tlearn: 1306.7299741\ttotal: 7.31s\tremaining: 9.53s\n",
      "434:\tlearn: 1306.4615796\ttotal: 7.33s\tremaining: 9.52s\n",
      "435:\tlearn: 1306.2477180\ttotal: 7.35s\tremaining: 9.5s\n",
      "436:\tlearn: 1306.0154913\ttotal: 7.36s\tremaining: 9.48s\n",
      "437:\tlearn: 1305.7447736\ttotal: 7.38s\tremaining: 9.46s\n",
      "438:\tlearn: 1305.5386396\ttotal: 7.39s\tremaining: 9.45s\n",
      "439:\tlearn: 1305.3726508\ttotal: 7.41s\tremaining: 9.43s\n",
      "440:\tlearn: 1305.1501756\ttotal: 7.43s\tremaining: 9.41s\n",
      "441:\tlearn: 1304.8838063\ttotal: 7.44s\tremaining: 9.4s\n",
      "442:\tlearn: 1304.7154797\ttotal: 7.46s\tremaining: 9.38s\n",
      "443:\tlearn: 1304.5208542\ttotal: 7.47s\tremaining: 9.36s\n",
      "444:\tlearn: 1304.3620290\ttotal: 7.49s\tremaining: 9.34s\n",
      "445:\tlearn: 1304.2317266\ttotal: 7.51s\tremaining: 9.32s\n",
      "446:\tlearn: 1304.0704670\ttotal: 7.53s\tremaining: 9.31s\n",
      "447:\tlearn: 1303.9474962\ttotal: 7.54s\tremaining: 9.29s\n",
      "448:\tlearn: 1303.7551882\ttotal: 7.56s\tremaining: 9.27s\n",
      "449:\tlearn: 1303.4738575\ttotal: 7.57s\tremaining: 9.26s\n",
      "450:\tlearn: 1303.3126755\ttotal: 7.59s\tremaining: 9.24s\n",
      "451:\tlearn: 1303.1490183\ttotal: 7.61s\tremaining: 9.22s\n",
      "452:\tlearn: 1302.9440663\ttotal: 7.62s\tremaining: 9.21s\n",
      "453:\tlearn: 1302.7598043\ttotal: 7.64s\tremaining: 9.19s\n",
      "454:\tlearn: 1302.5456310\ttotal: 7.66s\tremaining: 9.17s\n",
      "455:\tlearn: 1302.4112870\ttotal: 7.67s\tremaining: 9.15s\n",
      "456:\tlearn: 1302.2379471\ttotal: 7.68s\tremaining: 9.13s\n",
      "457:\tlearn: 1302.0617195\ttotal: 7.7s\tremaining: 9.12s\n",
      "458:\tlearn: 1301.9436871\ttotal: 7.72s\tremaining: 9.1s\n",
      "459:\tlearn: 1301.7302613\ttotal: 7.74s\tremaining: 9.08s\n",
      "460:\tlearn: 1301.5298210\ttotal: 7.75s\tremaining: 9.06s\n",
      "461:\tlearn: 1301.3811851\ttotal: 7.76s\tremaining: 9.04s\n",
      "462:\tlearn: 1301.2654097\ttotal: 7.78s\tremaining: 9.02s\n",
      "463:\tlearn: 1301.0586792\ttotal: 7.79s\tremaining: 9s\n",
      "464:\tlearn: 1300.9069145\ttotal: 7.81s\tremaining: 8.99s\n",
      "465:\tlearn: 1300.8124217\ttotal: 7.83s\tremaining: 8.97s\n",
      "466:\tlearn: 1300.6308654\ttotal: 7.84s\tremaining: 8.95s\n",
      "467:\tlearn: 1300.5050539\ttotal: 7.86s\tremaining: 8.93s\n",
      "468:\tlearn: 1300.4046992\ttotal: 7.87s\tremaining: 8.91s\n",
      "469:\tlearn: 1300.1848923\ttotal: 7.88s\tremaining: 8.89s\n",
      "470:\tlearn: 1300.0557813\ttotal: 7.91s\tremaining: 8.88s\n",
      "471:\tlearn: 1299.8562308\ttotal: 7.92s\tremaining: 8.86s\n",
      "472:\tlearn: 1299.6896778\ttotal: 7.94s\tremaining: 8.84s\n",
      "473:\tlearn: 1299.5765406\ttotal: 7.95s\tremaining: 8.83s\n",
      "474:\tlearn: 1299.3953576\ttotal: 7.97s\tremaining: 8.81s\n",
      "475:\tlearn: 1299.2691154\ttotal: 7.99s\tremaining: 8.8s\n",
      "476:\tlearn: 1299.0426525\ttotal: 8.01s\tremaining: 8.78s\n",
      "477:\tlearn: 1298.8968192\ttotal: 8.03s\tremaining: 8.77s\n",
      "478:\tlearn: 1298.7616619\ttotal: 8.04s\tremaining: 8.75s\n",
      "479:\tlearn: 1298.6637159\ttotal: 8.06s\tremaining: 8.73s\n",
      "480:\tlearn: 1298.5548367\ttotal: 8.08s\tremaining: 8.72s\n",
      "481:\tlearn: 1298.3477486\ttotal: 8.1s\tremaining: 8.71s\n",
      "482:\tlearn: 1298.1563709\ttotal: 8.12s\tremaining: 8.69s\n",
      "483:\tlearn: 1298.0116137\ttotal: 8.14s\tremaining: 8.68s\n",
      "484:\tlearn: 1297.8982602\ttotal: 8.15s\tremaining: 8.66s\n",
      "485:\tlearn: 1297.7593771\ttotal: 8.17s\tremaining: 8.64s\n",
      "486:\tlearn: 1297.5759756\ttotal: 8.2s\tremaining: 8.64s\n",
      "487:\tlearn: 1297.3291186\ttotal: 8.22s\tremaining: 8.62s\n",
      "488:\tlearn: 1297.1772306\ttotal: 8.24s\tremaining: 8.61s\n",
      "489:\tlearn: 1297.1141236\ttotal: 8.25s\tremaining: 8.59s\n",
      "490:\tlearn: 1296.8945634\ttotal: 8.27s\tremaining: 8.57s\n",
      "491:\tlearn: 1296.7006294\ttotal: 8.29s\tremaining: 8.56s\n",
      "492:\tlearn: 1296.5420994\ttotal: 8.31s\tremaining: 8.54s\n",
      "493:\tlearn: 1296.4059784\ttotal: 8.32s\tremaining: 8.52s\n",
      "494:\tlearn: 1296.3067315\ttotal: 8.34s\tremaining: 8.5s\n",
      "495:\tlearn: 1296.1713762\ttotal: 8.35s\tremaining: 8.49s\n",
      "496:\tlearn: 1296.0381937\ttotal: 8.37s\tremaining: 8.47s\n",
      "497:\tlearn: 1295.8497552\ttotal: 8.39s\tremaining: 8.46s\n",
      "498:\tlearn: 1295.6955924\ttotal: 8.4s\tremaining: 8.44s\n",
      "499:\tlearn: 1295.4210142\ttotal: 8.42s\tremaining: 8.42s\n",
      "500:\tlearn: 1295.2942739\ttotal: 8.44s\tremaining: 8.4s\n",
      "501:\tlearn: 1295.1998640\ttotal: 8.45s\tremaining: 8.38s\n",
      "502:\tlearn: 1295.0374805\ttotal: 8.47s\tremaining: 8.37s\n",
      "503:\tlearn: 1294.8947586\ttotal: 8.49s\tremaining: 8.36s\n",
      "504:\tlearn: 1294.8111690\ttotal: 8.5s\tremaining: 8.34s\n",
      "505:\tlearn: 1294.6494740\ttotal: 8.52s\tremaining: 8.32s\n",
      "506:\tlearn: 1294.4917236\ttotal: 8.53s\tremaining: 8.3s\n",
      "507:\tlearn: 1294.3820413\ttotal: 8.55s\tremaining: 8.28s\n",
      "508:\tlearn: 1294.1515626\ttotal: 8.56s\tremaining: 8.26s\n",
      "509:\tlearn: 1294.0132459\ttotal: 8.59s\tremaining: 8.25s\n",
      "510:\tlearn: 1293.7937970\ttotal: 8.6s\tremaining: 8.23s\n",
      "511:\tlearn: 1293.6033605\ttotal: 8.62s\tremaining: 8.21s\n",
      "512:\tlearn: 1293.4704174\ttotal: 8.63s\tremaining: 8.2s\n",
      "513:\tlearn: 1293.2384007\ttotal: 8.65s\tremaining: 8.18s\n",
      "514:\tlearn: 1292.9636499\ttotal: 8.67s\tremaining: 8.16s\n",
      "515:\tlearn: 1292.7479228\ttotal: 8.69s\tremaining: 8.15s\n",
      "516:\tlearn: 1292.5587551\ttotal: 8.71s\tremaining: 8.13s\n",
      "517:\tlearn: 1292.4607944\ttotal: 8.72s\tremaining: 8.11s\n",
      "518:\tlearn: 1292.3388143\ttotal: 8.73s\tremaining: 8.1s\n",
      "519:\tlearn: 1292.1836874\ttotal: 8.75s\tremaining: 8.08s\n",
      "520:\tlearn: 1292.0876461\ttotal: 8.78s\tremaining: 8.07s\n",
      "521:\tlearn: 1291.9711697\ttotal: 8.79s\tremaining: 8.05s\n",
      "522:\tlearn: 1291.8309090\ttotal: 8.81s\tremaining: 8.03s\n",
      "523:\tlearn: 1291.6645059\ttotal: 8.82s\tremaining: 8.02s\n",
      "524:\tlearn: 1291.4660935\ttotal: 8.84s\tremaining: 8s\n",
      "525:\tlearn: 1291.3720921\ttotal: 8.86s\tremaining: 7.98s\n",
      "526:\tlearn: 1291.2606450\ttotal: 8.88s\tremaining: 7.97s\n",
      "527:\tlearn: 1291.1324231\ttotal: 8.89s\tremaining: 7.95s\n",
      "528:\tlearn: 1290.9896544\ttotal: 8.91s\tremaining: 7.93s\n",
      "529:\tlearn: 1290.8424817\ttotal: 8.92s\tremaining: 7.91s\n",
      "530:\tlearn: 1290.6462459\ttotal: 8.94s\tremaining: 7.9s\n",
      "531:\tlearn: 1290.5064552\ttotal: 8.96s\tremaining: 7.88s\n",
      "532:\tlearn: 1290.3175910\ttotal: 8.98s\tremaining: 7.87s\n",
      "533:\tlearn: 1290.1748705\ttotal: 8.99s\tremaining: 7.85s\n",
      "534:\tlearn: 1290.0503209\ttotal: 9.01s\tremaining: 7.83s\n",
      "535:\tlearn: 1289.9303881\ttotal: 9.03s\tremaining: 7.81s\n",
      "536:\tlearn: 1289.7797315\ttotal: 9.04s\tremaining: 7.8s\n",
      "537:\tlearn: 1289.6033398\ttotal: 9.07s\tremaining: 7.79s\n",
      "538:\tlearn: 1289.4100577\ttotal: 9.09s\tremaining: 7.78s\n",
      "539:\tlearn: 1289.2884212\ttotal: 9.11s\tremaining: 7.76s\n",
      "540:\tlearn: 1289.0819281\ttotal: 9.13s\tremaining: 7.75s\n",
      "541:\tlearn: 1288.9390781\ttotal: 9.15s\tremaining: 7.73s\n",
      "542:\tlearn: 1288.7296246\ttotal: 9.17s\tremaining: 7.72s\n",
      "543:\tlearn: 1288.6014874\ttotal: 9.18s\tremaining: 7.7s\n",
      "544:\tlearn: 1288.4408229\ttotal: 9.2s\tremaining: 7.68s\n",
      "545:\tlearn: 1288.3077266\ttotal: 9.21s\tremaining: 7.66s\n",
      "546:\tlearn: 1288.1702117\ttotal: 9.23s\tremaining: 7.64s\n",
      "547:\tlearn: 1288.0370717\ttotal: 9.25s\tremaining: 7.63s\n",
      "548:\tlearn: 1287.8564593\ttotal: 9.26s\tremaining: 7.61s\n",
      "549:\tlearn: 1287.7552348\ttotal: 9.28s\tremaining: 7.59s\n",
      "550:\tlearn: 1287.6522991\ttotal: 9.29s\tremaining: 7.57s\n",
      "551:\tlearn: 1287.5221192\ttotal: 9.31s\tremaining: 7.55s\n",
      "552:\tlearn: 1287.3931487\ttotal: 9.32s\tremaining: 7.54s\n",
      "553:\tlearn: 1287.1875864\ttotal: 9.35s\tremaining: 7.52s\n",
      "554:\tlearn: 1287.0387567\ttotal: 9.36s\tremaining: 7.51s\n",
      "555:\tlearn: 1286.9132764\ttotal: 9.38s\tremaining: 7.49s\n",
      "556:\tlearn: 1286.7541563\ttotal: 9.4s\tremaining: 7.47s\n",
      "557:\tlearn: 1286.5950962\ttotal: 9.41s\tremaining: 7.46s\n",
      "558:\tlearn: 1286.5056233\ttotal: 9.43s\tremaining: 7.44s\n",
      "559:\tlearn: 1286.3841579\ttotal: 9.45s\tremaining: 7.42s\n",
      "560:\tlearn: 1286.2421450\ttotal: 9.46s\tremaining: 7.41s\n",
      "561:\tlearn: 1286.0630576\ttotal: 9.48s\tremaining: 7.39s\n",
      "562:\tlearn: 1285.9276428\ttotal: 9.5s\tremaining: 7.37s\n",
      "563:\tlearn: 1285.8222742\ttotal: 9.51s\tremaining: 7.35s\n",
      "564:\tlearn: 1285.6849151\ttotal: 9.54s\tremaining: 7.34s\n",
      "565:\tlearn: 1285.5097682\ttotal: 9.55s\tremaining: 7.33s\n",
      "566:\tlearn: 1285.3912410\ttotal: 9.57s\tremaining: 7.31s\n",
      "567:\tlearn: 1285.2766553\ttotal: 9.58s\tremaining: 7.29s\n",
      "568:\tlearn: 1285.1798517\ttotal: 9.6s\tremaining: 7.27s\n",
      "569:\tlearn: 1285.0261544\ttotal: 9.62s\tremaining: 7.26s\n",
      "570:\tlearn: 1284.9054743\ttotal: 9.64s\tremaining: 7.24s\n",
      "571:\tlearn: 1284.7169274\ttotal: 9.66s\tremaining: 7.23s\n",
      "572:\tlearn: 1284.6037124\ttotal: 9.68s\tremaining: 7.21s\n",
      "573:\tlearn: 1284.5038317\ttotal: 9.7s\tremaining: 7.2s\n",
      "574:\tlearn: 1284.3383592\ttotal: 9.71s\tremaining: 7.18s\n",
      "575:\tlearn: 1284.1777377\ttotal: 9.73s\tremaining: 7.17s\n",
      "576:\tlearn: 1284.0768073\ttotal: 9.75s\tremaining: 7.15s\n",
      "577:\tlearn: 1283.9715142\ttotal: 9.77s\tremaining: 7.13s\n",
      "578:\tlearn: 1283.8106972\ttotal: 9.78s\tremaining: 7.11s\n",
      "579:\tlearn: 1283.6428929\ttotal: 9.8s\tremaining: 7.09s\n",
      "580:\tlearn: 1283.5264494\ttotal: 9.81s\tremaining: 7.08s\n",
      "581:\tlearn: 1283.4252202\ttotal: 9.83s\tremaining: 7.06s\n",
      "582:\tlearn: 1283.2871603\ttotal: 9.85s\tremaining: 7.04s\n",
      "583:\tlearn: 1283.1295002\ttotal: 9.86s\tremaining: 7.02s\n",
      "584:\tlearn: 1282.9155107\ttotal: 9.88s\tremaining: 7s\n",
      "585:\tlearn: 1282.7395161\ttotal: 9.89s\tremaining: 6.99s\n",
      "586:\tlearn: 1282.6308352\ttotal: 9.91s\tremaining: 6.97s\n",
      "587:\tlearn: 1282.5558698\ttotal: 9.93s\tremaining: 6.96s\n",
      "588:\tlearn: 1282.4118245\ttotal: 9.94s\tremaining: 6.94s\n",
      "589:\tlearn: 1282.2721234\ttotal: 9.96s\tremaining: 6.92s\n",
      "590:\tlearn: 1282.1245774\ttotal: 9.97s\tremaining: 6.9s\n",
      "591:\tlearn: 1282.0513750\ttotal: 9.99s\tremaining: 6.88s\n",
      "592:\tlearn: 1281.9599344\ttotal: 10s\tremaining: 6.87s\n",
      "593:\tlearn: 1281.8160236\ttotal: 10s\tremaining: 6.86s\n",
      "594:\tlearn: 1281.5809714\ttotal: 10s\tremaining: 6.84s\n",
      "595:\tlearn: 1281.4820821\ttotal: 10.1s\tremaining: 6.82s\n",
      "596:\tlearn: 1281.3704992\ttotal: 10.1s\tremaining: 6.8s\n",
      "597:\tlearn: 1281.1355414\ttotal: 10.1s\tremaining: 6.78s\n",
      "598:\tlearn: 1280.9925829\ttotal: 10.1s\tremaining: 6.77s\n",
      "599:\tlearn: 1280.8381957\ttotal: 10.1s\tremaining: 6.75s\n",
      "600:\tlearn: 1280.7399844\ttotal: 10.1s\tremaining: 6.73s\n",
      "601:\tlearn: 1280.6452713\ttotal: 10.2s\tremaining: 6.72s\n",
      "602:\tlearn: 1280.4631836\ttotal: 10.2s\tremaining: 6.7s\n",
      "603:\tlearn: 1280.4142533\ttotal: 10.2s\tremaining: 6.68s\n",
      "604:\tlearn: 1280.3372325\ttotal: 10.2s\tremaining: 6.67s\n",
      "605:\tlearn: 1280.1934632\ttotal: 10.2s\tremaining: 6.65s\n",
      "606:\tlearn: 1280.0747422\ttotal: 10.2s\tremaining: 6.63s\n",
      "607:\tlearn: 1279.9736258\ttotal: 10.3s\tremaining: 6.61s\n",
      "608:\tlearn: 1279.8901969\ttotal: 10.3s\tremaining: 6.59s\n",
      "609:\tlearn: 1279.8210626\ttotal: 10.3s\tremaining: 6.58s\n",
      "610:\tlearn: 1279.6819929\ttotal: 10.3s\tremaining: 6.56s\n",
      "611:\tlearn: 1279.5062694\ttotal: 10.3s\tremaining: 6.55s\n",
      "612:\tlearn: 1279.3825304\ttotal: 10.3s\tremaining: 6.53s\n",
      "613:\tlearn: 1279.2451723\ttotal: 10.4s\tremaining: 6.51s\n",
      "614:\tlearn: 1279.1316369\ttotal: 10.4s\tremaining: 6.49s\n",
      "615:\tlearn: 1278.9540552\ttotal: 10.4s\tremaining: 6.47s\n",
      "616:\tlearn: 1278.8637426\ttotal: 10.4s\tremaining: 6.46s\n",
      "617:\tlearn: 1278.7028547\ttotal: 10.4s\tremaining: 6.44s\n",
      "618:\tlearn: 1278.5691938\ttotal: 10.4s\tremaining: 6.42s\n",
      "619:\tlearn: 1278.4870255\ttotal: 10.4s\tremaining: 6.4s\n",
      "620:\tlearn: 1278.3597278\ttotal: 10.5s\tremaining: 6.38s\n",
      "621:\tlearn: 1278.2118306\ttotal: 10.5s\tremaining: 6.37s\n",
      "622:\tlearn: 1278.1392329\ttotal: 10.5s\tremaining: 6.35s\n",
      "623:\tlearn: 1277.9853171\ttotal: 10.5s\tremaining: 6.34s\n",
      "624:\tlearn: 1277.8485893\ttotal: 10.5s\tremaining: 6.32s\n",
      "625:\tlearn: 1277.7296576\ttotal: 10.6s\tremaining: 6.31s\n",
      "626:\tlearn: 1277.6542199\ttotal: 10.6s\tremaining: 6.29s\n",
      "627:\tlearn: 1277.4827076\ttotal: 10.6s\tremaining: 6.28s\n",
      "628:\tlearn: 1277.3189739\ttotal: 10.6s\tremaining: 6.26s\n",
      "629:\tlearn: 1277.1598183\ttotal: 10.6s\tremaining: 6.25s\n",
      "630:\tlearn: 1277.0358107\ttotal: 10.7s\tremaining: 6.23s\n",
      "631:\tlearn: 1276.9316597\ttotal: 10.7s\tremaining: 6.21s\n",
      "632:\tlearn: 1276.8344621\ttotal: 10.7s\tremaining: 6.2s\n",
      "633:\tlearn: 1276.7293879\ttotal: 10.7s\tremaining: 6.18s\n",
      "634:\tlearn: 1276.5870002\ttotal: 10.7s\tremaining: 6.17s\n",
      "635:\tlearn: 1276.4273358\ttotal: 10.7s\tremaining: 6.15s\n",
      "636:\tlearn: 1276.3210435\ttotal: 10.8s\tremaining: 6.13s\n",
      "637:\tlearn: 1276.2453803\ttotal: 10.8s\tremaining: 6.12s\n",
      "638:\tlearn: 1276.1466702\ttotal: 10.8s\tremaining: 6.1s\n",
      "639:\tlearn: 1276.0081036\ttotal: 10.8s\tremaining: 6.09s\n",
      "640:\tlearn: 1275.8427399\ttotal: 10.8s\tremaining: 6.07s\n",
      "641:\tlearn: 1275.7140467\ttotal: 10.9s\tremaining: 6.05s\n",
      "642:\tlearn: 1275.6350042\ttotal: 10.9s\tremaining: 6.04s\n",
      "643:\tlearn: 1275.4764528\ttotal: 10.9s\tremaining: 6.02s\n",
      "644:\tlearn: 1275.3453796\ttotal: 10.9s\tremaining: 6.01s\n",
      "645:\tlearn: 1275.2777563\ttotal: 10.9s\tremaining: 5.99s\n",
      "646:\tlearn: 1275.1842294\ttotal: 10.9s\tremaining: 5.97s\n",
      "647:\tlearn: 1275.0298340\ttotal: 11s\tremaining: 5.95s\n",
      "648:\tlearn: 1274.9081590\ttotal: 11s\tremaining: 5.94s\n",
      "649:\tlearn: 1274.7661791\ttotal: 11s\tremaining: 5.92s\n",
      "650:\tlearn: 1274.6389456\ttotal: 11s\tremaining: 5.9s\n",
      "651:\tlearn: 1274.5652709\ttotal: 11s\tremaining: 5.88s\n",
      "652:\tlearn: 1274.4450963\ttotal: 11s\tremaining: 5.87s\n",
      "653:\tlearn: 1274.3540198\ttotal: 11.1s\tremaining: 5.85s\n",
      "654:\tlearn: 1274.2649665\ttotal: 11.1s\tremaining: 5.83s\n",
      "655:\tlearn: 1274.1586679\ttotal: 11.1s\tremaining: 5.82s\n",
      "656:\tlearn: 1273.9793141\ttotal: 11.1s\tremaining: 5.8s\n",
      "657:\tlearn: 1273.8662155\ttotal: 11.1s\tremaining: 5.78s\n",
      "658:\tlearn: 1273.7275533\ttotal: 11.1s\tremaining: 5.76s\n",
      "659:\tlearn: 1273.6338051\ttotal: 11.2s\tremaining: 5.75s\n",
      "660:\tlearn: 1273.5513543\ttotal: 11.2s\tremaining: 5.73s\n",
      "661:\tlearn: 1273.4428165\ttotal: 11.2s\tremaining: 5.71s\n",
      "662:\tlearn: 1273.3496929\ttotal: 11.2s\tremaining: 5.7s\n",
      "663:\tlearn: 1273.2351133\ttotal: 11.2s\tremaining: 5.68s\n",
      "664:\tlearn: 1273.1526715\ttotal: 11.2s\tremaining: 5.66s\n",
      "665:\tlearn: 1273.0672566\ttotal: 11.3s\tremaining: 5.64s\n",
      "666:\tlearn: 1272.9206683\ttotal: 11.3s\tremaining: 5.63s\n",
      "667:\tlearn: 1272.7223591\ttotal: 11.3s\tremaining: 5.61s\n",
      "668:\tlearn: 1272.5298434\ttotal: 11.3s\tremaining: 5.59s\n",
      "669:\tlearn: 1272.4261569\ttotal: 11.3s\tremaining: 5.58s\n",
      "670:\tlearn: 1272.3634979\ttotal: 11.3s\tremaining: 5.56s\n",
      "671:\tlearn: 1272.2750436\ttotal: 11.3s\tremaining: 5.54s\n",
      "672:\tlearn: 1272.1866553\ttotal: 11.4s\tremaining: 5.53s\n",
      "673:\tlearn: 1272.0063675\ttotal: 11.4s\tremaining: 5.51s\n",
      "674:\tlearn: 1271.9182502\ttotal: 11.4s\tremaining: 5.49s\n",
      "675:\tlearn: 1271.8035677\ttotal: 11.4s\tremaining: 5.47s\n",
      "676:\tlearn: 1271.7073231\ttotal: 11.4s\tremaining: 5.45s\n",
      "677:\tlearn: 1271.6028188\ttotal: 11.4s\tremaining: 5.44s\n",
      "678:\tlearn: 1271.4932289\ttotal: 11.5s\tremaining: 5.42s\n",
      "679:\tlearn: 1271.3902271\ttotal: 11.5s\tremaining: 5.4s\n",
      "680:\tlearn: 1271.2927571\ttotal: 11.5s\tremaining: 5.39s\n",
      "681:\tlearn: 1271.2186493\ttotal: 11.5s\tremaining: 5.37s\n",
      "682:\tlearn: 1271.0688541\ttotal: 11.5s\tremaining: 5.35s\n",
      "683:\tlearn: 1270.9153960\ttotal: 11.5s\tremaining: 5.33s\n",
      "684:\tlearn: 1270.8145534\ttotal: 11.6s\tremaining: 5.32s\n",
      "685:\tlearn: 1270.6190483\ttotal: 11.6s\tremaining: 5.3s\n",
      "686:\tlearn: 1270.4731523\ttotal: 11.6s\tremaining: 5.29s\n",
      "687:\tlearn: 1270.4030637\ttotal: 11.6s\tremaining: 5.27s\n",
      "688:\tlearn: 1270.2877579\ttotal: 11.6s\tremaining: 5.25s\n",
      "689:\tlearn: 1270.1985375\ttotal: 11.7s\tremaining: 5.24s\n",
      "690:\tlearn: 1270.1311586\ttotal: 11.7s\tremaining: 5.22s\n",
      "691:\tlearn: 1270.0720146\ttotal: 11.7s\tremaining: 5.2s\n",
      "692:\tlearn: 1269.9462050\ttotal: 11.7s\tremaining: 5.18s\n",
      "693:\tlearn: 1269.8435988\ttotal: 11.7s\tremaining: 5.17s\n",
      "694:\tlearn: 1269.7378429\ttotal: 11.7s\tremaining: 5.15s\n",
      "695:\tlearn: 1269.6307893\ttotal: 11.8s\tremaining: 5.13s\n",
      "696:\tlearn: 1269.5295598\ttotal: 11.8s\tremaining: 5.12s\n",
      "697:\tlearn: 1269.3634439\ttotal: 11.8s\tremaining: 5.1s\n",
      "698:\tlearn: 1269.2770796\ttotal: 11.8s\tremaining: 5.08s\n",
      "699:\tlearn: 1269.1666835\ttotal: 11.8s\tremaining: 5.06s\n",
      "700:\tlearn: 1269.0298027\ttotal: 11.8s\tremaining: 5.05s\n",
      "701:\tlearn: 1268.9200569\ttotal: 11.9s\tremaining: 5.03s\n",
      "702:\tlearn: 1268.8715280\ttotal: 11.9s\tremaining: 5.01s\n",
      "703:\tlearn: 1268.8098891\ttotal: 11.9s\tremaining: 5s\n",
      "704:\tlearn: 1268.7111022\ttotal: 11.9s\tremaining: 4.98s\n",
      "705:\tlearn: 1268.6126910\ttotal: 11.9s\tremaining: 4.96s\n",
      "706:\tlearn: 1268.5453610\ttotal: 11.9s\tremaining: 4.95s\n",
      "707:\tlearn: 1268.4503201\ttotal: 12s\tremaining: 4.93s\n",
      "708:\tlearn: 1268.3606714\ttotal: 12s\tremaining: 4.91s\n",
      "709:\tlearn: 1268.2949392\ttotal: 12s\tremaining: 4.89s\n",
      "710:\tlearn: 1268.1595083\ttotal: 12s\tremaining: 4.88s\n",
      "711:\tlearn: 1268.0495087\ttotal: 12s\tremaining: 4.86s\n",
      "712:\tlearn: 1267.9294999\ttotal: 12s\tremaining: 4.84s\n",
      "713:\tlearn: 1267.7980316\ttotal: 12s\tremaining: 4.83s\n",
      "714:\tlearn: 1267.6361339\ttotal: 12.1s\tremaining: 4.81s\n",
      "715:\tlearn: 1267.5567491\ttotal: 12.1s\tremaining: 4.79s\n",
      "716:\tlearn: 1267.3952187\ttotal: 12.1s\tremaining: 4.77s\n",
      "717:\tlearn: 1267.2830547\ttotal: 12.1s\tremaining: 4.76s\n",
      "718:\tlearn: 1267.1656362\ttotal: 12.1s\tremaining: 4.74s\n",
      "719:\tlearn: 1267.0148102\ttotal: 12.2s\tremaining: 4.72s\n",
      "720:\tlearn: 1266.9113172\ttotal: 12.2s\tremaining: 4.71s\n",
      "721:\tlearn: 1266.7906744\ttotal: 12.2s\tremaining: 4.69s\n",
      "722:\tlearn: 1266.6229533\ttotal: 12.2s\tremaining: 4.67s\n",
      "723:\tlearn: 1266.4850913\ttotal: 12.2s\tremaining: 4.66s\n",
      "724:\tlearn: 1266.3519096\ttotal: 12.2s\tremaining: 4.64s\n",
      "725:\tlearn: 1266.2206627\ttotal: 12.2s\tremaining: 4.62s\n",
      "726:\tlearn: 1266.1349051\ttotal: 12.3s\tremaining: 4.61s\n",
      "727:\tlearn: 1266.0129185\ttotal: 12.3s\tremaining: 4.59s\n",
      "728:\tlearn: 1265.9253631\ttotal: 12.3s\tremaining: 4.57s\n",
      "729:\tlearn: 1265.8445273\ttotal: 12.3s\tremaining: 4.55s\n",
      "730:\tlearn: 1265.7829263\ttotal: 12.3s\tremaining: 4.54s\n",
      "731:\tlearn: 1265.7250417\ttotal: 12.3s\tremaining: 4.52s\n",
      "732:\tlearn: 1265.6571309\ttotal: 12.4s\tremaining: 4.5s\n",
      "733:\tlearn: 1265.5898458\ttotal: 12.4s\tremaining: 4.48s\n",
      "734:\tlearn: 1265.4038053\ttotal: 12.4s\tremaining: 4.47s\n",
      "735:\tlearn: 1265.3260793\ttotal: 12.4s\tremaining: 4.45s\n",
      "736:\tlearn: 1265.2813767\ttotal: 12.4s\tremaining: 4.43s\n",
      "737:\tlearn: 1265.1780027\ttotal: 12.4s\tremaining: 4.42s\n",
      "738:\tlearn: 1265.1080226\ttotal: 12.5s\tremaining: 4.4s\n",
      "739:\tlearn: 1265.0109192\ttotal: 12.5s\tremaining: 4.38s\n",
      "740:\tlearn: 1264.8667815\ttotal: 12.5s\tremaining: 4.36s\n",
      "741:\tlearn: 1264.7522409\ttotal: 12.5s\tremaining: 4.35s\n",
      "742:\tlearn: 1264.6708021\ttotal: 12.5s\tremaining: 4.33s\n",
      "743:\tlearn: 1264.6049165\ttotal: 12.5s\tremaining: 4.31s\n",
      "744:\tlearn: 1264.5315271\ttotal: 12.6s\tremaining: 4.3s\n",
      "745:\tlearn: 1264.4481502\ttotal: 12.6s\tremaining: 4.28s\n",
      "746:\tlearn: 1264.3294396\ttotal: 12.6s\tremaining: 4.26s\n",
      "747:\tlearn: 1264.1788321\ttotal: 12.6s\tremaining: 4.24s\n",
      "748:\tlearn: 1264.0798681\ttotal: 12.6s\tremaining: 4.23s\n",
      "749:\tlearn: 1263.9734818\ttotal: 12.6s\tremaining: 4.21s\n",
      "750:\tlearn: 1263.8553283\ttotal: 12.7s\tremaining: 4.19s\n",
      "751:\tlearn: 1263.7495843\ttotal: 12.7s\tremaining: 4.18s\n",
      "752:\tlearn: 1263.6630896\ttotal: 12.7s\tremaining: 4.16s\n",
      "753:\tlearn: 1263.5661230\ttotal: 12.7s\tremaining: 4.14s\n",
      "754:\tlearn: 1263.3741396\ttotal: 12.7s\tremaining: 4.13s\n",
      "755:\tlearn: 1263.2677579\ttotal: 12.7s\tremaining: 4.11s\n",
      "756:\tlearn: 1263.1493590\ttotal: 12.7s\tremaining: 4.09s\n",
      "757:\tlearn: 1263.0397167\ttotal: 12.8s\tremaining: 4.07s\n",
      "758:\tlearn: 1262.8976344\ttotal: 12.8s\tremaining: 4.05s\n",
      "759:\tlearn: 1262.8576881\ttotal: 12.8s\tremaining: 4.04s\n",
      "760:\tlearn: 1262.7934872\ttotal: 12.8s\tremaining: 4.02s\n",
      "761:\tlearn: 1262.7244691\ttotal: 12.8s\tremaining: 4s\n",
      "762:\tlearn: 1262.5545921\ttotal: 12.8s\tremaining: 3.99s\n",
      "763:\tlearn: 1262.4829320\ttotal: 12.9s\tremaining: 3.97s\n",
      "764:\tlearn: 1262.3875543\ttotal: 12.9s\tremaining: 3.95s\n",
      "765:\tlearn: 1262.2787562\ttotal: 12.9s\tremaining: 3.94s\n",
      "766:\tlearn: 1262.1604678\ttotal: 12.9s\tremaining: 3.92s\n",
      "767:\tlearn: 1262.0081588\ttotal: 12.9s\tremaining: 3.9s\n",
      "768:\tlearn: 1261.8914494\ttotal: 12.9s\tremaining: 3.89s\n",
      "769:\tlearn: 1261.7562637\ttotal: 13s\tremaining: 3.87s\n",
      "770:\tlearn: 1261.6658562\ttotal: 13s\tremaining: 3.85s\n",
      "771:\tlearn: 1261.5313199\ttotal: 13s\tremaining: 3.84s\n",
      "772:\tlearn: 1261.3912960\ttotal: 13s\tremaining: 3.82s\n",
      "773:\tlearn: 1261.3058587\ttotal: 13s\tremaining: 3.8s\n",
      "774:\tlearn: 1261.2320806\ttotal: 13s\tremaining: 3.79s\n",
      "775:\tlearn: 1261.1351561\ttotal: 13.1s\tremaining: 3.77s\n",
      "776:\tlearn: 1260.9585243\ttotal: 13.1s\tremaining: 3.75s\n",
      "777:\tlearn: 1260.8281785\ttotal: 13.1s\tremaining: 3.74s\n",
      "778:\tlearn: 1260.7364622\ttotal: 13.1s\tremaining: 3.72s\n",
      "779:\tlearn: 1260.6441872\ttotal: 13.1s\tremaining: 3.7s\n",
      "780:\tlearn: 1260.5177115\ttotal: 13.1s\tremaining: 3.68s\n",
      "781:\tlearn: 1260.4463407\ttotal: 13.2s\tremaining: 3.67s\n",
      "782:\tlearn: 1260.3321594\ttotal: 13.2s\tremaining: 3.65s\n",
      "783:\tlearn: 1260.2337515\ttotal: 13.2s\tremaining: 3.63s\n",
      "784:\tlearn: 1260.0976398\ttotal: 13.2s\tremaining: 3.62s\n",
      "785:\tlearn: 1260.0108322\ttotal: 13.2s\tremaining: 3.6s\n",
      "786:\tlearn: 1259.8970225\ttotal: 13.2s\tremaining: 3.58s\n",
      "787:\tlearn: 1259.8170010\ttotal: 13.3s\tremaining: 3.56s\n",
      "788:\tlearn: 1259.7398817\ttotal: 13.3s\tremaining: 3.55s\n",
      "789:\tlearn: 1259.5868586\ttotal: 13.3s\tremaining: 3.53s\n",
      "790:\tlearn: 1259.5054029\ttotal: 13.3s\tremaining: 3.52s\n",
      "791:\tlearn: 1259.4040925\ttotal: 13.3s\tremaining: 3.5s\n",
      "792:\tlearn: 1259.3408326\ttotal: 13.3s\tremaining: 3.48s\n",
      "793:\tlearn: 1259.2724507\ttotal: 13.3s\tremaining: 3.46s\n",
      "794:\tlearn: 1259.2050699\ttotal: 13.4s\tremaining: 3.44s\n",
      "795:\tlearn: 1259.0667014\ttotal: 13.4s\tremaining: 3.43s\n",
      "796:\tlearn: 1258.9486669\ttotal: 13.4s\tremaining: 3.41s\n",
      "797:\tlearn: 1258.8023908\ttotal: 13.4s\tremaining: 3.4s\n",
      "798:\tlearn: 1258.6813100\ttotal: 13.4s\tremaining: 3.38s\n",
      "799:\tlearn: 1258.6528445\ttotal: 13.4s\tremaining: 3.36s\n",
      "800:\tlearn: 1258.5562771\ttotal: 13.5s\tremaining: 3.34s\n",
      "801:\tlearn: 1258.4794142\ttotal: 13.5s\tremaining: 3.33s\n",
      "802:\tlearn: 1258.4098622\ttotal: 13.5s\tremaining: 3.31s\n",
      "803:\tlearn: 1258.3300249\ttotal: 13.5s\tremaining: 3.29s\n",
      "804:\tlearn: 1258.2553346\ttotal: 13.5s\tremaining: 3.27s\n",
      "805:\tlearn: 1258.1550167\ttotal: 13.5s\tremaining: 3.26s\n",
      "806:\tlearn: 1258.0082563\ttotal: 13.6s\tremaining: 3.24s\n",
      "807:\tlearn: 1257.9069105\ttotal: 13.6s\tremaining: 3.23s\n",
      "808:\tlearn: 1257.8337861\ttotal: 13.6s\tremaining: 3.21s\n",
      "809:\tlearn: 1257.7307477\ttotal: 13.6s\tremaining: 3.19s\n",
      "810:\tlearn: 1257.5545892\ttotal: 13.6s\tremaining: 3.17s\n",
      "811:\tlearn: 1257.4370938\ttotal: 13.6s\tremaining: 3.16s\n",
      "812:\tlearn: 1257.3523031\ttotal: 13.7s\tremaining: 3.14s\n",
      "813:\tlearn: 1257.2662022\ttotal: 13.7s\tremaining: 3.13s\n",
      "814:\tlearn: 1257.1845990\ttotal: 13.7s\tremaining: 3.11s\n",
      "815:\tlearn: 1256.9734639\ttotal: 13.7s\tremaining: 3.09s\n",
      "816:\tlearn: 1256.9290984\ttotal: 13.7s\tremaining: 3.07s\n",
      "817:\tlearn: 1256.7920368\ttotal: 13.7s\tremaining: 3.06s\n",
      "818:\tlearn: 1256.7253485\ttotal: 13.8s\tremaining: 3.04s\n",
      "819:\tlearn: 1256.6202777\ttotal: 13.8s\tremaining: 3.02s\n",
      "820:\tlearn: 1256.5187261\ttotal: 13.8s\tremaining: 3.01s\n",
      "821:\tlearn: 1256.3966880\ttotal: 13.8s\tremaining: 2.99s\n",
      "822:\tlearn: 1256.3184867\ttotal: 13.8s\tremaining: 2.97s\n",
      "823:\tlearn: 1256.2300082\ttotal: 13.8s\tremaining: 2.96s\n",
      "824:\tlearn: 1256.1535756\ttotal: 13.9s\tremaining: 2.94s\n",
      "825:\tlearn: 1256.0684475\ttotal: 13.9s\tremaining: 2.92s\n",
      "826:\tlearn: 1255.9798776\ttotal: 13.9s\tremaining: 2.9s\n",
      "827:\tlearn: 1255.8941781\ttotal: 13.9s\tremaining: 2.89s\n",
      "828:\tlearn: 1255.8025329\ttotal: 13.9s\tremaining: 2.87s\n",
      "829:\tlearn: 1255.6508773\ttotal: 13.9s\tremaining: 2.85s\n",
      "830:\tlearn: 1255.5213326\ttotal: 14s\tremaining: 2.84s\n",
      "831:\tlearn: 1255.4483274\ttotal: 14s\tremaining: 2.82s\n",
      "832:\tlearn: 1255.3638014\ttotal: 14s\tremaining: 2.8s\n",
      "833:\tlearn: 1255.2967867\ttotal: 14s\tremaining: 2.79s\n",
      "834:\tlearn: 1255.2269890\ttotal: 14s\tremaining: 2.77s\n",
      "835:\tlearn: 1255.1115253\ttotal: 14s\tremaining: 2.75s\n",
      "836:\tlearn: 1255.0293838\ttotal: 14s\tremaining: 2.73s\n",
      "837:\tlearn: 1254.9319022\ttotal: 14.1s\tremaining: 2.72s\n",
      "838:\tlearn: 1254.8406062\ttotal: 14.1s\tremaining: 2.7s\n",
      "839:\tlearn: 1254.7855166\ttotal: 14.1s\tremaining: 2.68s\n",
      "840:\tlearn: 1254.6894004\ttotal: 14.1s\tremaining: 2.67s\n",
      "841:\tlearn: 1254.5722072\ttotal: 14.1s\tremaining: 2.65s\n",
      "842:\tlearn: 1254.5124094\ttotal: 14.1s\tremaining: 2.63s\n",
      "843:\tlearn: 1254.4353692\ttotal: 14.2s\tremaining: 2.62s\n",
      "844:\tlearn: 1254.3179091\ttotal: 14.2s\tremaining: 2.6s\n",
      "845:\tlearn: 1254.2659161\ttotal: 14.2s\tremaining: 2.58s\n",
      "846:\tlearn: 1254.1830681\ttotal: 14.2s\tremaining: 2.57s\n",
      "847:\tlearn: 1254.0690781\ttotal: 14.2s\tremaining: 2.55s\n",
      "848:\tlearn: 1253.9372889\ttotal: 14.3s\tremaining: 2.53s\n",
      "849:\tlearn: 1253.8837561\ttotal: 14.3s\tremaining: 2.52s\n",
      "850:\tlearn: 1253.7717452\ttotal: 14.3s\tremaining: 2.5s\n",
      "851:\tlearn: 1253.7213924\ttotal: 14.3s\tremaining: 2.48s\n",
      "852:\tlearn: 1253.6607970\ttotal: 14.3s\tremaining: 2.47s\n",
      "853:\tlearn: 1253.6025882\ttotal: 14.3s\tremaining: 2.45s\n",
      "854:\tlearn: 1253.5192327\ttotal: 14.4s\tremaining: 2.43s\n",
      "855:\tlearn: 1253.3934645\ttotal: 14.4s\tremaining: 2.42s\n",
      "856:\tlearn: 1253.3039627\ttotal: 14.4s\tremaining: 2.4s\n",
      "857:\tlearn: 1253.2228712\ttotal: 14.4s\tremaining: 2.38s\n",
      "858:\tlearn: 1253.1689363\ttotal: 14.4s\tremaining: 2.37s\n",
      "859:\tlearn: 1253.0227072\ttotal: 14.4s\tremaining: 2.35s\n",
      "860:\tlearn: 1252.9337714\ttotal: 14.4s\tremaining: 2.33s\n",
      "861:\tlearn: 1252.8738046\ttotal: 14.5s\tremaining: 2.31s\n",
      "862:\tlearn: 1252.8221751\ttotal: 14.5s\tremaining: 2.3s\n",
      "863:\tlearn: 1252.7792213\ttotal: 14.5s\tremaining: 2.28s\n",
      "864:\tlearn: 1252.7074406\ttotal: 14.5s\tremaining: 2.26s\n",
      "865:\tlearn: 1252.6304222\ttotal: 14.5s\tremaining: 2.25s\n",
      "866:\tlearn: 1252.5594243\ttotal: 14.5s\tremaining: 2.23s\n",
      "867:\tlearn: 1252.4465859\ttotal: 14.6s\tremaining: 2.21s\n",
      "868:\tlearn: 1252.3555778\ttotal: 14.6s\tremaining: 2.2s\n",
      "869:\tlearn: 1252.2905015\ttotal: 14.6s\tremaining: 2.18s\n",
      "870:\tlearn: 1252.2338257\ttotal: 14.6s\tremaining: 2.16s\n",
      "871:\tlearn: 1252.1299574\ttotal: 14.6s\tremaining: 2.15s\n",
      "872:\tlearn: 1252.0064076\ttotal: 14.6s\tremaining: 2.13s\n",
      "873:\tlearn: 1251.9072794\ttotal: 14.7s\tremaining: 2.11s\n",
      "874:\tlearn: 1251.8462131\ttotal: 14.7s\tremaining: 2.1s\n",
      "875:\tlearn: 1251.7962076\ttotal: 14.7s\tremaining: 2.08s\n",
      "876:\tlearn: 1251.7117334\ttotal: 14.7s\tremaining: 2.06s\n",
      "877:\tlearn: 1251.6111551\ttotal: 14.7s\tremaining: 2.04s\n",
      "878:\tlearn: 1251.5234804\ttotal: 14.7s\tremaining: 2.03s\n",
      "879:\tlearn: 1251.4618916\ttotal: 14.8s\tremaining: 2.01s\n",
      "880:\tlearn: 1251.4214989\ttotal: 14.8s\tremaining: 2s\n",
      "881:\tlearn: 1251.3842759\ttotal: 14.8s\tremaining: 1.98s\n",
      "882:\tlearn: 1251.2957565\ttotal: 14.8s\tremaining: 1.96s\n",
      "883:\tlearn: 1251.1999902\ttotal: 14.8s\tremaining: 1.94s\n",
      "884:\tlearn: 1251.1006996\ttotal: 14.8s\tremaining: 1.93s\n",
      "885:\tlearn: 1250.9988192\ttotal: 14.8s\tremaining: 1.91s\n",
      "886:\tlearn: 1250.8956703\ttotal: 14.9s\tremaining: 1.89s\n",
      "887:\tlearn: 1250.8419561\ttotal: 14.9s\tremaining: 1.88s\n",
      "888:\tlearn: 1250.7499657\ttotal: 14.9s\tremaining: 1.86s\n",
      "889:\tlearn: 1250.6709255\ttotal: 14.9s\tremaining: 1.84s\n",
      "890:\tlearn: 1250.5645250\ttotal: 14.9s\tremaining: 1.83s\n",
      "891:\tlearn: 1250.4609638\ttotal: 14.9s\tremaining: 1.81s\n",
      "892:\tlearn: 1250.3985454\ttotal: 15s\tremaining: 1.79s\n",
      "893:\tlearn: 1250.2977955\ttotal: 15s\tremaining: 1.77s\n",
      "894:\tlearn: 1250.2258968\ttotal: 15s\tremaining: 1.76s\n",
      "895:\tlearn: 1250.1265756\ttotal: 15s\tremaining: 1.74s\n",
      "896:\tlearn: 1250.0181976\ttotal: 15s\tremaining: 1.73s\n",
      "897:\tlearn: 1249.9093483\ttotal: 15s\tremaining: 1.71s\n",
      "898:\tlearn: 1249.8508084\ttotal: 15.1s\tremaining: 1.69s\n",
      "899:\tlearn: 1249.7774746\ttotal: 15.1s\tremaining: 1.67s\n",
      "900:\tlearn: 1249.6937416\ttotal: 15.1s\tremaining: 1.66s\n",
      "901:\tlearn: 1249.5889441\ttotal: 15.1s\tremaining: 1.64s\n",
      "902:\tlearn: 1249.5063905\ttotal: 15.1s\tremaining: 1.62s\n",
      "903:\tlearn: 1249.4615217\ttotal: 15.1s\tremaining: 1.61s\n",
      "904:\tlearn: 1249.4031418\ttotal: 15.2s\tremaining: 1.59s\n",
      "905:\tlearn: 1249.3370306\ttotal: 15.2s\tremaining: 1.57s\n",
      "906:\tlearn: 1249.2787631\ttotal: 15.2s\tremaining: 1.56s\n",
      "907:\tlearn: 1249.1679473\ttotal: 15.2s\tremaining: 1.54s\n",
      "908:\tlearn: 1249.1009356\ttotal: 15.2s\tremaining: 1.52s\n",
      "909:\tlearn: 1249.0732233\ttotal: 15.2s\tremaining: 1.51s\n",
      "910:\tlearn: 1248.9479453\ttotal: 15.2s\tremaining: 1.49s\n",
      "911:\tlearn: 1248.8328705\ttotal: 15.3s\tremaining: 1.47s\n",
      "912:\tlearn: 1248.7620590\ttotal: 15.3s\tremaining: 1.46s\n",
      "913:\tlearn: 1248.6350690\ttotal: 15.3s\tremaining: 1.44s\n",
      "914:\tlearn: 1248.5573086\ttotal: 15.3s\tremaining: 1.42s\n",
      "915:\tlearn: 1248.4834221\ttotal: 15.3s\tremaining: 1.41s\n",
      "916:\tlearn: 1248.3620055\ttotal: 15.3s\tremaining: 1.39s\n",
      "917:\tlearn: 1248.2995144\ttotal: 15.4s\tremaining: 1.37s\n",
      "918:\tlearn: 1248.2093410\ttotal: 15.4s\tremaining: 1.36s\n",
      "919:\tlearn: 1248.1475196\ttotal: 15.4s\tremaining: 1.34s\n",
      "920:\tlearn: 1248.1423127\ttotal: 15.4s\tremaining: 1.32s\n",
      "921:\tlearn: 1248.0777697\ttotal: 15.4s\tremaining: 1.3s\n",
      "922:\tlearn: 1247.9888660\ttotal: 15.4s\tremaining: 1.29s\n",
      "923:\tlearn: 1247.8220794\ttotal: 15.5s\tremaining: 1.27s\n",
      "924:\tlearn: 1247.7711986\ttotal: 15.5s\tremaining: 1.25s\n",
      "925:\tlearn: 1247.6295171\ttotal: 15.5s\tremaining: 1.24s\n",
      "926:\tlearn: 1247.5568277\ttotal: 15.5s\tremaining: 1.22s\n",
      "927:\tlearn: 1247.4997029\ttotal: 15.5s\tremaining: 1.21s\n",
      "928:\tlearn: 1247.3976510\ttotal: 15.6s\tremaining: 1.19s\n",
      "929:\tlearn: 1247.3010361\ttotal: 15.6s\tremaining: 1.17s\n",
      "930:\tlearn: 1247.2428853\ttotal: 15.6s\tremaining: 1.16s\n",
      "931:\tlearn: 1247.1870223\ttotal: 15.6s\tremaining: 1.14s\n",
      "932:\tlearn: 1247.0959409\ttotal: 15.6s\tremaining: 1.12s\n",
      "933:\tlearn: 1246.9495553\ttotal: 15.6s\tremaining: 1.1s\n",
      "934:\tlearn: 1246.8772704\ttotal: 15.7s\tremaining: 1.09s\n",
      "935:\tlearn: 1246.7942728\ttotal: 15.7s\tremaining: 1.07s\n",
      "936:\tlearn: 1246.7706015\ttotal: 15.7s\tremaining: 1.05s\n",
      "937:\tlearn: 1246.7070330\ttotal: 15.7s\tremaining: 1.04s\n",
      "938:\tlearn: 1246.6551271\ttotal: 15.7s\tremaining: 1.02s\n",
      "939:\tlearn: 1246.6427900\ttotal: 15.7s\tremaining: 1s\n",
      "940:\tlearn: 1246.5541197\ttotal: 15.8s\tremaining: 988ms\n",
      "941:\tlearn: 1246.4805719\ttotal: 15.8s\tremaining: 971ms\n",
      "942:\tlearn: 1246.4352115\ttotal: 15.8s\tremaining: 954ms\n",
      "943:\tlearn: 1246.3792235\ttotal: 15.8s\tremaining: 938ms\n",
      "944:\tlearn: 1246.3101583\ttotal: 15.8s\tremaining: 921ms\n",
      "945:\tlearn: 1246.2378284\ttotal: 15.8s\tremaining: 904ms\n",
      "946:\tlearn: 1246.1533853\ttotal: 15.8s\tremaining: 887ms\n",
      "947:\tlearn: 1246.1044698\ttotal: 15.9s\tremaining: 870ms\n",
      "948:\tlearn: 1245.9517365\ttotal: 15.9s\tremaining: 854ms\n",
      "949:\tlearn: 1245.9053186\ttotal: 15.9s\tremaining: 837ms\n",
      "950:\tlearn: 1245.8715662\ttotal: 15.9s\tremaining: 820ms\n",
      "951:\tlearn: 1245.7994046\ttotal: 15.9s\tremaining: 803ms\n",
      "952:\tlearn: 1245.7467391\ttotal: 15.9s\tremaining: 786ms\n",
      "953:\tlearn: 1245.7175358\ttotal: 16s\tremaining: 770ms\n",
      "954:\tlearn: 1245.6388532\ttotal: 16s\tremaining: 753ms\n",
      "955:\tlearn: 1245.5773679\ttotal: 16s\tremaining: 736ms\n",
      "956:\tlearn: 1245.4597975\ttotal: 16s\tremaining: 720ms\n",
      "957:\tlearn: 1245.4081796\ttotal: 16s\tremaining: 703ms\n",
      "958:\tlearn: 1245.3314735\ttotal: 16s\tremaining: 686ms\n",
      "959:\tlearn: 1245.2747563\ttotal: 16.1s\tremaining: 669ms\n",
      "960:\tlearn: 1245.2306475\ttotal: 16.1s\tremaining: 653ms\n",
      "961:\tlearn: 1245.1586469\ttotal: 16.1s\tremaining: 636ms\n",
      "962:\tlearn: 1245.0844295\ttotal: 16.1s\tremaining: 619ms\n",
      "963:\tlearn: 1244.9944752\ttotal: 16.1s\tremaining: 602ms\n",
      "964:\tlearn: 1244.9800281\ttotal: 16.1s\tremaining: 585ms\n",
      "965:\tlearn: 1244.8454564\ttotal: 16.2s\tremaining: 569ms\n",
      "966:\tlearn: 1244.7387310\ttotal: 16.2s\tremaining: 552ms\n",
      "967:\tlearn: 1244.6315163\ttotal: 16.2s\tremaining: 535ms\n",
      "968:\tlearn: 1244.5755844\ttotal: 16.2s\tremaining: 519ms\n",
      "969:\tlearn: 1244.5120454\ttotal: 16.2s\tremaining: 502ms\n",
      "970:\tlearn: 1244.4009708\ttotal: 16.2s\tremaining: 485ms\n",
      "971:\tlearn: 1244.3111884\ttotal: 16.3s\tremaining: 468ms\n",
      "972:\tlearn: 1244.2422562\ttotal: 16.3s\tremaining: 452ms\n",
      "973:\tlearn: 1244.1443359\ttotal: 16.3s\tremaining: 435ms\n",
      "974:\tlearn: 1244.0907698\ttotal: 16.3s\tremaining: 418ms\n",
      "975:\tlearn: 1243.9637847\ttotal: 16.3s\tremaining: 401ms\n",
      "976:\tlearn: 1243.8970852\ttotal: 16.3s\tremaining: 385ms\n",
      "977:\tlearn: 1243.8210215\ttotal: 16.4s\tremaining: 368ms\n",
      "978:\tlearn: 1243.7031441\ttotal: 16.4s\tremaining: 351ms\n",
      "979:\tlearn: 1243.6389284\ttotal: 16.4s\tremaining: 335ms\n",
      "980:\tlearn: 1243.5630371\ttotal: 16.4s\tremaining: 318ms\n",
      "981:\tlearn: 1243.4841497\ttotal: 16.4s\tremaining: 301ms\n",
      "982:\tlearn: 1243.4340577\ttotal: 16.4s\tremaining: 284ms\n",
      "983:\tlearn: 1243.3558018\ttotal: 16.5s\tremaining: 268ms\n",
      "984:\tlearn: 1243.2796140\ttotal: 16.5s\tremaining: 251ms\n",
      "985:\tlearn: 1243.2316240\ttotal: 16.5s\tremaining: 234ms\n",
      "986:\tlearn: 1243.1601504\ttotal: 16.5s\tremaining: 217ms\n",
      "987:\tlearn: 1243.1083688\ttotal: 16.5s\tremaining: 201ms\n",
      "988:\tlearn: 1243.0930353\ttotal: 16.5s\tremaining: 184ms\n",
      "989:\tlearn: 1243.0253220\ttotal: 16.6s\tremaining: 167ms\n",
      "990:\tlearn: 1242.9452328\ttotal: 16.6s\tremaining: 150ms\n",
      "991:\tlearn: 1242.9015951\ttotal: 16.6s\tremaining: 134ms\n",
      "992:\tlearn: 1242.8259063\ttotal: 16.6s\tremaining: 117ms\n",
      "993:\tlearn: 1242.7409346\ttotal: 16.6s\tremaining: 100ms\n",
      "994:\tlearn: 1242.6511630\ttotal: 16.6s\tremaining: 83.6ms\n",
      "995:\tlearn: 1242.5725521\ttotal: 16.7s\tremaining: 66.9ms\n",
      "996:\tlearn: 1242.5124764\ttotal: 16.7s\tremaining: 50.2ms\n",
      "997:\tlearn: 1242.4061976\ttotal: 16.7s\tremaining: 33.4ms\n",
      "998:\tlearn: 1242.3206141\ttotal: 16.7s\tremaining: 16.7ms\n",
      "999:\tlearn: 1242.2581087\ttotal: 16.7s\tremaining: 0us\n",
      "Learning rate set to 0.088752\n",
      "0:\tlearn: 3393.6475477\ttotal: 20.8ms\tremaining: 20.7s\n",
      "1:\tlearn: 3212.1214172\ttotal: 40.1ms\tremaining: 20s\n",
      "2:\tlearn: 3051.6478928\ttotal: 59.2ms\tremaining: 19.7s\n",
      "3:\tlearn: 2903.8362990\ttotal: 77.7ms\tremaining: 19.3s\n",
      "4:\tlearn: 2773.7156417\ttotal: 104ms\tremaining: 20.6s\n",
      "5:\tlearn: 2655.1613880\ttotal: 123ms\tremaining: 20.3s\n",
      "6:\tlearn: 2547.0703741\ttotal: 142ms\tremaining: 20.2s\n",
      "7:\tlearn: 2454.7343750\ttotal: 161ms\tremaining: 19.9s\n",
      "8:\tlearn: 2373.3386075\ttotal: 179ms\tremaining: 19.7s\n",
      "9:\tlearn: 2297.4996688\ttotal: 203ms\tremaining: 20.1s\n",
      "10:\tlearn: 2230.8270210\ttotal: 219ms\tremaining: 19.7s\n",
      "11:\tlearn: 2170.3881160\ttotal: 235ms\tremaining: 19.4s\n",
      "12:\tlearn: 2118.1668577\ttotal: 251ms\tremaining: 19s\n",
      "13:\tlearn: 2070.1242987\ttotal: 267ms\tremaining: 18.8s\n",
      "14:\tlearn: 2028.3878924\ttotal: 290ms\tremaining: 19s\n",
      "15:\tlearn: 1991.4571497\ttotal: 308ms\tremaining: 18.9s\n",
      "16:\tlearn: 1954.5951955\ttotal: 324ms\tremaining: 18.7s\n",
      "17:\tlearn: 1925.0011227\ttotal: 339ms\tremaining: 18.5s\n",
      "18:\tlearn: 1898.1356066\ttotal: 355ms\tremaining: 18.3s\n",
      "19:\tlearn: 1866.9797197\ttotal: 371ms\tremaining: 18.2s\n",
      "20:\tlearn: 1843.9671514\ttotal: 393ms\tremaining: 18.3s\n",
      "21:\tlearn: 1823.6306880\ttotal: 410ms\tremaining: 18.2s\n",
      "22:\tlearn: 1803.8937584\ttotal: 426ms\tremaining: 18.1s\n",
      "23:\tlearn: 1786.0678589\ttotal: 443ms\tremaining: 18s\n",
      "24:\tlearn: 1770.1416390\ttotal: 459ms\tremaining: 17.9s\n",
      "25:\tlearn: 1749.6914273\ttotal: 485ms\tremaining: 18.2s\n",
      "26:\tlearn: 1732.4663056\ttotal: 501ms\tremaining: 18.1s\n",
      "27:\tlearn: 1719.2280479\ttotal: 517ms\tremaining: 17.9s\n",
      "28:\tlearn: 1706.4024556\ttotal: 533ms\tremaining: 17.8s\n",
      "29:\tlearn: 1694.7088998\ttotal: 549ms\tremaining: 17.7s\n",
      "30:\tlearn: 1682.7512023\ttotal: 565ms\tremaining: 17.7s\n",
      "31:\tlearn: 1673.3744004\ttotal: 588ms\tremaining: 17.8s\n",
      "32:\tlearn: 1663.6727702\ttotal: 607ms\tremaining: 17.8s\n",
      "33:\tlearn: 1653.2787193\ttotal: 625ms\tremaining: 17.8s\n",
      "34:\tlearn: 1644.2586005\ttotal: 641ms\tremaining: 17.7s\n",
      "35:\tlearn: 1636.5609648\ttotal: 657ms\tremaining: 17.6s\n",
      "36:\tlearn: 1629.2844847\ttotal: 684ms\tremaining: 17.8s\n",
      "37:\tlearn: 1622.1414685\ttotal: 701ms\tremaining: 17.7s\n",
      "38:\tlearn: 1615.6901536\ttotal: 720ms\tremaining: 17.7s\n",
      "39:\tlearn: 1609.4047746\ttotal: 738ms\tremaining: 17.7s\n",
      "40:\tlearn: 1602.4202340\ttotal: 754ms\tremaining: 17.6s\n",
      "41:\tlearn: 1597.4807597\ttotal: 776ms\tremaining: 17.7s\n",
      "42:\tlearn: 1592.4899588\ttotal: 793ms\tremaining: 17.6s\n",
      "43:\tlearn: 1587.7325203\ttotal: 808ms\tremaining: 17.6s\n",
      "44:\tlearn: 1583.6669488\ttotal: 824ms\tremaining: 17.5s\n",
      "45:\tlearn: 1578.0900736\ttotal: 839ms\tremaining: 17.4s\n",
      "46:\tlearn: 1572.4338168\ttotal: 855ms\tremaining: 17.3s\n",
      "47:\tlearn: 1568.2766529\ttotal: 876ms\tremaining: 17.4s\n",
      "48:\tlearn: 1564.1915192\ttotal: 891ms\tremaining: 17.3s\n",
      "49:\tlearn: 1560.3013483\ttotal: 906ms\tremaining: 17.2s\n",
      "50:\tlearn: 1557.0211403\ttotal: 921ms\tremaining: 17.1s\n",
      "51:\tlearn: 1553.5684396\ttotal: 937ms\tremaining: 17.1s\n",
      "52:\tlearn: 1549.8996174\ttotal: 952ms\tremaining: 17s\n",
      "53:\tlearn: 1545.7128742\ttotal: 973ms\tremaining: 17.1s\n",
      "54:\tlearn: 1541.6505842\ttotal: 989ms\tremaining: 17s\n",
      "55:\tlearn: 1537.9101669\ttotal: 1s\tremaining: 16.9s\n",
      "56:\tlearn: 1535.3444432\ttotal: 1.02s\tremaining: 16.9s\n",
      "57:\tlearn: 1533.2311480\ttotal: 1.03s\tremaining: 16.8s\n",
      "58:\tlearn: 1530.4956692\ttotal: 1.05s\tremaining: 16.8s\n",
      "59:\tlearn: 1527.3326181\ttotal: 1.07s\tremaining: 16.8s\n",
      "60:\tlearn: 1523.7454206\ttotal: 1.09s\tremaining: 16.7s\n",
      "61:\tlearn: 1521.9763660\ttotal: 1.1s\tremaining: 16.7s\n",
      "62:\tlearn: 1519.4333251\ttotal: 1.12s\tremaining: 16.6s\n",
      "63:\tlearn: 1515.9698302\ttotal: 1.14s\tremaining: 16.6s\n",
      "64:\tlearn: 1512.7091802\ttotal: 1.16s\tremaining: 16.7s\n",
      "65:\tlearn: 1511.0435953\ttotal: 1.18s\tremaining: 16.7s\n",
      "66:\tlearn: 1507.6683484\ttotal: 1.2s\tremaining: 16.6s\n",
      "67:\tlearn: 1505.6903151\ttotal: 1.22s\tremaining: 16.7s\n",
      "68:\tlearn: 1504.2721298\ttotal: 1.23s\tremaining: 16.7s\n",
      "69:\tlearn: 1501.7053175\ttotal: 1.26s\tremaining: 16.7s\n",
      "70:\tlearn: 1499.6095587\ttotal: 1.27s\tremaining: 16.7s\n",
      "71:\tlearn: 1497.6575414\ttotal: 1.29s\tremaining: 16.6s\n",
      "72:\tlearn: 1496.0962987\ttotal: 1.3s\tremaining: 16.6s\n",
      "73:\tlearn: 1494.1126123\ttotal: 1.32s\tremaining: 16.5s\n",
      "74:\tlearn: 1491.8400216\ttotal: 1.34s\tremaining: 16.5s\n",
      "75:\tlearn: 1490.4604751\ttotal: 1.36s\tremaining: 16.5s\n",
      "76:\tlearn: 1488.7847499\ttotal: 1.37s\tremaining: 16.5s\n",
      "77:\tlearn: 1487.5103958\ttotal: 1.39s\tremaining: 16.4s\n",
      "78:\tlearn: 1485.9396339\ttotal: 1.4s\tremaining: 16.4s\n",
      "79:\tlearn: 1483.8887852\ttotal: 1.42s\tremaining: 16.3s\n",
      "80:\tlearn: 1482.2765045\ttotal: 1.44s\tremaining: 16.3s\n",
      "81:\tlearn: 1480.9616826\ttotal: 1.46s\tremaining: 16.3s\n",
      "82:\tlearn: 1479.4845815\ttotal: 1.47s\tremaining: 16.3s\n",
      "83:\tlearn: 1477.8685405\ttotal: 1.49s\tremaining: 16.2s\n",
      "84:\tlearn: 1475.8691004\ttotal: 1.5s\tremaining: 16.2s\n",
      "85:\tlearn: 1474.5199370\ttotal: 1.52s\tremaining: 16.2s\n",
      "86:\tlearn: 1473.5040781\ttotal: 1.54s\tremaining: 16.1s\n",
      "87:\tlearn: 1472.5210310\ttotal: 1.56s\tremaining: 16.1s\n",
      "88:\tlearn: 1471.4000041\ttotal: 1.57s\tremaining: 16.1s\n",
      "89:\tlearn: 1469.6024647\ttotal: 1.59s\tremaining: 16.1s\n",
      "90:\tlearn: 1468.4751844\ttotal: 1.6s\tremaining: 16s\n",
      "91:\tlearn: 1467.5632354\ttotal: 1.62s\tremaining: 16s\n",
      "92:\tlearn: 1466.0415255\ttotal: 1.64s\tremaining: 16s\n",
      "93:\tlearn: 1464.8541199\ttotal: 1.66s\tremaining: 16s\n",
      "94:\tlearn: 1463.2249050\ttotal: 1.67s\tremaining: 15.9s\n",
      "95:\tlearn: 1461.6428311\ttotal: 1.69s\tremaining: 15.9s\n",
      "96:\tlearn: 1459.9459452\ttotal: 1.7s\tremaining: 15.9s\n",
      "97:\tlearn: 1459.1512192\ttotal: 1.72s\tremaining: 15.8s\n",
      "98:\tlearn: 1458.4183542\ttotal: 1.73s\tremaining: 15.8s\n",
      "99:\tlearn: 1456.7666901\ttotal: 1.75s\tremaining: 15.8s\n",
      "100:\tlearn: 1455.8861033\ttotal: 1.77s\tremaining: 15.7s\n",
      "101:\tlearn: 1455.0159791\ttotal: 1.78s\tremaining: 15.7s\n",
      "102:\tlearn: 1453.1894776\ttotal: 1.8s\tremaining: 15.6s\n",
      "103:\tlearn: 1451.7285989\ttotal: 1.81s\tremaining: 15.6s\n",
      "104:\tlearn: 1450.6147649\ttotal: 1.83s\tremaining: 15.6s\n",
      "105:\tlearn: 1449.8697138\ttotal: 1.85s\tremaining: 15.6s\n",
      "106:\tlearn: 1448.4043114\ttotal: 1.87s\tremaining: 15.6s\n",
      "107:\tlearn: 1447.3504368\ttotal: 1.88s\tremaining: 15.5s\n",
      "108:\tlearn: 1446.3312357\ttotal: 1.9s\tremaining: 15.5s\n",
      "109:\tlearn: 1445.6857101\ttotal: 1.91s\tremaining: 15.4s\n",
      "110:\tlearn: 1444.5092718\ttotal: 1.93s\tremaining: 15.5s\n",
      "111:\tlearn: 1443.7772842\ttotal: 1.95s\tremaining: 15.4s\n",
      "112:\tlearn: 1442.3324132\ttotal: 1.96s\tremaining: 15.4s\n",
      "113:\tlearn: 1441.5109304\ttotal: 1.98s\tremaining: 15.4s\n",
      "114:\tlearn: 1440.2256511\ttotal: 1.99s\tremaining: 15.3s\n",
      "115:\tlearn: 1439.5500605\ttotal: 2.01s\tremaining: 15.3s\n",
      "116:\tlearn: 1438.9102504\ttotal: 2.03s\tremaining: 15.3s\n",
      "117:\tlearn: 1437.9705545\ttotal: 2.05s\tremaining: 15.3s\n",
      "118:\tlearn: 1437.1180104\ttotal: 2.07s\tremaining: 15.3s\n",
      "119:\tlearn: 1436.3718797\ttotal: 2.08s\tremaining: 15.3s\n",
      "120:\tlearn: 1435.3035674\ttotal: 2.1s\tremaining: 15.3s\n",
      "121:\tlearn: 1434.2106314\ttotal: 2.12s\tremaining: 15.3s\n",
      "122:\tlearn: 1433.3621615\ttotal: 2.14s\tremaining: 15.3s\n",
      "123:\tlearn: 1431.7532587\ttotal: 2.16s\tremaining: 15.3s\n",
      "124:\tlearn: 1430.8332384\ttotal: 2.18s\tremaining: 15.3s\n",
      "125:\tlearn: 1430.1984901\ttotal: 2.2s\tremaining: 15.3s\n",
      "126:\tlearn: 1429.6697113\ttotal: 2.23s\tremaining: 15.3s\n",
      "127:\tlearn: 1429.2042118\ttotal: 2.24s\tremaining: 15.3s\n",
      "128:\tlearn: 1428.3396832\ttotal: 2.26s\tremaining: 15.3s\n",
      "129:\tlearn: 1427.3309432\ttotal: 2.28s\tremaining: 15.3s\n",
      "130:\tlearn: 1425.6618073\ttotal: 2.3s\tremaining: 15.3s\n",
      "131:\tlearn: 1425.0452992\ttotal: 2.33s\tremaining: 15.3s\n",
      "132:\tlearn: 1423.9816459\ttotal: 2.35s\tremaining: 15.3s\n",
      "133:\tlearn: 1423.0911440\ttotal: 2.37s\tremaining: 15.3s\n",
      "134:\tlearn: 1422.2690253\ttotal: 2.38s\tremaining: 15.3s\n",
      "135:\tlearn: 1421.6521220\ttotal: 2.4s\tremaining: 15.2s\n",
      "136:\tlearn: 1421.0319708\ttotal: 2.42s\tremaining: 15.2s\n",
      "137:\tlearn: 1420.0226654\ttotal: 2.44s\tremaining: 15.2s\n",
      "138:\tlearn: 1419.2519451\ttotal: 2.45s\tremaining: 15.2s\n",
      "139:\tlearn: 1418.4392991\ttotal: 2.46s\tremaining: 15.1s\n",
      "140:\tlearn: 1417.7149812\ttotal: 2.48s\tremaining: 15.1s\n",
      "141:\tlearn: 1416.8334915\ttotal: 2.5s\tremaining: 15.1s\n",
      "142:\tlearn: 1416.3159257\ttotal: 2.52s\tremaining: 15.1s\n",
      "143:\tlearn: 1415.8801275\ttotal: 2.53s\tremaining: 15.1s\n",
      "144:\tlearn: 1414.8267046\ttotal: 2.55s\tremaining: 15s\n",
      "145:\tlearn: 1414.0266165\ttotal: 2.56s\tremaining: 15s\n",
      "146:\tlearn: 1413.3945013\ttotal: 2.58s\tremaining: 15s\n",
      "147:\tlearn: 1412.3162438\ttotal: 2.6s\tremaining: 15s\n",
      "148:\tlearn: 1411.6781939\ttotal: 2.61s\tremaining: 14.9s\n",
      "149:\tlearn: 1411.0171958\ttotal: 2.63s\tremaining: 14.9s\n",
      "150:\tlearn: 1410.4691667\ttotal: 2.64s\tremaining: 14.9s\n",
      "151:\tlearn: 1409.6480038\ttotal: 2.66s\tremaining: 14.8s\n",
      "152:\tlearn: 1408.9255389\ttotal: 2.67s\tremaining: 14.8s\n",
      "153:\tlearn: 1408.3349175\ttotal: 2.69s\tremaining: 14.8s\n",
      "154:\tlearn: 1407.8525116\ttotal: 2.71s\tremaining: 14.8s\n",
      "155:\tlearn: 1407.3516395\ttotal: 2.72s\tremaining: 14.7s\n",
      "156:\tlearn: 1406.9712519\ttotal: 2.73s\tremaining: 14.7s\n",
      "157:\tlearn: 1406.6176222\ttotal: 2.75s\tremaining: 14.6s\n",
      "158:\tlearn: 1405.8834855\ttotal: 2.76s\tremaining: 14.6s\n",
      "159:\tlearn: 1405.1191130\ttotal: 2.78s\tremaining: 14.6s\n",
      "160:\tlearn: 1404.1232135\ttotal: 2.8s\tremaining: 14.6s\n",
      "161:\tlearn: 1403.3680013\ttotal: 2.81s\tremaining: 14.6s\n",
      "162:\tlearn: 1402.5214052\ttotal: 2.83s\tremaining: 14.5s\n",
      "163:\tlearn: 1401.7448065\ttotal: 2.85s\tremaining: 14.5s\n",
      "164:\tlearn: 1401.0114202\ttotal: 2.86s\tremaining: 14.5s\n",
      "165:\tlearn: 1400.2641938\ttotal: 2.88s\tremaining: 14.5s\n",
      "166:\tlearn: 1399.5777555\ttotal: 2.9s\tremaining: 14.5s\n",
      "167:\tlearn: 1398.9827585\ttotal: 2.91s\tremaining: 14.4s\n",
      "168:\tlearn: 1398.3181055\ttotal: 2.93s\tremaining: 14.4s\n",
      "169:\tlearn: 1397.9075299\ttotal: 2.94s\tremaining: 14.4s\n",
      "170:\tlearn: 1397.3797678\ttotal: 2.96s\tremaining: 14.3s\n",
      "171:\tlearn: 1396.9128042\ttotal: 2.97s\tremaining: 14.3s\n",
      "172:\tlearn: 1396.4566899\ttotal: 2.99s\tremaining: 14.3s\n",
      "173:\tlearn: 1395.5527715\ttotal: 3.01s\tremaining: 14.3s\n",
      "174:\tlearn: 1394.8893688\ttotal: 3.02s\tremaining: 14.3s\n",
      "175:\tlearn: 1394.3299273\ttotal: 3.04s\tremaining: 14.2s\n",
      "176:\tlearn: 1393.4493453\ttotal: 3.06s\tremaining: 14.2s\n",
      "177:\tlearn: 1392.7696725\ttotal: 3.07s\tremaining: 14.2s\n",
      "178:\tlearn: 1392.3243921\ttotal: 3.09s\tremaining: 14.2s\n",
      "179:\tlearn: 1391.7958346\ttotal: 3.11s\tremaining: 14.2s\n",
      "180:\tlearn: 1391.4485193\ttotal: 3.12s\tremaining: 14.1s\n",
      "181:\tlearn: 1390.8141859\ttotal: 3.14s\tremaining: 14.1s\n",
      "182:\tlearn: 1389.8143005\ttotal: 3.15s\tremaining: 14.1s\n",
      "183:\tlearn: 1389.4006800\ttotal: 3.17s\tremaining: 14s\n",
      "184:\tlearn: 1389.0367765\ttotal: 3.19s\tremaining: 14s\n",
      "185:\tlearn: 1388.5136809\ttotal: 3.2s\tremaining: 14s\n",
      "186:\tlearn: 1387.9703800\ttotal: 3.22s\tremaining: 14s\n",
      "187:\tlearn: 1387.4852427\ttotal: 3.23s\tremaining: 14s\n",
      "188:\tlearn: 1387.0731077\ttotal: 3.25s\tremaining: 13.9s\n",
      "189:\tlearn: 1386.6807423\ttotal: 3.26s\tremaining: 13.9s\n",
      "190:\tlearn: 1385.8466888\ttotal: 3.29s\tremaining: 13.9s\n",
      "191:\tlearn: 1385.4149060\ttotal: 3.3s\tremaining: 13.9s\n",
      "192:\tlearn: 1385.0676533\ttotal: 3.32s\tremaining: 13.9s\n",
      "193:\tlearn: 1384.5068796\ttotal: 3.33s\tremaining: 13.8s\n",
      "194:\tlearn: 1383.8225527\ttotal: 3.35s\tremaining: 13.8s\n",
      "195:\tlearn: 1383.1702685\ttotal: 3.36s\tremaining: 13.8s\n",
      "196:\tlearn: 1382.4810897\ttotal: 3.38s\tremaining: 13.8s\n",
      "197:\tlearn: 1381.9247780\ttotal: 3.4s\tremaining: 13.8s\n",
      "198:\tlearn: 1381.3519483\ttotal: 3.42s\tremaining: 13.8s\n",
      "199:\tlearn: 1381.0805531\ttotal: 3.44s\tremaining: 13.8s\n",
      "200:\tlearn: 1380.5946468\ttotal: 3.46s\tremaining: 13.8s\n",
      "201:\tlearn: 1380.1691404\ttotal: 3.48s\tremaining: 13.8s\n",
      "202:\tlearn: 1379.5179644\ttotal: 3.5s\tremaining: 13.7s\n",
      "203:\tlearn: 1379.1266442\ttotal: 3.51s\tremaining: 13.7s\n",
      "204:\tlearn: 1378.7345862\ttotal: 3.53s\tremaining: 13.7s\n",
      "205:\tlearn: 1378.2397901\ttotal: 3.54s\tremaining: 13.7s\n",
      "206:\tlearn: 1377.9100988\ttotal: 3.56s\tremaining: 13.6s\n",
      "207:\tlearn: 1377.2934442\ttotal: 3.58s\tremaining: 13.6s\n",
      "208:\tlearn: 1376.8579752\ttotal: 3.6s\tremaining: 13.6s\n",
      "209:\tlearn: 1376.3064968\ttotal: 3.61s\tremaining: 13.6s\n",
      "210:\tlearn: 1375.9808214\ttotal: 3.63s\tremaining: 13.6s\n",
      "211:\tlearn: 1375.3039537\ttotal: 3.64s\tremaining: 13.5s\n",
      "212:\tlearn: 1375.0100655\ttotal: 3.66s\tremaining: 13.5s\n",
      "213:\tlearn: 1374.5748167\ttotal: 3.67s\tremaining: 13.5s\n",
      "214:\tlearn: 1374.1316635\ttotal: 3.69s\tremaining: 13.5s\n",
      "215:\tlearn: 1373.8386085\ttotal: 3.7s\tremaining: 13.4s\n",
      "216:\tlearn: 1373.5202099\ttotal: 3.72s\tremaining: 13.4s\n",
      "217:\tlearn: 1373.0198621\ttotal: 3.73s\tremaining: 13.4s\n",
      "218:\tlearn: 1372.6193541\ttotal: 3.76s\tremaining: 13.4s\n",
      "219:\tlearn: 1372.2612657\ttotal: 3.77s\tremaining: 13.4s\n",
      "220:\tlearn: 1371.6571807\ttotal: 3.79s\tremaining: 13.4s\n",
      "221:\tlearn: 1371.3091750\ttotal: 3.81s\tremaining: 13.3s\n",
      "222:\tlearn: 1370.9008303\ttotal: 3.82s\tremaining: 13.3s\n",
      "223:\tlearn: 1370.5227197\ttotal: 3.84s\tremaining: 13.3s\n",
      "224:\tlearn: 1370.0024091\ttotal: 3.86s\tremaining: 13.3s\n",
      "225:\tlearn: 1368.9992794\ttotal: 3.88s\tremaining: 13.3s\n",
      "226:\tlearn: 1368.3870303\ttotal: 3.9s\tremaining: 13.3s\n",
      "227:\tlearn: 1368.0378881\ttotal: 3.91s\tremaining: 13.2s\n",
      "228:\tlearn: 1367.6302649\ttotal: 3.92s\tremaining: 13.2s\n",
      "229:\tlearn: 1367.3204061\ttotal: 3.94s\tremaining: 13.2s\n",
      "230:\tlearn: 1366.9540731\ttotal: 3.96s\tremaining: 13.2s\n",
      "231:\tlearn: 1366.3530881\ttotal: 3.98s\tremaining: 13.2s\n",
      "232:\tlearn: 1365.9901260\ttotal: 3.99s\tremaining: 13.1s\n",
      "233:\tlearn: 1365.4074196\ttotal: 4.01s\tremaining: 13.1s\n",
      "234:\tlearn: 1364.9942296\ttotal: 4.02s\tremaining: 13.1s\n",
      "235:\tlearn: 1364.6153807\ttotal: 4.04s\tremaining: 13.1s\n",
      "236:\tlearn: 1364.3435206\ttotal: 4.06s\tremaining: 13.1s\n",
      "237:\tlearn: 1363.7317729\ttotal: 4.08s\tremaining: 13.1s\n",
      "238:\tlearn: 1363.4551087\ttotal: 4.09s\tremaining: 13s\n",
      "239:\tlearn: 1363.0814975\ttotal: 4.11s\tremaining: 13s\n",
      "240:\tlearn: 1362.5024700\ttotal: 4.12s\tremaining: 13s\n",
      "241:\tlearn: 1362.0522342\ttotal: 4.14s\tremaining: 13s\n",
      "242:\tlearn: 1361.3897878\ttotal: 4.16s\tremaining: 13s\n",
      "243:\tlearn: 1360.9066264\ttotal: 4.18s\tremaining: 12.9s\n",
      "244:\tlearn: 1360.5327357\ttotal: 4.19s\tremaining: 12.9s\n",
      "245:\tlearn: 1359.9555882\ttotal: 4.21s\tremaining: 12.9s\n",
      "246:\tlearn: 1359.4750752\ttotal: 4.25s\tremaining: 12.9s\n",
      "247:\tlearn: 1359.0782648\ttotal: 4.26s\tremaining: 12.9s\n",
      "248:\tlearn: 1358.8655264\ttotal: 4.33s\tremaining: 13s\n",
      "249:\tlearn: 1358.4864896\ttotal: 4.35s\tremaining: 13s\n",
      "250:\tlearn: 1358.2473009\ttotal: 4.36s\tremaining: 13s\n",
      "251:\tlearn: 1357.7493023\ttotal: 4.38s\tremaining: 13s\n",
      "252:\tlearn: 1357.4223454\ttotal: 4.4s\tremaining: 13s\n",
      "253:\tlearn: 1357.1945266\ttotal: 4.43s\tremaining: 13s\n",
      "254:\tlearn: 1357.0018767\ttotal: 4.45s\tremaining: 13s\n",
      "255:\tlearn: 1356.5637306\ttotal: 4.47s\tremaining: 13s\n",
      "256:\tlearn: 1356.0077347\ttotal: 4.52s\tremaining: 13.1s\n",
      "257:\tlearn: 1355.4889341\ttotal: 4.54s\tremaining: 13.1s\n",
      "258:\tlearn: 1355.1562218\ttotal: 4.56s\tremaining: 13s\n",
      "259:\tlearn: 1354.7317504\ttotal: 4.58s\tremaining: 13s\n",
      "260:\tlearn: 1354.4924585\ttotal: 4.59s\tremaining: 13s\n",
      "261:\tlearn: 1354.0682216\ttotal: 4.62s\tremaining: 13s\n",
      "262:\tlearn: 1353.7069535\ttotal: 4.63s\tremaining: 13s\n",
      "263:\tlearn: 1353.1472988\ttotal: 4.65s\tremaining: 13s\n",
      "264:\tlearn: 1352.8631944\ttotal: 4.67s\tremaining: 13s\n",
      "265:\tlearn: 1352.3915862\ttotal: 4.69s\tremaining: 12.9s\n",
      "266:\tlearn: 1352.0088829\ttotal: 4.71s\tremaining: 12.9s\n",
      "267:\tlearn: 1351.7558685\ttotal: 4.73s\tremaining: 12.9s\n",
      "268:\tlearn: 1351.2459487\ttotal: 4.75s\tremaining: 12.9s\n",
      "269:\tlearn: 1350.8722134\ttotal: 4.76s\tremaining: 12.9s\n",
      "270:\tlearn: 1350.4838699\ttotal: 4.78s\tremaining: 12.9s\n",
      "271:\tlearn: 1349.9938733\ttotal: 4.8s\tremaining: 12.8s\n",
      "272:\tlearn: 1349.6961007\ttotal: 4.82s\tremaining: 12.8s\n",
      "273:\tlearn: 1349.3501051\ttotal: 4.83s\tremaining: 12.8s\n",
      "274:\tlearn: 1349.0485553\ttotal: 4.85s\tremaining: 12.8s\n",
      "275:\tlearn: 1348.7199109\ttotal: 4.86s\tremaining: 12.8s\n",
      "276:\tlearn: 1348.3960009\ttotal: 4.88s\tremaining: 12.7s\n",
      "277:\tlearn: 1348.1696575\ttotal: 4.89s\tremaining: 12.7s\n",
      "278:\tlearn: 1347.5458752\ttotal: 4.91s\tremaining: 12.7s\n",
      "279:\tlearn: 1347.1228060\ttotal: 4.93s\tremaining: 12.7s\n",
      "280:\tlearn: 1346.8282978\ttotal: 4.94s\tremaining: 12.6s\n",
      "281:\tlearn: 1346.6126584\ttotal: 4.96s\tremaining: 12.6s\n",
      "282:\tlearn: 1346.3153715\ttotal: 4.97s\tremaining: 12.6s\n",
      "283:\tlearn: 1346.0762937\ttotal: 5s\tremaining: 12.6s\n",
      "284:\tlearn: 1345.7114416\ttotal: 5.02s\tremaining: 12.6s\n",
      "285:\tlearn: 1345.3550542\ttotal: 5.03s\tremaining: 12.6s\n",
      "286:\tlearn: 1345.0479287\ttotal: 5.05s\tremaining: 12.5s\n",
      "287:\tlearn: 1344.7280602\ttotal: 5.06s\tremaining: 12.5s\n",
      "288:\tlearn: 1344.4058282\ttotal: 5.08s\tremaining: 12.5s\n",
      "289:\tlearn: 1343.9023326\ttotal: 5.11s\tremaining: 12.5s\n",
      "290:\tlearn: 1343.5118109\ttotal: 5.12s\tremaining: 12.5s\n",
      "291:\tlearn: 1343.0180679\ttotal: 5.14s\tremaining: 12.5s\n",
      "292:\tlearn: 1342.6243763\ttotal: 5.15s\tremaining: 12.4s\n",
      "293:\tlearn: 1342.4405776\ttotal: 5.17s\tremaining: 12.4s\n",
      "294:\tlearn: 1342.0749631\ttotal: 5.18s\tremaining: 12.4s\n",
      "295:\tlearn: 1341.7947011\ttotal: 5.2s\tremaining: 12.4s\n",
      "296:\tlearn: 1341.6073114\ttotal: 5.22s\tremaining: 12.4s\n",
      "297:\tlearn: 1341.3841362\ttotal: 5.23s\tremaining: 12.3s\n",
      "298:\tlearn: 1340.9676045\ttotal: 5.25s\tremaining: 12.3s\n",
      "299:\tlearn: 1340.6565831\ttotal: 5.26s\tremaining: 12.3s\n",
      "300:\tlearn: 1340.4403810\ttotal: 5.29s\tremaining: 12.3s\n",
      "301:\tlearn: 1340.2742139\ttotal: 5.3s\tremaining: 12.3s\n",
      "302:\tlearn: 1340.0000426\ttotal: 5.32s\tremaining: 12.2s\n",
      "303:\tlearn: 1339.5233715\ttotal: 5.33s\tremaining: 12.2s\n",
      "304:\tlearn: 1339.3538212\ttotal: 5.35s\tremaining: 12.2s\n",
      "305:\tlearn: 1339.0580406\ttotal: 5.36s\tremaining: 12.2s\n",
      "306:\tlearn: 1338.6258498\ttotal: 5.38s\tremaining: 12.2s\n",
      "307:\tlearn: 1338.4367040\ttotal: 5.4s\tremaining: 12.1s\n",
      "308:\tlearn: 1338.1540304\ttotal: 5.42s\tremaining: 12.1s\n",
      "309:\tlearn: 1337.9094387\ttotal: 5.43s\tremaining: 12.1s\n",
      "310:\tlearn: 1337.6436106\ttotal: 5.45s\tremaining: 12.1s\n",
      "311:\tlearn: 1337.4478805\ttotal: 5.46s\tremaining: 12s\n",
      "312:\tlearn: 1337.1520481\ttotal: 5.48s\tremaining: 12s\n",
      "313:\tlearn: 1336.7886623\ttotal: 5.5s\tremaining: 12s\n",
      "314:\tlearn: 1336.4682267\ttotal: 5.51s\tremaining: 12s\n",
      "315:\tlearn: 1336.2293658\ttotal: 5.53s\tremaining: 12s\n",
      "316:\tlearn: 1336.0212175\ttotal: 5.54s\tremaining: 11.9s\n",
      "317:\tlearn: 1335.8526061\ttotal: 5.56s\tremaining: 11.9s\n",
      "318:\tlearn: 1335.5153967\ttotal: 5.58s\tremaining: 11.9s\n",
      "319:\tlearn: 1335.2798788\ttotal: 5.6s\tremaining: 11.9s\n",
      "320:\tlearn: 1335.0784214\ttotal: 5.61s\tremaining: 11.9s\n",
      "321:\tlearn: 1334.6082433\ttotal: 5.63s\tremaining: 11.8s\n",
      "322:\tlearn: 1334.3929618\ttotal: 5.64s\tremaining: 11.8s\n",
      "323:\tlearn: 1334.1375158\ttotal: 5.66s\tremaining: 11.8s\n",
      "324:\tlearn: 1333.8834185\ttotal: 5.68s\tremaining: 11.8s\n",
      "325:\tlearn: 1333.7143622\ttotal: 5.69s\tremaining: 11.8s\n",
      "326:\tlearn: 1333.3775259\ttotal: 5.71s\tremaining: 11.8s\n",
      "327:\tlearn: 1333.1419951\ttotal: 5.73s\tremaining: 11.7s\n",
      "328:\tlearn: 1332.9440950\ttotal: 5.75s\tremaining: 11.7s\n",
      "329:\tlearn: 1332.6060157\ttotal: 5.77s\tremaining: 11.7s\n",
      "330:\tlearn: 1332.3943148\ttotal: 5.79s\tremaining: 11.7s\n",
      "331:\tlearn: 1332.1920660\ttotal: 5.8s\tremaining: 11.7s\n",
      "332:\tlearn: 1332.0368533\ttotal: 5.82s\tremaining: 11.7s\n",
      "333:\tlearn: 1331.6420718\ttotal: 5.83s\tremaining: 11.6s\n",
      "334:\tlearn: 1331.3206676\ttotal: 5.85s\tremaining: 11.6s\n",
      "335:\tlearn: 1331.1674411\ttotal: 5.87s\tremaining: 11.6s\n",
      "336:\tlearn: 1330.8643171\ttotal: 5.88s\tremaining: 11.6s\n",
      "337:\tlearn: 1330.6194627\ttotal: 5.9s\tremaining: 11.6s\n",
      "338:\tlearn: 1330.3723158\ttotal: 5.92s\tremaining: 11.5s\n",
      "339:\tlearn: 1330.0074565\ttotal: 5.93s\tremaining: 11.5s\n",
      "340:\tlearn: 1329.6531224\ttotal: 5.95s\tremaining: 11.5s\n",
      "341:\tlearn: 1329.4262053\ttotal: 5.97s\tremaining: 11.5s\n",
      "342:\tlearn: 1329.1479043\ttotal: 5.99s\tremaining: 11.5s\n",
      "343:\tlearn: 1328.7903482\ttotal: 6s\tremaining: 11.4s\n",
      "344:\tlearn: 1328.5556423\ttotal: 6.02s\tremaining: 11.4s\n",
      "345:\tlearn: 1328.3182398\ttotal: 6.03s\tremaining: 11.4s\n",
      "346:\tlearn: 1327.9255102\ttotal: 6.05s\tremaining: 11.4s\n",
      "347:\tlearn: 1327.6250723\ttotal: 6.07s\tremaining: 11.4s\n",
      "348:\tlearn: 1327.3409456\ttotal: 6.08s\tremaining: 11.4s\n",
      "349:\tlearn: 1327.1307412\ttotal: 6.1s\tremaining: 11.3s\n",
      "350:\tlearn: 1326.8702029\ttotal: 6.12s\tremaining: 11.3s\n",
      "351:\tlearn: 1326.6615901\ttotal: 6.14s\tremaining: 11.3s\n",
      "352:\tlearn: 1326.4873580\ttotal: 6.16s\tremaining: 11.3s\n",
      "353:\tlearn: 1326.2963779\ttotal: 6.17s\tremaining: 11.3s\n",
      "354:\tlearn: 1326.0922909\ttotal: 6.18s\tremaining: 11.2s\n",
      "355:\tlearn: 1325.9811922\ttotal: 6.2s\tremaining: 11.2s\n",
      "356:\tlearn: 1325.7803990\ttotal: 6.21s\tremaining: 11.2s\n",
      "357:\tlearn: 1325.5425301\ttotal: 6.23s\tremaining: 11.2s\n",
      "358:\tlearn: 1325.3443322\ttotal: 6.25s\tremaining: 11.2s\n",
      "359:\tlearn: 1325.1032741\ttotal: 6.27s\tremaining: 11.1s\n",
      "360:\tlearn: 1324.8605402\ttotal: 6.28s\tremaining: 11.1s\n",
      "361:\tlearn: 1324.7068732\ttotal: 6.3s\tremaining: 11.1s\n",
      "362:\tlearn: 1324.3647688\ttotal: 6.32s\tremaining: 11.1s\n",
      "363:\tlearn: 1324.0738925\ttotal: 6.34s\tremaining: 11.1s\n",
      "364:\tlearn: 1323.8467119\ttotal: 6.36s\tremaining: 11.1s\n",
      "365:\tlearn: 1323.5874497\ttotal: 6.38s\tremaining: 11.1s\n",
      "366:\tlearn: 1323.3398377\ttotal: 6.4s\tremaining: 11s\n",
      "367:\tlearn: 1323.2122762\ttotal: 6.41s\tremaining: 11s\n",
      "368:\tlearn: 1322.9043575\ttotal: 6.44s\tremaining: 11s\n",
      "369:\tlearn: 1322.6484610\ttotal: 6.46s\tremaining: 11s\n",
      "370:\tlearn: 1322.4143059\ttotal: 6.47s\tremaining: 11s\n",
      "371:\tlearn: 1322.2117915\ttotal: 6.49s\tremaining: 10.9s\n",
      "372:\tlearn: 1322.0157015\ttotal: 6.5s\tremaining: 10.9s\n",
      "373:\tlearn: 1321.8648527\ttotal: 6.52s\tremaining: 10.9s\n",
      "374:\tlearn: 1321.5231091\ttotal: 6.54s\tremaining: 10.9s\n",
      "375:\tlearn: 1321.4220489\ttotal: 6.55s\tremaining: 10.9s\n",
      "376:\tlearn: 1321.1790926\ttotal: 6.57s\tremaining: 10.9s\n",
      "377:\tlearn: 1320.9070326\ttotal: 6.58s\tremaining: 10.8s\n",
      "378:\tlearn: 1320.7743826\ttotal: 6.6s\tremaining: 10.8s\n",
      "379:\tlearn: 1320.4876413\ttotal: 6.61s\tremaining: 10.8s\n",
      "380:\tlearn: 1320.2809585\ttotal: 6.63s\tremaining: 10.8s\n",
      "381:\tlearn: 1320.0707933\ttotal: 6.65s\tremaining: 10.8s\n",
      "382:\tlearn: 1319.8676477\ttotal: 6.66s\tremaining: 10.7s\n",
      "383:\tlearn: 1319.6865572\ttotal: 6.68s\tremaining: 10.7s\n",
      "384:\tlearn: 1319.4635965\ttotal: 6.7s\tremaining: 10.7s\n",
      "385:\tlearn: 1319.2262837\ttotal: 6.71s\tremaining: 10.7s\n",
      "386:\tlearn: 1319.0394525\ttotal: 6.73s\tremaining: 10.7s\n",
      "387:\tlearn: 1318.7610796\ttotal: 6.75s\tremaining: 10.6s\n",
      "388:\tlearn: 1318.3559728\ttotal: 6.76s\tremaining: 10.6s\n",
      "389:\tlearn: 1318.1070562\ttotal: 6.78s\tremaining: 10.6s\n",
      "390:\tlearn: 1317.9138239\ttotal: 6.8s\tremaining: 10.6s\n",
      "391:\tlearn: 1317.7565565\ttotal: 6.82s\tremaining: 10.6s\n",
      "392:\tlearn: 1317.5610711\ttotal: 6.83s\tremaining: 10.6s\n",
      "393:\tlearn: 1317.4037218\ttotal: 6.85s\tremaining: 10.5s\n",
      "394:\tlearn: 1317.2118613\ttotal: 6.86s\tremaining: 10.5s\n",
      "395:\tlearn: 1316.9823822\ttotal: 6.88s\tremaining: 10.5s\n",
      "396:\tlearn: 1316.8161095\ttotal: 6.9s\tremaining: 10.5s\n",
      "397:\tlearn: 1316.7029281\ttotal: 6.91s\tremaining: 10.5s\n",
      "398:\tlearn: 1316.4327024\ttotal: 6.93s\tremaining: 10.4s\n",
      "399:\tlearn: 1316.2898922\ttotal: 6.94s\tremaining: 10.4s\n",
      "400:\tlearn: 1316.0733009\ttotal: 6.96s\tremaining: 10.4s\n",
      "401:\tlearn: 1315.6903350\ttotal: 6.98s\tremaining: 10.4s\n",
      "402:\tlearn: 1315.3156196\ttotal: 7s\tremaining: 10.4s\n",
      "403:\tlearn: 1315.1407156\ttotal: 7.01s\tremaining: 10.3s\n",
      "404:\tlearn: 1314.9546363\ttotal: 7.03s\tremaining: 10.3s\n",
      "405:\tlearn: 1314.7752745\ttotal: 7.04s\tremaining: 10.3s\n",
      "406:\tlearn: 1314.5631050\ttotal: 7.06s\tremaining: 10.3s\n",
      "407:\tlearn: 1314.2604367\ttotal: 7.08s\tremaining: 10.3s\n",
      "408:\tlearn: 1314.1229777\ttotal: 7.09s\tremaining: 10.3s\n",
      "409:\tlearn: 1313.8538865\ttotal: 7.11s\tremaining: 10.2s\n",
      "410:\tlearn: 1313.5498846\ttotal: 7.13s\tremaining: 10.2s\n",
      "411:\tlearn: 1313.3748177\ttotal: 7.14s\tremaining: 10.2s\n",
      "412:\tlearn: 1313.1154540\ttotal: 7.16s\tremaining: 10.2s\n",
      "413:\tlearn: 1312.8777881\ttotal: 7.18s\tremaining: 10.2s\n",
      "414:\tlearn: 1312.6957555\ttotal: 7.2s\tremaining: 10.1s\n",
      "415:\tlearn: 1312.4467348\ttotal: 7.21s\tremaining: 10.1s\n",
      "416:\tlearn: 1312.2427225\ttotal: 7.23s\tremaining: 10.1s\n",
      "417:\tlearn: 1311.9924413\ttotal: 7.25s\tremaining: 10.1s\n",
      "418:\tlearn: 1311.7674895\ttotal: 7.26s\tremaining: 10.1s\n",
      "419:\tlearn: 1311.5865546\ttotal: 7.28s\tremaining: 10.1s\n",
      "420:\tlearn: 1311.3740127\ttotal: 7.3s\tremaining: 10s\n",
      "421:\tlearn: 1311.1970870\ttotal: 7.31s\tremaining: 10s\n",
      "422:\tlearn: 1310.9257907\ttotal: 7.33s\tremaining: 10s\n",
      "423:\tlearn: 1310.8040056\ttotal: 7.34s\tremaining: 9.98s\n",
      "424:\tlearn: 1310.6580184\ttotal: 7.36s\tremaining: 9.96s\n",
      "425:\tlearn: 1310.5032145\ttotal: 7.38s\tremaining: 9.95s\n",
      "426:\tlearn: 1310.3703526\ttotal: 7.4s\tremaining: 9.93s\n",
      "427:\tlearn: 1310.1301029\ttotal: 7.41s\tremaining: 9.91s\n",
      "428:\tlearn: 1310.0574204\ttotal: 7.43s\tremaining: 9.88s\n",
      "429:\tlearn: 1309.8501262\ttotal: 7.44s\tremaining: 9.87s\n",
      "430:\tlearn: 1309.6610082\ttotal: 7.46s\tremaining: 9.86s\n",
      "431:\tlearn: 1309.4136201\ttotal: 7.48s\tremaining: 9.84s\n",
      "432:\tlearn: 1309.2101069\ttotal: 7.5s\tremaining: 9.82s\n",
      "433:\tlearn: 1308.9687679\ttotal: 7.51s\tremaining: 9.8s\n",
      "434:\tlearn: 1308.7728391\ttotal: 7.53s\tremaining: 9.78s\n",
      "435:\tlearn: 1308.5461591\ttotal: 7.54s\tremaining: 9.76s\n",
      "436:\tlearn: 1308.3629474\ttotal: 7.57s\tremaining: 9.75s\n",
      "437:\tlearn: 1308.1224263\ttotal: 7.58s\tremaining: 9.73s\n",
      "438:\tlearn: 1307.9599985\ttotal: 7.6s\tremaining: 9.71s\n",
      "439:\tlearn: 1307.8190852\ttotal: 7.61s\tremaining: 9.69s\n",
      "440:\tlearn: 1307.6892392\ttotal: 7.63s\tremaining: 9.67s\n",
      "441:\tlearn: 1307.5549817\ttotal: 7.64s\tremaining: 9.65s\n",
      "442:\tlearn: 1307.4013300\ttotal: 7.66s\tremaining: 9.64s\n",
      "443:\tlearn: 1307.2179614\ttotal: 7.68s\tremaining: 9.62s\n",
      "444:\tlearn: 1306.9396110\ttotal: 7.7s\tremaining: 9.6s\n",
      "445:\tlearn: 1306.7681622\ttotal: 7.71s\tremaining: 9.58s\n",
      "446:\tlearn: 1306.6049400\ttotal: 7.73s\tremaining: 9.56s\n",
      "447:\tlearn: 1306.4140238\ttotal: 7.75s\tremaining: 9.55s\n",
      "448:\tlearn: 1306.2388962\ttotal: 7.76s\tremaining: 9.53s\n",
      "449:\tlearn: 1306.0807253\ttotal: 7.78s\tremaining: 9.51s\n",
      "450:\tlearn: 1305.8130418\ttotal: 7.8s\tremaining: 9.49s\n",
      "451:\tlearn: 1305.6717712\ttotal: 7.81s\tremaining: 9.47s\n",
      "452:\tlearn: 1305.4191747\ttotal: 7.83s\tremaining: 9.45s\n",
      "453:\tlearn: 1305.2291390\ttotal: 7.85s\tremaining: 9.44s\n",
      "454:\tlearn: 1305.1203478\ttotal: 7.86s\tremaining: 9.42s\n",
      "455:\tlearn: 1304.8768537\ttotal: 7.88s\tremaining: 9.4s\n",
      "456:\tlearn: 1304.6964363\ttotal: 7.89s\tremaining: 9.38s\n",
      "457:\tlearn: 1304.4742138\ttotal: 7.91s\tremaining: 9.36s\n",
      "458:\tlearn: 1304.2675174\ttotal: 7.92s\tremaining: 9.34s\n",
      "459:\tlearn: 1304.0535514\ttotal: 7.95s\tremaining: 9.33s\n",
      "460:\tlearn: 1303.8273003\ttotal: 7.96s\tremaining: 9.31s\n",
      "461:\tlearn: 1303.6156910\ttotal: 7.98s\tremaining: 9.29s\n",
      "462:\tlearn: 1303.4625768\ttotal: 8s\tremaining: 9.27s\n",
      "463:\tlearn: 1303.2634499\ttotal: 8.01s\tremaining: 9.25s\n",
      "464:\tlearn: 1303.0078831\ttotal: 8.03s\tremaining: 9.24s\n",
      "465:\tlearn: 1302.8809824\ttotal: 8.05s\tremaining: 9.22s\n",
      "466:\tlearn: 1302.6802473\ttotal: 8.06s\tremaining: 9.2s\n",
      "467:\tlearn: 1302.4679545\ttotal: 8.08s\tremaining: 9.19s\n",
      "468:\tlearn: 1302.3404914\ttotal: 8.1s\tremaining: 9.17s\n",
      "469:\tlearn: 1302.2406098\ttotal: 8.11s\tremaining: 9.15s\n",
      "470:\tlearn: 1302.0925358\ttotal: 8.13s\tremaining: 9.13s\n",
      "471:\tlearn: 1301.9644403\ttotal: 8.15s\tremaining: 9.12s\n",
      "472:\tlearn: 1301.7760799\ttotal: 8.16s\tremaining: 9.1s\n",
      "473:\tlearn: 1301.6344373\ttotal: 8.18s\tremaining: 9.08s\n",
      "474:\tlearn: 1301.3720124\ttotal: 8.2s\tremaining: 9.06s\n",
      "475:\tlearn: 1301.1850695\ttotal: 8.21s\tremaining: 9.04s\n",
      "476:\tlearn: 1301.0525632\ttotal: 8.23s\tremaining: 9.03s\n",
      "477:\tlearn: 1300.7966217\ttotal: 8.25s\tremaining: 9.01s\n",
      "478:\tlearn: 1300.5803320\ttotal: 8.27s\tremaining: 8.99s\n",
      "479:\tlearn: 1300.4854129\ttotal: 8.28s\tremaining: 8.97s\n",
      "480:\tlearn: 1300.3236582\ttotal: 8.29s\tremaining: 8.95s\n",
      "481:\tlearn: 1300.1326638\ttotal: 8.31s\tremaining: 8.93s\n",
      "482:\tlearn: 1300.0010484\ttotal: 8.33s\tremaining: 8.92s\n",
      "483:\tlearn: 1299.8496391\ttotal: 8.35s\tremaining: 8.9s\n",
      "484:\tlearn: 1299.6677126\ttotal: 8.36s\tremaining: 8.88s\n",
      "485:\tlearn: 1299.4271155\ttotal: 8.38s\tremaining: 8.86s\n",
      "486:\tlearn: 1299.3193609\ttotal: 8.39s\tremaining: 8.84s\n",
      "487:\tlearn: 1299.1644906\ttotal: 8.41s\tremaining: 8.82s\n",
      "488:\tlearn: 1298.9699755\ttotal: 8.43s\tremaining: 8.81s\n",
      "489:\tlearn: 1298.8650490\ttotal: 8.45s\tremaining: 8.79s\n",
      "490:\tlearn: 1298.7061685\ttotal: 8.46s\tremaining: 8.77s\n",
      "491:\tlearn: 1298.5137244\ttotal: 8.48s\tremaining: 8.75s\n",
      "492:\tlearn: 1298.3218825\ttotal: 8.49s\tremaining: 8.73s\n",
      "493:\tlearn: 1298.1691049\ttotal: 8.51s\tremaining: 8.72s\n",
      "494:\tlearn: 1298.0831300\ttotal: 8.53s\tremaining: 8.7s\n",
      "495:\tlearn: 1297.9261590\ttotal: 8.54s\tremaining: 8.68s\n",
      "496:\tlearn: 1297.7726757\ttotal: 8.56s\tremaining: 8.66s\n",
      "497:\tlearn: 1297.6327195\ttotal: 8.57s\tremaining: 8.64s\n",
      "498:\tlearn: 1297.4371326\ttotal: 8.59s\tremaining: 8.62s\n",
      "499:\tlearn: 1297.1971149\ttotal: 8.6s\tremaining: 8.6s\n",
      "500:\tlearn: 1296.9187510\ttotal: 8.62s\tremaining: 8.59s\n",
      "501:\tlearn: 1296.6970212\ttotal: 8.64s\tremaining: 8.57s\n",
      "502:\tlearn: 1296.4789820\ttotal: 8.65s\tremaining: 8.55s\n",
      "503:\tlearn: 1296.2965870\ttotal: 8.67s\tremaining: 8.53s\n",
      "504:\tlearn: 1296.0661425\ttotal: 8.69s\tremaining: 8.51s\n",
      "505:\tlearn: 1295.9483501\ttotal: 8.71s\tremaining: 8.5s\n",
      "506:\tlearn: 1295.8691248\ttotal: 8.72s\tremaining: 8.48s\n",
      "507:\tlearn: 1295.7026618\ttotal: 8.74s\tremaining: 8.46s\n",
      "508:\tlearn: 1295.5316685\ttotal: 8.75s\tremaining: 8.44s\n",
      "509:\tlearn: 1295.4178402\ttotal: 8.77s\tremaining: 8.42s\n",
      "510:\tlearn: 1295.2638884\ttotal: 8.78s\tremaining: 8.4s\n",
      "511:\tlearn: 1295.0857668\ttotal: 8.8s\tremaining: 8.39s\n",
      "512:\tlearn: 1294.9562930\ttotal: 8.82s\tremaining: 8.37s\n",
      "513:\tlearn: 1294.8550338\ttotal: 8.83s\tremaining: 8.35s\n",
      "514:\tlearn: 1294.6828195\ttotal: 8.85s\tremaining: 8.33s\n",
      "515:\tlearn: 1294.5023710\ttotal: 8.86s\tremaining: 8.31s\n",
      "516:\tlearn: 1294.3660371\ttotal: 8.88s\tremaining: 8.29s\n",
      "517:\tlearn: 1294.2420728\ttotal: 8.9s\tremaining: 8.28s\n",
      "518:\tlearn: 1294.0291194\ttotal: 8.91s\tremaining: 8.26s\n",
      "519:\tlearn: 1293.9145101\ttotal: 8.93s\tremaining: 8.24s\n",
      "520:\tlearn: 1293.7705928\ttotal: 8.94s\tremaining: 8.22s\n",
      "521:\tlearn: 1293.6959683\ttotal: 8.96s\tremaining: 8.2s\n",
      "522:\tlearn: 1293.5951881\ttotal: 8.97s\tremaining: 8.18s\n",
      "523:\tlearn: 1293.4123276\ttotal: 8.99s\tremaining: 8.17s\n",
      "524:\tlearn: 1293.2733985\ttotal: 9.01s\tremaining: 8.15s\n",
      "525:\tlearn: 1293.1698549\ttotal: 9.03s\tremaining: 8.13s\n",
      "526:\tlearn: 1293.0546730\ttotal: 9.04s\tremaining: 8.11s\n",
      "527:\tlearn: 1292.9210419\ttotal: 9.05s\tremaining: 8.09s\n",
      "528:\tlearn: 1292.8234557\ttotal: 9.07s\tremaining: 8.07s\n",
      "529:\tlearn: 1292.6797294\ttotal: 9.09s\tremaining: 8.06s\n",
      "530:\tlearn: 1292.4637515\ttotal: 9.11s\tremaining: 8.04s\n",
      "531:\tlearn: 1292.2934658\ttotal: 9.12s\tremaining: 8.02s\n",
      "532:\tlearn: 1292.0951112\ttotal: 9.14s\tremaining: 8.01s\n",
      "533:\tlearn: 1291.9251697\ttotal: 9.15s\tremaining: 7.99s\n",
      "534:\tlearn: 1291.7300138\ttotal: 9.17s\tremaining: 7.97s\n",
      "535:\tlearn: 1291.6390602\ttotal: 9.19s\tremaining: 7.96s\n",
      "536:\tlearn: 1291.4748842\ttotal: 9.21s\tremaining: 7.94s\n",
      "537:\tlearn: 1291.3244737\ttotal: 9.22s\tremaining: 7.92s\n",
      "538:\tlearn: 1291.0672377\ttotal: 9.24s\tremaining: 7.9s\n",
      "539:\tlearn: 1290.8953556\ttotal: 9.25s\tremaining: 7.88s\n",
      "540:\tlearn: 1290.7326663\ttotal: 9.27s\tremaining: 7.86s\n",
      "541:\tlearn: 1290.5560792\ttotal: 9.29s\tremaining: 7.85s\n",
      "542:\tlearn: 1290.4337250\ttotal: 9.3s\tremaining: 7.83s\n",
      "543:\tlearn: 1290.2028722\ttotal: 9.33s\tremaining: 7.82s\n",
      "544:\tlearn: 1289.9562321\ttotal: 9.34s\tremaining: 7.8s\n",
      "545:\tlearn: 1289.7864346\ttotal: 9.36s\tremaining: 7.78s\n",
      "546:\tlearn: 1289.6415341\ttotal: 9.38s\tremaining: 7.77s\n",
      "547:\tlearn: 1289.4997844\ttotal: 9.4s\tremaining: 7.75s\n",
      "548:\tlearn: 1289.3641533\ttotal: 9.41s\tremaining: 7.73s\n",
      "549:\tlearn: 1289.2159621\ttotal: 9.43s\tremaining: 7.71s\n",
      "550:\tlearn: 1289.1097456\ttotal: 9.44s\tremaining: 7.69s\n",
      "551:\tlearn: 1289.0026440\ttotal: 9.46s\tremaining: 7.67s\n",
      "552:\tlearn: 1288.8444593\ttotal: 9.47s\tremaining: 7.66s\n",
      "553:\tlearn: 1288.7552217\ttotal: 9.49s\tremaining: 7.64s\n",
      "554:\tlearn: 1288.5957040\ttotal: 9.5s\tremaining: 7.62s\n",
      "555:\tlearn: 1288.4325385\ttotal: 9.52s\tremaining: 7.6s\n",
      "556:\tlearn: 1288.2347109\ttotal: 9.53s\tremaining: 7.58s\n",
      "557:\tlearn: 1288.1370228\ttotal: 9.55s\tremaining: 7.56s\n",
      "558:\tlearn: 1288.0791469\ttotal: 9.56s\tremaining: 7.54s\n",
      "559:\tlearn: 1287.8872405\ttotal: 9.58s\tremaining: 7.53s\n",
      "560:\tlearn: 1287.7455982\ttotal: 9.6s\tremaining: 7.51s\n",
      "561:\tlearn: 1287.6233591\ttotal: 9.61s\tremaining: 7.49s\n",
      "562:\tlearn: 1287.4920154\ttotal: 9.63s\tremaining: 7.47s\n",
      "563:\tlearn: 1287.3544451\ttotal: 9.64s\tremaining: 7.45s\n",
      "564:\tlearn: 1287.2774478\ttotal: 9.66s\tremaining: 7.43s\n",
      "565:\tlearn: 1287.1710553\ttotal: 9.68s\tremaining: 7.42s\n",
      "566:\tlearn: 1286.9999466\ttotal: 9.69s\tremaining: 7.4s\n",
      "567:\tlearn: 1286.8691587\ttotal: 9.71s\tremaining: 7.38s\n",
      "568:\tlearn: 1286.6768153\ttotal: 9.72s\tremaining: 7.37s\n",
      "569:\tlearn: 1286.5070889\ttotal: 9.74s\tremaining: 7.35s\n",
      "570:\tlearn: 1286.3737976\ttotal: 9.75s\tremaining: 7.33s\n",
      "571:\tlearn: 1286.1866540\ttotal: 9.77s\tremaining: 7.31s\n",
      "572:\tlearn: 1286.0533762\ttotal: 9.79s\tremaining: 7.29s\n",
      "573:\tlearn: 1285.9004194\ttotal: 9.8s\tremaining: 7.28s\n",
      "574:\tlearn: 1285.7890251\ttotal: 9.82s\tremaining: 7.26s\n",
      "575:\tlearn: 1285.6488058\ttotal: 9.84s\tremaining: 7.24s\n",
      "576:\tlearn: 1285.5400795\ttotal: 9.85s\tremaining: 7.22s\n",
      "577:\tlearn: 1285.3303184\ttotal: 9.88s\tremaining: 7.21s\n",
      "578:\tlearn: 1285.2163162\ttotal: 9.89s\tremaining: 7.19s\n",
      "579:\tlearn: 1285.0656737\ttotal: 9.9s\tremaining: 7.17s\n",
      "580:\tlearn: 1284.9313290\ttotal: 9.92s\tremaining: 7.15s\n",
      "581:\tlearn: 1284.8287798\ttotal: 9.94s\tremaining: 7.13s\n",
      "582:\tlearn: 1284.7177526\ttotal: 9.95s\tremaining: 7.12s\n",
      "583:\tlearn: 1284.5886414\ttotal: 9.97s\tremaining: 7.1s\n",
      "584:\tlearn: 1284.4917432\ttotal: 9.99s\tremaining: 7.09s\n",
      "585:\tlearn: 1284.3641537\ttotal: 10s\tremaining: 7.07s\n",
      "586:\tlearn: 1284.2561346\ttotal: 10s\tremaining: 7.05s\n",
      "587:\tlearn: 1284.1646102\ttotal: 10s\tremaining: 7.03s\n",
      "588:\tlearn: 1284.0424092\ttotal: 10.1s\tremaining: 7.02s\n",
      "589:\tlearn: 1283.9613109\ttotal: 10.1s\tremaining: 7s\n",
      "590:\tlearn: 1283.7238767\ttotal: 10.1s\tremaining: 6.99s\n",
      "591:\tlearn: 1283.5704846\ttotal: 10.1s\tremaining: 6.97s\n",
      "592:\tlearn: 1283.4539792\ttotal: 10.1s\tremaining: 6.95s\n",
      "593:\tlearn: 1283.3144021\ttotal: 10.2s\tremaining: 6.94s\n",
      "594:\tlearn: 1283.2141235\ttotal: 10.2s\tremaining: 6.92s\n",
      "595:\tlearn: 1283.0989362\ttotal: 10.2s\tremaining: 6.91s\n",
      "596:\tlearn: 1283.0079622\ttotal: 10.2s\tremaining: 6.89s\n",
      "597:\tlearn: 1282.9072472\ttotal: 10.2s\tremaining: 6.87s\n",
      "598:\tlearn: 1282.7880644\ttotal: 10.2s\tremaining: 6.86s\n",
      "599:\tlearn: 1282.7014959\ttotal: 10.3s\tremaining: 6.84s\n",
      "600:\tlearn: 1282.5915659\ttotal: 10.3s\tremaining: 6.82s\n",
      "601:\tlearn: 1282.3684768\ttotal: 10.3s\tremaining: 6.8s\n",
      "602:\tlearn: 1282.3228120\ttotal: 10.3s\tremaining: 6.79s\n",
      "603:\tlearn: 1282.1800775\ttotal: 10.3s\tremaining: 6.77s\n",
      "604:\tlearn: 1282.0455715\ttotal: 10.3s\tremaining: 6.75s\n",
      "605:\tlearn: 1281.8319934\ttotal: 10.4s\tremaining: 6.74s\n",
      "606:\tlearn: 1281.6171652\ttotal: 10.4s\tremaining: 6.72s\n",
      "607:\tlearn: 1281.4818280\ttotal: 10.4s\tremaining: 6.7s\n",
      "608:\tlearn: 1281.3606576\ttotal: 10.4s\tremaining: 6.68s\n",
      "609:\tlearn: 1281.2503058\ttotal: 10.4s\tremaining: 6.66s\n",
      "610:\tlearn: 1281.1173927\ttotal: 10.4s\tremaining: 6.65s\n",
      "611:\tlearn: 1281.0119948\ttotal: 10.5s\tremaining: 6.63s\n",
      "612:\tlearn: 1280.8646617\ttotal: 10.5s\tremaining: 6.61s\n",
      "613:\tlearn: 1280.7856428\ttotal: 10.5s\tremaining: 6.59s\n",
      "614:\tlearn: 1280.7001083\ttotal: 10.5s\tremaining: 6.58s\n",
      "615:\tlearn: 1280.5219237\ttotal: 10.5s\tremaining: 6.56s\n",
      "616:\tlearn: 1280.3814476\ttotal: 10.5s\tremaining: 6.54s\n",
      "617:\tlearn: 1280.2871481\ttotal: 10.6s\tremaining: 6.53s\n",
      "618:\tlearn: 1280.1694711\ttotal: 10.6s\tremaining: 6.51s\n",
      "619:\tlearn: 1280.0313509\ttotal: 10.6s\tremaining: 6.49s\n",
      "620:\tlearn: 1279.9516854\ttotal: 10.6s\tremaining: 6.47s\n",
      "621:\tlearn: 1279.7749479\ttotal: 10.6s\tremaining: 6.45s\n",
      "622:\tlearn: 1279.6300308\ttotal: 10.6s\tremaining: 6.44s\n",
      "623:\tlearn: 1279.5545048\ttotal: 10.7s\tremaining: 6.42s\n",
      "624:\tlearn: 1279.4152450\ttotal: 10.7s\tremaining: 6.4s\n",
      "625:\tlearn: 1279.2525254\ttotal: 10.7s\tremaining: 6.38s\n",
      "626:\tlearn: 1279.1404406\ttotal: 10.7s\tremaining: 6.37s\n",
      "627:\tlearn: 1279.0067372\ttotal: 10.7s\tremaining: 6.35s\n",
      "628:\tlearn: 1278.8522616\ttotal: 10.7s\tremaining: 6.33s\n",
      "629:\tlearn: 1278.7573557\ttotal: 10.8s\tremaining: 6.32s\n",
      "630:\tlearn: 1278.6181010\ttotal: 10.8s\tremaining: 6.3s\n",
      "631:\tlearn: 1278.4910415\ttotal: 10.8s\tremaining: 6.28s\n",
      "632:\tlearn: 1278.2018157\ttotal: 10.8s\tremaining: 6.26s\n",
      "633:\tlearn: 1278.1420425\ttotal: 10.8s\tremaining: 6.25s\n",
      "634:\tlearn: 1277.9828982\ttotal: 10.8s\tremaining: 6.23s\n",
      "635:\tlearn: 1277.9241507\ttotal: 10.9s\tremaining: 6.21s\n",
      "636:\tlearn: 1277.7955198\ttotal: 10.9s\tremaining: 6.2s\n",
      "637:\tlearn: 1277.6504301\ttotal: 10.9s\tremaining: 6.18s\n",
      "638:\tlearn: 1277.4790827\ttotal: 10.9s\tremaining: 6.16s\n",
      "639:\tlearn: 1277.4083838\ttotal: 10.9s\tremaining: 6.14s\n",
      "640:\tlearn: 1277.3093403\ttotal: 10.9s\tremaining: 6.13s\n",
      "641:\tlearn: 1277.1691050\ttotal: 11s\tremaining: 6.11s\n",
      "642:\tlearn: 1277.0691431\ttotal: 11s\tremaining: 6.09s\n",
      "643:\tlearn: 1276.9470691\ttotal: 11s\tremaining: 6.07s\n",
      "644:\tlearn: 1276.7834536\ttotal: 11s\tremaining: 6.05s\n",
      "645:\tlearn: 1276.6101953\ttotal: 11s\tremaining: 6.04s\n",
      "646:\tlearn: 1276.5007799\ttotal: 11s\tremaining: 6.02s\n",
      "647:\tlearn: 1276.3667049\ttotal: 11s\tremaining: 6s\n",
      "648:\tlearn: 1276.2009693\ttotal: 11.1s\tremaining: 5.98s\n",
      "649:\tlearn: 1276.0741598\ttotal: 11.1s\tremaining: 5.96s\n",
      "650:\tlearn: 1275.9671671\ttotal: 11.1s\tremaining: 5.95s\n",
      "651:\tlearn: 1275.9008410\ttotal: 11.1s\tremaining: 5.93s\n",
      "652:\tlearn: 1275.8231974\ttotal: 11.1s\tremaining: 5.91s\n",
      "653:\tlearn: 1275.6897172\ttotal: 11.1s\tremaining: 5.89s\n",
      "654:\tlearn: 1275.5155455\ttotal: 11.2s\tremaining: 5.88s\n",
      "655:\tlearn: 1275.3021321\ttotal: 11.2s\tremaining: 5.86s\n",
      "656:\tlearn: 1275.1603108\ttotal: 11.2s\tremaining: 5.84s\n",
      "657:\tlearn: 1275.0873984\ttotal: 11.2s\tremaining: 5.82s\n",
      "658:\tlearn: 1274.9836450\ttotal: 11.2s\tremaining: 5.81s\n",
      "659:\tlearn: 1274.8028954\ttotal: 11.2s\tremaining: 5.79s\n",
      "660:\tlearn: 1274.7270806\ttotal: 11.2s\tremaining: 5.77s\n",
      "661:\tlearn: 1274.5851065\ttotal: 11.3s\tremaining: 5.75s\n",
      "662:\tlearn: 1274.4952366\ttotal: 11.3s\tremaining: 5.73s\n",
      "663:\tlearn: 1274.4041214\ttotal: 11.3s\tremaining: 5.71s\n",
      "664:\tlearn: 1274.2490535\ttotal: 11.3s\tremaining: 5.7s\n",
      "665:\tlearn: 1274.1664159\ttotal: 11.3s\tremaining: 5.68s\n",
      "666:\tlearn: 1274.0920875\ttotal: 11.3s\tremaining: 5.66s\n",
      "667:\tlearn: 1273.9991770\ttotal: 11.4s\tremaining: 5.64s\n",
      "668:\tlearn: 1273.8770248\ttotal: 11.4s\tremaining: 5.63s\n",
      "669:\tlearn: 1273.7392199\ttotal: 11.4s\tremaining: 5.61s\n",
      "670:\tlearn: 1273.6029113\ttotal: 11.4s\tremaining: 5.59s\n",
      "671:\tlearn: 1273.5111638\ttotal: 11.4s\tremaining: 5.58s\n",
      "672:\tlearn: 1273.4324379\ttotal: 11.4s\tremaining: 5.56s\n",
      "673:\tlearn: 1273.3382409\ttotal: 11.5s\tremaining: 5.54s\n",
      "674:\tlearn: 1273.1818574\ttotal: 11.5s\tremaining: 5.52s\n",
      "675:\tlearn: 1273.1132698\ttotal: 11.5s\tremaining: 5.5s\n",
      "676:\tlearn: 1273.0229215\ttotal: 11.5s\tremaining: 5.49s\n",
      "677:\tlearn: 1272.9134076\ttotal: 11.5s\tremaining: 5.47s\n",
      "678:\tlearn: 1272.8230973\ttotal: 11.5s\tremaining: 5.45s\n",
      "679:\tlearn: 1272.7425985\ttotal: 11.5s\tremaining: 5.43s\n",
      "680:\tlearn: 1272.6459968\ttotal: 11.6s\tremaining: 5.42s\n",
      "681:\tlearn: 1272.5494469\ttotal: 11.6s\tremaining: 5.4s\n",
      "682:\tlearn: 1272.4428260\ttotal: 11.6s\tremaining: 5.38s\n",
      "683:\tlearn: 1272.3392020\ttotal: 11.6s\tremaining: 5.37s\n",
      "684:\tlearn: 1272.2184629\ttotal: 11.6s\tremaining: 5.35s\n",
      "685:\tlearn: 1272.1168439\ttotal: 11.7s\tremaining: 5.33s\n",
      "686:\tlearn: 1272.0121380\ttotal: 11.7s\tremaining: 5.32s\n",
      "687:\tlearn: 1271.9221866\ttotal: 11.7s\tremaining: 5.3s\n",
      "688:\tlearn: 1271.8222424\ttotal: 11.7s\tremaining: 5.29s\n",
      "689:\tlearn: 1271.7406958\ttotal: 11.7s\tremaining: 5.27s\n",
      "690:\tlearn: 1271.5700239\ttotal: 11.8s\tremaining: 5.26s\n",
      "691:\tlearn: 1271.4596001\ttotal: 11.8s\tremaining: 5.24s\n",
      "692:\tlearn: 1271.3364210\ttotal: 11.8s\tremaining: 5.23s\n",
      "693:\tlearn: 1271.1637567\ttotal: 11.8s\tremaining: 5.21s\n",
      "694:\tlearn: 1271.0710006\ttotal: 11.8s\tremaining: 5.2s\n",
      "695:\tlearn: 1270.9634829\ttotal: 11.9s\tremaining: 5.18s\n",
      "696:\tlearn: 1270.8371000\ttotal: 11.9s\tremaining: 5.17s\n",
      "697:\tlearn: 1270.6161773\ttotal: 11.9s\tremaining: 5.15s\n",
      "698:\tlearn: 1270.4805070\ttotal: 11.9s\tremaining: 5.13s\n",
      "699:\tlearn: 1270.3998810\ttotal: 11.9s\tremaining: 5.12s\n",
      "700:\tlearn: 1270.2303636\ttotal: 12s\tremaining: 5.1s\n",
      "701:\tlearn: 1270.1519975\ttotal: 12s\tremaining: 5.09s\n",
      "702:\tlearn: 1270.0740312\ttotal: 12s\tremaining: 5.07s\n",
      "703:\tlearn: 1269.9145818\ttotal: 12s\tremaining: 5.05s\n",
      "704:\tlearn: 1269.7585530\ttotal: 12s\tremaining: 5.04s\n",
      "705:\tlearn: 1269.6748485\ttotal: 12s\tremaining: 5.02s\n",
      "706:\tlearn: 1269.4980004\ttotal: 12.1s\tremaining: 5s\n",
      "707:\tlearn: 1269.3568596\ttotal: 12.1s\tremaining: 4.99s\n",
      "708:\tlearn: 1269.2668492\ttotal: 12.1s\tremaining: 4.97s\n",
      "709:\tlearn: 1269.1701948\ttotal: 12.1s\tremaining: 4.95s\n",
      "710:\tlearn: 1269.0851538\ttotal: 12.1s\tremaining: 4.93s\n",
      "711:\tlearn: 1268.9890936\ttotal: 12.1s\tremaining: 4.91s\n",
      "712:\tlearn: 1268.9163970\ttotal: 12.2s\tremaining: 4.9s\n",
      "713:\tlearn: 1268.8292917\ttotal: 12.2s\tremaining: 4.88s\n",
      "714:\tlearn: 1268.6460431\ttotal: 12.2s\tremaining: 4.86s\n",
      "715:\tlearn: 1268.4927124\ttotal: 12.2s\tremaining: 4.85s\n",
      "716:\tlearn: 1268.4115353\ttotal: 12.2s\tremaining: 4.83s\n",
      "717:\tlearn: 1268.2462677\ttotal: 12.2s\tremaining: 4.81s\n",
      "718:\tlearn: 1268.1481520\ttotal: 12.3s\tremaining: 4.79s\n",
      "719:\tlearn: 1268.0449634\ttotal: 12.3s\tremaining: 4.78s\n",
      "720:\tlearn: 1267.9654921\ttotal: 12.3s\tremaining: 4.76s\n",
      "721:\tlearn: 1267.8533386\ttotal: 12.3s\tremaining: 4.74s\n",
      "722:\tlearn: 1267.7516861\ttotal: 12.3s\tremaining: 4.72s\n",
      "723:\tlearn: 1267.6366098\ttotal: 12.3s\tremaining: 4.71s\n",
      "724:\tlearn: 1267.5445079\ttotal: 12.4s\tremaining: 4.69s\n",
      "725:\tlearn: 1267.4699683\ttotal: 12.4s\tremaining: 4.67s\n",
      "726:\tlearn: 1267.3601003\ttotal: 12.4s\tremaining: 4.66s\n",
      "727:\tlearn: 1267.2714805\ttotal: 12.4s\tremaining: 4.64s\n",
      "728:\tlearn: 1267.1349453\ttotal: 12.4s\tremaining: 4.62s\n",
      "729:\tlearn: 1267.0674555\ttotal: 12.4s\tremaining: 4.6s\n",
      "730:\tlearn: 1266.8831700\ttotal: 12.5s\tremaining: 4.59s\n",
      "731:\tlearn: 1266.7335370\ttotal: 12.5s\tremaining: 4.57s\n",
      "732:\tlearn: 1266.6613336\ttotal: 12.5s\tremaining: 4.55s\n",
      "733:\tlearn: 1266.5539186\ttotal: 12.5s\tremaining: 4.53s\n",
      "734:\tlearn: 1266.4561128\ttotal: 12.5s\tremaining: 4.52s\n",
      "735:\tlearn: 1266.3447575\ttotal: 12.6s\tremaining: 4.5s\n",
      "736:\tlearn: 1266.1933205\ttotal: 12.6s\tremaining: 4.49s\n",
      "737:\tlearn: 1266.0950910\ttotal: 12.6s\tremaining: 4.47s\n",
      "738:\tlearn: 1266.0064863\ttotal: 12.6s\tremaining: 4.45s\n",
      "739:\tlearn: 1265.8805200\ttotal: 12.6s\tremaining: 4.43s\n",
      "740:\tlearn: 1265.8139339\ttotal: 12.6s\tremaining: 4.42s\n",
      "741:\tlearn: 1265.7071144\ttotal: 12.7s\tremaining: 4.4s\n",
      "742:\tlearn: 1265.6173637\ttotal: 12.7s\tremaining: 4.38s\n",
      "743:\tlearn: 1265.5193078\ttotal: 12.7s\tremaining: 4.36s\n",
      "744:\tlearn: 1265.4498314\ttotal: 12.7s\tremaining: 4.35s\n",
      "745:\tlearn: 1265.3345097\ttotal: 12.7s\tremaining: 4.33s\n",
      "746:\tlearn: 1265.2136973\ttotal: 12.7s\tremaining: 4.31s\n",
      "747:\tlearn: 1265.0961086\ttotal: 12.8s\tremaining: 4.3s\n",
      "748:\tlearn: 1265.0251227\ttotal: 12.8s\tremaining: 4.28s\n",
      "749:\tlearn: 1264.9447784\ttotal: 12.8s\tremaining: 4.26s\n",
      "750:\tlearn: 1264.8745933\ttotal: 12.8s\tremaining: 4.24s\n",
      "751:\tlearn: 1264.7259252\ttotal: 12.8s\tremaining: 4.23s\n",
      "752:\tlearn: 1264.6194244\ttotal: 12.8s\tremaining: 4.21s\n",
      "753:\tlearn: 1264.5458518\ttotal: 12.8s\tremaining: 4.19s\n",
      "754:\tlearn: 1264.4626788\ttotal: 12.9s\tremaining: 4.17s\n",
      "755:\tlearn: 1264.3520046\ttotal: 12.9s\tremaining: 4.16s\n",
      "756:\tlearn: 1264.2626508\ttotal: 12.9s\tremaining: 4.14s\n",
      "757:\tlearn: 1264.1529746\ttotal: 12.9s\tremaining: 4.12s\n",
      "758:\tlearn: 1264.0935649\ttotal: 12.9s\tremaining: 4.11s\n",
      "759:\tlearn: 1263.9394419\ttotal: 12.9s\tremaining: 4.09s\n",
      "760:\tlearn: 1263.8243978\ttotal: 13s\tremaining: 4.07s\n",
      "761:\tlearn: 1263.7278822\ttotal: 13s\tremaining: 4.05s\n",
      "762:\tlearn: 1263.6111948\ttotal: 13s\tremaining: 4.04s\n",
      "763:\tlearn: 1263.4636409\ttotal: 13s\tremaining: 4.02s\n",
      "764:\tlearn: 1263.4187856\ttotal: 13s\tremaining: 4s\n",
      "765:\tlearn: 1263.3338881\ttotal: 13s\tremaining: 3.98s\n",
      "766:\tlearn: 1263.2258686\ttotal: 13.1s\tremaining: 3.97s\n",
      "767:\tlearn: 1263.0826999\ttotal: 13.1s\tremaining: 3.95s\n",
      "768:\tlearn: 1262.9362742\ttotal: 13.1s\tremaining: 3.93s\n",
      "769:\tlearn: 1262.8809083\ttotal: 13.1s\tremaining: 3.92s\n",
      "770:\tlearn: 1262.7775337\ttotal: 13.1s\tremaining: 3.9s\n",
      "771:\tlearn: 1262.6642508\ttotal: 13.1s\tremaining: 3.88s\n",
      "772:\tlearn: 1262.5917566\ttotal: 13.2s\tremaining: 3.86s\n",
      "773:\tlearn: 1262.4787583\ttotal: 13.2s\tremaining: 3.85s\n",
      "774:\tlearn: 1262.3801392\ttotal: 13.2s\tremaining: 3.83s\n",
      "775:\tlearn: 1262.3009314\ttotal: 13.2s\tremaining: 3.81s\n",
      "776:\tlearn: 1262.2168213\ttotal: 13.2s\tremaining: 3.8s\n",
      "777:\tlearn: 1262.1664258\ttotal: 13.2s\tremaining: 3.78s\n",
      "778:\tlearn: 1262.0358995\ttotal: 13.3s\tremaining: 3.76s\n",
      "779:\tlearn: 1261.9347898\ttotal: 13.3s\tremaining: 3.74s\n",
      "780:\tlearn: 1261.8546079\ttotal: 13.3s\tremaining: 3.73s\n",
      "781:\tlearn: 1261.8000325\ttotal: 13.3s\tremaining: 3.71s\n",
      "782:\tlearn: 1261.6661809\ttotal: 13.3s\tremaining: 3.69s\n",
      "783:\tlearn: 1261.5339941\ttotal: 13.3s\tremaining: 3.67s\n",
      "784:\tlearn: 1261.4628693\ttotal: 13.4s\tremaining: 3.66s\n",
      "785:\tlearn: 1261.3848921\ttotal: 13.4s\tremaining: 3.64s\n",
      "786:\tlearn: 1261.2856420\ttotal: 13.4s\tremaining: 3.62s\n",
      "787:\tlearn: 1261.1988617\ttotal: 13.4s\tremaining: 3.61s\n",
      "788:\tlearn: 1261.1393997\ttotal: 13.4s\tremaining: 3.59s\n",
      "789:\tlearn: 1261.0155921\ttotal: 13.4s\tremaining: 3.57s\n",
      "790:\tlearn: 1260.9331797\ttotal: 13.5s\tremaining: 3.55s\n",
      "791:\tlearn: 1260.8579407\ttotal: 13.5s\tremaining: 3.54s\n",
      "792:\tlearn: 1260.8035315\ttotal: 13.5s\tremaining: 3.52s\n",
      "793:\tlearn: 1260.7491362\ttotal: 13.5s\tremaining: 3.5s\n",
      "794:\tlearn: 1260.6070787\ttotal: 13.5s\tremaining: 3.48s\n",
      "795:\tlearn: 1260.4429290\ttotal: 13.5s\tremaining: 3.47s\n",
      "796:\tlearn: 1260.3611527\ttotal: 13.5s\tremaining: 3.45s\n",
      "797:\tlearn: 1260.2984685\ttotal: 13.6s\tremaining: 3.43s\n",
      "798:\tlearn: 1260.2501326\ttotal: 13.6s\tremaining: 3.42s\n",
      "799:\tlearn: 1260.1711914\ttotal: 13.6s\tremaining: 3.4s\n",
      "800:\tlearn: 1260.0694684\ttotal: 13.6s\tremaining: 3.38s\n",
      "801:\tlearn: 1259.9510880\ttotal: 13.6s\tremaining: 3.37s\n",
      "802:\tlearn: 1259.7998265\ttotal: 13.6s\tremaining: 3.35s\n",
      "803:\tlearn: 1259.7222255\ttotal: 13.7s\tremaining: 3.33s\n",
      "804:\tlearn: 1259.6441817\ttotal: 13.7s\tremaining: 3.31s\n",
      "805:\tlearn: 1259.5401102\ttotal: 13.7s\tremaining: 3.3s\n",
      "806:\tlearn: 1259.4917507\ttotal: 13.7s\tremaining: 3.28s\n",
      "807:\tlearn: 1259.3411103\ttotal: 13.7s\tremaining: 3.26s\n",
      "808:\tlearn: 1259.3251478\ttotal: 13.7s\tremaining: 3.24s\n",
      "809:\tlearn: 1259.2249405\ttotal: 13.8s\tremaining: 3.23s\n",
      "810:\tlearn: 1259.1728767\ttotal: 13.8s\tremaining: 3.21s\n",
      "811:\tlearn: 1259.0332538\ttotal: 13.8s\tremaining: 3.19s\n",
      "812:\tlearn: 1258.9681238\ttotal: 13.8s\tremaining: 3.18s\n",
      "813:\tlearn: 1258.8797881\ttotal: 13.8s\tremaining: 3.16s\n",
      "814:\tlearn: 1258.8018203\ttotal: 13.8s\tremaining: 3.14s\n",
      "815:\tlearn: 1258.7586850\ttotal: 13.9s\tremaining: 3.12s\n",
      "816:\tlearn: 1258.5685437\ttotal: 13.9s\tremaining: 3.11s\n",
      "817:\tlearn: 1258.5235410\ttotal: 13.9s\tremaining: 3.09s\n",
      "818:\tlearn: 1258.5100247\ttotal: 13.9s\tremaining: 3.07s\n",
      "819:\tlearn: 1258.4120841\ttotal: 13.9s\tremaining: 3.06s\n",
      "820:\tlearn: 1258.3122647\ttotal: 13.9s\tremaining: 3.04s\n",
      "821:\tlearn: 1258.2177632\ttotal: 13.9s\tremaining: 3.02s\n",
      "822:\tlearn: 1258.1060451\ttotal: 14s\tremaining: 3s\n",
      "823:\tlearn: 1258.0293665\ttotal: 14s\tremaining: 2.99s\n",
      "824:\tlearn: 1257.9071065\ttotal: 14s\tremaining: 2.97s\n",
      "825:\tlearn: 1257.8546458\ttotal: 14s\tremaining: 2.95s\n",
      "826:\tlearn: 1257.8479773\ttotal: 14s\tremaining: 2.94s\n",
      "827:\tlearn: 1257.7808555\ttotal: 14s\tremaining: 2.92s\n",
      "828:\tlearn: 1257.7007633\ttotal: 14.1s\tremaining: 2.9s\n",
      "829:\tlearn: 1257.6246400\ttotal: 14.1s\tremaining: 2.88s\n",
      "830:\tlearn: 1257.5341223\ttotal: 14.1s\tremaining: 2.87s\n",
      "831:\tlearn: 1257.4548949\ttotal: 14.1s\tremaining: 2.85s\n",
      "832:\tlearn: 1257.3520769\ttotal: 14.1s\tremaining: 2.83s\n",
      "833:\tlearn: 1257.2757137\ttotal: 14.2s\tremaining: 2.82s\n",
      "834:\tlearn: 1257.2280111\ttotal: 14.2s\tremaining: 2.8s\n",
      "835:\tlearn: 1257.2218752\ttotal: 14.2s\tremaining: 2.78s\n",
      "836:\tlearn: 1257.0715484\ttotal: 14.2s\tremaining: 2.77s\n",
      "837:\tlearn: 1256.9291558\ttotal: 14.2s\tremaining: 2.75s\n",
      "838:\tlearn: 1256.7970154\ttotal: 14.2s\tremaining: 2.73s\n",
      "839:\tlearn: 1256.7182645\ttotal: 14.2s\tremaining: 2.71s\n",
      "840:\tlearn: 1256.5969784\ttotal: 14.3s\tremaining: 2.7s\n",
      "841:\tlearn: 1256.4818849\ttotal: 14.3s\tremaining: 2.68s\n",
      "842:\tlearn: 1256.3925297\ttotal: 14.3s\tremaining: 2.66s\n",
      "843:\tlearn: 1256.3016796\ttotal: 14.3s\tremaining: 2.65s\n",
      "844:\tlearn: 1256.2454359\ttotal: 14.3s\tremaining: 2.63s\n",
      "845:\tlearn: 1256.1566096\ttotal: 14.3s\tremaining: 2.61s\n",
      "846:\tlearn: 1256.1212451\ttotal: 14.4s\tremaining: 2.6s\n",
      "847:\tlearn: 1256.0259746\ttotal: 14.4s\tremaining: 2.58s\n",
      "848:\tlearn: 1255.9375455\ttotal: 14.4s\tremaining: 2.56s\n",
      "849:\tlearn: 1255.8369736\ttotal: 14.4s\tremaining: 2.54s\n",
      "850:\tlearn: 1255.7222456\ttotal: 14.4s\tremaining: 2.53s\n",
      "851:\tlearn: 1255.6444636\ttotal: 14.4s\tremaining: 2.51s\n",
      "852:\tlearn: 1255.5728252\ttotal: 14.5s\tremaining: 2.49s\n",
      "853:\tlearn: 1255.4956441\ttotal: 14.5s\tremaining: 2.48s\n",
      "854:\tlearn: 1255.4089376\ttotal: 14.5s\tremaining: 2.46s\n",
      "855:\tlearn: 1255.3059986\ttotal: 14.5s\tremaining: 2.44s\n",
      "856:\tlearn: 1255.2618119\ttotal: 14.5s\tremaining: 2.42s\n",
      "857:\tlearn: 1255.1315415\ttotal: 14.6s\tremaining: 2.41s\n",
      "858:\tlearn: 1255.0215234\ttotal: 14.6s\tremaining: 2.39s\n",
      "859:\tlearn: 1254.9020020\ttotal: 14.6s\tremaining: 2.37s\n",
      "860:\tlearn: 1254.7850381\ttotal: 14.6s\tremaining: 2.36s\n",
      "861:\tlearn: 1254.6601866\ttotal: 14.6s\tremaining: 2.34s\n",
      "862:\tlearn: 1254.5806497\ttotal: 14.6s\tremaining: 2.32s\n",
      "863:\tlearn: 1254.5028999\ttotal: 14.7s\tremaining: 2.31s\n",
      "864:\tlearn: 1254.4206263\ttotal: 14.7s\tremaining: 2.29s\n",
      "865:\tlearn: 1254.2840749\ttotal: 14.7s\tremaining: 2.27s\n",
      "866:\tlearn: 1254.2290643\ttotal: 14.7s\tremaining: 2.25s\n",
      "867:\tlearn: 1254.1479832\ttotal: 14.7s\tremaining: 2.24s\n",
      "868:\tlearn: 1254.0521743\ttotal: 14.7s\tremaining: 2.22s\n",
      "869:\tlearn: 1253.9966128\ttotal: 14.8s\tremaining: 2.2s\n",
      "870:\tlearn: 1253.9460747\ttotal: 14.8s\tremaining: 2.19s\n",
      "871:\tlearn: 1253.8263608\ttotal: 14.8s\tremaining: 2.17s\n",
      "872:\tlearn: 1253.7176432\ttotal: 14.8s\tremaining: 2.15s\n",
      "873:\tlearn: 1253.6379625\ttotal: 14.8s\tremaining: 2.14s\n",
      "874:\tlearn: 1253.5444745\ttotal: 14.8s\tremaining: 2.12s\n",
      "875:\tlearn: 1253.4672956\ttotal: 14.9s\tremaining: 2.1s\n",
      "876:\tlearn: 1253.4615789\ttotal: 14.9s\tremaining: 2.08s\n",
      "877:\tlearn: 1253.3585025\ttotal: 14.9s\tremaining: 2.07s\n",
      "878:\tlearn: 1253.2677953\ttotal: 14.9s\tremaining: 2.05s\n",
      "879:\tlearn: 1253.1554745\ttotal: 14.9s\tremaining: 2.03s\n",
      "880:\tlearn: 1253.0489670\ttotal: 14.9s\tremaining: 2.02s\n",
      "881:\tlearn: 1252.9639502\ttotal: 15s\tremaining: 2s\n",
      "882:\tlearn: 1252.8792956\ttotal: 15s\tremaining: 1.98s\n",
      "883:\tlearn: 1252.7601942\ttotal: 15s\tremaining: 1.97s\n",
      "884:\tlearn: 1252.7249821\ttotal: 15s\tremaining: 1.95s\n",
      "885:\tlearn: 1252.6347624\ttotal: 15s\tremaining: 1.93s\n",
      "886:\tlearn: 1252.5371060\ttotal: 15s\tremaining: 1.91s\n",
      "887:\tlearn: 1252.4247152\ttotal: 15s\tremaining: 1.9s\n",
      "888:\tlearn: 1252.1871941\ttotal: 15.1s\tremaining: 1.88s\n",
      "889:\tlearn: 1252.0745251\ttotal: 15.1s\tremaining: 1.86s\n",
      "890:\tlearn: 1252.0205357\ttotal: 15.1s\tremaining: 1.85s\n",
      "891:\tlearn: 1251.9777061\ttotal: 15.1s\tremaining: 1.83s\n",
      "892:\tlearn: 1251.9338543\ttotal: 15.1s\tremaining: 1.81s\n",
      "893:\tlearn: 1251.8404097\ttotal: 15.1s\tremaining: 1.79s\n",
      "894:\tlearn: 1251.7329381\ttotal: 15.2s\tremaining: 1.78s\n",
      "895:\tlearn: 1251.7143811\ttotal: 15.2s\tremaining: 1.76s\n",
      "896:\tlearn: 1251.6435688\ttotal: 15.2s\tremaining: 1.74s\n",
      "897:\tlearn: 1251.5492216\ttotal: 15.2s\tremaining: 1.73s\n",
      "898:\tlearn: 1251.4639462\ttotal: 15.2s\tremaining: 1.71s\n",
      "899:\tlearn: 1251.3753565\ttotal: 15.2s\tremaining: 1.69s\n",
      "900:\tlearn: 1251.3060967\ttotal: 15.3s\tremaining: 1.68s\n",
      "901:\tlearn: 1251.2466314\ttotal: 15.3s\tremaining: 1.66s\n",
      "902:\tlearn: 1251.1823546\ttotal: 15.3s\tremaining: 1.64s\n",
      "903:\tlearn: 1251.0736858\ttotal: 15.3s\tremaining: 1.63s\n",
      "904:\tlearn: 1251.0023645\ttotal: 15.3s\tremaining: 1.61s\n",
      "905:\tlearn: 1250.9018193\ttotal: 15.3s\tremaining: 1.59s\n",
      "906:\tlearn: 1250.8472379\ttotal: 15.4s\tremaining: 1.57s\n",
      "907:\tlearn: 1250.7792806\ttotal: 15.4s\tremaining: 1.56s\n",
      "908:\tlearn: 1250.6899368\ttotal: 15.4s\tremaining: 1.54s\n",
      "909:\tlearn: 1250.6577503\ttotal: 15.4s\tremaining: 1.52s\n",
      "910:\tlearn: 1250.5774510\ttotal: 15.4s\tremaining: 1.51s\n",
      "911:\tlearn: 1250.4815882\ttotal: 15.4s\tremaining: 1.49s\n",
      "912:\tlearn: 1250.4425186\ttotal: 15.5s\tremaining: 1.47s\n",
      "913:\tlearn: 1250.3500882\ttotal: 15.5s\tremaining: 1.46s\n",
      "914:\tlearn: 1250.2682083\ttotal: 15.5s\tremaining: 1.44s\n",
      "915:\tlearn: 1250.2042687\ttotal: 15.5s\tremaining: 1.42s\n",
      "916:\tlearn: 1250.1361602\ttotal: 15.5s\tremaining: 1.41s\n",
      "917:\tlearn: 1250.0623394\ttotal: 15.5s\tremaining: 1.39s\n",
      "918:\tlearn: 1250.0174044\ttotal: 15.6s\tremaining: 1.37s\n",
      "919:\tlearn: 1249.9379218\ttotal: 15.6s\tremaining: 1.35s\n",
      "920:\tlearn: 1249.8103301\ttotal: 15.6s\tremaining: 1.34s\n",
      "921:\tlearn: 1249.7147284\ttotal: 15.6s\tremaining: 1.32s\n",
      "922:\tlearn: 1249.6352948\ttotal: 15.6s\tremaining: 1.3s\n",
      "923:\tlearn: 1249.5625193\ttotal: 15.6s\tremaining: 1.28s\n",
      "924:\tlearn: 1249.4606810\ttotal: 15.6s\tremaining: 1.27s\n",
      "925:\tlearn: 1249.3895710\ttotal: 15.7s\tremaining: 1.25s\n",
      "926:\tlearn: 1249.3094849\ttotal: 15.7s\tremaining: 1.23s\n",
      "927:\tlearn: 1249.1917310\ttotal: 15.7s\tremaining: 1.22s\n",
      "928:\tlearn: 1249.1202810\ttotal: 15.7s\tremaining: 1.2s\n",
      "929:\tlearn: 1249.0426983\ttotal: 15.7s\tremaining: 1.18s\n",
      "930:\tlearn: 1248.9467476\ttotal: 15.7s\tremaining: 1.17s\n",
      "931:\tlearn: 1248.8801217\ttotal: 15.8s\tremaining: 1.15s\n",
      "932:\tlearn: 1248.6741893\ttotal: 15.8s\tremaining: 1.13s\n",
      "933:\tlearn: 1248.6093682\ttotal: 15.8s\tremaining: 1.11s\n",
      "934:\tlearn: 1248.5368852\ttotal: 15.8s\tremaining: 1.1s\n",
      "935:\tlearn: 1248.4653070\ttotal: 15.8s\tremaining: 1.08s\n",
      "936:\tlearn: 1248.4131977\ttotal: 15.8s\tremaining: 1.06s\n",
      "937:\tlearn: 1248.3548827\ttotal: 15.9s\tremaining: 1.05s\n",
      "938:\tlearn: 1248.2773710\ttotal: 15.9s\tremaining: 1.03s\n",
      "939:\tlearn: 1248.1510669\ttotal: 15.9s\tremaining: 1.01s\n",
      "940:\tlearn: 1248.1028522\ttotal: 15.9s\tremaining: 998ms\n",
      "941:\tlearn: 1248.0289047\ttotal: 15.9s\tremaining: 981ms\n",
      "942:\tlearn: 1247.9339635\ttotal: 15.9s\tremaining: 964ms\n",
      "943:\tlearn: 1247.8762575\ttotal: 16s\tremaining: 947ms\n",
      "944:\tlearn: 1247.8300490\ttotal: 16s\tremaining: 930ms\n",
      "945:\tlearn: 1247.7594189\ttotal: 16s\tremaining: 913ms\n",
      "946:\tlearn: 1247.7004226\ttotal: 16s\tremaining: 897ms\n",
      "947:\tlearn: 1247.5958842\ttotal: 16s\tremaining: 880ms\n",
      "948:\tlearn: 1247.5209120\ttotal: 16.1s\tremaining: 863ms\n",
      "949:\tlearn: 1247.4364085\ttotal: 16.1s\tremaining: 846ms\n",
      "950:\tlearn: 1247.4035008\ttotal: 16.1s\tremaining: 829ms\n",
      "951:\tlearn: 1247.3615787\ttotal: 16.1s\tremaining: 812ms\n",
      "952:\tlearn: 1247.3566314\ttotal: 16.1s\tremaining: 795ms\n",
      "953:\tlearn: 1247.2863123\ttotal: 16.1s\tremaining: 778ms\n",
      "954:\tlearn: 1247.1813561\ttotal: 16.1s\tremaining: 761ms\n",
      "955:\tlearn: 1247.1225730\ttotal: 16.2s\tremaining: 744ms\n",
      "956:\tlearn: 1247.0609324\ttotal: 16.2s\tremaining: 727ms\n",
      "957:\tlearn: 1246.9846243\ttotal: 16.2s\tremaining: 710ms\n",
      "958:\tlearn: 1246.9398545\ttotal: 16.2s\tremaining: 693ms\n",
      "959:\tlearn: 1246.9352544\ttotal: 16.2s\tremaining: 676ms\n",
      "960:\tlearn: 1246.8635437\ttotal: 16.2s\tremaining: 659ms\n",
      "961:\tlearn: 1246.7694939\ttotal: 16.3s\tremaining: 642ms\n",
      "962:\tlearn: 1246.6957961\ttotal: 16.3s\tremaining: 625ms\n",
      "963:\tlearn: 1246.6486471\ttotal: 16.3s\tremaining: 608ms\n",
      "964:\tlearn: 1246.5505587\ttotal: 16.3s\tremaining: 592ms\n",
      "965:\tlearn: 1246.4272548\ttotal: 16.3s\tremaining: 575ms\n",
      "966:\tlearn: 1246.3632697\ttotal: 16.3s\tremaining: 558ms\n",
      "967:\tlearn: 1246.2466305\ttotal: 16.4s\tremaining: 541ms\n",
      "968:\tlearn: 1246.1589508\ttotal: 16.4s\tremaining: 524ms\n",
      "969:\tlearn: 1246.0680860\ttotal: 16.4s\tremaining: 507ms\n",
      "970:\tlearn: 1245.9811908\ttotal: 16.4s\tremaining: 490ms\n",
      "971:\tlearn: 1245.9141476\ttotal: 16.4s\tremaining: 473ms\n",
      "972:\tlearn: 1245.8608015\ttotal: 16.4s\tremaining: 456ms\n",
      "973:\tlearn: 1245.8082966\ttotal: 16.5s\tremaining: 439ms\n",
      "974:\tlearn: 1245.7505103\ttotal: 16.5s\tremaining: 422ms\n",
      "975:\tlearn: 1245.6744658\ttotal: 16.5s\tremaining: 406ms\n",
      "976:\tlearn: 1245.5929400\ttotal: 16.5s\tremaining: 389ms\n",
      "977:\tlearn: 1245.5592769\ttotal: 16.5s\tremaining: 372ms\n",
      "978:\tlearn: 1245.5258300\ttotal: 16.5s\tremaining: 355ms\n",
      "979:\tlearn: 1245.4477645\ttotal: 16.6s\tremaining: 338ms\n",
      "980:\tlearn: 1245.3717531\ttotal: 16.6s\tremaining: 321ms\n",
      "981:\tlearn: 1245.3334232\ttotal: 16.6s\tremaining: 304ms\n",
      "982:\tlearn: 1245.2464470\ttotal: 16.6s\tremaining: 287ms\n",
      "983:\tlearn: 1245.0708790\ttotal: 16.6s\tremaining: 270ms\n",
      "984:\tlearn: 1244.9958555\ttotal: 16.6s\tremaining: 253ms\n",
      "985:\tlearn: 1244.9554305\ttotal: 16.6s\tremaining: 236ms\n",
      "986:\tlearn: 1244.9102050\ttotal: 16.7s\tremaining: 220ms\n",
      "987:\tlearn: 1244.8429083\ttotal: 16.7s\tremaining: 203ms\n",
      "988:\tlearn: 1244.7869298\ttotal: 16.7s\tremaining: 186ms\n",
      "989:\tlearn: 1244.6518515\ttotal: 16.7s\tremaining: 169ms\n",
      "990:\tlearn: 1244.6061028\ttotal: 16.7s\tremaining: 152ms\n",
      "991:\tlearn: 1244.5397704\ttotal: 16.7s\tremaining: 135ms\n",
      "992:\tlearn: 1244.4890472\ttotal: 16.8s\tremaining: 118ms\n",
      "993:\tlearn: 1244.3699914\ttotal: 16.8s\tremaining: 101ms\n",
      "994:\tlearn: 1244.2701757\ttotal: 16.8s\tremaining: 84.4ms\n",
      "995:\tlearn: 1244.1823198\ttotal: 16.8s\tremaining: 67.5ms\n",
      "996:\tlearn: 1244.1280930\ttotal: 16.8s\tremaining: 50.6ms\n",
      "997:\tlearn: 1244.0271982\ttotal: 16.8s\tremaining: 33.8ms\n",
      "998:\tlearn: 1243.9816630\ttotal: 16.9s\tremaining: 16.9ms\n",
      "999:\tlearn: 1243.8788020\ttotal: 16.9s\tremaining: 0us\n",
      "[-1283.95634957 -1300.08763693 -1292.22354761 -1289.5868294\n",
      " -1281.82831559]\n",
      "Значение RMSE для CatBoostRegressor: -1289.536535818611\n"
     ]
    }
   ],
   "source": [
    "nrmse_cb = cross_val_score(model_cb, ohe_features_train, target_train, cv=5, scoring='neg_root_mean_squared_error')\n",
    "\n",
    "print(nrmse_cb)\n",
    "print('Значение RMSE для CatBoostRegressor:', -nrmse_cb.mean())"
   ]
  },
  {
   "cell_type": "markdown",
   "metadata": {},
   "source": [
    "### LinearRegression"
   ]
  },
  {
   "cell_type": "code",
   "execution_count": 51,
   "metadata": {
    "scrolled": true
   },
   "outputs": [
    {
     "name": "stdout",
     "output_type": "stream",
     "text": [
      "CPU times: user 10.6 s, sys: 6.36 s, total: 16.9 s\n",
      "Wall time: 17 s\n"
     ]
    },
    {
     "data": {
      "text/plain": [
       "LinearRegression()"
      ]
     },
     "execution_count": 51,
     "metadata": {},
     "output_type": "execute_result"
    }
   ],
   "source": [
    "%%time\n",
    "\n",
    "model_lr = LinearRegression()\n",
    "\n",
    "model_lr.fit(ohe_features_train, target_train)"
   ]
  },
  {
   "cell_type": "code",
   "execution_count": 52,
   "metadata": {},
   "outputs": [
    {
     "name": "stdout",
     "output_type": "stream",
     "text": [
      "[-1922.38601263 -1943.49163031 -1941.42236603 -1945.06666131\n",
      " -1904.65673023]\n",
      "Значение RMSE для Линейной Регрессии: 1931.4046801037755\n"
     ]
    }
   ],
   "source": [
    "nrmse_lr = cross_val_score(model_lr, ohe_features_train, target_train, cv=5, scoring='neg_root_mean_squared_error')\n",
    "\n",
    "print(nrmse_lr)\n",
    "print('Значение RMSE для Линейной Регрессии:', -nrmse_lr.mean())"
   ]
  },
  {
   "cell_type": "markdown",
   "metadata": {},
   "source": [
    "### DecisionTreeRegressor"
   ]
  },
  {
   "cell_type": "code",
   "execution_count": 53,
   "metadata": {},
   "outputs": [
    {
     "name": "stdout",
     "output_type": "stream",
     "text": [
      "CPU times: user 2.36 s, sys: 34.6 ms, total: 2.4 s\n",
      "Wall time: 2.43 s\n"
     ]
    },
    {
     "data": {
      "text/plain": [
       "GridSearchCV(estimator=DecisionTreeRegressor(),\n",
       "             param_grid=[{'max_depth': range(2, 6),\n",
       "                          'random_state': [865154067]}],\n",
       "             scoring='neg_root_mean_squared_error')"
      ]
     },
     "execution_count": 53,
     "metadata": {},
     "output_type": "execute_result"
    }
   ],
   "source": [
    "%%time\n",
    "\n",
    "dtr = DecisionTreeRegressor()\n",
    "\n",
    "params_tree = [{\n",
    "    'max_depth': range(2, 6),\n",
    "    'random_state':[STATE]\n",
    "}]\n",
    "\n",
    "model_tree = GridSearchCV(dtr,\n",
    "                      param_grid=params_tree,\n",
    "                      scoring='neg_root_mean_squared_error')\n",
    "\n",
    "model_tree.fit(ordinal_features_train, target_train)"
   ]
  },
  {
   "cell_type": "code",
   "execution_count": 54,
   "metadata": {},
   "outputs": [
    {
     "name": "stdout",
     "output_type": "stream",
     "text": [
      "Лучшее значение RMSE для Дерева Решений: 1981.9261024444986\n"
     ]
    },
    {
     "data": {
      "text/plain": [
       "('Оптимальные параметры модели:', {'max_depth': 5, 'random_state': 865154067})"
      ]
     },
     "execution_count": 54,
     "metadata": {},
     "output_type": "execute_result"
    }
   ],
   "source": [
    "print('Лучшее значение RMSE для Дерева Решений:', -model_tree.best_score_)\n",
    "'Оптимальные параметры модели:', model_tree.best_params_"
   ]
  },
  {
   "cell_type": "markdown",
   "metadata": {},
   "source": [
    "## Анализ моделей"
   ]
  },
  {
   "cell_type": "markdown",
   "metadata": {},
   "source": [
    "Все модели прошли по значению метрики RMSE по результату кросс-валидации.\n",
    "\n",
    "Время обучения LGBMRegressor, CatBoostRegressor и LinearRegression известно. Следует получить время обучения DecisionTreeRegressor с определенными гиперпараметрами."
   ]
  },
  {
   "cell_type": "code",
   "execution_count": 55,
   "metadata": {
    "scrolled": true
   },
   "outputs": [
    {
     "name": "stdout",
     "output_type": "stream",
     "text": [
      "CPU times: user 171 ms, sys: 0 ns, total: 171 ms\n",
      "Wall time: 180 ms\n"
     ]
    },
    {
     "data": {
      "text/plain": [
       "DecisionTreeRegressor(max_depth=5, random_state=865154067)"
      ]
     },
     "execution_count": 55,
     "metadata": {},
     "output_type": "execute_result"
    }
   ],
   "source": [
    "%%time\n",
    "\n",
    "# найду время обучения DecisionTreeRegressor\n",
    "\n",
    "model_tree = DecisionTreeRegressor(max_depth=5, random_state=STATE)\n",
    "\n",
    "model_tree.fit(ordinal_features_train, target_train)"
   ]
  },
  {
   "cell_type": "markdown",
   "metadata": {},
   "source": [
    "Определю время предсказания и финальный RMSE на текстовой выборке для каждой из моделей."
   ]
  },
  {
   "cell_type": "markdown",
   "metadata": {},
   "source": [
    "### LGBMRegressor"
   ]
  },
  {
   "cell_type": "code",
   "execution_count": 56,
   "metadata": {},
   "outputs": [
    {
     "name": "stdout",
     "output_type": "stream",
     "text": [
      "CPU times: user 1.79 s, sys: 231 ms, total: 2.02 s\n",
      "Wall time: 1.99 s\n"
     ]
    }
   ],
   "source": [
    "%%time\n",
    "\n",
    "# найду время предсказания используя те же тренировочные данные\n",
    "\n",
    "lgbm_predict = model_lgbm.predict(ohe_features_train)"
   ]
  },
  {
   "cell_type": "markdown",
   "metadata": {},
   "source": [
    "### CatBoostRegressor"
   ]
  },
  {
   "cell_type": "code",
   "execution_count": 57,
   "metadata": {},
   "outputs": [
    {
     "name": "stdout",
     "output_type": "stream",
     "text": [
      "CPU times: user 299 ms, sys: 0 ns, total: 299 ms\n",
      "Wall time: 364 ms\n"
     ]
    }
   ],
   "source": [
    "%%time\n",
    "\n",
    "cb_predict = model_cb.predict(ohe_features_train)"
   ]
  },
  {
   "cell_type": "markdown",
   "metadata": {},
   "source": [
    "### LinearRegression"
   ]
  },
  {
   "cell_type": "code",
   "execution_count": 63,
   "metadata": {},
   "outputs": [
    {
     "name": "stdout",
     "output_type": "stream",
     "text": [
      "CPU times: user 250 ms, sys: 257 ms, total: 506 ms\n",
      "Wall time: 463 ms\n"
     ]
    }
   ],
   "source": [
    "%%time\n",
    "\n",
    "lr_predict = model_lr.predict(ohe_features_train)"
   ]
  },
  {
   "cell_type": "markdown",
   "metadata": {},
   "source": [
    "### DecisionTreeRegressor"
   ]
  },
  {
   "cell_type": "code",
   "execution_count": 64,
   "metadata": {},
   "outputs": [
    {
     "name": "stdout",
     "output_type": "stream",
     "text": [
      "CPU times: user 10.1 ms, sys: 4.26 ms, total: 14.4 ms\n",
      "Wall time: 12.6 ms\n"
     ]
    }
   ],
   "source": [
    "%%time\n",
    "\n",
    "dtr_predict = model_tree.predict(ordinal_features_train)"
   ]
  },
  {
   "cell_type": "markdown",
   "metadata": {},
   "source": [
    "### Сравнение моделей"
   ]
  },
  {
   "cell_type": "markdown",
   "metadata": {},
   "source": [
    "Определю наилучшую модель в каждой из категорий:\n",
    "- Время обучения без подбора гиперпараметров;\n",
    "- Время прогнозирования на тренировочной выборке;\n",
    "- Наименьшая RMSE по результатам кросс-валидации."
   ]
  },
  {
   "cell_type": "code",
   "execution_count": 65,
   "metadata": {},
   "outputs": [
    {
     "data": {
      "text/html": [
       "<div>\n",
       "<style scoped>\n",
       "    .dataframe tbody tr th:only-of-type {\n",
       "        vertical-align: middle;\n",
       "    }\n",
       "\n",
       "    .dataframe tbody tr th {\n",
       "        vertical-align: top;\n",
       "    }\n",
       "\n",
       "    .dataframe thead th {\n",
       "        text-align: right;\n",
       "    }\n",
       "</style>\n",
       "<table border=\"1\" class=\"dataframe\">\n",
       "  <thead>\n",
       "    <tr style=\"text-align: right;\">\n",
       "      <th></th>\n",
       "      <th>LGBMRegressor</th>\n",
       "      <th>CatBoostRegressor</th>\n",
       "      <th>LinearRegression</th>\n",
       "      <th>DecisionTreeRegressor</th>\n",
       "    </tr>\n",
       "  </thead>\n",
       "  <tbody>\n",
       "    <tr>\n",
       "      <th>learning_time</th>\n",
       "      <td>47.8</td>\n",
       "      <td>24.0</td>\n",
       "      <td>17.0</td>\n",
       "      <td>0.20</td>\n",
       "    </tr>\n",
       "    <tr>\n",
       "      <th>prediction_time</th>\n",
       "      <td>2.0</td>\n",
       "      <td>0.4</td>\n",
       "      <td>0.5</td>\n",
       "      <td>0.01</td>\n",
       "    </tr>\n",
       "    <tr>\n",
       "      <th>RMSE</th>\n",
       "      <td>1349.0</td>\n",
       "      <td>1290.0</td>\n",
       "      <td>1931.0</td>\n",
       "      <td>1982.00</td>\n",
       "    </tr>\n",
       "  </tbody>\n",
       "</table>\n",
       "</div>"
      ],
      "text/plain": [
       "                 LGBMRegressor  CatBoostRegressor  LinearRegression  \\\n",
       "learning_time             47.8               24.0              17.0   \n",
       "prediction_time            2.0                0.4               0.5   \n",
       "RMSE                    1349.0             1290.0            1931.0   \n",
       "\n",
       "                 DecisionTreeRegressor  \n",
       "learning_time                     0.20  \n",
       "prediction_time                   0.01  \n",
       "RMSE                           1982.00  "
      ]
     },
     "execution_count": 65,
     "metadata": {},
     "output_type": "execute_result"
    }
   ],
   "source": [
    "# сегодня время обучения LGBM сильно повысилось. Любопытно.\n",
    "\n",
    "comparison = {\n",
    "    'LGBMRegressor':[47.8, 2.0, 1349],\n",
    "    'CatBoostRegressor':[24.0, 0.4, 1290],\n",
    "    'LinearRegression':[17, 0.5, 1931],\n",
    "    'DecisionTreeRegressor':[0.2, 0.01, 1982]\n",
    "                }\n",
    "\n",
    "comparison = pd.DataFrame(data=comparison, index=['learning_time', 'prediction_time', 'RMSE'])\n",
    "\n",
    "comparison"
   ]
  },
  {
   "cell_type": "markdown",
   "metadata": {},
   "source": [
    "Время обучения по мере увеличения:\n",
    "1) DecisionTreeRegressor;  \n",
    "2) LinearRegressor;  \n",
    "3) LGBMRegressor;  \n",
    "4) CatBoostRegressor.\n",
    "\n",
    "Время прогнозирования по мере увеличения:\n",
    "1) DecisionTreeRegressor;  \n",
    "2) CatBoostRegressor;  \n",
    "3) LinearRegressor;  \n",
    "4) LGBMRegressor.\n",
    "\n",
    "RMSE по мере увеличения:\n",
    "1) CatBoostRegressor;  \n",
    "2) LGBMRegressor;  \n",
    "3) LinearRegressor;  \n",
    "4) DecisionTreeRegressor."
   ]
  },
  {
   "cell_type": "markdown",
   "metadata": {},
   "source": [
    "Определим две лидирующие модели по совокупности критериев найдя суммарный рейтинг, где 1 это наилучший результат - лидирующая величина разделеная на себя, а остальные - лидирующая величина разделеная на текущую величину."
   ]
  },
  {
   "cell_type": "code",
   "execution_count": 66,
   "metadata": {},
   "outputs": [
    {
     "data": {
      "text/html": [
       "<div>\n",
       "<style scoped>\n",
       "    .dataframe tbody tr th:only-of-type {\n",
       "        vertical-align: middle;\n",
       "    }\n",
       "\n",
       "    .dataframe tbody tr th {\n",
       "        vertical-align: top;\n",
       "    }\n",
       "\n",
       "    .dataframe thead th {\n",
       "        text-align: right;\n",
       "    }\n",
       "</style>\n",
       "<table border=\"1\" class=\"dataframe\">\n",
       "  <thead>\n",
       "    <tr style=\"text-align: right;\">\n",
       "      <th></th>\n",
       "      <th>learning_time</th>\n",
       "      <th>prediction_time</th>\n",
       "      <th>RMSE</th>\n",
       "    </tr>\n",
       "  </thead>\n",
       "  <tbody>\n",
       "    <tr>\n",
       "      <th>LGBMRegressor</th>\n",
       "      <td>47.8</td>\n",
       "      <td>2.00</td>\n",
       "      <td>1349.0</td>\n",
       "    </tr>\n",
       "    <tr>\n",
       "      <th>CatBoostRegressor</th>\n",
       "      <td>24.0</td>\n",
       "      <td>0.40</td>\n",
       "      <td>1290.0</td>\n",
       "    </tr>\n",
       "    <tr>\n",
       "      <th>LinearRegression</th>\n",
       "      <td>17.0</td>\n",
       "      <td>0.50</td>\n",
       "      <td>1931.0</td>\n",
       "    </tr>\n",
       "    <tr>\n",
       "      <th>DecisionTreeRegressor</th>\n",
       "      <td>0.2</td>\n",
       "      <td>0.01</td>\n",
       "      <td>1982.0</td>\n",
       "    </tr>\n",
       "  </tbody>\n",
       "</table>\n",
       "</div>"
      ],
      "text/plain": [
       "                       learning_time  prediction_time    RMSE\n",
       "LGBMRegressor                   47.8             2.00  1349.0\n",
       "CatBoostRegressor               24.0             0.40  1290.0\n",
       "LinearRegression                17.0             0.50  1931.0\n",
       "DecisionTreeRegressor            0.2             0.01  1982.0"
      ]
     },
     "execution_count": 66,
     "metadata": {},
     "output_type": "execute_result"
    }
   ],
   "source": [
    "comparison = comparison.T\n",
    "comparison"
   ]
  },
  {
   "cell_type": "code",
   "execution_count": 67,
   "metadata": {
    "scrolled": true
   },
   "outputs": [
    {
     "data": {
      "text/html": [
       "<div>\n",
       "<style scoped>\n",
       "    .dataframe tbody tr th:only-of-type {\n",
       "        vertical-align: middle;\n",
       "    }\n",
       "\n",
       "    .dataframe tbody tr th {\n",
       "        vertical-align: top;\n",
       "    }\n",
       "\n",
       "    .dataframe thead th {\n",
       "        text-align: right;\n",
       "    }\n",
       "</style>\n",
       "<table border=\"1\" class=\"dataframe\">\n",
       "  <thead>\n",
       "    <tr style=\"text-align: right;\">\n",
       "      <th></th>\n",
       "      <th>learning_time</th>\n",
       "      <th>prediction_time</th>\n",
       "      <th>RMSE</th>\n",
       "      <th>learning_rate</th>\n",
       "      <th>prediction_rate</th>\n",
       "      <th>RMSE_rate</th>\n",
       "      <th>total_rate</th>\n",
       "    </tr>\n",
       "  </thead>\n",
       "  <tbody>\n",
       "    <tr>\n",
       "      <th>LGBMRegressor</th>\n",
       "      <td>47.8</td>\n",
       "      <td>2.00</td>\n",
       "      <td>1349.0</td>\n",
       "      <td>0.004184</td>\n",
       "      <td>0.005</td>\n",
       "      <td>0.956264</td>\n",
       "      <td>0.965448</td>\n",
       "    </tr>\n",
       "    <tr>\n",
       "      <th>CatBoostRegressor</th>\n",
       "      <td>24.0</td>\n",
       "      <td>0.40</td>\n",
       "      <td>1290.0</td>\n",
       "      <td>0.008333</td>\n",
       "      <td>0.025</td>\n",
       "      <td>1.000000</td>\n",
       "      <td>1.033333</td>\n",
       "    </tr>\n",
       "    <tr>\n",
       "      <th>LinearRegression</th>\n",
       "      <td>17.0</td>\n",
       "      <td>0.50</td>\n",
       "      <td>1931.0</td>\n",
       "      <td>0.011765</td>\n",
       "      <td>0.020</td>\n",
       "      <td>0.668048</td>\n",
       "      <td>0.699812</td>\n",
       "    </tr>\n",
       "    <tr>\n",
       "      <th>DecisionTreeRegressor</th>\n",
       "      <td>0.2</td>\n",
       "      <td>0.01</td>\n",
       "      <td>1982.0</td>\n",
       "      <td>1.000000</td>\n",
       "      <td>1.000</td>\n",
       "      <td>0.650858</td>\n",
       "      <td>2.650858</td>\n",
       "    </tr>\n",
       "  </tbody>\n",
       "</table>\n",
       "</div>"
      ],
      "text/plain": [
       "                       learning_time  prediction_time    RMSE  learning_rate  \\\n",
       "LGBMRegressor                   47.8             2.00  1349.0       0.004184   \n",
       "CatBoostRegressor               24.0             0.40  1290.0       0.008333   \n",
       "LinearRegression                17.0             0.50  1931.0       0.011765   \n",
       "DecisionTreeRegressor            0.2             0.01  1982.0       1.000000   \n",
       "\n",
       "                       prediction_rate  RMSE_rate  total_rate  \n",
       "LGBMRegressor                    0.005   0.956264    0.965448  \n",
       "CatBoostRegressor                0.025   1.000000    1.033333  \n",
       "LinearRegression                 0.020   0.668048    0.699812  \n",
       "DecisionTreeRegressor            1.000   0.650858    2.650858  "
      ]
     },
     "execution_count": 67,
     "metadata": {},
     "output_type": "execute_result"
    }
   ],
   "source": [
    "comparison['learning_rate'] = comparison['learning_time'].min() / comparison['learning_time']\n",
    "comparison['prediction_rate'] = comparison['prediction_time'].min() / comparison['prediction_time']\n",
    "comparison['RMSE_rate'] = comparison['RMSE'].min() / comparison['RMSE']\n",
    "comparison['total_rate'] = comparison['learning_rate'] + comparison['prediction_rate'] + comparison['RMSE_rate']\n",
    "comparison"
   ]
  },
  {
   "cell_type": "markdown",
   "metadata": {},
   "source": [
    "Сравню две лидирующие модели DecisionTreeRegressor и CatBoostRegressor путем получения прогноза на тестовой выборке и сравнения RMSE без кросс-валидации."
   ]
  },
  {
   "cell_type": "code",
   "execution_count": 72,
   "metadata": {},
   "outputs": [
    {
     "name": "stdout",
     "output_type": "stream",
     "text": [
      "CPU times: user 6.81 ms, sys: 244 µs, total: 7.05 ms\n",
      "Wall time: 5.96 ms\n"
     ]
    },
    {
     "data": {
      "text/plain": [
       "1965.431003990031"
      ]
     },
     "execution_count": 72,
     "metadata": {},
     "output_type": "execute_result"
    }
   ],
   "source": [
    "%%time\n",
    "\n",
    "dtr_predict = model_tree.predict(ordinal_features_test)\n",
    "dtr_RMSE = mean_squared_error(target_test, dtr_predict) ** 0.5\n",
    "dtr_RMSE"
   ]
  },
  {
   "cell_type": "code",
   "execution_count": 73,
   "metadata": {},
   "outputs": [
    {
     "name": "stdout",
     "output_type": "stream",
     "text": [
      "CPU times: user 110 ms, sys: 0 ns, total: 110 ms\n",
      "Wall time: 108 ms\n"
     ]
    },
    {
     "data": {
      "text/plain": [
       "1272.37779693875"
      ]
     },
     "execution_count": 73,
     "metadata": {},
     "output_type": "execute_result"
    }
   ],
   "source": [
    "%%time\n",
    "\n",
    "cb_predict = model_cb.predict(ohe_features_test)\n",
    "cb_RMSE = mean_squared_error(target_test, cb_predict) ** 0.5\n",
    "cb_RMSE"
   ]
  },
  {
   "cell_type": "markdown",
   "metadata": {},
   "source": [
    "### Общий вывод"
   ]
  },
  {
   "cell_type": "markdown",
   "metadata": {},
   "source": [
    "Была дана задача обучения и сравнения моделей прогнозирующих стоимость подержанных автомобилей.  \n",
    "Для проекта использовано LGBMRegressor, CatBoostRegressor, LinearRegression и DecisionTreeRegressor.  \n",
    "В качестве требования к моделям требовалось достижение метрики RMSE ниже 2500, что успешно достигнуто всеми из использованных моделей.  \n",
    "\n",
    "Качество моделей для заказчика определяется по следующим параметрам:\n",
    "- качество предсказания;\n",
    "- скорость предсказания;\n",
    "- время обучения.\n",
    "\n",
    "По итогам анализа определено что по совокупности параметров лидирует модель DecisionTreeRegressor, за счет наибольшей скорости обучения и прогнозирования, но эта модель показала наименьший RMSE, все еще в пределах 2500.  По итоговой проверке на тестовых данных RMSE значительно не отличается от полученого в ходу кросс-валидации на тренировочной выборке (1965 против 1982). \n",
    "\n",
    "На втором месте по совокупности параметров находится модель CatBoostRegressor, показавшая налучшее значение RMSE и второе место по времени прогнозирования, но худшее время обучения. По итоговой проверке на тестовых данных RMSE значительно не отличается от полученого в ходу кросс-валидации на тренировочной выборке (1272 против 1290).  \n",
    "\n",
    "В зависимости от важности показателя RMSE можно рекомендовать заказчику рассмотреть возможность использования CatBoostRegressor. При прогнозировании на тестовой выборке модель DecisionTreeRegressor отработала в 18 раз быстрее чем модель CatBoostRegressor."
   ]
  }
 ],
 "metadata": {
  "ExecuteTimeLog": [
   {
    "duration": 4,
    "start_time": "2022-07-24T13:45:13.816Z"
   },
   {
    "duration": 7,
    "start_time": "2022-07-24T13:45:38.675Z"
   },
   {
    "duration": 47,
    "start_time": "2022-07-24T13:46:26.108Z"
   },
   {
    "duration": 431,
    "start_time": "2022-07-24T13:46:42.865Z"
   },
   {
    "duration": 2914,
    "start_time": "2022-07-24T13:46:44.938Z"
   },
   {
    "duration": 227,
    "start_time": "2022-07-24T13:47:43.661Z"
   },
   {
    "duration": 440,
    "start_time": "2022-07-24T13:47:46.739Z"
   },
   {
    "duration": 47,
    "start_time": "2022-07-25T13:34:55.306Z"
   },
   {
    "duration": 350,
    "start_time": "2022-07-25T13:34:59.581Z"
   },
   {
    "duration": 3,
    "start_time": "2022-07-25T13:35:00.309Z"
   },
   {
    "duration": 1316,
    "start_time": "2022-07-25T13:35:01.510Z"
   },
   {
    "duration": 251,
    "start_time": "2022-07-25T13:35:03.503Z"
   },
   {
    "duration": 444,
    "start_time": "2022-07-25T13:35:06.101Z"
   },
   {
    "duration": 123,
    "start_time": "2022-07-25T13:35:07.914Z"
   },
   {
    "duration": 132,
    "start_time": "2022-07-25T13:35:26.229Z"
   },
   {
    "duration": 252,
    "start_time": "2022-07-25T14:04:29.342Z"
   },
   {
    "duration": 94,
    "start_time": "2022-07-25T14:23:19.545Z"
   },
   {
    "duration": 91,
    "start_time": "2022-07-25T14:23:27.552Z"
   },
   {
    "duration": 8,
    "start_time": "2022-07-25T14:24:05.838Z"
   },
   {
    "duration": 19,
    "start_time": "2022-07-25T14:24:12.812Z"
   },
   {
    "duration": 10,
    "start_time": "2022-07-25T14:25:03.102Z"
   },
   {
    "duration": 6,
    "start_time": "2022-07-25T14:25:13.475Z"
   },
   {
    "duration": 6,
    "start_time": "2022-07-25T14:25:22.278Z"
   },
   {
    "duration": 81,
    "start_time": "2022-07-25T14:25:58.128Z"
   },
   {
    "duration": 2,
    "start_time": "2022-07-25T14:31:05.601Z"
   },
   {
    "duration": 9,
    "start_time": "2022-07-25T14:35:44.632Z"
   },
   {
    "duration": 5,
    "start_time": "2022-07-25T14:35:58.842Z"
   },
   {
    "duration": 7,
    "start_time": "2022-07-25T14:36:03.542Z"
   },
   {
    "duration": 13,
    "start_time": "2022-07-25T14:36:14.885Z"
   },
   {
    "duration": 7,
    "start_time": "2022-07-25T14:36:19.089Z"
   },
   {
    "duration": 7,
    "start_time": "2022-07-25T14:36:27.689Z"
   },
   {
    "duration": 49,
    "start_time": "2022-07-25T14:37:58.142Z"
   },
   {
    "duration": 3,
    "start_time": "2022-07-25T14:46:38.884Z"
   },
   {
    "duration": 5,
    "start_time": "2022-07-25T14:46:47.921Z"
   },
   {
    "duration": 5,
    "start_time": "2022-07-25T14:47:53.260Z"
   },
   {
    "duration": 177,
    "start_time": "2022-07-25T14:51:06.995Z"
   },
   {
    "duration": 69,
    "start_time": "2022-07-25T14:51:13.521Z"
   },
   {
    "duration": 248,
    "start_time": "2022-07-25T14:51:15.953Z"
   },
   {
    "duration": 390,
    "start_time": "2022-07-25T14:51:46.794Z"
   },
   {
    "duration": 6,
    "start_time": "2022-07-25T14:51:47.753Z"
   },
   {
    "duration": 995,
    "start_time": "2022-07-25T14:51:48.858Z"
   },
   {
    "duration": 314,
    "start_time": "2022-07-25T14:51:52.475Z"
   },
   {
    "duration": 554,
    "start_time": "2022-07-25T14:51:55.907Z"
   },
   {
    "duration": 195,
    "start_time": "2022-07-25T14:51:57.385Z"
   },
   {
    "duration": 163,
    "start_time": "2022-07-25T14:51:59.618Z"
   },
   {
    "duration": 82,
    "start_time": "2022-07-25T14:52:00.778Z"
   },
   {
    "duration": 17,
    "start_time": "2022-07-25T14:52:03.552Z"
   },
   {
    "duration": 7,
    "start_time": "2022-07-25T14:52:04.651Z"
   },
   {
    "duration": 1020,
    "start_time": "2022-07-25T14:52:19.178Z"
   },
   {
    "duration": 49,
    "start_time": "2022-07-25T14:52:23.594Z"
   },
   {
    "duration": 4,
    "start_time": "2022-07-25T14:52:25.001Z"
   },
   {
    "duration": 5,
    "start_time": "2022-07-25T14:52:26.380Z"
   },
   {
    "duration": 996,
    "start_time": "2022-07-25T14:55:40.975Z"
   },
   {
    "duration": 105,
    "start_time": "2022-07-25T15:01:41.152Z"
   },
   {
    "duration": 231,
    "start_time": "2022-07-25T15:02:45.912Z"
   },
   {
    "duration": 106,
    "start_time": "2022-07-25T15:02:52.771Z"
   },
   {
    "duration": 240,
    "start_time": "2022-07-25T15:02:57.055Z"
   },
   {
    "duration": 9,
    "start_time": "2022-07-25T15:05:05.265Z"
   },
   {
    "duration": 470,
    "start_time": "2022-07-25T15:05:20.986Z"
   },
   {
    "duration": 511,
    "start_time": "2022-07-25T15:06:20.162Z"
   },
   {
    "duration": 551,
    "start_time": "2022-07-25T15:06:34.241Z"
   },
   {
    "duration": 608,
    "start_time": "2022-07-25T15:07:04.563Z"
   },
   {
    "duration": 170,
    "start_time": "2022-07-25T15:07:12.979Z"
   },
   {
    "duration": 84,
    "start_time": "2022-07-25T15:08:07.013Z"
   },
   {
    "duration": 499,
    "start_time": "2022-07-25T15:08:09.720Z"
   },
   {
    "duration": 457,
    "start_time": "2022-07-25T15:08:15.880Z"
   },
   {
    "duration": 576,
    "start_time": "2022-07-25T15:08:27.185Z"
   },
   {
    "duration": 135,
    "start_time": "2022-07-25T15:08:33.576Z"
   },
   {
    "duration": 164,
    "start_time": "2022-07-25T15:08:38.104Z"
   },
   {
    "duration": 34,
    "start_time": "2022-07-25T15:21:34.103Z"
   },
   {
    "duration": 563,
    "start_time": "2022-07-25T15:21:35.428Z"
   },
   {
    "duration": 183,
    "start_time": "2022-07-25T15:21:45.882Z"
   },
   {
    "duration": 25,
    "start_time": "2022-07-25T15:22:32.031Z"
   },
   {
    "duration": 24,
    "start_time": "2022-07-25T15:25:05.447Z"
   },
   {
    "duration": 15192,
    "start_time": "2022-07-25T15:25:48.671Z"
   },
   {
    "duration": 11,
    "start_time": "2022-07-25T15:31:53.540Z"
   },
   {
    "duration": 124,
    "start_time": "2022-07-25T15:31:56.515Z"
   },
   {
    "duration": 23,
    "start_time": "2022-07-25T15:32:00.673Z"
   },
   {
    "duration": 80,
    "start_time": "2022-07-25T15:32:05.705Z"
   },
   {
    "duration": 76,
    "start_time": "2022-07-25T15:34:44.704Z"
   },
   {
    "duration": 74,
    "start_time": "2022-07-25T15:34:47.039Z"
   },
   {
    "duration": 31,
    "start_time": "2022-07-25T15:34:54.359Z"
   },
   {
    "duration": 79,
    "start_time": "2022-07-25T15:34:55.168Z"
   },
   {
    "duration": 1114,
    "start_time": "2022-07-25T15:35:06.234Z"
   },
   {
    "duration": 1011,
    "start_time": "2022-07-25T15:35:21.575Z"
   },
   {
    "duration": 21,
    "start_time": "2022-07-25T15:36:07.845Z"
   },
   {
    "duration": 134,
    "start_time": "2022-07-25T15:40:51.106Z"
   },
   {
    "duration": 8,
    "start_time": "2022-07-25T15:41:49.058Z"
   },
   {
    "duration": 14,
    "start_time": "2022-07-25T15:42:02.493Z"
   },
   {
    "duration": 11,
    "start_time": "2022-07-25T15:42:10.702Z"
   },
   {
    "duration": 8,
    "start_time": "2022-07-25T15:42:22.590Z"
   },
   {
    "duration": 11,
    "start_time": "2022-07-25T15:42:31.709Z"
   },
   {
    "duration": 15,
    "start_time": "2022-07-25T15:42:46.717Z"
   },
   {
    "duration": 8,
    "start_time": "2022-07-25T15:42:50.612Z"
   },
   {
    "duration": 23,
    "start_time": "2022-07-25T15:43:16.916Z"
   },
   {
    "duration": 9,
    "start_time": "2022-07-25T15:43:17.957Z"
   },
   {
    "duration": 27,
    "start_time": "2022-07-25T15:44:36.505Z"
   },
   {
    "duration": 9,
    "start_time": "2022-07-25T15:44:37.844Z"
   },
   {
    "duration": 836,
    "start_time": "2022-07-25T15:44:52.420Z"
   },
   {
    "duration": 126,
    "start_time": "2022-07-25T15:45:10.338Z"
   },
   {
    "duration": 23,
    "start_time": "2022-07-25T15:46:46.540Z"
   },
   {
    "duration": 133,
    "start_time": "2022-07-25T15:47:59.404Z"
   },
   {
    "duration": 117,
    "start_time": "2022-07-25T15:50:11.034Z"
   },
   {
    "duration": 74,
    "start_time": "2022-07-25T15:50:34.897Z"
   },
   {
    "duration": 9,
    "start_time": "2022-07-25T15:51:48.933Z"
   },
   {
    "duration": 4,
    "start_time": "2022-07-25T15:51:51.890Z"
   },
   {
    "duration": 4,
    "start_time": "2022-07-25T15:52:25.773Z"
   },
   {
    "duration": 3,
    "start_time": "2022-07-25T15:54:05.171Z"
   },
   {
    "duration": 149,
    "start_time": "2022-07-25T15:55:37.102Z"
   },
   {
    "duration": 134,
    "start_time": "2022-07-25T15:55:48.111Z"
   },
   {
    "duration": 1239,
    "start_time": "2022-07-25T16:05:56.019Z"
   },
   {
    "duration": 2,
    "start_time": "2022-07-25T16:05:57.261Z"
   },
   {
    "duration": 1010,
    "start_time": "2022-07-25T16:05:57.264Z"
   },
   {
    "duration": 291,
    "start_time": "2022-07-25T16:05:58.275Z"
   },
   {
    "duration": 498,
    "start_time": "2022-07-25T16:05:58.568Z"
   },
   {
    "duration": 132,
    "start_time": "2022-07-25T16:05:59.068Z"
   },
   {
    "duration": 143,
    "start_time": "2022-07-25T16:05:59.201Z"
   },
   {
    "duration": 73,
    "start_time": "2022-07-25T16:05:59.346Z"
   },
   {
    "duration": 16,
    "start_time": "2022-07-25T16:05:59.431Z"
   },
   {
    "duration": 5,
    "start_time": "2022-07-25T16:05:59.448Z"
   },
   {
    "duration": 41,
    "start_time": "2022-07-25T16:06:20.614Z"
   },
   {
    "duration": 39,
    "start_time": "2022-07-25T16:06:40.202Z"
   },
   {
    "duration": 39,
    "start_time": "2022-07-25T16:07:34.642Z"
   },
   {
    "duration": 33,
    "start_time": "2022-07-25T16:07:36.062Z"
   },
   {
    "duration": 41,
    "start_time": "2022-07-25T16:17:07.425Z"
   },
   {
    "duration": 1158,
    "start_time": "2022-07-25T16:18:47.057Z"
   },
   {
    "duration": 3,
    "start_time": "2022-07-25T16:18:48.216Z"
   },
   {
    "duration": 893,
    "start_time": "2022-07-25T16:18:48.220Z"
   },
   {
    "duration": 285,
    "start_time": "2022-07-25T16:18:49.115Z"
   },
   {
    "duration": 533,
    "start_time": "2022-07-25T16:18:49.403Z"
   },
   {
    "duration": 131,
    "start_time": "2022-07-25T16:18:49.939Z"
   },
   {
    "duration": 132,
    "start_time": "2022-07-25T16:18:50.071Z"
   },
   {
    "duration": 82,
    "start_time": "2022-07-25T16:18:50.204Z"
   },
   {
    "duration": 16,
    "start_time": "2022-07-25T16:18:50.287Z"
   },
   {
    "duration": 23,
    "start_time": "2022-07-25T16:18:50.304Z"
   },
   {
    "duration": 41,
    "start_time": "2022-07-25T16:18:50.333Z"
   },
   {
    "duration": 37,
    "start_time": "2022-07-25T16:18:50.376Z"
   },
   {
    "duration": 54,
    "start_time": "2022-07-25T16:18:50.415Z"
   },
   {
    "duration": 33,
    "start_time": "2022-07-25T16:18:50.472Z"
   },
   {
    "duration": 48,
    "start_time": "2022-07-25T16:18:50.507Z"
   },
   {
    "duration": 34,
    "start_time": "2022-07-25T16:18:50.557Z"
   },
   {
    "duration": 976,
    "start_time": "2022-07-25T16:18:50.592Z"
   },
   {
    "duration": 38,
    "start_time": "2022-07-25T16:18:51.570Z"
   },
   {
    "duration": 26,
    "start_time": "2022-07-25T16:18:51.610Z"
   },
   {
    "duration": 10,
    "start_time": "2022-07-25T16:18:51.638Z"
   },
   {
    "duration": 173,
    "start_time": "2022-07-25T16:18:51.650Z"
   },
   {
    "duration": 63,
    "start_time": "2022-07-25T16:18:51.837Z"
   },
   {
    "duration": 471,
    "start_time": "2022-07-25T16:18:51.902Z"
   },
   {
    "duration": 172,
    "start_time": "2022-07-25T16:18:52.374Z"
   },
   {
    "duration": 26,
    "start_time": "2022-07-25T16:18:52.547Z"
   },
   {
    "duration": 23,
    "start_time": "2022-07-25T16:18:52.574Z"
   },
   {
    "duration": 1152,
    "start_time": "2022-07-25T16:18:52.599Z"
   },
   {
    "duration": 134,
    "start_time": "2022-07-25T16:18:53.753Z"
   },
   {
    "duration": 20,
    "start_time": "2022-07-25T16:18:53.889Z"
   },
   {
    "duration": 32,
    "start_time": "2022-07-25T16:18:53.910Z"
   },
   {
    "duration": 824,
    "start_time": "2022-07-25T16:18:53.944Z"
   },
   {
    "duration": 138,
    "start_time": "2022-07-25T16:18:54.770Z"
   },
   {
    "duration": 31,
    "start_time": "2022-07-25T16:18:54.910Z"
   },
   {
    "duration": 137,
    "start_time": "2022-07-25T16:18:54.943Z"
   },
   {
    "duration": 4,
    "start_time": "2022-07-25T16:18:55.082Z"
   },
   {
    "duration": 151,
    "start_time": "2022-07-25T16:18:55.088Z"
   },
   {
    "duration": 49,
    "start_time": "2022-07-25T16:35:08.241Z"
   },
   {
    "duration": 21,
    "start_time": "2022-07-25T16:35:18.619Z"
   },
   {
    "duration": 2039,
    "start_time": "2022-07-25T16:35:19.732Z"
   },
   {
    "duration": 589,
    "start_time": "2022-07-25T16:35:29.618Z"
   },
   {
    "duration": 426,
    "start_time": "2022-07-25T16:38:51.561Z"
   },
   {
    "duration": 2,
    "start_time": "2022-07-25T16:44:57.951Z"
   },
   {
    "duration": 585,
    "start_time": "2022-07-25T16:45:44.513Z"
   },
   {
    "duration": 3,
    "start_time": "2022-07-25T16:45:58.802Z"
   },
   {
    "duration": 22,
    "start_time": "2022-07-25T16:46:10.538Z"
   },
   {
    "duration": 10,
    "start_time": "2022-07-25T16:46:32.438Z"
   },
   {
    "duration": 464,
    "start_time": "2022-07-25T16:47:20.082Z"
   },
   {
    "duration": 4,
    "start_time": "2022-07-25T16:47:25.275Z"
   },
   {
    "duration": 44,
    "start_time": "2022-07-25T16:52:51.945Z"
   },
   {
    "duration": 10,
    "start_time": "2022-07-25T16:53:04.534Z"
   },
   {
    "duration": 283,
    "start_time": "2022-07-25T16:53:20.473Z"
   },
   {
    "duration": 3,
    "start_time": "2022-07-25T16:59:03.658Z"
   },
   {
    "duration": 60,
    "start_time": "2022-07-25T17:07:14.042Z"
   },
   {
    "duration": 61,
    "start_time": "2022-07-25T17:07:25.441Z"
   },
   {
    "duration": 79,
    "start_time": "2022-07-25T17:07:33.310Z"
   },
   {
    "duration": 1077,
    "start_time": "2022-07-25T17:07:57.477Z"
   },
   {
    "duration": 564145,
    "start_time": "2022-07-25T17:08:22.976Z"
   },
   {
    "duration": 364413,
    "start_time": "2022-07-25T17:17:57.161Z"
   },
   {
    "duration": 72,
    "start_time": "2022-07-25T17:25:31.776Z"
   },
   {
    "duration": 5361,
    "start_time": "2022-07-25T17:25:45.993Z"
   },
   {
    "duration": 394105,
    "start_time": "2022-07-25T17:26:13.729Z"
   },
   {
    "duration": 4,
    "start_time": "2022-07-25T17:33:00.938Z"
   },
   {
    "duration": 0,
    "start_time": "2022-07-25T17:33:35.841Z"
   },
   {
    "duration": 39777,
    "start_time": "2022-07-25T17:33:55.750Z"
   },
   {
    "duration": 74,
    "start_time": "2022-07-25T17:37:30.365Z"
   },
   {
    "duration": 10848,
    "start_time": "2022-07-25T17:37:42.892Z"
   },
   {
    "duration": 30552,
    "start_time": "2022-07-25T17:38:05.684Z"
   },
   {
    "duration": 31853,
    "start_time": "2022-07-25T17:40:09.304Z"
   },
   {
    "duration": 163054,
    "start_time": "2022-07-25T17:49:51.573Z"
   },
   {
    "duration": 9,
    "start_time": "2022-07-25T17:57:01.783Z"
   },
   {
    "duration": 11,
    "start_time": "2022-07-25T17:57:44.238Z"
   },
   {
    "duration": 12,
    "start_time": "2022-07-25T17:58:20.190Z"
   },
   {
    "duration": 436111,
    "start_time": "2022-07-25T17:58:46.100Z"
   },
   {
    "duration": 72,
    "start_time": "2022-07-25T18:06:02.214Z"
   },
   {
    "duration": 7,
    "start_time": "2022-07-25T18:07:07.542Z"
   },
   {
    "duration": 64,
    "start_time": "2022-07-25T18:11:33.901Z"
   },
   {
    "duration": 135571,
    "start_time": "2022-07-25T18:11:45.243Z"
   },
   {
    "duration": 5,
    "start_time": "2022-07-25T18:14:16.096Z"
   },
   {
    "duration": 1413,
    "start_time": "2022-07-25T18:16:50.501Z"
   },
   {
    "duration": 6,
    "start_time": "2022-07-25T18:16:51.917Z"
   },
   {
    "duration": 883,
    "start_time": "2022-07-25T18:16:51.925Z"
   },
   {
    "duration": 279,
    "start_time": "2022-07-25T18:16:52.810Z"
   },
   {
    "duration": 468,
    "start_time": "2022-07-25T18:16:53.091Z"
   },
   {
    "duration": 133,
    "start_time": "2022-07-25T18:16:53.561Z"
   },
   {
    "duration": 160,
    "start_time": "2022-07-25T18:16:53.695Z"
   },
   {
    "duration": 83,
    "start_time": "2022-07-25T18:16:53.858Z"
   },
   {
    "duration": 14,
    "start_time": "2022-07-25T18:16:53.943Z"
   },
   {
    "duration": 5,
    "start_time": "2022-07-25T18:16:53.959Z"
   },
   {
    "duration": 64,
    "start_time": "2022-07-25T18:16:53.965Z"
   },
   {
    "duration": 38,
    "start_time": "2022-07-25T18:16:54.030Z"
   },
   {
    "duration": 35,
    "start_time": "2022-07-25T18:16:54.070Z"
   },
   {
    "duration": 54,
    "start_time": "2022-07-25T18:16:54.108Z"
   },
   {
    "duration": 42,
    "start_time": "2022-07-25T18:16:54.164Z"
   },
   {
    "duration": 47,
    "start_time": "2022-07-25T18:16:54.208Z"
   },
   {
    "duration": 992,
    "start_time": "2022-07-25T18:16:54.257Z"
   },
   {
    "duration": 39,
    "start_time": "2022-07-25T18:16:55.250Z"
   },
   {
    "duration": 5,
    "start_time": "2022-07-25T18:16:55.290Z"
   },
   {
    "duration": 33,
    "start_time": "2022-07-25T18:16:55.296Z"
   },
   {
    "duration": 190,
    "start_time": "2022-07-25T18:16:55.331Z"
   },
   {
    "duration": 65,
    "start_time": "2022-07-25T18:16:55.522Z"
   },
   {
    "duration": 500,
    "start_time": "2022-07-25T18:16:55.589Z"
   },
   {
    "duration": 257,
    "start_time": "2022-07-25T18:16:56.090Z"
   },
   {
    "duration": 23,
    "start_time": "2022-07-25T18:16:56.349Z"
   },
   {
    "duration": 23,
    "start_time": "2022-07-25T18:16:56.373Z"
   },
   {
    "duration": 1249,
    "start_time": "2022-07-25T18:16:56.398Z"
   },
   {
    "duration": 132,
    "start_time": "2022-07-25T18:16:57.649Z"
   },
   {
    "duration": 28,
    "start_time": "2022-07-25T18:16:57.783Z"
   },
   {
    "duration": 34,
    "start_time": "2022-07-25T18:16:57.813Z"
   },
   {
    "duration": 976,
    "start_time": "2022-07-25T18:16:57.849Z"
   },
   {
    "duration": 128,
    "start_time": "2022-07-25T18:16:58.831Z"
   },
   {
    "duration": 21,
    "start_time": "2022-07-25T18:16:58.960Z"
   },
   {
    "duration": 147,
    "start_time": "2022-07-25T18:16:58.983Z"
   },
   {
    "duration": 5,
    "start_time": "2022-07-25T18:16:59.131Z"
   },
   {
    "duration": 138,
    "start_time": "2022-07-25T18:16:59.141Z"
   },
   {
    "duration": 3,
    "start_time": "2022-07-25T18:16:59.281Z"
   },
   {
    "duration": 22,
    "start_time": "2022-07-25T18:16:59.286Z"
   },
   {
    "duration": 473,
    "start_time": "2022-07-25T18:16:59.310Z"
   },
   {
    "duration": 61,
    "start_time": "2022-07-25T18:16:59.785Z"
   },
   {
    "duration": 305,
    "start_time": "2022-07-25T18:16:59.850Z"
   },
   {
    "duration": 7,
    "start_time": "2022-07-25T18:17:00.157Z"
   },
   {
    "duration": 1894908,
    "start_time": "2022-07-25T18:17:47.295Z"
   },
   {
    "duration": 416616,
    "start_time": "2022-07-25T18:49:26.705Z"
   },
   {
    "duration": 75,
    "start_time": "2022-07-25T18:56:23.323Z"
   },
   {
    "duration": 257767,
    "start_time": "2022-07-25T18:57:19.072Z"
   },
   {
    "duration": 1583,
    "start_time": "2022-07-25T19:05:27.908Z"
   },
   {
    "duration": 3,
    "start_time": "2022-07-25T19:05:29.493Z"
   },
   {
    "duration": 973,
    "start_time": "2022-07-25T19:05:29.498Z"
   },
   {
    "duration": 288,
    "start_time": "2022-07-25T19:05:30.474Z"
   },
   {
    "duration": 519,
    "start_time": "2022-07-25T19:05:30.765Z"
   },
   {
    "duration": 167,
    "start_time": "2022-07-25T19:05:31.286Z"
   },
   {
    "duration": 149,
    "start_time": "2022-07-25T19:05:31.457Z"
   },
   {
    "duration": 89,
    "start_time": "2022-07-25T19:05:31.608Z"
   },
   {
    "duration": 28,
    "start_time": "2022-07-25T19:05:31.699Z"
   },
   {
    "duration": 8,
    "start_time": "2022-07-25T19:05:31.728Z"
   },
   {
    "duration": 44,
    "start_time": "2022-07-25T19:05:31.737Z"
   },
   {
    "duration": 66,
    "start_time": "2022-07-25T19:05:31.783Z"
   },
   {
    "duration": 93,
    "start_time": "2022-07-25T19:05:31.851Z"
   },
   {
    "duration": 59,
    "start_time": "2022-07-25T19:05:31.948Z"
   },
   {
    "duration": 77,
    "start_time": "2022-07-25T19:05:32.008Z"
   },
   {
    "duration": 61,
    "start_time": "2022-07-25T19:05:32.086Z"
   },
   {
    "duration": 1039,
    "start_time": "2022-07-25T19:05:32.149Z"
   },
   {
    "duration": 67,
    "start_time": "2022-07-25T19:05:33.190Z"
   },
   {
    "duration": 16,
    "start_time": "2022-07-25T19:05:33.261Z"
   },
   {
    "duration": 12,
    "start_time": "2022-07-25T19:05:33.279Z"
   },
   {
    "duration": 268,
    "start_time": "2022-07-25T19:05:33.293Z"
   },
   {
    "duration": 76,
    "start_time": "2022-07-25T19:05:33.563Z"
   },
   {
    "duration": 517,
    "start_time": "2022-07-25T19:05:33.641Z"
   },
   {
    "duration": 279,
    "start_time": "2022-07-25T19:05:34.161Z"
   },
   {
    "duration": 33,
    "start_time": "2022-07-25T19:05:34.442Z"
   },
   {
    "duration": 28,
    "start_time": "2022-07-25T19:05:34.477Z"
   },
   {
    "duration": 1328,
    "start_time": "2022-07-25T19:05:34.507Z"
   },
   {
    "duration": 156,
    "start_time": "2022-07-25T19:05:35.837Z"
   },
   {
    "duration": 28,
    "start_time": "2022-07-25T19:05:35.996Z"
   },
   {
    "duration": 29,
    "start_time": "2022-07-25T19:05:36.032Z"
   },
   {
    "duration": 1018,
    "start_time": "2022-07-25T19:05:36.064Z"
   },
   {
    "duration": 143,
    "start_time": "2022-07-25T19:05:37.084Z"
   },
   {
    "duration": 34,
    "start_time": "2022-07-25T19:05:37.229Z"
   },
   {
    "duration": 162,
    "start_time": "2022-07-25T19:05:37.268Z"
   },
   {
    "duration": 5,
    "start_time": "2022-07-25T19:05:37.432Z"
   },
   {
    "duration": 260,
    "start_time": "2022-07-25T19:05:37.452Z"
   },
   {
    "duration": 4,
    "start_time": "2022-07-25T19:05:37.714Z"
   },
   {
    "duration": 50,
    "start_time": "2022-07-25T19:05:37.727Z"
   },
   {
    "duration": 525,
    "start_time": "2022-07-25T19:05:37.779Z"
   },
   {
    "duration": 76,
    "start_time": "2022-07-25T19:05:38.306Z"
   },
   {
    "duration": 316,
    "start_time": "2022-07-25T19:05:38.385Z"
   },
   {
    "duration": 7,
    "start_time": "2022-07-25T19:05:38.704Z"
   },
   {
    "duration": 241406,
    "start_time": "2022-07-25T19:06:28.050Z"
   },
   {
    "duration": 334273,
    "start_time": "2022-07-25T19:10:36.901Z"
   },
   {
    "duration": 54586,
    "start_time": "2022-07-25T19:16:25.976Z"
   },
   {
    "duration": 1378,
    "start_time": "2022-07-25T19:19:07.865Z"
   },
   {
    "duration": 3,
    "start_time": "2022-07-25T19:19:09.245Z"
   },
   {
    "duration": 885,
    "start_time": "2022-07-25T19:19:09.250Z"
   },
   {
    "duration": 257,
    "start_time": "2022-07-25T19:19:10.137Z"
   },
   {
    "duration": 451,
    "start_time": "2022-07-25T19:19:10.396Z"
   },
   {
    "duration": 127,
    "start_time": "2022-07-25T19:19:10.849Z"
   },
   {
    "duration": 129,
    "start_time": "2022-07-25T19:19:10.978Z"
   },
   {
    "duration": 83,
    "start_time": "2022-07-25T19:19:11.109Z"
   },
   {
    "duration": 13,
    "start_time": "2022-07-25T19:19:11.193Z"
   },
   {
    "duration": 17,
    "start_time": "2022-07-25T19:19:11.208Z"
   },
   {
    "duration": 32,
    "start_time": "2022-07-25T19:19:11.227Z"
   },
   {
    "duration": 32,
    "start_time": "2022-07-25T19:19:11.261Z"
   },
   {
    "duration": 57,
    "start_time": "2022-07-25T19:19:11.295Z"
   },
   {
    "duration": 32,
    "start_time": "2022-07-25T19:19:11.355Z"
   },
   {
    "duration": 42,
    "start_time": "2022-07-25T19:19:11.389Z"
   },
   {
    "duration": 35,
    "start_time": "2022-07-25T19:19:11.433Z"
   },
   {
    "duration": 972,
    "start_time": "2022-07-25T19:19:11.469Z"
   },
   {
    "duration": 45,
    "start_time": "2022-07-25T19:19:12.443Z"
   },
   {
    "duration": 4,
    "start_time": "2022-07-25T19:19:12.490Z"
   },
   {
    "duration": 10,
    "start_time": "2022-07-25T19:19:12.496Z"
   },
   {
    "duration": 169,
    "start_time": "2022-07-25T19:19:12.524Z"
   },
   {
    "duration": 70,
    "start_time": "2022-07-25T19:19:12.695Z"
   },
   {
    "duration": 449,
    "start_time": "2022-07-25T19:19:12.767Z"
   },
   {
    "duration": 222,
    "start_time": "2022-07-25T19:19:13.223Z"
   },
   {
    "duration": 25,
    "start_time": "2022-07-25T19:19:13.446Z"
   },
   {
    "duration": 24,
    "start_time": "2022-07-25T19:19:13.472Z"
   },
   {
    "duration": 1033,
    "start_time": "2022-07-25T19:19:13.498Z"
   },
   {
    "duration": 158,
    "start_time": "2022-07-25T19:19:14.532Z"
   },
   {
    "duration": 32,
    "start_time": "2022-07-25T19:19:14.692Z"
   },
   {
    "duration": 22,
    "start_time": "2022-07-25T19:19:14.726Z"
   },
   {
    "duration": 882,
    "start_time": "2022-07-25T19:19:14.750Z"
   },
   {
    "duration": 132,
    "start_time": "2022-07-25T19:19:15.634Z"
   },
   {
    "duration": 20,
    "start_time": "2022-07-25T19:19:15.768Z"
   },
   {
    "duration": 122,
    "start_time": "2022-07-25T19:19:15.790Z"
   },
   {
    "duration": 4,
    "start_time": "2022-07-25T19:19:15.914Z"
   },
   {
    "duration": 67,
    "start_time": "2022-07-25T19:19:18.418Z"
   },
   {
    "duration": 3,
    "start_time": "2022-07-25T19:20:39.952Z"
   },
   {
    "duration": 13,
    "start_time": "2022-07-25T19:20:47.857Z"
   },
   {
    "duration": 531,
    "start_time": "2022-07-25T19:20:48.618Z"
   },
   {
    "duration": 51,
    "start_time": "2022-07-25T19:20:49.210Z"
   },
   {
    "duration": 323,
    "start_time": "2022-07-25T19:20:49.866Z"
   },
   {
    "duration": 9,
    "start_time": "2022-07-25T19:20:52.155Z"
   },
   {
    "duration": 7157,
    "start_time": "2022-07-25T19:20:57.779Z"
   },
   {
    "duration": 36805,
    "start_time": "2022-07-25T19:21:04.938Z"
   },
   {
    "duration": 27354,
    "start_time": "2022-07-25T19:21:41.745Z"
   },
   {
    "duration": 110347,
    "start_time": "2022-07-25T19:22:09.102Z"
   },
   {
    "duration": 21373,
    "start_time": "2022-07-25T19:23:59.451Z"
   },
   {
    "duration": 69102,
    "start_time": "2022-07-25T19:24:20.826Z"
   },
   {
    "duration": 98342,
    "start_time": "2022-07-25T19:25:29.933Z"
   },
   {
    "duration": 10,
    "start_time": "2022-07-25T19:27:08.276Z"
   },
   {
    "duration": 0,
    "start_time": "2022-07-25T19:27:08.288Z"
   },
   {
    "duration": 0,
    "start_time": "2022-07-25T19:27:08.289Z"
   },
   {
    "duration": 35,
    "start_time": "2022-07-25T19:27:54.566Z"
   },
   {
    "duration": 5,
    "start_time": "2022-07-25T19:28:21.216Z"
   },
   {
    "duration": 31,
    "start_time": "2022-07-25T19:28:27.416Z"
   },
   {
    "duration": 29167,
    "start_time": "2022-07-25T19:28:39.921Z"
   },
   {
    "duration": 5,
    "start_time": "2022-07-25T19:29:09.090Z"
   },
   {
    "duration": 134220,
    "start_time": "2022-07-25T19:29:09.096Z"
   },
   {
    "duration": 11,
    "start_time": "2022-07-25T19:31:23.318Z"
   },
   {
    "duration": 156149,
    "start_time": "2022-07-25T19:32:17.382Z"
   },
   {
    "duration": 10,
    "start_time": "2022-07-25T19:34:53.533Z"
   },
   {
    "duration": 1475,
    "start_time": "2022-07-25T19:36:03.400Z"
   },
   {
    "duration": 3,
    "start_time": "2022-07-25T19:36:04.877Z"
   },
   {
    "duration": 839,
    "start_time": "2022-07-25T19:36:04.881Z"
   },
   {
    "duration": 246,
    "start_time": "2022-07-25T19:36:05.724Z"
   },
   {
    "duration": 462,
    "start_time": "2022-07-25T19:36:05.972Z"
   },
   {
    "duration": 119,
    "start_time": "2022-07-25T19:36:06.436Z"
   },
   {
    "duration": 127,
    "start_time": "2022-07-25T19:36:06.557Z"
   },
   {
    "duration": 84,
    "start_time": "2022-07-25T19:36:06.685Z"
   },
   {
    "duration": 13,
    "start_time": "2022-07-25T19:36:06.771Z"
   },
   {
    "duration": 5,
    "start_time": "2022-07-25T19:36:06.786Z"
   },
   {
    "duration": 49,
    "start_time": "2022-07-25T19:36:06.792Z"
   },
   {
    "duration": 35,
    "start_time": "2022-07-25T19:36:06.843Z"
   },
   {
    "duration": 35,
    "start_time": "2022-07-25T19:36:06.879Z"
   },
   {
    "duration": 32,
    "start_time": "2022-07-25T19:36:06.924Z"
   },
   {
    "duration": 38,
    "start_time": "2022-07-25T19:36:06.958Z"
   },
   {
    "duration": 52,
    "start_time": "2022-07-25T19:36:06.998Z"
   },
   {
    "duration": 1046,
    "start_time": "2022-07-25T19:36:07.051Z"
   },
   {
    "duration": 50,
    "start_time": "2022-07-25T19:36:08.098Z"
   },
   {
    "duration": 4,
    "start_time": "2022-07-25T19:36:08.150Z"
   },
   {
    "duration": 15,
    "start_time": "2022-07-25T19:36:08.155Z"
   },
   {
    "duration": 176,
    "start_time": "2022-07-25T19:36:08.171Z"
   },
   {
    "duration": 79,
    "start_time": "2022-07-25T19:36:08.349Z"
   },
   {
    "duration": 463,
    "start_time": "2022-07-25T19:36:08.430Z"
   },
   {
    "duration": 169,
    "start_time": "2022-07-25T19:36:08.895Z"
   },
   {
    "duration": 25,
    "start_time": "2022-07-25T19:36:09.065Z"
   },
   {
    "duration": 39,
    "start_time": "2022-07-25T19:36:09.092Z"
   },
   {
    "duration": 1105,
    "start_time": "2022-07-25T19:36:09.133Z"
   },
   {
    "duration": 141,
    "start_time": "2022-07-25T19:36:10.241Z"
   },
   {
    "duration": 22,
    "start_time": "2022-07-25T19:36:10.384Z"
   },
   {
    "duration": 34,
    "start_time": "2022-07-25T19:36:10.407Z"
   },
   {
    "duration": 861,
    "start_time": "2022-07-25T19:36:10.443Z"
   },
   {
    "duration": 133,
    "start_time": "2022-07-25T19:36:11.306Z"
   },
   {
    "duration": 22,
    "start_time": "2022-07-25T19:36:11.441Z"
   },
   {
    "duration": 131,
    "start_time": "2022-07-25T19:36:11.464Z"
   },
   {
    "duration": 3,
    "start_time": "2022-07-25T19:36:11.597Z"
   },
   {
    "duration": 133,
    "start_time": "2022-07-25T19:36:11.602Z"
   },
   {
    "duration": 3,
    "start_time": "2022-07-25T19:36:11.737Z"
   },
   {
    "duration": 16,
    "start_time": "2022-07-25T19:36:11.741Z"
   },
   {
    "duration": 457,
    "start_time": "2022-07-25T19:36:11.758Z"
   },
   {
    "duration": 50,
    "start_time": "2022-07-25T19:36:12.217Z"
   },
   {
    "duration": 295,
    "start_time": "2022-07-25T19:36:12.268Z"
   },
   {
    "duration": 7,
    "start_time": "2022-07-25T19:36:12.565Z"
   },
   {
    "duration": 6159,
    "start_time": "2022-07-25T19:36:12.573Z"
   },
   {
    "duration": 40604,
    "start_time": "2022-07-25T19:36:18.734Z"
   },
   {
    "duration": 23327,
    "start_time": "2022-07-25T19:36:59.340Z"
   },
   {
    "duration": 96630,
    "start_time": "2022-07-25T19:37:22.668Z"
   },
   {
    "duration": 14730,
    "start_time": "2022-07-25T19:38:59.299Z"
   },
   {
    "duration": 60495,
    "start_time": "2022-07-25T19:39:14.031Z"
   },
   {
    "duration": 25075,
    "start_time": "2022-07-25T19:40:14.528Z"
   },
   {
    "duration": 6,
    "start_time": "2022-07-25T19:40:39.604Z"
   },
   {
    "duration": 113,
    "start_time": "2022-07-25T19:40:39.623Z"
   },
   {
    "duration": 1823,
    "start_time": "2022-07-25T19:43:51.205Z"
   },
   {
    "duration": 1793,
    "start_time": "2022-07-25T19:43:59.532Z"
   },
   {
    "duration": 702,
    "start_time": "2022-07-25T19:48:03.849Z"
   },
   {
    "duration": 5,
    "start_time": "2022-07-25T19:49:26.636Z"
   },
   {
    "duration": 6,
    "start_time": "2022-07-25T19:49:35.885Z"
   },
   {
    "duration": 135,
    "start_time": "2022-07-25T19:51:29.493Z"
   },
   {
    "duration": 5,
    "start_time": "2022-07-25T19:52:06.187Z"
   },
   {
    "duration": 284,
    "start_time": "2022-07-25T19:52:22.340Z"
   },
   {
    "duration": 5,
    "start_time": "2022-07-25T19:52:37.140Z"
   },
   {
    "duration": 64,
    "start_time": "2022-07-25T19:52:57.923Z"
   },
   {
    "duration": 109,
    "start_time": "2022-07-25T19:53:14.240Z"
   },
   {
    "duration": 6,
    "start_time": "2022-07-25T19:53:28.691Z"
   },
   {
    "duration": 10,
    "start_time": "2022-07-25T20:14:54.163Z"
   },
   {
    "duration": 5,
    "start_time": "2022-07-25T20:15:06.899Z"
   },
   {
    "duration": 4,
    "start_time": "2022-07-25T20:15:34.536Z"
   },
   {
    "duration": 9,
    "start_time": "2022-07-25T20:15:41.848Z"
   },
   {
    "duration": 9,
    "start_time": "2022-07-25T20:16:10.992Z"
   },
   {
    "duration": 11,
    "start_time": "2022-07-25T20:16:28.948Z"
   },
   {
    "duration": 3,
    "start_time": "2022-07-25T20:28:31.186Z"
   },
   {
    "duration": 885,
    "start_time": "2022-07-25T20:30:06.207Z"
   },
   {
    "duration": 8,
    "start_time": "2022-07-25T20:30:50.970Z"
   },
   {
    "duration": 827,
    "start_time": "2022-07-25T20:31:00.479Z"
   },
   {
    "duration": 13,
    "start_time": "2022-07-25T20:31:04.375Z"
   },
   {
    "duration": 3,
    "start_time": "2022-07-25T20:31:15.367Z"
   },
   {
    "duration": 11,
    "start_time": "2022-07-25T20:31:22.014Z"
   },
   {
    "duration": 7,
    "start_time": "2022-07-25T20:32:36.953Z"
   },
   {
    "duration": 16,
    "start_time": "2022-07-25T20:32:44.502Z"
   },
   {
    "duration": 1311,
    "start_time": "2022-07-25T20:41:08.861Z"
   },
   {
    "duration": 3,
    "start_time": "2022-07-25T20:41:10.174Z"
   },
   {
    "duration": 831,
    "start_time": "2022-07-25T20:41:10.178Z"
   },
   {
    "duration": 240,
    "start_time": "2022-07-25T20:41:11.010Z"
   },
   {
    "duration": 451,
    "start_time": "2022-07-25T20:41:11.253Z"
   },
   {
    "duration": 126,
    "start_time": "2022-07-25T20:41:11.706Z"
   },
   {
    "duration": 124,
    "start_time": "2022-07-25T20:41:11.834Z"
   },
   {
    "duration": 87,
    "start_time": "2022-07-25T20:41:11.960Z"
   },
   {
    "duration": 13,
    "start_time": "2022-07-25T20:41:12.048Z"
   },
   {
    "duration": 5,
    "start_time": "2022-07-25T20:41:12.062Z"
   },
   {
    "duration": 36,
    "start_time": "2022-07-25T20:41:12.068Z"
   },
   {
    "duration": 47,
    "start_time": "2022-07-25T20:41:12.106Z"
   },
   {
    "duration": 36,
    "start_time": "2022-07-25T20:41:12.155Z"
   },
   {
    "duration": 46,
    "start_time": "2022-07-25T20:41:12.195Z"
   },
   {
    "duration": 39,
    "start_time": "2022-07-25T20:41:12.243Z"
   },
   {
    "duration": 45,
    "start_time": "2022-07-25T20:41:12.283Z"
   },
   {
    "duration": 932,
    "start_time": "2022-07-25T20:41:12.329Z"
   },
   {
    "duration": 42,
    "start_time": "2022-07-25T20:41:13.262Z"
   },
   {
    "duration": 3,
    "start_time": "2022-07-25T20:41:13.306Z"
   },
   {
    "duration": 7,
    "start_time": "2022-07-25T20:41:13.324Z"
   },
   {
    "duration": 168,
    "start_time": "2022-07-25T20:41:13.332Z"
   },
   {
    "duration": 70,
    "start_time": "2022-07-25T20:41:13.502Z"
   },
   {
    "duration": 425,
    "start_time": "2022-07-25T20:41:13.574Z"
   },
   {
    "duration": 163,
    "start_time": "2022-07-25T20:41:14.000Z"
   },
   {
    "duration": 25,
    "start_time": "2022-07-25T20:41:14.164Z"
   },
   {
    "duration": 40,
    "start_time": "2022-07-25T20:41:14.191Z"
   },
   {
    "duration": 1162,
    "start_time": "2022-07-25T20:41:14.233Z"
   },
   {
    "duration": 136,
    "start_time": "2022-07-25T20:41:15.396Z"
   },
   {
    "duration": 24,
    "start_time": "2022-07-25T20:41:15.534Z"
   },
   {
    "duration": 23,
    "start_time": "2022-07-25T20:41:15.560Z"
   },
   {
    "duration": 910,
    "start_time": "2022-07-25T20:41:15.585Z"
   },
   {
    "duration": 128,
    "start_time": "2022-07-25T20:41:16.497Z"
   },
   {
    "duration": 23,
    "start_time": "2022-07-25T20:41:16.627Z"
   },
   {
    "duration": 132,
    "start_time": "2022-07-25T20:41:16.652Z"
   },
   {
    "duration": 5,
    "start_time": "2022-07-25T20:41:16.786Z"
   },
   {
    "duration": 138,
    "start_time": "2022-07-25T20:41:16.792Z"
   },
   {
    "duration": 3,
    "start_time": "2022-07-25T20:41:16.932Z"
   },
   {
    "duration": 15,
    "start_time": "2022-07-25T20:41:16.937Z"
   },
   {
    "duration": 470,
    "start_time": "2022-07-25T20:41:16.954Z"
   },
   {
    "duration": 57,
    "start_time": "2022-07-25T20:41:17.426Z"
   },
   {
    "duration": 288,
    "start_time": "2022-07-25T20:41:17.488Z"
   },
   {
    "duration": 7,
    "start_time": "2022-07-25T20:41:17.778Z"
   },
   {
    "duration": 5746,
    "start_time": "2022-07-25T20:41:17.787Z"
   },
   {
    "duration": 39203,
    "start_time": "2022-07-25T20:41:23.535Z"
   },
   {
    "duration": 23817,
    "start_time": "2022-07-25T20:42:02.740Z"
   },
   {
    "duration": 96424,
    "start_time": "2022-07-25T20:42:26.558Z"
   },
   {
    "duration": 14943,
    "start_time": "2022-07-25T20:44:02.983Z"
   },
   {
    "duration": 86505,
    "start_time": "2022-07-25T20:44:17.927Z"
   },
   {
    "duration": 25507,
    "start_time": "2022-07-25T20:45:44.434Z"
   },
   {
    "duration": 5,
    "start_time": "2022-07-25T20:46:09.943Z"
   },
   {
    "duration": 1795,
    "start_time": "2022-07-25T20:46:09.950Z"
   },
   {
    "duration": 693,
    "start_time": "2022-07-25T20:46:11.747Z"
   },
   {
    "duration": 6,
    "start_time": "2022-07-25T20:46:12.442Z"
   },
   {
    "duration": 159,
    "start_time": "2022-07-25T20:46:12.449Z"
   },
   {
    "duration": 5,
    "start_time": "2022-07-25T20:46:12.610Z"
   },
   {
    "duration": 204,
    "start_time": "2022-07-25T20:46:12.624Z"
   },
   {
    "duration": 98,
    "start_time": "2022-07-25T20:46:12.830Z"
   },
   {
    "duration": 190,
    "start_time": "2022-07-25T20:46:12.930Z"
   },
   {
    "duration": 5,
    "start_time": "2022-07-25T20:46:13.123Z"
   },
   {
    "duration": 11,
    "start_time": "2022-07-25T20:46:13.130Z"
   },
   {
    "duration": 15,
    "start_time": "2022-07-25T20:46:13.143Z"
   },
   {
    "duration": 18,
    "start_time": "2022-07-25T20:46:13.160Z"
   },
   {
    "duration": 11,
    "start_time": "2022-07-25T20:46:53.912Z"
   },
   {
    "duration": 1026,
    "start_time": "2022-07-25T20:46:59.403Z"
   },
   {
    "duration": 9,
    "start_time": "2022-07-25T20:47:03.843Z"
   },
   {
    "duration": 16,
    "start_time": "2022-07-25T20:47:04.644Z"
   },
   {
    "duration": 1897,
    "start_time": "2022-07-26T01:12:17.836Z"
   },
   {
    "duration": 2,
    "start_time": "2022-07-26T01:12:20.340Z"
   },
   {
    "duration": 1117,
    "start_time": "2022-07-26T01:12:22.080Z"
   },
   {
    "duration": 244,
    "start_time": "2022-07-26T01:12:23.199Z"
   },
   {
    "duration": 445,
    "start_time": "2022-07-26T01:12:23.701Z"
   },
   {
    "duration": 120,
    "start_time": "2022-07-26T01:12:24.148Z"
   },
   {
    "duration": 115,
    "start_time": "2022-07-26T01:12:24.414Z"
   },
   {
    "duration": 71,
    "start_time": "2022-07-26T01:12:24.920Z"
   },
   {
    "duration": 13,
    "start_time": "2022-07-26T01:12:25.139Z"
   },
   {
    "duration": 5,
    "start_time": "2022-07-26T01:12:25.480Z"
   },
   {
    "duration": 30,
    "start_time": "2022-07-26T01:12:25.936Z"
   },
   {
    "duration": 31,
    "start_time": "2022-07-26T01:12:26.136Z"
   },
   {
    "duration": 33,
    "start_time": "2022-07-26T01:12:26.338Z"
   },
   {
    "duration": 31,
    "start_time": "2022-07-26T01:12:26.721Z"
   },
   {
    "duration": 34,
    "start_time": "2022-07-26T01:12:27.104Z"
   },
   {
    "duration": 31,
    "start_time": "2022-07-26T01:12:27.296Z"
   },
   {
    "duration": 836,
    "start_time": "2022-07-26T01:12:27.659Z"
   },
   {
    "duration": 44,
    "start_time": "2022-07-26T01:12:28.497Z"
   },
   {
    "duration": 3,
    "start_time": "2022-07-26T01:12:28.543Z"
   },
   {
    "duration": 8,
    "start_time": "2022-07-26T01:12:28.548Z"
   },
   {
    "duration": 154,
    "start_time": "2022-07-26T01:12:28.714Z"
   },
   {
    "duration": 77,
    "start_time": "2022-07-26T01:12:29.421Z"
   },
   {
    "duration": 416,
    "start_time": "2022-07-26T01:12:29.624Z"
   },
   {
    "duration": 164,
    "start_time": "2022-07-26T01:12:30.042Z"
   },
   {
    "duration": 24,
    "start_time": "2022-07-26T01:12:30.249Z"
   },
   {
    "duration": 23,
    "start_time": "2022-07-26T01:12:30.840Z"
   },
   {
    "duration": 1103,
    "start_time": "2022-07-26T01:12:31.360Z"
   },
   {
    "duration": 128,
    "start_time": "2022-07-26T01:12:32.465Z"
   },
   {
    "duration": 32,
    "start_time": "2022-07-26T01:12:32.594Z"
   },
   {
    "duration": 22,
    "start_time": "2022-07-26T01:12:32.628Z"
   },
   {
    "duration": 837,
    "start_time": "2022-07-26T01:12:32.701Z"
   },
   {
    "duration": 121,
    "start_time": "2022-07-26T01:12:33.541Z"
   },
   {
    "duration": 21,
    "start_time": "2022-07-26T01:12:34.277Z"
   },
   {
    "duration": 108,
    "start_time": "2022-07-26T01:12:34.496Z"
   },
   {
    "duration": 4,
    "start_time": "2022-07-26T01:12:34.715Z"
   },
   {
    "duration": 123,
    "start_time": "2022-07-26T01:12:34.993Z"
   },
   {
    "duration": 40,
    "start_time": "2022-07-26T01:12:36.502Z"
   },
   {
    "duration": 1542,
    "start_time": "2022-07-26T08:33:16.993Z"
   },
   {
    "duration": 3,
    "start_time": "2022-07-26T08:33:19.669Z"
   },
   {
    "duration": 1071,
    "start_time": "2022-07-26T08:33:21.163Z"
   },
   {
    "duration": 251,
    "start_time": "2022-07-26T08:33:26.697Z"
   },
   {
    "duration": 421,
    "start_time": "2022-07-26T08:33:30.437Z"
   },
   {
    "duration": 120,
    "start_time": "2022-07-26T08:33:31.862Z"
   },
   {
    "duration": 121,
    "start_time": "2022-07-26T08:33:33.812Z"
   },
   {
    "duration": 76,
    "start_time": "2022-07-26T08:33:35.764Z"
   },
   {
    "duration": 14,
    "start_time": "2022-07-26T08:33:40.381Z"
   },
   {
    "duration": 6,
    "start_time": "2022-07-26T08:33:41.766Z"
   },
   {
    "duration": 33,
    "start_time": "2022-07-26T08:33:43.261Z"
   },
   {
    "duration": 32,
    "start_time": "2022-07-26T08:33:45.243Z"
   },
   {
    "duration": 32,
    "start_time": "2022-07-26T08:33:45.949Z"
   },
   {
    "duration": 33,
    "start_time": "2022-07-26T08:33:46.980Z"
   },
   {
    "duration": 24,
    "start_time": "2022-07-26T08:35:13.499Z"
   },
   {
    "duration": 1476,
    "start_time": "2022-07-26T08:36:55.237Z"
   },
   {
    "duration": 3,
    "start_time": "2022-07-26T08:36:56.715Z"
   },
   {
    "duration": 760,
    "start_time": "2022-07-26T08:36:56.719Z"
   },
   {
    "duration": 241,
    "start_time": "2022-07-26T08:36:57.480Z"
   },
   {
    "duration": 426,
    "start_time": "2022-07-26T08:36:57.723Z"
   },
   {
    "duration": 121,
    "start_time": "2022-07-26T08:36:58.151Z"
   },
   {
    "duration": 126,
    "start_time": "2022-07-26T08:36:58.274Z"
   },
   {
    "duration": 82,
    "start_time": "2022-07-26T08:36:58.401Z"
   },
   {
    "duration": 24,
    "start_time": "2022-07-26T08:36:58.484Z"
   },
   {
    "duration": 5,
    "start_time": "2022-07-26T08:36:58.509Z"
   },
   {
    "duration": 36,
    "start_time": "2022-07-26T08:36:58.515Z"
   },
   {
    "duration": 32,
    "start_time": "2022-07-26T08:36:58.561Z"
   },
   {
    "duration": 41,
    "start_time": "2022-07-26T08:36:58.595Z"
   },
   {
    "duration": 61,
    "start_time": "2022-07-26T08:36:58.639Z"
   },
   {
    "duration": 34,
    "start_time": "2022-07-26T08:36:58.702Z"
   },
   {
    "duration": 44,
    "start_time": "2022-07-26T08:36:58.738Z"
   },
   {
    "duration": 37,
    "start_time": "2022-07-26T08:36:58.784Z"
   },
   {
    "duration": 842,
    "start_time": "2022-07-26T08:36:58.823Z"
   },
   {
    "duration": 35,
    "start_time": "2022-07-26T08:36:59.666Z"
   },
   {
    "duration": 4,
    "start_time": "2022-07-26T08:36:59.703Z"
   },
   {
    "duration": 9,
    "start_time": "2022-07-26T08:36:59.709Z"
   },
   {
    "duration": 187,
    "start_time": "2022-07-26T08:36:59.719Z"
   },
   {
    "duration": 66,
    "start_time": "2022-07-26T08:36:59.908Z"
   },
   {
    "duration": 426,
    "start_time": "2022-07-26T08:36:59.976Z"
   },
   {
    "duration": 150,
    "start_time": "2022-07-26T08:37:00.404Z"
   },
   {
    "duration": 21,
    "start_time": "2022-07-26T08:37:00.560Z"
   },
   {
    "duration": 31,
    "start_time": "2022-07-26T08:37:00.583Z"
   },
   {
    "duration": 1077,
    "start_time": "2022-07-26T08:37:00.616Z"
   },
   {
    "duration": 138,
    "start_time": "2022-07-26T08:37:01.695Z"
   },
   {
    "duration": 26,
    "start_time": "2022-07-26T08:37:01.835Z"
   },
   {
    "duration": 35,
    "start_time": "2022-07-26T08:37:01.862Z"
   },
   {
    "duration": 825,
    "start_time": "2022-07-26T08:37:01.898Z"
   },
   {
    "duration": 121,
    "start_time": "2022-07-26T08:37:02.725Z"
   },
   {
    "duration": 28,
    "start_time": "2022-07-26T08:37:02.848Z"
   },
   {
    "duration": 127,
    "start_time": "2022-07-26T08:37:02.878Z"
   },
   {
    "duration": 3,
    "start_time": "2022-07-26T08:37:03.007Z"
   },
   {
    "duration": 135,
    "start_time": "2022-07-26T08:37:03.012Z"
   },
   {
    "duration": 40,
    "start_time": "2022-07-26T08:37:03.149Z"
   },
   {
    "duration": 2,
    "start_time": "2022-07-26T08:37:03.191Z"
   },
   {
    "duration": 22,
    "start_time": "2022-07-26T08:37:03.195Z"
   },
   {
    "duration": 385,
    "start_time": "2022-07-26T08:37:03.221Z"
   },
   {
    "duration": 39,
    "start_time": "2022-07-26T08:37:03.608Z"
   },
   {
    "duration": 277,
    "start_time": "2022-07-26T08:37:03.648Z"
   },
   {
    "duration": 4,
    "start_time": "2022-07-26T08:45:06.106Z"
   },
   {
    "duration": 4,
    "start_time": "2022-07-26T08:50:16.952Z"
   },
   {
    "duration": 1907,
    "start_time": "2022-07-26T08:52:40.999Z"
   },
   {
    "duration": 4,
    "start_time": "2022-07-26T08:53:50.182Z"
   },
   {
    "duration": 1378,
    "start_time": "2022-07-26T08:55:04.037Z"
   },
   {
    "duration": 3,
    "start_time": "2022-07-26T08:55:05.417Z"
   },
   {
    "duration": 752,
    "start_time": "2022-07-26T08:55:05.422Z"
   },
   {
    "duration": 293,
    "start_time": "2022-07-26T08:55:06.176Z"
   },
   {
    "duration": 407,
    "start_time": "2022-07-26T08:55:06.472Z"
   },
   {
    "duration": 119,
    "start_time": "2022-07-26T08:55:06.881Z"
   },
   {
    "duration": 130,
    "start_time": "2022-07-26T08:55:07.002Z"
   },
   {
    "duration": 80,
    "start_time": "2022-07-26T08:55:07.134Z"
   },
   {
    "duration": 11,
    "start_time": "2022-07-26T08:55:07.216Z"
   },
   {
    "duration": 19,
    "start_time": "2022-07-26T08:55:07.229Z"
   },
   {
    "duration": 36,
    "start_time": "2022-07-26T08:55:07.249Z"
   },
   {
    "duration": 37,
    "start_time": "2022-07-26T08:55:07.287Z"
   },
   {
    "duration": 39,
    "start_time": "2022-07-26T08:55:07.325Z"
   },
   {
    "duration": 35,
    "start_time": "2022-07-26T08:55:07.367Z"
   },
   {
    "duration": 28,
    "start_time": "2022-07-26T08:55:07.404Z"
   },
   {
    "duration": 46,
    "start_time": "2022-07-26T08:55:07.434Z"
   },
   {
    "duration": 35,
    "start_time": "2022-07-26T08:55:07.481Z"
   },
   {
    "duration": 838,
    "start_time": "2022-07-26T08:55:07.518Z"
   },
   {
    "duration": 35,
    "start_time": "2022-07-26T08:55:08.358Z"
   },
   {
    "duration": 17,
    "start_time": "2022-07-26T08:55:08.395Z"
   },
   {
    "duration": 14,
    "start_time": "2022-07-26T08:55:08.414Z"
   },
   {
    "duration": 184,
    "start_time": "2022-07-26T08:55:08.430Z"
   },
   {
    "duration": 63,
    "start_time": "2022-07-26T08:55:08.617Z"
   },
   {
    "duration": 449,
    "start_time": "2022-07-26T08:55:08.682Z"
   },
   {
    "duration": 151,
    "start_time": "2022-07-26T08:55:09.133Z"
   },
   {
    "duration": 22,
    "start_time": "2022-07-26T08:55:09.286Z"
   },
   {
    "duration": 23,
    "start_time": "2022-07-26T08:55:09.309Z"
   },
   {
    "duration": 1064,
    "start_time": "2022-07-26T08:55:09.333Z"
   },
   {
    "duration": 131,
    "start_time": "2022-07-26T08:55:10.399Z"
   },
   {
    "duration": 19,
    "start_time": "2022-07-26T08:55:10.532Z"
   },
   {
    "duration": 19,
    "start_time": "2022-07-26T08:55:10.561Z"
   },
   {
    "duration": 837,
    "start_time": "2022-07-26T08:55:10.581Z"
   },
   {
    "duration": 118,
    "start_time": "2022-07-26T08:55:11.420Z"
   },
   {
    "duration": 33,
    "start_time": "2022-07-26T08:55:11.540Z"
   },
   {
    "duration": 124,
    "start_time": "2022-07-26T08:55:11.574Z"
   },
   {
    "duration": 4,
    "start_time": "2022-07-26T08:55:11.700Z"
   },
   {
    "duration": 142,
    "start_time": "2022-07-26T08:55:11.705Z"
   },
   {
    "duration": 47,
    "start_time": "2022-07-26T08:55:11.849Z"
   },
   {
    "duration": 104,
    "start_time": "2022-07-26T08:59:03.139Z"
   },
   {
    "duration": 2,
    "start_time": "2022-07-26T08:59:10.394Z"
   },
   {
    "duration": 11,
    "start_time": "2022-07-26T08:59:11.360Z"
   },
   {
    "duration": 390,
    "start_time": "2022-07-26T08:59:13.153Z"
   },
   {
    "duration": 42,
    "start_time": "2022-07-26T08:59:20.848Z"
   },
   {
    "duration": 251,
    "start_time": "2022-07-26T08:59:27.583Z"
   },
   {
    "duration": 17,
    "start_time": "2022-07-26T08:59:29.238Z"
   },
   {
    "duration": 306,
    "start_time": "2022-07-26T09:08:35.524Z"
   },
   {
    "duration": 319,
    "start_time": "2022-07-26T09:08:59.007Z"
   },
   {
    "duration": 33,
    "start_time": "2022-07-26T09:09:01.825Z"
   },
   {
    "duration": 210,
    "start_time": "2022-07-26T09:09:21.190Z"
   },
   {
    "duration": 46,
    "start_time": "2022-07-26T09:17:09.700Z"
   },
   {
    "duration": 1396,
    "start_time": "2022-07-26T09:17:18.488Z"
   },
   {
    "duration": 3,
    "start_time": "2022-07-26T09:17:19.885Z"
   },
   {
    "duration": 777,
    "start_time": "2022-07-26T09:17:19.890Z"
   },
   {
    "duration": 240,
    "start_time": "2022-07-26T09:17:20.668Z"
   },
   {
    "duration": 400,
    "start_time": "2022-07-26T09:17:20.911Z"
   },
   {
    "duration": 123,
    "start_time": "2022-07-26T09:17:21.313Z"
   },
   {
    "duration": 128,
    "start_time": "2022-07-26T09:17:21.438Z"
   },
   {
    "duration": 70,
    "start_time": "2022-07-26T09:17:21.568Z"
   },
   {
    "duration": 30,
    "start_time": "2022-07-26T09:17:21.640Z"
   },
   {
    "duration": 5,
    "start_time": "2022-07-26T09:17:21.671Z"
   },
   {
    "duration": 36,
    "start_time": "2022-07-26T09:17:21.677Z"
   },
   {
    "duration": 45,
    "start_time": "2022-07-26T09:17:21.715Z"
   },
   {
    "duration": 38,
    "start_time": "2022-07-26T09:17:21.762Z"
   },
   {
    "duration": 46,
    "start_time": "2022-07-26T09:17:21.803Z"
   },
   {
    "duration": 30,
    "start_time": "2022-07-26T09:17:21.850Z"
   },
   {
    "duration": 36,
    "start_time": "2022-07-26T09:17:21.881Z"
   },
   {
    "duration": 44,
    "start_time": "2022-07-26T09:17:21.919Z"
   },
   {
    "duration": 857,
    "start_time": "2022-07-26T09:17:21.966Z"
   },
   {
    "duration": 44,
    "start_time": "2022-07-26T09:17:22.825Z"
   },
   {
    "duration": 4,
    "start_time": "2022-07-26T09:17:22.871Z"
   },
   {
    "duration": 17,
    "start_time": "2022-07-26T09:17:22.876Z"
   },
   {
    "duration": 177,
    "start_time": "2022-07-26T09:17:22.894Z"
   },
   {
    "duration": 55,
    "start_time": "2022-07-26T09:17:23.073Z"
   },
   {
    "duration": 434,
    "start_time": "2022-07-26T09:17:23.130Z"
   },
   {
    "duration": 164,
    "start_time": "2022-07-26T09:17:23.565Z"
   },
   {
    "duration": 31,
    "start_time": "2022-07-26T09:17:23.730Z"
   },
   {
    "duration": 21,
    "start_time": "2022-07-26T09:17:23.762Z"
   },
   {
    "duration": 1129,
    "start_time": "2022-07-26T09:17:23.786Z"
   },
   {
    "duration": 133,
    "start_time": "2022-07-26T09:17:24.917Z"
   },
   {
    "duration": 25,
    "start_time": "2022-07-26T09:17:25.052Z"
   },
   {
    "duration": 31,
    "start_time": "2022-07-26T09:17:25.079Z"
   },
   {
    "duration": 827,
    "start_time": "2022-07-26T09:17:25.112Z"
   },
   {
    "duration": 114,
    "start_time": "2022-07-26T09:17:25.940Z"
   },
   {
    "duration": 18,
    "start_time": "2022-07-26T09:17:26.060Z"
   },
   {
    "duration": 126,
    "start_time": "2022-07-26T09:17:26.079Z"
   },
   {
    "duration": 9,
    "start_time": "2022-07-26T09:17:26.208Z"
   },
   {
    "duration": 169,
    "start_time": "2022-07-26T09:17:26.218Z"
   },
   {
    "duration": 49,
    "start_time": "2022-07-26T09:17:26.389Z"
   },
   {
    "duration": 3,
    "start_time": "2022-07-26T09:17:26.440Z"
   },
   {
    "duration": 30,
    "start_time": "2022-07-26T09:17:26.444Z"
   },
   {
    "duration": 424,
    "start_time": "2022-07-26T09:17:26.479Z"
   },
   {
    "duration": 324,
    "start_time": "2022-07-26T09:17:26.905Z"
   },
   {
    "duration": 37,
    "start_time": "2022-07-26T09:17:27.231Z"
   },
   {
    "duration": 293,
    "start_time": "2022-07-26T09:17:27.270Z"
   },
   {
    "duration": 4485,
    "start_time": "2022-07-26T09:17:27.565Z"
   },
   {
    "duration": 0,
    "start_time": "2022-07-26T09:17:32.053Z"
   },
   {
    "duration": 3092,
    "start_time": "2022-07-26T09:17:46.415Z"
   },
   {
    "duration": 3,
    "start_time": "2022-07-26T09:17:49.509Z"
   },
   {
    "duration": 793,
    "start_time": "2022-07-26T09:17:49.513Z"
   },
   {
    "duration": 264,
    "start_time": "2022-07-26T09:17:50.307Z"
   },
   {
    "duration": 422,
    "start_time": "2022-07-26T09:17:50.573Z"
   },
   {
    "duration": 123,
    "start_time": "2022-07-26T09:17:50.996Z"
   },
   {
    "duration": 119,
    "start_time": "2022-07-26T09:17:51.120Z"
   },
   {
    "duration": 87,
    "start_time": "2022-07-26T09:17:51.240Z"
   },
   {
    "duration": 12,
    "start_time": "2022-07-26T09:17:51.328Z"
   },
   {
    "duration": 19,
    "start_time": "2022-07-26T09:17:51.342Z"
   },
   {
    "duration": 35,
    "start_time": "2022-07-26T09:17:51.363Z"
   },
   {
    "duration": 36,
    "start_time": "2022-07-26T09:17:51.400Z"
   },
   {
    "duration": 47,
    "start_time": "2022-07-26T09:17:51.438Z"
   },
   {
    "duration": 32,
    "start_time": "2022-07-26T09:17:51.488Z"
   },
   {
    "duration": 42,
    "start_time": "2022-07-26T09:17:51.522Z"
   },
   {
    "duration": 36,
    "start_time": "2022-07-26T09:17:51.565Z"
   },
   {
    "duration": 47,
    "start_time": "2022-07-26T09:17:51.603Z"
   },
   {
    "duration": 888,
    "start_time": "2022-07-26T09:17:51.652Z"
   },
   {
    "duration": 39,
    "start_time": "2022-07-26T09:17:52.542Z"
   },
   {
    "duration": 4,
    "start_time": "2022-07-26T09:17:52.584Z"
   },
   {
    "duration": 10,
    "start_time": "2022-07-26T09:17:52.590Z"
   },
   {
    "duration": 170,
    "start_time": "2022-07-26T09:17:52.602Z"
   },
   {
    "duration": 57,
    "start_time": "2022-07-26T09:17:52.774Z"
   },
   {
    "duration": 435,
    "start_time": "2022-07-26T09:17:52.833Z"
   },
   {
    "duration": 158,
    "start_time": "2022-07-26T09:17:53.270Z"
   },
   {
    "duration": 32,
    "start_time": "2022-07-26T09:17:53.430Z"
   },
   {
    "duration": 21,
    "start_time": "2022-07-26T09:17:53.464Z"
   },
   {
    "duration": 1060,
    "start_time": "2022-07-26T09:17:53.487Z"
   },
   {
    "duration": 135,
    "start_time": "2022-07-26T09:17:54.549Z"
   },
   {
    "duration": 23,
    "start_time": "2022-07-26T09:17:54.686Z"
   },
   {
    "duration": 20,
    "start_time": "2022-07-26T09:17:54.711Z"
   },
   {
    "duration": 834,
    "start_time": "2022-07-26T09:17:54.733Z"
   },
   {
    "duration": 120,
    "start_time": "2022-07-26T09:17:55.569Z"
   },
   {
    "duration": 20,
    "start_time": "2022-07-26T09:17:55.691Z"
   },
   {
    "duration": 130,
    "start_time": "2022-07-26T09:17:55.713Z"
   },
   {
    "duration": 4,
    "start_time": "2022-07-26T09:17:55.845Z"
   },
   {
    "duration": 131,
    "start_time": "2022-07-26T09:17:55.850Z"
   },
   {
    "duration": 39,
    "start_time": "2022-07-26T09:17:55.982Z"
   },
   {
    "duration": 2,
    "start_time": "2022-07-26T09:17:56.023Z"
   },
   {
    "duration": 35,
    "start_time": "2022-07-26T09:17:56.026Z"
   },
   {
    "duration": 434,
    "start_time": "2022-07-26T09:17:56.065Z"
   },
   {
    "duration": 336,
    "start_time": "2022-07-26T09:17:56.502Z"
   },
   {
    "duration": 34,
    "start_time": "2022-07-26T09:17:56.839Z"
   },
   {
    "duration": 282,
    "start_time": "2022-07-26T09:17:56.875Z"
   },
   {
    "duration": 2506,
    "start_time": "2022-07-26T09:17:57.159Z"
   },
   {
    "duration": 4,
    "start_time": "2022-07-26T09:17:59.673Z"
   },
   {
    "duration": 50037,
    "start_time": "2022-07-26T09:19:16.145Z"
   },
   {
    "duration": 1492,
    "start_time": "2022-07-26T09:21:08.295Z"
   },
   {
    "duration": 3,
    "start_time": "2022-07-26T09:21:09.789Z"
   },
   {
    "duration": 864,
    "start_time": "2022-07-26T09:21:09.793Z"
   },
   {
    "duration": 291,
    "start_time": "2022-07-26T09:21:10.659Z"
   },
   {
    "duration": 541,
    "start_time": "2022-07-26T09:21:10.953Z"
   },
   {
    "duration": 147,
    "start_time": "2022-07-26T09:21:11.496Z"
   },
   {
    "duration": 166,
    "start_time": "2022-07-26T09:21:11.645Z"
   },
   {
    "duration": 93,
    "start_time": "2022-07-26T09:21:11.812Z"
   },
   {
    "duration": 15,
    "start_time": "2022-07-26T09:21:11.907Z"
   },
   {
    "duration": 59,
    "start_time": "2022-07-26T09:21:11.924Z"
   },
   {
    "duration": 76,
    "start_time": "2022-07-26T09:21:11.985Z"
   },
   {
    "duration": 69,
    "start_time": "2022-07-26T09:21:12.063Z"
   },
   {
    "duration": 86,
    "start_time": "2022-07-26T09:21:12.134Z"
   },
   {
    "duration": 69,
    "start_time": "2022-07-26T09:21:12.225Z"
   },
   {
    "duration": 40,
    "start_time": "2022-07-26T09:21:12.295Z"
   },
   {
    "duration": 80,
    "start_time": "2022-07-26T09:21:12.336Z"
   },
   {
    "duration": 63,
    "start_time": "2022-07-26T09:21:12.418Z"
   },
   {
    "duration": 1030,
    "start_time": "2022-07-26T09:21:12.483Z"
   },
   {
    "duration": 61,
    "start_time": "2022-07-26T09:21:13.515Z"
   },
   {
    "duration": 5,
    "start_time": "2022-07-26T09:21:13.579Z"
   },
   {
    "duration": 35,
    "start_time": "2022-07-26T09:21:13.585Z"
   },
   {
    "duration": 196,
    "start_time": "2022-07-26T09:21:13.621Z"
   },
   {
    "duration": 74,
    "start_time": "2022-07-26T09:21:13.819Z"
   },
   {
    "duration": 515,
    "start_time": "2022-07-26T09:21:13.895Z"
   },
   {
    "duration": 176,
    "start_time": "2022-07-26T09:21:14.412Z"
   },
   {
    "duration": 24,
    "start_time": "2022-07-26T09:21:14.589Z"
   },
   {
    "duration": 23,
    "start_time": "2022-07-26T09:21:14.615Z"
   },
   {
    "duration": 1292,
    "start_time": "2022-07-26T09:21:14.640Z"
   },
   {
    "duration": 176,
    "start_time": "2022-07-26T09:21:15.935Z"
   },
   {
    "duration": 22,
    "start_time": "2022-07-26T09:21:16.113Z"
   },
   {
    "duration": 40,
    "start_time": "2022-07-26T09:21:16.136Z"
   },
   {
    "duration": 1000,
    "start_time": "2022-07-26T09:21:16.178Z"
   },
   {
    "duration": 137,
    "start_time": "2022-07-26T09:21:17.180Z"
   },
   {
    "duration": 20,
    "start_time": "2022-07-26T09:21:17.319Z"
   },
   {
    "duration": 153,
    "start_time": "2022-07-26T09:21:17.341Z"
   },
   {
    "duration": 4,
    "start_time": "2022-07-26T09:21:17.496Z"
   },
   {
    "duration": 170,
    "start_time": "2022-07-26T09:21:17.502Z"
   },
   {
    "duration": 41,
    "start_time": "2022-07-26T09:21:17.674Z"
   },
   {
    "duration": 2,
    "start_time": "2022-07-26T09:21:17.717Z"
   },
   {
    "duration": 38,
    "start_time": "2022-07-26T09:21:17.720Z"
   },
   {
    "duration": 433,
    "start_time": "2022-07-26T09:21:17.762Z"
   },
   {
    "duration": 357,
    "start_time": "2022-07-26T09:21:18.197Z"
   },
   {
    "duration": 39,
    "start_time": "2022-07-26T09:21:18.555Z"
   },
   {
    "duration": 326,
    "start_time": "2022-07-26T09:21:18.596Z"
   },
   {
    "duration": 2387,
    "start_time": "2022-07-26T09:21:18.925Z"
   },
   {
    "duration": 4,
    "start_time": "2022-07-26T09:21:21.314Z"
   },
   {
    "duration": 72644,
    "start_time": "2022-07-26T09:21:23.735Z"
   },
   {
    "duration": 104,
    "start_time": "2022-07-26T09:22:48.490Z"
   },
   {
    "duration": 213283,
    "start_time": "2022-07-26T09:22:53.195Z"
   },
   {
    "duration": 23067,
    "start_time": "2022-07-26T09:27:44.462Z"
   },
   {
    "duration": 53,
    "start_time": "2022-07-26T09:28:07.531Z"
   },
   {
    "duration": 0,
    "start_time": "2022-07-26T09:28:07.585Z"
   },
   {
    "duration": 60,
    "start_time": "2022-07-26T09:28:18.336Z"
   },
   {
    "duration": 97337,
    "start_time": "2022-07-26T09:28:23.572Z"
   },
   {
    "duration": 16052,
    "start_time": "2022-07-26T09:30:00.912Z"
   },
   {
    "duration": 70616,
    "start_time": "2022-07-26T09:31:25.170Z"
   },
   {
    "duration": 2408,
    "start_time": "2022-07-26T09:32:38.600Z"
   },
   {
    "duration": 4,
    "start_time": "2022-07-26T09:32:41.010Z"
   },
   {
    "duration": 16072,
    "start_time": "2022-07-26T09:35:41.498Z"
   },
   {
    "duration": 69236,
    "start_time": "2022-07-26T09:36:25.533Z"
   },
   {
    "duration": 1762,
    "start_time": "2022-07-26T09:38:13.634Z"
   },
   {
    "duration": 312,
    "start_time": "2022-07-26T09:43:42.398Z"
   },
   {
    "duration": 156,
    "start_time": "2022-07-26T09:43:43.707Z"
   },
   {
    "duration": 212,
    "start_time": "2022-07-26T09:43:45.031Z"
   },
   {
    "duration": 169,
    "start_time": "2022-07-26T09:43:57.530Z"
   },
   {
    "duration": 9,
    "start_time": "2022-07-26T09:44:01.081Z"
   },
   {
    "duration": 1495,
    "start_time": "2022-07-26T09:46:10.542Z"
   },
   {
    "duration": 3,
    "start_time": "2022-07-26T09:46:12.038Z"
   },
   {
    "duration": 947,
    "start_time": "2022-07-26T09:46:12.043Z"
   },
   {
    "duration": 270,
    "start_time": "2022-07-26T09:46:12.992Z"
   },
   {
    "duration": 479,
    "start_time": "2022-07-26T09:46:13.264Z"
   },
   {
    "duration": 140,
    "start_time": "2022-07-26T09:46:13.744Z"
   },
   {
    "duration": 140,
    "start_time": "2022-07-26T09:46:13.886Z"
   },
   {
    "duration": 95,
    "start_time": "2022-07-26T09:46:14.027Z"
   },
   {
    "duration": 12,
    "start_time": "2022-07-26T09:46:14.124Z"
   },
   {
    "duration": 5,
    "start_time": "2022-07-26T09:46:14.139Z"
   },
   {
    "duration": 56,
    "start_time": "2022-07-26T09:46:14.145Z"
   },
   {
    "duration": 35,
    "start_time": "2022-07-26T09:46:14.203Z"
   },
   {
    "duration": 59,
    "start_time": "2022-07-26T09:46:14.239Z"
   },
   {
    "duration": 35,
    "start_time": "2022-07-26T09:46:14.300Z"
   },
   {
    "duration": 45,
    "start_time": "2022-07-26T09:46:14.336Z"
   },
   {
    "duration": 36,
    "start_time": "2022-07-26T09:46:14.384Z"
   },
   {
    "duration": 53,
    "start_time": "2022-07-26T09:46:14.421Z"
   },
   {
    "duration": 976,
    "start_time": "2022-07-26T09:46:14.476Z"
   },
   {
    "duration": 51,
    "start_time": "2022-07-26T09:46:15.454Z"
   },
   {
    "duration": 3,
    "start_time": "2022-07-26T09:46:15.507Z"
   },
   {
    "duration": 9,
    "start_time": "2022-07-26T09:46:15.512Z"
   },
   {
    "duration": 187,
    "start_time": "2022-07-26T09:46:15.522Z"
   },
   {
    "duration": 74,
    "start_time": "2022-07-26T09:46:15.711Z"
   },
   {
    "duration": 468,
    "start_time": "2022-07-26T09:46:15.787Z"
   },
   {
    "duration": 211,
    "start_time": "2022-07-26T09:46:16.260Z"
   },
   {
    "duration": 27,
    "start_time": "2022-07-26T09:46:16.474Z"
   },
   {
    "duration": 25,
    "start_time": "2022-07-26T09:46:16.503Z"
   },
   {
    "duration": 1180,
    "start_time": "2022-07-26T09:46:16.533Z"
   },
   {
    "duration": 154,
    "start_time": "2022-07-26T09:46:17.715Z"
   },
   {
    "duration": 21,
    "start_time": "2022-07-26T09:46:17.871Z"
   },
   {
    "duration": 20,
    "start_time": "2022-07-26T09:46:17.894Z"
   },
   {
    "duration": 901,
    "start_time": "2022-07-26T09:46:17.916Z"
   },
   {
    "duration": 124,
    "start_time": "2022-07-26T09:46:18.818Z"
   },
   {
    "duration": 39,
    "start_time": "2022-07-26T09:46:18.943Z"
   },
   {
    "duration": 123,
    "start_time": "2022-07-26T09:46:18.984Z"
   },
   {
    "duration": 4,
    "start_time": "2022-07-26T09:46:19.108Z"
   },
   {
    "duration": 149,
    "start_time": "2022-07-26T09:46:19.113Z"
   },
   {
    "duration": 46,
    "start_time": "2022-07-26T09:46:19.264Z"
   },
   {
    "duration": 3,
    "start_time": "2022-07-26T09:46:19.312Z"
   },
   {
    "duration": 18,
    "start_time": "2022-07-26T09:46:19.316Z"
   },
   {
    "duration": 472,
    "start_time": "2022-07-26T09:46:19.336Z"
   },
   {
    "duration": 393,
    "start_time": "2022-07-26T09:46:19.810Z"
   },
   {
    "duration": 36,
    "start_time": "2022-07-26T09:46:20.205Z"
   },
   {
    "duration": 321,
    "start_time": "2022-07-26T09:46:20.243Z"
   },
   {
    "duration": 1994,
    "start_time": "2022-07-26T09:46:20.566Z"
   },
   {
    "duration": 10,
    "start_time": "2022-07-26T09:46:22.563Z"
   },
   {
    "duration": 47792,
    "start_time": "2022-07-26T09:46:22.578Z"
   },
   {
    "duration": 223110,
    "start_time": "2022-07-26T09:47:10.372Z"
   },
   {
    "duration": 24019,
    "start_time": "2022-07-26T09:50:53.484Z"
   },
   {
    "duration": 94476,
    "start_time": "2022-07-26T09:51:17.505Z"
   },
   {
    "duration": 16993,
    "start_time": "2022-07-26T09:52:51.983Z"
   },
   {
    "duration": 65583,
    "start_time": "2022-07-26T09:53:08.979Z"
   },
   {
    "duration": 2441,
    "start_time": "2022-07-26T09:54:14.564Z"
   },
   {
    "duration": 4,
    "start_time": "2022-07-26T09:54:17.006Z"
   },
   {
    "duration": 189,
    "start_time": "2022-07-26T09:54:17.012Z"
   },
   {
    "duration": 1991,
    "start_time": "2022-07-26T09:54:17.203Z"
   },
   {
    "duration": 367,
    "start_time": "2022-07-26T09:54:19.196Z"
   },
   {
    "duration": 196,
    "start_time": "2022-07-26T09:54:19.566Z"
   },
   {
    "duration": 103,
    "start_time": "2022-07-26T09:54:19.765Z"
   },
   {
    "duration": 15,
    "start_time": "2022-07-26T10:00:46.235Z"
   },
   {
    "duration": 9,
    "start_time": "2022-07-26T10:03:25.902Z"
   },
   {
    "duration": 16,
    "start_time": "2022-07-26T10:03:27.016Z"
   },
   {
    "duration": 467,
    "start_time": "2022-07-26T10:06:18.199Z"
   },
   {
    "duration": 17,
    "start_time": "2022-07-26T10:06:20.103Z"
   },
   {
    "duration": 21,
    "start_time": "2022-07-26T10:06:52.956Z"
   },
   {
    "duration": 9,
    "start_time": "2022-07-26T10:06:55.875Z"
   },
   {
    "duration": 16,
    "start_time": "2022-07-26T10:06:56.688Z"
   },
   {
    "duration": 125,
    "start_time": "2022-07-26T10:10:12.751Z"
   },
   {
    "duration": 15,
    "start_time": "2022-07-26T10:10:21.703Z"
   },
   {
    "duration": 10,
    "start_time": "2022-07-26T10:10:33.286Z"
   },
   {
    "duration": 115,
    "start_time": "2022-07-26T10:10:43.343Z"
   },
   {
    "duration": 11,
    "start_time": "2022-07-26T10:10:57.630Z"
   },
   {
    "duration": 114,
    "start_time": "2022-07-26T10:10:58.608Z"
   }
  ],
  "kernelspec": {
   "display_name": "Python 3 (ipykernel)",
   "language": "python",
   "name": "python3"
  },
  "language_info": {
   "codemirror_mode": {
    "name": "ipython",
    "version": 3
   },
   "file_extension": ".py",
   "mimetype": "text/x-python",
   "name": "python",
   "nbconvert_exporter": "python",
   "pygments_lexer": "ipython3",
   "version": "3.10.4"
  },
  "toc": {
   "base_numbering": 1,
   "nav_menu": {},
   "number_sections": true,
   "sideBar": true,
   "skip_h1_title": true,
   "title_cell": "Table of Contents",
   "title_sidebar": "Contents",
   "toc_cell": false,
   "toc_position": {},
   "toc_section_display": true,
   "toc_window_display": true
  }
 },
 "nbformat": 4,
 "nbformat_minor": 4
}
