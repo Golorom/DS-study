{
 "cells": [
  {
   "cell_type": "markdown",
   "metadata": {},
   "source": [
    "# Рекомендация тарифов"
   ]
  },
  {
   "cell_type": "markdown",
   "metadata": {},
   "source": [
    "**Описание проекта**\n",
    "\n",
    "Оператор мобильной связи «Мегалайн» выяснил: многие клиенты пользуются архивными тарифами. Они хотят построить систему, способную проанализировать поведение клиентов и предложить пользователям новый тариф: «Смарт» или «Ультра».\n",
    "\n",
    "В вашем распоряжении данные о поведении клиентов, которые уже перешли на эти тарифы (из проекта курса «Статистический анализ данных»). Нужно построить модель для задачи классификации, которая выберет подходящий тариф. Предобработка данных не понадобится — вы её уже сделали.\n",
    "\n",
    "**Цель проекта**\n",
    "\n",
    "Постройте модель с максимально большим значением *accuracy*. Чтобы сдать проект успешно, нужно довести долю правильных ответов по крайней мере до 0.75. Проверьте *accuracy* на тестовой выборке самостоятельно.\n",
    "\n",
    "**Описание данных**\n",
    "\n",
    "`/datasets/users_behavior.csv` \n",
    "\n",
    "Каждый объект в наборе данных — это информация о поведении одного пользователя за месяц. Известно:\n",
    "- 'сalls' — количество звонков;\n",
    "- 'minutes' — суммарная длительность звонков в минутах;\n",
    "- 'messages' — количество sms-сообщений;\n",
    "- 'mb_used' — израсходованный интернет-трафик в Мб;\n",
    "- 'is_ultra' — каким тарифом пользовался в течение месяца («Ультра» — 1, «Смарт» — 0)."
   ]
  },
  {
   "cell_type": "code",
   "execution_count": 28,
   "metadata": {},
   "outputs": [],
   "source": [
    "# импорт библиотек\n",
    "\n",
    "import pandas as pd\n",
    "\n",
    "from sklearn.tree import DecisionTreeClassifier\n",
    "from sklearn.ensemble import RandomForestClassifier\n",
    "from sklearn.linear_model import LogisticRegression \n",
    "from sklearn.model_selection import train_test_split\n",
    "from sklearn.model_selection import GridSearchCV\n",
    "from sklearn.metrics import accuracy_score\n",
    "from sklearn.metrics import recall_score\n",
    "from sklearn.metrics import precision_score"
   ]
  },
  {
   "cell_type": "markdown",
   "metadata": {},
   "source": [
    "## Откройте и изучите файл"
   ]
  },
  {
   "cell_type": "code",
   "execution_count": 3,
   "metadata": {},
   "outputs": [
    {
     "name": "stdout",
     "output_type": "stream",
     "text": [
      "FileNotFoundError(2, 'No such file or directory')\n"
     ]
    }
   ],
   "source": [
    "try:\n",
    "    data = pd.read_csv('datasets/users_behavior.csv')\n",
    "except FileNotFoundError as e:\n",
    "    print(repr(e))\n",
    "    data = pd.read_csv('/datasets/users_behavior.csv')"
   ]
  },
  {
   "cell_type": "code",
   "execution_count": 4,
   "metadata": {},
   "outputs": [
    {
     "name": "stdout",
     "output_type": "stream",
     "text": [
      "<class 'pandas.core.frame.DataFrame'>\n",
      "RangeIndex: 3214 entries, 0 to 3213\n",
      "Data columns (total 5 columns):\n",
      " #   Column    Non-Null Count  Dtype  \n",
      "---  ------    --------------  -----  \n",
      " 0   calls     3214 non-null   float64\n",
      " 1   minutes   3214 non-null   float64\n",
      " 2   messages  3214 non-null   float64\n",
      " 3   mb_used   3214 non-null   float64\n",
      " 4   is_ultra  3214 non-null   int64  \n",
      "dtypes: float64(4), int64(1)\n",
      "memory usage: 125.7 KB\n"
     ]
    },
    {
     "data": {
      "text/html": [
       "<div>\n",
       "<style scoped>\n",
       "    .dataframe tbody tr th:only-of-type {\n",
       "        vertical-align: middle;\n",
       "    }\n",
       "\n",
       "    .dataframe tbody tr th {\n",
       "        vertical-align: top;\n",
       "    }\n",
       "\n",
       "    .dataframe thead th {\n",
       "        text-align: right;\n",
       "    }\n",
       "</style>\n",
       "<table border=\"1\" class=\"dataframe\">\n",
       "  <thead>\n",
       "    <tr style=\"text-align: right;\">\n",
       "      <th></th>\n",
       "      <th>calls</th>\n",
       "      <th>minutes</th>\n",
       "      <th>messages</th>\n",
       "      <th>mb_used</th>\n",
       "      <th>is_ultra</th>\n",
       "    </tr>\n",
       "  </thead>\n",
       "  <tbody>\n",
       "    <tr>\n",
       "      <th>230</th>\n",
       "      <td>36.0</td>\n",
       "      <td>267.58</td>\n",
       "      <td>13.0</td>\n",
       "      <td>12737.08</td>\n",
       "      <td>0</td>\n",
       "    </tr>\n",
       "    <tr>\n",
       "      <th>1903</th>\n",
       "      <td>134.0</td>\n",
       "      <td>940.77</td>\n",
       "      <td>56.0</td>\n",
       "      <td>2921.57</td>\n",
       "      <td>1</td>\n",
       "    </tr>\n",
       "    <tr>\n",
       "      <th>2084</th>\n",
       "      <td>41.0</td>\n",
       "      <td>296.80</td>\n",
       "      <td>70.0</td>\n",
       "      <td>17280.85</td>\n",
       "      <td>0</td>\n",
       "    </tr>\n",
       "    <tr>\n",
       "      <th>952</th>\n",
       "      <td>87.0</td>\n",
       "      <td>518.10</td>\n",
       "      <td>17.0</td>\n",
       "      <td>13957.77</td>\n",
       "      <td>0</td>\n",
       "    </tr>\n",
       "    <tr>\n",
       "      <th>133</th>\n",
       "      <td>109.0</td>\n",
       "      <td>704.30</td>\n",
       "      <td>79.0</td>\n",
       "      <td>10603.12</td>\n",
       "      <td>0</td>\n",
       "    </tr>\n",
       "  </tbody>\n",
       "</table>\n",
       "</div>"
      ],
      "text/plain": [
       "      calls  minutes  messages   mb_used  is_ultra\n",
       "230    36.0   267.58      13.0  12737.08         0\n",
       "1903  134.0   940.77      56.0   2921.57         1\n",
       "2084   41.0   296.80      70.0  17280.85         0\n",
       "952    87.0   518.10      17.0  13957.77         0\n",
       "133   109.0   704.30      79.0  10603.12         0"
      ]
     },
     "metadata": {},
     "output_type": "display_data"
    },
    {
     "data": {
      "text/plain": [
       "Index(['calls', 'minutes', 'messages', 'mb_used', 'is_ultra'], dtype='object')"
      ]
     },
     "metadata": {},
     "output_type": "display_data"
    },
    {
     "name": "stdout",
     "output_type": "stream",
     "text": [
      "Количество явных дубликатов: 0\n"
     ]
    },
    {
     "data": {
      "text/html": [
       "<div>\n",
       "<style scoped>\n",
       "    .dataframe tbody tr th:only-of-type {\n",
       "        vertical-align: middle;\n",
       "    }\n",
       "\n",
       "    .dataframe tbody tr th {\n",
       "        vertical-align: top;\n",
       "    }\n",
       "\n",
       "    .dataframe thead th {\n",
       "        text-align: right;\n",
       "    }\n",
       "</style>\n",
       "<table border=\"1\" class=\"dataframe\">\n",
       "  <thead>\n",
       "    <tr style=\"text-align: right;\">\n",
       "      <th></th>\n",
       "      <th>calls</th>\n",
       "      <th>minutes</th>\n",
       "      <th>messages</th>\n",
       "      <th>mb_used</th>\n",
       "      <th>is_ultra</th>\n",
       "    </tr>\n",
       "  </thead>\n",
       "  <tbody>\n",
       "    <tr>\n",
       "      <th>count</th>\n",
       "      <td>3214.000000</td>\n",
       "      <td>3214.000000</td>\n",
       "      <td>3214.000000</td>\n",
       "      <td>3214.000000</td>\n",
       "      <td>3214.000000</td>\n",
       "    </tr>\n",
       "    <tr>\n",
       "      <th>mean</th>\n",
       "      <td>63.038892</td>\n",
       "      <td>438.208787</td>\n",
       "      <td>38.281269</td>\n",
       "      <td>17207.673836</td>\n",
       "      <td>0.306472</td>\n",
       "    </tr>\n",
       "    <tr>\n",
       "      <th>std</th>\n",
       "      <td>33.236368</td>\n",
       "      <td>234.569872</td>\n",
       "      <td>36.148326</td>\n",
       "      <td>7570.968246</td>\n",
       "      <td>0.461100</td>\n",
       "    </tr>\n",
       "    <tr>\n",
       "      <th>min</th>\n",
       "      <td>0.000000</td>\n",
       "      <td>0.000000</td>\n",
       "      <td>0.000000</td>\n",
       "      <td>0.000000</td>\n",
       "      <td>0.000000</td>\n",
       "    </tr>\n",
       "    <tr>\n",
       "      <th>25%</th>\n",
       "      <td>40.000000</td>\n",
       "      <td>274.575000</td>\n",
       "      <td>9.000000</td>\n",
       "      <td>12491.902500</td>\n",
       "      <td>0.000000</td>\n",
       "    </tr>\n",
       "    <tr>\n",
       "      <th>50%</th>\n",
       "      <td>62.000000</td>\n",
       "      <td>430.600000</td>\n",
       "      <td>30.000000</td>\n",
       "      <td>16943.235000</td>\n",
       "      <td>0.000000</td>\n",
       "    </tr>\n",
       "    <tr>\n",
       "      <th>75%</th>\n",
       "      <td>82.000000</td>\n",
       "      <td>571.927500</td>\n",
       "      <td>57.000000</td>\n",
       "      <td>21424.700000</td>\n",
       "      <td>1.000000</td>\n",
       "    </tr>\n",
       "    <tr>\n",
       "      <th>max</th>\n",
       "      <td>244.000000</td>\n",
       "      <td>1632.060000</td>\n",
       "      <td>224.000000</td>\n",
       "      <td>49745.730000</td>\n",
       "      <td>1.000000</td>\n",
       "    </tr>\n",
       "  </tbody>\n",
       "</table>\n",
       "</div>"
      ],
      "text/plain": [
       "             calls      minutes     messages       mb_used     is_ultra\n",
       "count  3214.000000  3214.000000  3214.000000   3214.000000  3214.000000\n",
       "mean     63.038892   438.208787    38.281269  17207.673836     0.306472\n",
       "std      33.236368   234.569872    36.148326   7570.968246     0.461100\n",
       "min       0.000000     0.000000     0.000000      0.000000     0.000000\n",
       "25%      40.000000   274.575000     9.000000  12491.902500     0.000000\n",
       "50%      62.000000   430.600000    30.000000  16943.235000     0.000000\n",
       "75%      82.000000   571.927500    57.000000  21424.700000     1.000000\n",
       "max     244.000000  1632.060000   224.000000  49745.730000     1.000000"
      ]
     },
     "execution_count": 4,
     "metadata": {},
     "output_type": "execute_result"
    }
   ],
   "source": [
    "# получаю общую сводку\n",
    "data.info()\n",
    "\n",
    "# проверю на корректный вывод\n",
    "display(data.sample(5))\n",
    "\n",
    "# проверяю имена колонок на пробелы\n",
    "display(data.columns)\n",
    "\n",
    "# проверю на явные дубликаты\n",
    "print(f'Количество явных дубликатов: {data.duplicated().sum()}')\n",
    "\n",
    "# описание\n",
    "data.describe() "
   ]
  },
  {
   "cell_type": "code",
   "execution_count": 25,
   "metadata": {
    "scrolled": true
   },
   "outputs": [
    {
     "name": "stdout",
     "output_type": "stream",
     "text": [
      "Количество классов в выборке: \n",
      "\n",
      "0    2229\n",
      "1     985\n",
      "Name: is_ultra, dtype: int64\n",
      "\n",
      " ////////////////////////// \n",
      "\n",
      "В процентном соотношении:\n"
     ]
    },
    {
     "data": {
      "text/plain": [
       "0    69.35\n",
       "1    30.65\n",
       "Name: is_ultra, dtype: float64"
      ]
     },
     "execution_count": 25,
     "metadata": {},
     "output_type": "execute_result"
    }
   ],
   "source": [
    "print('Количество классов в выборке: \\n')\n",
    "print(data.is_ultra.value_counts())\n",
    "\n",
    "print('\\n ////////////////////////// \\n')\n",
    "\n",
    "print('В процентном соотношении:')\n",
    "data.is_ultra.value_counts().div(\n",
    "    data.is_ultra.value_counts().sum()\n",
    ").mul(100).round(2)"
   ]
  },
  {
   "cell_type": "code",
   "execution_count": 26,
   "metadata": {},
   "outputs": [
    {
     "data": {
      "text/html": [
       "<div>\n",
       "<style scoped>\n",
       "    .dataframe tbody tr th:only-of-type {\n",
       "        vertical-align: middle;\n",
       "    }\n",
       "\n",
       "    .dataframe tbody tr th {\n",
       "        vertical-align: top;\n",
       "    }\n",
       "\n",
       "    .dataframe thead th {\n",
       "        text-align: right;\n",
       "    }\n",
       "</style>\n",
       "<table border=\"1\" class=\"dataframe\">\n",
       "  <thead>\n",
       "    <tr style=\"text-align: right;\">\n",
       "      <th></th>\n",
       "      <th>calls</th>\n",
       "      <th>minutes</th>\n",
       "      <th>messages</th>\n",
       "      <th>mb_used</th>\n",
       "      <th>is_ultra</th>\n",
       "    </tr>\n",
       "  </thead>\n",
       "  <tbody>\n",
       "    <tr>\n",
       "      <th>calls</th>\n",
       "      <td>1.000000</td>\n",
       "      <td>0.982083</td>\n",
       "      <td>0.177385</td>\n",
       "      <td>0.286442</td>\n",
       "      <td>0.207122</td>\n",
       "    </tr>\n",
       "    <tr>\n",
       "      <th>minutes</th>\n",
       "      <td>0.982083</td>\n",
       "      <td>1.000000</td>\n",
       "      <td>0.173110</td>\n",
       "      <td>0.280967</td>\n",
       "      <td>0.206955</td>\n",
       "    </tr>\n",
       "    <tr>\n",
       "      <th>messages</th>\n",
       "      <td>0.177385</td>\n",
       "      <td>0.173110</td>\n",
       "      <td>1.000000</td>\n",
       "      <td>0.195721</td>\n",
       "      <td>0.203830</td>\n",
       "    </tr>\n",
       "    <tr>\n",
       "      <th>mb_used</th>\n",
       "      <td>0.286442</td>\n",
       "      <td>0.280967</td>\n",
       "      <td>0.195721</td>\n",
       "      <td>1.000000</td>\n",
       "      <td>0.198568</td>\n",
       "    </tr>\n",
       "    <tr>\n",
       "      <th>is_ultra</th>\n",
       "      <td>0.207122</td>\n",
       "      <td>0.206955</td>\n",
       "      <td>0.203830</td>\n",
       "      <td>0.198568</td>\n",
       "      <td>1.000000</td>\n",
       "    </tr>\n",
       "  </tbody>\n",
       "</table>\n",
       "</div>"
      ],
      "text/plain": [
       "             calls   minutes  messages   mb_used  is_ultra\n",
       "calls     1.000000  0.982083  0.177385  0.286442  0.207122\n",
       "minutes   0.982083  1.000000  0.173110  0.280967  0.206955\n",
       "messages  0.177385  0.173110  1.000000  0.195721  0.203830\n",
       "mb_used   0.286442  0.280967  0.195721  1.000000  0.198568\n",
       "is_ultra  0.207122  0.206955  0.203830  0.198568  1.000000"
      ]
     },
     "execution_count": 26,
     "metadata": {},
     "output_type": "execute_result"
    }
   ],
   "source": [
    "data.corr()"
   ]
  },
  {
   "cell_type": "markdown",
   "metadata": {},
   "source": [
    "### Предварительные замечания:"
   ]
  },
  {
   "cell_type": "markdown",
   "metadata": {},
   "source": [
    "Замечаний по качеству данных нет. Данные соответствуют документации и не требуют предобработки.\n",
    "\n",
    "Дисбаланс классов требует дополнительных метрик для оценки точности модели.  \n",
    "Присутствует сильная корреляция между столбцами 'calls' и 'minutes'."
   ]
  },
  {
   "cell_type": "markdown",
   "metadata": {},
   "source": [
    "## Разбейте данные на выборки"
   ]
  },
  {
   "cell_type": "markdown",
   "metadata": {},
   "source": [
    "Для исследования разобъю ихсодные данные на признаки и целевой признак где:\n",
    "\n",
    "- признаки `features` это колонки 'calls', 'minutes', 'messages', 'mb_used';\n",
    "- целевой признак `target` это колонка 'is_ultra'.\n",
    "\n",
    "Полученные данные  разобъю на выборки в соотношении 3:1:1, где:\n",
    "- 60% данных - обучающая выборка;\n",
    "- 20% данных - валидационная выборка;\n",
    "- 20% данных - тестовая выборка."
   ]
  },
  {
   "cell_type": "code",
   "execution_count": 29,
   "metadata": {},
   "outputs": [],
   "source": [
    "features = data.drop(['is_ultra'], axis=1)\n",
    "target = data['is_ultra']"
   ]
  },
  {
   "cell_type": "code",
   "execution_count": 30,
   "metadata": {},
   "outputs": [],
   "source": [
    "# воспользуюсь методом train_test_split чтобы отделить 40% данных, число random_state получено генератором случайных чисел\n",
    "train_features, valid_features, train_target, valid_target = train_test_split(\n",
    "    features,\n",
    "    target,\n",
    "    test_size=0.4,\n",
    "    random_state=98470453\n",
    ")"
   ]
  },
  {
   "cell_type": "code",
   "execution_count": 31,
   "metadata": {},
   "outputs": [],
   "source": [
    "# воспользуюсь тем же методом для разделения валидационной и тестовой выборок\n",
    "test_features, valid_features, test_target, valid_target = train_test_split(\n",
    "    valid_features,\n",
    "    valid_target,\n",
    "    test_size=0.5,\n",
    "    random_state=98470453\n",
    ")"
   ]
  },
  {
   "cell_type": "markdown",
   "metadata": {},
   "source": [
    "## Исследуйте модели"
   ]
  },
  {
   "cell_type": "markdown",
   "metadata": {},
   "source": [
    "Для исследования воспользуюсь моделями Дерева Решений, Случайного Леса и Логистической Регрессии.  \n",
    "Воспользуюсь методом `GridSearchCV` библиотеки `sklearn` для подбора гиперпараметров."
   ]
  },
  {
   "cell_type": "code",
   "execution_count": 32,
   "metadata": {},
   "outputs": [],
   "source": [
    "import warnings\n",
    "warnings.filterwarnings('ignore')"
   ]
  },
  {
   "cell_type": "markdown",
   "metadata": {},
   "source": [
    "### Дерево решений"
   ]
  },
  {
   "cell_type": "markdown",
   "metadata": {},
   "source": [
    "Подготовлю модель."
   ]
  },
  {
   "cell_type": "code",
   "execution_count": 33,
   "metadata": {
    "scrolled": true
   },
   "outputs": [
    {
     "data": {
      "text/plain": [
       "{'criterion': 'entropy',\n",
       " 'max_depth': 5,\n",
       " 'min_samples_leaf': 2,\n",
       " 'min_samples_split': 2,\n",
       " 'min_weight_fraction_leaf': 0.0}"
      ]
     },
     "execution_count": 33,
     "metadata": {},
     "output_type": "execute_result"
    }
   ],
   "source": [
    "dtc = DecisionTreeClassifier(random_state=98470453)\n",
    "\n",
    "params_tree = [{\n",
    "    'criterion': ['gini', 'entropy'],\n",
    "    'max_depth': range(2, 6),\n",
    "    'min_samples_split': range(2, 6),\n",
    "    'min_samples_leaf': range(2, 6),\n",
    "    'min_weight_fraction_leaf': [0.0, 0.1, 0.2, 0.3]\n",
    "}]\n",
    "\n",
    "model_tree = GridSearchCV(dtc,\n",
    "                      param_grid=params_tree,\n",
    "                      scoring='accuracy',\n",
    "                      cv=3)\n",
    "\n",
    "model_tree.fit(train_features, train_target)\n",
    "model_tree.best_params_"
   ]
  },
  {
   "cell_type": "markdown",
   "metadata": {},
   "source": [
    "Проверю модель на валидационной выборке."
   ]
  },
  {
   "cell_type": "code",
   "execution_count": 43,
   "metadata": {},
   "outputs": [
    {
     "data": {
      "text/plain": [
       "'Accuracy: 0.807153965785381'"
      ]
     },
     "metadata": {},
     "output_type": "display_data"
    },
    {
     "data": {
      "text/plain": [
       "'Precision: 0.7807017543859649'"
      ]
     },
     "metadata": {},
     "output_type": "display_data"
    },
    {
     "data": {
      "text/plain": [
       "'Recall: 0.4734042553191489'"
      ]
     },
     "execution_count": 43,
     "metadata": {},
     "output_type": "execute_result"
    }
   ],
   "source": [
    "valid_predictions_dtc = model_tree.predict(valid_features)\n",
    "\n",
    "display(f'Accuracy: {accuracy_score(valid_target, valid_predictions_dtc)}')\n",
    "        \n",
    "display(f'Precision: {precision_score(valid_target, valid_predictions_dtc)}')\n",
    "        \n",
    "f'Recall: {recall_score(valid_target, valid_predictions_dtc)}'"
   ]
  },
  {
   "cell_type": "markdown",
   "metadata": {},
   "source": [
    "### Случайный лес"
   ]
  },
  {
   "cell_type": "markdown",
   "metadata": {},
   "source": [
    "Подготовлю модель."
   ]
  },
  {
   "cell_type": "code",
   "execution_count": 44,
   "metadata": {
    "scrolled": true
   },
   "outputs": [
    {
     "data": {
      "text/plain": [
       "{'criterion': 'entropy', 'max_depth': 6, 'n_estimators': 27}"
      ]
     },
     "execution_count": 44,
     "metadata": {},
     "output_type": "execute_result"
    }
   ],
   "source": [
    "rfc = RandomForestClassifier(random_state=98470453)\n",
    "\n",
    "params_forest = [{\n",
    "    'criterion': ['gini', 'entropy'],\n",
    "    'max_depth': range(3, 7),\n",
    "    'n_estimators': range(2, 53, 5)\n",
    "}]\n",
    "\n",
    "model_forest = GridSearchCV(rfc,\n",
    "                      param_grid=params_forest,\n",
    "                      scoring='accuracy',\n",
    "                      cv=3)\n",
    "\n",
    "model_forest.fit(train_features, train_target)\n",
    "model_forest.best_params_"
   ]
  },
  {
   "cell_type": "markdown",
   "metadata": {},
   "source": [
    "Проверю модель на валидационной выборке."
   ]
  },
  {
   "cell_type": "code",
   "execution_count": 46,
   "metadata": {},
   "outputs": [
    {
     "data": {
      "text/plain": [
       "'Accuracy: 0.8133748055987559'"
      ]
     },
     "metadata": {},
     "output_type": "display_data"
    },
    {
     "data": {
      "text/plain": [
       "'Precision: 0.8269230769230769'"
      ]
     },
     "metadata": {},
     "output_type": "display_data"
    },
    {
     "data": {
      "text/plain": [
       "'Recall: 0.4574468085106383'"
      ]
     },
     "execution_count": 46,
     "metadata": {},
     "output_type": "execute_result"
    }
   ],
   "source": [
    "valid_predictions_rfc = model_forest.predict(valid_features)\n",
    "\n",
    "display(f'Accuracy: {accuracy_score(valid_target, valid_predictions_rfc)}')\n",
    "        \n",
    "display(f'Precision: {precision_score(valid_target, valid_predictions_rfc)}')\n",
    "        \n",
    "f'Recall: {recall_score(valid_target, valid_predictions_rfc)}'"
   ]
  },
  {
   "cell_type": "markdown",
   "metadata": {},
   "source": [
    "### Логистическая регрессия"
   ]
  },
  {
   "cell_type": "markdown",
   "metadata": {},
   "source": [
    "Подготовлю модель."
   ]
  },
  {
   "cell_type": "code",
   "execution_count": 47,
   "metadata": {
    "scrolled": true
   },
   "outputs": [
    {
     "data": {
      "text/plain": [
       "{'max_iter': 71, 'solver': 'lbfgs'}"
      ]
     },
     "execution_count": 47,
     "metadata": {},
     "output_type": "execute_result"
    }
   ],
   "source": [
    "lr = LogisticRegression(random_state=98470453)\n",
    "\n",
    "params_regression = [{\n",
    "    'solver': ['newton-cg', 'lbfgs', 'liblinear'],\n",
    "    'max_iter': range(1, 101),\n",
    "}]\n",
    "\n",
    "model_regression = GridSearchCV(lr,\n",
    "                      param_grid=params_regression,\n",
    "                      scoring='accuracy')\n",
    "\n",
    "model_regression.fit(train_features, train_target)\n",
    "model_regression.best_params_"
   ]
  },
  {
   "cell_type": "markdown",
   "metadata": {},
   "source": [
    "Проверю модель на валидационной выборке."
   ]
  },
  {
   "cell_type": "code",
   "execution_count": 48,
   "metadata": {},
   "outputs": [
    {
     "data": {
      "text/plain": [
       "'Accuracy: 0.7527216174183515'"
      ]
     },
     "metadata": {},
     "output_type": "display_data"
    },
    {
     "data": {
      "text/plain": [
       "'Precision: 0.7959183673469388'"
      ]
     },
     "metadata": {},
     "output_type": "display_data"
    },
    {
     "data": {
      "text/plain": [
       "'Recall: 0.2074468085106383'"
      ]
     },
     "execution_count": 48,
     "metadata": {},
     "output_type": "execute_result"
    }
   ],
   "source": [
    "valid_predictions_lr = model_regression.predict(valid_features)\n",
    "\n",
    "display(f'Accuracy: {accuracy_score(valid_target, valid_predictions_lr)}')\n",
    "        \n",
    "display(f'Precision: {precision_score(valid_target, valid_predictions_lr)}')\n",
    "        \n",
    "f'Recall: {recall_score(valid_target, valid_predictions_lr)}'"
   ]
  },
  {
   "cell_type": "markdown",
   "metadata": {},
   "source": [
    "### Вывод"
   ]
  },
  {
   "cell_type": "markdown",
   "metadata": {},
   "source": [
    "По итогам подготовки и исследования моделей получены следующие результаты по метрике `accuracy`:\n",
    "- точность ответов 0.8133 - модель Случайного Леса;\n",
    "- точность ответов 0.8071 - модель Дерева Решений;\n",
    "- точность ответов 0.7527 - модель Логистической Регрессии.\n",
    "\n",
    "Всем тремя моделями на валидационной выборке достинут необходимый порог точности - 0.75.  \n",
    "Для определения наиболее точной модели все три будут проверены на тестовой выборке.\n",
    "\n",
    "Модели демонстрируют сравнимые с `accuracy` показатели метрики `precision`, то есть соотношение положительных результатов (1 предсказано как 1) к сумме положительных результатов и ложных положительных результатов (1 предсказано как 0).\n",
    "\n",
    "Модели демотрируют низкие показатели (0.21 - 0.47) метрики `recall`, то есть соотношение положительных результатов (1 предсказано как 1) к сумме положительных результатов и ложных негативных результатов (0 предсказано как 1).\n",
    "\n",
    "Низкие показатели метрики `recall` вызваны дисбалансом классов."
   ]
  },
  {
   "cell_type": "markdown",
   "metadata": {},
   "source": [
    "## Проверьте модель на тестовой выборке"
   ]
  },
  {
   "cell_type": "markdown",
   "metadata": {},
   "source": [
    "### Дерево решений"
   ]
  },
  {
   "cell_type": "code",
   "execution_count": 53,
   "metadata": {},
   "outputs": [
    {
     "data": {
      "text/plain": [
       "'Accuracy: 0.8087091757387247'"
      ]
     },
     "metadata": {},
     "output_type": "display_data"
    },
    {
     "name": "stdout",
     "output_type": "stream",
     "text": [
      "CPU times: user 7.91 ms, sys: 38 µs, total: 7.95 ms\n",
      "Wall time: 6.01 ms\n"
     ]
    }
   ],
   "source": [
    "%%time\n",
    "test_predictions_dtc = model_tree.predict(test_features)\n",
    "display(f'Accuracy: {accuracy_score(test_target, test_predictions_dtc)}')"
   ]
  },
  {
   "cell_type": "code",
   "execution_count": 54,
   "metadata": {},
   "outputs": [
    {
     "data": {
      "text/plain": [
       "'Precision: 0.8088235294117647'"
      ]
     },
     "metadata": {},
     "output_type": "display_data"
    },
    {
     "data": {
      "text/plain": [
       "'Recall: 0.5314009661835749'"
      ]
     },
     "execution_count": 54,
     "metadata": {},
     "output_type": "execute_result"
    }
   ],
   "source": [
    "display(f'Precision: {precision_score(test_target, test_predictions_dtc)}')\n",
    "        \n",
    "f'Recall: {recall_score(test_target, test_predictions_dtc)}'"
   ]
  },
  {
   "cell_type": "markdown",
   "metadata": {},
   "source": [
    "### Случайный лес"
   ]
  },
  {
   "cell_type": "code",
   "execution_count": 55,
   "metadata": {},
   "outputs": [
    {
     "data": {
      "text/plain": [
       "'Accuracy: 0.8102643856920684'"
      ]
     },
     "metadata": {},
     "output_type": "display_data"
    },
    {
     "name": "stdout",
     "output_type": "stream",
     "text": [
      "CPU times: user 12.9 ms, sys: 7.95 ms, total: 20.8 ms\n",
      "Wall time: 18.3 ms\n"
     ]
    }
   ],
   "source": [
    "%%time\n",
    "test_predictions_rfc = model_forest.predict(test_features)\n",
    "display(f'Accuracy: {accuracy_score(test_target, test_predictions_rfc)}')"
   ]
  },
  {
   "cell_type": "code",
   "execution_count": 58,
   "metadata": {},
   "outputs": [
    {
     "data": {
      "text/plain": [
       "'Precision: 0.8346456692913385'"
      ]
     },
     "metadata": {},
     "output_type": "display_data"
    },
    {
     "data": {
      "text/plain": [
       "'Recall: 0.5120772946859904'"
      ]
     },
     "execution_count": 58,
     "metadata": {},
     "output_type": "execute_result"
    }
   ],
   "source": [
    "display(f'Precision: {precision_score(test_target, test_predictions_rfc)}')\n",
    " \n",
    "f'Recall: {recall_score(test_target, test_predictions_rfc)}'"
   ]
  },
  {
   "cell_type": "markdown",
   "metadata": {},
   "source": [
    "### Логистическая регрессия"
   ]
  },
  {
   "cell_type": "code",
   "execution_count": 68,
   "metadata": {},
   "outputs": [
    {
     "data": {
      "text/plain": [
       "'Accuracy: 0.7387247278382582'"
      ]
     },
     "metadata": {},
     "output_type": "display_data"
    },
    {
     "name": "stdout",
     "output_type": "stream",
     "text": [
      "CPU times: user 8.58 ms, sys: 6 µs, total: 8.59 ms\n",
      "Wall time: 6.4 ms\n"
     ]
    }
   ],
   "source": [
    "%%time\n",
    "test_predictions_lr = model_regression.predict(test_features)\n",
    "display(f'Accuracy: {accuracy_score(test_target, test_predictions_lr)}')"
   ]
  },
  {
   "cell_type": "code",
   "execution_count": 65,
   "metadata": {},
   "outputs": [
    {
     "data": {
      "text/plain": [
       "'Precision: 0.8421052631578947'"
      ]
     },
     "metadata": {},
     "output_type": "display_data"
    },
    {
     "data": {
      "text/plain": [
       "'Recall: 0.2318840579710145'"
      ]
     },
     "execution_count": 65,
     "metadata": {},
     "output_type": "execute_result"
    }
   ],
   "source": [
    "display(f'Precision: {precision_score(test_target, test_predictions_lr)}')\n",
    " \n",
    "f'Recall: {recall_score(test_target, test_predictions_lr)}'"
   ]
  },
  {
   "cell_type": "markdown",
   "metadata": {},
   "source": [
    "### Вывод"
   ]
  },
  {
   "cell_type": "markdown",
   "metadata": {},
   "source": [
    "По итогам проверки моделей на тестовой выборке получены следующие результаты по метрике `accuracy`:\n",
    "\n",
    "- точность ответов 0.8102 - модель Случайного Леса;\n",
    "- точность ответов 0.8087 - модель Дерева Решений;\n",
    "- точность ответов 0.7387 - модель Логистической Регрессии.\n",
    "\n",
    "При проверке на тестовой выборке точность модели Логистической Регрессиина тестовой выборке не достигла 0.75.  \n",
    "\n",
    "Модели демонстрируют сравнимые с `accuracy` показатели метрики `precision`, то есть соотношение положительных результатов (1 предсказано как 1) к сумме положительных результатов и ложных положительных результатов (1 предсказано как 0).\n",
    "\n",
    "Модели демотрируют низкие показатели (0.23 - 0.53) метрики `recall`, то есть соотношение положительных результатов (1 предсказано как 1) к сумме положительных результатов и ложных негативных результатов (0 предсказано как 1).\n",
    "\n",
    "Низкие показатели метрики `recall` вызваны дисбалансом классов.\n",
    "\n",
    "Точность моделей Случайного Леса и Дерева Решений достаточна для выполнения поставленной задачи. При этом выполнение модели Дерева Решений занимает примерно в два раза меньше времени."
   ]
  },
  {
   "cell_type": "markdown",
   "metadata": {},
   "source": [
    "## (бонус) Проверьте модели на адекватность"
   ]
  },
  {
   "cell_type": "markdown",
   "metadata": {},
   "source": [
    "Для проверки на адекватность использую DummyClassifier. Проверяю по метрике `accuracy`, как данной в задании."
   ]
  },
  {
   "cell_type": "code",
   "execution_count": 83,
   "metadata": {},
   "outputs": [
    {
     "data": {
      "text/plain": [
       "{'constant': 0, 'strategy': 'most_frequent'}"
      ]
     },
     "execution_count": 83,
     "metadata": {},
     "output_type": "execute_result"
    }
   ],
   "source": [
    "from sklearn.dummy import DummyClassifier\n",
    "\n",
    "dummy = DummyClassifier(random_state=98470453)\n",
    "\n",
    "params_dummy = [{\n",
    "    'strategy': ['most_frequent', 'prior', 'stratified', 'uniform', 'constant'],\n",
    "    'constant': [0, 1]\n",
    "}]\n",
    "\n",
    "model_dummy = GridSearchCV(dummy,\n",
    "                      param_grid=params_dummy,\n",
    "                      scoring='accuracy')\n",
    "\n",
    "model_dummy.fit(train_features, train_target)\n",
    "model_dummy.best_params_"
   ]
  },
  {
   "cell_type": "code",
   "execution_count": 84,
   "metadata": {},
   "outputs": [
    {
     "data": {
      "text/plain": [
       "'Accuracy: 0.7076205287713841'"
      ]
     },
     "metadata": {},
     "output_type": "display_data"
    },
    {
     "data": {
      "text/plain": [
       "'Precision: 0.0'"
      ]
     },
     "metadata": {},
     "output_type": "display_data"
    },
    {
     "data": {
      "text/plain": [
       "'Recall: 0.0'"
      ]
     },
     "execution_count": 84,
     "metadata": {},
     "output_type": "execute_result"
    }
   ],
   "source": [
    "valid_predictions_dummy = model_dummy.predict(valid_features)\n",
    "\n",
    "display(f'Accuracy: {accuracy_score(valid_target, valid_predictions_dummy)}')\n",
    "        \n",
    "display(f'Precision: {precision_score(valid_target, valid_predictions_dummy)}')\n",
    "        \n",
    "f'Recall: {recall_score(valid_target, valid_predictions_dummy)}'"
   ]
  },
  {
   "cell_type": "code",
   "execution_count": 85,
   "metadata": {
    "scrolled": true
   },
   "outputs": [
    {
     "data": {
      "text/plain": [
       "'Accuracy: 0.6780715396578538'"
      ]
     },
     "metadata": {},
     "output_type": "display_data"
    },
    {
     "data": {
      "text/plain": [
       "'Precision: 0.0'"
      ]
     },
     "metadata": {},
     "output_type": "display_data"
    },
    {
     "data": {
      "text/plain": [
       "'Recall: 0.0'"
      ]
     },
     "execution_count": 85,
     "metadata": {},
     "output_type": "execute_result"
    }
   ],
   "source": [
    "test_predictions_dummy = model_dummy.predict(test_features)\n",
    "\n",
    "display(f'Accuracy: {accuracy_score(test_target, test_predictions_dummy)}')\n",
    "\n",
    "display(f'Precision: {precision_score(test_target, test_predictions_dummy)}')\n",
    " \n",
    "f'Recall: {recall_score(test_target, test_predictions_dummy)}'"
   ]
  },
  {
   "cell_type": "markdown",
   "metadata": {},
   "source": [
    "Точность моделей Случайного Леса и Дерева Решений выше точности фиктивной модели - следовательно полученные модели Случайного Леса и Дерева Решений адекватны."
   ]
  }
 ],
 "metadata": {
  "ExecuteTimeLog": [
   {
    "duration": 1146,
    "start_time": "2022-05-03T15:30:13.421Z"
   },
   {
    "duration": 73,
    "start_time": "2022-05-03T15:30:16.156Z"
   },
   {
    "duration": 63,
    "start_time": "2022-05-03T15:30:47.479Z"
   },
   {
    "duration": 68,
    "start_time": "2022-05-03T15:31:06.865Z"
   },
   {
    "duration": 127,
    "start_time": "2022-05-03T16:05:32.150Z"
   },
   {
    "duration": 43,
    "start_time": "2022-05-03T16:05:43.743Z"
   },
   {
    "duration": 4,
    "start_time": "2022-05-03T17:11:19.927Z"
   },
   {
    "duration": 110,
    "start_time": "2022-05-03T17:22:56.389Z"
   },
   {
    "duration": 109,
    "start_time": "2022-05-03T17:23:02.916Z"
   },
   {
    "duration": 114,
    "start_time": "2022-05-03T17:23:07.794Z"
   },
   {
    "duration": 117,
    "start_time": "2022-05-03T17:23:12.047Z"
   },
   {
    "duration": 6,
    "start_time": "2022-05-03T17:23:37.589Z"
   },
   {
    "duration": 4,
    "start_time": "2022-05-03T17:25:47.827Z"
   },
   {
    "duration": 11,
    "start_time": "2022-05-03T17:29:13.384Z"
   },
   {
    "duration": 5,
    "start_time": "2022-05-03T17:29:55.304Z"
   },
   {
    "duration": 5,
    "start_time": "2022-05-03T17:30:10.406Z"
   },
   {
    "duration": 161,
    "start_time": "2022-05-03T17:30:19.681Z"
   },
   {
    "duration": 1216,
    "start_time": "2022-05-03T17:30:27.154Z"
   },
   {
    "duration": 84,
    "start_time": "2022-05-03T17:30:28.372Z"
   },
   {
    "duration": 51,
    "start_time": "2022-05-03T17:30:28.458Z"
   },
   {
    "duration": 3,
    "start_time": "2022-05-03T17:30:28.511Z"
   },
   {
    "duration": 9,
    "start_time": "2022-05-03T17:30:28.516Z"
   },
   {
    "duration": 156,
    "start_time": "2022-05-03T17:30:28.526Z"
   },
   {
    "duration": 5,
    "start_time": "2022-05-03T17:30:36.632Z"
   },
   {
    "duration": 10,
    "start_time": "2022-05-03T17:30:49.433Z"
   },
   {
    "duration": 10,
    "start_time": "2022-05-03T17:31:02.825Z"
   },
   {
    "duration": 10,
    "start_time": "2022-05-03T17:31:40.512Z"
   },
   {
    "duration": 11,
    "start_time": "2022-05-03T17:31:41.847Z"
   },
   {
    "duration": 4,
    "start_time": "2022-05-03T17:32:22.905Z"
   },
   {
    "duration": 10,
    "start_time": "2022-05-03T17:38:54.799Z"
   },
   {
    "duration": 3,
    "start_time": "2022-05-03T17:40:18.863Z"
   },
   {
    "duration": 24,
    "start_time": "2022-05-03T17:40:23.308Z"
   },
   {
    "duration": 229,
    "start_time": "2022-05-03T17:41:55.473Z"
   },
   {
    "duration": 248,
    "start_time": "2022-05-03T17:42:03.728Z"
   },
   {
    "duration": 17,
    "start_time": "2022-05-03T17:44:13.881Z"
   },
   {
    "duration": 16,
    "start_time": "2022-05-03T17:44:17.260Z"
   },
   {
    "duration": 17,
    "start_time": "2022-05-03T17:44:20.590Z"
   },
   {
    "duration": 16,
    "start_time": "2022-05-03T17:44:24.245Z"
   },
   {
    "duration": 16,
    "start_time": "2022-05-03T17:44:28.330Z"
   },
   {
    "duration": 16,
    "start_time": "2022-05-03T17:44:33.467Z"
   },
   {
    "duration": 233,
    "start_time": "2022-05-03T17:44:38.779Z"
   },
   {
    "duration": 267,
    "start_time": "2022-05-03T17:44:41.662Z"
   },
   {
    "duration": 23,
    "start_time": "2022-05-03T17:44:59.533Z"
   },
   {
    "duration": 26,
    "start_time": "2022-05-03T17:45:02.116Z"
   },
   {
    "duration": 485,
    "start_time": "2022-05-03T17:47:48.064Z"
   },
   {
    "duration": 295,
    "start_time": "2022-05-03T17:47:52.025Z"
   },
   {
    "duration": 16,
    "start_time": "2022-05-03T17:48:04.222Z"
   },
   {
    "duration": 16,
    "start_time": "2022-05-03T17:48:07.784Z"
   },
   {
    "duration": 27,
    "start_time": "2022-05-03T17:48:33.520Z"
   },
   {
    "duration": 103,
    "start_time": "2022-05-03T17:49:18.641Z"
   },
   {
    "duration": 17,
    "start_time": "2022-05-03T17:49:23.803Z"
   },
   {
    "duration": 18,
    "start_time": "2022-05-03T17:49:38.747Z"
   },
   {
    "duration": 17,
    "start_time": "2022-05-03T17:49:44.028Z"
   },
   {
    "duration": 16,
    "start_time": "2022-05-03T17:49:47.988Z"
   },
   {
    "duration": 16,
    "start_time": "2022-05-03T17:49:53.955Z"
   },
   {
    "duration": 17,
    "start_time": "2022-05-03T17:49:59.942Z"
   },
   {
    "duration": 12,
    "start_time": "2022-05-03T17:50:22.870Z"
   },
   {
    "duration": 11,
    "start_time": "2022-05-03T17:50:31.418Z"
   },
   {
    "duration": 16,
    "start_time": "2022-05-03T17:50:37.273Z"
   },
   {
    "duration": 34,
    "start_time": "2022-05-03T18:05:48.038Z"
   },
   {
    "duration": 44,
    "start_time": "2022-05-03T18:05:55.518Z"
   },
   {
    "duration": 28,
    "start_time": "2022-05-03T18:06:03.894Z"
   },
   {
    "duration": 27,
    "start_time": "2022-05-03T18:06:12.430Z"
   },
   {
    "duration": 27,
    "start_time": "2022-05-03T18:06:16.334Z"
   },
   {
    "duration": 27,
    "start_time": "2022-05-03T18:06:20.892Z"
   },
   {
    "duration": 26,
    "start_time": "2022-05-03T18:06:23.662Z"
   },
   {
    "duration": 4535,
    "start_time": "2022-05-03T18:07:20.401Z"
   },
   {
    "duration": 246,
    "start_time": "2022-05-03T18:07:28.502Z"
   },
   {
    "duration": 3542,
    "start_time": "2022-05-03T18:07:41.512Z"
   },
   {
    "duration": 11,
    "start_time": "2022-05-03T18:08:41.149Z"
   },
   {
    "duration": 4,
    "start_time": "2022-05-03T18:08:42.833Z"
   },
   {
    "duration": 4,
    "start_time": "2022-05-03T18:08:43.821Z"
   },
   {
    "duration": 30,
    "start_time": "2022-05-03T18:08:50.013Z"
   },
   {
    "duration": 246,
    "start_time": "2022-05-03T18:08:56.103Z"
   },
   {
    "duration": 21,
    "start_time": "2022-05-03T18:09:02.039Z"
   },
   {
    "duration": 5,
    "start_time": "2022-05-03T18:09:25.421Z"
   },
   {
    "duration": 4,
    "start_time": "2022-05-03T18:09:26.405Z"
   },
   {
    "duration": 3,
    "start_time": "2022-05-03T18:09:27.180Z"
   },
   {
    "duration": 28,
    "start_time": "2022-05-03T18:09:32.404Z"
   },
   {
    "duration": 259,
    "start_time": "2022-05-03T18:09:36.362Z"
   },
   {
    "duration": 31,
    "start_time": "2022-05-03T18:09:38.637Z"
   },
   {
    "duration": 5,
    "start_time": "2022-05-03T18:09:59.988Z"
   },
   {
    "duration": 4,
    "start_time": "2022-05-03T18:10:00.636Z"
   },
   {
    "duration": 4,
    "start_time": "2022-05-03T18:10:01.815Z"
   },
   {
    "duration": 31,
    "start_time": "2022-05-03T18:10:04.069Z"
   },
   {
    "duration": 265,
    "start_time": "2022-05-03T18:10:08.333Z"
   },
   {
    "duration": 42,
    "start_time": "2022-05-03T18:10:12.302Z"
   },
   {
    "duration": 16,
    "start_time": "2022-05-03T18:11:55.946Z"
   },
   {
    "duration": 14,
    "start_time": "2022-05-03T18:12:22.745Z"
   },
   {
    "duration": 12571,
    "start_time": "2022-05-03T18:12:33.506Z"
   },
   {
    "duration": 3,
    "start_time": "2022-05-03T18:13:42.784Z"
   },
   {
    "duration": 11382,
    "start_time": "2022-05-03T18:13:45.239Z"
   },
   {
    "duration": 6,
    "start_time": "2022-05-03T18:16:20.115Z"
   },
   {
    "duration": 5,
    "start_time": "2022-05-03T18:16:20.913Z"
   },
   {
    "duration": 4,
    "start_time": "2022-05-03T18:16:21.746Z"
   },
   {
    "duration": 30,
    "start_time": "2022-05-03T18:16:25.416Z"
   },
   {
    "duration": 254,
    "start_time": "2022-05-03T18:16:31.511Z"
   },
   {
    "duration": 11293,
    "start_time": "2022-05-03T18:16:37.022Z"
   },
   {
    "duration": 1694,
    "start_time": "2022-05-04T10:41:00.192Z"
   },
   {
    "duration": 133,
    "start_time": "2022-05-04T10:41:01.889Z"
   },
   {
    "duration": 73,
    "start_time": "2022-05-04T10:41:03.570Z"
   },
   {
    "duration": 5,
    "start_time": "2022-05-04T10:41:29.096Z"
   },
   {
    "duration": 7,
    "start_time": "2022-05-04T10:41:31.359Z"
   },
   {
    "duration": 6,
    "start_time": "2022-05-04T10:41:33.257Z"
   },
   {
    "duration": 6,
    "start_time": "2022-05-04T10:41:33.897Z"
   },
   {
    "duration": 4,
    "start_time": "2022-05-04T10:41:36.920Z"
   },
   {
    "duration": 38,
    "start_time": "2022-05-04T10:41:38.183Z"
   },
   {
    "duration": 287,
    "start_time": "2022-05-04T10:41:41.818Z"
   },
   {
    "duration": 16113,
    "start_time": "2022-05-04T10:41:44.535Z"
   },
   {
    "duration": 5,
    "start_time": "2022-05-04T10:42:11.766Z"
   },
   {
    "duration": 7,
    "start_time": "2022-05-04T10:42:12.907Z"
   },
   {
    "duration": 6,
    "start_time": "2022-05-04T10:42:14.304Z"
   },
   {
    "duration": 5,
    "start_time": "2022-05-04T10:42:15.110Z"
   },
   {
    "duration": 48,
    "start_time": "2022-05-04T10:42:17.734Z"
   },
   {
    "duration": 4244,
    "start_time": "2022-05-04T10:56:17.753Z"
   },
   {
    "duration": 162,
    "start_time": "2022-05-04T10:57:50.708Z"
   },
   {
    "duration": 23,
    "start_time": "2022-05-04T10:58:09.406Z"
   },
   {
    "duration": 1664,
    "start_time": "2022-05-04T10:58:27.773Z"
   },
   {
    "duration": 1649,
    "start_time": "2022-05-04T10:58:44.692Z"
   },
   {
    "duration": 1615,
    "start_time": "2022-05-04T10:59:40.533Z"
   },
   {
    "duration": 8,
    "start_time": "2022-05-04T11:00:01.134Z"
   },
   {
    "duration": 7,
    "start_time": "2022-05-04T11:00:01.870Z"
   },
   {
    "duration": 9,
    "start_time": "2022-05-04T11:00:02.515Z"
   },
   {
    "duration": 1638,
    "start_time": "2022-05-04T11:00:05.602Z"
   },
   {
    "duration": 359,
    "start_time": "2022-05-04T11:00:47.206Z"
   },
   {
    "duration": 362,
    "start_time": "2022-05-04T11:00:51.820Z"
   },
   {
    "duration": 1585,
    "start_time": "2022-05-04T11:01:43.593Z"
   },
   {
    "duration": 7,
    "start_time": "2022-05-04T11:02:06.052Z"
   },
   {
    "duration": 6,
    "start_time": "2022-05-04T11:02:06.765Z"
   },
   {
    "duration": 10,
    "start_time": "2022-05-04T11:02:07.497Z"
   },
   {
    "duration": 4,
    "start_time": "2022-05-04T11:02:08.370Z"
   },
   {
    "duration": 1549,
    "start_time": "2022-05-04T11:02:10.435Z"
   },
   {
    "duration": 8757,
    "start_time": "2022-05-04T11:06:44.745Z"
   },
   {
    "duration": 9583,
    "start_time": "2022-05-04T11:10:39.781Z"
   },
   {
    "duration": 6,
    "start_time": "2022-05-04T11:11:47.208Z"
   },
   {
    "duration": 4,
    "start_time": "2022-05-04T11:11:48.034Z"
   },
   {
    "duration": 5,
    "start_time": "2022-05-04T11:11:48.734Z"
   },
   {
    "duration": 9190,
    "start_time": "2022-05-04T11:11:52.564Z"
   },
   {
    "duration": 207,
    "start_time": "2022-05-04T11:12:24.704Z"
   },
   {
    "duration": 235,
    "start_time": "2022-05-04T11:12:32.652Z"
   },
   {
    "duration": 9563,
    "start_time": "2022-05-04T11:13:55.117Z"
   },
   {
    "duration": 17527,
    "start_time": "2022-05-04T11:52:13.360Z"
   },
   {
    "duration": 570,
    "start_time": "2022-05-04T12:18:04.712Z"
   },
   {
    "duration": 18,
    "start_time": "2022-05-04T12:28:32.829Z"
   },
   {
    "duration": 28475,
    "start_time": "2022-05-04T12:29:28.775Z"
   },
   {
    "duration": 15730,
    "start_time": "2022-05-04T12:31:13.038Z"
   },
   {
    "duration": 7,
    "start_time": "2022-05-04T12:32:15.061Z"
   },
   {
    "duration": 6,
    "start_time": "2022-05-04T12:32:15.826Z"
   },
   {
    "duration": 5,
    "start_time": "2022-05-04T12:32:16.481Z"
   },
   {
    "duration": 13645,
    "start_time": "2022-05-04T12:32:18.300Z"
   },
   {
    "duration": 16134,
    "start_time": "2022-05-04T12:32:33.824Z"
   },
   {
    "duration": 15428,
    "start_time": "2022-05-04T12:33:00.037Z"
   },
   {
    "duration": 16037,
    "start_time": "2022-05-04T12:33:16.501Z"
   },
   {
    "duration": 25696,
    "start_time": "2022-05-04T12:35:44.590Z"
   },
   {
    "duration": 27207,
    "start_time": "2022-05-04T12:36:25.112Z"
   },
   {
    "duration": 78,
    "start_time": "2022-05-04T12:36:54.835Z"
   },
   {
    "duration": 28192,
    "start_time": "2022-05-04T12:37:23.937Z"
   },
   {
    "duration": 9,
    "start_time": "2022-05-04T12:38:41.839Z"
   },
   {
    "duration": 7,
    "start_time": "2022-05-04T12:38:42.965Z"
   },
   {
    "duration": 7,
    "start_time": "2022-05-04T12:38:43.725Z"
   },
   {
    "duration": 11731,
    "start_time": "2022-05-04T12:38:45.248Z"
   },
   {
    "duration": 15732,
    "start_time": "2022-05-04T12:38:58.724Z"
   },
   {
    "duration": 31619,
    "start_time": "2022-05-04T12:39:36.458Z"
   },
   {
    "duration": 92,
    "start_time": "2022-05-04T12:40:12.878Z"
   },
   {
    "duration": 23745,
    "start_time": "2022-05-04T12:40:21.645Z"
   },
   {
    "duration": 8,
    "start_time": "2022-05-04T12:41:35.171Z"
   },
   {
    "duration": 6,
    "start_time": "2022-05-04T12:41:36.836Z"
   },
   {
    "duration": 5,
    "start_time": "2022-05-04T12:41:37.548Z"
   },
   {
    "duration": 6455,
    "start_time": "2022-05-04T12:41:38.787Z"
   },
   {
    "duration": 12671,
    "start_time": "2022-05-04T12:41:51.253Z"
   },
   {
    "duration": 24673,
    "start_time": "2022-05-04T12:42:10.855Z"
   },
   {
    "duration": 10,
    "start_time": "2022-05-04T12:43:03.464Z"
   },
   {
    "duration": 6,
    "start_time": "2022-05-04T12:43:04.880Z"
   },
   {
    "duration": 6,
    "start_time": "2022-05-04T12:43:05.547Z"
   },
   {
    "duration": 12191,
    "start_time": "2022-05-04T12:43:08.259Z"
   },
   {
    "duration": 7,
    "start_time": "2022-05-04T12:43:49.955Z"
   },
   {
    "duration": 6,
    "start_time": "2022-05-04T12:43:50.731Z"
   },
   {
    "duration": 6,
    "start_time": "2022-05-04T12:43:52.109Z"
   },
   {
    "duration": 11852,
    "start_time": "2022-05-04T12:43:56.999Z"
   },
   {
    "duration": 8,
    "start_time": "2022-05-04T12:45:09.446Z"
   },
   {
    "duration": 7,
    "start_time": "2022-05-04T12:45:10.256Z"
   },
   {
    "duration": 6,
    "start_time": "2022-05-04T12:45:10.891Z"
   },
   {
    "duration": 10903,
    "start_time": "2022-05-04T12:45:18.031Z"
   },
   {
    "duration": 10,
    "start_time": "2022-05-04T12:45:37.689Z"
   },
   {
    "duration": 6,
    "start_time": "2022-05-04T12:45:38.629Z"
   },
   {
    "duration": 11,
    "start_time": "2022-05-04T12:45:39.194Z"
   },
   {
    "duration": 13555,
    "start_time": "2022-05-04T12:45:41.220Z"
   },
   {
    "duration": 8,
    "start_time": "2022-05-04T12:46:04.668Z"
   },
   {
    "duration": 10,
    "start_time": "2022-05-04T12:46:05.321Z"
   },
   {
    "duration": 6,
    "start_time": "2022-05-04T12:46:06.001Z"
   },
   {
    "duration": 0,
    "start_time": "2022-05-04T12:46:13.237Z"
   },
   {
    "duration": 10433,
    "start_time": "2022-05-04T12:46:40.861Z"
   },
   {
    "duration": 25559,
    "start_time": "2022-05-04T12:47:16.941Z"
   },
   {
    "duration": 23668,
    "start_time": "2022-05-04T12:49:51.762Z"
   },
   {
    "duration": 29287,
    "start_time": "2022-05-04T12:51:03.569Z"
   },
   {
    "duration": 20096,
    "start_time": "2022-05-04T12:52:19.424Z"
   },
   {
    "duration": 38,
    "start_time": "2022-05-04T12:53:16.074Z"
   },
   {
    "duration": 9,
    "start_time": "2022-05-04T12:53:36.231Z"
   },
   {
    "duration": 7,
    "start_time": "2022-05-04T12:53:37.230Z"
   },
   {
    "duration": 5,
    "start_time": "2022-05-04T12:53:37.623Z"
   },
   {
    "duration": 11257,
    "start_time": "2022-05-04T12:53:40.730Z"
   },
   {
    "duration": 26834,
    "start_time": "2022-05-04T12:53:57.727Z"
   },
   {
    "duration": 6703,
    "start_time": "2022-05-04T12:54:49.224Z"
   },
   {
    "duration": 10696,
    "start_time": "2022-05-04T12:55:11.213Z"
   },
   {
    "duration": 26556,
    "start_time": "2022-05-04T12:56:20.727Z"
   },
   {
    "duration": 31427,
    "start_time": "2022-05-04T12:57:07.845Z"
   },
   {
    "duration": 29757,
    "start_time": "2022-05-04T12:58:01.937Z"
   },
   {
    "duration": 7,
    "start_time": "2022-05-04T12:58:51.055Z"
   },
   {
    "duration": 9,
    "start_time": "2022-05-04T12:58:52.050Z"
   },
   {
    "duration": 6,
    "start_time": "2022-05-04T12:58:52.930Z"
   },
   {
    "duration": 12468,
    "start_time": "2022-05-04T12:58:56.274Z"
   },
   {
    "duration": 25283,
    "start_time": "2022-05-04T12:59:16.117Z"
   },
   {
    "duration": 22053,
    "start_time": "2022-05-04T12:59:52.059Z"
   },
   {
    "duration": 8,
    "start_time": "2022-05-04T13:00:48.473Z"
   },
   {
    "duration": 12,
    "start_time": "2022-05-04T13:00:48.485Z"
   },
   {
    "duration": 35,
    "start_time": "2022-05-04T13:00:48.501Z"
   },
   {
    "duration": 13090,
    "start_time": "2022-05-04T13:00:48.541Z"
   },
   {
    "duration": 30961,
    "start_time": "2022-05-04T13:01:14.616Z"
   },
   {
    "duration": 26886,
    "start_time": "2022-05-04T13:02:39.564Z"
   },
   {
    "duration": 6,
    "start_time": "2022-05-04T13:03:24.890Z"
   },
   {
    "duration": 11,
    "start_time": "2022-05-04T13:03:27.581Z"
   },
   {
    "duration": 6,
    "start_time": "2022-05-04T13:03:28.227Z"
   },
   {
    "duration": 10,
    "start_time": "2022-05-04T13:03:29.058Z"
   },
   {
    "duration": 11356,
    "start_time": "2022-05-04T13:03:36.057Z"
   },
   {
    "duration": 22557,
    "start_time": "2022-05-04T13:03:52.384Z"
   },
   {
    "duration": 25896,
    "start_time": "2022-05-04T13:04:20.873Z"
   },
   {
    "duration": 8,
    "start_time": "2022-05-04T13:05:06.517Z"
   },
   {
    "duration": 7,
    "start_time": "2022-05-04T13:05:08.937Z"
   },
   {
    "duration": 6,
    "start_time": "2022-05-04T13:05:10.948Z"
   },
   {
    "duration": 11534,
    "start_time": "2022-05-04T13:05:17.181Z"
   },
   {
    "duration": 21800,
    "start_time": "2022-05-04T13:05:46.819Z"
   },
   {
    "duration": 22520,
    "start_time": "2022-05-04T13:06:10.931Z"
   },
   {
    "duration": 5,
    "start_time": "2022-05-04T13:06:44.376Z"
   },
   {
    "duration": 8,
    "start_time": "2022-05-04T13:06:45.694Z"
   },
   {
    "duration": 5,
    "start_time": "2022-05-04T13:06:46.523Z"
   },
   {
    "duration": 16,
    "start_time": "2022-05-04T13:06:47.417Z"
   },
   {
    "duration": 11886,
    "start_time": "2022-05-04T13:06:49.135Z"
   },
   {
    "duration": 25077,
    "start_time": "2022-05-04T13:07:12.543Z"
   },
   {
    "duration": 14038,
    "start_time": "2022-05-04T13:07:59.172Z"
   },
   {
    "duration": 54552,
    "start_time": "2022-05-04T13:08:41.545Z"
   },
   {
    "duration": 22404,
    "start_time": "2022-05-04T13:10:07.792Z"
   },
   {
    "duration": 49,
    "start_time": "2022-05-04T13:10:32.121Z"
   },
   {
    "duration": 1613,
    "start_time": "2022-05-04T13:12:34.097Z"
   },
   {
    "duration": 6,
    "start_time": "2022-05-04T13:25:37.395Z"
   },
   {
    "duration": 4046,
    "start_time": "2022-05-04T13:31:04.096Z"
   },
   {
    "duration": 4038,
    "start_time": "2022-05-04T13:31:14.836Z"
   },
   {
    "duration": 1845,
    "start_time": "2022-05-04T13:33:04.465Z"
   },
   {
    "duration": 13,
    "start_time": "2022-05-04T13:33:44.841Z"
   },
   {
    "duration": 12,
    "start_time": "2022-05-04T13:34:28.949Z"
   },
   {
    "duration": 3852,
    "start_time": "2022-05-04T14:01:38.579Z"
   },
   {
    "duration": 9,
    "start_time": "2022-05-04T14:01:44.760Z"
   },
   {
    "duration": 73433,
    "start_time": "2022-05-04T14:01:53.213Z"
   },
   {
    "duration": 22312,
    "start_time": "2022-05-04T14:03:18.452Z"
   },
   {
    "duration": 22,
    "start_time": "2022-05-04T14:03:43.551Z"
   },
   {
    "duration": 19782,
    "start_time": "2022-05-04T14:04:44.690Z"
   },
   {
    "duration": 8,
    "start_time": "2022-05-04T14:05:15.399Z"
   },
   {
    "duration": 6,
    "start_time": "2022-05-04T14:05:16.022Z"
   },
   {
    "duration": 5,
    "start_time": "2022-05-04T14:05:16.622Z"
   },
   {
    "duration": 3500,
    "start_time": "2022-05-04T14:05:24.107Z"
   },
   {
    "duration": 11,
    "start_time": "2022-05-04T14:05:29.614Z"
   },
   {
    "duration": 1845,
    "start_time": "2022-05-04T14:05:36.892Z"
   },
   {
    "duration": 20924,
    "start_time": "2022-05-04T14:05:44.519Z"
   },
   {
    "duration": 22,
    "start_time": "2022-05-04T14:06:19.486Z"
   },
   {
    "duration": 10390,
    "start_time": "2022-05-04T14:06:41.498Z"
   },
   {
    "duration": 17347,
    "start_time": "2022-05-04T14:06:58.087Z"
   },
   {
    "duration": 23291,
    "start_time": "2022-05-04T14:07:30.386Z"
   },
   {
    "duration": 14,
    "start_time": "2022-05-04T14:08:00.409Z"
   },
   {
    "duration": 2876,
    "start_time": "2022-05-04T14:08:18.006Z"
   },
   {
    "duration": 9,
    "start_time": "2022-05-04T14:08:26.848Z"
   },
   {
    "duration": 16,
    "start_time": "2022-05-04T14:08:28.116Z"
   },
   {
    "duration": 7,
    "start_time": "2022-05-04T14:08:42.261Z"
   },
   {
    "duration": 6,
    "start_time": "2022-05-04T14:08:43.216Z"
   },
   {
    "duration": 6,
    "start_time": "2022-05-04T14:08:44.796Z"
   },
   {
    "duration": 3195,
    "start_time": "2022-05-04T14:08:50.668Z"
   },
   {
    "duration": 9,
    "start_time": "2022-05-04T14:09:09.356Z"
   },
   {
    "duration": 1541,
    "start_time": "2022-05-04T14:09:18.645Z"
   },
   {
    "duration": 23431,
    "start_time": "2022-05-04T14:10:08.078Z"
   },
   {
    "duration": 18,
    "start_time": "2022-05-04T14:10:45.131Z"
   },
   {
    "duration": 17375,
    "start_time": "2022-05-04T14:10:58.877Z"
   },
   {
    "duration": 9,
    "start_time": "2022-05-04T14:11:32.507Z"
   },
   {
    "duration": 6,
    "start_time": "2022-05-04T14:11:33.457Z"
   },
   {
    "duration": 5,
    "start_time": "2022-05-04T14:11:34.042Z"
   },
   {
    "duration": 3462,
    "start_time": "2022-05-04T14:11:35.798Z"
   },
   {
    "duration": 9,
    "start_time": "2022-05-04T14:11:40.542Z"
   },
   {
    "duration": 25788,
    "start_time": "2022-05-04T14:11:53.107Z"
   },
   {
    "duration": 19,
    "start_time": "2022-05-04T14:12:25.382Z"
   },
   {
    "duration": 20740,
    "start_time": "2022-05-04T14:12:29.965Z"
   },
   {
    "duration": 8,
    "start_time": "2022-05-04T14:13:09.409Z"
   },
   {
    "duration": 6,
    "start_time": "2022-05-04T14:13:10.553Z"
   },
   {
    "duration": 6,
    "start_time": "2022-05-04T14:13:11.753Z"
   },
   {
    "duration": 3253,
    "start_time": "2022-05-04T14:13:37.516Z"
   },
   {
    "duration": 10,
    "start_time": "2022-05-04T14:13:43.041Z"
   },
   {
    "duration": 9,
    "start_time": "2022-05-04T14:13:45.172Z"
   },
   {
    "duration": 1519,
    "start_time": "2022-05-04T14:13:52.116Z"
   },
   {
    "duration": 6,
    "start_time": "2022-05-04T14:13:58.110Z"
   },
   {
    "duration": 6,
    "start_time": "2022-05-04T14:14:00.718Z"
   },
   {
    "duration": 9,
    "start_time": "2022-05-04T14:14:05.075Z"
   },
   {
    "duration": 5,
    "start_time": "2022-05-04T14:14:08.187Z"
   },
   {
    "duration": 6,
    "start_time": "2022-05-04T14:14:08.762Z"
   },
   {
    "duration": 5,
    "start_time": "2022-05-04T14:15:36.811Z"
   },
   {
    "duration": 7,
    "start_time": "2022-05-04T14:15:37.778Z"
   },
   {
    "duration": 6,
    "start_time": "2022-05-04T14:15:38.571Z"
   },
   {
    "duration": 3748,
    "start_time": "2022-05-04T14:15:41.371Z"
   },
   {
    "duration": 11,
    "start_time": "2022-05-04T14:15:46.529Z"
   },
   {
    "duration": 1670,
    "start_time": "2022-05-04T14:15:57.911Z"
   },
   {
    "duration": 23005,
    "start_time": "2022-05-04T14:16:08.714Z"
   },
   {
    "duration": 21,
    "start_time": "2022-05-04T14:16:34.465Z"
   },
   {
    "duration": 11253,
    "start_time": "2022-05-04T14:16:47.434Z"
   },
   {
    "duration": 39,
    "start_time": "2022-05-04T15:51:31.914Z"
   },
   {
    "duration": 93732,
    "start_time": "2022-05-04T15:51:58.786Z"
   },
   {
    "duration": 79853,
    "start_time": "2022-05-04T15:54:15.155Z"
   },
   {
    "duration": 13,
    "start_time": "2022-05-04T15:56:42.679Z"
   },
   {
    "duration": 34254,
    "start_time": "2022-05-04T15:57:01.869Z"
   },
   {
    "duration": 10,
    "start_time": "2022-05-04T15:57:42.910Z"
   },
   {
    "duration": 18233,
    "start_time": "2022-05-04T15:57:47.174Z"
   },
   {
    "duration": 55039,
    "start_time": "2022-05-04T16:00:04.674Z"
   },
   {
    "duration": 129682,
    "start_time": "2022-05-04T16:01:40.769Z"
   },
   {
    "duration": 13,
    "start_time": "2022-05-04T16:05:04.320Z"
   },
   {
    "duration": 36,
    "start_time": "2022-05-04T16:14:42.406Z"
   },
   {
    "duration": 6,
    "start_time": "2022-05-04T16:15:05.514Z"
   },
   {
    "duration": 3,
    "start_time": "2022-05-04T16:18:49.354Z"
   },
   {
    "duration": 76,
    "start_time": "2022-05-04T16:22:01.802Z"
   },
   {
    "duration": 1604,
    "start_time": "2022-05-04T16:22:09.873Z"
   },
   {
    "duration": 1626,
    "start_time": "2022-05-04T16:22:18.983Z"
   },
   {
    "duration": 159,
    "start_time": "2022-05-04T16:22:21.135Z"
   },
   {
    "duration": 5,
    "start_time": "2022-05-04T16:22:29.638Z"
   },
   {
    "duration": 7,
    "start_time": "2022-05-04T16:22:31.426Z"
   },
   {
    "duration": 7,
    "start_time": "2022-05-04T16:22:33.627Z"
   },
   {
    "duration": 153,
    "start_time": "2022-05-04T16:23:31.146Z"
   },
   {
    "duration": 4488,
    "start_time": "2022-05-04T16:23:35.431Z"
   },
   {
    "duration": 11,
    "start_time": "2022-05-04T16:23:42.954Z"
   },
   {
    "duration": 22005,
    "start_time": "2022-05-04T16:25:16.076Z"
   },
   {
    "duration": 22,
    "start_time": "2022-05-04T16:25:46.824Z"
   },
   {
    "duration": 3841,
    "start_time": "2022-05-04T16:27:20.864Z"
   },
   {
    "duration": 9,
    "start_time": "2022-05-04T16:27:29.899Z"
   },
   {
    "duration": 233,
    "start_time": "2022-05-04T16:28:23.131Z"
   },
   {
    "duration": 11250,
    "start_time": "2022-05-04T16:28:28.099Z"
   },
   {
    "duration": 9,
    "start_time": "2022-05-04T16:28:45.547Z"
   },
   {
    "duration": 12,
    "start_time": "2022-05-04T16:29:45.722Z"
   },
   {
    "duration": 14634,
    "start_time": "2022-05-04T16:30:27.522Z"
   },
   {
    "duration": 0,
    "start_time": "2022-05-04T16:30:42.159Z"
   },
   {
    "duration": 4,
    "start_time": "2022-05-04T16:30:43.883Z"
   },
   {
    "duration": 84920,
    "start_time": "2022-05-04T16:30:47.593Z"
   },
   {
    "duration": 10,
    "start_time": "2022-05-04T16:32:25.831Z"
   },
   {
    "duration": 1634,
    "start_time": "2022-05-04T16:33:09.877Z"
   },
   {
    "duration": 133,
    "start_time": "2022-05-04T16:33:11.514Z"
   },
   {
    "duration": 71,
    "start_time": "2022-05-04T16:33:11.649Z"
   },
   {
    "duration": 5,
    "start_time": "2022-05-04T16:33:11.724Z"
   },
   {
    "duration": 12,
    "start_time": "2022-05-04T16:33:11.731Z"
   },
   {
    "duration": 7,
    "start_time": "2022-05-04T16:33:11.745Z"
   },
   {
    "duration": 6,
    "start_time": "2022-05-04T16:33:11.754Z"
   },
   {
    "duration": 11533,
    "start_time": "2022-05-04T16:33:11.762Z"
   },
   {
    "duration": 8,
    "start_time": "2022-05-04T16:33:23.297Z"
   },
   {
    "duration": 22943,
    "start_time": "2022-05-04T16:33:23.310Z"
   },
   {
    "duration": 20,
    "start_time": "2022-05-04T16:33:46.255Z"
   },
   {
    "duration": 76371,
    "start_time": "2022-05-04T16:33:46.293Z"
   },
   {
    "duration": 9,
    "start_time": "2022-05-04T16:35:02.667Z"
   },
   {
    "duration": 7,
    "start_time": "2022-05-04T16:35:45.244Z"
   },
   {
    "duration": 9,
    "start_time": "2022-05-04T16:35:51.047Z"
   },
   {
    "duration": 10,
    "start_time": "2022-05-04T16:35:51.931Z"
   },
   {
    "duration": 12757,
    "start_time": "2022-05-04T16:36:02.413Z"
   },
   {
    "duration": 9,
    "start_time": "2022-05-04T16:36:18.267Z"
   },
   {
    "duration": 23415,
    "start_time": "2022-05-04T16:36:25.851Z"
   },
   {
    "duration": 17,
    "start_time": "2022-05-04T16:36:59.091Z"
   },
   {
    "duration": 74380,
    "start_time": "2022-05-04T16:37:03.565Z"
   },
   {
    "duration": 9,
    "start_time": "2022-05-04T16:38:25.280Z"
   },
   {
    "duration": 18,
    "start_time": "2022-05-04T16:46:36.910Z"
   },
   {
    "duration": 16,
    "start_time": "2022-05-04T16:47:12.847Z"
   },
   {
    "duration": 22,
    "start_time": "2022-05-04T16:47:15.582Z"
   },
   {
    "duration": 10,
    "start_time": "2022-05-04T16:48:13.207Z"
   },
   {
    "duration": 20,
    "start_time": "2022-05-04T16:48:14.494Z"
   },
   {
    "duration": 9,
    "start_time": "2022-05-04T16:48:16.065Z"
   },
   {
    "duration": 11,
    "start_time": "2022-05-04T17:03:41.510Z"
   },
   {
    "duration": 16,
    "start_time": "2022-05-04T17:03:47.037Z"
   },
   {
    "duration": 13,
    "start_time": "2022-05-04T17:03:51.887Z"
   },
   {
    "duration": 1672,
    "start_time": "2022-05-04T17:18:51.709Z"
   },
   {
    "duration": 133,
    "start_time": "2022-05-04T17:18:53.384Z"
   },
   {
    "duration": 76,
    "start_time": "2022-05-04T17:18:53.520Z"
   },
   {
    "duration": 7,
    "start_time": "2022-05-04T17:18:53.599Z"
   },
   {
    "duration": 12,
    "start_time": "2022-05-04T17:18:53.611Z"
   },
   {
    "duration": 8,
    "start_time": "2022-05-04T17:18:53.625Z"
   },
   {
    "duration": 11,
    "start_time": "2022-05-04T17:18:53.635Z"
   },
   {
    "duration": 12181,
    "start_time": "2022-05-04T17:18:53.648Z"
   },
   {
    "duration": 8,
    "start_time": "2022-05-04T17:19:05.831Z"
   },
   {
    "duration": 24216,
    "start_time": "2022-05-04T17:19:05.841Z"
   },
   {
    "duration": 16,
    "start_time": "2022-05-04T17:19:30.059Z"
   },
   {
    "duration": 71097,
    "start_time": "2022-05-04T17:19:30.077Z"
   },
   {
    "duration": 19,
    "start_time": "2022-05-04T17:20:41.176Z"
   },
   {
    "duration": 15,
    "start_time": "2022-05-04T17:20:41.200Z"
   },
   {
    "duration": 16,
    "start_time": "2022-05-04T17:20:41.218Z"
   },
   {
    "duration": 10,
    "start_time": "2022-05-04T17:20:41.236Z"
   },
   {
    "duration": 70,
    "start_time": "2022-05-06T10:33:02.345Z"
   },
   {
    "duration": 1580,
    "start_time": "2022-05-06T10:33:09.406Z"
   },
   {
    "duration": 128,
    "start_time": "2022-05-06T10:33:14.460Z"
   },
   {
    "duration": 74,
    "start_time": "2022-05-06T10:33:20.611Z"
   },
   {
    "duration": 8,
    "start_time": "2022-05-06T10:33:22.428Z"
   },
   {
    "duration": 11,
    "start_time": "2022-05-06T10:34:52.310Z"
   },
   {
    "duration": 7,
    "start_time": "2022-05-06T10:35:06.444Z"
   },
   {
    "duration": 8,
    "start_time": "2022-05-06T10:35:16.125Z"
   },
   {
    "duration": 6,
    "start_time": "2022-05-06T10:35:54.357Z"
   },
   {
    "duration": 7,
    "start_time": "2022-05-06T10:36:09.196Z"
   },
   {
    "duration": 16,
    "start_time": "2022-05-06T10:37:18.205Z"
   },
   {
    "duration": 12,
    "start_time": "2022-05-06T10:37:30.076Z"
   },
   {
    "duration": 13,
    "start_time": "2022-05-06T10:37:44.172Z"
   },
   {
    "duration": 213,
    "start_time": "2022-05-06T10:38:05.108Z"
   },
   {
    "duration": 15,
    "start_time": "2022-05-06T10:38:07.467Z"
   },
   {
    "duration": 14,
    "start_time": "2022-05-06T10:38:39.867Z"
   },
   {
    "duration": 15,
    "start_time": "2022-05-06T10:39:17.643Z"
   },
   {
    "duration": 15,
    "start_time": "2022-05-06T10:39:41.412Z"
   },
   {
    "duration": 15,
    "start_time": "2022-05-06T10:39:57.867Z"
   },
   {
    "duration": 15,
    "start_time": "2022-05-06T10:40:06.092Z"
   },
   {
    "duration": 14,
    "start_time": "2022-05-06T10:40:12.242Z"
   },
   {
    "duration": 16,
    "start_time": "2022-05-06T10:40:20.634Z"
   },
   {
    "duration": 17,
    "start_time": "2022-05-06T10:40:25.676Z"
   },
   {
    "duration": 18,
    "start_time": "2022-05-06T10:40:36.147Z"
   },
   {
    "duration": 18,
    "start_time": "2022-05-06T10:40:40.971Z"
   },
   {
    "duration": 15,
    "start_time": "2022-05-06T10:41:26.875Z"
   },
   {
    "duration": 178,
    "start_time": "2022-05-06T10:53:08.326Z"
   },
   {
    "duration": 5,
    "start_time": "2022-05-06T10:53:38.583Z"
   },
   {
    "duration": 5,
    "start_time": "2022-05-06T10:54:14.812Z"
   },
   {
    "duration": 7,
    "start_time": "2022-05-06T10:54:16.259Z"
   },
   {
    "duration": 7,
    "start_time": "2022-05-06T10:54:17.228Z"
   },
   {
    "duration": 4,
    "start_time": "2022-05-06T10:54:18.675Z"
   },
   {
    "duration": 18708,
    "start_time": "2022-05-06T10:54:22.754Z"
   },
   {
    "duration": 10,
    "start_time": "2022-05-06T10:56:55.740Z"
   },
   {
    "duration": 15,
    "start_time": "2022-05-06T10:57:28.364Z"
   },
   {
    "duration": 11,
    "start_time": "2022-05-06T10:57:37.036Z"
   },
   {
    "duration": 16,
    "start_time": "2022-05-06T10:59:53.971Z"
   },
   {
    "duration": 206,
    "start_time": "2022-05-06T11:03:01.377Z"
   },
   {
    "duration": 193,
    "start_time": "2022-05-06T11:03:06.209Z"
   },
   {
    "duration": 17,
    "start_time": "2022-05-06T11:03:09.538Z"
   },
   {
    "duration": 191,
    "start_time": "2022-05-06T11:41:58.561Z"
   },
   {
    "duration": 14,
    "start_time": "2022-05-06T11:53:13.346Z"
   },
   {
    "duration": 22,
    "start_time": "2022-05-06T11:53:21.697Z"
   },
   {
    "duration": 21480,
    "start_time": "2022-05-06T11:53:31.482Z"
   },
   {
    "duration": 29,
    "start_time": "2022-05-06T11:53:52.965Z"
   },
   {
    "duration": 22,
    "start_time": "2022-05-06T11:54:05.961Z"
   },
   {
    "duration": 64949,
    "start_time": "2022-05-06T11:54:15.201Z"
   },
   {
    "duration": 16,
    "start_time": "2022-05-06T11:55:23.033Z"
   },
   {
    "duration": 10,
    "start_time": "2022-05-06T11:56:00.080Z"
   },
   {
    "duration": 13,
    "start_time": "2022-05-06T11:56:08.879Z"
   },
   {
    "duration": 18,
    "start_time": "2022-05-06T11:56:44.416Z"
   },
   {
    "duration": 16,
    "start_time": "2022-05-06T11:56:47.032Z"
   },
   {
    "duration": 11,
    "start_time": "2022-05-06T11:57:01.175Z"
   },
   {
    "duration": 11,
    "start_time": "2022-05-06T11:57:05.480Z"
   },
   {
    "duration": 24,
    "start_time": "2022-05-06T11:57:22.959Z"
   },
   {
    "duration": 11,
    "start_time": "2022-05-06T11:57:34.912Z"
   },
   {
    "duration": 12,
    "start_time": "2022-05-06T11:57:48.542Z"
   },
   {
    "duration": 14,
    "start_time": "2022-05-06T11:58:06.694Z"
   },
   {
    "duration": 13,
    "start_time": "2022-05-06T11:58:16.575Z"
   },
   {
    "duration": 35,
    "start_time": "2022-05-06T12:19:32.384Z"
   },
   {
    "duration": 32,
    "start_time": "2022-05-06T12:19:56.520Z"
   },
   {
    "duration": 122,
    "start_time": "2022-05-06T12:20:16.927Z"
   },
   {
    "duration": 9,
    "start_time": "2022-05-06T12:20:38.494Z"
   },
   {
    "duration": 11,
    "start_time": "2022-05-06T12:20:56.551Z"
   },
   {
    "duration": 11,
    "start_time": "2022-05-06T12:20:57.462Z"
   },
   {
    "duration": 14,
    "start_time": "2022-05-06T12:21:29.607Z"
   },
   {
    "duration": 15,
    "start_time": "2022-05-06T12:21:49.558Z"
   },
   {
    "duration": 11,
    "start_time": "2022-05-06T12:22:52.469Z"
   },
   {
    "duration": 15,
    "start_time": "2022-05-06T12:23:02.526Z"
   },
   {
    "duration": 14,
    "start_time": "2022-05-06T12:23:04.262Z"
   },
   {
    "duration": 288,
    "start_time": "2022-05-06T12:23:23.630Z"
   },
   {
    "duration": 15,
    "start_time": "2022-05-06T12:23:26.612Z"
   },
   {
    "duration": 15,
    "start_time": "2022-05-06T12:23:27.693Z"
   },
   {
    "duration": 123,
    "start_time": "2022-05-06T12:23:37.292Z"
   },
   {
    "duration": 15,
    "start_time": "2022-05-06T12:23:48.620Z"
   },
   {
    "duration": 168,
    "start_time": "2022-05-06T12:23:53.701Z"
   },
   {
    "duration": 15,
    "start_time": "2022-05-06T12:23:55.044Z"
   },
   {
    "duration": 170,
    "start_time": "2022-05-06T12:24:05.294Z"
   },
   {
    "duration": 173,
    "start_time": "2022-05-06T12:24:06.996Z"
   },
   {
    "duration": 134,
    "start_time": "2022-05-06T12:24:11.326Z"
   },
   {
    "duration": 176,
    "start_time": "2022-05-06T12:24:29.413Z"
   },
   {
    "duration": 15,
    "start_time": "2022-05-06T12:24:34.765Z"
   },
   {
    "duration": 142,
    "start_time": "2022-05-06T12:24:42.805Z"
   },
   {
    "duration": 20,
    "start_time": "2022-05-06T12:24:46.397Z"
   },
   {
    "duration": 16,
    "start_time": "2022-05-06T12:24:51.205Z"
   }
  ],
  "kernelspec": {
   "display_name": "Python 3 (ipykernel)",
   "language": "python",
   "name": "python3"
  },
  "language_info": {
   "codemirror_mode": {
    "name": "ipython",
    "version": 3
   },
   "file_extension": ".py",
   "mimetype": "text/x-python",
   "name": "python",
   "nbconvert_exporter": "python",
   "pygments_lexer": "ipython3",
   "version": "3.10.4"
  },
  "toc": {
   "base_numbering": 1,
   "nav_menu": {},
   "number_sections": true,
   "sideBar": true,
   "skip_h1_title": true,
   "title_cell": "Table of Contents",
   "title_sidebar": "Contents",
   "toc_cell": false,
   "toc_position": {},
   "toc_section_display": true,
   "toc_window_display": false
  }
 },
 "nbformat": 4,
 "nbformat_minor": 4
}
