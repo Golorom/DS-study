{
 "cells": [
  {
   "cell_type": "markdown",
   "metadata": {
    "toc": true
   },
   "source": [
    "<h1>Содержание<span class=\"tocSkip\"></span></h1>\n",
    "<div class=\"toc\"><ul class=\"toc-item\"><li><span><a href=\"#Подготовка-данных\" data-toc-modified-id=\"Подготовка-данных-1\"><span class=\"toc-item-num\">1&nbsp;&nbsp;</span>Подготовка данных</a></span><ul class=\"toc-item\"><li><span><a href=\"#Обзор-данных\" data-toc-modified-id=\"Обзор-данных-1.1\"><span class=\"toc-item-num\">1.1&nbsp;&nbsp;</span>Обзор данных</a></span></li><li><span><a href=\"#Предобработка-данных\" data-toc-modified-id=\"Предобработка-данных-1.2\"><span class=\"toc-item-num\">1.2&nbsp;&nbsp;</span>Предобработка данных</a></span></li><li><span><a href=\"#Вывод\" data-toc-modified-id=\"Вывод-1.3\"><span class=\"toc-item-num\">1.3&nbsp;&nbsp;</span>Вывод</a></span></li></ul></li><li><span><a href=\"#Исследование-задачи\" data-toc-modified-id=\"Исследование-задачи-2\"><span class=\"toc-item-num\">2&nbsp;&nbsp;</span>Исследование задачи</a></span><ul class=\"toc-item\"><li><span><a href=\"#Дерево-решений\" data-toc-modified-id=\"Дерево-решений-2.1\"><span class=\"toc-item-num\">2.1&nbsp;&nbsp;</span>Дерево решений</a></span></li><li><span><a href=\"#Случайный-лес\" data-toc-modified-id=\"Случайный-лес-2.2\"><span class=\"toc-item-num\">2.2&nbsp;&nbsp;</span>Случайный лес</a></span></li><li><span><a href=\"#Логистическая-регрессия\" data-toc-modified-id=\"Логистическая-регрессия-2.3\"><span class=\"toc-item-num\">2.3&nbsp;&nbsp;</span>Логистическая регрессия</a></span></li><li><span><a href=\"#Вывод\" data-toc-modified-id=\"Вывод-2.4\"><span class=\"toc-item-num\">2.4&nbsp;&nbsp;</span>Вывод</a></span></li></ul></li><li><span><a href=\"#Борьба-с-дисбалансом\" data-toc-modified-id=\"Борьба-с-дисбалансом-3\"><span class=\"toc-item-num\">3&nbsp;&nbsp;</span>Борьба с дисбалансом</a></span><ul class=\"toc-item\"><li><span><a href=\"#Увеличение-выборки\" data-toc-modified-id=\"Увеличение-выборки-3.1\"><span class=\"toc-item-num\">3.1&nbsp;&nbsp;</span>Увеличение выборки</a></span><ul class=\"toc-item\"><li><span><a href=\"#Дерево-решений-на-увеличенной-выборке\" data-toc-modified-id=\"Дерево-решений-на-увеличенной-выборке-3.1.1\"><span class=\"toc-item-num\">3.1.1&nbsp;&nbsp;</span>Дерево решений на увеличенной выборке</a></span></li><li><span><a href=\"#Случайный-лес-на-увеличенной-выборке\" data-toc-modified-id=\"Случайный-лес-на-увеличенной-выборке-3.1.2\"><span class=\"toc-item-num\">3.1.2&nbsp;&nbsp;</span>Случайный лес на увеличенной выборке</a></span></li><li><span><a href=\"#Логистическая-регрессия-на-увеличенной-выборке\" data-toc-modified-id=\"Логистическая-регрессия-на-увеличенной-выборке-3.1.3\"><span class=\"toc-item-num\">3.1.3&nbsp;&nbsp;</span>Логистическая регрессия на увеличенной выборке</a></span></li><li><span><a href=\"#Вывод\" data-toc-modified-id=\"Вывод-3.1.4\"><span class=\"toc-item-num\">3.1.4&nbsp;&nbsp;</span>Вывод</a></span></li></ul></li><li><span><a href=\"#Уменьшение-выборки\" data-toc-modified-id=\"Уменьшение-выборки-3.2\"><span class=\"toc-item-num\">3.2&nbsp;&nbsp;</span>Уменьшение выборки</a></span><ul class=\"toc-item\"><li><span><a href=\"#Дерево-решений-на-уменьшенной-выборке\" data-toc-modified-id=\"Дерево-решений-на-уменьшенной-выборке-3.2.1\"><span class=\"toc-item-num\">3.2.1&nbsp;&nbsp;</span>Дерево решений на уменьшенной выборке</a></span></li><li><span><a href=\"#Случайный-лес-на-уменьшенной-выборке\" data-toc-modified-id=\"Случайный-лес-на-уменьшенной-выборке-3.2.2\"><span class=\"toc-item-num\">3.2.2&nbsp;&nbsp;</span>Случайный лес на уменьшенной выборке</a></span></li><li><span><a href=\"#Логистическая-регрессия-на-уменьшенной-выборке\" data-toc-modified-id=\"Логистическая-регрессия-на-уменьшенной-выборке-3.2.3\"><span class=\"toc-item-num\">3.2.3&nbsp;&nbsp;</span>Логистическая регрессия на уменьшенной выборке</a></span></li><li><span><a href=\"#Вывод\" data-toc-modified-id=\"Вывод-3.2.4\"><span class=\"toc-item-num\">3.2.4&nbsp;&nbsp;</span>Вывод</a></span></li></ul></li><li><span><a href=\"#Комбинирование-увеличения-и-уменьшения-выборки\" data-toc-modified-id=\"Комбинирование-увеличения-и-уменьшения-выборки-3.3\"><span class=\"toc-item-num\">3.3&nbsp;&nbsp;</span>Комбинирование увеличения и уменьшения выборки</a></span><ul class=\"toc-item\"><li><span><a href=\"#Дерево-решений-на-комбинированной-выборке\" data-toc-modified-id=\"Дерево-решений-на-комбинированной-выборке-3.3.1\"><span class=\"toc-item-num\">3.3.1&nbsp;&nbsp;</span>Дерево решений на комбинированной выборке</a></span></li><li><span><a href=\"#Случайный-лес-на-комбинированной-выборке\" data-toc-modified-id=\"Случайный-лес-на-комбинированной-выборке-3.3.2\"><span class=\"toc-item-num\">3.3.2&nbsp;&nbsp;</span>Случайный лес на комбинированной выборке</a></span></li><li><span><a href=\"#Логистическая-регрессия-на-комбинированной-выборке\" data-toc-modified-id=\"Логистическая-регрессия-на-комбинированной-выборке-3.3.3\"><span class=\"toc-item-num\">3.3.3&nbsp;&nbsp;</span>Логистическая регрессия на комбинированной выборке</a></span></li><li><span><a href=\"#Вывод\" data-toc-modified-id=\"Вывод-3.3.4\"><span class=\"toc-item-num\">3.3.4&nbsp;&nbsp;</span>Вывод</a></span></li></ul></li><li><span><a href=\"#Вывод\" data-toc-modified-id=\"Вывод-3.4\"><span class=\"toc-item-num\">3.4&nbsp;&nbsp;</span>Вывод</a></span></li></ul></li><li><span><a href=\"#Тестирование-модели\" data-toc-modified-id=\"Тестирование-модели-4\"><span class=\"toc-item-num\">4&nbsp;&nbsp;</span>Тестирование модели</a></span><ul class=\"toc-item\"><li><span><a href=\"#Случайный-лес,-модель-увеличенной-выборки\" data-toc-modified-id=\"Случайный-лес,-модель-увеличенной-выборки-4.1\"><span class=\"toc-item-num\">4.1&nbsp;&nbsp;</span>Случайный лес, модель увеличенной выборки</a></span></li><li><span><a href=\"#Случайный-лес,-модель-уменьшенной-выборки\" data-toc-modified-id=\"Случайный-лес,-модель-уменьшенной-выборки-4.2\"><span class=\"toc-item-num\">4.2&nbsp;&nbsp;</span>Случайный лес, модель уменьшенной выборки</a></span></li><li><span><a href=\"#Случайный-лес,-модель-комбинированной-выборки\" data-toc-modified-id=\"Случайный-лес,-модель-комбинированной-выборки-4.3\"><span class=\"toc-item-num\">4.3&nbsp;&nbsp;</span>Случайный лес, модель комбинированной выборки</a></span></li><li><span><a href=\"#Проверка-на-адекватность\" data-toc-modified-id=\"Проверка-на-адекватность-4.4\"><span class=\"toc-item-num\">4.4&nbsp;&nbsp;</span>Проверка на адекватность</a></span></li><li><span><a href=\"#Вывод\" data-toc-modified-id=\"Вывод-4.5\"><span class=\"toc-item-num\">4.5&nbsp;&nbsp;</span>Вывод</a></span></li></ul></li></ul></div>"
   ]
  },
  {
   "cell_type": "markdown",
   "metadata": {},
   "source": [
    "# Отток клиентов"
   ]
  },
  {
   "cell_type": "markdown",
   "metadata": {},
   "source": [
    "**Описание проекта**\n",
    "\n",
    "Из «Бета-Банка» стали уходить клиенты. Каждый месяц. Немного, но заметно. Банковские маркетологи посчитали: сохранять текущих клиентов дешевле, чем привлекать новых.\n",
    "\n",
    "Нужно спрогнозировать, уйдёт клиент из банка в ближайшее время или нет. Вам предоставлены исторические данные о поведении клиентов и расторжении договоров с банком. \n",
    "\n",
    "**Цель проекта**\n",
    "\n",
    "Постройте модель с предельно большим значением *F1*-меры. Чтобы сдать проект успешно, нужно довести метрику до 0.59. Проверьте *F1*-меру на тестовой выборке самостоятельно.\n",
    "\n",
    "Дополнительно измеряйте *AUC-ROC*, сравнивайте её значение с *F1*-мерой.\n",
    "\n",
    "**Описание данных**\n",
    "\n",
    "`/datasets/Churn.csv` \n",
    "\n",
    "*Признаки:*\n",
    "\n",
    "- 'RowNumber' — индекс строки в данных\n",
    "- 'CustomerId' — уникальный идентификатор клиента\n",
    "- 'Surname' — фамилия\n",
    "- 'CreditScore' — кредитный рейтинг\n",
    "- 'Geography' — страна проживания\n",
    "- 'Gender' — пол\n",
    "- 'Age' — возраст\n",
    "- 'Tenure' — сколько лет человек является клиентом банка\n",
    "- 'Balance' — баланс на счёте\n",
    "- 'NumOfProducts' — количество продуктов банка, используемых клиентом\n",
    "- 'HasCrCard' — наличие кредитной карты\n",
    "- 'IsActiveMember' — активность клиента\n",
    "- 'EstimatedSalary' — предполагаемая зарплата\n",
    "\n",
    "*Целевой признак:*\n",
    "\n",
    "- 'Exited' — факт ухода клиента\n",
    "\n",
    "Источник данных: [https://www.kaggle.com/barelydedicated/bank-customer-churn-modeling](https://www.kaggle.com/barelydedicated/bank-customer-churn-modeling)"
   ]
  },
  {
   "cell_type": "code",
   "execution_count": 158,
   "metadata": {},
   "outputs": [],
   "source": [
    "# импорт библиотек\n",
    "\n",
    "import pandas as pd\n",
    "\n",
    "import numpy as np\n",
    "\n",
    "from sklearn.tree import DecisionTreeClassifier\n",
    "from sklearn.ensemble import RandomForestClassifier\n",
    "from sklearn.linear_model import LogisticRegression \n",
    "from sklearn.model_selection import train_test_split\n",
    "from sklearn.preprocessing import StandardScaler \n",
    "from sklearn.utils import shuffle\n",
    "from sklearn.metrics import f1_score\n",
    "from sklearn.metrics import roc_auc_score \n",
    "from sklearn.metrics import precision_score, recall_score"
   ]
  },
  {
   "cell_type": "code",
   "execution_count": 2,
   "metadata": {},
   "outputs": [],
   "source": [
    "# отключу предупреждения\n",
    "import warnings\n",
    "warnings.filterwarnings('ignore')"
   ]
  },
  {
   "cell_type": "markdown",
   "metadata": {},
   "source": [
    "## Подготовка данных"
   ]
  },
  {
   "cell_type": "markdown",
   "metadata": {},
   "source": [
    "### Обзор данных"
   ]
  },
  {
   "cell_type": "code",
   "execution_count": 3,
   "metadata": {
    "scrolled": true
   },
   "outputs": [
    {
     "name": "stdout",
     "output_type": "stream",
     "text": [
      "FileNotFoundError(2, 'No such file or directory')\n"
     ]
    }
   ],
   "source": [
    "try:\n",
    "    data = pd.read_csv('datasets/Churn.csv')\n",
    "except FileNotFoundError as e:\n",
    "    print(repr(e))\n",
    "    data = pd.read_csv('/datasets/Churn.csv')"
   ]
  },
  {
   "cell_type": "code",
   "execution_count": 4,
   "metadata": {},
   "outputs": [
    {
     "name": "stdout",
     "output_type": "stream",
     "text": [
      "<class 'pandas.core.frame.DataFrame'>\n",
      "RangeIndex: 10000 entries, 0 to 9999\n",
      "Data columns (total 14 columns):\n",
      " #   Column           Non-Null Count  Dtype  \n",
      "---  ------           --------------  -----  \n",
      " 0   RowNumber        10000 non-null  int64  \n",
      " 1   CustomerId       10000 non-null  int64  \n",
      " 2   Surname          10000 non-null  object \n",
      " 3   CreditScore      10000 non-null  int64  \n",
      " 4   Geography        10000 non-null  object \n",
      " 5   Gender           10000 non-null  object \n",
      " 6   Age              10000 non-null  int64  \n",
      " 7   Tenure           9091 non-null   float64\n",
      " 8   Balance          10000 non-null  float64\n",
      " 9   NumOfProducts    10000 non-null  int64  \n",
      " 10  HasCrCard        10000 non-null  int64  \n",
      " 11  IsActiveMember   10000 non-null  int64  \n",
      " 12  EstimatedSalary  10000 non-null  float64\n",
      " 13  Exited           10000 non-null  int64  \n",
      "dtypes: float64(3), int64(8), object(3)\n",
      "memory usage: 1.1+ MB\n"
     ]
    },
    {
     "data": {
      "text/html": [
       "<div>\n",
       "<style scoped>\n",
       "    .dataframe tbody tr th:only-of-type {\n",
       "        vertical-align: middle;\n",
       "    }\n",
       "\n",
       "    .dataframe tbody tr th {\n",
       "        vertical-align: top;\n",
       "    }\n",
       "\n",
       "    .dataframe thead th {\n",
       "        text-align: right;\n",
       "    }\n",
       "</style>\n",
       "<table border=\"1\" class=\"dataframe\">\n",
       "  <thead>\n",
       "    <tr style=\"text-align: right;\">\n",
       "      <th></th>\n",
       "      <th>RowNumber</th>\n",
       "      <th>CustomerId</th>\n",
       "      <th>Surname</th>\n",
       "      <th>CreditScore</th>\n",
       "      <th>Geography</th>\n",
       "      <th>Gender</th>\n",
       "      <th>Age</th>\n",
       "      <th>Tenure</th>\n",
       "      <th>Balance</th>\n",
       "      <th>NumOfProducts</th>\n",
       "      <th>HasCrCard</th>\n",
       "      <th>IsActiveMember</th>\n",
       "      <th>EstimatedSalary</th>\n",
       "      <th>Exited</th>\n",
       "    </tr>\n",
       "  </thead>\n",
       "  <tbody>\n",
       "    <tr>\n",
       "      <th>7163</th>\n",
       "      <td>7164</td>\n",
       "      <td>15649379</td>\n",
       "      <td>Somayina</td>\n",
       "      <td>850</td>\n",
       "      <td>France</td>\n",
       "      <td>Female</td>\n",
       "      <td>46</td>\n",
       "      <td>3.0</td>\n",
       "      <td>0.00</td>\n",
       "      <td>2</td>\n",
       "      <td>1</td>\n",
       "      <td>1</td>\n",
       "      <td>187980.21</td>\n",
       "      <td>0</td>\n",
       "    </tr>\n",
       "    <tr>\n",
       "      <th>5065</th>\n",
       "      <td>5066</td>\n",
       "      <td>15775709</td>\n",
       "      <td>Nucci</td>\n",
       "      <td>832</td>\n",
       "      <td>France</td>\n",
       "      <td>Female</td>\n",
       "      <td>27</td>\n",
       "      <td>10.0</td>\n",
       "      <td>98590.25</td>\n",
       "      <td>1</td>\n",
       "      <td>1</td>\n",
       "      <td>0</td>\n",
       "      <td>30912.89</td>\n",
       "      <td>0</td>\n",
       "    </tr>\n",
       "    <tr>\n",
       "      <th>9771</th>\n",
       "      <td>9772</td>\n",
       "      <td>15771323</td>\n",
       "      <td>Panicucci</td>\n",
       "      <td>480</td>\n",
       "      <td>Spain</td>\n",
       "      <td>Male</td>\n",
       "      <td>39</td>\n",
       "      <td>5.0</td>\n",
       "      <td>121626.90</td>\n",
       "      <td>1</td>\n",
       "      <td>1</td>\n",
       "      <td>1</td>\n",
       "      <td>82438.13</td>\n",
       "      <td>0</td>\n",
       "    </tr>\n",
       "    <tr>\n",
       "      <th>8859</th>\n",
       "      <td>8860</td>\n",
       "      <td>15743456</td>\n",
       "      <td>Birnie</td>\n",
       "      <td>715</td>\n",
       "      <td>France</td>\n",
       "      <td>Female</td>\n",
       "      <td>32</td>\n",
       "      <td>10.0</td>\n",
       "      <td>0.00</td>\n",
       "      <td>2</td>\n",
       "      <td>1</td>\n",
       "      <td>0</td>\n",
       "      <td>60907.49</td>\n",
       "      <td>0</td>\n",
       "    </tr>\n",
       "    <tr>\n",
       "      <th>9605</th>\n",
       "      <td>9606</td>\n",
       "      <td>15733444</td>\n",
       "      <td>Phillips</td>\n",
       "      <td>736</td>\n",
       "      <td>France</td>\n",
       "      <td>Female</td>\n",
       "      <td>29</td>\n",
       "      <td>9.0</td>\n",
       "      <td>0.00</td>\n",
       "      <td>2</td>\n",
       "      <td>0</td>\n",
       "      <td>0</td>\n",
       "      <td>176152.70</td>\n",
       "      <td>0</td>\n",
       "    </tr>\n",
       "  </tbody>\n",
       "</table>\n",
       "</div>"
      ],
      "text/plain": [
       "      RowNumber  CustomerId    Surname  CreditScore Geography  Gender  Age  \\\n",
       "7163       7164    15649379   Somayina          850    France  Female   46   \n",
       "5065       5066    15775709      Nucci          832    France  Female   27   \n",
       "9771       9772    15771323  Panicucci          480     Spain    Male   39   \n",
       "8859       8860    15743456     Birnie          715    France  Female   32   \n",
       "9605       9606    15733444   Phillips          736    France  Female   29   \n",
       "\n",
       "      Tenure    Balance  NumOfProducts  HasCrCard  IsActiveMember  \\\n",
       "7163     3.0       0.00              2          1               1   \n",
       "5065    10.0   98590.25              1          1               0   \n",
       "9771     5.0  121626.90              1          1               1   \n",
       "8859    10.0       0.00              2          1               0   \n",
       "9605     9.0       0.00              2          0               0   \n",
       "\n",
       "      EstimatedSalary  Exited  \n",
       "7163        187980.21       0  \n",
       "5065         30912.89       0  \n",
       "9771         82438.13       0  \n",
       "8859         60907.49       0  \n",
       "9605        176152.70       0  "
      ]
     },
     "metadata": {},
     "output_type": "display_data"
    },
    {
     "data": {
      "text/plain": [
       "Index(['RowNumber', 'CustomerId', 'Surname', 'CreditScore', 'Geography',\n",
       "       'Gender', 'Age', 'Tenure', 'Balance', 'NumOfProducts', 'HasCrCard',\n",
       "       'IsActiveMember', 'EstimatedSalary', 'Exited'],\n",
       "      dtype='object')"
      ]
     },
     "metadata": {},
     "output_type": "display_data"
    },
    {
     "name": "stdout",
     "output_type": "stream",
     "text": [
      "Количество явных дубликатов: 0\n"
     ]
    },
    {
     "data": {
      "text/html": [
       "<div>\n",
       "<style scoped>\n",
       "    .dataframe tbody tr th:only-of-type {\n",
       "        vertical-align: middle;\n",
       "    }\n",
       "\n",
       "    .dataframe tbody tr th {\n",
       "        vertical-align: top;\n",
       "    }\n",
       "\n",
       "    .dataframe thead th {\n",
       "        text-align: right;\n",
       "    }\n",
       "</style>\n",
       "<table border=\"1\" class=\"dataframe\">\n",
       "  <thead>\n",
       "    <tr style=\"text-align: right;\">\n",
       "      <th></th>\n",
       "      <th>count</th>\n",
       "      <th>mean</th>\n",
       "      <th>std</th>\n",
       "      <th>min</th>\n",
       "      <th>25%</th>\n",
       "      <th>50%</th>\n",
       "      <th>75%</th>\n",
       "      <th>max</th>\n",
       "    </tr>\n",
       "  </thead>\n",
       "  <tbody>\n",
       "    <tr>\n",
       "      <th>RowNumber</th>\n",
       "      <td>10000.0</td>\n",
       "      <td>5.000500e+03</td>\n",
       "      <td>2886.895680</td>\n",
       "      <td>1.00</td>\n",
       "      <td>2500.75</td>\n",
       "      <td>5.000500e+03</td>\n",
       "      <td>7.500250e+03</td>\n",
       "      <td>10000.00</td>\n",
       "    </tr>\n",
       "    <tr>\n",
       "      <th>CustomerId</th>\n",
       "      <td>10000.0</td>\n",
       "      <td>1.569094e+07</td>\n",
       "      <td>71936.186123</td>\n",
       "      <td>15565701.00</td>\n",
       "      <td>15628528.25</td>\n",
       "      <td>1.569074e+07</td>\n",
       "      <td>1.575323e+07</td>\n",
       "      <td>15815690.00</td>\n",
       "    </tr>\n",
       "    <tr>\n",
       "      <th>CreditScore</th>\n",
       "      <td>10000.0</td>\n",
       "      <td>6.505288e+02</td>\n",
       "      <td>96.653299</td>\n",
       "      <td>350.00</td>\n",
       "      <td>584.00</td>\n",
       "      <td>6.520000e+02</td>\n",
       "      <td>7.180000e+02</td>\n",
       "      <td>850.00</td>\n",
       "    </tr>\n",
       "    <tr>\n",
       "      <th>Age</th>\n",
       "      <td>10000.0</td>\n",
       "      <td>3.892180e+01</td>\n",
       "      <td>10.487806</td>\n",
       "      <td>18.00</td>\n",
       "      <td>32.00</td>\n",
       "      <td>3.700000e+01</td>\n",
       "      <td>4.400000e+01</td>\n",
       "      <td>92.00</td>\n",
       "    </tr>\n",
       "    <tr>\n",
       "      <th>Tenure</th>\n",
       "      <td>9091.0</td>\n",
       "      <td>4.997690e+00</td>\n",
       "      <td>2.894723</td>\n",
       "      <td>0.00</td>\n",
       "      <td>2.00</td>\n",
       "      <td>5.000000e+00</td>\n",
       "      <td>7.000000e+00</td>\n",
       "      <td>10.00</td>\n",
       "    </tr>\n",
       "    <tr>\n",
       "      <th>Balance</th>\n",
       "      <td>10000.0</td>\n",
       "      <td>7.648589e+04</td>\n",
       "      <td>62397.405202</td>\n",
       "      <td>0.00</td>\n",
       "      <td>0.00</td>\n",
       "      <td>9.719854e+04</td>\n",
       "      <td>1.276442e+05</td>\n",
       "      <td>250898.09</td>\n",
       "    </tr>\n",
       "    <tr>\n",
       "      <th>NumOfProducts</th>\n",
       "      <td>10000.0</td>\n",
       "      <td>1.530200e+00</td>\n",
       "      <td>0.581654</td>\n",
       "      <td>1.00</td>\n",
       "      <td>1.00</td>\n",
       "      <td>1.000000e+00</td>\n",
       "      <td>2.000000e+00</td>\n",
       "      <td>4.00</td>\n",
       "    </tr>\n",
       "    <tr>\n",
       "      <th>HasCrCard</th>\n",
       "      <td>10000.0</td>\n",
       "      <td>7.055000e-01</td>\n",
       "      <td>0.455840</td>\n",
       "      <td>0.00</td>\n",
       "      <td>0.00</td>\n",
       "      <td>1.000000e+00</td>\n",
       "      <td>1.000000e+00</td>\n",
       "      <td>1.00</td>\n",
       "    </tr>\n",
       "    <tr>\n",
       "      <th>IsActiveMember</th>\n",
       "      <td>10000.0</td>\n",
       "      <td>5.151000e-01</td>\n",
       "      <td>0.499797</td>\n",
       "      <td>0.00</td>\n",
       "      <td>0.00</td>\n",
       "      <td>1.000000e+00</td>\n",
       "      <td>1.000000e+00</td>\n",
       "      <td>1.00</td>\n",
       "    </tr>\n",
       "    <tr>\n",
       "      <th>EstimatedSalary</th>\n",
       "      <td>10000.0</td>\n",
       "      <td>1.000902e+05</td>\n",
       "      <td>57510.492818</td>\n",
       "      <td>11.58</td>\n",
       "      <td>51002.11</td>\n",
       "      <td>1.001939e+05</td>\n",
       "      <td>1.493882e+05</td>\n",
       "      <td>199992.48</td>\n",
       "    </tr>\n",
       "    <tr>\n",
       "      <th>Exited</th>\n",
       "      <td>10000.0</td>\n",
       "      <td>2.037000e-01</td>\n",
       "      <td>0.402769</td>\n",
       "      <td>0.00</td>\n",
       "      <td>0.00</td>\n",
       "      <td>0.000000e+00</td>\n",
       "      <td>0.000000e+00</td>\n",
       "      <td>1.00</td>\n",
       "    </tr>\n",
       "  </tbody>\n",
       "</table>\n",
       "</div>"
      ],
      "text/plain": [
       "                   count          mean           std          min  \\\n",
       "RowNumber        10000.0  5.000500e+03   2886.895680         1.00   \n",
       "CustomerId       10000.0  1.569094e+07  71936.186123  15565701.00   \n",
       "CreditScore      10000.0  6.505288e+02     96.653299       350.00   \n",
       "Age              10000.0  3.892180e+01     10.487806        18.00   \n",
       "Tenure            9091.0  4.997690e+00      2.894723         0.00   \n",
       "Balance          10000.0  7.648589e+04  62397.405202         0.00   \n",
       "NumOfProducts    10000.0  1.530200e+00      0.581654         1.00   \n",
       "HasCrCard        10000.0  7.055000e-01      0.455840         0.00   \n",
       "IsActiveMember   10000.0  5.151000e-01      0.499797         0.00   \n",
       "EstimatedSalary  10000.0  1.000902e+05  57510.492818        11.58   \n",
       "Exited           10000.0  2.037000e-01      0.402769         0.00   \n",
       "\n",
       "                         25%           50%           75%          max  \n",
       "RowNumber            2500.75  5.000500e+03  7.500250e+03     10000.00  \n",
       "CustomerId       15628528.25  1.569074e+07  1.575323e+07  15815690.00  \n",
       "CreditScore           584.00  6.520000e+02  7.180000e+02       850.00  \n",
       "Age                    32.00  3.700000e+01  4.400000e+01        92.00  \n",
       "Tenure                  2.00  5.000000e+00  7.000000e+00        10.00  \n",
       "Balance                 0.00  9.719854e+04  1.276442e+05    250898.09  \n",
       "NumOfProducts           1.00  1.000000e+00  2.000000e+00         4.00  \n",
       "HasCrCard               0.00  1.000000e+00  1.000000e+00         1.00  \n",
       "IsActiveMember          0.00  1.000000e+00  1.000000e+00         1.00  \n",
       "EstimatedSalary     51002.11  1.001939e+05  1.493882e+05    199992.48  \n",
       "Exited                  0.00  0.000000e+00  0.000000e+00         1.00  "
      ]
     },
     "execution_count": 4,
     "metadata": {},
     "output_type": "execute_result"
    }
   ],
   "source": [
    "# получаю общую сводку\n",
    "data.info()\n",
    "\n",
    "# проверю на корректный вывод\n",
    "display(data.sample(5))\n",
    "\n",
    "# проверяю имена колонок на пробелы\n",
    "display(data.columns)\n",
    "\n",
    "# проверю на явные дубликаты\n",
    "print(f'Количество явных дубликатов: {data.duplicated().sum()}')\n",
    "\n",
    "# описание\n",
    "data.describe().T"
   ]
  },
  {
   "cell_type": "code",
   "execution_count": 5,
   "metadata": {},
   "outputs": [
    {
     "data": {
      "text/plain": [
       "('Доля пропусков в признаке Tenure от общего количества строк:', 0.0909)"
      ]
     },
     "execution_count": 5,
     "metadata": {},
     "output_type": "execute_result"
    }
   ],
   "source": [
    "'Доля пропусков в признаке Tenure от общего количества строк:', data.Tenure.isna().mean()"
   ]
  },
  {
   "cell_type": "code",
   "execution_count": 6,
   "metadata": {},
   "outputs": [
    {
     "name": "stdout",
     "output_type": "stream",
     "text": [
      "Количество классов в целевом признаке: \n",
      "\n",
      "0    7963\n",
      "1    2037\n",
      "Name: Exited, dtype: int64\n",
      "\n",
      " ////////////////////////// \n",
      "\n",
      "В процентном соотношении:\n"
     ]
    },
    {
     "data": {
      "text/plain": [
       "0    79.63\n",
       "1    20.37\n",
       "Name: Exited, dtype: float64"
      ]
     },
     "execution_count": 6,
     "metadata": {},
     "output_type": "execute_result"
    }
   ],
   "source": [
    "print('Количество классов в целевом признаке: \\n')\n",
    "print(data.Exited.value_counts())\n",
    "\n",
    "print('\\n ////////////////////////// \\n')\n",
    "\n",
    "print('В процентном соотношении:')\n",
    "data.Exited.value_counts().div(\n",
    "    data.Exited.value_counts().sum()\n",
    ").mul(100).round(2)"
   ]
  },
  {
   "cell_type": "markdown",
   "metadata": {},
   "source": [
    "Предварительные замечания:\n",
    "- Признаки ['RowNumber', 'CustomerId', 'Surname'] не требуются для обучения модели;\n",
    "- Названия признаков следует привести к нижнему регистру, для удобства работы;\n",
    "- Пропуски в признаке ['Tenure'], 9.09% от общего количества строк;\n",
    "- Тип данных ['Tenure'] - float. Можно исопльзовать integer;\n",
    "- Дисбаланс классов, соотношение приближено к 4:1."
   ]
  },
  {
   "cell_type": "markdown",
   "metadata": {},
   "source": [
    "### Предобработка данных"
   ]
  },
  {
   "cell_type": "markdown",
   "metadata": {},
   "source": [
    "Проведу базовую очистку данных на основе предварительных замечаний."
   ]
  },
  {
   "cell_type": "code",
   "execution_count": 7,
   "metadata": {},
   "outputs": [
    {
     "data": {
      "text/plain": [
       "Index(['creditscore', 'geography', 'gender', 'age', 'tenure', 'balance',\n",
       "       'numofproducts', 'hascrcard', 'isactivemember', 'estimatedsalary',\n",
       "       'exited'],\n",
       "      dtype='object')"
      ]
     },
     "execution_count": 7,
     "metadata": {},
     "output_type": "execute_result"
    }
   ],
   "source": [
    "# избавлюсь от первых трех колонок, приведу оставшиеся к нижнему регистру\n",
    "data.drop(data.columns[[0,1,2]], axis=1, inplace=True)\n",
    "data.columns = data.columns.str.lower()\n",
    "\n",
    "# проверю результат\n",
    "data.columns"
   ]
  },
  {
   "cell_type": "code",
   "execution_count": 8,
   "metadata": {},
   "outputs": [],
   "source": [
    "# прставлю разделители\n",
    "data.columns = ['credit_score', 'geography',\n",
    "       'gender', 'age', 'tenure', 'balance', 'num_of_products', 'has_crcard',\n",
    "       'is_active_member', 'estimated_salary', 'exited']"
   ]
  },
  {
   "cell_type": "code",
   "execution_count": 9,
   "metadata": {},
   "outputs": [
    {
     "data": {
      "text/plain": [
       "0"
      ]
     },
     "execution_count": 9,
     "metadata": {},
     "output_type": "execute_result"
    }
   ],
   "source": [
    "# так как не к чему привязать значения tenure - просто заполню пропуски средним\n",
    "data.tenure.fillna(data.tenure.mean().round(), inplace=True)\n",
    "\n",
    "data.tenure.isna().sum()"
   ]
  },
  {
   "cell_type": "code",
   "execution_count": 10,
   "metadata": {},
   "outputs": [],
   "source": [
    "# поменяю тип данных признака tenure\n",
    "data['tenure'] = data['tenure'].astype('int32')"
   ]
  },
  {
   "cell_type": "markdown",
   "metadata": {},
   "source": [
    "Применю техники преобразования данных в форму подходящую алгоритмам машинного обучения. \n",
    "\n",
    "Так как я планирую исопльзовать модели Дерева Решений и Случайного леса, то для обработк категориальных признаков использую технику прямого кодирования (One-hot Encoding)."
   ]
  },
  {
   "cell_type": "code",
   "execution_count": 11,
   "metadata": {},
   "outputs": [],
   "source": [
    "# использую drop_first=True чтобы избежать дамми-ловушки\n",
    "data_ohe = pd.get_dummies(data, drop_first=True)\n",
    "target = data_ohe['exited']\n",
    "features = data_ohe.drop('exited', axis=1)"
   ]
  },
  {
   "cell_type": "code",
   "execution_count": 12,
   "metadata": {
    "scrolled": true
   },
   "outputs": [
    {
     "data": {
      "text/html": [
       "<div>\n",
       "<style scoped>\n",
       "    .dataframe tbody tr th:only-of-type {\n",
       "        vertical-align: middle;\n",
       "    }\n",
       "\n",
       "    .dataframe tbody tr th {\n",
       "        vertical-align: top;\n",
       "    }\n",
       "\n",
       "    .dataframe thead th {\n",
       "        text-align: right;\n",
       "    }\n",
       "</style>\n",
       "<table border=\"1\" class=\"dataframe\">\n",
       "  <thead>\n",
       "    <tr style=\"text-align: right;\">\n",
       "      <th></th>\n",
       "      <th>credit_score</th>\n",
       "      <th>age</th>\n",
       "      <th>tenure</th>\n",
       "      <th>balance</th>\n",
       "      <th>num_of_products</th>\n",
       "      <th>has_crcard</th>\n",
       "      <th>is_active_member</th>\n",
       "      <th>estimated_salary</th>\n",
       "      <th>geography_Germany</th>\n",
       "      <th>geography_Spain</th>\n",
       "      <th>gender_Male</th>\n",
       "    </tr>\n",
       "  </thead>\n",
       "  <tbody>\n",
       "    <tr>\n",
       "      <th>8731</th>\n",
       "      <td>727</td>\n",
       "      <td>41</td>\n",
       "      <td>10</td>\n",
       "      <td>0.00</td>\n",
       "      <td>2</td>\n",
       "      <td>0</td>\n",
       "      <td>1</td>\n",
       "      <td>47468.56</td>\n",
       "      <td>0</td>\n",
       "      <td>1</td>\n",
       "      <td>0</td>\n",
       "    </tr>\n",
       "    <tr>\n",
       "      <th>1964</th>\n",
       "      <td>800</td>\n",
       "      <td>40</td>\n",
       "      <td>5</td>\n",
       "      <td>97764.41</td>\n",
       "      <td>1</td>\n",
       "      <td>1</td>\n",
       "      <td>0</td>\n",
       "      <td>98640.15</td>\n",
       "      <td>0</td>\n",
       "      <td>0</td>\n",
       "      <td>0</td>\n",
       "    </tr>\n",
       "    <tr>\n",
       "      <th>5727</th>\n",
       "      <td>535</td>\n",
       "      <td>38</td>\n",
       "      <td>8</td>\n",
       "      <td>127475.24</td>\n",
       "      <td>1</td>\n",
       "      <td>0</td>\n",
       "      <td>0</td>\n",
       "      <td>60775.76</td>\n",
       "      <td>1</td>\n",
       "      <td>0</td>\n",
       "      <td>1</td>\n",
       "    </tr>\n",
       "    <tr>\n",
       "      <th>1667</th>\n",
       "      <td>606</td>\n",
       "      <td>46</td>\n",
       "      <td>5</td>\n",
       "      <td>0.00</td>\n",
       "      <td>2</td>\n",
       "      <td>1</td>\n",
       "      <td>1</td>\n",
       "      <td>183717.94</td>\n",
       "      <td>0</td>\n",
       "      <td>1</td>\n",
       "      <td>0</td>\n",
       "    </tr>\n",
       "    <tr>\n",
       "      <th>8313</th>\n",
       "      <td>639</td>\n",
       "      <td>38</td>\n",
       "      <td>5</td>\n",
       "      <td>0.00</td>\n",
       "      <td>1</td>\n",
       "      <td>1</td>\n",
       "      <td>0</td>\n",
       "      <td>42862.82</td>\n",
       "      <td>0</td>\n",
       "      <td>0</td>\n",
       "      <td>1</td>\n",
       "    </tr>\n",
       "    <tr>\n",
       "      <th>2566</th>\n",
       "      <td>660</td>\n",
       "      <td>29</td>\n",
       "      <td>6</td>\n",
       "      <td>180520.29</td>\n",
       "      <td>1</td>\n",
       "      <td>1</td>\n",
       "      <td>1</td>\n",
       "      <td>123850.58</td>\n",
       "      <td>1</td>\n",
       "      <td>0</td>\n",
       "      <td>0</td>\n",
       "    </tr>\n",
       "    <tr>\n",
       "      <th>8838</th>\n",
       "      <td>558</td>\n",
       "      <td>33</td>\n",
       "      <td>0</td>\n",
       "      <td>108477.49</td>\n",
       "      <td>1</td>\n",
       "      <td>1</td>\n",
       "      <td>1</td>\n",
       "      <td>109096.71</td>\n",
       "      <td>0</td>\n",
       "      <td>0</td>\n",
       "      <td>1</td>\n",
       "    </tr>\n",
       "    <tr>\n",
       "      <th>1530</th>\n",
       "      <td>611</td>\n",
       "      <td>26</td>\n",
       "      <td>2</td>\n",
       "      <td>107508.93</td>\n",
       "      <td>2</td>\n",
       "      <td>1</td>\n",
       "      <td>1</td>\n",
       "      <td>120801.65</td>\n",
       "      <td>0</td>\n",
       "      <td>0</td>\n",
       "      <td>0</td>\n",
       "    </tr>\n",
       "    <tr>\n",
       "      <th>2611</th>\n",
       "      <td>566</td>\n",
       "      <td>42</td>\n",
       "      <td>3</td>\n",
       "      <td>108010.78</td>\n",
       "      <td>1</td>\n",
       "      <td>1</td>\n",
       "      <td>1</td>\n",
       "      <td>157486.10</td>\n",
       "      <td>0</td>\n",
       "      <td>0</td>\n",
       "      <td>1</td>\n",
       "    </tr>\n",
       "    <tr>\n",
       "      <th>9679</th>\n",
       "      <td>472</td>\n",
       "      <td>19</td>\n",
       "      <td>9</td>\n",
       "      <td>0.00</td>\n",
       "      <td>2</td>\n",
       "      <td>1</td>\n",
       "      <td>0</td>\n",
       "      <td>3453.40</td>\n",
       "      <td>0</td>\n",
       "      <td>0</td>\n",
       "      <td>1</td>\n",
       "    </tr>\n",
       "  </tbody>\n",
       "</table>\n",
       "</div>"
      ],
      "text/plain": [
       "      credit_score  age  tenure    balance  num_of_products  has_crcard  \\\n",
       "8731           727   41      10       0.00                2           0   \n",
       "1964           800   40       5   97764.41                1           1   \n",
       "5727           535   38       8  127475.24                1           0   \n",
       "1667           606   46       5       0.00                2           1   \n",
       "8313           639   38       5       0.00                1           1   \n",
       "2566           660   29       6  180520.29                1           1   \n",
       "8838           558   33       0  108477.49                1           1   \n",
       "1530           611   26       2  107508.93                2           1   \n",
       "2611           566   42       3  108010.78                1           1   \n",
       "9679           472   19       9       0.00                2           1   \n",
       "\n",
       "      is_active_member  estimated_salary  geography_Germany  geography_Spain  \\\n",
       "8731                 1          47468.56                  0                1   \n",
       "1964                 0          98640.15                  0                0   \n",
       "5727                 0          60775.76                  1                0   \n",
       "1667                 1         183717.94                  0                1   \n",
       "8313                 0          42862.82                  0                0   \n",
       "2566                 1         123850.58                  1                0   \n",
       "8838                 1         109096.71                  0                0   \n",
       "1530                 1         120801.65                  0                0   \n",
       "2611                 1         157486.10                  0                0   \n",
       "9679                 0           3453.40                  0                0   \n",
       "\n",
       "      gender_Male  \n",
       "8731            0  \n",
       "1964            0  \n",
       "5727            1  \n",
       "1667            0  \n",
       "8313            1  \n",
       "2566            0  \n",
       "8838            1  \n",
       "1530            0  \n",
       "2611            1  \n",
       "9679            1  "
      ]
     },
     "execution_count": 12,
     "metadata": {},
     "output_type": "execute_result"
    }
   ],
   "source": [
    "features.sample(10)"
   ]
  },
  {
   "cell_type": "markdown",
   "metadata": {},
   "source": [
    "Разобью данные да обучающую, валидационную и тестовую выборки в соотношении 6:2:2."
   ]
  },
  {
   "cell_type": "code",
   "execution_count": 15,
   "metadata": {},
   "outputs": [],
   "source": [
    "# для фиксации результата использую число 568702396, полученное генератором случайных чисел\n",
    "features_train, features_valid, target_train, target_valid = train_test_split(\n",
    "    features,\n",
    "    target,\n",
    "    test_size=0.4,\n",
    "    random_state=568702396\n",
    ")"
   ]
  },
  {
   "cell_type": "code",
   "execution_count": 16,
   "metadata": {},
   "outputs": [],
   "source": [
    "# воспользуюсь тем же методом для разделения валидационной и тестовой выборок\n",
    "features_test, features_valid, target_test, target_valid = train_test_split(\n",
    "    features_valid,\n",
    "    target_valid,\n",
    "    test_size=0.5,\n",
    "    random_state=568702396\n",
    ")"
   ]
  },
  {
   "cell_type": "markdown",
   "metadata": {},
   "source": [
    "Масштаб признаков значительно различается. Использую метод стандартизации данных."
   ]
  },
  {
   "cell_type": "code",
   "execution_count": 17,
   "metadata": {},
   "outputs": [],
   "source": [
    "# выделю признаки нуждающиеся в стандартизации\n",
    "numeric = ['credit_score', 'age', 'balance', 'estimated_salary']\n",
    "\n",
    "# обучу метод на тренировочный выборке\n",
    "scaler = StandardScaler()\n",
    "scaler.fit(features_train[numeric]) \n",
    "\n",
    "# применю метод к тренировочной и тестовой выборкам\n",
    "features_train[numeric] = scaler.transform(features_train[numeric])\n",
    "features_valid[numeric] = scaler.transform(features_valid[numeric])\n",
    "features_test[numeric] = scaler.transform(features_test[numeric])"
   ]
  },
  {
   "cell_type": "code",
   "execution_count": 18,
   "metadata": {},
   "outputs": [
    {
     "data": {
      "text/html": [
       "<div>\n",
       "<style scoped>\n",
       "    .dataframe tbody tr th:only-of-type {\n",
       "        vertical-align: middle;\n",
       "    }\n",
       "\n",
       "    .dataframe tbody tr th {\n",
       "        vertical-align: top;\n",
       "    }\n",
       "\n",
       "    .dataframe thead th {\n",
       "        text-align: right;\n",
       "    }\n",
       "</style>\n",
       "<table border=\"1\" class=\"dataframe\">\n",
       "  <thead>\n",
       "    <tr style=\"text-align: right;\">\n",
       "      <th></th>\n",
       "      <th>credit_score</th>\n",
       "      <th>age</th>\n",
       "      <th>tenure</th>\n",
       "      <th>balance</th>\n",
       "      <th>num_of_products</th>\n",
       "      <th>has_crcard</th>\n",
       "      <th>is_active_member</th>\n",
       "      <th>estimated_salary</th>\n",
       "      <th>geography_Germany</th>\n",
       "      <th>geography_Spain</th>\n",
       "      <th>gender_Male</th>\n",
       "    </tr>\n",
       "  </thead>\n",
       "  <tbody>\n",
       "    <tr>\n",
       "      <th>2589</th>\n",
       "      <td>1.327863</td>\n",
       "      <td>0.462217</td>\n",
       "      <td>8</td>\n",
       "      <td>0.755387</td>\n",
       "      <td>1</td>\n",
       "      <td>1</td>\n",
       "      <td>0</td>\n",
       "      <td>0.760018</td>\n",
       "      <td>0</td>\n",
       "      <td>0</td>\n",
       "      <td>1</td>\n",
       "    </tr>\n",
       "    <tr>\n",
       "      <th>9513</th>\n",
       "      <td>-1.396872</td>\n",
       "      <td>0.841018</td>\n",
       "      <td>5</td>\n",
       "      <td>0.844233</td>\n",
       "      <td>1</td>\n",
       "      <td>0</td>\n",
       "      <td>1</td>\n",
       "      <td>0.819932</td>\n",
       "      <td>0</td>\n",
       "      <td>0</td>\n",
       "      <td>1</td>\n",
       "    </tr>\n",
       "    <tr>\n",
       "      <th>5592</th>\n",
       "      <td>-0.764899</td>\n",
       "      <td>-1.905292</td>\n",
       "      <td>6</td>\n",
       "      <td>-1.236677</td>\n",
       "      <td>2</td>\n",
       "      <td>0</td>\n",
       "      <td>0</td>\n",
       "      <td>-0.489678</td>\n",
       "      <td>0</td>\n",
       "      <td>1</td>\n",
       "      <td>1</td>\n",
       "    </tr>\n",
       "    <tr>\n",
       "      <th>4818</th>\n",
       "      <td>1.058497</td>\n",
       "      <td>-0.295386</td>\n",
       "      <td>1</td>\n",
       "      <td>0.159913</td>\n",
       "      <td>1</td>\n",
       "      <td>1</td>\n",
       "      <td>1</td>\n",
       "      <td>0.081159</td>\n",
       "      <td>0</td>\n",
       "      <td>0</td>\n",
       "      <td>0</td>\n",
       "    </tr>\n",
       "    <tr>\n",
       "      <th>5330</th>\n",
       "      <td>-0.350491</td>\n",
       "      <td>-0.958289</td>\n",
       "      <td>9</td>\n",
       "      <td>-1.236677</td>\n",
       "      <td>1</td>\n",
       "      <td>1</td>\n",
       "      <td>1</td>\n",
       "      <td>1.149344</td>\n",
       "      <td>0</td>\n",
       "      <td>0</td>\n",
       "      <td>1</td>\n",
       "    </tr>\n",
       "    <tr>\n",
       "      <th>5251</th>\n",
       "      <td>-0.319410</td>\n",
       "      <td>-0.011285</td>\n",
       "      <td>5</td>\n",
       "      <td>-1.236677</td>\n",
       "      <td>2</td>\n",
       "      <td>1</td>\n",
       "      <td>1</td>\n",
       "      <td>1.001507</td>\n",
       "      <td>0</td>\n",
       "      <td>0</td>\n",
       "      <td>1</td>\n",
       "    </tr>\n",
       "    <tr>\n",
       "      <th>2557</th>\n",
       "      <td>1.939115</td>\n",
       "      <td>-1.242390</td>\n",
       "      <td>4</td>\n",
       "      <td>0.209163</td>\n",
       "      <td>2</td>\n",
       "      <td>1</td>\n",
       "      <td>0</td>\n",
       "      <td>1.296363</td>\n",
       "      <td>0</td>\n",
       "      <td>0</td>\n",
       "      <td>1</td>\n",
       "    </tr>\n",
       "    <tr>\n",
       "      <th>9883</th>\n",
       "      <td>0.291842</td>\n",
       "      <td>0.178116</td>\n",
       "      <td>2</td>\n",
       "      <td>1.144982</td>\n",
       "      <td>1</td>\n",
       "      <td>1</td>\n",
       "      <td>0</td>\n",
       "      <td>-1.497602</td>\n",
       "      <td>0</td>\n",
       "      <td>0</td>\n",
       "      <td>1</td>\n",
       "    </tr>\n",
       "    <tr>\n",
       "      <th>4289</th>\n",
       "      <td>0.840933</td>\n",
       "      <td>-0.200686</td>\n",
       "      <td>1</td>\n",
       "      <td>0.836907</td>\n",
       "      <td>1</td>\n",
       "      <td>1</td>\n",
       "      <td>1</td>\n",
       "      <td>1.386997</td>\n",
       "      <td>0</td>\n",
       "      <td>1</td>\n",
       "      <td>0</td>\n",
       "    </tr>\n",
       "    <tr>\n",
       "      <th>3801</th>\n",
       "      <td>0.509406</td>\n",
       "      <td>-0.768888</td>\n",
       "      <td>6</td>\n",
       "      <td>0.604693</td>\n",
       "      <td>1</td>\n",
       "      <td>0</td>\n",
       "      <td>0</td>\n",
       "      <td>0.654442</td>\n",
       "      <td>0</td>\n",
       "      <td>1</td>\n",
       "      <td>1</td>\n",
       "    </tr>\n",
       "  </tbody>\n",
       "</table>\n",
       "</div>"
      ],
      "text/plain": [
       "      credit_score       age  tenure   balance  num_of_products  has_crcard  \\\n",
       "2589      1.327863  0.462217       8  0.755387                1           1   \n",
       "9513     -1.396872  0.841018       5  0.844233                1           0   \n",
       "5592     -0.764899 -1.905292       6 -1.236677                2           0   \n",
       "4818      1.058497 -0.295386       1  0.159913                1           1   \n",
       "5330     -0.350491 -0.958289       9 -1.236677                1           1   \n",
       "5251     -0.319410 -0.011285       5 -1.236677                2           1   \n",
       "2557      1.939115 -1.242390       4  0.209163                2           1   \n",
       "9883      0.291842  0.178116       2  1.144982                1           1   \n",
       "4289      0.840933 -0.200686       1  0.836907                1           1   \n",
       "3801      0.509406 -0.768888       6  0.604693                1           0   \n",
       "\n",
       "      is_active_member  estimated_salary  geography_Germany  geography_Spain  \\\n",
       "2589                 0          0.760018                  0                0   \n",
       "9513                 1          0.819932                  0                0   \n",
       "5592                 0         -0.489678                  0                1   \n",
       "4818                 1          0.081159                  0                0   \n",
       "5330                 1          1.149344                  0                0   \n",
       "5251                 1          1.001507                  0                0   \n",
       "2557                 0          1.296363                  0                0   \n",
       "9883                 0         -1.497602                  0                0   \n",
       "4289                 1          1.386997                  0                1   \n",
       "3801                 0          0.654442                  0                1   \n",
       "\n",
       "      gender_Male  \n",
       "2589            1  \n",
       "9513            1  \n",
       "5592            1  \n",
       "4818            0  \n",
       "5330            1  \n",
       "5251            1  \n",
       "2557            1  \n",
       "9883            1  \n",
       "4289            0  \n",
       "3801            1  "
      ]
     },
     "execution_count": 18,
     "metadata": {},
     "output_type": "execute_result"
    }
   ],
   "source": [
    "features_train.sample(10)"
   ]
  },
  {
   "cell_type": "markdown",
   "metadata": {},
   "source": [
    "### Вывод"
   ]
  },
  {
   "cell_type": "markdown",
   "metadata": {},
   "source": [
    "По итогам предобработки:\n",
    "- Отброшены не требующиеся для обучения признаки ['RowNumber', 'CustomerId', 'Surname'];\n",
    "- Названия столбцов приведены к единому виду;\n",
    "- Пропущенные значения признака tenure заполнены средним значением по признаку;\n",
    "- Выбрана техника OHE, категориальыне признаки приведены к виду пригодному для алгоритмов ML;\n",
    "- Получены обучающая, валидационная и тестовая выборки;\n",
    "- Стандартизированы количественные признаки с выделяющимся масштабом. \n",
    "\n",
    "Подготовка данных завершена. Проблема дисбаланса будет исследована после построения модели на исходных данных."
   ]
  },
  {
   "cell_type": "markdown",
   "metadata": {},
   "source": [
    "## Исследование задачи"
   ]
  },
  {
   "cell_type": "markdown",
   "metadata": {},
   "source": [
    "Цель - простроение модели на основании исторических данных банка, способной спрогнозировать уход клиента на основании его данных.\n",
    "\n",
    "В задании дано требование достижения моделью минимального значения F1-меры равной или более 0.59.\n",
    "Допонительно требуется измерять AUC-ROC с целью сравнения с F1-мерой.\n",
    "\n",
    "Для решения задачи воспользуюсь моделями Дерева Решений, Случайного Леса и Логистической Регрессии.\n",
    "\n",
    "Первые модели построю без учета дисбаланса классов. Затем применю методы устранения дисбаланса и буду работать над улучшением моделей до приемлемых показателей.\n",
    "\n",
    "Для данного проекта не стану использовать метод GridSearch CV, соберу простые циклы."
   ]
  },
  {
   "cell_type": "markdown",
   "metadata": {},
   "source": [
    "### Дерево решений"
   ]
  },
  {
   "cell_type": "code",
   "execution_count": 56,
   "metadata": {
    "scrolled": true
   },
   "outputs": [
    {
     "name": "stdout",
     "output_type": "stream",
     "text": [
      "Максимальное достигнутое значение f1-меры: 0.5688073394495413, при параметрах:\n",
      "- критерион - entropy;\n",
      "- глубина дерева решений = 5;\n",
      "- минимальное количество примеров для разделения: 2;\n",
      "- минимальное количество выборок для листового узла: 3.\n"
     ]
    }
   ],
   "source": [
    "best_criteria = 0\n",
    "best_depth = 0\n",
    "best_split = 0\n",
    "best_leaf = 0\n",
    "best_f1 = 0\n",
    "\n",
    "criteria = ['gini', 'entropy']\n",
    "\n",
    "for i in range(len(criteria)):\n",
    "    for depth in range(2, 6):\n",
    "        for split in range(2, 6):\n",
    "            for leaf in range(2, 6):\n",
    "                model_tree = DecisionTreeClassifier(\n",
    "                    random_state=568702396,\n",
    "                    criterion=criteria[i],\n",
    "                    max_depth=depth,\n",
    "                    min_samples_split=split,\n",
    "                    min_samples_leaf=leaf)\n",
    "                \n",
    "                model_tree.fit(features_train, target_train)\n",
    "                predictions_valid = model_tree.predict(features_valid)\n",
    "                \n",
    "                f1 = f1_score(target_valid, predictions_valid)\n",
    "                if f1 > best_f1:\n",
    "                    best_f1 = f1\n",
    "                    best_criteria = criteria[i]\n",
    "                    best_depth = depth\n",
    "                    best_split = split\n",
    "                    best_leaf = leaf\n",
    "                    \n",
    "                \n",
    "print(f'Максимальное достигнутое значение f1-меры: {best_f1}, при параметрах:')\n",
    "print(f'- критерион - {best_criteria};')\n",
    "print(f'- глубина дерева решений = {best_depth};')\n",
    "print(f'- минимальное количество примеров для разделения: {best_split};')\n",
    "print(f'- минимальное количество выборок для листового узла: {best_leaf}.')"
   ]
  },
  {
   "cell_type": "markdown",
   "metadata": {},
   "source": [
    "Сравню полученное значение f1-меры с показателем AUC-ROC."
   ]
  },
  {
   "cell_type": "code",
   "execution_count": 45,
   "metadata": {},
   "outputs": [
    {
     "data": {
      "text/plain": [
       "0.837880834529837"
      ]
     },
     "execution_count": 45,
     "metadata": {},
     "output_type": "execute_result"
    }
   ],
   "source": [
    "probabilities_valid = model_tree.predict_proba(features_valid)\n",
    "probabilities_one_valid = probabilities_valid[:, 1]\n",
    "\n",
    "auc_roc = roc_auc_score(target_valid, probabilities_one_valid)\n",
    "\n",
    "auc_roc"
   ]
  },
  {
   "cell_type": "markdown",
   "metadata": {},
   "source": [
    "### Случайный лес"
   ]
  },
  {
   "cell_type": "code",
   "execution_count": 57,
   "metadata": {},
   "outputs": [
    {
     "name": "stdout",
     "output_type": "stream",
     "text": [
      "Максимальное достигнутое значение f1-меры: 0.5718390804597702 при модели:\n",
      "- количество деревьев: 2;\n",
      "- критерион - entropy;\n",
      "- глубина дерева решений: 5;\n",
      "- минимальное количество выборок для листового узла: 5.\n"
     ]
    }
   ],
   "source": [
    "best_criteria = 0\n",
    "best_depth = 0\n",
    "best_est = 0\n",
    "best_leaf = 0\n",
    "best_f1 = 0\n",
    "\n",
    "criteria = ['gini', 'entropy']\n",
    "\n",
    "for i in range(len(criteria)):\n",
    "    for est in range(2, 53, 5):\n",
    "        for depth in range(2, 6):\n",
    "            for leaf in range(2, 6):\n",
    "               model_forest = RandomForestClassifier(\n",
    "                   random_state=568702396,\n",
    "                   criterion=criteria[i],\n",
    "                   max_depth=depth,\n",
    "                   n_estimators=est,\n",
    "                   min_samples_leaf=leaf) \n",
    "               \n",
    "               model_forest.fit(features_train, target_train)\n",
    "               predictions_valid = model_forest.predict(features_valid)\n",
    "               \n",
    "               f1 = f1_score(target_valid, predictions_valid)\n",
    "               if f1 > best_f1:\n",
    "                   best_f1 = f1\n",
    "                   best_criteria = criteria[i]\n",
    "                   best_depth = depth\n",
    "                   best_est = est\n",
    "                   best_leaf = leaf\n",
    "\n",
    "print(f'Максимальное достигнутое значение f1-меры: {best_f1} при модели:')\n",
    "print(f'- количество деревьев: {best_est};')\n",
    "print(f'- критерион - {best_criteria};')\n",
    "print(f'- глубина дерева решений: {best_depth};')\n",
    "print(f'- минимальное количество выборок для листового узла: {best_leaf}.')"
   ]
  },
  {
   "cell_type": "markdown",
   "metadata": {},
   "source": [
    "Сравню полученное значение f1-меры с показателем AUC-ROC."
   ]
  },
  {
   "cell_type": "code",
   "execution_count": 44,
   "metadata": {},
   "outputs": [
    {
     "data": {
      "text/plain": [
       "0.8462256605959847"
      ]
     },
     "execution_count": 44,
     "metadata": {},
     "output_type": "execute_result"
    }
   ],
   "source": [
    "probabilities_valid = model_forest.predict_proba(features_valid)\n",
    "probabilities_one_valid = probabilities_valid[:, 1]\n",
    "\n",
    "auc_roc = roc_auc_score(target_valid, probabilities_one_valid)\n",
    "\n",
    "auc_roc"
   ]
  },
  {
   "cell_type": "markdown",
   "metadata": {},
   "source": [
    "### Логистическая регрессия"
   ]
  },
  {
   "cell_type": "code",
   "execution_count": 42,
   "metadata": {},
   "outputs": [
    {
     "name": "stdout",
     "output_type": "stream",
     "text": [
      "Максимальное достигнутое значение f1-меры: 0.3473684210526316, при параметрах:\n",
      "Лучшее количество итераций: 25;\n",
      "Лучший метод: lbfgs.\n"
     ]
    }
   ],
   "source": [
    "best_iter = 0\n",
    "best_f1 = 0\n",
    "best_solver = 0\n",
    "\n",
    "solv = ['newton-cg', 'lbfgs', 'liblinear', 'saga']\n",
    "\n",
    "for i in range(len(solv)):\n",
    "    for itera in [25, 50, 100, 200, 400, 800]:\n",
    "        model_regression = LogisticRegression(random_state=568702396, solver=solv[i], max_iter=itera)\n",
    "        \n",
    "        model_regression.fit(features_train, target_train)\n",
    "        predictions_valid = model_regression.predict(features_valid)\n",
    "        \n",
    "        f1 = f1_score(target_valid, predictions_valid)\n",
    "        if f1 > best_f1:\n",
    "            best_f1 = f1\n",
    "            best_iter = itera\n",
    "            best_solver = solv[i]\n",
    " \n",
    "print(f'Максимальное достигнутое значение f1-меры: {best_f1}, при параметрах:')\n",
    "print(f'Лучшее количество итераций: {best_iter};')\n",
    "print(f'Лучший метод: {best_solver}.')"
   ]
  },
  {
   "cell_type": "markdown",
   "metadata": {},
   "source": [
    "Очень низкий показатель. Добавлю параметр class_weight='balanced'."
   ]
  },
  {
   "cell_type": "code",
   "execution_count": 43,
   "metadata": {},
   "outputs": [
    {
     "name": "stdout",
     "output_type": "stream",
     "text": [
      "Максимальное достигнутое значение f1-меры: 0.4873646209386281, при параметрах:\n",
      "Лучшее количество итераций: 25;\n",
      "Лучший метод: newton-cg.\n"
     ]
    }
   ],
   "source": [
    "best_iter = 0\n",
    "best_f1 = 0\n",
    "best_solver = 0\n",
    "\n",
    "solv = ['newton-cg', 'lbfgs', 'liblinear', 'saga']\n",
    "\n",
    "for i in range(len(solv)):\n",
    "    for itera in [25, 50, 100, 200, 400, 800]:\n",
    "        model_regression = LogisticRegression(random_state=568702396, solver=solv[i], max_iter=itera, class_weight='balanced')\n",
    "        model_regression.fit(features_train, target_train)\n",
    "        predictions_valid = model_regression.predict(features_valid)\n",
    "        f1 = f1_score(target_valid, predictions_valid)\n",
    "        if f1 > best_f1:\n",
    "            best_f1 = f1\n",
    "            best_iter = itera\n",
    "            best_solver = solv[i]\n",
    " \n",
    "print(f'Максимальное достигнутое значение f1-меры: {best_f1}, при параметрах:')\n",
    "print(f'Лучшее количество итераций: {best_iter};')\n",
    "print(f'Лучший метод: {best_solver}.')"
   ]
  },
  {
   "cell_type": "markdown",
   "metadata": {},
   "source": [
    "Сравню полученное значение f1-меры с показателем AUC-ROC."
   ]
  },
  {
   "cell_type": "code",
   "execution_count": 47,
   "metadata": {},
   "outputs": [
    {
     "data": {
      "text/plain": [
       "0.764691805838938"
      ]
     },
     "execution_count": 47,
     "metadata": {},
     "output_type": "execute_result"
    }
   ],
   "source": [
    "probabilities_valid = model_regression.predict_proba(features_valid)\n",
    "probabilities_one_valid = probabilities_valid[:, 1]\n",
    "\n",
    "auc_roc = roc_auc_score(target_valid, probabilities_one_valid)\n",
    "\n",
    "auc_roc"
   ]
  },
  {
   "cell_type": "markdown",
   "metadata": {},
   "source": [
    "### Вывод"
   ]
  },
  {
   "cell_type": "markdown",
   "metadata": {},
   "source": [
    "Используя исходные данные подвергнутые минимально-необходимой обработке, не удалось достигнуть желаемого показателя f1-меры. При этом для улучшения f1-меры логистической регрессии пришлось использовать параметр class_weight='balanced'.\n",
    "\n",
    "Показатели AUC-ROC трех моделей значительно превышают показатели f1-меры. Это связано с тем что дисбаланс классов не оказывает значительного значения на AUC-ROC, также эта метрика растет в том числе от False Positive результатов.\n",
    "\n",
    "Для улучшения моделей необходимо подобрать метод решения проблемы дисбаланса классов."
   ]
  },
  {
   "cell_type": "markdown",
   "metadata": {},
   "source": [
    "## Борьба с дисбалансом"
   ]
  },
  {
   "cell_type": "markdown",
   "metadata": {},
   "source": [
    "### Увеличение выборки"
   ]
  },
  {
   "cell_type": "markdown",
   "metadata": {},
   "source": [
    "Для увеличения выборки создам функциию, разделяющую выборку в соответствии со значением целевого признака, увеличивающую количество строк соотвутствующих положительному признаку и меняющую порядок строк результата."
   ]
  },
  {
   "cell_type": "code",
   "execution_count": 80,
   "metadata": {},
   "outputs": [],
   "source": [
    "def upsample(features, target, repeat):\n",
    "    features_zeros = features[target == 0]\n",
    "    features_ones = features[target == 1]\n",
    "\n",
    "    target_zeros = target[target == 0]\n",
    "    target_ones = target[target == 1]\n",
    "    \n",
    "    features_upsampled = pd.concat([features_zeros] + [features_ones] * repeat)\n",
    "    target_upsampled = pd.concat([target_zeros] + [target_ones] * repeat)\n",
    "        \n",
    "    features_upsampled, target_upsampled = shuffle(features_upsampled, target_upsampled, random_state=568702396)\n",
    "\n",
    "    return features_upsampled, target_upsampled \n",
    "\n",
    "features_upsampled, target_upsampled = upsample(features_train, target_train, 2)"
   ]
  },
  {
   "cell_type": "code",
   "execution_count": 81,
   "metadata": {},
   "outputs": [
    {
     "data": {
      "text/plain": [
       "(7234, 11)"
      ]
     },
     "metadata": {},
     "output_type": "display_data"
    },
    {
     "data": {
      "text/plain": [
       "(7234,)"
      ]
     },
     "execution_count": 81,
     "metadata": {},
     "output_type": "execute_result"
    }
   ],
   "source": [
    "# сравню размеры\n",
    "display(features_upsampled.shape)\n",
    "target_upsampled.shape"
   ]
  },
  {
   "cell_type": "code",
   "execution_count": 82,
   "metadata": {},
   "outputs": [
    {
     "name": "stdout",
     "output_type": "stream",
     "text": [
      "Количество классов в целевом признаке: \n",
      "\n",
      "0    4766\n",
      "1    2468\n",
      "Name: exited, dtype: int64\n",
      "\n",
      " ////////////////////////// \n",
      "\n",
      "В процентном соотношении:\n"
     ]
    },
    {
     "data": {
      "text/plain": [
       "0    65.88\n",
       "1    34.12\n",
       "Name: exited, dtype: float64"
      ]
     },
     "execution_count": 82,
     "metadata": {},
     "output_type": "execute_result"
    }
   ],
   "source": [
    "# проверю баланс классов\n",
    "print('Количество классов в целевом признаке: \\n')\n",
    "print(target_upsampled.value_counts())\n",
    "\n",
    "print('\\n ////////////////////////// \\n')\n",
    "\n",
    "print('В процентном соотношении:')\n",
    "target_upsampled.value_counts().div(\n",
    "    target_upsampled.value_counts().sum()\n",
    ").mul(100).round(2)"
   ]
  },
  {
   "cell_type": "markdown",
   "metadata": {},
   "source": [
    "Переобучу модели на увеличенной выборке, повторно подобрав параметры с помощью цикла."
   ]
  },
  {
   "cell_type": "markdown",
   "metadata": {},
   "source": [
    "#### Дерево решений на увеличенной выборке"
   ]
  },
  {
   "cell_type": "code",
   "execution_count": 116,
   "metadata": {},
   "outputs": [
    {
     "name": "stdout",
     "output_type": "stream",
     "text": [
      "Максимальное достигнутое значение f1-меры: 0.5947955390334572, при параметрах:\n",
      "- критерион - gini;\n",
      "- глубина дерева решений = 5;\n",
      "- минимальное количество примеров для разделения: 2;\n",
      "- минимальное количество выборок для листового узла: 5.\n"
     ]
    }
   ],
   "source": [
    "best_criteria = 0\n",
    "best_depth = 0\n",
    "best_split = 0\n",
    "best_leaf = 0\n",
    "best_f1 = 0\n",
    "\n",
    "criteria = ['gini', 'entropy']\n",
    "\n",
    "for i in range(len(criteria)):\n",
    "    for depth in range(2, 6):\n",
    "        for split in range(2, 6):\n",
    "            for leaf in range(2, 6):\n",
    "                model_tree_up = DecisionTreeClassifier(\n",
    "                    random_state=568702396,\n",
    "                    criterion=criteria[i],\n",
    "                    max_depth=depth,\n",
    "                    min_samples_split=split,\n",
    "                    min_samples_leaf=leaf)\n",
    "                \n",
    "                model_tree_up.fit(features_upsampled, target_upsampled)\n",
    "                predictions_valid = model_tree_up.predict(features_valid)\n",
    "                \n",
    "                f1 = f1_score(target_valid, predictions_valid)\n",
    "                if f1 > best_f1:\n",
    "                    best_f1 = f1\n",
    "                    best_criteria = criteria[i]\n",
    "                    best_depth = depth\n",
    "                    best_split = split\n",
    "                    best_leaf = leaf\n",
    "                    \n",
    "                \n",
    "print(f'Максимальное достигнутое значение f1-меры: {best_f1}, при параметрах:')\n",
    "print(f'- критерион - {best_criteria};')\n",
    "print(f'- глубина дерева решений = {best_depth};')\n",
    "print(f'- минимальное количество примеров для разделения: {best_split};')\n",
    "print(f'- минимальное количество выборок для листового узла: {best_leaf}.')"
   ]
  },
  {
   "cell_type": "markdown",
   "metadata": {},
   "source": [
    "#### Случайный лес на увеличенной выборке"
   ]
  },
  {
   "cell_type": "code",
   "execution_count": 117,
   "metadata": {},
   "outputs": [
    {
     "name": "stdout",
     "output_type": "stream",
     "text": [
      "Максимальное достигнутое значение f1-меры: 0.6172506738544474 при модели:\n",
      "- количество деревьев: 17;\n",
      "- критерион - entropy;\n",
      "- глубина дерева решений: 5;\n",
      "- минимальное количество выборок для листового узла: 4.\n"
     ]
    }
   ],
   "source": [
    "best_criteria = 0\n",
    "best_depth = 0\n",
    "best_est = 0\n",
    "best_leaf = 0\n",
    "best_f1 = 0\n",
    "\n",
    "criteria = ['gini', 'entropy']\n",
    "\n",
    "for i in range(len(criteria)):\n",
    "    for est in range(2, 53, 5):\n",
    "        for depth in range(2, 6):\n",
    "            for leaf in range(2, 6):\n",
    "               model_forest_up = RandomForestClassifier(\n",
    "                   random_state=568702396,\n",
    "                   criterion=criteria[i],\n",
    "                   max_depth=depth,\n",
    "                   n_estimators=est,\n",
    "                   min_samples_leaf=leaf) \n",
    "               \n",
    "               model_forest_up.fit(features_upsampled, target_upsampled)\n",
    "               predictions_valid = model_forest_up.predict(features_valid)\n",
    "               \n",
    "               f1 = f1_score(target_valid, predictions_valid)\n",
    "               if f1 > best_f1:\n",
    "                   best_f1 = f1\n",
    "                   best_criteria = criteria[i]\n",
    "                   best_depth = depth\n",
    "                   best_est = est\n",
    "                   best_leaf = leaf\n",
    "\n",
    "print(f'Максимальное достигнутое значение f1-меры: {best_f1} при модели:')\n",
    "print(f'- количество деревьев: {best_est};')\n",
    "print(f'- критерион - {best_criteria};')\n",
    "print(f'- глубина дерева решений: {best_depth};')\n",
    "print(f'- минимальное количество выборок для листового узла: {best_leaf}.')"
   ]
  },
  {
   "cell_type": "markdown",
   "metadata": {},
   "source": [
    "#### Логистическая регрессия на увеличенной выборке"
   ]
  },
  {
   "cell_type": "code",
   "execution_count": 118,
   "metadata": {
    "scrolled": true
   },
   "outputs": [
    {
     "name": "stdout",
     "output_type": "stream",
     "text": [
      "Максимальное достигнутое значение f1-меры: 0.47193877551020413, при параметрах:\n",
      "Лучшее количество итераций: 25;\n",
      "Лучший метод: lbfgs.\n"
     ]
    }
   ],
   "source": [
    "best_iter = 0\n",
    "best_f1 = 0\n",
    "best_solver = 0\n",
    "\n",
    "solv = ['newton-cg', 'lbfgs', 'liblinear', 'saga']\n",
    "\n",
    "for i in range(len(solv)):\n",
    "    for itera in [25, 50, 100, 200, 400, 800]:\n",
    "        model_regression_up = LogisticRegression(random_state=568702396, solver=solv[i], max_iter=itera)\n",
    "        \n",
    "        model_regression_up.fit(features_upsampled, target_upsampled)\n",
    "        predictions_valid = model_regression_up.predict(features_valid)\n",
    "        \n",
    "        f1 = f1_score(target_valid, predictions_valid)\n",
    "        if f1 > best_f1:\n",
    "            best_f1 = f1\n",
    "            best_iter = itera\n",
    "            best_solver = solv[i]\n",
    " \n",
    "print(f'Максимальное достигнутое значение f1-меры: {best_f1}, при параметрах:')\n",
    "print(f'Лучшее количество итераций: {best_iter};')\n",
    "print(f'Лучший метод: {best_solver}.')"
   ]
  },
  {
   "cell_type": "markdown",
   "metadata": {},
   "source": [
    "#### Вывод"
   ]
  },
  {
   "cell_type": "markdown",
   "metadata": {},
   "source": [
    "С помощью увеличения размера выборки удалось добиться улучшения показателя f1-меры:\n",
    "- Дерева Решений до 0.59;\n",
    "- Случайного Леса до 0.61. \n",
    "\n",
    "Модель Логистической Регрессии не показала улучшения."
   ]
  },
  {
   "cell_type": "markdown",
   "metadata": {},
   "source": [
    "### Уменьшение выборки"
   ]
  },
  {
   "cell_type": "markdown",
   "metadata": {},
   "source": [
    "Для увеличения выборки создам функциию, разделяющую выборку в соответствии со значением целевого признака, уменьшающую количество строк соответствующих негативному целевому признаку и меняющую порядок строк результата."
   ]
  },
  {
   "cell_type": "code",
   "execution_count": 87,
   "metadata": {},
   "outputs": [],
   "source": [
    "def downsample(features, target, fraction):\n",
    "    features_zeros = features[target == 0]\n",
    "    features_ones = features[target == 1]\n",
    "    \n",
    "    target_zeros = target[target == 0]\n",
    "    target_ones = target[target == 1]\n",
    "\n",
    "    features_downsampled = pd.concat(\n",
    "        [features_zeros.sample(frac=fraction, random_state=568702396)] + [features_ones])\n",
    "    target_downsampled = pd.concat(\n",
    "        [target_zeros.sample(frac=fraction, random_state=568702396)] + [target_ones])\n",
    "    \n",
    "    features_downsampled, target_downsampled = shuffle(features_downsampled, target_downsampled, random_state=568702396)\n",
    "    \n",
    "    return features_downsampled, target_downsampled\n",
    "\n",
    "features_downsampled, target_downsampled = downsample(features_train, target_train, 0.5)"
   ]
  },
  {
   "cell_type": "code",
   "execution_count": 88,
   "metadata": {},
   "outputs": [
    {
     "data": {
      "text/plain": [
       "(3617, 11)"
      ]
     },
     "metadata": {},
     "output_type": "display_data"
    },
    {
     "data": {
      "text/plain": [
       "(3617,)"
      ]
     },
     "execution_count": 88,
     "metadata": {},
     "output_type": "execute_result"
    }
   ],
   "source": [
    "# сравню размеры\n",
    "display(features_downsampled.shape)\n",
    "target_downsampled.shape"
   ]
  },
  {
   "cell_type": "code",
   "execution_count": 89,
   "metadata": {
    "scrolled": true
   },
   "outputs": [
    {
     "name": "stdout",
     "output_type": "stream",
     "text": [
      "Количество классов в целевом признаке: \n",
      "\n",
      "0    2383\n",
      "1    1234\n",
      "Name: exited, dtype: int64\n",
      "\n",
      " ////////////////////////// \n",
      "\n",
      "В процентном соотношении:\n"
     ]
    },
    {
     "data": {
      "text/plain": [
       "0    65.88\n",
       "1    34.12\n",
       "Name: exited, dtype: float64"
      ]
     },
     "execution_count": 89,
     "metadata": {},
     "output_type": "execute_result"
    }
   ],
   "source": [
    "# проверю баланс классов\n",
    "print('Количество классов в целевом признаке: \\n')\n",
    "print(target_downsampled.value_counts())\n",
    "\n",
    "print('\\n ////////////////////////// \\n')\n",
    "\n",
    "print('В процентном соотношении:')\n",
    "target_downsampled.value_counts().div(\n",
    "    target_downsampled.value_counts().sum()\n",
    ").mul(100).round(2)"
   ]
  },
  {
   "cell_type": "markdown",
   "metadata": {},
   "source": [
    "#### Дерево решений на уменьшенной выборке"
   ]
  },
  {
   "cell_type": "code",
   "execution_count": 119,
   "metadata": {},
   "outputs": [
    {
     "name": "stdout",
     "output_type": "stream",
     "text": [
      "Максимальное достигнутое значение f1-меры: 0.5989304812834224, при параметрах:\n",
      "- критерион - entropy;\n",
      "- глубина дерева решений = 5;\n",
      "- минимальное количество примеров для разделения: 2;\n",
      "- минимальное количество выборок для листового узла: 3.\n"
     ]
    }
   ],
   "source": [
    "best_criteria = 0\n",
    "best_depth = 0\n",
    "best_split = 0\n",
    "best_leaf = 0\n",
    "best_f1 = 0\n",
    "\n",
    "criteria = ['gini', 'entropy']\n",
    "\n",
    "for i in range(len(criteria)):\n",
    "    for depth in range(2, 6):\n",
    "        for split in range(2, 6):\n",
    "            for leaf in range(2, 6):\n",
    "                model_tree_down = DecisionTreeClassifier(\n",
    "                    random_state=568702396,\n",
    "                    criterion=criteria[i],\n",
    "                    max_depth=depth,\n",
    "                    min_samples_split=split,\n",
    "                    min_samples_leaf=leaf)\n",
    "                \n",
    "                model_tree_down.fit(features_downsampled, target_downsampled)\n",
    "                predictions_valid = model_tree_down.predict(features_valid)\n",
    "                \n",
    "                f1 = f1_score(target_valid, predictions_valid)\n",
    "                if f1 > best_f1:\n",
    "                    best_f1 = f1\n",
    "                    best_criteria = criteria[i]\n",
    "                    best_depth = depth\n",
    "                    best_split = split\n",
    "                    best_leaf = leaf\n",
    "                    \n",
    "                \n",
    "print(f'Максимальное достигнутое значение f1-меры: {best_f1}, при параметрах:')\n",
    "print(f'- критерион - {best_criteria};')\n",
    "print(f'- глубина дерева решений = {best_depth};')\n",
    "print(f'- минимальное количество примеров для разделения: {best_split};')\n",
    "print(f'- минимальное количество выборок для листового узла: {best_leaf}.')"
   ]
  },
  {
   "cell_type": "markdown",
   "metadata": {},
   "source": [
    "#### Случайный лес на уменьшенной выборке"
   ]
  },
  {
   "cell_type": "code",
   "execution_count": 120,
   "metadata": {},
   "outputs": [
    {
     "name": "stdout",
     "output_type": "stream",
     "text": [
      "Максимальное достигнутое значение f1-меры: 0.620967741935484 при модели:\n",
      "- количество деревьев: 42;\n",
      "- критерион - gini;\n",
      "- глубина дерева решений: 5;\n",
      "- минимальное количество выборок для листового узла: 4.\n"
     ]
    }
   ],
   "source": [
    "best_criteria = 0\n",
    "best_depth = 0\n",
    "best_est = 0\n",
    "best_leaf = 0\n",
    "best_f1 = 0\n",
    "\n",
    "criteria = ['gini', 'entropy']\n",
    "\n",
    "for i in range(len(criteria)):\n",
    "    for est in range(2, 53, 5):\n",
    "        for depth in range(2, 6):\n",
    "            for leaf in range(2, 6):\n",
    "               model_forest_down = RandomForestClassifier(\n",
    "                   random_state=568702396,\n",
    "                   criterion=criteria[i],\n",
    "                   max_depth=depth,\n",
    "                   n_estimators=est,\n",
    "                   min_samples_leaf=leaf) \n",
    "               \n",
    "               model_forest_down.fit(features_downsampled, target_downsampled)\n",
    "               predictions_valid = model_forest_down.predict(features_valid)\n",
    "               \n",
    "               f1 = f1_score(target_valid, predictions_valid)\n",
    "               if f1 > best_f1:\n",
    "                   best_f1 = f1\n",
    "                   best_criteria = criteria[i]\n",
    "                   best_depth = depth\n",
    "                   best_est = est\n",
    "                   best_leaf = leaf\n",
    "\n",
    "print(f'Максимальное достигнутое значение f1-меры: {best_f1} при модели:')\n",
    "print(f'- количество деревьев: {best_est};')\n",
    "print(f'- критерион - {best_criteria};')\n",
    "print(f'- глубина дерева решений: {best_depth};')\n",
    "print(f'- минимальное количество выборок для листового узла: {best_leaf}.')"
   ]
  },
  {
   "cell_type": "markdown",
   "metadata": {},
   "source": [
    "#### Логистическая регрессия на уменьшенной выборке"
   ]
  },
  {
   "cell_type": "code",
   "execution_count": 131,
   "metadata": {},
   "outputs": [
    {
     "name": "stdout",
     "output_type": "stream",
     "text": [
      "Максимальное достигнутое значение f1-меры: 0.4686299615877081, при параметрах:\n",
      "Лучшее количество итераций: 25;\n",
      "Лучший метод: newton-cg.\n"
     ]
    }
   ],
   "source": [
    "best_iter = 0\n",
    "best_f1 = 0\n",
    "best_solver = 0\n",
    "\n",
    "solv = ['newton-cg', 'lbfgs', 'liblinear', 'saga']\n",
    "\n",
    "for i in range(len(solv)):\n",
    "    for itera in [25, 50, 100, 200, 400, 800]:\n",
    "        model_regression_down = LogisticRegression(random_state=568702396, solver=solv[i], max_iter=itera)\n",
    "        \n",
    "        model_regression_down.fit(features_downsampled, target_downsampled)\n",
    "        predictions_valid = model_regression_down.predict(features_valid)\n",
    "        \n",
    "        f1 = f1_score(target_valid, predictions_valid)\n",
    "        if f1 > best_f1:\n",
    "            best_f1 = f1\n",
    "            best_iter = itera\n",
    "            best_solver = solv[i]\n",
    " \n",
    "print(f'Максимальное достигнутое значение f1-меры: {best_f1}, при параметрах:')\n",
    "print(f'Лучшее количество итераций: {best_iter};')\n",
    "print(f'Лучший метод: {best_solver}.')"
   ]
  },
  {
   "cell_type": "markdown",
   "metadata": {},
   "source": [
    "#### Вывод"
   ]
  },
  {
   "cell_type": "markdown",
   "metadata": {},
   "source": [
    "С помощью уменьшения размера выборки удалось добиться улучшения показателя f1-меры:\n",
    "- Дерева Решений до 0.59;\n",
    "- Случайного Леса до 0.62. \n",
    "\n",
    "Модель Логистической Регрессии не показала улучшения."
   ]
  },
  {
   "cell_type": "markdown",
   "metadata": {},
   "source": [
    "### Комбинирование увеличения и уменьшения выборки"
   ]
  },
  {
   "cell_type": "code",
   "execution_count": 113,
   "metadata": {},
   "outputs": [],
   "source": [
    "def combine(features, target, repeat, fraction):\n",
    "    features_zeros = features[target == 0]\n",
    "    features_ones = features[target == 1]\n",
    "\n",
    "    target_zeros = target[target == 0]\n",
    "    target_ones = target[target == 1]\n",
    "    \n",
    "    features_combined = pd.concat([features_zeros.sample(frac=fraction, random_state=568702396)] + [features_ones] * repeat)\n",
    "    target_combined = pd.concat([target_zeros.sample(frac=fraction, random_state=568702396)] + [target_ones] * repeat)\n",
    "        \n",
    "    features_combined, target_combined = shuffle(features_combined, target_combined, random_state=568702396)\n",
    "\n",
    "    return features_combined, target_combined\n",
    "\n",
    "features_combined, target_combined = combine(features_train, target_train, 2, 0.75)"
   ]
  },
  {
   "cell_type": "code",
   "execution_count": 109,
   "metadata": {},
   "outputs": [
    {
     "data": {
      "text/plain": [
       "(4851, 11)"
      ]
     },
     "metadata": {},
     "output_type": "display_data"
    },
    {
     "data": {
      "text/plain": [
       "(4851,)"
      ]
     },
     "execution_count": 109,
     "metadata": {},
     "output_type": "execute_result"
    }
   ],
   "source": [
    "# сравню размеры\n",
    "display(features_combined.shape)\n",
    "target_combined.shape"
   ]
  },
  {
   "cell_type": "code",
   "execution_count": 110,
   "metadata": {},
   "outputs": [
    {
     "name": "stdout",
     "output_type": "stream",
     "text": [
      "Количество классов в целевом признаке: \n",
      "\n",
      "1    2468\n",
      "0    2383\n",
      "Name: exited, dtype: int64\n",
      "\n",
      " ////////////////////////// \n",
      "\n",
      "В процентном соотношении:\n"
     ]
    },
    {
     "data": {
      "text/plain": [
       "1    50.88\n",
       "0    49.12\n",
       "Name: exited, dtype: float64"
      ]
     },
     "execution_count": 110,
     "metadata": {},
     "output_type": "execute_result"
    }
   ],
   "source": [
    "# проверю баланс классов\n",
    "print('Количество классов в целевом признаке: \\n')\n",
    "print(target_combined.value_counts())\n",
    "\n",
    "print('\\n ////////////////////////// \\n')\n",
    "\n",
    "print('В процентном соотношении:')\n",
    "target_combined.value_counts().div(\n",
    "    target_combined.value_counts().sum()\n",
    ").mul(100).round(2)"
   ]
  },
  {
   "cell_type": "markdown",
   "metadata": {},
   "source": [
    "#### Дерево решений на комбинированной выборке"
   ]
  },
  {
   "cell_type": "code",
   "execution_count": 121,
   "metadata": {},
   "outputs": [
    {
     "name": "stdout",
     "output_type": "stream",
     "text": [
      "Максимальное достигнутое значение f1-меры: 0.5758513931888545, при параметрах:\n",
      "- критерион - gini;\n",
      "- глубина дерева решений = 5;\n",
      "- минимальное количество примеров для разделения: 2;\n",
      "- минимальное количество выборок для листового узла: 5.\n"
     ]
    }
   ],
   "source": [
    "best_criteria = 0\n",
    "best_depth = 0\n",
    "best_split = 0\n",
    "best_leaf = 0\n",
    "best_f1 = 0\n",
    "\n",
    "criteria = ['gini', 'entropy']\n",
    "\n",
    "for i in range(len(criteria)):\n",
    "    for depth in range(2, 6):\n",
    "        for split in range(2, 6):\n",
    "            for leaf in range(2, 6):\n",
    "                model_tree_combo = DecisionTreeClassifier(\n",
    "                    random_state=568702396,\n",
    "                    criterion=criteria[i],\n",
    "                    max_depth=depth,\n",
    "                    min_samples_split=split,\n",
    "                    min_samples_leaf=leaf)\n",
    "                \n",
    "                model_tree_combo.fit(features_combined, target_combined)\n",
    "                predictions_valid = model_tree_combo.predict(features_valid)\n",
    "                \n",
    "                f1 = f1_score(target_valid, predictions_valid)\n",
    "                if f1 > best_f1:\n",
    "                    best_f1 = f1\n",
    "                    best_criteria = criteria[i]\n",
    "                    best_depth = depth\n",
    "                    best_split = split\n",
    "                    best_leaf = leaf\n",
    "                    \n",
    "                \n",
    "print(f'Максимальное достигнутое значение f1-меры: {best_f1}, при параметрах:')\n",
    "print(f'- критерион - {best_criteria};')\n",
    "print(f'- глубина дерева решений = {best_depth};')\n",
    "print(f'- минимальное количество примеров для разделения: {best_split};')\n",
    "print(f'- минимальное количество выборок для листового узла: {best_leaf}.')"
   ]
  },
  {
   "cell_type": "markdown",
   "metadata": {},
   "source": [
    "#### Случайный лес на комбинированной выборке"
   ]
  },
  {
   "cell_type": "code",
   "execution_count": 122,
   "metadata": {},
   "outputs": [
    {
     "name": "stdout",
     "output_type": "stream",
     "text": [
      "Максимальное достигнутое значение f1-меры: 0.6157575757575757 при модели:\n",
      "- количество деревьев: 32;\n",
      "- критерион - gini;\n",
      "- глубина дерева решений: 5;\n",
      "- минимальное количество выборок для листового узла: 2.\n"
     ]
    }
   ],
   "source": [
    "best_criteria = 0\n",
    "best_depth = 0\n",
    "best_est = 0\n",
    "best_leaf = 0\n",
    "best_f1 = 0\n",
    "\n",
    "criteria = ['gini', 'entropy']\n",
    "\n",
    "for i in range(len(criteria)):\n",
    "    for est in range(2, 53, 5):\n",
    "        for depth in range(2, 6):\n",
    "            for leaf in range(2, 6):\n",
    "               model_forest_combo = RandomForestClassifier(\n",
    "                   random_state=568702396,\n",
    "                   criterion=criteria[i],\n",
    "                   max_depth=depth,\n",
    "                   n_estimators=est,\n",
    "                   min_samples_leaf=leaf) \n",
    "               \n",
    "               model_forest_combo.fit(features_combined, target_combined)\n",
    "               predictions_valid = model_forest_combo.predict(features_valid)\n",
    "               \n",
    "               f1 = f1_score(target_valid, predictions_valid)\n",
    "               if f1 > best_f1:\n",
    "                   best_f1 = f1\n",
    "                   best_criteria = criteria[i]\n",
    "                   best_depth = depth\n",
    "                   best_est = est\n",
    "                   best_leaf = leaf\n",
    "\n",
    "print(f'Максимальное достигнутое значение f1-меры: {best_f1} при модели:')\n",
    "print(f'- количество деревьев: {best_est};')\n",
    "print(f'- критерион - {best_criteria};')\n",
    "print(f'- глубина дерева решений: {best_depth};')\n",
    "print(f'- минимальное количество выборок для листового узла: {best_leaf}.')"
   ]
  },
  {
   "cell_type": "markdown",
   "metadata": {},
   "source": [
    "#### Логистическая регрессия на комбинированной выборке"
   ]
  },
  {
   "cell_type": "code",
   "execution_count": 123,
   "metadata": {},
   "outputs": [
    {
     "name": "stdout",
     "output_type": "stream",
     "text": [
      "Максимальное достигнутое значение f1-меры: 0.4851157662624035, при параметрах:\n",
      "Лучшее количество итераций: 25;\n",
      "Лучший метод: newton-cg.\n"
     ]
    }
   ],
   "source": [
    "best_iter = 0\n",
    "best_f1 = 0\n",
    "best_solver = 0\n",
    "\n",
    "solv = ['newton-cg', 'lbfgs', 'liblinear', 'saga']\n",
    "\n",
    "for i in range(len(solv)):\n",
    "    for itera in [25, 50, 100, 200, 400, 800]:\n",
    "        model_regression_combo = LogisticRegression(random_state=568702396, solver=solv[i], max_iter=itera)\n",
    "        \n",
    "        model_regression_combo.fit(features_combined, target_combined)\n",
    "        predictions_valid = model_regression_combo.predict(features_valid)\n",
    "        \n",
    "        f1 = f1_score(target_valid, predictions_valid)\n",
    "        if f1 > best_f1:\n",
    "            best_f1 = f1\n",
    "            best_iter = itera\n",
    "            best_solver = solv[i]\n",
    " \n",
    "print(f'Максимальное достигнутое значение f1-меры: {best_f1}, при параметрах:')\n",
    "print(f'Лучшее количество итераций: {best_iter};')\n",
    "print(f'Лучший метод: {best_solver}.')"
   ]
  },
  {
   "cell_type": "markdown",
   "metadata": {},
   "source": [
    "#### Вывод"
   ]
  },
  {
   "cell_type": "markdown",
   "metadata": {},
   "source": [
    "С помощью комбинирования методов уменьшения и увеличения выборки выборки удалось добиться улучшения показателя f1-меры:\n",
    "- Случайного Леса до 0.61. \n",
    "\n",
    "Модели Дерева Решений и Логистической Регрессии не показали значительного улучшения."
   ]
  },
  {
   "cell_type": "markdown",
   "metadata": {},
   "source": [
    "### Вывод"
   ]
  },
  {
   "cell_type": "markdown",
   "metadata": {},
   "source": [
    "Науличшие показатели f1-меры были достигнуты при метода Случайного леса. \n",
    "\n",
    "Для определения наилучшей модели сравню показатели f1-меры и AUC-ROC трех обученных моделей Случайного леса, используя тестовую выборку."
   ]
  },
  {
   "cell_type": "markdown",
   "metadata": {},
   "source": [
    "## Тестирование модели"
   ]
  },
  {
   "cell_type": "markdown",
   "metadata": {},
   "source": [
    "### Случайный лес, модель увеличенной выборки"
   ]
  },
  {
   "cell_type": "code",
   "execution_count": 153,
   "metadata": {
    "scrolled": true
   },
   "outputs": [
    {
     "data": {
      "text/plain": [
       "0.60431654676259"
      ]
     },
     "execution_count": 153,
     "metadata": {},
     "output_type": "execute_result"
    }
   ],
   "source": [
    "predictions_test = model_forest_up.predict(features_test)\n",
    "               \n",
    "f1_score(target_test, predictions_test)"
   ]
  },
  {
   "cell_type": "markdown",
   "metadata": {},
   "source": [
    "Сравню полученное значение f1-меры с показателем AUC-ROC."
   ]
  },
  {
   "cell_type": "code",
   "execution_count": 159,
   "metadata": {},
   "outputs": [
    {
     "data": {
      "text/plain": [
       "0.847274855749432"
      ]
     },
     "execution_count": 159,
     "metadata": {},
     "output_type": "execute_result"
    }
   ],
   "source": [
    "probabilities_test = model_forest_up.predict_proba(features_test)\n",
    "probabilities_one_test = probabilities_test[:, 1]\n",
    "\n",
    "auc_roc = roc_auc_score(target_test, probabilities_one_test)\n",
    "\n",
    "auc_roc"
   ]
  },
  {
   "cell_type": "markdown",
   "metadata": {},
   "source": [
    "### Случайный лес, модель уменьшенной выборки"
   ]
  },
  {
   "cell_type": "code",
   "execution_count": 160,
   "metadata": {},
   "outputs": [
    {
     "data": {
      "text/plain": [
       "0.6091794158553546"
      ]
     },
     "execution_count": 160,
     "metadata": {},
     "output_type": "execute_result"
    }
   ],
   "source": [
    "predictions_valid = model_forest_down.predict(features_test)\n",
    "               \n",
    "f1_score(target_test, predictions_valid)"
   ]
  },
  {
   "cell_type": "markdown",
   "metadata": {},
   "source": [
    "Сравню полученное значение f1-меры с показателем AUC-ROC."
   ]
  },
  {
   "cell_type": "code",
   "execution_count": 161,
   "metadata": {
    "scrolled": true
   },
   "outputs": [
    {
     "data": {
      "text/plain": [
       "0.8470882284441607"
      ]
     },
     "execution_count": 161,
     "metadata": {},
     "output_type": "execute_result"
    }
   ],
   "source": [
    "probabilities_test = model_forest_down.predict_proba(features_test)\n",
    "probabilities_one_test = probabilities_test[:, 1]\n",
    "\n",
    "auc_roc = roc_auc_score(target_test, probabilities_one_test)\n",
    "\n",
    "auc_roc"
   ]
  },
  {
   "cell_type": "markdown",
   "metadata": {},
   "source": [
    "### Случайный лес, модель комбинированной выборки"
   ]
  },
  {
   "cell_type": "code",
   "execution_count": 162,
   "metadata": {},
   "outputs": [
    {
     "data": {
      "text/plain": [
       "0.6142322097378277"
      ]
     },
     "execution_count": 162,
     "metadata": {},
     "output_type": "execute_result"
    }
   ],
   "source": [
    "predictions_valid = model_forest_combo.predict(features_test)\n",
    "        \n",
    "f1_score(target_test, predictions_valid)"
   ]
  },
  {
   "cell_type": "markdown",
   "metadata": {},
   "source": [
    "Сравню полученное значение f1-меры с показателем AUC-ROC."
   ]
  },
  {
   "cell_type": "code",
   "execution_count": 163,
   "metadata": {
    "scrolled": true
   },
   "outputs": [
    {
     "data": {
      "text/plain": [
       "0.845393158952481"
      ]
     },
     "execution_count": 163,
     "metadata": {},
     "output_type": "execute_result"
    }
   ],
   "source": [
    "probabilities_test = model_forest_combo.predict_proba(features_test)\n",
    "probabilities_one_test = probabilities_test[:, 1]\n",
    "\n",
    "auc_roc = roc_auc_score(target_test, probabilities_one_test)\n",
    "\n",
    "auc_roc"
   ]
  },
  {
   "cell_type": "markdown",
   "metadata": {},
   "source": [
    "### Проверка на адекватность"
   ]
  },
  {
   "cell_type": "markdown",
   "metadata": {},
   "source": [
    "С целью проверки на адекватность использую \"глупую модель\" DummyClassifier."
   ]
  },
  {
   "cell_type": "code",
   "execution_count": 164,
   "metadata": {},
   "outputs": [
    {
     "data": {
      "text/plain": [
       "{'constant': 1, 'strategy': 'constant'}"
      ]
     },
     "execution_count": 164,
     "metadata": {},
     "output_type": "execute_result"
    }
   ],
   "source": [
    "from sklearn.model_selection import GridSearchCV\n",
    "from sklearn.dummy import DummyClassifier\n",
    "\n",
    "dummy = DummyClassifier(random_state=568702396)\n",
    "\n",
    "params_dummy = [{\n",
    "    'strategy': ['most_frequent', 'prior', 'stratified', 'uniform', 'constant'],\n",
    "    'constant': [0, 1]\n",
    "}]\n",
    "\n",
    "model_dummy = GridSearchCV(dummy,\n",
    "                      param_grid=params_dummy,\n",
    "                      scoring='f1')\n",
    "\n",
    "model_dummy.fit(features_combined, target_combined)\n",
    "model_dummy.best_params_"
   ]
  },
  {
   "cell_type": "code",
   "execution_count": 166,
   "metadata": {},
   "outputs": [
    {
     "data": {
      "text/plain": [
       "'f1-мера: 0.3381803074366431'"
      ]
     },
     "metadata": {},
     "output_type": "display_data"
    }
   ],
   "source": [
    "predictions_dummy = model_dummy.predict(features_test)\n",
    "\n",
    "display(f'f1-мера: {f1_score(target_test, predictions_dummy)}')"
   ]
  },
  {
   "cell_type": "markdown",
   "metadata": {},
   "source": [
    "### Вывод"
   ]
  },
  {
   "cell_type": "markdown",
   "metadata": {},
   "source": [
    "Было дано задание построить модель, способную на основе данных клиента спрогнозировать расторгнет ли клиент в скором времени договор с банком.  \n",
    "Для выполнения проекта были предоставлены исторические данные банка.  \n",
    "Была поставлена задача предоставить модель с наибольшим достигнутым значением f1-меры, но не меньше 0.59.\n",
    "\n",
    "По итогам исследования достигнуто значение f1-меры 0.61 на тестовой выборке, что соответствует требованиям заказчика.  \n",
    "Значение достигнуто путем использования метода Случайного леса и кобминированного метода увеличения и уменьшения выборки для борьбы с дисбалансом - модель \"model_forest_combo\". \n",
    "\n",
    "Модели обученные отдельно на увеличенной и уменьшенной выборках показали меньшее значение f1-меры на тестовой выборке.  \n",
    "Значения AUC-ROC между тремя финальными моделями не показали значимых различий."
   ]
  }
 ],
 "metadata": {
  "ExecuteTimeLog": [
   {
    "duration": 1241,
    "start_time": "2022-05-29T16:33:50.924Z"
   },
   {
    "duration": 160,
    "start_time": "2022-05-29T16:34:28.815Z"
   },
   {
    "duration": 92,
    "start_time": "2022-05-29T16:35:43.188Z"
   },
   {
    "duration": 74,
    "start_time": "2022-06-02T09:18:14.415Z"
   },
   {
    "duration": 1396,
    "start_time": "2022-06-02T09:18:19.218Z"
   },
   {
    "duration": 83,
    "start_time": "2022-06-02T09:18:20.615Z"
   },
   {
    "duration": 14,
    "start_time": "2022-06-02T09:18:24.442Z"
   },
   {
    "duration": 5,
    "start_time": "2022-06-02T09:18:37.914Z"
   },
   {
    "duration": 4,
    "start_time": "2022-06-02T09:19:06.834Z"
   },
   {
    "duration": 5,
    "start_time": "2022-06-02T09:19:11.393Z"
   },
   {
    "duration": 79,
    "start_time": "2022-06-02T09:22:52.728Z"
   },
   {
    "duration": 549,
    "start_time": "2022-06-02T09:23:06.319Z"
   },
   {
    "duration": 10,
    "start_time": "2022-06-02T09:24:24.250Z"
   },
   {
    "duration": 75,
    "start_time": "2022-06-02T09:33:44.477Z"
   },
   {
    "duration": 10,
    "start_time": "2022-06-02T09:51:48.467Z"
   },
   {
    "duration": 4,
    "start_time": "2022-06-02T09:51:54.982Z"
   },
   {
    "duration": 4,
    "start_time": "2022-06-02T09:55:54.397Z"
   },
   {
    "duration": 4,
    "start_time": "2022-06-02T09:55:55.244Z"
   },
   {
    "duration": 4,
    "start_time": "2022-06-02T09:56:25.570Z"
   },
   {
    "duration": 4,
    "start_time": "2022-06-02T09:56:26.875Z"
   },
   {
    "duration": 13,
    "start_time": "2022-06-02T09:57:17.266Z"
   },
   {
    "duration": 12,
    "start_time": "2022-06-02T09:57:27.996Z"
   },
   {
    "duration": 13,
    "start_time": "2022-06-02T09:57:38.636Z"
   },
   {
    "duration": 1048,
    "start_time": "2022-06-02T09:58:07.851Z"
   },
   {
    "duration": 42,
    "start_time": "2022-06-02T09:58:08.902Z"
   },
   {
    "duration": 88,
    "start_time": "2022-06-02T09:58:08.946Z"
   },
   {
    "duration": 5,
    "start_time": "2022-06-02T09:58:09.036Z"
   },
   {
    "duration": 13,
    "start_time": "2022-06-02T09:58:09.043Z"
   },
   {
    "duration": 124,
    "start_time": "2022-06-02T09:58:29.932Z"
   },
   {
    "duration": 4,
    "start_time": "2022-06-02T09:58:51.748Z"
   },
   {
    "duration": 4,
    "start_time": "2022-06-02T09:59:00.613Z"
   },
   {
    "duration": 5,
    "start_time": "2022-06-02T09:59:19.775Z"
   },
   {
    "duration": 104,
    "start_time": "2022-06-02T09:59:22.523Z"
   },
   {
    "duration": 947,
    "start_time": "2022-06-02T09:59:56.814Z"
   },
   {
    "duration": 39,
    "start_time": "2022-06-02T09:59:57.763Z"
   },
   {
    "duration": 84,
    "start_time": "2022-06-02T09:59:57.804Z"
   },
   {
    "duration": 6,
    "start_time": "2022-06-02T09:59:57.893Z"
   },
   {
    "duration": 17,
    "start_time": "2022-06-02T09:59:57.900Z"
   },
   {
    "duration": 8,
    "start_time": "2022-06-02T09:59:59.675Z"
   },
   {
    "duration": 4,
    "start_time": "2022-06-02T10:00:38.979Z"
   },
   {
    "duration": 3,
    "start_time": "2022-06-02T10:47:39.981Z"
   },
   {
    "duration": 121,
    "start_time": "2022-06-02T10:48:22.163Z"
   },
   {
    "duration": 8,
    "start_time": "2022-06-02T10:50:57.291Z"
   },
   {
    "duration": 10,
    "start_time": "2022-06-02T10:51:11.745Z"
   },
   {
    "duration": 14,
    "start_time": "2022-06-02T10:51:51.381Z"
   },
   {
    "duration": 9,
    "start_time": "2022-06-02T10:52:07.399Z"
   },
   {
    "duration": 9,
    "start_time": "2022-06-02T10:52:23.972Z"
   },
   {
    "duration": 9,
    "start_time": "2022-06-02T10:52:43.500Z"
   },
   {
    "duration": 12,
    "start_time": "2022-06-02T10:53:11.173Z"
   },
   {
    "duration": 7,
    "start_time": "2022-06-02T10:58:27.560Z"
   },
   {
    "duration": 119,
    "start_time": "2022-06-02T10:58:43.368Z"
   },
   {
    "duration": 174,
    "start_time": "2022-06-02T10:59:19.187Z"
   },
   {
    "duration": 101,
    "start_time": "2022-06-02T10:59:25.506Z"
   },
   {
    "duration": 1994,
    "start_time": "2022-06-02T11:00:23.716Z"
   },
   {
    "duration": 77,
    "start_time": "2022-06-02T11:00:25.712Z"
   },
   {
    "duration": 90,
    "start_time": "2022-06-02T11:00:25.792Z"
   },
   {
    "duration": 6,
    "start_time": "2022-06-02T11:00:25.884Z"
   },
   {
    "duration": 28,
    "start_time": "2022-06-02T11:00:25.892Z"
   },
   {
    "duration": 16,
    "start_time": "2022-06-02T11:00:25.922Z"
   },
   {
    "duration": 5,
    "start_time": "2022-06-02T11:00:25.940Z"
   },
   {
    "duration": 8,
    "start_time": "2022-06-02T11:00:28.026Z"
   },
   {
    "duration": 129,
    "start_time": "2022-06-02T11:00:29.627Z"
   },
   {
    "duration": 19,
    "start_time": "2022-06-02T11:00:38.028Z"
   },
   {
    "duration": 18,
    "start_time": "2022-06-02T11:00:47.130Z"
   },
   {
    "duration": 129,
    "start_time": "2022-06-02T11:02:39.602Z"
   },
   {
    "duration": 139,
    "start_time": "2022-06-02T11:02:41.482Z"
   },
   {
    "duration": 246,
    "start_time": "2022-06-02T11:03:43.872Z"
   },
   {
    "duration": 33,
    "start_time": "2022-06-02T11:04:46.339Z"
   },
   {
    "duration": 221,
    "start_time": "2022-06-02T11:04:54.819Z"
   },
   {
    "duration": 7,
    "start_time": "2022-06-02T11:05:10.515Z"
   },
   {
    "duration": 15,
    "start_time": "2022-06-02T11:05:39.842Z"
   },
   {
    "duration": 34,
    "start_time": "2022-06-02T11:05:47.962Z"
   },
   {
    "duration": 1013,
    "start_time": "2022-06-02T11:06:17.277Z"
   },
   {
    "duration": 41,
    "start_time": "2022-06-02T11:06:18.292Z"
   },
   {
    "duration": 85,
    "start_time": "2022-06-02T11:06:18.335Z"
   },
   {
    "duration": 5,
    "start_time": "2022-06-02T11:06:18.422Z"
   },
   {
    "duration": 20,
    "start_time": "2022-06-02T11:06:18.429Z"
   },
   {
    "duration": 6,
    "start_time": "2022-06-02T11:06:18.450Z"
   },
   {
    "duration": 18,
    "start_time": "2022-06-02T11:06:18.458Z"
   },
   {
    "duration": 7,
    "start_time": "2022-06-02T11:06:31.744Z"
   },
   {
    "duration": 46,
    "start_time": "2022-06-02T11:06:33.200Z"
   },
   {
    "duration": 4,
    "start_time": "2022-06-02T11:06:37.073Z"
   },
   {
    "duration": 5,
    "start_time": "2022-06-02T11:06:46.976Z"
   },
   {
    "duration": 6,
    "start_time": "2022-06-02T11:07:01.608Z"
   },
   {
    "duration": 976,
    "start_time": "2022-06-02T11:11:39.600Z"
   },
   {
    "duration": 40,
    "start_time": "2022-06-02T11:11:40.578Z"
   },
   {
    "duration": 87,
    "start_time": "2022-06-02T11:11:40.620Z"
   },
   {
    "duration": 5,
    "start_time": "2022-06-02T11:11:40.709Z"
   },
   {
    "duration": 32,
    "start_time": "2022-06-02T11:11:40.717Z"
   },
   {
    "duration": 12,
    "start_time": "2022-06-02T11:11:40.751Z"
   },
   {
    "duration": 3,
    "start_time": "2022-06-02T11:11:43.485Z"
   },
   {
    "duration": 5,
    "start_time": "2022-06-02T11:11:58.677Z"
   },
   {
    "duration": 5,
    "start_time": "2022-06-02T11:13:06.377Z"
   },
   {
    "duration": 7,
    "start_time": "2022-06-02T11:13:22.334Z"
   },
   {
    "duration": 3,
    "start_time": "2022-06-02T11:13:24.607Z"
   },
   {
    "duration": 53,
    "start_time": "2022-06-02T11:43:27.975Z"
   },
   {
    "duration": 11,
    "start_time": "2022-06-02T12:28:49.694Z"
   },
   {
    "duration": 118,
    "start_time": "2022-06-02T12:31:12.094Z"
   },
   {
    "duration": 4,
    "start_time": "2022-06-02T12:31:36.935Z"
   },
   {
    "duration": 36,
    "start_time": "2022-06-02T12:31:42.727Z"
   },
   {
    "duration": 19,
    "start_time": "2022-06-02T12:32:06.311Z"
   },
   {
    "duration": 17,
    "start_time": "2022-06-02T12:32:31.845Z"
   },
   {
    "duration": 17,
    "start_time": "2022-06-02T12:39:05.099Z"
   },
   {
    "duration": 14,
    "start_time": "2022-06-02T12:39:06.775Z"
   },
   {
    "duration": 6,
    "start_time": "2022-06-02T12:52:39.779Z"
   },
   {
    "duration": 14,
    "start_time": "2022-06-02T13:01:14.804Z"
   },
   {
    "duration": 15,
    "start_time": "2022-06-02T13:04:08.815Z"
   },
   {
    "duration": 4,
    "start_time": "2022-06-02T13:04:36.323Z"
   },
   {
    "duration": 31,
    "start_time": "2022-06-02T13:04:43.762Z"
   },
   {
    "duration": 2,
    "start_time": "2022-06-02T13:05:39.121Z"
   },
   {
    "duration": 27,
    "start_time": "2022-06-02T13:05:46.464Z"
   },
   {
    "duration": 22,
    "start_time": "2022-06-02T13:05:53.976Z"
   },
   {
    "duration": 8,
    "start_time": "2022-06-02T13:05:55.451Z"
   },
   {
    "duration": 20,
    "start_time": "2022-06-02T13:07:58.040Z"
   },
   {
    "duration": 13,
    "start_time": "2022-06-02T13:08:14.914Z"
   },
   {
    "duration": 26,
    "start_time": "2022-06-02T13:08:48.867Z"
   },
   {
    "duration": 19,
    "start_time": "2022-06-02T13:08:54.296Z"
   },
   {
    "duration": 10,
    "start_time": "2022-06-02T13:31:00.576Z"
   },
   {
    "duration": 17485,
    "start_time": "2022-06-02T13:31:32.608Z"
   },
   {
    "duration": 43477,
    "start_time": "2022-06-02T13:32:34.983Z"
   },
   {
    "duration": 5,
    "start_time": "2022-06-02T13:34:31.261Z"
   },
   {
    "duration": 4,
    "start_time": "2022-06-02T13:35:12.937Z"
   },
   {
    "duration": 5,
    "start_time": "2022-06-02T13:35:19.575Z"
   },
   {
    "duration": 7,
    "start_time": "2022-06-02T13:36:30.398Z"
   },
   {
    "duration": 6,
    "start_time": "2022-06-02T13:36:41.926Z"
   },
   {
    "duration": 51779,
    "start_time": "2022-06-02T13:38:38.404Z"
   },
   {
    "duration": 6,
    "start_time": "2022-06-02T13:41:56.552Z"
   },
   {
    "duration": 471438,
    "start_time": "2022-06-02T13:42:16.572Z"
   },
   {
    "duration": 46131,
    "start_time": "2022-06-02T13:51:22.954Z"
   },
   {
    "duration": 97221,
    "start_time": "2022-06-02T13:53:06.466Z"
   },
   {
    "duration": 4,
    "start_time": "2022-06-02T13:55:12.187Z"
   },
   {
    "duration": 66478,
    "start_time": "2022-06-02T13:55:23.835Z"
   },
   {
    "duration": 7,
    "start_time": "2022-06-02T13:58:19.787Z"
   },
   {
    "duration": 228884,
    "start_time": "2022-06-02T13:58:32.146Z"
   },
   {
    "duration": 58,
    "start_time": "2022-06-02T14:04:34.136Z"
   },
   {
    "duration": 12,
    "start_time": "2022-06-02T14:04:46.304Z"
   },
   {
    "duration": 94552,
    "start_time": "2022-06-02T14:04:59.728Z"
   },
   {
    "duration": 4,
    "start_time": "2022-06-02T14:07:45.808Z"
   },
   {
    "duration": 189214,
    "start_time": "2022-06-02T14:15:06.869Z"
   },
   {
    "duration": 5,
    "start_time": "2022-06-02T14:18:20.926Z"
   },
   {
    "duration": 35994,
    "start_time": "2022-06-02T14:19:44.099Z"
   },
   {
    "duration": 5,
    "start_time": "2022-06-02T14:20:42.965Z"
   },
   {
    "duration": 32,
    "start_time": "2022-06-02T14:20:59.076Z"
   },
   {
    "duration": 5280,
    "start_time": "2022-06-02T14:21:03.404Z"
   },
   {
    "duration": 5,
    "start_time": "2022-06-02T14:21:53.038Z"
   },
   {
    "duration": 21,
    "start_time": "2022-06-02T14:55:27.120Z"
   },
   {
    "duration": 4,
    "start_time": "2022-06-02T14:55:55.481Z"
   },
   {
    "duration": 16,
    "start_time": "2022-06-02T14:56:02.705Z"
   },
   {
    "duration": 3,
    "start_time": "2022-06-02T14:57:07.334Z"
   },
   {
    "duration": 986,
    "start_time": "2022-06-02T15:05:42.640Z"
   },
   {
    "duration": 3,
    "start_time": "2022-06-02T15:05:43.628Z"
   },
   {
    "duration": 43,
    "start_time": "2022-06-02T15:05:43.632Z"
   },
   {
    "duration": 80,
    "start_time": "2022-06-02T15:05:43.677Z"
   },
   {
    "duration": 5,
    "start_time": "2022-06-02T15:05:43.776Z"
   },
   {
    "duration": 14,
    "start_time": "2022-06-02T15:05:43.783Z"
   },
   {
    "duration": 6,
    "start_time": "2022-06-02T15:05:43.798Z"
   },
   {
    "duration": 9,
    "start_time": "2022-06-02T15:05:43.806Z"
   },
   {
    "duration": 11,
    "start_time": "2022-06-02T15:05:43.816Z"
   },
   {
    "duration": 7,
    "start_time": "2022-06-02T15:05:43.828Z"
   },
   {
    "duration": 15,
    "start_time": "2022-06-02T15:05:43.836Z"
   },
   {
    "duration": 36,
    "start_time": "2022-06-02T15:05:43.853Z"
   },
   {
    "duration": 6,
    "start_time": "2022-06-02T15:06:33.403Z"
   },
   {
    "duration": 96,
    "start_time": "2022-06-02T15:07:21.958Z"
   },
   {
    "duration": 6,
    "start_time": "2022-06-02T15:07:32.788Z"
   },
   {
    "duration": 6,
    "start_time": "2022-06-02T15:07:33.517Z"
   },
   {
    "duration": 22,
    "start_time": "2022-06-02T15:07:59.211Z"
   },
   {
    "duration": 12,
    "start_time": "2022-06-02T15:08:00.373Z"
   },
   {
    "duration": 384,
    "start_time": "2022-06-02T15:10:59.673Z"
   },
   {
    "duration": 34,
    "start_time": "2022-06-02T15:13:47.646Z"
   },
   {
    "duration": 1450,
    "start_time": "2022-06-02T15:13:59.914Z"
   },
   {
    "duration": 7267,
    "start_time": "2022-06-02T15:16:56.039Z"
   },
   {
    "duration": 7260,
    "start_time": "2022-06-02T15:17:12.427Z"
   },
   {
    "duration": 29194,
    "start_time": "2022-06-02T15:18:47.180Z"
   },
   {
    "duration": 52167,
    "start_time": "2022-06-02T15:20:44.213Z"
   },
   {
    "duration": 49864,
    "start_time": "2022-06-02T15:21:57.512Z"
   },
   {
    "duration": 55,
    "start_time": "2022-06-02T15:24:58.354Z"
   },
   {
    "duration": 49271,
    "start_time": "2022-06-02T15:27:31.018Z"
   },
   {
    "duration": 7054,
    "start_time": "2022-06-02T15:34:33.228Z"
   },
   {
    "duration": 7378,
    "start_time": "2022-06-02T15:35:05.313Z"
   },
   {
    "duration": 10,
    "start_time": "2022-06-02T15:35:30.279Z"
   },
   {
    "duration": 6091,
    "start_time": "2022-06-02T15:35:53.000Z"
   },
   {
    "duration": 7386,
    "start_time": "2022-06-02T15:36:20.201Z"
   },
   {
    "duration": 6314,
    "start_time": "2022-06-02T15:37:03.575Z"
   },
   {
    "duration": 418,
    "start_time": "2022-06-02T15:45:29.996Z"
   },
   {
    "duration": 1432,
    "start_time": "2022-06-02T16:01:24.071Z"
   },
   {
    "duration": 8,
    "start_time": "2022-06-02T16:09:34.986Z"
   },
   {
    "duration": 48,
    "start_time": "2022-06-02T16:13:55.832Z"
   },
   {
    "duration": 22,
    "start_time": "2022-06-02T16:14:32.161Z"
   },
   {
    "duration": 32398,
    "start_time": "2022-06-02T16:14:51.407Z"
   },
   {
    "duration": 23,
    "start_time": "2022-06-02T16:16:02.798Z"
   },
   {
    "duration": 8458,
    "start_time": "2022-06-02T16:16:28.631Z"
   },
   {
    "duration": 11288,
    "start_time": "2022-06-02T16:17:15.899Z"
   },
   {
    "duration": 18,
    "start_time": "2022-06-02T16:17:50.316Z"
   },
   {
    "duration": 10,
    "start_time": "2022-06-02T16:17:54.774Z"
   },
   {
    "duration": 23,
    "start_time": "2022-06-02T16:18:01.335Z"
   },
   {
    "duration": 16,
    "start_time": "2022-06-02T16:18:07.871Z"
   },
   {
    "duration": 22,
    "start_time": "2022-06-02T16:24:50.075Z"
   },
   {
    "duration": 11,
    "start_time": "2022-06-02T16:28:43.769Z"
   },
   {
    "duration": 5,
    "start_time": "2022-06-02T16:29:06.043Z"
   },
   {
    "duration": 12,
    "start_time": "2022-06-02T16:32:06.238Z"
   },
   {
    "duration": 9,
    "start_time": "2022-06-02T16:37:31.957Z"
   },
   {
    "duration": 20,
    "start_time": "2022-06-02T16:40:29.501Z"
   },
   {
    "duration": 21,
    "start_time": "2022-06-02T16:40:42.102Z"
   },
   {
    "duration": 25,
    "start_time": "2022-06-02T16:41:11.477Z"
   },
   {
    "duration": 1548,
    "start_time": "2022-06-02T16:42:48.916Z"
   },
   {
    "duration": 34317,
    "start_time": "2022-06-02T16:43:02.438Z"
   },
   {
    "duration": 29,
    "start_time": "2022-06-02T16:44:50.309Z"
   },
   {
    "duration": 25,
    "start_time": "2022-06-02T16:45:59.547Z"
   },
   {
    "duration": 25,
    "start_time": "2022-06-02T16:46:07.909Z"
   },
   {
    "duration": 693,
    "start_time": "2022-06-02T16:47:26.882Z"
   },
   {
    "duration": 1379,
    "start_time": "2022-06-02T16:47:56.510Z"
   },
   {
    "duration": 12,
    "start_time": "2022-06-02T16:48:17.323Z"
   },
   {
    "duration": 5,
    "start_time": "2022-06-02T16:48:19.315Z"
   },
   {
    "duration": 11,
    "start_time": "2022-06-02T16:48:20.245Z"
   },
   {
    "duration": 27,
    "start_time": "2022-06-02T16:48:24.756Z"
   },
   {
    "duration": 22,
    "start_time": "2022-06-02T16:48:26.286Z"
   },
   {
    "duration": 765,
    "start_time": "2022-06-02T16:48:27.812Z"
   },
   {
    "duration": 12,
    "start_time": "2022-06-02T16:53:57.348Z"
   },
   {
    "duration": 6,
    "start_time": "2022-06-02T16:54:11.967Z"
   },
   {
    "duration": 11,
    "start_time": "2022-06-02T16:54:33.362Z"
   },
   {
    "duration": 1979,
    "start_time": "2022-06-02T16:56:16.713Z"
   },
   {
    "duration": 40730,
    "start_time": "2022-06-02T16:57:00.059Z"
   },
   {
    "duration": 18366,
    "start_time": "2022-06-02T16:59:00.320Z"
   },
   {
    "duration": 12,
    "start_time": "2022-06-02T17:01:26.775Z"
   },
   {
    "duration": 5,
    "start_time": "2022-06-02T17:01:27.982Z"
   },
   {
    "duration": 9,
    "start_time": "2022-06-02T17:01:28.719Z"
   },
   {
    "duration": 1874,
    "start_time": "2022-06-02T17:01:30.311Z"
   },
   {
    "duration": 45375,
    "start_time": "2022-06-02T17:01:42.194Z"
   },
   {
    "duration": 11,
    "start_time": "2022-06-02T17:08:53.977Z"
   },
   {
    "duration": 5,
    "start_time": "2022-06-02T17:08:54.500Z"
   },
   {
    "duration": 9,
    "start_time": "2022-06-02T17:08:55.372Z"
   },
   {
    "duration": 1778,
    "start_time": "2022-06-02T17:08:58.588Z"
   },
   {
    "duration": 36296,
    "start_time": "2022-06-02T17:09:03.143Z"
   },
   {
    "duration": 8491,
    "start_time": "2022-06-02T17:09:52.602Z"
   },
   {
    "duration": 996,
    "start_time": "2022-06-02T17:10:50.395Z"
   },
   {
    "duration": 11,
    "start_time": "2022-06-02T17:11:03.665Z"
   },
   {
    "duration": 6,
    "start_time": "2022-06-02T17:11:05.050Z"
   },
   {
    "duration": 10,
    "start_time": "2022-06-02T17:11:06.396Z"
   },
   {
    "duration": 1176,
    "start_time": "2022-06-02T17:11:16.943Z"
   },
   {
    "duration": 25314,
    "start_time": "2022-06-02T17:11:43.469Z"
   },
   {
    "duration": 6276,
    "start_time": "2022-06-02T17:13:14.409Z"
   },
   {
    "duration": 18,
    "start_time": "2022-06-02T17:19:10.296Z"
   },
   {
    "duration": 311,
    "start_time": "2022-06-02T17:19:24.389Z"
   },
   {
    "duration": 19,
    "start_time": "2022-06-02T17:19:37.312Z"
   },
   {
    "duration": 48,
    "start_time": "2022-06-02T17:19:49.175Z"
   },
   {
    "duration": 12,
    "start_time": "2022-06-02T17:19:53.511Z"
   },
   {
    "duration": 5,
    "start_time": "2022-06-02T17:20:35.294Z"
   },
   {
    "duration": 9,
    "start_time": "2022-06-02T17:20:36.067Z"
   },
   {
    "duration": 1599,
    "start_time": "2022-06-02T17:21:29.752Z"
   },
   {
    "duration": 32403,
    "start_time": "2022-06-02T17:21:43.040Z"
   },
   {
    "duration": 8678,
    "start_time": "2022-06-02T17:24:17.222Z"
   },
   {
    "duration": 38,
    "start_time": "2022-06-02T17:28:59.245Z"
   },
   {
    "duration": 3,
    "start_time": "2022-06-02T17:29:14.950Z"
   },
   {
    "duration": 105,
    "start_time": "2022-06-02T17:29:17.275Z"
   },
   {
    "duration": 4,
    "start_time": "2022-06-02T17:29:36.883Z"
   },
   {
    "duration": 221,
    "start_time": "2022-06-02T17:29:42.487Z"
   },
   {
    "duration": 11,
    "start_time": "2022-06-02T17:32:41.201Z"
   },
   {
    "duration": 5,
    "start_time": "2022-06-02T17:32:41.945Z"
   },
   {
    "duration": 9,
    "start_time": "2022-06-02T17:32:42.553Z"
   },
   {
    "duration": 1377,
    "start_time": "2022-06-02T17:32:48.578Z"
   },
   {
    "duration": 29304,
    "start_time": "2022-06-02T17:32:54.812Z"
   },
   {
    "duration": 12,
    "start_time": "2022-06-02T17:34:08.857Z"
   },
   {
    "duration": 1731,
    "start_time": "2022-06-02T17:34:12.837Z"
   },
   {
    "duration": 37399,
    "start_time": "2022-06-02T17:34:15.576Z"
   },
   {
    "duration": 2310,
    "start_time": "2022-06-02T17:41:06.478Z"
   },
   {
    "duration": 41225,
    "start_time": "2022-06-02T17:41:18.278Z"
   },
   {
    "duration": 18285,
    "start_time": "2022-06-02T17:41:59.505Z"
   },
   {
    "duration": 1438,
    "start_time": "2022-06-02T17:42:17.793Z"
   },
   {
    "duration": 26358,
    "start_time": "2022-06-02T17:42:19.233Z"
   },
   {
    "duration": 1704,
    "start_time": "2022-06-02T17:42:45.593Z"
   },
   {
    "duration": 34722,
    "start_time": "2022-06-02T17:42:47.298Z"
   },
   {
    "duration": 15960,
    "start_time": "2022-06-02T17:43:22.023Z"
   },
   {
    "duration": 9,
    "start_time": "2022-06-02T17:48:32.694Z"
   },
   {
    "duration": 11,
    "start_time": "2022-06-02T17:48:39.859Z"
   },
   {
    "duration": 8,
    "start_time": "2022-06-02T17:48:44.324Z"
   },
   {
    "duration": 21,
    "start_time": "2022-06-02T17:49:09.314Z"
   },
   {
    "duration": 10,
    "start_time": "2022-06-02T17:49:35.945Z"
   },
   {
    "duration": 21,
    "start_time": "2022-06-02T17:49:45.402Z"
   },
   {
    "duration": 10,
    "start_time": "2022-06-02T17:49:58.875Z"
   },
   {
    "duration": 6925,
    "start_time": "2022-06-02T17:50:11.651Z"
   },
   {
    "duration": 22,
    "start_time": "2022-06-02T17:51:01.289Z"
   },
   {
    "duration": 9,
    "start_time": "2022-06-02T17:51:05.795Z"
   },
   {
    "duration": 21,
    "start_time": "2022-06-02T17:51:15.299Z"
   },
   {
    "duration": 7,
    "start_time": "2022-06-02T17:51:22.974Z"
   },
   {
    "duration": 21,
    "start_time": "2022-06-02T17:51:30.635Z"
   },
   {
    "duration": 22,
    "start_time": "2022-06-02T17:51:35.132Z"
   },
   {
    "duration": 8,
    "start_time": "2022-06-02T17:51:45.947Z"
   },
   {
    "duration": 21,
    "start_time": "2022-06-02T17:51:51.893Z"
   },
   {
    "duration": 23,
    "start_time": "2022-06-02T17:57:53.409Z"
   },
   {
    "duration": 9,
    "start_time": "2022-06-02T17:57:59.777Z"
   },
   {
    "duration": 21,
    "start_time": "2022-06-02T17:58:03.654Z"
   },
   {
    "duration": 22,
    "start_time": "2022-06-02T17:58:05.360Z"
   },
   {
    "duration": 21,
    "start_time": "2022-06-02T17:58:19.513Z"
   },
   {
    "duration": 30,
    "start_time": "2022-06-02T17:59:28.016Z"
   },
   {
    "duration": 23,
    "start_time": "2022-06-02T17:59:55.151Z"
   },
   {
    "duration": 25,
    "start_time": "2022-06-02T18:00:05.541Z"
   },
   {
    "duration": 23,
    "start_time": "2022-06-02T18:00:16.249Z"
   },
   {
    "duration": 21,
    "start_time": "2022-06-02T18:01:43.834Z"
   },
   {
    "duration": 23,
    "start_time": "2022-06-02T18:01:44.616Z"
   },
   {
    "duration": 11,
    "start_time": "2022-06-02T18:01:47.454Z"
   },
   {
    "duration": 4,
    "start_time": "2022-06-02T18:02:07.096Z"
   },
   {
    "duration": 22,
    "start_time": "2022-06-02T18:02:24.159Z"
   },
   {
    "duration": 23,
    "start_time": "2022-06-02T18:02:24.866Z"
   },
   {
    "duration": 246,
    "start_time": "2022-06-02T18:02:25.664Z"
   },
   {
    "duration": 14,
    "start_time": "2022-06-02T18:07:00.967Z"
   },
   {
    "duration": 299,
    "start_time": "2022-06-02T18:07:04.926Z"
   },
   {
    "duration": 3,
    "start_time": "2022-06-02T18:08:50.404Z"
   },
   {
    "duration": 22,
    "start_time": "2022-06-02T18:08:58.908Z"
   },
   {
    "duration": 23,
    "start_time": "2022-06-02T18:09:01.646Z"
   },
   {
    "duration": 32,
    "start_time": "2022-06-02T18:09:02.446Z"
   },
   {
    "duration": 22,
    "start_time": "2022-06-02T18:09:08.309Z"
   },
   {
    "duration": 22,
    "start_time": "2022-06-02T18:09:10.117Z"
   },
   {
    "duration": 159,
    "start_time": "2022-06-02T18:25:09.683Z"
   },
   {
    "duration": 12,
    "start_time": "2022-06-02T18:27:23.218Z"
   },
   {
    "duration": 6,
    "start_time": "2022-06-02T18:27:48.489Z"
   }
  ],
  "kernelspec": {
   "display_name": "Python 3 (ipykernel)",
   "language": "python",
   "name": "python3"
  },
  "language_info": {
   "codemirror_mode": {
    "name": "ipython",
    "version": 3
   },
   "file_extension": ".py",
   "mimetype": "text/x-python",
   "name": "python",
   "nbconvert_exporter": "python",
   "pygments_lexer": "ipython3",
   "version": "3.10.4"
  },
  "toc": {
   "base_numbering": 1,
   "nav_menu": {},
   "number_sections": true,
   "sideBar": true,
   "skip_h1_title": true,
   "title_cell": "Содержание",
   "title_sidebar": "Contents",
   "toc_cell": true,
   "toc_position": {
    "height": "866.4px",
    "left": "41px",
    "top": "111.125px",
    "width": "271px"
   },
   "toc_section_display": true,
   "toc_window_display": true
  }
 },
 "nbformat": 4,
 "nbformat_minor": 4
}
